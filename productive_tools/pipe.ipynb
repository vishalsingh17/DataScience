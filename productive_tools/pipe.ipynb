{
 "cells": [
  {
   "cell_type": "markdown",
   "metadata": {
    "cell_id": "00000-2c4341ee-abf7-4f9b-af8d-48afb0d90081",
    "deepnote_cell_type": "markdown",
    "tags": []
   },
   "source": [
    "[![View on GitHub](https://img.shields.io/badge/GitHub-View_on_GitHub-blue?logo=GitHub)](https://github.com/khuyentran1401/Data-science/blob/master/productive_tools/pipe.ipynb)\n",
    "\n",
    "[<img src=\"https://deepnote.com/buttons/launch-in-deepnote.svg\">](https://deepnote.com/project/Data-science-hxlyJpi-QrKFJziQgoMSmQ/%2FData-science%2Fproductive_tools%2Fpipe.ipynb)"
   ]
  },
  {
   "cell_type": "code",
   "execution_count": null,
   "metadata": {
    "ExecuteTime": {
     "end_time": "2021-10-25T18:33:06.393441Z",
     "start_time": "2021-10-25T18:33:05.107747Z"
    },
    "cell_id": "00000-27e4f7a9-192e-4a0a-bad3-dfd518d50d11",
    "deepnote_cell_type": "code"
   },
   "outputs": [],
   "source": [
    "!pip install pipe "
   ]
  },
  {
   "cell_type": "markdown",
   "metadata": {
    "cell_id": "00001-bb774ebf-68de-40a7-bb88-e08cd2e240ad",
    "deepnote_cell_type": "markdown"
   },
   "source": [
    "# Pipe"
   ]
  },
  {
   "cell_type": "markdown",
   "metadata": {
    "cell_id": "00002-bdfaa40e-77bb-429b-bb04-d7254f436e33",
    "deepnote_cell_type": "markdown"
   },
   "source": [
    "## Filter Elements in an Iterable"
   ]
  },
  {
   "cell_type": "code",
   "execution_count": null,
   "metadata": {
    "ExecuteTime": {
     "end_time": "2021-10-25T19:52:16.459509Z",
     "start_time": "2021-10-25T19:52:16.446153Z"
    },
    "cell_id": "00003-1d4e179d-0b15-4b2f-9c99-f2f44b349cce",
    "deepnote_cell_type": "code"
   },
   "outputs": [],
   "source": [
    "from pipe import where"
   ]
  },
  {
   "cell_type": "code",
   "execution_count": null,
   "metadata": {
    "ExecuteTime": {
     "end_time": "2021-10-25T18:50:54.776198Z",
     "start_time": "2021-10-25T18:50:54.752098Z"
    },
    "cell_id": "00004-1bae35e5-9f67-426a-a4c1-061eee822390",
    "deepnote_cell_type": "code"
   },
   "outputs": [
    {
     "data": {
      "text/plain": [
       "[2, 4]"
      ]
     },
     "execution_count": 2,
     "metadata": {},
     "output_type": "execute_result"
    }
   ],
   "source": [
    "arr = [1, 2, 3, 4, 5]\n",
    "\n",
    "# filter using list comprehension\n",
    "[x for x in arr if x % 2 == 0]"
   ]
  },
  {
   "cell_type": "code",
   "execution_count": null,
   "metadata": {
    "ExecuteTime": {
     "end_time": "2021-10-25T18:50:54.990550Z",
     "start_time": "2021-10-25T18:50:54.980052Z"
    },
    "cell_id": "00005-3ca928bc-42b8-42e1-9740-39aeace2189b",
    "deepnote_cell_type": "code"
   },
   "outputs": [
    {
     "data": {
      "text/plain": [
       "[2, 4]"
      ]
     },
     "execution_count": 3,
     "metadata": {},
     "output_type": "execute_result"
    }
   ],
   "source": [
    "# filter using pipe\n",
    "list(arr | where(lambda x: x % 2 == 0))"
   ]
  },
  {
   "cell_type": "markdown",
   "metadata": {
    "cell_id": "00006-0e0646e7-9b0e-4f59-891a-6da01efa57e0",
    "deepnote_cell_type": "markdown"
   },
   "source": [
    "## Apply a Function to an Iterable"
   ]
  },
  {
   "cell_type": "code",
   "execution_count": null,
   "metadata": {
    "ExecuteTime": {
     "end_time": "2021-10-25T19:52:18.297097Z",
     "start_time": "2021-10-25T19:52:18.286221Z"
    },
    "cell_id": "00007-16181dd8-eda0-4d88-8212-161faba59c46",
    "deepnote_cell_type": "code"
   },
   "outputs": [],
   "source": [
    "from pipe import select"
   ]
  },
  {
   "cell_type": "code",
   "execution_count": null,
   "metadata": {
    "ExecuteTime": {
     "end_time": "2021-10-25T20:35:15.350102Z",
     "start_time": "2021-10-25T20:35:15.336337Z"
    },
    "cell_id": "00008-40cd5716-7cf2-4360-9ea9-bc788f45c358",
    "deepnote_cell_type": "code"
   },
   "outputs": [
    {
     "data": {
      "application/javascript": "\n            setTimeout(function() {\n                var nbb_cell_id = 45;\n                var nbb_unformatted_code = \"arr = [1, 2, 3, 4, 5]\";\n                var nbb_formatted_code = \"arr = [1, 2, 3, 4, 5]\";\n                var nbb_cells = Jupyter.notebook.get_cells();\n                for (var i = 0; i < nbb_cells.length; ++i) {\n                    if (nbb_cells[i].input_prompt_number == nbb_cell_id) {\n                        if (nbb_cells[i].get_text() == nbb_unformatted_code) {\n                             nbb_cells[i].set_text(nbb_formatted_code);\n                        }\n                        break;\n                    }\n                }\n            }, 500);\n            ",
      "text/plain": [
       "<IPython.core.display.Javascript object>"
      ]
     },
     "metadata": {},
     "output_type": "display_data"
    }
   ],
   "source": [
    "arr = [1, 2, 3, 4, 5]"
   ]
  },
  {
   "cell_type": "code",
   "execution_count": null,
   "metadata": {
    "ExecuteTime": {
     "end_time": "2021-10-25T21:01:48.869701Z",
     "start_time": "2021-10-25T21:01:48.848103Z"
    },
    "cell_id": "00009-c2da6ec8-ded8-4d54-bcff-2b21fe3512b0",
    "deepnote_cell_type": "code"
   },
   "outputs": [
    {
     "data": {
      "text/plain": [
       "[2, 4, 6, 8, 10]"
      ]
     },
     "execution_count": 47,
     "metadata": {},
     "output_type": "execute_result"
    },
    {
     "data": {
      "application/javascript": "\n            setTimeout(function() {\n                var nbb_cell_id = 47;\n                var nbb_unformatted_code = \"list(arr | select(lambda x: x * 2))\";\n                var nbb_formatted_code = \"list(arr | select(lambda x: x * 2))\";\n                var nbb_cells = Jupyter.notebook.get_cells();\n                for (var i = 0; i < nbb_cells.length; ++i) {\n                    if (nbb_cells[i].input_prompt_number == nbb_cell_id) {\n                        if (nbb_cells[i].get_text() == nbb_unformatted_code) {\n                             nbb_cells[i].set_text(nbb_formatted_code);\n                        }\n                        break;\n                    }\n                }\n            }, 500);\n            ",
      "text/plain": [
       "<IPython.core.display.Javascript object>"
      ]
     },
     "metadata": {},
     "output_type": "display_data"
    }
   ],
   "source": [
    "list(arr | select(lambda x: x * 2))"
   ]
  },
  {
   "cell_type": "code",
   "execution_count": null,
   "metadata": {
    "ExecuteTime": {
     "end_time": "2021-10-25T20:35:15.737753Z",
     "start_time": "2021-10-25T20:35:15.720069Z"
    },
    "cell_id": "00010-bdcfd7ac-e8ed-457b-86e2-e237a7494916",
    "deepnote_cell_type": "code"
   },
   "outputs": [
    {
     "data": {
      "text/plain": [
       "[4, 8]"
      ]
     },
     "execution_count": 46,
     "metadata": {},
     "output_type": "execute_result"
    },
    {
     "data": {
      "application/javascript": "\n            setTimeout(function() {\n                var nbb_cell_id = 46;\n                var nbb_unformatted_code = \"# Instead of this\\nlist(map(lambda x: x * 2, filter(lambda x: x % 2 == 0, arr)))\";\n                var nbb_formatted_code = \"# Instead of this\\nlist(map(lambda x: x * 2, filter(lambda x: x % 2 == 0, arr)))\";\n                var nbb_cells = Jupyter.notebook.get_cells();\n                for (var i = 0; i < nbb_cells.length; ++i) {\n                    if (nbb_cells[i].input_prompt_number == nbb_cell_id) {\n                        if (nbb_cells[i].get_text() == nbb_unformatted_code) {\n                             nbb_cells[i].set_text(nbb_formatted_code);\n                        }\n                        break;\n                    }\n                }\n            }, 500);\n            ",
      "text/plain": [
       "<IPython.core.display.Javascript object>"
      ]
     },
     "metadata": {},
     "output_type": "display_data"
    }
   ],
   "source": [
    "# Instead of this\n",
    "list(map(lambda x: x * 2, filter(lambda x: x % 2 == 0, arr)))"
   ]
  },
  {
   "cell_type": "code",
   "execution_count": null,
   "metadata": {
    "ExecuteTime": {
     "end_time": "2021-10-25T18:50:58.624345Z",
     "start_time": "2021-10-25T18:50:58.614678Z"
    },
    "cell_id": "00011-b2a3ec03-eac4-46e7-905d-c687d055ff21",
    "deepnote_cell_type": "code"
   },
   "outputs": [
    {
     "data": {
      "text/plain": [
       "[4, 8]"
      ]
     },
     "execution_count": 7,
     "metadata": {},
     "output_type": "execute_result"
    }
   ],
   "source": [
    "# use pipe\n",
    "list(arr | where(lambda x: x % 2 == 0) | select(lambda x: x * 2))"
   ]
  },
  {
   "cell_type": "code",
   "execution_count": null,
   "metadata": {
    "ExecuteTime": {
     "end_time": "2021-10-25T18:50:59.669236Z",
     "start_time": "2021-10-25T18:50:59.656856Z"
    },
    "cell_id": "00012-b131a402-8188-4317-b4dd-5b3eead3780c",
    "deepnote_cell_type": "code"
   },
   "outputs": [
    {
     "data": {
      "text/plain": [
       "[2, 4, 6, 8, 10]"
      ]
     },
     "execution_count": 8,
     "metadata": {},
     "output_type": "execute_result"
    }
   ],
   "source": [
    "# the order matters\n",
    "list(arr | select(lambda x: x * 2) | where(lambda x: x % 2 == 0))"
   ]
  },
  {
   "cell_type": "markdown",
   "metadata": {
    "cell_id": "00013-1ebb0b43-a039-42e7-93e8-01c3cddf3372",
    "deepnote_cell_type": "markdown"
   },
   "source": [
    "## Unfold Iterables"
   ]
  },
  {
   "cell_type": "markdown",
   "metadata": {
    "cell_id": "00014-dd824d02-53d7-469e-abbe-aca32c4eef96",
    "deepnote_cell_type": "markdown"
   },
   "source": [
    "### Chain"
   ]
  },
  {
   "cell_type": "code",
   "execution_count": null,
   "metadata": {
    "ExecuteTime": {
     "end_time": "2021-10-25T20:09:28.081385Z",
     "start_time": "2021-10-25T20:09:28.064972Z"
    },
    "cell_id": "00015-080a880d-0581-48bb-ba83-e05808693b1b",
    "deepnote_cell_type": "code"
   },
   "outputs": [
    {
     "data": {
      "application/javascript": "\n            setTimeout(function() {\n                var nbb_cell_id = 28;\n                var nbb_unformatted_code = \"from pipe import chain\";\n                var nbb_formatted_code = \"from pipe import chain\";\n                var nbb_cells = Jupyter.notebook.get_cells();\n                for (var i = 0; i < nbb_cells.length; ++i) {\n                    if (nbb_cells[i].input_prompt_number == nbb_cell_id) {\n                        if (nbb_cells[i].get_text() == nbb_unformatted_code) {\n                             nbb_cells[i].set_text(nbb_formatted_code);\n                        }\n                        break;\n                    }\n                }\n            }, 500);\n            ",
      "text/plain": [
       "<IPython.core.display.Javascript object>"
      ]
     },
     "metadata": {},
     "output_type": "display_data"
    }
   ],
   "source": [
    "from pipe import chain"
   ]
  },
  {
   "cell_type": "code",
   "execution_count": null,
   "metadata": {
    "ExecuteTime": {
     "end_time": "2021-10-25T21:13:19.172600Z",
     "start_time": "2021-10-25T21:13:19.156362Z"
    },
    "cell_id": "00016-3085d7c5-f818-49fe-ae35-b83baae63f3a",
    "deepnote_cell_type": "code"
   },
   "outputs": [
    {
     "data": {
      "text/plain": [
       "[1, 2, [3], 4, 5]"
      ]
     },
     "execution_count": 48,
     "metadata": {},
     "output_type": "execute_result"
    },
    {
     "data": {
      "application/javascript": "\n            setTimeout(function() {\n                var nbb_cell_id = 48;\n                var nbb_unformatted_code = \"nested = [[1, 2, [3]], [4, 5]]\\nlist(nested | chain)\";\n                var nbb_formatted_code = \"nested = [[1, 2, [3]], [4, 5]]\\nlist(nested | chain)\";\n                var nbb_cells = Jupyter.notebook.get_cells();\n                for (var i = 0; i < nbb_cells.length; ++i) {\n                    if (nbb_cells[i].input_prompt_number == nbb_cell_id) {\n                        if (nbb_cells[i].get_text() == nbb_unformatted_code) {\n                             nbb_cells[i].set_text(nbb_formatted_code);\n                        }\n                        break;\n                    }\n                }\n            }, 500);\n            ",
      "text/plain": [
       "<IPython.core.display.Javascript object>"
      ]
     },
     "metadata": {},
     "output_type": "display_data"
    }
   ],
   "source": [
    "nested = [[1, 2, [3]], [4, 5]]\n",
    "list(nested | chain)"
   ]
  },
  {
   "cell_type": "markdown",
   "metadata": {
    "cell_id": "00017-3f581ddf-066d-4ba2-a8c3-a4f51c71c5e9",
    "deepnote_cell_type": "markdown"
   },
   "source": [
    "### Traverse"
   ]
  },
  {
   "cell_type": "code",
   "execution_count": null,
   "metadata": {
    "ExecuteTime": {
     "end_time": "2021-10-25T21:13:23.231048Z",
     "start_time": "2021-10-25T21:13:23.219400Z"
    },
    "cell_id": "00018-bad5b875-6fbf-4f75-8b05-3a79c7b81ce4",
    "deepnote_cell_type": "code"
   },
   "outputs": [
    {
     "data": {
      "application/javascript": "\n            setTimeout(function() {\n                var nbb_cell_id = 49;\n                var nbb_unformatted_code = \"from pipe import traverse\";\n                var nbb_formatted_code = \"from pipe import traverse\";\n                var nbb_cells = Jupyter.notebook.get_cells();\n                for (var i = 0; i < nbb_cells.length; ++i) {\n                    if (nbb_cells[i].input_prompt_number == nbb_cell_id) {\n                        if (nbb_cells[i].get_text() == nbb_unformatted_code) {\n                             nbb_cells[i].set_text(nbb_formatted_code);\n                        }\n                        break;\n                    }\n                }\n            }, 500);\n            ",
      "text/plain": [
       "<IPython.core.display.Javascript object>"
      ]
     },
     "metadata": {},
     "output_type": "display_data"
    }
   ],
   "source": [
    "from pipe import traverse"
   ]
  },
  {
   "cell_type": "code",
   "execution_count": null,
   "metadata": {
    "ExecuteTime": {
     "end_time": "2021-10-25T21:13:23.647017Z",
     "start_time": "2021-10-25T21:13:23.629314Z"
    },
    "cell_id": "00019-8b9c900c-da2b-4929-87ac-1b50999fcc96",
    "deepnote_cell_type": "code"
   },
   "outputs": [
    {
     "data": {
      "text/plain": [
       "[1, 2, 3, 4, 5]"
      ]
     },
     "execution_count": 50,
     "metadata": {},
     "output_type": "execute_result"
    },
    {
     "data": {
      "application/javascript": "\n            setTimeout(function() {\n                var nbb_cell_id = 50;\n                var nbb_unformatted_code = \"list(nested | traverse)\";\n                var nbb_formatted_code = \"list(nested | traverse)\";\n                var nbb_cells = Jupyter.notebook.get_cells();\n                for (var i = 0; i < nbb_cells.length; ++i) {\n                    if (nbb_cells[i].input_prompt_number == nbb_cell_id) {\n                        if (nbb_cells[i].get_text() == nbb_unformatted_code) {\n                             nbb_cells[i].set_text(nbb_formatted_code);\n                        }\n                        break;\n                    }\n                }\n            }, 500);\n            ",
      "text/plain": [
       "<IPython.core.display.Javascript object>"
      ]
     },
     "metadata": {},
     "output_type": "display_data"
    }
   ],
   "source": [
    "list(nested | traverse)"
   ]
  },
  {
   "cell_type": "code",
   "execution_count": null,
   "metadata": {
    "ExecuteTime": {
     "end_time": "2021-10-25T20:09:18.501348Z",
     "start_time": "2021-10-25T20:09:18.477861Z"
    },
    "cell_id": "00020-f299305c-c642-4389-aa90-ceb517655bb3",
    "deepnote_cell_type": "code"
   },
   "outputs": [
    {
     "data": {
      "application/javascript": "\n            setTimeout(function() {\n                var nbb_cell_id = 27;\n                var nbb_unformatted_code = \"fruits = [\\n    {\\\"name\\\": \\\"apple\\\", \\\"price\\\": [2, 5]},\\n    {\\\"name\\\": \\\"orange\\\", \\\"price\\\": 4},\\n    {\\\"name\\\": \\\"grape\\\", \\\"price\\\": 5},\\n]\";\n                var nbb_formatted_code = \"fruits = [\\n    {\\\"name\\\": \\\"apple\\\", \\\"price\\\": [2, 5]},\\n    {\\\"name\\\": \\\"orange\\\", \\\"price\\\": 4},\\n    {\\\"name\\\": \\\"grape\\\", \\\"price\\\": 5},\\n]\";\n                var nbb_cells = Jupyter.notebook.get_cells();\n                for (var i = 0; i < nbb_cells.length; ++i) {\n                    if (nbb_cells[i].input_prompt_number == nbb_cell_id) {\n                        if (nbb_cells[i].get_text() == nbb_unformatted_code) {\n                             nbb_cells[i].set_text(nbb_formatted_code);\n                        }\n                        break;\n                    }\n                }\n            }, 500);\n            ",
      "text/plain": [
       "<IPython.core.display.Javascript object>"
      ]
     },
     "metadata": {},
     "output_type": "display_data"
    }
   ],
   "source": [
    "fruits = [\n",
    "    {\"name\": \"apple\", \"price\": [2, 5]},\n",
    "    {\"name\": \"orange\", \"price\": 4},\n",
    "    {\"name\": \"grape\", \"price\": 5},\n",
    "]"
   ]
  },
  {
   "cell_type": "code",
   "execution_count": null,
   "metadata": {
    "ExecuteTime": {
     "end_time": "2021-10-25T20:11:09.178646Z",
     "start_time": "2021-10-25T20:11:09.159361Z"
    },
    "cell_id": "00021-bbfe052f-2d46-4e1b-a996-23fa1c62ab5a",
    "deepnote_cell_type": "code"
   },
   "outputs": [
    {
     "data": {
      "text/plain": [
       "[2, 5, 4, 5]"
      ]
     },
     "execution_count": 36,
     "metadata": {},
     "output_type": "execute_result"
    },
    {
     "data": {
      "application/javascript": "\n            setTimeout(function() {\n                var nbb_cell_id = 36;\n                var nbb_unformatted_code = \"list(fruits | select(lambda fruit: fruit[\\\"price\\\"]) | traverse)\";\n                var nbb_formatted_code = \"list(fruits | select(lambda fruit: fruit[\\\"price\\\"]) | traverse)\";\n                var nbb_cells = Jupyter.notebook.get_cells();\n                for (var i = 0; i < nbb_cells.length; ++i) {\n                    if (nbb_cells[i].input_prompt_number == nbb_cell_id) {\n                        if (nbb_cells[i].get_text() == nbb_unformatted_code) {\n                             nbb_cells[i].set_text(nbb_formatted_code);\n                        }\n                        break;\n                    }\n                }\n            }, 500);\n            ",
      "text/plain": [
       "<IPython.core.display.Javascript object>"
      ]
     },
     "metadata": {},
     "output_type": "display_data"
    }
   ],
   "source": [
    "list(fruits | select(lambda fruit: fruit[\"price\"]) | traverse)"
   ]
  },
  {
   "cell_type": "markdown",
   "metadata": {
    "cell_id": "00022-9278ff61-f707-48f2-8e23-a0750c47a9c0",
    "deepnote_cell_type": "markdown"
   },
   "source": [
    "## Group Elements"
   ]
  },
  {
   "cell_type": "code",
   "execution_count": null,
   "metadata": {
    "ExecuteTime": {
     "end_time": "2021-10-25T19:57:45.490794Z",
     "start_time": "2021-10-25T19:57:45.476222Z"
    },
    "cell_id": "00023-4b0d1a1d-e2ae-4f9a-83c3-739c8109839d",
    "deepnote_cell_type": "code"
   },
   "outputs": [],
   "source": [
    "from pipe import groupby"
   ]
  },
  {
   "cell_type": "code",
   "execution_count": null,
   "metadata": {
    "ExecuteTime": {
     "end_time": "2021-10-26T20:37:56.918025Z",
     "start_time": "2021-10-26T20:37:56.878314Z"
    },
    "cell_id": "00024-35a498fa-44a2-414b-b3fb-41d7a6421c8c",
    "deepnote_cell_type": "code",
    "scrolled": true
   },
   "outputs": [
    {
     "data": {
      "text/plain": [
       "[{'Even': [2, 4, 6, 8]}, {'Odd': [1, 3, 5, 7, 9]}]"
      ]
     },
     "execution_count": 11,
     "metadata": {},
     "output_type": "execute_result"
    }
   ],
   "source": [
    "list(\n",
    "    (1, 2, 3, 4, 5, 6, 7, 8, 9)\n",
    "    | groupby(lambda x: \"Even\" if x % 2==0 else \"Odd\")\n",
    "    | select(lambda x: {x[0]: list(x[1])})\n",
    ")"
   ]
  },
  {
   "cell_type": "code",
   "execution_count": null,
   "metadata": {
    "ExecuteTime": {
     "end_time": "2021-10-26T20:27:02.962096Z",
     "start_time": "2021-10-26T20:27:02.912311Z"
    },
    "cell_id": "00025-9cce93f5-de3a-450f-b2d8-c9a6f2c88c34",
    "deepnote_cell_type": "code"
   },
   "outputs": [
    {
     "data": {
      "text/plain": [
       "[{'Even': [4, 6, 8]}, {'Odd': [3, 5, 7, 9]}]"
      ]
     },
     "execution_count": 12,
     "metadata": {},
     "output_type": "execute_result"
    }
   ],
   "source": [
    "list(\n",
    "    (1, 2, 3, 4, 5, 6, 7, 8, 9)\n",
    "    | groupby(lambda x: \"Even\" if x % 2==0 else \"Odd\")\n",
    "    | select(lambda x: {x[0]: list(x[1] | where(lambda x: x > 2))})\n",
    ")"
   ]
  },
  {
   "cell_type": "markdown",
   "metadata": {
    "cell_id": "00026-b4d35f8e-33cd-48cb-ad3f-d638bdfc5713",
    "deepnote_cell_type": "markdown"
   },
   "source": [
    "## Deduplicate"
   ]
  },
  {
   "cell_type": "code",
   "execution_count": null,
   "metadata": {
    "ExecuteTime": {
     "end_time": "2021-10-25T19:53:32.339486Z",
     "start_time": "2021-10-25T19:53:32.321816Z"
    },
    "cell_id": "00027-be3dc835-e3ae-41d6-95e5-51e9bdfa44c7",
    "deepnote_cell_type": "code"
   },
   "outputs": [
    {
     "data": {
      "application/javascript": "\n            setTimeout(function() {\n                var nbb_cell_id = 15;\n                var nbb_unformatted_code = \"from pipe import dedup \\n\\narr = [1, 2, 2, 3, 4, 5, 6,6, 7, 9, 3, 3, 1]\";\n                var nbb_formatted_code = \"from pipe import dedup\\n\\narr = [1, 2, 2, 3, 4, 5, 6, 6, 7, 9, 3, 3, 1]\";\n                var nbb_cells = Jupyter.notebook.get_cells();\n                for (var i = 0; i < nbb_cells.length; ++i) {\n                    if (nbb_cells[i].input_prompt_number == nbb_cell_id) {\n                        if (nbb_cells[i].get_text() == nbb_unformatted_code) {\n                             nbb_cells[i].set_text(nbb_formatted_code);\n                        }\n                        break;\n                    }\n                }\n            }, 500);\n            ",
      "text/plain": [
       "<IPython.core.display.Javascript object>"
      ]
     },
     "metadata": {},
     "output_type": "display_data"
    }
   ],
   "source": [
    "from pipe import dedup\n",
    "\n",
    "arr = [1, 2, 2, 3, 4, 5, 6, 6, 7, 9, 3, 3, 1]"
   ]
  },
  {
   "cell_type": "code",
   "execution_count": null,
   "metadata": {
    "ExecuteTime": {
     "end_time": "2021-10-25T19:08:11.849306Z",
     "start_time": "2021-10-25T19:08:11.840281Z"
    },
    "cell_id": "00028-6c7e076d-54ea-4809-bcaf-223d2061b6cd",
    "deepnote_cell_type": "code"
   },
   "outputs": [
    {
     "data": {
      "text/plain": [
       "[1, 2, 3, 4, 5, 6, 7, 9]"
      ]
     },
     "execution_count": 33,
     "metadata": {},
     "output_type": "execute_result"
    }
   ],
   "source": [
    "list(arr | dedup)"
   ]
  },
  {
   "cell_type": "code",
   "execution_count": null,
   "metadata": {
    "ExecuteTime": {
     "end_time": "2021-10-25T20:08:09.641825Z",
     "start_time": "2021-10-25T20:08:09.622675Z"
    },
    "cell_id": "00029-af896944-8f7c-4264-8def-27ef54501380",
    "deepnote_cell_type": "code"
   },
   "outputs": [
    {
     "data": {
      "text/plain": [
       "[1, 5]"
      ]
     },
     "execution_count": 26,
     "metadata": {},
     "output_type": "execute_result"
    },
    {
     "data": {
      "application/javascript": "\n            setTimeout(function() {\n                var nbb_cell_id = 26;\n                var nbb_unformatted_code = \"# Get one element that is smaller than 5 and one element that is larger than or equal to 5\\nlist(arr | dedup(lambda key: key < 5))\";\n                var nbb_formatted_code = \"# Get one element that is smaller than 5 and one element that is larger than or equal to 5\\nlist(arr | dedup(lambda key: key < 5))\";\n                var nbb_cells = Jupyter.notebook.get_cells();\n                for (var i = 0; i < nbb_cells.length; ++i) {\n                    if (nbb_cells[i].input_prompt_number == nbb_cell_id) {\n                        if (nbb_cells[i].get_text() == nbb_unformatted_code) {\n                             nbb_cells[i].set_text(nbb_formatted_code);\n                        }\n                        break;\n                    }\n                }\n            }, 500);\n            ",
      "text/plain": [
       "<IPython.core.display.Javascript object>"
      ]
     },
     "metadata": {},
     "output_type": "display_data"
    }
   ],
   "source": [
    "# Get one element that is smaller than 5 and one element that is larger than or equal to 5\n",
    "list(arr | dedup(lambda key: key < 5))"
   ]
  },
  {
   "cell_type": "code",
   "execution_count": null,
   "metadata": {
    "ExecuteTime": {
     "end_time": "2021-10-25T19:52:46.916462Z",
     "start_time": "2021-10-25T19:52:46.890970Z"
    },
    "cell_id": "00030-32b22bfb-c87c-4bb5-a397-abb6f6ffb16a",
    "deepnote_cell_type": "code"
   },
   "outputs": [
    {
     "data": {
      "application/javascript": "\n            setTimeout(function() {\n                var nbb_cell_id = 12;\n                var nbb_unformatted_code = \"data = [\\n    {\\\"name\\\": \\\"apple\\\", \\\"count\\\": 2},\\n    {\\\"name\\\": \\\"orange\\\", \\\"count\\\": 4},\\n    {\\\"name\\\": \\\"grape\\\", \\\"count\\\": None},\\n    {\\\"name\\\": \\\"orange\\\", \\\"count\\\": 7},\\n]\";\n                var nbb_formatted_code = \"data = [\\n    {\\\"name\\\": \\\"apple\\\", \\\"count\\\": 2},\\n    {\\\"name\\\": \\\"orange\\\", \\\"count\\\": 4},\\n    {\\\"name\\\": \\\"grape\\\", \\\"count\\\": None},\\n    {\\\"name\\\": \\\"orange\\\", \\\"count\\\": 7},\\n]\";\n                var nbb_cells = Jupyter.notebook.get_cells();\n                for (var i = 0; i < nbb_cells.length; ++i) {\n                    if (nbb_cells[i].input_prompt_number == nbb_cell_id) {\n                        if (nbb_cells[i].get_text() == nbb_unformatted_code) {\n                             nbb_cells[i].set_text(nbb_formatted_code);\n                        }\n                        break;\n                    }\n                }\n            }, 500);\n            ",
      "text/plain": [
       "<IPython.core.display.Javascript object>"
      ]
     },
     "metadata": {},
     "output_type": "display_data"
    }
   ],
   "source": [
    "data = [\n",
    "    {\"name\": \"apple\", \"count\": 2},\n",
    "    {\"name\": \"orange\", \"count\": 4},\n",
    "    {\"name\": \"grape\", \"count\": None},\n",
    "    {\"name\": \"orange\", \"count\": 7},\n",
    "]"
   ]
  },
  {
   "cell_type": "code",
   "execution_count": null,
   "metadata": {
    "ExecuteTime": {
     "end_time": "2021-10-25T19:53:35.577805Z",
     "start_time": "2021-10-25T19:53:35.551557Z"
    },
    "cell_id": "00031-7c850e6d-8a33-4bfe-b529-2207c97082ad",
    "deepnote_cell_type": "code"
   },
   "outputs": [
    {
     "data": {
      "text/plain": [
       "[2, 4]"
      ]
     },
     "execution_count": 16,
     "metadata": {},
     "output_type": "execute_result"
    },
    {
     "data": {
      "application/javascript": "\n            setTimeout(function() {\n                var nbb_cell_id = 16;\n                var nbb_unformatted_code = \"list(\\n    data\\n    | dedup(key=lambda fruit: fruit[\\\"name\\\"])\\n    | select(lambda fruit: fruit[\\\"count\\\"])\\n    | where(lambda count: isinstance(count, int))\\n)\";\n                var nbb_formatted_code = \"list(\\n    data\\n    | dedup(key=lambda fruit: fruit[\\\"name\\\"])\\n    | select(lambda fruit: fruit[\\\"count\\\"])\\n    | where(lambda count: isinstance(count, int))\\n)\";\n                var nbb_cells = Jupyter.notebook.get_cells();\n                for (var i = 0; i < nbb_cells.length; ++i) {\n                    if (nbb_cells[i].input_prompt_number == nbb_cell_id) {\n                        if (nbb_cells[i].get_text() == nbb_unformatted_code) {\n                             nbb_cells[i].set_text(nbb_formatted_code);\n                        }\n                        break;\n                    }\n                }\n            }, 500);\n            ",
      "text/plain": [
       "<IPython.core.display.Javascript object>"
      ]
     },
     "metadata": {},
     "output_type": "display_data"
    }
   ],
   "source": [
    "list(\n",
    "    data\n",
    "    | dedup(key=lambda fruit: fruit[\"name\"])\n",
    "    | select(lambda fruit: fruit[\"count\"])\n",
    "    | where(lambda count: isinstance(count, int))\n",
    ")"
   ]
  },
  {
   "cell_type": "markdown",
   "metadata": {
    "created_in_deepnote_cell": true,
    "deepnote_cell_type": "markdown",
    "tags": []
   },
   "source": [
    "<a style='text-decoration:none;line-height:16px;display:flex;color:#5B5B62;padding:10px;justify-content:end;' href='https://deepnote.com?utm_source=created-in-deepnote-cell&projectId=87197226-98be-42b2-8527-389082831299' target=\"_blank\">\n",
    "<img alt='Created in deepnote.com' style='display:inline;max-height:16px;margin:0px;margin-right:7.5px;' src='data:image/svg+xml;base64,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' > </img>\n",
    "Created in <span style='font-weight:600;margin-left:4px;'>Deepnote</span></a>"
   ]
  }
 ],
 "metadata": {
  "deepnote": {},
  "deepnote_execution_queue": [],
  "deepnote_notebook_id": "855b20ae-1bdb-4a48-b403-ad701fb93ee2",
  "kernelspec": {
   "display_name": "Python 3.9.13 ('venv': venv)",
   "language": "python",
   "name": "python3"
  },
  "language_info": {
   "codemirror_mode": {
    "name": "ipython",
    "version": 3
   },
   "file_extension": ".py",
   "mimetype": "text/x-python",
   "name": "python",
   "nbconvert_exporter": "python",
   "pygments_lexer": "ipython3",
   "version": "3.9.13"
  },
  "toc": {
   "base_numbering": 1,
   "nav_menu": {},
   "number_sections": true,
   "sideBar": true,
   "skip_h1_title": false,
   "title_cell": "Table of Contents",
   "title_sidebar": "Contents",
   "toc_cell": false,
   "toc_position": {},
   "toc_section_display": true,
   "toc_window_display": false
  },
  "vscode": {
   "interpreter": {
    "hash": "478cc5ef0f338997730d9103983e193fe6c3c8e58abb3c8c0481de8a2f51bddc"
   }
  }
 },
 "nbformat": 4,
 "nbformat_minor": 5
}
