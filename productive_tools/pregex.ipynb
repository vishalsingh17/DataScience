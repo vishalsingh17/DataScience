{
 "cells": [
  {
   "cell_type": "code",
   "execution_count": null,
   "id": "d7b6566b",
   "metadata": {
    "ExecuteTime": {
     "end_time": "2022-07-25T21:37:22.493631Z",
     "start_time": "2022-07-25T21:37:21.092550Z"
    }
   },
   "outputs": [],
   "source": [
    "pip install -U pregex==2.0.1"
   ]
  },
  {
   "cell_type": "code",
   "execution_count": 3,
   "id": "1e325227",
   "metadata": {
    "ExecuteTime": {
     "end_time": "2022-07-25T21:37:22.506778Z",
     "start_time": "2022-07-25T21:37:22.495772Z"
    }
   },
   "outputs": [],
   "source": [
    "from pregex.core.quantifiers import Optional, OneOrMore, AtLeastAtMost\n",
    "from pregex.core.classes import AnyFrom, AnyDigit, AnyWhitespace, AnyButWhitespace, Any\n",
    "from pregex.core.tokens import Backslash\n",
    "from pregex.core.operators import Either\n",
    "from pregex.core.pre import Pregex"
   ]
  },
  {
   "cell_type": "code",
   "execution_count": 16,
   "id": "17138abe",
   "metadata": {},
   "outputs": [],
   "source": [
    "from pregex.core.classes import AnyButWhitespace\n",
    "from pregex.core.quantifiers import OneOrMore\n",
    "from pregex.core.operators import Either\n",
    "\n",
    "text = \"You can find me through GitHub https://github.com/khuyentran1401\"\n",
    "\n",
    "pre = (\n",
    "    \"https://\"\n",
    "    + OneOrMore(AnyButWhitespace())\n",
    "    + Either(\".com\", \".org\")\n",
    "    + OneOrMore(AnyButWhitespace())\n",
    ")"
   ]
  },
  {
   "cell_type": "markdown",
   "id": "1f77f7df",
   "metadata": {},
   "source": [
    "## Capture URL"
   ]
  },
  {
   "cell_type": "code",
   "execution_count": 5,
   "id": "c1ebff12",
   "metadata": {
    "ExecuteTime": {
     "end_time": "2022-07-25T21:37:30.058325Z",
     "start_time": "2022-07-25T21:37:30.049305Z"
    }
   },
   "outputs": [
    {
     "data": {
      "text/plain": [
       "['mathdatasimplified.com/', 'https://github.com/khuyentran1401']"
      ]
     },
     "execution_count": 5,
     "metadata": {},
     "output_type": "execute_result"
    },
    {
     "data": {
      "application/javascript": "\n            setTimeout(function() {\n                var nbb_cell_id = 5;\n                var nbb_unformatted_code = \"import re\\n\\ntext = \\\"You can find me through my website mathdatasimplified.com/ or GitHub https://github.com/khuyentran1401\\\"\\nre.findall(\\\"(?:https?\\\\:\\\\/\\\\/)?[^\\\\s]+(?:\\\\.com|\\\\.org)[^\\\\s]+\\\", text)\";\n                var nbb_formatted_code = \"import re\\n\\ntext = \\\"You can find me through my website mathdatasimplified.com/ or GitHub https://github.com/khuyentran1401\\\"\\nre.findall(\\\"(?:https?\\\\:\\\\/\\\\/)?[^\\\\s]+(?:\\\\.com|\\\\.org)[^\\\\s]+\\\", text)\";\n                var nbb_cells = Jupyter.notebook.get_cells();\n                for (var i = 0; i < nbb_cells.length; ++i) {\n                    if (nbb_cells[i].input_prompt_number == nbb_cell_id) {\n                        if (nbb_cells[i].get_text() == nbb_unformatted_code) {\n                             nbb_cells[i].set_text(nbb_formatted_code);\n                        }\n                        break;\n                    }\n                }\n            }, 500);\n            ",
      "text/plain": [
       "<IPython.core.display.Javascript object>"
      ]
     },
     "metadata": {},
     "output_type": "display_data"
    }
   ],
   "source": [
    "import re\n",
    "\n",
    "text = \"You can find me through my website mathdatasimplified.com/ or GitHub https://github.com/khuyentran1401\"\n",
    "re.findall(\"(?:https?\\:\\/\\/)?[^\\s]+(?:\\.com|\\.org)[^\\s]+\", text)\n"
   ]
  },
  {
   "cell_type": "code",
   "execution_count": 4,
   "id": "b6ba4962",
   "metadata": {
    "ExecuteTime": {
     "end_time": "2022-07-25T21:42:50.525927Z",
     "start_time": "2022-07-25T21:42:50.515579Z"
    }
   },
   "outputs": [
    {
     "data": {
      "text/plain": [
       "https:\\/\\/\\S+(?:\\.com|\\.org)\\S+"
      ]
     },
     "execution_count": 4,
     "metadata": {},
     "output_type": "execute_result"
    }
   ],
   "source": [
    "text = \"You can find me through GitHub https://github.com/khuyentran1401\"\n",
    "\n",
    "pre = (\n",
    "    \"https://\"\n",
    "    + OneOrMore(AnyButWhitespace())\n",
    "    + Either(\".com\", \".org\")\n",
    "    + OneOrMore(AnyButWhitespace())\n",
    ")\n",
    "pre"
   ]
  },
  {
   "cell_type": "code",
   "execution_count": 11,
   "id": "4d7a9e79",
   "metadata": {
    "ExecuteTime": {
     "end_time": "2022-07-25T21:42:50.969270Z",
     "start_time": "2022-07-25T21:42:50.959933Z"
    }
   },
   "outputs": [
    {
     "data": {
      "text/plain": [
       "['https://github.com/khuyentran1401']"
      ]
     },
     "execution_count": 11,
     "metadata": {},
     "output_type": "execute_result"
    },
    {
     "data": {
      "application/javascript": "\n            setTimeout(function() {\n                var nbb_cell_id = 11;\n                var nbb_unformatted_code = \"pre.get_matches(text)\";\n                var nbb_formatted_code = \"pre.get_matches(text)\";\n                var nbb_cells = Jupyter.notebook.get_cells();\n                for (var i = 0; i < nbb_cells.length; ++i) {\n                    if (nbb_cells[i].input_prompt_number == nbb_cell_id) {\n                        if (nbb_cells[i].get_text() == nbb_unformatted_code) {\n                             nbb_cells[i].set_text(nbb_formatted_code);\n                        }\n                        break;\n                    }\n                }\n            }, 500);\n            ",
      "text/plain": [
       "<IPython.core.display.Javascript object>"
      ]
     },
     "metadata": {},
     "output_type": "display_data"
    }
   ],
   "source": [
    "pre.get_matches(text)"
   ]
  },
  {
   "cell_type": "code",
   "execution_count": 5,
   "id": "1f4a5f24",
   "metadata": {
    "ExecuteTime": {
     "end_time": "2022-07-25T21:43:48.082287Z",
     "start_time": "2022-07-25T21:43:48.070100Z"
    }
   },
   "outputs": [
    {
     "data": {
      "text/plain": [
       "['http://github.com/khuyentran1401']"
      ]
     },
     "execution_count": 5,
     "metadata": {},
     "output_type": "execute_result"
    }
   ],
   "source": [
    "text = \"You can find me through GitHub http://github.com/khuyentran1401\"\n",
    "\n",
    "pre = (\n",
    "    \"http\"\n",
    "    + Optional(\"s\")\n",
    "    + \"://\"\n",
    "    + OneOrMore(AnyButWhitespace())\n",
    "    + Either(\".com\", \".org\")\n",
    "    + OneOrMore(AnyButWhitespace())\n",
    ")\n",
    "pre.get_matches(text)"
   ]
  },
  {
   "cell_type": "code",
   "execution_count": 6,
   "id": "447cda6a",
   "metadata": {
    "ExecuteTime": {
     "end_time": "2022-07-25T21:49:24.064410Z",
     "start_time": "2022-07-25T21:49:24.054380Z"
    }
   },
   "outputs": [
    {
     "data": {
      "text/plain": [
       "['mathdatasimplified.com/', 'https://github.com/khuyentran1401']"
      ]
     },
     "execution_count": 6,
     "metadata": {},
     "output_type": "execute_result"
    }
   ],
   "source": [
    "text = \"You can find me through my website mathdatasimplified.com/ or GitHub https://github.com/khuyentran1401\"\n",
    "\n",
    "at_least_one_character_except_white_space = OneOrMore(AnyButWhitespace())\n",
    "pre = (\n",
    "    Optional(\"http\" + Optional(\"s\") + \"://\")\n",
    "    + at_least_one_character_except_white_space\n",
    "    + Either(\".com\", \".org\")\n",
    "    + at_least_one_character_except_white_space\n",
    ")\n",
    "pre.get_matches(text)"
   ]
  },
  {
   "cell_type": "code",
   "execution_count": 14,
   "id": "45e6f20f",
   "metadata": {
    "ExecuteTime": {
     "end_time": "2022-07-25T21:54:47.500313Z",
     "start_time": "2022-07-25T21:54:47.493663Z"
    }
   },
   "outputs": [
    {
     "data": {
      "text/plain": [
       "(?:https?\\:\\/\\/)?[^\\s]+(?:\\.com|\\.org)[^\\s]+"
      ]
     },
     "execution_count": 14,
     "metadata": {},
     "output_type": "execute_result"
    },
    {
     "data": {
      "application/javascript": "\n            setTimeout(function() {\n                var nbb_cell_id = 14;\n                var nbb_unformatted_code = \"pre\";\n                var nbb_formatted_code = \"pre\";\n                var nbb_cells = Jupyter.notebook.get_cells();\n                for (var i = 0; i < nbb_cells.length; ++i) {\n                    if (nbb_cells[i].input_prompt_number == nbb_cell_id) {\n                        if (nbb_cells[i].get_text() == nbb_unformatted_code) {\n                             nbb_cells[i].set_text(nbb_formatted_code);\n                        }\n                        break;\n                    }\n                }\n            }, 500);\n            ",
      "text/plain": [
       "<IPython.core.display.Javascript object>"
      ]
     },
     "metadata": {},
     "output_type": "display_data"
    }
   ],
   "source": [
    "pre"
   ]
  },
  {
   "cell_type": "markdown",
   "id": "3c4ff997",
   "metadata": {},
   "source": [
    "## Capture Time"
   ]
  },
  {
   "cell_type": "code",
   "execution_count": 8,
   "id": "ce70e4af",
   "metadata": {
    "ExecuteTime": {
     "end_time": "2022-07-25T21:57:52.213731Z",
     "start_time": "2022-07-25T21:57:52.203066Z"
    }
   },
   "outputs": [
    {
     "data": {
      "text/plain": [
       "['6', '0', '0']"
      ]
     },
     "execution_count": 8,
     "metadata": {},
     "output_type": "execute_result"
    }
   ],
   "source": [
    "pre = AnyDigit()\n",
    "text = \"It is 6:00 pm now\"\n",
    "pre.get_matches(text)"
   ]
  },
  {
   "cell_type": "code",
   "execution_count": 9,
   "id": "73e8eaa0",
   "metadata": {
    "ExecuteTime": {
     "end_time": "2022-07-25T21:59:54.633060Z",
     "start_time": "2022-07-25T21:59:54.624032Z"
    }
   },
   "outputs": [
    {
     "data": {
      "text/plain": [
       "['6:0']"
      ]
     },
     "execution_count": 9,
     "metadata": {},
     "output_type": "execute_result"
    }
   ],
   "source": [
    "pre = AnyDigit() + \":\" + AnyDigit()\n",
    "pre.get_matches(text)"
   ]
  },
  {
   "cell_type": "code",
   "execution_count": 7,
   "id": "ae5ba8cd",
   "metadata": {
    "ExecuteTime": {
     "end_time": "2022-07-25T22:01:23.606723Z",
     "start_time": "2022-07-25T22:01:23.598118Z"
    }
   },
   "outputs": [
    {
     "data": {
      "text/plain": [
       "[]"
      ]
     },
     "execution_count": 7,
     "metadata": {},
     "output_type": "execute_result"
    }
   ],
   "source": [
    "pre = OneOrMore(AnyDigit()) + AnyFrom(\":\") + OneOrMore(AnyDigit())\n",
    "pre.get_matches(text)"
   ]
  },
  {
   "cell_type": "markdown",
   "id": "aa270d8d",
   "metadata": {},
   "source": [
    "## Capture Phone Numbers"
   ]
  },
  {
   "cell_type": "markdown",
   "id": "e91715c2",
   "metadata": {},
   "source": [
    "```\n",
    "###-###-####\n",
    "(###) ###-####\n",
    "### ### ####\n",
    "###.###.####\n",
    "```"
   ]
  },
  {
   "cell_type": "code",
   "execution_count": 10,
   "id": "f4e54778",
   "metadata": {
    "ExecuteTime": {
     "end_time": "2022-07-25T22:18:15.038300Z",
     "start_time": "2022-07-25T22:18:15.026995Z"
    }
   },
   "outputs": [
    {
     "data": {
      "text/plain": [
       "['3452352312', '345-235-2312', '345 235 2312', '345.235.2312']"
      ]
     },
     "execution_count": 10,
     "metadata": {},
     "output_type": "execute_result"
    }
   ],
   "source": [
    "text = \"My phone number is 3452352312 or 345-235-2312 or 345 235 2312 or 345.235.2312\"\n",
    "\n",
    "punctuation = AnyFrom(\"-\", \" \", \".\")\n",
    "optional_punctuation = Optional(punctuation)\n",
    "at_least_one_digit = OneOrMore(AnyDigit())\n",
    "\n",
    "pre = (\n",
    "    at_least_one_digit\n",
    "    + optional_punctuation\n",
    "    + at_least_one_digit\n",
    "    + optional_punctuation\n",
    "    + at_least_one_digit\n",
    ")\n",
    "pre.get_matches(text)"
   ]
  },
  {
   "cell_type": "code",
   "execution_count": 11,
   "id": "f2b6cefe",
   "metadata": {
    "ExecuteTime": {
     "end_time": "2022-07-25T22:18:15.515773Z",
     "start_time": "2022-07-25T22:18:15.509515Z"
    }
   },
   "outputs": [
    {
     "data": {
      "text/plain": [
       "\\d+[\\--. ]?\\d+[\\--. ]?\\d+"
      ]
     },
     "execution_count": 11,
     "metadata": {},
     "output_type": "execute_result"
    }
   ],
   "source": [
    "pre"
   ]
  },
  {
   "cell_type": "code",
   "execution_count": 13,
   "id": "24f83699",
   "metadata": {
    "ExecuteTime": {
     "end_time": "2022-07-25T22:08:57.754185Z",
     "start_time": "2022-07-25T22:08:57.738018Z"
    }
   },
   "outputs": [
    {
     "data": {
      "text/plain": [
       "['3452352312',\n",
       " '345-235-2312',\n",
       " '(345) 235-2312',\n",
       " '345 235 2312',\n",
       " '345.235.2312']"
      ]
     },
     "execution_count": 13,
     "metadata": {},
     "output_type": "execute_result"
    }
   ],
   "source": [
    "text = \"My phone number is 3452352312 or 345-235-2312 or (345) 235-2312 or 345 235 2312 or 345.235.2312\"\n",
    "\n",
    "punctuation = AnyFrom(\"-\", \" \", \".\")\n",
    "optional_punctuation = Optional(punctuation)\n",
    "at_least_one_digit = OneOrMore(AnyDigit())\n",
    "\n",
    "pre = (\n",
    "    Optional(\"(\")\n",
    "    + at_least_one_digit\n",
    "    + Optional(\")\")\n",
    "    + optional_punctuation\n",
    "    + at_least_one_digit\n",
    "    + optional_punctuation\n",
    "    + at_least_one_digit\n",
    ")\n",
    "pre.get_matches(text)"
   ]
  },
  {
   "cell_type": "code",
   "execution_count": 14,
   "id": "5e476ae3",
   "metadata": {
    "ExecuteTime": {
     "end_time": "2022-07-25T22:29:44.826217Z",
     "start_time": "2022-07-25T22:29:44.818865Z"
    }
   },
   "outputs": [
    {
     "data": {
      "text/plain": [
       "\\(?\\d+\\)?[\\--. ]?\\d+[\\--. ]?\\d+"
      ]
     },
     "execution_count": 14,
     "metadata": {},
     "output_type": "execute_result"
    }
   ],
   "source": [
    "pre"
   ]
  },
  {
   "cell_type": "markdown",
   "id": "a2916316",
   "metadata": {},
   "source": [
    "## Capture Email Address"
   ]
  },
  {
   "cell_type": "code",
   "execution_count": 15,
   "id": "5fc5120a",
   "metadata": {
    "ExecuteTime": {
     "end_time": "2022-07-25T22:29:42.107831Z",
     "start_time": "2022-07-25T22:29:42.098363Z"
    }
   },
   "outputs": [
    {
     "data": {
      "text/plain": [
       "['abcd@gmail.com']"
      ]
     },
     "execution_count": 15,
     "metadata": {},
     "output_type": "execute_result"
    }
   ],
   "source": [
    "text = \"My email is abcd@gmail.com\"\n",
    "\n",
    "pre = (\n",
    "    OneOrMore(AnyButWhitespace())\n",
    "    + \"@\"\n",
    "    + OneOrMore(Any())\n",
    "    + Either(\".com\", \".org\", \".io\", \".net\")\n",
    ")\n",
    "\n",
    "pre.get_matches(text)"
   ]
  }
 ],
 "metadata": {
  "hide_input": false,
  "kernelspec": {
   "display_name": "Python 3.9.13 ('venv': venv)",
   "language": "python",
   "name": "python3"
  },
  "language_info": {
   "codemirror_mode": {
    "name": "ipython",
    "version": 3
   },
   "file_extension": ".py",
   "mimetype": "text/x-python",
   "name": "python",
   "nbconvert_exporter": "python",
   "pygments_lexer": "ipython3",
   "version": "3.9.13"
  },
  "toc": {
   "base_numbering": 1,
   "nav_menu": {},
   "number_sections": true,
   "sideBar": true,
   "skip_h1_title": false,
   "title_cell": "Table of Contents",
   "title_sidebar": "Contents",
   "toc_cell": false,
   "toc_position": {},
   "toc_section_display": true,
   "toc_window_display": false
  },
  "vscode": {
   "interpreter": {
    "hash": "478cc5ef0f338997730d9103983e193fe6c3c8e58abb3c8c0481de8a2f51bddc"
   }
  }
 },
 "nbformat": 4,
 "nbformat_minor": 5
}
