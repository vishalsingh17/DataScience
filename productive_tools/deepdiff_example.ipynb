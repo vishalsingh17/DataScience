{
 "cells": [
  {
   "cell_type": "code",
   "execution_count": null,
   "id": "ff37a521",
   "metadata": {},
   "outputs": [],
   "source": [
    "!pip install deepdiff "
   ]
  },
  {
   "cell_type": "code",
   "execution_count": 2,
   "id": "eb81bc2c",
   "metadata": {},
   "outputs": [],
   "source": [
    "from deepdiff import DeepDiff"
   ]
  },
  {
   "cell_type": "markdown",
   "id": "6c3a7a09",
   "metadata": {},
   "source": [
    "# Descriptive error"
   ]
  },
  {
   "cell_type": "code",
   "execution_count": 60,
   "id": "db21a44f",
   "metadata": {},
   "outputs": [
    {
     "ename": "AssertionError",
     "evalue": "assert {'apple': 2, 'banana': [3, 2, 2], 'orange': 3} == {'apple': 2, 'banana': [3, 2], 'orange': 3}",
     "output_type": "error",
     "traceback": [
      "\u001b[0;31m---------------------------------------------------------------------------\u001b[0m",
      "\u001b[0;31mAssertionError\u001b[0m                            Traceback (most recent call last)",
      "\u001b[0;32m/tmp/ipykernel_64597/1738100265.py\u001b[0m in \u001b[0;36m<module>\u001b[0;34m\u001b[0m\n\u001b[1;32m      1\u001b[0m \u001b[0mprice1\u001b[0m \u001b[0;34m=\u001b[0m \u001b[0;34m{\u001b[0m\u001b[0;34m'apple'\u001b[0m\u001b[0;34m:\u001b[0m \u001b[0;36m2\u001b[0m\u001b[0;34m,\u001b[0m \u001b[0;34m'orange'\u001b[0m\u001b[0;34m:\u001b[0m \u001b[0;36m3\u001b[0m\u001b[0;34m,\u001b[0m \u001b[0;34m'banana'\u001b[0m\u001b[0;34m:\u001b[0m \u001b[0;34m[\u001b[0m\u001b[0;36m3\u001b[0m\u001b[0;34m,\u001b[0m \u001b[0;36m2\u001b[0m\u001b[0;34m,\u001b[0m \u001b[0;36m2\u001b[0m\u001b[0;34m]\u001b[0m\u001b[0;34m}\u001b[0m\u001b[0;34m\u001b[0m\u001b[0;34m\u001b[0m\u001b[0m\n\u001b[1;32m      2\u001b[0m \u001b[0mprice2\u001b[0m \u001b[0;34m=\u001b[0m \u001b[0;34m{\u001b[0m\u001b[0;34m'apple'\u001b[0m\u001b[0;34m:\u001b[0m \u001b[0;36m2\u001b[0m\u001b[0;34m,\u001b[0m \u001b[0;34m'orange'\u001b[0m\u001b[0;34m:\u001b[0m \u001b[0;36m3\u001b[0m\u001b[0;34m,\u001b[0m \u001b[0;34m'banana'\u001b[0m\u001b[0;34m:\u001b[0m \u001b[0;34m[\u001b[0m\u001b[0;36m3\u001b[0m\u001b[0;34m,\u001b[0m \u001b[0;36m2\u001b[0m\u001b[0;34m]\u001b[0m\u001b[0;34m}\u001b[0m\u001b[0;34m\u001b[0m\u001b[0;34m\u001b[0m\u001b[0m\n\u001b[0;32m----> 3\u001b[0;31m \u001b[0;32massert\u001b[0m \u001b[0mprice1\u001b[0m \u001b[0;34m==\u001b[0m \u001b[0mprice2\u001b[0m\u001b[0;34m\u001b[0m\u001b[0;34m\u001b[0m\u001b[0m\n\u001b[0m",
      "\u001b[0;31mAssertionError\u001b[0m: assert {'apple': 2, 'banana': [3, 2, 2], 'orange': 3} == {'apple': 2, 'banana': [3, 2], 'orange': 3}"
     ]
    }
   ],
   "source": [
    "price1 = {'apple': 2, 'orange': 3, 'banana': [3, 2, 2]}\n",
    "price2 = {'apple': 2, 'orange': 3, 'banana': [3, 2]}\n",
    "assert price1 == price2 "
   ]
  },
  {
   "cell_type": "code",
   "execution_count": 65,
   "id": "c29a42c7",
   "metadata": {},
   "outputs": [
    {
     "data": {
      "text/plain": [
       "{'iterable_item_removed': {\"root['banana'][2]\": 2}}"
      ]
     },
     "execution_count": 65,
     "metadata": {},
     "output_type": "execute_result"
    }
   ],
   "source": [
    "DeepDiff(price1, price2)  "
   ]
  },
  {
   "cell_type": "code",
   "execution_count": 64,
   "id": "41d2ba24",
   "metadata": {},
   "outputs": [
    {
     "data": {
      "text/plain": [
       "{'iterable_item_removed': [<root['banana'][2] t1:2, t2:not present>]}"
      ]
     },
     "execution_count": 64,
     "metadata": {},
     "output_type": "execute_result"
    }
   ],
   "source": [
    "DeepDiff(price1, price2, view='tree')\n"
   ]
  },
  {
   "cell_type": "markdown",
   "id": "9bc952ad",
   "metadata": {},
   "source": [
    "# Ignore "
   ]
  },
  {
   "cell_type": "markdown",
   "id": "953705b3",
   "metadata": {},
   "source": [
    "## Ignore Order"
   ]
  },
  {
   "cell_type": "code",
   "execution_count": 33,
   "id": "2cc1b3be",
   "metadata": {},
   "outputs": [
    {
     "data": {
      "text/plain": [
       "{}"
      ]
     },
     "execution_count": 33,
     "metadata": {},
     "output_type": "execute_result"
    }
   ],
   "source": [
    "# Ignore orders\n",
    "\n",
    "price1 = {'apple': 2, 'orange': 3, 'banana': [3, 2]}\n",
    "price2 = {'apple': 2, 'orange': 3, 'banana': [2, 3]}\n",
    "DeepDiff(price1, price2, ignore_order=True)\n"
   ]
  },
  {
   "cell_type": "code",
   "execution_count": 77,
   "id": "8e913f0a",
   "metadata": {},
   "outputs": [
    {
     "data": {
      "text/plain": [
       "{}"
      ]
     },
     "execution_count": 77,
     "metadata": {},
     "output_type": "execute_result"
    }
   ],
   "source": [
    "price1 = {'apple': 2, 'orange': 3, 'banana': [3, 2, 2]}\n",
    "price2 = {'apple': 2, 'orange': 3, 'banana': [3, 2]}\n",
    "DeepDiff(price1, price2, ignore_order=True)"
   ]
  },
  {
   "cell_type": "markdown",
   "id": "bfb94e62",
   "metadata": {},
   "source": [
    "## Ignore Path"
   ]
  },
  {
   "cell_type": "code",
   "execution_count": 7,
   "id": "25ceaa88",
   "metadata": {},
   "outputs": [
    {
     "data": {
      "text/plain": [
       "{}"
      ]
     },
     "execution_count": 7,
     "metadata": {},
     "output_type": "execute_result"
    }
   ],
   "source": [
    "experience1 = {\"machine learning\": 2, \"python\": 3}\n",
    "experience2 = {\"ml\": 2, \"python\": 3}\n",
    "\n",
    "DeepDiff(\n",
    "    experience1,\n",
    "    experience2,\n",
    "    exclude_paths={\"root['ml']\", \"root['machine learning']\"},\n",
    ")\n"
   ]
  },
  {
   "cell_type": "markdown",
   "id": "0ce4a270",
   "metadata": {},
   "source": [
    "## Ignore Certain Digits"
   ]
  },
  {
   "cell_type": "code",
   "execution_count": 8,
   "id": "3330bd2a",
   "metadata": {},
   "outputs": [
    {
     "data": {
      "text/plain": [
       "{}"
      ]
     },
     "execution_count": 8,
     "metadata": {},
     "output_type": "execute_result"
    }
   ],
   "source": [
    "num1 = 0.258\n",
    "num2 = 0.259\n",
    "\n",
    "DeepDiff(num1, num2, significant_digits=2)"
   ]
  },
  {
   "cell_type": "code",
   "execution_count": 58,
   "id": "2d872f12",
   "metadata": {},
   "outputs": [
    {
     "data": {
      "text/plain": [
       "{}"
      ]
     },
     "execution_count": 58,
     "metadata": {},
     "output_type": "execute_result"
    }
   ],
   "source": [
    "num1 = 0.9999\n",
    "num2 = 1.0\n",
    "\n",
    "DeepDiff(num1, num2, math_epsilon=0.001)"
   ]
  },
  {
   "cell_type": "markdown",
   "id": "c94c508a",
   "metadata": {},
   "source": [
    "## Ignore String Case"
   ]
  },
  {
   "cell_type": "code",
   "execution_count": 44,
   "id": "69f90fdf",
   "metadata": {},
   "outputs": [
    {
     "data": {
      "text/plain": [
       "{}"
      ]
     },
     "execution_count": 44,
     "metadata": {},
     "output_type": "execute_result"
    }
   ],
   "source": [
    "apple1 = {\"price\": 2, \"color\": \"Red\"}\n",
    "apple2 = {\"price\": 2, \"color\": \"red\"}\n",
    "\n",
    "DeepDiff(\n",
    "    apple1,\n",
    "    apple2,\n",
    "    ignore_string_case=True,\n",
    ")\n"
   ]
  },
  {
   "cell_type": "markdown",
   "id": "c87ca53b",
   "metadata": {},
   "source": [
    "## Ignore NaN Inequality"
   ]
  },
  {
   "cell_type": "code",
   "execution_count": 75,
   "id": "104d2531",
   "metadata": {},
   "outputs": [
    {
     "ename": "AssertionError",
     "evalue": "assert [nan, 1, 2] == [nan, 1, 2]",
     "output_type": "error",
     "traceback": [
      "\u001b[0;31m---------------------------------------------------------------------------\u001b[0m",
      "\u001b[0;31mAssertionError\u001b[0m                            Traceback (most recent call last)",
      "\u001b[0;32m/tmp/ipykernel_64597/2065466119.py\u001b[0m in \u001b[0;36m<module>\u001b[0;34m\u001b[0m\n\u001b[1;32m      4\u001b[0m \u001b[0mnums2\u001b[0m \u001b[0;34m=\u001b[0m \u001b[0;34m[\u001b[0m\u001b[0mnp\u001b[0m\u001b[0;34m.\u001b[0m\u001b[0mnan\u001b[0m\u001b[0;34m,\u001b[0m \u001b[0;36m1\u001b[0m\u001b[0;34m,\u001b[0m \u001b[0;36m2\u001b[0m\u001b[0;34m]\u001b[0m\u001b[0;34m\u001b[0m\u001b[0;34m\u001b[0m\u001b[0m\n\u001b[1;32m      5\u001b[0m \u001b[0;34m\u001b[0m\u001b[0m\n\u001b[0;32m----> 6\u001b[0;31m \u001b[0;32massert\u001b[0m \u001b[0mnums1\u001b[0m \u001b[0;34m==\u001b[0m \u001b[0mnums2\u001b[0m\u001b[0;34m\u001b[0m\u001b[0;34m\u001b[0m\u001b[0m\n\u001b[0m",
      "\u001b[0;31mAssertionError\u001b[0m: assert [nan, 1, 2] == [nan, 1, 2]"
     ]
    }
   ],
   "source": [
    "import numpy as np\n",
    "\n",
    "nums1 = [float('NaN'), 1, 2]\n",
    "nums2 = [np.nan, 1, 2]\n",
    "\n",
    "assert nums1 == nums2"
   ]
  },
  {
   "cell_type": "code",
   "execution_count": 76,
   "id": "f26d3ee9",
   "metadata": {},
   "outputs": [
    {
     "data": {
      "text/plain": [
       "{}"
      ]
     },
     "execution_count": 76,
     "metadata": {},
     "output_type": "execute_result"
    }
   ],
   "source": [
    "DeepDiff(\n",
    "    nums1,\n",
    "    nums2,\n",
    "    ignore_nan_inequality=True \n",
    ")"
   ]
  },
  {
   "cell_type": "markdown",
   "id": "bb4580bb",
   "metadata": {},
   "source": [
    "## Exclude Types"
   ]
  },
  {
   "cell_type": "code",
   "execution_count": 15,
   "id": "e4334c97",
   "metadata": {},
   "outputs": [
    {
     "data": {
      "text/plain": [
       "{}"
      ]
     },
     "execution_count": 15,
     "metadata": {},
     "output_type": "execute_result"
    }
   ],
   "source": [
    "apple1 = {\"price\": 2, \"color\": \"red\"}\n",
    "apple2 = {\"price\": 2, \"color\": \"green\"}\n",
    "\n",
    "DeepDiff(\n",
    "    apple1,\n",
    "    apple2,\n",
    "    exclude_types=[str],\n",
    ")\n"
   ]
  },
  {
   "cell_type": "code",
   "execution_count": 42,
   "id": "94a640df",
   "metadata": {},
   "outputs": [
    {
     "data": {
      "text/plain": [
       "{}"
      ]
     },
     "execution_count": 42,
     "metadata": {},
     "output_type": "execute_result"
    }
   ],
   "source": [
    "apple1 = {\"price\": 2, \"color\": \"red\"}\n",
    "apple2 = {\"price\": 2.0, \"color\": \"red\"}\n",
    "\n",
    "DeepDiff(\n",
    "    apple1,\n",
    "    apple2,\n",
    "    ignore_numeric_type_changes=True,\n",
    ")\n"
   ]
  },
  {
   "cell_type": "markdown",
   "id": "d4e2960b",
   "metadata": {},
   "source": [
    "## Truncate Datetime"
   ]
  },
  {
   "cell_type": "code",
   "execution_count": 69,
   "id": "2ee0b779",
   "metadata": {},
   "outputs": [
    {
     "data": {
      "text/plain": [
       "{}"
      ]
     },
     "execution_count": 69,
     "metadata": {},
     "output_type": "execute_result"
    }
   ],
   "source": [
    "from datetime import datetime\n",
    "\n",
    "event1 = {\"location\": \"Illnois\", \"date\": datetime(2019, 1, 1, 6, 6, 0)}\n",
    "event2 = {\"location\": \"Illnois\", \"date\": datetime(2019, 1, 1, 6, 5, 0)}\n",
    "\n",
    "DeepDiff(event1, event2, truncate_datetime=\"hour\")"
   ]
  },
  {
   "cell_type": "markdown",
   "id": "1fc65ccc",
   "metadata": {},
   "source": [
    "## Exclude Regrex Paths"
   ]
  },
  {
   "cell_type": "code",
   "execution_count": 24,
   "id": "5d52a809",
   "metadata": {},
   "outputs": [
    {
     "data": {
      "text/plain": [
       "{}"
      ]
     },
     "execution_count": 24,
     "metadata": {},
     "output_type": "execute_result"
    }
   ],
   "source": [
    "apple1 = {\"price\": 2, \"color\": \"red\"}\n",
    "apple2 = {\"price\": 2, \"color\": \"green\"}\n",
    "\n",
    "DeepDiff(apple1, apple2, exclude_regex_paths={r\"root\\['color'\\]\"})\n"
   ]
  },
  {
   "cell_type": "code",
   "execution_count": 26,
   "id": "3f1301a9",
   "metadata": {},
   "outputs": [
    {
     "data": {
      "text/plain": [
       "{}"
      ]
     },
     "execution_count": 26,
     "metadata": {},
     "output_type": "execute_result"
    }
   ],
   "source": [
    "aldi = [{\"price\": 2, \"color\": \"red\"}, {\"price\": 2, \"color\": \"red\"}]\n",
    "walmart = [{\"price\": 2, \"color\": \"green\"}, {\"price\": 2, \"color\": \"green\"}]\n",
    "\n",
    "DeepDiff(aldi, walmart, exclude_regex_paths={r\"root\\[\\d+\\]\\['color'\\]\"})\n"
   ]
  }
 ],
 "metadata": {
  "interpreter": {
   "hash": "81fd2c32c01ae2ba49907a34c36447a670709039fbd002790bd1125f246cf4a2"
  },
  "kernelspec": {
   "display_name": "Python 3.8.10 64-bit ('venv': venv)",
   "language": "python",
   "name": "python3"
  },
  "language_info": {
   "codemirror_mode": {
    "name": "ipython",
    "version": 3
   },
   "file_extension": ".py",
   "mimetype": "text/x-python",
   "name": "python",
   "nbconvert_exporter": "python",
   "pygments_lexer": "ipython3",
   "version": "3.8.10"
  },
  "toc": {
   "base_numbering": 1,
   "nav_menu": {},
   "number_sections": true,
   "sideBar": true,
   "skip_h1_title": false,
   "title_cell": "Table of Contents",
   "title_sidebar": "Contents",
   "toc_cell": false,
   "toc_position": {},
   "toc_section_display": true,
   "toc_window_display": false
  }
 },
 "nbformat": 4,
 "nbformat_minor": 5
}
