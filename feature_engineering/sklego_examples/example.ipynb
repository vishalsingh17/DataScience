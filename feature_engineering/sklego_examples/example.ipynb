{
 "cells": [
  {
   "cell_type": "markdown",
   "id": "lined-disney",
   "metadata": {},
   "source": [
    "## Estimator Transformer and  Column selector"
   ]
  },
  {
   "cell_type": "code",
   "execution_count": 4,
   "id": "prompt-bench",
   "metadata": {
    "ExecuteTime": {
     "end_time": "2021-06-02T02:04:58.432702Z",
     "start_time": "2021-06-02T02:04:58.424078Z"
    }
   },
   "outputs": [],
   "source": [
    "import numpy as np\n",
    "import pandas as pd\n",
    "\n",
    "from sklearn.pipeline import FeatureUnion, Pipeline\n",
    "from sklearn.linear_model import LinearRegression, Ridge\n",
    "from sklearn.compose import ColumnTransformer\n",
    "from sklearn.metrics import r2_score, mean_absolute_error\n",
    "\n",
    "from sklego.meta import EstimatorTransformer\n",
    "from sklego.preprocessing import ColumnSelector\n",
    "\n",
    "\n",
    "import seaborn as sns"
   ]
  },
  {
   "cell_type": "code",
   "execution_count": 108,
   "id": "communist-sucking",
   "metadata": {
    "ExecuteTime": {
     "end_time": "2021-05-25T01:43:55.407639Z",
     "start_time": "2021-05-25T01:43:55.385406Z"
    }
   },
   "outputs": [
    {
     "data": {
      "text/html": [
       "<div>\n",
       "<style scoped>\n",
       "    .dataframe tbody tr th:only-of-type {\n",
       "        vertical-align: middle;\n",
       "    }\n",
       "\n",
       "    .dataframe tbody tr th {\n",
       "        vertical-align: top;\n",
       "    }\n",
       "\n",
       "    .dataframe thead th {\n",
       "        text-align: right;\n",
       "    }\n",
       "</style>\n",
       "<table border=\"1\" class=\"dataframe\">\n",
       "  <thead>\n",
       "    <tr style=\"text-align: right;\">\n",
       "      <th></th>\n",
       "      <th>x1</th>\n",
       "      <th>x2</th>\n",
       "      <th>y</th>\n",
       "    </tr>\n",
       "  </thead>\n",
       "  <tbody>\n",
       "    <tr>\n",
       "      <th>0</th>\n",
       "      <td>0.417022</td>\n",
       "      <td>0.720324</td>\n",
       "      <td>2.434649</td>\n",
       "    </tr>\n",
       "    <tr>\n",
       "      <th>1</th>\n",
       "      <td>0.000114</td>\n",
       "      <td>0.302333</td>\n",
       "      <td>1.480168</td>\n",
       "    </tr>\n",
       "    <tr>\n",
       "      <th>2</th>\n",
       "      <td>0.146756</td>\n",
       "      <td>0.092339</td>\n",
       "      <td>0.939999</td>\n",
       "    </tr>\n",
       "    <tr>\n",
       "      <th>3</th>\n",
       "      <td>0.186260</td>\n",
       "      <td>0.345561</td>\n",
       "      <td>1.129041</td>\n",
       "    </tr>\n",
       "    <tr>\n",
       "      <th>4</th>\n",
       "      <td>0.396767</td>\n",
       "      <td>0.538817</td>\n",
       "      <td>1.770531</td>\n",
       "    </tr>\n",
       "    <tr>\n",
       "      <th>5</th>\n",
       "      <td>0.419195</td>\n",
       "      <td>0.685220</td>\n",
       "      <td>2.322556</td>\n",
       "    </tr>\n",
       "    <tr>\n",
       "      <th>6</th>\n",
       "      <td>0.204452</td>\n",
       "      <td>0.878117</td>\n",
       "      <td>2.922765</td>\n",
       "    </tr>\n",
       "    <tr>\n",
       "      <th>7</th>\n",
       "      <td>0.027388</td>\n",
       "      <td>0.670468</td>\n",
       "      <td>1.552818</td>\n",
       "    </tr>\n",
       "    <tr>\n",
       "      <th>8</th>\n",
       "      <td>0.417305</td>\n",
       "      <td>0.558690</td>\n",
       "      <td>2.044583</td>\n",
       "    </tr>\n",
       "    <tr>\n",
       "      <th>9</th>\n",
       "      <td>0.140387</td>\n",
       "      <td>0.198101</td>\n",
       "      <td>0.880378</td>\n",
       "    </tr>\n",
       "  </tbody>\n",
       "</table>\n",
       "</div>"
      ],
      "text/plain": [
       "         x1        x2         y\n",
       "0  0.417022  0.720324  2.434649\n",
       "1  0.000114  0.302333  1.480168\n",
       "2  0.146756  0.092339  0.939999\n",
       "3  0.186260  0.345561  1.129041\n",
       "4  0.396767  0.538817  1.770531\n",
       "5  0.419195  0.685220  2.322556\n",
       "6  0.204452  0.878117  2.922765\n",
       "7  0.027388  0.670468  1.552818\n",
       "8  0.417305  0.558690  2.044583\n",
       "9  0.140387  0.198101  0.880378"
      ]
     },
     "execution_count": 108,
     "metadata": {},
     "output_type": "execute_result"
    }
   ],
   "source": [
    "np.random.seed(1)\n",
    "n = 1000 \n",
    "X = np.random.uniform(0, 1, (n, 2))\n",
    "\n",
    "# y = x_0 + 2*x1 + random_number\n",
    "y = X[:, 0] + 2 * X[:, 1]  + np.random.uniform(0, 1, (n,))\n",
    "\n",
    "df = pd.DataFrame({'x1': X[:, 0], 'x2': X[:, 1], 'y': y})\n",
    "df.head(10)"
   ]
  },
  {
   "cell_type": "code",
   "execution_count": 40,
   "id": "destroyed-highlight",
   "metadata": {
    "ExecuteTime": {
     "end_time": "2021-05-24T17:31:02.598539Z",
     "start_time": "2021-05-24T17:31:02.406083Z"
    }
   },
   "outputs": [
    {
     "data": {
      "text/plain": [
       "<AxesSubplot:>"
      ]
     },
     "execution_count": 40,
     "metadata": {},
     "output_type": "execute_result"
    },
    {
     "data": {
      "image/png": "[encoded data removed]",
      "text/plain": [
       "<Figure size 432x288 with 1 Axes>"
      ]
     },
     "metadata": {
      "needs_background": "light"
     },
     "output_type": "display_data"
    }
   ],
   "source": [
    "sns.lineplot(x=df.values[:, 0], y=y)"
   ]
  },
  {
   "cell_type": "code",
   "execution_count": 85,
   "id": "relative-boxing",
   "metadata": {
    "ExecuteTime": {
     "end_time": "2021-05-25T01:25:03.619483Z",
     "start_time": "2021-05-25T01:25:03.590749Z"
    }
   },
   "outputs": [
    {
     "data": {
      "text/plain": [
       "array([[2.35377617, 2.34997191],\n",
       "       [1.06778524, 1.07892273],\n",
       "       [0.77966619, 0.79405148],\n",
       "       ...,\n",
       "       [2.16940325, 2.16755855],\n",
       "       [2.34450535, 2.34090439],\n",
       "       [2.43529861, 2.43071865]])"
      ]
     },
     "execution_count": 85,
     "metadata": {},
     "output_type": "execute_result"
    }
   ],
   "source": [
    "ct = ColumnTransformer(\n",
    "    [('model_1', EstimatorTransformer(LinearRegression()), ['x1', 'x2']),\n",
    "    ('model_2', EstimatorTransformer(Ridge()), ['x1', 'x2'])]\n",
    ")\n",
    "ct.fit_transform(df, y)"
   ]
  },
  {
   "cell_type": "code",
   "execution_count": 76,
   "id": "wooden-holocaust",
   "metadata": {
    "ExecuteTime": {
     "end_time": "2021-05-25T01:14:55.518391Z",
     "start_time": "2021-05-25T01:14:55.470436Z"
    }
   },
   "outputs": [
    {
     "data": {
      "text/plain": [
       "array([[2.35377617, 2.34997191],\n",
       "       [1.06778524, 1.07892273],\n",
       "       [0.77966619, 0.79405148],\n",
       "       ...,\n",
       "       [2.16940325, 2.16755855],\n",
       "       [2.34450535, 2.34090439],\n",
       "       [2.43529861, 2.43071865]])"
      ]
     },
     "execution_count": 76,
     "metadata": {},
     "output_type": "execute_result"
    }
   ],
   "source": [
    "pipeline = Pipeline([\n",
    "    (\"grab_columns\", ColumnSelector(['x1', 'x2'])),\n",
    "    (\"ml_features\", FeatureUnion([\n",
    "        (\"model_1\", EstimatorTransformer(LinearRegression())),\n",
    "        (\"model_2\", EstimatorTransformer(Ridge()))\n",
    "    ]))\n",
    "])\n",
    "\n",
    "predictions = pipeline.fit(df, y).transform(df)\n",
    "predictions"
   ]
  },
  {
   "cell_type": "code",
   "execution_count": null,
   "id": "romance-procedure",
   "metadata": {},
   "outputs": [],
   "source": [
    "pipeline = Pipeline([\n",
    "    (\"grab_columns\", ColumnSelector(['x1', 'x2'])),\n",
    "    (\"min_max\")\n",
    "    (\"ml_features\", FeatureUnion([\n",
    "        (\"model_1\", EstimatorTransformer(LinearRegression())),\n",
    "        (\"model_2\", EstimatorTransformer(Ridge()))\n",
    "    ]))\n",
    "])\n",
    "\n",
    "predictions = pipeline.fit(df, y).transform(df)\n",
    "predictions"
   ]
  },
  {
   "cell_type": "markdown",
   "id": "exposed-investigator",
   "metadata": {},
   "source": [
    "## Keep the original features"
   ]
  },
  {
   "cell_type": "code",
   "execution_count": 103,
   "id": "legitimate-luther",
   "metadata": {
    "ExecuteTime": {
     "end_time": "2021-05-25T01:39:55.466611Z",
     "start_time": "2021-05-25T01:39:55.464617Z"
    }
   },
   "outputs": [],
   "source": [
    "from sklego.preprocessing import IdentityTransformer\n",
    "from sklearn.preprocessing import MinMaxScale"
   ]
  },
  {
   "cell_type": "code",
   "execution_count": 111,
   "id": "solid-petite",
   "metadata": {
    "ExecuteTime": {
     "end_time": "2021-05-25T01:44:14.689973Z",
     "start_time": "2021-05-25T01:44:14.680306Z"
    }
   },
   "outputs": [
    {
     "data": {
      "text/plain": [
       "array([[1, 2],\n",
       "       [3, 4]])"
      ]
     },
     "execution_count": 111,
     "metadata": {},
     "output_type": "execute_result"
    }
   ],
   "source": [
    "IdentityTransformer().fit_transform(np.array([[1,2],[3,4]]))"
   ]
  },
  {
   "cell_type": "code",
   "execution_count": 114,
   "id": "august-colonial",
   "metadata": {
    "ExecuteTime": {
     "end_time": "2021-05-25T01:44:49.866169Z",
     "start_time": "2021-05-25T01:44:49.856160Z"
    }
   },
   "outputs": [
    {
     "data": {
      "text/plain": [
       "array([[0.41757319, 0.72125566],\n",
       "       [0.        , 0.30227879],\n",
       "       [0.14687562, 0.09178999],\n",
       "       ...,\n",
       "       [0.79764583, 0.44779645],\n",
       "       [0.18430694, 0.82991946],\n",
       "       [0.03093289, 0.94819292]])"
      ]
     },
     "execution_count": 114,
     "metadata": {},
     "output_type": "execute_result"
    }
   ],
   "source": [
    "MinMaxScaler().fit_transform(X)"
   ]
  },
  {
   "cell_type": "code",
   "execution_count": 113,
   "id": "special-example",
   "metadata": {
    "ExecuteTime": {
     "end_time": "2021-05-25T01:44:33.822919Z",
     "start_time": "2021-05-25T01:44:33.807227Z"
    }
   },
   "outputs": [
    {
     "data": {
      "text/plain": [
       "array([[4.17022005e-01, 7.20324493e-01, 4.17573186e-01, 7.21255655e-01],\n",
       "       [1.14374817e-04, 3.02332573e-01, 0.00000000e+00, 3.02278792e-01],\n",
       "       [1.46755891e-01, 9.23385948e-02, 1.46875616e-01, 9.17899917e-02],\n",
       "       ...,\n",
       "       [7.96488867e-01, 4.47508139e-01, 7.97645834e-01, 4.47796445e-01],\n",
       "       [1.84127556e-01, 8.28732852e-01, 1.84306942e-01, 8.29919463e-01],\n",
       "       [3.09979598e-02, 9.46728270e-01, 3.09328879e-02, 9.48192922e-01]])"
      ]
     },
     "execution_count": 113,
     "metadata": {},
     "output_type": "execute_result"
    }
   ],
   "source": [
    "pipe = Pipeline([\n",
    "    (\"split\", FeatureUnion([\n",
    "        (\"orig\", IdentityTransformer()),\n",
    "        (\"minmax\", MinMaxScaler())\n",
    "    ]))\n",
    "])\n",
    "\n",
    "X_new = pipe.fit_transform(X)\n",
    "X_new"
   ]
  }
 ],
 "metadata": {
  "kernelspec": {
   "display_name": "Python 3",
   "language": "python",
   "name": "python3"
  },
  "language_info": {
   "codemirror_mode": {
    "name": "ipython",
    "version": 3
   },
   "file_extension": ".py",
   "mimetype": "text/x-python",
   "name": "python",
   "nbconvert_exporter": "python",
   "pygments_lexer": "ipython3",
   "version": "3.8.1"
  },
  "toc": {
   "base_numbering": 1,
   "nav_menu": {},
   "number_sections": true,
   "sideBar": true,
   "skip_h1_title": false,
   "title_cell": "Table of Contents",
   "title_sidebar": "Contents",
   "toc_cell": false,
   "toc_position": {},
   "toc_section_display": true,
   "toc_window_display": false
  },
  "varInspector": {
   "cols": {
    "lenName": 16,
    "lenType": 16,
    "lenVar": 40
   },
   "kernels_config": {
    "python": {
     "delete_cmd_postfix": "",
     "delete_cmd_prefix": "del ",
     "library": "var_list.py",
     "varRefreshCmd": "print(var_dic_list())"
    },
    "r": {
     "delete_cmd_postfix": ") ",
     "delete_cmd_prefix": "rm(",
     "library": "var_list.r",
     "varRefreshCmd": "cat(var_dic_list()) "
    }
   },
   "types_to_exclude": [
    "module",
    "function",
    "builtin_function_or_method",
    "instance",
    "_Feature"
   ],
   "window_display": false
  }
 },
 "nbformat": 4,
 "nbformat_minor": 5
}
