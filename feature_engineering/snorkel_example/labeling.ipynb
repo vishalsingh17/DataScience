{
 "cells": [
  {
   "cell_type": "code",
   "execution_count": null,
   "id": "97b6ba07",
   "metadata": {
    "ExecuteTime": {
     "end_time": "2022-01-26T02:27:42.311724Z",
     "start_time": "2022-01-26T02:27:36.387472Z"
    }
   },
   "outputs": [],
   "source": [
    "!pip install snorkel"
   ]
  },
  {
   "cell_type": "markdown",
   "id": "4df8e7c2",
   "metadata": {},
   "source": [
    "# Load Data"
   ]
  },
  {
   "cell_type": "code",
   "execution_count": 1,
   "id": "1f434d7b",
   "metadata": {
    "ExecuteTime": {
     "end_time": "2022-01-30T20:54:10.410728Z",
     "start_time": "2022-01-30T20:54:10.145924Z"
    }
   },
   "outputs": [],
   "source": [
    "import pandas as pd"
   ]
  },
  {
   "cell_type": "code",
   "execution_count": 2,
   "id": "958e2d26",
   "metadata": {
    "ExecuteTime": {
     "end_time": "2022-01-30T20:54:13.659821Z",
     "start_time": "2022-01-30T20:54:10.584126Z"
    }
   },
   "outputs": [],
   "source": [
    "train_df = pd.read_pickle(\n",
    "    \"https://github.com/khuyentran1401/Data-science/blob/master/feature_engineering/snorkel_example/train_fake_jobs.pkl?raw=true\"\n",
    ")\n",
    "test_df = pd.read_pickle(\n",
    "    \"https://github.com/khuyentran1401/Data-science/blob/master/feature_engineering/snorkel_example/test_fake_jobs.pkl?raw=true\"\n",
    ")"
   ]
  },
  {
   "cell_type": "markdown",
   "id": "a59db019",
   "metadata": {},
   "source": [
    "# Create Labeling Functions"
   ]
  },
  {
   "cell_type": "code",
   "execution_count": 3,
   "id": "e61a588c",
   "metadata": {
    "ExecuteTime": {
     "end_time": "2022-01-30T20:54:14.136365Z",
     "start_time": "2022-01-30T20:54:13.661104Z"
    }
   },
   "outputs": [],
   "source": [
    "from snorkel.labeling import labeling_function\n",
    "from snorkel.labeling import PandasLFApplier\n",
    "from snorkel.labeling import LFAnalysis"
   ]
  },
  {
   "cell_type": "code",
   "execution_count": 4,
   "id": "7053a107",
   "metadata": {
    "ExecuteTime": {
     "end_time": "2022-01-30T20:54:14.139245Z",
     "start_time": "2022-01-30T20:54:14.137222Z"
    }
   },
   "outputs": [],
   "source": [
    "FAKE = 1\n",
    "REAL = 0\n",
    "ABSTAIN = -1"
   ]
  },
  {
   "cell_type": "code",
   "execution_count": 5,
   "id": "968da2c3",
   "metadata": {
    "ExecuteTime": {
     "end_time": "2022-01-30T20:54:14.144229Z",
     "start_time": "2022-01-30T20:54:14.140677Z"
    }
   },
   "outputs": [],
   "source": [
    "FAKE_COMPANIES = [\n",
    "    \"Aker Solutions\",\n",
    "    \"Aptitude Staffing Solutions\",\n",
    "    \"Gary Cartwright\",\n",
    "    \"Edison International and Refined Resources\",\n",
    "    \"Le Meridien\",\n",
    "]"
   ]
  },
  {
   "cell_type": "code",
   "execution_count": 6,
   "id": "28d286e5",
   "metadata": {
    "ExecuteTime": {
     "end_time": "2022-01-30T20:54:15.165300Z",
     "start_time": "2022-01-30T20:54:15.160110Z"
    }
   },
   "outputs": [],
   "source": [
    "@labeling_function()\n",
    "def no_requirements(x: pd.Series):\n",
    "\n",
    "    return FAKE if x.requirements == \"\" else ABSTAIN\n",
    "\n",
    "\n",
    "@labeling_function()\n",
    "def requirements_less_than_10(x: pd.Series):\n",
    "    num_words = len(x.requirements.split(\" \"))\n",
    "    return FAKE if num_words <= 10 else ABSTAIN\n",
    "\n",
    "\n",
    "@labeling_function()\n",
    "def requirements_less_than_20(x: pd.Series):\n",
    "    num_words = len(x.requirements.split(\" \"))\n",
    "    return FAKE if num_words <= 20 else ABSTAIN\n",
    "\n",
    "\n",
    "@labeling_function()\n",
    "def no_company_profile(x: pd.Series):\n",
    "    return FAKE if x.company_profile == \"\" else ABSTAIN\n",
    "\n",
    "\n",
    "@labeling_function()\n",
    "def no_company_logo(x: pd.Series):\n",
    "    return FAKE if x.has_company_logo == 0 else ABSTAIN\n",
    "\n",
    "\n",
    "@labeling_function()\n",
    "def suspicious_company(x: pd.Series):\n",
    "    return (\n",
    "        FAKE\n",
    "        if any(\n",
    "            company.lower() in x.company_profile.lower() for company in FAKE_COMPANIES\n",
    "        )\n",
    "        else ABSTAIN\n",
    "    )\n",
    "\n",
    "\n",
    "@labeling_function()\n",
    "def has_background_check(x: pd.Series):\n",
    "    return REAL if \"background check\" in x.requirements else ABSTAIN\n",
    "\n",
    "\n",
    "@labeling_function()\n",
    "def required_experience(x: pd.Series):\n",
    "    return REAL if pd.notna(x.required_experience) else ABSTAIN\n",
    "\n",
    "\n",
    "@labeling_function()\n",
    "def required_education(x: pd.Series):\n",
    "    return REAL if pd.notna(x.required_education) else ABSTAIN"
   ]
  },
  {
   "cell_type": "markdown",
   "id": "c814465d",
   "metadata": {},
   "source": [
    "# Apply Labeling Functions to the Data"
   ]
  },
  {
   "cell_type": "code",
   "execution_count": 165,
   "id": "84fbfc7b",
   "metadata": {
    "ExecuteTime": {
     "end_time": "2022-01-29T16:56:00.839037Z",
     "start_time": "2022-01-29T16:55:59.915434Z"
    }
   },
   "outputs": [
    {
     "name": "stderr",
     "output_type": "stream",
     "text": [
      "100%|█████████████████| 13410/13410 [00:00<00:00, 14877.06it/s]\n"
     ]
    },
    {
     "data": {
      "application/javascript": [
       "\n",
       "            setTimeout(function() {\n",
       "                var nbb_cell_id = 165;\n",
       "                var nbb_unformatted_code = \"lfs = [\\n    no_company_profile,\\n    suspicious_company,\\n    no_company_logo,\\n    has_background_check,\\n    required_experience,\\n    required_education,\\n]\\n\\napplier = PandasLFApplier(lfs=lfs)\\nL_train = applier.apply(df=train_df)\";\n",
       "                var nbb_formatted_code = \"lfs = [\\n    no_company_profile,\\n    suspicious_company,\\n    no_company_logo,\\n    has_background_check,\\n    required_experience,\\n    required_education,\\n]\\n\\napplier = PandasLFApplier(lfs=lfs)\\nL_train = applier.apply(df=train_df)\";\n",
       "                var nbb_cells = Jupyter.notebook.get_cells();\n",
       "                for (var i = 0; i < nbb_cells.length; ++i) {\n",
       "                    if (nbb_cells[i].input_prompt_number == nbb_cell_id) {\n",
       "                        if (nbb_cells[i].get_text() == nbb_unformatted_code) {\n",
       "                             nbb_cells[i].set_text(nbb_formatted_code);\n",
       "                        }\n",
       "                        break;\n",
       "                    }\n",
       "                }\n",
       "            }, 500);\n",
       "            "
      ],
      "text/plain": [
       "<IPython.core.display.Javascript object>"
      ]
     },
     "metadata": {},
     "output_type": "display_data"
    }
   ],
   "source": [
    "lfs = [\n",
    "    no_company_profile,\n",
    "    suspicious_company,\n",
    "    no_company_logo,\n",
    "    has_background_check,\n",
    "    required_experience,\n",
    "    required_education,\n",
    "]\n",
    "\n",
    "applier = PandasLFApplier(lfs=lfs)\n",
    "L_train = applier.apply(df=train_df)"
   ]
  },
  {
   "cell_type": "markdown",
   "id": "79d0ee33",
   "metadata": {},
   "source": [
    "# Evaluate Labeling Functions"
   ]
  },
  {
   "cell_type": "code",
   "execution_count": 166,
   "id": "77cef65f",
   "metadata": {
    "ExecuteTime": {
     "end_time": "2022-01-29T16:56:00.895079Z",
     "start_time": "2022-01-29T16:56:00.840064Z"
    }
   },
   "outputs": [
    {
     "name": "stderr",
     "output_type": "stream",
     "text": [
      "/home/khuyen/Data-science/venv/lib/python3.8/site-packages/sklearn/utils/validation.py:70: FutureWarning: Pass labels=[-1  0  1] as keyword args. From version 1.0 (renaming of 0.25) passing these as positional arguments will result in an error\n",
      "  warnings.warn(f\"Pass {args_msg} as keyword args. From version \"\n",
      "/home/khuyen/Data-science/venv/lib/python3.8/site-packages/sklearn/utils/validation.py:70: FutureWarning: Pass labels=[-1  0  1] as keyword args. From version 1.0 (renaming of 0.25) passing these as positional arguments will result in an error\n",
      "  warnings.warn(f\"Pass {args_msg} as keyword args. From version \"\n",
      "/home/khuyen/Data-science/venv/lib/python3.8/site-packages/sklearn/utils/validation.py:70: FutureWarning: Pass labels=[-1  0  1] as keyword args. From version 1.0 (renaming of 0.25) passing these as positional arguments will result in an error\n",
      "  warnings.warn(f\"Pass {args_msg} as keyword args. From version \"\n",
      "/home/khuyen/Data-science/venv/lib/python3.8/site-packages/sklearn/utils/validation.py:70: FutureWarning: Pass labels=[-1  0  1] as keyword args. From version 1.0 (renaming of 0.25) passing these as positional arguments will result in an error\n",
      "  warnings.warn(f\"Pass {args_msg} as keyword args. From version \"\n",
      "/home/khuyen/Data-science/venv/lib/python3.8/site-packages/sklearn/utils/validation.py:70: FutureWarning: Pass labels=[-1  0  1] as keyword args. From version 1.0 (renaming of 0.25) passing these as positional arguments will result in an error\n",
      "  warnings.warn(f\"Pass {args_msg} as keyword args. From version \"\n",
      "/home/khuyen/Data-science/venv/lib/python3.8/site-packages/sklearn/utils/validation.py:70: FutureWarning: Pass labels=[-1  0  1] as keyword args. From version 1.0 (renaming of 0.25) passing these as positional arguments will result in an error\n",
      "  warnings.warn(f\"Pass {args_msg} as keyword args. From version \"\n"
     ]
    },
    {
     "data": {
      "text/html": [
       "<div>\n",
       "<style scoped>\n",
       "    .dataframe tbody tr th:only-of-type {\n",
       "        vertical-align: middle;\n",
       "    }\n",
       "\n",
       "    .dataframe tbody tr th {\n",
       "        vertical-align: top;\n",
       "    }\n",
       "\n",
       "    .dataframe thead th {\n",
       "        text-align: right;\n",
       "    }\n",
       "</style>\n",
       "<table border=\"1\" class=\"dataframe\">\n",
       "  <thead>\n",
       "    <tr style=\"text-align: right;\">\n",
       "      <th></th>\n",
       "      <th>j</th>\n",
       "      <th>Polarity</th>\n",
       "      <th>Coverage</th>\n",
       "      <th>Overlaps</th>\n",
       "      <th>Conflicts</th>\n",
       "      <th>Correct</th>\n",
       "      <th>Incorrect</th>\n",
       "      <th>Emp. Acc.</th>\n",
       "    </tr>\n",
       "  </thead>\n",
       "  <tbody>\n",
       "    <tr>\n",
       "      <th>no_company_profile</th>\n",
       "      <td>0</td>\n",
       "      <td>[1]</td>\n",
       "      <td>0.186204</td>\n",
       "      <td>0.170694</td>\n",
       "      <td>0.110365</td>\n",
       "      <td>459</td>\n",
       "      <td>2038</td>\n",
       "      <td>0.183821</td>\n",
       "    </tr>\n",
       "    <tr>\n",
       "      <th>suspicious_company</th>\n",
       "      <td>1</td>\n",
       "      <td>[1]</td>\n",
       "      <td>0.006861</td>\n",
       "      <td>0.005667</td>\n",
       "      <td>0.005667</td>\n",
       "      <td>92</td>\n",
       "      <td>0</td>\n",
       "      <td>1.000000</td>\n",
       "    </tr>\n",
       "    <tr>\n",
       "      <th>no_company_logo</th>\n",
       "      <td>2</td>\n",
       "      <td>[1]</td>\n",
       "      <td>0.205742</td>\n",
       "      <td>0.161894</td>\n",
       "      <td>0.101566</td>\n",
       "      <td>459</td>\n",
       "      <td>2300</td>\n",
       "      <td>0.166365</td>\n",
       "    </tr>\n",
       "    <tr>\n",
       "      <th>has_background_check</th>\n",
       "      <td>3</td>\n",
       "      <td>[0]</td>\n",
       "      <td>0.035496</td>\n",
       "      <td>0.032438</td>\n",
       "      <td>0.002759</td>\n",
       "      <td>464</td>\n",
       "      <td>12</td>\n",
       "      <td>0.974790</td>\n",
       "    </tr>\n",
       "    <tr>\n",
       "      <th>required_experience</th>\n",
       "      <td>4</td>\n",
       "      <td>[0]</td>\n",
       "      <td>0.607010</td>\n",
       "      <td>0.507755</td>\n",
       "      <td>0.119165</td>\n",
       "      <td>7809</td>\n",
       "      <td>331</td>\n",
       "      <td>0.959337</td>\n",
       "    </tr>\n",
       "    <tr>\n",
       "      <th>required_education</th>\n",
       "      <td>5</td>\n",
       "      <td>[0]</td>\n",
       "      <td>0.551603</td>\n",
       "      <td>0.489485</td>\n",
       "      <td>0.101790</td>\n",
       "      <td>7075</td>\n",
       "      <td>322</td>\n",
       "      <td>0.956469</td>\n",
       "    </tr>\n",
       "  </tbody>\n",
       "</table>\n",
       "</div>"
      ],
      "text/plain": [
       "                      j Polarity  Coverage  Overlaps  Conflicts  Correct  \\\n",
       "no_company_profile    0      [1]  0.186204  0.170694   0.110365      459   \n",
       "suspicious_company    1      [1]  0.006861  0.005667   0.005667       92   \n",
       "no_company_logo       2      [1]  0.205742  0.161894   0.101566      459   \n",
       "has_background_check  3      [0]  0.035496  0.032438   0.002759      464   \n",
       "required_experience   4      [0]  0.607010  0.507755   0.119165     7809   \n",
       "required_education    5      [0]  0.551603  0.489485   0.101790     7075   \n",
       "\n",
       "                      Incorrect  Emp. Acc.  \n",
       "no_company_profile         2038   0.183821  \n",
       "suspicious_company            0   1.000000  \n",
       "no_company_logo            2300   0.166365  \n",
       "has_background_check         12   0.974790  \n",
       "required_experience         331   0.959337  \n",
       "required_education          322   0.956469  "
      ]
     },
     "execution_count": 166,
     "metadata": {},
     "output_type": "execute_result"
    },
    {
     "data": {
      "application/javascript": [
       "\n",
       "            setTimeout(function() {\n",
       "                var nbb_cell_id = 166;\n",
       "                var nbb_unformatted_code = \"LFAnalysis(L=L_train, lfs=lfs).lf_summary(Y=train_df.fraudulent.values)\";\n",
       "                var nbb_formatted_code = \"LFAnalysis(L=L_train, lfs=lfs).lf_summary(Y=train_df.fraudulent.values)\";\n",
       "                var nbb_cells = Jupyter.notebook.get_cells();\n",
       "                for (var i = 0; i < nbb_cells.length; ++i) {\n",
       "                    if (nbb_cells[i].input_prompt_number == nbb_cell_id) {\n",
       "                        if (nbb_cells[i].get_text() == nbb_unformatted_code) {\n",
       "                             nbb_cells[i].set_text(nbb_formatted_code);\n",
       "                        }\n",
       "                        break;\n",
       "                    }\n",
       "                }\n",
       "            }, 500);\n",
       "            "
      ],
      "text/plain": [
       "<IPython.core.display.Javascript object>"
      ]
     },
     "metadata": {},
     "output_type": "display_data"
    }
   ],
   "source": [
    "LFAnalysis(L=L_train, lfs=lfs).lf_summary(Y=train_df.fraudulent.values)"
   ]
  },
  {
   "cell_type": "markdown",
   "id": "6bda30b0",
   "metadata": {},
   "source": [
    "## Evaluate Conflicts"
   ]
  },
  {
   "cell_type": "code",
   "execution_count": 167,
   "id": "f125bae8",
   "metadata": {
    "ExecuteTime": {
     "end_time": "2022-01-29T16:56:00.911079Z",
     "start_time": "2022-01-29T16:56:00.895810Z"
    }
   },
   "outputs": [
    {
     "data": {
      "text/html": [
       "<div>\n",
       "<style scoped>\n",
       "    .dataframe tbody tr th:only-of-type {\n",
       "        vertical-align: middle;\n",
       "    }\n",
       "\n",
       "    .dataframe tbody tr th {\n",
       "        vertical-align: top;\n",
       "    }\n",
       "\n",
       "    .dataframe thead th {\n",
       "        text-align: right;\n",
       "    }\n",
       "</style>\n",
       "<table border=\"1\" class=\"dataframe\">\n",
       "  <thead>\n",
       "    <tr style=\"text-align: right;\">\n",
       "      <th></th>\n",
       "      <th>has_company_logo</th>\n",
       "      <th>required_experience</th>\n",
       "      <th>fraudulent</th>\n",
       "    </tr>\n",
       "  </thead>\n",
       "  <tbody>\n",
       "    <tr>\n",
       "      <th>16877</th>\n",
       "      <td>0</td>\n",
       "      <td>Mid-Senior level</td>\n",
       "      <td>0</td>\n",
       "    </tr>\n",
       "    <tr>\n",
       "      <th>17068</th>\n",
       "      <td>0</td>\n",
       "      <td>Mid-Senior level</td>\n",
       "      <td>0</td>\n",
       "    </tr>\n",
       "    <tr>\n",
       "      <th>16816</th>\n",
       "      <td>0</td>\n",
       "      <td>Mid-Senior level</td>\n",
       "      <td>0</td>\n",
       "    </tr>\n",
       "    <tr>\n",
       "      <th>12186</th>\n",
       "      <td>0</td>\n",
       "      <td>Not Applicable</td>\n",
       "      <td>0</td>\n",
       "    </tr>\n",
       "    <tr>\n",
       "      <th>16808</th>\n",
       "      <td>0</td>\n",
       "      <td>Mid-Senior level</td>\n",
       "      <td>0</td>\n",
       "    </tr>\n",
       "    <tr>\n",
       "      <th>678</th>\n",
       "      <td>0</td>\n",
       "      <td>Not Applicable</td>\n",
       "      <td>0</td>\n",
       "    </tr>\n",
       "    <tr>\n",
       "      <th>3706</th>\n",
       "      <td>0</td>\n",
       "      <td>Entry level</td>\n",
       "      <td>0</td>\n",
       "    </tr>\n",
       "    <tr>\n",
       "      <th>14150</th>\n",
       "      <td>0</td>\n",
       "      <td>Entry level</td>\n",
       "      <td>0</td>\n",
       "    </tr>\n",
       "    <tr>\n",
       "      <th>2199</th>\n",
       "      <td>0</td>\n",
       "      <td>Entry level</td>\n",
       "      <td>0</td>\n",
       "    </tr>\n",
       "    <tr>\n",
       "      <th>4411</th>\n",
       "      <td>0</td>\n",
       "      <td>Entry level</td>\n",
       "      <td>0</td>\n",
       "    </tr>\n",
       "  </tbody>\n",
       "</table>\n",
       "</div>"
      ],
      "text/plain": [
       "       has_company_logo required_experience  fraudulent\n",
       "16877                 0    Mid-Senior level           0\n",
       "17068                 0    Mid-Senior level           0\n",
       "16816                 0    Mid-Senior level           0\n",
       "12186                 0      Not Applicable           0\n",
       "16808                 0    Mid-Senior level           0\n",
       "678                   0      Not Applicable           0\n",
       "3706                  0         Entry level           0\n",
       "14150                 0         Entry level           0\n",
       "2199                  0         Entry level           0\n",
       "4411                  0         Entry level           0"
      ]
     },
     "execution_count": 167,
     "metadata": {},
     "output_type": "execute_result"
    },
    {
     "data": {
      "application/javascript": [
       "\n",
       "            setTimeout(function() {\n",
       "                var nbb_cell_id = 167;\n",
       "                var nbb_unformatted_code = \"from snorkel.analysis import get_label_buckets\\n\\nbuckets = get_label_buckets(L_train[:, 2], L_train[:, 4])\\n\\nres = train_df.iloc[buckets[(FAKE, REAL)]].sample(10, random_state=1)[\\n    [\\\"has_company_logo\\\", \\\"required_experience\\\", \\\"fraudulent\\\"]\\n]\\n\\nres\";\n",
       "                var nbb_formatted_code = \"from snorkel.analysis import get_label_buckets\\n\\nbuckets = get_label_buckets(L_train[:, 2], L_train[:, 4])\\n\\nres = train_df.iloc[buckets[(FAKE, REAL)]].sample(10, random_state=1)[\\n    [\\\"has_company_logo\\\", \\\"required_experience\\\", \\\"fraudulent\\\"]\\n]\\n\\nres\";\n",
       "                var nbb_cells = Jupyter.notebook.get_cells();\n",
       "                for (var i = 0; i < nbb_cells.length; ++i) {\n",
       "                    if (nbb_cells[i].input_prompt_number == nbb_cell_id) {\n",
       "                        if (nbb_cells[i].get_text() == nbb_unformatted_code) {\n",
       "                             nbb_cells[i].set_text(nbb_formatted_code);\n",
       "                        }\n",
       "                        break;\n",
       "                    }\n",
       "                }\n",
       "            }, 500);\n",
       "            "
      ],
      "text/plain": [
       "<IPython.core.display.Javascript object>"
      ]
     },
     "metadata": {},
     "output_type": "display_data"
    }
   ],
   "source": [
    "from snorkel.analysis import get_label_buckets\n",
    "\n",
    "buckets = get_label_buckets(L_train[:, 2], L_train[:, 4])\n",
    "\n",
    "res = train_df.iloc[buckets[(FAKE, REAL)]].sample(10, random_state=1)[\n",
    "    [\"has_company_logo\", \"required_experience\", \"fraudulent\"]\n",
    "]\n",
    "\n",
    "res"
   ]
  },
  {
   "cell_type": "markdown",
   "id": "7719b091",
   "metadata": {},
   "source": [
    "# Combine Predictions"
   ]
  },
  {
   "cell_type": "markdown",
   "id": "361af62b",
   "metadata": {},
   "source": [
    "## MajorityLabelVoter"
   ]
  },
  {
   "cell_type": "code",
   "execution_count": 168,
   "id": "e0a76c03",
   "metadata": {
    "ExecuteTime": {
     "end_time": "2022-01-29T16:56:01.062252Z",
     "start_time": "2022-01-29T16:56:00.911815Z"
    }
   },
   "outputs": [
    {
     "data": {
      "application/javascript": [
       "\n",
       "            setTimeout(function() {\n",
       "                var nbb_cell_id = 168;\n",
       "                var nbb_unformatted_code = \"from snorkel.labeling.model import MajorityLabelVoter\\n\\nmajority_model = MajorityLabelVoter()\\npreds_train = majority_model.predict(L=L_train)\";\n",
       "                var nbb_formatted_code = \"from snorkel.labeling.model import MajorityLabelVoter\\n\\nmajority_model = MajorityLabelVoter()\\npreds_train = majority_model.predict(L=L_train)\";\n",
       "                var nbb_cells = Jupyter.notebook.get_cells();\n",
       "                for (var i = 0; i < nbb_cells.length; ++i) {\n",
       "                    if (nbb_cells[i].input_prompt_number == nbb_cell_id) {\n",
       "                        if (nbb_cells[i].get_text() == nbb_unformatted_code) {\n",
       "                             nbb_cells[i].set_text(nbb_formatted_code);\n",
       "                        }\n",
       "                        break;\n",
       "                    }\n",
       "                }\n",
       "            }, 500);\n",
       "            "
      ],
      "text/plain": [
       "<IPython.core.display.Javascript object>"
      ]
     },
     "metadata": {},
     "output_type": "display_data"
    }
   ],
   "source": [
    "from snorkel.labeling.model import MajorityLabelVoter\n",
    "\n",
    "majority_model = MajorityLabelVoter()\n",
    "preds_train = majority_model.predict(L=L_train)"
   ]
  },
  {
   "cell_type": "markdown",
   "id": "9476c6af",
   "metadata": {},
   "source": [
    "## LabelModel"
   ]
  },
  {
   "cell_type": "code",
   "execution_count": 174,
   "id": "2878b33b",
   "metadata": {
    "ExecuteTime": {
     "end_time": "2022-01-29T17:31:06.819288Z",
     "start_time": "2022-01-29T17:31:06.490833Z"
    }
   },
   "outputs": [
    {
     "name": "stderr",
     "output_type": "stream",
     "text": [
      "INFO:root:Computing O...\n",
      "INFO:root:Estimating \\mu...\n",
      "  0%|                               | 0/500 [00:00<?, ?epoch/s]INFO:root:[0 epochs]: TRAIN:[loss=0.841]\n",
      "INFO:root:[100 epochs]: TRAIN:[loss=0.012]\n",
      " 22%|████▏              | 109/500 [00:00<00:00, 1087.56epoch/s]INFO:root:[200 epochs]: TRAIN:[loss=0.011]\n",
      "INFO:root:[300 epochs]: TRAIN:[loss=0.010]\n",
      " 61%|███████████▋       | 307/500 [00:00<00:00, 1610.15epoch/s]INFO:root:[400 epochs]: TRAIN:[loss=0.010]\n",
      "100%|███████████████████| 500/500 [00:00<00:00, 1683.12epoch/s]\n",
      "INFO:root:Finished Training\n"
     ]
    },
    {
     "data": {
      "application/javascript": [
       "\n",
       "            setTimeout(function() {\n",
       "                var nbb_cell_id = 174;\n",
       "                var nbb_unformatted_code = \"from snorkel.labeling.model import LabelModel\\n\\nlabel_model = LabelModel(cardinality=2, verbose=True)\\npredictions = label_model.fit(L_train=L_train, n_epochs=500, log_freq=100, seed=1)\";\n",
       "                var nbb_formatted_code = \"from snorkel.labeling.model import LabelModel\\n\\nlabel_model = LabelModel(cardinality=2, verbose=True)\\npredictions = label_model.fit(L_train=L_train, n_epochs=500, log_freq=100, seed=1)\";\n",
       "                var nbb_cells = Jupyter.notebook.get_cells();\n",
       "                for (var i = 0; i < nbb_cells.length; ++i) {\n",
       "                    if (nbb_cells[i].input_prompt_number == nbb_cell_id) {\n",
       "                        if (nbb_cells[i].get_text() == nbb_unformatted_code) {\n",
       "                             nbb_cells[i].set_text(nbb_formatted_code);\n",
       "                        }\n",
       "                        break;\n",
       "                    }\n",
       "                }\n",
       "            }, 500);\n",
       "            "
      ],
      "text/plain": [
       "<IPython.core.display.Javascript object>"
      ]
     },
     "metadata": {},
     "output_type": "display_data"
    }
   ],
   "source": [
    "from snorkel.labeling.model import LabelModel\n",
    "\n",
    "label_model = LabelModel(cardinality=2, verbose=True)\n",
    "label_model.fit(L_train=L_train, n_epochs=500, log_freq=100, seed=1)\n"
   ]
  },
  {
   "cell_type": "code",
   "execution_count": 170,
   "id": "e620fa49",
   "metadata": {
    "ExecuteTime": {
     "end_time": "2022-01-29T16:56:01.634273Z",
     "start_time": "2022-01-29T16:56:01.311516Z"
    }
   },
   "outputs": [
    {
     "name": "stderr",
     "output_type": "stream",
     "text": [
      "100%|███████████████████| 4470/4470 [00:00<00:00, 14329.87it/s]\n"
     ]
    },
    {
     "data": {
      "application/javascript": [
       "\n",
       "            setTimeout(function() {\n",
       "                var nbb_cell_id = 170;\n",
       "                var nbb_unformatted_code = \"L_test = applier.apply(df=test_df)\";\n",
       "                var nbb_formatted_code = \"L_test = applier.apply(df=test_df)\";\n",
       "                var nbb_cells = Jupyter.notebook.get_cells();\n",
       "                for (var i = 0; i < nbb_cells.length; ++i) {\n",
       "                    if (nbb_cells[i].input_prompt_number == nbb_cell_id) {\n",
       "                        if (nbb_cells[i].get_text() == nbb_unformatted_code) {\n",
       "                             nbb_cells[i].set_text(nbb_formatted_code);\n",
       "                        }\n",
       "                        break;\n",
       "                    }\n",
       "                }\n",
       "            }, 500);\n",
       "            "
      ],
      "text/plain": [
       "<IPython.core.display.Javascript object>"
      ]
     },
     "metadata": {},
     "output_type": "display_data"
    }
   ],
   "source": [
    "L_test = applier.apply(df=test_df)"
   ]
  },
  {
   "cell_type": "code",
   "execution_count": 171,
   "id": "47337f19",
   "metadata": {
    "ExecuteTime": {
     "end_time": "2022-01-29T16:56:01.639036Z",
     "start_time": "2022-01-29T16:56:01.635129Z"
    }
   },
   "outputs": [
    {
     "data": {
      "application/javascript": [
       "\n",
       "            setTimeout(function() {\n",
       "                var nbb_cell_id = 171;\n",
       "                var nbb_unformatted_code = \"Y_train = train_df[\\\"fraudulent\\\"]\\nY_test = test_df[\\\"fraudulent\\\"]\";\n",
       "                var nbb_formatted_code = \"Y_train = train_df[\\\"fraudulent\\\"]\\nY_test = test_df[\\\"fraudulent\\\"]\";\n",
       "                var nbb_cells = Jupyter.notebook.get_cells();\n",
       "                for (var i = 0; i < nbb_cells.length; ++i) {\n",
       "                    if (nbb_cells[i].input_prompt_number == nbb_cell_id) {\n",
       "                        if (nbb_cells[i].get_text() == nbb_unformatted_code) {\n",
       "                             nbb_cells[i].set_text(nbb_formatted_code);\n",
       "                        }\n",
       "                        break;\n",
       "                    }\n",
       "                }\n",
       "            }, 500);\n",
       "            "
      ],
      "text/plain": [
       "<IPython.core.display.Javascript object>"
      ]
     },
     "metadata": {},
     "output_type": "display_data"
    }
   ],
   "source": [
    "Y_train = train_df[\"fraudulent\"]\n",
    "Y_test = test_df[\"fraudulent\"]"
   ]
  },
  {
   "cell_type": "code",
   "execution_count": 172,
   "id": "36b5ece3",
   "metadata": {
    "ExecuteTime": {
     "end_time": "2022-01-29T16:56:01.700819Z",
     "start_time": "2022-01-29T16:56:01.639941Z"
    }
   },
   "outputs": [
    {
     "name": "stderr",
     "output_type": "stream",
     "text": [
      "WARNING:root:Metrics calculated over data points with non-abstain labels only\n"
     ]
    },
    {
     "name": "stdout",
     "output_type": "stream",
     "text": [
      "Majority Vote Accuracy:   80.8%\n"
     ]
    },
    {
     "data": {
      "application/javascript": [
       "\n",
       "            setTimeout(function() {\n",
       "                var nbb_cell_id = 172;\n",
       "                var nbb_unformatted_code = \"majority_acc = majority_model.score(\\n    L=L_test,\\n    Y=Y_test,\\n)[\\\"accuracy\\\"]\\nprint(f\\\"{'Majority Vote Accuracy:':<25} {majority_acc * 100:.1f}%\\\")\";\n",
       "                var nbb_formatted_code = \"majority_acc = majority_model.score(\\n    L=L_test,\\n    Y=Y_test,\\n)[\\\"accuracy\\\"]\\nprint(f\\\"{'Majority Vote Accuracy:':<25} {majority_acc * 100:.1f}%\\\")\";\n",
       "                var nbb_cells = Jupyter.notebook.get_cells();\n",
       "                for (var i = 0; i < nbb_cells.length; ++i) {\n",
       "                    if (nbb_cells[i].input_prompt_number == nbb_cell_id) {\n",
       "                        if (nbb_cells[i].get_text() == nbb_unformatted_code) {\n",
       "                             nbb_cells[i].set_text(nbb_formatted_code);\n",
       "                        }\n",
       "                        break;\n",
       "                    }\n",
       "                }\n",
       "            }, 500);\n",
       "            "
      ],
      "text/plain": [
       "<IPython.core.display.Javascript object>"
      ]
     },
     "metadata": {},
     "output_type": "display_data"
    }
   ],
   "source": [
    "majority_acc = majority_model.score(\n",
    "    L=L_test,\n",
    "    Y=Y_test,\n",
    ")[\"accuracy\"]\n",
    "print(f\"{'Majority Vote Accuracy:':<25} {majority_acc * 100:.1f}%\")"
   ]
  },
  {
   "cell_type": "code",
   "execution_count": 173,
   "id": "42dbb8c6",
   "metadata": {
    "ExecuteTime": {
     "end_time": "2022-01-29T16:56:01.726435Z",
     "start_time": "2022-01-29T16:56:01.701555Z"
    }
   },
   "outputs": [
    {
     "name": "stderr",
     "output_type": "stream",
     "text": [
      "WARNING:root:Metrics calculated over data points with non-abstain labels only\n"
     ]
    },
    {
     "name": "stdout",
     "output_type": "stream",
     "text": [
      "Label Model Accuracy:     71.9%\n"
     ]
    },
    {
     "data": {
      "application/javascript": [
       "\n",
       "            setTimeout(function() {\n",
       "                var nbb_cell_id = 173;\n",
       "                var nbb_unformatted_code = \"label_model_acc = label_model.score(L=L_test, Y=Y_test)[\\\"accuracy\\\"]\\nprint(f\\\"{'Label Model Accuracy:':<25} {label_model_acc * 100:.1f}%\\\")\";\n",
       "                var nbb_formatted_code = \"label_model_acc = label_model.score(L=L_test, Y=Y_test)[\\\"accuracy\\\"]\\nprint(f\\\"{'Label Model Accuracy:':<25} {label_model_acc * 100:.1f}%\\\")\";\n",
       "                var nbb_cells = Jupyter.notebook.get_cells();\n",
       "                for (var i = 0; i < nbb_cells.length; ++i) {\n",
       "                    if (nbb_cells[i].input_prompt_number == nbb_cell_id) {\n",
       "                        if (nbb_cells[i].get_text() == nbb_unformatted_code) {\n",
       "                             nbb_cells[i].set_text(nbb_formatted_code);\n",
       "                        }\n",
       "                        break;\n",
       "                    }\n",
       "                }\n",
       "            }, 500);\n",
       "            "
      ],
      "text/plain": [
       "<IPython.core.display.Javascript object>"
      ]
     },
     "metadata": {},
     "output_type": "display_data"
    }
   ],
   "source": [
    "label_model_acc = label_model.score(L=L_test, Y=Y_test)[\"accuracy\"]\n",
    "print(f\"{'Label Model Accuracy:':<25} {label_model_acc * 100:.1f}%\")"
   ]
  }
 ],
 "metadata": {
  "kernelspec": {
   "display_name": "Python 3 (ipykernel)",
   "language": "python",
   "name": "python3"
  },
  "language_info": {
   "codemirror_mode": {
    "name": "ipython",
    "version": 3
   },
   "file_extension": ".py",
   "mimetype": "text/x-python",
   "name": "python",
   "nbconvert_exporter": "python",
   "pygments_lexer": "ipython3",
   "version": "3.8.10"
  },
  "toc": {
   "base_numbering": 1,
   "nav_menu": {},
   "number_sections": true,
   "sideBar": true,
   "skip_h1_title": false,
   "title_cell": "Table of Contents",
   "title_sidebar": "Contents",
   "toc_cell": false,
   "toc_position": {},
   "toc_section_display": true,
   "toc_window_display": false
  }
 },
 "nbformat": 4,
 "nbformat_minor": 5
}
