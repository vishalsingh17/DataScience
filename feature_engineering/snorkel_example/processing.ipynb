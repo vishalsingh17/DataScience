{
 "cells": [
  {
   "cell_type": "code",
   "execution_count": null,
   "id": "150b16bd",
   "metadata": {},
   "outputs": [],
   "source": [
    "!pip install texthero"
   ]
  },
  {
   "cell_type": "code",
   "execution_count": 54,
   "id": "30ca7316",
   "metadata": {
    "ExecuteTime": {
     "end_time": "2022-01-27T19:56:44.567505Z",
     "start_time": "2022-01-27T19:56:44.550986Z"
    }
   },
   "outputs": [
    {
     "data": {
      "application/javascript": "\n            setTimeout(function() {\n                var nbb_cell_id = 54;\n                var nbb_unformatted_code = \"import pandas as pd\\nfrom texthero import remove_whitespace\\nfrom sklearn.model_selection import train_test_split\";\n                var nbb_formatted_code = \"import pandas as pd\\nfrom texthero import remove_whitespace\\nfrom sklearn.model_selection import train_test_split\";\n                var nbb_cells = Jupyter.notebook.get_cells();\n                for (var i = 0; i < nbb_cells.length; ++i) {\n                    if (nbb_cells[i].input_prompt_number == nbb_cell_id) {\n                        if (nbb_cells[i].get_text() == nbb_unformatted_code) {\n                             nbb_cells[i].set_text(nbb_formatted_code);\n                        }\n                        break;\n                    }\n                }\n            }, 500);\n            ",
      "text/plain": [
       "<IPython.core.display.Javascript object>"
      ]
     },
     "metadata": {},
     "output_type": "display_data"
    }
   ],
   "source": [
    "import pandas as pd\n",
    "from texthero import remove_whitespace\n",
    "from sklearn.model_selection import train_test_split"
   ]
  },
  {
   "cell_type": "code",
   "execution_count": 59,
   "id": "998458e0",
   "metadata": {
    "ExecuteTime": {
     "end_time": "2022-01-27T19:57:16.011802Z",
     "start_time": "2022-01-27T19:57:15.605026Z"
    }
   },
   "outputs": [
    {
     "data": {
      "application/javascript": "\n            setTimeout(function() {\n                var nbb_cell_id = 59;\n                var nbb_unformatted_code = \"df = pd.read_csv(\\\"fake_job_postings.csv\\\")\";\n                var nbb_formatted_code = \"df = pd.read_csv(\\\"fake_job_postings.csv\\\")\";\n                var nbb_cells = Jupyter.notebook.get_cells();\n                for (var i = 0; i < nbb_cells.length; ++i) {\n                    if (nbb_cells[i].input_prompt_number == nbb_cell_id) {\n                        if (nbb_cells[i].get_text() == nbb_unformatted_code) {\n                             nbb_cells[i].set_text(nbb_formatted_code);\n                        }\n                        break;\n                    }\n                }\n            }, 500);\n            ",
      "text/plain": [
       "<IPython.core.display.Javascript object>"
      ]
     },
     "metadata": {},
     "output_type": "display_data"
    }
   ],
   "source": [
    "df = pd.read_csv(\"fake_job_postings.csv\")"
   ]
  },
  {
   "cell_type": "code",
   "execution_count": 56,
   "id": "cf7e8134",
   "metadata": {
    "ExecuteTime": {
     "end_time": "2022-01-27T19:57:11.516737Z",
     "start_time": "2022-01-27T19:57:11.499648Z"
    }
   },
   "outputs": [
    {
     "data": {
      "application/javascript": "\n            setTimeout(function() {\n                var nbb_cell_id = 56;\n                var nbb_unformatted_code = \"from bs4 import BeautifulSoup\\n\\n\\ndef remove_html(html_str: str):\\n    if isinstance(html_str, str):\\n        soup = BeautifulSoup(html_str)\\n        return soup.get_text().replace(u\\\"\\\\xa0\\\", u\\\" \\\")\\n    else:\\n        return html_str\";\n                var nbb_formatted_code = \"from bs4 import BeautifulSoup\\n\\n\\ndef remove_html(html_str: str):\\n    if isinstance(html_str, str):\\n        soup = BeautifulSoup(html_str)\\n        return soup.get_text().replace(u\\\"\\\\xa0\\\", u\\\" \\\")\\n    else:\\n        return html_str\";\n                var nbb_cells = Jupyter.notebook.get_cells();\n                for (var i = 0; i < nbb_cells.length; ++i) {\n                    if (nbb_cells[i].input_prompt_number == nbb_cell_id) {\n                        if (nbb_cells[i].get_text() == nbb_unformatted_code) {\n                             nbb_cells[i].set_text(nbb_formatted_code);\n                        }\n                        break;\n                    }\n                }\n            }, 500);\n            ",
      "text/plain": [
       "<IPython.core.display.Javascript object>"
      ]
     },
     "metadata": {},
     "output_type": "display_data"
    }
   ],
   "source": [
    "from bs4 import BeautifulSoup\n",
    "\n",
    "\n",
    "def remove_html(html_str: str):\n",
    "    if isinstance(html_str, str):\n",
    "        soup = BeautifulSoup(html_str)\n",
    "        return soup.get_text().replace(u\"\\xa0\", u\" \")\n",
    "    else:\n",
    "        return html_str"
   ]
  },
  {
   "cell_type": "code",
   "execution_count": 58,
   "id": "de621a7d",
   "metadata": {
    "ExecuteTime": {
     "end_time": "2022-01-27T19:57:13.282703Z",
     "start_time": "2022-01-27T19:57:13.273547Z"
    }
   },
   "outputs": [
    {
     "data": {
      "application/javascript": "\n            setTimeout(function() {\n                var nbb_cell_id = 58;\n                var nbb_unformatted_code = \"import re\\n\\n\\ndef lower_abbreviated(text: str):\\n\\n    if isinstance(text, str):\\n        return \\\" \\\".join(\\n            [\\n                word.lower() if word.isupper() or word.startswith(\\\"#\\\") else word\\n                for word in re.split(\\\" \\\", text)\\n            ]\\n        )\\n    else:\\n        return text\";\n                var nbb_formatted_code = \"import re\\n\\n\\ndef lower_abbreviated(text: str):\\n\\n    if isinstance(text, str):\\n        return \\\" \\\".join(\\n            [\\n                word.lower() if word.isupper() or word.startswith(\\\"#\\\") else word\\n                for word in re.split(\\\" \\\", text)\\n            ]\\n        )\\n    else:\\n        return text\";\n                var nbb_cells = Jupyter.notebook.get_cells();\n                for (var i = 0; i < nbb_cells.length; ++i) {\n                    if (nbb_cells[i].input_prompt_number == nbb_cell_id) {\n                        if (nbb_cells[i].get_text() == nbb_unformatted_code) {\n                             nbb_cells[i].set_text(nbb_formatted_code);\n                        }\n                        break;\n                    }\n                }\n            }, 500);\n            ",
      "text/plain": [
       "<IPython.core.display.Javascript object>"
      ]
     },
     "metadata": {},
     "output_type": "display_data"
    }
   ],
   "source": [
    "import re\n",
    "\n",
    "\n",
    "def lower_abbreviated(text: str):\n",
    "\n",
    "    if isinstance(text, str):\n",
    "        return \" \".join(\n",
    "            [\n",
    "                word.lower() if word.isupper() or word.startswith(\"#\") else word\n",
    "                for word in re.split(\" \", text)\n",
    "            ]\n",
    "        )\n",
    "    else:\n",
    "        return text"
   ]
  },
  {
   "cell_type": "code",
   "execution_count": 41,
   "id": "0e49286d",
   "metadata": {
    "ExecuteTime": {
     "end_time": "2022-01-27T19:38:56.444726Z",
     "start_time": "2022-01-27T19:38:56.423574Z"
    }
   },
   "outputs": [
    {
     "data": {
      "application/javascript": "\n            setTimeout(function() {\n                var nbb_cell_id = 41;\n                var nbb_unformatted_code = \"def split_on_uppercase(text: str):\\n    if isinstance(text, str):\\n        text_list = [s for s in re.split(\\\"([A-Z][^A-Z]*)\\\", text) if s]\\n        return \\\" \\\".join(text_list)\\n    else:\\n        return text\";\n                var nbb_formatted_code = \"def split_on_uppercase(text: str):\\n    if isinstance(text, str):\\n        text_list = [s for s in re.split(\\\"([A-Z][^A-Z]*)\\\", text) if s]\\n        return \\\" \\\".join(text_list)\\n    else:\\n        return text\";\n                var nbb_cells = Jupyter.notebook.get_cells();\n                for (var i = 0; i < nbb_cells.length; ++i) {\n                    if (nbb_cells[i].input_prompt_number == nbb_cell_id) {\n                        if (nbb_cells[i].get_text() == nbb_unformatted_code) {\n                             nbb_cells[i].set_text(nbb_formatted_code);\n                        }\n                        break;\n                    }\n                }\n            }, 500);\n            ",
      "text/plain": [
       "<IPython.core.display.Javascript object>"
      ]
     },
     "metadata": {},
     "output_type": "display_data"
    }
   ],
   "source": [
    "def split_on_uppercase(text: str):\n",
    "    if isinstance(text, str):\n",
    "        text_list = [s for s in re.split(\"([A-Z][^A-Z]*)\", text) if s]\n",
    "        return \" \".join(text_list)\n",
    "    else:\n",
    "        return text"
   ]
  },
  {
   "cell_type": "code",
   "execution_count": 60,
   "id": "58713369",
   "metadata": {
    "ExecuteTime": {
     "end_time": "2022-01-27T19:57:21.528859Z",
     "start_time": "2022-01-27T19:57:18.977260Z"
    }
   },
   "outputs": [
    {
     "name": "stderr",
     "output_type": "stream",
     "text": [
      "/home/khuyen/Data-science/venv/lib/python3.8/site-packages/bs4/__init__.py:332: MarkupResemblesLocatorWarning: \".\" looks like a filename, not markup. You should probably open this file and pass the filehandle into Beautiful Soup.\n",
      "  warnings.warn(\n"
     ]
    },
    {
     "data": {
      "application/javascript": "\n            setTimeout(function() {\n                var nbb_cell_id = 60;\n                var nbb_unformatted_code = \"df[\\\"requirements\\\"] = (\\n    df[\\\"requirements\\\"]\\n    .apply(remove_html)\\n    .apply(lower_abbreviated)\\n    .apply(split_on_uppercase)\\n    .fillna(\\\"\\\")\\n)\";\n                var nbb_formatted_code = \"df[\\\"requirements\\\"] = (\\n    df[\\\"requirements\\\"]\\n    .apply(remove_html)\\n    .apply(lower_abbreviated)\\n    .apply(split_on_uppercase)\\n    .fillna(\\\"\\\")\\n)\";\n                var nbb_cells = Jupyter.notebook.get_cells();\n                for (var i = 0; i < nbb_cells.length; ++i) {\n                    if (nbb_cells[i].input_prompt_number == nbb_cell_id) {\n                        if (nbb_cells[i].get_text() == nbb_unformatted_code) {\n                             nbb_cells[i].set_text(nbb_formatted_code);\n                        }\n                        break;\n                    }\n                }\n            }, 500);\n            ",
      "text/plain": [
       "<IPython.core.display.Javascript object>"
      ]
     },
     "metadata": {},
     "output_type": "display_data"
    }
   ],
   "source": [
    "df[\"requirements\"] = (\n",
    "    df[\"requirements\"]\n",
    "    .apply(remove_html)\n",
    "    .apply(lower_abbreviated)\n",
    "    .apply(split_on_uppercase)\n",
    "    .fillna(\"\")\n",
    ")\n"
   ]
  },
  {
   "cell_type": "code",
   "execution_count": 61,
   "id": "67d1a870",
   "metadata": {
    "ExecuteTime": {
     "end_time": "2022-01-27T19:57:24.027330Z",
     "start_time": "2022-01-27T19:57:21.529931Z"
    }
   },
   "outputs": [
    {
     "data": {
      "application/javascript": "\n            setTimeout(function() {\n                var nbb_cell_id = 61;\n                var nbb_unformatted_code = \"df[\\\"company_profile\\\"] = (\\n    df[\\\"company_profile\\\"]\\n    .apply(remove_html)\\n    .apply(lower_abbreviated)\\n    .apply(split_on_uppercase)\\n    .fillna(\\\"\\\")\\n)\";\n                var nbb_formatted_code = \"df[\\\"company_profile\\\"] = (\\n    df[\\\"company_profile\\\"]\\n    .apply(remove_html)\\n    .apply(lower_abbreviated)\\n    .apply(split_on_uppercase)\\n    .fillna(\\\"\\\")\\n)\";\n                var nbb_cells = Jupyter.notebook.get_cells();\n                for (var i = 0; i < nbb_cells.length; ++i) {\n                    if (nbb_cells[i].input_prompt_number == nbb_cell_id) {\n                        if (nbb_cells[i].get_text() == nbb_unformatted_code) {\n                             nbb_cells[i].set_text(nbb_formatted_code);\n                        }\n                        break;\n                    }\n                }\n            }, 500);\n            ",
      "text/plain": [
       "<IPython.core.display.Javascript object>"
      ]
     },
     "metadata": {},
     "output_type": "display_data"
    }
   ],
   "source": [
    "df[\"company_profile\"] = (\n",
    "    df[\"company_profile\"]\n",
    "    .apply(remove_html)\n",
    "    .apply(lower_abbreviated)\n",
    "    .apply(split_on_uppercase)\n",
    "    .fillna(\"\")\n",
    ")"
   ]
  },
  {
   "cell_type": "code",
   "execution_count": 64,
   "id": "2c1a2897",
   "metadata": {
    "ExecuteTime": {
     "end_time": "2022-01-27T19:58:00.204590Z",
     "start_time": "2022-01-27T19:57:59.615059Z"
    }
   },
   "outputs": [
    {
     "data": {
      "application/javascript": "\n            setTimeout(function() {\n                var nbb_cell_id = 64;\n                var nbb_unformatted_code = \"df.requirements = df.requirements.pipe(remove_whitespace)\\ndf.company_profile = df.company_profile.pipe(remove_whitespace)\";\n                var nbb_formatted_code = \"df.requirements = df.requirements.pipe(remove_whitespace)\\ndf.company_profile = df.company_profile.pipe(remove_whitespace)\";\n                var nbb_cells = Jupyter.notebook.get_cells();\n                for (var i = 0; i < nbb_cells.length; ++i) {\n                    if (nbb_cells[i].input_prompt_number == nbb_cell_id) {\n                        if (nbb_cells[i].get_text() == nbb_unformatted_code) {\n                             nbb_cells[i].set_text(nbb_formatted_code);\n                        }\n                        break;\n                    }\n                }\n            }, 500);\n            ",
      "text/plain": [
       "<IPython.core.display.Javascript object>"
      ]
     },
     "metadata": {},
     "output_type": "display_data"
    }
   ],
   "source": [
    "df.requirements = df.requirements.pipe(remove_whitespace)\n",
    "df.company_profile = df.company_profile.pipe(remove_whitespace)"
   ]
  },
  {
   "cell_type": "code",
   "execution_count": 65,
   "id": "ffdcdcb6",
   "metadata": {
    "ExecuteTime": {
     "end_time": "2022-01-27T19:58:02.423965Z",
     "start_time": "2022-01-27T19:58:02.394127Z"
    }
   },
   "outputs": [
    {
     "data": {
      "application/javascript": "\n            setTimeout(function() {\n                var nbb_cell_id = 65;\n                var nbb_unformatted_code = \"X, y = df.drop(columns=\\\"fraudulent\\\"), df[\\\"fraudulent\\\"]\";\n                var nbb_formatted_code = \"X, y = df.drop(columns=\\\"fraudulent\\\"), df[\\\"fraudulent\\\"]\";\n                var nbb_cells = Jupyter.notebook.get_cells();\n                for (var i = 0; i < nbb_cells.length; ++i) {\n                    if (nbb_cells[i].input_prompt_number == nbb_cell_id) {\n                        if (nbb_cells[i].get_text() == nbb_unformatted_code) {\n                             nbb_cells[i].set_text(nbb_formatted_code);\n                        }\n                        break;\n                    }\n                }\n            }, 500);\n            ",
      "text/plain": [
       "<IPython.core.display.Javascript object>"
      ]
     },
     "metadata": {},
     "output_type": "display_data"
    }
   ],
   "source": [
    "X, y = df.drop(columns=\"fraudulent\"), df[\"fraudulent\"]"
   ]
  },
  {
   "cell_type": "code",
   "execution_count": 66,
   "id": "bdc590c1",
   "metadata": {
    "ExecuteTime": {
     "end_time": "2022-01-27T19:58:02.862515Z",
     "start_time": "2022-01-27T19:58:02.830721Z"
    }
   },
   "outputs": [
    {
     "data": {
      "application/javascript": "\n            setTimeout(function() {\n                var nbb_cell_id = 66;\n                var nbb_unformatted_code = \"X_train, X_test, y_train, y_test = train_test_split(X, y, random_state=0)\";\n                var nbb_formatted_code = \"X_train, X_test, y_train, y_test = train_test_split(X, y, random_state=0)\";\n                var nbb_cells = Jupyter.notebook.get_cells();\n                for (var i = 0; i < nbb_cells.length; ++i) {\n                    if (nbb_cells[i].input_prompt_number == nbb_cell_id) {\n                        if (nbb_cells[i].get_text() == nbb_unformatted_code) {\n                             nbb_cells[i].set_text(nbb_formatted_code);\n                        }\n                        break;\n                    }\n                }\n            }, 500);\n            ",
      "text/plain": [
       "<IPython.core.display.Javascript object>"
      ]
     },
     "metadata": {},
     "output_type": "display_data"
    }
   ],
   "source": [
    "X_train, X_test, y_train, y_test = train_test_split(X, y, random_state=0)"
   ]
  },
  {
   "cell_type": "code",
   "execution_count": 67,
   "id": "630ecf4d",
   "metadata": {
    "ExecuteTime": {
     "end_time": "2022-01-27T19:58:03.244888Z",
     "start_time": "2022-01-27T19:58:03.209257Z"
    }
   },
   "outputs": [
    {
     "data": {
      "application/javascript": "\n            setTimeout(function() {\n                var nbb_cell_id = 67;\n                var nbb_unformatted_code = \"train = pd.concat([X_train, y_train], axis=1)\\ntest = pd.concat([X_test, y_test], axis=1)\";\n                var nbb_formatted_code = \"train = pd.concat([X_train, y_train], axis=1)\\ntest = pd.concat([X_test, y_test], axis=1)\";\n                var nbb_cells = Jupyter.notebook.get_cells();\n                for (var i = 0; i < nbb_cells.length; ++i) {\n                    if (nbb_cells[i].input_prompt_number == nbb_cell_id) {\n                        if (nbb_cells[i].get_text() == nbb_unformatted_code) {\n                             nbb_cells[i].set_text(nbb_formatted_code);\n                        }\n                        break;\n                    }\n                }\n            }, 500);\n            ",
      "text/plain": [
       "<IPython.core.display.Javascript object>"
      ]
     },
     "metadata": {},
     "output_type": "display_data"
    }
   ],
   "source": [
    "train = pd.concat([X_train, y_train], axis=1)\n",
    "test = pd.concat([X_test, y_test], axis=1)"
   ]
  },
  {
   "cell_type": "code",
   "execution_count": 68,
   "id": "fa304b47",
   "metadata": {
    "ExecuteTime": {
     "end_time": "2022-01-27T19:58:03.775311Z",
     "start_time": "2022-01-27T19:58:03.607236Z"
    }
   },
   "outputs": [
    {
     "data": {
      "application/javascript": "\n            setTimeout(function() {\n                var nbb_cell_id = 68;\n                var nbb_unformatted_code = \"train.to_pickle(\\\"train_fake_jobs.pkl\\\")\\ntest.to_pickle(\\\"test_fake_jobs.pkl\\\")\";\n                var nbb_formatted_code = \"train.to_pickle(\\\"train_fake_jobs.pkl\\\")\\ntest.to_pickle(\\\"test_fake_jobs.pkl\\\")\";\n                var nbb_cells = Jupyter.notebook.get_cells();\n                for (var i = 0; i < nbb_cells.length; ++i) {\n                    if (nbb_cells[i].input_prompt_number == nbb_cell_id) {\n                        if (nbb_cells[i].get_text() == nbb_unformatted_code) {\n                             nbb_cells[i].set_text(nbb_formatted_code);\n                        }\n                        break;\n                    }\n                }\n            }, 500);\n            ",
      "text/plain": [
       "<IPython.core.display.Javascript object>"
      ]
     },
     "metadata": {},
     "output_type": "display_data"
    }
   ],
   "source": [
    "train.to_pickle(\"train_fake_jobs.pkl\")\n",
    "test.to_pickle(\"test_fake_jobs.pkl\")"
   ]
  }
 ],
 "metadata": {
  "kernelspec": {
   "display_name": "Python 3 (ipykernel)",
   "language": "python",
   "name": "python3"
  },
  "language_info": {
   "codemirror_mode": {
    "name": "ipython",
    "version": 3
   },
   "file_extension": ".py",
   "mimetype": "text/x-python",
   "name": "python",
   "nbconvert_exporter": "python",
   "pygments_lexer": "ipython3",
   "version": "3.8.10"
  },
  "toc": {
   "base_numbering": 1,
   "nav_menu": {},
   "number_sections": true,
   "sideBar": true,
   "skip_h1_title": false,
   "title_cell": "Table of Contents",
   "title_sidebar": "Contents",
   "toc_cell": false,
   "toc_position": {},
   "toc_section_display": true,
   "toc_window_display": false
  }
 },
 "nbformat": 4,
 "nbformat_minor": 5
}
