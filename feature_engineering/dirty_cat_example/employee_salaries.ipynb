{
 "cells": [
  {
   "cell_type": "markdown",
   "source": "[![View on GitHub](https://img.shields.io/badge/GitHub-View_on_GitHub-blue?logo=GitHub)](https://github.com/khuyentran1401/Data-science/blob/master/feature_engineering/dirty_cat_example/employee_salaries.ipynb)\n\n[<img src=\"https://deepnote.com/buttons/launch-in-deepnote.svg\">](https://deepnote.com/project/Data-science-hxlyJpi-QrKFJziQgoMSmQ/%2FData-science%2Ffeature_engineering%2Fdirty_cat_example%2Femployee_salaries.ipynb)",
   "metadata": {
    "tags": [],
    "cell_id": "00000-0d1bb351-b2b9-452e-ac61-71c220e1516a",
    "deepnote_cell_type": "markdown"
   },
   "outputs": [],
   "execution_count": null
  },
  {
   "cell_type": "code",
   "source": "!pip install dirty_cat==0.1.0",
   "metadata": {
    "tags": [],
    "cell_id": "00001-9e493fdd-47cd-4063-8e06-70a9d8a4024c",
    "deepnote_to_be_reexecuted": false,
    "source_hash": "d55a34bc",
    "execution_start": 1634005693783,
    "execution_millis": 3398,
    "output_cleared": true,
    "deepnote_cell_type": "code"
   },
   "outputs": [],
   "execution_count": null
  },
  {
   "cell_type": "code",
   "source": "%load_ext watermark\n%watermark --iversions",
   "metadata": {
    "tags": [],
    "cell_id": "00002-be7d30eb-eb94-4f08-bf02-f8563ea79e5d",
    "deepnote_to_be_reexecuted": false,
    "source_hash": "2c397fdc",
    "execution_start": 1634005803466,
    "execution_millis": 17,
    "deepnote_cell_type": "code"
   },
   "outputs": [
    {
     "name": "stdout",
     "text": "The watermark extension is already loaded. To reload it, use:\n  %reload_ext watermark\npandas  : 1.2.5\nnumpy   : 1.19.5\nseaborn : 0.11.2\npsycopg2: 2.9.1 (dt dec pq3 ext lo64)\n\n",
     "output_type": "stream"
    }
   ],
   "execution_count": null
  },
  {
   "cell_type": "markdown",
   "source": "# Import data",
   "metadata": {
    "cell_id": "00000-dae778d4-343f-4a7e-aab7-f262f56edb2c",
    "deepnote_cell_type": "markdown"
   }
  },
  {
   "cell_type": "code",
   "metadata": {
    "ExecuteTime": {
     "end_time": "2021-05-02T23:10:30.345845Z",
     "start_time": "2021-05-02T23:10:27.843477Z"
    },
    "cell_id": "00001-a6f27d5f-01f5-496c-875f-a33e813f4358",
    "deepnote_to_be_reexecuted": false,
    "source_hash": "21ff7199",
    "execution_start": 1634005796229,
    "execution_millis": 1,
    "deepnote_cell_type": "code"
   },
   "source": "from dirty_cat.datasets import fetch_employee_salaries\nfrom dirty_cat import SimilarityEncoder\n\nimport pandas as pd\nimport numpy as np\nimport seaborn as sns",
   "outputs": [],
   "execution_count": null
  },
  {
   "cell_type": "code",
   "metadata": {
    "ExecuteTime": {
     "end_time": "2021-05-02T23:10:30.648254Z",
     "start_time": "2021-05-02T23:10:30.347346Z"
    },
    "cell_id": "00002-439b9e49-8259-4b11-9b7e-0aeced2b9c51",
    "deepnote_to_be_reexecuted": false,
    "source_hash": "2a0fa147",
    "execution_start": 1634005703077,
    "execution_millis": 2444,
    "deepnote_cell_type": "code"
   },
   "source": "df = fetch_employee_salaries()[\"data\"]",
   "outputs": [],
   "execution_count": null
  },
  {
   "cell_type": "code",
   "metadata": {
    "ExecuteTime": {
     "end_time": "2021-05-02T23:10:30.680101Z",
     "start_time": "2021-05-02T23:10:30.651576Z"
    },
    "cell_id": "00003-6dcadf35-8c24-47ba-91e3-020fa49738d0",
    "deepnote_to_be_reexecuted": false,
    "source_hash": "f30f989a",
    "execution_start": 1634005705532,
    "execution_millis": 92,
    "deepnote_cell_type": "code"
   },
   "source": "df.head(10)",
   "outputs": [
    {
     "output_type": "execute_result",
     "execution_count": 5,
     "data": {
      "application/vnd.deepnote.dataframe.v2+json": {
       "row_count": 10,
       "column_count": 13,
       "columns": [
        {
         "name": "full_name",
         "dtype": "object",
         "stats": {
          "unique_count": 10,
          "nan_count": 0,
          "categories": [
           {
            "name": "Aarhus, Pam J.",
            "count": 1
           },
           {
            "name": "Aaron, David J.",
            "count": 1
           },
           {
            "name": "8 others",
            "count": 8
           }
          ]
         }
        },
        {
         "name": "gender",
         "dtype": "category",
         "stats": {
          "unique_count": 2,
          "nan_count": 0,
          "categories": [
           {
            "name": "M",
            "count": 6
           },
           {
            "name": "F",
            "count": 4
           }
          ]
         }
        },
        {
         "name": "2016_gross_pay_received",
         "dtype": "float64",
         "stats": {
          "unique_count": 9,
          "nan_count": 1,
          "min": "27820.02",
          "max": "107000.24",
          "histogram": [
           {
            "bin_start": 27820.02,
            "bin_end": 35738.042,
            "count": 1
           },
           {
            "bin_start": 35738.042,
            "bin_end": 43656.064,
            "count": 0
           },
           {
            "bin_start": 43656.064,
            "bin_end": 51574.085999999996,
            "count": 1
           },
           {
            "bin_start": 51574.085999999996,
            "bin_end": 59492.108,
            "count": 1
           },
           {
            "bin_start": 59492.108,
            "bin_end": 67410.13,
            "count": 1
           },
           {
            "bin_start": 67410.13,
            "bin_end": 75328.152,
            "count": 1
           },
           {
            "bin_start": 75328.152,
            "bin_end": 83246.174,
            "count": 1
           },
           {
            "bin_start": 83246.174,
            "bin_end": 91164.196,
            "count": 0
           },
           {
            "bin_start": 91164.196,
            "bin_end": 99082.21800000001,
            "count": 1
           },
           {
            "bin_start": 99082.21800000001,
            "bin_end": 107000.24,
            "count": 2
           }
          ]
         }
        },
        {
         "name": "2016_overtime_pay",
         "dtype": "float64",
         "stats": {
          "unique_count": 6,
          "nan_count": 4,
          "min": "275.03",
          "max": "9111.09",
          "histogram": [
           {
            "bin_start": 275.03,
            "bin_end": 1158.636,
            "count": 2
           },
           {
            "bin_start": 1158.636,
            "bin_end": 2042.242,
            "count": 1
           },
           {
            "bin_start": 2042.242,
            "bin_end": 2925.848,
            "count": 0
           },
           {
            "bin_start": 2925.848,
            "bin_end": 3809.4539999999997,
            "count": 2
           },
           {
            "bin_start": 3809.4539999999997,
            "bin_end": 4693.0599999999995,
            "count": 0
           },
           {
            "bin_start": 4693.0599999999995,
            "bin_end": 5576.666,
            "count": 0
           },
           {
            "bin_start": 5576.666,
            "bin_end": 6460.272,
            "count": 0
           },
           {
            "bin_start": 6460.272,
            "bin_end": 7343.878,
            "count": 0
           },
           {
            "bin_start": 7343.878,
            "bin_end": 8227.484,
            "count": 0
           },
           {
            "bin_start": 8227.484,
            "bin_end": 9111.09,
            "count": 1
           }
          ]
         }
        },
        {
         "name": "department",
         "dtype": "category",
         "stats": {
          "unique_count": 5,
          "nan_count": 0,
          "categories": [
           {
            "name": "POL",
            "count": 4
           },
           {
            "name": "HHS",
            "count": 2
           },
           {
            "name": "3 others",
            "count": 4
           }
          ]
         }
        },
        {
         "name": "department_name",
         "dtype": "category",
         "stats": {
          "unique_count": 5,
          "nan_count": 0,
          "categories": [
           {
            "name": "Department of Police",
            "count": 4
           },
           {
            "name": "Department of Health and Human Services",
            "count": 2
           },
           {
            "name": "3 others",
            "count": 4
           }
          ]
         }
        },
        {
         "name": "division",
         "dtype": "object",
         "stats": {
          "unique_count": 10,
          "nan_count": 0,
          "categories": [
           {
            "name": "MSB Information Mgmt and Tech Division Records Management Section",
            "count": 1
           },
           {
            "name": "ISB Major Crimes Division Fugitive Section",
            "count": 1
           },
           {
            "name": "8 others",
            "count": 8
           }
          ]
         }
        },
        {
         "name": "assignment_category",
         "dtype": "category",
         "stats": {
          "unique_count": 1,
          "nan_count": 0,
          "categories": [
           {
            "name": "Fulltime-Regular",
            "count": 10
           }
          ]
         }
        },
        {
         "name": "employee_position_title",
         "dtype": "object",
         "stats": {
          "unique_count": 10,
          "nan_count": 0,
          "categories": [
           {
            "name": "Office Services Coordinator",
            "count": 1
           },
           {
            "name": "Master Police Officer",
            "count": 1
           },
           {
            "name": "8 others",
            "count": 8
           }
          ]
         }
        },
        {
         "name": "underfilled_job_title",
         "dtype": "object",
         "stats": {
          "unique_count": 1,
          "nan_count": 9,
          "categories": [
           {
            "name": "Firefighter/Rescuer I (Recruit)",
            "count": 1
           },
           {
            "name": "Missing",
            "count": 9
           }
          ]
         }
        },
        {
         "name": "date_first_hired",
         "dtype": "object",
         "stats": {
          "unique_count": 10,
          "nan_count": 0,
          "categories": [
           {
            "name": "09/22/1986",
            "count": 1
           },
           {
            "name": "09/12/1988",
            "count": 1
           },
           {
            "name": "8 others",
            "count": 8
           }
          ]
         }
        },
        {
         "name": "year_first_hired",
         "dtype": "float64",
         "stats": {
          "unique_count": 6,
          "nan_count": 0,
          "min": "1986.0",
          "max": "2016.0",
          "histogram": [
           {
            "bin_start": 1986,
            "bin_end": 1989,
            "count": 2
           },
           {
            "bin_start": 1989,
            "bin_end": 1992,
            "count": 1
           },
           {
            "bin_start": 1992,
            "bin_end": 1995,
            "count": 0
           },
           {
            "bin_start": 1995,
            "bin_end": 1998,
            "count": 0
           },
           {
            "bin_start": 1998,
            "bin_end": 2001,
            "count": 0
           },
           {
            "bin_start": 2001,
            "bin_end": 2004,
            "count": 0
           },
           {
            "bin_start": 2004,
            "bin_end": 2007,
            "count": 0
           },
           {
            "bin_start": 2007,
            "bin_end": 2010,
            "count": 3
           },
           {
            "bin_start": 2010,
            "bin_end": 2013,
            "count": 0
           },
           {
            "bin_start": 2013,
            "bin_end": 2016,
            "count": 4
           }
          ]
         }
        },
        {
         "name": "Current Annual Salary",
         "dtype": "float64",
         "stats": {
          "unique_count": 10,
          "nan_count": 0,
          "min": "45261.0",
          "max": "104717.28",
          "histogram": [
           {
            "bin_start": 45261,
            "bin_end": 51206.628,
            "count": 2
           },
           {
            "bin_start": 51206.628,
            "bin_end": 57152.256,
            "count": 1
           },
           {
            "bin_start": 57152.256,
            "bin_end": 63097.884,
            "count": 1
           },
           {
            "bin_start": 63097.884,
            "bin_end": 69043.512,
            "count": 1
           },
           {
            "bin_start": 69043.512,
            "bin_end": 74989.14,
            "count": 2
           },
           {
            "bin_start": 74989.14,
            "bin_end": 80934.768,
            "count": 0
           },
           {
            "bin_start": 80934.768,
            "bin_end": 86880.39600000001,
            "count": 0
           },
           {
            "bin_start": 86880.39600000001,
            "bin_end": 92826.024,
            "count": 0
           },
           {
            "bin_start": 92826.024,
            "bin_end": 98771.652,
            "count": 2
           },
           {
            "bin_start": 98771.652,
            "bin_end": 104717.28,
            "count": 1
           }
          ]
         }
        },
        {
         "name": "_deepnote_index_column",
         "dtype": "int64"
        }
       ],
       "rows_top": [
        {
         "full_name": "Aarhus, Pam J.",
         "gender": "F",
         "2016_gross_pay_received": 71225.98,
         "2016_overtime_pay": 416.1,
         "department": "POL",
         "department_name": "Department of Police",
         "division": "MSB Information Mgmt and Tech Division Records Management Section",
         "assignment_category": "Fulltime-Regular",
         "employee_position_title": "Office Services Coordinator",
         "underfilled_job_title": "None",
         "date_first_hired": "09/22/1986",
         "year_first_hired": 1986,
         "Current Annual Salary": 69222.18,
         "_deepnote_index_column": 0
        },
        {
         "full_name": "Aaron, David J.",
         "gender": "M",
         "2016_gross_pay_received": 103088.48,
         "2016_overtime_pay": 3326.19,
         "department": "POL",
         "department_name": "Department of Police",
         "division": "ISB Major Crimes Division Fugitive Section",
         "assignment_category": "Fulltime-Regular",
         "employee_position_title": "Master Police Officer",
         "underfilled_job_title": "None",
         "date_first_hired": "09/12/1988",
         "year_first_hired": 1988,
         "Current Annual Salary": 97392.47,
         "_deepnote_index_column": 1
        },
        {
         "full_name": "Aaron, Marsha M.",
         "gender": "F",
         "2016_gross_pay_received": 107000.24,
         "2016_overtime_pay": 1353.32,
         "department": "HHS",
         "department_name": "Department of Health and Human Services",
         "division": "Adult Protective and Case Management Services",
         "assignment_category": "Fulltime-Regular",
         "employee_position_title": "Social Worker IV",
         "underfilled_job_title": "None",
         "date_first_hired": "11/19/1989",
         "year_first_hired": 1989,
         "Current Annual Salary": 104717.28,
         "_deepnote_index_column": 2
        },
        {
         "full_name": "Ababio, Godfred A.",
         "gender": "M",
         "2016_gross_pay_received": 57819.04,
         "2016_overtime_pay": 3423.07,
         "department": "COR",
         "department_name": "Correction and Rehabilitation",
         "division": "PRRS Facility and Security",
         "assignment_category": "Fulltime-Regular",
         "employee_position_title": "Resident Supervisor II",
         "underfilled_job_title": "None",
         "date_first_hired": "05/05/2014",
         "year_first_hired": 2014,
         "Current Annual Salary": 52734.57,
         "_deepnote_index_column": 3
        },
        {
         "full_name": "Ababu, Essayas",
         "gender": "M",
         "2016_gross_pay_received": 95815.17,
         "2016_overtime_pay": "nan",
         "department": "HCA",
         "department_name": "Department of Housing and Community Affairs",
         "division": "Affordable Housing Programs",
         "assignment_category": "Fulltime-Regular",
         "employee_position_title": "Planning Specialist III",
         "underfilled_job_title": "None",
         "date_first_hired": "03/05/2007",
         "year_first_hired": 2007,
         "Current Annual Salary": 93396,
         "_deepnote_index_column": 4
        },
        {
         "full_name": "Abbamonte, Drew B.",
         "gender": "M",
         "2016_gross_pay_received": 80926.43,
         "2016_overtime_pay": 9111.09,
         "department": "POL",
         "department_name": "Department of Police",
         "division": "PSB 6th District Special Assignment Team",
         "assignment_category": "Fulltime-Regular",
         "employee_position_title": "Police Officer III",
         "underfilled_job_title": "None",
         "date_first_hired": "07/16/2007",
         "year_first_hired": 2007,
         "Current Annual Salary": 70435,
         "_deepnote_index_column": 5
        },
        {
         "full_name": "Abdalla, Eiman M.",
         "gender": "F",
         "2016_gross_pay_received": 27820.02,
         "2016_overtime_pay": "nan",
         "department": "FRS",
         "department_name": "Fire and Rescue Services",
         "division": "EMS Billing",
         "assignment_category": "Fulltime-Regular",
         "employee_position_title": "Accountant/Auditor II",
         "underfilled_job_title": "None",
         "date_first_hired": "06/27/2016",
         "year_first_hired": 2016,
         "Current Annual Salary": 60300,
         "_deepnote_index_column": 6
        },
        {
         "full_name": "Abdelmoniem, Marwan M.",
         "gender": "M",
         "2016_gross_pay_received": 62588.67,
         "2016_overtime_pay": "nan",
         "department": "HHS",
         "department_name": "Department of Health and Human Services",
         "division": "Head Start",
         "assignment_category": "Fulltime-Regular",
         "employee_position_title": "Administrative Specialist II",
         "underfilled_job_title": "None",
         "date_first_hired": "11/17/2014",
         "year_first_hired": 2014,
         "Current Annual Salary": 64788.65,
         "_deepnote_index_column": 7
        },
        {
         "full_name": "Abdool, Daniel Z.",
         "gender": "M",
         "2016_gross_pay_received": "nan",
         "2016_overtime_pay": "nan",
         "department": "FRS",
         "department_name": "Fire and Rescue Services",
         "division": "Recruit Training",
         "assignment_category": "Fulltime-Regular",
         "employee_position_title": "Firefighter/Rescuer III",
         "underfilled_job_title": "Firefighter/Rescuer I (Recruit)",
         "date_first_hired": "12/12/2016",
         "year_first_hired": 2016,
         "Current Annual Salary": 45261,
         "_deepnote_index_column": 8
        },
        {
         "full_name": "Abdul-Ghani, Hasinah J.",
         "gender": "F",
         "2016_gross_pay_received": 49336.12,
         "2016_overtime_pay": 275.03,
         "department": "POL",
         "department_name": "Department of Police",
         "division": "FSB Traffic Division Automated Traffic Enforcement Section",
         "assignment_category": "Fulltime-Regular",
         "employee_position_title": "Police Aide",
         "underfilled_job_title": "None",
         "date_first_hired": "02/05/2007",
         "year_first_hired": 2007,
         "Current Annual Salary": 47670.09,
         "_deepnote_index_column": 9
        }
       ],
       "rows_bottom": null
      },
      "text/plain": "                 full_name gender  2016_gross_pay_received  2016_overtime_pay  \\\n0           Aarhus, Pam J.      F                 71225.98             416.10   \n1          Aaron, David J.      M                103088.48            3326.19   \n2         Aaron, Marsha M.      F                107000.24            1353.32   \n3       Ababio, Godfred A.      M                 57819.04            3423.07   \n4           Ababu, Essayas      M                 95815.17                NaN   \n5       Abbamonte, Drew B.      M                 80926.43            9111.09   \n6        Abdalla, Eiman M.      F                 27820.02                NaN   \n7   Abdelmoniem, Marwan M.      M                 62588.67                NaN   \n8        Abdool, Daniel Z.      M                      NaN                NaN   \n9  Abdul-Ghani, Hasinah J.      F                 49336.12             275.03   \n\n  department                              department_name  \\\n0        POL                         Department of Police   \n1        POL                         Department of Police   \n2        HHS      Department of Health and Human Services   \n3        COR                Correction and Rehabilitation   \n4        HCA  Department of Housing and Community Affairs   \n5        POL                         Department of Police   \n6        FRS                     Fire and Rescue Services   \n7        HHS      Department of Health and Human Services   \n8        FRS                     Fire and Rescue Services   \n9        POL                         Department of Police   \n\n                                            division assignment_category  \\\n0  MSB Information Mgmt and Tech Division Records...    Fulltime-Regular   \n1         ISB Major Crimes Division Fugitive Section    Fulltime-Regular   \n2      Adult Protective and Case Management Services    Fulltime-Regular   \n3                         PRRS Facility and Security    Fulltime-Regular   \n4                        Affordable Housing Programs    Fulltime-Regular   \n5           PSB 6th District Special Assignment Team    Fulltime-Regular   \n6                                        EMS Billing    Fulltime-Regular   \n7                                         Head Start    Fulltime-Regular   \n8                                   Recruit Training    Fulltime-Regular   \n9  FSB Traffic Division Automated Traffic Enforce...    Fulltime-Regular   \n\n        employee_position_title            underfilled_job_title  \\\n0   Office Services Coordinator                             None   \n1         Master Police Officer                             None   \n2              Social Worker IV                             None   \n3        Resident Supervisor II                             None   \n4       Planning Specialist III                             None   \n5            Police Officer III                             None   \n6         Accountant/Auditor II                             None   \n7  Administrative Specialist II                             None   \n8       Firefighter/Rescuer III  Firefighter/Rescuer I (Recruit)   \n9                   Police Aide                             None   \n\n  date_first_hired  year_first_hired  Current Annual Salary  \n0       09/22/1986            1986.0               69222.18  \n1       09/12/1988            1988.0               97392.47  \n2       11/19/1989            1989.0              104717.28  \n3       05/05/2014            2014.0               52734.57  \n4       03/05/2007            2007.0               93396.00  \n5       07/16/2007            2007.0               70435.00  \n6       06/27/2016            2016.0               60300.00  \n7       11/17/2014            2014.0               64788.65  \n8       12/12/2016            2016.0               45261.00  \n9       02/05/2007            2007.0               47670.09  ",
      "text/html": "<div>\n<style scoped>\n    .dataframe tbody tr th:only-of-type {\n        vertical-align: middle;\n    }\n\n    .dataframe tbody tr th {\n        vertical-align: top;\n    }\n\n    .dataframe thead th {\n        text-align: right;\n    }\n</style>\n<table border=\"1\" class=\"dataframe\">\n  <thead>\n    <tr style=\"text-align: right;\">\n      <th></th>\n      <th>full_name</th>\n      <th>gender</th>\n      <th>2016_gross_pay_received</th>\n      <th>2016_overtime_pay</th>\n      <th>department</th>\n      <th>department_name</th>\n      <th>division</th>\n      <th>assignment_category</th>\n      <th>employee_position_title</th>\n      <th>underfilled_job_title</th>\n      <th>date_first_hired</th>\n      <th>year_first_hired</th>\n      <th>Current Annual Salary</th>\n    </tr>\n  </thead>\n  <tbody>\n    <tr>\n      <th>0</th>\n      <td>Aarhus, Pam J.</td>\n      <td>F</td>\n      <td>71225.98</td>\n      <td>416.10</td>\n      <td>POL</td>\n      <td>Department of Police</td>\n      <td>MSB Information Mgmt and Tech Division Records...</td>\n      <td>Fulltime-Regular</td>\n      <td>Office Services Coordinator</td>\n      <td>None</td>\n      <td>09/22/1986</td>\n      <td>1986.0</td>\n      <td>69222.18</td>\n    </tr>\n    <tr>\n      <th>1</th>\n      <td>Aaron, David J.</td>\n      <td>M</td>\n      <td>103088.48</td>\n      <td>3326.19</td>\n      <td>POL</td>\n      <td>Department of Police</td>\n      <td>ISB Major Crimes Division Fugitive Section</td>\n      <td>Fulltime-Regular</td>\n      <td>Master Police Officer</td>\n      <td>None</td>\n      <td>09/12/1988</td>\n      <td>1988.0</td>\n      <td>97392.47</td>\n    </tr>\n    <tr>\n      <th>2</th>\n      <td>Aaron, Marsha M.</td>\n      <td>F</td>\n      <td>107000.24</td>\n      <td>1353.32</td>\n      <td>HHS</td>\n      <td>Department of Health and Human Services</td>\n      <td>Adult Protective and Case Management Services</td>\n      <td>Fulltime-Regular</td>\n      <td>Social Worker IV</td>\n      <td>None</td>\n      <td>11/19/1989</td>\n      <td>1989.0</td>\n      <td>104717.28</td>\n    </tr>\n    <tr>\n      <th>3</th>\n      <td>Ababio, Godfred A.</td>\n      <td>M</td>\n      <td>57819.04</td>\n      <td>3423.07</td>\n      <td>COR</td>\n      <td>Correction and Rehabilitation</td>\n      <td>PRRS Facility and Security</td>\n      <td>Fulltime-Regular</td>\n      <td>Resident Supervisor II</td>\n      <td>None</td>\n      <td>05/05/2014</td>\n      <td>2014.0</td>\n      <td>52734.57</td>\n    </tr>\n    <tr>\n      <th>4</th>\n      <td>Ababu, Essayas</td>\n      <td>M</td>\n      <td>95815.17</td>\n      <td>NaN</td>\n      <td>HCA</td>\n      <td>Department of Housing and Community Affairs</td>\n      <td>Affordable Housing Programs</td>\n      <td>Fulltime-Regular</td>\n      <td>Planning Specialist III</td>\n      <td>None</td>\n      <td>03/05/2007</td>\n      <td>2007.0</td>\n      <td>93396.00</td>\n    </tr>\n    <tr>\n      <th>5</th>\n      <td>Abbamonte, Drew B.</td>\n      <td>M</td>\n      <td>80926.43</td>\n      <td>9111.09</td>\n      <td>POL</td>\n      <td>Department of Police</td>\n      <td>PSB 6th District Special Assignment Team</td>\n      <td>Fulltime-Regular</td>\n      <td>Police Officer III</td>\n      <td>None</td>\n      <td>07/16/2007</td>\n      <td>2007.0</td>\n      <td>70435.00</td>\n    </tr>\n    <tr>\n      <th>6</th>\n      <td>Abdalla, Eiman M.</td>\n      <td>F</td>\n      <td>27820.02</td>\n      <td>NaN</td>\n      <td>FRS</td>\n      <td>Fire and Rescue Services</td>\n      <td>EMS Billing</td>\n      <td>Fulltime-Regular</td>\n      <td>Accountant/Auditor II</td>\n      <td>None</td>\n      <td>06/27/2016</td>\n      <td>2016.0</td>\n      <td>60300.00</td>\n    </tr>\n    <tr>\n      <th>7</th>\n      <td>Abdelmoniem, Marwan M.</td>\n      <td>M</td>\n      <td>62588.67</td>\n      <td>NaN</td>\n      <td>HHS</td>\n      <td>Department of Health and Human Services</td>\n      <td>Head Start</td>\n      <td>Fulltime-Regular</td>\n      <td>Administrative Specialist II</td>\n      <td>None</td>\n      <td>11/17/2014</td>\n      <td>2014.0</td>\n      <td>64788.65</td>\n    </tr>\n    <tr>\n      <th>8</th>\n      <td>Abdool, Daniel Z.</td>\n      <td>M</td>\n      <td>NaN</td>\n      <td>NaN</td>\n      <td>FRS</td>\n      <td>Fire and Rescue Services</td>\n      <td>Recruit Training</td>\n      <td>Fulltime-Regular</td>\n      <td>Firefighter/Rescuer III</td>\n      <td>Firefighter/Rescuer I (Recruit)</td>\n      <td>12/12/2016</td>\n      <td>2016.0</td>\n      <td>45261.00</td>\n    </tr>\n    <tr>\n      <th>9</th>\n      <td>Abdul-Ghani, Hasinah J.</td>\n      <td>F</td>\n      <td>49336.12</td>\n      <td>275.03</td>\n      <td>POL</td>\n      <td>Department of Police</td>\n      <td>FSB Traffic Division Automated Traffic Enforce...</td>\n      <td>Fulltime-Regular</td>\n      <td>Police Aide</td>\n      <td>None</td>\n      <td>02/05/2007</td>\n      <td>2007.0</td>\n      <td>47670.09</td>\n    </tr>\n  </tbody>\n</table>\n</div>"
     },
     "metadata": {}
    }
   ],
   "execution_count": null
  },
  {
   "cell_type": "code",
   "metadata": {
    "ExecuteTime": {
     "end_time": "2021-05-02T23:10:30.720884Z",
     "start_time": "2021-05-02T23:10:30.681151Z"
    },
    "cell_id": "00004-d73ca8b9-75ce-4324-896b-a98f7b4e2f15",
    "deepnote_to_be_reexecuted": false,
    "source_hash": "6ba4a766",
    "execution_start": 1634005707139,
    "execution_millis": 44,
    "deepnote_cell_type": "code"
   },
   "source": "df[\"Date First Hired\"] = pd.to_datetime(df[\"date_first_hired\"])\ndf[\"Year First Hired\"] = df[\"Date First Hired\"].apply(lambda x: x.year)\n# drop rows with NaN in gender\ndf.dropna(subset=[\"gender\"], inplace=True)",
   "outputs": [],
   "execution_count": null
  },
  {
   "cell_type": "markdown",
   "source": "# Encoding",
   "metadata": {
    "cell_id": "00005-834bd0e3-c8be-4b32-bd27-694ecb6c50da",
    "deepnote_cell_type": "markdown"
   }
  },
  {
   "cell_type": "code",
   "metadata": {
    "ExecuteTime": {
     "end_time": "2021-05-02T23:10:30.724677Z",
     "start_time": "2021-05-02T23:10:30.721798Z"
    },
    "cell_id": "00006-863d6902-569b-49de-bdcd-098f5671ef43",
    "deepnote_to_be_reexecuted": false,
    "source_hash": "dd8d9e17",
    "execution_start": 1634005710682,
    "execution_millis": 31,
    "deepnote_cell_type": "code"
   },
   "source": "dirty_column = \"employee_position_title\"\nX_dirty = df[dirty_column].values\nsample = X_dirty[:10]\nsample",
   "outputs": [
    {
     "output_type": "execute_result",
     "execution_count": 7,
     "data": {
      "text/plain": "array(['Office Services Coordinator', 'Master Police Officer',\n       'Social Worker IV', 'Resident Supervisor II',\n       'Planning Specialist III', 'Police Officer III',\n       'Accountant/Auditor II', 'Administrative Specialist II',\n       'Firefighter/Rescuer III', 'Police Aide'], dtype=object)"
     },
     "metadata": {}
    }
   ],
   "execution_count": null
  },
  {
   "cell_type": "markdown",
   "source": "## One-hot Encoding",
   "metadata": {
    "cell_id": "00007-06abab3a-3df6-40cd-83e3-326bbfc14bf8",
    "deepnote_cell_type": "markdown"
   }
  },
  {
   "cell_type": "code",
   "metadata": {
    "ExecuteTime": {
     "end_time": "2021-05-02T23:10:30.727552Z",
     "start_time": "2021-05-02T23:10:30.725644Z"
    },
    "cell_id": "00008-2f06e7d0-deaa-4568-8d3b-9d46c7129b01",
    "deepnote_to_be_reexecuted": false,
    "source_hash": "e1e6f593",
    "execution_start": 1634005713347,
    "execution_millis": 2,
    "deepnote_cell_type": "code"
   },
   "source": "from sklearn.preprocessing import OneHotEncoder",
   "outputs": [],
   "execution_count": null
  },
  {
   "cell_type": "code",
   "metadata": {
    "ExecuteTime": {
     "end_time": "2021-05-02T23:10:30.733961Z",
     "start_time": "2021-05-02T23:10:30.729479Z"
    },
    "cell_id": "00009-eb404dc6-5292-4567-89bd-73e0dcc8ecc5",
    "deepnote_to_be_reexecuted": false,
    "source_hash": "ba922db5",
    "execution_start": 1634005713963,
    "execution_millis": 15,
    "deepnote_cell_type": "code"
   },
   "source": "enc = OneHotEncoder(sparse=False)\nonehot = enc.fit_transform(sample.reshape(-1, 1))\nonehot",
   "outputs": [
    {
     "output_type": "execute_result",
     "execution_count": 9,
     "data": {
      "text/plain": "array([[0., 0., 0., 0., 1., 0., 0., 0., 0., 0.],\n       [0., 0., 0., 1., 0., 0., 0., 0., 0., 0.],\n       [0., 0., 0., 0., 0., 0., 0., 0., 0., 1.],\n       [0., 0., 0., 0., 0., 0., 0., 0., 1., 0.],\n       [0., 0., 0., 0., 0., 1., 0., 0., 0., 0.],\n       [0., 0., 0., 0., 0., 0., 0., 1., 0., 0.],\n       [1., 0., 0., 0., 0., 0., 0., 0., 0., 0.],\n       [0., 1., 0., 0., 0., 0., 0., 0., 0., 0.],\n       [0., 0., 1., 0., 0., 0., 0., 0., 0., 0.],\n       [0., 0., 0., 0., 0., 0., 1., 0., 0., 0.]])"
     },
     "metadata": {}
    }
   ],
   "execution_count": null
  },
  {
   "cell_type": "code",
   "metadata": {
    "ExecuteTime": {
     "end_time": "2021-05-02T23:10:30.738014Z",
     "start_time": "2021-05-02T23:10:30.734974Z"
    },
    "cell_id": "00010-8f893c8e-cbfb-4eec-95a0-7966b937e6ac",
    "deepnote_to_be_reexecuted": false,
    "source_hash": "fbcbca79",
    "execution_start": 1634005715732,
    "execution_millis": 6,
    "deepnote_cell_type": "code"
   },
   "source": "onehot_df = pd.DataFrame(onehot, index=sample.ravel())",
   "outputs": [],
   "execution_count": null
  },
  {
   "cell_type": "code",
   "metadata": {
    "ExecuteTime": {
     "end_time": "2021-05-02T23:10:30.753533Z",
     "start_time": "2021-05-02T23:10:30.738932Z"
    },
    "cell_id": "00011-50f892ae-3017-4ff0-9204-febfaa50c1fd",
    "deepnote_to_be_reexecuted": false,
    "source_hash": "fcb8b8d1",
    "execution_start": 1634005716233,
    "execution_millis": 43,
    "deepnote_cell_type": "code"
   },
   "source": "onehot_df",
   "outputs": [
    {
     "output_type": "execute_result",
     "execution_count": 11,
     "data": {
      "application/vnd.deepnote.dataframe.v2+json": {
       "row_count": 10,
       "column_count": 10,
       "columns": [
        {
         "name": 0,
         "dtype": "float64",
         "stats": {
          "unique_count": 2,
          "nan_count": 0,
          "min": "0.0",
          "max": "1.0",
          "histogram": [
           {
            "bin_start": 0,
            "bin_end": 0.1,
            "count": 9
           },
           {
            "bin_start": 0.1,
            "bin_end": 0.2,
            "count": 0
           },
           {
            "bin_start": 0.2,
            "bin_end": 0.30000000000000004,
            "count": 0
           },
           {
            "bin_start": 0.30000000000000004,
            "bin_end": 0.4,
            "count": 0
           },
           {
            "bin_start": 0.4,
            "bin_end": 0.5,
            "count": 0
           },
           {
            "bin_start": 0.5,
            "bin_end": 0.6000000000000001,
            "count": 0
           },
           {
            "bin_start": 0.6000000000000001,
            "bin_end": 0.7000000000000001,
            "count": 0
           },
           {
            "bin_start": 0.7000000000000001,
            "bin_end": 0.8,
            "count": 0
           },
           {
            "bin_start": 0.8,
            "bin_end": 0.9,
            "count": 0
           },
           {
            "bin_start": 0.9,
            "bin_end": 1,
            "count": 1
           }
          ]
         }
        },
        {
         "name": 1,
         "dtype": "float64",
         "stats": {
          "unique_count": 2,
          "nan_count": 0,
          "min": "0.0",
          "max": "1.0",
          "histogram": [
           {
            "bin_start": 0,
            "bin_end": 0.1,
            "count": 9
           },
           {
            "bin_start": 0.1,
            "bin_end": 0.2,
            "count": 0
           },
           {
            "bin_start": 0.2,
            "bin_end": 0.30000000000000004,
            "count": 0
           },
           {
            "bin_start": 0.30000000000000004,
            "bin_end": 0.4,
            "count": 0
           },
           {
            "bin_start": 0.4,
            "bin_end": 0.5,
            "count": 0
           },
           {
            "bin_start": 0.5,
            "bin_end": 0.6000000000000001,
            "count": 0
           },
           {
            "bin_start": 0.6000000000000001,
            "bin_end": 0.7000000000000001,
            "count": 0
           },
           {
            "bin_start": 0.7000000000000001,
            "bin_end": 0.8,
            "count": 0
           },
           {
            "bin_start": 0.8,
            "bin_end": 0.9,
            "count": 0
           },
           {
            "bin_start": 0.9,
            "bin_end": 1,
            "count": 1
           }
          ]
         }
        },
        {
         "name": 2,
         "dtype": "float64",
         "stats": {
          "unique_count": 2,
          "nan_count": 0,
          "min": "0.0",
          "max": "1.0",
          "histogram": [
           {
            "bin_start": 0,
            "bin_end": 0.1,
            "count": 9
           },
           {
            "bin_start": 0.1,
            "bin_end": 0.2,
            "count": 0
           },
           {
            "bin_start": 0.2,
            "bin_end": 0.30000000000000004,
            "count": 0
           },
           {
            "bin_start": 0.30000000000000004,
            "bin_end": 0.4,
            "count": 0
           },
           {
            "bin_start": 0.4,
            "bin_end": 0.5,
            "count": 0
           },
           {
            "bin_start": 0.5,
            "bin_end": 0.6000000000000001,
            "count": 0
           },
           {
            "bin_start": 0.6000000000000001,
            "bin_end": 0.7000000000000001,
            "count": 0
           },
           {
            "bin_start": 0.7000000000000001,
            "bin_end": 0.8,
            "count": 0
           },
           {
            "bin_start": 0.8,
            "bin_end": 0.9,
            "count": 0
           },
           {
            "bin_start": 0.9,
            "bin_end": 1,
            "count": 1
           }
          ]
         }
        },
        {
         "name": 3,
         "dtype": "float64",
         "stats": {
          "unique_count": 2,
          "nan_count": 0,
          "min": "0.0",
          "max": "1.0",
          "histogram": [
           {
            "bin_start": 0,
            "bin_end": 0.1,
            "count": 9
           },
           {
            "bin_start": 0.1,
            "bin_end": 0.2,
            "count": 0
           },
           {
            "bin_start": 0.2,
            "bin_end": 0.30000000000000004,
            "count": 0
           },
           {
            "bin_start": 0.30000000000000004,
            "bin_end": 0.4,
            "count": 0
           },
           {
            "bin_start": 0.4,
            "bin_end": 0.5,
            "count": 0
           },
           {
            "bin_start": 0.5,
            "bin_end": 0.6000000000000001,
            "count": 0
           },
           {
            "bin_start": 0.6000000000000001,
            "bin_end": 0.7000000000000001,
            "count": 0
           },
           {
            "bin_start": 0.7000000000000001,
            "bin_end": 0.8,
            "count": 0
           },
           {
            "bin_start": 0.8,
            "bin_end": 0.9,
            "count": 0
           },
           {
            "bin_start": 0.9,
            "bin_end": 1,
            "count": 1
           }
          ]
         }
        },
        {
         "name": 4,
         "dtype": "float64",
         "stats": {
          "unique_count": 2,
          "nan_count": 0,
          "min": "0.0",
          "max": "1.0",
          "histogram": [
           {
            "bin_start": 0,
            "bin_end": 0.1,
            "count": 9
           },
           {
            "bin_start": 0.1,
            "bin_end": 0.2,
            "count": 0
           },
           {
            "bin_start": 0.2,
            "bin_end": 0.30000000000000004,
            "count": 0
           },
           {
            "bin_start": 0.30000000000000004,
            "bin_end": 0.4,
            "count": 0
           },
           {
            "bin_start": 0.4,
            "bin_end": 0.5,
            "count": 0
           },
           {
            "bin_start": 0.5,
            "bin_end": 0.6000000000000001,
            "count": 0
           },
           {
            "bin_start": 0.6000000000000001,
            "bin_end": 0.7000000000000001,
            "count": 0
           },
           {
            "bin_start": 0.7000000000000001,
            "bin_end": 0.8,
            "count": 0
           },
           {
            "bin_start": 0.8,
            "bin_end": 0.9,
            "count": 0
           },
           {
            "bin_start": 0.9,
            "bin_end": 1,
            "count": 1
           }
          ]
         }
        },
        {
         "name": 5,
         "dtype": "float64",
         "stats": {
          "unique_count": 2,
          "nan_count": 0,
          "min": "0.0",
          "max": "1.0",
          "histogram": [
           {
            "bin_start": 0,
            "bin_end": 0.1,
            "count": 9
           },
           {
            "bin_start": 0.1,
            "bin_end": 0.2,
            "count": 0
           },
           {
            "bin_start": 0.2,
            "bin_end": 0.30000000000000004,
            "count": 0
           },
           {
            "bin_start": 0.30000000000000004,
            "bin_end": 0.4,
            "count": 0
           },
           {
            "bin_start": 0.4,
            "bin_end": 0.5,
            "count": 0
           },
           {
            "bin_start": 0.5,
            "bin_end": 0.6000000000000001,
            "count": 0
           },
           {
            "bin_start": 0.6000000000000001,
            "bin_end": 0.7000000000000001,
            "count": 0
           },
           {
            "bin_start": 0.7000000000000001,
            "bin_end": 0.8,
            "count": 0
           },
           {
            "bin_start": 0.8,
            "bin_end": 0.9,
            "count": 0
           },
           {
            "bin_start": 0.9,
            "bin_end": 1,
            "count": 1
           }
          ]
         }
        },
        {
         "name": 6,
         "dtype": "float64",
         "stats": {
          "unique_count": 2,
          "nan_count": 0,
          "min": "0.0",
          "max": "1.0",
          "histogram": [
           {
            "bin_start": 0,
            "bin_end": 0.1,
            "count": 9
           },
           {
            "bin_start": 0.1,
            "bin_end": 0.2,
            "count": 0
           },
           {
            "bin_start": 0.2,
            "bin_end": 0.30000000000000004,
            "count": 0
           },
           {
            "bin_start": 0.30000000000000004,
            "bin_end": 0.4,
            "count": 0
           },
           {
            "bin_start": 0.4,
            "bin_end": 0.5,
            "count": 0
           },
           {
            "bin_start": 0.5,
            "bin_end": 0.6000000000000001,
            "count": 0
           },
           {
            "bin_start": 0.6000000000000001,
            "bin_end": 0.7000000000000001,
            "count": 0
           },
           {
            "bin_start": 0.7000000000000001,
            "bin_end": 0.8,
            "count": 0
           },
           {
            "bin_start": 0.8,
            "bin_end": 0.9,
            "count": 0
           },
           {
            "bin_start": 0.9,
            "bin_end": 1,
            "count": 1
           }
          ]
         }
        },
        {
         "name": 7,
         "dtype": "float64",
         "stats": {
          "unique_count": 2,
          "nan_count": 0,
          "min": "0.0",
          "max": "1.0",
          "histogram": [
           {
            "bin_start": 0,
            "bin_end": 0.1,
            "count": 9
           },
           {
            "bin_start": 0.1,
            "bin_end": 0.2,
            "count": 0
           },
           {
            "bin_start": 0.2,
            "bin_end": 0.30000000000000004,
            "count": 0
           },
           {
            "bin_start": 0.30000000000000004,
            "bin_end": 0.4,
            "count": 0
           },
           {
            "bin_start": 0.4,
            "bin_end": 0.5,
            "count": 0
           },
           {
            "bin_start": 0.5,
            "bin_end": 0.6000000000000001,
            "count": 0
           },
           {
            "bin_start": 0.6000000000000001,
            "bin_end": 0.7000000000000001,
            "count": 0
           },
           {
            "bin_start": 0.7000000000000001,
            "bin_end": 0.8,
            "count": 0
           },
           {
            "bin_start": 0.8,
            "bin_end": 0.9,
            "count": 0
           },
           {
            "bin_start": 0.9,
            "bin_end": 1,
            "count": 1
           }
          ]
         }
        },
        {
         "name": 8,
         "dtype": "float64",
         "stats": {
          "unique_count": 2,
          "nan_count": 0,
          "min": "0.0",
          "max": "1.0",
          "histogram": [
           {
            "bin_start": 0,
            "bin_end": 0.1,
            "count": 9
           },
           {
            "bin_start": 0.1,
            "bin_end": 0.2,
            "count": 0
           },
           {
            "bin_start": 0.2,
            "bin_end": 0.30000000000000004,
            "count": 0
           },
           {
            "bin_start": 0.30000000000000004,
            "bin_end": 0.4,
            "count": 0
           },
           {
            "bin_start": 0.4,
            "bin_end": 0.5,
            "count": 0
           },
           {
            "bin_start": 0.5,
            "bin_end": 0.6000000000000001,
            "count": 0
           },
           {
            "bin_start": 0.6000000000000001,
            "bin_end": 0.7000000000000001,
            "count": 0
           },
           {
            "bin_start": 0.7000000000000001,
            "bin_end": 0.8,
            "count": 0
           },
           {
            "bin_start": 0.8,
            "bin_end": 0.9,
            "count": 0
           },
           {
            "bin_start": 0.9,
            "bin_end": 1,
            "count": 1
           }
          ]
         }
        },
        {
         "name": 9,
         "dtype": "float64",
         "stats": {
          "unique_count": 2,
          "nan_count": 0,
          "min": "0.0",
          "max": "1.0",
          "histogram": [
           {
            "bin_start": 0,
            "bin_end": 0.1,
            "count": 9
           },
           {
            "bin_start": 0.1,
            "bin_end": 0.2,
            "count": 0
           },
           {
            "bin_start": 0.2,
            "bin_end": 0.30000000000000004,
            "count": 0
           },
           {
            "bin_start": 0.30000000000000004,
            "bin_end": 0.4,
            "count": 0
           },
           {
            "bin_start": 0.4,
            "bin_end": 0.5,
            "count": 0
           },
           {
            "bin_start": 0.5,
            "bin_end": 0.6000000000000001,
            "count": 0
           },
           {
            "bin_start": 0.6000000000000001,
            "bin_end": 0.7000000000000001,
            "count": 0
           },
           {
            "bin_start": 0.7000000000000001,
            "bin_end": 0.8,
            "count": 0
           },
           {
            "bin_start": 0.8,
            "bin_end": 0.9,
            "count": 0
           },
           {
            "bin_start": 0.9,
            "bin_end": 1,
            "count": 1
           }
          ]
         }
        },
        {
         "name": "_deepnote_index_column",
         "dtype": "object"
        }
       ],
       "rows_top": [
        {
         "0": 0,
         "1": 0,
         "2": 0,
         "3": 0,
         "4": 1,
         "5": 0,
         "6": 0,
         "7": 0,
         "8": 0,
         "9": 0,
         "_deepnote_index_column": "Office Services Coordinator"
        },
        {
         "0": 0,
         "1": 0,
         "2": 0,
         "3": 1,
         "4": 0,
         "5": 0,
         "6": 0,
         "7": 0,
         "8": 0,
         "9": 0,
         "_deepnote_index_column": "Master Police Officer"
        },
        {
         "0": 0,
         "1": 0,
         "2": 0,
         "3": 0,
         "4": 0,
         "5": 0,
         "6": 0,
         "7": 0,
         "8": 0,
         "9": 1,
         "_deepnote_index_column": "Social Worker IV"
        },
        {
         "0": 0,
         "1": 0,
         "2": 0,
         "3": 0,
         "4": 0,
         "5": 0,
         "6": 0,
         "7": 0,
         "8": 1,
         "9": 0,
         "_deepnote_index_column": "Resident Supervisor II"
        },
        {
         "0": 0,
         "1": 0,
         "2": 0,
         "3": 0,
         "4": 0,
         "5": 1,
         "6": 0,
         "7": 0,
         "8": 0,
         "9": 0,
         "_deepnote_index_column": "Planning Specialist III"
        },
        {
         "0": 0,
         "1": 0,
         "2": 0,
         "3": 0,
         "4": 0,
         "5": 0,
         "6": 0,
         "7": 1,
         "8": 0,
         "9": 0,
         "_deepnote_index_column": "Police Officer III"
        },
        {
         "0": 1,
         "1": 0,
         "2": 0,
         "3": 0,
         "4": 0,
         "5": 0,
         "6": 0,
         "7": 0,
         "8": 0,
         "9": 0,
         "_deepnote_index_column": "Accountant/Auditor II"
        },
        {
         "0": 0,
         "1": 1,
         "2": 0,
         "3": 0,
         "4": 0,
         "5": 0,
         "6": 0,
         "7": 0,
         "8": 0,
         "9": 0,
         "_deepnote_index_column": "Administrative Specialist II"
        },
        {
         "0": 0,
         "1": 0,
         "2": 1,
         "3": 0,
         "4": 0,
         "5": 0,
         "6": 0,
         "7": 0,
         "8": 0,
         "9": 0,
         "_deepnote_index_column": "Firefighter/Rescuer III"
        },
        {
         "0": 0,
         "1": 0,
         "2": 0,
         "3": 0,
         "4": 0,
         "5": 0,
         "6": 1,
         "7": 0,
         "8": 0,
         "9": 0,
         "_deepnote_index_column": "Police Aide"
        }
       ],
       "rows_bottom": null
      },
      "text/plain": "                                0    1    2    3    4    5    6    7    8    9\nOffice Services Coordinator   0.0  0.0  0.0  0.0  1.0  0.0  0.0  0.0  0.0  0.0\nMaster Police Officer         0.0  0.0  0.0  1.0  0.0  0.0  0.0  0.0  0.0  0.0\nSocial Worker IV              0.0  0.0  0.0  0.0  0.0  0.0  0.0  0.0  0.0  1.0\nResident Supervisor II        0.0  0.0  0.0  0.0  0.0  0.0  0.0  0.0  1.0  0.0\nPlanning Specialist III       0.0  0.0  0.0  0.0  0.0  1.0  0.0  0.0  0.0  0.0\nPolice Officer III            0.0  0.0  0.0  0.0  0.0  0.0  0.0  1.0  0.0  0.0\nAccountant/Auditor II         1.0  0.0  0.0  0.0  0.0  0.0  0.0  0.0  0.0  0.0\nAdministrative Specialist II  0.0  1.0  0.0  0.0  0.0  0.0  0.0  0.0  0.0  0.0\nFirefighter/Rescuer III       0.0  0.0  1.0  0.0  0.0  0.0  0.0  0.0  0.0  0.0\nPolice Aide                   0.0  0.0  0.0  0.0  0.0  0.0  1.0  0.0  0.0  0.0",
      "text/html": "<div>\n<style scoped>\n    .dataframe tbody tr th:only-of-type {\n        vertical-align: middle;\n    }\n\n    .dataframe tbody tr th {\n        vertical-align: top;\n    }\n\n    .dataframe thead th {\n        text-align: right;\n    }\n</style>\n<table border=\"1\" class=\"dataframe\">\n  <thead>\n    <tr style=\"text-align: right;\">\n      <th></th>\n      <th>0</th>\n      <th>1</th>\n      <th>2</th>\n      <th>3</th>\n      <th>4</th>\n      <th>5</th>\n      <th>6</th>\n      <th>7</th>\n      <th>8</th>\n      <th>9</th>\n    </tr>\n  </thead>\n  <tbody>\n    <tr>\n      <th>Office Services Coordinator</th>\n      <td>0.0</td>\n      <td>0.0</td>\n      <td>0.0</td>\n      <td>0.0</td>\n      <td>1.0</td>\n      <td>0.0</td>\n      <td>0.0</td>\n      <td>0.0</td>\n      <td>0.0</td>\n      <td>0.0</td>\n    </tr>\n    <tr>\n      <th>Master Police Officer</th>\n      <td>0.0</td>\n      <td>0.0</td>\n      <td>0.0</td>\n      <td>1.0</td>\n      <td>0.0</td>\n      <td>0.0</td>\n      <td>0.0</td>\n      <td>0.0</td>\n      <td>0.0</td>\n      <td>0.0</td>\n    </tr>\n    <tr>\n      <th>Social Worker IV</th>\n      <td>0.0</td>\n      <td>0.0</td>\n      <td>0.0</td>\n      <td>0.0</td>\n      <td>0.0</td>\n      <td>0.0</td>\n      <td>0.0</td>\n      <td>0.0</td>\n      <td>0.0</td>\n      <td>1.0</td>\n    </tr>\n    <tr>\n      <th>Resident Supervisor II</th>\n      <td>0.0</td>\n      <td>0.0</td>\n      <td>0.0</td>\n      <td>0.0</td>\n      <td>0.0</td>\n      <td>0.0</td>\n      <td>0.0</td>\n      <td>0.0</td>\n      <td>1.0</td>\n      <td>0.0</td>\n    </tr>\n    <tr>\n      <th>Planning Specialist III</th>\n      <td>0.0</td>\n      <td>0.0</td>\n      <td>0.0</td>\n      <td>0.0</td>\n      <td>0.0</td>\n      <td>1.0</td>\n      <td>0.0</td>\n      <td>0.0</td>\n      <td>0.0</td>\n      <td>0.0</td>\n    </tr>\n    <tr>\n      <th>Police Officer III</th>\n      <td>0.0</td>\n      <td>0.0</td>\n      <td>0.0</td>\n      <td>0.0</td>\n      <td>0.0</td>\n      <td>0.0</td>\n      <td>0.0</td>\n      <td>1.0</td>\n      <td>0.0</td>\n      <td>0.0</td>\n    </tr>\n    <tr>\n      <th>Accountant/Auditor II</th>\n      <td>1.0</td>\n      <td>0.0</td>\n      <td>0.0</td>\n      <td>0.0</td>\n      <td>0.0</td>\n      <td>0.0</td>\n      <td>0.0</td>\n      <td>0.0</td>\n      <td>0.0</td>\n      <td>0.0</td>\n    </tr>\n    <tr>\n      <th>Administrative Specialist II</th>\n      <td>0.0</td>\n      <td>1.0</td>\n      <td>0.0</td>\n      <td>0.0</td>\n      <td>0.0</td>\n      <td>0.0</td>\n      <td>0.0</td>\n      <td>0.0</td>\n      <td>0.0</td>\n      <td>0.0</td>\n    </tr>\n    <tr>\n      <th>Firefighter/Rescuer III</th>\n      <td>0.0</td>\n      <td>0.0</td>\n      <td>1.0</td>\n      <td>0.0</td>\n      <td>0.0</td>\n      <td>0.0</td>\n      <td>0.0</td>\n      <td>0.0</td>\n      <td>0.0</td>\n      <td>0.0</td>\n    </tr>\n    <tr>\n      <th>Police Aide</th>\n      <td>0.0</td>\n      <td>0.0</td>\n      <td>0.0</td>\n      <td>0.0</td>\n      <td>0.0</td>\n      <td>0.0</td>\n      <td>1.0</td>\n      <td>0.0</td>\n      <td>0.0</td>\n      <td>0.0</td>\n    </tr>\n  </tbody>\n</table>\n</div>"
     },
     "metadata": {}
    }
   ],
   "execution_count": null
  },
  {
   "cell_type": "markdown",
   "source": "## Similarity Encoding",
   "metadata": {
    "cell_id": "00012-25688db1-695b-4ed4-a9ec-5af1e3ab80fb",
    "deepnote_cell_type": "markdown"
   }
  },
  {
   "cell_type": "code",
   "metadata": {
    "ExecuteTime": {
     "end_time": "2021-05-02T23:10:30.762839Z",
     "start_time": "2021-05-02T23:10:30.754344Z"
    },
    "cell_id": "00013-9a0209f2-4e5c-430b-a4f5-894cd41b9402",
    "deepnote_to_be_reexecuted": false,
    "source_hash": "c6a3b891",
    "execution_start": 1634005719189,
    "execution_millis": 19,
    "deepnote_cell_type": "code"
   },
   "source": "enc = SimilarityEncoder(similarity=\"ngram\")\nX_enc = enc.fit_transform(sample.reshape(-1, 1))\nX_enc",
   "outputs": [
    {
     "output_type": "execute_result",
     "execution_count": 12,
     "data": {
      "text/plain": "array([[0.05882353, 0.03125   , 0.02739726, 0.19008264, 1.        ,\n        0.01351351, 0.05555556, 0.20535714, 0.08088235, 0.032     ],\n       [0.008     , 0.02083333, 0.056     , 1.        , 0.19008264,\n        0.02325581, 0.23076923, 0.56      , 0.01574803, 0.02777778],\n       [0.03738318, 0.07317073, 0.05405405, 0.02777778, 0.032     ,\n        0.0733945 , 0.        , 0.0625    , 0.06542056, 1.        ],\n       [0.11206897, 0.07142857, 0.09756098, 0.01574803, 0.08088235,\n        0.07142857, 0.03125   , 0.08108108, 1.        , 0.06542056],\n       [0.04761905, 0.3539823 , 0.06976744, 0.02325581, 0.01351351,\n        1.        , 0.02      , 0.09821429, 0.07142857, 0.0733945 ],\n       [0.0733945 , 0.05343511, 0.14953271, 0.56      , 0.20535714,\n        0.09821429, 0.26086957, 1.        , 0.08108108, 0.0625    ],\n       [1.        , 0.05      , 0.06451613, 0.008     , 0.05882353,\n        0.04761905, 0.01052632, 0.0733945 , 0.11206897, 0.03738318],\n       [0.05      , 1.        , 0.03378378, 0.02083333, 0.03125   ,\n        0.3539823 , 0.02631579, 0.05343511, 0.07142857, 0.07317073],\n       [0.06451613, 0.03378378, 1.        , 0.056     , 0.02739726,\n        0.06976744, 0.        , 0.14953271, 0.09756098, 0.05405405],\n       [0.01052632, 0.02631579, 0.        , 0.23076923, 0.05555556,\n        0.02      , 1.        , 0.26086957, 0.03125   , 0.        ]])"
     },
     "metadata": {}
    }
   ],
   "execution_count": null
  },
  {
   "cell_type": "code",
   "metadata": {
    "ExecuteTime": {
     "end_time": "2021-05-02T23:10:30.765123Z",
     "start_time": "2021-05-02T23:10:30.763586Z"
    },
    "cell_id": "00014-7de3a034-e387-4d2e-88e9-59deaf1109d8",
    "deepnote_to_be_reexecuted": false,
    "source_hash": "92125e66",
    "execution_start": 1634005721311,
    "execution_millis": 2,
    "deepnote_cell_type": "code"
   },
   "source": "from sklearn.preprocessing import normalize",
   "outputs": [],
   "execution_count": null
  },
  {
   "cell_type": "code",
   "metadata": {
    "ExecuteTime": {
     "end_time": "2021-05-02T23:10:30.769022Z",
     "start_time": "2021-05-02T23:10:30.765947Z"
    },
    "cell_id": "00015-5a55f840-e52c-4c26-8020-f86f170bc915",
    "deepnote_to_be_reexecuted": false,
    "source_hash": "669861b8",
    "execution_start": 1634005721767,
    "execution_millis": 3,
    "deepnote_cell_type": "code"
   },
   "source": "def plot_similarity(labels, features):\n    normalized_features = normalize(features)\n    corr = np.inner(normalized_features, normalized_features)\n    sns.set(font_scale=1.2)\n    g = sns.heatmap(\n        corr,\n        xticklabels=labels,\n        yticklabels=labels,\n        vmin=0,\n        vmax=1,\n        cmap=\"YlOrRd\",\n        annot=True,\n        annot_kws={\"size\": 10},\n    )\n    g.set_xticklabels(labels, rotation=90)\n    g.set_title(\"Similarity\")\n\n\ndef encode_and_plot(labels):\n    enc = SimilarityEncoder(similarity=\"ngram\")\n    X_enc = enc.fit_transform(labels.reshape(-1, 1))\n    plot_similarity(labels, X_enc)",
   "outputs": [],
   "execution_count": null
  },
  {
   "cell_type": "code",
   "metadata": {
    "ExecuteTime": {
     "end_time": "2021-05-02T23:10:31.222503Z",
     "start_time": "2021-05-02T23:10:30.769900Z"
    },
    "cell_id": "00016-960fd1dd-baca-4585-a796-f116c4642fbc",
    "deepnote_to_be_reexecuted": false,
    "source_hash": "923cc1db",
    "execution_start": 1634005723592,
    "execution_millis": 1282,
    "deepnote_cell_type": "code"
   },
   "source": "encode_and_plot(sample)",
   "outputs": [
    {
     "data": {
      "text/plain": "<Figure size 432x288 with 2 Axes>",
      "image/png": "[encoded data removed]"
     },
     "metadata": {
      "image/png": {
       "width": 532,
       "height": 440
      }
     },
     "output_type": "display_data"
    }
   ],
   "execution_count": null
  },
  {
   "cell_type": "markdown",
   "source": "# One-hot Encoding vs Similarity Encoding",
   "metadata": {
    "cell_id": "00017-e48ed98c-6d23-410d-94ee-0942d1e7a301",
    "deepnote_cell_type": "markdown"
   }
  },
  {
   "cell_type": "code",
   "metadata": {
    "ExecuteTime": {
     "end_time": "2021-05-02T23:10:31.226829Z",
     "start_time": "2021-05-02T23:10:31.223487Z"
    },
    "cell_id": "00018-787bc39f-aa77-4720-a19b-8aeff3d4e6f8",
    "deepnote_to_be_reexecuted": false,
    "source_hash": "382d56a4",
    "execution_start": 1634005726108,
    "execution_millis": 15,
    "deepnote_cell_type": "code"
   },
   "source": "from sklearn.preprocessing import FunctionTransformer, StandardScaler\nfrom sklearn.compose import ColumnTransformer\nfrom sklearn.pipeline import Pipeline\nfrom sklearn.model_selection import KFold, cross_val_score\nfrom sklearn.linear_model import RidgeCV",
   "outputs": [],
   "execution_count": null
  },
  {
   "cell_type": "code",
   "metadata": {
    "ExecuteTime": {
     "end_time": "2021-05-02T23:10:31.231019Z",
     "start_time": "2021-05-02T23:10:31.227670Z"
    },
    "cell_id": "00019-aa47f5fe-53ce-41da-bdef-1fe4688131df",
    "deepnote_to_be_reexecuted": false,
    "source_hash": "4b3fbead",
    "execution_start": 1634005726644,
    "execution_millis": 3,
    "deepnote_cell_type": "code"
   },
   "source": "y = df[\"Current Annual Salary\"].values",
   "outputs": [],
   "execution_count": null
  },
  {
   "cell_type": "code",
   "metadata": {
    "ExecuteTime": {
     "end_time": "2021-05-02T23:10:31.234341Z",
     "start_time": "2021-05-02T23:10:31.231985Z"
    },
    "cell_id": "00020-5f0c8f00-27bc-4fc0-b659-37d9d55ae5f8",
    "deepnote_to_be_reexecuted": false,
    "source_hash": "586f264a",
    "execution_start": 1634005727046,
    "execution_millis": 1,
    "deepnote_cell_type": "code"
   },
   "source": "clean_columns = {\n    \"gender\": \"one-hot\",\n    \"department_name\": \"one-hot\",\n    \"assignment_category\": \"one-hot\",\n    \"Year First Hired\": \"numerical\",\n}",
   "outputs": [],
   "execution_count": null
  },
  {
   "cell_type": "code",
   "metadata": {
    "ExecuteTime": {
     "end_time": "2021-05-02T23:10:31.237897Z",
     "start_time": "2021-05-02T23:10:31.235314Z"
    },
    "cell_id": "00021-a3f08138-60cb-4207-8f1c-f3414526e924",
    "deepnote_to_be_reexecuted": false,
    "source_hash": "5d49104d",
    "execution_start": 1634005727628,
    "execution_millis": 5,
    "deepnote_cell_type": "code"
   },
   "source": "encoding_methods = [\"one-hot\", \"similarity\"]",
   "outputs": [],
   "execution_count": null
  },
  {
   "cell_type": "code",
   "metadata": {
    "ExecuteTime": {
     "end_time": "2021-05-02T23:10:31.241776Z",
     "start_time": "2021-05-02T23:10:31.238795Z"
    },
    "cell_id": "00022-0c5d72c7-d59d-40e1-bd41-79f63aceb793",
    "deepnote_to_be_reexecuted": false,
    "source_hash": "1774297d",
    "execution_start": 1634005728112,
    "execution_millis": 4,
    "deepnote_cell_type": "code"
   },
   "source": "encoders_dict = {\n    \"one-hot\": OneHotEncoder(handle_unknown=\"ignore\", sparse=False),\n    \"similarity\": SimilarityEncoder(similarity=\"ngram\"),\n    \"numerical\": FunctionTransformer(None),\n}",
   "outputs": [],
   "execution_count": null
  },
  {
   "cell_type": "code",
   "metadata": {
    "ExecuteTime": {
     "end_time": "2021-05-02T23:10:31.246502Z",
     "start_time": "2021-05-02T23:10:31.243055Z"
    },
    "cell_id": "00023-e0933264-619d-4da0-94ca-ca5cd22f272c",
    "deepnote_to_be_reexecuted": false,
    "source_hash": "935bcca0",
    "execution_start": 1634005731789,
    "execution_millis": 5,
    "deepnote_cell_type": "code"
   },
   "source": "def make_pipeline(encoding_method):\n    # static transformers from the other columns\n    transformers = [\n        (enc + \"_\" + col, encoders_dict[enc], [col])\n        for col, enc in clean_columns.items()\n    ]\n    # adding the encoded column\n    transformers += [(encoding_method, encoders_dict[encoding_method], [dirty_column])]\n    pipeline = Pipeline(\n        [\n            # Use ColumnTransformer to combine the features\n            (\"union\", ColumnTransformer(transformers=transformers, remainder=\"drop\")),\n            (\"scaler\", StandardScaler(with_mean=False)),\n            (\"clf\", RidgeCV()),\n        ]\n    )\n    return pipeline",
   "outputs": [],
   "execution_count": null
  },
  {
   "cell_type": "code",
   "metadata": {
    "ExecuteTime": {
     "end_time": "2021-05-02T23:10:36.330364Z",
     "start_time": "2021-05-02T23:10:31.247314Z"
    },
    "cell_id": "00024-0d7a79e2-3976-4826-adbe-50c6ca92e146",
    "deepnote_to_be_reexecuted": false,
    "source_hash": "6faf09f3",
    "execution_start": 1634005732609,
    "execution_millis": 11677,
    "deepnote_cell_type": "code"
   },
   "source": "all_scores = dict()\n\ncv = KFold(n_splits=5, random_state=12, shuffle=True)\nscoring = \"r2\"\nfor method in encoding_methods:\n    pipeline = make_pipeline(method)\n    scores = cross_val_score(pipeline, df, y, cv=cv, scoring=scoring)\n    print(f\"{method} encoding\")\n    print(f\"{scoring} score:  mean: {np.mean(scores):.3f}; std: {np.std(scores):.3f}\\n\")\n    all_scores[method] = scores",
   "outputs": [
    {
     "name": "stdout",
     "text": "one-hot encoding\nr2 score:  mean: 0.856; std: 0.034\n\nsimilarity encoding\nr2 score:  mean: 0.915; std: 0.012\n\n",
     "output_type": "stream"
    }
   ],
   "execution_count": null
  },
  {
   "cell_type": "markdown",
   "source": "<a style='text-decoration:none;line-height:16px;display:flex;color:#5B5B62;padding:10px;justify-content:end;' href='https://deepnote.com?utm_source=created-in-deepnote-cell&projectId=87197226-98be-42b2-8527-389082831299' target=\"_blank\">\n<img alt='Created in deepnote.com' style='display:inline;max-height:16px;margin:0px;margin-right:7.5px;' src='data:image/svg+xml;base64,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' > </img>\nCreated in <span style='font-weight:600;margin-left:4px;'>Deepnote</span></a>",
   "metadata": {
    "tags": [],
    "created_in_deepnote_cell": true,
    "deepnote_cell_type": "markdown"
   }
  }
 ],
 "nbformat": 4,
 "nbformat_minor": 5,
 "metadata": {
  "kernelspec": {
   "display_name": "Python 3",
   "language": "python",
   "name": "python3"
  },
  "language_info": {
   "codemirror_mode": {
    "name": "ipython",
    "version": 3
   },
   "file_extension": ".py",
   "mimetype": "text/x-python",
   "name": "python",
   "nbconvert_exporter": "python",
   "pygments_lexer": "ipython3",
   "version": "3.8.1"
  },
  "toc": {
   "base_numbering": 1,
   "nav_menu": {},
   "number_sections": true,
   "sideBar": true,
   "skip_h1_title": false,
   "title_cell": "Table of Contents",
   "title_sidebar": "Contents",
   "toc_cell": false,
   "toc_position": {},
   "toc_section_display": true,
   "toc_window_display": false
  },
  "deepnote_notebook_id": "1fe3e4d5-93bb-409e-bbeb-318096ca7076",
  "deepnote": {},
  "deepnote_execution_queue": []
 }
}