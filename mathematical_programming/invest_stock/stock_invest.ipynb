{
 "cells": [
  {
   "cell_type": "markdown",
   "metadata": {},
   "source": [
    "_Find the article for this notebook [here](https://towardsdatascience.com/choose-stocks-to-invest-with-python-584892e3ad22)_"
   ]
  },
  {
   "cell_type": "markdown",
   "metadata": {},
   "source": [
    "# Define Problem"
   ]
  },
  {
   "cell_type": "code",
   "execution_count": 1,
   "metadata": {
    "ExecuteTime": {
     "end_time": "2020-07-31T15:16:45.231507Z",
     "start_time": "2020-07-31T15:16:38.382930Z"
    }
   },
   "outputs": [
    {
     "name": "stdout",
     "output_type": "stream",
     "text": [
      "Collecting mip==1.4.2\n",
      "  Downloading mip-1.4.2-py3-none-any.whl (12.8 MB)\n",
      "\u001b[K     |████████████████████████████████| 12.8 MB 4.2 MB/s eta 0:00:01\n",
      "\u001b[?25hRequirement already satisfied: cffi in /home/khuyentran/anaconda3/envs/scraping/lib/python3.8/site-packages (from mip==1.4.2) (1.14.0)\n",
      "Requirement already satisfied: pycparser in /home/khuyentran/anaconda3/envs/scraping/lib/python3.8/site-packages (from cffi->mip==1.4.2) (2.20)\n",
      "Installing collected packages: mip\n",
      "Successfully installed mip-1.4.2\n",
      "Using Python-MIP package version 1.4.2\n"
     ]
    }
   ],
   "source": [
    "!pip install mip==1.4.2 \n",
    "from mip.model import *\n",
    "import pandas as pd "
   ]
  },
  {
   "cell_type": "code",
   "execution_count": 8,
   "metadata": {
    "ExecuteTime": {
     "end_time": "2020-07-31T15:19:57.274209Z",
     "start_time": "2020-07-31T15:19:57.270788Z"
    }
   },
   "outputs": [],
   "source": [
    "c = [90, 120, 100, 80, 130]\n",
    "b = [45, 60, 50]\n",
    "a = [[10, 15, 12, 9, 13],[20, 15, 25, 15, 10],[15, 20, 20, 15, 10]]\n",
    "T, I = range(len(b)),range(len(c))\n",
    "names = ['A', 'B', 'C', 'D', 'E']"
   ]
  },
  {
   "cell_type": "markdown",
   "metadata": {},
   "source": [
    "# MIP"
   ]
  },
  {
   "cell_type": "markdown",
   "metadata": {},
   "source": [
    "## Define model"
   ]
  },
  {
   "cell_type": "code",
   "execution_count": 5,
   "metadata": {
    "ExecuteTime": {
     "end_time": "2020-07-31T15:17:56.745749Z",
     "start_time": "2020-07-31T15:17:56.742815Z"
    }
   },
   "outputs": [],
   "source": [
    "m = Model(sense = MAXIMIZE,solver_name=CBC)\n"
   ]
  },
  {
   "cell_type": "markdown",
   "metadata": {},
   "source": [
    "## Add variables"
   ]
  },
  {
   "cell_type": "code",
   "execution_count": 9,
   "metadata": {
    "ExecuteTime": {
     "end_time": "2020-07-31T15:20:00.787475Z",
     "start_time": "2020-07-31T15:20:00.784730Z"
    }
   },
   "outputs": [],
   "source": [
    "x = [[m.add_var(name = names[i], var_type=BINARY) for i in I] for t in T]"
   ]
  },
  {
   "cell_type": "markdown",
   "metadata": {},
   "source": [
    "## Define objective"
   ]
  },
  {
   "cell_type": "code",
   "execution_count": 10,
   "metadata": {
    "ExecuteTime": {
     "end_time": "2020-07-31T15:20:20.437906Z",
     "start_time": "2020-07-31T15:20:20.432516Z"
    }
   },
   "outputs": [],
   "source": [
    "m.objective = maximize(xsum(c[i] * x[t][i] for i in I for t in T))"
   ]
  },
  {
   "cell_type": "markdown",
   "metadata": {},
   "source": [
    "## Add constraints"
   ]
  },
  {
   "cell_type": "code",
   "execution_count": 11,
   "metadata": {
    "ExecuteTime": {
     "end_time": "2020-07-31T15:20:29.151466Z",
     "start_time": "2020-07-31T15:20:29.140172Z"
    }
   },
   "outputs": [],
   "source": [
    "for t in range(3):  \n",
    "    m += xsum(a[t][i] * x[t][i] for i in I) <= b[t]"
   ]
  },
  {
   "cell_type": "markdown",
   "metadata": {},
   "source": [
    "## Optimize"
   ]
  },
  {
   "cell_type": "code",
   "execution_count": 12,
   "metadata": {
    "ExecuteTime": {
     "end_time": "2020-07-31T15:20:38.589594Z",
     "start_time": "2020-07-31T15:20:38.570656Z"
    }
   },
   "outputs": [
    {
     "name": "stdout",
     "output_type": "stream",
     "text": [
      "optimal solution cost 1170.0 found\n"
     ]
    }
   ],
   "source": [
    "status = m.optimize() \n",
    "if status == OptimizationStatus.OPTIMAL:  \n",
    "     print('optimal solution cost {} found'.format(m.objective_value)) "
   ]
  },
  {
   "cell_type": "markdown",
   "metadata": {},
   "source": [
    "## Results"
   ]
  },
  {
   "cell_type": "code",
   "execution_count": 13,
   "metadata": {
    "ExecuteTime": {
     "end_time": "2020-07-31T15:22:32.448982Z",
     "start_time": "2020-07-31T15:22:32.441742Z"
    }
   },
   "outputs": [],
   "source": [
    "results = {}\n",
    "for i in range(3):  \n",
    "     results[i+1] = [m.vars[j].x for j in range(5*i,5*i+5)]"
   ]
  },
  {
   "cell_type": "code",
   "execution_count": 16,
   "metadata": {
    "ExecuteTime": {
     "end_time": "2020-07-31T15:23:07.709792Z",
     "start_time": "2020-07-31T15:23:07.706660Z"
    }
   },
   "outputs": [],
   "source": [
    "result = pd.DataFrame(data = results, index = ['A','B','C','D','E'])"
   ]
  },
  {
   "cell_type": "code",
   "execution_count": 18,
   "metadata": {
    "ExecuteTime": {
     "end_time": "2020-07-31T15:23:15.965450Z",
     "start_time": "2020-07-31T15:23:15.958101Z"
    }
   },
   "outputs": [
    {
     "data": {
      "text/html": [
       "<div>\n",
       "<style scoped>\n",
       "    .dataframe tbody tr th:only-of-type {\n",
       "        vertical-align: middle;\n",
       "    }\n",
       "\n",
       "    .dataframe tbody tr th {\n",
       "        vertical-align: top;\n",
       "    }\n",
       "\n",
       "    .dataframe thead th {\n",
       "        text-align: right;\n",
       "    }\n",
       "</style>\n",
       "<table border=\"1\" class=\"dataframe\">\n",
       "  <thead>\n",
       "    <tr style=\"text-align: right;\">\n",
       "      <th></th>\n",
       "      <th>1</th>\n",
       "      <th>2</th>\n",
       "      <th>3</th>\n",
       "    </tr>\n",
       "  </thead>\n",
       "  <tbody>\n",
       "    <tr>\n",
       "      <th>A</th>\n",
       "      <td>1.0</td>\n",
       "      <td>1.0</td>\n",
       "      <td>0.0</td>\n",
       "    </tr>\n",
       "    <tr>\n",
       "      <th>B</th>\n",
       "      <td>0.0</td>\n",
       "      <td>1.0</td>\n",
       "      <td>1.0</td>\n",
       "    </tr>\n",
       "    <tr>\n",
       "      <th>C</th>\n",
       "      <td>1.0</td>\n",
       "      <td>0.0</td>\n",
       "      <td>1.0</td>\n",
       "    </tr>\n",
       "    <tr>\n",
       "      <th>D</th>\n",
       "      <td>1.0</td>\n",
       "      <td>1.0</td>\n",
       "      <td>0.0</td>\n",
       "    </tr>\n",
       "    <tr>\n",
       "      <th>E</th>\n",
       "      <td>1.0</td>\n",
       "      <td>1.0</td>\n",
       "      <td>1.0</td>\n",
       "    </tr>\n",
       "  </tbody>\n",
       "</table>\n",
       "</div>"
      ],
      "text/plain": [
       "     1    2    3\n",
       "A  1.0  1.0  0.0\n",
       "B  0.0  1.0  1.0\n",
       "C  1.0  0.0  1.0\n",
       "D  1.0  1.0  0.0\n",
       "E  1.0  1.0  1.0"
      ]
     },
     "execution_count": 18,
     "metadata": {},
     "output_type": "execute_result"
    }
   ],
   "source": [
    "result"
   ]
  },
  {
   "cell_type": "code",
   "execution_count": null,
   "metadata": {},
   "outputs": [],
   "source": []
  }
 ],
 "metadata": {
  "kernelspec": {
   "display_name": "Python 3",
   "language": "python",
   "name": "python3"
  },
  "language_info": {
   "codemirror_mode": {
    "name": "ipython",
    "version": 3
   },
   "file_extension": ".py",
   "mimetype": "text/x-python",
   "name": "python",
   "nbconvert_exporter": "python",
   "pygments_lexer": "ipython3",
   "version": "3.8.3"
  },
  "latex_envs": {
   "LaTeX_envs_menu_present": true,
   "autoclose": false,
   "autocomplete": true,
   "bibliofile": "biblio.bib",
   "cite_by": "apalike",
   "current_citInitial": 1,
   "eqLabelWithNumbers": true,
   "eqNumInitial": 1,
   "hotkeys": {
    "equation": "Ctrl-E",
    "itemize": "Ctrl-I"
   },
   "labels_anchors": false,
   "latex_user_defs": false,
   "report_style_numbering": false,
   "user_envs_cfg": false
  },
  "toc": {
   "base_numbering": 1,
   "nav_menu": {},
   "number_sections": true,
   "sideBar": true,
   "skip_h1_title": false,
   "title_cell": "Table of Contents",
   "title_sidebar": "Contents",
   "toc_cell": false,
   "toc_position": {},
   "toc_section_display": true,
   "toc_window_display": false
  }
 },
 "nbformat": 4,
 "nbformat_minor": 4
}
