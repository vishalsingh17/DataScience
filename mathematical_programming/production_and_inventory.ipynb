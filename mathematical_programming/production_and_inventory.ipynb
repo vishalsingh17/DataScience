{
 "cells": [
  {
   "cell_type": "markdown",
   "id": "6bf6bd44",
   "metadata": {
    "ExecuteTime": {
     "end_time": "2021-07-31T14:21:44.920184Z",
     "start_time": "2021-07-31T14:21:44.900204Z"
    }
   },
   "source": [
    "Dependencies:\n",
    "\n",
    "numpy: 1.21.0\\\n",
    "cvxpy: 1.1.14\\\n",
    "json : 2.0.9"
   ]
  },
  {
   "cell_type": "markdown",
   "id": "cb715525",
   "metadata": {},
   "source": [
    "* Demands: \n",
    "    * Day 1: 75\n",
    "    * Day 2: 150\n",
    "    * Day 3: 100\n",
    "    * Day 4: 60\n",
    "* Unit production cost:\n",
    "    * Day 1: \\$4\n",
    "    * Day 2: \\$5\n",
    "    * Day 3: \\$7\n",
    "    * Day 4: \\$4\n",
    "* Inventory cost: $1 per unit per day\n",
    "\n",
    "How many units should we produce per day to minimize the total cost?"
   ]
  },
  {
   "cell_type": "markdown",
   "id": "b8c33244",
   "metadata": {},
   "source": [
    "# Problem statement"
   ]
  },
  {
   "cell_type": "markdown",
   "id": "a37c25a9",
   "metadata": {},
   "source": [
    "**Input parameters**\n",
    "\n",
    "$d_t$: demand in day $t$, $t=1,..., 4$\n",
    "\n",
    "$c_t$: unit cost in day $t$, $t=1,..., 4$"
   ]
  },
  {
   "cell_type": "code",
   "execution_count": 136,
   "id": "505ceda3",
   "metadata": {
    "ExecuteTime": {
     "end_time": "2021-07-31T18:16:11.528065Z",
     "start_time": "2021-07-31T18:16:11.523551Z"
    }
   },
   "outputs": [],
   "source": [
    "d = [75, 150, 100, 60]\n",
    "c = [4, 5, 7, 4]"
   ]
  },
  {
   "cell_type": "markdown",
   "id": "aa3743ce",
   "metadata": {},
   "source": [
    "**Decision variables**:\n",
    "\n",
    "$q_t$: production quantity of day $t$, $t=1, ..., 4$\n",
    "\n",
    "$e_t$: ending inventory of day $t, t=0,1, ..., 4$"
   ]
  },
  {
   "cell_type": "code",
   "execution_count": 137,
   "id": "799fd25e",
   "metadata": {
    "ExecuteTime": {
     "end_time": "2021-07-31T18:16:11.978889Z",
     "start_time": "2021-07-31T18:16:11.975751Z"
    }
   },
   "outputs": [],
   "source": [
    "import cvxpy as cp"
   ]
  },
  {
   "cell_type": "code",
   "execution_count": 138,
   "id": "2b139ffb",
   "metadata": {
    "ExecuteTime": {
     "end_time": "2021-07-31T18:16:12.161476Z",
     "start_time": "2021-07-31T18:16:12.157524Z"
    }
   },
   "outputs": [],
   "source": [
    "t = 4\n",
    "q = cp.Variable(t, integer=True)\n",
    "e = cp.Variable(t+1, integer=True)"
   ]
  },
  {
   "cell_type": "markdown",
   "id": "8c880a93",
   "metadata": {},
   "source": [
    "**Objectives:**\n",
    "\n",
    "\\begin{align}\n",
    "\\min \\sum_{t=1}^4 c_t q_t + e_t \\times 1\n",
    "\\end{align}"
   ]
  },
  {
   "cell_type": "markdown",
   "id": "2045d720",
   "metadata": {},
   "source": [
    "$$e_t \\times 1 = e_t$$"
   ]
  },
  {
   "cell_type": "markdown",
   "id": "a3e30410",
   "metadata": {},
   "source": [
    "$$\n",
    "\\sum_{t=1}^4 c_t q_t = 4\\times75 + 8 \\times 150 + 12 \\times 100 + 7 \\times 60 \\\\\n",
    "= \\begin{bmatrix}\n",
    "4& 8& 12& 7\n",
    "\\end{bmatrix} \\begin{bmatrix}\n",
    "75\\\\ \n",
    "150\\\\ \n",
    "100\\\\\n",
    "60\n",
    "\\end{bmatrix} \\\\\n",
    "$$"
   ]
  },
  {
   "cell_type": "code",
   "execution_count": 139,
   "id": "ded6987e",
   "metadata": {
    "ExecuteTime": {
     "end_time": "2021-07-31T18:16:12.973556Z",
     "start_time": "2021-07-31T18:16:12.969432Z"
    }
   },
   "outputs": [],
   "source": [
    "obj = cp.Minimize(c @ q + sum(e))"
   ]
  },
  {
   "cell_type": "markdown",
   "id": "261f4290",
   "metadata": {},
   "source": [
    "**Constraints:**\n",
    "\n",
    "The ending inventory is equal to the production quantity of day $t$ subtract the demand in day $t$:\n",
    "\n",
    "$$\n",
    "e_1 = e_0 + q_1 - d_1\\\\\n",
    "e_2 = e_1 + q_2 - d_2\\\\\n",
    "$$\n",
    "In general, we have:\n",
    "$$\n",
    "e_t = e_{t-1} + q_t - d_t \\;\\; \\forall t = 1, 2, 3, 4\\\\\n",
    "$$\n",
    "\n",
    "The number of units in inventory at the beginning of day 1 is 0:\n",
    "$$e_0 = 0$$\n",
    "\n",
    "The number of units in inventory cannot be negative:\n",
    "$$e_t \\geq 0\\;\\; \\forall t = 0, 1, 2, 3, 4$$\n",
    "\n",
    "Production quantitiy cannot be negative:\n",
    "$$q_t \\geq 0\\;\\; \\forall t = 1, 2, 3, 4$$"
   ]
  },
  {
   "cell_type": "code",
   "execution_count": 155,
   "id": "7d5f27cd",
   "metadata": {
    "ExecuteTime": {
     "end_time": "2021-07-31T18:27:59.149121Z",
     "start_time": "2021-07-31T18:27:59.136403Z"
    }
   },
   "outputs": [
    {
     "data": {
      "application/javascript": [
       "\n",
       "            setTimeout(function() {\n",
       "                var nbb_cell_id = 155;\n",
       "                var nbb_unformatted_code = \"constraints = [\\n    e[0] == 0, \\n    e[1:] == e[:-1] + q - d, \\n    e >= 0, q >= 0\\n]\";\n",
       "                var nbb_formatted_code = \"constraints = [e[0] == 0, e[1:] == e[:-1] + q - d, e >= 0, q >= 0]\";\n",
       "                var nbb_cells = Jupyter.notebook.get_cells();\n",
       "                for (var i = 0; i < nbb_cells.length; ++i) {\n",
       "                    if (nbb_cells[i].input_prompt_number == nbb_cell_id) {\n",
       "                        if (nbb_cells[i].get_text() == nbb_unformatted_code) {\n",
       "                             nbb_cells[i].set_text(nbb_formatted_code);\n",
       "                        }\n",
       "                        break;\n",
       "                    }\n",
       "                }\n",
       "            }, 500);\n",
       "            "
      ],
      "text/plain": [
       "<IPython.core.display.Javascript object>"
      ]
     },
     "metadata": {},
     "output_type": "display_data"
    }
   ],
   "source": [
    "constraints = [e[0] == 0, e[1:] == e[:-1] + q - d, e >= 0, q >= 0]"
   ]
  },
  {
   "cell_type": "markdown",
   "id": "5f4426f3",
   "metadata": {},
   "source": [
    "# Solve"
   ]
  },
  {
   "cell_type": "code",
   "execution_count": 141,
   "id": "46127637",
   "metadata": {
    "ExecuteTime": {
     "end_time": "2021-07-31T18:16:13.786917Z",
     "start_time": "2021-07-31T18:16:13.783567Z"
    }
   },
   "outputs": [],
   "source": [
    "prob = cp.Problem(obj, constraints)"
   ]
  },
  {
   "cell_type": "code",
   "execution_count": 142,
   "id": "6a73a396",
   "metadata": {
    "ExecuteTime": {
     "end_time": "2021-07-31T18:16:14.045808Z",
     "start_time": "2021-07-31T18:16:14.026728Z"
    }
   },
   "outputs": [
    {
     "data": {
      "text/plain": [
       "1890.0"
      ]
     },
     "execution_count": 142,
     "metadata": {},
     "output_type": "execute_result"
    }
   ],
   "source": [
    "prob.solve()"
   ]
  },
  {
   "cell_type": "code",
   "execution_count": 143,
   "id": "cb5f81cc",
   "metadata": {
    "ExecuteTime": {
     "end_time": "2021-07-31T18:16:14.244944Z",
     "start_time": "2021-07-31T18:16:14.240190Z"
    }
   },
   "outputs": [
    {
     "data": {
      "text/plain": [
       "'optimal'"
      ]
     },
     "execution_count": 143,
     "metadata": {},
     "output_type": "execute_result"
    }
   ],
   "source": [
    "prob.status"
   ]
  },
  {
   "cell_type": "code",
   "execution_count": 144,
   "id": "a845f9d1",
   "metadata": {
    "ExecuteTime": {
     "end_time": "2021-07-31T18:16:14.557757Z",
     "start_time": "2021-07-31T18:16:14.553650Z"
    }
   },
   "outputs": [
    {
     "name": "stdout",
     "output_type": "stream",
     "text": [
      "[ 75. 250.   0.  60.]\n"
     ]
    }
   ],
   "source": [
    "print(q.value)"
   ]
  },
  {
   "cell_type": "code",
   "execution_count": 145,
   "id": "38892cf5",
   "metadata": {
    "ExecuteTime": {
     "end_time": "2021-07-31T18:16:14.999851Z",
     "start_time": "2021-07-31T18:16:14.996610Z"
    }
   },
   "outputs": [
    {
     "name": "stdout",
     "output_type": "stream",
     "text": [
      "[  0.   0. 100.   0.   0.]\n"
     ]
    }
   ],
   "source": [
    "print(e.value)"
   ]
  },
  {
   "cell_type": "markdown",
   "id": "3e208865",
   "metadata": {},
   "source": [
    "# Experiment with Other Possible Combinations"
   ]
  },
  {
   "cell_type": "code",
   "execution_count": 146,
   "id": "ff43ea41",
   "metadata": {
    "ExecuteTime": {
     "end_time": "2021-07-31T18:16:17.857141Z",
     "start_time": "2021-07-31T18:16:17.853793Z"
    }
   },
   "outputs": [],
   "source": [
    "import numpy as np"
   ]
  },
  {
   "cell_type": "code",
   "execution_count": 147,
   "id": "ffad7ffc",
   "metadata": {
    "ExecuteTime": {
     "end_time": "2021-07-31T18:16:18.239929Z",
     "start_time": "2021-07-31T18:16:18.234791Z"
    }
   },
   "outputs": [],
   "source": [
    "def calculate_inventory(demands: np.array, quantities: np.array):\n",
    "    \"\"\"Calculate the ending inventory based on the demand and the production quantities for each day\"\"\"\n",
    "\n",
    "    inventory = []\n",
    "    new_inventory = 0\n",
    "    for i in range(len(quantities)):\n",
    "        new_inventory = new_inventory + quantities[i] - demands[i]\n",
    "        inventory.append(new_inventory)\n",
    "    return inventory"
   ]
  },
  {
   "cell_type": "code",
   "execution_count": 156,
   "id": "e1e863d6",
   "metadata": {
    "ExecuteTime": {
     "end_time": "2021-07-31T18:31:38.300985Z",
     "start_time": "2021-07-31T18:31:38.286340Z"
    }
   },
   "outputs": [
    {
     "data": {
      "application/javascript": [
       "\n",
       "            setTimeout(function() {\n",
       "                var nbb_cell_id = 156;\n",
       "                var nbb_unformatted_code = \"def get_cost(demands: np.array, cost: np.array, quantities: np.array):\\n    \\\"\\\"\\\"Get the total cost based on the production quantities\\\"\\\"\\\"\\n    inventory_per_day = calculate_inventory(demands, quantities)\\n    return sum(cost * quantities + inventory_per_day * 1)\";\n",
       "                var nbb_formatted_code = \"def get_cost(demands: np.array, cost: np.array, quantities: np.array):\\n    \\\"\\\"\\\"Get the total cost based on the production quantities\\\"\\\"\\\"\\n    inventory_per_day = calculate_inventory(demands, quantities)\\n    return sum(cost * quantities + inventory_per_day * 1)\";\n",
       "                var nbb_cells = Jupyter.notebook.get_cells();\n",
       "                for (var i = 0; i < nbb_cells.length; ++i) {\n",
       "                    if (nbb_cells[i].input_prompt_number == nbb_cell_id) {\n",
       "                        if (nbb_cells[i].get_text() == nbb_unformatted_code) {\n",
       "                             nbb_cells[i].set_text(nbb_formatted_code);\n",
       "                        }\n",
       "                        break;\n",
       "                    }\n",
       "                }\n",
       "            }, 500);\n",
       "            "
      ],
      "text/plain": [
       "<IPython.core.display.Javascript object>"
      ]
     },
     "metadata": {},
     "output_type": "display_data"
    }
   ],
   "source": [
    "def get_cost(demands: np.array, cost: np.array, quantities: np.array):\n",
    "    \"\"\"Get the total cost based on the production quantities\"\"\"\n",
    "    inventory_per_day = calculate_inventory(demands, quantities)\n",
    "    return sum(cost * quantities + inventory_per_day * 1)"
   ]
  },
  {
   "cell_type": "markdown",
   "id": "f2605b33",
   "metadata": {},
   "source": [
    "Produce everything in the first day"
   ]
  },
  {
   "cell_type": "code",
   "execution_count": 157,
   "id": "b9cff4a1",
   "metadata": {
    "ExecuteTime": {
     "end_time": "2021-07-31T18:31:38.877942Z",
     "start_time": "2021-07-31T18:31:38.863022Z"
    }
   },
   "outputs": [
    {
     "data": {
      "text/plain": [
       "2070"
      ]
     },
     "execution_count": 157,
     "metadata": {},
     "output_type": "execute_result"
    },
    {
     "data": {
      "application/javascript": [
       "\n",
       "            setTimeout(function() {\n",
       "                var nbb_cell_id = 157;\n",
       "                var nbb_unformatted_code = \"demands = np.array([75, 150, 100, 60])\\ncost = np.array([4, 5, 7, 4])\\nquantities = np.array([385, 0, 0, 0])\\nget_cost(demands, cost, quantities)\";\n",
       "                var nbb_formatted_code = \"demands = np.array([75, 150, 100, 60])\\ncost = np.array([4, 5, 7, 4])\\nquantities = np.array([385, 0, 0, 0])\\nget_cost(demands, cost, quantities)\";\n",
       "                var nbb_cells = Jupyter.notebook.get_cells();\n",
       "                for (var i = 0; i < nbb_cells.length; ++i) {\n",
       "                    if (nbb_cells[i].input_prompt_number == nbb_cell_id) {\n",
       "                        if (nbb_cells[i].get_text() == nbb_unformatted_code) {\n",
       "                             nbb_cells[i].set_text(nbb_formatted_code);\n",
       "                        }\n",
       "                        break;\n",
       "                    }\n",
       "                }\n",
       "            }, 500);\n",
       "            "
      ],
      "text/plain": [
       "<IPython.core.display.Javascript object>"
      ]
     },
     "metadata": {},
     "output_type": "display_data"
    }
   ],
   "source": [
    "demands = np.array([75, 150, 100, 60])\n",
    "cost = np.array([4, 5, 7, 4])\n",
    "quantities = np.array([385, 0, 0, 0])\n",
    "get_cost(demands, cost, quantities)"
   ]
  },
  {
   "cell_type": "markdown",
   "id": "45bdd1af",
   "metadata": {},
   "source": [
    "Produce everything in the first day and second day"
   ]
  },
  {
   "cell_type": "code",
   "execution_count": 158,
   "id": "a3f0398b",
   "metadata": {
    "ExecuteTime": {
     "end_time": "2021-07-31T18:31:39.829520Z",
     "start_time": "2021-07-31T18:31:39.723814Z"
    }
   },
   "outputs": [
    {
     "data": {
      "text/plain": [
       "2070"
      ]
     },
     "execution_count": 158,
     "metadata": {},
     "output_type": "execute_result"
    },
    {
     "data": {
      "application/javascript": [
       "\n",
       "            setTimeout(function() {\n",
       "                var nbb_cell_id = 158;\n",
       "                var nbb_unformatted_code = \"quantities = np.array([300, 85, 0, 0])\\nget_cost(demands, cost, quantities)\";\n",
       "                var nbb_formatted_code = \"quantities = np.array([300, 85, 0, 0])\\nget_cost(demands, cost, quantities)\";\n",
       "                var nbb_cells = Jupyter.notebook.get_cells();\n",
       "                for (var i = 0; i < nbb_cells.length; ++i) {\n",
       "                    if (nbb_cells[i].input_prompt_number == nbb_cell_id) {\n",
       "                        if (nbb_cells[i].get_text() == nbb_unformatted_code) {\n",
       "                             nbb_cells[i].set_text(nbb_formatted_code);\n",
       "                        }\n",
       "                        break;\n",
       "                    }\n",
       "                }\n",
       "            }, 500);\n",
       "            "
      ],
      "text/plain": [
       "<IPython.core.display.Javascript object>"
      ]
     },
     "metadata": {},
     "output_type": "display_data"
    }
   ],
   "source": [
    "quantities = np.array([300, 85, 0, 0])\n",
    "get_cost(demands, cost, quantities)"
   ]
  },
  {
   "cell_type": "markdown",
   "id": "4cc2f33a",
   "metadata": {},
   "source": [
    "Produce just enough to fulfill the demand for each day"
   ]
  },
  {
   "cell_type": "code",
   "execution_count": 159,
   "id": "0a230f34",
   "metadata": {
    "ExecuteTime": {
     "end_time": "2021-07-31T18:31:55.631823Z",
     "start_time": "2021-07-31T18:31:55.619140Z"
    }
   },
   "outputs": [
    {
     "data": {
      "text/plain": [
       "1990"
      ]
     },
     "execution_count": 159,
     "metadata": {},
     "output_type": "execute_result"
    },
    {
     "data": {
      "application/javascript": [
       "\n",
       "            setTimeout(function() {\n",
       "                var nbb_cell_id = 159;\n",
       "                var nbb_unformatted_code = \"quantities = np.array([75, 150, 100, 60])\\nget_cost(demands, cost, quantities)\";\n",
       "                var nbb_formatted_code = \"quantities = np.array([75, 150, 100, 60])\\nget_cost(demands, cost, quantities)\";\n",
       "                var nbb_cells = Jupyter.notebook.get_cells();\n",
       "                for (var i = 0; i < nbb_cells.length; ++i) {\n",
       "                    if (nbb_cells[i].input_prompt_number == nbb_cell_id) {\n",
       "                        if (nbb_cells[i].get_text() == nbb_unformatted_code) {\n",
       "                             nbb_cells[i].set_text(nbb_formatted_code);\n",
       "                        }\n",
       "                        break;\n",
       "                    }\n",
       "                }\n",
       "            }, 500);\n",
       "            "
      ],
      "text/plain": [
       "<IPython.core.display.Javascript object>"
      ]
     },
     "metadata": {},
     "output_type": "display_data"
    }
   ],
   "source": [
    "quantities = np.array([75, 150, 100, 60])\n",
    "get_cost(demands, cost, quantities)"
   ]
  },
  {
   "cell_type": "markdown",
   "id": "97899801",
   "metadata": {},
   "source": [
    "Produce everything in the first day and the last day"
   ]
  },
  {
   "cell_type": "code",
   "execution_count": 152,
   "id": "995d7be8",
   "metadata": {
    "ExecuteTime": {
     "end_time": "2021-07-31T18:16:23.135150Z",
     "start_time": "2021-07-31T18:16:23.129085Z"
    }
   },
   "outputs": [
    {
     "data": {
      "text/plain": [
       "1890"
      ]
     },
     "execution_count": 152,
     "metadata": {},
     "output_type": "execute_result"
    }
   ],
   "source": [
    "quantities = np.array([325, 0, 0, 60])\n",
    "get_cost(demands, cost, quantities)"
   ]
  }
 ],
 "metadata": {
  "hide_input": false,
  "kernelspec": {
   "display_name": "Python 3",
   "language": "python",
   "name": "python3"
  },
  "language_info": {
   "codemirror_mode": {
    "name": "ipython",
    "version": 3
   },
   "file_extension": ".py",
   "mimetype": "text/x-python",
   "name": "python",
   "nbconvert_exporter": "python",
   "pygments_lexer": "ipython3",
   "version": "3.8.10"
  },
  "toc": {
   "base_numbering": 1,
   "nav_menu": {},
   "number_sections": true,
   "sideBar": true,
   "skip_h1_title": false,
   "title_cell": "Table of Contents",
   "title_sidebar": "Contents",
   "toc_cell": false,
   "toc_position": {},
   "toc_section_display": true,
   "toc_window_display": false
  },
  "varInspector": {
   "cols": {
    "lenName": 16,
    "lenType": 16,
    "lenVar": 40
   },
   "kernels_config": {
    "python": {
     "delete_cmd_postfix": "",
     "delete_cmd_prefix": "del ",
     "library": "var_list.py",
     "varRefreshCmd": "print(var_dic_list())"
    },
    "r": {
     "delete_cmd_postfix": ") ",
     "delete_cmd_prefix": "rm(",
     "library": "var_list.r",
     "varRefreshCmd": "cat(var_dic_list()) "
    }
   },
   "types_to_exclude": [
    "module",
    "function",
    "builtin_function_or_method",
    "instance",
    "_Feature"
   ],
   "window_display": false
  }
 },
 "nbformat": 4,
 "nbformat_minor": 5
}
