{
 "cells": [
  {
   "cell_type": "markdown",
   "id": "dutch-rwanda",
   "metadata": {},
   "source": [
    "# Import data"
   ]
  },
  {
   "cell_type": "code",
   "execution_count": null,
   "id": "reflected-translation",
   "metadata": {
    "ExecuteTime": {
     "end_time": "2021-07-05T16:50:49.507208Z",
     "start_time": "2021-07-05T16:50:35.946139Z"
    }
   },
   "outputs": [],
   "source": [
    "pip install gdown"
   ]
  },
  {
   "cell_type": "code",
   "execution_count": null,
   "id": "noble-marriage",
   "metadata": {
    "ExecuteTime": {
     "end_time": "2021-07-05T16:51:02.906561Z",
     "start_time": "2021-07-05T16:50:53.610768Z"
    }
   },
   "outputs": [],
   "source": [
    "pip install pulp==2.4"
   ]
  },
  {
   "cell_type": "code",
   "execution_count": 22,
   "id": "announced-ranking",
   "metadata": {
    "ExecuteTime": {
     "end_time": "2021-07-05T16:55:10.275087Z",
     "start_time": "2021-07-05T16:55:10.272203Z"
    }
   },
   "outputs": [],
   "source": [
    "import pandas as pd\n",
    "from pulp import *\n",
    "import gdown"
   ]
  },
  {
   "cell_type": "code",
   "execution_count": null,
   "id": "criminal-jackson",
   "metadata": {
    "ExecuteTime": {
     "end_time": "2021-07-05T16:53:07.308579Z",
     "start_time": "2021-07-05T16:53:06.049627Z"
    }
   },
   "outputs": [],
   "source": [
    "# Install file from Google Drive\n",
    "\n",
    "url = \"https://drive.google.com/uc?id=15BPH7-3GGWBfXPJQ3stkT6SHQECbT-pt\"\n",
    "output = \"shifts.csv\"\n",
    "gdown.download(url, output, quiet=False)"
   ]
  },
  {
   "cell_type": "code",
   "execution_count": 23,
   "id": "round-grounds",
   "metadata": {
    "ExecuteTime": {
     "end_time": "2021-07-05T16:55:11.612486Z",
     "start_time": "2021-07-05T16:55:11.599319Z"
    }
   },
   "outputs": [
    {
     "data": {
      "text/html": [
       "<div>\n",
       "<style scoped>\n",
       "    .dataframe tbody tr th:only-of-type {\n",
       "        vertical-align: middle;\n",
       "    }\n",
       "\n",
       "    .dataframe tbody tr th {\n",
       "        vertical-align: top;\n",
       "    }\n",
       "\n",
       "    .dataframe thead th {\n",
       "        text-align: right;\n",
       "    }\n",
       "</style>\n",
       "<table border=\"1\" class=\"dataframe\">\n",
       "  <thead>\n",
       "    <tr style=\"text-align: right;\">\n",
       "      <th></th>\n",
       "      <th>Shift 1</th>\n",
       "      <th>Shift 2</th>\n",
       "      <th>Shift 3</th>\n",
       "      <th>Shift 4</th>\n",
       "      <th>Workers Required</th>\n",
       "    </tr>\n",
       "    <tr>\n",
       "      <th>Time Windows</th>\n",
       "      <th></th>\n",
       "      <th></th>\n",
       "      <th></th>\n",
       "      <th></th>\n",
       "      <th></th>\n",
       "    </tr>\n",
       "  </thead>\n",
       "  <tbody>\n",
       "    <tr>\n",
       "      <th>6:00 – 9:00</th>\n",
       "      <td>X</td>\n",
       "      <td>NaN</td>\n",
       "      <td>NaN</td>\n",
       "      <td>X</td>\n",
       "      <td>55.0</td>\n",
       "    </tr>\n",
       "    <tr>\n",
       "      <th>9:00 – 12:00</th>\n",
       "      <td>X</td>\n",
       "      <td>NaN</td>\n",
       "      <td>NaN</td>\n",
       "      <td>NaN</td>\n",
       "      <td>46.0</td>\n",
       "    </tr>\n",
       "    <tr>\n",
       "      <th>12:00 – 15:00</th>\n",
       "      <td>X</td>\n",
       "      <td>X</td>\n",
       "      <td>NaN</td>\n",
       "      <td>NaN</td>\n",
       "      <td>59.0</td>\n",
       "    </tr>\n",
       "    <tr>\n",
       "      <th>15:00 – 18:00</th>\n",
       "      <td>NaN</td>\n",
       "      <td>X</td>\n",
       "      <td>NaN</td>\n",
       "      <td>NaN</td>\n",
       "      <td>23.0</td>\n",
       "    </tr>\n",
       "    <tr>\n",
       "      <th>18:00 – 21:00</th>\n",
       "      <td>NaN</td>\n",
       "      <td>X</td>\n",
       "      <td>X</td>\n",
       "      <td>NaN</td>\n",
       "      <td>60.0</td>\n",
       "    </tr>\n",
       "    <tr>\n",
       "      <th>21:00 – 24:00</th>\n",
       "      <td>NaN</td>\n",
       "      <td>NaN</td>\n",
       "      <td>X</td>\n",
       "      <td>NaN</td>\n",
       "      <td>38.0</td>\n",
       "    </tr>\n",
       "    <tr>\n",
       "      <th>24:00 – 3:00</th>\n",
       "      <td>NaN</td>\n",
       "      <td>NaN</td>\n",
       "      <td>X</td>\n",
       "      <td>X</td>\n",
       "      <td>20.0</td>\n",
       "    </tr>\n",
       "    <tr>\n",
       "      <th>3:00 – 6:00</th>\n",
       "      <td>NaN</td>\n",
       "      <td>NaN</td>\n",
       "      <td>NaN</td>\n",
       "      <td>X</td>\n",
       "      <td>30.0</td>\n",
       "    </tr>\n",
       "    <tr>\n",
       "      <th>Wage rate per 9h shift ($)</th>\n",
       "      <td>135</td>\n",
       "      <td>140</td>\n",
       "      <td>190</td>\n",
       "      <td>188</td>\n",
       "      <td>NaN</td>\n",
       "    </tr>\n",
       "  </tbody>\n",
       "</table>\n",
       "</div>"
      ],
      "text/plain": [
       "                           Shift 1 Shift 2 Shift 3 Shift 4  Workers Required\n",
       "Time Windows                                                                \n",
       "6:00 – 9:00                      X     NaN     NaN       X              55.0\n",
       "9:00 – 12:00                     X     NaN     NaN     NaN              46.0\n",
       "12:00 – 15:00                    X       X     NaN     NaN              59.0\n",
       "15:00 – 18:00                  NaN       X     NaN     NaN              23.0\n",
       "18:00 – 21:00                  NaN       X       X     NaN              60.0\n",
       "21:00 – 24:00                  NaN     NaN       X     NaN              38.0\n",
       "24:00 – 3:00                   NaN     NaN       X       X              20.0\n",
       "3:00 – 6:00                    NaN     NaN     NaN       X              30.0\n",
       "Wage rate per 9h shift ($)     135     140     190     188               NaN"
      ]
     },
     "execution_count": 23,
     "metadata": {},
     "output_type": "execute_result"
    }
   ],
   "source": [
    "df = pd.read_csv(\"shifts.csv\", index_col=0)\n",
    "df"
   ]
  },
  {
   "cell_type": "markdown",
   "id": "distinct-accident",
   "metadata": {},
   "source": [
    "# Formulation "
   ]
  },
  {
   "cell_type": "markdown",
   "id": "approved-replication",
   "metadata": {},
   "source": [
    "## Problem statements\n",
    "Input parameters:\n",
    "   * Number of shifts ($n$)\n",
    "   * Number of time windows ($T$)\n",
    "   * Number of workers required per time window ($d_t$)\n",
    "   * Wage rate per shift ($w_j$)\n",
    "    \n",
    "Decision variables: number of workers need per work shift ($y_j$)\n",
    "\n",
    "Constraints: demand within each time window $t$ must be satisfied\n",
    "\n",
    "Objective: Minimize the total cost of wages paid to all workers"
   ]
  },
  {
   "cell_type": "markdown",
   "id": "vanilla-apparatus",
   "metadata": {},
   "source": [
    "Let $a_{jt}=1$ if shift $j$ covers the time window $t$ ($j$=1,..,n; t=1,...,$T$) and $a_{jt}=0$ otherwise"
   ]
  },
  {
   "cell_type": "code",
   "execution_count": 24,
   "id": "roman-niger",
   "metadata": {
    "ExecuteTime": {
     "end_time": "2021-07-05T16:55:16.709606Z",
     "start_time": "2021-07-05T16:55:16.704875Z"
    }
   },
   "outputs": [],
   "source": [
    "df = df.fillna(0).applymap(lambda x: 1 if x == \"X\" else x)"
   ]
  },
  {
   "cell_type": "code",
   "execution_count": 25,
   "id": "treated-corpus",
   "metadata": {
    "ExecuteTime": {
     "end_time": "2021-07-05T16:55:16.997753Z",
     "start_time": "2021-07-05T16:55:16.990214Z"
    }
   },
   "outputs": [
    {
     "data": {
      "text/plain": [
       "array([[1, 0, 0, 1],\n",
       "       [1, 0, 0, 0],\n",
       "       [1, 1, 0, 0],\n",
       "       [0, 1, 0, 0],\n",
       "       [0, 1, 1, 0],\n",
       "       [0, 0, 1, 0],\n",
       "       [0, 0, 1, 1],\n",
       "       [0, 0, 0, 1]], dtype=object)"
      ]
     },
     "execution_count": 25,
     "metadata": {},
     "output_type": "execute_result"
    }
   ],
   "source": [
    "a = df.drop(index=[\"Wage rate per 9h shift ($)\"], columns=[\"Workers Required\"]).values\n",
    "a"
   ]
  },
  {
   "cell_type": "code",
   "execution_count": 26,
   "id": "suspended-polish",
   "metadata": {
    "ExecuteTime": {
     "end_time": "2021-07-05T16:55:17.190496Z",
     "start_time": "2021-07-05T16:55:17.183102Z"
    }
   },
   "outputs": [],
   "source": [
    "# Input parameters\n",
    "n = a.shape[1]\n",
    "T = a.shape[0]\n",
    "d = df[\"Workers Required\"].values\n",
    "w = df.loc[\"Wage rate per 9h shift ($)\", :].values.astype(int)"
   ]
  },
  {
   "cell_type": "code",
   "execution_count": 27,
   "id": "buried-kinase",
   "metadata": {
    "ExecuteTime": {
     "end_time": "2021-07-05T16:55:17.383334Z",
     "start_time": "2021-07-05T16:55:17.380457Z"
    }
   },
   "outputs": [],
   "source": [
    "# Create problem\n",
    "prob = LpProblem(\"scheduling_workers\", LpMinimize)"
   ]
  },
  {
   "cell_type": "code",
   "execution_count": 28,
   "id": "robust-approval",
   "metadata": {
    "ExecuteTime": {
     "end_time": "2021-07-05T16:55:17.584799Z",
     "start_time": "2021-07-05T16:55:17.580713Z"
    }
   },
   "outputs": [],
   "source": [
    "# Decision variables\n",
    "y = LpVariable.dicts(\"num_workers\", list(range(n)), lowBound=0, cat=\"Integer\")"
   ]
  },
  {
   "cell_type": "markdown",
   "id": "varied-turkish",
   "metadata": {},
   "source": [
    "## Formulation\n",
    "\n",
    "The model formulation is:\n",
    "\n",
    "\\begin{align}\n",
    "\\text{Minimize} \\;\\; &\\sum_j w_jy_j\\\\\n",
    "\\text{subject to} \\;\\; &\\sum_j a_{jt}y_j \\geq d_t \\;\\; t=1,..,T\\\\\n",
    "& y_j \\geq 0 \\text{ and integer } j=1,...,n\n",
    "\\end{align}"
   ]
  },
  {
   "cell_type": "code",
   "execution_count": 29,
   "id": "other-radio",
   "metadata": {
    "ExecuteTime": {
     "end_time": "2021-07-05T16:55:18.241340Z",
     "start_time": "2021-07-05T16:55:18.239207Z"
    }
   },
   "outputs": [],
   "source": [
    "# Objective\n",
    "prob += lpSum([w[j] * y[j] for j in range(n)])"
   ]
  },
  {
   "cell_type": "code",
   "execution_count": 30,
   "id": "ambient-highway",
   "metadata": {
    "ExecuteTime": {
     "end_time": "2021-07-05T16:55:18.514761Z",
     "start_time": "2021-07-05T16:55:18.507738Z"
    }
   },
   "outputs": [],
   "source": [
    "# Subject to\n",
    "for t in range(T):\n",
    "    prob += lpSum([a[t, j] * y[j] for j in range(n)]) >= d[t]"
   ]
  },
  {
   "cell_type": "markdown",
   "id": "english-biology",
   "metadata": {},
   "source": [
    "# Solve"
   ]
  },
  {
   "cell_type": "code",
   "execution_count": 31,
   "id": "simple-storm",
   "metadata": {
    "ExecuteTime": {
     "end_time": "2021-07-05T16:55:19.350335Z",
     "start_time": "2021-07-05T16:55:19.337776Z"
    }
   },
   "outputs": [
    {
     "data": {
      "text/plain": [
       "1"
      ]
     },
     "execution_count": 31,
     "metadata": {},
     "output_type": "execute_result"
    }
   ],
   "source": [
    "prob.solve()"
   ]
  },
  {
   "cell_type": "code",
   "execution_count": 32,
   "id": "documentary-google",
   "metadata": {
    "ExecuteTime": {
     "end_time": "2021-07-05T16:55:19.694504Z",
     "start_time": "2021-07-05T16:55:19.690852Z"
    }
   },
   "outputs": [
    {
     "name": "stdout",
     "output_type": "stream",
     "text": [
      "Status: Optimal\n"
     ]
    }
   ],
   "source": [
    "print(\"Status:\", LpStatus[prob.status])"
   ]
  },
  {
   "cell_type": "code",
   "execution_count": 33,
   "id": "honest-sessions",
   "metadata": {
    "ExecuteTime": {
     "end_time": "2021-07-05T16:55:20.116966Z",
     "start_time": "2021-07-05T16:55:20.097973Z"
    }
   },
   "outputs": [
    {
     "name": "stdout",
     "output_type": "stream",
     "text": [
      "The number of workers needed for shift 0 is 46 workers\n",
      "The number of workers needed for shift 1 is 23 workers\n",
      "The number of workers needed for shift 2 is 38 workers\n",
      "The number of workers needed for shift 3 is 30 workers\n"
     ]
    }
   ],
   "source": [
    "for shift in range(n):\n",
    "    print(\n",
    "        f\"The number of workers needed for shift {shift} is {int(y[shift].value())} workers\"\n",
    "    )"
   ]
  },
  {
   "cell_type": "code",
   "execution_count": 34,
   "id": "interior-influence",
   "metadata": {
    "ExecuteTime": {
     "end_time": "2021-07-05T16:55:20.655836Z",
     "start_time": "2021-07-05T16:55:20.649164Z"
    }
   },
   "outputs": [
    {
     "name": "stdout",
     "output_type": "stream",
     "text": [
      "The total amount of money being paid to workers in 4 shifts are $22290.0\n"
     ]
    }
   ],
   "source": [
    "print(\n",
    "    f\"The total amount of money being paid to workers in 4 shifts are ${value(prob.objective)}\",\n",
    ")"
   ]
  },
  {
   "cell_type": "code",
   "execution_count": null,
   "id": "486fcf9f",
   "metadata": {},
   "outputs": [],
   "source": []
  }
 ],
 "metadata": {
  "kernelspec": {
   "display_name": "Python 3",
   "language": "python",
   "name": "python3"
  },
  "language_info": {
   "codemirror_mode": {
    "name": "ipython",
    "version": 3
   },
   "file_extension": ".py",
   "mimetype": "text/x-python",
   "name": "python",
   "nbconvert_exporter": "python",
   "pygments_lexer": "ipython3",
   "version": "3.8.1"
  },
  "toc": {
   "base_numbering": 1,
   "nav_menu": {},
   "number_sections": true,
   "sideBar": true,
   "skip_h1_title": false,
   "title_cell": "Table of Contents",
   "title_sidebar": "Contents",
   "toc_cell": false,
   "toc_position": {},
   "toc_section_display": true,
   "toc_window_display": false
  },
  "varInspector": {
   "cols": {
    "lenName": 16,
    "lenType": 16,
    "lenVar": 40
   },
   "kernels_config": {
    "python": {
     "delete_cmd_postfix": "",
     "delete_cmd_prefix": "del ",
     "library": "var_list.py",
     "varRefreshCmd": "print(var_dic_list())"
    },
    "r": {
     "delete_cmd_postfix": ") ",
     "delete_cmd_prefix": "rm(",
     "library": "var_list.r",
     "varRefreshCmd": "cat(var_dic_list()) "
    }
   },
   "types_to_exclude": [
    "module",
    "function",
    "builtin_function_or_method",
    "instance",
    "_Feature"
   ],
   "window_display": false
  }
 },
 "nbformat": 4,
 "nbformat_minor": 5
}
