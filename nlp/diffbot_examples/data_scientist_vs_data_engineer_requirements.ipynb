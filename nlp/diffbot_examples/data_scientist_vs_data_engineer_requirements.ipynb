{
 "cells": [
  {
   "cell_type": "markdown",
   "source": "[![View on GitHub](https://img.shields.io/badge/GitHub-View_on_GitHub-blue?logo=GitHub)](https://github.com/khuyentran1401/Data-science/blob/master/nlp/diffbot_examples/data_scientist_vs_data_engineer_requirements.ipynb)\n\n[<img src=\"https://deepnote.com/buttons/launch-in-deepnote.svg\">](https://deepnote.com/project/Data-science-hxlyJpi-QrKFJziQgoMSmQ/%2FData-science%2Fnlp%2Fdiffbot_examples%2Fdata_scientist_vs_data_engineer_requirements.ipynb)",
   "metadata": {
    "tags": [],
    "cell_id": "00001-a1f4c863-3b95-4a65-8cad-46c22a6a3a89",
    "deepnote_to_be_reexecuted": false,
    "source_hash": "a367e955",
    "execution_start": 1633618445982,
    "execution_millis": 10,
    "deepnote_cell_type": "markdown"
   }
  },
  {
   "cell_type": "code",
   "metadata": {
    "tags": [],
    "cell_id": "00001-968272eb-ac3e-42bd-bcb9-08f99b18c855",
    "deepnote_to_be_reexecuted": false,
    "source_hash": "705c9cb8",
    "execution_start": 1633618185561,
    "execution_millis": 4202,
    "is_output_hidden": true,
    "output_cleared": true,
    "deepnote_cell_type": "code"
   },
   "source": "!pip install scattertext",
   "execution_count": 1,
   "outputs": []
  },
  {
   "cell_type": "markdown",
   "source": "## Process data",
   "metadata": {
    "cell_id": "00000-34abd125-4f87-4d91-9715-0af701a2274b",
    "deepnote_cell_type": "markdown"
   }
  },
  {
   "cell_type": "code",
   "metadata": {
    "ExecuteTime": {
     "end_time": "2021-07-25T17:09:01.872170Z",
     "start_time": "2021-07-25T17:09:01.789713Z"
    },
    "cell_id": "00001-df41fc6b-f4b5-4ed0-8c20-2a40e5dc18b4",
    "deepnote_to_be_reexecuted": false,
    "source_hash": "2de1400",
    "execution_start": 1633618189764,
    "execution_millis": 24,
    "deepnote_cell_type": "code"
   },
   "source": "import pandas as pd\n\ndf = pd.read_pickle(\"processed_df.pkl\")",
   "execution_count": 2,
   "outputs": []
  },
  {
   "cell_type": "markdown",
   "source": "## Terms",
   "metadata": {
    "cell_id": "00002-39a8b246-78ec-4d8c-8cf1-8783dd40d784",
    "deepnote_cell_type": "markdown"
   }
  },
  {
   "cell_type": "code",
   "metadata": {
    "ExecuteTime": {
     "end_time": "2021-07-25T17:11:33.754546Z",
     "start_time": "2021-07-25T17:11:33.705254Z"
    },
    "cell_id": "00003-1078561f-7312-4b78-b048-ba62516e9e0a",
    "deepnote_to_be_reexecuted": false,
    "source_hash": "d456098",
    "execution_start": 1633618189788,
    "execution_millis": 935,
    "deepnote_cell_type": "code"
   },
   "source": "import scattertext as st",
   "execution_count": 3,
   "outputs": []
  },
  {
   "cell_type": "code",
   "metadata": {
    "ExecuteTime": {
     "end_time": "2021-07-25T17:11:33.806346Z",
     "start_time": "2021-07-25T17:11:33.756740Z"
    },
    "cell_id": "00004-6d4eaef3-95e9-4d3a-8112-8d1c9fbe9eba",
    "deepnote_to_be_reexecuted": false,
    "source_hash": "41930bec",
    "execution_start": 1633618190724,
    "execution_millis": 1,
    "deepnote_cell_type": "code"
   },
   "source": "import re",
   "execution_count": 4,
   "outputs": []
  },
  {
   "cell_type": "code",
   "metadata": {
    "ExecuteTime": {
     "end_time": "2021-07-25T17:12:01.551230Z",
     "start_time": "2021-07-25T17:12:01.471185Z"
    },
    "cell_id": "00005-dcd6acd4-e0fc-442c-aac5-dd339e77292b",
    "deepnote_to_be_reexecuted": false,
    "source_hash": "da025e19",
    "execution_start": 1633618190731,
    "execution_millis": 1,
    "deepnote_cell_type": "code"
   },
   "source": "analyze_col = \"requirements\"",
   "execution_count": 5,
   "outputs": []
  },
  {
   "cell_type": "code",
   "metadata": {
    "ExecuteTime": {
     "end_time": "2021-07-25T18:26:18.447064Z",
     "start_time": "2021-07-25T18:26:18.372284Z"
    },
    "cell_id": "00006-d7b7a0ed-bb11-4cf7-ab7b-0c282901eef6",
    "deepnote_to_be_reexecuted": false,
    "source_hash": "fd913df5",
    "execution_start": 1633618190754,
    "execution_millis": 0,
    "deepnote_cell_type": "code"
   },
   "source": "filtered_df = df[~df[analyze_col].isna()][[\"title\", analyze_col, \"page_host\"]]",
   "execution_count": 6,
   "outputs": []
  },
  {
   "cell_type": "code",
   "metadata": {
    "ExecuteTime": {
     "end_time": "2021-07-25T18:26:24.482343Z",
     "start_time": "2021-07-25T18:26:19.111382Z"
    },
    "cell_id": "00007-1911b35e-3e78-4c60-9442-b365a3b5fa18",
    "deepnote_to_be_reexecuted": false,
    "source_hash": "5e2794dc",
    "execution_start": 1633618190755,
    "execution_millis": 3162,
    "deepnote_cell_type": "code"
   },
   "source": "filtered_df[\"parse\"] = filtered_df[analyze_col].apply(st.whitespace_nlp_with_sentences)",
   "execution_count": 7,
   "outputs": []
  },
  {
   "cell_type": "code",
   "metadata": {
    "ExecuteTime": {
     "end_time": "2021-07-25T18:26:25.252036Z",
     "start_time": "2021-07-25T18:26:25.194004Z"
    },
    "cell_id": "00008-2b2c891d-5ff8-4dcf-b062-e5bcc915f779",
    "deepnote_to_be_reexecuted": false,
    "source_hash": "d929bee4",
    "execution_start": 1633618193932,
    "execution_millis": 19,
    "deepnote_cell_type": "code"
   },
   "source": "filtered_df[\"parse\"]",
   "execution_count": 8,
   "outputs": [
    {
     "output_type": "execute_result",
     "execution_count": 8,
     "data": {
      "text/plain": "1       (2, +, years, of, relevant, experience, prefer...\n2       (pursuing, a, phd, or, ms, in, cs, ,, math, ,,...\n4       (phd, or, ms, in, computational, biology, ,, c...\n5       (bachelor, ’, s, degree, from, an, accredited,...\n6       (strong, working, knowledge, of, a, variety, o...\n                              ...                        \n1990    (at, least, three, years, working, as, a, data...\n1992                                         (li, -, pa1)\n1994    (working, for, a, truly, global, company, with...\n1995    (monthly, team, outings, (, ball, games, ,, ha...\n1998    (at, least, 5, years, experience, developing, ...\nName: parse, Length: 864, dtype: object"
     },
     "metadata": {}
    }
   ]
  },
  {
   "cell_type": "code",
   "metadata": {
    "ExecuteTime": {
     "end_time": "2021-07-25T19:20:21.008655Z",
     "start_time": "2021-07-25T19:20:20.578088Z"
    },
    "cell_id": "00009-f07c48b9-f1a4-426d-984d-dd9c6187b563",
    "deepnote_to_be_reexecuted": false,
    "source_hash": "93581653",
    "execution_start": 1633618193963,
    "execution_millis": 745,
    "deepnote_cell_type": "code"
   },
   "source": "type(\n    st.CorpusFromParsedDocuments(\n        filtered_df, category_col=\"title\", parsed_col=\"parse\"\n    ).build()\n)",
   "execution_count": 9,
   "outputs": [
    {
     "output_type": "execute_result",
     "execution_count": 9,
     "data": {
      "text/plain": "scattertext.ParsedCorpus.ParsedCorpus"
     },
     "metadata": {}
    }
   ]
  },
  {
   "cell_type": "code",
   "metadata": {
    "ExecuteTime": {
     "end_time": "2021-07-25T17:09:24.229773Z",
     "start_time": "2021-07-25T17:09:23.546226Z"
    },
    "cell_id": "00010-dee14e69-5497-404a-8b8e-3472bc885e86",
    "deepnote_to_be_reexecuted": false,
    "source_hash": "35cf3f75",
    "execution_start": 1633618197030,
    "execution_millis": 1178,
    "deepnote_cell_type": "code"
   },
   "source": "corpus = (\n    st.CorpusFromParsedDocuments(filtered_df, category_col=\"title\", parsed_col=\"parse\")\n    .build()\n    .get_unigram_corpus()\n    .compact(st.AssociationCompactor(2000))\n)",
   "execution_count": 10,
   "outputs": []
  },
  {
   "cell_type": "code",
   "metadata": {
    "ExecuteTime": {
     "end_time": "2021-07-25T17:09:24.841974Z",
     "start_time": "2021-07-25T17:09:24.794079Z"
    },
    "cell_id": "00011-36a6a114-9246-40a5-aa31-aa7f8419cc8a",
    "deepnote_to_be_reexecuted": false,
    "source_hash": "2fe01eba",
    "execution_start": 1633618199196,
    "execution_millis": 10,
    "deepnote_cell_type": "code"
   },
   "source": "term_freq_df = corpus.get_term_freq_df()",
   "execution_count": 11,
   "outputs": []
  },
  {
   "cell_type": "code",
   "metadata": {
    "ExecuteTime": {
     "end_time": "2021-07-25T17:09:25.722892Z",
     "start_time": "2021-07-25T17:09:25.400472Z"
    },
    "cell_id": "00012-1ab6b970-79a4-4c78-9877-9d1b25a517c5",
    "deepnote_to_be_reexecuted": false,
    "source_hash": "484270b9",
    "execution_start": 1633618200245,
    "execution_millis": 846,
    "deepnote_cell_type": "code"
   },
   "source": "import nltk\n\nnltk.download(\"averaged_perceptron_tagger\")",
   "execution_count": 12,
   "outputs": [
    {
     "name": "stderr",
     "text": "[nltk_data] Downloading package averaged_perceptron_tagger to\n[nltk_data]     /root/nltk_data...\n[nltk_data]   Unzipping taggers/averaged_perceptron_tagger.zip.\n",
     "output_type": "stream"
    },
    {
     "output_type": "execute_result",
     "execution_count": 12,
     "data": {
      "text/plain": "True"
     },
     "metadata": {}
    }
   ]
  },
  {
   "cell_type": "code",
   "metadata": {
    "ExecuteTime": {
     "end_time": "2021-07-25T17:09:26.356692Z",
     "start_time": "2021-07-25T17:09:26.301571Z"
    },
    "cell_id": "00013-c366c625-d32b-43d3-b9bf-9ebd383083d4",
    "deepnote_to_be_reexecuted": false,
    "source_hash": "913a4211",
    "execution_start": 1633618203543,
    "execution_millis": 13,
    "deepnote_cell_type": "code"
   },
   "source": "term_freq_df[\"Data Scientist Score\"] = corpus.get_scaled_f_scores(\"data scientist\")\nterm_freq_df[\"Data Engineer Score\"] = corpus.get_scaled_f_scores(\"data engineer\")",
   "execution_count": 13,
   "outputs": []
  },
  {
   "cell_type": "code",
   "metadata": {
    "ExecuteTime": {
     "end_time": "2021-07-25T17:09:27.241017Z",
     "start_time": "2021-07-25T17:09:26.943324Z"
    },
    "cell_id": "00014-0d519037-4149-402d-9b23-b79a3d9a5e4a",
    "deepnote_to_be_reexecuted": false,
    "source_hash": "f705bc97",
    "execution_start": 1633618204124,
    "execution_millis": 347,
    "deepnote_cell_type": "code"
   },
   "source": "def is_noun(word: str):\n    pos = nltk.pos_tag([word])[0][1]\n    return pos[:2] == \"NN\"\n\n\nterm_freq_df = term_freq_df.loc[map(is_noun, term_freq_df.index)]",
   "execution_count": 14,
   "outputs": []
  },
  {
   "cell_type": "code",
   "metadata": {
    "ExecuteTime": {
     "end_time": "2021-07-25T17:09:27.918417Z",
     "start_time": "2021-07-25T17:09:27.868963Z"
    },
    "cell_id": "00015-4c889adc-e49f-4f1a-95a7-ba1d891f56b9",
    "deepnote_to_be_reexecuted": false,
    "source_hash": "75d4d4e",
    "execution_start": 1633618204955,
    "execution_millis": 40,
    "deepnote_cell_type": "code"
   },
   "source": "term_freq_df.sort_values(by=\"Data Scientist Score\", ascending=False).index[:30]",
   "execution_count": 15,
   "outputs": [
    {
     "output_type": "execute_result",
     "execution_count": 15,
     "data": {
      "text/plain": "Index(['science', 'analysis', 'machine', 'ability', 'computer', 'work', 's',\n       'field', 'r', 'degree', 'statistics', 'quantitative', 'experience',\n       'years', 'python', 'data', 'knowledge', 'techniques', 'business',\n       'analytics', 'skills', 'bachelor', 'math', 'engineering', 'master',\n       'mining', 'development', 'time', 'environment', 'languages'],\n      dtype='object', name='term')"
     },
     "metadata": {}
    }
   ]
  },
  {
   "cell_type": "code",
   "metadata": {
    "ExecuteTime": {
     "end_time": "2021-07-25T18:43:22.578887Z",
     "start_time": "2021-07-25T18:43:22.514035Z"
    },
    "cell_id": "00016-81e45df2-37b5-4b41-8f76-f7f353be6efc",
    "deepnote_to_be_reexecuted": false,
    "source_hash": "f349ef66",
    "execution_start": 1633618207846,
    "execution_millis": 11,
    "deepnote_cell_type": "code"
   },
   "source": "term_freq_df.sort_values(by=\"Data Engineer Score\", ascending=False).index[:30]",
   "execution_count": 16,
   "outputs": [
    {
     "output_type": "execute_result",
     "execution_count": 16,
     "data": {
      "text/plain": "Index(['self', 'spark', 'design', 'excellent', 'g', 'implement', 'java', 'sql',\n       'scala', 'technologies', 'etc', 'e', 'dimensional', 'management',\n       'hadoop', 'systems', 'hands', 'sets', 'growth', 'datasets', 'operating',\n       'mapreduce', 'aws', 'industry', 'verbal', 'perfect', 'enemy', 'etl',\n       'ambiguity', 'awareness'],\n      dtype='object', name='term')"
     },
     "metadata": {}
    }
   ]
  },
  {
   "cell_type": "code",
   "metadata": {
    "ExecuteTime": {
     "end_time": "2021-07-25T18:49:55.150573Z",
     "start_time": "2021-07-25T18:49:53.352467Z"
    },
    "cell_id": "00017-c4f5ecf8-06f7-4ac1-bddc-7cf4864aaba6",
    "deepnote_to_be_reexecuted": false,
    "source_hash": "2276b1f",
    "execution_start": 1633618208414,
    "execution_millis": 2244,
    "deepnote_cell_type": "code"
   },
   "source": "html = st.produce_scattertext_explorer(\n    corpus,\n    category=\"data scientist\",\n    category_name=\"Data scientist\",\n    not_category_name=\"Data Engineer\",\n    minimum_term_frequency=5,\n    pmi_threshold_coefficient=0,\n    width_in_pixels=1000,\n    metadata=corpus.get_df()[\"page_host\"],\n    transform=st.Scalers.dense_rank,\n)\nopen(\"data_science_vs_data_engineer_requirements_terms.html\", \"w\").write(html)",
   "execution_count": 17,
   "outputs": [
    {
     "output_type": "execute_result",
     "execution_count": 17,
     "data": {
      "text/plain": "1305469"
     },
     "metadata": {}
    }
   ]
  },
  {
   "cell_type": "markdown",
   "source": "<a style='text-decoration:none;line-height:16px;display:flex;color:#5B5B62;padding:10px;justify-content:end;' href='https://deepnote.com?utm_source=created-in-deepnote-cell&projectId=87197226-98be-42b2-8527-389082831299' target=\"_blank\">\n<img alt='Created in deepnote.com' style='display:inline;max-height:16px;margin:0px;margin-right:7.5px;' src='data:image/svg+xml;base64,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' > </img>\nCreated in <span style='font-weight:600;margin-left:4px;'>Deepnote</span></a>",
   "metadata": {
    "tags": [],
    "created_in_deepnote_cell": true,
    "deepnote_cell_type": "markdown"
   }
  }
 ],
 "nbformat": 4,
 "nbformat_minor": 5,
 "metadata": {
  "hide_input": false,
  "kernelspec": {
   "display_name": "Python 3",
   "language": "python",
   "name": "python3"
  },
  "language_info": {
   "codemirror_mode": {
    "name": "ipython",
    "version": 3
   },
   "file_extension": ".py",
   "mimetype": "text/x-python",
   "name": "python",
   "nbconvert_exporter": "python",
   "pygments_lexer": "ipython3",
   "version": "3.8.10"
  },
  "toc": {
   "base_numbering": 1,
   "nav_menu": {},
   "number_sections": true,
   "sideBar": true,
   "skip_h1_title": false,
   "title_cell": "Table of Contents",
   "title_sidebar": "Contents",
   "toc_cell": false,
   "toc_position": {},
   "toc_section_display": true,
   "toc_window_display": false
  },
  "varInspector": {
   "cols": {
    "lenName": 16,
    "lenType": 16,
    "lenVar": 40
   },
   "kernels_config": {
    "python": {
     "delete_cmd_postfix": "",
     "delete_cmd_prefix": "del ",
     "library": "var_list.py",
     "varRefreshCmd": "print(var_dic_list())"
    },
    "r": {
     "delete_cmd_postfix": ") ",
     "delete_cmd_prefix": "rm(",
     "library": "var_list.r",
     "varRefreshCmd": "cat(var_dic_list()) "
    }
   },
   "types_to_exclude": [
    "module",
    "function",
    "builtin_function_or_method",
    "instance",
    "_Feature"
   ],
   "window_display": false
  },
  "deepnote_notebook_id": "f3c326b1-e7a9-40a8-a752-08a59e77aa04",
  "deepnote": {},
  "deepnote_execution_queue": []
 }
}