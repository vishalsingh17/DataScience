{
 "cells": [
  {
   "cell_type": "markdown",
   "source": "[![View on GitHub](https://img.shields.io/badge/GitHub-View_on_GitHub-blue?logo=GitHub)](https://github.com/khuyentran1401/Data-science/blob/master/nlp/diffbot_examples/data_scientist_vs_data_engineer_task.ipynb)\n\n[<img src=\"https://deepnote.com/buttons/launch-in-deepnote.svg\">](https://deepnote.com/project/Data-science-hxlyJpi-QrKFJziQgoMSmQ/%2FData-science%2Fnlp%2Fdiffbot_examples%2Fdata_scientist_vs_data_engineer_task.ipynb)",
   "metadata": {
    "tags": [],
    "cell_id": "00001-0fe0469b-e5f4-46de-b5c0-bb550a390a65",
    "deepnote_cell_type": "markdown"
   }
  },
  {
   "cell_type": "code",
   "metadata": {
    "tags": [],
    "cell_id": "00001-e999a019-ad16-4c97-b9c3-c2c01fddaaea",
    "deepnote_to_be_reexecuted": false,
    "source_hash": "705c9cb8",
    "execution_start": 1633618123002,
    "execution_millis": 12680,
    "is_output_hidden": true,
    "output_cleared": true,
    "deepnote_cell_type": "code"
   },
   "source": "!pip install scattertext",
   "execution_count": 4,
   "outputs": []
  },
  {
   "cell_type": "markdown",
   "source": "## Process data",
   "metadata": {
    "cell_id": "00000-3b7f5c9a-17d3-4ee5-ada5-6382bc7cb41c",
    "deepnote_cell_type": "markdown"
   }
  },
  {
   "cell_type": "code",
   "metadata": {
    "ExecuteTime": {
     "end_time": "2021-07-25T18:50:12.096706Z",
     "start_time": "2021-07-25T18:50:12.035528Z"
    },
    "cell_id": "00001-47f3911f-e042-4d38-a8cc-26697dbf5879",
    "deepnote_to_be_reexecuted": false,
    "source_hash": "2de1400",
    "execution_start": 1633618141351,
    "execution_millis": 14,
    "deepnote_cell_type": "code"
   },
   "source": "import pandas as pd\n\ndf = pd.read_pickle(\"processed_df.pkl\")",
   "execution_count": 5,
   "outputs": []
  },
  {
   "cell_type": "markdown",
   "source": "## Terms",
   "metadata": {
    "cell_id": "00002-badef0e5-334d-491a-b1db-9e391d5b8d47",
    "deepnote_cell_type": "markdown"
   }
  },
  {
   "cell_type": "code",
   "metadata": {
    "ExecuteTime": {
     "end_time": "2021-07-25T18:50:12.764993Z",
     "start_time": "2021-07-25T18:50:12.722382Z"
    },
    "cell_id": "00003-5929866c-92b2-4a78-8fb4-e1c960073e02",
    "deepnote_to_be_reexecuted": false,
    "source_hash": "7a8bf564",
    "execution_start": 1633618144409,
    "execution_millis": 1244,
    "deepnote_cell_type": "code"
   },
   "source": "import re\nimport scattertext as st",
   "execution_count": 6,
   "outputs": []
  },
  {
   "cell_type": "code",
   "metadata": {
    "ExecuteTime": {
     "end_time": "2021-07-25T18:50:13.427842Z",
     "start_time": "2021-07-25T18:50:13.390007Z"
    },
    "cell_id": "00004-9990ecdf-d0d9-4be7-a536-4d1cefa49fb0",
    "deepnote_to_be_reexecuted": false,
    "source_hash": "a4229775",
    "execution_start": 1633618155348,
    "execution_millis": 0,
    "deepnote_cell_type": "code"
   },
   "source": "analyze_col = \"tasks\"",
   "execution_count": 7,
   "outputs": []
  },
  {
   "cell_type": "code",
   "metadata": {
    "ExecuteTime": {
     "end_time": "2021-07-25T18:50:14.087555Z",
     "start_time": "2021-07-25T18:50:14.038682Z"
    },
    "cell_id": "00005-d6ff124d-0baf-4609-a09c-ff65d3f95699",
    "deepnote_to_be_reexecuted": false,
    "source_hash": "fd913df5",
    "execution_start": 1633618156228,
    "execution_millis": 0,
    "deepnote_cell_type": "code"
   },
   "source": "filtered_df = df[~df[analyze_col].isna()][[\"title\", analyze_col, \"page_host\"]]",
   "execution_count": 8,
   "outputs": []
  },
  {
   "cell_type": "code",
   "metadata": {
    "ExecuteTime": {
     "end_time": "2021-07-25T18:50:17.700111Z",
     "start_time": "2021-07-25T18:50:14.664045Z"
    },
    "cell_id": "00006-6290a5cb-2b09-4675-b5a7-392020415ffa",
    "deepnote_to_be_reexecuted": false,
    "source_hash": "5e2794dc",
    "execution_start": 1633618156966,
    "execution_millis": 3691,
    "deepnote_cell_type": "code"
   },
   "source": "filtered_df[\"parse\"] = filtered_df[analyze_col].apply(st.whitespace_nlp_with_sentences)",
   "execution_count": 9,
   "outputs": []
  },
  {
   "cell_type": "code",
   "metadata": {
    "ExecuteTime": {
     "end_time": "2021-07-25T18:50:19.461319Z",
     "start_time": "2021-07-25T18:50:18.333813Z"
    },
    "cell_id": "00007-a7e40609-a78e-47a6-b701-4f34f66ace68",
    "deepnote_to_be_reexecuted": false,
    "source_hash": "35cf3f75",
    "execution_start": 1633618162044,
    "execution_millis": 1238,
    "deepnote_cell_type": "code"
   },
   "source": "corpus = (\n    st.CorpusFromParsedDocuments(filtered_df, category_col=\"title\", parsed_col=\"parse\")\n    .build()\n    .get_unigram_corpus()\n    .compact(st.AssociationCompactor(2000))\n)",
   "execution_count": 10,
   "outputs": []
  },
  {
   "cell_type": "code",
   "metadata": {
    "ExecuteTime": {
     "end_time": "2021-07-25T18:50:21.779385Z",
     "start_time": "2021-07-25T18:50:20.130316Z"
    },
    "cell_id": "00008-bdf56e4b-ae2b-4412-a6e7-8c786e45c2ed",
    "deepnote_to_be_reexecuted": false,
    "source_hash": "5b71c585",
    "execution_start": 1633618164534,
    "execution_millis": 1765,
    "deepnote_cell_type": "code"
   },
   "source": "html = st.produce_scattertext_explorer(\n    corpus,\n    category=\"data scientist\",\n    category_name=\"Data scientist\",\n    not_category_name=\"Data Engineer\",\n    minimum_term_frequency=5,\n    pmi_threshold_coefficient=0,\n    width_in_pixels=1000,\n    metadata=corpus.get_df()[\"page_host\"],\n    transform=st.Scalers.dense_rank,\n)\nopen(\"data_science_vs_data_engineer_task_terms.html\", \"w\").write(html)",
   "execution_count": 11,
   "outputs": [
    {
     "output_type": "execute_result",
     "execution_count": 11,
     "data": {
      "text/plain": "1805457"
     },
     "metadata": {}
    }
   ]
  },
  {
   "cell_type": "code",
   "metadata": {
    "tags": [],
    "cell_id": "00010-2d96b47d-6515-4b69-9ccc-c841559b3650",
    "deepnote_cell_type": "code"
   },
   "source": "",
   "execution_count": null,
   "outputs": []
  },
  {
   "cell_type": "markdown",
   "source": "<a style='text-decoration:none;line-height:16px;display:flex;color:#5B5B62;padding:10px;justify-content:end;' href='https://deepnote.com?utm_source=created-in-deepnote-cell&projectId=87197226-98be-42b2-8527-389082831299' target=\"_blank\">\n<img alt='Created in deepnote.com' style='display:inline;max-height:16px;margin:0px;margin-right:7.5px;' src='data:image/svg+xml;base64,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' > </img>\nCreated in <span style='font-weight:600;margin-left:4px;'>Deepnote</span></a>",
   "metadata": {
    "tags": [],
    "created_in_deepnote_cell": true,
    "deepnote_cell_type": "markdown"
   }
  }
 ],
 "nbformat": 4,
 "nbformat_minor": 5,
 "metadata": {
  "hide_input": false,
  "kernelspec": {
   "display_name": "Python 3",
   "language": "python",
   "name": "python3"
  },
  "language_info": {
   "codemirror_mode": {
    "name": "ipython",
    "version": 3
   },
   "file_extension": ".py",
   "mimetype": "text/x-python",
   "name": "python",
   "nbconvert_exporter": "python",
   "pygments_lexer": "ipython3",
   "version": "3.8.10"
  },
  "toc": {
   "base_numbering": 1,
   "nav_menu": {},
   "number_sections": true,
   "sideBar": true,
   "skip_h1_title": false,
   "title_cell": "Table of Contents",
   "title_sidebar": "Contents",
   "toc_cell": false,
   "toc_position": {},
   "toc_section_display": true,
   "toc_window_display": false
  },
  "varInspector": {
   "cols": {
    "lenName": 16,
    "lenType": 16,
    "lenVar": 40
   },
   "kernels_config": {
    "python": {
     "delete_cmd_postfix": "",
     "delete_cmd_prefix": "del ",
     "library": "var_list.py",
     "varRefreshCmd": "print(var_dic_list())"
    },
    "r": {
     "delete_cmd_postfix": ") ",
     "delete_cmd_prefix": "rm(",
     "library": "var_list.r",
     "varRefreshCmd": "cat(var_dic_list()) "
    }
   },
   "types_to_exclude": [
    "module",
    "function",
    "builtin_function_or_method",
    "instance",
    "_Feature"
   ],
   "window_display": false
  },
  "deepnote_notebook_id": "b8bbb562-3967-4d7b-84f6-f44870c02387",
  "deepnote": {},
  "deepnote_execution_queue": []
 }
}