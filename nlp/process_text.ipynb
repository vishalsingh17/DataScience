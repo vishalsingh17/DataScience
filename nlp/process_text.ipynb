{
 "cells": [
  {
   "cell_type": "markdown",
   "id": "291b65cb",
   "metadata": {},
   "source": [
    "# Word Ninja: Slice Your Lumped-Together Words"
   ]
  },
  {
   "cell_type": "code",
   "execution_count": null,
   "id": "10b26a0d",
   "metadata": {
    "ExecuteTime": {
     "end_time": "2022-11-17T01:24:16.333450Z",
     "start_time": "2022-11-17T01:24:12.985717Z"
    }
   },
   "outputs": [],
   "source": [
    "!pip install wordninja "
   ]
  },
  {
   "cell_type": "code",
   "execution_count": 8,
   "id": "e91409b2",
   "metadata": {
    "ExecuteTime": {
     "end_time": "2022-11-17T01:24:27.011724Z",
     "start_time": "2022-11-17T01:24:26.833841Z"
    }
   },
   "outputs": [
    {
     "data": {
      "text/plain": [
       "['honey', 'in', 'the', 'jar']"
      ]
     },
     "execution_count": 8,
     "metadata": {},
     "output_type": "execute_result"
    }
   ],
   "source": [
    "import wordninja \n",
    "\n",
    "wordninja.split(\"honeyinthejar\")"
   ]
  },
  {
   "cell_type": "code",
   "execution_count": 9,
   "id": "723ef974",
   "metadata": {
    "ExecuteTime": {
     "end_time": "2022-11-17T01:24:32.488037Z",
     "start_time": "2022-11-17T01:24:32.478949Z"
    }
   },
   "outputs": [
    {
     "data": {
      "text/plain": [
       "['i', 'have', 'two', 'apples']"
      ]
     },
     "execution_count": 9,
     "metadata": {},
     "output_type": "execute_result"
    }
   ],
   "source": [
    "wordninja.split(\"ihavetwoapples\")"
   ]
  },
  {
   "cell_type": "code",
   "execution_count": 10,
   "id": "d317bd5e",
   "metadata": {
    "ExecuteTime": {
     "end_time": "2022-11-17T01:24:36.706202Z",
     "start_time": "2022-11-17T01:24:36.696464Z"
    }
   },
   "outputs": [
    {
     "data": {
      "text/plain": [
       "['a', 'rather', 'bluster', 'day']"
      ]
     },
     "execution_count": 10,
     "metadata": {},
     "output_type": "execute_result"
    }
   ],
   "source": [
    "wordninja.split(\"aratherblusterday\")"
   ]
  },
  {
   "cell_type": "markdown",
   "id": "230d7a18",
   "metadata": {},
   "source": [
    "# Expand English Contractions "
   ]
  },
  {
   "cell_type": "code",
   "execution_count": null,
   "id": "7e54cb33",
   "metadata": {},
   "outputs": [],
   "source": [
    "!pip install contractions"
   ]
  },
  {
   "cell_type": "code",
   "execution_count": 11,
   "id": "e9844d70",
   "metadata": {
    "ExecuteTime": {
     "end_time": "2022-11-17T01:25:18.867550Z",
     "start_time": "2022-11-17T01:25:18.846087Z"
    }
   },
   "outputs": [
    {
     "data": {
      "text/plain": [
       "'I am not sure, but I would like to do it'"
      ]
     },
     "execution_count": 11,
     "metadata": {},
     "output_type": "execute_result"
    }
   ],
   "source": [
    "import contractions\n",
    "\n",
    "sent = \"I'm not sure, but I'd like to do it\"\n",
    "\n",
    "contractions.fix(sent)"
   ]
  },
  {
   "cell_type": "markdown",
   "id": "6b86907f",
   "metadata": {},
   "source": [
    "# Generate Plurals, Singulars, and Indefinite Articles"
   ]
  },
  {
   "cell_type": "code",
   "execution_count": null,
   "id": "921a6d92",
   "metadata": {
    "ExecuteTime": {
     "end_time": "2022-11-17T01:25:51.193887Z",
     "start_time": "2022-11-17T01:25:47.672046Z"
    }
   },
   "outputs": [],
   "source": [
    "!pip install inflect "
   ]
  },
  {
   "cell_type": "code",
   "execution_count": 13,
   "id": "80688c35",
   "metadata": {
    "ExecuteTime": {
     "end_time": "2022-11-17T01:25:52.851384Z",
     "start_time": "2022-11-17T01:25:52.807239Z"
    }
   },
   "outputs": [],
   "source": [
    "import inflect\n",
    "\n",
    "p = inflect.engine()"
   ]
  },
  {
   "cell_type": "code",
   "execution_count": 14,
   "id": "3331e773",
   "metadata": {
    "ExecuteTime": {
     "end_time": "2022-11-17T01:25:57.892587Z",
     "start_time": "2022-11-17T01:25:57.883596Z"
    }
   },
   "outputs": [
    {
     "data": {
      "text/plain": [
       "'they'"
      ]
     },
     "execution_count": 14,
     "metadata": {},
     "output_type": "execute_result"
    }
   ],
   "source": [
    "p.plural_noun('he')"
   ]
  },
  {
   "cell_type": "code",
   "execution_count": 15,
   "id": "870f938c",
   "metadata": {
    "ExecuteTime": {
     "end_time": "2022-11-17T01:26:03.727213Z",
     "start_time": "2022-11-17T01:26:03.718169Z"
    }
   },
   "outputs": [
    {
     "data": {
      "text/plain": [
       "'see'"
      ]
     },
     "execution_count": 15,
     "metadata": {},
     "output_type": "execute_result"
    }
   ],
   "source": [
    "p.plural_verb('sees')"
   ]
  },
  {
   "cell_type": "code",
   "execution_count": 16,
   "id": "5d45236e",
   "metadata": {
    "ExecuteTime": {
     "end_time": "2022-11-17T01:26:08.151288Z",
     "start_time": "2022-11-17T01:26:08.142304Z"
    }
   },
   "outputs": [
    {
     "data": {
      "text/plain": [
       "'she'"
      ]
     },
     "execution_count": 16,
     "metadata": {},
     "output_type": "execute_result"
    }
   ],
   "source": [
    "p.gender(\"feminine\")\n",
    "p.singular_noun(\"they\")"
   ]
  },
  {
   "cell_type": "code",
   "execution_count": 17,
   "id": "c3e982b8",
   "metadata": {
    "ExecuteTime": {
     "end_time": "2022-11-17T01:26:14.216775Z",
     "start_time": "2022-11-17T01:26:14.209303Z"
    }
   },
   "outputs": [
    {
     "name": "stdout",
     "output_type": "stream",
     "text": [
      "same word\n"
     ]
    }
   ],
   "source": [
    "if p.compare_verbs('sees', 'see'):\n",
    "    print(\"same word\")"
   ]
  },
  {
   "cell_type": "code",
   "execution_count": 18,
   "id": "e2c1a6da",
   "metadata": {
    "ExecuteTime": {
     "end_time": "2022-11-17T01:26:21.598876Z",
     "start_time": "2022-11-17T01:26:21.590109Z"
    }
   },
   "outputs": [
    {
     "name": "stdout",
     "output_type": "stream",
     "text": [
      "I got you an apple and a banana\n"
     ]
    }
   ],
   "source": [
    "# Add the correct \"a\" or \"an\" for a given word\n",
    "fruit1 = 'apple'\n",
    "fruit2 = 'banana'\n",
    "print(f\"I got you {p.a(fruit1)} \"\n",
    "      f\"and {p.a(fruit2)}\")"
   ]
  },
  {
   "cell_type": "markdown",
   "id": "33171043",
   "metadata": {},
   "source": [
    "# Deal with Numbers"
   ]
  },
  {
   "cell_type": "code",
   "execution_count": 22,
   "id": "8a156b95",
   "metadata": {
    "ExecuteTime": {
     "end_time": "2022-11-17T01:28:43.125807Z",
     "start_time": "2022-11-17T01:28:43.117141Z"
    }
   },
   "outputs": [
    {
     "data": {
      "text/plain": [
       "'two thousand and nineteen'"
      ]
     },
     "execution_count": 22,
     "metadata": {},
     "output_type": "execute_result"
    }
   ],
   "source": [
    "p.number_to_words(2019)"
   ]
  },
  {
   "cell_type": "code",
   "execution_count": 25,
   "id": "9597c672",
   "metadata": {
    "ExecuteTime": {
     "end_time": "2022-11-17T01:31:06.693999Z",
     "start_time": "2022-11-17T01:31:06.685667Z"
    }
   },
   "outputs": [
    {
     "data": {
      "text/plain": [
       "'twenty, nineteen'"
      ]
     },
     "execution_count": 25,
     "metadata": {},
     "output_type": "execute_result"
    }
   ],
   "source": [
    "p.number_to_words(2019, group=2)"
   ]
  },
  {
   "cell_type": "code",
   "execution_count": 24,
   "id": "b40d87e9",
   "metadata": {
    "ExecuteTime": {
     "end_time": "2022-11-17T01:30:12.790281Z",
     "start_time": "2022-11-17T01:30:12.783591Z"
    }
   },
   "outputs": [
    {
     "name": "stdout",
     "output_type": "stream",
     "text": [
      "I'm the 1st person shown up.\n"
     ]
    }
   ],
   "source": [
    "position = 1\n",
    "print(f\"I'm the {p.ordinal(position)} person shown up.\")"
   ]
  }
 ],
 "metadata": {
  "kernelspec": {
   "display_name": "Python 3 (ipykernel)",
   "language": "python",
   "name": "python3"
  },
  "language_info": {
   "codemirror_mode": {
    "name": "ipython",
    "version": 3
   },
   "file_extension": ".py",
   "mimetype": "text/x-python",
   "name": "python",
   "nbconvert_exporter": "python",
   "pygments_lexer": "ipython3",
   "version": "3.8.10"
  },
  "toc": {
   "base_numbering": 1,
   "nav_menu": {},
   "number_sections": true,
   "sideBar": true,
   "skip_h1_title": false,
   "title_cell": "Table of Contents",
   "title_sidebar": "Contents",
   "toc_cell": false,
   "toc_position": {},
   "toc_section_display": true,
   "toc_window_display": false
  }
 },
 "nbformat": 4,
 "nbformat_minor": 5
}
