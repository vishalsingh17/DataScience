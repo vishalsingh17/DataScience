{
 "cells": [
  {
   "cell_type": "markdown",
   "metadata": {},
   "source": [
    "# Import Data"
   ]
  },
  {
   "cell_type": "code",
   "execution_count": null,
   "metadata": {},
   "outputs": [],
   "source": [
    "pip install textblob "
   ]
  },
  {
   "cell_type": "code",
   "execution_count": null,
   "metadata": {},
   "outputs": [],
   "source": [
    "!python -m textblob.download_corpora"
   ]
  },
  {
   "cell_type": "markdown",
   "metadata": {},
   "source": [
    "# Tokenization"
   ]
  },
  {
   "cell_type": "code",
   "execution_count": 57,
   "metadata": {},
   "outputs": [],
   "source": [
    "text = 'Today, the weather is nice' "
   ]
  },
  {
   "cell_type": "code",
   "execution_count": 58,
   "metadata": {},
   "outputs": [],
   "source": [
    "from textblob import TextBlob\n",
    "\n",
    "blob = TextBlob(text)"
   ]
  },
  {
   "cell_type": "code",
   "execution_count": 70,
   "metadata": {},
   "outputs": [
    {
     "data": {
      "text/plain": [
       "WordList(['Today', 'the', 'weather', 'is', 'nice'])"
      ]
     },
     "execution_count": 70,
     "metadata": {},
     "output_type": "execute_result"
    }
   ],
   "source": [
    "blob.words "
   ]
  },
  {
   "cell_type": "code",
   "execution_count": 71,
   "metadata": {},
   "outputs": [
    {
     "data": {
      "text/plain": [
       "'Today'"
      ]
     },
     "execution_count": 71,
     "metadata": {},
     "output_type": "execute_result"
    }
   ],
   "source": [
    "blob.words[0]"
   ]
  },
  {
   "cell_type": "markdown",
   "metadata": {},
   "source": [
    "# Part-of-speech Tagging"
   ]
  },
  {
   "cell_type": "code",
   "execution_count": 73,
   "metadata": {
    "ExecuteTime": {
     "end_time": "2020-11-06T18:06:21.304539Z",
     "start_time": "2020-11-06T18:06:21.292407Z"
    }
   },
   "outputs": [
    {
     "data": {
      "text/plain": [
       "[('Today', 'NN'),\n",
       " ('the', 'DT'),\n",
       " ('weather', 'NN'),\n",
       " ('is', 'VBZ'),\n",
       " ('nice', 'JJ')]"
      ]
     },
     "execution_count": 73,
     "metadata": {},
     "output_type": "execute_result"
    }
   ],
   "source": [
    "blob.tags "
   ]
  },
  {
   "cell_type": "markdown",
   "metadata": {},
   "source": [
    "# Noun phrase extraction"
   ]
  },
  {
   "cell_type": "code",
   "execution_count": 75,
   "metadata": {
    "ExecuteTime": {
     "end_time": "2020-11-06T16:05:08.668743Z",
     "start_time": "2020-11-06T16:05:08.663320Z"
    }
   },
   "outputs": [],
   "source": [
    "blob = TextBlob('The data science field is very broad, and there is a tremendous amount of available information')"
   ]
  },
  {
   "cell_type": "code",
   "execution_count": 77,
   "metadata": {
    "ExecuteTime": {
     "end_time": "2020-11-06T16:05:09.835984Z",
     "start_time": "2020-11-06T16:05:09.833103Z"
    }
   },
   "outputs": [
    {
     "data": {
      "text/plain": [
       "WordList(['data science field', 'tremendous amount', 'available information'])"
      ]
     },
     "execution_count": 77,
     "metadata": {},
     "output_type": "execute_result"
    }
   ],
   "source": [
    "blob.noun_phrases"
   ]
  },
  {
   "cell_type": "markdown",
   "metadata": {},
   "source": [
    "# Sentiment Analysis"
   ]
  },
  {
   "cell_type": "code",
   "execution_count": null,
   "metadata": {
    "ExecuteTime": {
     "end_time": "2020-11-06T16:10:17.853160Z",
     "start_time": "2020-11-06T16:10:17.849525Z"
    }
   },
   "outputs": [],
   "source": [
    "blob = TextBlob('I am excited about our camping trip this weekend')\n",
    "\n",
    "blob.sentiment "
   ]
  },
  {
   "cell_type": "code",
   "execution_count": null,
   "metadata": {
    "ExecuteTime": {
     "end_time": "2020-11-06T16:09:26.129386Z",
     "start_time": "2020-11-06T16:09:26.123725Z"
    }
   },
   "outputs": [],
   "source": [
    "blob.sentiment.polarity"
   ]
  },
  {
   "cell_type": "markdown",
   "metadata": {},
   "source": [
    "# Lemmatization"
   ]
  },
  {
   "cell_type": "code",
   "execution_count": 81,
   "metadata": {},
   "outputs": [
    {
     "data": {
      "text/plain": [
       "'eat'"
      ]
     },
     "execution_count": 81,
     "metadata": {},
     "output_type": "execute_result"
    }
   ],
   "source": [
    "from textblob import Word\n",
    "\n",
    "Word('ate').lemmatize(pos='v')"
   ]
  },
  {
   "cell_type": "code",
   "execution_count": 82,
   "metadata": {
    "ExecuteTime": {
     "end_time": "2020-11-06T16:20:44.989822Z",
     "start_time": "2020-11-06T16:20:44.983972Z"
    }
   },
   "outputs": [],
   "source": [
    "blob = TextBlob('When was the last time a project you were working on challenged you?')"
   ]
  },
  {
   "cell_type": "code",
   "execution_count": 83,
   "metadata": {
    "ExecuteTime": {
     "end_time": "2020-11-06T16:20:45.582838Z",
     "start_time": "2020-11-06T16:20:45.573750Z"
    }
   },
   "outputs": [
    {
     "data": {
      "text/plain": [
       "WordList(['When', 'was', 'the', 'last', 'time', 'a', 'project', 'you', 'were', 'working', 'on', 'challenged', 'you'])"
      ]
     },
     "execution_count": 83,
     "metadata": {},
     "output_type": "execute_result"
    }
   ],
   "source": [
    "blob.words "
   ]
  },
  {
   "cell_type": "code",
   "execution_count": 84,
   "metadata": {
    "ExecuteTime": {
     "end_time": "2020-11-06T16:20:46.874351Z",
     "start_time": "2020-11-06T16:20:46.867873Z"
    }
   },
   "outputs": [
    {
     "name": "stdout",
     "output_type": "stream",
     "text": [
      "when\n",
      "be\n",
      "the\n",
      "last\n",
      "time\n",
      "a\n",
      "project\n",
      "you\n",
      "be\n",
      "work\n",
      "on\n",
      "challenge\n",
      "you\n"
     ]
    }
   ],
   "source": [
    "for word in blob.words:\n",
    "    w = Word(word.lower())\n",
    "    print(w.lemmatize('v'))"
   ]
  },
  {
   "cell_type": "markdown",
   "metadata": {},
   "source": [
    "# Word Definitions"
   ]
  },
  {
   "cell_type": "code",
   "execution_count": 85,
   "metadata": {
    "ExecuteTime": {
     "end_time": "2020-11-06T16:27:32.314443Z",
     "start_time": "2020-11-06T16:27:32.309044Z"
    }
   },
   "outputs": [],
   "source": [
    "word = Word('browser')"
   ]
  },
  {
   "cell_type": "code",
   "execution_count": 88,
   "metadata": {
    "ExecuteTime": {
     "end_time": "2020-11-06T16:27:53.915500Z",
     "start_time": "2020-11-06T16:27:53.909596Z"
    }
   },
   "outputs": [
    {
     "data": {
      "text/plain": [
       "['a viewer who looks around casually without seeking anything in particular',\n",
       " 'a program used to view HTML documents']"
      ]
     },
     "execution_count": 88,
     "metadata": {},
     "output_type": "execute_result"
    }
   ],
   "source": [
    "word.definitions"
   ]
  },
  {
   "cell_type": "code",
   "execution_count": null,
   "metadata": {},
   "outputs": [],
   "source": []
  },
  {
   "cell_type": "markdown",
   "metadata": {},
   "source": [
    "# Spelling Correction"
   ]
  },
  {
   "cell_type": "code",
   "execution_count": 89,
   "metadata": {
    "ExecuteTime": {
     "end_time": "2020-11-06T16:30:27.244721Z",
     "start_time": "2020-11-06T16:30:27.239106Z"
    }
   },
   "outputs": [],
   "source": [
    "blob = TextBlob('When was the lats time a poject you were working on chalenged you?')"
   ]
  },
  {
   "cell_type": "code",
   "execution_count": 90,
   "metadata": {
    "ExecuteTime": {
     "end_time": "2020-11-06T16:30:27.612652Z",
     "start_time": "2020-11-06T16:30:27.599210Z"
    }
   },
   "outputs": [
    {
     "data": {
      "text/plain": [
       "TextBlob(\"When was the last time a project you were working on challenged you?\")"
      ]
     },
     "execution_count": 90,
     "metadata": {},
     "output_type": "execute_result"
    }
   ],
   "source": [
    "blob.correct()"
   ]
  },
  {
   "cell_type": "code",
   "execution_count": 91,
   "metadata": {
    "ExecuteTime": {
     "end_time": "2020-11-06T16:31:18.020762Z",
     "start_time": "2020-11-06T16:31:17.930764Z"
    }
   },
   "outputs": [
    {
     "data": {
      "text/plain": [
       "[('last', 0.525092936802974),\n",
       " ('laws', 0.21654275092936803),\n",
       " ('late', 0.1533457249070632),\n",
       " ('lads', 0.03531598513011153),\n",
       " ('oats', 0.013940520446096654),\n",
       " ('lasts', 0.00929368029739777),\n",
       " ('hats', 0.00929368029739777),\n",
       " ('lots', 0.007434944237918215),\n",
       " ('eats', 0.007434944237918215),\n",
       " ('lets', 0.006505576208178439),\n",
       " ('lays', 0.0037174721189591076),\n",
       " ('lata', 0.0037174721189591076),\n",
       " ('rats', 0.0018587360594795538),\n",
       " ('mats', 0.0018587360594795538),\n",
       " ('cats', 0.0018587360594795538),\n",
       " ('las', 0.0009293680297397769),\n",
       " ('flats', 0.0009293680297397769),\n",
       " ('fats', 0.0009293680297397769)]"
      ]
     },
     "execution_count": 91,
     "metadata": {},
     "output_type": "execute_result"
    }
   ],
   "source": [
    "Word('lats').spellcheck()"
   ]
  },
  {
   "cell_type": "markdown",
   "metadata": {},
   "source": [
    "# Word and Noun Phrase Frequencies"
   ]
  },
  {
   "cell_type": "code",
   "execution_count": null,
   "metadata": {},
   "outputs": [],
   "source": [
    "pip install newspaper3k  "
   ]
  },
  {
   "cell_type": "code",
   "execution_count": 100,
   "metadata": {
    "ExecuteTime": {
     "end_time": "2020-11-06T15:56:02.941561Z",
     "start_time": "2020-11-06T15:56:01.695286Z"
    }
   },
   "outputs": [],
   "source": [
    "from newspaper import Article\n",
    "\n",
    "url = 'https://www.dataquest.io/blog/learn-data-science/'\n",
    "article = Article(url)\n",
    "article.download()"
   ]
  },
  {
   "cell_type": "code",
   "execution_count": 101,
   "metadata": {
    "ExecuteTime": {
     "end_time": "2020-11-06T15:56:03.637409Z",
     "start_time": "2020-11-06T15:56:03.515096Z"
    }
   },
   "outputs": [],
   "source": [
    "article.parse()"
   ]
  },
  {
   "cell_type": "code",
   "execution_count": 108,
   "metadata": {
    "ExecuteTime": {
     "end_time": "2020-11-06T15:57:16.533392Z",
     "start_time": "2020-11-06T15:57:16.530716Z"
    }
   },
   "outputs": [
    {
     "data": {
      "text/plain": [
       "'April 27, 2022\\n\\nHow to Learn Data Science in 2022 (A CEO’s In-Depth Guide)\\n\\nThe demand for data scientists is at an all time high. If you’re considering a career in data science, now’s the best time to get started.\\n\\nBut what’s the best way to learn data science?\\n\\nThat’s a complicated question — I know from experience. A few years ago, I decided to pursue a data science career, but when I researched what I needed to learn, all I could find were long lists of data science courses to take and books to read.\\n\\nHowever, studies show that most people learn best by doing, not by watching videos or memorizing textbooks.\\n\\nSo what’s the most effective way to learn data science? I’ve broken it down into five easy steps.\\n\\n1. Find a reason to learn\\n\\nThe data science field is very broad, and there’s a tremendous amount of available information. That means it can be difficult to determine what you should focus on. The secret to navigating all this information is a reason to learn. Identify your motivation, and use it to guide your data journey.\\n\\nFor me, this was completing a stock market prediction program. To learn how to do this, I dove into statistics with a passion, and it helped motivate my learning experience. When you learn by doing, you retain information longer, and you gain experience you can rely on in the future.\\n\\nTake control of your learning by tailoring it to your goals, not the other way around.\\n\\n2. Nail the fundamentals\\n\\nIt’s tempting to get carried away learning specialized topics, like machine learning, neural networks, and image recognition. However, 90% of your work as a data scientist will be cleaning data. You can’t run before you learn to walk.\\n\\nYou’ll find more success if you master the simple stuff before spending your time on advanced topics. Learn linear regression, k-means clustering, and logistic regression, then use what you know to complete projects and build a portfolio.\\n\\nThis is why I created Dataquest the way I did. Projects are a critical part of becoming a data scientist, and employers will use your portfolio to evaluate you as a job candidate. Virtually every course we build at Dataquest offers a hands-on project you can complete to expand your portfolio.\\n\\nWhether you’re just getting started learning data science or simply picking up a new skill (like SQL), we have the courses that will help you land your dream job. Check out our fun and interactive courses here.\\n\\n3. Learn to communicate\\n\\nData scientists constantly need to present the results of their analyses. Knowing how to do this is the difference between being a mediocre data scientist and a great one. A data scientist is only as valuable as the insights you can share. That means you need to learn how to be a great communicator.\\n\\nThere are three aspects of communicating insights:\\n\\nUnderstand the topic. (You’ll never be able to explain something that you don’t understand yourself.) Organize your results. Explain your analysis.\\n\\nIt can be difficult to communicate complex concepts effectively, but here are some tips:\\n\\nStart a blog. Post the results of your data analysis. Or submit a pitch and write for Dataquest’s blog!\\n\\nTry to teach your less tech-savvy friends and family about computer science concepts. It’s amazing how much teaching can help you understand concepts.\\n\\nTry to speak at meetups.\\n\\nUse GitHub to host and share your analysis.\\n\\nBecome active on communities like Quora, the Dataquest learning community, or the machine learning subreddit.\\n\\n4. Learn from your peers\\n\\nYou can learn a lot working with others. It’s not unusual for a data scientist to move from team to team as they work on answering data questions from different departments. That makes collaboration essential for data scientists.\\n\\nHere are some ideas to help you collaborate more effectively:\\n\\nFind people to work with at meetups.\\n\\nContribute to open-source packages.\\n\\nMessage people who write interesting data analysis blogs to see if you can collaborate.\\n\\nTry out Kaggle, a machine learning competition site, and see if you can find a teammate.\\n\\n5. Increase the difficulty\\n\\nWhen was the last time a project you were working on challenged you? Data science is a huge field. You’ll never understand all of it. But, the more you can learn, the more valuable you will be to the teams you work with.\\n\\nIf you’re becoming too comfortable with your projects, here are some ideas that can help you level-up your skill-set:\\n\\nTake more advanced data science courses (Dataquest has these).\\n\\nWork with a larger dataset. Learn to use Spark.\\n\\nTry to make your algorithm faster.\\n\\nHow would you scale your algorithm to multiple processors? Can you do it?\\n\\nImprove your understanding of the theory behind the algorithm you’re using.\\n\\nTry to teach a novice to do the same things you’re doing now.\\n\\nThat last one is a really underrated challenge, and if you give it a try, you’ll quickly see how valuable teaching can be to someone who’s trying to learn.\\n\\nYou’ll likely come out of the experience with a deeper understanding of the topic than you had before, and you’ll improve your communication skills.\\n\\nBecoming a Data Scientist: Common FAQs\\n\\nWhere do I find projects to get started?\\n\\nSome ideas you might want to consider are new and interesting things about your city, mapping all the devices on the internet, finding the real positions NBA players play, or mapping refugees by year. The possibilities are limitless.\\n\\nWhat’s something that interests you? This is probably a fantastic place to begin.\\n\\nAnother way to find a project is to look at datasets and see what types of questions you can come up with.\\n\\nHere are some good places to find free datasets to get you started:\\n\\nDo you need a data science certificate?\\n\\nNow that you’re ready to start learning, you’re probably wondering if a data science certificate is worth your effort.\\n\\nCertificate programs can be incredibly valuable if they can teach you the skills you need to effectively perform your job. When employers look at your resume, they’re looking at your skills, your project portfolio, and your relevant experience — certificates can help communicate this quickly.\\n\\nHere’s some more information about data science certificates and whether or not you need one.\\n\\nDo you need a degree in data science?\\n\\nHaving a data science degree on your resume might help you get a job. However, getting one typically takes years and costs tens, if not hundreds, of thousands of dollars.\\n\\nUniversities can also be subject to institutional inertia and are slow to adapt. This means you can end up wasting time studying older technologies that aren’t as relevant in the current business environment.\\n\\nThankfully, there are many examples of people who’ve successfully learned data science on their own. For example, I worked as a machine learning engineer at EdX before starting Dataquest. But I don’t have a degree in data science or machine learning. I taught myself those skills.\\n\\nOur Dataquest learner stories are also full of learners who have industry jobs with zero background in programming and no data science degree. Our 2020 survey covered hundreds of respondents who’ve met their data science learning goals without a degree.\\n\\nIf you have the time and money to earn a university degree in data science, adding it to your resume can definitely help you. But it’s very possible to learn all of the necessary skills faster and much more affordably.\\n\\nWhat skills do data scientists need to succeed?\\n\\nBased on job postings and what data scientists report doing at work, the most fundamental data science skills include the following:\\n\\nProgramming in Python or R\\n\\nFluency with popular packages and workflows for data science tasks in your language of choice. If you choose Python, for example, you should be familiar with libraries like pandas, NumPy, matplotlib or Plotly, and scikit-learn — and you should be comfortable with cleaning, analyzing, and visualizing big data using them.\\n\\nWriting SQL queries\\n\\nStatistics\\n\\nBasic machine learning and modeling\\n\\nWorkflow and collaboration (Git, command line/bash, etc.)\\n\\nIf you can add these fundamentals to your skill-set, you’ll be in a great position to get your first data science job. For more information, you can take a look at our Data Scientist learning path. We designed it to teach all of the important data science skills for Python learners.\\n\\nFrom there, you can dig deeper into specializations like Natural Language Processing, Image Classification, Deep Learning, and a variety of other options.\\n\\nThe bottom line\\n\\nI generally dislike the “here’s a big list of stuff” approach, because it makes it difficult to determine what to do next. I’ve seen many people give up on learning when confronted with a giant list of textbooks and MOOCs.\\n\\nI personally believe that anyone can learn data science if they approach it with the right frame of mind.\\n\\nI’m also the founder of Dataquest, a site that helps you learn data science in your browser. It encapsulates a lot of the ideas discussed in this post to create a better learning experience. You learn by analyzing interesting datasets like CIA documents and NBA player stats. You also complete projects and build a portfolio as you work through our courses.\\n\\nDon’t worry if you don’t know how to code — we teach both Python and R from scratch, no experience required! We teach Python and R because they’re beginner-friendly languages and because they’re the most popular languages used in real-world data science.\\n\\nSome helpful data science resources\\n\\nAs I worked on projects, I found these resources helpful.\\n\\nIf you’re ready to start learning data science and data analytics, Dataquest can help. Start your journey today.'"
      ]
     },
     "execution_count": 108,
     "metadata": {},
     "output_type": "execute_result"
    }
   ],
   "source": [
    "text = article.text\n",
    "text"
   ]
  },
  {
   "cell_type": "code",
   "execution_count": 109,
   "metadata": {
    "ExecuteTime": {
     "end_time": "2020-11-06T20:12:02.466813Z",
     "start_time": "2020-11-06T20:12:02.461012Z"
    }
   },
   "outputs": [],
   "source": [
    "blob = TextBlob(text)"
   ]
  },
  {
   "cell_type": "code",
   "execution_count": 110,
   "metadata": {},
   "outputs": [
    {
     "data": {
      "text/plain": [
       "defaultdict(int,\n",
       "            {'april': 1,\n",
       "             '27': 1,\n",
       "             '2022': 2,\n",
       "             'how': 8,\n",
       "             'to': 68,\n",
       "             'learn': 22,\n",
       "             'data': 48,\n",
       "             'science': 30,\n",
       "             'in': 14,\n",
       "             'a': 55,\n",
       "             'ceo': 1,\n",
       "             '’': 44,\n",
       "             's': 15,\n",
       "             'in-depth': 1,\n",
       "             'guide': 2,\n",
       "             'the': 46,\n",
       "             'demand': 1,\n",
       "             'for': 10,\n",
       "             'scientists': 5,\n",
       "             'is': 11,\n",
       "             'at': 10,\n",
       "             'an': 1,\n",
       "             'all': 7,\n",
       "             'time': 6,\n",
       "             'high': 1,\n",
       "             'if': 15,\n",
       "             'you': 69,\n",
       "             're': 11,\n",
       "             'considering': 1,\n",
       "             'career': 2,\n",
       "             'now': 3,\n",
       "             'best': 3,\n",
       "             'get': 6,\n",
       "             'started': 4,\n",
       "             'but': 6,\n",
       "             'what': 10,\n",
       "             'way': 5,\n",
       "             'that': 14,\n",
       "             'complicated': 1,\n",
       "             'question': 1,\n",
       "             '—': 4,\n",
       "             'i': 19,\n",
       "             'know': 3,\n",
       "             'from': 6,\n",
       "             'experience': 7,\n",
       "             'few': 1,\n",
       "             'years': 2,\n",
       "             'ago': 1,\n",
       "             'decided': 1,\n",
       "             'pursue': 1,\n",
       "             'when': 5,\n",
       "             'researched': 1,\n",
       "             'needed': 1,\n",
       "             'could': 1,\n",
       "             'find': 8,\n",
       "             'were': 2,\n",
       "             'long': 1,\n",
       "             'lists': 1,\n",
       "             'of': 27,\n",
       "             'courses': 5,\n",
       "             'take': 4,\n",
       "             'and': 41,\n",
       "             'books': 1,\n",
       "             'read': 1,\n",
       "             'however': 3,\n",
       "             'studies': 1,\n",
       "             'show': 1,\n",
       "             'most': 4,\n",
       "             'people': 5,\n",
       "             'by': 6,\n",
       "             'doing': 4,\n",
       "             'not': 5,\n",
       "             'watching': 1,\n",
       "             'videos': 1,\n",
       "             'or': 9,\n",
       "             'memorizing': 1,\n",
       "             'textbooks': 2,\n",
       "             'so': 1,\n",
       "             'effective': 1,\n",
       "             've': 4,\n",
       "             'broken': 1,\n",
       "             'it': 19,\n",
       "             'down': 1,\n",
       "             'into': 3,\n",
       "             'five': 1,\n",
       "             'easy': 1,\n",
       "             'steps': 1,\n",
       "             '1': 1,\n",
       "             'reason': 2,\n",
       "             'field': 2,\n",
       "             'very': 2,\n",
       "             'broad': 1,\n",
       "             'there': 4,\n",
       "             'tremendous': 1,\n",
       "             'amount': 1,\n",
       "             'available': 1,\n",
       "             'information': 5,\n",
       "             'means': 3,\n",
       "             'can': 26,\n",
       "             'be': 12,\n",
       "             'difficult': 3,\n",
       "             'determine': 2,\n",
       "             'should': 3,\n",
       "             'focus': 1,\n",
       "             'on': 12,\n",
       "             'secret': 1,\n",
       "             'navigating': 1,\n",
       "             'this': 9,\n",
       "             'identify': 1,\n",
       "             'your': 35,\n",
       "             'motivation': 1,\n",
       "             'use': 5,\n",
       "             'journey': 2,\n",
       "             'me': 1,\n",
       "             'was': 2,\n",
       "             'completing': 1,\n",
       "             'stock': 1,\n",
       "             'market': 1,\n",
       "             'prediction': 1,\n",
       "             'program': 1,\n",
       "             'do': 9,\n",
       "             'dove': 1,\n",
       "             'statistics': 2,\n",
       "             'with': 14,\n",
       "             'passion': 1,\n",
       "             'helped': 1,\n",
       "             'motivate': 1,\n",
       "             'my': 1,\n",
       "             'learning': 18,\n",
       "             'retain': 1,\n",
       "             'longer': 1,\n",
       "             'gain': 1,\n",
       "             'rely': 1,\n",
       "             'future': 1,\n",
       "             'control': 1,\n",
       "             'tailoring': 1,\n",
       "             'goals': 2,\n",
       "             'other': 2,\n",
       "             'around': 1,\n",
       "             '2': 1,\n",
       "             'nail': 1,\n",
       "             'fundamentals': 2,\n",
       "             'tempting': 1,\n",
       "             'carried': 1,\n",
       "             'away': 1,\n",
       "             'specialized': 1,\n",
       "             'topics': 2,\n",
       "             'like': 6,\n",
       "             'machine': 6,\n",
       "             'neural': 1,\n",
       "             'networks': 1,\n",
       "             'image': 2,\n",
       "             'recognition': 1,\n",
       "             '90': 1,\n",
       "             'work': 7,\n",
       "             'as': 9,\n",
       "             'scientist': 7,\n",
       "             'will': 4,\n",
       "             'cleaning': 2,\n",
       "             't': 6,\n",
       "             'run': 1,\n",
       "             'before': 4,\n",
       "             'walk': 1,\n",
       "             'll': 7,\n",
       "             'more': 8,\n",
       "             'success': 1,\n",
       "             'master': 1,\n",
       "             'simple': 1,\n",
       "             'stuff': 2,\n",
       "             'spending': 1,\n",
       "             'advanced': 2,\n",
       "             'linear': 1,\n",
       "             'regression': 2,\n",
       "             'k-means': 1,\n",
       "             'clustering': 1,\n",
       "             'logistic': 1,\n",
       "             'then': 1,\n",
       "             'complete': 3,\n",
       "             'projects': 6,\n",
       "             'build': 3,\n",
       "             'portfolio': 5,\n",
       "             'why': 1,\n",
       "             'created': 1,\n",
       "             'dataquest': 9,\n",
       "             'did': 1,\n",
       "             'are': 11,\n",
       "             'critical': 1,\n",
       "             'part': 1,\n",
       "             'becoming': 3,\n",
       "             'employers': 2,\n",
       "             'evaluate': 1,\n",
       "             'job': 6,\n",
       "             'candidate': 1,\n",
       "             'virtually': 1,\n",
       "             'every': 1,\n",
       "             'course': 1,\n",
       "             'we': 5,\n",
       "             'offers': 1,\n",
       "             'hands-on': 1,\n",
       "             'project': 4,\n",
       "             'expand': 1,\n",
       "             'whether': 2,\n",
       "             'just': 1,\n",
       "             'getting': 2,\n",
       "             'simply': 1,\n",
       "             'picking': 1,\n",
       "             'up': 4,\n",
       "             'new': 2,\n",
       "             'skill': 1,\n",
       "             'sql': 2,\n",
       "             'have': 4,\n",
       "             'help': 8,\n",
       "             'land': 1,\n",
       "             'dream': 1,\n",
       "             'check': 1,\n",
       "             'out': 3,\n",
       "             'our': 5,\n",
       "             'fun': 1,\n",
       "             'interactive': 1,\n",
       "             'here': 7,\n",
       "             '3': 1,\n",
       "             'communicate': 3,\n",
       "             'constantly': 1,\n",
       "             'need': 7,\n",
       "             'present': 1,\n",
       "             'results': 3,\n",
       "             'their': 3,\n",
       "             'analyses': 1,\n",
       "             'knowing': 1,\n",
       "             'difference': 1,\n",
       "             'between': 1,\n",
       "             'being': 1,\n",
       "             'mediocre': 1,\n",
       "             'great': 3,\n",
       "             'one': 4,\n",
       "             'only': 1,\n",
       "             'valuable': 4,\n",
       "             'insights': 2,\n",
       "             'share': 2,\n",
       "             'communicator': 1,\n",
       "             'three': 1,\n",
       "             'aspects': 1,\n",
       "             'communicating': 1,\n",
       "             'understand': 4,\n",
       "             'topic': 2,\n",
       "             'never': 2,\n",
       "             'able': 1,\n",
       "             'explain': 2,\n",
       "             'something': 2,\n",
       "             'don': 4,\n",
       "             'yourself': 1,\n",
       "             'organize': 1,\n",
       "             'analysis': 4,\n",
       "             'complex': 1,\n",
       "             'concepts': 3,\n",
       "             'effectively': 3,\n",
       "             'some': 7,\n",
       "             'tips': 1,\n",
       "             'start': 4,\n",
       "             'blog': 2,\n",
       "             'post': 2,\n",
       "             'submit': 1,\n",
       "             'pitch': 1,\n",
       "             'write': 2,\n",
       "             'try': 6,\n",
       "             'teach': 6,\n",
       "             'less': 1,\n",
       "             'tech-savvy': 1,\n",
       "             'friends': 1,\n",
       "             'family': 1,\n",
       "             'about': 3,\n",
       "             'computer': 1,\n",
       "             'amazing': 1,\n",
       "             'much': 2,\n",
       "             'teaching': 2,\n",
       "             'speak': 1,\n",
       "             'meetups': 2,\n",
       "             'github': 1,\n",
       "             'host': 1,\n",
       "             'become': 1,\n",
       "             'active': 1,\n",
       "             'communities': 1,\n",
       "             'quora': 1,\n",
       "             'community': 1,\n",
       "             'subreddit': 1,\n",
       "             '4': 1,\n",
       "             'peers': 1,\n",
       "             'lot': 2,\n",
       "             'working': 2,\n",
       "             'others': 1,\n",
       "             'unusual': 1,\n",
       "             'move': 1,\n",
       "             'team': 2,\n",
       "             'they': 6,\n",
       "             'answering': 1,\n",
       "             'questions': 2,\n",
       "             'different': 1,\n",
       "             'departments': 1,\n",
       "             'makes': 2,\n",
       "             'collaboration': 2,\n",
       "             'essential': 1,\n",
       "             'ideas': 4,\n",
       "             'collaborate': 2,\n",
       "             'contribute': 1,\n",
       "             'open-source': 1,\n",
       "             'packages': 2,\n",
       "             'message': 1,\n",
       "             'who': 5,\n",
       "             'interesting': 3,\n",
       "             'blogs': 1,\n",
       "             'see': 4,\n",
       "             'kaggle': 1,\n",
       "             'competition': 1,\n",
       "             'site': 2,\n",
       "             'teammate': 1,\n",
       "             '5': 1,\n",
       "             'increase': 1,\n",
       "             'difficulty': 1,\n",
       "             'last': 2,\n",
       "             'challenged': 1,\n",
       "             'huge': 1,\n",
       "             'teams': 1,\n",
       "             'too': 1,\n",
       "             'comfortable': 2,\n",
       "             'level-up': 1,\n",
       "             'skill-set': 2,\n",
       "             'has': 1,\n",
       "             'these': 3,\n",
       "             'larger': 1,\n",
       "             'dataset': 1,\n",
       "             'spark': 1,\n",
       "             'make': 1,\n",
       "             'algorithm': 3,\n",
       "             'faster': 2,\n",
       "             'would': 1,\n",
       "             'scale': 1,\n",
       "             'multiple': 1,\n",
       "             'processors': 1,\n",
       "             'improve': 2,\n",
       "             'understanding': 2,\n",
       "             'theory': 1,\n",
       "             'behind': 1,\n",
       "             'using': 2,\n",
       "             'novice': 1,\n",
       "             'same': 1,\n",
       "             'things': 2,\n",
       "             'really': 1,\n",
       "             'underrated': 1,\n",
       "             'challenge': 1,\n",
       "             'give': 2,\n",
       "             'quickly': 2,\n",
       "             'someone': 1,\n",
       "             'trying': 1,\n",
       "             'likely': 1,\n",
       "             'come': 2,\n",
       "             'deeper': 2,\n",
       "             'than': 1,\n",
       "             'had': 1,\n",
       "             'communication': 1,\n",
       "             'skills': 8,\n",
       "             'common': 1,\n",
       "             'faqs': 1,\n",
       "             'where': 1,\n",
       "             'might': 2,\n",
       "             'want': 1,\n",
       "             'consider': 1,\n",
       "             'city': 1,\n",
       "             'mapping': 2,\n",
       "             'devices': 1,\n",
       "             'internet': 1,\n",
       "             'finding': 1,\n",
       "             'real': 1,\n",
       "             'positions': 1,\n",
       "             'nba': 2,\n",
       "             'players': 1,\n",
       "             'play': 1,\n",
       "             'refugees': 1,\n",
       "             'year': 1,\n",
       "             'possibilities': 1,\n",
       "             'limitless': 1,\n",
       "             'interests': 1,\n",
       "             'probably': 2,\n",
       "             'fantastic': 1,\n",
       "             'place': 1,\n",
       "             'begin': 1,\n",
       "             'another': 1,\n",
       "             'look': 3,\n",
       "             'datasets': 3,\n",
       "             'types': 1,\n",
       "             'good': 1,\n",
       "             'places': 1,\n",
       "             'free': 1,\n",
       "             'certificate': 3,\n",
       "             'ready': 2,\n",
       "             'wondering': 1,\n",
       "             'worth': 1,\n",
       "             'effort': 1,\n",
       "             'programs': 1,\n",
       "             'incredibly': 1,\n",
       "             'perform': 1,\n",
       "             'resume': 3,\n",
       "             'looking': 1,\n",
       "             'relevant': 2,\n",
       "             'certificates': 2,\n",
       "             'degree': 6,\n",
       "             'having': 1,\n",
       "             'typically': 1,\n",
       "             'takes': 1,\n",
       "             'costs': 1,\n",
       "             'tens': 1,\n",
       "             'hundreds': 2,\n",
       "             'thousands': 1,\n",
       "             'dollars': 1,\n",
       "             'universities': 1,\n",
       "             'also': 4,\n",
       "             'subject': 1,\n",
       "             'institutional': 1,\n",
       "             'inertia': 1,\n",
       "             'slow': 1,\n",
       "             'adapt': 1,\n",
       "             'end': 1,\n",
       "             'wasting': 1,\n",
       "             'studying': 1,\n",
       "             'older': 1,\n",
       "             'technologies': 1,\n",
       "             'aren': 1,\n",
       "             'current': 1,\n",
       "             'business': 1,\n",
       "             'environment': 1,\n",
       "             'thankfully': 1,\n",
       "             'many': 2,\n",
       "             'examples': 1,\n",
       "             'successfully': 1,\n",
       "             'learned': 1,\n",
       "             'own': 1,\n",
       "             'example': 2,\n",
       "             'worked': 2,\n",
       "             'engineer': 1,\n",
       "             'edx': 1,\n",
       "             'starting': 1,\n",
       "             'taught': 1,\n",
       "             'myself': 1,\n",
       "             'those': 1,\n",
       "             'learner': 1,\n",
       "             'stories': 1,\n",
       "             'full': 1,\n",
       "             'learners': 2,\n",
       "             'industry': 1,\n",
       "             'jobs': 1,\n",
       "             'zero': 1,\n",
       "             'background': 1,\n",
       "             'programming': 2,\n",
       "             'no': 2,\n",
       "             '2020': 1,\n",
       "             'survey': 1,\n",
       "             'covered': 1,\n",
       "             'respondents': 1,\n",
       "             'met': 1,\n",
       "             'without': 1,\n",
       "             'money': 1,\n",
       "             'earn': 1,\n",
       "             'university': 1,\n",
       "             'adding': 1,\n",
       "             'definitely': 1,\n",
       "             'possible': 1,\n",
       "             'necessary': 1,\n",
       "             'affordably': 1,\n",
       "             'succeed': 1,\n",
       "             'based': 1,\n",
       "             'postings': 1,\n",
       "             'report': 1,\n",
       "             'fundamental': 1,\n",
       "             'include': 1,\n",
       "             'following': 1,\n",
       "             'python': 5,\n",
       "             'r': 3,\n",
       "             'fluency': 1,\n",
       "             'popular': 2,\n",
       "             'workflows': 1,\n",
       "             'tasks': 1,\n",
       "             'language': 2,\n",
       "             'choice': 1,\n",
       "             'choose': 1,\n",
       "             'familiar': 1,\n",
       "             'libraries': 1,\n",
       "             'pandas': 1,\n",
       "             'numpy': 1,\n",
       "             'matplotlib': 1,\n",
       "             'plotly': 1,\n",
       "             'scikit-learn': 1,\n",
       "             'analyzing': 2,\n",
       "             'visualizing': 1,\n",
       "             'big': 2,\n",
       "             'them': 1,\n",
       "             'writing': 1,\n",
       "             'queries': 1,\n",
       "             'basic': 1,\n",
       "             'modeling': 1,\n",
       "             'workflow': 1,\n",
       "             'git': 1,\n",
       "             'command': 1,\n",
       "             'line/bash': 1,\n",
       "             'etc': 1,\n",
       "             'add': 1,\n",
       "             'position': 1,\n",
       "             'first': 1,\n",
       "             'path': 1,\n",
       "             'designed': 1,\n",
       "             'important': 1,\n",
       "             'dig': 1,\n",
       "             'specializations': 1,\n",
       "             'natural': 1,\n",
       "             'processing': 1,\n",
       "             'classification': 1,\n",
       "             'deep': 1,\n",
       "             'variety': 1,\n",
       "             'options': 1,\n",
       "             'bottom': 1,\n",
       "             'line': 1,\n",
       "             'generally': 1,\n",
       "             'dislike': 1,\n",
       "             '“': 1,\n",
       "             'list': 2,\n",
       "             '”': 1,\n",
       "             'approach': 2,\n",
       "             'because': 3,\n",
       "             'next': 1,\n",
       "             'seen': 1,\n",
       "             'confronted': 1,\n",
       "             'giant': 1,\n",
       "             'moocs': 1,\n",
       "             'personally': 1,\n",
       "             'believe': 1,\n",
       "             'anyone': 1,\n",
       "             'right': 1,\n",
       "             'frame': 1,\n",
       "             'mind': 1,\n",
       "             'm': 1,\n",
       "             'founder': 1,\n",
       "             'helps': 1,\n",
       "             'browser': 1,\n",
       "             'encapsulates': 1,\n",
       "             'discussed': 1,\n",
       "             'create': 1,\n",
       "             'better': 1,\n",
       "             'cia': 1,\n",
       "             'documents': 1,\n",
       "             'player': 1,\n",
       "             'stats': 1,\n",
       "             'through': 1,\n",
       "             'worry': 1,\n",
       "             'code': 1,\n",
       "             'both': 1,\n",
       "             'scratch': 1,\n",
       "             'required': 1,\n",
       "             'beginner-friendly': 1,\n",
       "             'languages': 2,\n",
       "             'used': 1,\n",
       "             'real-world': 1,\n",
       "             'helpful': 2,\n",
       "             'resources': 2,\n",
       "             'found': 1,\n",
       "             'analytics': 1,\n",
       "             'today': 1})"
      ]
     },
     "execution_count": 110,
     "metadata": {},
     "output_type": "execute_result"
    }
   ],
   "source": [
    "blob.word_counts"
   ]
  },
  {
   "cell_type": "code",
   "execution_count": 111,
   "metadata": {
    "ExecuteTime": {
     "end_time": "2020-11-06T20:12:03.368576Z",
     "start_time": "2020-11-06T20:12:03.305407Z"
    }
   },
   "outputs": [
    {
     "data": {
      "text/plain": [
       "19"
      ]
     },
     "execution_count": 111,
     "metadata": {},
     "output_type": "execute_result"
    }
   ],
   "source": [
    "blob.word_counts['i']"
   ]
  },
  {
   "cell_type": "code",
   "execution_count": 105,
   "metadata": {},
   "outputs": [],
   "source": [
    "import pandas as pd  \n",
    "import plotly.express as px "
   ]
  },
  {
   "cell_type": "code",
   "execution_count": 112,
   "metadata": {
    "ExecuteTime": {
     "end_time": "2020-11-06T20:12:03.912266Z",
     "start_time": "2020-11-06T20:12:03.781628Z"
    }
   },
   "outputs": [
    {
     "data": {
      "application/vnd.plotly.v1+json": {
       "config": {
        "plotlyServerURL": "https://plot.ly"
       },
       "data": [
        {
         "alignmentgroup": "True",
         "hovertemplate": "variable=count<br>index=%{x}<br>value=%{y}<extra></extra>",
         "legendgroup": "count",
         "marker": {
          "color": "#636efa",
          "pattern": {
           "shape": ""
          }
         },
         "name": "count",
         "offsetgroup": "count",
         "orientation": "v",
         "showlegend": true,
         "textposition": "auto",
         "type": "bar",
         "x": [
          "you",
          "to",
          "a",
          "data",
          "the",
          "’",
          "and",
          "your",
          "science",
          "of",
          "can",
          "learn",
          "i",
          "it",
          "learning",
          "if",
          "s",
          "in",
          "that",
          "with",
          "be",
          "on",
          "are",
          "is",
          "re",
          "for",
          "at",
          "what",
          "as",
          "do"
         ],
         "xaxis": "x",
         "y": [
          69,
          68,
          55,
          48,
          46,
          44,
          41,
          35,
          30,
          27,
          26,
          22,
          19,
          19,
          18,
          15,
          15,
          14,
          14,
          14,
          12,
          12,
          11,
          11,
          11,
          10,
          10,
          10,
          9,
          9
         ],
         "yaxis": "y"
        }
       ],
       "layout": {
        "barmode": "relative",
        "legend": {
         "title": {
          "text": "variable"
         },
         "tracegroupgap": 0
        },
        "margin": {
         "t": 60
        },
        "template": {
         "data": {
          "bar": [
           {
            "error_x": {
             "color": "#2a3f5f"
            },
            "error_y": {
             "color": "#2a3f5f"
            },
            "marker": {
             "line": {
              "color": "#E5ECF6",
              "width": 0.5
             },
             "pattern": {
              "fillmode": "overlay",
              "size": 10,
              "solidity": 0.2
             }
            },
            "type": "bar"
           }
          ],
          "barpolar": [
           {
            "marker": {
             "line": {
              "color": "#E5ECF6",
              "width": 0.5
             },
             "pattern": {
              "fillmode": "overlay",
              "size": 10,
              "solidity": 0.2
             }
            },
            "type": "barpolar"
           }
          ],
          "carpet": [
           {
            "aaxis": {
             "endlinecolor": "#2a3f5f",
             "gridcolor": "white",
             "linecolor": "white",
             "minorgridcolor": "white",
             "startlinecolor": "#2a3f5f"
            },
            "baxis": {
             "endlinecolor": "#2a3f5f",
             "gridcolor": "white",
             "linecolor": "white",
             "minorgridcolor": "white",
             "startlinecolor": "#2a3f5f"
            },
            "type": "carpet"
           }
          ],
          "choropleth": [
           {
            "colorbar": {
             "outlinewidth": 0,
             "ticks": ""
            },
            "type": "choropleth"
           }
          ],
          "contour": [
           {
            "colorbar": {
             "outlinewidth": 0,
             "ticks": ""
            },
            "colorscale": [
             [
              0,
              "#0d0887"
             ],
             [
              0.1111111111111111,
              "#46039f"
             ],
             [
              0.2222222222222222,
              "#7201a8"
             ],
             [
              0.3333333333333333,
              "#9c179e"
             ],
             [
              0.4444444444444444,
              "#bd3786"
             ],
             [
              0.5555555555555556,
              "#d8576b"
             ],
             [
              0.6666666666666666,
              "#ed7953"
             ],
             [
              0.7777777777777778,
              "#fb9f3a"
             ],
             [
              0.8888888888888888,
              "#fdca26"
             ],
             [
              1,
              "#f0f921"
             ]
            ],
            "type": "contour"
           }
          ],
          "contourcarpet": [
           {
            "colorbar": {
             "outlinewidth": 0,
             "ticks": ""
            },
            "type": "contourcarpet"
           }
          ],
          "heatmap": [
           {
            "colorbar": {
             "outlinewidth": 0,
             "ticks": ""
            },
            "colorscale": [
             [
              0,
              "#0d0887"
             ],
             [
              0.1111111111111111,
              "#46039f"
             ],
             [
              0.2222222222222222,
              "#7201a8"
             ],
             [
              0.3333333333333333,
              "#9c179e"
             ],
             [
              0.4444444444444444,
              "#bd3786"
             ],
             [
              0.5555555555555556,
              "#d8576b"
             ],
             [
              0.6666666666666666,
              "#ed7953"
             ],
             [
              0.7777777777777778,
              "#fb9f3a"
             ],
             [
              0.8888888888888888,
              "#fdca26"
             ],
             [
              1,
              "#f0f921"
             ]
            ],
            "type": "heatmap"
           }
          ],
          "heatmapgl": [
           {
            "colorbar": {
             "outlinewidth": 0,
             "ticks": ""
            },
            "colorscale": [
             [
              0,
              "#0d0887"
             ],
             [
              0.1111111111111111,
              "#46039f"
             ],
             [
              0.2222222222222222,
              "#7201a8"
             ],
             [
              0.3333333333333333,
              "#9c179e"
             ],
             [
              0.4444444444444444,
              "#bd3786"
             ],
             [
              0.5555555555555556,
              "#d8576b"
             ],
             [
              0.6666666666666666,
              "#ed7953"
             ],
             [
              0.7777777777777778,
              "#fb9f3a"
             ],
             [
              0.8888888888888888,
              "#fdca26"
             ],
             [
              1,
              "#f0f921"
             ]
            ],
            "type": "heatmapgl"
           }
          ],
          "histogram": [
           {
            "marker": {
             "pattern": {
              "fillmode": "overlay",
              "size": 10,
              "solidity": 0.2
             }
            },
            "type": "histogram"
           }
          ],
          "histogram2d": [
           {
            "colorbar": {
             "outlinewidth": 0,
             "ticks": ""
            },
            "colorscale": [
             [
              0,
              "#0d0887"
             ],
             [
              0.1111111111111111,
              "#46039f"
             ],
             [
              0.2222222222222222,
              "#7201a8"
             ],
             [
              0.3333333333333333,
              "#9c179e"
             ],
             [
              0.4444444444444444,
              "#bd3786"
             ],
             [
              0.5555555555555556,
              "#d8576b"
             ],
             [
              0.6666666666666666,
              "#ed7953"
             ],
             [
              0.7777777777777778,
              "#fb9f3a"
             ],
             [
              0.8888888888888888,
              "#fdca26"
             ],
             [
              1,
              "#f0f921"
             ]
            ],
            "type": "histogram2d"
           }
          ],
          "histogram2dcontour": [
           {
            "colorbar": {
             "outlinewidth": 0,
             "ticks": ""
            },
            "colorscale": [
             [
              0,
              "#0d0887"
             ],
             [
              0.1111111111111111,
              "#46039f"
             ],
             [
              0.2222222222222222,
              "#7201a8"
             ],
             [
              0.3333333333333333,
              "#9c179e"
             ],
             [
              0.4444444444444444,
              "#bd3786"
             ],
             [
              0.5555555555555556,
              "#d8576b"
             ],
             [
              0.6666666666666666,
              "#ed7953"
             ],
             [
              0.7777777777777778,
              "#fb9f3a"
             ],
             [
              0.8888888888888888,
              "#fdca26"
             ],
             [
              1,
              "#f0f921"
             ]
            ],
            "type": "histogram2dcontour"
           }
          ],
          "mesh3d": [
           {
            "colorbar": {
             "outlinewidth": 0,
             "ticks": ""
            },
            "type": "mesh3d"
           }
          ],
          "parcoords": [
           {
            "line": {
             "colorbar": {
              "outlinewidth": 0,
              "ticks": ""
             }
            },
            "type": "parcoords"
           }
          ],
          "pie": [
           {
            "automargin": true,
            "type": "pie"
           }
          ],
          "scatter": [
           {
            "marker": {
             "colorbar": {
              "outlinewidth": 0,
              "ticks": ""
             }
            },
            "type": "scatter"
           }
          ],
          "scatter3d": [
           {
            "line": {
             "colorbar": {
              "outlinewidth": 0,
              "ticks": ""
             }
            },
            "marker": {
             "colorbar": {
              "outlinewidth": 0,
              "ticks": ""
             }
            },
            "type": "scatter3d"
           }
          ],
          "scattercarpet": [
           {
            "marker": {
             "colorbar": {
              "outlinewidth": 0,
              "ticks": ""
             }
            },
            "type": "scattercarpet"
           }
          ],
          "scattergeo": [
           {
            "marker": {
             "colorbar": {
              "outlinewidth": 0,
              "ticks": ""
             }
            },
            "type": "scattergeo"
           }
          ],
          "scattergl": [
           {
            "marker": {
             "colorbar": {
              "outlinewidth": 0,
              "ticks": ""
             }
            },
            "type": "scattergl"
           }
          ],
          "scattermapbox": [
           {
            "marker": {
             "colorbar": {
              "outlinewidth": 0,
              "ticks": ""
             }
            },
            "type": "scattermapbox"
           }
          ],
          "scatterpolar": [
           {
            "marker": {
             "colorbar": {
              "outlinewidth": 0,
              "ticks": ""
             }
            },
            "type": "scatterpolar"
           }
          ],
          "scatterpolargl": [
           {
            "marker": {
             "colorbar": {
              "outlinewidth": 0,
              "ticks": ""
             }
            },
            "type": "scatterpolargl"
           }
          ],
          "scatterternary": [
           {
            "marker": {
             "colorbar": {
              "outlinewidth": 0,
              "ticks": ""
             }
            },
            "type": "scatterternary"
           }
          ],
          "surface": [
           {
            "colorbar": {
             "outlinewidth": 0,
             "ticks": ""
            },
            "colorscale": [
             [
              0,
              "#0d0887"
             ],
             [
              0.1111111111111111,
              "#46039f"
             ],
             [
              0.2222222222222222,
              "#7201a8"
             ],
             [
              0.3333333333333333,
              "#9c179e"
             ],
             [
              0.4444444444444444,
              "#bd3786"
             ],
             [
              0.5555555555555556,
              "#d8576b"
             ],
             [
              0.6666666666666666,
              "#ed7953"
             ],
             [
              0.7777777777777778,
              "#fb9f3a"
             ],
             [
              0.8888888888888888,
              "#fdca26"
             ],
             [
              1,
              "#f0f921"
             ]
            ],
            "type": "surface"
           }
          ],
          "table": [
           {
            "cells": {
             "fill": {
              "color": "#EBF0F8"
             },
             "line": {
              "color": "white"
             }
            },
            "header": {
             "fill": {
              "color": "#C8D4E3"
             },
             "line": {
              "color": "white"
             }
            },
            "type": "table"
           }
          ]
         },
         "layout": {
          "annotationdefaults": {
           "arrowcolor": "#2a3f5f",
           "arrowhead": 0,
           "arrowwidth": 1
          },
          "autotypenumbers": "strict",
          "coloraxis": {
           "colorbar": {
            "outlinewidth": 0,
            "ticks": ""
           }
          },
          "colorscale": {
           "diverging": [
            [
             0,
             "#8e0152"
            ],
            [
             0.1,
             "#c51b7d"
            ],
            [
             0.2,
             "#de77ae"
            ],
            [
             0.3,
             "#f1b6da"
            ],
            [
             0.4,
             "#fde0ef"
            ],
            [
             0.5,
             "#f7f7f7"
            ],
            [
             0.6,
             "#e6f5d0"
            ],
            [
             0.7,
             "#b8e186"
            ],
            [
             0.8,
             "#7fbc41"
            ],
            [
             0.9,
             "#4d9221"
            ],
            [
             1,
             "#276419"
            ]
           ],
           "sequential": [
            [
             0,
             "#0d0887"
            ],
            [
             0.1111111111111111,
             "#46039f"
            ],
            [
             0.2222222222222222,
             "#7201a8"
            ],
            [
             0.3333333333333333,
             "#9c179e"
            ],
            [
             0.4444444444444444,
             "#bd3786"
            ],
            [
             0.5555555555555556,
             "#d8576b"
            ],
            [
             0.6666666666666666,
             "#ed7953"
            ],
            [
             0.7777777777777778,
             "#fb9f3a"
            ],
            [
             0.8888888888888888,
             "#fdca26"
            ],
            [
             1,
             "#f0f921"
            ]
           ],
           "sequentialminus": [
            [
             0,
             "#0d0887"
            ],
            [
             0.1111111111111111,
             "#46039f"
            ],
            [
             0.2222222222222222,
             "#7201a8"
            ],
            [
             0.3333333333333333,
             "#9c179e"
            ],
            [
             0.4444444444444444,
             "#bd3786"
            ],
            [
             0.5555555555555556,
             "#d8576b"
            ],
            [
             0.6666666666666666,
             "#ed7953"
            ],
            [
             0.7777777777777778,
             "#fb9f3a"
            ],
            [
             0.8888888888888888,
             "#fdca26"
            ],
            [
             1,
             "#f0f921"
            ]
           ]
          },
          "colorway": [
           "#636efa",
           "#EF553B",
           "#00cc96",
           "#ab63fa",
           "#FFA15A",
           "#19d3f3",
           "#FF6692",
           "#B6E880",
           "#FF97FF",
           "#FECB52"
          ],
          "font": {
           "color": "#2a3f5f"
          },
          "geo": {
           "bgcolor": "white",
           "lakecolor": "white",
           "landcolor": "#E5ECF6",
           "showlakes": true,
           "showland": true,
           "subunitcolor": "white"
          },
          "hoverlabel": {
           "align": "left"
          },
          "hovermode": "closest",
          "mapbox": {
           "style": "light"
          },
          "paper_bgcolor": "white",
          "plot_bgcolor": "#E5ECF6",
          "polar": {
           "angularaxis": {
            "gridcolor": "white",
            "linecolor": "white",
            "ticks": ""
           },
           "bgcolor": "#E5ECF6",
           "radialaxis": {
            "gridcolor": "white",
            "linecolor": "white",
            "ticks": ""
           }
          },
          "scene": {
           "xaxis": {
            "backgroundcolor": "#E5ECF6",
            "gridcolor": "white",
            "gridwidth": 2,
            "linecolor": "white",
            "showbackground": true,
            "ticks": "",
            "zerolinecolor": "white"
           },
           "yaxis": {
            "backgroundcolor": "#E5ECF6",
            "gridcolor": "white",
            "gridwidth": 2,
            "linecolor": "white",
            "showbackground": true,
            "ticks": "",
            "zerolinecolor": "white"
           },
           "zaxis": {
            "backgroundcolor": "#E5ECF6",
            "gridcolor": "white",
            "gridwidth": 2,
            "linecolor": "white",
            "showbackground": true,
            "ticks": "",
            "zerolinecolor": "white"
           }
          },
          "shapedefaults": {
           "line": {
            "color": "#2a3f5f"
           }
          },
          "ternary": {
           "aaxis": {
            "gridcolor": "white",
            "linecolor": "white",
            "ticks": ""
           },
           "baxis": {
            "gridcolor": "white",
            "linecolor": "white",
            "ticks": ""
           },
           "bgcolor": "#E5ECF6",
           "caxis": {
            "gridcolor": "white",
            "linecolor": "white",
            "ticks": ""
           }
          },
          "title": {
           "x": 0.05
          },
          "xaxis": {
           "automargin": true,
           "gridcolor": "white",
           "linecolor": "white",
           "ticks": "",
           "title": {
            "standoff": 15
           },
           "zerolinecolor": "white",
           "zerolinewidth": 2
          },
          "yaxis": {
           "automargin": true,
           "gridcolor": "white",
           "linecolor": "white",
           "ticks": "",
           "title": {
            "standoff": 15
           },
           "zerolinecolor": "white",
           "zerolinewidth": 2
          }
         }
        },
        "xaxis": {
         "anchor": "y",
         "domain": [
          0,
          1
         ],
         "title": {
          "text": "index"
         }
        },
        "yaxis": {
         "anchor": "x",
         "domain": [
          0,
          1
         ],
         "title": {
          "text": "value"
         }
        }
       }
      }
     },
     "metadata": {},
     "output_type": "display_data"
    }
   ],
   "source": [
    "frequency = pd.DataFrame.from_dict(\n",
    "    blob.word_counts, orient='index', columns=['count']\n",
    ")\n",
    "plot = px.bar(\n",
    "    frequency.sort_values(by='count', ascending=False)[:30]\n",
    ")\n",
    "plot "
   ]
  }
 ],
 "metadata": {
  "kernelspec": {
   "display_name": "Python 3.9.13 ('venv': venv)",
   "language": "python",
   "name": "python3"
  },
  "language_info": {
   "codemirror_mode": {
    "name": "ipython",
    "version": 3
   },
   "file_extension": ".py",
   "mimetype": "text/x-python",
   "name": "python",
   "nbconvert_exporter": "python",
   "pygments_lexer": "ipython3",
   "version": "3.9.13"
  },
  "toc": {
   "base_numbering": 1,
   "nav_menu": {},
   "number_sections": true,
   "sideBar": true,
   "skip_h1_title": false,
   "title_cell": "Table of Contents",
   "title_sidebar": "Contents",
   "toc_cell": false,
   "toc_position": {},
   "toc_section_display": true,
   "toc_window_display": false
  },
  "vscode": {
   "interpreter": {
    "hash": "478cc5ef0f338997730d9103983e193fe6c3c8e58abb3c8c0481de8a2f51bddc"
   }
  }
 },
 "nbformat": 4,
 "nbformat_minor": 4
}
