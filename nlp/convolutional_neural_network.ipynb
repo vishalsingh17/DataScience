{
 "cells": [
  {
   "cell_type": "code",
   "execution_count": 1,
   "metadata": {
    "ExecuteTime": {
     "end_time": "2020-08-02T22:10:15.606770Z",
     "start_time": "2020-08-02T22:10:14.326533Z"
    }
   },
   "outputs": [],
   "source": [
    "import keras "
   ]
  },
  {
   "cell_type": "code",
   "execution_count": 2,
   "metadata": {
    "ExecuteTime": {
     "end_time": "2020-08-02T22:10:25.563408Z",
     "start_time": "2020-08-02T22:10:20.005363Z"
    }
   },
   "outputs": [],
   "source": [
    "from keras.datasets import imdb\n",
    "import tensorflow as tf\n",
    "\n",
    "import torch\n",
    "import torch.nn as nn\n",
    "import torch.nn.functional as F\n",
    "\n",
    "from sklearn.model_selection import train_test_split\n",
    "\n",
    "# Load imdb dataset\n",
    "(x_train, y_train), (x_test, y_test) = imdb.load_data(path=\"imdb.npz\",num_words=None, skip_top=0, maxlen=None, seed=113, start_char=1, oov_char=2, index_from=3)\n",
    "vocab = tf.keras.datasets.imdb.get_word_index(path='imdb_word_index.json')\n",
    "\n",
    "# Split the train set into train and validation set\n",
    "x_train, x_val, y_train, y_val = train_test_split(x_train, y_train, test_size = 0.2, random_state=17)\n",
    "\n",
    "# Training batch size\n",
    "batch_size = 50\n",
    "\n",
    "# Put x into tensors\n",
    "x_train = [torch.tensor(x) for x in x_train]\n",
    "# Add zeros at the end of each word vector to create vectors with equal size\n",
    "X_train = nn.utils.rnn.pad_sequence(x_train, batch_first=True, padding_value=0).long()\n",
    "# Split the data into batches\n",
    "X_train = X_train.view(-1, batch_size, X_train.shape[1])\n",
    "\n",
    "# Apply the same length of X_train on X_val and X_test\n",
    "len_voc = int((X_train.max()+1).item())\n",
    "\n",
    "x_val = [torch.tensor(x) for x in x_val]\n",
    "X_val = nn.utils.rnn.pad_sequence(x_val, batch_first=True, padding_value=0).long()\n",
    "X_val = X_val.view(-1, batch_size, X_val.shape[1])\n",
    "\n",
    "x_test = [torch.tensor(x) for x in x_test]\n",
    "X_test = nn.utils.rnn.pad_sequence(x_test, batch_first=True, padding_value=0,).long()\n",
    "X_test  = X_test.view(-1, batch_size, X_test.shape[1])\n",
    "\n",
    "y_train = torch.tensor(y_train).view(-1, batch_size)\n",
    "y_val = torch.tensor(y_val)\n",
    "y_test = torch.tensor(y_test)"
   ]
  },
  {
   "cell_type": "code",
   "execution_count": 3,
   "metadata": {
    "ExecuteTime": {
     "end_time": "2020-08-02T22:10:31.252661Z",
     "start_time": "2020-08-02T22:10:28.617274Z"
    }
   },
   "outputs": [],
   "source": [
    "import torch\n",
    "import torch.nn.functional as F\n",
    "import torch.nn as nn\n",
    "import torch.optim as optim\n",
    "\n",
    "# Create word embedding from scratch\n",
    "embeddings = nn.Embedding(len_voc, 100)\n",
    "\n",
    "# Build CNN model\n",
    "class Model(nn.Module):\n",
    "    def __init__(self):\n",
    "        super(Model, self).__init__()\n",
    "        self.embeddings = nn.Embedding(len_voc, 100)\n",
    "        self.cnn = nn.Conv2d(1, 100, (3, 100))\n",
    "        self.clf = nn.Linear(100, 2)\n",
    "\n",
    "    def forward(self, x):\n",
    "        # Add word embeddings\n",
    "        x = self.embeddings(x)\n",
    "        # Add an extra dimension for CNN\n",
    "        x = x.unsqueeze(1)\n",
    "        # Apply CNN\n",
    "        x = self.cnn(x)\n",
    "        # Choose the maximum value of each filter and delete the extra dimension\n",
    "        x = x.max(2)[0].squeeze(2)\n",
    "        # Choose the most important features for the classification\n",
    "        x = F.relu(x) \n",
    "        #  Apply linear nn for classification\n",
    "        x = self.clf(x)\n",
    "        # Return the probability of positive and negative\n",
    "        return F.softmax(x, 1)\n",
    "\n",
    "# Use GPU for the model      \n",
    "model = Model().cuda()\n",
    "# opmization function\n",
    "optimizer = optim.Adam(model.parameters(), lr=1e-3)\n",
    "# calculate the loss\n",
    "criterio  = nn.CrossEntropyLoss()\n"
   ]
  },
  {
   "cell_type": "code",
   "execution_count": 4,
   "metadata": {
    "ExecuteTime": {
     "end_time": "2020-08-02T22:24:01.090135Z",
     "start_time": "2020-08-02T22:10:42.290463Z"
    }
   },
   "outputs": [
    {
     "name": "stdout",
     "output_type": "stream",
     "text": [
      "Epoch: 0 \t Batch: 0 \t Loss: 0.7217202783 \t F1_val: 0.2373188406\n",
      "Epoch: 0 \t Batch: 200 \t Loss: 0.5756949186 \t F1_val: 0.7776928953\n",
      "Epoch: 1 \t Batch: 0 \t Loss: 0.5172477365 \t F1_val: 0.8181099249\n",
      "Epoch: 1 \t Batch: 200 \t Loss: 0.4657655358 \t F1_val: 0.8353818255\n",
      "Epoch: 2 \t Batch: 0 \t Loss: 0.4471399188 \t F1_val: 0.8496240602\n",
      "Epoch: 2 \t Batch: 200 \t Loss: 0.4136322737 \t F1_val: 0.8605797673\n",
      "Epoch: 3 \t Batch: 0 \t Loss: 0.4016897678 \t F1_val: 0.8643768400\n",
      "Epoch: 3 \t Batch: 200 \t Loss: 0.3766904473 \t F1_val: 0.8653693407\n",
      "Epoch: 4 \t Batch: 0 \t Loss: 0.3708881438 \t F1_val: 0.8699943063\n",
      "Epoch: 4 \t Batch: 200 \t Loss: 0.3563393652 \t F1_val: 0.8701941378\n",
      "Epoch: 5 \t Batch: 0 \t Loss: 0.3519413471 \t F1_val: 0.8733810168\n",
      "Epoch: 5 \t Batch: 200 \t Loss: 0.3461069465 \t F1_val: 0.8346456693\n",
      "Epoch: 6 \t Batch: 0 \t Loss: 0.3439921141 \t F1_val: 0.8599498328\n",
      "Epoch: 6 \t Batch: 200 \t Loss: 0.3371107578 \t F1_val: 0.7864327485\n",
      "Epoch: 7 \t Batch: 0 \t Loss: 0.3350907266 \t F1_val: 0.8722947943\n",
      "Epoch: 7 \t Batch: 200 \t Loss: 0.3302465677 \t F1_val: 0.8643858203\n",
      "Epoch: 8 \t Batch: 0 \t Loss: 0.3311381638 \t F1_val: 0.8710359408\n",
      "Epoch: 8 \t Batch: 200 \t Loss: 0.3253946304 \t F1_val: 0.8736176935\n",
      "Epoch: 9 \t Batch: 0 \t Loss: 0.3255263567 \t F1_val: 0.8728979273\n",
      "Epoch: 9 \t Batch: 200 \t Loss: 0.3216796815 \t F1_val: 0.8718558130\n",
      "Epoch: 10 \t Batch: 0 \t Loss: 0.3221006691 \t F1_val: 0.8723361880\n",
      "Epoch: 10 \t Batch: 200 \t Loss: 0.3202381432 \t F1_val: 0.8715797883\n",
      "Epoch: 11 \t Batch: 0 \t Loss: 0.3206381202 \t F1_val: 0.8730379495\n",
      "Epoch: 11 \t Batch: 200 \t Loss: 0.3195030391 \t F1_val: 0.8719668574\n",
      "Epoch: 12 \t Batch: 0 \t Loss: 0.3200326860 \t F1_val: 0.8689018269\n",
      "Epoch: 12 \t Batch: 200 \t Loss: 0.3193186522 \t F1_val: 0.8730784391\n",
      "Epoch: 13 \t Batch: 0 \t Loss: 0.3189916313 \t F1_val: 0.8705694942\n",
      "Epoch: 13 \t Batch: 200 \t Loss: 0.3191423714 \t F1_val: 0.8746572660\n",
      "Epoch: 14 \t Batch: 0 \t Loss: 0.3182896972 \t F1_val: 0.8716000000\n",
      "Epoch: 14 \t Batch: 200 \t Loss: 0.3189699352 \t F1_val: 0.8751221419\n",
      "Epoch: 15 \t Batch: 0 \t Loss: 0.3180444837 \t F1_val: 0.8690694360\n",
      "Epoch: 15 \t Batch: 200 \t Loss: 0.3188992739 \t F1_val: 0.8743485814\n",
      "Epoch: 16 \t Batch: 0 \t Loss: 0.3174907267 \t F1_val: 0.8714112414\n",
      "Epoch: 16 \t Batch: 200 \t Loss: 0.3186429143 \t F1_val: 0.8729064039\n",
      "Epoch: 17 \t Batch: 0 \t Loss: 0.3174530268 \t F1_val: 0.8741455569\n",
      "Epoch: 17 \t Batch: 200 \t Loss: 0.3180091083 \t F1_val: 0.8732281893\n",
      "Epoch: 18 \t Batch: 0 \t Loss: 0.3172685802 \t F1_val: 0.8734710247\n",
      "Epoch: 18 \t Batch: 200 \t Loss: 0.3178388774 \t F1_val: 0.8708249497\n",
      "Epoch: 19 \t Batch: 0 \t Loss: 0.3167806268 \t F1_val: 0.8704453441\n",
      "Epoch: 19 \t Batch: 200 \t Loss: 0.3175700009 \t F1_val: 0.8744761525\n"
     ]
    }
   ],
   "source": [
    "from sklearn import metrics\n",
    "\n",
    "# Function for evaluating\n",
    "def get_f1(X, y_real):\n",
    "  y_pred = []\n",
    "  for x in X:\n",
    "      # Choose the value with higher probability\n",
    "      y_pred.append(model(x.cuda()).argmax(1).cpu().detach())\n",
    "  y_pred = torch.cat(y_pred)\n",
    "  return metrics.f1_score(y_true=y_real, y_pred=y_pred)\n",
    "\n",
    "# Training steps\n",
    "epochs = 20\n",
    "LOSS = []\n",
    "for e in range(epochs):\n",
    "    for i, (x, y) in enumerate(zip(X_train, y_train)):\n",
    "        \n",
    "        # Delete the prvious values of the gradient\n",
    "        optimizer.zero_grad()\n",
    "        x, y = x.cuda(), y.cuda()\n",
    "        \n",
    "        y_pred = model(x)\n",
    "        loss = criterio(y_pred, y)\n",
    "\n",
    "        # Compute the gradient\n",
    "        loss.backward()\n",
    "\n",
    "        # Apply the optimization method for one step\n",
    "        optimizer.step()\n",
    "        \n",
    "        LOSS.append(loss.item())\n",
    "        if i%200==0:\n",
    "            with torch.no_grad():\n",
    "                f1 = get_f1(X_val, y_val)\n",
    "            print('Epoch: %d \\t Batch: %d \\t Loss: %.10f \\t F1_val: %.10f'%(e,i, torch.tensor(LOSS[-100:]).mean(), f1))\n"
   ]
  },
  {
   "cell_type": "code",
   "execution_count": 5,
   "metadata": {
    "ExecuteTime": {
     "end_time": "2020-08-02T22:27:17.995259Z",
     "start_time": "2020-08-02T22:27:17.696542Z"
    }
   },
   "outputs": [
    {
     "data": {
      "text/plain": [
       "[<matplotlib.lines.Line2D at 0x7f0d0d9adfa0>]"
      ]
     },
     "execution_count": 5,
     "metadata": {},
     "output_type": "execute_result"
    },
    {
     "data": {
      "image/png": "[encoded data removed]",
      "text/plain": [
       "<Figure size 432x288 with 1 Axes>"
      ]
     },
     "metadata": {
      "needs_background": "light"
     },
     "output_type": "display_data"
    }
   ],
   "source": [
    "import matplotlib.pyplot as plt\n",
    "plt.plot(LOSS)"
   ]
  },
  {
   "cell_type": "code",
   "execution_count": 6,
   "metadata": {
    "ExecuteTime": {
     "end_time": "2020-08-02T22:27:42.879421Z",
     "start_time": "2020-08-02T22:27:22.414004Z"
    }
   },
   "outputs": [
    {
     "name": "stdout",
     "output_type": "stream",
     "text": [
      "F1_test: 0.87657\n"
     ]
    }
   ],
   "source": [
    "print(\"F1_test: %.5f\"%(get_f1(X_test, y_test)))\n"
   ]
  },
  {
   "cell_type": "code",
   "execution_count": null,
   "metadata": {},
   "outputs": [],
   "source": []
  }
 ],
 "metadata": {
  "kernelspec": {
   "display_name": "Python 3.8.3 64-bit ('scraping': conda)",
   "language": "python",
   "name": "python38364bitscrapingconda8891ca94cb9c435e8f8159bc20eab25f"
  },
  "language_info": {
   "codemirror_mode": {
    "name": "ipython",
    "version": 3
   },
   "file_extension": ".py",
   "mimetype": "text/x-python",
   "name": "python",
   "nbconvert_exporter": "python",
   "pygments_lexer": "ipython3",
   "version": "3.8.3"
  },
  "latex_envs": {
   "LaTeX_envs_menu_present": true,
   "autoclose": false,
   "autocomplete": true,
   "bibliofile": "biblio.bib",
   "cite_by": "apalike",
   "current_citInitial": 1,
   "eqLabelWithNumbers": true,
   "eqNumInitial": 1,
   "hotkeys": {
    "equation": "Ctrl-E",
    "itemize": "Ctrl-I"
   },
   "labels_anchors": false,
   "latex_user_defs": false,
   "report_style_numbering": false,
   "user_envs_cfg": false
  },
  "toc": {
   "base_numbering": 1,
   "nav_menu": {},
   "number_sections": true,
   "sideBar": true,
   "skip_h1_title": false,
   "title_cell": "Table of Contents",
   "title_sidebar": "Contents",
   "toc_cell": false,
   "toc_position": {},
   "toc_section_display": true,
   "toc_window_display": false
  }
 },
 "nbformat": 4,
 "nbformat_minor": 4
}
