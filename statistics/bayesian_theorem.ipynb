{
 "cells": [
  {
   "cell_type": "markdown",
   "source": "\\begin{align*}\nP(A|B) &= \\frac{P(B \\cap A)}{P(B)}\\\\\n\\end{align*}\nwhere\n- $P(A)$ is the probability that event $A$ occurs.\n- $P(B)$ is the probability that event $B$ occurs.\n- $P(B \\cap A)$ is the probability that both event $A$ and $B$ occur.\n- $P(A|B)$ is the probability that event $A$ occurs given the event $B$ occurs.",
   "metadata": {
    "cell_id": "00000-a998ce86-237d-4cd1-a579-fe5fdcbb3e56",
    "deepnote_cell_type": "markdown"
   }
  },
  {
   "cell_type": "markdown",
   "source": "$D$: A patient has COVID.\n\n$H$: A patient doesn't have COVID.\n\n$+$: A patient has a positive test result.\n\n$-$: A patient has a negative test result.\n\nThe probability that a patient has a positive test result when he/she doesn't have COVID is\n\n$P(+|H) = 0.01.$\n\nThe probability that a patient has a positive test result when he/she has COVID is\n\n$P(+|D) = 0.98.$\n\nThe probability that a patient has COVID is\n\n$P(D) = 0.01$.",
   "metadata": {
    "cell_id": "00001-fd3145c5-9e2b-498b-90ed-0274738b138e",
    "deepnote_cell_type": "markdown"
   }
  },
  {
   "cell_type": "markdown",
   "source": "For a randomly selected person, what is the probability that a patient has a positive test result?\n\n$P(+) =$ ?\n\\begin{align*}\nP(H) &= 1 - P(D)\\\\\n&= 1 - 0.01\\\\\n&= 0.99.\\\\\nP(+) &=P(+|D)P(D) + P(+|H)P(H)\\\\\n&= 0.98(0.01)+0.01(0.99)\\\\\n&= 0.0197.\n\\end{align*}",
   "metadata": {
    "cell_id": "00002-a04f824c-9ea9-4e0f-bde6-8fb4cadf517e",
    "deepnote_cell_type": "markdown"
   }
  },
  {
   "cell_type": "markdown",
   "source": "If a randomly selected person is tested positive, what is the probability the person has COVID?\n\n$P(D|+)=$?\n\n\\begin{align*}\nP(D|+) &= \\frac{P(+\\cap D)}{P(+)}\\\\\n&= \\frac{P(+|D)P(D)}{P(+)}\\\\\n&= \\frac{0.98(0.01)}{0.0197}\\\\\n&= 0.497.\n\\end{align*}",
   "metadata": {
    "cell_id": "00003-a524d004-dc36-4c6c-b29b-728f0d97af04",
    "deepnote_cell_type": "markdown"
   }
  },
  {
   "cell_type": "markdown",
   "source": "If a randomly selected person tested positive on each of two test applications, what is the probability that the person has the disease?",
   "metadata": {
    "cell_id": "00004-bf25bde0-57c5-4c60-8b08-47053aa40aef",
    "deepnote_cell_type": "markdown"
   }
  },
  {
   "cell_type": "markdown",
   "source": "We denote:\n- $+_1$: First test is positve\n- $+_2$: Second test is positive\n\nWe know $P(+_1|D) =98\\%$, $P(+_2|D) =98\\%$, $P(+_1|H) =1\\%$, $P(+_2|H) =1\\%$.",
   "metadata": {
    "cell_id": "00005-418a672a-c444-4197-973d-d5cb9ecfb7e6",
    "deepnote_cell_type": "markdown"
   }
  },
  {
   "cell_type": "markdown",
   "source": "Since $+_1$ and $+_2$ are independent, we have\n\\begin{align*}\nP(+_1 \\cap +_2|D) &= P(+_1|D) P(+_2|D)\\\\\n&= (0.98)(0.98)\\\\\n&= 0.9604.\n\\end{align*}\n\n\\begin{align*}\nP(+_1 \\cap +_2|H) &= P(+_1|H) P(+_2|H)\\\\\n&= (0.01)(0.01)\\\\\n&= 1\\times 10 ^{-4}.\n\\end{align*}\n\n\\begin{align*}\nP(+_1 \\cap +_2) &= P(+_1 \\cap +_2|D)P(D) +  P(+_1 \\cap +_2|H)P(H)\\\\\n&= 0.9604\\times 0.01 +  1\\times 10 ^{-4}\\times0.99\\\\\n&= 0.0097\n\\end{align*}\n\nWe have\n\n\\begin{align*}\nP(D|+_1 \\cap +_2) &= \\frac{P(D \\cap (+_1 \\cap +_2))}{P(+_1 \\cap +_2)}\\\\\n&= \\frac{P(+_1 \\cap +_2|D)P(D)}{P(+_1 \\cap +_2)}\\\\\n&= \\frac{0.9604 \\times 0.01}{0.0097}\\\\\n&= 0.9901.\n\\end{align*}",
   "metadata": {
    "cell_id": "00006-e01dac92-fcfb-413a-88f5-7038aedf2bce",
    "deepnote_cell_type": "markdown"
   }
  },
  {
   "cell_type": "markdown",
   "source": "<a style='text-decoration:none;line-height:16px;display:flex;color:#5B5B62;padding:10px;justify-content:end;' href='https://deepnote.com?utm_source=created-in-deepnote-cell&projectId=87197226-98be-42b2-8527-389082831299' target=\"_blank\">\n<img alt='Created in deepnote.com' style='display:inline;max-height:16px;margin:0px;margin-right:7.5px;' src='data:image/svg+xml;base64,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' > </img>\nCreated in <span style='font-weight:600;margin-left:4px;'>Deepnote</span></a>",
   "metadata": {
    "tags": [],
    "created_in_deepnote_cell": true,
    "deepnote_cell_type": "markdown"
   }
  }
 ],
 "nbformat": 4,
 "nbformat_minor": 5,
 "metadata": {
  "kernelspec": {
   "display_name": "Python 3 (ipykernel)",
   "language": "python",
   "name": "python3"
  },
  "language_info": {
   "codemirror_mode": {
    "name": "ipython",
    "version": 3
   },
   "file_extension": ".py",
   "mimetype": "text/x-python",
   "name": "python",
   "nbconvert_exporter": "python",
   "pygments_lexer": "ipython3",
   "version": "3.8.10"
  },
  "toc": {
   "base_numbering": 1,
   "nav_menu": {},
   "number_sections": true,
   "sideBar": true,
   "skip_h1_title": false,
   "title_cell": "Table of Contents",
   "title_sidebar": "Contents",
   "toc_cell": false,
   "toc_position": {},
   "toc_section_display": true,
   "toc_window_display": false
  },
  "deepnote_notebook_id": "e133ac91-46cb-4c9e-8aba-59891c58e94a",
  "deepnote": {},
  "deepnote_execution_queue": []
 }
}