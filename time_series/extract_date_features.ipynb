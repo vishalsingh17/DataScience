{
 "cells": [
  {
   "cell_type": "markdown",
   "id": "65050775",
   "metadata": {},
   "source": [
    "# datefinder: Automatically Find Dates and Time in a Python String"
   ]
  },
  {
   "cell_type": "code",
   "execution_count": null,
   "id": "8b8f5203",
   "metadata": {
    "ExecuteTime": {
     "end_time": "2022-09-21T15:24:45.602833Z",
     "start_time": "2022-09-21T15:24:43.968859Z"
    }
   },
   "outputs": [],
   "source": [
    "!pip install datefinder"
   ]
  },
  {
   "cell_type": "code",
   "execution_count": 4,
   "id": "508d70d9",
   "metadata": {
    "ExecuteTime": {
     "end_time": "2022-09-21T15:27:35.843587Z",
     "start_time": "2022-09-21T15:27:35.714732Z"
    }
   },
   "outputs": [
    {
     "name": "stdout",
     "output_type": "stream",
     "text": [
      "Date and time: 2021-05-17 09:00:00\n",
      "Only day: 17\n",
      "Date and time: 2021-05-18 10:00:00\n",
      "Only day: 18\n"
     ]
    }
   ],
   "source": [
    "from datefinder import find_dates\n",
    "\n",
    "text = \"\"\"\"We have one meeting on May 17th, 2021 at 9:00am \n",
    "and another meeting on 5/18/2021 at 10:00. \n",
    "I hope you can attend one of the meetings.\"\"\"\n",
    "\n",
    "matches = find_dates(text)\n",
    "\n",
    "for match in matches:\n",
    "    print(\"Date and time:\", match)\n",
    "    print(\"Only day:\", match.day)"
   ]
  },
  {
   "cell_type": "markdown",
   "id": "e71d9d2d",
   "metadata": {},
   "source": [
    "# Maya: Convert the string to datetime automatically"
   ]
  },
  {
   "cell_type": "code",
   "execution_count": null,
   "id": "57337b33",
   "metadata": {
    "ExecuteTime": {
     "end_time": "2022-09-21T15:29:35.810017Z",
     "start_time": "2022-09-21T15:29:31.229552Z"
    }
   },
   "outputs": [],
   "source": [
    "!pip install maya"
   ]
  },
  {
   "cell_type": "code",
   "execution_count": 23,
   "id": "0b1d6244",
   "metadata": {
    "ExecuteTime": {
     "end_time": "2022-09-21T15:55:16.420609Z",
     "start_time": "2022-09-21T15:55:16.415402Z"
    }
   },
   "outputs": [
    {
     "data": {
      "text/plain": [
       "datetime.datetime(2016, 12, 16, 18, 23, 45, 423992, tzinfo=datetime.timezone.utc)"
      ]
     },
     "execution_count": 23,
     "metadata": {},
     "output_type": "execute_result"
    }
   ],
   "source": [
    "from datetime import datetime\n",
    "\n",
    "string = \"2016-12-16 18:23:45.423992+00:00\"\n",
    "datetime.strptime(string, \"%Y-%m-%d %H:%M:%S.%f%z\")"
   ]
  },
  {
   "cell_type": "code",
   "execution_count": 10,
   "id": "2b8ba524",
   "metadata": {
    "ExecuteTime": {
     "end_time": "2022-09-21T15:29:47.352916Z",
     "start_time": "2022-09-21T15:29:47.147027Z"
    }
   },
   "outputs": [
    {
     "data": {
      "text/plain": [
       "datetime.datetime(2016, 12, 16, 18, 23, 45, 423992, tzinfo=<UTC>)"
      ]
     },
     "execution_count": 10,
     "metadata": {},
     "output_type": "execute_result"
    }
   ],
   "source": [
    "import maya\n",
    "\n",
    "# Automatically parse datetime string\n",
    "string = \"2016-12-16 18:23:45.423992+00:00\"\n",
    "maya.parse(string).datetime()"
   ]
  },
  {
   "cell_type": "code",
   "execution_count": 11,
   "id": "fe645623",
   "metadata": {
    "ExecuteTime": {
     "end_time": "2022-09-21T15:29:52.614143Z",
     "start_time": "2022-09-21T15:29:52.568480Z"
    },
    "scrolled": true
   },
   "outputs": [
    {
     "data": {
      "text/plain": [
       "datetime.datetime(2016, 12, 16, 12, 23, 45, 423992, tzinfo=<DstTzInfo 'US/Central' CST-1 day, 18:00:00 STD>)"
      ]
     },
     "execution_count": 11,
     "metadata": {},
     "output_type": "execute_result"
    }
   ],
   "source": [
    "maya.parse(string).datetime(to_timezone=\"US/Central\")"
   ]
  },
  {
   "cell_type": "markdown",
   "id": "dba802ea",
   "metadata": {},
   "source": [
    "# Fastai’s add_datepart: Add Relevant DateTime Features in One Line of Code"
   ]
  },
  {
   "cell_type": "code",
   "execution_count": null,
   "id": "cb64b87b",
   "metadata": {
    "ExecuteTime": {
     "end_time": "2022-09-21T15:28:13.644655Z",
     "start_time": "2022-09-21T15:28:00.601154Z"
    }
   },
   "outputs": [],
   "source": [
    "!pip install fastai"
   ]
  },
  {
   "cell_type": "code",
   "execution_count": 1,
   "id": "35775d5f",
   "metadata": {
    "ExecuteTime": {
     "end_time": "2022-09-21T16:04:54.664568Z",
     "start_time": "2022-09-21T16:04:53.512079Z"
    }
   },
   "outputs": [
    {
     "data": {
      "text/html": [
       "<div>\n",
       "<style scoped>\n",
       "    .dataframe tbody tr th:only-of-type {\n",
       "        vertical-align: middle;\n",
       "    }\n",
       "\n",
       "    .dataframe tbody tr th {\n",
       "        vertical-align: top;\n",
       "    }\n",
       "\n",
       "    .dataframe thead th {\n",
       "        text-align: right;\n",
       "    }\n",
       "</style>\n",
       "<table border=\"1\" class=\"dataframe\">\n",
       "  <thead>\n",
       "    <tr style=\"text-align: right;\">\n",
       "      <th></th>\n",
       "      <th>date</th>\n",
       "      <th>val</th>\n",
       "    </tr>\n",
       "  </thead>\n",
       "  <tbody>\n",
       "    <tr>\n",
       "      <th>0</th>\n",
       "      <td>2020-02-05</td>\n",
       "      <td>1</td>\n",
       "    </tr>\n",
       "    <tr>\n",
       "      <th>1</th>\n",
       "      <td>2020-02-06</td>\n",
       "      <td>2</td>\n",
       "    </tr>\n",
       "    <tr>\n",
       "      <th>2</th>\n",
       "      <td>2020-02-07</td>\n",
       "      <td>3</td>\n",
       "    </tr>\n",
       "    <tr>\n",
       "      <th>3</th>\n",
       "      <td>2020-02-08</td>\n",
       "      <td>4</td>\n",
       "    </tr>\n",
       "  </tbody>\n",
       "</table>\n",
       "</div>"
      ],
      "text/plain": [
       "        date  val\n",
       "0 2020-02-05    1\n",
       "1 2020-02-06    2\n",
       "2 2020-02-07    3\n",
       "3 2020-02-08    4"
      ]
     },
     "execution_count": 1,
     "metadata": {},
     "output_type": "execute_result"
    }
   ],
   "source": [
    "import pandas as pd\n",
    "from fastai.tabular.core import add_datepart\n",
    "from datetime import datetime\n",
    "\n",
    "df = pd.DataFrame(\n",
    "    {\n",
    "        \"date\": [\n",
    "            datetime(2020, 2, 5),\n",
    "            datetime(2020, 2, 6),\n",
    "            datetime(2020, 2, 7),\n",
    "            datetime(2020, 2, 8),\n",
    "        ],\n",
    "        \"val\": [1, 2, 3, 4],\n",
    "    }\n",
    ")\n",
    "\n",
    "df"
   ]
  },
  {
   "cell_type": "code",
   "execution_count": 2,
   "id": "8c5f7fe7",
   "metadata": {
    "ExecuteTime": {
     "end_time": "2022-09-21T16:04:54.674815Z",
     "start_time": "2022-09-21T16:04:54.667016Z"
    }
   },
   "outputs": [
    {
     "data": {
      "text/plain": [
       "Index(['val', 'Year', 'Month', 'Week', 'Day', 'Dayofweek', 'Dayofyear',\n",
       "       'Is_month_end', 'Is_month_start', 'Is_quarter_end', 'Is_quarter_start',\n",
       "       'Is_year_end', 'Is_year_start', 'Elapsed'],\n",
       "      dtype='object')"
      ]
     },
     "execution_count": 2,
     "metadata": {},
     "output_type": "execute_result"
    }
   ],
   "source": [
    "df = add_datepart(df, \"date\")\n",
    "df.columns"
   ]
  },
  {
   "cell_type": "markdown",
   "id": "861d1d04",
   "metadata": {},
   "source": [
    "# Workalendar: Handle Working-Day Computation in Python"
   ]
  },
  {
   "cell_type": "code",
   "execution_count": null,
   "id": "60b2530d",
   "metadata": {
    "ExecuteTime": {
     "end_time": "2022-09-21T15:31:04.327547Z",
     "start_time": "2022-09-21T15:30:59.013770Z"
    }
   },
   "outputs": [],
   "source": [
    "!pip install workalendar"
   ]
  },
  {
   "cell_type": "code",
   "execution_count": 13,
   "id": "907b6dd2",
   "metadata": {
    "ExecuteTime": {
     "end_time": "2022-09-21T15:31:14.982471Z",
     "start_time": "2022-09-21T15:31:14.960620Z"
    }
   },
   "outputs": [],
   "source": [
    "from datetime import date \n",
    "from workalendar.usa import UnitedStates\n",
    "from workalendar.asia import Japan"
   ]
  },
  {
   "cell_type": "code",
   "execution_count": 14,
   "id": "7f4b0ce2",
   "metadata": {
    "ExecuteTime": {
     "end_time": "2022-09-21T15:31:21.068822Z",
     "start_time": "2022-09-21T15:31:21.061517Z"
    }
   },
   "outputs": [
    {
     "data": {
      "text/plain": [
       "[(datetime.date(2021, 12, 31), 'New year (Observed)'),\n",
       " (datetime.date(2022, 1, 1), 'New year'),\n",
       " (datetime.date(2022, 1, 17), 'Birthday of Martin Luther King, Jr.'),\n",
       " (datetime.date(2022, 2, 21), \"Washington's Birthday\"),\n",
       " (datetime.date(2022, 5, 30), 'Memorial Day'),\n",
       " (datetime.date(2022, 7, 4), 'Independence Day'),\n",
       " (datetime.date(2022, 9, 5), 'Labor Day'),\n",
       " (datetime.date(2022, 10, 10), 'Columbus Day'),\n",
       " (datetime.date(2022, 11, 11), 'Veterans Day'),\n",
       " (datetime.date(2022, 11, 24), 'Thanksgiving Day'),\n",
       " (datetime.date(2022, 12, 25), 'Christmas Day'),\n",
       " (datetime.date(2022, 12, 26), 'Christmas Day (Observed)')]"
      ]
     },
     "execution_count": 14,
     "metadata": {},
     "output_type": "execute_result"
    }
   ],
   "source": [
    "# Get all holidays in the US\n",
    "\n",
    "US_cal = UnitedStates()\n",
    "US_cal.holidays(2022)"
   ]
  },
  {
   "cell_type": "code",
   "execution_count": 15,
   "id": "1a2554ff",
   "metadata": {
    "ExecuteTime": {
     "end_time": "2022-09-21T15:31:26.549337Z",
     "start_time": "2022-09-21T15:31:26.540485Z"
    }
   },
   "outputs": [
    {
     "data": {
      "text/plain": [
       "False"
      ]
     },
     "execution_count": 15,
     "metadata": {},
     "output_type": "execute_result"
    }
   ],
   "source": [
    "US_cal.is_working_day(date(2022, 1, 22)) # Saturday"
   ]
  },
  {
   "cell_type": "code",
   "execution_count": 16,
   "id": "e144bf05",
   "metadata": {
    "ExecuteTime": {
     "end_time": "2022-09-21T15:31:31.179928Z",
     "start_time": "2022-09-21T15:31:31.173731Z"
    }
   },
   "outputs": [
    {
     "data": {
      "text/plain": [
       "False"
      ]
     },
     "execution_count": 16,
     "metadata": {},
     "output_type": "execute_result"
    }
   ],
   "source": [
    "US_cal.is_working_day(date(2021, 12, 24)) # Thanksgiving Day"
   ]
  },
  {
   "cell_type": "code",
   "execution_count": 17,
   "id": "e904c585",
   "metadata": {
    "ExecuteTime": {
     "end_time": "2022-09-21T15:31:35.935361Z",
     "start_time": "2022-09-21T15:31:35.928321Z"
    }
   },
   "outputs": [
    {
     "data": {
      "text/plain": [
       "81"
      ]
     },
     "execution_count": 17,
     "metadata": {},
     "output_type": "execute_result"
    }
   ],
   "source": [
    "# Calculate working days between 2022/1/19 and 2022/5/15\n",
    "US_cal.get_working_days_delta(date(2022, 1, 19), date(2022, 5, 15))"
   ]
  },
  {
   "cell_type": "code",
   "execution_count": 18,
   "id": "26766ae7",
   "metadata": {
    "ExecuteTime": {
     "end_time": "2022-09-21T15:31:40.151393Z",
     "start_time": "2022-09-21T15:31:40.143894Z"
    }
   },
   "outputs": [
    {
     "data": {
      "text/plain": [
       "[(datetime.date(2022, 1, 1), 'New year'),\n",
       " (datetime.date(2022, 1, 10), 'Coming of Age Day'),\n",
       " (datetime.date(2022, 2, 11), 'Foundation Day'),\n",
       " (datetime.date(2022, 2, 23), \"The Emperor's Birthday\"),\n",
       " (datetime.date(2022, 3, 21), 'Vernal Equinox Day'),\n",
       " (datetime.date(2022, 4, 29), 'Showa Day'),\n",
       " (datetime.date(2022, 5, 3), 'Constitution Memorial Day'),\n",
       " (datetime.date(2022, 5, 4), 'Greenery Day'),\n",
       " (datetime.date(2022, 5, 5), \"Children's Day\"),\n",
       " (datetime.date(2022, 7, 18), 'Marine Day'),\n",
       " (datetime.date(2022, 8, 11), 'Mountain Day'),\n",
       " (datetime.date(2022, 9, 19), 'Respect-for-the-Aged Day'),\n",
       " (datetime.date(2022, 9, 23), 'Autumnal Equinox Day'),\n",
       " (datetime.date(2022, 10, 10), 'Sports Day'),\n",
       " (datetime.date(2022, 11, 3), 'Culture Day'),\n",
       " (datetime.date(2022, 11, 23), 'Labour Thanksgiving Day')]"
      ]
     },
     "execution_count": 18,
     "metadata": {},
     "output_type": "execute_result"
    }
   ],
   "source": [
    "# Get holidays in Japan\n",
    "JA_cal = Japan()\n",
    "JA_cal.holidays(2022)"
   ]
  }
 ],
 "metadata": {
  "hide_input": false,
  "kernelspec": {
   "display_name": "Python 3 (ipykernel)",
   "language": "python",
   "name": "python3"
  },
  "language_info": {
   "codemirror_mode": {
    "name": "ipython",
    "version": 3
   },
   "file_extension": ".py",
   "mimetype": "text/x-python",
   "name": "python",
   "nbconvert_exporter": "python",
   "pygments_lexer": "ipython3",
   "version": "3.9.13"
  },
  "toc": {
   "base_numbering": 1,
   "nav_menu": {},
   "number_sections": true,
   "sideBar": true,
   "skip_h1_title": false,
   "title_cell": "Table of Contents",
   "title_sidebar": "Contents",
   "toc_cell": false,
   "toc_position": {},
   "toc_section_display": true,
   "toc_window_display": false
  }
 },
 "nbformat": 4,
 "nbformat_minor": 5
}
