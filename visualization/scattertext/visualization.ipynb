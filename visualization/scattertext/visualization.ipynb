{
 "cells": [
  {
   "cell_type": "markdown",
   "metadata": {},
   "source": [
    "# Import data"
   ]
  },
  {
   "cell_type": "code",
   "execution_count": 1,
   "metadata": {
    "ExecuteTime": {
     "end_time": "2021-07-12T00:26:41.507014Z",
     "start_time": "2021-07-12T00:26:41.504125Z"
    }
   },
   "outputs": [],
   "source": [
    "import warnings\n",
    "warnings.filterwarnings('ignore')"
   ]
  },
  {
   "cell_type": "code",
   "execution_count": null,
   "metadata": {
    "ExecuteTime": {
     "end_time": "2021-07-12T00:16:30.536716Z",
     "start_time": "2021-07-12T00:16:22.448072Z"
    }
   },
   "outputs": [],
   "source": [
    "pip install swifter"
   ]
  },
  {
   "cell_type": "code",
   "execution_count": null,
   "metadata": {
    "ExecuteTime": {
     "end_time": "2021-07-12T00:16:56.717425Z",
     "start_time": "2021-07-12T00:16:51.487736Z"
    }
   },
   "outputs": [],
   "source": [
    "pip install \"pytextrank < 3\""
   ]
  },
  {
   "cell_type": "code",
   "execution_count": 2,
   "metadata": {
    "ExecuteTime": {
     "end_time": "2021-07-12T00:26:45.856356Z",
     "start_time": "2021-07-12T00:26:43.190042Z"
    }
   },
   "outputs": [],
   "source": [
    "import gdown\n",
    "import zipfile\n",
    "\n",
    "import pandas as pd \n",
    "import scattertext as st\n",
    "import swifter\n",
    "import spacy \n",
    "import pytextrank\n",
    "import numpy as np \n",
    "import codecs\n",
    "from bs4 import BeautifulSoup\n"
   ]
  },
  {
   "cell_type": "markdown",
   "metadata": {},
   "source": [
    "## Download from the cloud (Optional)"
   ]
  },
  {
   "cell_type": "markdown",
   "metadata": {},
   "source": [
    "If you didn't run preprocessing.ipynb, run this script to get the processed_train_data.csv from Google Drive"
   ]
  },
  {
   "cell_type": "code",
   "execution_count": 7,
   "metadata": {
    "ExecuteTime": {
     "end_time": "2021-07-12T00:17:21.792112Z",
     "start_time": "2021-07-12T00:17:06.958793Z"
    }
   },
   "outputs": [
    {
     "name": "stderr",
     "output_type": "stream",
     "text": [
      "Downloading...\n",
      "From: https://drive.google.com/uc?id=1jI1cmxqnwsmC-vbl8dNY6b4aNBtBbKy3\n",
      "To: /home/user/Data-science/visualization/scattertext/Twitter.zip\n",
      "120MB [00:09, 12.1MB/s] \n"
     ]
    }
   ],
   "source": [
    "url = 'https://drive.google.com/uc?id=1jI1cmxqnwsmC-vbl8dNY6b4aNBtBbKy3'\n",
    "output = 'Twitter.zip'\n",
    "gdown.download(url, output, quiet=False) \n",
    "\n",
    "\n",
    "# Extract the zip file. The data is saved under Data directory\n",
    "with zipfile.ZipFile(output, 'r') as zip_ref:\n",
    "    zip_ref.extractall('.')"
   ]
  },
  {
   "cell_type": "markdown",
   "metadata": {},
   "source": [
    "## Read data"
   ]
  },
  {
   "cell_type": "code",
   "execution_count": 19,
   "metadata": {
    "ExecuteTime": {
     "end_time": "2021-07-12T00:38:23.056823Z",
     "start_time": "2021-07-12T00:38:22.893354Z"
    }
   },
   "outputs": [],
   "source": [
    "df = pd.read_pickle('Data/processed_train_data.pkl')"
   ]
  },
  {
   "cell_type": "markdown",
   "metadata": {},
   "source": [
    "# Visualize data"
   ]
  },
  {
   "cell_type": "code",
   "execution_count": 4,
   "metadata": {
    "ExecuteTime": {
     "end_time": "2021-07-12T00:26:51.051243Z",
     "start_time": "2021-07-12T00:26:50.964665Z"
    }
   },
   "outputs": [
    {
     "data": {
      "application/vnd.jupyter.widget-view+json": {
       "model_id": "0f5d0e58df47473b87c96c9b40669b6e",
       "version_major": 2,
       "version_minor": 0
      },
      "text/plain": [
       "Pandas Apply:   0%|          | 0/3600 [00:00<?, ?it/s]"
      ]
     },
     "metadata": {},
     "output_type": "display_data"
    }
   ],
   "source": [
    "df.tweets = df.tweets.swifter.apply(lambda text: ' '.join(text))"
   ]
  },
  {
   "cell_type": "code",
   "execution_count": null,
   "metadata": {
    "ExecuteTime": {
     "end_time": "2021-07-12T00:26:56.942202Z",
     "start_time": "2021-07-12T00:26:52.628909Z"
    },
    "scrolled": true
   },
   "outputs": [],
   "source": [
    "# Create the parse feature to feed the class st.CorpusFromParsedDocuments later \n",
    "df['parse'] = df.tweets.swifter.apply(st.whitespace_nlp_with_sentences)"
   ]
  },
  {
   "cell_type": "markdown",
   "metadata": {},
   "source": [
    "The step above can take a long time, if you prefer not to wait, interrupt the run and run the code below instead"
   ]
  },
  {
   "cell_type": "code",
   "execution_count": 6,
   "metadata": {
    "ExecuteTime": {
     "end_time": "2021-07-12T00:27:06.186938Z",
     "start_time": "2021-07-12T00:27:03.365297Z"
    }
   },
   "outputs": [],
   "source": [
    "df = pd.read_pickle('Data/processed_train_data_with_parse.pkl')"
   ]
  },
  {
   "cell_type": "code",
   "execution_count": 7,
   "metadata": {
    "ExecuteTime": {
     "end_time": "2021-07-12T00:27:06.819828Z",
     "start_time": "2021-07-12T00:27:06.776013Z"
    }
   },
   "outputs": [
    {
     "data": {
      "text/html": [
       "<div>\n",
       "<style scoped>\n",
       "    .dataframe tbody tr th:only-of-type {\n",
       "        vertical-align: middle;\n",
       "    }\n",
       "\n",
       "    .dataframe tbody tr th {\n",
       "        vertical-align: top;\n",
       "    }\n",
       "\n",
       "    .dataframe thead th {\n",
       "        text-align: right;\n",
       "    }\n",
       "</style>\n",
       "<table border=\"1\" class=\"dataframe\">\n",
       "  <thead>\n",
       "    <tr style=\"text-align: right;\">\n",
       "      <th></th>\n",
       "      <th>tweets</th>\n",
       "      <th>gender</th>\n",
       "      <th>country</th>\n",
       "      <th>parse</th>\n",
       "    </tr>\n",
       "  </thead>\n",
       "  <tbody>\n",
       "    <tr>\n",
       "      <th>0</th>\n",
       "      <td>fucking terrify nemesis record bad enemy know ...</td>\n",
       "      <td>male</td>\n",
       "      <td>canada</td>\n",
       "      <td>(fucking, terrify, nemesis, record, bad, enemy...</td>\n",
       "    </tr>\n",
       "    <tr>\n",
       "      <th>1</th>\n",
       "      <td>poetry shelf summer season poet pick poem pick...</td>\n",
       "      <td>female</td>\n",
       "      <td>new zealand</td>\n",
       "      <td>(poetry, shelf, summer, season, poet, pick, po...</td>\n",
       "    </tr>\n",
       "    <tr>\n",
       "      <th>2</th>\n",
       "      <td>say truth attest cloud sky joke how okay s coo...</td>\n",
       "      <td>female</td>\n",
       "      <td>canada</td>\n",
       "      <td>(say, truth, attest, cloud, sky, joke, how, ok...</td>\n",
       "    </tr>\n",
       "    <tr>\n",
       "      <th>3</th>\n",
       "      <td>seem right pretty accurate new breakfast wrap ...</td>\n",
       "      <td>female</td>\n",
       "      <td>canada</td>\n",
       "      <td>(seem, right, pretty, accurate, new, breakfast...</td>\n",
       "    </tr>\n",
       "    <tr>\n",
       "      <th>4</th>\n",
       "      <td>s word touch early leave night morning work ba...</td>\n",
       "      <td>male</td>\n",
       "      <td>ireland</td>\n",
       "      <td>(s, word, touch, early, leave, night, morning,...</td>\n",
       "    </tr>\n",
       "    <tr>\n",
       "      <th>5</th>\n",
       "      <td>anticipation kill wait hope climb fall brillia...</td>\n",
       "      <td>female</td>\n",
       "      <td>great britain</td>\n",
       "      <td>(anticipation, kill, wait, hope, climb, fall, ...</td>\n",
       "    </tr>\n",
       "    <tr>\n",
       "      <th>6</th>\n",
       "      <td>far sit greeting eye lilo stitch emosh day wee...</td>\n",
       "      <td>female</td>\n",
       "      <td>great britain</td>\n",
       "      <td>(far, sit, greeting, eye, lilo, stitch, emosh,...</td>\n",
       "    </tr>\n",
       "    <tr>\n",
       "      <th>7</th>\n",
       "      <td>fantastic list resource beautiful social mediu...</td>\n",
       "      <td>female</td>\n",
       "      <td>great britain</td>\n",
       "      <td>(fantastic, list, resource, beautiful, social,...</td>\n",
       "    </tr>\n",
       "    <tr>\n",
       "      <th>8</th>\n",
       "      <td>thank station gordon min record spin wait air ...</td>\n",
       "      <td>male</td>\n",
       "      <td>ireland</td>\n",
       "      <td>(thank, station, gordon, min, record, spin, wa...</td>\n",
       "    </tr>\n",
       "    <tr>\n",
       "      <th>9</th>\n",
       "      <td>work hope let film tomorrow biscuit home morni...</td>\n",
       "      <td>female</td>\n",
       "      <td>great britain</td>\n",
       "      <td>(work, hope, let, film, tomorrow, biscuit, hom...</td>\n",
       "    </tr>\n",
       "  </tbody>\n",
       "</table>\n",
       "</div>"
      ],
      "text/plain": [
       "                                              tweets  gender        country  \\\n",
       "0  fucking terrify nemesis record bad enemy know ...    male         canada   \n",
       "1  poetry shelf summer season poet pick poem pick...  female    new zealand   \n",
       "2  say truth attest cloud sky joke how okay s coo...  female         canada   \n",
       "3  seem right pretty accurate new breakfast wrap ...  female         canada   \n",
       "4  s word touch early leave night morning work ba...    male        ireland   \n",
       "5  anticipation kill wait hope climb fall brillia...  female  great britain   \n",
       "6  far sit greeting eye lilo stitch emosh day wee...  female  great britain   \n",
       "7  fantastic list resource beautiful social mediu...  female  great britain   \n",
       "8  thank station gordon min record spin wait air ...    male        ireland   \n",
       "9  work hope let film tomorrow biscuit home morni...  female  great britain   \n",
       "\n",
       "                                               parse  \n",
       "0  (fucking, terrify, nemesis, record, bad, enemy...  \n",
       "1  (poetry, shelf, summer, season, poet, pick, po...  \n",
       "2  (say, truth, attest, cloud, sky, joke, how, ok...  \n",
       "3  (seem, right, pretty, accurate, new, breakfast...  \n",
       "4  (s, word, touch, early, leave, night, morning,...  \n",
       "5  (anticipation, kill, wait, hope, climb, fall, ...  \n",
       "6  (far, sit, greeting, eye, lilo, stitch, emosh,...  \n",
       "7  (fantastic, list, resource, beautiful, social,...  \n",
       "8  (thank, station, gordon, min, record, spin, wa...  \n",
       "9  (work, hope, let, film, tomorrow, biscuit, hom...  "
      ]
     },
     "execution_count": 7,
     "metadata": {},
     "output_type": "execute_result"
    }
   ],
   "source": [
    "df.head(10)"
   ]
  },
  {
   "cell_type": "code",
   "execution_count": 8,
   "metadata": {
    "ExecuteTime": {
     "end_time": "2021-07-12T00:27:15.106462Z",
     "start_time": "2021-07-12T00:27:09.283868Z"
    }
   },
   "outputs": [],
   "source": [
    "corpus = st.CorpusFromParsedDocuments(df, category_col='gender', parsed_col='parse'\n",
    "                                     ).build().get_unigram_corpus()"
   ]
  },
  {
   "cell_type": "code",
   "execution_count": 9,
   "metadata": {
    "ExecuteTime": {
     "end_time": "2021-07-12T00:27:17.262610Z",
     "start_time": "2021-07-12T00:27:15.108107Z"
    }
   },
   "outputs": [],
   "source": [
    "# Reduce the number of phrases displayed in the chart to 2000 \n",
    "corpus = corpus.compact(st.AssociationCompactor(2000))"
   ]
  },
  {
   "cell_type": "markdown",
   "metadata": {},
   "source": [
    "- pmi_threshold_coefficient: Pointwise mutual information. 0 if two words are independent"
   ]
  },
  {
   "cell_type": "code",
   "execution_count": 10,
   "metadata": {
    "ExecuteTime": {
     "end_time": "2021-07-12T00:27:18.636014Z",
     "start_time": "2021-07-12T00:27:17.266686Z"
    }
   },
   "outputs": [],
   "source": [
    "html = st.produce_scattertext_explorer(\n",
    "    corpus,\n",
    "    category='female', category_name='Female', not_category_name='Male',\n",
    "    minimum_term_frequency=0, pmi_threshold_coefficient=0,\n",
    "    width_in_pixels=1000, metadata=corpus.get_df()['country'],\n",
    "    transform=st.Scalers.dense_rank\n",
    "    )"
   ]
  },
  {
   "cell_type": "code",
   "execution_count": 11,
   "metadata": {
    "ExecuteTime": {
     "end_time": "2021-07-12T00:27:18.658759Z",
     "start_time": "2021-07-12T00:27:18.636970Z"
    }
   },
   "outputs": [
    {
     "data": {
      "text/plain": [
       "11880362"
      ]
     },
     "execution_count": 11,
     "metadata": {},
     "output_type": "execute_result"
    }
   ],
   "source": [
    "open('./tweets_gender.html', 'w').write(html)\n"
   ]
  },
  {
   "cell_type": "markdown",
   "metadata": {},
   "source": [
    "# Visualizing Phrase associations\n"
   ]
  },
  {
   "cell_type": "markdown",
   "metadata": {},
   "source": [
    "Download [PyTextRank](https://github.com/DerwenAI/pytextrank) before running the code below.\n",
    "```bash\n",
    "pip install pytextrank\n",
    "```"
   ]
  },
  {
   "cell_type": "code",
   "execution_count": 12,
   "metadata": {
    "ExecuteTime": {
     "end_time": "2021-07-12T00:29:21.976639Z",
     "start_time": "2021-07-12T00:27:18.660587Z"
    }
   },
   "outputs": [],
   "source": [
    "nlp = spacy.load('en_core_web_sm')\n",
    "\n",
    "df = df.assign(parse=lambda data: data.tweets.apply(nlp))"
   ]
  },
  {
   "cell_type": "code",
   "execution_count": 13,
   "metadata": {
    "ExecuteTime": {
     "end_time": "2021-07-12T00:32:51.057258Z",
     "start_time": "2021-07-12T00:29:21.977668Z"
    }
   },
   "outputs": [],
   "source": [
    "corpus = st.CorpusFromParsedDocuments(\n",
    "    df,\n",
    "    category_col='gender',\n",
    "    parsed_col='parse',\n",
    "    feats_from_spacy_doc=st.PyTextRankPhrases()\n",
    ").build(\n",
    ").compact(\n",
    "    st.AssociationCompactor(2000, use_non_text_features=True)\n",
    ")"
   ]
  },
  {
   "cell_type": "code",
   "execution_count": 14,
   "metadata": {
    "ExecuteTime": {
     "end_time": "2021-07-12T00:37:44.770232Z",
     "start_time": "2021-07-12T00:37:44.763037Z"
    }
   },
   "outputs": [
    {
     "data": {
      "text/html": [
       "<div>\n",
       "<style scoped>\n",
       "    .dataframe tbody tr th:only-of-type {\n",
       "        vertical-align: middle;\n",
       "    }\n",
       "\n",
       "    .dataframe tbody tr th {\n",
       "        vertical-align: top;\n",
       "    }\n",
       "\n",
       "    .dataframe thead th {\n",
       "        text-align: right;\n",
       "    }\n",
       "</style>\n",
       "<table border=\"1\" class=\"dataframe\">\n",
       "  <thead>\n",
       "    <tr style=\"text-align: right;\">\n",
       "      <th></th>\n",
       "      <th>male</th>\n",
       "      <th>female</th>\n",
       "    </tr>\n",
       "    <tr>\n",
       "      <th>term</th>\n",
       "      <th></th>\n",
       "      <th></th>\n",
       "    </tr>\n",
       "  </thead>\n",
       "  <tbody>\n",
       "    <tr>\n",
       "      <th>fact</th>\n",
       "      <td>3.932811</td>\n",
       "      <td>3.090892</td>\n",
       "    </tr>\n",
       "    <tr>\n",
       "      <th>money</th>\n",
       "      <td>4.988702</td>\n",
       "      <td>5.294535</td>\n",
       "    </tr>\n",
       "    <tr>\n",
       "      <th>french</th>\n",
       "      <td>3.018954</td>\n",
       "      <td>2.895008</td>\n",
       "    </tr>\n",
       "    <tr>\n",
       "      <th>british</th>\n",
       "      <td>3.380062</td>\n",
       "      <td>2.216202</td>\n",
       "    </tr>\n",
       "    <tr>\n",
       "      <th>-</th>\n",
       "      <td>3.474278</td>\n",
       "      <td>2.653272</td>\n",
       "    </tr>\n",
       "    <tr>\n",
       "      <th>reminder</th>\n",
       "      <td>0.256091</td>\n",
       "      <td>0.267291</td>\n",
       "    </tr>\n",
       "    <tr>\n",
       "      <th>paper</th>\n",
       "      <td>0.304292</td>\n",
       "      <td>0.314420</td>\n",
       "    </tr>\n",
       "    <tr>\n",
       "      <th>poem</th>\n",
       "      <td>0.049069</td>\n",
       "      <td>0.265253</td>\n",
       "    </tr>\n",
       "    <tr>\n",
       "      <th>year week</th>\n",
       "      <td>0.140695</td>\n",
       "      <td>0.304045</td>\n",
       "    </tr>\n",
       "    <tr>\n",
       "      <th>summer day</th>\n",
       "      <td>0.361183</td>\n",
       "      <td>0.621384</td>\n",
       "    </tr>\n",
       "  </tbody>\n",
       "</table>\n",
       "</div>"
      ],
      "text/plain": [
       "                male    female\n",
       "term                          \n",
       "fact        3.932811  3.090892\n",
       "money       4.988702  5.294535\n",
       "french      3.018954  2.895008\n",
       "british     3.380062  2.216202\n",
       "-           3.474278  2.653272\n",
       "reminder    0.256091  0.267291\n",
       "paper       0.304292  0.314420\n",
       "poem        0.049069  0.265253\n",
       "year week   0.140695  0.304045\n",
       "summer day  0.361183  0.621384"
      ]
     },
     "execution_count": 14,
     "metadata": {},
     "output_type": "execute_result"
    }
   ],
   "source": [
    "term_category_scores = corpus.get_metadata_freq_df('')\n",
    "term_category_scores.head(10)"
   ]
  },
  {
   "cell_type": "code",
   "execution_count": 64,
   "metadata": {
    "ExecuteTime": {
     "end_time": "2021-01-02T17:05:23.480549Z",
     "start_time": "2021-01-02T17:05:23.415386Z"
    }
   },
   "outputs": [],
   "source": [
    "# Get the rank of each term in each category\n",
    "term_ranks = np.argsort(np.argsort(-term_category_scores, axis=0), axis=0) + 1\n",
    "\n",
    "# Text displayed when a term is clicked\n",
    "metadata_descriptions = {\n",
    "    term: '<br/>' + '<br/>'.join(\n",
    "        '<b>%s</b> TextRank score rank: %s/%s' % (cat, term_ranks.loc[term, cat], corpus.get_num_metadata())\n",
    "        for cat in corpus.get_categories())\n",
    "    for term in corpus.get_metadata()\n",
    "}"
   ]
  },
  {
   "cell_type": "code",
   "execution_count": 83,
   "metadata": {
    "ExecuteTime": {
     "end_time": "2021-01-02T21:01:41.538599Z",
     "start_time": "2021-01-02T21:01:41.457885Z"
    }
   },
   "outputs": [],
   "source": [
    "category_specific_prominence = term_category_scores.apply(\n",
    "    lambda r: r.female if r.female > r.male else -r.male,\n",
    "    axis=1\n",
    ")"
   ]
  },
  {
   "cell_type": "code",
   "execution_count": 84,
   "metadata": {
    "ExecuteTime": {
     "end_time": "2021-01-02T21:01:42.212856Z",
     "start_time": "2021-01-02T21:01:42.200055Z"
    }
   },
   "outputs": [
    {
     "data": {
      "text/plain": [
       "term\n",
       "change                         -1.664847\n",
       "jewish                         -1.611201\n",
       "canadian                        5.083046\n",
       "democratic                     -1.200413\n",
       "british                        -3.243414\n",
       "                                  ...   \n",
       "late carman                     8.516214\n",
       "welcome app thank connect      -5.051565\n",
       "why follow look website info   -3.450510\n",
       "more person                     0.708264\n",
       "many thank follow guy          -0.758160\n",
       "Length: 2000, dtype: float64"
      ]
     },
     "execution_count": 84,
     "metadata": {},
     "output_type": "execute_result"
    }
   ],
   "source": [
    "category_specific_prominence"
   ]
  },
  {
   "cell_type": "code",
   "execution_count": 79,
   "metadata": {
    "ExecuteTime": {
     "end_time": "2021-01-02T17:25:45.754294Z",
     "start_time": "2021-01-02T17:25:44.463519Z"
    }
   },
   "outputs": [],
   "source": [
    "html = st.produce_scattertext_explorer(\n",
    "    corpus,\n",
    "    category='female',\n",
    "    not_category_name='male',\n",
    "    minimum_term_frequency=0,\n",
    "    pmi_threshold_coefficient=0,\n",
    "    width_in_pixels=1000,\n",
    "    transform=st.dense_rank,\n",
    "    metadata=corpus.get_df()['country'],\n",
    "    scores=category_specific_prominence,\n",
    "    sort_by_dist=False,\n",
    "    use_non_text_features=True,\n",
    "    topic_model_term_lists={term: [term] for term in corpus.get_metadata()},\n",
    "    topic_model_preview_size=0,\n",
    "    metadata_descriptions=metadata_descriptions,\n",
    "    use_full_doc=True\n",
    ")"
   ]
  },
  {
   "cell_type": "code",
   "execution_count": 80,
   "metadata": {
    "ExecuteTime": {
     "end_time": "2021-01-02T17:25:46.520693Z",
     "start_time": "2021-01-02T17:25:46.415382Z"
    }
   },
   "outputs": [
    {
     "data": {
      "text/plain": [
       "13521834"
      ]
     },
     "execution_count": 80,
     "metadata": {},
     "output_type": "execute_result"
    }
   ],
   "source": [
    "open('./tweets_gender_textrank.html', 'w').write(html)"
   ]
  },
  {
   "cell_type": "code",
   "execution_count": null,
   "metadata": {},
   "outputs": [],
   "source": []
  }
 ],
 "metadata": {
  "kernelspec": {
   "display_name": "Python 3",
   "language": "python",
   "name": "python3"
  },
  "language_info": {
   "codemirror_mode": {
    "name": "ipython",
    "version": 3
   },
   "file_extension": ".py",
   "mimetype": "text/x-python",
   "name": "python",
   "nbconvert_exporter": "python",
   "pygments_lexer": "ipython3",
   "version": "3.8.1"
  },
  "toc": {
   "base_numbering": 1,
   "nav_menu": {},
   "number_sections": true,
   "sideBar": true,
   "skip_h1_title": false,
   "title_cell": "Table of Contents",
   "title_sidebar": "Contents",
   "toc_cell": false,
   "toc_position": {},
   "toc_section_display": true,
   "toc_window_display": false
  }
 },
 "nbformat": 4,
 "nbformat_minor": 4
}
