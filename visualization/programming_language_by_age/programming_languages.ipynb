{
 "cells": [
  {
   "cell_type": "code",
   "execution_count": 2,
   "id": "9d4974ad",
   "metadata": {
    "ExecuteTime": {
     "end_time": "2021-12-29T23:41:59.545003Z",
     "start_time": "2021-12-29T23:41:59.514305Z"
    }
   },
   "outputs": [
    {
     "data": {
      "application/javascript": "\n            setTimeout(function() {\n                var nbb_cell_id = 2;\n                var nbb_unformatted_code = \"from dotenv import load_dotenv\\nimport os\\n\\nload_dotenv()\\nTOKEN = os.getenv(\\\"DIFFBOT_TOKEN\\\")\";\n                var nbb_formatted_code = \"from dotenv import load_dotenv\\nimport os\\n\\nload_dotenv()\\nTOKEN = os.getenv(\\\"DIFFBOT_TOKEN\\\")\";\n                var nbb_cells = Jupyter.notebook.get_cells();\n                for (var i = 0; i < nbb_cells.length; ++i) {\n                    if (nbb_cells[i].input_prompt_number == nbb_cell_id) {\n                        if (nbb_cells[i].get_text() == nbb_unformatted_code) {\n                             nbb_cells[i].set_text(nbb_formatted_code);\n                        }\n                        break;\n                    }\n                }\n            }, 500);\n            ",
      "text/plain": [
       "<IPython.core.display.Javascript object>"
      ]
     },
     "metadata": {},
     "output_type": "display_data"
    }
   ],
   "source": [
    "from dotenv import load_dotenv\n",
    "import os\n",
    "\n",
    "load_dotenv()\n",
    "TOKEN = os.getenv(\"DIFFBOT_TOKEN\")"
   ]
  },
  {
   "cell_type": "code",
   "execution_count": 44,
   "id": "973653c3",
   "metadata": {
    "ExecuteTime": {
     "end_time": "2021-12-30T00:16:22.483853Z",
     "start_time": "2021-12-30T00:16:22.465171Z"
    }
   },
   "outputs": [
    {
     "data": {
      "application/javascript": "\n            setTimeout(function() {\n                var nbb_cell_id = 44;\n                var nbb_unformatted_code = \"import requests\\nfrom yarl import URL\\nfrom observable_jupyter import embed\\nimport pandas as pd\\nimport json\\nfrom pydash import py_\\nfrom datetime import datetime\";\n                var nbb_formatted_code = \"import requests\\nfrom yarl import URL\\nfrom observable_jupyter import embed\\nimport pandas as pd\\nimport json\\nfrom pydash import py_\\nfrom datetime import datetime\";\n                var nbb_cells = Jupyter.notebook.get_cells();\n                for (var i = 0; i < nbb_cells.length; ++i) {\n                    if (nbb_cells[i].input_prompt_number == nbb_cell_id) {\n                        if (nbb_cells[i].get_text() == nbb_unformatted_code) {\n                             nbb_cells[i].set_text(nbb_formatted_code);\n                        }\n                        break;\n                    }\n                }\n            }, 500);\n            ",
      "text/plain": [
       "<IPython.core.display.Javascript object>"
      ]
     },
     "metadata": {},
     "output_type": "display_data"
    }
   ],
   "source": [
    "import requests\n",
    "from yarl import URL\n",
    "from observable_jupyter import embed\n",
    "import pandas as pd\n",
    "import json\n",
    "from pydash import py_\n",
    "from datetime import datetime"
   ]
  },
  {
   "cell_type": "code",
   "execution_count": 4,
   "id": "87fe1a53",
   "metadata": {
    "ExecuteTime": {
     "end_time": "2021-12-29T23:42:00.852342Z",
     "start_time": "2021-12-29T23:42:00.839486Z"
    }
   },
   "outputs": [
    {
     "data": {
      "application/javascript": "\n            setTimeout(function() {\n                var nbb_cell_id = 4;\n                var nbb_unformatted_code = \"def download_file(query: str, size: int = 25, extract_data: bool = True):\\n    \\\"\\\"\\\"Download data from Diffbot\\\"\\\"\\\"\\n    query_string = f\\\"type=query&token={TOKEN}&query={query}&size={size}\\\"\\n    url = URL.build(\\n        scheme=\\\"https\\\",\\n        host=\\\"kg.diffbot.com\\\",\\n        path=\\\"/kg/dql_endpoint\\\",\\n        query_string=query_string,\\n    )\\n    r = requests.get(url)\\n    response = r.json()\\n    return response[\\\"data\\\"] if extract_data else response\";\n                var nbb_formatted_code = \"def download_file(query: str, size: int = 25, extract_data: bool = True):\\n    \\\"\\\"\\\"Download data from Diffbot\\\"\\\"\\\"\\n    query_string = f\\\"type=query&token={TOKEN}&query={query}&size={size}\\\"\\n    url = URL.build(\\n        scheme=\\\"https\\\",\\n        host=\\\"kg.diffbot.com\\\",\\n        path=\\\"/kg/dql_endpoint\\\",\\n        query_string=query_string,\\n    )\\n    r = requests.get(url)\\n    response = r.json()\\n    return response[\\\"data\\\"] if extract_data else response\";\n                var nbb_cells = Jupyter.notebook.get_cells();\n                for (var i = 0; i < nbb_cells.length; ++i) {\n                    if (nbb_cells[i].input_prompt_number == nbb_cell_id) {\n                        if (nbb_cells[i].get_text() == nbb_unformatted_code) {\n                             nbb_cells[i].set_text(nbb_formatted_code);\n                        }\n                        break;\n                    }\n                }\n            }, 500);\n            ",
      "text/plain": [
       "<IPython.core.display.Javascript object>"
      ]
     },
     "metadata": {},
     "output_type": "display_data"
    }
   ],
   "source": [
    "def download_file(query: str, size: int = 25, extract_data: bool = True):\n",
    "    \"\"\"Download data from Diffbot\"\"\"\n",
    "    query_string = f\"type=query&token={TOKEN}&query={query}&size={size}\"\n",
    "    url = URL.build(\n",
    "        scheme=\"https\",\n",
    "        host=\"kg.diffbot.com\",\n",
    "        path=\"/kg/dql_endpoint\",\n",
    "        query_string=query_string,\n",
    "    )\n",
    "    r = requests.get(url)\n",
    "    response = r.json()\n",
    "    return response[\"data\"] if extract_data else response"
   ]
  },
  {
   "cell_type": "code",
   "execution_count": 5,
   "id": "7ccacf02",
   "metadata": {
    "ExecuteTime": {
     "end_time": "2021-12-29T23:42:01.415556Z",
     "start_time": "2021-12-29T23:42:01.388372Z"
    }
   },
   "outputs": [
    {
     "data": {
      "application/javascript": "\n            setTimeout(function() {\n                var nbb_cell_id = 5;\n                var nbb_unformatted_code = \"languages = ['Python','Java','JavaScript','C#','C++','PHP','R','Objective-C','TypeScript','Swift','Kotlin','Matlab','Go','Rust','VBA','Ruby','Scala','Ada','Visual Basic','Dart','Lua','Cobol','Groovy','Abap','Perl','Julia','Haskell','Pascal']\";\n                var nbb_formatted_code = \"languages = [\\n    \\\"Python\\\",\\n    \\\"Java\\\",\\n    \\\"JavaScript\\\",\\n    \\\"C#\\\",\\n    \\\"C++\\\",\\n    \\\"PHP\\\",\\n    \\\"R\\\",\\n    \\\"Objective-C\\\",\\n    \\\"TypeScript\\\",\\n    \\\"Swift\\\",\\n    \\\"Kotlin\\\",\\n    \\\"Matlab\\\",\\n    \\\"Go\\\",\\n    \\\"Rust\\\",\\n    \\\"VBA\\\",\\n    \\\"Ruby\\\",\\n    \\\"Scala\\\",\\n    \\\"Ada\\\",\\n    \\\"Visual Basic\\\",\\n    \\\"Dart\\\",\\n    \\\"Lua\\\",\\n    \\\"Cobol\\\",\\n    \\\"Groovy\\\",\\n    \\\"Abap\\\",\\n    \\\"Perl\\\",\\n    \\\"Julia\\\",\\n    \\\"Haskell\\\",\\n    \\\"Pascal\\\",\\n]\";\n                var nbb_cells = Jupyter.notebook.get_cells();\n                for (var i = 0; i < nbb_cells.length; ++i) {\n                    if (nbb_cells[i].input_prompt_number == nbb_cell_id) {\n                        if (nbb_cells[i].get_text() == nbb_unformatted_code) {\n                             nbb_cells[i].set_text(nbb_formatted_code);\n                        }\n                        break;\n                    }\n                }\n            }, 500);\n            ",
      "text/plain": [
       "<IPython.core.display.Javascript object>"
      ]
     },
     "metadata": {},
     "output_type": "display_data"
    }
   ],
   "source": [
    "languages = [\n",
    "    \"Python\",\n",
    "    \"Java\",\n",
    "    \"JavaScript\",\n",
    "    \"C#\",\n",
    "    \"C++\",\n",
    "    \"PHP\",\n",
    "    \"R\",\n",
    "    \"Objective-C\",\n",
    "    \"TypeScript\",\n",
    "    \"Swift\",\n",
    "    \"Kotlin\",\n",
    "    \"Matlab\",\n",
    "    \"Go\",\n",
    "    \"Rust\",\n",
    "    \"VBA\",\n",
    "    \"Ruby\",\n",
    "    \"Scala\",\n",
    "    \"Ada\",\n",
    "    \"Visual Basic\",\n",
    "    \"Dart\",\n",
    "    \"Lua\",\n",
    "    \"Cobol\",\n",
    "    \"Groovy\",\n",
    "    \"Abap\",\n",
    "    \"Perl\",\n",
    "    \"Julia\",\n",
    "    \"Haskell\",\n",
    "    \"Pascal\",\n",
    "]"
   ]
  },
  {
   "cell_type": "code",
   "execution_count": 46,
   "id": "462fd080",
   "metadata": {
    "ExecuteTime": {
     "end_time": "2021-12-30T00:17:09.314404Z",
     "start_time": "2021-12-30T00:17:09.287293Z"
    }
   },
   "outputs": [
    {
     "data": {
      "application/javascript": "\n            setTimeout(function() {\n                var nbb_cell_id = 46;\n                var nbb_unformatted_code = \"def get_dataframe_for_each_age(data, born_year):\\n    languages = py_(data).map(\\\"value\\\").value()\\n    count = py_(data).map(\\\"count\\\").value()\\n    return pd.DataFrame({\\\"born_year\\\": datetime(born_year, 1, 1), \\\"language\\\": languages, \\\"count\\\": count})\";\n                var nbb_formatted_code = \"def get_dataframe_for_each_age(data, born_year):\\n    languages = py_(data).map(\\\"value\\\").value()\\n    count = py_(data).map(\\\"count\\\").value()\\n    return pd.DataFrame(\\n        {\\\"born_year\\\": datetime(born_year, 1, 1), \\\"language\\\": languages, \\\"count\\\": count}\\n    )\";\n                var nbb_cells = Jupyter.notebook.get_cells();\n                for (var i = 0; i < nbb_cells.length; ++i) {\n                    if (nbb_cells[i].input_prompt_number == nbb_cell_id) {\n                        if (nbb_cells[i].get_text() == nbb_unformatted_code) {\n                             nbb_cells[i].set_text(nbb_formatted_code);\n                        }\n                        break;\n                    }\n                }\n            }, 500);\n            ",
      "text/plain": [
       "<IPython.core.display.Javascript object>"
      ]
     },
     "metadata": {},
     "output_type": "display_data"
    }
   ],
   "source": [
    "def get_dataframe_for_each_age(data, born_year):\n",
    "    languages = py_(data).map(\"value\").value()\n",
    "    count = py_(data).map(\"count\").value()\n",
    "    return pd.DataFrame(\n",
    "        {\"born_year\": datetime(born_year, 1, 1), \"language\": languages, \"count\": count}\n",
    "    )"
   ]
  },
  {
   "cell_type": "code",
   "execution_count": 56,
   "id": "af432ea4",
   "metadata": {
    "ExecuteTime": {
     "end_time": "2021-12-30T02:19:11.529736Z",
     "start_time": "2021-12-30T02:18:30.469359Z"
    }
   },
   "outputs": [
    {
     "data": {
      "application/javascript": "\n            setTimeout(function() {\n                var nbb_cell_id = 56;\n                var nbb_unformatted_code = \"data = []\\ncurrent_year = 2021\\n\\nfor age in range(20, 60):\\n    data_per_age = download_file(\\n        \\\"type:Person employments.{categories.name:'Engineering' isCurrent:true}\\\"\\n        + f\\\"age:{age} facet{str(languages)}:skills.name\\\",\\n        size=100,\\n    )\\n    born_year = current_year - age\\n    data.append(get_dataframe_for_each_age(data_per_age, born_year))\";\n                var nbb_formatted_code = \"data = []\\ncurrent_year = 2021\\n\\nfor age in range(20, 60):\\n    data_per_age = download_file(\\n        \\\"type:Person employments.{categories.name:'Engineering' isCurrent:true}\\\"\\n        + f\\\"age:{age} facet{str(languages)}:skills.name\\\",\\n        size=100,\\n    )\\n    born_year = current_year - age\\n    data.append(get_dataframe_for_each_age(data_per_age, born_year))\";\n                var nbb_cells = Jupyter.notebook.get_cells();\n                for (var i = 0; i < nbb_cells.length; ++i) {\n                    if (nbb_cells[i].input_prompt_number == nbb_cell_id) {\n                        if (nbb_cells[i].get_text() == nbb_unformatted_code) {\n                             nbb_cells[i].set_text(nbb_formatted_code);\n                        }\n                        break;\n                    }\n                }\n            }, 500);\n            ",
      "text/plain": [
       "<IPython.core.display.Javascript object>"
      ]
     },
     "metadata": {},
     "output_type": "display_data"
    }
   ],
   "source": [
    "data = []\n",
    "current_year = 2021\n",
    "\n",
    "for age in range(20, 60):\n",
    "    data_per_age = download_file(\n",
    "        \"type:Person employments.{categories.name:'Engineering' isCurrent:true}\"\n",
    "        + f\"age:{age} facet{str(languages)}:skills.name\",\n",
    "        size=100,\n",
    "    )\n",
    "    born_year = current_year - age\n",
    "    data.append(get_dataframe_for_each_age(data_per_age, born_year))"
   ]
  },
  {
   "cell_type": "code",
   "execution_count": 57,
   "id": "8b14cbe7",
   "metadata": {
    "ExecuteTime": {
     "end_time": "2021-12-30T02:19:11.565028Z",
     "start_time": "2021-12-30T02:19:11.533784Z"
    }
   },
   "outputs": [
    {
     "data": {
      "application/javascript": "\n            setTimeout(function() {\n                var nbb_cell_id = 57;\n                var nbb_unformatted_code = \"df = pd.concat(data)\";\n                var nbb_formatted_code = \"df = pd.concat(data)\";\n                var nbb_cells = Jupyter.notebook.get_cells();\n                for (var i = 0; i < nbb_cells.length; ++i) {\n                    if (nbb_cells[i].input_prompt_number == nbb_cell_id) {\n                        if (nbb_cells[i].get_text() == nbb_unformatted_code) {\n                             nbb_cells[i].set_text(nbb_formatted_code);\n                        }\n                        break;\n                    }\n                }\n            }, 500);\n            ",
      "text/plain": [
       "<IPython.core.display.Javascript object>"
      ]
     },
     "metadata": {},
     "output_type": "display_data"
    }
   ],
   "source": [
    "df = pd.concat(data)"
   ]
  },
  {
   "cell_type": "code",
   "execution_count": 58,
   "id": "d2cab670",
   "metadata": {
    "ExecuteTime": {
     "end_time": "2021-12-30T02:19:11.597860Z",
     "start_time": "2021-12-30T02:19:11.568150Z"
    }
   },
   "outputs": [
    {
     "data": {
      "application/javascript": "\n            setTimeout(function() {\n                var nbb_cell_id = 58;\n                var nbb_unformatted_code = \"df.to_csv(\\\"languages_by_age.csv\\\")\";\n                var nbb_formatted_code = \"df.to_csv(\\\"languages_by_age.csv\\\")\";\n                var nbb_cells = Jupyter.notebook.get_cells();\n                for (var i = 0; i < nbb_cells.length; ++i) {\n                    if (nbb_cells[i].input_prompt_number == nbb_cell_id) {\n                        if (nbb_cells[i].get_text() == nbb_unformatted_code) {\n                             nbb_cells[i].set_text(nbb_formatted_code);\n                        }\n                        break;\n                    }\n                }\n            }, 500);\n            ",
      "text/plain": [
       "<IPython.core.display.Javascript object>"
      ]
     },
     "metadata": {},
     "output_type": "display_data"
    }
   ],
   "source": [
    "df.to_csv(\"languages_by_age.csv\")"
   ]
  }
 ],
 "metadata": {
  "interpreter": {
   "hash": "81fd2c32c01ae2ba49907a34c36447a670709039fbd002790bd1125f246cf4a2"
  },
  "kernelspec": {
   "display_name": "Python 3 (ipykernel)",
   "language": "python",
   "name": "python3"
  },
  "language_info": {
   "codemirror_mode": {
    "name": "ipython",
    "version": 3
   },
   "file_extension": ".py",
   "mimetype": "text/x-python",
   "name": "python",
   "nbconvert_exporter": "python",
   "pygments_lexer": "ipython3",
   "version": "3.8.10"
  },
  "toc": {
   "base_numbering": 1,
   "nav_menu": {},
   "number_sections": true,
   "sideBar": true,
   "skip_h1_title": false,
   "title_cell": "Table of Contents",
   "title_sidebar": "Contents",
   "toc_cell": false,
   "toc_position": {},
   "toc_section_display": true,
   "toc_window_display": false
  }
 },
 "nbformat": 4,
 "nbformat_minor": 5
}
