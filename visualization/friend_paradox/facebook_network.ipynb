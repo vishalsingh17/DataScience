{
 "cells": [
  {
   "cell_type": "code",
   "execution_count": 2,
   "id": "c982f71a",
   "metadata": {
    "ExecuteTime": {
     "end_time": "2021-08-26T03:15:49.573099Z",
     "start_time": "2021-08-26T03:15:49.378524Z"
    }
   },
   "outputs": [
    {
     "data": {
      "application/javascript": [
       "\n",
       "            setTimeout(function() {\n",
       "                var nbb_cell_id = 2;\n",
       "                var nbb_unformatted_code = \"%load_ext nb_black\";\n",
       "                var nbb_formatted_code = \"%load_ext nb_black\";\n",
       "                var nbb_cells = Jupyter.notebook.get_cells();\n",
       "                for (var i = 0; i < nbb_cells.length; ++i) {\n",
       "                    if (nbb_cells[i].input_prompt_number == nbb_cell_id) {\n",
       "                        if (nbb_cells[i].get_text() == nbb_unformatted_code) {\n",
       "                             nbb_cells[i].set_text(nbb_formatted_code);\n",
       "                        }\n",
       "                        break;\n",
       "                    }\n",
       "                }\n",
       "            }, 500);\n",
       "            "
      ],
      "text/plain": [
       "<IPython.core.display.Javascript object>"
      ]
     },
     "metadata": {},
     "output_type": "display_data"
    }
   ],
   "source": [
    "%load_ext nb_black"
   ]
  },
  {
   "cell_type": "markdown",
   "id": "fdbd0950",
   "metadata": {},
   "source": [
    "# Work with a Minimal Example"
   ]
  },
  {
   "cell_type": "markdown",
   "id": "c3021571",
   "metadata": {},
   "source": [
    "## Visualize with Pyvis"
   ]
  },
  {
   "cell_type": "code",
   "execution_count": 103,
   "id": "9332cfd8",
   "metadata": {
    "ExecuteTime": {
     "end_time": "2021-08-26T03:29:18.953505Z",
     "start_time": "2021-08-26T03:29:18.941595Z"
    }
   },
   "outputs": [
    {
     "data": {
      "application/javascript": [
       "\n",
       "            setTimeout(function() {\n",
       "                var nbb_cell_id = 103;\n",
       "                var nbb_unformatted_code = \"import pandas as pd\\nimport numpy as np\";\n",
       "                var nbb_formatted_code = \"import pandas as pd\\nimport numpy as np\";\n",
       "                var nbb_cells = Jupyter.notebook.get_cells();\n",
       "                for (var i = 0; i < nbb_cells.length; ++i) {\n",
       "                    if (nbb_cells[i].input_prompt_number == nbb_cell_id) {\n",
       "                        if (nbb_cells[i].get_text() == nbb_unformatted_code) {\n",
       "                             nbb_cells[i].set_text(nbb_formatted_code);\n",
       "                        }\n",
       "                        break;\n",
       "                    }\n",
       "                }\n",
       "            }, 500);\n",
       "            "
      ],
      "text/plain": [
       "<IPython.core.display.Javascript object>"
      ]
     },
     "metadata": {},
     "output_type": "display_data"
    }
   ],
   "source": [
    "import pandas as pd\n",
    "import numpy as np"
   ]
  },
  {
   "cell_type": "code",
   "execution_count": 161,
   "id": "f34ea0c8",
   "metadata": {
    "ExecuteTime": {
     "end_time": "2021-08-26T15:05:22.755511Z",
     "start_time": "2021-08-26T15:05:22.723987Z"
    }
   },
   "outputs": [
    {
     "data": {
      "application/javascript": [
       "\n",
       "            setTimeout(function() {\n",
       "                var nbb_cell_id = 161;\n",
       "                var nbb_unformatted_code = \"network = [\\n    (\\\"Ben\\\", \\\"Khuyen\\\"),\\n    (\\\"Ben\\\", \\\"Thinh\\\"),\\n    (\\\"Ben\\\", \\\"Michael\\\"),\\n    (\\\"Ben\\\", \\\"Lauren\\\"),\\n    (\\\"Ben\\\", \\\"Josh\\\"),\\n    (\\\"Lauren\\\", \\\"Khuyen\\\"),\\n    (\\\"Thinh\\\", \\\"Michael\\\"),\\n    (\\\"Khuyen\\\", \\\"Josh\\\"),]\\nfriends = pd.DataFrame(network, columns=[\\\"person1\\\", \\\"person2\\\"])\";\n",
       "                var nbb_formatted_code = \"network = [\\n    (\\\"Ben\\\", \\\"Khuyen\\\"),\\n    (\\\"Ben\\\", \\\"Thinh\\\"),\\n    (\\\"Ben\\\", \\\"Michael\\\"),\\n    (\\\"Ben\\\", \\\"Lauren\\\"),\\n    (\\\"Ben\\\", \\\"Josh\\\"),\\n    (\\\"Lauren\\\", \\\"Khuyen\\\"),\\n    (\\\"Thinh\\\", \\\"Michael\\\"),\\n    (\\\"Khuyen\\\", \\\"Josh\\\"),\\n]\\nfriends = pd.DataFrame(network, columns=[\\\"person1\\\", \\\"person2\\\"])\";\n",
       "                var nbb_cells = Jupyter.notebook.get_cells();\n",
       "                for (var i = 0; i < nbb_cells.length; ++i) {\n",
       "                    if (nbb_cells[i].input_prompt_number == nbb_cell_id) {\n",
       "                        if (nbb_cells[i].get_text() == nbb_unformatted_code) {\n",
       "                             nbb_cells[i].set_text(nbb_formatted_code);\n",
       "                        }\n",
       "                        break;\n",
       "                    }\n",
       "                }\n",
       "            }, 500);\n",
       "            "
      ],
      "text/plain": [
       "<IPython.core.display.Javascript object>"
      ]
     },
     "metadata": {},
     "output_type": "display_data"
    }
   ],
   "source": [
    "network = [\n",
    "    (\"Ben\", \"Khuyen\"),\n",
    "    (\"Ben\", \"Thinh\"),\n",
    "    (\"Ben\", \"Michael\"),\n",
    "    (\"Ben\", \"Lauren\"),\n",
    "    (\"Ben\", \"Josh\"),\n",
    "    (\"Lauren\", \"Khuyen\"),\n",
    "    (\"Thinh\", \"Michael\"),\n",
    "    (\"Khuyen\", \"Josh\"),\n",
    "]\n",
    "friends = pd.DataFrame(network, columns=[\"person1\", \"person2\"])"
   ]
  },
  {
   "cell_type": "code",
   "execution_count": 162,
   "id": "7928111f",
   "metadata": {
    "ExecuteTime": {
     "end_time": "2021-08-26T15:05:23.959660Z",
     "start_time": "2021-08-26T15:05:23.938944Z"
    }
   },
   "outputs": [
    {
     "data": {
      "text/html": [
       "<div>\n",
       "<style scoped>\n",
       "    .dataframe tbody tr th:only-of-type {\n",
       "        vertical-align: middle;\n",
       "    }\n",
       "\n",
       "    .dataframe tbody tr th {\n",
       "        vertical-align: top;\n",
       "    }\n",
       "\n",
       "    .dataframe thead th {\n",
       "        text-align: right;\n",
       "    }\n",
       "</style>\n",
       "<table border=\"1\" class=\"dataframe\">\n",
       "  <thead>\n",
       "    <tr style=\"text-align: right;\">\n",
       "      <th></th>\n",
       "      <th>person1</th>\n",
       "      <th>person2</th>\n",
       "    </tr>\n",
       "  </thead>\n",
       "  <tbody>\n",
       "    <tr>\n",
       "      <th>0</th>\n",
       "      <td>Ben</td>\n",
       "      <td>Khuyen</td>\n",
       "    </tr>\n",
       "    <tr>\n",
       "      <th>1</th>\n",
       "      <td>Ben</td>\n",
       "      <td>Thinh</td>\n",
       "    </tr>\n",
       "    <tr>\n",
       "      <th>2</th>\n",
       "      <td>Ben</td>\n",
       "      <td>Michael</td>\n",
       "    </tr>\n",
       "    <tr>\n",
       "      <th>3</th>\n",
       "      <td>Ben</td>\n",
       "      <td>Lauren</td>\n",
       "    </tr>\n",
       "    <tr>\n",
       "      <th>4</th>\n",
       "      <td>Ben</td>\n",
       "      <td>Josh</td>\n",
       "    </tr>\n",
       "    <tr>\n",
       "      <th>5</th>\n",
       "      <td>Lauren</td>\n",
       "      <td>Khuyen</td>\n",
       "    </tr>\n",
       "    <tr>\n",
       "      <th>6</th>\n",
       "      <td>Thinh</td>\n",
       "      <td>Michael</td>\n",
       "    </tr>\n",
       "    <tr>\n",
       "      <th>7</th>\n",
       "      <td>Khuyen</td>\n",
       "      <td>Josh</td>\n",
       "    </tr>\n",
       "  </tbody>\n",
       "</table>\n",
       "</div>"
      ],
      "text/plain": [
       "  person1  person2\n",
       "0     Ben   Khuyen\n",
       "1     Ben    Thinh\n",
       "2     Ben  Michael\n",
       "3     Ben   Lauren\n",
       "4     Ben     Josh\n",
       "5  Lauren   Khuyen\n",
       "6   Thinh  Michael\n",
       "7  Khuyen     Josh"
      ]
     },
     "execution_count": 162,
     "metadata": {},
     "output_type": "execute_result"
    },
    {
     "data": {
      "application/javascript": [
       "\n",
       "            setTimeout(function() {\n",
       "                var nbb_cell_id = 162;\n",
       "                var nbb_unformatted_code = \"friends\";\n",
       "                var nbb_formatted_code = \"friends\";\n",
       "                var nbb_cells = Jupyter.notebook.get_cells();\n",
       "                for (var i = 0; i < nbb_cells.length; ++i) {\n",
       "                    if (nbb_cells[i].input_prompt_number == nbb_cell_id) {\n",
       "                        if (nbb_cells[i].get_text() == nbb_unformatted_code) {\n",
       "                             nbb_cells[i].set_text(nbb_formatted_code);\n",
       "                        }\n",
       "                        break;\n",
       "                    }\n",
       "                }\n",
       "            }, 500);\n",
       "            "
      ],
      "text/plain": [
       "<IPython.core.display.Javascript object>"
      ]
     },
     "metadata": {},
     "output_type": "display_data"
    }
   ],
   "source": [
    "friends"
   ]
  },
  {
   "cell_type": "code",
   "execution_count": 130,
   "id": "694e1316",
   "metadata": {
    "ExecuteTime": {
     "end_time": "2021-08-26T14:48:59.730884Z",
     "start_time": "2021-08-26T14:48:59.686657Z"
    }
   },
   "outputs": [
    {
     "data": {
      "text/html": [
       "\n",
       "        <iframe\n",
       "            width=\"500px\"\n",
       "            height=\"500px\"\n",
       "            src=\"minimal_example.html\"\n",
       "            frameborder=\"0\"\n",
       "            allowfullscreen\n",
       "        ></iframe>\n",
       "        "
      ],
      "text/plain": [
       "<IPython.lib.display.IFrame at 0x7fc2fcc8fe50>"
      ]
     },
     "execution_count": 130,
     "metadata": {},
     "output_type": "execute_result"
    },
    {
     "data": {
      "application/javascript": [
       "\n",
       "            setTimeout(function() {\n",
       "                var nbb_cell_id = 130;\n",
       "                var nbb_unformatted_code = \"from pyvis.network import Network\\n\\nnet = Network(notebook=True)\\npeople = list(set(friends.person1).union(set(friends.person2)))\\nnet.add_nodes(people)\\nnet.show(\\\"minimal_example.html\\\")\";\n",
       "                var nbb_formatted_code = \"from pyvis.network import Network\\n\\nnet = Network(notebook=True)\\npeople = list(set(friends.person1).union(set(friends.person2)))\\nnet.add_nodes(people)\\nnet.show(\\\"minimal_example.html\\\")\";\n",
       "                var nbb_cells = Jupyter.notebook.get_cells();\n",
       "                for (var i = 0; i < nbb_cells.length; ++i) {\n",
       "                    if (nbb_cells[i].input_prompt_number == nbb_cell_id) {\n",
       "                        if (nbb_cells[i].get_text() == nbb_unformatted_code) {\n",
       "                             nbb_cells[i].set_text(nbb_formatted_code);\n",
       "                        }\n",
       "                        break;\n",
       "                    }\n",
       "                }\n",
       "            }, 500);\n",
       "            "
      ],
      "text/plain": [
       "<IPython.core.display.Javascript object>"
      ]
     },
     "metadata": {},
     "output_type": "display_data"
    }
   ],
   "source": [
    "from pyvis.network import Network\n",
    "\n",
    "net = Network(notebook=True)\n",
    "people = list(set(friends.person1).union(set(friends.person2)))\n",
    "net.add_nodes(people)\n",
    "net.show(\"minimal_example.html\")"
   ]
  },
  {
   "cell_type": "code",
   "execution_count": 131,
   "id": "b62fe8b0",
   "metadata": {
    "ExecuteTime": {
     "end_time": "2021-08-26T14:48:59.957029Z",
     "start_time": "2021-08-26T14:48:59.951545Z"
    }
   },
   "outputs": [
    {
     "data": {
      "text/html": [
       "\n",
       "        <iframe\n",
       "            width=\"500px\"\n",
       "            height=\"500px\"\n",
       "            src=\"minimal_example_with_edges.html\"\n",
       "            frameborder=\"0\"\n",
       "            allowfullscreen\n",
       "        ></iframe>\n",
       "        "
      ],
      "text/plain": [
       "<IPython.lib.display.IFrame at 0x7fc2fd02c730>"
      ]
     },
     "execution_count": 131,
     "metadata": {},
     "output_type": "execute_result"
    },
    {
     "data": {
      "application/javascript": [
       "\n",
       "            setTimeout(function() {\n",
       "                var nbb_cell_id = 131;\n",
       "                var nbb_unformatted_code = \"net.add_edges(friends.values.tolist())\\nnet.show(\\\"minimal_example_with_edges.html\\\")\";\n",
       "                var nbb_formatted_code = \"net.add_edges(friends.values.tolist())\\nnet.show(\\\"minimal_example_with_edges.html\\\")\";\n",
       "                var nbb_cells = Jupyter.notebook.get_cells();\n",
       "                for (var i = 0; i < nbb_cells.length; ++i) {\n",
       "                    if (nbb_cells[i].input_prompt_number == nbb_cell_id) {\n",
       "                        if (nbb_cells[i].get_text() == nbb_unformatted_code) {\n",
       "                             nbb_cells[i].set_text(nbb_formatted_code);\n",
       "                        }\n",
       "                        break;\n",
       "                    }\n",
       "                }\n",
       "            }, 500);\n",
       "            "
      ],
      "text/plain": [
       "<IPython.core.display.Javascript object>"
      ]
     },
     "metadata": {},
     "output_type": "display_data"
    }
   ],
   "source": [
    "net.add_edges(friends.values.tolist())\n",
    "net.show(\"minimal_example_with_edges.html\")"
   ]
  },
  {
   "cell_type": "markdown",
   "id": "aadff2ca",
   "metadata": {},
   "source": [
    "## Observe Friendship Paradox"
   ]
  },
  {
   "cell_type": "code",
   "execution_count": 132,
   "id": "2787e10f",
   "metadata": {
    "ExecuteTime": {
     "end_time": "2021-08-26T14:49:00.682121Z",
     "start_time": "2021-08-26T14:49:00.656159Z"
    }
   },
   "outputs": [
    {
     "data": {
      "application/javascript": [
       "\n",
       "            setTimeout(function() {\n",
       "                var nbb_cell_id = 132;\n",
       "                var nbb_unformatted_code = \"def get_friends(data: pd.DataFrame, person_id):\\n    \\\"\\\"\\\"Get friends of a person with specified id\\\"\\\"\\\"\\n    return (\\n        data[data[\\\"person1\\\"] == person_id][\\\"person2\\\"].values.tolist()\\n        + data[data[\\\"person2\\\"] == person_id][\\\"person1\\\"].values.tolist()\\n    )\";\n",
       "                var nbb_formatted_code = \"def get_friends(data: pd.DataFrame, person_id):\\n    \\\"\\\"\\\"Get friends of a person with specified id\\\"\\\"\\\"\\n    return (\\n        data[data[\\\"person1\\\"] == person_id][\\\"person2\\\"].values.tolist()\\n        + data[data[\\\"person2\\\"] == person_id][\\\"person1\\\"].values.tolist()\\n    )\";\n",
       "                var nbb_cells = Jupyter.notebook.get_cells();\n",
       "                for (var i = 0; i < nbb_cells.length; ++i) {\n",
       "                    if (nbb_cells[i].input_prompt_number == nbb_cell_id) {\n",
       "                        if (nbb_cells[i].get_text() == nbb_unformatted_code) {\n",
       "                             nbb_cells[i].set_text(nbb_formatted_code);\n",
       "                        }\n",
       "                        break;\n",
       "                    }\n",
       "                }\n",
       "            }, 500);\n",
       "            "
      ],
      "text/plain": [
       "<IPython.core.display.Javascript object>"
      ]
     },
     "metadata": {},
     "output_type": "display_data"
    }
   ],
   "source": [
    "def get_friends(data: pd.DataFrame, person_id):\n",
    "    \"\"\"Get friends of a person with specified id\"\"\"\n",
    "    return (\n",
    "        data[data[\"person1\"] == person_id][\"person2\"].values.tolist()\n",
    "        + data[data[\"person2\"] == person_id][\"person1\"].values.tolist()\n",
    "    )"
   ]
  },
  {
   "cell_type": "code",
   "execution_count": 425,
   "id": "e99e40de",
   "metadata": {
    "ExecuteTime": {
     "end_time": "2021-08-26T21:09:27.821158Z",
     "start_time": "2021-08-26T21:09:27.800893Z"
    }
   },
   "outputs": [
    {
     "data": {
      "text/plain": [
       "['Khuyen', 'Ben']"
      ]
     },
     "execution_count": 425,
     "metadata": {},
     "output_type": "execute_result"
    },
    {
     "data": {
      "application/javascript": [
       "\n",
       "            setTimeout(function() {\n",
       "                var nbb_cell_id = 425;\n",
       "                var nbb_unformatted_code = \"get_friends(friends, \\\"Lauren\\\")\";\n",
       "                var nbb_formatted_code = \"get_friends(friends, \\\"Lauren\\\")\";\n",
       "                var nbb_cells = Jupyter.notebook.get_cells();\n",
       "                for (var i = 0; i < nbb_cells.length; ++i) {\n",
       "                    if (nbb_cells[i].input_prompt_number == nbb_cell_id) {\n",
       "                        if (nbb_cells[i].get_text() == nbb_unformatted_code) {\n",
       "                             nbb_cells[i].set_text(nbb_formatted_code);\n",
       "                        }\n",
       "                        break;\n",
       "                    }\n",
       "                }\n",
       "            }, 500);\n",
       "            "
      ],
      "text/plain": [
       "<IPython.core.display.Javascript object>"
      ]
     },
     "metadata": {},
     "output_type": "display_data"
    }
   ],
   "source": [
    "get_friends(friends, \"Lauren\")"
   ]
  },
  {
   "cell_type": "code",
   "execution_count": 115,
   "id": "9e22fda6",
   "metadata": {
    "ExecuteTime": {
     "end_time": "2021-08-26T14:48:14.976596Z",
     "start_time": "2021-08-26T14:48:14.959461Z"
    }
   },
   "outputs": [
    {
     "data": {
      "application/javascript": [
       "\n",
       "            setTimeout(function() {\n",
       "                var nbb_cell_id = 115;\n",
       "                var nbb_unformatted_code = \"def get_num_friends(data: pd.DataFrame, person_id: int):\\n    \\\"\\\"\\\"Get number of friends of a person with specified id\\\"\\\"\\\"\\n    return len(get_friends(data, person_id))\";\n",
       "                var nbb_formatted_code = \"def get_num_friends(data: pd.DataFrame, person_id: int):\\n    \\\"\\\"\\\"Get number of friends of a person with specified id\\\"\\\"\\\"\\n    return len(get_friends(data, person_id))\";\n",
       "                var nbb_cells = Jupyter.notebook.get_cells();\n",
       "                for (var i = 0; i < nbb_cells.length; ++i) {\n",
       "                    if (nbb_cells[i].input_prompt_number == nbb_cell_id) {\n",
       "                        if (nbb_cells[i].get_text() == nbb_unformatted_code) {\n",
       "                             nbb_cells[i].set_text(nbb_formatted_code);\n",
       "                        }\n",
       "                        break;\n",
       "                    }\n",
       "                }\n",
       "            }, 500);\n",
       "            "
      ],
      "text/plain": [
       "<IPython.core.display.Javascript object>"
      ]
     },
     "metadata": {},
     "output_type": "display_data"
    }
   ],
   "source": [
    "def get_num_friends(data: pd.DataFrame, person_id: int):\n",
    "    \"\"\"Get number of friends of a person with specified id\"\"\"\n",
    "    return len(get_friends(data, person_id))"
   ]
  },
  {
   "cell_type": "code",
   "execution_count": 428,
   "id": "f5573d1b",
   "metadata": {
    "ExecuteTime": {
     "end_time": "2021-08-26T21:09:45.594619Z",
     "start_time": "2021-08-26T21:09:45.574808Z"
    }
   },
   "outputs": [
    {
     "data": {
      "text/plain": [
       "2"
      ]
     },
     "execution_count": 428,
     "metadata": {},
     "output_type": "execute_result"
    },
    {
     "data": {
      "application/javascript": [
       "\n",
       "            setTimeout(function() {\n",
       "                var nbb_cell_id = 428;\n",
       "                var nbb_unformatted_code = \"get_num_friends(friends, \\\"Lauren\\\")\";\n",
       "                var nbb_formatted_code = \"get_num_friends(friends, \\\"Lauren\\\")\";\n",
       "                var nbb_cells = Jupyter.notebook.get_cells();\n",
       "                for (var i = 0; i < nbb_cells.length; ++i) {\n",
       "                    if (nbb_cells[i].input_prompt_number == nbb_cell_id) {\n",
       "                        if (nbb_cells[i].get_text() == nbb_unformatted_code) {\n",
       "                             nbb_cells[i].set_text(nbb_formatted_code);\n",
       "                        }\n",
       "                        break;\n",
       "                    }\n",
       "                }\n",
       "            }, 500);\n",
       "            "
      ],
      "text/plain": [
       "<IPython.core.display.Javascript object>"
      ]
     },
     "metadata": {},
     "output_type": "display_data"
    }
   ],
   "source": [
    "get_num_friends(friends, \"Lauren\")"
   ]
  },
  {
   "cell_type": "code",
   "execution_count": 461,
   "id": "59d78165",
   "metadata": {
    "ExecuteTime": {
     "end_time": "2021-08-26T21:25:51.327284Z",
     "start_time": "2021-08-26T21:25:51.305172Z"
    }
   },
   "outputs": [
    {
     "data": {
      "application/javascript": [
       "\n",
       "            setTimeout(function() {\n",
       "                var nbb_cell_id = 461;\n",
       "                var nbb_unformatted_code = \"def get_num_friends_map(data: pd.DataFrame):\\n    \\\"\\\"\\\"Get a dictionary of people and their number of friends\\\"\\\"\\\"\\n    \\n    all_people = list(set(data[\\\"person1\\\"]).union(set(data[\\\"person2\\\"])))\\n    return {name: get_num_friends(friends, name) for name in all_people}\";\n",
       "                var nbb_formatted_code = \"def get_num_friends_map(data: pd.DataFrame):\\n    \\\"\\\"\\\"Get a dictionary of people and their number of friends\\\"\\\"\\\"\\n\\n    all_people = list(set(data[\\\"person1\\\"]).union(set(data[\\\"person2\\\"])))\\n    return {name: get_num_friends(friends, name) for name in all_people}\";\n",
       "                var nbb_cells = Jupyter.notebook.get_cells();\n",
       "                for (var i = 0; i < nbb_cells.length; ++i) {\n",
       "                    if (nbb_cells[i].input_prompt_number == nbb_cell_id) {\n",
       "                        if (nbb_cells[i].get_text() == nbb_unformatted_code) {\n",
       "                             nbb_cells[i].set_text(nbb_formatted_code);\n",
       "                        }\n",
       "                        break;\n",
       "                    }\n",
       "                }\n",
       "            }, 500);\n",
       "            "
      ],
      "text/plain": [
       "<IPython.core.display.Javascript object>"
      ]
     },
     "metadata": {},
     "output_type": "display_data"
    }
   ],
   "source": [
    "def get_num_friends_map(data: pd.DataFrame):\n",
    "    \"\"\"Get a dictionary of people and their number of friends\"\"\"\n",
    "\n",
    "    all_people = list(set(data[\"person1\"]).union(set(data[\"person2\"])))\n",
    "    return {name: get_num_friends(friends, name) for name in all_people}"
   ]
  },
  {
   "cell_type": "code",
   "execution_count": 457,
   "id": "85e0c08a",
   "metadata": {
    "ExecuteTime": {
     "end_time": "2021-08-26T21:24:43.171160Z",
     "start_time": "2021-08-26T21:24:43.153554Z"
    }
   },
   "outputs": [
    {
     "data": {
      "application/javascript": [
       "\n",
       "            setTimeout(function() {\n",
       "                var nbb_cell_id = 457;\n",
       "                var nbb_unformatted_code = \"def get_num_friends_of_a_person_friends(\\n    data: pd.DataFrame, person_id, num_friends_map: dict\\n):\\n    friends = get_friends(data, person_id)\\n    return [num_friends_map[friend_id] for friend_id in friends]\";\n",
       "                var nbb_formatted_code = \"def get_num_friends_of_a_person_friends(\\n    data: pd.DataFrame, person_id, num_friends_map: dict\\n):\\n    friends = get_friends(data, person_id)\\n    return [num_friends_map[friend_id] for friend_id in friends]\";\n",
       "                var nbb_cells = Jupyter.notebook.get_cells();\n",
       "                for (var i = 0; i < nbb_cells.length; ++i) {\n",
       "                    if (nbb_cells[i].input_prompt_number == nbb_cell_id) {\n",
       "                        if (nbb_cells[i].get_text() == nbb_unformatted_code) {\n",
       "                             nbb_cells[i].set_text(nbb_formatted_code);\n",
       "                        }\n",
       "                        break;\n",
       "                    }\n",
       "                }\n",
       "            }, 500);\n",
       "            "
      ],
      "text/plain": [
       "<IPython.core.display.Javascript object>"
      ]
     },
     "metadata": {},
     "output_type": "display_data"
    }
   ],
   "source": [
    "def get_num_friends_of_a_person_friends(\n",
    "    data: pd.DataFrame, person_id, num_friends_map: dict\n",
    "):\n",
    "    \"\"\"\"\"Get number of friends of a person's friends\"\"\"\n",
    "    friends = get_friends(data, person_id)\n",
    "    return [num_friends_map[friend_id] for friend_id in friends]"
   ]
  },
  {
   "cell_type": "code",
   "execution_count": 462,
   "id": "2dde03b4",
   "metadata": {
    "ExecuteTime": {
     "end_time": "2021-08-26T21:29:31.508733Z",
     "start_time": "2021-08-26T21:29:31.474462Z"
    }
   },
   "outputs": [
    {
     "data": {
      "text/plain": [
       "[3, 5]"
      ]
     },
     "execution_count": 462,
     "metadata": {},
     "output_type": "execute_result"
    },
    {
     "data": {
      "application/javascript": [
       "\n",
       "            setTimeout(function() {\n",
       "                var nbb_cell_id = 462;\n",
       "                var nbb_unformatted_code = \"num_friends_map = get_num_friends_map(friends)\\nget_num_friends_of_a_person_friends(friends, \\n                                    \\\"Lauren\\\", \\n                                    num_friends_map)\";\n",
       "                var nbb_formatted_code = \"num_friends_map = get_num_friends_map(friends)\\nget_num_friends_of_a_person_friends(friends, \\\"Lauren\\\", num_friends_map)\";\n",
       "                var nbb_cells = Jupyter.notebook.get_cells();\n",
       "                for (var i = 0; i < nbb_cells.length; ++i) {\n",
       "                    if (nbb_cells[i].input_prompt_number == nbb_cell_id) {\n",
       "                        if (nbb_cells[i].get_text() == nbb_unformatted_code) {\n",
       "                             nbb_cells[i].set_text(nbb_formatted_code);\n",
       "                        }\n",
       "                        break;\n",
       "                    }\n",
       "                }\n",
       "            }, 500);\n",
       "            "
      ],
      "text/plain": [
       "<IPython.core.display.Javascript object>"
      ]
     },
     "metadata": {},
     "output_type": "display_data"
    }
   ],
   "source": [
    "num_friends_map = get_num_friends_map(friends)\n",
    "get_num_friends_of_a_person_friends(friends, \"Lauren\", num_friends_map)"
   ]
  },
  {
   "cell_type": "code",
   "execution_count": 450,
   "id": "81ce9e65",
   "metadata": {
    "ExecuteTime": {
     "end_time": "2021-08-26T21:20:59.446482Z",
     "start_time": "2021-08-26T21:20:59.427847Z"
    }
   },
   "outputs": [
    {
     "data": {
      "application/javascript": [
       "\n",
       "            setTimeout(function() {\n",
       "                var nbb_cell_id = 450;\n",
       "                var nbb_unformatted_code = \"def get_average_friends_of_a_person_friends(data: pd.DataFrame, person_id):\\n    num_friends_map = get_num_friends_map(friends)\\n    num_friends_of_friends = get_num_friends_of_a_person_friends(data, person_id, num_friends_map)\\n    return np.mean(num_friends_of_friends)\";\n",
       "                var nbb_formatted_code = \"def get_average_friends_of_a_person_friends(data: pd.DataFrame, person_id):\\n    num_friends_map = get_num_friends_map(friends)\\n    num_friends_of_friends = get_num_friends_of_a_person_friends(\\n        data, person_id, num_friends_map\\n    )\\n    return np.mean(num_friends_of_friends)\";\n",
       "                var nbb_cells = Jupyter.notebook.get_cells();\n",
       "                for (var i = 0; i < nbb_cells.length; ++i) {\n",
       "                    if (nbb_cells[i].input_prompt_number == nbb_cell_id) {\n",
       "                        if (nbb_cells[i].get_text() == nbb_unformatted_code) {\n",
       "                             nbb_cells[i].set_text(nbb_formatted_code);\n",
       "                        }\n",
       "                        break;\n",
       "                    }\n",
       "                }\n",
       "            }, 500);\n",
       "            "
      ],
      "text/plain": [
       "<IPython.core.display.Javascript object>"
      ]
     },
     "metadata": {},
     "output_type": "display_data"
    }
   ],
   "source": [
    "def get_average_friends_of_a_person_friends(data: pd.DataFrame, person_id):\n",
    "    \"\"\"Get the average number of friends a person's friends have\"\"\"\n",
    "    \n",
    "    num_friends_map = get_num_friends_map(friends)\n",
    "    num_friends_of_friends = get_num_friends_of_a_person_friends(\n",
    "        data, person_id, num_friends_map\n",
    "    )\n",
    "    return np.mean(num_friends_of_friends)"
   ]
  },
  {
   "cell_type": "code",
   "execution_count": 463,
   "id": "668e8e59",
   "metadata": {
    "ExecuteTime": {
     "end_time": "2021-08-26T21:29:33.735919Z",
     "start_time": "2021-08-26T21:29:33.700959Z"
    }
   },
   "outputs": [
    {
     "data": {
      "text/plain": [
       "4.0"
      ]
     },
     "execution_count": 463,
     "metadata": {},
     "output_type": "execute_result"
    },
    {
     "data": {
      "application/javascript": [
       "\n",
       "            setTimeout(function() {\n",
       "                var nbb_cell_id = 463;\n",
       "                var nbb_unformatted_code = \"get_average_friends_of_a_person_friends(friends, \\\"Lauren\\\")\";\n",
       "                var nbb_formatted_code = \"get_average_friends_of_a_person_friends(friends, \\\"Lauren\\\")\";\n",
       "                var nbb_cells = Jupyter.notebook.get_cells();\n",
       "                for (var i = 0; i < nbb_cells.length; ++i) {\n",
       "                    if (nbb_cells[i].input_prompt_number == nbb_cell_id) {\n",
       "                        if (nbb_cells[i].get_text() == nbb_unformatted_code) {\n",
       "                             nbb_cells[i].set_text(nbb_formatted_code);\n",
       "                        }\n",
       "                        break;\n",
       "                    }\n",
       "                }\n",
       "            }, 500);\n",
       "            "
      ],
      "text/plain": [
       "<IPython.core.display.Javascript object>"
      ]
     },
     "metadata": {},
     "output_type": "display_data"
    }
   ],
   "source": [
    "get_average_friends_of_a_person_friends(friends, \"Lauren\")"
   ]
  },
  {
   "cell_type": "code",
   "execution_count": 452,
   "id": "c76ea95d",
   "metadata": {
    "ExecuteTime": {
     "end_time": "2021-08-26T21:21:01.987612Z",
     "start_time": "2021-08-26T21:21:01.957339Z"
    }
   },
   "outputs": [
    {
     "data": {
      "application/javascript": [
       "\n",
       "            setTimeout(function() {\n",
       "                var nbb_cell_id = 452;\n",
       "                var nbb_unformatted_code = \"def get_friends_df(data: pd.DataFrame):\\n    all_people = list(set(data[\\\"person1\\\"]).union(set(data[\\\"person2\\\"])))\\n    num_friends = [\\n        {\\n            \\\"person_id\\\": person_id,\\n            \\\"num_friends\\\": get_num_friends(data, person_id),\\n            \\\"avg_friends_of_friends\\\": round(\\n                get_average_friends_of_a_person_friends(data, person_id), 2\\n            ),\\n        }\\n        for person_id in all_people\\n    ]\\n    return pd.DataFrame(num_friends)\";\n",
       "                var nbb_formatted_code = \"def get_friends_df(data: pd.DataFrame):\\n    all_people = list(set(data[\\\"person1\\\"]).union(set(data[\\\"person2\\\"])))\\n    num_friends = [\\n        {\\n            \\\"person_id\\\": person_id,\\n            \\\"num_friends\\\": get_num_friends(data, person_id),\\n            \\\"avg_friends_of_friends\\\": round(\\n                get_average_friends_of_a_person_friends(data, person_id), 2\\n            ),\\n        }\\n        for person_id in all_people\\n    ]\\n    return pd.DataFrame(num_friends)\";\n",
       "                var nbb_cells = Jupyter.notebook.get_cells();\n",
       "                for (var i = 0; i < nbb_cells.length; ++i) {\n",
       "                    if (nbb_cells[i].input_prompt_number == nbb_cell_id) {\n",
       "                        if (nbb_cells[i].get_text() == nbb_unformatted_code) {\n",
       "                             nbb_cells[i].set_text(nbb_formatted_code);\n",
       "                        }\n",
       "                        break;\n",
       "                    }\n",
       "                }\n",
       "            }, 500);\n",
       "            "
      ],
      "text/plain": [
       "<IPython.core.display.Javascript object>"
      ]
     },
     "metadata": {},
     "output_type": "display_data"
    }
   ],
   "source": [
    "def get_friends_df(data: pd.DataFrame):\n",
    "    all_people = list(set(data[\"person1\"]).union(set(data[\"person2\"])))\n",
    "    num_friends = [\n",
    "        {\n",
    "            \"person_id\": person_id,\n",
    "            \"num_friends\": get_num_friends(data, person_id),\n",
    "            \"avg_friends_of_friends\": round(\n",
    "                get_average_friends_of_a_person_friends(data, person_id), 2\n",
    "            ),\n",
    "        }\n",
    "        for person_id in all_people\n",
    "    ]\n",
    "    return pd.DataFrame(num_friends)"
   ]
  },
  {
   "cell_type": "code",
   "execution_count": 453,
   "id": "a0f89702",
   "metadata": {
    "ExecuteTime": {
     "end_time": "2021-08-26T21:21:04.915302Z",
     "start_time": "2021-08-26T21:21:04.812378Z"
    }
   },
   "outputs": [
    {
     "data": {
      "application/javascript": [
       "\n",
       "            setTimeout(function() {\n",
       "                var nbb_cell_id = 453;\n",
       "                var nbb_unformatted_code = \"num_friends_sample = get_friends_df(friends)\";\n",
       "                var nbb_formatted_code = \"num_friends_sample = get_friends_df(friends)\";\n",
       "                var nbb_cells = Jupyter.notebook.get_cells();\n",
       "                for (var i = 0; i < nbb_cells.length; ++i) {\n",
       "                    if (nbb_cells[i].input_prompt_number == nbb_cell_id) {\n",
       "                        if (nbb_cells[i].get_text() == nbb_unformatted_code) {\n",
       "                             nbb_cells[i].set_text(nbb_formatted_code);\n",
       "                        }\n",
       "                        break;\n",
       "                    }\n",
       "                }\n",
       "            }, 500);\n",
       "            "
      ],
      "text/plain": [
       "<IPython.core.display.Javascript object>"
      ]
     },
     "metadata": {},
     "output_type": "display_data"
    }
   ],
   "source": [
    "num_friends_sample = get_friends_df(friends)"
   ]
  },
  {
   "cell_type": "code",
   "execution_count": 454,
   "id": "510f3cb1",
   "metadata": {
    "ExecuteTime": {
     "end_time": "2021-08-26T21:21:05.437072Z",
     "start_time": "2021-08-26T21:21:05.403104Z"
    }
   },
   "outputs": [
    {
     "data": {
      "text/html": [
       "<div>\n",
       "<style scoped>\n",
       "    .dataframe tbody tr th:only-of-type {\n",
       "        vertical-align: middle;\n",
       "    }\n",
       "\n",
       "    .dataframe tbody tr th {\n",
       "        vertical-align: top;\n",
       "    }\n",
       "\n",
       "    .dataframe thead th {\n",
       "        text-align: right;\n",
       "    }\n",
       "</style>\n",
       "<table border=\"1\" class=\"dataframe\">\n",
       "  <thead>\n",
       "    <tr style=\"text-align: right;\">\n",
       "      <th></th>\n",
       "      <th>person_id</th>\n",
       "      <th>num_friends</th>\n",
       "      <th>avg_friends_of_friends</th>\n",
       "      <th>friends_have_more_friends</th>\n",
       "    </tr>\n",
       "  </thead>\n",
       "  <tbody>\n",
       "    <tr>\n",
       "      <th>0</th>\n",
       "      <td>Ben</td>\n",
       "      <td>5</td>\n",
       "      <td>2.2</td>\n",
       "      <td>False</td>\n",
       "    </tr>\n",
       "    <tr>\n",
       "      <th>1</th>\n",
       "      <td>Lauren</td>\n",
       "      <td>2</td>\n",
       "      <td>4.0</td>\n",
       "      <td>True</td>\n",
       "    </tr>\n",
       "    <tr>\n",
       "      <th>2</th>\n",
       "      <td>Michael</td>\n",
       "      <td>2</td>\n",
       "      <td>3.5</td>\n",
       "      <td>True</td>\n",
       "    </tr>\n",
       "    <tr>\n",
       "      <th>3</th>\n",
       "      <td>Khuyen</td>\n",
       "      <td>3</td>\n",
       "      <td>3.0</td>\n",
       "      <td>False</td>\n",
       "    </tr>\n",
       "    <tr>\n",
       "      <th>4</th>\n",
       "      <td>Josh</td>\n",
       "      <td>2</td>\n",
       "      <td>4.0</td>\n",
       "      <td>True</td>\n",
       "    </tr>\n",
       "    <tr>\n",
       "      <th>5</th>\n",
       "      <td>Thinh</td>\n",
       "      <td>2</td>\n",
       "      <td>3.5</td>\n",
       "      <td>True</td>\n",
       "    </tr>\n",
       "  </tbody>\n",
       "</table>\n",
       "</div>"
      ],
      "text/plain": [
       "  person_id  num_friends  avg_friends_of_friends  friends_have_more_friends\n",
       "0       Ben            5                     2.2                      False\n",
       "1    Lauren            2                     4.0                       True\n",
       "2   Michael            2                     3.5                       True\n",
       "3    Khuyen            3                     3.0                      False\n",
       "4      Josh            2                     4.0                       True\n",
       "5     Thinh            2                     3.5                       True"
      ]
     },
     "execution_count": 454,
     "metadata": {},
     "output_type": "execute_result"
    },
    {
     "data": {
      "application/javascript": [
       "\n",
       "            setTimeout(function() {\n",
       "                var nbb_cell_id = 454;\n",
       "                var nbb_unformatted_code = \"num_friends_sample = num_friends_sample.assign(\\n    friends_have_more_friends=lambda df_: df_.avg_friends_of_friends > df_.num_friends\\n)\\nnum_friends_sample\";\n",
       "                var nbb_formatted_code = \"num_friends_sample = num_friends_sample.assign(\\n    friends_have_more_friends=lambda df_: df_.avg_friends_of_friends > df_.num_friends\\n)\\nnum_friends_sample\";\n",
       "                var nbb_cells = Jupyter.notebook.get_cells();\n",
       "                for (var i = 0; i < nbb_cells.length; ++i) {\n",
       "                    if (nbb_cells[i].input_prompt_number == nbb_cell_id) {\n",
       "                        if (nbb_cells[i].get_text() == nbb_unformatted_code) {\n",
       "                             nbb_cells[i].set_text(nbb_formatted_code);\n",
       "                        }\n",
       "                        break;\n",
       "                    }\n",
       "                }\n",
       "            }, 500);\n",
       "            "
      ],
      "text/plain": [
       "<IPython.core.display.Javascript object>"
      ]
     },
     "metadata": {},
     "output_type": "display_data"
    }
   ],
   "source": [
    "num_friends_sample = num_friends_sample.assign(\n",
    "    friends_have_more_friends=lambda df_: df_.avg_friends_of_friends > df_.num_friends\n",
    ")\n",
    "num_friends_sample"
   ]
  },
  {
   "cell_type": "code",
   "execution_count": 120,
   "id": "e3c7e274",
   "metadata": {
    "ExecuteTime": {
     "end_time": "2021-08-26T14:48:17.232403Z",
     "start_time": "2021-08-26T14:48:17.216129Z"
    }
   },
   "outputs": [
    {
     "data": {
      "text/plain": [
       "0.8333333333333334"
      ]
     },
     "execution_count": 120,
     "metadata": {},
     "output_type": "execute_result"
    },
    {
     "data": {
      "application/javascript": [
       "\n",
       "            setTimeout(function() {\n",
       "                var nbb_cell_id = 120;\n",
       "                var nbb_unformatted_code = \"num_friends_sample.friends_have_more_friends.sum() / len(num_friends_sample)\";\n",
       "                var nbb_formatted_code = \"num_friends_sample.friends_have_more_friends.sum() / len(num_friends_sample)\";\n",
       "                var nbb_cells = Jupyter.notebook.get_cells();\n",
       "                for (var i = 0; i < nbb_cells.length; ++i) {\n",
       "                    if (nbb_cells[i].input_prompt_number == nbb_cell_id) {\n",
       "                        if (nbb_cells[i].get_text() == nbb_unformatted_code) {\n",
       "                             nbb_cells[i].set_text(nbb_formatted_code);\n",
       "                        }\n",
       "                        break;\n",
       "                    }\n",
       "                }\n",
       "            }, 500);\n",
       "            "
      ],
      "text/plain": [
       "<IPython.core.display.Javascript object>"
      ]
     },
     "metadata": {},
     "output_type": "display_data"
    }
   ],
   "source": [
    "num_friends_sample.friends_have_more_friends.sum() / len(num_friends_sample)"
   ]
  },
  {
   "cell_type": "code",
   "execution_count": 121,
   "id": "4b13af48",
   "metadata": {
    "ExecuteTime": {
     "end_time": "2021-08-26T14:48:17.888217Z",
     "start_time": "2021-08-26T14:48:17.863399Z"
    }
   },
   "outputs": [
    {
     "data": {
      "text/plain": [
       "[2, 5, 3]"
      ]
     },
     "execution_count": 121,
     "metadata": {},
     "output_type": "execute_result"
    },
    {
     "data": {
      "application/javascript": [
       "\n",
       "            setTimeout(function() {\n",
       "                var nbb_cell_id = 121;\n",
       "                var nbb_unformatted_code = \"get_num_friends_of_a_person_friends(friends, \\\"Khuyen\\\")\";\n",
       "                var nbb_formatted_code = \"get_num_friends_of_a_person_friends(friends, \\\"Khuyen\\\")\";\n",
       "                var nbb_cells = Jupyter.notebook.get_cells();\n",
       "                for (var i = 0; i < nbb_cells.length; ++i) {\n",
       "                    if (nbb_cells[i].input_prompt_number == nbb_cell_id) {\n",
       "                        if (nbb_cells[i].get_text() == nbb_unformatted_code) {\n",
       "                             nbb_cells[i].set_text(nbb_formatted_code);\n",
       "                        }\n",
       "                        break;\n",
       "                    }\n",
       "                }\n",
       "            }, 500);\n",
       "            "
      ],
      "text/plain": [
       "<IPython.core.display.Javascript object>"
      ]
     },
     "metadata": {},
     "output_type": "display_data"
    }
   ],
   "source": [
    "get_num_friends_of_a_person_friends(friends, \"Khuyen\")"
   ]
  },
  {
   "cell_type": "code",
   "execution_count": 122,
   "id": "81588bf5",
   "metadata": {
    "ExecuteTime": {
     "end_time": "2021-08-26T14:48:18.435098Z",
     "start_time": "2021-08-26T14:48:18.414352Z"
    }
   },
   "outputs": [
    {
     "data": {
      "text/plain": [
       "[5, 3]"
      ]
     },
     "execution_count": 122,
     "metadata": {},
     "output_type": "execute_result"
    },
    {
     "data": {
      "application/javascript": [
       "\n",
       "            setTimeout(function() {\n",
       "                var nbb_cell_id = 122;\n",
       "                var nbb_unformatted_code = \"get_num_friends_of_a_person_friends(friends, \\\"Josh\\\")\";\n",
       "                var nbb_formatted_code = \"get_num_friends_of_a_person_friends(friends, \\\"Josh\\\")\";\n",
       "                var nbb_cells = Jupyter.notebook.get_cells();\n",
       "                for (var i = 0; i < nbb_cells.length; ++i) {\n",
       "                    if (nbb_cells[i].input_prompt_number == nbb_cell_id) {\n",
       "                        if (nbb_cells[i].get_text() == nbb_unformatted_code) {\n",
       "                             nbb_cells[i].set_text(nbb_formatted_code);\n",
       "                        }\n",
       "                        break;\n",
       "                    }\n",
       "                }\n",
       "            }, 500);\n",
       "            "
      ],
      "text/plain": [
       "<IPython.core.display.Javascript object>"
      ]
     },
     "metadata": {},
     "output_type": "display_data"
    }
   ],
   "source": [
    "get_num_friends_of_a_person_friends(friends, \"Josh\")"
   ]
  },
  {
   "cell_type": "code",
   "execution_count": 125,
   "id": "1fb9d392",
   "metadata": {
    "ExecuteTime": {
     "end_time": "2021-08-26T14:48:19.276179Z",
     "start_time": "2021-08-26T14:48:19.255277Z"
    }
   },
   "outputs": [
    {
     "data": {
      "text/plain": [
       "[5, 3]"
      ]
     },
     "execution_count": 125,
     "metadata": {},
     "output_type": "execute_result"
    },
    {
     "data": {
      "application/javascript": [
       "\n",
       "            setTimeout(function() {\n",
       "                var nbb_cell_id = 125;\n",
       "                var nbb_unformatted_code = \"get_num_friends_of_a_person_friends(friends, \\\"Michael\\\")\";\n",
       "                var nbb_formatted_code = \"get_num_friends_of_a_person_friends(friends, \\\"Michael\\\")\";\n",
       "                var nbb_cells = Jupyter.notebook.get_cells();\n",
       "                for (var i = 0; i < nbb_cells.length; ++i) {\n",
       "                    if (nbb_cells[i].input_prompt_number == nbb_cell_id) {\n",
       "                        if (nbb_cells[i].get_text() == nbb_unformatted_code) {\n",
       "                             nbb_cells[i].set_text(nbb_formatted_code);\n",
       "                        }\n",
       "                        break;\n",
       "                    }\n",
       "                }\n",
       "            }, 500);\n",
       "            "
      ],
      "text/plain": [
       "<IPython.core.display.Javascript object>"
      ]
     },
     "metadata": {},
     "output_type": "display_data"
    }
   ],
   "source": [
    "get_num_friends_of_a_person_friends(friends, \"Michael\")"
   ]
  },
  {
   "cell_type": "markdown",
   "id": "04d36100",
   "metadata": {},
   "source": [
    "# Facebook Social Network"
   ]
  },
  {
   "cell_type": "markdown",
   "id": "0298c814",
   "metadata": {},
   "source": [
    "## Observe the Friendship Paradox"
   ]
  },
  {
   "cell_type": "code",
   "execution_count": 270,
   "id": "8b7471b5",
   "metadata": {
    "ExecuteTime": {
     "end_time": "2021-08-26T15:54:08.924590Z",
     "start_time": "2021-08-26T15:54:08.875609Z"
    }
   },
   "outputs": [
    {
     "data": {
      "application/javascript": [
       "\n",
       "            setTimeout(function() {\n",
       "                var nbb_cell_id = 270;\n",
       "                var nbb_unformatted_code = \"data = pd.read_csv(\\\"facebook_combined.txt\\\", sep=\\\" \\\", header=None)\\ndata.columns = [\\\"person1\\\", \\\"person2\\\"]\";\n",
       "                var nbb_formatted_code = \"data = pd.read_csv(\\\"facebook_combined.txt\\\", sep=\\\" \\\", header=None)\\ndata.columns = [\\\"person1\\\", \\\"person2\\\"]\";\n",
       "                var nbb_cells = Jupyter.notebook.get_cells();\n",
       "                for (var i = 0; i < nbb_cells.length; ++i) {\n",
       "                    if (nbb_cells[i].input_prompt_number == nbb_cell_id) {\n",
       "                        if (nbb_cells[i].get_text() == nbb_unformatted_code) {\n",
       "                             nbb_cells[i].set_text(nbb_formatted_code);\n",
       "                        }\n",
       "                        break;\n",
       "                    }\n",
       "                }\n",
       "            }, 500);\n",
       "            "
      ],
      "text/plain": [
       "<IPython.core.display.Javascript object>"
      ]
     },
     "metadata": {},
     "output_type": "display_data"
    }
   ],
   "source": [
    "data = pd.read_csv(\"facebook_combined.txt\", sep=\" \", header=None)\n",
    "data.columns = [\"person1\", \"person2\"]"
   ]
  },
  {
   "cell_type": "code",
   "execution_count": 464,
   "id": "2533f640",
   "metadata": {
    "ExecuteTime": {
     "end_time": "2021-08-27T02:21:09.458375Z",
     "start_time": "2021-08-27T02:21:09.449367Z"
    }
   },
   "outputs": [
    {
     "data": {
      "text/html": [
       "<div>\n",
       "<style scoped>\n",
       "    .dataframe tbody tr th:only-of-type {\n",
       "        vertical-align: middle;\n",
       "    }\n",
       "\n",
       "    .dataframe tbody tr th {\n",
       "        vertical-align: top;\n",
       "    }\n",
       "\n",
       "    .dataframe thead th {\n",
       "        text-align: right;\n",
       "    }\n",
       "</style>\n",
       "<table border=\"1\" class=\"dataframe\">\n",
       "  <thead>\n",
       "    <tr style=\"text-align: right;\">\n",
       "      <th></th>\n",
       "      <th>person1</th>\n",
       "      <th>person2</th>\n",
       "    </tr>\n",
       "  </thead>\n",
       "  <tbody>\n",
       "    <tr>\n",
       "      <th>0</th>\n",
       "      <td>0</td>\n",
       "      <td>1</td>\n",
       "    </tr>\n",
       "    <tr>\n",
       "      <th>1</th>\n",
       "      <td>0</td>\n",
       "      <td>2</td>\n",
       "    </tr>\n",
       "    <tr>\n",
       "      <th>2</th>\n",
       "      <td>0</td>\n",
       "      <td>3</td>\n",
       "    </tr>\n",
       "    <tr>\n",
       "      <th>3</th>\n",
       "      <td>0</td>\n",
       "      <td>4</td>\n",
       "    </tr>\n",
       "    <tr>\n",
       "      <th>4</th>\n",
       "      <td>0</td>\n",
       "      <td>5</td>\n",
       "    </tr>\n",
       "    <tr>\n",
       "      <th>...</th>\n",
       "      <td>...</td>\n",
       "      <td>...</td>\n",
       "    </tr>\n",
       "    <tr>\n",
       "      <th>88229</th>\n",
       "      <td>4026</td>\n",
       "      <td>4030</td>\n",
       "    </tr>\n",
       "    <tr>\n",
       "      <th>88230</th>\n",
       "      <td>4027</td>\n",
       "      <td>4031</td>\n",
       "    </tr>\n",
       "    <tr>\n",
       "      <th>88231</th>\n",
       "      <td>4027</td>\n",
       "      <td>4032</td>\n",
       "    </tr>\n",
       "    <tr>\n",
       "      <th>88232</th>\n",
       "      <td>4027</td>\n",
       "      <td>4038</td>\n",
       "    </tr>\n",
       "    <tr>\n",
       "      <th>88233</th>\n",
       "      <td>4031</td>\n",
       "      <td>4038</td>\n",
       "    </tr>\n",
       "  </tbody>\n",
       "</table>\n",
       "<p>88234 rows × 2 columns</p>\n",
       "</div>"
      ],
      "text/plain": [
       "       person1  person2\n",
       "0            0        1\n",
       "1            0        2\n",
       "2            0        3\n",
       "3            0        4\n",
       "4            0        5\n",
       "...        ...      ...\n",
       "88229     4026     4030\n",
       "88230     4027     4031\n",
       "88231     4027     4032\n",
       "88232     4027     4038\n",
       "88233     4031     4038\n",
       "\n",
       "[88234 rows x 2 columns]"
      ]
     },
     "execution_count": 464,
     "metadata": {},
     "output_type": "execute_result"
    },
    {
     "data": {
      "application/javascript": [
       "\n",
       "            setTimeout(function() {\n",
       "                var nbb_cell_id = 464;\n",
       "                var nbb_unformatted_code = \"data \";\n",
       "                var nbb_formatted_code = \"data\";\n",
       "                var nbb_cells = Jupyter.notebook.get_cells();\n",
       "                for (var i = 0; i < nbb_cells.length; ++i) {\n",
       "                    if (nbb_cells[i].input_prompt_number == nbb_cell_id) {\n",
       "                        if (nbb_cells[i].get_text() == nbb_unformatted_code) {\n",
       "                             nbb_cells[i].set_text(nbb_formatted_code);\n",
       "                        }\n",
       "                        break;\n",
       "                    }\n",
       "                }\n",
       "            }, 500);\n",
       "            "
      ],
      "text/plain": [
       "<IPython.core.display.Javascript object>"
      ]
     },
     "metadata": {},
     "output_type": "display_data"
    }
   ],
   "source": [
    "data"
   ]
  },
  {
   "cell_type": "code",
   "execution_count": 272,
   "id": "44183f07",
   "metadata": {
    "ExecuteTime": {
     "end_time": "2021-08-26T15:55:51.998132Z",
     "start_time": "2021-08-26T15:54:09.704895Z"
    }
   },
   "outputs": [
    {
     "data": {
      "application/javascript": [
       "\n",
       "            setTimeout(function() {\n",
       "                var nbb_cell_id = 272;\n",
       "                var nbb_unformatted_code = \"num_friends = get_friends_df(data)\";\n",
       "                var nbb_formatted_code = \"num_friends = get_friends_df(data)\";\n",
       "                var nbb_cells = Jupyter.notebook.get_cells();\n",
       "                for (var i = 0; i < nbb_cells.length; ++i) {\n",
       "                    if (nbb_cells[i].input_prompt_number == nbb_cell_id) {\n",
       "                        if (nbb_cells[i].get_text() == nbb_unformatted_code) {\n",
       "                             nbb_cells[i].set_text(nbb_formatted_code);\n",
       "                        }\n",
       "                        break;\n",
       "                    }\n",
       "                }\n",
       "            }, 500);\n",
       "            "
      ],
      "text/plain": [
       "<IPython.core.display.Javascript object>"
      ]
     },
     "metadata": {},
     "output_type": "display_data"
    }
   ],
   "source": [
    "num_friends = get_friends_df(data)"
   ]
  },
  {
   "cell_type": "code",
   "execution_count": 273,
   "id": "228d1691",
   "metadata": {
    "ExecuteTime": {
     "end_time": "2021-08-26T15:55:52.011828Z",
     "start_time": "2021-08-26T15:55:51.999542Z"
    }
   },
   "outputs": [
    {
     "data": {
      "text/html": [
       "<div>\n",
       "<style scoped>\n",
       "    .dataframe tbody tr th:only-of-type {\n",
       "        vertical-align: middle;\n",
       "    }\n",
       "\n",
       "    .dataframe tbody tr th {\n",
       "        vertical-align: top;\n",
       "    }\n",
       "\n",
       "    .dataframe thead th {\n",
       "        text-align: right;\n",
       "    }\n",
       "</style>\n",
       "<table border=\"1\" class=\"dataframe\">\n",
       "  <thead>\n",
       "    <tr style=\"text-align: right;\">\n",
       "      <th></th>\n",
       "      <th>person_id</th>\n",
       "      <th>num_friends</th>\n",
       "      <th>avg_friends_of_friends</th>\n",
       "      <th>friends_have_more_friends</th>\n",
       "    </tr>\n",
       "  </thead>\n",
       "  <tbody>\n",
       "    <tr>\n",
       "      <th>0</th>\n",
       "      <td>0</td>\n",
       "      <td>347</td>\n",
       "      <td>18.96</td>\n",
       "      <td>False</td>\n",
       "    </tr>\n",
       "    <tr>\n",
       "      <th>1</th>\n",
       "      <td>1</td>\n",
       "      <td>17</td>\n",
       "      <td>48.24</td>\n",
       "      <td>True</td>\n",
       "    </tr>\n",
       "    <tr>\n",
       "      <th>2</th>\n",
       "      <td>2</td>\n",
       "      <td>10</td>\n",
       "      <td>49.90</td>\n",
       "      <td>True</td>\n",
       "    </tr>\n",
       "    <tr>\n",
       "      <th>3</th>\n",
       "      <td>3</td>\n",
       "      <td>17</td>\n",
       "      <td>59.76</td>\n",
       "      <td>True</td>\n",
       "    </tr>\n",
       "    <tr>\n",
       "      <th>4</th>\n",
       "      <td>4</td>\n",
       "      <td>10</td>\n",
       "      <td>42.60</td>\n",
       "      <td>True</td>\n",
       "    </tr>\n",
       "    <tr>\n",
       "      <th>...</th>\n",
       "      <td>...</td>\n",
       "      <td>...</td>\n",
       "      <td>...</td>\n",
       "      <td>...</td>\n",
       "    </tr>\n",
       "    <tr>\n",
       "      <th>4034</th>\n",
       "      <td>4034</td>\n",
       "      <td>2</td>\n",
       "      <td>38.50</td>\n",
       "      <td>True</td>\n",
       "    </tr>\n",
       "    <tr>\n",
       "      <th>4035</th>\n",
       "      <td>4035</td>\n",
       "      <td>1</td>\n",
       "      <td>59.00</td>\n",
       "      <td>True</td>\n",
       "    </tr>\n",
       "    <tr>\n",
       "      <th>4036</th>\n",
       "      <td>4036</td>\n",
       "      <td>2</td>\n",
       "      <td>31.50</td>\n",
       "      <td>True</td>\n",
       "    </tr>\n",
       "    <tr>\n",
       "      <th>4037</th>\n",
       "      <td>4037</td>\n",
       "      <td>4</td>\n",
       "      <td>23.25</td>\n",
       "      <td>True</td>\n",
       "    </tr>\n",
       "    <tr>\n",
       "      <th>4038</th>\n",
       "      <td>4038</td>\n",
       "      <td>9</td>\n",
       "      <td>15.22</td>\n",
       "      <td>True</td>\n",
       "    </tr>\n",
       "  </tbody>\n",
       "</table>\n",
       "<p>4039 rows × 4 columns</p>\n",
       "</div>"
      ],
      "text/plain": [
       "      person_id  num_friends  avg_friends_of_friends  \\\n",
       "0             0          347                   18.96   \n",
       "1             1           17                   48.24   \n",
       "2             2           10                   49.90   \n",
       "3             3           17                   59.76   \n",
       "4             4           10                   42.60   \n",
       "...         ...          ...                     ...   \n",
       "4034       4034            2                   38.50   \n",
       "4035       4035            1                   59.00   \n",
       "4036       4036            2                   31.50   \n",
       "4037       4037            4                   23.25   \n",
       "4038       4038            9                   15.22   \n",
       "\n",
       "      friends_have_more_friends  \n",
       "0                         False  \n",
       "1                          True  \n",
       "2                          True  \n",
       "3                          True  \n",
       "4                          True  \n",
       "...                         ...  \n",
       "4034                       True  \n",
       "4035                       True  \n",
       "4036                       True  \n",
       "4037                       True  \n",
       "4038                       True  \n",
       "\n",
       "[4039 rows x 4 columns]"
      ]
     },
     "execution_count": 273,
     "metadata": {},
     "output_type": "execute_result"
    },
    {
     "data": {
      "application/javascript": [
       "\n",
       "            setTimeout(function() {\n",
       "                var nbb_cell_id = 273;\n",
       "                var nbb_unformatted_code = \"num_friends = num_friends.assign(\\n    friends_have_more_friends=lambda df_: df_.avg_friends_of_friends > df_.num_friends\\n)\\nnum_friends\";\n",
       "                var nbb_formatted_code = \"num_friends = num_friends.assign(\\n    friends_have_more_friends=lambda df_: df_.avg_friends_of_friends > df_.num_friends\\n)\\nnum_friends\";\n",
       "                var nbb_cells = Jupyter.notebook.get_cells();\n",
       "                for (var i = 0; i < nbb_cells.length; ++i) {\n",
       "                    if (nbb_cells[i].input_prompt_number == nbb_cell_id) {\n",
       "                        if (nbb_cells[i].get_text() == nbb_unformatted_code) {\n",
       "                             nbb_cells[i].set_text(nbb_formatted_code);\n",
       "                        }\n",
       "                        break;\n",
       "                    }\n",
       "                }\n",
       "            }, 500);\n",
       "            "
      ],
      "text/plain": [
       "<IPython.core.display.Javascript object>"
      ]
     },
     "metadata": {},
     "output_type": "display_data"
    }
   ],
   "source": [
    "num_friends = num_friends.assign(\n",
    "    friends_have_more_friends=lambda df_: df_.avg_friends_of_friends > df_.num_friends\n",
    ")\n",
    "num_friends"
   ]
  },
  {
   "cell_type": "code",
   "execution_count": 274,
   "id": "c84609da",
   "metadata": {
    "ExecuteTime": {
     "end_time": "2021-08-26T15:55:52.016752Z",
     "start_time": "2021-08-26T15:55:52.012671Z"
    }
   },
   "outputs": [
    {
     "data": {
      "text/plain": [
       "0.874721465709334"
      ]
     },
     "execution_count": 274,
     "metadata": {},
     "output_type": "execute_result"
    },
    {
     "data": {
      "application/javascript": [
       "\n",
       "            setTimeout(function() {\n",
       "                var nbb_cell_id = 274;\n",
       "                var nbb_unformatted_code = \"num_friends.friends_have_more_friends.sum() / len(num_friends)\";\n",
       "                var nbb_formatted_code = \"num_friends.friends_have_more_friends.sum() / len(num_friends)\";\n",
       "                var nbb_cells = Jupyter.notebook.get_cells();\n",
       "                for (var i = 0; i < nbb_cells.length; ++i) {\n",
       "                    if (nbb_cells[i].input_prompt_number == nbb_cell_id) {\n",
       "                        if (nbb_cells[i].get_text() == nbb_unformatted_code) {\n",
       "                             nbb_cells[i].set_text(nbb_formatted_code);\n",
       "                        }\n",
       "                        break;\n",
       "                    }\n",
       "                }\n",
       "            }, 500);\n",
       "            "
      ],
      "text/plain": [
       "<IPython.core.display.Javascript object>"
      ]
     },
     "metadata": {},
     "output_type": "display_data"
    }
   ],
   "source": [
    "num_friends.friends_have_more_friends.sum() / len(num_friends)"
   ]
  },
  {
   "cell_type": "markdown",
   "id": "220866fb",
   "metadata": {},
   "source": [
    "## Visualize with Pyvis"
   ]
  },
  {
   "cell_type": "code",
   "execution_count": 406,
   "id": "a38b8475",
   "metadata": {
    "ExecuteTime": {
     "end_time": "2021-08-26T19:47:44.971105Z",
     "start_time": "2021-08-26T19:47:44.756009Z"
    }
   },
   "outputs": [
    {
     "data": {
      "application/javascript": [
       "\n",
       "            setTimeout(function() {\n",
       "                var nbb_cell_id = 406;\n",
       "                var nbb_unformatted_code = \"net = Network(\\\"1000px\\\", \\\"1000px\\\")\\n\\nall_people = list(map(str, num_friends.person_id.values.tolist()))\\nnet.add_nodes(all_people)\\nnet.show(\\\"all_people.html\\\")\";\n",
       "                var nbb_formatted_code = \"net = Network(\\\"1000px\\\", \\\"1000px\\\")\\n\\nall_people = list(map(str, num_friends.person_id.values.tolist()))\\nnet.add_nodes(all_people)\\nnet.show(\\\"all_people.html\\\")\";\n",
       "                var nbb_cells = Jupyter.notebook.get_cells();\n",
       "                for (var i = 0; i < nbb_cells.length; ++i) {\n",
       "                    if (nbb_cells[i].input_prompt_number == nbb_cell_id) {\n",
       "                        if (nbb_cells[i].get_text() == nbb_unformatted_code) {\n",
       "                             nbb_cells[i].set_text(nbb_formatted_code);\n",
       "                        }\n",
       "                        break;\n",
       "                    }\n",
       "                }\n",
       "            }, 500);\n",
       "            "
      ],
      "text/plain": [
       "<IPython.core.display.Javascript object>"
      ]
     },
     "metadata": {},
     "output_type": "display_data"
    },
    {
     "name": "stdout",
     "output_type": "stream",
     "text": [
      "Opening in existing browser session.\n"
     ]
    }
   ],
   "source": [
    "net = Network(\"1000px\", \"1000px\")\n",
    "\n",
    "all_people = list(map(str, num_friends.person_id.values.tolist()))\n",
    "net.add_nodes(all_people)\n",
    "net.show(\"all_people.html\")"
   ]
  },
  {
   "cell_type": "code",
   "execution_count": 400,
   "id": "a6f24008",
   "metadata": {
    "ExecuteTime": {
     "end_time": "2021-08-26T19:46:20.145027Z",
     "start_time": "2021-08-26T19:46:20.140092Z"
    }
   },
   "outputs": [
    {
     "data": {
      "application/javascript": [
       "\n",
       "            setTimeout(function() {\n",
       "                var nbb_cell_id = 400;\n",
       "                var nbb_unformatted_code = \"influencers = num_friends[\\n    num_friends[\\\"friends_have_more_friends\\\"] == False\\n].person_id.tolist()\";\n",
       "                var nbb_formatted_code = \"influencers = num_friends[\\n    num_friends[\\\"friends_have_more_friends\\\"] == False\\n].person_id.tolist()\";\n",
       "                var nbb_cells = Jupyter.notebook.get_cells();\n",
       "                for (var i = 0; i < nbb_cells.length; ++i) {\n",
       "                    if (nbb_cells[i].input_prompt_number == nbb_cell_id) {\n",
       "                        if (nbb_cells[i].get_text() == nbb_unformatted_code) {\n",
       "                             nbb_cells[i].set_text(nbb_formatted_code);\n",
       "                        }\n",
       "                        break;\n",
       "                    }\n",
       "                }\n",
       "            }, 500);\n",
       "            "
      ],
      "text/plain": [
       "<IPython.core.display.Javascript object>"
      ]
     },
     "metadata": {},
     "output_type": "display_data"
    }
   ],
   "source": [
    "influencers = num_friends[\n",
    "    num_friends[\"friends_have_more_friends\"] == False\n",
    "].person_id.tolist()"
   ]
  },
  {
   "cell_type": "code",
   "execution_count": 407,
   "id": "473bdb8c",
   "metadata": {
    "ExecuteTime": {
     "end_time": "2021-08-26T19:47:51.360110Z",
     "start_time": "2021-08-26T19:47:51.330235Z"
    }
   },
   "outputs": [
    {
     "data": {
      "application/javascript": [
       "\n",
       "            setTimeout(function() {\n",
       "                var nbb_cell_id = 407;\n",
       "                var nbb_unformatted_code = \"net.nodes = [\\n    {\\\"id\\\": node[\\\"id\\\"], \\\"label\\\": node[\\\"id\\\"], \\\"shape\\\": \\\"dot\\\", \\\"color\\\": \\\"#eb4034\\\"}\\n    if node[\\\"id\\\"] in influencers\\n    else node\\n    for node in net.nodes\\n]\";\n",
       "                var nbb_formatted_code = \"net.nodes = [\\n    {\\\"id\\\": node[\\\"id\\\"], \\\"label\\\": node[\\\"id\\\"], \\\"shape\\\": \\\"dot\\\", \\\"color\\\": \\\"#eb4034\\\"}\\n    if node[\\\"id\\\"] in influencers\\n    else node\\n    for node in net.nodes\\n]\";\n",
       "                var nbb_cells = Jupyter.notebook.get_cells();\n",
       "                for (var i = 0; i < nbb_cells.length; ++i) {\n",
       "                    if (nbb_cells[i].input_prompt_number == nbb_cell_id) {\n",
       "                        if (nbb_cells[i].get_text() == nbb_unformatted_code) {\n",
       "                             nbb_cells[i].set_text(nbb_formatted_code);\n",
       "                        }\n",
       "                        break;\n",
       "                    }\n",
       "                }\n",
       "            }, 500);\n",
       "            "
      ],
      "text/plain": [
       "<IPython.core.display.Javascript object>"
      ]
     },
     "metadata": {},
     "output_type": "display_data"
    }
   ],
   "source": [
    "net.nodes = [\n",
    "    {\"id\": node[\"id\"], \"label\": node[\"id\"], \"shape\": \"dot\", \"color\": \"#eb4034\"}\n",
    "    if node[\"id\"] in influencers\n",
    "    else node\n",
    "    for node in net.nodes\n",
    "]"
   ]
  },
  {
   "cell_type": "code",
   "execution_count": 398,
   "id": "cd4f48e3",
   "metadata": {
    "ExecuteTime": {
     "end_time": "2021-08-26T19:37:18.917798Z",
     "start_time": "2021-08-26T19:37:18.608718Z"
    }
   },
   "outputs": [
    {
     "data": {
      "application/javascript": [
       "\n",
       "            setTimeout(function() {\n",
       "                var nbb_cell_id = 398;\n",
       "                var nbb_unformatted_code = \"edges = data[[\\\"person1\\\", \\\"person2\\\"]].values.tolist()\";\n",
       "                var nbb_formatted_code = \"edges = data[[\\\"person1\\\", \\\"person2\\\"]].values.tolist()\";\n",
       "                var nbb_cells = Jupyter.notebook.get_cells();\n",
       "                for (var i = 0; i < nbb_cells.length; ++i) {\n",
       "                    if (nbb_cells[i].input_prompt_number == nbb_cell_id) {\n",
       "                        if (nbb_cells[i].get_text() == nbb_unformatted_code) {\n",
       "                             nbb_cells[i].set_text(nbb_formatted_code);\n",
       "                        }\n",
       "                        break;\n",
       "                    }\n",
       "                }\n",
       "            }, 500);\n",
       "            "
      ],
      "text/plain": [
       "<IPython.core.display.Javascript object>"
      ]
     },
     "metadata": {},
     "output_type": "display_data"
    }
   ],
   "source": [
    "edges = data[[\"person1\", \"person2\"]].values.tolist()"
   ]
  },
  {
   "cell_type": "code",
   "execution_count": 410,
   "id": "6c3c7679",
   "metadata": {
    "ExecuteTime": {
     "end_time": "2021-08-26T19:53:40.368873Z",
     "start_time": "2021-08-26T19:49:21.392431Z"
    }
   },
   "outputs": [
    {
     "data": {
      "application/javascript": [
       "\n",
       "            setTimeout(function() {\n",
       "                var nbb_cell_id = 410;\n",
       "                var nbb_unformatted_code = \"net.add_edges(edges)\";\n",
       "                var nbb_formatted_code = \"net.add_edges(edges)\";\n",
       "                var nbb_cells = Jupyter.notebook.get_cells();\n",
       "                for (var i = 0; i < nbb_cells.length; ++i) {\n",
       "                    if (nbb_cells[i].input_prompt_number == nbb_cell_id) {\n",
       "                        if (nbb_cells[i].get_text() == nbb_unformatted_code) {\n",
       "                             nbb_cells[i].set_text(nbb_formatted_code);\n",
       "                        }\n",
       "                        break;\n",
       "                    }\n",
       "                }\n",
       "            }, 500);\n",
       "            "
      ],
      "text/plain": [
       "<IPython.core.display.Javascript object>"
      ]
     },
     "metadata": {},
     "output_type": "display_data"
    }
   ],
   "source": [
    "net.add_edges(edges)"
   ]
  },
  {
   "cell_type": "code",
   "execution_count": 411,
   "id": "f99956f5",
   "metadata": {
    "ExecuteTime": {
     "end_time": "2021-08-26T19:58:46.104520Z",
     "start_time": "2021-08-26T19:58:45.911569Z"
    }
   },
   "outputs": [
    {
     "data": {
      "application/javascript": [
       "\n",
       "            setTimeout(function() {\n",
       "                var nbb_cell_id = 411;\n",
       "                var nbb_unformatted_code = \"net.show(\\\"all_people_with_edges.html\\\")\";\n",
       "                var nbb_formatted_code = \"net.show(\\\"all_people_with_edges.html\\\")\";\n",
       "                var nbb_cells = Jupyter.notebook.get_cells();\n",
       "                for (var i = 0; i < nbb_cells.length; ++i) {\n",
       "                    if (nbb_cells[i].input_prompt_number == nbb_cell_id) {\n",
       "                        if (nbb_cells[i].get_text() == nbb_unformatted_code) {\n",
       "                             nbb_cells[i].set_text(nbb_formatted_code);\n",
       "                        }\n",
       "                        break;\n",
       "                    }\n",
       "                }\n",
       "            }, 500);\n",
       "            "
      ],
      "text/plain": [
       "<IPython.core.display.Javascript object>"
      ]
     },
     "metadata": {},
     "output_type": "display_data"
    },
    {
     "name": "stdout",
     "output_type": "stream",
     "text": [
      "Opening in existing browser session.\n"
     ]
    }
   ],
   "source": [
    "net.show(\"all_people_with_edges.html\")"
   ]
  },
  {
   "cell_type": "code",
   "execution_count": null,
   "id": "a243029a",
   "metadata": {},
   "outputs": [],
   "source": []
  }
 ],
 "metadata": {
  "kernelspec": {
   "display_name": "Python 3 (ipykernel)",
   "language": "python",
   "name": "python3"
  },
  "language_info": {
   "codemirror_mode": {
    "name": "ipython",
    "version": 3
   },
   "file_extension": ".py",
   "mimetype": "text/x-python",
   "name": "python",
   "nbconvert_exporter": "python",
   "pygments_lexer": "ipython3",
   "version": "3.8.10"
  },
  "toc": {
   "base_numbering": 1,
   "nav_menu": {},
   "number_sections": true,
   "sideBar": true,
   "skip_h1_title": false,
   "title_cell": "Table of Contents",
   "title_sidebar": "Contents",
   "toc_cell": false,
   "toc_position": {},
   "toc_section_display": true,
   "toc_window_display": false
  }
 },
 "nbformat": 4,
 "nbformat_minor": 5
}
