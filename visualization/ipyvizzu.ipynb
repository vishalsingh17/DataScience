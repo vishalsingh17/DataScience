{
 "cells": [
  {
   "cell_type": "code",
   "execution_count": 1,
   "id": "6d503ae3",
   "metadata": {
    "ExecuteTime": {
     "end_time": "2022-04-10T12:27:23.268188Z",
     "start_time": "2022-04-10T12:27:23.220612Z"
    }
   },
   "outputs": [
    {
     "data": {
      "application/javascript": [
       "\n",
       "            setTimeout(function() {\n",
       "                var nbb_cell_id = 1;\n",
       "                var nbb_unformatted_code = \"%load_ext nb_black\";\n",
       "                var nbb_formatted_code = \"%load_ext nb_black\";\n",
       "                var nbb_cells = Jupyter.notebook.get_cells();\n",
       "                for (var i = 0; i < nbb_cells.length; ++i) {\n",
       "                    if (nbb_cells[i].input_prompt_number == nbb_cell_id) {\n",
       "                        if (nbb_cells[i].get_text() == nbb_unformatted_code) {\n",
       "                             nbb_cells[i].set_text(nbb_formatted_code);\n",
       "                        }\n",
       "                        break;\n",
       "                    }\n",
       "                }\n",
       "            }, 500);\n",
       "            "
      ],
      "text/plain": [
       "<IPython.core.display.Javascript object>"
      ]
     },
     "metadata": {},
     "output_type": "display_data"
    }
   ],
   "source": [
    "%load_ext nb_black"
   ]
  },
  {
   "cell_type": "code",
   "execution_count": 2,
   "id": "2478e5dc",
   "metadata": {
    "ExecuteTime": {
     "end_time": "2022-04-10T12:27:27.071142Z",
     "start_time": "2022-04-10T12:27:23.269274Z"
    }
   },
   "outputs": [
    {
     "name": "stdout",
     "output_type": "stream",
     "text": [
      "Requirement already satisfied: ipyvizzu in /home/khuyen/Data-science/venv/lib/python3.8/site-packages (0.7.0)\n",
      "Requirement already satisfied: NumPy in /home/khuyen/Data-science/venv/lib/python3.8/site-packages (from ipyvizzu) (1.20.3)\n",
      "Requirement already satisfied: IPython in /home/khuyen/Data-science/venv/lib/python3.8/site-packages (from ipyvizzu) (7.27.0)\n",
      "Requirement already satisfied: matplotlib-inline in /home/khuyen/Data-science/venv/lib/python3.8/site-packages (from IPython->ipyvizzu) (0.1.3)\n",
      "Requirement already satisfied: jedi>=0.16 in /home/khuyen/Data-science/venv/lib/python3.8/site-packages (from IPython->ipyvizzu) (0.18.0)\n",
      "Requirement already satisfied: backcall in /home/khuyen/Data-science/venv/lib/python3.8/site-packages (from IPython->ipyvizzu) (0.2.0)\n",
      "Requirement already satisfied: prompt-toolkit!=3.0.0,!=3.0.1,<3.1.0,>=2.0.0 in /home/khuyen/Data-science/venv/lib/python3.8/site-packages (from IPython->ipyvizzu) (3.0.20)\n",
      "Requirement already satisfied: pexpect>4.3 in /home/khuyen/Data-science/venv/lib/python3.8/site-packages (from IPython->ipyvizzu) (4.8.0)\n",
      "Requirement already satisfied: pygments in /home/khuyen/Data-science/venv/lib/python3.8/site-packages (from IPython->ipyvizzu) (2.10.0)\n",
      "Requirement already satisfied: pickleshare in /home/khuyen/Data-science/venv/lib/python3.8/site-packages (from IPython->ipyvizzu) (0.7.5)\n",
      "Requirement already satisfied: setuptools>=18.5 in /home/khuyen/Data-science/venv/lib/python3.8/site-packages (from IPython->ipyvizzu) (58.0.4)\n",
      "Requirement already satisfied: traitlets>=4.2 in /home/khuyen/Data-science/venv/lib/python3.8/site-packages (from IPython->ipyvizzu) (5.1.0)\n",
      "Requirement already satisfied: decorator in /home/khuyen/Data-science/venv/lib/python3.8/site-packages (from IPython->ipyvizzu) (5.1.0)\n",
      "Requirement already satisfied: parso<0.9.0,>=0.8.0 in /home/khuyen/Data-science/venv/lib/python3.8/site-packages (from jedi>=0.16->IPython->ipyvizzu) (0.8.2)\n",
      "Requirement already satisfied: ptyprocess>=0.5 in /home/khuyen/Data-science/venv/lib/python3.8/site-packages (from pexpect>4.3->IPython->ipyvizzu) (0.7.0)\n",
      "Requirement already satisfied: wcwidth in /home/khuyen/Data-science/venv/lib/python3.8/site-packages (from prompt-toolkit!=3.0.0,!=3.0.1,<3.1.0,>=2.0.0->IPython->ipyvizzu) (0.2.5)\n",
      "\u001b[33mWARNING: You are using pip version 22.0.3; however, version 22.0.4 is available.\n",
      "You should consider upgrading via the '/home/khuyen/Data-science/venv/bin/python3 -m pip install --upgrade pip' command.\u001b[0m\u001b[33m\n",
      "\u001b[0m"
     ]
    },
    {
     "data": {
      "application/javascript": [
       "\n",
       "            setTimeout(function() {\n",
       "                var nbb_cell_id = 2;\n",
       "                var nbb_unformatted_code = \"!pip install ipyvizzu\";\n",
       "                var nbb_formatted_code = \"!pip install ipyvizzu\";\n",
       "                var nbb_cells = Jupyter.notebook.get_cells();\n",
       "                for (var i = 0; i < nbb_cells.length; ++i) {\n",
       "                    if (nbb_cells[i].input_prompt_number == nbb_cell_id) {\n",
       "                        if (nbb_cells[i].get_text() == nbb_unformatted_code) {\n",
       "                             nbb_cells[i].set_text(nbb_formatted_code);\n",
       "                        }\n",
       "                        break;\n",
       "                    }\n",
       "                }\n",
       "            }, 500);\n",
       "            "
      ],
      "text/plain": [
       "<IPython.core.display.Javascript object>"
      ]
     },
     "metadata": {},
     "output_type": "display_data"
    }
   ],
   "source": [
    "!pip install ipyvizzu"
   ]
  },
  {
   "cell_type": "markdown",
   "id": "1d78dee0",
   "metadata": {},
   "source": [
    "## zoo"
   ]
  },
  {
   "cell_type": "code",
   "execution_count": 19,
   "id": "317f91ed",
   "metadata": {
    "ExecuteTime": {
     "end_time": "2022-04-10T12:30:16.235952Z",
     "start_time": "2022-04-10T12:30:16.173441Z"
    }
   },
   "outputs": [
    {
     "data": {
      "text/html": [
       "<script id=\"myVizzu_34b9270\">\n",
       "    document.inhibitScroll = false;\n",
       "</script>"
      ]
     },
     "metadata": {},
     "output_type": "display_data"
    },
    {
     "data": {
      "text/html": [
       "<script id=\"myVizzu_7cfba16\">\n",
       "    document.inhibitScroll = false;\n",
       "</script>"
      ]
     },
     "metadata": {},
     "output_type": "display_data"
    },
    {
     "data": {
      "text/html": [
       "<script id=\"myVizzu_876620e\">\n",
       "    document.inhibitScroll = false;\n",
       "</script>"
      ]
     },
     "metadata": {},
     "output_type": "display_data"
    },
    {
     "data": {
      "text/html": [
       "<script id=\"myVizzu_996086e\">\n",
       "    document.inhibitScroll = false;\n",
       "</script>"
      ]
     },
     "metadata": {},
     "output_type": "display_data"
    },
    {
     "data": {
      "text/html": [
       "<script id=\"myVizzu_b32927c\">\n",
       "    document.inhibitScroll = false;\n",
       "</script>"
      ]
     },
     "metadata": {},
     "output_type": "display_data"
    },
    {
     "data": {
      "text/html": [
       "<script id=\"myVizzu_24b6a8c\">\n",
       "    document.inhibitScroll = false;\n",
       "</script>"
      ]
     },
     "metadata": {},
     "output_type": "display_data"
    },
    {
     "data": {
      "text/html": [
       "<div>\n",
       "<style scoped>\n",
       "    .dataframe tbody tr th:only-of-type {\n",
       "        vertical-align: middle;\n",
       "    }\n",
       "\n",
       "    .dataframe tbody tr th {\n",
       "        vertical-align: top;\n",
       "    }\n",
       "\n",
       "    .dataframe thead th {\n",
       "        text-align: right;\n",
       "    }\n",
       "</style>\n",
       "<table border=\"1\" class=\"dataframe\">\n",
       "  <thead>\n",
       "    <tr style=\"text-align: right;\">\n",
       "      <th></th>\n",
       "      <th>hair</th>\n",
       "      <th>feathers</th>\n",
       "      <th>eggs</th>\n",
       "      <th>milk</th>\n",
       "      <th>airborne</th>\n",
       "      <th>aquatic</th>\n",
       "      <th>predator</th>\n",
       "      <th>toothed</th>\n",
       "      <th>backbone</th>\n",
       "      <th>breathes</th>\n",
       "      <th>venomous</th>\n",
       "      <th>fins</th>\n",
       "      <th>legs</th>\n",
       "      <th>tail</th>\n",
       "      <th>domestic</th>\n",
       "      <th>catsize</th>\n",
       "      <th>type</th>\n",
       "    </tr>\n",
       "  </thead>\n",
       "  <tbody>\n",
       "    <tr>\n",
       "      <th>0</th>\n",
       "      <td>true</td>\n",
       "      <td>false</td>\n",
       "      <td>false</td>\n",
       "      <td>true</td>\n",
       "      <td>false</td>\n",
       "      <td>false</td>\n",
       "      <td>true</td>\n",
       "      <td>true</td>\n",
       "      <td>true</td>\n",
       "      <td>true</td>\n",
       "      <td>false</td>\n",
       "      <td>false</td>\n",
       "      <td>4.0</td>\n",
       "      <td>false</td>\n",
       "      <td>false</td>\n",
       "      <td>true</td>\n",
       "      <td>mammal</td>\n",
       "    </tr>\n",
       "    <tr>\n",
       "      <th>1</th>\n",
       "      <td>true</td>\n",
       "      <td>false</td>\n",
       "      <td>false</td>\n",
       "      <td>true</td>\n",
       "      <td>false</td>\n",
       "      <td>false</td>\n",
       "      <td>false</td>\n",
       "      <td>true</td>\n",
       "      <td>true</td>\n",
       "      <td>true</td>\n",
       "      <td>false</td>\n",
       "      <td>false</td>\n",
       "      <td>4.0</td>\n",
       "      <td>true</td>\n",
       "      <td>false</td>\n",
       "      <td>true</td>\n",
       "      <td>mammal</td>\n",
       "    </tr>\n",
       "    <tr>\n",
       "      <th>2</th>\n",
       "      <td>false</td>\n",
       "      <td>false</td>\n",
       "      <td>true</td>\n",
       "      <td>false</td>\n",
       "      <td>false</td>\n",
       "      <td>true</td>\n",
       "      <td>true</td>\n",
       "      <td>true</td>\n",
       "      <td>true</td>\n",
       "      <td>false</td>\n",
       "      <td>false</td>\n",
       "      <td>true</td>\n",
       "      <td>0.0</td>\n",
       "      <td>true</td>\n",
       "      <td>false</td>\n",
       "      <td>false</td>\n",
       "      <td>fish</td>\n",
       "    </tr>\n",
       "    <tr>\n",
       "      <th>3</th>\n",
       "      <td>true</td>\n",
       "      <td>false</td>\n",
       "      <td>false</td>\n",
       "      <td>true</td>\n",
       "      <td>false</td>\n",
       "      <td>false</td>\n",
       "      <td>true</td>\n",
       "      <td>true</td>\n",
       "      <td>true</td>\n",
       "      <td>true</td>\n",
       "      <td>false</td>\n",
       "      <td>false</td>\n",
       "      <td>4.0</td>\n",
       "      <td>false</td>\n",
       "      <td>false</td>\n",
       "      <td>true</td>\n",
       "      <td>mammal</td>\n",
       "    </tr>\n",
       "    <tr>\n",
       "      <th>4</th>\n",
       "      <td>true</td>\n",
       "      <td>false</td>\n",
       "      <td>false</td>\n",
       "      <td>true</td>\n",
       "      <td>false</td>\n",
       "      <td>false</td>\n",
       "      <td>true</td>\n",
       "      <td>true</td>\n",
       "      <td>true</td>\n",
       "      <td>true</td>\n",
       "      <td>false</td>\n",
       "      <td>false</td>\n",
       "      <td>4.0</td>\n",
       "      <td>true</td>\n",
       "      <td>false</td>\n",
       "      <td>true</td>\n",
       "      <td>mammal</td>\n",
       "    </tr>\n",
       "    <tr>\n",
       "      <th>...</th>\n",
       "      <td>...</td>\n",
       "      <td>...</td>\n",
       "      <td>...</td>\n",
       "      <td>...</td>\n",
       "      <td>...</td>\n",
       "      <td>...</td>\n",
       "      <td>...</td>\n",
       "      <td>...</td>\n",
       "      <td>...</td>\n",
       "      <td>...</td>\n",
       "      <td>...</td>\n",
       "      <td>...</td>\n",
       "      <td>...</td>\n",
       "      <td>...</td>\n",
       "      <td>...</td>\n",
       "      <td>...</td>\n",
       "      <td>...</td>\n",
       "    </tr>\n",
       "    <tr>\n",
       "      <th>96</th>\n",
       "      <td>true</td>\n",
       "      <td>false</td>\n",
       "      <td>false</td>\n",
       "      <td>true</td>\n",
       "      <td>false</td>\n",
       "      <td>false</td>\n",
       "      <td>false</td>\n",
       "      <td>true</td>\n",
       "      <td>true</td>\n",
       "      <td>true</td>\n",
       "      <td>false</td>\n",
       "      <td>false</td>\n",
       "      <td>2.0</td>\n",
       "      <td>true</td>\n",
       "      <td>false</td>\n",
       "      <td>true</td>\n",
       "      <td>mammal</td>\n",
       "    </tr>\n",
       "    <tr>\n",
       "      <th>97</th>\n",
       "      <td>true</td>\n",
       "      <td>false</td>\n",
       "      <td>true</td>\n",
       "      <td>false</td>\n",
       "      <td>true</td>\n",
       "      <td>false</td>\n",
       "      <td>false</td>\n",
       "      <td>false</td>\n",
       "      <td>false</td>\n",
       "      <td>true</td>\n",
       "      <td>true</td>\n",
       "      <td>false</td>\n",
       "      <td>6.0</td>\n",
       "      <td>false</td>\n",
       "      <td>false</td>\n",
       "      <td>false</td>\n",
       "      <td>insect</td>\n",
       "    </tr>\n",
       "    <tr>\n",
       "      <th>98</th>\n",
       "      <td>true</td>\n",
       "      <td>false</td>\n",
       "      <td>false</td>\n",
       "      <td>true</td>\n",
       "      <td>false</td>\n",
       "      <td>false</td>\n",
       "      <td>true</td>\n",
       "      <td>true</td>\n",
       "      <td>true</td>\n",
       "      <td>true</td>\n",
       "      <td>false</td>\n",
       "      <td>false</td>\n",
       "      <td>4.0</td>\n",
       "      <td>true</td>\n",
       "      <td>false</td>\n",
       "      <td>true</td>\n",
       "      <td>mammal</td>\n",
       "    </tr>\n",
       "    <tr>\n",
       "      <th>99</th>\n",
       "      <td>false</td>\n",
       "      <td>false</td>\n",
       "      <td>true</td>\n",
       "      <td>false</td>\n",
       "      <td>false</td>\n",
       "      <td>false</td>\n",
       "      <td>false</td>\n",
       "      <td>false</td>\n",
       "      <td>false</td>\n",
       "      <td>true</td>\n",
       "      <td>false</td>\n",
       "      <td>false</td>\n",
       "      <td>0.0</td>\n",
       "      <td>false</td>\n",
       "      <td>false</td>\n",
       "      <td>false</td>\n",
       "      <td>invertebrate</td>\n",
       "    </tr>\n",
       "    <tr>\n",
       "      <th>100</th>\n",
       "      <td>false</td>\n",
       "      <td>true</td>\n",
       "      <td>true</td>\n",
       "      <td>false</td>\n",
       "      <td>true</td>\n",
       "      <td>false</td>\n",
       "      <td>false</td>\n",
       "      <td>false</td>\n",
       "      <td>true</td>\n",
       "      <td>true</td>\n",
       "      <td>false</td>\n",
       "      <td>false</td>\n",
       "      <td>2.0</td>\n",
       "      <td>true</td>\n",
       "      <td>false</td>\n",
       "      <td>false</td>\n",
       "      <td>bird</td>\n",
       "    </tr>\n",
       "  </tbody>\n",
       "</table>\n",
       "<p>101 rows × 17 columns</p>\n",
       "</div>"
      ],
      "text/plain": [
       "      hair feathers   eggs   milk airborne aquatic predator toothed backbone  \\\n",
       "0     true    false  false   true    false   false     true    true     true   \n",
       "1     true    false  false   true    false   false    false    true     true   \n",
       "2    false    false   true  false    false    true     true    true     true   \n",
       "3     true    false  false   true    false   false     true    true     true   \n",
       "4     true    false  false   true    false   false     true    true     true   \n",
       "..     ...      ...    ...    ...      ...     ...      ...     ...      ...   \n",
       "96    true    false  false   true    false   false    false    true     true   \n",
       "97    true    false   true  false     true   false    false   false    false   \n",
       "98    true    false  false   true    false   false     true    true     true   \n",
       "99   false    false   true  false    false   false    false   false    false   \n",
       "100  false     true   true  false     true   false    false   false     true   \n",
       "\n",
       "    breathes venomous   fins  legs   tail domestic catsize          type  \n",
       "0       true    false  false   4.0  false    false    true        mammal  \n",
       "1       true    false  false   4.0   true    false    true        mammal  \n",
       "2      false    false   true   0.0   true    false   false          fish  \n",
       "3       true    false  false   4.0  false    false    true        mammal  \n",
       "4       true    false  false   4.0   true    false    true        mammal  \n",
       "..       ...      ...    ...   ...    ...      ...     ...           ...  \n",
       "96      true    false  false   2.0   true    false    true        mammal  \n",
       "97      true     true  false   6.0  false    false   false        insect  \n",
       "98      true    false  false   4.0   true    false    true        mammal  \n",
       "99      true    false  false   0.0  false    false   false  invertebrate  \n",
       "100     true    false  false   2.0   true    false   false          bird  \n",
       "\n",
       "[101 rows x 17 columns]"
      ]
     },
     "execution_count": 19,
     "metadata": {},
     "output_type": "execute_result"
    },
    {
     "data": {
      "application/javascript": [
       "\n",
       "            setTimeout(function() {\n",
       "                var nbb_cell_id = 19;\n",
       "                var nbb_unformatted_code = \"from sklearn.datasets import fetch_openml\\nimport pandas as pd\\n\\nzoo = fetch_openml(data_id=62)[\\\"frame\\\"]\\nzoo\";\n",
       "                var nbb_formatted_code = \"from sklearn.datasets import fetch_openml\\nimport pandas as pd\\n\\nzoo = fetch_openml(data_id=62)[\\\"frame\\\"]\\nzoo\";\n",
       "                var nbb_cells = Jupyter.notebook.get_cells();\n",
       "                for (var i = 0; i < nbb_cells.length; ++i) {\n",
       "                    if (nbb_cells[i].input_prompt_number == nbb_cell_id) {\n",
       "                        if (nbb_cells[i].get_text() == nbb_unformatted_code) {\n",
       "                             nbb_cells[i].set_text(nbb_formatted_code);\n",
       "                        }\n",
       "                        break;\n",
       "                    }\n",
       "                }\n",
       "            }, 500);\n",
       "            "
      ],
      "text/plain": [
       "<IPython.core.display.Javascript object>"
      ]
     },
     "metadata": {},
     "output_type": "display_data"
    }
   ],
   "source": [
    "from sklearn.datasets import fetch_openml\n",
    "import pandas as pd\n",
    "\n",
    "zoo = fetch_openml(data_id=62)[\"frame\"]\n",
    "zoo"
   ]
  },
  {
   "cell_type": "code",
   "execution_count": 20,
   "id": "777f8505",
   "metadata": {
    "ExecuteTime": {
     "end_time": "2022-04-10T12:30:16.578499Z",
     "start_time": "2022-04-10T12:30:16.570189Z"
    }
   },
   "outputs": [
    {
     "data": {
      "text/html": [
       "<script id=\"myVizzu_ef7ac20\">\n",
       "    document.inhibitScroll = false;\n",
       "</script>"
      ]
     },
     "metadata": {},
     "output_type": "display_data"
    },
    {
     "data": {
      "text/html": [
       "<script id=\"myVizzu_6af599d\">\n",
       "    document.inhibitScroll = false;\n",
       "</script>"
      ]
     },
     "metadata": {},
     "output_type": "display_data"
    },
    {
     "data": {
      "text/html": [
       "<script id=\"myVizzu_80418de\">\n",
       "    document.inhibitScroll = false;\n",
       "</script>"
      ]
     },
     "metadata": {},
     "output_type": "display_data"
    },
    {
     "data": {
      "text/html": [
       "<script id=\"myVizzu_8cc5318\">\n",
       "    document.inhibitScroll = false;\n",
       "</script>"
      ]
     },
     "metadata": {},
     "output_type": "display_data"
    },
    {
     "data": {
      "text/html": [
       "<script id=\"myVizzu_f533d72\">\n",
       "    document.inhibitScroll = false;\n",
       "</script>"
      ]
     },
     "metadata": {},
     "output_type": "display_data"
    },
    {
     "data": {
      "text/html": [
       "<script id=\"myVizzu_77ea2ac\">\n",
       "    document.inhibitScroll = false;\n",
       "</script>"
      ]
     },
     "metadata": {},
     "output_type": "display_data"
    },
    {
     "data": {
      "text/plain": [
       "hair        category\n",
       "feathers    category\n",
       "eggs        category\n",
       "milk        category\n",
       "airborne    category\n",
       "aquatic     category\n",
       "predator    category\n",
       "toothed     category\n",
       "backbone    category\n",
       "breathes    category\n",
       "venomous    category\n",
       "fins        category\n",
       "legs         float64\n",
       "tail        category\n",
       "domestic    category\n",
       "catsize     category\n",
       "type        category\n",
       "dtype: object"
      ]
     },
     "execution_count": 20,
     "metadata": {},
     "output_type": "execute_result"
    },
    {
     "data": {
      "application/javascript": [
       "\n",
       "            setTimeout(function() {\n",
       "                var nbb_cell_id = 20;\n",
       "                var nbb_unformatted_code = \"zoo.dtypes\";\n",
       "                var nbb_formatted_code = \"zoo.dtypes\";\n",
       "                var nbb_cells = Jupyter.notebook.get_cells();\n",
       "                for (var i = 0; i < nbb_cells.length; ++i) {\n",
       "                    if (nbb_cells[i].input_prompt_number == nbb_cell_id) {\n",
       "                        if (nbb_cells[i].get_text() == nbb_unformatted_code) {\n",
       "                             nbb_cells[i].set_text(nbb_formatted_code);\n",
       "                        }\n",
       "                        break;\n",
       "                    }\n",
       "                }\n",
       "            }, 500);\n",
       "            "
      ],
      "text/plain": [
       "<IPython.core.display.Javascript object>"
      ]
     },
     "metadata": {},
     "output_type": "display_data"
    }
   ],
   "source": [
    "zoo.dtypes"
   ]
  },
  {
   "cell_type": "code",
   "execution_count": 21,
   "id": "36ed27bc",
   "metadata": {
    "ExecuteTime": {
     "end_time": "2022-04-10T12:30:16.986027Z",
     "start_time": "2022-04-10T12:30:16.978209Z"
    }
   },
   "outputs": [
    {
     "data": {
      "text/html": [
       "<script id=\"myVizzu_0c86cc3\">\n",
       "    document.inhibitScroll = false;\n",
       "</script>"
      ]
     },
     "metadata": {},
     "output_type": "display_data"
    },
    {
     "data": {
      "text/html": [
       "<script id=\"myVizzu_f15a9ef\">\n",
       "    document.inhibitScroll = false;\n",
       "</script>"
      ]
     },
     "metadata": {},
     "output_type": "display_data"
    },
    {
     "data": {
      "text/html": [
       "<script id=\"myVizzu_7e8e164\">\n",
       "    document.inhibitScroll = false;\n",
       "</script>"
      ]
     },
     "metadata": {},
     "output_type": "display_data"
    },
    {
     "data": {
      "text/html": [
       "<script id=\"myVizzu_7e3d254\">\n",
       "    document.inhibitScroll = false;\n",
       "</script>"
      ]
     },
     "metadata": {},
     "output_type": "display_data"
    },
    {
     "data": {
      "text/html": [
       "<script id=\"myVizzu_1bad2c5\">\n",
       "    document.inhibitScroll = false;\n",
       "</script>"
      ]
     },
     "metadata": {},
     "output_type": "display_data"
    },
    {
     "data": {
      "text/html": [
       "<script id=\"myVizzu_1701094\">\n",
       "    document.inhibitScroll = false;\n",
       "</script>"
      ]
     },
     "metadata": {},
     "output_type": "display_data"
    },
    {
     "data": {
      "application/javascript": [
       "\n",
       "            setTimeout(function() {\n",
       "                var nbb_cell_id = 21;\n",
       "                var nbb_unformatted_code = \"features = zoo.columns.drop([\\\"legs\\\", \\\"type\\\"])\";\n",
       "                var nbb_formatted_code = \"features = zoo.columns.drop([\\\"legs\\\", \\\"type\\\"])\";\n",
       "                var nbb_cells = Jupyter.notebook.get_cells();\n",
       "                for (var i = 0; i < nbb_cells.length; ++i) {\n",
       "                    if (nbb_cells[i].input_prompt_number == nbb_cell_id) {\n",
       "                        if (nbb_cells[i].get_text() == nbb_unformatted_code) {\n",
       "                             nbb_cells[i].set_text(nbb_formatted_code);\n",
       "                        }\n",
       "                        break;\n",
       "                    }\n",
       "                }\n",
       "            }, 500);\n",
       "            "
      ],
      "text/plain": [
       "<IPython.core.display.Javascript object>"
      ]
     },
     "metadata": {},
     "output_type": "display_data"
    }
   ],
   "source": [
    "features = zoo.columns.drop([\"legs\", \"type\"])"
   ]
  },
  {
   "cell_type": "code",
   "execution_count": 22,
   "id": "2ae22c7e",
   "metadata": {
    "ExecuteTime": {
     "end_time": "2022-04-10T12:30:17.363155Z",
     "start_time": "2022-04-10T12:30:17.354154Z"
    }
   },
   "outputs": [
    {
     "data": {
      "text/html": [
       "<script id=\"myVizzu_af506c8\">\n",
       "    document.inhibitScroll = false;\n",
       "</script>"
      ]
     },
     "metadata": {},
     "output_type": "display_data"
    },
    {
     "data": {
      "text/html": [
       "<script id=\"myVizzu_1899ebd\">\n",
       "    document.inhibitScroll = false;\n",
       "</script>"
      ]
     },
     "metadata": {},
     "output_type": "display_data"
    },
    {
     "data": {
      "text/html": [
       "<script id=\"myVizzu_a3c40ac\">\n",
       "    document.inhibitScroll = false;\n",
       "</script>"
      ]
     },
     "metadata": {},
     "output_type": "display_data"
    },
    {
     "data": {
      "text/html": [
       "<script id=\"myVizzu_b5c474f\">\n",
       "    document.inhibitScroll = false;\n",
       "</script>"
      ]
     },
     "metadata": {},
     "output_type": "display_data"
    },
    {
     "data": {
      "text/html": [
       "<script id=\"myVizzu_ce9055f\">\n",
       "    document.inhibitScroll = false;\n",
       "</script>"
      ]
     },
     "metadata": {},
     "output_type": "display_data"
    },
    {
     "data": {
      "text/html": [
       "<script id=\"myVizzu_6379409\">\n",
       "    document.inhibitScroll = false;\n",
       "</script>"
      ]
     },
     "metadata": {},
     "output_type": "display_data"
    },
    {
     "data": {
      "application/javascript": [
       "\n",
       "            setTimeout(function() {\n",
       "                var nbb_cell_id = 22;\n",
       "                var nbb_unformatted_code = \"def bool_to_str(s: pd.Series):\\n    return s.map({\\\"true\\\": s.name, \\\"false\\\": \\\"_\\\".join([\\\"not\\\", s.name])})\";\n",
       "                var nbb_formatted_code = \"def bool_to_str(s: pd.Series):\\n    return s.map({\\\"true\\\": s.name, \\\"false\\\": \\\"_\\\".join([\\\"not\\\", s.name])})\";\n",
       "                var nbb_cells = Jupyter.notebook.get_cells();\n",
       "                for (var i = 0; i < nbb_cells.length; ++i) {\n",
       "                    if (nbb_cells[i].input_prompt_number == nbb_cell_id) {\n",
       "                        if (nbb_cells[i].get_text() == nbb_unformatted_code) {\n",
       "                             nbb_cells[i].set_text(nbb_formatted_code);\n",
       "                        }\n",
       "                        break;\n",
       "                    }\n",
       "                }\n",
       "            }, 500);\n",
       "            "
      ],
      "text/plain": [
       "<IPython.core.display.Javascript object>"
      ]
     },
     "metadata": {},
     "output_type": "display_data"
    }
   ],
   "source": [
    "def bool_to_str(s: pd.Series):\n",
    "    return s.map({\"true\": s.name, \"false\": \"_\".join([\"not\", s.name])})"
   ]
  },
  {
   "cell_type": "code",
   "execution_count": 23,
   "id": "cc1f4839",
   "metadata": {
    "ExecuteTime": {
     "end_time": "2022-04-10T12:30:17.954204Z",
     "start_time": "2022-04-10T12:30:17.930984Z"
    }
   },
   "outputs": [
    {
     "data": {
      "text/html": [
       "<script id=\"myVizzu_9cb881c\">\n",
       "    document.inhibitScroll = false;\n",
       "</script>"
      ]
     },
     "metadata": {},
     "output_type": "display_data"
    },
    {
     "data": {
      "text/html": [
       "<script id=\"myVizzu_3a6c4dc\">\n",
       "    document.inhibitScroll = false;\n",
       "</script>"
      ]
     },
     "metadata": {},
     "output_type": "display_data"
    },
    {
     "data": {
      "text/html": [
       "<script id=\"myVizzu_588d38d\">\n",
       "    document.inhibitScroll = false;\n",
       "</script>"
      ]
     },
     "metadata": {},
     "output_type": "display_data"
    },
    {
     "data": {
      "text/html": [
       "<script id=\"myVizzu_507ee06\">\n",
       "    document.inhibitScroll = false;\n",
       "</script>"
      ]
     },
     "metadata": {},
     "output_type": "display_data"
    },
    {
     "data": {
      "text/html": [
       "<script id=\"myVizzu_30ec369\">\n",
       "    document.inhibitScroll = false;\n",
       "</script>"
      ]
     },
     "metadata": {},
     "output_type": "display_data"
    },
    {
     "data": {
      "text/html": [
       "<script id=\"myVizzu_e9dd162\">\n",
       "    document.inhibitScroll = false;\n",
       "</script>"
      ]
     },
     "metadata": {},
     "output_type": "display_data"
    },
    {
     "data": {
      "application/javascript": [
       "\n",
       "            setTimeout(function() {\n",
       "                var nbb_cell_id = 23;\n",
       "                var nbb_unformatted_code = \"for feature in features:\\n    zoo[feature] = bool_to_str(zoo[feature])\";\n",
       "                var nbb_formatted_code = \"for feature in features:\\n    zoo[feature] = bool_to_str(zoo[feature])\";\n",
       "                var nbb_cells = Jupyter.notebook.get_cells();\n",
       "                for (var i = 0; i < nbb_cells.length; ++i) {\n",
       "                    if (nbb_cells[i].input_prompt_number == nbb_cell_id) {\n",
       "                        if (nbb_cells[i].get_text() == nbb_unformatted_code) {\n",
       "                             nbb_cells[i].set_text(nbb_formatted_code);\n",
       "                        }\n",
       "                        break;\n",
       "                    }\n",
       "                }\n",
       "            }, 500);\n",
       "            "
      ],
      "text/plain": [
       "<IPython.core.display.Javascript object>"
      ]
     },
     "metadata": {},
     "output_type": "display_data"
    }
   ],
   "source": [
    "for feature in features:\n",
    "    zoo[feature] = bool_to_str(zoo[feature])"
   ]
  },
  {
   "cell_type": "code",
   "execution_count": 24,
   "id": "b31a5510",
   "metadata": {
    "ExecuteTime": {
     "end_time": "2022-04-10T12:30:18.558021Z",
     "start_time": "2022-04-10T12:30:18.538817Z"
    }
   },
   "outputs": [
    {
     "data": {
      "text/html": [
       "<script id=\"myVizzu_af2d933\">\n",
       "    document.inhibitScroll = false;\n",
       "</script>"
      ]
     },
     "metadata": {},
     "output_type": "display_data"
    },
    {
     "data": {
      "text/html": [
       "<script id=\"myVizzu_243a4c2\">\n",
       "    document.inhibitScroll = false;\n",
       "</script>"
      ]
     },
     "metadata": {},
     "output_type": "display_data"
    },
    {
     "data": {
      "text/html": [
       "<script id=\"myVizzu_5ed05ea\">\n",
       "    document.inhibitScroll = false;\n",
       "</script>"
      ]
     },
     "metadata": {},
     "output_type": "display_data"
    },
    {
     "data": {
      "text/html": [
       "<script id=\"myVizzu_f6060f3\">\n",
       "    document.inhibitScroll = false;\n",
       "</script>"
      ]
     },
     "metadata": {},
     "output_type": "display_data"
    },
    {
     "data": {
      "text/html": [
       "<script id=\"myVizzu_2785934\">\n",
       "    document.inhibitScroll = false;\n",
       "</script>"
      ]
     },
     "metadata": {},
     "output_type": "display_data"
    },
    {
     "data": {
      "text/html": [
       "<script id=\"myVizzu_79ee2db\">\n",
       "    document.inhibitScroll = false;\n",
       "</script>"
      ]
     },
     "metadata": {},
     "output_type": "display_data"
    },
    {
     "data": {
      "text/html": [
       "<div>\n",
       "<style scoped>\n",
       "    .dataframe tbody tr th:only-of-type {\n",
       "        vertical-align: middle;\n",
       "    }\n",
       "\n",
       "    .dataframe tbody tr th {\n",
       "        vertical-align: top;\n",
       "    }\n",
       "\n",
       "    .dataframe thead th {\n",
       "        text-align: right;\n",
       "    }\n",
       "</style>\n",
       "<table border=\"1\" class=\"dataframe\">\n",
       "  <thead>\n",
       "    <tr style=\"text-align: right;\">\n",
       "      <th></th>\n",
       "      <th>hair</th>\n",
       "      <th>feathers</th>\n",
       "      <th>eggs</th>\n",
       "      <th>milk</th>\n",
       "      <th>airborne</th>\n",
       "      <th>aquatic</th>\n",
       "      <th>predator</th>\n",
       "      <th>toothed</th>\n",
       "      <th>backbone</th>\n",
       "      <th>breathes</th>\n",
       "      <th>venomous</th>\n",
       "      <th>fins</th>\n",
       "      <th>legs</th>\n",
       "      <th>tail</th>\n",
       "      <th>domestic</th>\n",
       "      <th>catsize</th>\n",
       "      <th>type</th>\n",
       "    </tr>\n",
       "  </thead>\n",
       "  <tbody>\n",
       "    <tr>\n",
       "      <th>0</th>\n",
       "      <td>hair</td>\n",
       "      <td>not_feathers</td>\n",
       "      <td>not_eggs</td>\n",
       "      <td>milk</td>\n",
       "      <td>not_airborne</td>\n",
       "      <td>not_aquatic</td>\n",
       "      <td>predator</td>\n",
       "      <td>toothed</td>\n",
       "      <td>backbone</td>\n",
       "      <td>breathes</td>\n",
       "      <td>not_venomous</td>\n",
       "      <td>not_fins</td>\n",
       "      <td>4.0</td>\n",
       "      <td>not_tail</td>\n",
       "      <td>not_domestic</td>\n",
       "      <td>catsize</td>\n",
       "      <td>mammal</td>\n",
       "    </tr>\n",
       "    <tr>\n",
       "      <th>1</th>\n",
       "      <td>hair</td>\n",
       "      <td>not_feathers</td>\n",
       "      <td>not_eggs</td>\n",
       "      <td>milk</td>\n",
       "      <td>not_airborne</td>\n",
       "      <td>not_aquatic</td>\n",
       "      <td>not_predator</td>\n",
       "      <td>toothed</td>\n",
       "      <td>backbone</td>\n",
       "      <td>breathes</td>\n",
       "      <td>not_venomous</td>\n",
       "      <td>not_fins</td>\n",
       "      <td>4.0</td>\n",
       "      <td>tail</td>\n",
       "      <td>not_domestic</td>\n",
       "      <td>catsize</td>\n",
       "      <td>mammal</td>\n",
       "    </tr>\n",
       "    <tr>\n",
       "      <th>2</th>\n",
       "      <td>not_hair</td>\n",
       "      <td>not_feathers</td>\n",
       "      <td>eggs</td>\n",
       "      <td>not_milk</td>\n",
       "      <td>not_airborne</td>\n",
       "      <td>aquatic</td>\n",
       "      <td>predator</td>\n",
       "      <td>toothed</td>\n",
       "      <td>backbone</td>\n",
       "      <td>not_breathes</td>\n",
       "      <td>not_venomous</td>\n",
       "      <td>fins</td>\n",
       "      <td>0.0</td>\n",
       "      <td>tail</td>\n",
       "      <td>not_domestic</td>\n",
       "      <td>not_catsize</td>\n",
       "      <td>fish</td>\n",
       "    </tr>\n",
       "    <tr>\n",
       "      <th>3</th>\n",
       "      <td>hair</td>\n",
       "      <td>not_feathers</td>\n",
       "      <td>not_eggs</td>\n",
       "      <td>milk</td>\n",
       "      <td>not_airborne</td>\n",
       "      <td>not_aquatic</td>\n",
       "      <td>predator</td>\n",
       "      <td>toothed</td>\n",
       "      <td>backbone</td>\n",
       "      <td>breathes</td>\n",
       "      <td>not_venomous</td>\n",
       "      <td>not_fins</td>\n",
       "      <td>4.0</td>\n",
       "      <td>not_tail</td>\n",
       "      <td>not_domestic</td>\n",
       "      <td>catsize</td>\n",
       "      <td>mammal</td>\n",
       "    </tr>\n",
       "    <tr>\n",
       "      <th>4</th>\n",
       "      <td>hair</td>\n",
       "      <td>not_feathers</td>\n",
       "      <td>not_eggs</td>\n",
       "      <td>milk</td>\n",
       "      <td>not_airborne</td>\n",
       "      <td>not_aquatic</td>\n",
       "      <td>predator</td>\n",
       "      <td>toothed</td>\n",
       "      <td>backbone</td>\n",
       "      <td>breathes</td>\n",
       "      <td>not_venomous</td>\n",
       "      <td>not_fins</td>\n",
       "      <td>4.0</td>\n",
       "      <td>tail</td>\n",
       "      <td>not_domestic</td>\n",
       "      <td>catsize</td>\n",
       "      <td>mammal</td>\n",
       "    </tr>\n",
       "  </tbody>\n",
       "</table>\n",
       "</div>"
      ],
      "text/plain": [
       "       hair      feathers      eggs      milk      airborne      aquatic  \\\n",
       "0      hair  not_feathers  not_eggs      milk  not_airborne  not_aquatic   \n",
       "1      hair  not_feathers  not_eggs      milk  not_airborne  not_aquatic   \n",
       "2  not_hair  not_feathers      eggs  not_milk  not_airborne      aquatic   \n",
       "3      hair  not_feathers  not_eggs      milk  not_airborne  not_aquatic   \n",
       "4      hair  not_feathers  not_eggs      milk  not_airborne  not_aquatic   \n",
       "\n",
       "       predator  toothed  backbone      breathes      venomous      fins  \\\n",
       "0      predator  toothed  backbone      breathes  not_venomous  not_fins   \n",
       "1  not_predator  toothed  backbone      breathes  not_venomous  not_fins   \n",
       "2      predator  toothed  backbone  not_breathes  not_venomous      fins   \n",
       "3      predator  toothed  backbone      breathes  not_venomous  not_fins   \n",
       "4      predator  toothed  backbone      breathes  not_venomous  not_fins   \n",
       "\n",
       "   legs      tail      domestic      catsize    type  \n",
       "0   4.0  not_tail  not_domestic      catsize  mammal  \n",
       "1   4.0      tail  not_domestic      catsize  mammal  \n",
       "2   0.0      tail  not_domestic  not_catsize    fish  \n",
       "3   4.0  not_tail  not_domestic      catsize  mammal  \n",
       "4   4.0      tail  not_domestic      catsize  mammal  "
      ]
     },
     "execution_count": 24,
     "metadata": {},
     "output_type": "execute_result"
    },
    {
     "data": {
      "application/javascript": [
       "\n",
       "            setTimeout(function() {\n",
       "                var nbb_cell_id = 24;\n",
       "                var nbb_unformatted_code = \"zoo.head(5)\";\n",
       "                var nbb_formatted_code = \"zoo.head(5)\";\n",
       "                var nbb_cells = Jupyter.notebook.get_cells();\n",
       "                for (var i = 0; i < nbb_cells.length; ++i) {\n",
       "                    if (nbb_cells[i].input_prompt_number == nbb_cell_id) {\n",
       "                        if (nbb_cells[i].get_text() == nbb_unformatted_code) {\n",
       "                             nbb_cells[i].set_text(nbb_formatted_code);\n",
       "                        }\n",
       "                        break;\n",
       "                    }\n",
       "                }\n",
       "            }, 500);\n",
       "            "
      ],
      "text/plain": [
       "<IPython.core.display.Javascript object>"
      ]
     },
     "metadata": {},
     "output_type": "display_data"
    }
   ],
   "source": [
    "zoo.head(5)"
   ]
  },
  {
   "cell_type": "code",
   "execution_count": 25,
   "id": "4ed1d1a9",
   "metadata": {
    "ExecuteTime": {
     "end_time": "2022-04-10T12:30:18.983212Z",
     "start_time": "2022-04-10T12:30:18.970324Z"
    }
   },
   "outputs": [
    {
     "data": {
      "text/html": [
       "<script id=\"myVizzu_e7d45cf\">\n",
       "    document.inhibitScroll = false;\n",
       "</script>"
      ]
     },
     "metadata": {},
     "output_type": "display_data"
    },
    {
     "data": {
      "text/html": [
       "<script id=\"myVizzu_cacec61\">\n",
       "    document.inhibitScroll = false;\n",
       "</script>"
      ]
     },
     "metadata": {},
     "output_type": "display_data"
    },
    {
     "data": {
      "text/html": [
       "<script id=\"myVizzu_37dea00\">\n",
       "    document.inhibitScroll = false;\n",
       "</script>"
      ]
     },
     "metadata": {},
     "output_type": "display_data"
    },
    {
     "data": {
      "text/html": [
       "<script id=\"myVizzu_ec85075\">\n",
       "    document.inhibitScroll = false;\n",
       "</script>"
      ]
     },
     "metadata": {},
     "output_type": "display_data"
    },
    {
     "data": {
      "text/html": [
       "<script id=\"myVizzu_2b638d3\">\n",
       "    document.inhibitScroll = false;\n",
       "</script>"
      ]
     },
     "metadata": {},
     "output_type": "display_data"
    },
    {
     "data": {
      "text/html": [
       "<script id=\"myVizzu_3523022\">\n",
       "    document.inhibitScroll = false;\n",
       "</script>"
      ]
     },
     "metadata": {},
     "output_type": "display_data"
    },
    {
     "data": {
      "application/javascript": [
       "\n",
       "            setTimeout(function() {\n",
       "                var nbb_cell_id = 25;\n",
       "                var nbb_unformatted_code = \"category_cols = zoo.select_dtypes(\\\"category\\\").columns\\nzoo[category_cols] = zoo[category_cols].astype(\\\"object\\\")\";\n",
       "                var nbb_formatted_code = \"category_cols = zoo.select_dtypes(\\\"category\\\").columns\\nzoo[category_cols] = zoo[category_cols].astype(\\\"object\\\")\";\n",
       "                var nbb_cells = Jupyter.notebook.get_cells();\n",
       "                for (var i = 0; i < nbb_cells.length; ++i) {\n",
       "                    if (nbb_cells[i].input_prompt_number == nbb_cell_id) {\n",
       "                        if (nbb_cells[i].get_text() == nbb_unformatted_code) {\n",
       "                             nbb_cells[i].set_text(nbb_formatted_code);\n",
       "                        }\n",
       "                        break;\n",
       "                    }\n",
       "                }\n",
       "            }, 500);\n",
       "            "
      ],
      "text/plain": [
       "<IPython.core.display.Javascript object>"
      ]
     },
     "metadata": {},
     "output_type": "display_data"
    }
   ],
   "source": [
    "category_cols = zoo.select_dtypes(\"category\").columns\n",
    "zoo[category_cols] = zoo[category_cols].astype(\"object\")"
   ]
  },
  {
   "cell_type": "code",
   "execution_count": 26,
   "id": "e904186e",
   "metadata": {
    "ExecuteTime": {
     "end_time": "2022-04-10T12:30:19.388685Z",
     "start_time": "2022-04-10T12:30:19.379911Z"
    }
   },
   "outputs": [
    {
     "data": {
      "text/html": [
       "<script id=\"myVizzu_411bdde\">\n",
       "    document.inhibitScroll = false;\n",
       "</script>"
      ]
     },
     "metadata": {},
     "output_type": "display_data"
    },
    {
     "data": {
      "text/html": [
       "<script id=\"myVizzu_061b307\">\n",
       "    document.inhibitScroll = false;\n",
       "</script>"
      ]
     },
     "metadata": {},
     "output_type": "display_data"
    },
    {
     "data": {
      "text/html": [
       "<script id=\"myVizzu_1106de4\">\n",
       "    document.inhibitScroll = false;\n",
       "</script>"
      ]
     },
     "metadata": {},
     "output_type": "display_data"
    },
    {
     "data": {
      "text/html": [
       "<script id=\"myVizzu_6f3f1af\">\n",
       "    document.inhibitScroll = false;\n",
       "</script>"
      ]
     },
     "metadata": {},
     "output_type": "display_data"
    },
    {
     "data": {
      "text/html": [
       "<script id=\"myVizzu_91b588d\">\n",
       "    document.inhibitScroll = false;\n",
       "</script>"
      ]
     },
     "metadata": {},
     "output_type": "display_data"
    },
    {
     "data": {
      "text/html": [
       "<script id=\"myVizzu_d60ce3d\">\n",
       "    document.inhibitScroll = false;\n",
       "</script>"
      ]
     },
     "metadata": {},
     "output_type": "display_data"
    },
    {
     "data": {
      "application/javascript": [
       "\n",
       "            setTimeout(function() {\n",
       "                var nbb_cell_id = 26;\n",
       "                var nbb_unformatted_code = \"zoo[\\\"Count\\\"] = 1\";\n",
       "                var nbb_formatted_code = \"zoo[\\\"Count\\\"] = 1\";\n",
       "                var nbb_cells = Jupyter.notebook.get_cells();\n",
       "                for (var i = 0; i < nbb_cells.length; ++i) {\n",
       "                    if (nbb_cells[i].input_prompt_number == nbb_cell_id) {\n",
       "                        if (nbb_cells[i].get_text() == nbb_unformatted_code) {\n",
       "                             nbb_cells[i].set_text(nbb_formatted_code);\n",
       "                        }\n",
       "                        break;\n",
       "                    }\n",
       "                }\n",
       "            }, 500);\n",
       "            "
      ],
      "text/plain": [
       "<IPython.core.display.Javascript object>"
      ]
     },
     "metadata": {},
     "output_type": "display_data"
    }
   ],
   "source": [
    "zoo[\"Count\"] = 1"
   ]
  },
  {
   "cell_type": "code",
   "execution_count": 27,
   "id": "22e08eb9",
   "metadata": {
    "ExecuteTime": {
     "end_time": "2022-04-10T12:30:19.803659Z",
     "start_time": "2022-04-10T12:30:19.786212Z"
    }
   },
   "outputs": [
    {
     "data": {
      "text/html": [
       "<script id=\"myVizzu_4cd3269\">\n",
       "    document.inhibitScroll = false;\n",
       "</script>"
      ]
     },
     "metadata": {},
     "output_type": "display_data"
    },
    {
     "data": {
      "text/html": [
       "<script id=\"myVizzu_b416816\">\n",
       "    document.inhibitScroll = false;\n",
       "</script>"
      ]
     },
     "metadata": {},
     "output_type": "display_data"
    },
    {
     "data": {
      "text/html": [
       "<script id=\"myVizzu_7d540e3\">\n",
       "    document.inhibitScroll = false;\n",
       "</script>"
      ]
     },
     "metadata": {},
     "output_type": "display_data"
    },
    {
     "data": {
      "text/html": [
       "<script id=\"myVizzu_8dc77aa\">\n",
       "    document.inhibitScroll = false;\n",
       "</script>"
      ]
     },
     "metadata": {},
     "output_type": "display_data"
    },
    {
     "data": {
      "text/html": [
       "<script id=\"myVizzu_67460f4\">\n",
       "    document.inhibitScroll = false;\n",
       "</script>"
      ]
     },
     "metadata": {},
     "output_type": "display_data"
    },
    {
     "data": {
      "text/html": [
       "<script id=\"myVizzu_5e0f1de\">\n",
       "    document.inhibitScroll = false;\n",
       "</script>"
      ]
     },
     "metadata": {},
     "output_type": "display_data"
    },
    {
     "data": {
      "text/html": [
       "<script id=\"myVizzu_5b2a330\">\n",
       "    document.inhibitScroll = false;\n",
       "    document.addEventListener('wheel', function (evt) { document.inhibitScroll = true }, true);\n",
       "    document.addEventListener('keydown', function (evt) { document.inhibitScroll = true }, true);\n",
       "    document.addEventListener('touchstart', function (evt) { document.inhibitScroll = true }, true);\n",
       "    let myVizzu_c0c6cf1 = document.createElement(\"div\");\n",
       "    myVizzu_c0c6cf1.style.cssText = \"width: 640px; height: 360px;\";\n",
       "    let chart_c0c6cf1 = import(\"https://cdn.jsdelivr.net/npm/vizzu@~0.4.0/dist/vizzu.min.js\").then(Vizzu => new Vizzu.default(myVizzu_c0c6cf1).initializing);\n",
       "    myVizzu_5b2a330.parentNode.insertBefore(myVizzu_c0c6cf1, myVizzu_5b2a330);\n",
       "</script>"
      ]
     },
     "metadata": {},
     "output_type": "display_data"
    },
    {
     "data": {
      "text/html": [
       "<script id=\"myVizzu_3b3d137\">\n",
       "    let display_3b3d137 = myVizzu_3b3d137.parentNode.parentNode.style.display;\n",
       "    myVizzu_3b3d137.parentNode.parentNode.style.display = \"none\";\n",
       "    chart_c0c6cf1 = chart_c0c6cf1.then(chart => {\n",
       "        if (myVizzu_c0c6cf1.parentNode && myVizzu_c0c6cf1.parentNode.parentNode) {\n",
       "            myVizzu_c0c6cf1.parentNode.parentNode.style.display = \"none\";\n",
       "        }\n",
       "        myVizzu_3b3d137.parentNode.parentNode.style.display = display_3b3d137;\n",
       "        myVizzu_3b3d137.parentNode.insertBefore(myVizzu_c0c6cf1, myVizzu_3b3d137);\n",
       "        if (!document.inhibitScroll && true) {\n",
       "            myVizzu_c0c6cf1.scrollIntoView({behavior: \"auto\", block: \"center\"});\n",
       "        }\n",
       "        return chart.animate({\"data\": {\"series\": [{\"name\": \"hair\", \"type\": \"dimension\", \"values\": [\"hair\", \"hair\", \"not_hair\", \"hair\", \"hair\", \"hair\", \"hair\", \"not_hair\", \"not_hair\", \"hair\", \"hair\", \"not_hair\", \"not_hair\", \"not_hair\", \"not_hair\", \"not_hair\", \"not_hair\", \"hair\", \"not_hair\", \"not_hair\", \"not_hair\", \"not_hair\", \"hair\", \"not_hair\", \"not_hair\", \"not_hair\", \"not_hair\", \"hair\", \"hair\", \"hair\", \"not_hair\", \"hair\", \"hair\", \"not_hair\", \"not_hair\", \"hair\", \"hair\", \"not_hair\", \"not_hair\", \"hair\", \"hair\", \"not_hair\", \"not_hair\", \"not_hair\", \"hair\", \"hair\", \"not_hair\", \"hair\", \"hair\", \"hair\", \"hair\", \"hair\", \"not_hair\", \"not_hair\", \"hair\", \"hair\", \"not_hair\", \"not_hair\", \"not_hair\", \"not_hair\", \"not_hair\", \"not_hair\", \"not_hair\", \"hair\", \"hair\", \"hair\", \"not_hair\", \"hair\", \"hair\", \"hair\", \"hair\", \"not_hair\", \"not_hair\", \"not_hair\", \"hair\", \"hair\", \"not_hair\", \"not_hair\", \"not_hair\", \"not_hair\", \"not_hair\", \"not_hair\", \"not_hair\", \"not_hair\", \"hair\", \"not_hair\", \"not_hair\", \"not_hair\", \"not_hair\", \"not_hair\", \"not_hair\", \"not_hair\", \"not_hair\", \"hair\", \"hair\", \"not_hair\", \"hair\", \"hair\", \"hair\", \"not_hair\", \"not_hair\"]}, {\"name\": \"feathers\", \"type\": \"dimension\", \"values\": [\"not_feathers\", \"not_feathers\", \"not_feathers\", \"not_feathers\", \"not_feathers\", \"not_feathers\", \"not_feathers\", \"not_feathers\", \"not_feathers\", \"not_feathers\", \"not_feathers\", \"feathers\", \"not_feathers\", \"not_feathers\", \"not_feathers\", \"not_feathers\", \"feathers\", \"not_feathers\", \"not_feathers\", \"not_feathers\", \"feathers\", \"feathers\", \"not_feathers\", \"feathers\", \"not_feathers\", \"not_feathers\", \"not_feathers\", \"not_feathers\", \"not_feathers\", \"not_feathers\", \"not_feathers\", \"not_feathers\", \"not_feathers\", \"feathers\", \"not_feathers\", \"not_feathers\", \"not_feathers\", \"feathers\", \"not_feathers\", \"not_feathers\", \"not_feathers\", \"feathers\", \"not_feathers\", \"feathers\", \"not_feathers\", \"not_feathers\", \"not_feathers\", \"not_feathers\", \"not_feathers\", \"not_feathers\", \"not_feathers\", \"not_feathers\", \"not_feathers\", \"not_feathers\", \"not_feathers\", \"not_feathers\", \"feathers\", \"feathers\", \"feathers\", \"feathers\", \"not_feathers\", \"not_feathers\", \"not_feathers\", \"not_feathers\", \"not_feathers\", \"not_feathers\", \"not_feathers\", \"not_feathers\", \"not_feathers\", \"not_feathers\", \"not_feathers\", \"feathers\", \"not_feathers\", \"not_feathers\", \"not_feathers\", \"not_feathers\", \"not_feathers\", \"not_feathers\", \"feathers\", \"feathers\", \"not_feathers\", \"not_feathers\", \"not_feathers\", \"feathers\", \"not_feathers\", \"not_feathers\", \"not_feathers\", \"feathers\", \"not_feathers\", \"not_feathers\", \"not_feathers\", \"not_feathers\", \"not_feathers\", \"not_feathers\", \"not_feathers\", \"feathers\", \"not_feathers\", \"not_feathers\", \"not_feathers\", \"not_feathers\", \"feathers\"]}, {\"name\": \"eggs\", \"type\": \"dimension\", \"values\": [\"not_eggs\", \"not_eggs\", \"eggs\", \"not_eggs\", \"not_eggs\", \"not_eggs\", \"not_eggs\", \"eggs\", \"eggs\", \"not_eggs\", \"not_eggs\", \"eggs\", \"eggs\", \"eggs\", \"eggs\", \"eggs\", \"eggs\", \"not_eggs\", \"eggs\", \"not_eggs\", \"eggs\", \"eggs\", \"not_eggs\", \"eggs\", \"eggs\", \"eggs\", \"eggs\", \"not_eggs\", \"not_eggs\", \"not_eggs\", \"eggs\", \"not_eggs\", \"not_eggs\", \"eggs\", \"eggs\", \"not_eggs\", \"not_eggs\", \"eggs\", \"eggs\", \"eggs\", \"eggs\", \"eggs\", \"eggs\", \"eggs\", \"not_eggs\", \"not_eggs\", \"eggs\", \"not_eggs\", \"not_eggs\", \"not_eggs\", \"not_eggs\", \"eggs\", \"eggs\", \"eggs\", \"not_eggs\", \"not_eggs\", \"eggs\", \"eggs\", \"eggs\", \"eggs\", \"eggs\", \"eggs\", \"eggs\", \"eggs\", \"not_eggs\", \"not_eggs\", \"not_eggs\", \"not_eggs\", \"not_eggs\", \"not_eggs\", \"not_eggs\", \"eggs\", \"not_eggs\", \"eggs\", \"not_eggs\", \"not_eggs\", \"not_eggs\", \"eggs\", \"eggs\", \"eggs\", \"eggs\", \"eggs\", \"eggs\", \"eggs\", \"not_eggs\", \"eggs\", \"eggs\", \"eggs\", \"eggs\", \"eggs\", \"eggs\", \"eggs\", \"eggs\", \"not_eggs\", \"not_eggs\", \"eggs\", \"not_eggs\", \"eggs\", \"not_eggs\", \"eggs\", \"eggs\"]}, {\"name\": \"milk\", \"type\": \"dimension\", \"values\": [\"milk\", \"milk\", \"not_milk\", \"milk\", \"milk\", \"milk\", \"milk\", \"not_milk\", \"not_milk\", \"milk\", \"milk\", \"not_milk\", \"not_milk\", \"not_milk\", \"not_milk\", \"not_milk\", \"not_milk\", \"milk\", \"not_milk\", \"milk\", \"not_milk\", \"not_milk\", \"milk\", \"not_milk\", \"not_milk\", \"not_milk\", \"not_milk\", \"milk\", \"milk\", \"milk\", \"not_milk\", \"milk\", \"milk\", \"not_milk\", \"not_milk\", \"milk\", \"milk\", \"not_milk\", \"not_milk\", \"not_milk\", \"not_milk\", \"not_milk\", \"not_milk\", \"not_milk\", \"milk\", \"milk\", \"not_milk\", \"milk\", \"milk\", \"milk\", \"milk\", \"not_milk\", \"not_milk\", \"not_milk\", \"milk\", \"milk\", \"not_milk\", \"not_milk\", \"not_milk\", \"not_milk\", \"not_milk\", \"not_milk\", \"not_milk\", \"milk\", \"milk\", \"milk\", \"milk\", \"milk\", \"milk\", \"milk\", \"milk\", \"not_milk\", \"not_milk\", \"not_milk\", \"milk\", \"milk\", \"not_milk\", \"not_milk\", \"not_milk\", \"not_milk\", \"not_milk\", \"not_milk\", \"not_milk\", \"not_milk\", \"milk\", \"not_milk\", \"not_milk\", \"not_milk\", \"not_milk\", \"not_milk\", \"not_milk\", \"not_milk\", \"not_milk\", \"milk\", \"milk\", \"not_milk\", \"milk\", \"not_milk\", \"milk\", \"not_milk\", \"not_milk\"]}, {\"name\": \"airborne\", \"type\": \"dimension\", \"values\": [\"not_airborne\", \"not_airborne\", \"not_airborne\", \"not_airborne\", \"not_airborne\", \"not_airborne\", \"not_airborne\", \"not_airborne\", \"not_airborne\", \"not_airborne\", \"not_airborne\", \"airborne\", \"not_airborne\", \"not_airborne\", \"not_airborne\", \"not_airborne\", \"airborne\", \"not_airborne\", \"not_airborne\", \"not_airborne\", \"airborne\", \"airborne\", \"not_airborne\", \"airborne\", \"not_airborne\", \"not_airborne\", \"not_airborne\", \"airborne\", \"not_airborne\", \"not_airborne\", \"airborne\", \"not_airborne\", \"not_airborne\", \"airborne\", \"not_airborne\", \"not_airborne\", \"not_airborne\", \"airborne\", \"not_airborne\", \"airborne\", \"airborne\", \"not_airborne\", \"airborne\", \"airborne\", \"not_airborne\", \"not_airborne\", \"not_airborne\", \"not_airborne\", \"not_airborne\", \"not_airborne\", \"not_airborne\", \"airborne\", \"not_airborne\", \"not_airborne\", \"not_airborne\", \"not_airborne\", \"not_airborne\", \"airborne\", \"not_airborne\", \"airborne\", \"not_airborne\", \"not_airborne\", \"not_airborne\", \"not_airborne\", \"not_airborne\", \"not_airborne\", \"not_airborne\", \"not_airborne\", \"not_airborne\", \"not_airborne\", \"not_airborne\", \"not_airborne\", \"not_airborne\", \"not_airborne\", \"not_airborne\", \"not_airborne\", \"not_airborne\", \"not_airborne\", \"airborne\", \"airborne\", \"not_airborne\", \"not_airborne\", \"not_airborne\", \"airborne\", \"not_airborne\", \"not_airborne\", \"not_airborne\", \"airborne\", \"not_airborne\", \"not_airborne\", \"not_airborne\", \"not_airborne\", \"not_airborne\", \"airborne\", \"not_airborne\", \"airborne\", \"not_airborne\", \"airborne\", \"not_airborne\", \"not_airborne\", \"airborne\"]}, {\"name\": \"aquatic\", \"type\": \"dimension\", \"values\": [\"not_aquatic\", \"not_aquatic\", \"aquatic\", \"not_aquatic\", \"not_aquatic\", \"not_aquatic\", \"not_aquatic\", \"aquatic\", \"aquatic\", \"not_aquatic\", \"not_aquatic\", \"not_aquatic\", \"aquatic\", \"not_aquatic\", \"aquatic\", \"aquatic\", \"not_aquatic\", \"not_aquatic\", \"aquatic\", \"aquatic\", \"not_aquatic\", \"aquatic\", \"not_aquatic\", \"not_aquatic\", \"not_aquatic\", \"aquatic\", \"aquatic\", \"not_aquatic\", \"not_aquatic\", \"not_aquatic\", \"not_aquatic\", \"not_aquatic\", \"not_aquatic\", \"aquatic\", \"aquatic\", \"not_aquatic\", \"not_aquatic\", \"not_aquatic\", \"aquatic\", \"not_aquatic\", \"not_aquatic\", \"not_aquatic\", \"not_aquatic\", \"not_aquatic\", \"not_aquatic\", \"not_aquatic\", \"aquatic\", \"not_aquatic\", \"aquatic\", \"not_aquatic\", \"not_aquatic\", \"not_aquatic\", \"aquatic\", \"aquatic\", \"not_aquatic\", \"not_aquatic\", \"not_aquatic\", \"not_aquatic\", \"aquatic\", \"not_aquatic\", \"aquatic\", \"aquatic\", \"not_aquatic\", \"aquatic\", \"not_aquatic\", \"not_aquatic\", \"aquatic\", \"not_aquatic\", \"not_aquatic\", \"not_aquatic\", \"not_aquatic\", \"not_aquatic\", \"not_aquatic\", \"aquatic\", \"aquatic\", \"aquatic\", \"aquatic\", \"aquatic\", \"aquatic\", \"aquatic\", \"not_aquatic\", \"not_aquatic\", \"aquatic\", \"not_aquatic\", \"not_aquatic\", \"aquatic\", \"aquatic\", \"aquatic\", \"not_aquatic\", \"aquatic\", \"not_aquatic\", \"not_aquatic\", \"aquatic\", \"not_aquatic\", \"not_aquatic\", \"not_aquatic\", \"not_aquatic\", \"not_aquatic\", \"not_aquatic\", \"not_aquatic\", \"not_aquatic\"]}, {\"name\": \"predator\", \"type\": \"dimension\", \"values\": [\"predator\", \"not_predator\", \"predator\", \"predator\", \"predator\", \"not_predator\", \"not_predator\", \"not_predator\", \"predator\", \"not_predator\", \"predator\", \"not_predator\", \"predator\", \"predator\", \"predator\", \"predator\", \"predator\", \"not_predator\", \"predator\", \"predator\", \"not_predator\", \"not_predator\", \"not_predator\", \"not_predator\", \"not_predator\", \"predator\", \"predator\", \"not_predator\", \"not_predator\", \"predator\", \"not_predator\", \"not_predator\", \"not_predator\", \"predator\", \"not_predator\", \"not_predator\", \"not_predator\", \"predator\", \"predator\", \"not_predator\", \"not_predator\", \"predator\", \"predator\", \"not_predator\", \"predator\", \"predator\", \"predator\", \"predator\", \"predator\", \"predator\", \"predator\", \"not_predator\", \"predator\", \"predator\", \"predator\", \"not_predator\", \"not_predator\", \"not_predator\", \"predator\", \"not_predator\", \"predator\", \"predator\", \"predator\", \"predator\", \"predator\", \"not_predator\", \"predator\", \"predator\", \"predator\", \"predator\", \"not_predator\", \"predator\", \"predator\", \"not_predator\", \"predator\", \"predator\", \"predator\", \"predator\", \"predator\", \"predator\", \"predator\", \"not_predator\", \"not_predator\", \"not_predator\", \"not_predator\", \"predator\", \"predator\", \"not_predator\", \"not_predator\", \"not_predator\", \"not_predator\", \"predator\", \"predator\", \"not_predator\", \"not_predator\", \"predator\", \"not_predator\", \"not_predator\", \"predator\", \"not_predator\", \"not_predator\"]}, {\"name\": \"toothed\", \"type\": \"dimension\", \"values\": [\"toothed\", \"toothed\", \"toothed\", \"toothed\", \"toothed\", \"toothed\", \"toothed\", \"toothed\", \"toothed\", \"toothed\", \"toothed\", \"not_toothed\", \"toothed\", \"not_toothed\", \"not_toothed\", \"not_toothed\", \"not_toothed\", \"toothed\", \"toothed\", \"toothed\", \"not_toothed\", \"not_toothed\", \"toothed\", \"not_toothed\", \"not_toothed\", \"toothed\", \"toothed\", \"toothed\", \"toothed\", \"toothed\", \"not_toothed\", \"toothed\", \"toothed\", \"not_toothed\", \"toothed\", \"toothed\", \"toothed\", \"not_toothed\", \"toothed\", \"not_toothed\", \"not_toothed\", \"not_toothed\", \"not_toothed\", \"not_toothed\", \"toothed\", \"toothed\", \"not_toothed\", \"toothed\", \"toothed\", \"toothed\", \"toothed\", \"not_toothed\", \"toothed\", \"not_toothed\", \"toothed\", \"toothed\", \"not_toothed\", \"not_toothed\", \"not_toothed\", \"not_toothed\", \"toothed\", \"toothed\", \"toothed\", \"not_toothed\", \"toothed\", \"toothed\", \"toothed\", \"toothed\", \"toothed\", \"toothed\", \"toothed\", \"not_toothed\", \"not_toothed\", \"toothed\", \"toothed\", \"toothed\", \"toothed\", \"not_toothed\", \"not_toothed\", \"not_toothed\", \"toothed\", \"not_toothed\", \"toothed\", \"not_toothed\", \"toothed\", \"not_toothed\", \"toothed\", \"not_toothed\", \"not_toothed\", \"toothed\", \"not_toothed\", \"toothed\", \"toothed\", \"toothed\", \"toothed\", \"not_toothed\", \"toothed\", \"not_toothed\", \"toothed\", \"not_toothed\", \"not_toothed\"]}, {\"name\": \"backbone\", \"type\": \"dimension\", \"values\": [\"backbone\", \"backbone\", \"backbone\", \"backbone\", \"backbone\", \"backbone\", \"backbone\", \"backbone\", \"backbone\", \"backbone\", \"backbone\", \"backbone\", \"backbone\", \"not_backbone\", \"not_backbone\", \"not_backbone\", \"backbone\", \"backbone\", \"backbone\", \"backbone\", \"backbone\", \"backbone\", \"backbone\", \"backbone\", \"not_backbone\", \"backbone\", \"backbone\", \"backbone\", \"backbone\", \"backbone\", \"not_backbone\", \"backbone\", \"backbone\", \"backbone\", \"backbone\", \"backbone\", \"backbone\", \"backbone\", \"backbone\", \"not_backbone\", \"not_backbone\", \"backbone\", \"not_backbone\", \"backbone\", \"backbone\", \"backbone\", \"not_backbone\", \"backbone\", \"backbone\", \"backbone\", \"backbone\", \"not_backbone\", \"backbone\", \"not_backbone\", \"backbone\", \"backbone\", \"backbone\", \"backbone\", \"backbone\", \"backbone\", \"backbone\", \"backbone\", \"backbone\", \"backbone\", \"backbone\", \"backbone\", \"backbone\", \"backbone\", \"backbone\", \"backbone\", \"backbone\", \"backbone\", \"not_backbone\", \"backbone\", \"backbone\", \"backbone\", \"backbone\", \"not_backbone\", \"backbone\", \"backbone\", \"backbone\", \"not_backbone\", \"backbone\", \"backbone\", \"backbone\", \"not_backbone\", \"backbone\", \"backbone\", \"not_backbone\", \"backbone\", \"backbone\", \"backbone\", \"backbone\", \"backbone\", \"backbone\", \"backbone\", \"backbone\", \"not_backbone\", \"backbone\", \"not_backbone\", \"backbone\"]}, {\"name\": \"breathes\", \"type\": \"dimension\", \"values\": [\"breathes\", \"breathes\", \"not_breathes\", \"breathes\", \"breathes\", \"breathes\", \"breathes\", \"not_breathes\", \"not_breathes\", \"breathes\", \"breathes\", \"breathes\", \"not_breathes\", \"not_breathes\", \"not_breathes\", \"not_breathes\", \"breathes\", \"breathes\", \"not_breathes\", \"breathes\", \"breathes\", \"breathes\", \"breathes\", \"breathes\", \"breathes\", \"breathes\", \"breathes\", \"breathes\", \"breathes\", \"breathes\", \"breathes\", \"breathes\", \"breathes\", \"breathes\", \"not_breathes\", \"breathes\", \"breathes\", \"breathes\", \"not_breathes\", \"breathes\", \"breathes\", \"breathes\", \"breathes\", \"breathes\", \"breathes\", \"breathes\", \"not_breathes\", \"breathes\", \"breathes\", \"breathes\", \"breathes\", \"breathes\", \"breathes\", \"not_breathes\", \"breathes\", \"breathes\", \"breathes\", \"breathes\", \"breathes\", \"breathes\", \"not_breathes\", \"not_breathes\", \"breathes\", \"breathes\", \"breathes\", \"breathes\", \"breathes\", \"breathes\", \"breathes\", \"breathes\", \"breathes\", \"breathes\", \"breathes\", \"not_breathes\", \"breathes\", \"breathes\", \"not_breathes\", \"not_breathes\", \"breathes\", \"breathes\", \"breathes\", \"breathes\", \"not_breathes\", \"breathes\", \"breathes\", \"not_breathes\", \"not_breathes\", \"breathes\", \"breathes\", \"breathes\", \"breathes\", \"breathes\", \"not_breathes\", \"breathes\", \"breathes\", \"breathes\", \"breathes\", \"breathes\", \"breathes\", \"breathes\", \"breathes\"]}, {\"name\": \"venomous\", \"type\": \"dimension\", \"values\": [\"not_venomous\", \"not_venomous\", \"not_venomous\", \"not_venomous\", \"not_venomous\", \"not_venomous\", \"not_venomous\", \"not_venomous\", \"not_venomous\", \"not_venomous\", \"not_venomous\", \"not_venomous\", \"not_venomous\", \"not_venomous\", \"not_venomous\", \"not_venomous\", \"not_venomous\", \"not_venomous\", \"not_venomous\", \"not_venomous\", \"not_venomous\", \"not_venomous\", \"not_venomous\", \"not_venomous\", \"not_venomous\", \"not_venomous\", \"venomous\", \"not_venomous\", \"not_venomous\", \"not_venomous\", \"not_venomous\", \"not_venomous\", \"not_venomous\", \"not_venomous\", \"not_venomous\", \"not_venomous\", \"not_venomous\", \"not_venomous\", \"not_venomous\", \"venomous\", \"not_venomous\", \"not_venomous\", \"not_venomous\", \"not_venomous\", \"not_venomous\", \"not_venomous\", \"not_venomous\", \"not_venomous\", \"not_venomous\", \"not_venomous\", \"not_venomous\", \"not_venomous\", \"not_venomous\", \"not_venomous\", \"not_venomous\", \"not_venomous\", \"not_venomous\", \"not_venomous\", \"not_venomous\", \"not_venomous\", \"not_venomous\", \"not_venomous\", \"venomous\", \"not_venomous\", \"not_venomous\", \"not_venomous\", \"not_venomous\", \"not_venomous\", \"not_venomous\", \"not_venomous\", \"not_venomous\", \"not_venomous\", \"venomous\", \"not_venomous\", \"not_venomous\", \"not_venomous\", \"venomous\", \"venomous\", \"not_venomous\", \"not_venomous\", \"not_venomous\", \"not_venomous\", \"not_venomous\", \"not_venomous\", \"not_venomous\", \"not_venomous\", \"venomous\", \"not_venomous\", \"not_venomous\", \"not_venomous\", \"not_venomous\", \"not_venomous\", \"not_venomous\", \"not_venomous\", \"not_venomous\", \"not_venomous\", \"not_venomous\", \"venomous\", \"not_venomous\", \"not_venomous\", \"not_venomous\"]}, {\"name\": \"fins\", \"type\": \"dimension\", \"values\": [\"not_fins\", \"not_fins\", \"fins\", \"not_fins\", \"not_fins\", \"not_fins\", \"not_fins\", \"fins\", \"fins\", \"not_fins\", \"not_fins\", \"not_fins\", \"fins\", \"not_fins\", \"not_fins\", \"not_fins\", \"not_fins\", \"not_fins\", \"fins\", \"fins\", \"not_fins\", \"not_fins\", \"not_fins\", \"not_fins\", \"not_fins\", \"not_fins\", \"not_fins\", \"not_fins\", \"not_fins\", \"not_fins\", \"not_fins\", \"not_fins\", \"not_fins\", \"not_fins\", \"fins\", \"not_fins\", \"not_fins\", \"not_fins\", \"fins\", \"not_fins\", \"not_fins\", \"not_fins\", \"not_fins\", \"not_fins\", \"not_fins\", \"not_fins\", \"not_fins\", \"not_fins\", \"not_fins\", \"not_fins\", \"not_fins\", \"not_fins\", \"not_fins\", \"not_fins\", \"not_fins\", \"not_fins\", \"not_fins\", \"not_fins\", \"not_fins\", \"not_fins\", \"fins\", \"fins\", \"not_fins\", \"not_fins\", \"not_fins\", \"not_fins\", \"fins\", \"not_fins\", \"not_fins\", \"not_fins\", \"not_fins\", \"not_fins\", \"not_fins\", \"fins\", \"fins\", \"fins\", \"not_fins\", \"not_fins\", \"not_fins\", \"not_fins\", \"not_fins\", \"not_fins\", \"fins\", \"not_fins\", \"not_fins\", \"not_fins\", \"fins\", \"not_fins\", \"not_fins\", \"not_fins\", \"not_fins\", \"not_fins\", \"fins\", \"not_fins\", \"not_fins\", \"not_fins\", \"not_fins\", \"not_fins\", \"not_fins\", \"not_fins\", \"not_fins\"]}, {\"name\": \"legs\", \"type\": \"measure\", \"values\": [4.0, 4.0, 0.0, 4.0, 4.0, 4.0, 4.0, 0.0, 0.0, 4.0, 4.0, 2.0, 0.0, 0.0, 4.0, 6.0, 2.0, 4.0, 0.0, 0.0, 2.0, 2.0, 4.0, 2.0, 6.0, 4.0, 4.0, 2.0, 4.0, 2.0, 6.0, 4.0, 2.0, 2.0, 0.0, 4.0, 4.0, 2.0, 0.0, 6.0, 6.0, 2.0, 6.0, 2.0, 4.0, 4.0, 6.0, 4.0, 4.0, 4.0, 4.0, 6.0, 4.0, 8.0, 4.0, 4.0, 2.0, 2.0, 2.0, 2.0, 0.0, 0.0, 0.0, 4.0, 4.0, 4.0, 0.0, 4.0, 4.0, 4.0, 4.0, 2.0, 8.0, 0.0, 0.0, 2.0, 0.0, 0.0, 2.0, 2.0, 0.0, 0.0, 0.0, 2.0, 2.0, 5.0, 0.0, 2.0, 6.0, 4.0, 4.0, 4.0, 0.0, 2.0, 4.0, 2.0, 2.0, 6.0, 4.0, 0.0, 2.0]}, {\"name\": \"tail\", \"type\": \"dimension\", \"values\": [\"not_tail\", \"tail\", \"tail\", \"not_tail\", \"tail\", \"tail\", \"tail\", \"tail\", \"tail\", \"not_tail\", \"tail\", \"tail\", \"tail\", \"not_tail\", \"not_tail\", \"not_tail\", \"tail\", \"tail\", \"tail\", \"tail\", \"tail\", \"tail\", \"tail\", \"tail\", \"not_tail\", \"not_tail\", \"not_tail\", \"tail\", \"tail\", \"not_tail\", \"not_tail\", \"tail\", \"not_tail\", \"tail\", \"tail\", \"tail\", \"tail\", \"tail\", \"tail\", \"not_tail\", \"not_tail\", \"tail\", \"not_tail\", \"tail\", \"tail\", \"tail\", \"not_tail\", \"tail\", \"tail\", \"tail\", \"tail\", \"not_tail\", \"tail\", \"not_tail\", \"tail\", \"tail\", \"tail\", \"tail\", \"tail\", \"tail\", \"tail\", \"tail\", \"tail\", \"tail\", \"tail\", \"tail\", \"tail\", \"tail\", \"tail\", \"tail\", \"tail\", \"tail\", \"tail\", \"tail\", \"not_tail\", \"tail\", \"tail\", \"not_tail\", \"tail\", \"tail\", \"tail\", \"not_tail\", \"tail\", \"tail\", \"tail\", \"not_tail\", \"tail\", \"tail\", \"not_tail\", \"not_tail\", \"tail\", \"tail\", \"tail\", \"tail\", \"tail\", \"tail\", \"tail\", \"not_tail\", \"tail\", \"not_tail\", \"tail\"]}, {\"name\": \"domestic\", \"type\": \"dimension\", \"values\": [\"not_domestic\", \"not_domestic\", \"not_domestic\", \"not_domestic\", \"not_domestic\", \"not_domestic\", \"domestic\", \"domestic\", \"not_domestic\", \"domestic\", \"not_domestic\", \"domestic\", \"not_domestic\", \"not_domestic\", \"not_domestic\", \"not_domestic\", \"not_domestic\", \"not_domestic\", \"not_domestic\", \"not_domestic\", \"domestic\", \"not_domestic\", \"not_domestic\", \"not_domestic\", \"not_domestic\", \"not_domestic\", \"not_domestic\", \"not_domestic\", \"not_domestic\", \"domestic\", \"not_domestic\", \"domestic\", \"not_domestic\", \"not_domestic\", \"not_domestic\", \"domestic\", \"not_domestic\", \"not_domestic\", \"not_domestic\", \"domestic\", \"not_domestic\", \"not_domestic\", \"not_domestic\", \"not_domestic\", \"not_domestic\", \"not_domestic\", \"not_domestic\", \"not_domestic\", \"not_domestic\", \"not_domestic\", \"not_domestic\", \"not_domestic\", \"not_domestic\", \"not_domestic\", \"not_domestic\", \"not_domestic\", \"not_domestic\", \"domestic\", \"not_domestic\", \"not_domestic\", \"not_domestic\", \"not_domestic\", \"not_domestic\", \"not_domestic\", \"not_domestic\", \"domestic\", \"not_domestic\", \"not_domestic\", \"domestic\", \"not_domestic\", \"domestic\", \"not_domestic\", \"not_domestic\", \"not_domestic\", \"not_domestic\", \"not_domestic\", \"not_domestic\", \"not_domestic\", \"not_domestic\", \"not_domestic\", \"not_domestic\", \"not_domestic\", \"not_domestic\", \"not_domestic\", \"not_domestic\", \"not_domestic\", \"not_domestic\", \"not_domestic\", \"not_domestic\", \"not_domestic\", \"not_domestic\", \"not_domestic\", \"not_domestic\", \"not_domestic\", \"not_domestic\", \"not_domestic\", \"not_domestic\", \"not_domestic\", \"not_domestic\", \"not_domestic\", \"not_domestic\"]}, {\"name\": \"catsize\", \"type\": \"dimension\", \"values\": [\"catsize\", \"catsize\", \"not_catsize\", \"catsize\", \"catsize\", \"catsize\", \"catsize\", \"not_catsize\", \"not_catsize\", \"not_catsize\", \"catsize\", \"not_catsize\", \"not_catsize\", \"not_catsize\", \"not_catsize\", \"not_catsize\", \"not_catsize\", \"catsize\", \"catsize\", \"catsize\", \"not_catsize\", \"not_catsize\", \"catsize\", \"catsize\", \"not_catsize\", \"not_catsize\", \"not_catsize\", \"not_catsize\", \"catsize\", \"catsize\", \"not_catsize\", \"catsize\", \"catsize\", \"not_catsize\", \"not_catsize\", \"not_catsize\", \"not_catsize\", \"not_catsize\", \"not_catsize\", \"not_catsize\", \"not_catsize\", \"not_catsize\", \"not_catsize\", \"not_catsize\", \"catsize\", \"catsize\", \"not_catsize\", \"catsize\", \"catsize\", \"not_catsize\", \"catsize\", \"not_catsize\", \"not_catsize\", \"catsize\", \"not_catsize\", \"catsize\", \"catsize\", \"not_catsize\", \"catsize\", \"not_catsize\", \"catsize\", \"not_catsize\", \"not_catsize\", \"catsize\", \"catsize\", \"catsize\", \"catsize\", \"catsize\", \"catsize\", \"catsize\", \"catsize\", \"catsize\", \"not_catsize\", \"not_catsize\", \"catsize\", \"catsize\", \"not_catsize\", \"not_catsize\", \"not_catsize\", \"not_catsize\", \"not_catsize\", \"not_catsize\", \"not_catsize\", \"not_catsize\", \"not_catsize\", \"not_catsize\", \"catsize\", \"catsize\", \"not_catsize\", \"not_catsize\", \"catsize\", \"not_catsize\", \"catsize\", \"not_catsize\", \"not_catsize\", \"catsize\", \"catsize\", \"not_catsize\", \"catsize\", \"not_catsize\", \"not_catsize\"]}, {\"name\": \"type\", \"type\": \"dimension\", \"values\": [\"mammal\", \"mammal\", \"fish\", \"mammal\", \"mammal\", \"mammal\", \"mammal\", \"fish\", \"fish\", \"mammal\", \"mammal\", \"bird\", \"fish\", \"invertebrate\", \"invertebrate\", \"invertebrate\", \"bird\", \"mammal\", \"fish\", \"mammal\", \"bird\", \"bird\", \"mammal\", \"bird\", \"insect\", \"amphibian\", \"amphibian\", \"mammal\", \"mammal\", \"mammal\", \"insect\", \"mammal\", \"mammal\", \"bird\", \"fish\", \"mammal\", \"mammal\", \"bird\", \"fish\", \"insect\", \"insect\", \"bird\", \"insect\", \"bird\", \"mammal\", \"mammal\", \"invertebrate\", \"mammal\", \"mammal\", \"mammal\", \"mammal\", \"insect\", \"amphibian\", \"invertebrate\", \"mammal\", \"mammal\", \"bird\", \"bird\", \"bird\", \"bird\", \"fish\", \"fish\", \"reptile\", \"mammal\", \"mammal\", \"mammal\", \"mammal\", \"mammal\", \"mammal\", \"mammal\", \"mammal\", \"bird\", \"invertebrate\", \"fish\", \"mammal\", \"mammal\", \"reptile\", \"invertebrate\", \"bird\", \"bird\", \"reptile\", \"invertebrate\", \"fish\", \"bird\", \"mammal\", \"invertebrate\", \"fish\", \"bird\", \"insect\", \"amphibian\", \"reptile\", \"reptile\", \"fish\", \"mammal\", \"mammal\", \"bird\", \"mammal\", \"insect\", \"mammal\", \"invertebrate\", \"bird\"]}, {\"name\": \"Count\", \"type\": \"measure\", \"values\": [1.0, 1.0, 1.0, 1.0, 1.0, 1.0, 1.0, 1.0, 1.0, 1.0, 1.0, 1.0, 1.0, 1.0, 1.0, 1.0, 1.0, 1.0, 1.0, 1.0, 1.0, 1.0, 1.0, 1.0, 1.0, 1.0, 1.0, 1.0, 1.0, 1.0, 1.0, 1.0, 1.0, 1.0, 1.0, 1.0, 1.0, 1.0, 1.0, 1.0, 1.0, 1.0, 1.0, 1.0, 1.0, 1.0, 1.0, 1.0, 1.0, 1.0, 1.0, 1.0, 1.0, 1.0, 1.0, 1.0, 1.0, 1.0, 1.0, 1.0, 1.0, 1.0, 1.0, 1.0, 1.0, 1.0, 1.0, 1.0, 1.0, 1.0, 1.0, 1.0, 1.0, 1.0, 1.0, 1.0, 1.0, 1.0, 1.0, 1.0, 1.0, 1.0, 1.0, 1.0, 1.0, 1.0, 1.0, 1.0, 1.0, 1.0, 1.0, 1.0, 1.0, 1.0, 1.0, 1.0, 1.0, 1.0, 1.0, 1.0, 1.0]}]}});\n",
       "    });\n",
       "</script>"
      ]
     },
     "metadata": {},
     "output_type": "display_data"
    },
    {
     "data": {
      "text/html": [
       "<script id=\"myVizzu_d1cfe04\">\n",
       "    let display_d1cfe04 = myVizzu_d1cfe04.parentNode.parentNode.style.display;\n",
       "    myVizzu_d1cfe04.parentNode.parentNode.style.display = \"none\";\n",
       "    chart_c0c6cf1 = chart_c0c6cf1.then(chart => {\n",
       "        if (myVizzu_c0c6cf1.parentNode && myVizzu_c0c6cf1.parentNode.parentNode) {\n",
       "            myVizzu_c0c6cf1.parentNode.parentNode.style.display = \"none\";\n",
       "        }\n",
       "        myVizzu_d1cfe04.parentNode.parentNode.style.display = display_d1cfe04;\n",
       "        myVizzu_d1cfe04.parentNode.insertBefore(myVizzu_c0c6cf1, myVizzu_d1cfe04);\n",
       "        if (!document.inhibitScroll && true) {\n",
       "            myVizzu_c0c6cf1.scrollIntoView({behavior: \"auto\", block: \"center\"});\n",
       "        }\n",
       "        return chart.animate({\"config\": {\"x\": \"Count\", \"y\": \"type\", \"label\": \"Count\", \"title\": \"Animals in the zoo\"}});\n",
       "    });\n",
       "</script>"
      ]
     },
     "metadata": {},
     "output_type": "display_data"
    },
    {
     "data": {
      "application/javascript": [
       "\n",
       "            setTimeout(function() {\n",
       "                var nbb_cell_id = 27;\n",
       "                var nbb_unformatted_code = \"from ipyvizzu import Chart, Data, Config, Style\\n\\ndata = Data()\\ndata.add_data_frame(zoo)\\n\\nchart = Chart(width=\\\"640px\\\", height=\\\"360px\\\")\\n\\nchart.animate(data)\\n\\nchart.animate(\\n    Config({\\\"x\\\": \\\"Count\\\", \\\"y\\\": \\\"type\\\", \\\"label\\\": \\\"Count\\\", \\\"title\\\": \\\"Animals in the zoo\\\"})\\n)\";\n",
       "                var nbb_formatted_code = \"from ipyvizzu import Chart, Data, Config, Style\\n\\ndata = Data()\\ndata.add_data_frame(zoo)\\n\\nchart = Chart(width=\\\"640px\\\", height=\\\"360px\\\")\\n\\nchart.animate(data)\\n\\nchart.animate(\\n    Config({\\\"x\\\": \\\"Count\\\", \\\"y\\\": \\\"type\\\", \\\"label\\\": \\\"Count\\\", \\\"title\\\": \\\"Animals in the zoo\\\"})\\n)\";\n",
       "                var nbb_cells = Jupyter.notebook.get_cells();\n",
       "                for (var i = 0; i < nbb_cells.length; ++i) {\n",
       "                    if (nbb_cells[i].input_prompt_number == nbb_cell_id) {\n",
       "                        if (nbb_cells[i].get_text() == nbb_unformatted_code) {\n",
       "                             nbb_cells[i].set_text(nbb_formatted_code);\n",
       "                        }\n",
       "                        break;\n",
       "                    }\n",
       "                }\n",
       "            }, 500);\n",
       "            "
      ],
      "text/plain": [
       "<IPython.core.display.Javascript object>"
      ]
     },
     "metadata": {},
     "output_type": "display_data"
    }
   ],
   "source": [
    "from ipyvizzu import Chart, Data, Config, Style\n",
    "\n",
    "data = Data()\n",
    "data.add_data_frame(zoo)\n",
    "\n",
    "chart = Chart(width=\"640px\", height=\"360px\")\n",
    "\n",
    "chart.animate(data)\n",
    "\n",
    "chart.animate(\n",
    "    Config({\"x\": \"Count\", \"y\": \"type\", \"label\": \"Count\", \"title\": \"Animals in the zoo\"})\n",
    ")"
   ]
  },
  {
   "cell_type": "code",
   "execution_count": 28,
   "id": "174aafde",
   "metadata": {
    "ExecuteTime": {
     "end_time": "2022-04-10T12:30:21.931617Z",
     "start_time": "2022-04-10T12:30:21.922316Z"
    }
   },
   "outputs": [
    {
     "data": {
      "text/html": [
       "<script id=\"myVizzu_6e4643c\">\n",
       "    document.inhibitScroll = false;\n",
       "</script>"
      ]
     },
     "metadata": {},
     "output_type": "display_data"
    },
    {
     "data": {
      "text/html": [
       "<script id=\"myVizzu_34d6267\">\n",
       "    document.inhibitScroll = false;\n",
       "</script>"
      ]
     },
     "metadata": {},
     "output_type": "display_data"
    },
    {
     "data": {
      "text/html": [
       "<script id=\"myVizzu_984cec6\">\n",
       "    document.inhibitScroll = false;\n",
       "</script>"
      ]
     },
     "metadata": {},
     "output_type": "display_data"
    },
    {
     "data": {
      "text/html": [
       "<script id=\"myVizzu_415b653\">\n",
       "    document.inhibitScroll = false;\n",
       "</script>"
      ]
     },
     "metadata": {},
     "output_type": "display_data"
    },
    {
     "data": {
      "text/html": [
       "<script id=\"myVizzu_f245a3d\">\n",
       "    document.inhibitScroll = false;\n",
       "</script>"
      ]
     },
     "metadata": {},
     "output_type": "display_data"
    },
    {
     "data": {
      "text/html": [
       "<script id=\"myVizzu_7d63548\">\n",
       "    document.inhibitScroll = false;\n",
       "</script>"
      ]
     },
     "metadata": {},
     "output_type": "display_data"
    },
    {
     "data": {
      "text/html": [
       "<script id=\"myVizzu_fb19cf5\">\n",
       "    document.inhibitScroll = false;\n",
       "</script>"
      ]
     },
     "metadata": {},
     "output_type": "display_data"
    },
    {
     "data": {
      "text/html": [
       "<script id=\"myVizzu_5f952c9\">\n",
       "    let display_5f952c9 = myVizzu_5f952c9.parentNode.parentNode.style.display;\n",
       "    myVizzu_5f952c9.parentNode.parentNode.style.display = \"none\";\n",
       "    chart_c0c6cf1 = chart_c0c6cf1.then(chart => {\n",
       "        if (myVizzu_c0c6cf1.parentNode && myVizzu_c0c6cf1.parentNode.parentNode) {\n",
       "            myVizzu_c0c6cf1.parentNode.parentNode.style.display = \"none\";\n",
       "        }\n",
       "        myVizzu_5f952c9.parentNode.parentNode.style.display = display_5f952c9;\n",
       "        myVizzu_5f952c9.parentNode.insertBefore(myVizzu_c0c6cf1, myVizzu_5f952c9);\n",
       "        if (!document.inhibitScroll && true) {\n",
       "            myVizzu_c0c6cf1.scrollIntoView({behavior: \"auto\", block: \"center\"});\n",
       "        }\n",
       "        return chart.animate({\"config\": {\"x\": [\"Count\", \"eggs\"], \"label\": [\"Count\", \"eggs\"], \"color\": \"eggs\"}});\n",
       "    });\n",
       "</script>"
      ]
     },
     "metadata": {},
     "output_type": "display_data"
    },
    {
     "data": {
      "application/javascript": [
       "\n",
       "            setTimeout(function() {\n",
       "                var nbb_cell_id = 28;\n",
       "                var nbb_unformatted_code = \"chart.animate(\\n    Config(\\n        {\\n            \\\"x\\\": [\\\"Count\\\", \\\"eggs\\\"],\\n            \\\"label\\\": [\\\"Count\\\", \\\"eggs\\\"],\\n            \\\"color\\\": \\\"eggs\\\",\\n        }\\n    )\\n)\";\n",
       "                var nbb_formatted_code = \"chart.animate(\\n    Config(\\n        {\\n            \\\"x\\\": [\\\"Count\\\", \\\"eggs\\\"],\\n            \\\"label\\\": [\\\"Count\\\", \\\"eggs\\\"],\\n            \\\"color\\\": \\\"eggs\\\",\\n        }\\n    )\\n)\";\n",
       "                var nbb_cells = Jupyter.notebook.get_cells();\n",
       "                for (var i = 0; i < nbb_cells.length; ++i) {\n",
       "                    if (nbb_cells[i].input_prompt_number == nbb_cell_id) {\n",
       "                        if (nbb_cells[i].get_text() == nbb_unformatted_code) {\n",
       "                             nbb_cells[i].set_text(nbb_formatted_code);\n",
       "                        }\n",
       "                        break;\n",
       "                    }\n",
       "                }\n",
       "            }, 500);\n",
       "            "
      ],
      "text/plain": [
       "<IPython.core.display.Javascript object>"
      ]
     },
     "metadata": {},
     "output_type": "display_data"
    }
   ],
   "source": [
    "chart.animate(\n",
    "    Config(\n",
    "        {\n",
    "            \"x\": [\"Count\", \"eggs\"],\n",
    "            \"label\": [\"Count\", \"eggs\"],\n",
    "            \"color\": \"eggs\",\n",
    "        }\n",
    "    )\n",
    ")"
   ]
  },
  {
   "cell_type": "code",
   "execution_count": 29,
   "id": "cec34b51",
   "metadata": {
    "ExecuteTime": {
     "end_time": "2022-04-10T12:30:22.412598Z",
     "start_time": "2022-04-10T12:30:22.402641Z"
    }
   },
   "outputs": [
    {
     "data": {
      "text/html": [
       "<script id=\"myVizzu_0e53f7a\">\n",
       "    document.inhibitScroll = false;\n",
       "</script>"
      ]
     },
     "metadata": {},
     "output_type": "display_data"
    },
    {
     "data": {
      "text/html": [
       "<script id=\"myVizzu_b113d60\">\n",
       "    document.inhibitScroll = false;\n",
       "</script>"
      ]
     },
     "metadata": {},
     "output_type": "display_data"
    },
    {
     "data": {
      "text/html": [
       "<script id=\"myVizzu_204e482\">\n",
       "    document.inhibitScroll = false;\n",
       "</script>"
      ]
     },
     "metadata": {},
     "output_type": "display_data"
    },
    {
     "data": {
      "text/html": [
       "<script id=\"myVizzu_e8de97d\">\n",
       "    document.inhibitScroll = false;\n",
       "</script>"
      ]
     },
     "metadata": {},
     "output_type": "display_data"
    },
    {
     "data": {
      "text/html": [
       "<script id=\"myVizzu_8649e95\">\n",
       "    document.inhibitScroll = false;\n",
       "</script>"
      ]
     },
     "metadata": {},
     "output_type": "display_data"
    },
    {
     "data": {
      "text/html": [
       "<script id=\"myVizzu_63212ad\">\n",
       "    document.inhibitScroll = false;\n",
       "</script>"
      ]
     },
     "metadata": {},
     "output_type": "display_data"
    },
    {
     "data": {
      "text/html": [
       "<script id=\"myVizzu_b3ce2a3\">\n",
       "    document.inhibitScroll = false;\n",
       "</script>"
      ]
     },
     "metadata": {},
     "output_type": "display_data"
    },
    {
     "data": {
      "text/html": [
       "<script id=\"myVizzu_84a21b5\">\n",
       "    let display_84a21b5 = myVizzu_84a21b5.parentNode.parentNode.style.display;\n",
       "    myVizzu_84a21b5.parentNode.parentNode.style.display = \"none\";\n",
       "    chart_c0c6cf1 = chart_c0c6cf1.then(chart => {\n",
       "        if (myVizzu_c0c6cf1.parentNode && myVizzu_c0c6cf1.parentNode.parentNode) {\n",
       "            myVizzu_c0c6cf1.parentNode.parentNode.style.display = \"none\";\n",
       "        }\n",
       "        myVizzu_84a21b5.parentNode.parentNode.style.display = display_84a21b5;\n",
       "        myVizzu_84a21b5.parentNode.insertBefore(myVizzu_c0c6cf1, myVizzu_84a21b5);\n",
       "        if (!document.inhibitScroll && true) {\n",
       "            myVizzu_c0c6cf1.scrollIntoView({behavior: \"auto\", block: \"center\"});\n",
       "        }\n",
       "        return chart.animate({\"config\": {\"x\": \"Count\", \"y\": [\"type\", \"eggs\"]}});\n",
       "    });\n",
       "</script>"
      ]
     },
     "metadata": {},
     "output_type": "display_data"
    },
    {
     "data": {
      "application/javascript": [
       "\n",
       "            setTimeout(function() {\n",
       "                var nbb_cell_id = 29;\n",
       "                var nbb_unformatted_code = \"chart.animate(Config({\\\"x\\\": \\\"Count\\\", \\\"y\\\": [\\\"type\\\", \\\"eggs\\\"]}))\";\n",
       "                var nbb_formatted_code = \"chart.animate(Config({\\\"x\\\": \\\"Count\\\", \\\"y\\\": [\\\"type\\\", \\\"eggs\\\"]}))\";\n",
       "                var nbb_cells = Jupyter.notebook.get_cells();\n",
       "                for (var i = 0; i < nbb_cells.length; ++i) {\n",
       "                    if (nbb_cells[i].input_prompt_number == nbb_cell_id) {\n",
       "                        if (nbb_cells[i].get_text() == nbb_unformatted_code) {\n",
       "                             nbb_cells[i].set_text(nbb_formatted_code);\n",
       "                        }\n",
       "                        break;\n",
       "                    }\n",
       "                }\n",
       "            }, 500);\n",
       "            "
      ],
      "text/plain": [
       "<IPython.core.display.Javascript object>"
      ]
     },
     "metadata": {},
     "output_type": "display_data"
    }
   ],
   "source": [
    "chart.animate(Config({\"x\": \"Count\", \"y\": [\"type\", \"eggs\"]}))"
   ]
  },
  {
   "cell_type": "code",
   "execution_count": 30,
   "id": "64c4191a",
   "metadata": {
    "ExecuteTime": {
     "end_time": "2022-04-10T12:30:22.818830Z",
     "start_time": "2022-04-10T12:30:22.802059Z"
    }
   },
   "outputs": [
    {
     "data": {
      "text/html": [
       "<script id=\"myVizzu_31f2dfc\">\n",
       "    document.inhibitScroll = false;\n",
       "</script>"
      ]
     },
     "metadata": {},
     "output_type": "display_data"
    },
    {
     "data": {
      "text/html": [
       "<script id=\"myVizzu_5b0f416\">\n",
       "    document.inhibitScroll = false;\n",
       "</script>"
      ]
     },
     "metadata": {},
     "output_type": "display_data"
    },
    {
     "data": {
      "text/html": [
       "<script id=\"myVizzu_403a919\">\n",
       "    document.inhibitScroll = false;\n",
       "</script>"
      ]
     },
     "metadata": {},
     "output_type": "display_data"
    },
    {
     "data": {
      "text/html": [
       "<script id=\"myVizzu_d6efb3c\">\n",
       "    document.inhibitScroll = false;\n",
       "</script>"
      ]
     },
     "metadata": {},
     "output_type": "display_data"
    },
    {
     "data": {
      "text/html": [
       "<script id=\"myVizzu_ee83d3f\">\n",
       "    document.inhibitScroll = false;\n",
       "</script>"
      ]
     },
     "metadata": {},
     "output_type": "display_data"
    },
    {
     "data": {
      "text/html": [
       "<script id=\"myVizzu_98bc51c\">\n",
       "    document.inhibitScroll = false;\n",
       "</script>"
      ]
     },
     "metadata": {},
     "output_type": "display_data"
    },
    {
     "data": {
      "text/html": [
       "<script id=\"myVizzu_374b815\">\n",
       "    document.inhibitScroll = false;\n",
       "</script>"
      ]
     },
     "metadata": {},
     "output_type": "display_data"
    },
    {
     "data": {
      "text/html": [
       "<script id=\"myVizzu_ba661c2\">\n",
       "    document.inhibitScroll = false;\n",
       "    document.addEventListener('wheel', function (evt) { document.inhibitScroll = true }, true);\n",
       "    document.addEventListener('keydown', function (evt) { document.inhibitScroll = true }, true);\n",
       "    document.addEventListener('touchstart', function (evt) { document.inhibitScroll = true }, true);\n",
       "    let myVizzu_04598ac = document.createElement(\"div\");\n",
       "    myVizzu_04598ac.style.cssText = \"width: 640px; height: 360px;\";\n",
       "    let chart_04598ac = import(\"https://cdn.jsdelivr.net/npm/vizzu@~0.4.0/dist/vizzu.min.js\").then(Vizzu => new Vizzu.default(myVizzu_04598ac).initializing);\n",
       "    myVizzu_ba661c2.parentNode.insertBefore(myVizzu_04598ac, myVizzu_ba661c2);\n",
       "</script>"
      ]
     },
     "metadata": {},
     "output_type": "display_data"
    },
    {
     "data": {
      "text/html": [
       "<script id=\"myVizzu_72e4f6f\">\n",
       "    let display_72e4f6f = myVizzu_72e4f6f.parentNode.parentNode.style.display;\n",
       "    myVizzu_72e4f6f.parentNode.parentNode.style.display = \"none\";\n",
       "    chart_04598ac = chart_04598ac.then(chart => {\n",
       "        if (myVizzu_04598ac.parentNode && myVizzu_04598ac.parentNode.parentNode) {\n",
       "            myVizzu_04598ac.parentNode.parentNode.style.display = \"none\";\n",
       "        }\n",
       "        myVizzu_72e4f6f.parentNode.parentNode.style.display = display_72e4f6f;\n",
       "        myVizzu_72e4f6f.parentNode.insertBefore(myVizzu_04598ac, myVizzu_72e4f6f);\n",
       "        if (!document.inhibitScroll && true) {\n",
       "            myVizzu_04598ac.scrollIntoView({behavior: \"auto\", block: \"center\"});\n",
       "        }\n",
       "        return chart.animate({\"data\": {\"series\": [{\"name\": \"hair\", \"type\": \"dimension\", \"values\": [\"hair\", \"hair\", \"not_hair\", \"hair\", \"hair\", \"hair\", \"hair\", \"not_hair\", \"not_hair\", \"hair\", \"hair\", \"not_hair\", \"not_hair\", \"not_hair\", \"not_hair\", \"not_hair\", \"not_hair\", \"hair\", \"not_hair\", \"not_hair\", \"not_hair\", \"not_hair\", \"hair\", \"not_hair\", \"not_hair\", \"not_hair\", \"not_hair\", \"hair\", \"hair\", \"hair\", \"not_hair\", \"hair\", \"hair\", \"not_hair\", \"not_hair\", \"hair\", \"hair\", \"not_hair\", \"not_hair\", \"hair\", \"hair\", \"not_hair\", \"not_hair\", \"not_hair\", \"hair\", \"hair\", \"not_hair\", \"hair\", \"hair\", \"hair\", \"hair\", \"hair\", \"not_hair\", \"not_hair\", \"hair\", \"hair\", \"not_hair\", \"not_hair\", \"not_hair\", \"not_hair\", \"not_hair\", \"not_hair\", \"not_hair\", \"hair\", \"hair\", \"hair\", \"not_hair\", \"hair\", \"hair\", \"hair\", \"hair\", \"not_hair\", \"not_hair\", \"not_hair\", \"hair\", \"hair\", \"not_hair\", \"not_hair\", \"not_hair\", \"not_hair\", \"not_hair\", \"not_hair\", \"not_hair\", \"not_hair\", \"hair\", \"not_hair\", \"not_hair\", \"not_hair\", \"not_hair\", \"not_hair\", \"not_hair\", \"not_hair\", \"not_hair\", \"hair\", \"hair\", \"not_hair\", \"hair\", \"hair\", \"hair\", \"not_hair\", \"not_hair\"]}, {\"name\": \"feathers\", \"type\": \"dimension\", \"values\": [\"not_feathers\", \"not_feathers\", \"not_feathers\", \"not_feathers\", \"not_feathers\", \"not_feathers\", \"not_feathers\", \"not_feathers\", \"not_feathers\", \"not_feathers\", \"not_feathers\", \"feathers\", \"not_feathers\", \"not_feathers\", \"not_feathers\", \"not_feathers\", \"feathers\", \"not_feathers\", \"not_feathers\", \"not_feathers\", \"feathers\", \"feathers\", \"not_feathers\", \"feathers\", \"not_feathers\", \"not_feathers\", \"not_feathers\", \"not_feathers\", \"not_feathers\", \"not_feathers\", \"not_feathers\", \"not_feathers\", \"not_feathers\", \"feathers\", \"not_feathers\", \"not_feathers\", \"not_feathers\", \"feathers\", \"not_feathers\", \"not_feathers\", \"not_feathers\", \"feathers\", \"not_feathers\", \"feathers\", \"not_feathers\", \"not_feathers\", \"not_feathers\", \"not_feathers\", \"not_feathers\", \"not_feathers\", \"not_feathers\", \"not_feathers\", \"not_feathers\", \"not_feathers\", \"not_feathers\", \"not_feathers\", \"feathers\", \"feathers\", \"feathers\", \"feathers\", \"not_feathers\", \"not_feathers\", \"not_feathers\", \"not_feathers\", \"not_feathers\", \"not_feathers\", \"not_feathers\", \"not_feathers\", \"not_feathers\", \"not_feathers\", \"not_feathers\", \"feathers\", \"not_feathers\", \"not_feathers\", \"not_feathers\", \"not_feathers\", \"not_feathers\", \"not_feathers\", \"feathers\", \"feathers\", \"not_feathers\", \"not_feathers\", \"not_feathers\", \"feathers\", \"not_feathers\", \"not_feathers\", \"not_feathers\", \"feathers\", \"not_feathers\", \"not_feathers\", \"not_feathers\", \"not_feathers\", \"not_feathers\", \"not_feathers\", \"not_feathers\", \"feathers\", \"not_feathers\", \"not_feathers\", \"not_feathers\", \"not_feathers\", \"feathers\"]}, {\"name\": \"eggs\", \"type\": \"dimension\", \"values\": [\"not_eggs\", \"not_eggs\", \"eggs\", \"not_eggs\", \"not_eggs\", \"not_eggs\", \"not_eggs\", \"eggs\", \"eggs\", \"not_eggs\", \"not_eggs\", \"eggs\", \"eggs\", \"eggs\", \"eggs\", \"eggs\", \"eggs\", \"not_eggs\", \"eggs\", \"not_eggs\", \"eggs\", \"eggs\", \"not_eggs\", \"eggs\", \"eggs\", \"eggs\", \"eggs\", \"not_eggs\", \"not_eggs\", \"not_eggs\", \"eggs\", \"not_eggs\", \"not_eggs\", \"eggs\", \"eggs\", \"not_eggs\", \"not_eggs\", \"eggs\", \"eggs\", \"eggs\", \"eggs\", \"eggs\", \"eggs\", \"eggs\", \"not_eggs\", \"not_eggs\", \"eggs\", \"not_eggs\", \"not_eggs\", \"not_eggs\", \"not_eggs\", \"eggs\", \"eggs\", \"eggs\", \"not_eggs\", \"not_eggs\", \"eggs\", \"eggs\", \"eggs\", \"eggs\", \"eggs\", \"eggs\", \"eggs\", \"eggs\", \"not_eggs\", \"not_eggs\", \"not_eggs\", \"not_eggs\", \"not_eggs\", \"not_eggs\", \"not_eggs\", \"eggs\", \"not_eggs\", \"eggs\", \"not_eggs\", \"not_eggs\", \"not_eggs\", \"eggs\", \"eggs\", \"eggs\", \"eggs\", \"eggs\", \"eggs\", \"eggs\", \"not_eggs\", \"eggs\", \"eggs\", \"eggs\", \"eggs\", \"eggs\", \"eggs\", \"eggs\", \"eggs\", \"not_eggs\", \"not_eggs\", \"eggs\", \"not_eggs\", \"eggs\", \"not_eggs\", \"eggs\", \"eggs\"]}, {\"name\": \"milk\", \"type\": \"dimension\", \"values\": [\"milk\", \"milk\", \"not_milk\", \"milk\", \"milk\", \"milk\", \"milk\", \"not_milk\", \"not_milk\", \"milk\", \"milk\", \"not_milk\", \"not_milk\", \"not_milk\", \"not_milk\", \"not_milk\", \"not_milk\", \"milk\", \"not_milk\", \"milk\", \"not_milk\", \"not_milk\", \"milk\", \"not_milk\", \"not_milk\", \"not_milk\", \"not_milk\", \"milk\", \"milk\", \"milk\", \"not_milk\", \"milk\", \"milk\", \"not_milk\", \"not_milk\", \"milk\", \"milk\", \"not_milk\", \"not_milk\", \"not_milk\", \"not_milk\", \"not_milk\", \"not_milk\", \"not_milk\", \"milk\", \"milk\", \"not_milk\", \"milk\", \"milk\", \"milk\", \"milk\", \"not_milk\", \"not_milk\", \"not_milk\", \"milk\", \"milk\", \"not_milk\", \"not_milk\", \"not_milk\", \"not_milk\", \"not_milk\", \"not_milk\", \"not_milk\", \"milk\", \"milk\", \"milk\", \"milk\", \"milk\", \"milk\", \"milk\", \"milk\", \"not_milk\", \"not_milk\", \"not_milk\", \"milk\", \"milk\", \"not_milk\", \"not_milk\", \"not_milk\", \"not_milk\", \"not_milk\", \"not_milk\", \"not_milk\", \"not_milk\", \"milk\", \"not_milk\", \"not_milk\", \"not_milk\", \"not_milk\", \"not_milk\", \"not_milk\", \"not_milk\", \"not_milk\", \"milk\", \"milk\", \"not_milk\", \"milk\", \"not_milk\", \"milk\", \"not_milk\", \"not_milk\"]}, {\"name\": \"airborne\", \"type\": \"dimension\", \"values\": [\"not_airborne\", \"not_airborne\", \"not_airborne\", \"not_airborne\", \"not_airborne\", \"not_airborne\", \"not_airborne\", \"not_airborne\", \"not_airborne\", \"not_airborne\", \"not_airborne\", \"airborne\", \"not_airborne\", \"not_airborne\", \"not_airborne\", \"not_airborne\", \"airborne\", \"not_airborne\", \"not_airborne\", \"not_airborne\", \"airborne\", \"airborne\", \"not_airborne\", \"airborne\", \"not_airborne\", \"not_airborne\", \"not_airborne\", \"airborne\", \"not_airborne\", \"not_airborne\", \"airborne\", \"not_airborne\", \"not_airborne\", \"airborne\", \"not_airborne\", \"not_airborne\", \"not_airborne\", \"airborne\", \"not_airborne\", \"airborne\", \"airborne\", \"not_airborne\", \"airborne\", \"airborne\", \"not_airborne\", \"not_airborne\", \"not_airborne\", \"not_airborne\", \"not_airborne\", \"not_airborne\", \"not_airborne\", \"airborne\", \"not_airborne\", \"not_airborne\", \"not_airborne\", \"not_airborne\", \"not_airborne\", \"airborne\", \"not_airborne\", \"airborne\", \"not_airborne\", \"not_airborne\", \"not_airborne\", \"not_airborne\", \"not_airborne\", \"not_airborne\", \"not_airborne\", \"not_airborne\", \"not_airborne\", \"not_airborne\", \"not_airborne\", \"not_airborne\", \"not_airborne\", \"not_airborne\", \"not_airborne\", \"not_airborne\", \"not_airborne\", \"not_airborne\", \"airborne\", \"airborne\", \"not_airborne\", \"not_airborne\", \"not_airborne\", \"airborne\", \"not_airborne\", \"not_airborne\", \"not_airborne\", \"airborne\", \"not_airborne\", \"not_airborne\", \"not_airborne\", \"not_airborne\", \"not_airborne\", \"airborne\", \"not_airborne\", \"airborne\", \"not_airborne\", \"airborne\", \"not_airborne\", \"not_airborne\", \"airborne\"]}, {\"name\": \"aquatic\", \"type\": \"dimension\", \"values\": [\"not_aquatic\", \"not_aquatic\", \"aquatic\", \"not_aquatic\", \"not_aquatic\", \"not_aquatic\", \"not_aquatic\", \"aquatic\", \"aquatic\", \"not_aquatic\", \"not_aquatic\", \"not_aquatic\", \"aquatic\", \"not_aquatic\", \"aquatic\", \"aquatic\", \"not_aquatic\", \"not_aquatic\", \"aquatic\", \"aquatic\", \"not_aquatic\", \"aquatic\", \"not_aquatic\", \"not_aquatic\", \"not_aquatic\", \"aquatic\", \"aquatic\", \"not_aquatic\", \"not_aquatic\", \"not_aquatic\", \"not_aquatic\", \"not_aquatic\", \"not_aquatic\", \"aquatic\", \"aquatic\", \"not_aquatic\", \"not_aquatic\", \"not_aquatic\", \"aquatic\", \"not_aquatic\", \"not_aquatic\", \"not_aquatic\", \"not_aquatic\", \"not_aquatic\", \"not_aquatic\", \"not_aquatic\", \"aquatic\", \"not_aquatic\", \"aquatic\", \"not_aquatic\", \"not_aquatic\", \"not_aquatic\", \"aquatic\", \"aquatic\", \"not_aquatic\", \"not_aquatic\", \"not_aquatic\", \"not_aquatic\", \"aquatic\", \"not_aquatic\", \"aquatic\", \"aquatic\", \"not_aquatic\", \"aquatic\", \"not_aquatic\", \"not_aquatic\", \"aquatic\", \"not_aquatic\", \"not_aquatic\", \"not_aquatic\", \"not_aquatic\", \"not_aquatic\", \"not_aquatic\", \"aquatic\", \"aquatic\", \"aquatic\", \"aquatic\", \"aquatic\", \"aquatic\", \"aquatic\", \"not_aquatic\", \"not_aquatic\", \"aquatic\", \"not_aquatic\", \"not_aquatic\", \"aquatic\", \"aquatic\", \"aquatic\", \"not_aquatic\", \"aquatic\", \"not_aquatic\", \"not_aquatic\", \"aquatic\", \"not_aquatic\", \"not_aquatic\", \"not_aquatic\", \"not_aquatic\", \"not_aquatic\", \"not_aquatic\", \"not_aquatic\", \"not_aquatic\"]}, {\"name\": \"predator\", \"type\": \"dimension\", \"values\": [\"predator\", \"not_predator\", \"predator\", \"predator\", \"predator\", \"not_predator\", \"not_predator\", \"not_predator\", \"predator\", \"not_predator\", \"predator\", \"not_predator\", \"predator\", \"predator\", \"predator\", \"predator\", \"predator\", \"not_predator\", \"predator\", \"predator\", \"not_predator\", \"not_predator\", \"not_predator\", \"not_predator\", \"not_predator\", \"predator\", \"predator\", \"not_predator\", \"not_predator\", \"predator\", \"not_predator\", \"not_predator\", \"not_predator\", \"predator\", \"not_predator\", \"not_predator\", \"not_predator\", \"predator\", \"predator\", \"not_predator\", \"not_predator\", \"predator\", \"predator\", \"not_predator\", \"predator\", \"predator\", \"predator\", \"predator\", \"predator\", \"predator\", \"predator\", \"not_predator\", \"predator\", \"predator\", \"predator\", \"not_predator\", \"not_predator\", \"not_predator\", \"predator\", \"not_predator\", \"predator\", \"predator\", \"predator\", \"predator\", \"predator\", \"not_predator\", \"predator\", \"predator\", \"predator\", \"predator\", \"not_predator\", \"predator\", \"predator\", \"not_predator\", \"predator\", \"predator\", \"predator\", \"predator\", \"predator\", \"predator\", \"predator\", \"not_predator\", \"not_predator\", \"not_predator\", \"not_predator\", \"predator\", \"predator\", \"not_predator\", \"not_predator\", \"not_predator\", \"not_predator\", \"predator\", \"predator\", \"not_predator\", \"not_predator\", \"predator\", \"not_predator\", \"not_predator\", \"predator\", \"not_predator\", \"not_predator\"]}, {\"name\": \"toothed\", \"type\": \"dimension\", \"values\": [\"toothed\", \"toothed\", \"toothed\", \"toothed\", \"toothed\", \"toothed\", \"toothed\", \"toothed\", \"toothed\", \"toothed\", \"toothed\", \"not_toothed\", \"toothed\", \"not_toothed\", \"not_toothed\", \"not_toothed\", \"not_toothed\", \"toothed\", \"toothed\", \"toothed\", \"not_toothed\", \"not_toothed\", \"toothed\", \"not_toothed\", \"not_toothed\", \"toothed\", \"toothed\", \"toothed\", \"toothed\", \"toothed\", \"not_toothed\", \"toothed\", \"toothed\", \"not_toothed\", \"toothed\", \"toothed\", \"toothed\", \"not_toothed\", \"toothed\", \"not_toothed\", \"not_toothed\", \"not_toothed\", \"not_toothed\", \"not_toothed\", \"toothed\", \"toothed\", \"not_toothed\", \"toothed\", \"toothed\", \"toothed\", \"toothed\", \"not_toothed\", \"toothed\", \"not_toothed\", \"toothed\", \"toothed\", \"not_toothed\", \"not_toothed\", \"not_toothed\", \"not_toothed\", \"toothed\", \"toothed\", \"toothed\", \"not_toothed\", \"toothed\", \"toothed\", \"toothed\", \"toothed\", \"toothed\", \"toothed\", \"toothed\", \"not_toothed\", \"not_toothed\", \"toothed\", \"toothed\", \"toothed\", \"toothed\", \"not_toothed\", \"not_toothed\", \"not_toothed\", \"toothed\", \"not_toothed\", \"toothed\", \"not_toothed\", \"toothed\", \"not_toothed\", \"toothed\", \"not_toothed\", \"not_toothed\", \"toothed\", \"not_toothed\", \"toothed\", \"toothed\", \"toothed\", \"toothed\", \"not_toothed\", \"toothed\", \"not_toothed\", \"toothed\", \"not_toothed\", \"not_toothed\"]}, {\"name\": \"backbone\", \"type\": \"dimension\", \"values\": [\"backbone\", \"backbone\", \"backbone\", \"backbone\", \"backbone\", \"backbone\", \"backbone\", \"backbone\", \"backbone\", \"backbone\", \"backbone\", \"backbone\", \"backbone\", \"not_backbone\", \"not_backbone\", \"not_backbone\", \"backbone\", \"backbone\", \"backbone\", \"backbone\", \"backbone\", \"backbone\", \"backbone\", \"backbone\", \"not_backbone\", \"backbone\", \"backbone\", \"backbone\", \"backbone\", \"backbone\", \"not_backbone\", \"backbone\", \"backbone\", \"backbone\", \"backbone\", \"backbone\", \"backbone\", \"backbone\", \"backbone\", \"not_backbone\", \"not_backbone\", \"backbone\", \"not_backbone\", \"backbone\", \"backbone\", \"backbone\", \"not_backbone\", \"backbone\", \"backbone\", \"backbone\", \"backbone\", \"not_backbone\", \"backbone\", \"not_backbone\", \"backbone\", \"backbone\", \"backbone\", \"backbone\", \"backbone\", \"backbone\", \"backbone\", \"backbone\", \"backbone\", \"backbone\", \"backbone\", \"backbone\", \"backbone\", \"backbone\", \"backbone\", \"backbone\", \"backbone\", \"backbone\", \"not_backbone\", \"backbone\", \"backbone\", \"backbone\", \"backbone\", \"not_backbone\", \"backbone\", \"backbone\", \"backbone\", \"not_backbone\", \"backbone\", \"backbone\", \"backbone\", \"not_backbone\", \"backbone\", \"backbone\", \"not_backbone\", \"backbone\", \"backbone\", \"backbone\", \"backbone\", \"backbone\", \"backbone\", \"backbone\", \"backbone\", \"not_backbone\", \"backbone\", \"not_backbone\", \"backbone\"]}, {\"name\": \"breathes\", \"type\": \"dimension\", \"values\": [\"breathes\", \"breathes\", \"not_breathes\", \"breathes\", \"breathes\", \"breathes\", \"breathes\", \"not_breathes\", \"not_breathes\", \"breathes\", \"breathes\", \"breathes\", \"not_breathes\", \"not_breathes\", \"not_breathes\", \"not_breathes\", \"breathes\", \"breathes\", \"not_breathes\", \"breathes\", \"breathes\", \"breathes\", \"breathes\", \"breathes\", \"breathes\", \"breathes\", \"breathes\", \"breathes\", \"breathes\", \"breathes\", \"breathes\", \"breathes\", \"breathes\", \"breathes\", \"not_breathes\", \"breathes\", \"breathes\", \"breathes\", \"not_breathes\", \"breathes\", \"breathes\", \"breathes\", \"breathes\", \"breathes\", \"breathes\", \"breathes\", \"not_breathes\", \"breathes\", \"breathes\", \"breathes\", \"breathes\", \"breathes\", \"breathes\", \"not_breathes\", \"breathes\", \"breathes\", \"breathes\", \"breathes\", \"breathes\", \"breathes\", \"not_breathes\", \"not_breathes\", \"breathes\", \"breathes\", \"breathes\", \"breathes\", \"breathes\", \"breathes\", \"breathes\", \"breathes\", \"breathes\", \"breathes\", \"breathes\", \"not_breathes\", \"breathes\", \"breathes\", \"not_breathes\", \"not_breathes\", \"breathes\", \"breathes\", \"breathes\", \"breathes\", \"not_breathes\", \"breathes\", \"breathes\", \"not_breathes\", \"not_breathes\", \"breathes\", \"breathes\", \"breathes\", \"breathes\", \"breathes\", \"not_breathes\", \"breathes\", \"breathes\", \"breathes\", \"breathes\", \"breathes\", \"breathes\", \"breathes\", \"breathes\"]}, {\"name\": \"venomous\", \"type\": \"dimension\", \"values\": [\"not_venomous\", \"not_venomous\", \"not_venomous\", \"not_venomous\", \"not_venomous\", \"not_venomous\", \"not_venomous\", \"not_venomous\", \"not_venomous\", \"not_venomous\", \"not_venomous\", \"not_venomous\", \"not_venomous\", \"not_venomous\", \"not_venomous\", \"not_venomous\", \"not_venomous\", \"not_venomous\", \"not_venomous\", \"not_venomous\", \"not_venomous\", \"not_venomous\", \"not_venomous\", \"not_venomous\", \"not_venomous\", \"not_venomous\", \"venomous\", \"not_venomous\", \"not_venomous\", \"not_venomous\", \"not_venomous\", \"not_venomous\", \"not_venomous\", \"not_venomous\", \"not_venomous\", \"not_venomous\", \"not_venomous\", \"not_venomous\", \"not_venomous\", \"venomous\", \"not_venomous\", \"not_venomous\", \"not_venomous\", \"not_venomous\", \"not_venomous\", \"not_venomous\", \"not_venomous\", \"not_venomous\", \"not_venomous\", \"not_venomous\", \"not_venomous\", \"not_venomous\", \"not_venomous\", \"not_venomous\", \"not_venomous\", \"not_venomous\", \"not_venomous\", \"not_venomous\", \"not_venomous\", \"not_venomous\", \"not_venomous\", \"not_venomous\", \"venomous\", \"not_venomous\", \"not_venomous\", \"not_venomous\", \"not_venomous\", \"not_venomous\", \"not_venomous\", \"not_venomous\", \"not_venomous\", \"not_venomous\", \"venomous\", \"not_venomous\", \"not_venomous\", \"not_venomous\", \"venomous\", \"venomous\", \"not_venomous\", \"not_venomous\", \"not_venomous\", \"not_venomous\", \"not_venomous\", \"not_venomous\", \"not_venomous\", \"not_venomous\", \"venomous\", \"not_venomous\", \"not_venomous\", \"not_venomous\", \"not_venomous\", \"not_venomous\", \"not_venomous\", \"not_venomous\", \"not_venomous\", \"not_venomous\", \"not_venomous\", \"venomous\", \"not_venomous\", \"not_venomous\", \"not_venomous\"]}, {\"name\": \"fins\", \"type\": \"dimension\", \"values\": [\"not_fins\", \"not_fins\", \"fins\", \"not_fins\", \"not_fins\", \"not_fins\", \"not_fins\", \"fins\", \"fins\", \"not_fins\", \"not_fins\", \"not_fins\", \"fins\", \"not_fins\", \"not_fins\", \"not_fins\", \"not_fins\", \"not_fins\", \"fins\", \"fins\", \"not_fins\", \"not_fins\", \"not_fins\", \"not_fins\", \"not_fins\", \"not_fins\", \"not_fins\", \"not_fins\", \"not_fins\", \"not_fins\", \"not_fins\", \"not_fins\", \"not_fins\", \"not_fins\", \"fins\", \"not_fins\", \"not_fins\", \"not_fins\", \"fins\", \"not_fins\", \"not_fins\", \"not_fins\", \"not_fins\", \"not_fins\", \"not_fins\", \"not_fins\", \"not_fins\", \"not_fins\", \"not_fins\", \"not_fins\", \"not_fins\", \"not_fins\", \"not_fins\", \"not_fins\", \"not_fins\", \"not_fins\", \"not_fins\", \"not_fins\", \"not_fins\", \"not_fins\", \"fins\", \"fins\", \"not_fins\", \"not_fins\", \"not_fins\", \"not_fins\", \"fins\", \"not_fins\", \"not_fins\", \"not_fins\", \"not_fins\", \"not_fins\", \"not_fins\", \"fins\", \"fins\", \"fins\", \"not_fins\", \"not_fins\", \"not_fins\", \"not_fins\", \"not_fins\", \"not_fins\", \"fins\", \"not_fins\", \"not_fins\", \"not_fins\", \"fins\", \"not_fins\", \"not_fins\", \"not_fins\", \"not_fins\", \"not_fins\", \"fins\", \"not_fins\", \"not_fins\", \"not_fins\", \"not_fins\", \"not_fins\", \"not_fins\", \"not_fins\", \"not_fins\"]}, {\"name\": \"legs\", \"type\": \"measure\", \"values\": [4.0, 4.0, 0.0, 4.0, 4.0, 4.0, 4.0, 0.0, 0.0, 4.0, 4.0, 2.0, 0.0, 0.0, 4.0, 6.0, 2.0, 4.0, 0.0, 0.0, 2.0, 2.0, 4.0, 2.0, 6.0, 4.0, 4.0, 2.0, 4.0, 2.0, 6.0, 4.0, 2.0, 2.0, 0.0, 4.0, 4.0, 2.0, 0.0, 6.0, 6.0, 2.0, 6.0, 2.0, 4.0, 4.0, 6.0, 4.0, 4.0, 4.0, 4.0, 6.0, 4.0, 8.0, 4.0, 4.0, 2.0, 2.0, 2.0, 2.0, 0.0, 0.0, 0.0, 4.0, 4.0, 4.0, 0.0, 4.0, 4.0, 4.0, 4.0, 2.0, 8.0, 0.0, 0.0, 2.0, 0.0, 0.0, 2.0, 2.0, 0.0, 0.0, 0.0, 2.0, 2.0, 5.0, 0.0, 2.0, 6.0, 4.0, 4.0, 4.0, 0.0, 2.0, 4.0, 2.0, 2.0, 6.0, 4.0, 0.0, 2.0]}, {\"name\": \"tail\", \"type\": \"dimension\", \"values\": [\"not_tail\", \"tail\", \"tail\", \"not_tail\", \"tail\", \"tail\", \"tail\", \"tail\", \"tail\", \"not_tail\", \"tail\", \"tail\", \"tail\", \"not_tail\", \"not_tail\", \"not_tail\", \"tail\", \"tail\", \"tail\", \"tail\", \"tail\", \"tail\", \"tail\", \"tail\", \"not_tail\", \"not_tail\", \"not_tail\", \"tail\", \"tail\", \"not_tail\", \"not_tail\", \"tail\", \"not_tail\", \"tail\", \"tail\", \"tail\", \"tail\", \"tail\", \"tail\", \"not_tail\", \"not_tail\", \"tail\", \"not_tail\", \"tail\", \"tail\", \"tail\", \"not_tail\", \"tail\", \"tail\", \"tail\", \"tail\", \"not_tail\", \"tail\", \"not_tail\", \"tail\", \"tail\", \"tail\", \"tail\", \"tail\", \"tail\", \"tail\", \"tail\", \"tail\", \"tail\", \"tail\", \"tail\", \"tail\", \"tail\", \"tail\", \"tail\", \"tail\", \"tail\", \"tail\", \"tail\", \"not_tail\", \"tail\", \"tail\", \"not_tail\", \"tail\", \"tail\", \"tail\", \"not_tail\", \"tail\", \"tail\", \"tail\", \"not_tail\", \"tail\", \"tail\", \"not_tail\", \"not_tail\", \"tail\", \"tail\", \"tail\", \"tail\", \"tail\", \"tail\", \"tail\", \"not_tail\", \"tail\", \"not_tail\", \"tail\"]}, {\"name\": \"domestic\", \"type\": \"dimension\", \"values\": [\"not_domestic\", \"not_domestic\", \"not_domestic\", \"not_domestic\", \"not_domestic\", \"not_domestic\", \"domestic\", \"domestic\", \"not_domestic\", \"domestic\", \"not_domestic\", \"domestic\", \"not_domestic\", \"not_domestic\", \"not_domestic\", \"not_domestic\", \"not_domestic\", \"not_domestic\", \"not_domestic\", \"not_domestic\", \"domestic\", \"not_domestic\", \"not_domestic\", \"not_domestic\", \"not_domestic\", \"not_domestic\", \"not_domestic\", \"not_domestic\", \"not_domestic\", \"domestic\", \"not_domestic\", \"domestic\", \"not_domestic\", \"not_domestic\", \"not_domestic\", \"domestic\", \"not_domestic\", \"not_domestic\", \"not_domestic\", \"domestic\", \"not_domestic\", \"not_domestic\", \"not_domestic\", \"not_domestic\", \"not_domestic\", \"not_domestic\", \"not_domestic\", \"not_domestic\", \"not_domestic\", \"not_domestic\", \"not_domestic\", \"not_domestic\", \"not_domestic\", \"not_domestic\", \"not_domestic\", \"not_domestic\", \"not_domestic\", \"domestic\", \"not_domestic\", \"not_domestic\", \"not_domestic\", \"not_domestic\", \"not_domestic\", \"not_domestic\", \"not_domestic\", \"domestic\", \"not_domestic\", \"not_domestic\", \"domestic\", \"not_domestic\", \"domestic\", \"not_domestic\", \"not_domestic\", \"not_domestic\", \"not_domestic\", \"not_domestic\", \"not_domestic\", \"not_domestic\", \"not_domestic\", \"not_domestic\", \"not_domestic\", \"not_domestic\", \"not_domestic\", \"not_domestic\", \"not_domestic\", \"not_domestic\", \"not_domestic\", \"not_domestic\", \"not_domestic\", \"not_domestic\", \"not_domestic\", \"not_domestic\", \"not_domestic\", \"not_domestic\", \"not_domestic\", \"not_domestic\", \"not_domestic\", \"not_domestic\", \"not_domestic\", \"not_domestic\", \"not_domestic\"]}, {\"name\": \"catsize\", \"type\": \"dimension\", \"values\": [\"catsize\", \"catsize\", \"not_catsize\", \"catsize\", \"catsize\", \"catsize\", \"catsize\", \"not_catsize\", \"not_catsize\", \"not_catsize\", \"catsize\", \"not_catsize\", \"not_catsize\", \"not_catsize\", \"not_catsize\", \"not_catsize\", \"not_catsize\", \"catsize\", \"catsize\", \"catsize\", \"not_catsize\", \"not_catsize\", \"catsize\", \"catsize\", \"not_catsize\", \"not_catsize\", \"not_catsize\", \"not_catsize\", \"catsize\", \"catsize\", \"not_catsize\", \"catsize\", \"catsize\", \"not_catsize\", \"not_catsize\", \"not_catsize\", \"not_catsize\", \"not_catsize\", \"not_catsize\", \"not_catsize\", \"not_catsize\", \"not_catsize\", \"not_catsize\", \"not_catsize\", \"catsize\", \"catsize\", \"not_catsize\", \"catsize\", \"catsize\", \"not_catsize\", \"catsize\", \"not_catsize\", \"not_catsize\", \"catsize\", \"not_catsize\", \"catsize\", \"catsize\", \"not_catsize\", \"catsize\", \"not_catsize\", \"catsize\", \"not_catsize\", \"not_catsize\", \"catsize\", \"catsize\", \"catsize\", \"catsize\", \"catsize\", \"catsize\", \"catsize\", \"catsize\", \"catsize\", \"not_catsize\", \"not_catsize\", \"catsize\", \"catsize\", \"not_catsize\", \"not_catsize\", \"not_catsize\", \"not_catsize\", \"not_catsize\", \"not_catsize\", \"not_catsize\", \"not_catsize\", \"not_catsize\", \"not_catsize\", \"catsize\", \"catsize\", \"not_catsize\", \"not_catsize\", \"catsize\", \"not_catsize\", \"catsize\", \"not_catsize\", \"not_catsize\", \"catsize\", \"catsize\", \"not_catsize\", \"catsize\", \"not_catsize\", \"not_catsize\"]}, {\"name\": \"type\", \"type\": \"dimension\", \"values\": [\"mammal\", \"mammal\", \"fish\", \"mammal\", \"mammal\", \"mammal\", \"mammal\", \"fish\", \"fish\", \"mammal\", \"mammal\", \"bird\", \"fish\", \"invertebrate\", \"invertebrate\", \"invertebrate\", \"bird\", \"mammal\", \"fish\", \"mammal\", \"bird\", \"bird\", \"mammal\", \"bird\", \"insect\", \"amphibian\", \"amphibian\", \"mammal\", \"mammal\", \"mammal\", \"insect\", \"mammal\", \"mammal\", \"bird\", \"fish\", \"mammal\", \"mammal\", \"bird\", \"fish\", \"insect\", \"insect\", \"bird\", \"insect\", \"bird\", \"mammal\", \"mammal\", \"invertebrate\", \"mammal\", \"mammal\", \"mammal\", \"mammal\", \"insect\", \"amphibian\", \"invertebrate\", \"mammal\", \"mammal\", \"bird\", \"bird\", \"bird\", \"bird\", \"fish\", \"fish\", \"reptile\", \"mammal\", \"mammal\", \"mammal\", \"mammal\", \"mammal\", \"mammal\", \"mammal\", \"mammal\", \"bird\", \"invertebrate\", \"fish\", \"mammal\", \"mammal\", \"reptile\", \"invertebrate\", \"bird\", \"bird\", \"reptile\", \"invertebrate\", \"fish\", \"bird\", \"mammal\", \"invertebrate\", \"fish\", \"bird\", \"insect\", \"amphibian\", \"reptile\", \"reptile\", \"fish\", \"mammal\", \"mammal\", \"bird\", \"mammal\", \"insect\", \"mammal\", \"invertebrate\", \"bird\"]}, {\"name\": \"Count\", \"type\": \"measure\", \"values\": [1.0, 1.0, 1.0, 1.0, 1.0, 1.0, 1.0, 1.0, 1.0, 1.0, 1.0, 1.0, 1.0, 1.0, 1.0, 1.0, 1.0, 1.0, 1.0, 1.0, 1.0, 1.0, 1.0, 1.0, 1.0, 1.0, 1.0, 1.0, 1.0, 1.0, 1.0, 1.0, 1.0, 1.0, 1.0, 1.0, 1.0, 1.0, 1.0, 1.0, 1.0, 1.0, 1.0, 1.0, 1.0, 1.0, 1.0, 1.0, 1.0, 1.0, 1.0, 1.0, 1.0, 1.0, 1.0, 1.0, 1.0, 1.0, 1.0, 1.0, 1.0, 1.0, 1.0, 1.0, 1.0, 1.0, 1.0, 1.0, 1.0, 1.0, 1.0, 1.0, 1.0, 1.0, 1.0, 1.0, 1.0, 1.0, 1.0, 1.0, 1.0, 1.0, 1.0, 1.0, 1.0, 1.0, 1.0, 1.0, 1.0, 1.0, 1.0, 1.0, 1.0, 1.0, 1.0, 1.0, 1.0, 1.0, 1.0, 1.0, 1.0]}]}});\n",
       "    });\n",
       "</script>"
      ]
     },
     "metadata": {},
     "output_type": "display_data"
    },
    {
     "data": {
      "text/html": [
       "<script id=\"myVizzu_4ac216d\">\n",
       "    let display_4ac216d = myVizzu_4ac216d.parentNode.parentNode.style.display;\n",
       "    myVizzu_4ac216d.parentNode.parentNode.style.display = \"none\";\n",
       "    chart_04598ac = chart_04598ac.then(chart => {\n",
       "        if (myVizzu_04598ac.parentNode && myVizzu_04598ac.parentNode.parentNode) {\n",
       "            myVizzu_04598ac.parentNode.parentNode.style.display = \"none\";\n",
       "        }\n",
       "        myVizzu_4ac216d.parentNode.parentNode.style.display = display_4ac216d;\n",
       "        myVizzu_4ac216d.parentNode.insertBefore(myVizzu_04598ac, myVizzu_4ac216d);\n",
       "        if (!document.inhibitScroll && true) {\n",
       "            myVizzu_04598ac.scrollIntoView({behavior: \"auto\", block: \"center\"});\n",
       "        }\n",
       "        return chart.animate({\"config\": {\"x\": \"Count\", \"y\": \"type\", \"label\": \"Count\", \"title\": \"Animals in the zoo\"}});\n",
       "    });\n",
       "</script>"
      ]
     },
     "metadata": {},
     "output_type": "display_data"
    },
    {
     "data": {
      "text/html": [
       "<script id=\"myVizzu_7caecbb\">\n",
       "    let display_7caecbb = myVizzu_7caecbb.parentNode.parentNode.style.display;\n",
       "    myVizzu_7caecbb.parentNode.parentNode.style.display = \"none\";\n",
       "    chart_04598ac = chart_04598ac.then(chart => {\n",
       "        if (myVizzu_04598ac.parentNode && myVizzu_04598ac.parentNode.parentNode) {\n",
       "            myVizzu_04598ac.parentNode.parentNode.style.display = \"none\";\n",
       "        }\n",
       "        myVizzu_7caecbb.parentNode.parentNode.style.display = display_7caecbb;\n",
       "        myVizzu_7caecbb.parentNode.insertBefore(myVizzu_04598ac, myVizzu_7caecbb);\n",
       "        if (!document.inhibitScroll && true) {\n",
       "            myVizzu_04598ac.scrollIntoView({behavior: \"auto\", block: \"center\"});\n",
       "        }\n",
       "        return chart.animate({\"config\": {\"x\": [\"Count\", \"eggs\"], \"label\": [\"Count\", \"eggs\"], \"color\": \"eggs\"}});\n",
       "    });\n",
       "</script>"
      ]
     },
     "metadata": {},
     "output_type": "display_data"
    },
    {
     "data": {
      "text/html": [
       "<script id=\"myVizzu_d0098a9\">\n",
       "    let display_d0098a9 = myVizzu_d0098a9.parentNode.parentNode.style.display;\n",
       "    myVizzu_d0098a9.parentNode.parentNode.style.display = \"none\";\n",
       "    chart_04598ac = chart_04598ac.then(chart => {\n",
       "        if (myVizzu_04598ac.parentNode && myVizzu_04598ac.parentNode.parentNode) {\n",
       "            myVizzu_04598ac.parentNode.parentNode.style.display = \"none\";\n",
       "        }\n",
       "        myVizzu_d0098a9.parentNode.parentNode.style.display = display_d0098a9;\n",
       "        myVizzu_d0098a9.parentNode.insertBefore(myVizzu_04598ac, myVizzu_d0098a9);\n",
       "        if (!document.inhibitScroll && true) {\n",
       "            myVizzu_04598ac.scrollIntoView({behavior: \"auto\", block: \"center\"});\n",
       "        }\n",
       "        return chart.animate({\"config\": {\"x\": \"Count\", \"y\": [\"type\", \"eggs\"]}});\n",
       "    });\n",
       "</script>"
      ]
     },
     "metadata": {},
     "output_type": "display_data"
    },
    {
     "data": {
      "application/javascript": [
       "\n",
       "            setTimeout(function() {\n",
       "                var nbb_cell_id = 30;\n",
       "                var nbb_unformatted_code = \"chart = Chart(width=\\\"640px\\\", height=\\\"360px\\\")\\n\\nchart.animate(data)\\n\\nchart.animate(\\n    Config({\\\"x\\\": \\\"Count\\\", \\\"y\\\": \\\"type\\\", \\\"label\\\": \\\"Count\\\", \\\"title\\\": \\\"Animals in the zoo\\\"})\\n)\\n\\nchart.animate(\\n    Config(\\n        {\\n            \\\"x\\\": [\\\"Count\\\", \\\"eggs\\\"],\\n            \\\"label\\\": [\\\"Count\\\", \\\"eggs\\\"],\\n            \\\"color\\\": \\\"eggs\\\",\\n        }\\n    )\\n)\\n\\nchart.animate(Config({\\\"x\\\": \\\"Count\\\", \\\"y\\\": [\\\"type\\\", \\\"eggs\\\"]}))\";\n",
       "                var nbb_formatted_code = \"chart = Chart(width=\\\"640px\\\", height=\\\"360px\\\")\\n\\nchart.animate(data)\\n\\nchart.animate(\\n    Config({\\\"x\\\": \\\"Count\\\", \\\"y\\\": \\\"type\\\", \\\"label\\\": \\\"Count\\\", \\\"title\\\": \\\"Animals in the zoo\\\"})\\n)\\n\\nchart.animate(\\n    Config(\\n        {\\n            \\\"x\\\": [\\\"Count\\\", \\\"eggs\\\"],\\n            \\\"label\\\": [\\\"Count\\\", \\\"eggs\\\"],\\n            \\\"color\\\": \\\"eggs\\\",\\n        }\\n    )\\n)\\n\\nchart.animate(Config({\\\"x\\\": \\\"Count\\\", \\\"y\\\": [\\\"type\\\", \\\"eggs\\\"]}))\";\n",
       "                var nbb_cells = Jupyter.notebook.get_cells();\n",
       "                for (var i = 0; i < nbb_cells.length; ++i) {\n",
       "                    if (nbb_cells[i].input_prompt_number == nbb_cell_id) {\n",
       "                        if (nbb_cells[i].get_text() == nbb_unformatted_code) {\n",
       "                             nbb_cells[i].set_text(nbb_formatted_code);\n",
       "                        }\n",
       "                        break;\n",
       "                    }\n",
       "                }\n",
       "            }, 500);\n",
       "            "
      ],
      "text/plain": [
       "<IPython.core.display.Javascript object>"
      ]
     },
     "metadata": {},
     "output_type": "display_data"
    }
   ],
   "source": [
    "chart = Chart(width=\"640px\", height=\"360px\")\n",
    "\n",
    "chart.animate(data)\n",
    "\n",
    "chart.animate(\n",
    "    Config({\"x\": \"Count\", \"y\": \"type\", \"label\": \"Count\", \"title\": \"Animals in the zoo\"})\n",
    ")\n",
    "\n",
    "chart.animate(\n",
    "    Config(\n",
    "        {\n",
    "            \"x\": [\"Count\", \"eggs\"],\n",
    "            \"label\": [\"Count\", \"eggs\"],\n",
    "            \"color\": \"eggs\",\n",
    "        }\n",
    "    )\n",
    ")\n",
    "\n",
    "chart.animate(Config({\"x\": \"Count\", \"y\": [\"type\", \"eggs\"]}))"
   ]
  },
  {
   "cell_type": "code",
   "execution_count": 31,
   "id": "b7cb1777",
   "metadata": {
    "ExecuteTime": {
     "end_time": "2022-04-10T12:30:24.103152Z",
     "start_time": "2022-04-10T12:30:24.082510Z"
    }
   },
   "outputs": [
    {
     "data": {
      "text/html": [
       "<script id=\"myVizzu_3a18cb0\">\n",
       "    document.inhibitScroll = false;\n",
       "</script>"
      ]
     },
     "metadata": {},
     "output_type": "display_data"
    },
    {
     "data": {
      "text/html": [
       "<script id=\"myVizzu_8a1c8f3\">\n",
       "    document.inhibitScroll = false;\n",
       "</script>"
      ]
     },
     "metadata": {},
     "output_type": "display_data"
    },
    {
     "data": {
      "text/html": [
       "<script id=\"myVizzu_e570d4f\">\n",
       "    document.inhibitScroll = false;\n",
       "</script>"
      ]
     },
     "metadata": {},
     "output_type": "display_data"
    },
    {
     "data": {
      "text/html": [
       "<script id=\"myVizzu_b7560ba\">\n",
       "    document.inhibitScroll = false;\n",
       "</script>"
      ]
     },
     "metadata": {},
     "output_type": "display_data"
    },
    {
     "data": {
      "text/html": [
       "<script id=\"myVizzu_6107c2e\">\n",
       "    document.inhibitScroll = false;\n",
       "</script>"
      ]
     },
     "metadata": {},
     "output_type": "display_data"
    },
    {
     "data": {
      "text/html": [
       "<script id=\"myVizzu_e018ca5\">\n",
       "    document.inhibitScroll = false;\n",
       "</script>"
      ]
     },
     "metadata": {},
     "output_type": "display_data"
    },
    {
     "data": {
      "text/html": [
       "<script id=\"myVizzu_b26fe71\">\n",
       "    document.inhibitScroll = false;\n",
       "</script>"
      ]
     },
     "metadata": {},
     "output_type": "display_data"
    },
    {
     "data": {
      "text/html": [
       "<script id=\"myVizzu_333c032\">\n",
       "    document.inhibitScroll = false;\n",
       "</script>"
      ]
     },
     "metadata": {},
     "output_type": "display_data"
    },
    {
     "data": {
      "text/html": [
       "<script id=\"myVizzu_a9d67fe\">\n",
       "    document.inhibitScroll = false;\n",
       "    document.addEventListener('wheel', function (evt) { document.inhibitScroll = true }, true);\n",
       "    document.addEventListener('keydown', function (evt) { document.inhibitScroll = true }, true);\n",
       "    document.addEventListener('touchstart', function (evt) { document.inhibitScroll = true }, true);\n",
       "    let myVizzu_7713a20 = document.createElement(\"div\");\n",
       "    myVizzu_7713a20.style.cssText = \"width: 800px; height: 480px;\";\n",
       "    let chart_7713a20 = import(\"https://cdn.jsdelivr.net/npm/vizzu@~0.4.0/dist/vizzu.min.js\").then(Vizzu => new Vizzu.default(myVizzu_7713a20).initializing);\n",
       "    myVizzu_a9d67fe.parentNode.insertBefore(myVizzu_7713a20, myVizzu_a9d67fe);\n",
       "</script>"
      ]
     },
     "metadata": {},
     "output_type": "display_data"
    },
    {
     "data": {
      "text/html": [
       "<script id=\"myVizzu_f323b67\">\n",
       "    let display_f323b67 = myVizzu_f323b67.parentNode.parentNode.style.display;\n",
       "    myVizzu_f323b67.parentNode.parentNode.style.display = \"none\";\n",
       "    chart_7713a20 = chart_7713a20.then(chart => {\n",
       "        if (myVizzu_7713a20.parentNode && myVizzu_7713a20.parentNode.parentNode) {\n",
       "            myVizzu_7713a20.parentNode.parentNode.style.display = \"none\";\n",
       "        }\n",
       "        myVizzu_f323b67.parentNode.parentNode.style.display = display_f323b67;\n",
       "        myVizzu_f323b67.parentNode.insertBefore(myVizzu_7713a20, myVizzu_f323b67);\n",
       "        if (!document.inhibitScroll && true) {\n",
       "            myVizzu_7713a20.scrollIntoView({behavior: \"auto\", block: \"center\"});\n",
       "        }\n",
       "        return chart.animate({\"data\": {\"series\": [{\"name\": \"hair\", \"type\": \"dimension\", \"values\": [\"hair\", \"hair\", \"not_hair\", \"hair\", \"hair\", \"hair\", \"hair\", \"not_hair\", \"not_hair\", \"hair\", \"hair\", \"not_hair\", \"not_hair\", \"not_hair\", \"not_hair\", \"not_hair\", \"not_hair\", \"hair\", \"not_hair\", \"not_hair\", \"not_hair\", \"not_hair\", \"hair\", \"not_hair\", \"not_hair\", \"not_hair\", \"not_hair\", \"hair\", \"hair\", \"hair\", \"not_hair\", \"hair\", \"hair\", \"not_hair\", \"not_hair\", \"hair\", \"hair\", \"not_hair\", \"not_hair\", \"hair\", \"hair\", \"not_hair\", \"not_hair\", \"not_hair\", \"hair\", \"hair\", \"not_hair\", \"hair\", \"hair\", \"hair\", \"hair\", \"hair\", \"not_hair\", \"not_hair\", \"hair\", \"hair\", \"not_hair\", \"not_hair\", \"not_hair\", \"not_hair\", \"not_hair\", \"not_hair\", \"not_hair\", \"hair\", \"hair\", \"hair\", \"not_hair\", \"hair\", \"hair\", \"hair\", \"hair\", \"not_hair\", \"not_hair\", \"not_hair\", \"hair\", \"hair\", \"not_hair\", \"not_hair\", \"not_hair\", \"not_hair\", \"not_hair\", \"not_hair\", \"not_hair\", \"not_hair\", \"hair\", \"not_hair\", \"not_hair\", \"not_hair\", \"not_hair\", \"not_hair\", \"not_hair\", \"not_hair\", \"not_hair\", \"hair\", \"hair\", \"not_hair\", \"hair\", \"hair\", \"hair\", \"not_hair\", \"not_hair\"]}, {\"name\": \"feathers\", \"type\": \"dimension\", \"values\": [\"not_feathers\", \"not_feathers\", \"not_feathers\", \"not_feathers\", \"not_feathers\", \"not_feathers\", \"not_feathers\", \"not_feathers\", \"not_feathers\", \"not_feathers\", \"not_feathers\", \"feathers\", \"not_feathers\", \"not_feathers\", \"not_feathers\", \"not_feathers\", \"feathers\", \"not_feathers\", \"not_feathers\", \"not_feathers\", \"feathers\", \"feathers\", \"not_feathers\", \"feathers\", \"not_feathers\", \"not_feathers\", \"not_feathers\", \"not_feathers\", \"not_feathers\", \"not_feathers\", \"not_feathers\", \"not_feathers\", \"not_feathers\", \"feathers\", \"not_feathers\", \"not_feathers\", \"not_feathers\", \"feathers\", \"not_feathers\", \"not_feathers\", \"not_feathers\", \"feathers\", \"not_feathers\", \"feathers\", \"not_feathers\", \"not_feathers\", \"not_feathers\", \"not_feathers\", \"not_feathers\", \"not_feathers\", \"not_feathers\", \"not_feathers\", \"not_feathers\", \"not_feathers\", \"not_feathers\", \"not_feathers\", \"feathers\", \"feathers\", \"feathers\", \"feathers\", \"not_feathers\", \"not_feathers\", \"not_feathers\", \"not_feathers\", \"not_feathers\", \"not_feathers\", \"not_feathers\", \"not_feathers\", \"not_feathers\", \"not_feathers\", \"not_feathers\", \"feathers\", \"not_feathers\", \"not_feathers\", \"not_feathers\", \"not_feathers\", \"not_feathers\", \"not_feathers\", \"feathers\", \"feathers\", \"not_feathers\", \"not_feathers\", \"not_feathers\", \"feathers\", \"not_feathers\", \"not_feathers\", \"not_feathers\", \"feathers\", \"not_feathers\", \"not_feathers\", \"not_feathers\", \"not_feathers\", \"not_feathers\", \"not_feathers\", \"not_feathers\", \"feathers\", \"not_feathers\", \"not_feathers\", \"not_feathers\", \"not_feathers\", \"feathers\"]}, {\"name\": \"eggs\", \"type\": \"dimension\", \"values\": [\"not_eggs\", \"not_eggs\", \"eggs\", \"not_eggs\", \"not_eggs\", \"not_eggs\", \"not_eggs\", \"eggs\", \"eggs\", \"not_eggs\", \"not_eggs\", \"eggs\", \"eggs\", \"eggs\", \"eggs\", \"eggs\", \"eggs\", \"not_eggs\", \"eggs\", \"not_eggs\", \"eggs\", \"eggs\", \"not_eggs\", \"eggs\", \"eggs\", \"eggs\", \"eggs\", \"not_eggs\", \"not_eggs\", \"not_eggs\", \"eggs\", \"not_eggs\", \"not_eggs\", \"eggs\", \"eggs\", \"not_eggs\", \"not_eggs\", \"eggs\", \"eggs\", \"eggs\", \"eggs\", \"eggs\", \"eggs\", \"eggs\", \"not_eggs\", \"not_eggs\", \"eggs\", \"not_eggs\", \"not_eggs\", \"not_eggs\", \"not_eggs\", \"eggs\", \"eggs\", \"eggs\", \"not_eggs\", \"not_eggs\", \"eggs\", \"eggs\", \"eggs\", \"eggs\", \"eggs\", \"eggs\", \"eggs\", \"eggs\", \"not_eggs\", \"not_eggs\", \"not_eggs\", \"not_eggs\", \"not_eggs\", \"not_eggs\", \"not_eggs\", \"eggs\", \"not_eggs\", \"eggs\", \"not_eggs\", \"not_eggs\", \"not_eggs\", \"eggs\", \"eggs\", \"eggs\", \"eggs\", \"eggs\", \"eggs\", \"eggs\", \"not_eggs\", \"eggs\", \"eggs\", \"eggs\", \"eggs\", \"eggs\", \"eggs\", \"eggs\", \"eggs\", \"not_eggs\", \"not_eggs\", \"eggs\", \"not_eggs\", \"eggs\", \"not_eggs\", \"eggs\", \"eggs\"]}, {\"name\": \"milk\", \"type\": \"dimension\", \"values\": [\"milk\", \"milk\", \"not_milk\", \"milk\", \"milk\", \"milk\", \"milk\", \"not_milk\", \"not_milk\", \"milk\", \"milk\", \"not_milk\", \"not_milk\", \"not_milk\", \"not_milk\", \"not_milk\", \"not_milk\", \"milk\", \"not_milk\", \"milk\", \"not_milk\", \"not_milk\", \"milk\", \"not_milk\", \"not_milk\", \"not_milk\", \"not_milk\", \"milk\", \"milk\", \"milk\", \"not_milk\", \"milk\", \"milk\", \"not_milk\", \"not_milk\", \"milk\", \"milk\", \"not_milk\", \"not_milk\", \"not_milk\", \"not_milk\", \"not_milk\", \"not_milk\", \"not_milk\", \"milk\", \"milk\", \"not_milk\", \"milk\", \"milk\", \"milk\", \"milk\", \"not_milk\", \"not_milk\", \"not_milk\", \"milk\", \"milk\", \"not_milk\", \"not_milk\", \"not_milk\", \"not_milk\", \"not_milk\", \"not_milk\", \"not_milk\", \"milk\", \"milk\", \"milk\", \"milk\", \"milk\", \"milk\", \"milk\", \"milk\", \"not_milk\", \"not_milk\", \"not_milk\", \"milk\", \"milk\", \"not_milk\", \"not_milk\", \"not_milk\", \"not_milk\", \"not_milk\", \"not_milk\", \"not_milk\", \"not_milk\", \"milk\", \"not_milk\", \"not_milk\", \"not_milk\", \"not_milk\", \"not_milk\", \"not_milk\", \"not_milk\", \"not_milk\", \"milk\", \"milk\", \"not_milk\", \"milk\", \"not_milk\", \"milk\", \"not_milk\", \"not_milk\"]}, {\"name\": \"airborne\", \"type\": \"dimension\", \"values\": [\"not_airborne\", \"not_airborne\", \"not_airborne\", \"not_airborne\", \"not_airborne\", \"not_airborne\", \"not_airborne\", \"not_airborne\", \"not_airborne\", \"not_airborne\", \"not_airborne\", \"airborne\", \"not_airborne\", \"not_airborne\", \"not_airborne\", \"not_airborne\", \"airborne\", \"not_airborne\", \"not_airborne\", \"not_airborne\", \"airborne\", \"airborne\", \"not_airborne\", \"airborne\", \"not_airborne\", \"not_airborne\", \"not_airborne\", \"airborne\", \"not_airborne\", \"not_airborne\", \"airborne\", \"not_airborne\", \"not_airborne\", \"airborne\", \"not_airborne\", \"not_airborne\", \"not_airborne\", \"airborne\", \"not_airborne\", \"airborne\", \"airborne\", \"not_airborne\", \"airborne\", \"airborne\", \"not_airborne\", \"not_airborne\", \"not_airborne\", \"not_airborne\", \"not_airborne\", \"not_airborne\", \"not_airborne\", \"airborne\", \"not_airborne\", \"not_airborne\", \"not_airborne\", \"not_airborne\", \"not_airborne\", \"airborne\", \"not_airborne\", \"airborne\", \"not_airborne\", \"not_airborne\", \"not_airborne\", \"not_airborne\", \"not_airborne\", \"not_airborne\", \"not_airborne\", \"not_airborne\", \"not_airborne\", \"not_airborne\", \"not_airborne\", \"not_airborne\", \"not_airborne\", \"not_airborne\", \"not_airborne\", \"not_airborne\", \"not_airborne\", \"not_airborne\", \"airborne\", \"airborne\", \"not_airborne\", \"not_airborne\", \"not_airborne\", \"airborne\", \"not_airborne\", \"not_airborne\", \"not_airborne\", \"airborne\", \"not_airborne\", \"not_airborne\", \"not_airborne\", \"not_airborne\", \"not_airborne\", \"airborne\", \"not_airborne\", \"airborne\", \"not_airborne\", \"airborne\", \"not_airborne\", \"not_airborne\", \"airborne\"]}, {\"name\": \"aquatic\", \"type\": \"dimension\", \"values\": [\"not_aquatic\", \"not_aquatic\", \"aquatic\", \"not_aquatic\", \"not_aquatic\", \"not_aquatic\", \"not_aquatic\", \"aquatic\", \"aquatic\", \"not_aquatic\", \"not_aquatic\", \"not_aquatic\", \"aquatic\", \"not_aquatic\", \"aquatic\", \"aquatic\", \"not_aquatic\", \"not_aquatic\", \"aquatic\", \"aquatic\", \"not_aquatic\", \"aquatic\", \"not_aquatic\", \"not_aquatic\", \"not_aquatic\", \"aquatic\", \"aquatic\", \"not_aquatic\", \"not_aquatic\", \"not_aquatic\", \"not_aquatic\", \"not_aquatic\", \"not_aquatic\", \"aquatic\", \"aquatic\", \"not_aquatic\", \"not_aquatic\", \"not_aquatic\", \"aquatic\", \"not_aquatic\", \"not_aquatic\", \"not_aquatic\", \"not_aquatic\", \"not_aquatic\", \"not_aquatic\", \"not_aquatic\", \"aquatic\", \"not_aquatic\", \"aquatic\", \"not_aquatic\", \"not_aquatic\", \"not_aquatic\", \"aquatic\", \"aquatic\", \"not_aquatic\", \"not_aquatic\", \"not_aquatic\", \"not_aquatic\", \"aquatic\", \"not_aquatic\", \"aquatic\", \"aquatic\", \"not_aquatic\", \"aquatic\", \"not_aquatic\", \"not_aquatic\", \"aquatic\", \"not_aquatic\", \"not_aquatic\", \"not_aquatic\", \"not_aquatic\", \"not_aquatic\", \"not_aquatic\", \"aquatic\", \"aquatic\", \"aquatic\", \"aquatic\", \"aquatic\", \"aquatic\", \"aquatic\", \"not_aquatic\", \"not_aquatic\", \"aquatic\", \"not_aquatic\", \"not_aquatic\", \"aquatic\", \"aquatic\", \"aquatic\", \"not_aquatic\", \"aquatic\", \"not_aquatic\", \"not_aquatic\", \"aquatic\", \"not_aquatic\", \"not_aquatic\", \"not_aquatic\", \"not_aquatic\", \"not_aquatic\", \"not_aquatic\", \"not_aquatic\", \"not_aquatic\"]}, {\"name\": \"predator\", \"type\": \"dimension\", \"values\": [\"predator\", \"not_predator\", \"predator\", \"predator\", \"predator\", \"not_predator\", \"not_predator\", \"not_predator\", \"predator\", \"not_predator\", \"predator\", \"not_predator\", \"predator\", \"predator\", \"predator\", \"predator\", \"predator\", \"not_predator\", \"predator\", \"predator\", \"not_predator\", \"not_predator\", \"not_predator\", \"not_predator\", \"not_predator\", \"predator\", \"predator\", \"not_predator\", \"not_predator\", \"predator\", \"not_predator\", \"not_predator\", \"not_predator\", \"predator\", \"not_predator\", \"not_predator\", \"not_predator\", \"predator\", \"predator\", \"not_predator\", \"not_predator\", \"predator\", \"predator\", \"not_predator\", \"predator\", \"predator\", \"predator\", \"predator\", \"predator\", \"predator\", \"predator\", \"not_predator\", \"predator\", \"predator\", \"predator\", \"not_predator\", \"not_predator\", \"not_predator\", \"predator\", \"not_predator\", \"predator\", \"predator\", \"predator\", \"predator\", \"predator\", \"not_predator\", \"predator\", \"predator\", \"predator\", \"predator\", \"not_predator\", \"predator\", \"predator\", \"not_predator\", \"predator\", \"predator\", \"predator\", \"predator\", \"predator\", \"predator\", \"predator\", \"not_predator\", \"not_predator\", \"not_predator\", \"not_predator\", \"predator\", \"predator\", \"not_predator\", \"not_predator\", \"not_predator\", \"not_predator\", \"predator\", \"predator\", \"not_predator\", \"not_predator\", \"predator\", \"not_predator\", \"not_predator\", \"predator\", \"not_predator\", \"not_predator\"]}, {\"name\": \"toothed\", \"type\": \"dimension\", \"values\": [\"toothed\", \"toothed\", \"toothed\", \"toothed\", \"toothed\", \"toothed\", \"toothed\", \"toothed\", \"toothed\", \"toothed\", \"toothed\", \"not_toothed\", \"toothed\", \"not_toothed\", \"not_toothed\", \"not_toothed\", \"not_toothed\", \"toothed\", \"toothed\", \"toothed\", \"not_toothed\", \"not_toothed\", \"toothed\", \"not_toothed\", \"not_toothed\", \"toothed\", \"toothed\", \"toothed\", \"toothed\", \"toothed\", \"not_toothed\", \"toothed\", \"toothed\", \"not_toothed\", \"toothed\", \"toothed\", \"toothed\", \"not_toothed\", \"toothed\", \"not_toothed\", \"not_toothed\", \"not_toothed\", \"not_toothed\", \"not_toothed\", \"toothed\", \"toothed\", \"not_toothed\", \"toothed\", \"toothed\", \"toothed\", \"toothed\", \"not_toothed\", \"toothed\", \"not_toothed\", \"toothed\", \"toothed\", \"not_toothed\", \"not_toothed\", \"not_toothed\", \"not_toothed\", \"toothed\", \"toothed\", \"toothed\", \"not_toothed\", \"toothed\", \"toothed\", \"toothed\", \"toothed\", \"toothed\", \"toothed\", \"toothed\", \"not_toothed\", \"not_toothed\", \"toothed\", \"toothed\", \"toothed\", \"toothed\", \"not_toothed\", \"not_toothed\", \"not_toothed\", \"toothed\", \"not_toothed\", \"toothed\", \"not_toothed\", \"toothed\", \"not_toothed\", \"toothed\", \"not_toothed\", \"not_toothed\", \"toothed\", \"not_toothed\", \"toothed\", \"toothed\", \"toothed\", \"toothed\", \"not_toothed\", \"toothed\", \"not_toothed\", \"toothed\", \"not_toothed\", \"not_toothed\"]}, {\"name\": \"backbone\", \"type\": \"dimension\", \"values\": [\"backbone\", \"backbone\", \"backbone\", \"backbone\", \"backbone\", \"backbone\", \"backbone\", \"backbone\", \"backbone\", \"backbone\", \"backbone\", \"backbone\", \"backbone\", \"not_backbone\", \"not_backbone\", \"not_backbone\", \"backbone\", \"backbone\", \"backbone\", \"backbone\", \"backbone\", \"backbone\", \"backbone\", \"backbone\", \"not_backbone\", \"backbone\", \"backbone\", \"backbone\", \"backbone\", \"backbone\", \"not_backbone\", \"backbone\", \"backbone\", \"backbone\", \"backbone\", \"backbone\", \"backbone\", \"backbone\", \"backbone\", \"not_backbone\", \"not_backbone\", \"backbone\", \"not_backbone\", \"backbone\", \"backbone\", \"backbone\", \"not_backbone\", \"backbone\", \"backbone\", \"backbone\", \"backbone\", \"not_backbone\", \"backbone\", \"not_backbone\", \"backbone\", \"backbone\", \"backbone\", \"backbone\", \"backbone\", \"backbone\", \"backbone\", \"backbone\", \"backbone\", \"backbone\", \"backbone\", \"backbone\", \"backbone\", \"backbone\", \"backbone\", \"backbone\", \"backbone\", \"backbone\", \"not_backbone\", \"backbone\", \"backbone\", \"backbone\", \"backbone\", \"not_backbone\", \"backbone\", \"backbone\", \"backbone\", \"not_backbone\", \"backbone\", \"backbone\", \"backbone\", \"not_backbone\", \"backbone\", \"backbone\", \"not_backbone\", \"backbone\", \"backbone\", \"backbone\", \"backbone\", \"backbone\", \"backbone\", \"backbone\", \"backbone\", \"not_backbone\", \"backbone\", \"not_backbone\", \"backbone\"]}, {\"name\": \"breathes\", \"type\": \"dimension\", \"values\": [\"breathes\", \"breathes\", \"not_breathes\", \"breathes\", \"breathes\", \"breathes\", \"breathes\", \"not_breathes\", \"not_breathes\", \"breathes\", \"breathes\", \"breathes\", \"not_breathes\", \"not_breathes\", \"not_breathes\", \"not_breathes\", \"breathes\", \"breathes\", \"not_breathes\", \"breathes\", \"breathes\", \"breathes\", \"breathes\", \"breathes\", \"breathes\", \"breathes\", \"breathes\", \"breathes\", \"breathes\", \"breathes\", \"breathes\", \"breathes\", \"breathes\", \"breathes\", \"not_breathes\", \"breathes\", \"breathes\", \"breathes\", \"not_breathes\", \"breathes\", \"breathes\", \"breathes\", \"breathes\", \"breathes\", \"breathes\", \"breathes\", \"not_breathes\", \"breathes\", \"breathes\", \"breathes\", \"breathes\", \"breathes\", \"breathes\", \"not_breathes\", \"breathes\", \"breathes\", \"breathes\", \"breathes\", \"breathes\", \"breathes\", \"not_breathes\", \"not_breathes\", \"breathes\", \"breathes\", \"breathes\", \"breathes\", \"breathes\", \"breathes\", \"breathes\", \"breathes\", \"breathes\", \"breathes\", \"breathes\", \"not_breathes\", \"breathes\", \"breathes\", \"not_breathes\", \"not_breathes\", \"breathes\", \"breathes\", \"breathes\", \"breathes\", \"not_breathes\", \"breathes\", \"breathes\", \"not_breathes\", \"not_breathes\", \"breathes\", \"breathes\", \"breathes\", \"breathes\", \"breathes\", \"not_breathes\", \"breathes\", \"breathes\", \"breathes\", \"breathes\", \"breathes\", \"breathes\", \"breathes\", \"breathes\"]}, {\"name\": \"venomous\", \"type\": \"dimension\", \"values\": [\"not_venomous\", \"not_venomous\", \"not_venomous\", \"not_venomous\", \"not_venomous\", \"not_venomous\", \"not_venomous\", \"not_venomous\", \"not_venomous\", \"not_venomous\", \"not_venomous\", \"not_venomous\", \"not_venomous\", \"not_venomous\", \"not_venomous\", \"not_venomous\", \"not_venomous\", \"not_venomous\", \"not_venomous\", \"not_venomous\", \"not_venomous\", \"not_venomous\", \"not_venomous\", \"not_venomous\", \"not_venomous\", \"not_venomous\", \"venomous\", \"not_venomous\", \"not_venomous\", \"not_venomous\", \"not_venomous\", \"not_venomous\", \"not_venomous\", \"not_venomous\", \"not_venomous\", \"not_venomous\", \"not_venomous\", \"not_venomous\", \"not_venomous\", \"venomous\", \"not_venomous\", \"not_venomous\", \"not_venomous\", \"not_venomous\", \"not_venomous\", \"not_venomous\", \"not_venomous\", \"not_venomous\", \"not_venomous\", \"not_venomous\", \"not_venomous\", \"not_venomous\", \"not_venomous\", \"not_venomous\", \"not_venomous\", \"not_venomous\", \"not_venomous\", \"not_venomous\", \"not_venomous\", \"not_venomous\", \"not_venomous\", \"not_venomous\", \"venomous\", \"not_venomous\", \"not_venomous\", \"not_venomous\", \"not_venomous\", \"not_venomous\", \"not_venomous\", \"not_venomous\", \"not_venomous\", \"not_venomous\", \"venomous\", \"not_venomous\", \"not_venomous\", \"not_venomous\", \"venomous\", \"venomous\", \"not_venomous\", \"not_venomous\", \"not_venomous\", \"not_venomous\", \"not_venomous\", \"not_venomous\", \"not_venomous\", \"not_venomous\", \"venomous\", \"not_venomous\", \"not_venomous\", \"not_venomous\", \"not_venomous\", \"not_venomous\", \"not_venomous\", \"not_venomous\", \"not_venomous\", \"not_venomous\", \"not_venomous\", \"venomous\", \"not_venomous\", \"not_venomous\", \"not_venomous\"]}, {\"name\": \"fins\", \"type\": \"dimension\", \"values\": [\"not_fins\", \"not_fins\", \"fins\", \"not_fins\", \"not_fins\", \"not_fins\", \"not_fins\", \"fins\", \"fins\", \"not_fins\", \"not_fins\", \"not_fins\", \"fins\", \"not_fins\", \"not_fins\", \"not_fins\", \"not_fins\", \"not_fins\", \"fins\", \"fins\", \"not_fins\", \"not_fins\", \"not_fins\", \"not_fins\", \"not_fins\", \"not_fins\", \"not_fins\", \"not_fins\", \"not_fins\", \"not_fins\", \"not_fins\", \"not_fins\", \"not_fins\", \"not_fins\", \"fins\", \"not_fins\", \"not_fins\", \"not_fins\", \"fins\", \"not_fins\", \"not_fins\", \"not_fins\", \"not_fins\", \"not_fins\", \"not_fins\", \"not_fins\", \"not_fins\", \"not_fins\", \"not_fins\", \"not_fins\", \"not_fins\", \"not_fins\", \"not_fins\", \"not_fins\", \"not_fins\", \"not_fins\", \"not_fins\", \"not_fins\", \"not_fins\", \"not_fins\", \"fins\", \"fins\", \"not_fins\", \"not_fins\", \"not_fins\", \"not_fins\", \"fins\", \"not_fins\", \"not_fins\", \"not_fins\", \"not_fins\", \"not_fins\", \"not_fins\", \"fins\", \"fins\", \"fins\", \"not_fins\", \"not_fins\", \"not_fins\", \"not_fins\", \"not_fins\", \"not_fins\", \"fins\", \"not_fins\", \"not_fins\", \"not_fins\", \"fins\", \"not_fins\", \"not_fins\", \"not_fins\", \"not_fins\", \"not_fins\", \"fins\", \"not_fins\", \"not_fins\", \"not_fins\", \"not_fins\", \"not_fins\", \"not_fins\", \"not_fins\", \"not_fins\"]}, {\"name\": \"legs\", \"type\": \"measure\", \"values\": [4.0, 4.0, 0.0, 4.0, 4.0, 4.0, 4.0, 0.0, 0.0, 4.0, 4.0, 2.0, 0.0, 0.0, 4.0, 6.0, 2.0, 4.0, 0.0, 0.0, 2.0, 2.0, 4.0, 2.0, 6.0, 4.0, 4.0, 2.0, 4.0, 2.0, 6.0, 4.0, 2.0, 2.0, 0.0, 4.0, 4.0, 2.0, 0.0, 6.0, 6.0, 2.0, 6.0, 2.0, 4.0, 4.0, 6.0, 4.0, 4.0, 4.0, 4.0, 6.0, 4.0, 8.0, 4.0, 4.0, 2.0, 2.0, 2.0, 2.0, 0.0, 0.0, 0.0, 4.0, 4.0, 4.0, 0.0, 4.0, 4.0, 4.0, 4.0, 2.0, 8.0, 0.0, 0.0, 2.0, 0.0, 0.0, 2.0, 2.0, 0.0, 0.0, 0.0, 2.0, 2.0, 5.0, 0.0, 2.0, 6.0, 4.0, 4.0, 4.0, 0.0, 2.0, 4.0, 2.0, 2.0, 6.0, 4.0, 0.0, 2.0]}, {\"name\": \"tail\", \"type\": \"dimension\", \"values\": [\"not_tail\", \"tail\", \"tail\", \"not_tail\", \"tail\", \"tail\", \"tail\", \"tail\", \"tail\", \"not_tail\", \"tail\", \"tail\", \"tail\", \"not_tail\", \"not_tail\", \"not_tail\", \"tail\", \"tail\", \"tail\", \"tail\", \"tail\", \"tail\", \"tail\", \"tail\", \"not_tail\", \"not_tail\", \"not_tail\", \"tail\", \"tail\", \"not_tail\", \"not_tail\", \"tail\", \"not_tail\", \"tail\", \"tail\", \"tail\", \"tail\", \"tail\", \"tail\", \"not_tail\", \"not_tail\", \"tail\", \"not_tail\", \"tail\", \"tail\", \"tail\", \"not_tail\", \"tail\", \"tail\", \"tail\", \"tail\", \"not_tail\", \"tail\", \"not_tail\", \"tail\", \"tail\", \"tail\", \"tail\", \"tail\", \"tail\", \"tail\", \"tail\", \"tail\", \"tail\", \"tail\", \"tail\", \"tail\", \"tail\", \"tail\", \"tail\", \"tail\", \"tail\", \"tail\", \"tail\", \"not_tail\", \"tail\", \"tail\", \"not_tail\", \"tail\", \"tail\", \"tail\", \"not_tail\", \"tail\", \"tail\", \"tail\", \"not_tail\", \"tail\", \"tail\", \"not_tail\", \"not_tail\", \"tail\", \"tail\", \"tail\", \"tail\", \"tail\", \"tail\", \"tail\", \"not_tail\", \"tail\", \"not_tail\", \"tail\"]}, {\"name\": \"domestic\", \"type\": \"dimension\", \"values\": [\"not_domestic\", \"not_domestic\", \"not_domestic\", \"not_domestic\", \"not_domestic\", \"not_domestic\", \"domestic\", \"domestic\", \"not_domestic\", \"domestic\", \"not_domestic\", \"domestic\", \"not_domestic\", \"not_domestic\", \"not_domestic\", \"not_domestic\", \"not_domestic\", \"not_domestic\", \"not_domestic\", \"not_domestic\", \"domestic\", \"not_domestic\", \"not_domestic\", \"not_domestic\", \"not_domestic\", \"not_domestic\", \"not_domestic\", \"not_domestic\", \"not_domestic\", \"domestic\", \"not_domestic\", \"domestic\", \"not_domestic\", \"not_domestic\", \"not_domestic\", \"domestic\", \"not_domestic\", \"not_domestic\", \"not_domestic\", \"domestic\", \"not_domestic\", \"not_domestic\", \"not_domestic\", \"not_domestic\", \"not_domestic\", \"not_domestic\", \"not_domestic\", \"not_domestic\", \"not_domestic\", \"not_domestic\", \"not_domestic\", \"not_domestic\", \"not_domestic\", \"not_domestic\", \"not_domestic\", \"not_domestic\", \"not_domestic\", \"domestic\", \"not_domestic\", \"not_domestic\", \"not_domestic\", \"not_domestic\", \"not_domestic\", \"not_domestic\", \"not_domestic\", \"domestic\", \"not_domestic\", \"not_domestic\", \"domestic\", \"not_domestic\", \"domestic\", \"not_domestic\", \"not_domestic\", \"not_domestic\", \"not_domestic\", \"not_domestic\", \"not_domestic\", \"not_domestic\", \"not_domestic\", \"not_domestic\", \"not_domestic\", \"not_domestic\", \"not_domestic\", \"not_domestic\", \"not_domestic\", \"not_domestic\", \"not_domestic\", \"not_domestic\", \"not_domestic\", \"not_domestic\", \"not_domestic\", \"not_domestic\", \"not_domestic\", \"not_domestic\", \"not_domestic\", \"not_domestic\", \"not_domestic\", \"not_domestic\", \"not_domestic\", \"not_domestic\", \"not_domestic\"]}, {\"name\": \"catsize\", \"type\": \"dimension\", \"values\": [\"catsize\", \"catsize\", \"not_catsize\", \"catsize\", \"catsize\", \"catsize\", \"catsize\", \"not_catsize\", \"not_catsize\", \"not_catsize\", \"catsize\", \"not_catsize\", \"not_catsize\", \"not_catsize\", \"not_catsize\", \"not_catsize\", \"not_catsize\", \"catsize\", \"catsize\", \"catsize\", \"not_catsize\", \"not_catsize\", \"catsize\", \"catsize\", \"not_catsize\", \"not_catsize\", \"not_catsize\", \"not_catsize\", \"catsize\", \"catsize\", \"not_catsize\", \"catsize\", \"catsize\", \"not_catsize\", \"not_catsize\", \"not_catsize\", \"not_catsize\", \"not_catsize\", \"not_catsize\", \"not_catsize\", \"not_catsize\", \"not_catsize\", \"not_catsize\", \"not_catsize\", \"catsize\", \"catsize\", \"not_catsize\", \"catsize\", \"catsize\", \"not_catsize\", \"catsize\", \"not_catsize\", \"not_catsize\", \"catsize\", \"not_catsize\", \"catsize\", \"catsize\", \"not_catsize\", \"catsize\", \"not_catsize\", \"catsize\", \"not_catsize\", \"not_catsize\", \"catsize\", \"catsize\", \"catsize\", \"catsize\", \"catsize\", \"catsize\", \"catsize\", \"catsize\", \"catsize\", \"not_catsize\", \"not_catsize\", \"catsize\", \"catsize\", \"not_catsize\", \"not_catsize\", \"not_catsize\", \"not_catsize\", \"not_catsize\", \"not_catsize\", \"not_catsize\", \"not_catsize\", \"not_catsize\", \"not_catsize\", \"catsize\", \"catsize\", \"not_catsize\", \"not_catsize\", \"catsize\", \"not_catsize\", \"catsize\", \"not_catsize\", \"not_catsize\", \"catsize\", \"catsize\", \"not_catsize\", \"catsize\", \"not_catsize\", \"not_catsize\"]}, {\"name\": \"type\", \"type\": \"dimension\", \"values\": [\"mammal\", \"mammal\", \"fish\", \"mammal\", \"mammal\", \"mammal\", \"mammal\", \"fish\", \"fish\", \"mammal\", \"mammal\", \"bird\", \"fish\", \"invertebrate\", \"invertebrate\", \"invertebrate\", \"bird\", \"mammal\", \"fish\", \"mammal\", \"bird\", \"bird\", \"mammal\", \"bird\", \"insect\", \"amphibian\", \"amphibian\", \"mammal\", \"mammal\", \"mammal\", \"insect\", \"mammal\", \"mammal\", \"bird\", \"fish\", \"mammal\", \"mammal\", \"bird\", \"fish\", \"insect\", \"insect\", \"bird\", \"insect\", \"bird\", \"mammal\", \"mammal\", \"invertebrate\", \"mammal\", \"mammal\", \"mammal\", \"mammal\", \"insect\", \"amphibian\", \"invertebrate\", \"mammal\", \"mammal\", \"bird\", \"bird\", \"bird\", \"bird\", \"fish\", \"fish\", \"reptile\", \"mammal\", \"mammal\", \"mammal\", \"mammal\", \"mammal\", \"mammal\", \"mammal\", \"mammal\", \"bird\", \"invertebrate\", \"fish\", \"mammal\", \"mammal\", \"reptile\", \"invertebrate\", \"bird\", \"bird\", \"reptile\", \"invertebrate\", \"fish\", \"bird\", \"mammal\", \"invertebrate\", \"fish\", \"bird\", \"insect\", \"amphibian\", \"reptile\", \"reptile\", \"fish\", \"mammal\", \"mammal\", \"bird\", \"mammal\", \"insect\", \"mammal\", \"invertebrate\", \"bird\"]}, {\"name\": \"Count\", \"type\": \"measure\", \"values\": [1.0, 1.0, 1.0, 1.0, 1.0, 1.0, 1.0, 1.0, 1.0, 1.0, 1.0, 1.0, 1.0, 1.0, 1.0, 1.0, 1.0, 1.0, 1.0, 1.0, 1.0, 1.0, 1.0, 1.0, 1.0, 1.0, 1.0, 1.0, 1.0, 1.0, 1.0, 1.0, 1.0, 1.0, 1.0, 1.0, 1.0, 1.0, 1.0, 1.0, 1.0, 1.0, 1.0, 1.0, 1.0, 1.0, 1.0, 1.0, 1.0, 1.0, 1.0, 1.0, 1.0, 1.0, 1.0, 1.0, 1.0, 1.0, 1.0, 1.0, 1.0, 1.0, 1.0, 1.0, 1.0, 1.0, 1.0, 1.0, 1.0, 1.0, 1.0, 1.0, 1.0, 1.0, 1.0, 1.0, 1.0, 1.0, 1.0, 1.0, 1.0, 1.0, 1.0, 1.0, 1.0, 1.0, 1.0, 1.0, 1.0, 1.0, 1.0, 1.0, 1.0, 1.0, 1.0, 1.0, 1.0, 1.0, 1.0, 1.0, 1.0]}]}});\n",
       "    });\n",
       "</script>"
      ]
     },
     "metadata": {},
     "output_type": "display_data"
    },
    {
     "data": {
      "text/html": [
       "<script id=\"myVizzu_5730fa1\">\n",
       "    let display_5730fa1 = myVizzu_5730fa1.parentNode.parentNode.style.display;\n",
       "    myVizzu_5730fa1.parentNode.parentNode.style.display = \"none\";\n",
       "    chart_7713a20 = chart_7713a20.then(chart => {\n",
       "        if (myVizzu_7713a20.parentNode && myVizzu_7713a20.parentNode.parentNode) {\n",
       "            myVizzu_7713a20.parentNode.parentNode.style.display = \"none\";\n",
       "        }\n",
       "        myVizzu_5730fa1.parentNode.parentNode.style.display = display_5730fa1;\n",
       "        myVizzu_5730fa1.parentNode.insertBefore(myVizzu_7713a20, myVizzu_5730fa1);\n",
       "        if (!document.inhibitScroll && true) {\n",
       "            myVizzu_7713a20.scrollIntoView({behavior: \"auto\", block: \"center\"});\n",
       "        }\n",
       "        return chart.animate({\"config\": {\"channels\": {\"color\": \"type\", \"size\": \"Count\", \"label\": \"type\"}, \"title\": \"Animal in the zoo\", \"geometry\": \"circle\"}});\n",
       "    });\n",
       "</script>"
      ]
     },
     "metadata": {},
     "output_type": "display_data"
    },
    {
     "data": {
      "text/html": [
       "<script id=\"myVizzu_2a3e9a4\">\n",
       "    let display_2a3e9a4 = myVizzu_2a3e9a4.parentNode.parentNode.style.display;\n",
       "    myVizzu_2a3e9a4.parentNode.parentNode.style.display = \"none\";\n",
       "    chart_7713a20 = chart_7713a20.then(chart => {\n",
       "        if (myVizzu_7713a20.parentNode && myVizzu_7713a20.parentNode.parentNode) {\n",
       "            myVizzu_7713a20.parentNode.parentNode.style.display = \"none\";\n",
       "        }\n",
       "        myVizzu_2a3e9a4.parentNode.parentNode.style.display = display_2a3e9a4;\n",
       "        myVizzu_2a3e9a4.parentNode.insertBefore(myVizzu_7713a20, myVizzu_2a3e9a4);\n",
       "        if (!document.inhibitScroll && true) {\n",
       "            myVizzu_7713a20.scrollIntoView({behavior: \"auto\", block: \"center\"});\n",
       "        }\n",
       "        return chart.animate({\"config\": {\"channels\": {\"x\": \"type\", \"y\": \"Count\", \"label\": \"Count\"}, \"geometry\": \"rectangle\"}});\n",
       "    });\n",
       "</script>"
      ]
     },
     "metadata": {},
     "output_type": "display_data"
    },
    {
     "data": {
      "text/html": [
       "<script id=\"myVizzu_c51f053\">\n",
       "    let display_c51f053 = myVizzu_c51f053.parentNode.parentNode.style.display;\n",
       "    myVizzu_c51f053.parentNode.parentNode.style.display = \"none\";\n",
       "    chart_7713a20 = chart_7713a20.then(chart => {\n",
       "        if (myVizzu_7713a20.parentNode && myVizzu_7713a20.parentNode.parentNode) {\n",
       "            myVizzu_7713a20.parentNode.parentNode.style.display = \"none\";\n",
       "        }\n",
       "        myVizzu_c51f053.parentNode.parentNode.style.display = display_c51f053;\n",
       "        myVizzu_c51f053.parentNode.insertBefore(myVizzu_7713a20, myVizzu_c51f053);\n",
       "        if (!document.inhibitScroll && true) {\n",
       "            myVizzu_7713a20.scrollIntoView({behavior: \"auto\", block: \"center\"});\n",
       "        }\n",
       "        return chart.animate({\"config\": {\"channels\": {\"y\": [\"breathes\", \"Count\"], \"color\": \"breathes\"}}});\n",
       "    });\n",
       "</script>"
      ]
     },
     "metadata": {},
     "output_type": "display_data"
    },
    {
     "data": {
      "text/html": [
       "<script id=\"myVizzu_c787649\">\n",
       "    let display_c787649 = myVizzu_c787649.parentNode.parentNode.style.display;\n",
       "    myVizzu_c787649.parentNode.parentNode.style.display = \"none\";\n",
       "    chart_7713a20 = chart_7713a20.then(chart => {\n",
       "        if (myVizzu_7713a20.parentNode && myVizzu_7713a20.parentNode.parentNode) {\n",
       "            myVizzu_7713a20.parentNode.parentNode.style.display = \"none\";\n",
       "        }\n",
       "        myVizzu_c787649.parentNode.parentNode.style.display = display_c787649;\n",
       "        myVizzu_c787649.parentNode.insertBefore(myVizzu_7713a20, myVizzu_c787649);\n",
       "        if (!document.inhibitScroll && true) {\n",
       "            myVizzu_7713a20.scrollIntoView({behavior: \"auto\", block: \"center\"});\n",
       "        }\n",
       "        return chart.animate({\"config\": {\"channels\": {\"x\": [\"type\", \"breathes\"], \"y\": [\"Count\"]}}});\n",
       "    });\n",
       "</script>"
      ]
     },
     "metadata": {},
     "output_type": "display_data"
    },
    {
     "data": {
      "application/javascript": [
       "\n",
       "            setTimeout(function() {\n",
       "                var nbb_cell_id = 31;\n",
       "                var nbb_unformatted_code = \"chart = Chart()\\nchart.animate(data)\\n\\n\\nchart.animate(\\n    Config(\\n        {\\n            \\\"channels\\\": {\\n                \\\"color\\\": \\\"type\\\",\\n                \\\"size\\\": \\\"Count\\\",\\n                \\\"label\\\": \\\"type\\\",\\n            },\\n            \\\"title\\\": \\\"Animal in the zoo\\\",\\n            \\\"geometry\\\": \\\"circle\\\",\\n        }\\n    ),\\n)\\n\\nchart.animate(\\n    Config(\\n        {\\n            \\\"channels\\\": {\\n                \\\"x\\\": \\\"type\\\",\\n                \\\"y\\\": \\\"Count\\\",\\n                \\\"label\\\": \\\"Count\\\",\\n            },\\n            \\\"geometry\\\": \\\"rectangle\\\",\\n        }\\n    ),\\n)\\n\\nchart.animate(\\n    Config(\\n        {\\n            \\\"channels\\\": {\\n                \\\"y\\\": [\\\"breathes\\\", \\\"Count\\\"],\\n                \\\"color\\\": \\\"breathes\\\",\\n            },\\n        }\\n    ),\\n)\\n\\nchart.animate(\\n    Config(\\n        {\\n            \\\"channels\\\": {\\n                \\\"x\\\": [\\\"type\\\", \\\"breathes\\\"],\\n                \\\"y\\\": [\\\"Count\\\"],\\n            },\\n        }\\n    ),\\n)\";\n",
       "                var nbb_formatted_code = \"chart = Chart()\\nchart.animate(data)\\n\\n\\nchart.animate(\\n    Config(\\n        {\\n            \\\"channels\\\": {\\n                \\\"color\\\": \\\"type\\\",\\n                \\\"size\\\": \\\"Count\\\",\\n                \\\"label\\\": \\\"type\\\",\\n            },\\n            \\\"title\\\": \\\"Animal in the zoo\\\",\\n            \\\"geometry\\\": \\\"circle\\\",\\n        }\\n    ),\\n)\\n\\nchart.animate(\\n    Config(\\n        {\\n            \\\"channels\\\": {\\n                \\\"x\\\": \\\"type\\\",\\n                \\\"y\\\": \\\"Count\\\",\\n                \\\"label\\\": \\\"Count\\\",\\n            },\\n            \\\"geometry\\\": \\\"rectangle\\\",\\n        }\\n    ),\\n)\\n\\nchart.animate(\\n    Config(\\n        {\\n            \\\"channels\\\": {\\n                \\\"y\\\": [\\\"breathes\\\", \\\"Count\\\"],\\n                \\\"color\\\": \\\"breathes\\\",\\n            },\\n        }\\n    ),\\n)\\n\\nchart.animate(\\n    Config(\\n        {\\n            \\\"channels\\\": {\\n                \\\"x\\\": [\\\"type\\\", \\\"breathes\\\"],\\n                \\\"y\\\": [\\\"Count\\\"],\\n            },\\n        }\\n    ),\\n)\";\n",
       "                var nbb_cells = Jupyter.notebook.get_cells();\n",
       "                for (var i = 0; i < nbb_cells.length; ++i) {\n",
       "                    if (nbb_cells[i].input_prompt_number == nbb_cell_id) {\n",
       "                        if (nbb_cells[i].get_text() == nbb_unformatted_code) {\n",
       "                             nbb_cells[i].set_text(nbb_formatted_code);\n",
       "                        }\n",
       "                        break;\n",
       "                    }\n",
       "                }\n",
       "            }, 500);\n",
       "            "
      ],
      "text/plain": [
       "<IPython.core.display.Javascript object>"
      ]
     },
     "metadata": {},
     "output_type": "display_data"
    }
   ],
   "source": [
    "chart = Chart()\n",
    "chart.animate(data)\n",
    "\n",
    "\n",
    "chart.animate(\n",
    "    Config(\n",
    "        {\n",
    "            \"channels\": {\n",
    "                \"color\": \"type\",\n",
    "                \"size\": \"Count\",\n",
    "                \"label\": \"type\",\n",
    "            },\n",
    "            \"title\": \"Animal in the zoo\",\n",
    "            \"geometry\": \"circle\",\n",
    "        }\n",
    "    ),\n",
    ")\n",
    "\n",
    "chart.animate(\n",
    "    Config(\n",
    "        {\n",
    "            \"channels\": {\n",
    "                \"x\": \"type\",\n",
    "                \"y\": \"Count\",\n",
    "                \"label\": \"Count\",\n",
    "            },\n",
    "            \"geometry\": \"rectangle\",\n",
    "        }\n",
    "    ),\n",
    ")\n",
    "\n",
    "chart.animate(\n",
    "    Config(\n",
    "        {\n",
    "            \"channels\": {\n",
    "                \"y\": [\"breathes\", \"Count\"],\n",
    "                \"color\": \"breathes\",\n",
    "            },\n",
    "        }\n",
    "    ),\n",
    ")\n",
    "\n",
    "chart.animate(\n",
    "    Config(\n",
    "        {\n",
    "            \"channels\": {\n",
    "                \"x\": [\"type\", \"breathes\"],\n",
    "                \"y\": [\"Count\"],\n",
    "            },\n",
    "        }\n",
    "    ),\n",
    ")"
   ]
  },
  {
   "cell_type": "code",
   "execution_count": 32,
   "id": "b7084a0e",
   "metadata": {
    "ExecuteTime": {
     "end_time": "2022-04-10T12:30:25.340404Z",
     "start_time": "2022-04-10T12:30:25.318272Z"
    }
   },
   "outputs": [
    {
     "data": {
      "text/html": [
       "<script id=\"myVizzu_410c1b4\">\n",
       "    document.inhibitScroll = false;\n",
       "</script>"
      ]
     },
     "metadata": {},
     "output_type": "display_data"
    },
    {
     "data": {
      "text/html": [
       "<script id=\"myVizzu_ba2df94\">\n",
       "    document.inhibitScroll = false;\n",
       "</script>"
      ]
     },
     "metadata": {},
     "output_type": "display_data"
    },
    {
     "data": {
      "text/html": [
       "<script id=\"myVizzu_3a5f41d\">\n",
       "    document.inhibitScroll = false;\n",
       "</script>"
      ]
     },
     "metadata": {},
     "output_type": "display_data"
    },
    {
     "data": {
      "text/html": [
       "<script id=\"myVizzu_5c75e21\">\n",
       "    document.inhibitScroll = false;\n",
       "</script>"
      ]
     },
     "metadata": {},
     "output_type": "display_data"
    },
    {
     "data": {
      "text/html": [
       "<script id=\"myVizzu_cea60a4\">\n",
       "    document.inhibitScroll = false;\n",
       "</script>"
      ]
     },
     "metadata": {},
     "output_type": "display_data"
    },
    {
     "data": {
      "text/html": [
       "<script id=\"myVizzu_bd3416d\">\n",
       "    document.inhibitScroll = false;\n",
       "</script>"
      ]
     },
     "metadata": {},
     "output_type": "display_data"
    },
    {
     "data": {
      "text/html": [
       "<script id=\"myVizzu_7f14b6d\">\n",
       "    document.inhibitScroll = false;\n",
       "</script>"
      ]
     },
     "metadata": {},
     "output_type": "display_data"
    },
    {
     "data": {
      "text/html": [
       "<script id=\"myVizzu_66b4093\">\n",
       "    document.inhibitScroll = false;\n",
       "</script>"
      ]
     },
     "metadata": {},
     "output_type": "display_data"
    },
    {
     "data": {
      "text/html": [
       "<script id=\"myVizzu_018167e\">\n",
       "    document.inhibitScroll = false;\n",
       "</script>"
      ]
     },
     "metadata": {},
     "output_type": "display_data"
    },
    {
     "data": {
      "text/html": [
       "<div>\n",
       "<style scoped>\n",
       "    .dataframe tbody tr th:only-of-type {\n",
       "        vertical-align: middle;\n",
       "    }\n",
       "\n",
       "    .dataframe tbody tr th {\n",
       "        vertical-align: top;\n",
       "    }\n",
       "\n",
       "    .dataframe thead th {\n",
       "        text-align: right;\n",
       "    }\n",
       "</style>\n",
       "<table border=\"1\" class=\"dataframe\">\n",
       "  <thead>\n",
       "    <tr style=\"text-align: right;\">\n",
       "      <th></th>\n",
       "      <th>hair</th>\n",
       "      <th>feathers</th>\n",
       "      <th>eggs</th>\n",
       "      <th>milk</th>\n",
       "      <th>airborne</th>\n",
       "      <th>aquatic</th>\n",
       "      <th>predator</th>\n",
       "      <th>toothed</th>\n",
       "      <th>backbone</th>\n",
       "      <th>breathes</th>\n",
       "      <th>venomous</th>\n",
       "      <th>fins</th>\n",
       "      <th>legs</th>\n",
       "      <th>tail</th>\n",
       "      <th>domestic</th>\n",
       "      <th>catsize</th>\n",
       "      <th>type</th>\n",
       "      <th>Count</th>\n",
       "    </tr>\n",
       "  </thead>\n",
       "  <tbody>\n",
       "    <tr>\n",
       "      <th>0</th>\n",
       "      <td>hair</td>\n",
       "      <td>not_feathers</td>\n",
       "      <td>not_eggs</td>\n",
       "      <td>milk</td>\n",
       "      <td>not_airborne</td>\n",
       "      <td>not_aquatic</td>\n",
       "      <td>predator</td>\n",
       "      <td>toothed</td>\n",
       "      <td>backbone</td>\n",
       "      <td>breathes</td>\n",
       "      <td>not_venomous</td>\n",
       "      <td>not_fins</td>\n",
       "      <td>4.0</td>\n",
       "      <td>not_tail</td>\n",
       "      <td>not_domestic</td>\n",
       "      <td>catsize</td>\n",
       "      <td>mammal</td>\n",
       "      <td>1</td>\n",
       "    </tr>\n",
       "    <tr>\n",
       "      <th>1</th>\n",
       "      <td>hair</td>\n",
       "      <td>not_feathers</td>\n",
       "      <td>not_eggs</td>\n",
       "      <td>milk</td>\n",
       "      <td>not_airborne</td>\n",
       "      <td>not_aquatic</td>\n",
       "      <td>not_predator</td>\n",
       "      <td>toothed</td>\n",
       "      <td>backbone</td>\n",
       "      <td>breathes</td>\n",
       "      <td>not_venomous</td>\n",
       "      <td>not_fins</td>\n",
       "      <td>4.0</td>\n",
       "      <td>tail</td>\n",
       "      <td>not_domestic</td>\n",
       "      <td>catsize</td>\n",
       "      <td>mammal</td>\n",
       "      <td>1</td>\n",
       "    </tr>\n",
       "    <tr>\n",
       "      <th>2</th>\n",
       "      <td>not_hair</td>\n",
       "      <td>not_feathers</td>\n",
       "      <td>eggs</td>\n",
       "      <td>not_milk</td>\n",
       "      <td>not_airborne</td>\n",
       "      <td>aquatic</td>\n",
       "      <td>predator</td>\n",
       "      <td>toothed</td>\n",
       "      <td>backbone</td>\n",
       "      <td>not_breathes</td>\n",
       "      <td>not_venomous</td>\n",
       "      <td>fins</td>\n",
       "      <td>0.0</td>\n",
       "      <td>tail</td>\n",
       "      <td>not_domestic</td>\n",
       "      <td>not_catsize</td>\n",
       "      <td>fish</td>\n",
       "      <td>1</td>\n",
       "    </tr>\n",
       "    <tr>\n",
       "      <th>3</th>\n",
       "      <td>hair</td>\n",
       "      <td>not_feathers</td>\n",
       "      <td>not_eggs</td>\n",
       "      <td>milk</td>\n",
       "      <td>not_airborne</td>\n",
       "      <td>not_aquatic</td>\n",
       "      <td>predator</td>\n",
       "      <td>toothed</td>\n",
       "      <td>backbone</td>\n",
       "      <td>breathes</td>\n",
       "      <td>not_venomous</td>\n",
       "      <td>not_fins</td>\n",
       "      <td>4.0</td>\n",
       "      <td>not_tail</td>\n",
       "      <td>not_domestic</td>\n",
       "      <td>catsize</td>\n",
       "      <td>mammal</td>\n",
       "      <td>1</td>\n",
       "    </tr>\n",
       "    <tr>\n",
       "      <th>4</th>\n",
       "      <td>hair</td>\n",
       "      <td>not_feathers</td>\n",
       "      <td>not_eggs</td>\n",
       "      <td>milk</td>\n",
       "      <td>not_airborne</td>\n",
       "      <td>not_aquatic</td>\n",
       "      <td>predator</td>\n",
       "      <td>toothed</td>\n",
       "      <td>backbone</td>\n",
       "      <td>breathes</td>\n",
       "      <td>not_venomous</td>\n",
       "      <td>not_fins</td>\n",
       "      <td>4.0</td>\n",
       "      <td>tail</td>\n",
       "      <td>not_domestic</td>\n",
       "      <td>catsize</td>\n",
       "      <td>mammal</td>\n",
       "      <td>1</td>\n",
       "    </tr>\n",
       "    <tr>\n",
       "      <th>...</th>\n",
       "      <td>...</td>\n",
       "      <td>...</td>\n",
       "      <td>...</td>\n",
       "      <td>...</td>\n",
       "      <td>...</td>\n",
       "      <td>...</td>\n",
       "      <td>...</td>\n",
       "      <td>...</td>\n",
       "      <td>...</td>\n",
       "      <td>...</td>\n",
       "      <td>...</td>\n",
       "      <td>...</td>\n",
       "      <td>...</td>\n",
       "      <td>...</td>\n",
       "      <td>...</td>\n",
       "      <td>...</td>\n",
       "      <td>...</td>\n",
       "      <td>...</td>\n",
       "    </tr>\n",
       "    <tr>\n",
       "      <th>96</th>\n",
       "      <td>hair</td>\n",
       "      <td>not_feathers</td>\n",
       "      <td>not_eggs</td>\n",
       "      <td>milk</td>\n",
       "      <td>not_airborne</td>\n",
       "      <td>not_aquatic</td>\n",
       "      <td>not_predator</td>\n",
       "      <td>toothed</td>\n",
       "      <td>backbone</td>\n",
       "      <td>breathes</td>\n",
       "      <td>not_venomous</td>\n",
       "      <td>not_fins</td>\n",
       "      <td>2.0</td>\n",
       "      <td>tail</td>\n",
       "      <td>not_domestic</td>\n",
       "      <td>catsize</td>\n",
       "      <td>mammal</td>\n",
       "      <td>1</td>\n",
       "    </tr>\n",
       "    <tr>\n",
       "      <th>97</th>\n",
       "      <td>hair</td>\n",
       "      <td>not_feathers</td>\n",
       "      <td>eggs</td>\n",
       "      <td>not_milk</td>\n",
       "      <td>airborne</td>\n",
       "      <td>not_aquatic</td>\n",
       "      <td>not_predator</td>\n",
       "      <td>not_toothed</td>\n",
       "      <td>not_backbone</td>\n",
       "      <td>breathes</td>\n",
       "      <td>venomous</td>\n",
       "      <td>not_fins</td>\n",
       "      <td>6.0</td>\n",
       "      <td>not_tail</td>\n",
       "      <td>not_domestic</td>\n",
       "      <td>not_catsize</td>\n",
       "      <td>insect</td>\n",
       "      <td>1</td>\n",
       "    </tr>\n",
       "    <tr>\n",
       "      <th>98</th>\n",
       "      <td>hair</td>\n",
       "      <td>not_feathers</td>\n",
       "      <td>not_eggs</td>\n",
       "      <td>milk</td>\n",
       "      <td>not_airborne</td>\n",
       "      <td>not_aquatic</td>\n",
       "      <td>predator</td>\n",
       "      <td>toothed</td>\n",
       "      <td>backbone</td>\n",
       "      <td>breathes</td>\n",
       "      <td>not_venomous</td>\n",
       "      <td>not_fins</td>\n",
       "      <td>4.0</td>\n",
       "      <td>tail</td>\n",
       "      <td>not_domestic</td>\n",
       "      <td>catsize</td>\n",
       "      <td>mammal</td>\n",
       "      <td>1</td>\n",
       "    </tr>\n",
       "    <tr>\n",
       "      <th>99</th>\n",
       "      <td>not_hair</td>\n",
       "      <td>not_feathers</td>\n",
       "      <td>eggs</td>\n",
       "      <td>not_milk</td>\n",
       "      <td>not_airborne</td>\n",
       "      <td>not_aquatic</td>\n",
       "      <td>not_predator</td>\n",
       "      <td>not_toothed</td>\n",
       "      <td>not_backbone</td>\n",
       "      <td>breathes</td>\n",
       "      <td>not_venomous</td>\n",
       "      <td>not_fins</td>\n",
       "      <td>0.0</td>\n",
       "      <td>not_tail</td>\n",
       "      <td>not_domestic</td>\n",
       "      <td>not_catsize</td>\n",
       "      <td>invertebrate</td>\n",
       "      <td>1</td>\n",
       "    </tr>\n",
       "    <tr>\n",
       "      <th>100</th>\n",
       "      <td>not_hair</td>\n",
       "      <td>feathers</td>\n",
       "      <td>eggs</td>\n",
       "      <td>not_milk</td>\n",
       "      <td>airborne</td>\n",
       "      <td>not_aquatic</td>\n",
       "      <td>not_predator</td>\n",
       "      <td>not_toothed</td>\n",
       "      <td>backbone</td>\n",
       "      <td>breathes</td>\n",
       "      <td>not_venomous</td>\n",
       "      <td>not_fins</td>\n",
       "      <td>2.0</td>\n",
       "      <td>tail</td>\n",
       "      <td>not_domestic</td>\n",
       "      <td>not_catsize</td>\n",
       "      <td>bird</td>\n",
       "      <td>1</td>\n",
       "    </tr>\n",
       "  </tbody>\n",
       "</table>\n",
       "<p>101 rows × 18 columns</p>\n",
       "</div>"
      ],
      "text/plain": [
       "         hair      feathers      eggs      milk      airborne      aquatic  \\\n",
       "0        hair  not_feathers  not_eggs      milk  not_airborne  not_aquatic   \n",
       "1        hair  not_feathers  not_eggs      milk  not_airborne  not_aquatic   \n",
       "2    not_hair  not_feathers      eggs  not_milk  not_airborne      aquatic   \n",
       "3        hair  not_feathers  not_eggs      milk  not_airborne  not_aquatic   \n",
       "4        hair  not_feathers  not_eggs      milk  not_airborne  not_aquatic   \n",
       "..        ...           ...       ...       ...           ...          ...   \n",
       "96       hair  not_feathers  not_eggs      milk  not_airborne  not_aquatic   \n",
       "97       hair  not_feathers      eggs  not_milk      airborne  not_aquatic   \n",
       "98       hair  not_feathers  not_eggs      milk  not_airborne  not_aquatic   \n",
       "99   not_hair  not_feathers      eggs  not_milk  not_airborne  not_aquatic   \n",
       "100  not_hair      feathers      eggs  not_milk      airborne  not_aquatic   \n",
       "\n",
       "         predator      toothed      backbone      breathes      venomous  \\\n",
       "0        predator      toothed      backbone      breathes  not_venomous   \n",
       "1    not_predator      toothed      backbone      breathes  not_venomous   \n",
       "2        predator      toothed      backbone  not_breathes  not_venomous   \n",
       "3        predator      toothed      backbone      breathes  not_venomous   \n",
       "4        predator      toothed      backbone      breathes  not_venomous   \n",
       "..            ...          ...           ...           ...           ...   \n",
       "96   not_predator      toothed      backbone      breathes  not_venomous   \n",
       "97   not_predator  not_toothed  not_backbone      breathes      venomous   \n",
       "98       predator      toothed      backbone      breathes  not_venomous   \n",
       "99   not_predator  not_toothed  not_backbone      breathes  not_venomous   \n",
       "100  not_predator  not_toothed      backbone      breathes  not_venomous   \n",
       "\n",
       "         fins  legs      tail      domestic      catsize          type  Count  \n",
       "0    not_fins   4.0  not_tail  not_domestic      catsize        mammal      1  \n",
       "1    not_fins   4.0      tail  not_domestic      catsize        mammal      1  \n",
       "2        fins   0.0      tail  not_domestic  not_catsize          fish      1  \n",
       "3    not_fins   4.0  not_tail  not_domestic      catsize        mammal      1  \n",
       "4    not_fins   4.0      tail  not_domestic      catsize        mammal      1  \n",
       "..        ...   ...       ...           ...          ...           ...    ...  \n",
       "96   not_fins   2.0      tail  not_domestic      catsize        mammal      1  \n",
       "97   not_fins   6.0  not_tail  not_domestic  not_catsize        insect      1  \n",
       "98   not_fins   4.0      tail  not_domestic      catsize        mammal      1  \n",
       "99   not_fins   0.0  not_tail  not_domestic  not_catsize  invertebrate      1  \n",
       "100  not_fins   2.0      tail  not_domestic  not_catsize          bird      1  \n",
       "\n",
       "[101 rows x 18 columns]"
      ]
     },
     "execution_count": 32,
     "metadata": {},
     "output_type": "execute_result"
    },
    {
     "data": {
      "application/javascript": [
       "\n",
       "            setTimeout(function() {\n",
       "                var nbb_cell_id = 32;\n",
       "                var nbb_unformatted_code = \"zoo\";\n",
       "                var nbb_formatted_code = \"zoo\";\n",
       "                var nbb_cells = Jupyter.notebook.get_cells();\n",
       "                for (var i = 0; i < nbb_cells.length; ++i) {\n",
       "                    if (nbb_cells[i].input_prompt_number == nbb_cell_id) {\n",
       "                        if (nbb_cells[i].get_text() == nbb_unformatted_code) {\n",
       "                             nbb_cells[i].set_text(nbb_formatted_code);\n",
       "                        }\n",
       "                        break;\n",
       "                    }\n",
       "                }\n",
       "            }, 500);\n",
       "            "
      ],
      "text/plain": [
       "<IPython.core.display.Javascript object>"
      ]
     },
     "metadata": {},
     "output_type": "display_data"
    }
   ],
   "source": [
    "zoo"
   ]
  },
  {
   "cell_type": "code",
   "execution_count": 38,
   "id": "97b083c2",
   "metadata": {
    "ExecuteTime": {
     "end_time": "2022-04-10T12:33:07.180723Z",
     "start_time": "2022-04-10T12:33:07.155753Z"
    }
   },
   "outputs": [
    {
     "data": {
      "text/html": [
       "<script id=\"myVizzu_db04ee9\">\n",
       "    document.inhibitScroll = false;\n",
       "</script>"
      ]
     },
     "metadata": {},
     "output_type": "display_data"
    },
    {
     "data": {
      "text/html": [
       "<script id=\"myVizzu_ddd0720\">\n",
       "    document.inhibitScroll = false;\n",
       "</script>"
      ]
     },
     "metadata": {},
     "output_type": "display_data"
    },
    {
     "data": {
      "text/html": [
       "<script id=\"myVizzu_a7df696\">\n",
       "    document.inhibitScroll = false;\n",
       "</script>"
      ]
     },
     "metadata": {},
     "output_type": "display_data"
    },
    {
     "data": {
      "text/html": [
       "<script id=\"myVizzu_f5f3e30\">\n",
       "    document.inhibitScroll = false;\n",
       "</script>"
      ]
     },
     "metadata": {},
     "output_type": "display_data"
    },
    {
     "data": {
      "text/html": [
       "<script id=\"myVizzu_b591e81\">\n",
       "    document.inhibitScroll = false;\n",
       "</script>"
      ]
     },
     "metadata": {},
     "output_type": "display_data"
    },
    {
     "data": {
      "text/html": [
       "<script id=\"myVizzu_c26adbc\">\n",
       "    document.inhibitScroll = false;\n",
       "</script>"
      ]
     },
     "metadata": {},
     "output_type": "display_data"
    },
    {
     "data": {
      "text/html": [
       "<script id=\"myVizzu_a0cf76d\">\n",
       "    document.inhibitScroll = false;\n",
       "</script>"
      ]
     },
     "metadata": {},
     "output_type": "display_data"
    },
    {
     "data": {
      "text/html": [
       "<script id=\"myVizzu_f740304\">\n",
       "    document.inhibitScroll = false;\n",
       "</script>"
      ]
     },
     "metadata": {},
     "output_type": "display_data"
    },
    {
     "data": {
      "text/html": [
       "<script id=\"myVizzu_6e61c3a\">\n",
       "    document.inhibitScroll = false;\n",
       "</script>"
      ]
     },
     "metadata": {},
     "output_type": "display_data"
    },
    {
     "data": {
      "text/html": [
       "<script id=\"myVizzu_22e2bbd\">\n",
       "    document.inhibitScroll = false;\n",
       "</script>"
      ]
     },
     "metadata": {},
     "output_type": "display_data"
    },
    {
     "data": {
      "text/html": [
       "<script id=\"myVizzu_8c80b12\">\n",
       "    document.inhibitScroll = false;\n",
       "</script>"
      ]
     },
     "metadata": {},
     "output_type": "display_data"
    },
    {
     "data": {
      "text/html": [
       "<script id=\"myVizzu_e18ef98\">\n",
       "    document.inhibitScroll = false;\n",
       "</script>"
      ]
     },
     "metadata": {},
     "output_type": "display_data"
    },
    {
     "data": {
      "text/html": [
       "<script id=\"myVizzu_7343e16\">\n",
       "    document.inhibitScroll = false;\n",
       "</script>"
      ]
     },
     "metadata": {},
     "output_type": "display_data"
    },
    {
     "data": {
      "text/html": [
       "<script id=\"myVizzu_4df2853\">\n",
       "    document.inhibitScroll = false;\n",
       "</script>"
      ]
     },
     "metadata": {},
     "output_type": "display_data"
    },
    {
     "data": {
      "text/html": [
       "<script id=\"myVizzu_96732e8\">\n",
       "    document.inhibitScroll = false;\n",
       "</script>"
      ]
     },
     "metadata": {},
     "output_type": "display_data"
    },
    {
     "data": {
      "text/html": [
       "<script id=\"myVizzu_71b3246\">\n",
       "    document.inhibitScroll = false;\n",
       "    document.addEventListener('wheel', function (evt) { document.inhibitScroll = true }, true);\n",
       "    document.addEventListener('keydown', function (evt) { document.inhibitScroll = true }, true);\n",
       "    document.addEventListener('touchstart', function (evt) { document.inhibitScroll = true }, true);\n",
       "    let myVizzu_293e7b2 = document.createElement(\"div\");\n",
       "    myVizzu_293e7b2.style.cssText = \"width: 800px; height: 480px;\";\n",
       "    let chart_293e7b2 = import(\"https://cdn.jsdelivr.net/npm/vizzu@~0.4.0/dist/vizzu.min.js\").then(Vizzu => new Vizzu.default(myVizzu_293e7b2).initializing);\n",
       "    myVizzu_71b3246.parentNode.insertBefore(myVizzu_293e7b2, myVizzu_71b3246);\n",
       "</script>"
      ]
     },
     "metadata": {},
     "output_type": "display_data"
    },
    {
     "data": {
      "text/html": [
       "<script id=\"myVizzu_66b0a19\">\n",
       "    let display_66b0a19 = myVizzu_66b0a19.parentNode.parentNode.style.display;\n",
       "    myVizzu_66b0a19.parentNode.parentNode.style.display = \"none\";\n",
       "    chart_293e7b2 = chart_293e7b2.then(chart => {\n",
       "        if (myVizzu_293e7b2.parentNode && myVizzu_293e7b2.parentNode.parentNode) {\n",
       "            myVizzu_293e7b2.parentNode.parentNode.style.display = \"none\";\n",
       "        }\n",
       "        myVizzu_66b0a19.parentNode.parentNode.style.display = display_66b0a19;\n",
       "        myVizzu_66b0a19.parentNode.insertBefore(myVizzu_293e7b2, myVizzu_66b0a19);\n",
       "        if (!document.inhibitScroll && true) {\n",
       "            myVizzu_293e7b2.scrollIntoView({behavior: \"auto\", block: \"center\"});\n",
       "        }\n",
       "        return chart.animate({\"data\": {\"series\": [{\"name\": \"hair\", \"type\": \"dimension\", \"values\": [\"hair\", \"hair\", \"not_hair\", \"hair\", \"hair\", \"hair\", \"hair\", \"not_hair\", \"not_hair\", \"hair\", \"hair\", \"not_hair\", \"not_hair\", \"not_hair\", \"not_hair\", \"not_hair\", \"not_hair\", \"hair\", \"not_hair\", \"not_hair\", \"not_hair\", \"not_hair\", \"hair\", \"not_hair\", \"not_hair\", \"not_hair\", \"not_hair\", \"hair\", \"hair\", \"hair\", \"not_hair\", \"hair\", \"hair\", \"not_hair\", \"not_hair\", \"hair\", \"hair\", \"not_hair\", \"not_hair\", \"hair\", \"hair\", \"not_hair\", \"not_hair\", \"not_hair\", \"hair\", \"hair\", \"not_hair\", \"hair\", \"hair\", \"hair\", \"hair\", \"hair\", \"not_hair\", \"not_hair\", \"hair\", \"hair\", \"not_hair\", \"not_hair\", \"not_hair\", \"not_hair\", \"not_hair\", \"not_hair\", \"not_hair\", \"hair\", \"hair\", \"hair\", \"not_hair\", \"hair\", \"hair\", \"hair\", \"hair\", \"not_hair\", \"not_hair\", \"not_hair\", \"hair\", \"hair\", \"not_hair\", \"not_hair\", \"not_hair\", \"not_hair\", \"not_hair\", \"not_hair\", \"not_hair\", \"not_hair\", \"hair\", \"not_hair\", \"not_hair\", \"not_hair\", \"not_hair\", \"not_hair\", \"not_hair\", \"not_hair\", \"not_hair\", \"hair\", \"hair\", \"not_hair\", \"hair\", \"hair\", \"hair\", \"not_hair\", \"not_hair\"]}, {\"name\": \"feathers\", \"type\": \"dimension\", \"values\": [\"not_feathers\", \"not_feathers\", \"not_feathers\", \"not_feathers\", \"not_feathers\", \"not_feathers\", \"not_feathers\", \"not_feathers\", \"not_feathers\", \"not_feathers\", \"not_feathers\", \"feathers\", \"not_feathers\", \"not_feathers\", \"not_feathers\", \"not_feathers\", \"feathers\", \"not_feathers\", \"not_feathers\", \"not_feathers\", \"feathers\", \"feathers\", \"not_feathers\", \"feathers\", \"not_feathers\", \"not_feathers\", \"not_feathers\", \"not_feathers\", \"not_feathers\", \"not_feathers\", \"not_feathers\", \"not_feathers\", \"not_feathers\", \"feathers\", \"not_feathers\", \"not_feathers\", \"not_feathers\", \"feathers\", \"not_feathers\", \"not_feathers\", \"not_feathers\", \"feathers\", \"not_feathers\", \"feathers\", \"not_feathers\", \"not_feathers\", \"not_feathers\", \"not_feathers\", \"not_feathers\", \"not_feathers\", \"not_feathers\", \"not_feathers\", \"not_feathers\", \"not_feathers\", \"not_feathers\", \"not_feathers\", \"feathers\", \"feathers\", \"feathers\", \"feathers\", \"not_feathers\", \"not_feathers\", \"not_feathers\", \"not_feathers\", \"not_feathers\", \"not_feathers\", \"not_feathers\", \"not_feathers\", \"not_feathers\", \"not_feathers\", \"not_feathers\", \"feathers\", \"not_feathers\", \"not_feathers\", \"not_feathers\", \"not_feathers\", \"not_feathers\", \"not_feathers\", \"feathers\", \"feathers\", \"not_feathers\", \"not_feathers\", \"not_feathers\", \"feathers\", \"not_feathers\", \"not_feathers\", \"not_feathers\", \"feathers\", \"not_feathers\", \"not_feathers\", \"not_feathers\", \"not_feathers\", \"not_feathers\", \"not_feathers\", \"not_feathers\", \"feathers\", \"not_feathers\", \"not_feathers\", \"not_feathers\", \"not_feathers\", \"feathers\"]}, {\"name\": \"eggs\", \"type\": \"dimension\", \"values\": [\"not_eggs\", \"not_eggs\", \"eggs\", \"not_eggs\", \"not_eggs\", \"not_eggs\", \"not_eggs\", \"eggs\", \"eggs\", \"not_eggs\", \"not_eggs\", \"eggs\", \"eggs\", \"eggs\", \"eggs\", \"eggs\", \"eggs\", \"not_eggs\", \"eggs\", \"not_eggs\", \"eggs\", \"eggs\", \"not_eggs\", \"eggs\", \"eggs\", \"eggs\", \"eggs\", \"not_eggs\", \"not_eggs\", \"not_eggs\", \"eggs\", \"not_eggs\", \"not_eggs\", \"eggs\", \"eggs\", \"not_eggs\", \"not_eggs\", \"eggs\", \"eggs\", \"eggs\", \"eggs\", \"eggs\", \"eggs\", \"eggs\", \"not_eggs\", \"not_eggs\", \"eggs\", \"not_eggs\", \"not_eggs\", \"not_eggs\", \"not_eggs\", \"eggs\", \"eggs\", \"eggs\", \"not_eggs\", \"not_eggs\", \"eggs\", \"eggs\", \"eggs\", \"eggs\", \"eggs\", \"eggs\", \"eggs\", \"eggs\", \"not_eggs\", \"not_eggs\", \"not_eggs\", \"not_eggs\", \"not_eggs\", \"not_eggs\", \"not_eggs\", \"eggs\", \"not_eggs\", \"eggs\", \"not_eggs\", \"not_eggs\", \"not_eggs\", \"eggs\", \"eggs\", \"eggs\", \"eggs\", \"eggs\", \"eggs\", \"eggs\", \"not_eggs\", \"eggs\", \"eggs\", \"eggs\", \"eggs\", \"eggs\", \"eggs\", \"eggs\", \"eggs\", \"not_eggs\", \"not_eggs\", \"eggs\", \"not_eggs\", \"eggs\", \"not_eggs\", \"eggs\", \"eggs\"]}, {\"name\": \"milk\", \"type\": \"dimension\", \"values\": [\"milk\", \"milk\", \"not_milk\", \"milk\", \"milk\", \"milk\", \"milk\", \"not_milk\", \"not_milk\", \"milk\", \"milk\", \"not_milk\", \"not_milk\", \"not_milk\", \"not_milk\", \"not_milk\", \"not_milk\", \"milk\", \"not_milk\", \"milk\", \"not_milk\", \"not_milk\", \"milk\", \"not_milk\", \"not_milk\", \"not_milk\", \"not_milk\", \"milk\", \"milk\", \"milk\", \"not_milk\", \"milk\", \"milk\", \"not_milk\", \"not_milk\", \"milk\", \"milk\", \"not_milk\", \"not_milk\", \"not_milk\", \"not_milk\", \"not_milk\", \"not_milk\", \"not_milk\", \"milk\", \"milk\", \"not_milk\", \"milk\", \"milk\", \"milk\", \"milk\", \"not_milk\", \"not_milk\", \"not_milk\", \"milk\", \"milk\", \"not_milk\", \"not_milk\", \"not_milk\", \"not_milk\", \"not_milk\", \"not_milk\", \"not_milk\", \"milk\", \"milk\", \"milk\", \"milk\", \"milk\", \"milk\", \"milk\", \"milk\", \"not_milk\", \"not_milk\", \"not_milk\", \"milk\", \"milk\", \"not_milk\", \"not_milk\", \"not_milk\", \"not_milk\", \"not_milk\", \"not_milk\", \"not_milk\", \"not_milk\", \"milk\", \"not_milk\", \"not_milk\", \"not_milk\", \"not_milk\", \"not_milk\", \"not_milk\", \"not_milk\", \"not_milk\", \"milk\", \"milk\", \"not_milk\", \"milk\", \"not_milk\", \"milk\", \"not_milk\", \"not_milk\"]}, {\"name\": \"airborne\", \"type\": \"dimension\", \"values\": [\"not_airborne\", \"not_airborne\", \"not_airborne\", \"not_airborne\", \"not_airborne\", \"not_airborne\", \"not_airborne\", \"not_airborne\", \"not_airborne\", \"not_airborne\", \"not_airborne\", \"airborne\", \"not_airborne\", \"not_airborne\", \"not_airborne\", \"not_airborne\", \"airborne\", \"not_airborne\", \"not_airborne\", \"not_airborne\", \"airborne\", \"airborne\", \"not_airborne\", \"airborne\", \"not_airborne\", \"not_airborne\", \"not_airborne\", \"airborne\", \"not_airborne\", \"not_airborne\", \"airborne\", \"not_airborne\", \"not_airborne\", \"airborne\", \"not_airborne\", \"not_airborne\", \"not_airborne\", \"airborne\", \"not_airborne\", \"airborne\", \"airborne\", \"not_airborne\", \"airborne\", \"airborne\", \"not_airborne\", \"not_airborne\", \"not_airborne\", \"not_airborne\", \"not_airborne\", \"not_airborne\", \"not_airborne\", \"airborne\", \"not_airborne\", \"not_airborne\", \"not_airborne\", \"not_airborne\", \"not_airborne\", \"airborne\", \"not_airborne\", \"airborne\", \"not_airborne\", \"not_airborne\", \"not_airborne\", \"not_airborne\", \"not_airborne\", \"not_airborne\", \"not_airborne\", \"not_airborne\", \"not_airborne\", \"not_airborne\", \"not_airborne\", \"not_airborne\", \"not_airborne\", \"not_airborne\", \"not_airborne\", \"not_airborne\", \"not_airborne\", \"not_airborne\", \"airborne\", \"airborne\", \"not_airborne\", \"not_airborne\", \"not_airborne\", \"airborne\", \"not_airborne\", \"not_airborne\", \"not_airborne\", \"airborne\", \"not_airborne\", \"not_airborne\", \"not_airborne\", \"not_airborne\", \"not_airborne\", \"airborne\", \"not_airborne\", \"airborne\", \"not_airborne\", \"airborne\", \"not_airborne\", \"not_airborne\", \"airborne\"]}, {\"name\": \"aquatic\", \"type\": \"dimension\", \"values\": [\"not_aquatic\", \"not_aquatic\", \"aquatic\", \"not_aquatic\", \"not_aquatic\", \"not_aquatic\", \"not_aquatic\", \"aquatic\", \"aquatic\", \"not_aquatic\", \"not_aquatic\", \"not_aquatic\", \"aquatic\", \"not_aquatic\", \"aquatic\", \"aquatic\", \"not_aquatic\", \"not_aquatic\", \"aquatic\", \"aquatic\", \"not_aquatic\", \"aquatic\", \"not_aquatic\", \"not_aquatic\", \"not_aquatic\", \"aquatic\", \"aquatic\", \"not_aquatic\", \"not_aquatic\", \"not_aquatic\", \"not_aquatic\", \"not_aquatic\", \"not_aquatic\", \"aquatic\", \"aquatic\", \"not_aquatic\", \"not_aquatic\", \"not_aquatic\", \"aquatic\", \"not_aquatic\", \"not_aquatic\", \"not_aquatic\", \"not_aquatic\", \"not_aquatic\", \"not_aquatic\", \"not_aquatic\", \"aquatic\", \"not_aquatic\", \"aquatic\", \"not_aquatic\", \"not_aquatic\", \"not_aquatic\", \"aquatic\", \"aquatic\", \"not_aquatic\", \"not_aquatic\", \"not_aquatic\", \"not_aquatic\", \"aquatic\", \"not_aquatic\", \"aquatic\", \"aquatic\", \"not_aquatic\", \"aquatic\", \"not_aquatic\", \"not_aquatic\", \"aquatic\", \"not_aquatic\", \"not_aquatic\", \"not_aquatic\", \"not_aquatic\", \"not_aquatic\", \"not_aquatic\", \"aquatic\", \"aquatic\", \"aquatic\", \"aquatic\", \"aquatic\", \"aquatic\", \"aquatic\", \"not_aquatic\", \"not_aquatic\", \"aquatic\", \"not_aquatic\", \"not_aquatic\", \"aquatic\", \"aquatic\", \"aquatic\", \"not_aquatic\", \"aquatic\", \"not_aquatic\", \"not_aquatic\", \"aquatic\", \"not_aquatic\", \"not_aquatic\", \"not_aquatic\", \"not_aquatic\", \"not_aquatic\", \"not_aquatic\", \"not_aquatic\", \"not_aquatic\"]}, {\"name\": \"predator\", \"type\": \"dimension\", \"values\": [\"predator\", \"not_predator\", \"predator\", \"predator\", \"predator\", \"not_predator\", \"not_predator\", \"not_predator\", \"predator\", \"not_predator\", \"predator\", \"not_predator\", \"predator\", \"predator\", \"predator\", \"predator\", \"predator\", \"not_predator\", \"predator\", \"predator\", \"not_predator\", \"not_predator\", \"not_predator\", \"not_predator\", \"not_predator\", \"predator\", \"predator\", \"not_predator\", \"not_predator\", \"predator\", \"not_predator\", \"not_predator\", \"not_predator\", \"predator\", \"not_predator\", \"not_predator\", \"not_predator\", \"predator\", \"predator\", \"not_predator\", \"not_predator\", \"predator\", \"predator\", \"not_predator\", \"predator\", \"predator\", \"predator\", \"predator\", \"predator\", \"predator\", \"predator\", \"not_predator\", \"predator\", \"predator\", \"predator\", \"not_predator\", \"not_predator\", \"not_predator\", \"predator\", \"not_predator\", \"predator\", \"predator\", \"predator\", \"predator\", \"predator\", \"not_predator\", \"predator\", \"predator\", \"predator\", \"predator\", \"not_predator\", \"predator\", \"predator\", \"not_predator\", \"predator\", \"predator\", \"predator\", \"predator\", \"predator\", \"predator\", \"predator\", \"not_predator\", \"not_predator\", \"not_predator\", \"not_predator\", \"predator\", \"predator\", \"not_predator\", \"not_predator\", \"not_predator\", \"not_predator\", \"predator\", \"predator\", \"not_predator\", \"not_predator\", \"predator\", \"not_predator\", \"not_predator\", \"predator\", \"not_predator\", \"not_predator\"]}, {\"name\": \"toothed\", \"type\": \"dimension\", \"values\": [\"toothed\", \"toothed\", \"toothed\", \"toothed\", \"toothed\", \"toothed\", \"toothed\", \"toothed\", \"toothed\", \"toothed\", \"toothed\", \"not_toothed\", \"toothed\", \"not_toothed\", \"not_toothed\", \"not_toothed\", \"not_toothed\", \"toothed\", \"toothed\", \"toothed\", \"not_toothed\", \"not_toothed\", \"toothed\", \"not_toothed\", \"not_toothed\", \"toothed\", \"toothed\", \"toothed\", \"toothed\", \"toothed\", \"not_toothed\", \"toothed\", \"toothed\", \"not_toothed\", \"toothed\", \"toothed\", \"toothed\", \"not_toothed\", \"toothed\", \"not_toothed\", \"not_toothed\", \"not_toothed\", \"not_toothed\", \"not_toothed\", \"toothed\", \"toothed\", \"not_toothed\", \"toothed\", \"toothed\", \"toothed\", \"toothed\", \"not_toothed\", \"toothed\", \"not_toothed\", \"toothed\", \"toothed\", \"not_toothed\", \"not_toothed\", \"not_toothed\", \"not_toothed\", \"toothed\", \"toothed\", \"toothed\", \"not_toothed\", \"toothed\", \"toothed\", \"toothed\", \"toothed\", \"toothed\", \"toothed\", \"toothed\", \"not_toothed\", \"not_toothed\", \"toothed\", \"toothed\", \"toothed\", \"toothed\", \"not_toothed\", \"not_toothed\", \"not_toothed\", \"toothed\", \"not_toothed\", \"toothed\", \"not_toothed\", \"toothed\", \"not_toothed\", \"toothed\", \"not_toothed\", \"not_toothed\", \"toothed\", \"not_toothed\", \"toothed\", \"toothed\", \"toothed\", \"toothed\", \"not_toothed\", \"toothed\", \"not_toothed\", \"toothed\", \"not_toothed\", \"not_toothed\"]}, {\"name\": \"backbone\", \"type\": \"dimension\", \"values\": [\"backbone\", \"backbone\", \"backbone\", \"backbone\", \"backbone\", \"backbone\", \"backbone\", \"backbone\", \"backbone\", \"backbone\", \"backbone\", \"backbone\", \"backbone\", \"not_backbone\", \"not_backbone\", \"not_backbone\", \"backbone\", \"backbone\", \"backbone\", \"backbone\", \"backbone\", \"backbone\", \"backbone\", \"backbone\", \"not_backbone\", \"backbone\", \"backbone\", \"backbone\", \"backbone\", \"backbone\", \"not_backbone\", \"backbone\", \"backbone\", \"backbone\", \"backbone\", \"backbone\", \"backbone\", \"backbone\", \"backbone\", \"not_backbone\", \"not_backbone\", \"backbone\", \"not_backbone\", \"backbone\", \"backbone\", \"backbone\", \"not_backbone\", \"backbone\", \"backbone\", \"backbone\", \"backbone\", \"not_backbone\", \"backbone\", \"not_backbone\", \"backbone\", \"backbone\", \"backbone\", \"backbone\", \"backbone\", \"backbone\", \"backbone\", \"backbone\", \"backbone\", \"backbone\", \"backbone\", \"backbone\", \"backbone\", \"backbone\", \"backbone\", \"backbone\", \"backbone\", \"backbone\", \"not_backbone\", \"backbone\", \"backbone\", \"backbone\", \"backbone\", \"not_backbone\", \"backbone\", \"backbone\", \"backbone\", \"not_backbone\", \"backbone\", \"backbone\", \"backbone\", \"not_backbone\", \"backbone\", \"backbone\", \"not_backbone\", \"backbone\", \"backbone\", \"backbone\", \"backbone\", \"backbone\", \"backbone\", \"backbone\", \"backbone\", \"not_backbone\", \"backbone\", \"not_backbone\", \"backbone\"]}, {\"name\": \"breathes\", \"type\": \"dimension\", \"values\": [\"breathes\", \"breathes\", \"not_breathes\", \"breathes\", \"breathes\", \"breathes\", \"breathes\", \"not_breathes\", \"not_breathes\", \"breathes\", \"breathes\", \"breathes\", \"not_breathes\", \"not_breathes\", \"not_breathes\", \"not_breathes\", \"breathes\", \"breathes\", \"not_breathes\", \"breathes\", \"breathes\", \"breathes\", \"breathes\", \"breathes\", \"breathes\", \"breathes\", \"breathes\", \"breathes\", \"breathes\", \"breathes\", \"breathes\", \"breathes\", \"breathes\", \"breathes\", \"not_breathes\", \"breathes\", \"breathes\", \"breathes\", \"not_breathes\", \"breathes\", \"breathes\", \"breathes\", \"breathes\", \"breathes\", \"breathes\", \"breathes\", \"not_breathes\", \"breathes\", \"breathes\", \"breathes\", \"breathes\", \"breathes\", \"breathes\", \"not_breathes\", \"breathes\", \"breathes\", \"breathes\", \"breathes\", \"breathes\", \"breathes\", \"not_breathes\", \"not_breathes\", \"breathes\", \"breathes\", \"breathes\", \"breathes\", \"breathes\", \"breathes\", \"breathes\", \"breathes\", \"breathes\", \"breathes\", \"breathes\", \"not_breathes\", \"breathes\", \"breathes\", \"not_breathes\", \"not_breathes\", \"breathes\", \"breathes\", \"breathes\", \"breathes\", \"not_breathes\", \"breathes\", \"breathes\", \"not_breathes\", \"not_breathes\", \"breathes\", \"breathes\", \"breathes\", \"breathes\", \"breathes\", \"not_breathes\", \"breathes\", \"breathes\", \"breathes\", \"breathes\", \"breathes\", \"breathes\", \"breathes\", \"breathes\"]}, {\"name\": \"venomous\", \"type\": \"dimension\", \"values\": [\"not_venomous\", \"not_venomous\", \"not_venomous\", \"not_venomous\", \"not_venomous\", \"not_venomous\", \"not_venomous\", \"not_venomous\", \"not_venomous\", \"not_venomous\", \"not_venomous\", \"not_venomous\", \"not_venomous\", \"not_venomous\", \"not_venomous\", \"not_venomous\", \"not_venomous\", \"not_venomous\", \"not_venomous\", \"not_venomous\", \"not_venomous\", \"not_venomous\", \"not_venomous\", \"not_venomous\", \"not_venomous\", \"not_venomous\", \"venomous\", \"not_venomous\", \"not_venomous\", \"not_venomous\", \"not_venomous\", \"not_venomous\", \"not_venomous\", \"not_venomous\", \"not_venomous\", \"not_venomous\", \"not_venomous\", \"not_venomous\", \"not_venomous\", \"venomous\", \"not_venomous\", \"not_venomous\", \"not_venomous\", \"not_venomous\", \"not_venomous\", \"not_venomous\", \"not_venomous\", \"not_venomous\", \"not_venomous\", \"not_venomous\", \"not_venomous\", \"not_venomous\", \"not_venomous\", \"not_venomous\", \"not_venomous\", \"not_venomous\", \"not_venomous\", \"not_venomous\", \"not_venomous\", \"not_venomous\", \"not_venomous\", \"not_venomous\", \"venomous\", \"not_venomous\", \"not_venomous\", \"not_venomous\", \"not_venomous\", \"not_venomous\", \"not_venomous\", \"not_venomous\", \"not_venomous\", \"not_venomous\", \"venomous\", \"not_venomous\", \"not_venomous\", \"not_venomous\", \"venomous\", \"venomous\", \"not_venomous\", \"not_venomous\", \"not_venomous\", \"not_venomous\", \"not_venomous\", \"not_venomous\", \"not_venomous\", \"not_venomous\", \"venomous\", \"not_venomous\", \"not_venomous\", \"not_venomous\", \"not_venomous\", \"not_venomous\", \"not_venomous\", \"not_venomous\", \"not_venomous\", \"not_venomous\", \"not_venomous\", \"venomous\", \"not_venomous\", \"not_venomous\", \"not_venomous\"]}, {\"name\": \"fins\", \"type\": \"dimension\", \"values\": [\"not_fins\", \"not_fins\", \"fins\", \"not_fins\", \"not_fins\", \"not_fins\", \"not_fins\", \"fins\", \"fins\", \"not_fins\", \"not_fins\", \"not_fins\", \"fins\", \"not_fins\", \"not_fins\", \"not_fins\", \"not_fins\", \"not_fins\", \"fins\", \"fins\", \"not_fins\", \"not_fins\", \"not_fins\", \"not_fins\", \"not_fins\", \"not_fins\", \"not_fins\", \"not_fins\", \"not_fins\", \"not_fins\", \"not_fins\", \"not_fins\", \"not_fins\", \"not_fins\", \"fins\", \"not_fins\", \"not_fins\", \"not_fins\", \"fins\", \"not_fins\", \"not_fins\", \"not_fins\", \"not_fins\", \"not_fins\", \"not_fins\", \"not_fins\", \"not_fins\", \"not_fins\", \"not_fins\", \"not_fins\", \"not_fins\", \"not_fins\", \"not_fins\", \"not_fins\", \"not_fins\", \"not_fins\", \"not_fins\", \"not_fins\", \"not_fins\", \"not_fins\", \"fins\", \"fins\", \"not_fins\", \"not_fins\", \"not_fins\", \"not_fins\", \"fins\", \"not_fins\", \"not_fins\", \"not_fins\", \"not_fins\", \"not_fins\", \"not_fins\", \"fins\", \"fins\", \"fins\", \"not_fins\", \"not_fins\", \"not_fins\", \"not_fins\", \"not_fins\", \"not_fins\", \"fins\", \"not_fins\", \"not_fins\", \"not_fins\", \"fins\", \"not_fins\", \"not_fins\", \"not_fins\", \"not_fins\", \"not_fins\", \"fins\", \"not_fins\", \"not_fins\", \"not_fins\", \"not_fins\", \"not_fins\", \"not_fins\", \"not_fins\", \"not_fins\"]}, {\"name\": \"legs\", \"type\": \"measure\", \"values\": [4.0, 4.0, 0.0, 4.0, 4.0, 4.0, 4.0, 0.0, 0.0, 4.0, 4.0, 2.0, 0.0, 0.0, 4.0, 6.0, 2.0, 4.0, 0.0, 0.0, 2.0, 2.0, 4.0, 2.0, 6.0, 4.0, 4.0, 2.0, 4.0, 2.0, 6.0, 4.0, 2.0, 2.0, 0.0, 4.0, 4.0, 2.0, 0.0, 6.0, 6.0, 2.0, 6.0, 2.0, 4.0, 4.0, 6.0, 4.0, 4.0, 4.0, 4.0, 6.0, 4.0, 8.0, 4.0, 4.0, 2.0, 2.0, 2.0, 2.0, 0.0, 0.0, 0.0, 4.0, 4.0, 4.0, 0.0, 4.0, 4.0, 4.0, 4.0, 2.0, 8.0, 0.0, 0.0, 2.0, 0.0, 0.0, 2.0, 2.0, 0.0, 0.0, 0.0, 2.0, 2.0, 5.0, 0.0, 2.0, 6.0, 4.0, 4.0, 4.0, 0.0, 2.0, 4.0, 2.0, 2.0, 6.0, 4.0, 0.0, 2.0]}, {\"name\": \"tail\", \"type\": \"dimension\", \"values\": [\"not_tail\", \"tail\", \"tail\", \"not_tail\", \"tail\", \"tail\", \"tail\", \"tail\", \"tail\", \"not_tail\", \"tail\", \"tail\", \"tail\", \"not_tail\", \"not_tail\", \"not_tail\", \"tail\", \"tail\", \"tail\", \"tail\", \"tail\", \"tail\", \"tail\", \"tail\", \"not_tail\", \"not_tail\", \"not_tail\", \"tail\", \"tail\", \"not_tail\", \"not_tail\", \"tail\", \"not_tail\", \"tail\", \"tail\", \"tail\", \"tail\", \"tail\", \"tail\", \"not_tail\", \"not_tail\", \"tail\", \"not_tail\", \"tail\", \"tail\", \"tail\", \"not_tail\", \"tail\", \"tail\", \"tail\", \"tail\", \"not_tail\", \"tail\", \"not_tail\", \"tail\", \"tail\", \"tail\", \"tail\", \"tail\", \"tail\", \"tail\", \"tail\", \"tail\", \"tail\", \"tail\", \"tail\", \"tail\", \"tail\", \"tail\", \"tail\", \"tail\", \"tail\", \"tail\", \"tail\", \"not_tail\", \"tail\", \"tail\", \"not_tail\", \"tail\", \"tail\", \"tail\", \"not_tail\", \"tail\", \"tail\", \"tail\", \"not_tail\", \"tail\", \"tail\", \"not_tail\", \"not_tail\", \"tail\", \"tail\", \"tail\", \"tail\", \"tail\", \"tail\", \"tail\", \"not_tail\", \"tail\", \"not_tail\", \"tail\"]}, {\"name\": \"domestic\", \"type\": \"dimension\", \"values\": [\"not_domestic\", \"not_domestic\", \"not_domestic\", \"not_domestic\", \"not_domestic\", \"not_domestic\", \"domestic\", \"domestic\", \"not_domestic\", \"domestic\", \"not_domestic\", \"domestic\", \"not_domestic\", \"not_domestic\", \"not_domestic\", \"not_domestic\", \"not_domestic\", \"not_domestic\", \"not_domestic\", \"not_domestic\", \"domestic\", \"not_domestic\", \"not_domestic\", \"not_domestic\", \"not_domestic\", \"not_domestic\", \"not_domestic\", \"not_domestic\", \"not_domestic\", \"domestic\", \"not_domestic\", \"domestic\", \"not_domestic\", \"not_domestic\", \"not_domestic\", \"domestic\", \"not_domestic\", \"not_domestic\", \"not_domestic\", \"domestic\", \"not_domestic\", \"not_domestic\", \"not_domestic\", \"not_domestic\", \"not_domestic\", \"not_domestic\", \"not_domestic\", \"not_domestic\", \"not_domestic\", \"not_domestic\", \"not_domestic\", \"not_domestic\", \"not_domestic\", \"not_domestic\", \"not_domestic\", \"not_domestic\", \"not_domestic\", \"domestic\", \"not_domestic\", \"not_domestic\", \"not_domestic\", \"not_domestic\", \"not_domestic\", \"not_domestic\", \"not_domestic\", \"domestic\", \"not_domestic\", \"not_domestic\", \"domestic\", \"not_domestic\", \"domestic\", \"not_domestic\", \"not_domestic\", \"not_domestic\", \"not_domestic\", \"not_domestic\", \"not_domestic\", \"not_domestic\", \"not_domestic\", \"not_domestic\", \"not_domestic\", \"not_domestic\", \"not_domestic\", \"not_domestic\", \"not_domestic\", \"not_domestic\", \"not_domestic\", \"not_domestic\", \"not_domestic\", \"not_domestic\", \"not_domestic\", \"not_domestic\", \"not_domestic\", \"not_domestic\", \"not_domestic\", \"not_domestic\", \"not_domestic\", \"not_domestic\", \"not_domestic\", \"not_domestic\", \"not_domestic\"]}, {\"name\": \"catsize\", \"type\": \"dimension\", \"values\": [\"catsize\", \"catsize\", \"not_catsize\", \"catsize\", \"catsize\", \"catsize\", \"catsize\", \"not_catsize\", \"not_catsize\", \"not_catsize\", \"catsize\", \"not_catsize\", \"not_catsize\", \"not_catsize\", \"not_catsize\", \"not_catsize\", \"not_catsize\", \"catsize\", \"catsize\", \"catsize\", \"not_catsize\", \"not_catsize\", \"catsize\", \"catsize\", \"not_catsize\", \"not_catsize\", \"not_catsize\", \"not_catsize\", \"catsize\", \"catsize\", \"not_catsize\", \"catsize\", \"catsize\", \"not_catsize\", \"not_catsize\", \"not_catsize\", \"not_catsize\", \"not_catsize\", \"not_catsize\", \"not_catsize\", \"not_catsize\", \"not_catsize\", \"not_catsize\", \"not_catsize\", \"catsize\", \"catsize\", \"not_catsize\", \"catsize\", \"catsize\", \"not_catsize\", \"catsize\", \"not_catsize\", \"not_catsize\", \"catsize\", \"not_catsize\", \"catsize\", \"catsize\", \"not_catsize\", \"catsize\", \"not_catsize\", \"catsize\", \"not_catsize\", \"not_catsize\", \"catsize\", \"catsize\", \"catsize\", \"catsize\", \"catsize\", \"catsize\", \"catsize\", \"catsize\", \"catsize\", \"not_catsize\", \"not_catsize\", \"catsize\", \"catsize\", \"not_catsize\", \"not_catsize\", \"not_catsize\", \"not_catsize\", \"not_catsize\", \"not_catsize\", \"not_catsize\", \"not_catsize\", \"not_catsize\", \"not_catsize\", \"catsize\", \"catsize\", \"not_catsize\", \"not_catsize\", \"catsize\", \"not_catsize\", \"catsize\", \"not_catsize\", \"not_catsize\", \"catsize\", \"catsize\", \"not_catsize\", \"catsize\", \"not_catsize\", \"not_catsize\"]}, {\"name\": \"type\", \"type\": \"dimension\", \"values\": [\"mammal\", \"mammal\", \"fish\", \"mammal\", \"mammal\", \"mammal\", \"mammal\", \"fish\", \"fish\", \"mammal\", \"mammal\", \"bird\", \"fish\", \"invertebrate\", \"invertebrate\", \"invertebrate\", \"bird\", \"mammal\", \"fish\", \"mammal\", \"bird\", \"bird\", \"mammal\", \"bird\", \"insect\", \"amphibian\", \"amphibian\", \"mammal\", \"mammal\", \"mammal\", \"insect\", \"mammal\", \"mammal\", \"bird\", \"fish\", \"mammal\", \"mammal\", \"bird\", \"fish\", \"insect\", \"insect\", \"bird\", \"insect\", \"bird\", \"mammal\", \"mammal\", \"invertebrate\", \"mammal\", \"mammal\", \"mammal\", \"mammal\", \"insect\", \"amphibian\", \"invertebrate\", \"mammal\", \"mammal\", \"bird\", \"bird\", \"bird\", \"bird\", \"fish\", \"fish\", \"reptile\", \"mammal\", \"mammal\", \"mammal\", \"mammal\", \"mammal\", \"mammal\", \"mammal\", \"mammal\", \"bird\", \"invertebrate\", \"fish\", \"mammal\", \"mammal\", \"reptile\", \"invertebrate\", \"bird\", \"bird\", \"reptile\", \"invertebrate\", \"fish\", \"bird\", \"mammal\", \"invertebrate\", \"fish\", \"bird\", \"insect\", \"amphibian\", \"reptile\", \"reptile\", \"fish\", \"mammal\", \"mammal\", \"bird\", \"mammal\", \"insect\", \"mammal\", \"invertebrate\", \"bird\"]}, {\"name\": \"Count\", \"type\": \"measure\", \"values\": [1.0, 1.0, 1.0, 1.0, 1.0, 1.0, 1.0, 1.0, 1.0, 1.0, 1.0, 1.0, 1.0, 1.0, 1.0, 1.0, 1.0, 1.0, 1.0, 1.0, 1.0, 1.0, 1.0, 1.0, 1.0, 1.0, 1.0, 1.0, 1.0, 1.0, 1.0, 1.0, 1.0, 1.0, 1.0, 1.0, 1.0, 1.0, 1.0, 1.0, 1.0, 1.0, 1.0, 1.0, 1.0, 1.0, 1.0, 1.0, 1.0, 1.0, 1.0, 1.0, 1.0, 1.0, 1.0, 1.0, 1.0, 1.0, 1.0, 1.0, 1.0, 1.0, 1.0, 1.0, 1.0, 1.0, 1.0, 1.0, 1.0, 1.0, 1.0, 1.0, 1.0, 1.0, 1.0, 1.0, 1.0, 1.0, 1.0, 1.0, 1.0, 1.0, 1.0, 1.0, 1.0, 1.0, 1.0, 1.0, 1.0, 1.0, 1.0, 1.0, 1.0, 1.0, 1.0, 1.0, 1.0, 1.0, 1.0, 1.0, 1.0]}]}});\n",
       "    });\n",
       "</script>"
      ]
     },
     "metadata": {},
     "output_type": "display_data"
    },
    {
     "data": {
      "text/html": [
       "<script id=\"myVizzu_8e390b4\">\n",
       "    let display_8e390b4 = myVizzu_8e390b4.parentNode.parentNode.style.display;\n",
       "    myVizzu_8e390b4.parentNode.parentNode.style.display = \"none\";\n",
       "    chart_293e7b2 = chart_293e7b2.then(chart => {\n",
       "        if (myVizzu_293e7b2.parentNode && myVizzu_293e7b2.parentNode.parentNode) {\n",
       "            myVizzu_293e7b2.parentNode.parentNode.style.display = \"none\";\n",
       "        }\n",
       "        myVizzu_8e390b4.parentNode.parentNode.style.display = display_8e390b4;\n",
       "        myVizzu_8e390b4.parentNode.insertBefore(myVizzu_293e7b2, myVizzu_8e390b4);\n",
       "        if (!document.inhibitScroll && true) {\n",
       "            myVizzu_293e7b2.scrollIntoView({behavior: \"auto\", block: \"center\"});\n",
       "        }\n",
       "        return chart.animate({\"config\": {\"channels\": {\"color\": \"type\", \"size\": \"Count\", \"label\": \"type\"}, \"title\": \"Types of animals\"}});\n",
       "    });\n",
       "</script>"
      ]
     },
     "metadata": {},
     "output_type": "display_data"
    },
    {
     "data": {
      "text/html": [
       "<script id=\"myVizzu_646ffef\">\n",
       "    let display_646ffef = myVizzu_646ffef.parentNode.parentNode.style.display;\n",
       "    myVizzu_646ffef.parentNode.parentNode.style.display = \"none\";\n",
       "    chart_293e7b2 = chart_293e7b2.then(chart => {\n",
       "        if (myVizzu_293e7b2.parentNode && myVizzu_293e7b2.parentNode.parentNode) {\n",
       "            myVizzu_293e7b2.parentNode.parentNode.style.display = \"none\";\n",
       "        }\n",
       "        myVizzu_646ffef.parentNode.parentNode.style.display = display_646ffef;\n",
       "        myVizzu_646ffef.parentNode.insertBefore(myVizzu_293e7b2, myVizzu_646ffef);\n",
       "        if (!document.inhibitScroll && true) {\n",
       "            myVizzu_293e7b2.scrollIntoView({behavior: \"auto\", block: \"center\"});\n",
       "        }\n",
       "        return chart.animate({\"config\": {\"channels\": {\"x\": \"Count\", \"y\": \"type\", \"size\": null, \"label\": \"Count\"}, \"coordSystem\": \"polar\"}, \"style\": {\"plot\": {\"xAxis\": {\"label\": {\"color\": \"#ffffff00\"}, \"interlacing\": {\"color\": \"#ffffff00\"}}, \"yAxis\": {\"color\": \"#ffffff00\", \"label\": {\"paddingRight\": 20}}}}});\n",
       "    });\n",
       "</script>"
      ]
     },
     "metadata": {},
     "output_type": "display_data"
    },
    {
     "data": {
      "application/javascript": [
       "\n",
       "            setTimeout(function() {\n",
       "                var nbb_cell_id = 38;\n",
       "                var nbb_unformatted_code = \"chart = Chart()\\nchart.animate(data)\\n\\nchart.animate(\\n    Config(\\n        {\\n            \\\"channels\\\": {\\n                \\\"color\\\": \\\"type\\\",\\n                \\\"size\\\": \\\"Count\\\",\\n                \\\"label\\\": \\\"type\\\",\\n            },\\n            \\\"title\\\": \\\"Types of animals\\\",\\n        }\\n    ),\\n)\\n\\nchart.animate(\\n    Config(\\n        {\\n            \\\"channels\\\": {\\\"x\\\": \\\"Count\\\", \\\"y\\\": \\\"type\\\", \\\"size\\\": None, \\\"label\\\": \\\"Count\\\"},\\n            \\\"coordSystem\\\": \\\"polar\\\",\\n        }\\n    ),\\n    Style(\\n        {\\n            \\\"plot\\\": {\\n                \\\"xAxis\\\": {\\n                    \\\"label\\\": {\\\"color\\\": \\\"#ffffff00\\\"},\\n                    \\\"interlacing\\\": {\\\"color\\\": \\\"#ffffff00\\\"},\\n                },\\n                \\\"yAxis\\\": {\\\"color\\\": \\\"#ffffff00\\\", \\\"label\\\": {\\\"paddingRight\\\": 20}},\\n            }\\n        }\\n    ),\\n)\";\n",
       "                var nbb_formatted_code = \"chart = Chart()\\nchart.animate(data)\\n\\nchart.animate(\\n    Config(\\n        {\\n            \\\"channels\\\": {\\n                \\\"color\\\": \\\"type\\\",\\n                \\\"size\\\": \\\"Count\\\",\\n                \\\"label\\\": \\\"type\\\",\\n            },\\n            \\\"title\\\": \\\"Types of animals\\\",\\n        }\\n    ),\\n)\\n\\nchart.animate(\\n    Config(\\n        {\\n            \\\"channels\\\": {\\\"x\\\": \\\"Count\\\", \\\"y\\\": \\\"type\\\", \\\"size\\\": None, \\\"label\\\": \\\"Count\\\"},\\n            \\\"coordSystem\\\": \\\"polar\\\",\\n        }\\n    ),\\n    Style(\\n        {\\n            \\\"plot\\\": {\\n                \\\"xAxis\\\": {\\n                    \\\"label\\\": {\\\"color\\\": \\\"#ffffff00\\\"},\\n                    \\\"interlacing\\\": {\\\"color\\\": \\\"#ffffff00\\\"},\\n                },\\n                \\\"yAxis\\\": {\\\"color\\\": \\\"#ffffff00\\\", \\\"label\\\": {\\\"paddingRight\\\": 20}},\\n            }\\n        }\\n    ),\\n)\";\n",
       "                var nbb_cells = Jupyter.notebook.get_cells();\n",
       "                for (var i = 0; i < nbb_cells.length; ++i) {\n",
       "                    if (nbb_cells[i].input_prompt_number == nbb_cell_id) {\n",
       "                        if (nbb_cells[i].get_text() == nbb_unformatted_code) {\n",
       "                             nbb_cells[i].set_text(nbb_formatted_code);\n",
       "                        }\n",
       "                        break;\n",
       "                    }\n",
       "                }\n",
       "            }, 500);\n",
       "            "
      ],
      "text/plain": [
       "<IPython.core.display.Javascript object>"
      ]
     },
     "metadata": {},
     "output_type": "display_data"
    }
   ],
   "source": [
    "chart = Chart()\n",
    "chart.animate(data)\n",
    "\n",
    "chart.animate(\n",
    "    Config(\n",
    "        {\n",
    "            \"channels\": {\n",
    "                \"color\": \"type\",\n",
    "                \"size\": \"Count\",\n",
    "                \"label\": \"type\",\n",
    "            },\n",
    "            \"title\": \"Types of animals\",\n",
    "        }\n",
    "    ),\n",
    ")\n",
    "\n",
    "chart.animate(\n",
    "    Config(\n",
    "        {\n",
    "            \"channels\": {\"x\": \"Count\", \"y\": \"type\", \"size\": None, \"label\": \"Count\"},\n",
    "            \"coordSystem\": \"polar\",\n",
    "        }\n",
    "    ),\n",
    "    Style(\n",
    "        {\n",
    "            \"plot\": {\n",
    "                \"xAxis\": {\n",
    "                    \"label\": {\"color\": \"#ffffff00\"},\n",
    "                    \"interlacing\": {\"color\": \"#ffffff00\"},\n",
    "                },\n",
    "                \"yAxis\": {\"color\": \"#ffffff00\", \"label\": {\"paddingRight\": 20}},\n",
    "            }\n",
    "        }\n",
    "    ),\n",
    ")"
   ]
  },
  {
   "cell_type": "markdown",
   "id": "f396bbcb",
   "metadata": {},
   "source": [
    "## "
   ]
  },
  {
   "cell_type": "code",
   "execution_count": 249,
   "id": "b4a3fba1",
   "metadata": {
    "ExecuteTime": {
     "end_time": "2022-04-10T15:28:50.850690Z",
     "start_time": "2022-04-10T15:28:50.774506Z"
    }
   },
   "outputs": [
    {
     "data": {
      "text/html": [
       "<script id=\"myVizzu_932f727\">\n",
       "    document.inhibitScroll = false;\n",
       "</script>"
      ]
     },
     "metadata": {},
     "output_type": "display_data"
    },
    {
     "data": {
      "text/html": [
       "<script id=\"myVizzu_20c2d56\">\n",
       "    document.inhibitScroll = false;\n",
       "</script>"
      ]
     },
     "metadata": {},
     "output_type": "display_data"
    },
    {
     "data": {
      "text/html": [
       "<script id=\"myVizzu_932a838\">\n",
       "    document.inhibitScroll = false;\n",
       "</script>"
      ]
     },
     "metadata": {},
     "output_type": "display_data"
    },
    {
     "data": {
      "text/html": [
       "<script id=\"myVizzu_9e6ddf8\">\n",
       "    document.inhibitScroll = false;\n",
       "</script>"
      ]
     },
     "metadata": {},
     "output_type": "display_data"
    },
    {
     "data": {
      "text/html": [
       "<script id=\"myVizzu_c2d7c16\">\n",
       "    document.inhibitScroll = false;\n",
       "</script>"
      ]
     },
     "metadata": {},
     "output_type": "display_data"
    },
    {
     "data": {
      "text/html": [
       "<script id=\"myVizzu_bdb81a4\">\n",
       "    document.inhibitScroll = false;\n",
       "</script>"
      ]
     },
     "metadata": {},
     "output_type": "display_data"
    },
    {
     "data": {
      "text/html": [
       "<script id=\"myVizzu_6db15b2\">\n",
       "    document.inhibitScroll = false;\n",
       "</script>"
      ]
     },
     "metadata": {},
     "output_type": "display_data"
    },
    {
     "data": {
      "text/html": [
       "<script id=\"myVizzu_c19e3db\">\n",
       "    document.inhibitScroll = false;\n",
       "</script>"
      ]
     },
     "metadata": {},
     "output_type": "display_data"
    },
    {
     "data": {
      "text/html": [
       "<script id=\"myVizzu_8a26162\">\n",
       "    document.inhibitScroll = false;\n",
       "</script>"
      ]
     },
     "metadata": {},
     "output_type": "display_data"
    },
    {
     "data": {
      "text/html": [
       "<script id=\"myVizzu_abf110b\">\n",
       "    document.inhibitScroll = false;\n",
       "</script>"
      ]
     },
     "metadata": {},
     "output_type": "display_data"
    },
    {
     "data": {
      "text/html": [
       "<script id=\"myVizzu_8bf94dd\">\n",
       "    document.inhibitScroll = false;\n",
       "</script>"
      ]
     },
     "metadata": {},
     "output_type": "display_data"
    },
    {
     "data": {
      "text/html": [
       "<script id=\"myVizzu_55fb434\">\n",
       "    document.inhibitScroll = false;\n",
       "</script>"
      ]
     },
     "metadata": {},
     "output_type": "display_data"
    },
    {
     "data": {
      "text/html": [
       "<script id=\"myVizzu_4112295\">\n",
       "    document.inhibitScroll = false;\n",
       "</script>"
      ]
     },
     "metadata": {},
     "output_type": "display_data"
    },
    {
     "data": {
      "text/html": [
       "<script id=\"myVizzu_2828374\">\n",
       "    document.inhibitScroll = false;\n",
       "</script>"
      ]
     },
     "metadata": {},
     "output_type": "display_data"
    },
    {
     "data": {
      "text/html": [
       "<script id=\"myVizzu_25723d5\">\n",
       "    document.inhibitScroll = false;\n",
       "</script>"
      ]
     },
     "metadata": {},
     "output_type": "display_data"
    },
    {
     "data": {
      "text/html": [
       "<script id=\"myVizzu_406b273\">\n",
       "    document.inhibitScroll = false;\n",
       "</script>"
      ]
     },
     "metadata": {},
     "output_type": "display_data"
    },
    {
     "data": {
      "text/html": [
       "<script id=\"myVizzu_302d558\">\n",
       "    document.inhibitScroll = false;\n",
       "</script>"
      ]
     },
     "metadata": {},
     "output_type": "display_data"
    },
    {
     "data": {
      "text/html": [
       "<script id=\"myVizzu_ca1f62e\">\n",
       "    document.inhibitScroll = false;\n",
       "</script>"
      ]
     },
     "metadata": {},
     "output_type": "display_data"
    },
    {
     "data": {
      "text/html": [
       "<script id=\"myVizzu_7c96797\">\n",
       "    document.inhibitScroll = false;\n",
       "</script>"
      ]
     },
     "metadata": {},
     "output_type": "display_data"
    },
    {
     "data": {
      "text/html": [
       "<script id=\"myVizzu_dc81bde\">\n",
       "    document.inhibitScroll = false;\n",
       "</script>"
      ]
     },
     "metadata": {},
     "output_type": "display_data"
    },
    {
     "data": {
      "text/html": [
       "<script id=\"myVizzu_531b90d\">\n",
       "    document.inhibitScroll = false;\n",
       "</script>"
      ]
     },
     "metadata": {},
     "output_type": "display_data"
    },
    {
     "data": {
      "text/html": [
       "<script id=\"myVizzu_481b20a\">\n",
       "    document.inhibitScroll = false;\n",
       "</script>"
      ]
     },
     "metadata": {},
     "output_type": "display_data"
    },
    {
     "data": {
      "text/html": [
       "<script id=\"myVizzu_36ba27b\">\n",
       "    document.inhibitScroll = false;\n",
       "</script>"
      ]
     },
     "metadata": {},
     "output_type": "display_data"
    },
    {
     "data": {
      "text/html": [
       "<script id=\"myVizzu_9758e38\">\n",
       "    document.inhibitScroll = false;\n",
       "</script>"
      ]
     },
     "metadata": {},
     "output_type": "display_data"
    },
    {
     "data": {
      "text/html": [
       "<script id=\"myVizzu_ab05327\">\n",
       "    document.inhibitScroll = false;\n",
       "</script>"
      ]
     },
     "metadata": {},
     "output_type": "display_data"
    },
    {
     "data": {
      "text/html": [
       "<script id=\"myVizzu_58c60e0\">\n",
       "    document.inhibitScroll = false;\n",
       "</script>"
      ]
     },
     "metadata": {},
     "output_type": "display_data"
    },
    {
     "data": {
      "text/html": [
       "<script id=\"myVizzu_6c3d8c2\">\n",
       "    document.inhibitScroll = false;\n",
       "</script>"
      ]
     },
     "metadata": {},
     "output_type": "display_data"
    },
    {
     "data": {
      "text/html": [
       "<script id=\"myVizzu_bd3a233\">\n",
       "    document.inhibitScroll = false;\n",
       "</script>"
      ]
     },
     "metadata": {},
     "output_type": "display_data"
    },
    {
     "data": {
      "text/html": [
       "<script id=\"myVizzu_769a5ef\">\n",
       "    document.inhibitScroll = false;\n",
       "</script>"
      ]
     },
     "metadata": {},
     "output_type": "display_data"
    },
    {
     "data": {
      "text/html": [
       "<script id=\"myVizzu_66be168\">\n",
       "    document.inhibitScroll = false;\n",
       "</script>"
      ]
     },
     "metadata": {},
     "output_type": "display_data"
    },
    {
     "data": {
      "text/html": [
       "<script id=\"myVizzu_23b3d7b\">\n",
       "    document.inhibitScroll = false;\n",
       "</script>"
      ]
     },
     "metadata": {},
     "output_type": "display_data"
    },
    {
     "data": {
      "text/html": [
       "<script id=\"myVizzu_327011b\">\n",
       "    document.inhibitScroll = false;\n",
       "</script>"
      ]
     },
     "metadata": {},
     "output_type": "display_data"
    },
    {
     "data": {
      "text/html": [
       "<script id=\"myVizzu_d9b1268\">\n",
       "    document.inhibitScroll = false;\n",
       "</script>"
      ]
     },
     "metadata": {},
     "output_type": "display_data"
    },
    {
     "data": {
      "text/html": [
       "<script id=\"myVizzu_7f55292\">\n",
       "    document.inhibitScroll = false;\n",
       "</script>"
      ]
     },
     "metadata": {},
     "output_type": "display_data"
    },
    {
     "data": {
      "text/html": [
       "<script id=\"myVizzu_20e7283\">\n",
       "    document.inhibitScroll = false;\n",
       "</script>"
      ]
     },
     "metadata": {},
     "output_type": "display_data"
    },
    {
     "data": {
      "text/html": [
       "<script id=\"myVizzu_2e18edc\">\n",
       "    document.inhibitScroll = false;\n",
       "</script>"
      ]
     },
     "metadata": {},
     "output_type": "display_data"
    },
    {
     "data": {
      "text/html": [
       "<script id=\"myVizzu_8de870e\">\n",
       "    document.inhibitScroll = false;\n",
       "</script>"
      ]
     },
     "metadata": {},
     "output_type": "display_data"
    },
    {
     "data": {
      "text/html": [
       "<script id=\"myVizzu_8a2ccc1\">\n",
       "    document.inhibitScroll = false;\n",
       "</script>"
      ]
     },
     "metadata": {},
     "output_type": "display_data"
    },
    {
     "data": {
      "text/html": [
       "<script id=\"myVizzu_4d2f434\">\n",
       "    document.inhibitScroll = false;\n",
       "</script>"
      ]
     },
     "metadata": {},
     "output_type": "display_data"
    },
    {
     "data": {
      "text/html": [
       "<script id=\"myVizzu_c94d67c\">\n",
       "    document.inhibitScroll = false;\n",
       "</script>"
      ]
     },
     "metadata": {},
     "output_type": "display_data"
    },
    {
     "data": {
      "text/html": [
       "<script id=\"myVizzu_4cbc641\">\n",
       "    document.inhibitScroll = false;\n",
       "</script>"
      ]
     },
     "metadata": {},
     "output_type": "display_data"
    },
    {
     "data": {
      "text/html": [
       "<script id=\"myVizzu_c4ef60f\">\n",
       "    document.inhibitScroll = false;\n",
       "</script>"
      ]
     },
     "metadata": {},
     "output_type": "display_data"
    },
    {
     "data": {
      "text/html": [
       "<script id=\"myVizzu_f705b5f\">\n",
       "    document.inhibitScroll = false;\n",
       "</script>"
      ]
     },
     "metadata": {},
     "output_type": "display_data"
    },
    {
     "data": {
      "text/html": [
       "<script id=\"myVizzu_53a9d02\">\n",
       "    document.inhibitScroll = false;\n",
       "</script>"
      ]
     },
     "metadata": {},
     "output_type": "display_data"
    },
    {
     "data": {
      "text/html": [
       "<script id=\"myVizzu_19c4273\">\n",
       "    document.inhibitScroll = false;\n",
       "</script>"
      ]
     },
     "metadata": {},
     "output_type": "display_data"
    },
    {
     "data": {
      "text/html": [
       "<script id=\"myVizzu_2d30c07\">\n",
       "    document.inhibitScroll = false;\n",
       "</script>"
      ]
     },
     "metadata": {},
     "output_type": "display_data"
    },
    {
     "data": {
      "text/html": [
       "<script id=\"myVizzu_1dc6bde\">\n",
       "    document.inhibitScroll = false;\n",
       "</script>"
      ]
     },
     "metadata": {},
     "output_type": "display_data"
    },
    {
     "data": {
      "text/html": [
       "<script id=\"myVizzu_dea53b1\">\n",
       "    document.inhibitScroll = false;\n",
       "</script>"
      ]
     },
     "metadata": {},
     "output_type": "display_data"
    },
    {
     "data": {
      "text/html": [
       "<script id=\"myVizzu_5a3fce0\">\n",
       "    document.inhibitScroll = false;\n",
       "</script>"
      ]
     },
     "metadata": {},
     "output_type": "display_data"
    },
    {
     "data": {
      "text/html": [
       "<script id=\"myVizzu_4fef94b\">\n",
       "    document.inhibitScroll = false;\n",
       "</script>"
      ]
     },
     "metadata": {},
     "output_type": "display_data"
    },
    {
     "data": {
      "text/html": [
       "<script id=\"myVizzu_182e828\">\n",
       "    document.inhibitScroll = false;\n",
       "</script>"
      ]
     },
     "metadata": {},
     "output_type": "display_data"
    },
    {
     "data": {
      "text/html": [
       "<script id=\"myVizzu_ba53cc4\">\n",
       "    document.inhibitScroll = false;\n",
       "</script>"
      ]
     },
     "metadata": {},
     "output_type": "display_data"
    },
    {
     "data": {
      "text/html": [
       "<script id=\"myVizzu_8d58b60\">\n",
       "    document.inhibitScroll = false;\n",
       "</script>"
      ]
     },
     "metadata": {},
     "output_type": "display_data"
    },
    {
     "data": {
      "text/html": [
       "<script id=\"myVizzu_2ca7352\">\n",
       "    document.inhibitScroll = false;\n",
       "</script>"
      ]
     },
     "metadata": {},
     "output_type": "display_data"
    },
    {
     "data": {
      "text/html": [
       "<script id=\"myVizzu_bcf652f\">\n",
       "    document.inhibitScroll = false;\n",
       "</script>"
      ]
     },
     "metadata": {},
     "output_type": "display_data"
    },
    {
     "data": {
      "text/html": [
       "<script id=\"myVizzu_fd15260\">\n",
       "    document.inhibitScroll = false;\n",
       "</script>"
      ]
     },
     "metadata": {},
     "output_type": "display_data"
    },
    {
     "data": {
      "text/html": [
       "<script id=\"myVizzu_02b4419\">\n",
       "    document.inhibitScroll = false;\n",
       "</script>"
      ]
     },
     "metadata": {},
     "output_type": "display_data"
    },
    {
     "data": {
      "text/html": [
       "<script id=\"myVizzu_a2e7f52\">\n",
       "    document.inhibitScroll = false;\n",
       "</script>"
      ]
     },
     "metadata": {},
     "output_type": "display_data"
    },
    {
     "data": {
      "text/html": [
       "<script id=\"myVizzu_e00ad68\">\n",
       "    document.inhibitScroll = false;\n",
       "</script>"
      ]
     },
     "metadata": {},
     "output_type": "display_data"
    },
    {
     "data": {
      "text/html": [
       "<script id=\"myVizzu_2d73d60\">\n",
       "    document.inhibitScroll = false;\n",
       "</script>"
      ]
     },
     "metadata": {},
     "output_type": "display_data"
    },
    {
     "data": {
      "text/html": [
       "<script id=\"myVizzu_10c55c9\">\n",
       "    document.inhibitScroll = false;\n",
       "</script>"
      ]
     },
     "metadata": {},
     "output_type": "display_data"
    },
    {
     "data": {
      "text/html": [
       "<script id=\"myVizzu_ce8a008\">\n",
       "    document.inhibitScroll = false;\n",
       "</script>"
      ]
     },
     "metadata": {},
     "output_type": "display_data"
    },
    {
     "data": {
      "text/html": [
       "<script id=\"myVizzu_bec24d9\">\n",
       "    document.inhibitScroll = false;\n",
       "</script>"
      ]
     },
     "metadata": {},
     "output_type": "display_data"
    },
    {
     "data": {
      "text/html": [
       "<script id=\"myVizzu_8618bc0\">\n",
       "    document.inhibitScroll = false;\n",
       "</script>"
      ]
     },
     "metadata": {},
     "output_type": "display_data"
    },
    {
     "data": {
      "text/html": [
       "<script id=\"myVizzu_7ff48f2\">\n",
       "    document.inhibitScroll = false;\n",
       "</script>"
      ]
     },
     "metadata": {},
     "output_type": "display_data"
    },
    {
     "data": {
      "text/html": [
       "<script id=\"myVizzu_e9fde00\">\n",
       "    document.inhibitScroll = false;\n",
       "</script>"
      ]
     },
     "metadata": {},
     "output_type": "display_data"
    },
    {
     "data": {
      "text/html": [
       "<script id=\"myVizzu_b9c5d88\">\n",
       "    document.inhibitScroll = false;\n",
       "</script>"
      ]
     },
     "metadata": {},
     "output_type": "display_data"
    },
    {
     "data": {
      "text/html": [
       "<div>\n",
       "<style scoped>\n",
       "    .dataframe tbody tr th:only-of-type {\n",
       "        vertical-align: middle;\n",
       "    }\n",
       "\n",
       "    .dataframe tbody tr th {\n",
       "        vertical-align: top;\n",
       "    }\n",
       "\n",
       "    .dataframe thead th {\n",
       "        text-align: right;\n",
       "    }\n",
       "</style>\n",
       "<table border=\"1\" class=\"dataframe\">\n",
       "  <thead>\n",
       "    <tr style=\"text-align: right;\">\n",
       "      <th></th>\n",
       "      <th>Sex</th>\n",
       "      <th>Length</th>\n",
       "      <th>Diameter</th>\n",
       "      <th>Height</th>\n",
       "      <th>Whole_weight</th>\n",
       "      <th>Shucked_weight</th>\n",
       "      <th>Viscera_weight</th>\n",
       "      <th>Shell_weight</th>\n",
       "      <th>Class_number_of_rings</th>\n",
       "    </tr>\n",
       "  </thead>\n",
       "  <tbody>\n",
       "    <tr>\n",
       "      <th>0</th>\n",
       "      <td>M</td>\n",
       "      <td>0.455</td>\n",
       "      <td>0.365</td>\n",
       "      <td>0.095</td>\n",
       "      <td>0.5140</td>\n",
       "      <td>0.2245</td>\n",
       "      <td>0.1010</td>\n",
       "      <td>0.150</td>\n",
       "      <td>15</td>\n",
       "    </tr>\n",
       "    <tr>\n",
       "      <th>1</th>\n",
       "      <td>M</td>\n",
       "      <td>0.350</td>\n",
       "      <td>0.265</td>\n",
       "      <td>0.090</td>\n",
       "      <td>0.2255</td>\n",
       "      <td>0.0995</td>\n",
       "      <td>0.0485</td>\n",
       "      <td>0.070</td>\n",
       "      <td>7</td>\n",
       "    </tr>\n",
       "    <tr>\n",
       "      <th>2</th>\n",
       "      <td>F</td>\n",
       "      <td>0.530</td>\n",
       "      <td>0.420</td>\n",
       "      <td>0.135</td>\n",
       "      <td>0.6770</td>\n",
       "      <td>0.2565</td>\n",
       "      <td>0.1415</td>\n",
       "      <td>0.210</td>\n",
       "      <td>9</td>\n",
       "    </tr>\n",
       "    <tr>\n",
       "      <th>3</th>\n",
       "      <td>M</td>\n",
       "      <td>0.440</td>\n",
       "      <td>0.365</td>\n",
       "      <td>0.125</td>\n",
       "      <td>0.5160</td>\n",
       "      <td>0.2155</td>\n",
       "      <td>0.1140</td>\n",
       "      <td>0.155</td>\n",
       "      <td>10</td>\n",
       "    </tr>\n",
       "    <tr>\n",
       "      <th>4</th>\n",
       "      <td>I</td>\n",
       "      <td>0.330</td>\n",
       "      <td>0.255</td>\n",
       "      <td>0.080</td>\n",
       "      <td>0.2050</td>\n",
       "      <td>0.0895</td>\n",
       "      <td>0.0395</td>\n",
       "      <td>0.055</td>\n",
       "      <td>7</td>\n",
       "    </tr>\n",
       "    <tr>\n",
       "      <th>5</th>\n",
       "      <td>I</td>\n",
       "      <td>0.425</td>\n",
       "      <td>0.300</td>\n",
       "      <td>0.095</td>\n",
       "      <td>0.3515</td>\n",
       "      <td>0.1410</td>\n",
       "      <td>0.0775</td>\n",
       "      <td>0.120</td>\n",
       "      <td>8</td>\n",
       "    </tr>\n",
       "    <tr>\n",
       "      <th>6</th>\n",
       "      <td>F</td>\n",
       "      <td>0.530</td>\n",
       "      <td>0.415</td>\n",
       "      <td>0.150</td>\n",
       "      <td>0.7775</td>\n",
       "      <td>0.2370</td>\n",
       "      <td>0.1415</td>\n",
       "      <td>0.330</td>\n",
       "      <td>20</td>\n",
       "    </tr>\n",
       "    <tr>\n",
       "      <th>7</th>\n",
       "      <td>F</td>\n",
       "      <td>0.545</td>\n",
       "      <td>0.425</td>\n",
       "      <td>0.125</td>\n",
       "      <td>0.7680</td>\n",
       "      <td>0.2940</td>\n",
       "      <td>0.1495</td>\n",
       "      <td>0.260</td>\n",
       "      <td>16</td>\n",
       "    </tr>\n",
       "    <tr>\n",
       "      <th>8</th>\n",
       "      <td>M</td>\n",
       "      <td>0.475</td>\n",
       "      <td>0.370</td>\n",
       "      <td>0.125</td>\n",
       "      <td>0.5095</td>\n",
       "      <td>0.2165</td>\n",
       "      <td>0.1125</td>\n",
       "      <td>0.165</td>\n",
       "      <td>9</td>\n",
       "    </tr>\n",
       "    <tr>\n",
       "      <th>9</th>\n",
       "      <td>F</td>\n",
       "      <td>0.550</td>\n",
       "      <td>0.440</td>\n",
       "      <td>0.150</td>\n",
       "      <td>0.8945</td>\n",
       "      <td>0.3145</td>\n",
       "      <td>0.1510</td>\n",
       "      <td>0.320</td>\n",
       "      <td>19</td>\n",
       "    </tr>\n",
       "  </tbody>\n",
       "</table>\n",
       "</div>"
      ],
      "text/plain": [
       "  Sex  Length  Diameter  Height  Whole_weight  Shucked_weight  Viscera_weight  \\\n",
       "0   M   0.455     0.365   0.095        0.5140          0.2245          0.1010   \n",
       "1   M   0.350     0.265   0.090        0.2255          0.0995          0.0485   \n",
       "2   F   0.530     0.420   0.135        0.6770          0.2565          0.1415   \n",
       "3   M   0.440     0.365   0.125        0.5160          0.2155          0.1140   \n",
       "4   I   0.330     0.255   0.080        0.2050          0.0895          0.0395   \n",
       "5   I   0.425     0.300   0.095        0.3515          0.1410          0.0775   \n",
       "6   F   0.530     0.415   0.150        0.7775          0.2370          0.1415   \n",
       "7   F   0.545     0.425   0.125        0.7680          0.2940          0.1495   \n",
       "8   M   0.475     0.370   0.125        0.5095          0.2165          0.1125   \n",
       "9   F   0.550     0.440   0.150        0.8945          0.3145          0.1510   \n",
       "\n",
       "   Shell_weight Class_number_of_rings  \n",
       "0         0.150                    15  \n",
       "1         0.070                     7  \n",
       "2         0.210                     9  \n",
       "3         0.155                    10  \n",
       "4         0.055                     7  \n",
       "5         0.120                     8  \n",
       "6         0.330                    20  \n",
       "7         0.260                    16  \n",
       "8         0.165                     9  \n",
       "9         0.320                    19  "
      ]
     },
     "execution_count": 249,
     "metadata": {},
     "output_type": "execute_result"
    },
    {
     "data": {
      "application/javascript": [
       "\n",
       "            setTimeout(function() {\n",
       "                var nbb_cell_id = 249;\n",
       "                var nbb_unformatted_code = \"abalone = fetch_openml(data_id=183)[\\\"frame\\\"]\\nabalone.head(10)\";\n",
       "                var nbb_formatted_code = \"abalone = fetch_openml(data_id=183)[\\\"frame\\\"]\\nabalone.head(10)\";\n",
       "                var nbb_cells = Jupyter.notebook.get_cells();\n",
       "                for (var i = 0; i < nbb_cells.length; ++i) {\n",
       "                    if (nbb_cells[i].input_prompt_number == nbb_cell_id) {\n",
       "                        if (nbb_cells[i].get_text() == nbb_unformatted_code) {\n",
       "                             nbb_cells[i].set_text(nbb_formatted_code);\n",
       "                        }\n",
       "                        break;\n",
       "                    }\n",
       "                }\n",
       "            }, 500);\n",
       "            "
      ],
      "text/plain": [
       "<IPython.core.display.Javascript object>"
      ]
     },
     "metadata": {},
     "output_type": "display_data"
    }
   ],
   "source": [
    "abalone = fetch_openml(data_id=183)[\"frame\"]\n",
    "abalone.head(10)"
   ]
  },
  {
   "cell_type": "code",
   "execution_count": 250,
   "id": "3ab670de",
   "metadata": {
    "ExecuteTime": {
     "end_time": "2022-04-10T15:28:51.128230Z",
     "start_time": "2022-04-10T15:28:51.094873Z"
    }
   },
   "outputs": [
    {
     "data": {
      "text/html": [
       "<script id=\"myVizzu_f427bdb\">\n",
       "    document.inhibitScroll = false;\n",
       "</script>"
      ]
     },
     "metadata": {},
     "output_type": "display_data"
    },
    {
     "data": {
      "text/html": [
       "<script id=\"myVizzu_cb07e7e\">\n",
       "    document.inhibitScroll = false;\n",
       "</script>"
      ]
     },
     "metadata": {},
     "output_type": "display_data"
    },
    {
     "data": {
      "text/html": [
       "<script id=\"myVizzu_5701330\">\n",
       "    document.inhibitScroll = false;\n",
       "</script>"
      ]
     },
     "metadata": {},
     "output_type": "display_data"
    },
    {
     "data": {
      "text/html": [
       "<script id=\"myVizzu_fd6206b\">\n",
       "    document.inhibitScroll = false;\n",
       "</script>"
      ]
     },
     "metadata": {},
     "output_type": "display_data"
    },
    {
     "data": {
      "text/html": [
       "<script id=\"myVizzu_3a4ee22\">\n",
       "    document.inhibitScroll = false;\n",
       "</script>"
      ]
     },
     "metadata": {},
     "output_type": "display_data"
    },
    {
     "data": {
      "text/html": [
       "<script id=\"myVizzu_b0bb05e\">\n",
       "    document.inhibitScroll = false;\n",
       "</script>"
      ]
     },
     "metadata": {},
     "output_type": "display_data"
    },
    {
     "data": {
      "text/html": [
       "<script id=\"myVizzu_cb30cd9\">\n",
       "    document.inhibitScroll = false;\n",
       "</script>"
      ]
     },
     "metadata": {},
     "output_type": "display_data"
    },
    {
     "data": {
      "text/html": [
       "<script id=\"myVizzu_5bf829a\">\n",
       "    document.inhibitScroll = false;\n",
       "</script>"
      ]
     },
     "metadata": {},
     "output_type": "display_data"
    },
    {
     "data": {
      "text/html": [
       "<script id=\"myVizzu_f353bbd\">\n",
       "    document.inhibitScroll = false;\n",
       "</script>"
      ]
     },
     "metadata": {},
     "output_type": "display_data"
    },
    {
     "data": {
      "text/html": [
       "<script id=\"myVizzu_5e5c649\">\n",
       "    document.inhibitScroll = false;\n",
       "</script>"
      ]
     },
     "metadata": {},
     "output_type": "display_data"
    },
    {
     "data": {
      "text/html": [
       "<script id=\"myVizzu_e6e5470\">\n",
       "    document.inhibitScroll = false;\n",
       "</script>"
      ]
     },
     "metadata": {},
     "output_type": "display_data"
    },
    {
     "data": {
      "text/html": [
       "<script id=\"myVizzu_8216aef\">\n",
       "    document.inhibitScroll = false;\n",
       "</script>"
      ]
     },
     "metadata": {},
     "output_type": "display_data"
    },
    {
     "data": {
      "text/html": [
       "<script id=\"myVizzu_3075693\">\n",
       "    document.inhibitScroll = false;\n",
       "</script>"
      ]
     },
     "metadata": {},
     "output_type": "display_data"
    },
    {
     "data": {
      "text/html": [
       "<script id=\"myVizzu_d04c30c\">\n",
       "    document.inhibitScroll = false;\n",
       "</script>"
      ]
     },
     "metadata": {},
     "output_type": "display_data"
    },
    {
     "data": {
      "text/html": [
       "<script id=\"myVizzu_1fb99b6\">\n",
       "    document.inhibitScroll = false;\n",
       "</script>"
      ]
     },
     "metadata": {},
     "output_type": "display_data"
    },
    {
     "data": {
      "text/html": [
       "<script id=\"myVizzu_db5afb3\">\n",
       "    document.inhibitScroll = false;\n",
       "</script>"
      ]
     },
     "metadata": {},
     "output_type": "display_data"
    },
    {
     "data": {
      "text/html": [
       "<script id=\"myVizzu_bc121b6\">\n",
       "    document.inhibitScroll = false;\n",
       "</script>"
      ]
     },
     "metadata": {},
     "output_type": "display_data"
    },
    {
     "data": {
      "text/html": [
       "<script id=\"myVizzu_d0ad381\">\n",
       "    document.inhibitScroll = false;\n",
       "</script>"
      ]
     },
     "metadata": {},
     "output_type": "display_data"
    },
    {
     "data": {
      "text/html": [
       "<script id=\"myVizzu_3fdc04f\">\n",
       "    document.inhibitScroll = false;\n",
       "</script>"
      ]
     },
     "metadata": {},
     "output_type": "display_data"
    },
    {
     "data": {
      "text/html": [
       "<script id=\"myVizzu_621d0fb\">\n",
       "    document.inhibitScroll = false;\n",
       "</script>"
      ]
     },
     "metadata": {},
     "output_type": "display_data"
    },
    {
     "data": {
      "text/html": [
       "<script id=\"myVizzu_149da77\">\n",
       "    document.inhibitScroll = false;\n",
       "</script>"
      ]
     },
     "metadata": {},
     "output_type": "display_data"
    },
    {
     "data": {
      "text/html": [
       "<script id=\"myVizzu_872dd3f\">\n",
       "    document.inhibitScroll = false;\n",
       "</script>"
      ]
     },
     "metadata": {},
     "output_type": "display_data"
    },
    {
     "data": {
      "text/html": [
       "<script id=\"myVizzu_57ae50f\">\n",
       "    document.inhibitScroll = false;\n",
       "</script>"
      ]
     },
     "metadata": {},
     "output_type": "display_data"
    },
    {
     "data": {
      "text/html": [
       "<script id=\"myVizzu_e42d9f3\">\n",
       "    document.inhibitScroll = false;\n",
       "</script>"
      ]
     },
     "metadata": {},
     "output_type": "display_data"
    },
    {
     "data": {
      "text/html": [
       "<script id=\"myVizzu_eca3952\">\n",
       "    document.inhibitScroll = false;\n",
       "</script>"
      ]
     },
     "metadata": {},
     "output_type": "display_data"
    },
    {
     "data": {
      "text/html": [
       "<script id=\"myVizzu_c314138\">\n",
       "    document.inhibitScroll = false;\n",
       "</script>"
      ]
     },
     "metadata": {},
     "output_type": "display_data"
    },
    {
     "data": {
      "text/html": [
       "<script id=\"myVizzu_09bbdac\">\n",
       "    document.inhibitScroll = false;\n",
       "</script>"
      ]
     },
     "metadata": {},
     "output_type": "display_data"
    },
    {
     "data": {
      "text/html": [
       "<script id=\"myVizzu_e600958\">\n",
       "    document.inhibitScroll = false;\n",
       "</script>"
      ]
     },
     "metadata": {},
     "output_type": "display_data"
    },
    {
     "data": {
      "text/html": [
       "<script id=\"myVizzu_e786e47\">\n",
       "    document.inhibitScroll = false;\n",
       "</script>"
      ]
     },
     "metadata": {},
     "output_type": "display_data"
    },
    {
     "data": {
      "text/html": [
       "<script id=\"myVizzu_768c07b\">\n",
       "    document.inhibitScroll = false;\n",
       "</script>"
      ]
     },
     "metadata": {},
     "output_type": "display_data"
    },
    {
     "data": {
      "text/html": [
       "<script id=\"myVizzu_89ced45\">\n",
       "    document.inhibitScroll = false;\n",
       "</script>"
      ]
     },
     "metadata": {},
     "output_type": "display_data"
    },
    {
     "data": {
      "text/html": [
       "<script id=\"myVizzu_0d75b15\">\n",
       "    document.inhibitScroll = false;\n",
       "</script>"
      ]
     },
     "metadata": {},
     "output_type": "display_data"
    },
    {
     "data": {
      "text/html": [
       "<script id=\"myVizzu_635ec01\">\n",
       "    document.inhibitScroll = false;\n",
       "</script>"
      ]
     },
     "metadata": {},
     "output_type": "display_data"
    },
    {
     "data": {
      "text/html": [
       "<script id=\"myVizzu_8d5c8a5\">\n",
       "    document.inhibitScroll = false;\n",
       "</script>"
      ]
     },
     "metadata": {},
     "output_type": "display_data"
    },
    {
     "data": {
      "text/html": [
       "<script id=\"myVizzu_ca9e408\">\n",
       "    document.inhibitScroll = false;\n",
       "</script>"
      ]
     },
     "metadata": {},
     "output_type": "display_data"
    },
    {
     "data": {
      "text/html": [
       "<script id=\"myVizzu_fc7d68e\">\n",
       "    document.inhibitScroll = false;\n",
       "</script>"
      ]
     },
     "metadata": {},
     "output_type": "display_data"
    },
    {
     "data": {
      "text/html": [
       "<script id=\"myVizzu_97c7886\">\n",
       "    document.inhibitScroll = false;\n",
       "</script>"
      ]
     },
     "metadata": {},
     "output_type": "display_data"
    },
    {
     "data": {
      "text/html": [
       "<script id=\"myVizzu_ae8fce2\">\n",
       "    document.inhibitScroll = false;\n",
       "</script>"
      ]
     },
     "metadata": {},
     "output_type": "display_data"
    },
    {
     "data": {
      "text/html": [
       "<script id=\"myVizzu_34fe87d\">\n",
       "    document.inhibitScroll = false;\n",
       "</script>"
      ]
     },
     "metadata": {},
     "output_type": "display_data"
    },
    {
     "data": {
      "text/html": [
       "<script id=\"myVizzu_ac5a0d0\">\n",
       "    document.inhibitScroll = false;\n",
       "</script>"
      ]
     },
     "metadata": {},
     "output_type": "display_data"
    },
    {
     "data": {
      "text/html": [
       "<script id=\"myVizzu_ee1f852\">\n",
       "    document.inhibitScroll = false;\n",
       "</script>"
      ]
     },
     "metadata": {},
     "output_type": "display_data"
    },
    {
     "data": {
      "text/html": [
       "<script id=\"myVizzu_bafc511\">\n",
       "    document.inhibitScroll = false;\n",
       "</script>"
      ]
     },
     "metadata": {},
     "output_type": "display_data"
    },
    {
     "data": {
      "text/html": [
       "<script id=\"myVizzu_01b423c\">\n",
       "    document.inhibitScroll = false;\n",
       "</script>"
      ]
     },
     "metadata": {},
     "output_type": "display_data"
    },
    {
     "data": {
      "text/html": [
       "<script id=\"myVizzu_eb8e43a\">\n",
       "    document.inhibitScroll = false;\n",
       "</script>"
      ]
     },
     "metadata": {},
     "output_type": "display_data"
    },
    {
     "data": {
      "text/html": [
       "<script id=\"myVizzu_e474966\">\n",
       "    document.inhibitScroll = false;\n",
       "</script>"
      ]
     },
     "metadata": {},
     "output_type": "display_data"
    },
    {
     "data": {
      "text/html": [
       "<script id=\"myVizzu_2788aa9\">\n",
       "    document.inhibitScroll = false;\n",
       "</script>"
      ]
     },
     "metadata": {},
     "output_type": "display_data"
    },
    {
     "data": {
      "text/html": [
       "<script id=\"myVizzu_9f3fa36\">\n",
       "    document.inhibitScroll = false;\n",
       "</script>"
      ]
     },
     "metadata": {},
     "output_type": "display_data"
    },
    {
     "data": {
      "text/html": [
       "<script id=\"myVizzu_a1a3f36\">\n",
       "    document.inhibitScroll = false;\n",
       "</script>"
      ]
     },
     "metadata": {},
     "output_type": "display_data"
    },
    {
     "data": {
      "text/html": [
       "<script id=\"myVizzu_0b90f3d\">\n",
       "    document.inhibitScroll = false;\n",
       "</script>"
      ]
     },
     "metadata": {},
     "output_type": "display_data"
    },
    {
     "data": {
      "text/html": [
       "<script id=\"myVizzu_b5f6999\">\n",
       "    document.inhibitScroll = false;\n",
       "</script>"
      ]
     },
     "metadata": {},
     "output_type": "display_data"
    },
    {
     "data": {
      "text/html": [
       "<script id=\"myVizzu_0ad3566\">\n",
       "    document.inhibitScroll = false;\n",
       "</script>"
      ]
     },
     "metadata": {},
     "output_type": "display_data"
    },
    {
     "data": {
      "text/html": [
       "<script id=\"myVizzu_4a7c025\">\n",
       "    document.inhibitScroll = false;\n",
       "</script>"
      ]
     },
     "metadata": {},
     "output_type": "display_data"
    },
    {
     "data": {
      "text/html": [
       "<script id=\"myVizzu_beaae3c\">\n",
       "    document.inhibitScroll = false;\n",
       "</script>"
      ]
     },
     "metadata": {},
     "output_type": "display_data"
    },
    {
     "data": {
      "text/html": [
       "<script id=\"myVizzu_0c810de\">\n",
       "    document.inhibitScroll = false;\n",
       "</script>"
      ]
     },
     "metadata": {},
     "output_type": "display_data"
    },
    {
     "data": {
      "text/html": [
       "<script id=\"myVizzu_45097af\">\n",
       "    document.inhibitScroll = false;\n",
       "</script>"
      ]
     },
     "metadata": {},
     "output_type": "display_data"
    },
    {
     "data": {
      "text/html": [
       "<script id=\"myVizzu_becd4b2\">\n",
       "    document.inhibitScroll = false;\n",
       "</script>"
      ]
     },
     "metadata": {},
     "output_type": "display_data"
    },
    {
     "data": {
      "text/html": [
       "<script id=\"myVizzu_a3cd2c3\">\n",
       "    document.inhibitScroll = false;\n",
       "</script>"
      ]
     },
     "metadata": {},
     "output_type": "display_data"
    },
    {
     "data": {
      "text/html": [
       "<script id=\"myVizzu_6c17ead\">\n",
       "    document.inhibitScroll = false;\n",
       "</script>"
      ]
     },
     "metadata": {},
     "output_type": "display_data"
    },
    {
     "data": {
      "text/html": [
       "<script id=\"myVizzu_791c5d0\">\n",
       "    document.inhibitScroll = false;\n",
       "</script>"
      ]
     },
     "metadata": {},
     "output_type": "display_data"
    },
    {
     "data": {
      "text/html": [
       "<script id=\"myVizzu_d58c79e\">\n",
       "    document.inhibitScroll = false;\n",
       "</script>"
      ]
     },
     "metadata": {},
     "output_type": "display_data"
    },
    {
     "data": {
      "text/html": [
       "<script id=\"myVizzu_1bed3ca\">\n",
       "    document.inhibitScroll = false;\n",
       "</script>"
      ]
     },
     "metadata": {},
     "output_type": "display_data"
    },
    {
     "data": {
      "text/html": [
       "<script id=\"myVizzu_4893667\">\n",
       "    document.inhibitScroll = false;\n",
       "</script>"
      ]
     },
     "metadata": {},
     "output_type": "display_data"
    },
    {
     "data": {
      "text/html": [
       "<script id=\"myVizzu_b4dbce3\">\n",
       "    document.inhibitScroll = false;\n",
       "</script>"
      ]
     },
     "metadata": {},
     "output_type": "display_data"
    },
    {
     "data": {
      "text/html": [
       "<script id=\"myVizzu_4425f19\">\n",
       "    document.inhibitScroll = false;\n",
       "</script>"
      ]
     },
     "metadata": {},
     "output_type": "display_data"
    },
    {
     "data": {
      "text/html": [
       "<script id=\"myVizzu_31de71a\">\n",
       "    document.inhibitScroll = false;\n",
       "</script>"
      ]
     },
     "metadata": {},
     "output_type": "display_data"
    },
    {
     "data": {
      "text/html": [
       "<script id=\"myVizzu_ab962da\">\n",
       "    document.inhibitScroll = false;\n",
       "</script>"
      ]
     },
     "metadata": {},
     "output_type": "display_data"
    },
    {
     "data": {
      "text/html": [
       "<script id=\"myVizzu_4a0da1d\">\n",
       "    document.inhibitScroll = false;\n",
       "</script>"
      ]
     },
     "metadata": {},
     "output_type": "display_data"
    },
    {
     "data": {
      "application/javascript": [
       "\n",
       "            setTimeout(function() {\n",
       "                var nbb_cell_id = 250;\n",
       "                var nbb_unformatted_code = \"cat_cols = abalone.select_dtypes(\\\"category\\\").columns\\nabalone[cat_cols] = abalone[cat_cols].astype(\\\"object\\\")\";\n",
       "                var nbb_formatted_code = \"cat_cols = abalone.select_dtypes(\\\"category\\\").columns\\nabalone[cat_cols] = abalone[cat_cols].astype(\\\"object\\\")\";\n",
       "                var nbb_cells = Jupyter.notebook.get_cells();\n",
       "                for (var i = 0; i < nbb_cells.length; ++i) {\n",
       "                    if (nbb_cells[i].input_prompt_number == nbb_cell_id) {\n",
       "                        if (nbb_cells[i].get_text() == nbb_unformatted_code) {\n",
       "                             nbb_cells[i].set_text(nbb_formatted_code);\n",
       "                        }\n",
       "                        break;\n",
       "                    }\n",
       "                }\n",
       "            }, 500);\n",
       "            "
      ],
      "text/plain": [
       "<IPython.core.display.Javascript object>"
      ]
     },
     "metadata": {},
     "output_type": "display_data"
    }
   ],
   "source": [
    "cat_cols = abalone.select_dtypes(\"category\").columns\n",
    "abalone[cat_cols] = abalone[cat_cols].astype(\"object\")"
   ]
  },
  {
   "cell_type": "code",
   "execution_count": 251,
   "id": "38e9ce4f",
   "metadata": {
    "ExecuteTime": {
     "end_time": "2022-04-10T15:28:51.403496Z",
     "start_time": "2022-04-10T15:28:51.365379Z"
    }
   },
   "outputs": [
    {
     "data": {
      "text/html": [
       "<script id=\"myVizzu_4243a9e\">\n",
       "    document.inhibitScroll = false;\n",
       "</script>"
      ]
     },
     "metadata": {},
     "output_type": "display_data"
    },
    {
     "data": {
      "text/html": [
       "<script id=\"myVizzu_610e3d9\">\n",
       "    document.inhibitScroll = false;\n",
       "</script>"
      ]
     },
     "metadata": {},
     "output_type": "display_data"
    },
    {
     "data": {
      "text/html": [
       "<script id=\"myVizzu_2e0adc5\">\n",
       "    document.inhibitScroll = false;\n",
       "</script>"
      ]
     },
     "metadata": {},
     "output_type": "display_data"
    },
    {
     "data": {
      "text/html": [
       "<script id=\"myVizzu_725e688\">\n",
       "    document.inhibitScroll = false;\n",
       "</script>"
      ]
     },
     "metadata": {},
     "output_type": "display_data"
    },
    {
     "data": {
      "text/html": [
       "<script id=\"myVizzu_4654216\">\n",
       "    document.inhibitScroll = false;\n",
       "</script>"
      ]
     },
     "metadata": {},
     "output_type": "display_data"
    },
    {
     "data": {
      "text/html": [
       "<script id=\"myVizzu_3a83e9f\">\n",
       "    document.inhibitScroll = false;\n",
       "</script>"
      ]
     },
     "metadata": {},
     "output_type": "display_data"
    },
    {
     "data": {
      "text/html": [
       "<script id=\"myVizzu_62593be\">\n",
       "    document.inhibitScroll = false;\n",
       "</script>"
      ]
     },
     "metadata": {},
     "output_type": "display_data"
    },
    {
     "data": {
      "text/html": [
       "<script id=\"myVizzu_1c74901\">\n",
       "    document.inhibitScroll = false;\n",
       "</script>"
      ]
     },
     "metadata": {},
     "output_type": "display_data"
    },
    {
     "data": {
      "text/html": [
       "<script id=\"myVizzu_dac0a13\">\n",
       "    document.inhibitScroll = false;\n",
       "</script>"
      ]
     },
     "metadata": {},
     "output_type": "display_data"
    },
    {
     "data": {
      "text/html": [
       "<script id=\"myVizzu_f1028db\">\n",
       "    document.inhibitScroll = false;\n",
       "</script>"
      ]
     },
     "metadata": {},
     "output_type": "display_data"
    },
    {
     "data": {
      "text/html": [
       "<script id=\"myVizzu_9a3c871\">\n",
       "    document.inhibitScroll = false;\n",
       "</script>"
      ]
     },
     "metadata": {},
     "output_type": "display_data"
    },
    {
     "data": {
      "text/html": [
       "<script id=\"myVizzu_0187cbc\">\n",
       "    document.inhibitScroll = false;\n",
       "</script>"
      ]
     },
     "metadata": {},
     "output_type": "display_data"
    },
    {
     "data": {
      "text/html": [
       "<script id=\"myVizzu_ea6b0a8\">\n",
       "    document.inhibitScroll = false;\n",
       "</script>"
      ]
     },
     "metadata": {},
     "output_type": "display_data"
    },
    {
     "data": {
      "text/html": [
       "<script id=\"myVizzu_7543b6b\">\n",
       "    document.inhibitScroll = false;\n",
       "</script>"
      ]
     },
     "metadata": {},
     "output_type": "display_data"
    },
    {
     "data": {
      "text/html": [
       "<script id=\"myVizzu_ed1fa8c\">\n",
       "    document.inhibitScroll = false;\n",
       "</script>"
      ]
     },
     "metadata": {},
     "output_type": "display_data"
    },
    {
     "data": {
      "text/html": [
       "<script id=\"myVizzu_3dac941\">\n",
       "    document.inhibitScroll = false;\n",
       "</script>"
      ]
     },
     "metadata": {},
     "output_type": "display_data"
    },
    {
     "data": {
      "text/html": [
       "<script id=\"myVizzu_7c51fd1\">\n",
       "    document.inhibitScroll = false;\n",
       "</script>"
      ]
     },
     "metadata": {},
     "output_type": "display_data"
    },
    {
     "data": {
      "text/html": [
       "<script id=\"myVizzu_0d61e8d\">\n",
       "    document.inhibitScroll = false;\n",
       "</script>"
      ]
     },
     "metadata": {},
     "output_type": "display_data"
    },
    {
     "data": {
      "text/html": [
       "<script id=\"myVizzu_9bb82a8\">\n",
       "    document.inhibitScroll = false;\n",
       "</script>"
      ]
     },
     "metadata": {},
     "output_type": "display_data"
    },
    {
     "data": {
      "text/html": [
       "<script id=\"myVizzu_defa6b4\">\n",
       "    document.inhibitScroll = false;\n",
       "</script>"
      ]
     },
     "metadata": {},
     "output_type": "display_data"
    },
    {
     "data": {
      "text/html": [
       "<script id=\"myVizzu_9820a58\">\n",
       "    document.inhibitScroll = false;\n",
       "</script>"
      ]
     },
     "metadata": {},
     "output_type": "display_data"
    },
    {
     "data": {
      "text/html": [
       "<script id=\"myVizzu_52db6ff\">\n",
       "    document.inhibitScroll = false;\n",
       "</script>"
      ]
     },
     "metadata": {},
     "output_type": "display_data"
    },
    {
     "data": {
      "text/html": [
       "<script id=\"myVizzu_e41bc6c\">\n",
       "    document.inhibitScroll = false;\n",
       "</script>"
      ]
     },
     "metadata": {},
     "output_type": "display_data"
    },
    {
     "data": {
      "text/html": [
       "<script id=\"myVizzu_804c5b5\">\n",
       "    document.inhibitScroll = false;\n",
       "</script>"
      ]
     },
     "metadata": {},
     "output_type": "display_data"
    },
    {
     "data": {
      "text/html": [
       "<script id=\"myVizzu_3721320\">\n",
       "    document.inhibitScroll = false;\n",
       "</script>"
      ]
     },
     "metadata": {},
     "output_type": "display_data"
    },
    {
     "data": {
      "text/html": [
       "<script id=\"myVizzu_0ad8d78\">\n",
       "    document.inhibitScroll = false;\n",
       "</script>"
      ]
     },
     "metadata": {},
     "output_type": "display_data"
    },
    {
     "data": {
      "text/html": [
       "<script id=\"myVizzu_3573240\">\n",
       "    document.inhibitScroll = false;\n",
       "</script>"
      ]
     },
     "metadata": {},
     "output_type": "display_data"
    },
    {
     "data": {
      "text/html": [
       "<script id=\"myVizzu_46ef98a\">\n",
       "    document.inhibitScroll = false;\n",
       "</script>"
      ]
     },
     "metadata": {},
     "output_type": "display_data"
    },
    {
     "data": {
      "text/html": [
       "<script id=\"myVizzu_bb73efe\">\n",
       "    document.inhibitScroll = false;\n",
       "</script>"
      ]
     },
     "metadata": {},
     "output_type": "display_data"
    },
    {
     "data": {
      "text/html": [
       "<script id=\"myVizzu_0702877\">\n",
       "    document.inhibitScroll = false;\n",
       "</script>"
      ]
     },
     "metadata": {},
     "output_type": "display_data"
    },
    {
     "data": {
      "text/html": [
       "<script id=\"myVizzu_56da822\">\n",
       "    document.inhibitScroll = false;\n",
       "</script>"
      ]
     },
     "metadata": {},
     "output_type": "display_data"
    },
    {
     "data": {
      "text/html": [
       "<script id=\"myVizzu_7bd10ee\">\n",
       "    document.inhibitScroll = false;\n",
       "</script>"
      ]
     },
     "metadata": {},
     "output_type": "display_data"
    },
    {
     "data": {
      "text/html": [
       "<script id=\"myVizzu_14c4974\">\n",
       "    document.inhibitScroll = false;\n",
       "</script>"
      ]
     },
     "metadata": {},
     "output_type": "display_data"
    },
    {
     "data": {
      "text/html": [
       "<script id=\"myVizzu_e7db4ff\">\n",
       "    document.inhibitScroll = false;\n",
       "</script>"
      ]
     },
     "metadata": {},
     "output_type": "display_data"
    },
    {
     "data": {
      "text/html": [
       "<script id=\"myVizzu_bf4193a\">\n",
       "    document.inhibitScroll = false;\n",
       "</script>"
      ]
     },
     "metadata": {},
     "output_type": "display_data"
    },
    {
     "data": {
      "text/html": [
       "<script id=\"myVizzu_681bdef\">\n",
       "    document.inhibitScroll = false;\n",
       "</script>"
      ]
     },
     "metadata": {},
     "output_type": "display_data"
    },
    {
     "data": {
      "text/html": [
       "<script id=\"myVizzu_6af81cf\">\n",
       "    document.inhibitScroll = false;\n",
       "</script>"
      ]
     },
     "metadata": {},
     "output_type": "display_data"
    },
    {
     "data": {
      "text/html": [
       "<script id=\"myVizzu_37e98c5\">\n",
       "    document.inhibitScroll = false;\n",
       "</script>"
      ]
     },
     "metadata": {},
     "output_type": "display_data"
    },
    {
     "data": {
      "text/html": [
       "<script id=\"myVizzu_223c2c8\">\n",
       "    document.inhibitScroll = false;\n",
       "</script>"
      ]
     },
     "metadata": {},
     "output_type": "display_data"
    },
    {
     "data": {
      "text/html": [
       "<script id=\"myVizzu_3ce121f\">\n",
       "    document.inhibitScroll = false;\n",
       "</script>"
      ]
     },
     "metadata": {},
     "output_type": "display_data"
    },
    {
     "data": {
      "text/html": [
       "<script id=\"myVizzu_21ea605\">\n",
       "    document.inhibitScroll = false;\n",
       "</script>"
      ]
     },
     "metadata": {},
     "output_type": "display_data"
    },
    {
     "data": {
      "text/html": [
       "<script id=\"myVizzu_d3098ec\">\n",
       "    document.inhibitScroll = false;\n",
       "</script>"
      ]
     },
     "metadata": {},
     "output_type": "display_data"
    },
    {
     "data": {
      "text/html": [
       "<script id=\"myVizzu_79f2a4d\">\n",
       "    document.inhibitScroll = false;\n",
       "</script>"
      ]
     },
     "metadata": {},
     "output_type": "display_data"
    },
    {
     "data": {
      "text/html": [
       "<script id=\"myVizzu_fcf1436\">\n",
       "    document.inhibitScroll = false;\n",
       "</script>"
      ]
     },
     "metadata": {},
     "output_type": "display_data"
    },
    {
     "data": {
      "text/html": [
       "<script id=\"myVizzu_eb7c0a5\">\n",
       "    document.inhibitScroll = false;\n",
       "</script>"
      ]
     },
     "metadata": {},
     "output_type": "display_data"
    },
    {
     "data": {
      "text/html": [
       "<script id=\"myVizzu_e87eba1\">\n",
       "    document.inhibitScroll = false;\n",
       "</script>"
      ]
     },
     "metadata": {},
     "output_type": "display_data"
    },
    {
     "data": {
      "text/html": [
       "<script id=\"myVizzu_7424abb\">\n",
       "    document.inhibitScroll = false;\n",
       "</script>"
      ]
     },
     "metadata": {},
     "output_type": "display_data"
    },
    {
     "data": {
      "text/html": [
       "<script id=\"myVizzu_81df1c0\">\n",
       "    document.inhibitScroll = false;\n",
       "</script>"
      ]
     },
     "metadata": {},
     "output_type": "display_data"
    },
    {
     "data": {
      "text/html": [
       "<script id=\"myVizzu_d07d250\">\n",
       "    document.inhibitScroll = false;\n",
       "</script>"
      ]
     },
     "metadata": {},
     "output_type": "display_data"
    },
    {
     "data": {
      "text/html": [
       "<script id=\"myVizzu_7bb8fb2\">\n",
       "    document.inhibitScroll = false;\n",
       "</script>"
      ]
     },
     "metadata": {},
     "output_type": "display_data"
    },
    {
     "data": {
      "text/html": [
       "<script id=\"myVizzu_1eba130\">\n",
       "    document.inhibitScroll = false;\n",
       "</script>"
      ]
     },
     "metadata": {},
     "output_type": "display_data"
    },
    {
     "data": {
      "text/html": [
       "<script id=\"myVizzu_54b808c\">\n",
       "    document.inhibitScroll = false;\n",
       "</script>"
      ]
     },
     "metadata": {},
     "output_type": "display_data"
    },
    {
     "data": {
      "text/html": [
       "<script id=\"myVizzu_285fc54\">\n",
       "    document.inhibitScroll = false;\n",
       "</script>"
      ]
     },
     "metadata": {},
     "output_type": "display_data"
    },
    {
     "data": {
      "text/html": [
       "<script id=\"myVizzu_7a128b5\">\n",
       "    document.inhibitScroll = false;\n",
       "</script>"
      ]
     },
     "metadata": {},
     "output_type": "display_data"
    },
    {
     "data": {
      "text/html": [
       "<script id=\"myVizzu_e9c06f4\">\n",
       "    document.inhibitScroll = false;\n",
       "</script>"
      ]
     },
     "metadata": {},
     "output_type": "display_data"
    },
    {
     "data": {
      "text/html": [
       "<script id=\"myVizzu_a46736f\">\n",
       "    document.inhibitScroll = false;\n",
       "</script>"
      ]
     },
     "metadata": {},
     "output_type": "display_data"
    },
    {
     "data": {
      "text/html": [
       "<script id=\"myVizzu_e166904\">\n",
       "    document.inhibitScroll = false;\n",
       "</script>"
      ]
     },
     "metadata": {},
     "output_type": "display_data"
    },
    {
     "data": {
      "text/html": [
       "<script id=\"myVizzu_c55230c\">\n",
       "    document.inhibitScroll = false;\n",
       "</script>"
      ]
     },
     "metadata": {},
     "output_type": "display_data"
    },
    {
     "data": {
      "text/html": [
       "<script id=\"myVizzu_056fd9b\">\n",
       "    document.inhibitScroll = false;\n",
       "</script>"
      ]
     },
     "metadata": {},
     "output_type": "display_data"
    },
    {
     "data": {
      "text/html": [
       "<script id=\"myVizzu_ea8261f\">\n",
       "    document.inhibitScroll = false;\n",
       "</script>"
      ]
     },
     "metadata": {},
     "output_type": "display_data"
    },
    {
     "data": {
      "text/html": [
       "<script id=\"myVizzu_49b1218\">\n",
       "    document.inhibitScroll = false;\n",
       "</script>"
      ]
     },
     "metadata": {},
     "output_type": "display_data"
    },
    {
     "data": {
      "text/html": [
       "<script id=\"myVizzu_8b35845\">\n",
       "    document.inhibitScroll = false;\n",
       "</script>"
      ]
     },
     "metadata": {},
     "output_type": "display_data"
    },
    {
     "data": {
      "text/html": [
       "<script id=\"myVizzu_d5efc5e\">\n",
       "    document.inhibitScroll = false;\n",
       "</script>"
      ]
     },
     "metadata": {},
     "output_type": "display_data"
    },
    {
     "data": {
      "text/html": [
       "<script id=\"myVizzu_04c422d\">\n",
       "    document.inhibitScroll = false;\n",
       "</script>"
      ]
     },
     "metadata": {},
     "output_type": "display_data"
    },
    {
     "data": {
      "text/html": [
       "<script id=\"myVizzu_9339804\">\n",
       "    document.inhibitScroll = false;\n",
       "</script>"
      ]
     },
     "metadata": {},
     "output_type": "display_data"
    },
    {
     "data": {
      "text/html": [
       "<script id=\"myVizzu_c2e5f40\">\n",
       "    document.inhibitScroll = false;\n",
       "</script>"
      ]
     },
     "metadata": {},
     "output_type": "display_data"
    },
    {
     "data": {
      "text/html": [
       "<script id=\"myVizzu_36ff33a\">\n",
       "    document.inhibitScroll = false;\n",
       "</script>"
      ]
     },
     "metadata": {},
     "output_type": "display_data"
    },
    {
     "data": {
      "application/javascript": [
       "\n",
       "            setTimeout(function() {\n",
       "                var nbb_cell_id = 251;\n",
       "                var nbb_unformatted_code = \"group = abalone.groupby(list(cat_cols)).mean().reset_index()\";\n",
       "                var nbb_formatted_code = \"group = abalone.groupby(list(cat_cols)).mean().reset_index()\";\n",
       "                var nbb_cells = Jupyter.notebook.get_cells();\n",
       "                for (var i = 0; i < nbb_cells.length; ++i) {\n",
       "                    if (nbb_cells[i].input_prompt_number == nbb_cell_id) {\n",
       "                        if (nbb_cells[i].get_text() == nbb_unformatted_code) {\n",
       "                             nbb_cells[i].set_text(nbb_formatted_code);\n",
       "                        }\n",
       "                        break;\n",
       "                    }\n",
       "                }\n",
       "            }, 500);\n",
       "            "
      ],
      "text/plain": [
       "<IPython.core.display.Javascript object>"
      ]
     },
     "metadata": {},
     "output_type": "display_data"
    }
   ],
   "source": [
    "group = abalone.groupby(list(cat_cols)).mean().reset_index()"
   ]
  },
  {
   "cell_type": "code",
   "execution_count": 252,
   "id": "8184777d",
   "metadata": {
    "ExecuteTime": {
     "end_time": "2022-04-10T15:28:52.590874Z",
     "start_time": "2022-04-10T15:28:52.557779Z"
    }
   },
   "outputs": [
    {
     "data": {
      "text/html": [
       "<script id=\"myVizzu_79f89fc\">\n",
       "    document.inhibitScroll = false;\n",
       "</script>"
      ]
     },
     "metadata": {},
     "output_type": "display_data"
    },
    {
     "data": {
      "text/html": [
       "<script id=\"myVizzu_77bf516\">\n",
       "    document.inhibitScroll = false;\n",
       "</script>"
      ]
     },
     "metadata": {},
     "output_type": "display_data"
    },
    {
     "data": {
      "text/html": [
       "<script id=\"myVizzu_560f103\">\n",
       "    document.inhibitScroll = false;\n",
       "</script>"
      ]
     },
     "metadata": {},
     "output_type": "display_data"
    },
    {
     "data": {
      "text/html": [
       "<script id=\"myVizzu_cad14b2\">\n",
       "    document.inhibitScroll = false;\n",
       "</script>"
      ]
     },
     "metadata": {},
     "output_type": "display_data"
    },
    {
     "data": {
      "text/html": [
       "<script id=\"myVizzu_afe11a0\">\n",
       "    document.inhibitScroll = false;\n",
       "</script>"
      ]
     },
     "metadata": {},
     "output_type": "display_data"
    },
    {
     "data": {
      "text/html": [
       "<script id=\"myVizzu_ea1c522\">\n",
       "    document.inhibitScroll = false;\n",
       "</script>"
      ]
     },
     "metadata": {},
     "output_type": "display_data"
    },
    {
     "data": {
      "text/html": [
       "<script id=\"myVizzu_9aa6c06\">\n",
       "    document.inhibitScroll = false;\n",
       "</script>"
      ]
     },
     "metadata": {},
     "output_type": "display_data"
    },
    {
     "data": {
      "text/html": [
       "<script id=\"myVizzu_4504f7a\">\n",
       "    document.inhibitScroll = false;\n",
       "</script>"
      ]
     },
     "metadata": {},
     "output_type": "display_data"
    },
    {
     "data": {
      "text/html": [
       "<script id=\"myVizzu_3df524c\">\n",
       "    document.inhibitScroll = false;\n",
       "</script>"
      ]
     },
     "metadata": {},
     "output_type": "display_data"
    },
    {
     "data": {
      "text/html": [
       "<script id=\"myVizzu_6958866\">\n",
       "    document.inhibitScroll = false;\n",
       "</script>"
      ]
     },
     "metadata": {},
     "output_type": "display_data"
    },
    {
     "data": {
      "text/html": [
       "<script id=\"myVizzu_402aa8f\">\n",
       "    document.inhibitScroll = false;\n",
       "</script>"
      ]
     },
     "metadata": {},
     "output_type": "display_data"
    },
    {
     "data": {
      "text/html": [
       "<script id=\"myVizzu_dd33bf1\">\n",
       "    document.inhibitScroll = false;\n",
       "</script>"
      ]
     },
     "metadata": {},
     "output_type": "display_data"
    },
    {
     "data": {
      "text/html": [
       "<script id=\"myVizzu_407e81c\">\n",
       "    document.inhibitScroll = false;\n",
       "</script>"
      ]
     },
     "metadata": {},
     "output_type": "display_data"
    },
    {
     "data": {
      "text/html": [
       "<script id=\"myVizzu_d3a61c8\">\n",
       "    document.inhibitScroll = false;\n",
       "</script>"
      ]
     },
     "metadata": {},
     "output_type": "display_data"
    },
    {
     "data": {
      "text/html": [
       "<script id=\"myVizzu_f9b1f2a\">\n",
       "    document.inhibitScroll = false;\n",
       "</script>"
      ]
     },
     "metadata": {},
     "output_type": "display_data"
    },
    {
     "data": {
      "text/html": [
       "<script id=\"myVizzu_1c893cf\">\n",
       "    document.inhibitScroll = false;\n",
       "</script>"
      ]
     },
     "metadata": {},
     "output_type": "display_data"
    },
    {
     "data": {
      "text/html": [
       "<script id=\"myVizzu_f563bb7\">\n",
       "    document.inhibitScroll = false;\n",
       "</script>"
      ]
     },
     "metadata": {},
     "output_type": "display_data"
    },
    {
     "data": {
      "text/html": [
       "<script id=\"myVizzu_417b7c7\">\n",
       "    document.inhibitScroll = false;\n",
       "</script>"
      ]
     },
     "metadata": {},
     "output_type": "display_data"
    },
    {
     "data": {
      "text/html": [
       "<script id=\"myVizzu_8fc056a\">\n",
       "    document.inhibitScroll = false;\n",
       "</script>"
      ]
     },
     "metadata": {},
     "output_type": "display_data"
    },
    {
     "data": {
      "text/html": [
       "<script id=\"myVizzu_6b6875c\">\n",
       "    document.inhibitScroll = false;\n",
       "</script>"
      ]
     },
     "metadata": {},
     "output_type": "display_data"
    },
    {
     "data": {
      "text/html": [
       "<script id=\"myVizzu_83a4790\">\n",
       "    document.inhibitScroll = false;\n",
       "</script>"
      ]
     },
     "metadata": {},
     "output_type": "display_data"
    },
    {
     "data": {
      "text/html": [
       "<script id=\"myVizzu_bd566ee\">\n",
       "    document.inhibitScroll = false;\n",
       "</script>"
      ]
     },
     "metadata": {},
     "output_type": "display_data"
    },
    {
     "data": {
      "text/html": [
       "<script id=\"myVizzu_ba895b3\">\n",
       "    document.inhibitScroll = false;\n",
       "</script>"
      ]
     },
     "metadata": {},
     "output_type": "display_data"
    },
    {
     "data": {
      "text/html": [
       "<script id=\"myVizzu_4658d34\">\n",
       "    document.inhibitScroll = false;\n",
       "</script>"
      ]
     },
     "metadata": {},
     "output_type": "display_data"
    },
    {
     "data": {
      "text/html": [
       "<script id=\"myVizzu_9998c8a\">\n",
       "    document.inhibitScroll = false;\n",
       "</script>"
      ]
     },
     "metadata": {},
     "output_type": "display_data"
    },
    {
     "data": {
      "text/html": [
       "<script id=\"myVizzu_a272607\">\n",
       "    document.inhibitScroll = false;\n",
       "</script>"
      ]
     },
     "metadata": {},
     "output_type": "display_data"
    },
    {
     "data": {
      "text/html": [
       "<script id=\"myVizzu_5e09671\">\n",
       "    document.inhibitScroll = false;\n",
       "</script>"
      ]
     },
     "metadata": {},
     "output_type": "display_data"
    },
    {
     "data": {
      "text/html": [
       "<script id=\"myVizzu_93b03a3\">\n",
       "    document.inhibitScroll = false;\n",
       "</script>"
      ]
     },
     "metadata": {},
     "output_type": "display_data"
    },
    {
     "data": {
      "text/html": [
       "<script id=\"myVizzu_12a888d\">\n",
       "    document.inhibitScroll = false;\n",
       "</script>"
      ]
     },
     "metadata": {},
     "output_type": "display_data"
    },
    {
     "data": {
      "text/html": [
       "<script id=\"myVizzu_4444ff9\">\n",
       "    document.inhibitScroll = false;\n",
       "</script>"
      ]
     },
     "metadata": {},
     "output_type": "display_data"
    },
    {
     "data": {
      "text/html": [
       "<script id=\"myVizzu_5fb4ef4\">\n",
       "    document.inhibitScroll = false;\n",
       "</script>"
      ]
     },
     "metadata": {},
     "output_type": "display_data"
    },
    {
     "data": {
      "text/html": [
       "<script id=\"myVizzu_556717d\">\n",
       "    document.inhibitScroll = false;\n",
       "</script>"
      ]
     },
     "metadata": {},
     "output_type": "display_data"
    },
    {
     "data": {
      "text/html": [
       "<script id=\"myVizzu_86151cc\">\n",
       "    document.inhibitScroll = false;\n",
       "</script>"
      ]
     },
     "metadata": {},
     "output_type": "display_data"
    },
    {
     "data": {
      "text/html": [
       "<script id=\"myVizzu_2ac05ff\">\n",
       "    document.inhibitScroll = false;\n",
       "</script>"
      ]
     },
     "metadata": {},
     "output_type": "display_data"
    },
    {
     "data": {
      "text/html": [
       "<script id=\"myVizzu_704c3f0\">\n",
       "    document.inhibitScroll = false;\n",
       "</script>"
      ]
     },
     "metadata": {},
     "output_type": "display_data"
    },
    {
     "data": {
      "text/html": [
       "<script id=\"myVizzu_b79bf57\">\n",
       "    document.inhibitScroll = false;\n",
       "</script>"
      ]
     },
     "metadata": {},
     "output_type": "display_data"
    },
    {
     "data": {
      "text/html": [
       "<script id=\"myVizzu_96f07fe\">\n",
       "    document.inhibitScroll = false;\n",
       "</script>"
      ]
     },
     "metadata": {},
     "output_type": "display_data"
    },
    {
     "data": {
      "text/html": [
       "<script id=\"myVizzu_92fc78c\">\n",
       "    document.inhibitScroll = false;\n",
       "</script>"
      ]
     },
     "metadata": {},
     "output_type": "display_data"
    },
    {
     "data": {
      "text/html": [
       "<script id=\"myVizzu_a73a978\">\n",
       "    document.inhibitScroll = false;\n",
       "</script>"
      ]
     },
     "metadata": {},
     "output_type": "display_data"
    },
    {
     "data": {
      "text/html": [
       "<script id=\"myVizzu_5da79f9\">\n",
       "    document.inhibitScroll = false;\n",
       "</script>"
      ]
     },
     "metadata": {},
     "output_type": "display_data"
    },
    {
     "data": {
      "text/html": [
       "<script id=\"myVizzu_b2db0aa\">\n",
       "    document.inhibitScroll = false;\n",
       "</script>"
      ]
     },
     "metadata": {},
     "output_type": "display_data"
    },
    {
     "data": {
      "text/html": [
       "<script id=\"myVizzu_8f83f40\">\n",
       "    document.inhibitScroll = false;\n",
       "</script>"
      ]
     },
     "metadata": {},
     "output_type": "display_data"
    },
    {
     "data": {
      "text/html": [
       "<script id=\"myVizzu_7865888\">\n",
       "    document.inhibitScroll = false;\n",
       "</script>"
      ]
     },
     "metadata": {},
     "output_type": "display_data"
    },
    {
     "data": {
      "text/html": [
       "<script id=\"myVizzu_38d696b\">\n",
       "    document.inhibitScroll = false;\n",
       "</script>"
      ]
     },
     "metadata": {},
     "output_type": "display_data"
    },
    {
     "data": {
      "text/html": [
       "<script id=\"myVizzu_9f0d3ce\">\n",
       "    document.inhibitScroll = false;\n",
       "</script>"
      ]
     },
     "metadata": {},
     "output_type": "display_data"
    },
    {
     "data": {
      "text/html": [
       "<script id=\"myVizzu_e959d58\">\n",
       "    document.inhibitScroll = false;\n",
       "</script>"
      ]
     },
     "metadata": {},
     "output_type": "display_data"
    },
    {
     "data": {
      "text/html": [
       "<script id=\"myVizzu_6b6b40d\">\n",
       "    document.inhibitScroll = false;\n",
       "</script>"
      ]
     },
     "metadata": {},
     "output_type": "display_data"
    },
    {
     "data": {
      "text/html": [
       "<script id=\"myVizzu_45014e4\">\n",
       "    document.inhibitScroll = false;\n",
       "</script>"
      ]
     },
     "metadata": {},
     "output_type": "display_data"
    },
    {
     "data": {
      "text/html": [
       "<script id=\"myVizzu_32d8a92\">\n",
       "    document.inhibitScroll = false;\n",
       "</script>"
      ]
     },
     "metadata": {},
     "output_type": "display_data"
    },
    {
     "data": {
      "text/html": [
       "<script id=\"myVizzu_83f8dcd\">\n",
       "    document.inhibitScroll = false;\n",
       "</script>"
      ]
     },
     "metadata": {},
     "output_type": "display_data"
    },
    {
     "data": {
      "text/html": [
       "<script id=\"myVizzu_4ad6b97\">\n",
       "    document.inhibitScroll = false;\n",
       "</script>"
      ]
     },
     "metadata": {},
     "output_type": "display_data"
    },
    {
     "data": {
      "text/html": [
       "<script id=\"myVizzu_7819201\">\n",
       "    document.inhibitScroll = false;\n",
       "</script>"
      ]
     },
     "metadata": {},
     "output_type": "display_data"
    },
    {
     "data": {
      "text/html": [
       "<script id=\"myVizzu_2148412\">\n",
       "    document.inhibitScroll = false;\n",
       "</script>"
      ]
     },
     "metadata": {},
     "output_type": "display_data"
    },
    {
     "data": {
      "text/html": [
       "<script id=\"myVizzu_0a5a9f6\">\n",
       "    document.inhibitScroll = false;\n",
       "</script>"
      ]
     },
     "metadata": {},
     "output_type": "display_data"
    },
    {
     "data": {
      "text/html": [
       "<script id=\"myVizzu_071e176\">\n",
       "    document.inhibitScroll = false;\n",
       "</script>"
      ]
     },
     "metadata": {},
     "output_type": "display_data"
    },
    {
     "data": {
      "text/html": [
       "<script id=\"myVizzu_9afda20\">\n",
       "    document.inhibitScroll = false;\n",
       "</script>"
      ]
     },
     "metadata": {},
     "output_type": "display_data"
    },
    {
     "data": {
      "text/html": [
       "<script id=\"myVizzu_d8d4822\">\n",
       "    document.inhibitScroll = false;\n",
       "</script>"
      ]
     },
     "metadata": {},
     "output_type": "display_data"
    },
    {
     "data": {
      "text/html": [
       "<script id=\"myVizzu_e600f23\">\n",
       "    document.inhibitScroll = false;\n",
       "</script>"
      ]
     },
     "metadata": {},
     "output_type": "display_data"
    },
    {
     "data": {
      "text/html": [
       "<script id=\"myVizzu_676068f\">\n",
       "    document.inhibitScroll = false;\n",
       "</script>"
      ]
     },
     "metadata": {},
     "output_type": "display_data"
    },
    {
     "data": {
      "text/html": [
       "<script id=\"myVizzu_efc9ceb\">\n",
       "    document.inhibitScroll = false;\n",
       "</script>"
      ]
     },
     "metadata": {},
     "output_type": "display_data"
    },
    {
     "data": {
      "text/html": [
       "<script id=\"myVizzu_08a14dc\">\n",
       "    document.inhibitScroll = false;\n",
       "</script>"
      ]
     },
     "metadata": {},
     "output_type": "display_data"
    },
    {
     "data": {
      "text/html": [
       "<script id=\"myVizzu_d7878c3\">\n",
       "    document.inhibitScroll = false;\n",
       "</script>"
      ]
     },
     "metadata": {},
     "output_type": "display_data"
    },
    {
     "data": {
      "text/html": [
       "<script id=\"myVizzu_79066fa\">\n",
       "    document.inhibitScroll = false;\n",
       "</script>"
      ]
     },
     "metadata": {},
     "output_type": "display_data"
    },
    {
     "data": {
      "text/html": [
       "<script id=\"myVizzu_4867daf\">\n",
       "    document.inhibitScroll = false;\n",
       "</script>"
      ]
     },
     "metadata": {},
     "output_type": "display_data"
    },
    {
     "data": {
      "text/html": [
       "<script id=\"myVizzu_9042619\">\n",
       "    document.inhibitScroll = false;\n",
       "</script>"
      ]
     },
     "metadata": {},
     "output_type": "display_data"
    },
    {
     "data": {
      "text/html": [
       "<script id=\"myVizzu_d2e433c\">\n",
       "    document.inhibitScroll = false;\n",
       "</script>"
      ]
     },
     "metadata": {},
     "output_type": "display_data"
    },
    {
     "data": {
      "text/html": [
       "<script id=\"myVizzu_f94968d\">\n",
       "    document.inhibitScroll = false;\n",
       "</script>"
      ]
     },
     "metadata": {},
     "output_type": "display_data"
    },
    {
     "data": {
      "application/javascript": [
       "\n",
       "            setTimeout(function() {\n",
       "                var nbb_cell_id = 252;\n",
       "                var nbb_unformatted_code = \"date_data = Data()\\ndate_data.add_data_frame(group)\";\n",
       "                var nbb_formatted_code = \"date_data = Data()\\ndate_data.add_data_frame(group)\";\n",
       "                var nbb_cells = Jupyter.notebook.get_cells();\n",
       "                for (var i = 0; i < nbb_cells.length; ++i) {\n",
       "                    if (nbb_cells[i].input_prompt_number == nbb_cell_id) {\n",
       "                        if (nbb_cells[i].get_text() == nbb_unformatted_code) {\n",
       "                             nbb_cells[i].set_text(nbb_formatted_code);\n",
       "                        }\n",
       "                        break;\n",
       "                    }\n",
       "                }\n",
       "            }, 500);\n",
       "            "
      ],
      "text/plain": [
       "<IPython.core.display.Javascript object>"
      ]
     },
     "metadata": {},
     "output_type": "display_data"
    }
   ],
   "source": [
    "date_data = Data()\n",
    "date_data.add_data_frame(group)"
   ]
  },
  {
   "cell_type": "code",
   "execution_count": 253,
   "id": "7a65f5e1",
   "metadata": {
    "ExecuteTime": {
     "end_time": "2022-04-10T15:29:02.186036Z",
     "start_time": "2022-04-10T15:29:02.136315Z"
    }
   },
   "outputs": [
    {
     "data": {
      "text/html": [
       "<script id=\"myVizzu_ce70bfa\">\n",
       "    document.inhibitScroll = false;\n",
       "</script>"
      ]
     },
     "metadata": {},
     "output_type": "display_data"
    },
    {
     "data": {
      "text/html": [
       "<script id=\"myVizzu_19ca080\">\n",
       "    document.inhibitScroll = false;\n",
       "</script>"
      ]
     },
     "metadata": {},
     "output_type": "display_data"
    },
    {
     "data": {
      "text/html": [
       "<script id=\"myVizzu_44bf0de\">\n",
       "    document.inhibitScroll = false;\n",
       "</script>"
      ]
     },
     "metadata": {},
     "output_type": "display_data"
    },
    {
     "data": {
      "text/html": [
       "<script id=\"myVizzu_e2032bc\">\n",
       "    document.inhibitScroll = false;\n",
       "</script>"
      ]
     },
     "metadata": {},
     "output_type": "display_data"
    },
    {
     "data": {
      "text/html": [
       "<script id=\"myVizzu_69c9fc9\">\n",
       "    document.inhibitScroll = false;\n",
       "</script>"
      ]
     },
     "metadata": {},
     "output_type": "display_data"
    },
    {
     "data": {
      "text/html": [
       "<script id=\"myVizzu_d33f1c2\">\n",
       "    document.inhibitScroll = false;\n",
       "</script>"
      ]
     },
     "metadata": {},
     "output_type": "display_data"
    },
    {
     "data": {
      "text/html": [
       "<script id=\"myVizzu_3359ba8\">\n",
       "    document.inhibitScroll = false;\n",
       "</script>"
      ]
     },
     "metadata": {},
     "output_type": "display_data"
    },
    {
     "data": {
      "text/html": [
       "<script id=\"myVizzu_88b17f9\">\n",
       "    document.inhibitScroll = false;\n",
       "</script>"
      ]
     },
     "metadata": {},
     "output_type": "display_data"
    },
    {
     "data": {
      "text/html": [
       "<script id=\"myVizzu_90fb3dd\">\n",
       "    document.inhibitScroll = false;\n",
       "</script>"
      ]
     },
     "metadata": {},
     "output_type": "display_data"
    },
    {
     "data": {
      "text/html": [
       "<script id=\"myVizzu_b23f013\">\n",
       "    document.inhibitScroll = false;\n",
       "</script>"
      ]
     },
     "metadata": {},
     "output_type": "display_data"
    },
    {
     "data": {
      "text/html": [
       "<script id=\"myVizzu_73b3d7b\">\n",
       "    document.inhibitScroll = false;\n",
       "</script>"
      ]
     },
     "metadata": {},
     "output_type": "display_data"
    },
    {
     "data": {
      "text/html": [
       "<script id=\"myVizzu_cfea086\">\n",
       "    document.inhibitScroll = false;\n",
       "</script>"
      ]
     },
     "metadata": {},
     "output_type": "display_data"
    },
    {
     "data": {
      "text/html": [
       "<script id=\"myVizzu_2d6969f\">\n",
       "    document.inhibitScroll = false;\n",
       "</script>"
      ]
     },
     "metadata": {},
     "output_type": "display_data"
    },
    {
     "data": {
      "text/html": [
       "<script id=\"myVizzu_9bb2624\">\n",
       "    document.inhibitScroll = false;\n",
       "</script>"
      ]
     },
     "metadata": {},
     "output_type": "display_data"
    },
    {
     "data": {
      "text/html": [
       "<script id=\"myVizzu_add07fa\">\n",
       "    document.inhibitScroll = false;\n",
       "</script>"
      ]
     },
     "metadata": {},
     "output_type": "display_data"
    },
    {
     "data": {
      "text/html": [
       "<script id=\"myVizzu_b533ee9\">\n",
       "    document.inhibitScroll = false;\n",
       "</script>"
      ]
     },
     "metadata": {},
     "output_type": "display_data"
    },
    {
     "data": {
      "text/html": [
       "<script id=\"myVizzu_15fcb53\">\n",
       "    document.inhibitScroll = false;\n",
       "</script>"
      ]
     },
     "metadata": {},
     "output_type": "display_data"
    },
    {
     "data": {
      "text/html": [
       "<script id=\"myVizzu_108fd26\">\n",
       "    document.inhibitScroll = false;\n",
       "</script>"
      ]
     },
     "metadata": {},
     "output_type": "display_data"
    },
    {
     "data": {
      "text/html": [
       "<script id=\"myVizzu_3ba66d1\">\n",
       "    document.inhibitScroll = false;\n",
       "</script>"
      ]
     },
     "metadata": {},
     "output_type": "display_data"
    },
    {
     "data": {
      "text/html": [
       "<script id=\"myVizzu_1a936c1\">\n",
       "    document.inhibitScroll = false;\n",
       "</script>"
      ]
     },
     "metadata": {},
     "output_type": "display_data"
    },
    {
     "data": {
      "text/html": [
       "<script id=\"myVizzu_e75e24e\">\n",
       "    document.inhibitScroll = false;\n",
       "</script>"
      ]
     },
     "metadata": {},
     "output_type": "display_data"
    },
    {
     "data": {
      "text/html": [
       "<script id=\"myVizzu_4ca59cc\">\n",
       "    document.inhibitScroll = false;\n",
       "</script>"
      ]
     },
     "metadata": {},
     "output_type": "display_data"
    },
    {
     "data": {
      "text/html": [
       "<script id=\"myVizzu_f7f4ab6\">\n",
       "    document.inhibitScroll = false;\n",
       "</script>"
      ]
     },
     "metadata": {},
     "output_type": "display_data"
    },
    {
     "data": {
      "text/html": [
       "<script id=\"myVizzu_a5662dd\">\n",
       "    document.inhibitScroll = false;\n",
       "</script>"
      ]
     },
     "metadata": {},
     "output_type": "display_data"
    },
    {
     "data": {
      "text/html": [
       "<script id=\"myVizzu_a3d4f8d\">\n",
       "    document.inhibitScroll = false;\n",
       "</script>"
      ]
     },
     "metadata": {},
     "output_type": "display_data"
    },
    {
     "data": {
      "text/html": [
       "<script id=\"myVizzu_97b4a4f\">\n",
       "    document.inhibitScroll = false;\n",
       "</script>"
      ]
     },
     "metadata": {},
     "output_type": "display_data"
    },
    {
     "data": {
      "text/html": [
       "<script id=\"myVizzu_9f2d364\">\n",
       "    document.inhibitScroll = false;\n",
       "</script>"
      ]
     },
     "metadata": {},
     "output_type": "display_data"
    },
    {
     "data": {
      "text/html": [
       "<script id=\"myVizzu_ec8b4d9\">\n",
       "    document.inhibitScroll = false;\n",
       "</script>"
      ]
     },
     "metadata": {},
     "output_type": "display_data"
    },
    {
     "data": {
      "text/html": [
       "<script id=\"myVizzu_a56b1b8\">\n",
       "    document.inhibitScroll = false;\n",
       "</script>"
      ]
     },
     "metadata": {},
     "output_type": "display_data"
    },
    {
     "data": {
      "text/html": [
       "<script id=\"myVizzu_b8d6bdf\">\n",
       "    document.inhibitScroll = false;\n",
       "</script>"
      ]
     },
     "metadata": {},
     "output_type": "display_data"
    },
    {
     "data": {
      "text/html": [
       "<script id=\"myVizzu_474a69e\">\n",
       "    document.inhibitScroll = false;\n",
       "</script>"
      ]
     },
     "metadata": {},
     "output_type": "display_data"
    },
    {
     "data": {
      "text/html": [
       "<script id=\"myVizzu_a539899\">\n",
       "    document.inhibitScroll = false;\n",
       "</script>"
      ]
     },
     "metadata": {},
     "output_type": "display_data"
    },
    {
     "data": {
      "text/html": [
       "<script id=\"myVizzu_59bfdaf\">\n",
       "    document.inhibitScroll = false;\n",
       "</script>"
      ]
     },
     "metadata": {},
     "output_type": "display_data"
    },
    {
     "data": {
      "text/html": [
       "<script id=\"myVizzu_5aad815\">\n",
       "    document.inhibitScroll = false;\n",
       "</script>"
      ]
     },
     "metadata": {},
     "output_type": "display_data"
    },
    {
     "data": {
      "text/html": [
       "<script id=\"myVizzu_91ca92d\">\n",
       "    document.inhibitScroll = false;\n",
       "</script>"
      ]
     },
     "metadata": {},
     "output_type": "display_data"
    },
    {
     "data": {
      "text/html": [
       "<script id=\"myVizzu_957bd23\">\n",
       "    document.inhibitScroll = false;\n",
       "</script>"
      ]
     },
     "metadata": {},
     "output_type": "display_data"
    },
    {
     "data": {
      "text/html": [
       "<script id=\"myVizzu_9821eb5\">\n",
       "    document.inhibitScroll = false;\n",
       "</script>"
      ]
     },
     "metadata": {},
     "output_type": "display_data"
    },
    {
     "data": {
      "text/html": [
       "<script id=\"myVizzu_3393dc9\">\n",
       "    document.inhibitScroll = false;\n",
       "</script>"
      ]
     },
     "metadata": {},
     "output_type": "display_data"
    },
    {
     "data": {
      "text/html": [
       "<script id=\"myVizzu_cc4998e\">\n",
       "    document.inhibitScroll = false;\n",
       "</script>"
      ]
     },
     "metadata": {},
     "output_type": "display_data"
    },
    {
     "data": {
      "text/html": [
       "<script id=\"myVizzu_f08bcad\">\n",
       "    document.inhibitScroll = false;\n",
       "</script>"
      ]
     },
     "metadata": {},
     "output_type": "display_data"
    },
    {
     "data": {
      "text/html": [
       "<script id=\"myVizzu_99f75b3\">\n",
       "    document.inhibitScroll = false;\n",
       "</script>"
      ]
     },
     "metadata": {},
     "output_type": "display_data"
    },
    {
     "data": {
      "text/html": [
       "<script id=\"myVizzu_cdd1a4c\">\n",
       "    document.inhibitScroll = false;\n",
       "</script>"
      ]
     },
     "metadata": {},
     "output_type": "display_data"
    },
    {
     "data": {
      "text/html": [
       "<script id=\"myVizzu_24690e4\">\n",
       "    document.inhibitScroll = false;\n",
       "</script>"
      ]
     },
     "metadata": {},
     "output_type": "display_data"
    },
    {
     "data": {
      "text/html": [
       "<script id=\"myVizzu_c69d998\">\n",
       "    document.inhibitScroll = false;\n",
       "</script>"
      ]
     },
     "metadata": {},
     "output_type": "display_data"
    },
    {
     "data": {
      "text/html": [
       "<script id=\"myVizzu_b85459c\">\n",
       "    document.inhibitScroll = false;\n",
       "</script>"
      ]
     },
     "metadata": {},
     "output_type": "display_data"
    },
    {
     "data": {
      "text/html": [
       "<script id=\"myVizzu_1684a3e\">\n",
       "    document.inhibitScroll = false;\n",
       "</script>"
      ]
     },
     "metadata": {},
     "output_type": "display_data"
    },
    {
     "data": {
      "text/html": [
       "<script id=\"myVizzu_9865d30\">\n",
       "    document.inhibitScroll = false;\n",
       "</script>"
      ]
     },
     "metadata": {},
     "output_type": "display_data"
    },
    {
     "data": {
      "text/html": [
       "<script id=\"myVizzu_54e30f4\">\n",
       "    document.inhibitScroll = false;\n",
       "</script>"
      ]
     },
     "metadata": {},
     "output_type": "display_data"
    },
    {
     "data": {
      "text/html": [
       "<script id=\"myVizzu_b4e9eee\">\n",
       "    document.inhibitScroll = false;\n",
       "</script>"
      ]
     },
     "metadata": {},
     "output_type": "display_data"
    },
    {
     "data": {
      "text/html": [
       "<script id=\"myVizzu_f8d769e\">\n",
       "    document.inhibitScroll = false;\n",
       "</script>"
      ]
     },
     "metadata": {},
     "output_type": "display_data"
    },
    {
     "data": {
      "text/html": [
       "<script id=\"myVizzu_71ed9ad\">\n",
       "    document.inhibitScroll = false;\n",
       "</script>"
      ]
     },
     "metadata": {},
     "output_type": "display_data"
    },
    {
     "data": {
      "text/html": [
       "<script id=\"myVizzu_5603187\">\n",
       "    document.inhibitScroll = false;\n",
       "</script>"
      ]
     },
     "metadata": {},
     "output_type": "display_data"
    },
    {
     "data": {
      "text/html": [
       "<script id=\"myVizzu_14a3289\">\n",
       "    document.inhibitScroll = false;\n",
       "</script>"
      ]
     },
     "metadata": {},
     "output_type": "display_data"
    },
    {
     "data": {
      "text/html": [
       "<script id=\"myVizzu_7736fdb\">\n",
       "    document.inhibitScroll = false;\n",
       "</script>"
      ]
     },
     "metadata": {},
     "output_type": "display_data"
    },
    {
     "data": {
      "text/html": [
       "<script id=\"myVizzu_c31520b\">\n",
       "    document.inhibitScroll = false;\n",
       "</script>"
      ]
     },
     "metadata": {},
     "output_type": "display_data"
    },
    {
     "data": {
      "text/html": [
       "<script id=\"myVizzu_0f5f787\">\n",
       "    document.inhibitScroll = false;\n",
       "</script>"
      ]
     },
     "metadata": {},
     "output_type": "display_data"
    },
    {
     "data": {
      "text/html": [
       "<script id=\"myVizzu_31f129b\">\n",
       "    document.inhibitScroll = false;\n",
       "</script>"
      ]
     },
     "metadata": {},
     "output_type": "display_data"
    },
    {
     "data": {
      "text/html": [
       "<script id=\"myVizzu_9d63efa\">\n",
       "    document.inhibitScroll = false;\n",
       "</script>"
      ]
     },
     "metadata": {},
     "output_type": "display_data"
    },
    {
     "data": {
      "text/html": [
       "<script id=\"myVizzu_0e4e9dc\">\n",
       "    document.inhibitScroll = false;\n",
       "</script>"
      ]
     },
     "metadata": {},
     "output_type": "display_data"
    },
    {
     "data": {
      "text/html": [
       "<script id=\"myVizzu_f24208e\">\n",
       "    document.inhibitScroll = false;\n",
       "</script>"
      ]
     },
     "metadata": {},
     "output_type": "display_data"
    },
    {
     "data": {
      "text/html": [
       "<script id=\"myVizzu_bc1f15d\">\n",
       "    document.inhibitScroll = false;\n",
       "</script>"
      ]
     },
     "metadata": {},
     "output_type": "display_data"
    },
    {
     "data": {
      "text/html": [
       "<script id=\"myVizzu_11d17b0\">\n",
       "    document.inhibitScroll = false;\n",
       "</script>"
      ]
     },
     "metadata": {},
     "output_type": "display_data"
    },
    {
     "data": {
      "text/html": [
       "<script id=\"myVizzu_95a9e59\">\n",
       "    document.inhibitScroll = false;\n",
       "</script>"
      ]
     },
     "metadata": {},
     "output_type": "display_data"
    },
    {
     "data": {
      "text/html": [
       "<script id=\"myVizzu_a308c91\">\n",
       "    document.inhibitScroll = false;\n",
       "</script>"
      ]
     },
     "metadata": {},
     "output_type": "display_data"
    },
    {
     "data": {
      "text/html": [
       "<script id=\"myVizzu_89145a5\">\n",
       "    document.inhibitScroll = false;\n",
       "</script>"
      ]
     },
     "metadata": {},
     "output_type": "display_data"
    },
    {
     "data": {
      "text/html": [
       "<script id=\"myVizzu_5afdf7e\">\n",
       "    document.inhibitScroll = false;\n",
       "</script>"
      ]
     },
     "metadata": {},
     "output_type": "display_data"
    },
    {
     "data": {
      "text/html": [
       "<script id=\"myVizzu_5bf56e4\">\n",
       "    document.inhibitScroll = false;\n",
       "</script>"
      ]
     },
     "metadata": {},
     "output_type": "display_data"
    },
    {
     "data": {
      "text/html": [
       "<script id=\"myVizzu_ede933c\">\n",
       "    document.inhibitScroll = false;\n",
       "    document.addEventListener('wheel', function (evt) { document.inhibitScroll = true }, true);\n",
       "    document.addEventListener('keydown', function (evt) { document.inhibitScroll = true }, true);\n",
       "    document.addEventListener('touchstart', function (evt) { document.inhibitScroll = true }, true);\n",
       "    let myVizzu_2ae19a0 = document.createElement(\"div\");\n",
       "    myVizzu_2ae19a0.style.cssText = \"width: 800px; height: 480px;\";\n",
       "    let chart_2ae19a0 = import(\"https://cdn.jsdelivr.net/npm/vizzu@~0.4.0/dist/vizzu.min.js\").then(Vizzu => new Vizzu.default(myVizzu_2ae19a0).initializing);\n",
       "    myVizzu_ede933c.parentNode.insertBefore(myVizzu_2ae19a0, myVizzu_ede933c);\n",
       "</script>"
      ]
     },
     "metadata": {},
     "output_type": "display_data"
    },
    {
     "data": {
      "text/html": [
       "<script id=\"myVizzu_9063ac2\">\n",
       "    let display_9063ac2 = myVizzu_9063ac2.parentNode.parentNode.style.display;\n",
       "    myVizzu_9063ac2.parentNode.parentNode.style.display = \"none\";\n",
       "    chart_2ae19a0 = chart_2ae19a0.then(chart => {\n",
       "        if (myVizzu_2ae19a0.parentNode && myVizzu_2ae19a0.parentNode.parentNode) {\n",
       "            myVizzu_2ae19a0.parentNode.parentNode.style.display = \"none\";\n",
       "        }\n",
       "        myVizzu_9063ac2.parentNode.parentNode.style.display = display_9063ac2;\n",
       "        myVizzu_9063ac2.parentNode.insertBefore(myVizzu_2ae19a0, myVizzu_9063ac2);\n",
       "        if (!document.inhibitScroll && true) {\n",
       "            myVizzu_2ae19a0.scrollIntoView({behavior: \"auto\", block: \"center\"});\n",
       "        }\n",
       "        return chart.animate({\"data\": {\"series\": [{\"name\": \"Sex\", \"type\": \"dimension\", \"values\": [\"F\", \"F\", \"F\", \"F\", \"F\", \"F\", \"F\", \"F\", \"F\", \"F\", \"F\", \"F\", \"F\", \"F\", \"F\", \"F\", \"F\", \"F\", \"F\", \"F\", \"F\", \"F\", \"F\", \"I\", \"I\", \"I\", \"I\", \"I\", \"I\", \"I\", \"I\", \"I\", \"I\", \"I\", \"I\", \"I\", \"I\", \"I\", \"I\", \"I\", \"I\", \"I\", \"I\", \"I\", \"M\", \"M\", \"M\", \"M\", \"M\", \"M\", \"M\", \"M\", \"M\", \"M\", \"M\", \"M\", \"M\", \"M\", \"M\", \"M\", \"M\", \"M\", \"M\", \"M\", \"M\", \"M\", \"M\", \"M\"]}, {\"name\": \"Class_number_of_rings\", \"type\": \"dimension\", \"values\": [\"10\", \"11\", \"12\", \"13\", \"14\", \"15\", \"16\", \"17\", \"18\", \"19\", \"20\", \"21\", \"22\", \"23\", \"24\", \"25\", \"27\", \"29\", \"5\", \"6\", \"7\", \"8\", \"9\", \"1\", \"10\", \"11\", \"12\", \"13\", \"14\", \"15\", \"16\", \"17\", \"18\", \"19\", \"2\", \"20\", \"21\", \"3\", \"4\", \"5\", \"6\", \"7\", \"8\", \"9\", \"10\", \"11\", \"12\", \"13\", \"14\", \"15\", \"16\", \"17\", \"18\", \"19\", \"20\", \"21\", \"22\", \"23\", \"24\", \"26\", \"27\", \"3\", \"4\", \"5\", \"6\", \"7\", \"8\", \"9\"]}, {\"name\": \"Length\", \"type\": \"measure\", \"values\": [0.5822782258064516, 0.6137, 0.594921875, 0.5814772727272728, 0.5960714285714286, 0.5808536585365854, 0.5928333333333333, 0.5951923076923077, 0.6094736842105263, 0.611, 0.6116666666666667, 0.6171428571428572, 0.5816666666666667, 0.5883333333333334, 0.7, 0.645, 0.55, 0.7, 0.32375, 0.4628125, 0.4678409090909091, 0.5380327868852459, 0.5746008403361345, 0.075, 0.5305978260869565, 0.5303225806451614, 0.520952380952381, 0.51625, 0.5246428571428571, 0.5405, 0.5371428571428571, 0.5871428571428572, 0.5469999999999999, 0.485, 0.15, 0.5549999999999999, 0.53, 0.17458333333333334, 0.22127450980392158, 0.2873, 0.3605555555555555, 0.4064044943820225, 0.4648722627737226, 0.5025722543352602, 0.5819557823129252, 0.6056666666666667, 0.5957203389830509, 0.5929120879120879, 0.5782142857142858, 0.5784615384615385, 0.594, 0.611, 0.5955555555555556, 0.5950000000000001, 0.60375, 0.6341666666666667, 0.6083333333333334, 0.585, 0.69, 0.6, 0.665, 0.18166666666666664, 0.22333333333333336, 0.25772727272727275, 0.3844444444444445, 0.449, 0.5249418604651163, 0.5506834532374101]}, {\"name\": \"Diameter\", \"type\": \"measure\", \"values\": [0.4565120967741936, 0.48265, 0.4678125, 0.4606818181818182, 0.47526785714285713, 0.461219512195122, 0.4765, 0.47115384615384615, 0.4823684210526316, 0.48833333333333334, 0.48875, 0.47285714285714286, 0.4566666666666667, 0.4666666666666666, 0.54, 0.49, 0.465, 0.585, 0.24125000000000002, 0.3490625, 0.3638636363636364, 0.41823770491803275, 0.4478991596638655, 0.055, 0.41157608695652176, 0.41088709677419355, 0.4002380952380952, 0.40395833333333336, 0.40392857142857147, 0.42800000000000005, 0.415, 0.4628571428571429, 0.43499999999999994, 0.3725, 0.1, 0.4325, 0.415, 0.12875, 0.16166666666666665, 0.21155000000000002, 0.2722685185185185, 0.3076591760299625, 0.35565693430656936, 0.38687861271676305, 0.455, 0.47633333333333333, 0.46766949152542375, 0.46620879120879116, 0.45491071428571433, 0.45778846153846153, 0.4728333333333333, 0.4832, 0.4697222222222222, 0.4663333333333333, 0.4841666666666667, 0.5116666666666667, 0.48833333333333334, 0.4583333333333333, 0.54, 0.495, 0.535, 0.12833333333333333, 0.16083333333333333, 0.1918181818181818, 0.29, 0.3445625, 0.40750000000000003, 0.4296582733812949]}, {\"name\": \"Height\", \"type\": \"measure\", \"values\": [0.15685483870967742, 0.16605, 0.1632421875, 0.1613068181818182, 0.17124999999999999, 0.16414634146341464, 0.16966666666666666, 0.17076923076923078, 0.17500000000000002, 0.174, 0.1758333333333333, 0.16714285714285712, 0.18833333333333332, 0.17833333333333334, 0.215, 0.215, 0.18, 0.185, 0.08, 0.116875, 0.12306818181818181, 0.14827868852459017, 0.15180672268907563, 0.01, 0.1361413043478261, 0.13862903225806453, 0.14261904761904762, 0.140625, 0.1464285714285714, 0.1485, 0.16428571428571428, 0.16714285714285712, 0.16299999999999998, 0.13, 0.025, 0.1775, 0.145, 0.04041666666666666, 0.05352941176470588, 0.06975, 0.08877314814814816, 0.1002434456928839, 0.11604014598540147, 0.12745664739884394, 0.1573809523809524, 0.16322222222222224, 0.1625, 0.16582417582417583, 0.16017857142857145, 0.16163461538461538, 0.17583333333333334, 0.17920000000000003, 0.17027777777777778, 0.17200000000000001, 0.17125, 0.18000000000000002, 0.19000000000000003, 0.16166666666666665, 0.185, 0.195, 0.225, 0.04666666666666667, 0.057499999999999996, 0.06772727272727273, 0.10092592592592593, 0.1154375, 0.13450581395348837, 0.14444244604316547]}, {\"name\": \"Whole_weight\", \"type\": \"measure\", \"values\": [1.0557056451612903, 1.2165125, 1.1142421875, 1.0742954545454546, 1.1477767857142855, 1.0514878048780487, 1.18495, 1.1745576923076924, 1.2280526315789473, 1.2384, 1.3149166666666667, 1.2663571428571427, 1.0958333333333334, 1.2188333333333332, 1.978, 1.406, 1.2125, 1.8075, 0.16225, 0.55959375, 0.5927272727272727, 0.8122786885245902, 0.9820504201680673, 0.002, 0.7212608695652173, 0.7319274193548387, 0.7247857142857144, 0.7233541666666667, 0.7208571428571429, 0.8394999999999999, 0.8637142857142857, 1.088142857142857, 0.9934, 0.57225, 0.015, 0.965, 0.944, 0.029083333333333333, 0.05984313725490196, 0.12693, 0.24476157407407406, 0.32976591760299623, 0.4853485401459854, 0.5978265895953757, 1.0590986394557824, 1.1899733333333335, 1.1578983050847458, 1.1694340659340658, 1.1019910714285714, 1.0713846153846154, 1.14475, 1.3374199999999998, 1.2145555555555556, 1.1744666666666668, 1.236375, 1.2833333333333334, 1.3466666666666667, 1.0735, 1.6195, 1.0575, 2.1835, 0.025666666666666667, 0.05758333333333334, 0.09913636363636363, 0.3307407407407407, 0.51563125, 0.7666511627906977, 0.8988669064748201]}, {\"name\": \"Shucked_weight\", \"type\": \"measure\", \"values\": [0.46541733870967744, 0.532845, 0.4713828125, 0.4213409090909091, 0.4457857142857143, 0.40623170731707314, 0.4399166666666667, 0.4306153846153846, 0.46221052631578946, 0.47106666666666663, 0.49662500000000004, 0.43971428571428567, 0.3146666666666667, 0.41416666666666674, 0.6675, 0.4265, 0.3245, 0.7055, 0.06775, 0.261625, 0.26901136363636363, 0.3703155737704918, 0.44469117647058826, 0.001, 0.31537499999999996, 0.31463709677419355, 0.30626190476190474, 0.2919583333333333, 0.29025, 0.32799999999999996, 0.34235714285714286, 0.42750000000000005, 0.37770000000000004, 0.178, 0.0045, 0.34625, 0.3845, 0.012166666666666666, 0.02488235294117647, 0.063815, 0.11025694444444445, 0.15065355805243447, 0.22038503649635036, 0.2666300578034682, 0.4731207482993197, 0.5304911111111111, 0.5039322033898305, 0.4851263736263737, 0.4428303571428572, 0.41382692307692304, 0.4220333333333333, 0.51602, 0.44980555555555557, 0.4452, 0.43825000000000003, 0.467, 0.49533333333333335, 0.36999999999999994, 0.533, 0.384, 0.7535, 0.010166666666666666, 0.023333333333333334, 0.04022727272727273, 0.1443148148148148, 0.241975, 0.35638953488372094, 0.414839928057554]}, {\"name\": \"Viscera_weight\", \"type\": \"measure\", \"values\": [0.233820564516129, 0.2723525, 0.24844140625, 0.23357954545454546, 0.25270535714285713, 0.2330121951219512, 0.24978333333333333, 0.24982692307692306, 0.2535263157894737, 0.26653333333333334, 0.26458333333333334, 0.25585714285714284, 0.18633333333333332, 0.2734166666666667, 0.3125, 0.2285, 0.205, 0.3215, 0.03425, 0.12446875, 0.12807954545454547, 0.17988934426229508, 0.2195126050420168, 0.0005, 0.15525, 0.15406451612903224, 0.15538095238095237, 0.1620625, 0.15689285714285714, 0.1908, 0.183, 0.21207142857142855, 0.2012, 0.10525, 0.004, 0.18625, 0.185, 0.006416666666666667, 0.013000000000000001, 0.02778, 0.0519537037037037, 0.0709438202247191, 0.10295802919708029, 0.1268728323699422, 0.2353486394557823, 0.2617466666666667, 0.2449406779661017, 0.25654945054945055, 0.2374017857142857, 0.23028846153846153, 0.243, 0.26366, 0.24294444444444446, 0.25033333333333335, 0.24850000000000003, 0.24608333333333335, 0.248, 0.21766666666666667, 0.353, 0.19, 0.391, 0.005666666666666667, 0.012583333333333334, 0.02072727272727273, 0.07053703703703704, 0.1126125, 0.16576744186046513, 0.19857194244604318]}, {\"name\": \"Shell_weight\", \"type\": \"measure\", \"values\": [0.29646975806451614, 0.3396225, 0.3234921875, 0.3279659090909091, 0.3474196428571429, 0.3212317073170732, 0.3947333333333333, 0.37626923076923074, 0.4042368421052631, 0.385, 0.46858333333333335, 0.4564285714285714, 0.355, 0.36916666666666664, 0.71, 0.51, 0.525, 0.475, 0.0475, 0.13390625, 0.16642045454545454, 0.22200409836065574, 0.26994117647058824, 0.0015, 0.2162663043478261, 0.21912096774193549, 0.21526190476190477, 0.2246875, 0.23367857142857143, 0.25655, 0.28678571428571425, 0.33199999999999996, 0.30179999999999996, 0.21000000000000002, 0.005, 0.26, 0.265, 0.009083333333333334, 0.018058823529411766, 0.037035, 0.07197222222222222, 0.0950505617977528, 0.14278832116788323, 0.17892774566473987, 0.29246768707482995, 0.33006444444444444, 0.33747033898305084, 0.33928021978021977, 0.3365714285714286, 0.33449999999999996, 0.38223333333333337, 0.42844, 0.3919166666666667, 0.36633333333333334, 0.41083333333333333, 0.46083333333333326, 0.425, 0.37333333333333335, 0.555, 0.375, 0.885, 0.008333333333333333, 0.017499999999999998, 0.030454545454545456, 0.09681481481481481, 0.13691875, 0.20489244186046512, 0.24372122302158272]}]}});\n",
       "    });\n",
       "</script>"
      ]
     },
     "metadata": {},
     "output_type": "display_data"
    },
    {
     "data": {
      "text/html": [
       "<script id=\"myVizzu_8746994\">\n",
       "    let display_8746994 = myVizzu_8746994.parentNode.parentNode.style.display;\n",
       "    myVizzu_8746994.parentNode.parentNode.style.display = \"none\";\n",
       "    chart_2ae19a0 = chart_2ae19a0.then(chart => {\n",
       "        if (myVizzu_2ae19a0.parentNode && myVizzu_2ae19a0.parentNode.parentNode) {\n",
       "            myVizzu_2ae19a0.parentNode.parentNode.style.display = \"none\";\n",
       "        }\n",
       "        myVizzu_8746994.parentNode.parentNode.style.display = display_8746994;\n",
       "        myVizzu_8746994.parentNode.insertBefore(myVizzu_2ae19a0, myVizzu_8746994);\n",
       "        if (!document.inhibitScroll && true) {\n",
       "            myVizzu_2ae19a0.scrollIntoView({behavior: \"auto\", block: \"center\"});\n",
       "        }\n",
       "        return chart.animate({\"config\": {\"channels\": {\"x\": [\"Class_number_of_rings\", \"Diameter\"], \"y\": \"Whole_weight\", \"size\": \"Whole_weight\", \"color\": \"Sex\", \"label\": \"Class_number_of_rings\"}, \"title\": \"Abalone\", \"geometry\": \"circle\"}});\n",
       "    });\n",
       "</script>"
      ]
     },
     "metadata": {},
     "output_type": "display_data"
    },
    {
     "data": {
      "text/html": [
       "<script id=\"myVizzu_e4375ad\">\n",
       "    let display_e4375ad = myVizzu_e4375ad.parentNode.parentNode.style.display;\n",
       "    myVizzu_e4375ad.parentNode.parentNode.style.display = \"none\";\n",
       "    chart_2ae19a0 = chart_2ae19a0.then(chart => {\n",
       "        if (myVizzu_2ae19a0.parentNode && myVizzu_2ae19a0.parentNode.parentNode) {\n",
       "            myVizzu_2ae19a0.parentNode.parentNode.style.display = \"none\";\n",
       "        }\n",
       "        myVizzu_e4375ad.parentNode.parentNode.style.display = display_e4375ad;\n",
       "        myVizzu_e4375ad.parentNode.insertBefore(myVizzu_2ae19a0, myVizzu_e4375ad);\n",
       "        if (!document.inhibitScroll && true) {\n",
       "            myVizzu_2ae19a0.scrollIntoView({behavior: \"auto\", block: \"center\"});\n",
       "        }\n",
       "        return chart.animate({\"config\": {\"channels\": {\"x\": \"Sex\", \"y\": \"Whole_weight\", \"label\": \"Whole_weight\"}, \"geometry\": \"rectangle\"}});\n",
       "    });\n",
       "</script>"
      ]
     },
     "metadata": {},
     "output_type": "display_data"
    },
    {
     "data": {
      "text/html": [
       "<script id=\"myVizzu_1fa6434\">\n",
       "    myVizzu_1fa6434.parentNode.parentNode.style.display = \"none\";\n",
       "    chart_2ae19a0 = chart_2ae19a0.then(chart => {\n",
       "        chart.feature(\"tooltip\", true);\n",
       "        return chart;\n",
       "    });\n",
       "</script>"
      ]
     },
     "metadata": {},
     "output_type": "display_data"
    },
    {
     "data": {
      "application/javascript": [
       "\n",
       "            setTimeout(function() {\n",
       "                var nbb_cell_id = 253;\n",
       "                var nbb_unformatted_code = \"chart = Chart()\\nchart.animate(abalone_data)\\n\\nchart.animate(\\n    Config(\\n        {\\n            \\\"channels\\\": {\\n                \\\"x\\\": [\\\"Class_number_of_rings\\\", \\\"Diameter\\\"],\\n                \\\"y\\\": \\\"Whole_weight\\\",\\n                \\\"size\\\": \\\"Whole_weight\\\",\\n                \\\"color\\\": \\\"Sex\\\",\\n                \\\"label\\\": \\\"Class_number_of_rings\\\",\\n            },\\n            \\\"title\\\": \\\"Abalone\\\",\\n            \\\"geometry\\\": \\\"circle\\\",\\n        }\\n    ),\\n)\\n\\nchart.animate(\\n    Config(\\n        {\\n            \\\"channels\\\": {\\n                \\\"x\\\": \\\"Sex\\\",\\n                \\\"y\\\": \\\"Whole_weight\\\",\\n                \\\"label\\\": \\\"Whole_weight\\\",\\n            },\\n            \\\"geometry\\\": \\\"rectangle\\\",\\n        }\\n    ),\\n)\\n\\n\\nchart.feature(\\\"tooltip\\\", True)\";\n",
       "                var nbb_formatted_code = \"chart = Chart()\\nchart.animate(abalone_data)\\n\\nchart.animate(\\n    Config(\\n        {\\n            \\\"channels\\\": {\\n                \\\"x\\\": [\\\"Class_number_of_rings\\\", \\\"Diameter\\\"],\\n                \\\"y\\\": \\\"Whole_weight\\\",\\n                \\\"size\\\": \\\"Whole_weight\\\",\\n                \\\"color\\\": \\\"Sex\\\",\\n                \\\"label\\\": \\\"Class_number_of_rings\\\",\\n            },\\n            \\\"title\\\": \\\"Abalone\\\",\\n            \\\"geometry\\\": \\\"circle\\\",\\n        }\\n    ),\\n)\\n\\nchart.animate(\\n    Config(\\n        {\\n            \\\"channels\\\": {\\n                \\\"x\\\": \\\"Sex\\\",\\n                \\\"y\\\": \\\"Whole_weight\\\",\\n                \\\"label\\\": \\\"Whole_weight\\\",\\n            },\\n            \\\"geometry\\\": \\\"rectangle\\\",\\n        }\\n    ),\\n)\\n\\n\\nchart.feature(\\\"tooltip\\\", True)\";\n",
       "                var nbb_cells = Jupyter.notebook.get_cells();\n",
       "                for (var i = 0; i < nbb_cells.length; ++i) {\n",
       "                    if (nbb_cells[i].input_prompt_number == nbb_cell_id) {\n",
       "                        if (nbb_cells[i].get_text() == nbb_unformatted_code) {\n",
       "                             nbb_cells[i].set_text(nbb_formatted_code);\n",
       "                        }\n",
       "                        break;\n",
       "                    }\n",
       "                }\n",
       "            }, 500);\n",
       "            "
      ],
      "text/plain": [
       "<IPython.core.display.Javascript object>"
      ]
     },
     "metadata": {},
     "output_type": "display_data"
    }
   ],
   "source": [
    "chart = Chart()\n",
    "chart.animate(abalone_data)\n",
    "\n",
    "chart.animate(\n",
    "    Config(\n",
    "        {\n",
    "            \"channels\": {\n",
    "                \"x\": [\"Class_number_of_rings\", \"Diameter\"],\n",
    "                \"y\": \"Whole_weight\",\n",
    "                \"size\": \"Whole_weight\",\n",
    "                \"color\": \"Sex\",\n",
    "                \"label\": \"Class_number_of_rings\",\n",
    "            },\n",
    "            \"title\": \"Abalone\",\n",
    "            \"geometry\": \"circle\",\n",
    "        }\n",
    "    ),\n",
    ")\n",
    "\n",
    "chart.animate(\n",
    "    Config(\n",
    "        {\n",
    "            \"channels\": {\n",
    "                \"x\": \"Sex\",\n",
    "                \"y\": \"Whole_weight\",\n",
    "                \"label\": \"Whole_weight\",\n",
    "            },\n",
    "            \"geometry\": \"rectangle\",\n",
    "        }\n",
    "    ),\n",
    ")\n",
    "\n",
    "\n",
    "chart.feature(\"tooltip\", True)"
   ]
  },
  {
   "cell_type": "code",
   "execution_count": 231,
   "id": "6b62e8a9",
   "metadata": {
    "ExecuteTime": {
     "end_time": "2022-04-10T15:22:47.506309Z",
     "start_time": "2022-04-10T15:22:47.413149Z"
    }
   },
   "outputs": [
    {
     "data": {
      "text/html": [
       "<script id=\"myVizzu_62bf63d\">\n",
       "    document.inhibitScroll = false;\n",
       "</script>"
      ]
     },
     "metadata": {},
     "output_type": "display_data"
    },
    {
     "data": {
      "text/html": [
       "<script id=\"myVizzu_ea28954\">\n",
       "    document.inhibitScroll = false;\n",
       "</script>"
      ]
     },
     "metadata": {},
     "output_type": "display_data"
    },
    {
     "data": {
      "text/html": [
       "<script id=\"myVizzu_b3b6b41\">\n",
       "    document.inhibitScroll = false;\n",
       "</script>"
      ]
     },
     "metadata": {},
     "output_type": "display_data"
    },
    {
     "data": {
      "text/html": [
       "<script id=\"myVizzu_4999a29\">\n",
       "    document.inhibitScroll = false;\n",
       "</script>"
      ]
     },
     "metadata": {},
     "output_type": "display_data"
    },
    {
     "data": {
      "text/html": [
       "<script id=\"myVizzu_436637c\">\n",
       "    document.inhibitScroll = false;\n",
       "</script>"
      ]
     },
     "metadata": {},
     "output_type": "display_data"
    },
    {
     "data": {
      "text/html": [
       "<script id=\"myVizzu_1946630\">\n",
       "    document.inhibitScroll = false;\n",
       "</script>"
      ]
     },
     "metadata": {},
     "output_type": "display_data"
    },
    {
     "data": {
      "text/html": [
       "<script id=\"myVizzu_a8f8aba\">\n",
       "    document.inhibitScroll = false;\n",
       "</script>"
      ]
     },
     "metadata": {},
     "output_type": "display_data"
    },
    {
     "data": {
      "text/html": [
       "<script id=\"myVizzu_7579921\">\n",
       "    document.inhibitScroll = false;\n",
       "</script>"
      ]
     },
     "metadata": {},
     "output_type": "display_data"
    },
    {
     "data": {
      "text/html": [
       "<script id=\"myVizzu_0234ea2\">\n",
       "    document.inhibitScroll = false;\n",
       "</script>"
      ]
     },
     "metadata": {},
     "output_type": "display_data"
    },
    {
     "data": {
      "text/html": [
       "<script id=\"myVizzu_c76c036\">\n",
       "    document.inhibitScroll = false;\n",
       "</script>"
      ]
     },
     "metadata": {},
     "output_type": "display_data"
    },
    {
     "data": {
      "text/html": [
       "<script id=\"myVizzu_63195c1\">\n",
       "    document.inhibitScroll = false;\n",
       "</script>"
      ]
     },
     "metadata": {},
     "output_type": "display_data"
    },
    {
     "data": {
      "text/html": [
       "<script id=\"myVizzu_d8f9033\">\n",
       "    document.inhibitScroll = false;\n",
       "</script>"
      ]
     },
     "metadata": {},
     "output_type": "display_data"
    },
    {
     "data": {
      "text/html": [
       "<script id=\"myVizzu_1bc1975\">\n",
       "    document.inhibitScroll = false;\n",
       "</script>"
      ]
     },
     "metadata": {},
     "output_type": "display_data"
    },
    {
     "data": {
      "text/html": [
       "<script id=\"myVizzu_7859ff6\">\n",
       "    document.inhibitScroll = false;\n",
       "</script>"
      ]
     },
     "metadata": {},
     "output_type": "display_data"
    },
    {
     "data": {
      "text/html": [
       "<script id=\"myVizzu_20b4755\">\n",
       "    document.inhibitScroll = false;\n",
       "</script>"
      ]
     },
     "metadata": {},
     "output_type": "display_data"
    },
    {
     "data": {
      "text/html": [
       "<script id=\"myVizzu_e9e087a\">\n",
       "    document.inhibitScroll = false;\n",
       "</script>"
      ]
     },
     "metadata": {},
     "output_type": "display_data"
    },
    {
     "data": {
      "text/html": [
       "<script id=\"myVizzu_7589d13\">\n",
       "    document.inhibitScroll = false;\n",
       "</script>"
      ]
     },
     "metadata": {},
     "output_type": "display_data"
    },
    {
     "data": {
      "text/html": [
       "<script id=\"myVizzu_2d278aa\">\n",
       "    document.inhibitScroll = false;\n",
       "</script>"
      ]
     },
     "metadata": {},
     "output_type": "display_data"
    },
    {
     "data": {
      "text/html": [
       "<script id=\"myVizzu_2c4f598\">\n",
       "    document.inhibitScroll = false;\n",
       "</script>"
      ]
     },
     "metadata": {},
     "output_type": "display_data"
    },
    {
     "data": {
      "text/html": [
       "<script id=\"myVizzu_3f0fbac\">\n",
       "    document.inhibitScroll = false;\n",
       "</script>"
      ]
     },
     "metadata": {},
     "output_type": "display_data"
    },
    {
     "data": {
      "text/html": [
       "<script id=\"myVizzu_dbdfb50\">\n",
       "    document.inhibitScroll = false;\n",
       "</script>"
      ]
     },
     "metadata": {},
     "output_type": "display_data"
    },
    {
     "data": {
      "text/html": [
       "<script id=\"myVizzu_155e472\">\n",
       "    document.inhibitScroll = false;\n",
       "</script>"
      ]
     },
     "metadata": {},
     "output_type": "display_data"
    },
    {
     "data": {
      "text/html": [
       "<script id=\"myVizzu_f0913d1\">\n",
       "    document.inhibitScroll = false;\n",
       "</script>"
      ]
     },
     "metadata": {},
     "output_type": "display_data"
    },
    {
     "data": {
      "text/html": [
       "<script id=\"myVizzu_45272a4\">\n",
       "    document.inhibitScroll = false;\n",
       "</script>"
      ]
     },
     "metadata": {},
     "output_type": "display_data"
    },
    {
     "data": {
      "text/html": [
       "<script id=\"myVizzu_30265fd\">\n",
       "    document.inhibitScroll = false;\n",
       "</script>"
      ]
     },
     "metadata": {},
     "output_type": "display_data"
    },
    {
     "data": {
      "text/html": [
       "<script id=\"myVizzu_96d2dcc\">\n",
       "    document.inhibitScroll = false;\n",
       "</script>"
      ]
     },
     "metadata": {},
     "output_type": "display_data"
    },
    {
     "data": {
      "text/html": [
       "<script id=\"myVizzu_7ea503f\">\n",
       "    document.inhibitScroll = false;\n",
       "</script>"
      ]
     },
     "metadata": {},
     "output_type": "display_data"
    },
    {
     "data": {
      "text/html": [
       "<script id=\"myVizzu_35fecd2\">\n",
       "    document.inhibitScroll = false;\n",
       "</script>"
      ]
     },
     "metadata": {},
     "output_type": "display_data"
    },
    {
     "data": {
      "text/html": [
       "<script id=\"myVizzu_98d0a59\">\n",
       "    document.inhibitScroll = false;\n",
       "</script>"
      ]
     },
     "metadata": {},
     "output_type": "display_data"
    },
    {
     "data": {
      "text/html": [
       "<script id=\"myVizzu_7664d15\">\n",
       "    document.inhibitScroll = false;\n",
       "</script>"
      ]
     },
     "metadata": {},
     "output_type": "display_data"
    },
    {
     "data": {
      "text/html": [
       "<script id=\"myVizzu_4af3b15\">\n",
       "    document.inhibitScroll = false;\n",
       "</script>"
      ]
     },
     "metadata": {},
     "output_type": "display_data"
    },
    {
     "data": {
      "text/html": [
       "<script id=\"myVizzu_1ddb492\">\n",
       "    document.inhibitScroll = false;\n",
       "</script>"
      ]
     },
     "metadata": {},
     "output_type": "display_data"
    },
    {
     "data": {
      "text/html": [
       "<script id=\"myVizzu_7f5318f\">\n",
       "    document.inhibitScroll = false;\n",
       "</script>"
      ]
     },
     "metadata": {},
     "output_type": "display_data"
    },
    {
     "data": {
      "text/html": [
       "<script id=\"myVizzu_2a95e63\">\n",
       "    document.inhibitScroll = false;\n",
       "</script>"
      ]
     },
     "metadata": {},
     "output_type": "display_data"
    },
    {
     "data": {
      "text/html": [
       "<script id=\"myVizzu_360f81e\">\n",
       "    document.inhibitScroll = false;\n",
       "</script>"
      ]
     },
     "metadata": {},
     "output_type": "display_data"
    },
    {
     "data": {
      "text/html": [
       "<script id=\"myVizzu_28a0a4d\">\n",
       "    document.inhibitScroll = false;\n",
       "</script>"
      ]
     },
     "metadata": {},
     "output_type": "display_data"
    },
    {
     "data": {
      "text/html": [
       "<script id=\"myVizzu_178d675\">\n",
       "    document.inhibitScroll = false;\n",
       "</script>"
      ]
     },
     "metadata": {},
     "output_type": "display_data"
    },
    {
     "data": {
      "text/html": [
       "<script id=\"myVizzu_2ae76de\">\n",
       "    document.inhibitScroll = false;\n",
       "</script>"
      ]
     },
     "metadata": {},
     "output_type": "display_data"
    },
    {
     "data": {
      "text/html": [
       "<script id=\"myVizzu_54c60a3\">\n",
       "    document.inhibitScroll = false;\n",
       "</script>"
      ]
     },
     "metadata": {},
     "output_type": "display_data"
    },
    {
     "data": {
      "text/html": [
       "<script id=\"myVizzu_bf8e202\">\n",
       "    document.inhibitScroll = false;\n",
       "</script>"
      ]
     },
     "metadata": {},
     "output_type": "display_data"
    },
    {
     "data": {
      "text/html": [
       "<script id=\"myVizzu_33844aa\">\n",
       "    document.inhibitScroll = false;\n",
       "</script>"
      ]
     },
     "metadata": {},
     "output_type": "display_data"
    },
    {
     "data": {
      "text/html": [
       "<script id=\"myVizzu_39fe5af\">\n",
       "    document.inhibitScroll = false;\n",
       "</script>"
      ]
     },
     "metadata": {},
     "output_type": "display_data"
    },
    {
     "data": {
      "text/html": [
       "<script id=\"myVizzu_06e6a6c\">\n",
       "    document.inhibitScroll = false;\n",
       "</script>"
      ]
     },
     "metadata": {},
     "output_type": "display_data"
    },
    {
     "data": {
      "text/html": [
       "<script id=\"myVizzu_28ee385\">\n",
       "    document.inhibitScroll = false;\n",
       "</script>"
      ]
     },
     "metadata": {},
     "output_type": "display_data"
    },
    {
     "data": {
      "text/html": [
       "<script id=\"myVizzu_0a7ac79\">\n",
       "    document.inhibitScroll = false;\n",
       "</script>"
      ]
     },
     "metadata": {},
     "output_type": "display_data"
    },
    {
     "data": {
      "text/html": [
       "<script id=\"myVizzu_44f7659\">\n",
       "    document.inhibitScroll = false;\n",
       "</script>"
      ]
     },
     "metadata": {},
     "output_type": "display_data"
    },
    {
     "data": {
      "text/html": [
       "<script id=\"myVizzu_0906d57\">\n",
       "    document.inhibitScroll = false;\n",
       "</script>"
      ]
     },
     "metadata": {},
     "output_type": "display_data"
    },
    {
     "data": {
      "text/html": [
       "<script id=\"myVizzu_b7c76df\">\n",
       "    document.inhibitScroll = false;\n",
       "</script>"
      ]
     },
     "metadata": {},
     "output_type": "display_data"
    },
    {
     "data": {
      "text/html": [
       "<script id=\"myVizzu_af23ced\">\n",
       "    document.inhibitScroll = false;\n",
       "</script>"
      ]
     },
     "metadata": {},
     "output_type": "display_data"
    },
    {
     "data": {
      "text/html": [
       "<script id=\"myVizzu_87a5ec4\">\n",
       "    document.inhibitScroll = false;\n",
       "</script>"
      ]
     },
     "metadata": {},
     "output_type": "display_data"
    },
    {
     "data": {
      "text/html": [
       "<script id=\"myVizzu_3f5c213\">\n",
       "    document.inhibitScroll = false;\n",
       "</script>"
      ]
     },
     "metadata": {},
     "output_type": "display_data"
    },
    {
     "data": {
      "text/html": [
       "<script id=\"myVizzu_156f798\">\n",
       "    document.inhibitScroll = false;\n",
       "</script>"
      ]
     },
     "metadata": {},
     "output_type": "display_data"
    },
    {
     "data": {
      "text/html": [
       "<script id=\"myVizzu_e2a2067\">\n",
       "    document.inhibitScroll = false;\n",
       "</script>"
      ]
     },
     "metadata": {},
     "output_type": "display_data"
    },
    {
     "data": {
      "text/html": [
       "<script id=\"myVizzu_2977d2d\">\n",
       "    document.inhibitScroll = false;\n",
       "</script>"
      ]
     },
     "metadata": {},
     "output_type": "display_data"
    },
    {
     "data": {
      "text/html": [
       "<script id=\"myVizzu_1b169da\">\n",
       "    document.inhibitScroll = false;\n",
       "</script>"
      ]
     },
     "metadata": {},
     "output_type": "display_data"
    },
    {
     "data": {
      "text/html": [
       "<script id=\"myVizzu_031fac9\">\n",
       "    document.inhibitScroll = false;\n",
       "</script>"
      ]
     },
     "metadata": {},
     "output_type": "display_data"
    },
    {
     "data": {
      "text/html": [
       "<script id=\"myVizzu_cdfddef\">\n",
       "    document.inhibitScroll = false;\n",
       "</script>"
      ]
     },
     "metadata": {},
     "output_type": "display_data"
    },
    {
     "data": {
      "text/html": [
       "<script id=\"myVizzu_2114b3a\">\n",
       "    document.inhibitScroll = false;\n",
       "</script>"
      ]
     },
     "metadata": {},
     "output_type": "display_data"
    },
    {
     "data": {
      "text/html": [
       "<script id=\"myVizzu_cdf877a\">\n",
       "    document.inhibitScroll = false;\n",
       "</script>"
      ]
     },
     "metadata": {},
     "output_type": "display_data"
    },
    {
     "data": {
      "text/html": [
       "<script id=\"myVizzu_36c562c\">\n",
       "    document.inhibitScroll = false;\n",
       "</script>"
      ]
     },
     "metadata": {},
     "output_type": "display_data"
    },
    {
     "data": {
      "text/html": [
       "<div>\n",
       "<style scoped>\n",
       "    .dataframe tbody tr th:only-of-type {\n",
       "        vertical-align: middle;\n",
       "    }\n",
       "\n",
       "    .dataframe tbody tr th {\n",
       "        vertical-align: top;\n",
       "    }\n",
       "\n",
       "    .dataframe thead th {\n",
       "        text-align: right;\n",
       "    }\n",
       "</style>\n",
       "<table border=\"1\" class=\"dataframe\">\n",
       "  <thead>\n",
       "    <tr style=\"text-align: right;\">\n",
       "      <th></th>\n",
       "      <th>Length</th>\n",
       "      <th>Diameter</th>\n",
       "      <th>Height</th>\n",
       "      <th>Whole_weight</th>\n",
       "      <th>Shucked_weight</th>\n",
       "      <th>Viscera_weight</th>\n",
       "      <th>Shell_weight</th>\n",
       "    </tr>\n",
       "    <tr>\n",
       "      <th>Sex</th>\n",
       "      <th></th>\n",
       "      <th></th>\n",
       "      <th></th>\n",
       "      <th></th>\n",
       "      <th></th>\n",
       "      <th></th>\n",
       "      <th></th>\n",
       "    </tr>\n",
       "  </thead>\n",
       "  <tbody>\n",
       "    <tr>\n",
       "      <th>F</th>\n",
       "      <td>0.579093</td>\n",
       "      <td>0.454732</td>\n",
       "      <td>0.158011</td>\n",
       "      <td>1.046532</td>\n",
       "      <td>0.446188</td>\n",
       "      <td>0.230689</td>\n",
       "      <td>0.302010</td>\n",
       "    </tr>\n",
       "    <tr>\n",
       "      <th>I</th>\n",
       "      <td>0.427746</td>\n",
       "      <td>0.326494</td>\n",
       "      <td>0.107996</td>\n",
       "      <td>0.431363</td>\n",
       "      <td>0.191035</td>\n",
       "      <td>0.092010</td>\n",
       "      <td>0.128182</td>\n",
       "    </tr>\n",
       "    <tr>\n",
       "      <th>M</th>\n",
       "      <td>0.561391</td>\n",
       "      <td>0.439287</td>\n",
       "      <td>0.151381</td>\n",
       "      <td>0.991459</td>\n",
       "      <td>0.432946</td>\n",
       "      <td>0.215545</td>\n",
       "      <td>0.281969</td>\n",
       "    </tr>\n",
       "  </tbody>\n",
       "</table>\n",
       "</div>"
      ],
      "text/plain": [
       "       Length  Diameter    Height  Whole_weight  Shucked_weight  \\\n",
       "Sex                                                               \n",
       "F    0.579093  0.454732  0.158011      1.046532        0.446188   \n",
       "I    0.427746  0.326494  0.107996      0.431363        0.191035   \n",
       "M    0.561391  0.439287  0.151381      0.991459        0.432946   \n",
       "\n",
       "     Viscera_weight  Shell_weight  \n",
       "Sex                                \n",
       "F          0.230689      0.302010  \n",
       "I          0.092010      0.128182  \n",
       "M          0.215545      0.281969  "
      ]
     },
     "execution_count": 231,
     "metadata": {},
     "output_type": "execute_result"
    },
    {
     "data": {
      "application/javascript": [
       "\n",
       "            setTimeout(function() {\n",
       "                var nbb_cell_id = 231;\n",
       "                var nbb_unformatted_code = \"abalone.groupby(\\\"Sex\\\").mean()\";\n",
       "                var nbb_formatted_code = \"abalone.groupby(\\\"Sex\\\").mean()\";\n",
       "                var nbb_cells = Jupyter.notebook.get_cells();\n",
       "                for (var i = 0; i < nbb_cells.length; ++i) {\n",
       "                    if (nbb_cells[i].input_prompt_number == nbb_cell_id) {\n",
       "                        if (nbb_cells[i].get_text() == nbb_unformatted_code) {\n",
       "                             nbb_cells[i].set_text(nbb_formatted_code);\n",
       "                        }\n",
       "                        break;\n",
       "                    }\n",
       "                }\n",
       "            }, 500);\n",
       "            "
      ],
      "text/plain": [
       "<IPython.core.display.Javascript object>"
      ]
     },
     "metadata": {},
     "output_type": "display_data"
    }
   ],
   "source": [
    "abalone.groupby(\"Sex\").mean()"
   ]
  },
  {
   "cell_type": "code",
   "execution_count": 222,
   "id": "d5565da0",
   "metadata": {
    "ExecuteTime": {
     "end_time": "2022-04-10T15:21:04.727099Z",
     "start_time": "2022-04-10T15:21:04.695290Z"
    }
   },
   "outputs": [
    {
     "data": {
      "text/html": [
       "<script id=\"myVizzu_b56bcdf\">\n",
       "    document.inhibitScroll = false;\n",
       "</script>"
      ]
     },
     "metadata": {},
     "output_type": "display_data"
    },
    {
     "data": {
      "text/html": [
       "<script id=\"myVizzu_c80ebe6\">\n",
       "    document.inhibitScroll = false;\n",
       "</script>"
      ]
     },
     "metadata": {},
     "output_type": "display_data"
    },
    {
     "data": {
      "text/html": [
       "<script id=\"myVizzu_443b602\">\n",
       "    document.inhibitScroll = false;\n",
       "</script>"
      ]
     },
     "metadata": {},
     "output_type": "display_data"
    },
    {
     "data": {
      "text/html": [
       "<script id=\"myVizzu_f5517a1\">\n",
       "    document.inhibitScroll = false;\n",
       "</script>"
      ]
     },
     "metadata": {},
     "output_type": "display_data"
    },
    {
     "data": {
      "text/html": [
       "<script id=\"myVizzu_ed9bcac\">\n",
       "    document.inhibitScroll = false;\n",
       "</script>"
      ]
     },
     "metadata": {},
     "output_type": "display_data"
    },
    {
     "data": {
      "text/html": [
       "<script id=\"myVizzu_a23a56e\">\n",
       "    document.inhibitScroll = false;\n",
       "</script>"
      ]
     },
     "metadata": {},
     "output_type": "display_data"
    },
    {
     "data": {
      "text/html": [
       "<script id=\"myVizzu_33df228\">\n",
       "    document.inhibitScroll = false;\n",
       "</script>"
      ]
     },
     "metadata": {},
     "output_type": "display_data"
    },
    {
     "data": {
      "text/html": [
       "<script id=\"myVizzu_eec6a77\">\n",
       "    document.inhibitScroll = false;\n",
       "</script>"
      ]
     },
     "metadata": {},
     "output_type": "display_data"
    },
    {
     "data": {
      "text/html": [
       "<script id=\"myVizzu_80ca465\">\n",
       "    document.inhibitScroll = false;\n",
       "</script>"
      ]
     },
     "metadata": {},
     "output_type": "display_data"
    },
    {
     "data": {
      "text/html": [
       "<script id=\"myVizzu_8fcf2ac\">\n",
       "    document.inhibitScroll = false;\n",
       "</script>"
      ]
     },
     "metadata": {},
     "output_type": "display_data"
    },
    {
     "data": {
      "text/html": [
       "<script id=\"myVizzu_14724f4\">\n",
       "    document.inhibitScroll = false;\n",
       "</script>"
      ]
     },
     "metadata": {},
     "output_type": "display_data"
    },
    {
     "data": {
      "text/html": [
       "<script id=\"myVizzu_aee1722\">\n",
       "    document.inhibitScroll = false;\n",
       "</script>"
      ]
     },
     "metadata": {},
     "output_type": "display_data"
    },
    {
     "data": {
      "text/html": [
       "<script id=\"myVizzu_20a994b\">\n",
       "    document.inhibitScroll = false;\n",
       "</script>"
      ]
     },
     "metadata": {},
     "output_type": "display_data"
    },
    {
     "data": {
      "text/html": [
       "<script id=\"myVizzu_f7dda20\">\n",
       "    document.inhibitScroll = false;\n",
       "</script>"
      ]
     },
     "metadata": {},
     "output_type": "display_data"
    },
    {
     "data": {
      "text/html": [
       "<script id=\"myVizzu_402bdbf\">\n",
       "    document.inhibitScroll = false;\n",
       "</script>"
      ]
     },
     "metadata": {},
     "output_type": "display_data"
    },
    {
     "data": {
      "text/html": [
       "<script id=\"myVizzu_9c169aa\">\n",
       "    document.inhibitScroll = false;\n",
       "</script>"
      ]
     },
     "metadata": {},
     "output_type": "display_data"
    },
    {
     "data": {
      "text/html": [
       "<script id=\"myVizzu_51f3158\">\n",
       "    document.inhibitScroll = false;\n",
       "</script>"
      ]
     },
     "metadata": {},
     "output_type": "display_data"
    },
    {
     "data": {
      "text/html": [
       "<script id=\"myVizzu_b68f5d6\">\n",
       "    document.inhibitScroll = false;\n",
       "</script>"
      ]
     },
     "metadata": {},
     "output_type": "display_data"
    },
    {
     "data": {
      "text/html": [
       "<script id=\"myVizzu_b675cb0\">\n",
       "    document.inhibitScroll = false;\n",
       "</script>"
      ]
     },
     "metadata": {},
     "output_type": "display_data"
    },
    {
     "data": {
      "text/html": [
       "<script id=\"myVizzu_ccd7d1e\">\n",
       "    document.inhibitScroll = false;\n",
       "</script>"
      ]
     },
     "metadata": {},
     "output_type": "display_data"
    },
    {
     "data": {
      "text/html": [
       "<script id=\"myVizzu_043e3b8\">\n",
       "    document.inhibitScroll = false;\n",
       "</script>"
      ]
     },
     "metadata": {},
     "output_type": "display_data"
    },
    {
     "data": {
      "text/html": [
       "<script id=\"myVizzu_90eb92b\">\n",
       "    document.inhibitScroll = false;\n",
       "</script>"
      ]
     },
     "metadata": {},
     "output_type": "display_data"
    },
    {
     "data": {
      "text/html": [
       "<script id=\"myVizzu_20a2b64\">\n",
       "    document.inhibitScroll = false;\n",
       "</script>"
      ]
     },
     "metadata": {},
     "output_type": "display_data"
    },
    {
     "data": {
      "text/html": [
       "<script id=\"myVizzu_ca5077f\">\n",
       "    document.inhibitScroll = false;\n",
       "</script>"
      ]
     },
     "metadata": {},
     "output_type": "display_data"
    },
    {
     "data": {
      "text/html": [
       "<script id=\"myVizzu_ae38ea5\">\n",
       "    document.inhibitScroll = false;\n",
       "</script>"
      ]
     },
     "metadata": {},
     "output_type": "display_data"
    },
    {
     "data": {
      "text/html": [
       "<script id=\"myVizzu_9bcfdd4\">\n",
       "    document.inhibitScroll = false;\n",
       "</script>"
      ]
     },
     "metadata": {},
     "output_type": "display_data"
    },
    {
     "data": {
      "text/html": [
       "<script id=\"myVizzu_21cb6d3\">\n",
       "    document.inhibitScroll = false;\n",
       "</script>"
      ]
     },
     "metadata": {},
     "output_type": "display_data"
    },
    {
     "data": {
      "text/html": [
       "<script id=\"myVizzu_a2479ec\">\n",
       "    document.inhibitScroll = false;\n",
       "</script>"
      ]
     },
     "metadata": {},
     "output_type": "display_data"
    },
    {
     "data": {
      "text/html": [
       "<script id=\"myVizzu_c914cd1\">\n",
       "    document.inhibitScroll = false;\n",
       "</script>"
      ]
     },
     "metadata": {},
     "output_type": "display_data"
    },
    {
     "data": {
      "text/html": [
       "<script id=\"myVizzu_5d10cad\">\n",
       "    document.inhibitScroll = false;\n",
       "</script>"
      ]
     },
     "metadata": {},
     "output_type": "display_data"
    },
    {
     "data": {
      "text/html": [
       "<script id=\"myVizzu_451a354\">\n",
       "    document.inhibitScroll = false;\n",
       "</script>"
      ]
     },
     "metadata": {},
     "output_type": "display_data"
    },
    {
     "data": {
      "text/html": [
       "<script id=\"myVizzu_0f3d9e5\">\n",
       "    document.inhibitScroll = false;\n",
       "</script>"
      ]
     },
     "metadata": {},
     "output_type": "display_data"
    },
    {
     "data": {
      "text/html": [
       "<script id=\"myVizzu_330b7ed\">\n",
       "    document.inhibitScroll = false;\n",
       "</script>"
      ]
     },
     "metadata": {},
     "output_type": "display_data"
    },
    {
     "data": {
      "text/html": [
       "<script id=\"myVizzu_3c4df0c\">\n",
       "    document.inhibitScroll = false;\n",
       "</script>"
      ]
     },
     "metadata": {},
     "output_type": "display_data"
    },
    {
     "data": {
      "text/html": [
       "<script id=\"myVizzu_c08b1e3\">\n",
       "    document.inhibitScroll = false;\n",
       "</script>"
      ]
     },
     "metadata": {},
     "output_type": "display_data"
    },
    {
     "data": {
      "text/html": [
       "<script id=\"myVizzu_fc5029c\">\n",
       "    document.inhibitScroll = false;\n",
       "</script>"
      ]
     },
     "metadata": {},
     "output_type": "display_data"
    },
    {
     "data": {
      "text/html": [
       "<script id=\"myVizzu_b0601e5\">\n",
       "    document.inhibitScroll = false;\n",
       "</script>"
      ]
     },
     "metadata": {},
     "output_type": "display_data"
    },
    {
     "data": {
      "text/html": [
       "<script id=\"myVizzu_4f751c7\">\n",
       "    document.inhibitScroll = false;\n",
       "</script>"
      ]
     },
     "metadata": {},
     "output_type": "display_data"
    },
    {
     "data": {
      "text/html": [
       "<script id=\"myVizzu_c67ddb0\">\n",
       "    document.inhibitScroll = false;\n",
       "</script>"
      ]
     },
     "metadata": {},
     "output_type": "display_data"
    },
    {
     "data": {
      "text/html": [
       "<script id=\"myVizzu_f82e7ad\">\n",
       "    document.inhibitScroll = false;\n",
       "</script>"
      ]
     },
     "metadata": {},
     "output_type": "display_data"
    },
    {
     "data": {
      "text/html": [
       "<script id=\"myVizzu_7c19d9e\">\n",
       "    document.inhibitScroll = false;\n",
       "</script>"
      ]
     },
     "metadata": {},
     "output_type": "display_data"
    },
    {
     "data": {
      "text/html": [
       "<script id=\"myVizzu_91dd32e\">\n",
       "    document.inhibitScroll = false;\n",
       "</script>"
      ]
     },
     "metadata": {},
     "output_type": "display_data"
    },
    {
     "data": {
      "text/html": [
       "<script id=\"myVizzu_d95028c\">\n",
       "    document.inhibitScroll = false;\n",
       "</script>"
      ]
     },
     "metadata": {},
     "output_type": "display_data"
    },
    {
     "data": {
      "text/html": [
       "<script id=\"myVizzu_dda4b31\">\n",
       "    document.inhibitScroll = false;\n",
       "</script>"
      ]
     },
     "metadata": {},
     "output_type": "display_data"
    },
    {
     "data": {
      "text/html": [
       "<script id=\"myVizzu_ac7f01a\">\n",
       "    document.inhibitScroll = false;\n",
       "</script>"
      ]
     },
     "metadata": {},
     "output_type": "display_data"
    },
    {
     "data": {
      "text/html": [
       "<script id=\"myVizzu_d749b1d\">\n",
       "    document.inhibitScroll = false;\n",
       "</script>"
      ]
     },
     "metadata": {},
     "output_type": "display_data"
    },
    {
     "data": {
      "text/html": [
       "<script id=\"myVizzu_c56968b\">\n",
       "    document.inhibitScroll = false;\n",
       "</script>"
      ]
     },
     "metadata": {},
     "output_type": "display_data"
    },
    {
     "data": {
      "text/html": [
       "<script id=\"myVizzu_545861e\">\n",
       "    document.inhibitScroll = false;\n",
       "</script>"
      ]
     },
     "metadata": {},
     "output_type": "display_data"
    },
    {
     "data": {
      "text/html": [
       "<script id=\"myVizzu_8006bc3\">\n",
       "    document.inhibitScroll = false;\n",
       "</script>"
      ]
     },
     "metadata": {},
     "output_type": "display_data"
    },
    {
     "data": {
      "text/html": [
       "<script id=\"myVizzu_40d98e9\">\n",
       "    document.inhibitScroll = false;\n",
       "</script>"
      ]
     },
     "metadata": {},
     "output_type": "display_data"
    },
    {
     "data": {
      "text/html": [
       "<script id=\"myVizzu_16bcbbf\">\n",
       "    document.inhibitScroll = false;\n",
       "</script>"
      ]
     },
     "metadata": {},
     "output_type": "display_data"
    },
    {
     "data": {
      "text/html": [
       "<script id=\"myVizzu_78f0a55\">\n",
       "    document.inhibitScroll = false;\n",
       "</script>"
      ]
     },
     "metadata": {},
     "output_type": "display_data"
    },
    {
     "data": {
      "text/html": [
       "<script id=\"myVizzu_22decb2\">\n",
       "    document.inhibitScroll = false;\n",
       "</script>"
      ]
     },
     "metadata": {},
     "output_type": "display_data"
    },
    {
     "data": {
      "text/html": [
       "<script id=\"myVizzu_c02ebb3\">\n",
       "    document.inhibitScroll = false;\n",
       "</script>"
      ]
     },
     "metadata": {},
     "output_type": "display_data"
    },
    {
     "data": {
      "text/html": [
       "<script id=\"myVizzu_c6f8bea\">\n",
       "    document.inhibitScroll = false;\n",
       "</script>"
      ]
     },
     "metadata": {},
     "output_type": "display_data"
    },
    {
     "data": {
      "text/html": [
       "<script id=\"myVizzu_3e8f915\">\n",
       "    document.inhibitScroll = false;\n",
       "</script>"
      ]
     },
     "metadata": {},
     "output_type": "display_data"
    },
    {
     "data": {
      "text/html": [
       "<script id=\"myVizzu_32764ab\">\n",
       "    let display_32764ab = myVizzu_32764ab.parentNode.parentNode.style.display;\n",
       "    myVizzu_32764ab.parentNode.parentNode.style.display = \"none\";\n",
       "    chart_925717f = chart_925717f.then(chart => {\n",
       "        if (myVizzu_925717f.parentNode && myVizzu_925717f.parentNode.parentNode) {\n",
       "            myVizzu_925717f.parentNode.parentNode.style.display = \"none\";\n",
       "        }\n",
       "        myVizzu_32764ab.parentNode.parentNode.style.display = display_32764ab;\n",
       "        myVizzu_32764ab.parentNode.insertBefore(myVizzu_925717f, myVizzu_32764ab);\n",
       "        if (!document.inhibitScroll && true) {\n",
       "            myVizzu_925717f.scrollIntoView({behavior: \"auto\", block: \"center\"});\n",
       "        }\n",
       "        return chart.animate({\"config\": {\"channels\": {\"x\": [\"Sex\"], \"y\": \"Whole_weight\", \"size\": null, \"label\": \"Whole_weight\"}, \"geometry\": \"rectangular\"}});\n",
       "    });\n",
       "</script>"
      ]
     },
     "metadata": {},
     "output_type": "display_data"
    },
    {
     "data": {
      "application/javascript": [
       "\n",
       "            setTimeout(function() {\n",
       "                var nbb_cell_id = 222;\n",
       "                var nbb_unformatted_code = \"chart.animate(\\n    Config(\\n        {\\n            \\\"channels\\\": {\\n                \\\"x\\\": [\\\"Sex\\\"],\\n                \\\"y\\\": \\\"Whole_weight\\\",\\n                \\\"size\\\": None,\\n                \\\"label\\\": \\\"Whole_weight\\\",\\n            },\\n            \\\"geometry\\\": \\\"rectangular\\\",\\n        }\\n    ),\\n)\";\n",
       "                var nbb_formatted_code = \"chart.animate(\\n    Config(\\n        {\\n            \\\"channels\\\": {\\n                \\\"x\\\": [\\\"Sex\\\"],\\n                \\\"y\\\": \\\"Whole_weight\\\",\\n                \\\"size\\\": None,\\n                \\\"label\\\": \\\"Whole_weight\\\",\\n            },\\n            \\\"geometry\\\": \\\"rectangular\\\",\\n        }\\n    ),\\n)\";\n",
       "                var nbb_cells = Jupyter.notebook.get_cells();\n",
       "                for (var i = 0; i < nbb_cells.length; ++i) {\n",
       "                    if (nbb_cells[i].input_prompt_number == nbb_cell_id) {\n",
       "                        if (nbb_cells[i].get_text() == nbb_unformatted_code) {\n",
       "                             nbb_cells[i].set_text(nbb_formatted_code);\n",
       "                        }\n",
       "                        break;\n",
       "                    }\n",
       "                }\n",
       "            }, 500);\n",
       "            "
      ],
      "text/plain": [
       "<IPython.core.display.Javascript object>"
      ]
     },
     "metadata": {},
     "output_type": "display_data"
    }
   ],
   "source": [
    "chart.animate(\n",
    "    Config(\n",
    "        {\n",
    "            \"channels\": {\n",
    "                \"x\": [\"Sex\"],\n",
    "                \"y\": \"Whole_weight\",\n",
    "                \"size\": None,\n",
    "                \"label\": \"Whole_weight\",\n",
    "            },\n",
    "            \"geometry\": \"rectangular\",\n",
    "        }\n",
    "    ),\n",
    ")"
   ]
  },
  {
   "cell_type": "code",
   "execution_count": 224,
   "id": "bde4f87d",
   "metadata": {
    "ExecuteTime": {
     "end_time": "2022-04-10T15:21:09.800004Z",
     "start_time": "2022-04-10T15:21:09.766683Z"
    }
   },
   "outputs": [
    {
     "data": {
      "text/html": [
       "<script id=\"myVizzu_743535d\">\n",
       "    document.inhibitScroll = false;\n",
       "</script>"
      ]
     },
     "metadata": {},
     "output_type": "display_data"
    },
    {
     "data": {
      "text/html": [
       "<script id=\"myVizzu_1a36410\">\n",
       "    document.inhibitScroll = false;\n",
       "</script>"
      ]
     },
     "metadata": {},
     "output_type": "display_data"
    },
    {
     "data": {
      "text/html": [
       "<script id=\"myVizzu_9486eb2\">\n",
       "    document.inhibitScroll = false;\n",
       "</script>"
      ]
     },
     "metadata": {},
     "output_type": "display_data"
    },
    {
     "data": {
      "text/html": [
       "<script id=\"myVizzu_814acbf\">\n",
       "    document.inhibitScroll = false;\n",
       "</script>"
      ]
     },
     "metadata": {},
     "output_type": "display_data"
    },
    {
     "data": {
      "text/html": [
       "<script id=\"myVizzu_b9b86bc\">\n",
       "    document.inhibitScroll = false;\n",
       "</script>"
      ]
     },
     "metadata": {},
     "output_type": "display_data"
    },
    {
     "data": {
      "text/html": [
       "<script id=\"myVizzu_3b36e09\">\n",
       "    document.inhibitScroll = false;\n",
       "</script>"
      ]
     },
     "metadata": {},
     "output_type": "display_data"
    },
    {
     "data": {
      "text/html": [
       "<script id=\"myVizzu_61165b7\">\n",
       "    document.inhibitScroll = false;\n",
       "</script>"
      ]
     },
     "metadata": {},
     "output_type": "display_data"
    },
    {
     "data": {
      "text/html": [
       "<script id=\"myVizzu_bbf7ac8\">\n",
       "    document.inhibitScroll = false;\n",
       "</script>"
      ]
     },
     "metadata": {},
     "output_type": "display_data"
    },
    {
     "data": {
      "text/html": [
       "<script id=\"myVizzu_55ce259\">\n",
       "    document.inhibitScroll = false;\n",
       "</script>"
      ]
     },
     "metadata": {},
     "output_type": "display_data"
    },
    {
     "data": {
      "text/html": [
       "<script id=\"myVizzu_2749b86\">\n",
       "    document.inhibitScroll = false;\n",
       "</script>"
      ]
     },
     "metadata": {},
     "output_type": "display_data"
    },
    {
     "data": {
      "text/html": [
       "<script id=\"myVizzu_618b908\">\n",
       "    document.inhibitScroll = false;\n",
       "</script>"
      ]
     },
     "metadata": {},
     "output_type": "display_data"
    },
    {
     "data": {
      "text/html": [
       "<script id=\"myVizzu_9cd9208\">\n",
       "    document.inhibitScroll = false;\n",
       "</script>"
      ]
     },
     "metadata": {},
     "output_type": "display_data"
    },
    {
     "data": {
      "text/html": [
       "<script id=\"myVizzu_6b86b16\">\n",
       "    document.inhibitScroll = false;\n",
       "</script>"
      ]
     },
     "metadata": {},
     "output_type": "display_data"
    },
    {
     "data": {
      "text/html": [
       "<script id=\"myVizzu_1595e72\">\n",
       "    document.inhibitScroll = false;\n",
       "</script>"
      ]
     },
     "metadata": {},
     "output_type": "display_data"
    },
    {
     "data": {
      "text/html": [
       "<script id=\"myVizzu_babbe15\">\n",
       "    document.inhibitScroll = false;\n",
       "</script>"
      ]
     },
     "metadata": {},
     "output_type": "display_data"
    },
    {
     "data": {
      "text/html": [
       "<script id=\"myVizzu_3af1ce3\">\n",
       "    document.inhibitScroll = false;\n",
       "</script>"
      ]
     },
     "metadata": {},
     "output_type": "display_data"
    },
    {
     "data": {
      "text/html": [
       "<script id=\"myVizzu_b792cf8\">\n",
       "    document.inhibitScroll = false;\n",
       "</script>"
      ]
     },
     "metadata": {},
     "output_type": "display_data"
    },
    {
     "data": {
      "text/html": [
       "<script id=\"myVizzu_53129cb\">\n",
       "    document.inhibitScroll = false;\n",
       "</script>"
      ]
     },
     "metadata": {},
     "output_type": "display_data"
    },
    {
     "data": {
      "text/html": [
       "<script id=\"myVizzu_a826bd4\">\n",
       "    document.inhibitScroll = false;\n",
       "</script>"
      ]
     },
     "metadata": {},
     "output_type": "display_data"
    },
    {
     "data": {
      "text/html": [
       "<script id=\"myVizzu_13874e4\">\n",
       "    document.inhibitScroll = false;\n",
       "</script>"
      ]
     },
     "metadata": {},
     "output_type": "display_data"
    },
    {
     "data": {
      "text/html": [
       "<script id=\"myVizzu_581372c\">\n",
       "    document.inhibitScroll = false;\n",
       "</script>"
      ]
     },
     "metadata": {},
     "output_type": "display_data"
    },
    {
     "data": {
      "text/html": [
       "<script id=\"myVizzu_3af7d1f\">\n",
       "    document.inhibitScroll = false;\n",
       "</script>"
      ]
     },
     "metadata": {},
     "output_type": "display_data"
    },
    {
     "data": {
      "text/html": [
       "<script id=\"myVizzu_363d95e\">\n",
       "    document.inhibitScroll = false;\n",
       "</script>"
      ]
     },
     "metadata": {},
     "output_type": "display_data"
    },
    {
     "data": {
      "text/html": [
       "<script id=\"myVizzu_6679533\">\n",
       "    document.inhibitScroll = false;\n",
       "</script>"
      ]
     },
     "metadata": {},
     "output_type": "display_data"
    },
    {
     "data": {
      "text/html": [
       "<script id=\"myVizzu_ac7ca05\">\n",
       "    document.inhibitScroll = false;\n",
       "</script>"
      ]
     },
     "metadata": {},
     "output_type": "display_data"
    },
    {
     "data": {
      "text/html": [
       "<script id=\"myVizzu_96d6a92\">\n",
       "    document.inhibitScroll = false;\n",
       "</script>"
      ]
     },
     "metadata": {},
     "output_type": "display_data"
    },
    {
     "data": {
      "text/html": [
       "<script id=\"myVizzu_65360c1\">\n",
       "    document.inhibitScroll = false;\n",
       "</script>"
      ]
     },
     "metadata": {},
     "output_type": "display_data"
    },
    {
     "data": {
      "text/html": [
       "<script id=\"myVizzu_22fc84c\">\n",
       "    document.inhibitScroll = false;\n",
       "</script>"
      ]
     },
     "metadata": {},
     "output_type": "display_data"
    },
    {
     "data": {
      "text/html": [
       "<script id=\"myVizzu_be77026\">\n",
       "    document.inhibitScroll = false;\n",
       "</script>"
      ]
     },
     "metadata": {},
     "output_type": "display_data"
    },
    {
     "data": {
      "text/html": [
       "<script id=\"myVizzu_e940402\">\n",
       "    document.inhibitScroll = false;\n",
       "</script>"
      ]
     },
     "metadata": {},
     "output_type": "display_data"
    },
    {
     "data": {
      "text/html": [
       "<script id=\"myVizzu_c78fcb2\">\n",
       "    document.inhibitScroll = false;\n",
       "</script>"
      ]
     },
     "metadata": {},
     "output_type": "display_data"
    },
    {
     "data": {
      "text/html": [
       "<script id=\"myVizzu_3736178\">\n",
       "    document.inhibitScroll = false;\n",
       "</script>"
      ]
     },
     "metadata": {},
     "output_type": "display_data"
    },
    {
     "data": {
      "text/html": [
       "<script id=\"myVizzu_b0b673a\">\n",
       "    document.inhibitScroll = false;\n",
       "</script>"
      ]
     },
     "metadata": {},
     "output_type": "display_data"
    },
    {
     "data": {
      "text/html": [
       "<script id=\"myVizzu_aa1546b\">\n",
       "    document.inhibitScroll = false;\n",
       "</script>"
      ]
     },
     "metadata": {},
     "output_type": "display_data"
    },
    {
     "data": {
      "text/html": [
       "<script id=\"myVizzu_c1c9a23\">\n",
       "    document.inhibitScroll = false;\n",
       "</script>"
      ]
     },
     "metadata": {},
     "output_type": "display_data"
    },
    {
     "data": {
      "text/html": [
       "<script id=\"myVizzu_b658946\">\n",
       "    document.inhibitScroll = false;\n",
       "</script>"
      ]
     },
     "metadata": {},
     "output_type": "display_data"
    },
    {
     "data": {
      "text/html": [
       "<script id=\"myVizzu_bcf0c53\">\n",
       "    document.inhibitScroll = false;\n",
       "</script>"
      ]
     },
     "metadata": {},
     "output_type": "display_data"
    },
    {
     "data": {
      "text/html": [
       "<script id=\"myVizzu_9e34d96\">\n",
       "    document.inhibitScroll = false;\n",
       "</script>"
      ]
     },
     "metadata": {},
     "output_type": "display_data"
    },
    {
     "data": {
      "text/html": [
       "<script id=\"myVizzu_767aca8\">\n",
       "    document.inhibitScroll = false;\n",
       "</script>"
      ]
     },
     "metadata": {},
     "output_type": "display_data"
    },
    {
     "data": {
      "text/html": [
       "<script id=\"myVizzu_2b8b205\">\n",
       "    document.inhibitScroll = false;\n",
       "</script>"
      ]
     },
     "metadata": {},
     "output_type": "display_data"
    },
    {
     "data": {
      "text/html": [
       "<script id=\"myVizzu_cb34c3e\">\n",
       "    document.inhibitScroll = false;\n",
       "</script>"
      ]
     },
     "metadata": {},
     "output_type": "display_data"
    },
    {
     "data": {
      "text/html": [
       "<script id=\"myVizzu_9523604\">\n",
       "    document.inhibitScroll = false;\n",
       "</script>"
      ]
     },
     "metadata": {},
     "output_type": "display_data"
    },
    {
     "data": {
      "text/html": [
       "<script id=\"myVizzu_e6ebbb2\">\n",
       "    document.inhibitScroll = false;\n",
       "</script>"
      ]
     },
     "metadata": {},
     "output_type": "display_data"
    },
    {
     "data": {
      "text/html": [
       "<script id=\"myVizzu_d44172c\">\n",
       "    document.inhibitScroll = false;\n",
       "</script>"
      ]
     },
     "metadata": {},
     "output_type": "display_data"
    },
    {
     "data": {
      "text/html": [
       "<script id=\"myVizzu_0787ade\">\n",
       "    document.inhibitScroll = false;\n",
       "</script>"
      ]
     },
     "metadata": {},
     "output_type": "display_data"
    },
    {
     "data": {
      "text/html": [
       "<script id=\"myVizzu_0677cdc\">\n",
       "    document.inhibitScroll = false;\n",
       "</script>"
      ]
     },
     "metadata": {},
     "output_type": "display_data"
    },
    {
     "data": {
      "text/html": [
       "<script id=\"myVizzu_e830610\">\n",
       "    document.inhibitScroll = false;\n",
       "</script>"
      ]
     },
     "metadata": {},
     "output_type": "display_data"
    },
    {
     "data": {
      "text/html": [
       "<script id=\"myVizzu_a2631e9\">\n",
       "    document.inhibitScroll = false;\n",
       "</script>"
      ]
     },
     "metadata": {},
     "output_type": "display_data"
    },
    {
     "data": {
      "text/html": [
       "<script id=\"myVizzu_3aa7fae\">\n",
       "    document.inhibitScroll = false;\n",
       "</script>"
      ]
     },
     "metadata": {},
     "output_type": "display_data"
    },
    {
     "data": {
      "text/html": [
       "<script id=\"myVizzu_59be094\">\n",
       "    document.inhibitScroll = false;\n",
       "</script>"
      ]
     },
     "metadata": {},
     "output_type": "display_data"
    },
    {
     "data": {
      "text/html": [
       "<script id=\"myVizzu_f9900b5\">\n",
       "    document.inhibitScroll = false;\n",
       "</script>"
      ]
     },
     "metadata": {},
     "output_type": "display_data"
    },
    {
     "data": {
      "text/html": [
       "<script id=\"myVizzu_f92a490\">\n",
       "    document.inhibitScroll = false;\n",
       "</script>"
      ]
     },
     "metadata": {},
     "output_type": "display_data"
    },
    {
     "data": {
      "text/html": [
       "<script id=\"myVizzu_d1b3d67\">\n",
       "    document.inhibitScroll = false;\n",
       "</script>"
      ]
     },
     "metadata": {},
     "output_type": "display_data"
    },
    {
     "data": {
      "text/html": [
       "<script id=\"myVizzu_fd6ebe2\">\n",
       "    document.inhibitScroll = false;\n",
       "</script>"
      ]
     },
     "metadata": {},
     "output_type": "display_data"
    },
    {
     "data": {
      "text/html": [
       "<script id=\"myVizzu_2b2d331\">\n",
       "    document.inhibitScroll = false;\n",
       "</script>"
      ]
     },
     "metadata": {},
     "output_type": "display_data"
    },
    {
     "data": {
      "text/html": [
       "<script id=\"myVizzu_6431486\">\n",
       "    document.inhibitScroll = false;\n",
       "</script>"
      ]
     },
     "metadata": {},
     "output_type": "display_data"
    },
    {
     "data": {
      "text/html": [
       "<script id=\"myVizzu_86ae8c6\">\n",
       "    let display_86ae8c6 = myVizzu_86ae8c6.parentNode.parentNode.style.display;\n",
       "    myVizzu_86ae8c6.parentNode.parentNode.style.display = \"none\";\n",
       "    chart_925717f = chart_925717f.then(chart => {\n",
       "        if (myVizzu_925717f.parentNode && myVizzu_925717f.parentNode.parentNode) {\n",
       "            myVizzu_925717f.parentNode.parentNode.style.display = \"none\";\n",
       "        }\n",
       "        myVizzu_86ae8c6.parentNode.parentNode.style.display = display_86ae8c6;\n",
       "        myVizzu_86ae8c6.parentNode.insertBefore(myVizzu_925717f, myVizzu_86ae8c6);\n",
       "        if (!document.inhibitScroll && true) {\n",
       "            myVizzu_925717f.scrollIntoView({behavior: \"auto\", block: \"center\"});\n",
       "        }\n",
       "        return chart.animate({\"config\": {\"channels\": {\"x\": [\"Sex\"], \"y\": \"Whole_weight\", \"label\": \"Whole_weight\"}, \"title\": \"Abalone\"}});\n",
       "    });\n",
       "</script>"
      ]
     },
     "metadata": {},
     "output_type": "display_data"
    },
    {
     "data": {
      "application/javascript": [
       "\n",
       "            setTimeout(function() {\n",
       "                var nbb_cell_id = 224;\n",
       "                var nbb_unformatted_code = \"chart.animate(\\n    Config(\\n        {\\n            \\\"channels\\\": {\\n                \\\"x\\\": [\\\"Sex\\\"],\\n                \\\"y\\\": \\\"Whole_weight\\\", \\n                \\\"label\\\": \\\"Whole_weight\\\",\\n            },\\n            \\\"title\\\": \\\"Abalone\\\",\\n        }\\n    ),\\n)\";\n",
       "                var nbb_formatted_code = \"chart.animate(\\n    Config(\\n        {\\n            \\\"channels\\\": {\\n                \\\"x\\\": [\\\"Sex\\\"],\\n                \\\"y\\\": \\\"Whole_weight\\\",\\n                \\\"label\\\": \\\"Whole_weight\\\",\\n            },\\n            \\\"title\\\": \\\"Abalone\\\",\\n        }\\n    ),\\n)\";\n",
       "                var nbb_cells = Jupyter.notebook.get_cells();\n",
       "                for (var i = 0; i < nbb_cells.length; ++i) {\n",
       "                    if (nbb_cells[i].input_prompt_number == nbb_cell_id) {\n",
       "                        if (nbb_cells[i].get_text() == nbb_unformatted_code) {\n",
       "                             nbb_cells[i].set_text(nbb_formatted_code);\n",
       "                        }\n",
       "                        break;\n",
       "                    }\n",
       "                }\n",
       "            }, 500);\n",
       "            "
      ],
      "text/plain": [
       "<IPython.core.display.Javascript object>"
      ]
     },
     "metadata": {},
     "output_type": "display_data"
    }
   ],
   "source": [
    "chart.animate(\n",
    "    Config(\n",
    "        {\n",
    "            \"channels\": {\n",
    "                \"x\": [\"Sex\"],\n",
    "                \"y\": \"Whole_weight\", \n",
    "                \"label\": \"Whole_weight\",\n",
    "            },\n",
    "            \"title\": \"Abalone\",\n",
    "        }\n",
    "    ),\n",
    ")\n",
    "\n"
   ]
  },
  {
   "cell_type": "code",
   "execution_count": 40,
   "id": "88b3eb5b",
   "metadata": {
    "ExecuteTime": {
     "end_time": "2022-04-10T13:09:30.222353Z",
     "start_time": "2022-04-10T13:09:30.202064Z"
    }
   },
   "outputs": [
    {
     "data": {
      "text/html": [
       "<script id=\"myVizzu_d142173\">\n",
       "    document.inhibitScroll = false;\n",
       "</script>"
      ]
     },
     "metadata": {},
     "output_type": "display_data"
    },
    {
     "data": {
      "text/html": [
       "<script id=\"myVizzu_ecb9ee7\">\n",
       "    document.inhibitScroll = false;\n",
       "</script>"
      ]
     },
     "metadata": {},
     "output_type": "display_data"
    },
    {
     "data": {
      "text/html": [
       "<script id=\"myVizzu_f79bd6e\">\n",
       "    document.inhibitScroll = false;\n",
       "</script>"
      ]
     },
     "metadata": {},
     "output_type": "display_data"
    },
    {
     "data": {
      "text/html": [
       "<script id=\"myVizzu_7a5526b\">\n",
       "    document.inhibitScroll = false;\n",
       "</script>"
      ]
     },
     "metadata": {},
     "output_type": "display_data"
    },
    {
     "data": {
      "text/html": [
       "<script id=\"myVizzu_e713539\">\n",
       "    document.inhibitScroll = false;\n",
       "</script>"
      ]
     },
     "metadata": {},
     "output_type": "display_data"
    },
    {
     "data": {
      "text/html": [
       "<script id=\"myVizzu_b55e3ed\">\n",
       "    document.inhibitScroll = false;\n",
       "</script>"
      ]
     },
     "metadata": {},
     "output_type": "display_data"
    },
    {
     "data": {
      "text/html": [
       "<script id=\"myVizzu_318fc51\">\n",
       "    document.inhibitScroll = false;\n",
       "</script>"
      ]
     },
     "metadata": {},
     "output_type": "display_data"
    },
    {
     "data": {
      "text/html": [
       "<script id=\"myVizzu_e51e99b\">\n",
       "    document.inhibitScroll = false;\n",
       "</script>"
      ]
     },
     "metadata": {},
     "output_type": "display_data"
    },
    {
     "data": {
      "text/html": [
       "<script id=\"myVizzu_42270b1\">\n",
       "    document.inhibitScroll = false;\n",
       "</script>"
      ]
     },
     "metadata": {},
     "output_type": "display_data"
    },
    {
     "data": {
      "text/html": [
       "<script id=\"myVizzu_2ae7955\">\n",
       "    document.inhibitScroll = false;\n",
       "</script>"
      ]
     },
     "metadata": {},
     "output_type": "display_data"
    },
    {
     "data": {
      "text/html": [
       "<script id=\"myVizzu_5ab0bdc\">\n",
       "    document.inhibitScroll = false;\n",
       "</script>"
      ]
     },
     "metadata": {},
     "output_type": "display_data"
    },
    {
     "data": {
      "text/html": [
       "<script id=\"myVizzu_5151773\">\n",
       "    document.inhibitScroll = false;\n",
       "</script>"
      ]
     },
     "metadata": {},
     "output_type": "display_data"
    },
    {
     "data": {
      "text/html": [
       "<script id=\"myVizzu_b3e224c\">\n",
       "    document.inhibitScroll = false;\n",
       "</script>"
      ]
     },
     "metadata": {},
     "output_type": "display_data"
    },
    {
     "data": {
      "text/html": [
       "<script id=\"myVizzu_baef563\">\n",
       "    document.inhibitScroll = false;\n",
       "</script>"
      ]
     },
     "metadata": {},
     "output_type": "display_data"
    },
    {
     "data": {
      "text/html": [
       "<script id=\"myVizzu_1ebc695\">\n",
       "    document.inhibitScroll = false;\n",
       "</script>"
      ]
     },
     "metadata": {},
     "output_type": "display_data"
    },
    {
     "data": {
      "text/html": [
       "<script id=\"myVizzu_9b5cfdb\">\n",
       "    document.inhibitScroll = false;\n",
       "</script>"
      ]
     },
     "metadata": {},
     "output_type": "display_data"
    },
    {
     "data": {
      "text/html": [
       "<script id=\"myVizzu_85d1e64\">\n",
       "    document.inhibitScroll = false;\n",
       "</script>"
      ]
     },
     "metadata": {},
     "output_type": "display_data"
    },
    {
     "data": {
      "text/html": [
       "<script id=\"myVizzu_62f89f0\">\n",
       "    document.inhibitScroll = false;\n",
       "    document.addEventListener('wheel', function (evt) { document.inhibitScroll = true }, true);\n",
       "    document.addEventListener('keydown', function (evt) { document.inhibitScroll = true }, true);\n",
       "    document.addEventListener('touchstart', function (evt) { document.inhibitScroll = true }, true);\n",
       "    let myVizzu_fb961b9 = document.createElement(\"div\");\n",
       "    myVizzu_fb961b9.style.cssText = \"width: 800px; height: 480px;\";\n",
       "    let chart_fb961b9 = import(\"https://cdn.jsdelivr.net/npm/vizzu@~0.4.0/dist/vizzu.min.js\").then(Vizzu => new Vizzu.default(myVizzu_fb961b9).initializing);\n",
       "    myVizzu_62f89f0.parentNode.insertBefore(myVizzu_fb961b9, myVizzu_62f89f0);\n",
       "</script>"
      ]
     },
     "metadata": {},
     "output_type": "display_data"
    },
    {
     "data": {
      "text/html": [
       "<script id=\"myVizzu_89a90ef\">\n",
       "    let display_89a90ef = myVizzu_89a90ef.parentNode.parentNode.style.display;\n",
       "    myVizzu_89a90ef.parentNode.parentNode.style.display = \"none\";\n",
       "    chart_fb961b9 = chart_fb961b9.then(chart => {\n",
       "        if (myVizzu_fb961b9.parentNode && myVizzu_fb961b9.parentNode.parentNode) {\n",
       "            myVizzu_fb961b9.parentNode.parentNode.style.display = \"none\";\n",
       "        }\n",
       "        myVizzu_89a90ef.parentNode.parentNode.style.display = display_89a90ef;\n",
       "        myVizzu_89a90ef.parentNode.insertBefore(myVizzu_fb961b9, myVizzu_89a90ef);\n",
       "        if (!document.inhibitScroll && true) {\n",
       "            myVizzu_fb961b9.scrollIntoView({behavior: \"auto\", block: \"center\"});\n",
       "        }\n",
       "        return chart.animate({\"data\": {\"series\": [{\"name\": \"hair\", \"type\": \"dimension\", \"values\": [\"hair\", \"hair\", \"not_hair\", \"hair\", \"hair\", \"hair\", \"hair\", \"not_hair\", \"not_hair\", \"hair\", \"hair\", \"not_hair\", \"not_hair\", \"not_hair\", \"not_hair\", \"not_hair\", \"not_hair\", \"hair\", \"not_hair\", \"not_hair\", \"not_hair\", \"not_hair\", \"hair\", \"not_hair\", \"not_hair\", \"not_hair\", \"not_hair\", \"hair\", \"hair\", \"hair\", \"not_hair\", \"hair\", \"hair\", \"not_hair\", \"not_hair\", \"hair\", \"hair\", \"not_hair\", \"not_hair\", \"hair\", \"hair\", \"not_hair\", \"not_hair\", \"not_hair\", \"hair\", \"hair\", \"not_hair\", \"hair\", \"hair\", \"hair\", \"hair\", \"hair\", \"not_hair\", \"not_hair\", \"hair\", \"hair\", \"not_hair\", \"not_hair\", \"not_hair\", \"not_hair\", \"not_hair\", \"not_hair\", \"not_hair\", \"hair\", \"hair\", \"hair\", \"not_hair\", \"hair\", \"hair\", \"hair\", \"hair\", \"not_hair\", \"not_hair\", \"not_hair\", \"hair\", \"hair\", \"not_hair\", \"not_hair\", \"not_hair\", \"not_hair\", \"not_hair\", \"not_hair\", \"not_hair\", \"not_hair\", \"hair\", \"not_hair\", \"not_hair\", \"not_hair\", \"not_hair\", \"not_hair\", \"not_hair\", \"not_hair\", \"not_hair\", \"hair\", \"hair\", \"not_hair\", \"hair\", \"hair\", \"hair\", \"not_hair\", \"not_hair\"]}, {\"name\": \"feathers\", \"type\": \"dimension\", \"values\": [\"not_feathers\", \"not_feathers\", \"not_feathers\", \"not_feathers\", \"not_feathers\", \"not_feathers\", \"not_feathers\", \"not_feathers\", \"not_feathers\", \"not_feathers\", \"not_feathers\", \"feathers\", \"not_feathers\", \"not_feathers\", \"not_feathers\", \"not_feathers\", \"feathers\", \"not_feathers\", \"not_feathers\", \"not_feathers\", \"feathers\", \"feathers\", \"not_feathers\", \"feathers\", \"not_feathers\", \"not_feathers\", \"not_feathers\", \"not_feathers\", \"not_feathers\", \"not_feathers\", \"not_feathers\", \"not_feathers\", \"not_feathers\", \"feathers\", \"not_feathers\", \"not_feathers\", \"not_feathers\", \"feathers\", \"not_feathers\", \"not_feathers\", \"not_feathers\", \"feathers\", \"not_feathers\", \"feathers\", \"not_feathers\", \"not_feathers\", \"not_feathers\", \"not_feathers\", \"not_feathers\", \"not_feathers\", \"not_feathers\", \"not_feathers\", \"not_feathers\", \"not_feathers\", \"not_feathers\", \"not_feathers\", \"feathers\", \"feathers\", \"feathers\", \"feathers\", \"not_feathers\", \"not_feathers\", \"not_feathers\", \"not_feathers\", \"not_feathers\", \"not_feathers\", \"not_feathers\", \"not_feathers\", \"not_feathers\", \"not_feathers\", \"not_feathers\", \"feathers\", \"not_feathers\", \"not_feathers\", \"not_feathers\", \"not_feathers\", \"not_feathers\", \"not_feathers\", \"feathers\", \"feathers\", \"not_feathers\", \"not_feathers\", \"not_feathers\", \"feathers\", \"not_feathers\", \"not_feathers\", \"not_feathers\", \"feathers\", \"not_feathers\", \"not_feathers\", \"not_feathers\", \"not_feathers\", \"not_feathers\", \"not_feathers\", \"not_feathers\", \"feathers\", \"not_feathers\", \"not_feathers\", \"not_feathers\", \"not_feathers\", \"feathers\"]}, {\"name\": \"eggs\", \"type\": \"dimension\", \"values\": [\"not_eggs\", \"not_eggs\", \"eggs\", \"not_eggs\", \"not_eggs\", \"not_eggs\", \"not_eggs\", \"eggs\", \"eggs\", \"not_eggs\", \"not_eggs\", \"eggs\", \"eggs\", \"eggs\", \"eggs\", \"eggs\", \"eggs\", \"not_eggs\", \"eggs\", \"not_eggs\", \"eggs\", \"eggs\", \"not_eggs\", \"eggs\", \"eggs\", \"eggs\", \"eggs\", \"not_eggs\", \"not_eggs\", \"not_eggs\", \"eggs\", \"not_eggs\", \"not_eggs\", \"eggs\", \"eggs\", \"not_eggs\", \"not_eggs\", \"eggs\", \"eggs\", \"eggs\", \"eggs\", \"eggs\", \"eggs\", \"eggs\", \"not_eggs\", \"not_eggs\", \"eggs\", \"not_eggs\", \"not_eggs\", \"not_eggs\", \"not_eggs\", \"eggs\", \"eggs\", \"eggs\", \"not_eggs\", \"not_eggs\", \"eggs\", \"eggs\", \"eggs\", \"eggs\", \"eggs\", \"eggs\", \"eggs\", \"eggs\", \"not_eggs\", \"not_eggs\", \"not_eggs\", \"not_eggs\", \"not_eggs\", \"not_eggs\", \"not_eggs\", \"eggs\", \"not_eggs\", \"eggs\", \"not_eggs\", \"not_eggs\", \"not_eggs\", \"eggs\", \"eggs\", \"eggs\", \"eggs\", \"eggs\", \"eggs\", \"eggs\", \"not_eggs\", \"eggs\", \"eggs\", \"eggs\", \"eggs\", \"eggs\", \"eggs\", \"eggs\", \"eggs\", \"not_eggs\", \"not_eggs\", \"eggs\", \"not_eggs\", \"eggs\", \"not_eggs\", \"eggs\", \"eggs\"]}, {\"name\": \"milk\", \"type\": \"dimension\", \"values\": [\"milk\", \"milk\", \"not_milk\", \"milk\", \"milk\", \"milk\", \"milk\", \"not_milk\", \"not_milk\", \"milk\", \"milk\", \"not_milk\", \"not_milk\", \"not_milk\", \"not_milk\", \"not_milk\", \"not_milk\", \"milk\", \"not_milk\", \"milk\", \"not_milk\", \"not_milk\", \"milk\", \"not_milk\", \"not_milk\", \"not_milk\", \"not_milk\", \"milk\", \"milk\", \"milk\", \"not_milk\", \"milk\", \"milk\", \"not_milk\", \"not_milk\", \"milk\", \"milk\", \"not_milk\", \"not_milk\", \"not_milk\", \"not_milk\", \"not_milk\", \"not_milk\", \"not_milk\", \"milk\", \"milk\", \"not_milk\", \"milk\", \"milk\", \"milk\", \"milk\", \"not_milk\", \"not_milk\", \"not_milk\", \"milk\", \"milk\", \"not_milk\", \"not_milk\", \"not_milk\", \"not_milk\", \"not_milk\", \"not_milk\", \"not_milk\", \"milk\", \"milk\", \"milk\", \"milk\", \"milk\", \"milk\", \"milk\", \"milk\", \"not_milk\", \"not_milk\", \"not_milk\", \"milk\", \"milk\", \"not_milk\", \"not_milk\", \"not_milk\", \"not_milk\", \"not_milk\", \"not_milk\", \"not_milk\", \"not_milk\", \"milk\", \"not_milk\", \"not_milk\", \"not_milk\", \"not_milk\", \"not_milk\", \"not_milk\", \"not_milk\", \"not_milk\", \"milk\", \"milk\", \"not_milk\", \"milk\", \"not_milk\", \"milk\", \"not_milk\", \"not_milk\"]}, {\"name\": \"airborne\", \"type\": \"dimension\", \"values\": [\"not_airborne\", \"not_airborne\", \"not_airborne\", \"not_airborne\", \"not_airborne\", \"not_airborne\", \"not_airborne\", \"not_airborne\", \"not_airborne\", \"not_airborne\", \"not_airborne\", \"airborne\", \"not_airborne\", \"not_airborne\", \"not_airborne\", \"not_airborne\", \"airborne\", \"not_airborne\", \"not_airborne\", \"not_airborne\", \"airborne\", \"airborne\", \"not_airborne\", \"airborne\", \"not_airborne\", \"not_airborne\", \"not_airborne\", \"airborne\", \"not_airborne\", \"not_airborne\", \"airborne\", \"not_airborne\", \"not_airborne\", \"airborne\", \"not_airborne\", \"not_airborne\", \"not_airborne\", \"airborne\", \"not_airborne\", \"airborne\", \"airborne\", \"not_airborne\", \"airborne\", \"airborne\", \"not_airborne\", \"not_airborne\", \"not_airborne\", \"not_airborne\", \"not_airborne\", \"not_airborne\", \"not_airborne\", \"airborne\", \"not_airborne\", \"not_airborne\", \"not_airborne\", \"not_airborne\", \"not_airborne\", \"airborne\", \"not_airborne\", \"airborne\", \"not_airborne\", \"not_airborne\", \"not_airborne\", \"not_airborne\", \"not_airborne\", \"not_airborne\", \"not_airborne\", \"not_airborne\", \"not_airborne\", \"not_airborne\", \"not_airborne\", \"not_airborne\", \"not_airborne\", \"not_airborne\", \"not_airborne\", \"not_airborne\", \"not_airborne\", \"not_airborne\", \"airborne\", \"airborne\", \"not_airborne\", \"not_airborne\", \"not_airborne\", \"airborne\", \"not_airborne\", \"not_airborne\", \"not_airborne\", \"airborne\", \"not_airborne\", \"not_airborne\", \"not_airborne\", \"not_airborne\", \"not_airborne\", \"airborne\", \"not_airborne\", \"airborne\", \"not_airborne\", \"airborne\", \"not_airborne\", \"not_airborne\", \"airborne\"]}, {\"name\": \"aquatic\", \"type\": \"dimension\", \"values\": [\"not_aquatic\", \"not_aquatic\", \"aquatic\", \"not_aquatic\", \"not_aquatic\", \"not_aquatic\", \"not_aquatic\", \"aquatic\", \"aquatic\", \"not_aquatic\", \"not_aquatic\", \"not_aquatic\", \"aquatic\", \"not_aquatic\", \"aquatic\", \"aquatic\", \"not_aquatic\", \"not_aquatic\", \"aquatic\", \"aquatic\", \"not_aquatic\", \"aquatic\", \"not_aquatic\", \"not_aquatic\", \"not_aquatic\", \"aquatic\", \"aquatic\", \"not_aquatic\", \"not_aquatic\", \"not_aquatic\", \"not_aquatic\", \"not_aquatic\", \"not_aquatic\", \"aquatic\", \"aquatic\", \"not_aquatic\", \"not_aquatic\", \"not_aquatic\", \"aquatic\", \"not_aquatic\", \"not_aquatic\", \"not_aquatic\", \"not_aquatic\", \"not_aquatic\", \"not_aquatic\", \"not_aquatic\", \"aquatic\", \"not_aquatic\", \"aquatic\", \"not_aquatic\", \"not_aquatic\", \"not_aquatic\", \"aquatic\", \"aquatic\", \"not_aquatic\", \"not_aquatic\", \"not_aquatic\", \"not_aquatic\", \"aquatic\", \"not_aquatic\", \"aquatic\", \"aquatic\", \"not_aquatic\", \"aquatic\", \"not_aquatic\", \"not_aquatic\", \"aquatic\", \"not_aquatic\", \"not_aquatic\", \"not_aquatic\", \"not_aquatic\", \"not_aquatic\", \"not_aquatic\", \"aquatic\", \"aquatic\", \"aquatic\", \"aquatic\", \"aquatic\", \"aquatic\", \"aquatic\", \"not_aquatic\", \"not_aquatic\", \"aquatic\", \"not_aquatic\", \"not_aquatic\", \"aquatic\", \"aquatic\", \"aquatic\", \"not_aquatic\", \"aquatic\", \"not_aquatic\", \"not_aquatic\", \"aquatic\", \"not_aquatic\", \"not_aquatic\", \"not_aquatic\", \"not_aquatic\", \"not_aquatic\", \"not_aquatic\", \"not_aquatic\", \"not_aquatic\"]}, {\"name\": \"predator\", \"type\": \"dimension\", \"values\": [\"predator\", \"not_predator\", \"predator\", \"predator\", \"predator\", \"not_predator\", \"not_predator\", \"not_predator\", \"predator\", \"not_predator\", \"predator\", \"not_predator\", \"predator\", \"predator\", \"predator\", \"predator\", \"predator\", \"not_predator\", \"predator\", \"predator\", \"not_predator\", \"not_predator\", \"not_predator\", \"not_predator\", \"not_predator\", \"predator\", \"predator\", \"not_predator\", \"not_predator\", \"predator\", \"not_predator\", \"not_predator\", \"not_predator\", \"predator\", \"not_predator\", \"not_predator\", \"not_predator\", \"predator\", \"predator\", \"not_predator\", \"not_predator\", \"predator\", \"predator\", \"not_predator\", \"predator\", \"predator\", \"predator\", \"predator\", \"predator\", \"predator\", \"predator\", \"not_predator\", \"predator\", \"predator\", \"predator\", \"not_predator\", \"not_predator\", \"not_predator\", \"predator\", \"not_predator\", \"predator\", \"predator\", \"predator\", \"predator\", \"predator\", \"not_predator\", \"predator\", \"predator\", \"predator\", \"predator\", \"not_predator\", \"predator\", \"predator\", \"not_predator\", \"predator\", \"predator\", \"predator\", \"predator\", \"predator\", \"predator\", \"predator\", \"not_predator\", \"not_predator\", \"not_predator\", \"not_predator\", \"predator\", \"predator\", \"not_predator\", \"not_predator\", \"not_predator\", \"not_predator\", \"predator\", \"predator\", \"not_predator\", \"not_predator\", \"predator\", \"not_predator\", \"not_predator\", \"predator\", \"not_predator\", \"not_predator\"]}, {\"name\": \"toothed\", \"type\": \"dimension\", \"values\": [\"toothed\", \"toothed\", \"toothed\", \"toothed\", \"toothed\", \"toothed\", \"toothed\", \"toothed\", \"toothed\", \"toothed\", \"toothed\", \"not_toothed\", \"toothed\", \"not_toothed\", \"not_toothed\", \"not_toothed\", \"not_toothed\", \"toothed\", \"toothed\", \"toothed\", \"not_toothed\", \"not_toothed\", \"toothed\", \"not_toothed\", \"not_toothed\", \"toothed\", \"toothed\", \"toothed\", \"toothed\", \"toothed\", \"not_toothed\", \"toothed\", \"toothed\", \"not_toothed\", \"toothed\", \"toothed\", \"toothed\", \"not_toothed\", \"toothed\", \"not_toothed\", \"not_toothed\", \"not_toothed\", \"not_toothed\", \"not_toothed\", \"toothed\", \"toothed\", \"not_toothed\", \"toothed\", \"toothed\", \"toothed\", \"toothed\", \"not_toothed\", \"toothed\", \"not_toothed\", \"toothed\", \"toothed\", \"not_toothed\", \"not_toothed\", \"not_toothed\", \"not_toothed\", \"toothed\", \"toothed\", \"toothed\", \"not_toothed\", \"toothed\", \"toothed\", \"toothed\", \"toothed\", \"toothed\", \"toothed\", \"toothed\", \"not_toothed\", \"not_toothed\", \"toothed\", \"toothed\", \"toothed\", \"toothed\", \"not_toothed\", \"not_toothed\", \"not_toothed\", \"toothed\", \"not_toothed\", \"toothed\", \"not_toothed\", \"toothed\", \"not_toothed\", \"toothed\", \"not_toothed\", \"not_toothed\", \"toothed\", \"not_toothed\", \"toothed\", \"toothed\", \"toothed\", \"toothed\", \"not_toothed\", \"toothed\", \"not_toothed\", \"toothed\", \"not_toothed\", \"not_toothed\"]}, {\"name\": \"backbone\", \"type\": \"dimension\", \"values\": [\"backbone\", \"backbone\", \"backbone\", \"backbone\", \"backbone\", \"backbone\", \"backbone\", \"backbone\", \"backbone\", \"backbone\", \"backbone\", \"backbone\", \"backbone\", \"not_backbone\", \"not_backbone\", \"not_backbone\", \"backbone\", \"backbone\", \"backbone\", \"backbone\", \"backbone\", \"backbone\", \"backbone\", \"backbone\", \"not_backbone\", \"backbone\", \"backbone\", \"backbone\", \"backbone\", \"backbone\", \"not_backbone\", \"backbone\", \"backbone\", \"backbone\", \"backbone\", \"backbone\", \"backbone\", \"backbone\", \"backbone\", \"not_backbone\", \"not_backbone\", \"backbone\", \"not_backbone\", \"backbone\", \"backbone\", \"backbone\", \"not_backbone\", \"backbone\", \"backbone\", \"backbone\", \"backbone\", \"not_backbone\", \"backbone\", \"not_backbone\", \"backbone\", \"backbone\", \"backbone\", \"backbone\", \"backbone\", \"backbone\", \"backbone\", \"backbone\", \"backbone\", \"backbone\", \"backbone\", \"backbone\", \"backbone\", \"backbone\", \"backbone\", \"backbone\", \"backbone\", \"backbone\", \"not_backbone\", \"backbone\", \"backbone\", \"backbone\", \"backbone\", \"not_backbone\", \"backbone\", \"backbone\", \"backbone\", \"not_backbone\", \"backbone\", \"backbone\", \"backbone\", \"not_backbone\", \"backbone\", \"backbone\", \"not_backbone\", \"backbone\", \"backbone\", \"backbone\", \"backbone\", \"backbone\", \"backbone\", \"backbone\", \"backbone\", \"not_backbone\", \"backbone\", \"not_backbone\", \"backbone\"]}, {\"name\": \"breathes\", \"type\": \"dimension\", \"values\": [\"breathes\", \"breathes\", \"not_breathes\", \"breathes\", \"breathes\", \"breathes\", \"breathes\", \"not_breathes\", \"not_breathes\", \"breathes\", \"breathes\", \"breathes\", \"not_breathes\", \"not_breathes\", \"not_breathes\", \"not_breathes\", \"breathes\", \"breathes\", \"not_breathes\", \"breathes\", \"breathes\", \"breathes\", \"breathes\", \"breathes\", \"breathes\", \"breathes\", \"breathes\", \"breathes\", \"breathes\", \"breathes\", \"breathes\", \"breathes\", \"breathes\", \"breathes\", \"not_breathes\", \"breathes\", \"breathes\", \"breathes\", \"not_breathes\", \"breathes\", \"breathes\", \"breathes\", \"breathes\", \"breathes\", \"breathes\", \"breathes\", \"not_breathes\", \"breathes\", \"breathes\", \"breathes\", \"breathes\", \"breathes\", \"breathes\", \"not_breathes\", \"breathes\", \"breathes\", \"breathes\", \"breathes\", \"breathes\", \"breathes\", \"not_breathes\", \"not_breathes\", \"breathes\", \"breathes\", \"breathes\", \"breathes\", \"breathes\", \"breathes\", \"breathes\", \"breathes\", \"breathes\", \"breathes\", \"breathes\", \"not_breathes\", \"breathes\", \"breathes\", \"not_breathes\", \"not_breathes\", \"breathes\", \"breathes\", \"breathes\", \"breathes\", \"not_breathes\", \"breathes\", \"breathes\", \"not_breathes\", \"not_breathes\", \"breathes\", \"breathes\", \"breathes\", \"breathes\", \"breathes\", \"not_breathes\", \"breathes\", \"breathes\", \"breathes\", \"breathes\", \"breathes\", \"breathes\", \"breathes\", \"breathes\"]}, {\"name\": \"venomous\", \"type\": \"dimension\", \"values\": [\"not_venomous\", \"not_venomous\", \"not_venomous\", \"not_venomous\", \"not_venomous\", \"not_venomous\", \"not_venomous\", \"not_venomous\", \"not_venomous\", \"not_venomous\", \"not_venomous\", \"not_venomous\", \"not_venomous\", \"not_venomous\", \"not_venomous\", \"not_venomous\", \"not_venomous\", \"not_venomous\", \"not_venomous\", \"not_venomous\", \"not_venomous\", \"not_venomous\", \"not_venomous\", \"not_venomous\", \"not_venomous\", \"not_venomous\", \"venomous\", \"not_venomous\", \"not_venomous\", \"not_venomous\", \"not_venomous\", \"not_venomous\", \"not_venomous\", \"not_venomous\", \"not_venomous\", \"not_venomous\", \"not_venomous\", \"not_venomous\", \"not_venomous\", \"venomous\", \"not_venomous\", \"not_venomous\", \"not_venomous\", \"not_venomous\", \"not_venomous\", \"not_venomous\", \"not_venomous\", \"not_venomous\", \"not_venomous\", \"not_venomous\", \"not_venomous\", \"not_venomous\", \"not_venomous\", \"not_venomous\", \"not_venomous\", \"not_venomous\", \"not_venomous\", \"not_venomous\", \"not_venomous\", \"not_venomous\", \"not_venomous\", \"not_venomous\", \"venomous\", \"not_venomous\", \"not_venomous\", \"not_venomous\", \"not_venomous\", \"not_venomous\", \"not_venomous\", \"not_venomous\", \"not_venomous\", \"not_venomous\", \"venomous\", \"not_venomous\", \"not_venomous\", \"not_venomous\", \"venomous\", \"venomous\", \"not_venomous\", \"not_venomous\", \"not_venomous\", \"not_venomous\", \"not_venomous\", \"not_venomous\", \"not_venomous\", \"not_venomous\", \"venomous\", \"not_venomous\", \"not_venomous\", \"not_venomous\", \"not_venomous\", \"not_venomous\", \"not_venomous\", \"not_venomous\", \"not_venomous\", \"not_venomous\", \"not_venomous\", \"venomous\", \"not_venomous\", \"not_venomous\", \"not_venomous\"]}, {\"name\": \"fins\", \"type\": \"dimension\", \"values\": [\"not_fins\", \"not_fins\", \"fins\", \"not_fins\", \"not_fins\", \"not_fins\", \"not_fins\", \"fins\", \"fins\", \"not_fins\", \"not_fins\", \"not_fins\", \"fins\", \"not_fins\", \"not_fins\", \"not_fins\", \"not_fins\", \"not_fins\", \"fins\", \"fins\", \"not_fins\", \"not_fins\", \"not_fins\", \"not_fins\", \"not_fins\", \"not_fins\", \"not_fins\", \"not_fins\", \"not_fins\", \"not_fins\", \"not_fins\", \"not_fins\", \"not_fins\", \"not_fins\", \"fins\", \"not_fins\", \"not_fins\", \"not_fins\", \"fins\", \"not_fins\", \"not_fins\", \"not_fins\", \"not_fins\", \"not_fins\", \"not_fins\", \"not_fins\", \"not_fins\", \"not_fins\", \"not_fins\", \"not_fins\", \"not_fins\", \"not_fins\", \"not_fins\", \"not_fins\", \"not_fins\", \"not_fins\", \"not_fins\", \"not_fins\", \"not_fins\", \"not_fins\", \"fins\", \"fins\", \"not_fins\", \"not_fins\", \"not_fins\", \"not_fins\", \"fins\", \"not_fins\", \"not_fins\", \"not_fins\", \"not_fins\", \"not_fins\", \"not_fins\", \"fins\", \"fins\", \"fins\", \"not_fins\", \"not_fins\", \"not_fins\", \"not_fins\", \"not_fins\", \"not_fins\", \"fins\", \"not_fins\", \"not_fins\", \"not_fins\", \"fins\", \"not_fins\", \"not_fins\", \"not_fins\", \"not_fins\", \"not_fins\", \"fins\", \"not_fins\", \"not_fins\", \"not_fins\", \"not_fins\", \"not_fins\", \"not_fins\", \"not_fins\", \"not_fins\"]}, {\"name\": \"legs\", \"type\": \"measure\", \"values\": [4.0, 4.0, 0.0, 4.0, 4.0, 4.0, 4.0, 0.0, 0.0, 4.0, 4.0, 2.0, 0.0, 0.0, 4.0, 6.0, 2.0, 4.0, 0.0, 0.0, 2.0, 2.0, 4.0, 2.0, 6.0, 4.0, 4.0, 2.0, 4.0, 2.0, 6.0, 4.0, 2.0, 2.0, 0.0, 4.0, 4.0, 2.0, 0.0, 6.0, 6.0, 2.0, 6.0, 2.0, 4.0, 4.0, 6.0, 4.0, 4.0, 4.0, 4.0, 6.0, 4.0, 8.0, 4.0, 4.0, 2.0, 2.0, 2.0, 2.0, 0.0, 0.0, 0.0, 4.0, 4.0, 4.0, 0.0, 4.0, 4.0, 4.0, 4.0, 2.0, 8.0, 0.0, 0.0, 2.0, 0.0, 0.0, 2.0, 2.0, 0.0, 0.0, 0.0, 2.0, 2.0, 5.0, 0.0, 2.0, 6.0, 4.0, 4.0, 4.0, 0.0, 2.0, 4.0, 2.0, 2.0, 6.0, 4.0, 0.0, 2.0]}, {\"name\": \"tail\", \"type\": \"dimension\", \"values\": [\"not_tail\", \"tail\", \"tail\", \"not_tail\", \"tail\", \"tail\", \"tail\", \"tail\", \"tail\", \"not_tail\", \"tail\", \"tail\", \"tail\", \"not_tail\", \"not_tail\", \"not_tail\", \"tail\", \"tail\", \"tail\", \"tail\", \"tail\", \"tail\", \"tail\", \"tail\", \"not_tail\", \"not_tail\", \"not_tail\", \"tail\", \"tail\", \"not_tail\", \"not_tail\", \"tail\", \"not_tail\", \"tail\", \"tail\", \"tail\", \"tail\", \"tail\", \"tail\", \"not_tail\", \"not_tail\", \"tail\", \"not_tail\", \"tail\", \"tail\", \"tail\", \"not_tail\", \"tail\", \"tail\", \"tail\", \"tail\", \"not_tail\", \"tail\", \"not_tail\", \"tail\", \"tail\", \"tail\", \"tail\", \"tail\", \"tail\", \"tail\", \"tail\", \"tail\", \"tail\", \"tail\", \"tail\", \"tail\", \"tail\", \"tail\", \"tail\", \"tail\", \"tail\", \"tail\", \"tail\", \"not_tail\", \"tail\", \"tail\", \"not_tail\", \"tail\", \"tail\", \"tail\", \"not_tail\", \"tail\", \"tail\", \"tail\", \"not_tail\", \"tail\", \"tail\", \"not_tail\", \"not_tail\", \"tail\", \"tail\", \"tail\", \"tail\", \"tail\", \"tail\", \"tail\", \"not_tail\", \"tail\", \"not_tail\", \"tail\"]}, {\"name\": \"domestic\", \"type\": \"dimension\", \"values\": [\"not_domestic\", \"not_domestic\", \"not_domestic\", \"not_domestic\", \"not_domestic\", \"not_domestic\", \"domestic\", \"domestic\", \"not_domestic\", \"domestic\", \"not_domestic\", \"domestic\", \"not_domestic\", \"not_domestic\", \"not_domestic\", \"not_domestic\", \"not_domestic\", \"not_domestic\", \"not_domestic\", \"not_domestic\", \"domestic\", \"not_domestic\", \"not_domestic\", \"not_domestic\", \"not_domestic\", \"not_domestic\", \"not_domestic\", \"not_domestic\", \"not_domestic\", \"domestic\", \"not_domestic\", \"domestic\", \"not_domestic\", \"not_domestic\", \"not_domestic\", \"domestic\", \"not_domestic\", \"not_domestic\", \"not_domestic\", \"domestic\", \"not_domestic\", \"not_domestic\", \"not_domestic\", \"not_domestic\", \"not_domestic\", \"not_domestic\", \"not_domestic\", \"not_domestic\", \"not_domestic\", \"not_domestic\", \"not_domestic\", \"not_domestic\", \"not_domestic\", \"not_domestic\", \"not_domestic\", \"not_domestic\", \"not_domestic\", \"domestic\", \"not_domestic\", \"not_domestic\", \"not_domestic\", \"not_domestic\", \"not_domestic\", \"not_domestic\", \"not_domestic\", \"domestic\", \"not_domestic\", \"not_domestic\", \"domestic\", \"not_domestic\", \"domestic\", \"not_domestic\", \"not_domestic\", \"not_domestic\", \"not_domestic\", \"not_domestic\", \"not_domestic\", \"not_domestic\", \"not_domestic\", \"not_domestic\", \"not_domestic\", \"not_domestic\", \"not_domestic\", \"not_domestic\", \"not_domestic\", \"not_domestic\", \"not_domestic\", \"not_domestic\", \"not_domestic\", \"not_domestic\", \"not_domestic\", \"not_domestic\", \"not_domestic\", \"not_domestic\", \"not_domestic\", \"not_domestic\", \"not_domestic\", \"not_domestic\", \"not_domestic\", \"not_domestic\", \"not_domestic\"]}, {\"name\": \"catsize\", \"type\": \"dimension\", \"values\": [\"catsize\", \"catsize\", \"not_catsize\", \"catsize\", \"catsize\", \"catsize\", \"catsize\", \"not_catsize\", \"not_catsize\", \"not_catsize\", \"catsize\", \"not_catsize\", \"not_catsize\", \"not_catsize\", \"not_catsize\", \"not_catsize\", \"not_catsize\", \"catsize\", \"catsize\", \"catsize\", \"not_catsize\", \"not_catsize\", \"catsize\", \"catsize\", \"not_catsize\", \"not_catsize\", \"not_catsize\", \"not_catsize\", \"catsize\", \"catsize\", \"not_catsize\", \"catsize\", \"catsize\", \"not_catsize\", \"not_catsize\", \"not_catsize\", \"not_catsize\", \"not_catsize\", \"not_catsize\", \"not_catsize\", \"not_catsize\", \"not_catsize\", \"not_catsize\", \"not_catsize\", \"catsize\", \"catsize\", \"not_catsize\", \"catsize\", \"catsize\", \"not_catsize\", \"catsize\", \"not_catsize\", \"not_catsize\", \"catsize\", \"not_catsize\", \"catsize\", \"catsize\", \"not_catsize\", \"catsize\", \"not_catsize\", \"catsize\", \"not_catsize\", \"not_catsize\", \"catsize\", \"catsize\", \"catsize\", \"catsize\", \"catsize\", \"catsize\", \"catsize\", \"catsize\", \"catsize\", \"not_catsize\", \"not_catsize\", \"catsize\", \"catsize\", \"not_catsize\", \"not_catsize\", \"not_catsize\", \"not_catsize\", \"not_catsize\", \"not_catsize\", \"not_catsize\", \"not_catsize\", \"not_catsize\", \"not_catsize\", \"catsize\", \"catsize\", \"not_catsize\", \"not_catsize\", \"catsize\", \"not_catsize\", \"catsize\", \"not_catsize\", \"not_catsize\", \"catsize\", \"catsize\", \"not_catsize\", \"catsize\", \"not_catsize\", \"not_catsize\"]}, {\"name\": \"type\", \"type\": \"dimension\", \"values\": [\"mammal\", \"mammal\", \"fish\", \"mammal\", \"mammal\", \"mammal\", \"mammal\", \"fish\", \"fish\", \"mammal\", \"mammal\", \"bird\", \"fish\", \"invertebrate\", \"invertebrate\", \"invertebrate\", \"bird\", \"mammal\", \"fish\", \"mammal\", \"bird\", \"bird\", \"mammal\", \"bird\", \"insect\", \"amphibian\", \"amphibian\", \"mammal\", \"mammal\", \"mammal\", \"insect\", \"mammal\", \"mammal\", \"bird\", \"fish\", \"mammal\", \"mammal\", \"bird\", \"fish\", \"insect\", \"insect\", \"bird\", \"insect\", \"bird\", \"mammal\", \"mammal\", \"invertebrate\", \"mammal\", \"mammal\", \"mammal\", \"mammal\", \"insect\", \"amphibian\", \"invertebrate\", \"mammal\", \"mammal\", \"bird\", \"bird\", \"bird\", \"bird\", \"fish\", \"fish\", \"reptile\", \"mammal\", \"mammal\", \"mammal\", \"mammal\", \"mammal\", \"mammal\", \"mammal\", \"mammal\", \"bird\", \"invertebrate\", \"fish\", \"mammal\", \"mammal\", \"reptile\", \"invertebrate\", \"bird\", \"bird\", \"reptile\", \"invertebrate\", \"fish\", \"bird\", \"mammal\", \"invertebrate\", \"fish\", \"bird\", \"insect\", \"amphibian\", \"reptile\", \"reptile\", \"fish\", \"mammal\", \"mammal\", \"bird\", \"mammal\", \"insect\", \"mammal\", \"invertebrate\", \"bird\"]}, {\"name\": \"Count\", \"type\": \"measure\", \"values\": [1.0, 1.0, 1.0, 1.0, 1.0, 1.0, 1.0, 1.0, 1.0, 1.0, 1.0, 1.0, 1.0, 1.0, 1.0, 1.0, 1.0, 1.0, 1.0, 1.0, 1.0, 1.0, 1.0, 1.0, 1.0, 1.0, 1.0, 1.0, 1.0, 1.0, 1.0, 1.0, 1.0, 1.0, 1.0, 1.0, 1.0, 1.0, 1.0, 1.0, 1.0, 1.0, 1.0, 1.0, 1.0, 1.0, 1.0, 1.0, 1.0, 1.0, 1.0, 1.0, 1.0, 1.0, 1.0, 1.0, 1.0, 1.0, 1.0, 1.0, 1.0, 1.0, 1.0, 1.0, 1.0, 1.0, 1.0, 1.0, 1.0, 1.0, 1.0, 1.0, 1.0, 1.0, 1.0, 1.0, 1.0, 1.0, 1.0, 1.0, 1.0, 1.0, 1.0, 1.0, 1.0, 1.0, 1.0, 1.0, 1.0, 1.0, 1.0, 1.0, 1.0, 1.0, 1.0, 1.0, 1.0, 1.0, 1.0, 1.0, 1.0]}]}});\n",
       "    });\n",
       "</script>"
      ]
     },
     "metadata": {},
     "output_type": "display_data"
    },
    {
     "data": {
      "text/html": [
       "<script id=\"myVizzu_7571e30\">\n",
       "    let display_7571e30 = myVizzu_7571e30.parentNode.parentNode.style.display;\n",
       "    myVizzu_7571e30.parentNode.parentNode.style.display = \"none\";\n",
       "    chart_fb961b9 = chart_fb961b9.then(chart => {\n",
       "        if (myVizzu_fb961b9.parentNode && myVizzu_fb961b9.parentNode.parentNode) {\n",
       "            myVizzu_fb961b9.parentNode.parentNode.style.display = \"none\";\n",
       "        }\n",
       "        myVizzu_7571e30.parentNode.parentNode.style.display = display_7571e30;\n",
       "        myVizzu_7571e30.parentNode.insertBefore(myVizzu_fb961b9, myVizzu_7571e30);\n",
       "        if (!document.inhibitScroll && true) {\n",
       "            myVizzu_fb961b9.scrollIntoView({behavior: \"auto\", block: \"center\"});\n",
       "        }\n",
       "        return chart.animate({\"config\": {\"channels\": {\"x\": \"type\", \"y\": \"legs\", \"color\": \"type\", \"label\": \"type\"}, \"title\": \"Types of animals\", \"geometry\": \"area\"}});\n",
       "    });\n",
       "</script>"
      ]
     },
     "metadata": {},
     "output_type": "display_data"
    },
    {
     "data": {
      "application/javascript": [
       "\n",
       "            setTimeout(function() {\n",
       "                var nbb_cell_id = 40;\n",
       "                var nbb_unformatted_code = \"chart = Chart()\\nchart.animate(data)\\n\\nchart.animate(\\n    Config(\\n        {\\n            \\\"channels\\\": {\\n                \\\"x\\\": \\\"type\\\",\\n                \\\"y\\\": \\\"legs\\\", \\n                \\\"color\\\": \\\"type\\\",\\n                \\\"label\\\": \\\"type\\\",\\n            },\\n            \\\"title\\\": \\\"Types of animals\\\",\\n            \\\"geometry\\\": \\\"area\\\"\\n        }\\n    ),\\n)\";\n",
       "                var nbb_formatted_code = \"chart = Chart()\\nchart.animate(data)\\n\\nchart.animate(\\n    Config(\\n        {\\n            \\\"channels\\\": {\\n                \\\"x\\\": \\\"type\\\",\\n                \\\"y\\\": \\\"legs\\\",\\n                \\\"color\\\": \\\"type\\\",\\n                \\\"label\\\": \\\"type\\\",\\n            },\\n            \\\"title\\\": \\\"Types of animals\\\",\\n            \\\"geometry\\\": \\\"area\\\",\\n        }\\n    ),\\n)\";\n",
       "                var nbb_cells = Jupyter.notebook.get_cells();\n",
       "                for (var i = 0; i < nbb_cells.length; ++i) {\n",
       "                    if (nbb_cells[i].input_prompt_number == nbb_cell_id) {\n",
       "                        if (nbb_cells[i].get_text() == nbb_unformatted_code) {\n",
       "                             nbb_cells[i].set_text(nbb_formatted_code);\n",
       "                        }\n",
       "                        break;\n",
       "                    }\n",
       "                }\n",
       "            }, 500);\n",
       "            "
      ],
      "text/plain": [
       "<IPython.core.display.Javascript object>"
      ]
     },
     "metadata": {},
     "output_type": "display_data"
    }
   ],
   "source": [
    "chart = Chart()\n",
    "chart.animate(data)\n",
    "\n",
    "chart.animate(\n",
    "    Config(\n",
    "        {\n",
    "            \"channels\": {\n",
    "                \"x\": \"type\",\n",
    "                \"y\": \"legs\", \n",
    "                \"color\": \"type\",\n",
    "                \"label\": \"type\",\n",
    "            },\n",
    "            \"title\": \"Types of animals\",\n",
    "            \"geometry\": \"area\"\n",
    "        }\n",
    "    ),\n",
    ")\n",
    "\n"
   ]
  },
  {
   "cell_type": "code",
   "execution_count": null,
   "id": "a52aa0ab",
   "metadata": {},
   "outputs": [],
   "source": []
  }
 ],
 "metadata": {
  "kernelspec": {
   "display_name": "Python 3 (ipykernel)",
   "language": "python",
   "name": "python3"
  },
  "language_info": {
   "codemirror_mode": {
    "name": "ipython",
    "version": 3
   },
   "file_extension": ".py",
   "mimetype": "text/x-python",
   "name": "python",
   "nbconvert_exporter": "python",
   "pygments_lexer": "ipython3",
   "version": "3.8.10"
  },
  "toc": {
   "base_numbering": 1,
   "nav_menu": {},
   "number_sections": true,
   "sideBar": true,
   "skip_h1_title": false,
   "title_cell": "Table of Contents",
   "title_sidebar": "Contents",
   "toc_cell": false,
   "toc_position": {},
   "toc_section_display": true,
   "toc_window_display": false
  }
 },
 "nbformat": 4,
 "nbformat_minor": 5
}
