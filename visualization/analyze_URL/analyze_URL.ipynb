{
 "cells": [
  {
   "cell_type": "code",
   "execution_count": null,
   "id": "50d846e3",
   "metadata": {
    "ExecuteTime": {
     "end_time": "2022-04-11T01:29:38.099618Z",
     "start_time": "2022-04-11T01:29:34.304934Z"
    }
   },
   "outputs": [],
   "source": [
    "!pip install graphistry==0.20.2 yarl==1.7.0"
   ]
  },
  {
   "cell_type": "markdown",
   "id": "b81f5f24",
   "metadata": {},
   "source": [
    "## Extract Elements from a URL"
   ]
  },
  {
   "cell_type": "code",
   "execution_count": 1,
   "id": "02551abd",
   "metadata": {
    "ExecuteTime": {
     "end_time": "2022-04-13T14:57:00.347070Z",
     "start_time": "2022-04-13T14:57:00.315761Z"
    }
   },
   "outputs": [],
   "source": [
    "from yarl import URL"
   ]
  },
  {
   "cell_type": "code",
   "execution_count": 2,
   "id": "cbd9122b",
   "metadata": {
    "ExecuteTime": {
     "end_time": "2022-04-13T14:57:01.786539Z",
     "start_time": "2022-04-13T14:57:01.780951Z"
    }
   },
   "outputs": [],
   "source": [
    "url = URL(\"https://github.com/search?q=data+science\")"
   ]
  },
  {
   "cell_type": "code",
   "execution_count": 3,
   "id": "51cd2d84",
   "metadata": {
    "ExecuteTime": {
     "end_time": "2022-04-13T14:57:02.186768Z",
     "start_time": "2022-04-13T14:57:02.165735Z"
    }
   },
   "outputs": [
    {
     "data": {
      "text/plain": [
       "'https'"
      ]
     },
     "execution_count": 3,
     "metadata": {},
     "output_type": "execute_result"
    }
   ],
   "source": [
    "url.scheme"
   ]
  },
  {
   "cell_type": "code",
   "execution_count": 4,
   "id": "9f3ce39f",
   "metadata": {
    "ExecuteTime": {
     "end_time": "2022-04-13T14:57:02.573641Z",
     "start_time": "2022-04-13T14:57:02.565111Z"
    }
   },
   "outputs": [
    {
     "data": {
      "text/plain": [
       "'github.com'"
      ]
     },
     "execution_count": 4,
     "metadata": {},
     "output_type": "execute_result"
    }
   ],
   "source": [
    "url.host"
   ]
  },
  {
   "cell_type": "code",
   "execution_count": 5,
   "id": "458217ad",
   "metadata": {
    "ExecuteTime": {
     "end_time": "2022-04-13T14:57:02.971166Z",
     "start_time": "2022-04-13T14:57:02.963718Z"
    }
   },
   "outputs": [
    {
     "data": {
      "text/plain": [
       "'/search'"
      ]
     },
     "execution_count": 5,
     "metadata": {},
     "output_type": "execute_result"
    }
   ],
   "source": [
    "url.path"
   ]
  },
  {
   "cell_type": "code",
   "execution_count": 6,
   "id": "7ce230f8",
   "metadata": {
    "ExecuteTime": {
     "end_time": "2022-04-13T14:57:03.361411Z",
     "start_time": "2022-04-13T14:57:03.357283Z"
    }
   },
   "outputs": [
    {
     "data": {
      "text/plain": [
       "'q=data science'"
      ]
     },
     "execution_count": 6,
     "metadata": {},
     "output_type": "execute_result"
    }
   ],
   "source": [
    "url.query_string"
   ]
  },
  {
   "cell_type": "code",
   "execution_count": 7,
   "id": "8f024c33",
   "metadata": {
    "ExecuteTime": {
     "end_time": "2022-04-13T14:57:03.688669Z",
     "start_time": "2022-04-13T14:57:03.680597Z"
    }
   },
   "outputs": [
    {
     "data": {
      "text/plain": [
       "'contents'"
      ]
     },
     "execution_count": 7,
     "metadata": {},
     "output_type": "execute_result"
    }
   ],
   "source": [
    "url = URL(\"https://github.com/khuyentran1401/Data-science#contents\")\n",
    "url.fragment"
   ]
  },
  {
   "cell_type": "code",
   "execution_count": 8,
   "id": "262ddec7",
   "metadata": {
    "ExecuteTime": {
     "end_time": "2022-04-13T14:57:06.406628Z",
     "start_time": "2022-04-13T14:57:04.686330Z"
    }
   },
   "outputs": [
    {
     "data": {
      "text/html": [
       "<div>\n",
       "<style scoped>\n",
       "    .dataframe tbody tr th:only-of-type {\n",
       "        vertical-align: middle;\n",
       "    }\n",
       "\n",
       "    .dataframe tbody tr th {\n",
       "        vertical-align: top;\n",
       "    }\n",
       "\n",
       "    .dataframe thead th {\n",
       "        text-align: right;\n",
       "    }\n",
       "</style>\n",
       "<table border=\"1\" class=\"dataframe\">\n",
       "  <thead>\n",
       "    <tr style=\"text-align: right;\">\n",
       "      <th></th>\n",
       "      <th>url</th>\n",
       "      <th>Type</th>\n",
       "    </tr>\n",
       "  </thead>\n",
       "  <tbody>\n",
       "    <tr>\n",
       "      <th>1</th>\n",
       "      <td>http://www.liquidgeneration.com/</td>\n",
       "      <td>Adult</td>\n",
       "    </tr>\n",
       "    <tr>\n",
       "      <th>2</th>\n",
       "      <td>http://www.onlineanime.org/</td>\n",
       "      <td>Adult</td>\n",
       "    </tr>\n",
       "    <tr>\n",
       "      <th>3</th>\n",
       "      <td>http://www.ceres.dti.ne.jp/~nekoi/senno/senfir...</td>\n",
       "      <td>Adult</td>\n",
       "    </tr>\n",
       "    <tr>\n",
       "      <th>4</th>\n",
       "      <td>http://www.galeon.com/kmh/</td>\n",
       "      <td>Adult</td>\n",
       "    </tr>\n",
       "    <tr>\n",
       "      <th>5</th>\n",
       "      <td>http://www.fanworkrecs.com/</td>\n",
       "      <td>Adult</td>\n",
       "    </tr>\n",
       "    <tr>\n",
       "      <th>...</th>\n",
       "      <td>...</td>\n",
       "      <td>...</td>\n",
       "    </tr>\n",
       "    <tr>\n",
       "      <th>1562974</th>\n",
       "      <td>http://www.maxpreps.com/</td>\n",
       "      <td>Sports</td>\n",
       "    </tr>\n",
       "    <tr>\n",
       "      <th>1562975</th>\n",
       "      <td>http://www.myscore.com/</td>\n",
       "      <td>Sports</td>\n",
       "    </tr>\n",
       "    <tr>\n",
       "      <th>1562976</th>\n",
       "      <td>http://sportsillustrated.cnn.com/highschool</td>\n",
       "      <td>Sports</td>\n",
       "    </tr>\n",
       "    <tr>\n",
       "      <th>1562977</th>\n",
       "      <td>http://rss.cnn.com/rss/si_highschool?format=xml</td>\n",
       "      <td>Sports</td>\n",
       "    </tr>\n",
       "    <tr>\n",
       "      <th>1562978</th>\n",
       "      <td>http://www.usatoday.com/sports/preps/</td>\n",
       "      <td>Sports</td>\n",
       "    </tr>\n",
       "  </tbody>\n",
       "</table>\n",
       "<p>1562978 rows × 2 columns</p>\n",
       "</div>"
      ],
      "text/plain": [
       "                                                       url    Type\n",
       "1                         http://www.liquidgeneration.com/   Adult\n",
       "2                              http://www.onlineanime.org/   Adult\n",
       "3        http://www.ceres.dti.ne.jp/~nekoi/senno/senfir...   Adult\n",
       "4                               http://www.galeon.com/kmh/   Adult\n",
       "5                              http://www.fanworkrecs.com/   Adult\n",
       "...                                                    ...     ...\n",
       "1562974                           http://www.maxpreps.com/  Sports\n",
       "1562975                            http://www.myscore.com/  Sports\n",
       "1562976        http://sportsillustrated.cnn.com/highschool  Sports\n",
       "1562977    http://rss.cnn.com/rss/si_highschool?format=xml  Sports\n",
       "1562978              http://www.usatoday.com/sports/preps/  Sports\n",
       "\n",
       "[1562978 rows x 2 columns]"
      ]
     },
     "execution_count": 8,
     "metadata": {},
     "output_type": "execute_result"
    }
   ],
   "source": [
    "import pandas as pd\n",
    "\n",
    "data = pd.read_csv(\"URL Classification.csv\", names=[\"url\", \"Type\"], index_col=0)\n",
    "data"
   ]
  },
  {
   "cell_type": "code",
   "execution_count": 9,
   "id": "ceb31088",
   "metadata": {
    "ExecuteTime": {
     "end_time": "2022-04-13T14:57:08.760486Z",
     "start_time": "2022-04-13T14:57:08.637882Z"
    }
   },
   "outputs": [
    {
     "data": {
      "text/html": [
       "<div>\n",
       "<style scoped>\n",
       "    .dataframe tbody tr th:only-of-type {\n",
       "        vertical-align: middle;\n",
       "    }\n",
       "\n",
       "    .dataframe tbody tr th {\n",
       "        vertical-align: top;\n",
       "    }\n",
       "\n",
       "    .dataframe thead th {\n",
       "        text-align: right;\n",
       "    }\n",
       "</style>\n",
       "<table border=\"1\" class=\"dataframe\">\n",
       "  <thead>\n",
       "    <tr style=\"text-align: right;\">\n",
       "      <th></th>\n",
       "      <th>url</th>\n",
       "      <th>Type</th>\n",
       "    </tr>\n",
       "  </thead>\n",
       "  <tbody>\n",
       "    <tr>\n",
       "      <th>1308349</th>\n",
       "      <td>http://yorkrite.com/ne/gcram/</td>\n",
       "      <td>Society</td>\n",
       "    </tr>\n",
       "    <tr>\n",
       "      <th>276825</th>\n",
       "      <td>http://www.alliedartistsofamerica.org/</td>\n",
       "      <td>Arts</td>\n",
       "    </tr>\n",
       "    <tr>\n",
       "      <th>1315267</th>\n",
       "      <td>http://www.msstate.edu/org/farmhouse/index.html</td>\n",
       "      <td>Society</td>\n",
       "    </tr>\n",
       "    <tr>\n",
       "      <th>392387</th>\n",
       "      <td>http://www.sunnytec.com.tw/</td>\n",
       "      <td>Business</td>\n",
       "    </tr>\n",
       "    <tr>\n",
       "      <th>1267730</th>\n",
       "      <td>http://www.kabissa.org</td>\n",
       "      <td>Society</td>\n",
       "    </tr>\n",
       "    <tr>\n",
       "      <th>1392788</th>\n",
       "      <td>http://www.newadvent.org/cathen/12134b.htm</td>\n",
       "      <td>Society</td>\n",
       "    </tr>\n",
       "    <tr>\n",
       "      <th>672881</th>\n",
       "      <td>http://www.gamespot.com/ps2/driving/arcticthun...</td>\n",
       "      <td>Games</td>\n",
       "    </tr>\n",
       "    <tr>\n",
       "      <th>1526125</th>\n",
       "      <td>http://www.studsquad.net/</td>\n",
       "      <td>Sports</td>\n",
       "    </tr>\n",
       "    <tr>\n",
       "      <th>1009901</th>\n",
       "      <td>http://www.spacedog.biz</td>\n",
       "      <td>Reference</td>\n",
       "    </tr>\n",
       "    <tr>\n",
       "      <th>330964</th>\n",
       "      <td>http://www.meditrans-japan.com/</td>\n",
       "      <td>Business</td>\n",
       "    </tr>\n",
       "  </tbody>\n",
       "</table>\n",
       "</div>"
      ],
      "text/plain": [
       "                                                       url       Type\n",
       "1308349                      http://yorkrite.com/ne/gcram/    Society\n",
       "276825              http://www.alliedartistsofamerica.org/       Arts\n",
       "1315267    http://www.msstate.edu/org/farmhouse/index.html    Society\n",
       "392387                         http://www.sunnytec.com.tw/   Business\n",
       "1267730                             http://www.kabissa.org    Society\n",
       "1392788         http://www.newadvent.org/cathen/12134b.htm    Society\n",
       "672881   http://www.gamespot.com/ps2/driving/arcticthun...      Games\n",
       "1526125                          http://www.studsquad.net/     Sports\n",
       "1009901                            http://www.spacedog.biz  Reference\n",
       "330964                     http://www.meditrans-japan.com/   Business"
      ]
     },
     "execution_count": 9,
     "metadata": {},
     "output_type": "execute_result"
    }
   ],
   "source": [
    "sample = data.sample(10000, random_state=1)\n",
    "sample.head(10)"
   ]
  },
  {
   "cell_type": "code",
   "execution_count": 10,
   "id": "f6db053c",
   "metadata": {
    "ExecuteTime": {
     "end_time": "2022-04-13T14:57:11.978843Z",
     "start_time": "2022-04-13T14:57:11.732517Z"
    }
   },
   "outputs": [],
   "source": [
    "sample[\"url\"] = sample[\"url\"].apply(lambda url: URL(url))"
   ]
  },
  {
   "cell_type": "code",
   "execution_count": 11,
   "id": "adbdbc98",
   "metadata": {
    "ExecuteTime": {
     "end_time": "2022-04-13T14:57:12.340423Z",
     "start_time": "2022-04-13T14:57:12.060550Z"
    }
   },
   "outputs": [
    {
     "data": {
      "text/html": [
       "<div>\n",
       "<style scoped>\n",
       "    .dataframe tbody tr th:only-of-type {\n",
       "        vertical-align: middle;\n",
       "    }\n",
       "\n",
       "    .dataframe tbody tr th {\n",
       "        vertical-align: top;\n",
       "    }\n",
       "\n",
       "    .dataframe thead th {\n",
       "        text-align: right;\n",
       "    }\n",
       "</style>\n",
       "<table border=\"1\" class=\"dataframe\">\n",
       "  <thead>\n",
       "    <tr style=\"text-align: right;\">\n",
       "      <th></th>\n",
       "      <th>url</th>\n",
       "      <th>Type</th>\n",
       "      <th>host</th>\n",
       "      <th>path</th>\n",
       "      <th>name</th>\n",
       "    </tr>\n",
       "  </thead>\n",
       "  <tbody>\n",
       "    <tr>\n",
       "      <th>1308349</th>\n",
       "      <td>http://yorkrite.com/ne/gcram/</td>\n",
       "      <td>Society</td>\n",
       "      <td>yorkrite.com</td>\n",
       "      <td>/ne/gcram/</td>\n",
       "      <td></td>\n",
       "    </tr>\n",
       "    <tr>\n",
       "      <th>276825</th>\n",
       "      <td>http://www.alliedartistsofamerica.org/</td>\n",
       "      <td>Arts</td>\n",
       "      <td>www.alliedartistsofamerica.org</td>\n",
       "      <td>/</td>\n",
       "      <td></td>\n",
       "    </tr>\n",
       "    <tr>\n",
       "      <th>1315267</th>\n",
       "      <td>http://www.msstate.edu/org/farmhouse/index.html</td>\n",
       "      <td>Society</td>\n",
       "      <td>www.msstate.edu</td>\n",
       "      <td>/org/farmhouse/index.html</td>\n",
       "      <td>index.html</td>\n",
       "    </tr>\n",
       "    <tr>\n",
       "      <th>392387</th>\n",
       "      <td>http://www.sunnytec.com.tw/</td>\n",
       "      <td>Business</td>\n",
       "      <td>www.sunnytec.com.tw</td>\n",
       "      <td>/</td>\n",
       "      <td></td>\n",
       "    </tr>\n",
       "    <tr>\n",
       "      <th>1267730</th>\n",
       "      <td>http://www.kabissa.org</td>\n",
       "      <td>Society</td>\n",
       "      <td>www.kabissa.org</td>\n",
       "      <td>/</td>\n",
       "      <td></td>\n",
       "    </tr>\n",
       "    <tr>\n",
       "      <th>...</th>\n",
       "      <td>...</td>\n",
       "      <td>...</td>\n",
       "      <td>...</td>\n",
       "      <td>...</td>\n",
       "      <td>...</td>\n",
       "    </tr>\n",
       "    <tr>\n",
       "      <th>169463</th>\n",
       "      <td>http://www.naxos.com/composerinfo/3303.htm</td>\n",
       "      <td>Arts</td>\n",
       "      <td>www.naxos.com</td>\n",
       "      <td>/composerinfo/3303.htm</td>\n",
       "      <td>3303.htm</td>\n",
       "    </tr>\n",
       "    <tr>\n",
       "      <th>1094461</th>\n",
       "      <td>http://members.tripod.com/arroweb1/</td>\n",
       "      <td>Science</td>\n",
       "      <td>members.tripod.com</td>\n",
       "      <td>/arroweb1/</td>\n",
       "      <td></td>\n",
       "    </tr>\n",
       "    <tr>\n",
       "      <th>526843</th>\n",
       "      <td>http://www.petroskills.com/</td>\n",
       "      <td>Business</td>\n",
       "      <td>www.petroskills.com</td>\n",
       "      <td>/</td>\n",
       "      <td></td>\n",
       "    </tr>\n",
       "    <tr>\n",
       "      <th>171473</th>\n",
       "      <td>http://www.gregbartholomew.com</td>\n",
       "      <td>Arts</td>\n",
       "      <td>www.gregbartholomew.com</td>\n",
       "      <td>/</td>\n",
       "      <td></td>\n",
       "    </tr>\n",
       "    <tr>\n",
       "      <th>277393</th>\n",
       "      <td>http://www.denysart.com</td>\n",
       "      <td>Arts</td>\n",
       "      <td>www.denysart.com</td>\n",
       "      <td>/</td>\n",
       "      <td></td>\n",
       "    </tr>\n",
       "  </tbody>\n",
       "</table>\n",
       "<p>10000 rows × 5 columns</p>\n",
       "</div>"
      ],
      "text/plain": [
       "                                                     url      Type  \\\n",
       "1308349                    http://yorkrite.com/ne/gcram/   Society   \n",
       "276825            http://www.alliedartistsofamerica.org/      Arts   \n",
       "1315267  http://www.msstate.edu/org/farmhouse/index.html   Society   \n",
       "392387                       http://www.sunnytec.com.tw/  Business   \n",
       "1267730                           http://www.kabissa.org   Society   \n",
       "...                                                  ...       ...   \n",
       "169463        http://www.naxos.com/composerinfo/3303.htm      Arts   \n",
       "1094461              http://members.tripod.com/arroweb1/   Science   \n",
       "526843                       http://www.petroskills.com/  Business   \n",
       "171473                    http://www.gregbartholomew.com      Arts   \n",
       "277393                           http://www.denysart.com      Arts   \n",
       "\n",
       "                                   host                       path        name  \n",
       "1308349                    yorkrite.com                 /ne/gcram/              \n",
       "276825   www.alliedartistsofamerica.org                          /              \n",
       "1315267                 www.msstate.edu  /org/farmhouse/index.html  index.html  \n",
       "392387              www.sunnytec.com.tw                          /              \n",
       "1267730                 www.kabissa.org                          /              \n",
       "...                                 ...                        ...         ...  \n",
       "169463                    www.naxos.com     /composerinfo/3303.htm    3303.htm  \n",
       "1094461              members.tripod.com                 /arroweb1/              \n",
       "526843              www.petroskills.com                          /              \n",
       "171473          www.gregbartholomew.com                          /              \n",
       "277393                 www.denysart.com                          /              \n",
       "\n",
       "[10000 rows x 5 columns]"
      ]
     },
     "execution_count": 11,
     "metadata": {},
     "output_type": "execute_result"
    }
   ],
   "source": [
    "processed = sample.assign(\n",
    "    host=sample.url.apply(lambda url: url.host),\n",
    "    path=sample.url.apply(lambda url: url.path),\n",
    "    name=sample.url.apply(lambda url: url.name),\n",
    ")\n",
    "processed"
   ]
  },
  {
   "cell_type": "code",
   "execution_count": 16,
   "id": "b671a69d",
   "metadata": {
    "ExecuteTime": {
     "end_time": "2022-04-13T15:01:40.303652Z",
     "start_time": "2022-04-13T15:01:40.240012Z"
    }
   },
   "outputs": [
    {
     "data": {
      "text/html": [
       "<div>\n",
       "<style scoped>\n",
       "    .dataframe tbody tr th:only-of-type {\n",
       "        vertical-align: middle;\n",
       "    }\n",
       "\n",
       "    .dataframe tbody tr th {\n",
       "        vertical-align: top;\n",
       "    }\n",
       "\n",
       "    .dataframe thead th {\n",
       "        text-align: right;\n",
       "    }\n",
       "</style>\n",
       "<table border=\"1\" class=\"dataframe\">\n",
       "  <thead>\n",
       "    <tr style=\"text-align: right;\">\n",
       "      <th></th>\n",
       "      <th></th>\n",
       "      <th>count</th>\n",
       "    </tr>\n",
       "    <tr>\n",
       "      <th>Type</th>\n",
       "      <th>host</th>\n",
       "      <th></th>\n",
       "    </tr>\n",
       "  </thead>\n",
       "  <tbody>\n",
       "    <tr>\n",
       "      <th>Society</th>\n",
       "      <th>www.haebea.org.uk</th>\n",
       "      <td>1</td>\n",
       "    </tr>\n",
       "    <tr>\n",
       "      <th>Computers</th>\n",
       "      <th>www.mccannas.com</th>\n",
       "      <td>1</td>\n",
       "    </tr>\n",
       "    <tr>\n",
       "      <th>Sports</th>\n",
       "      <th>kickette.com</th>\n",
       "      <td>1</td>\n",
       "    </tr>\n",
       "    <tr>\n",
       "      <th>Society</th>\n",
       "      <th>www.discountnewagebooks.com</th>\n",
       "      <td>1</td>\n",
       "    </tr>\n",
       "    <tr>\n",
       "      <th>Business</th>\n",
       "      <th>www.valeant.com</th>\n",
       "      <td>1</td>\n",
       "    </tr>\n",
       "    <tr>\n",
       "      <th rowspan=\"2\" valign=\"top\">Recreation</th>\n",
       "      <th>drinkingbuddies.blogspot.com</th>\n",
       "      <td>1</td>\n",
       "    </tr>\n",
       "    <tr>\n",
       "      <th>www.tyneteesmx5.web.st</th>\n",
       "      <td>1</td>\n",
       "    </tr>\n",
       "    <tr>\n",
       "      <th>Games</th>\n",
       "      <th>bf1942.boomtown.net</th>\n",
       "      <td>1</td>\n",
       "    </tr>\n",
       "    <tr>\n",
       "      <th>Recreation</th>\n",
       "      <th>illinois_scouter.tripod.com</th>\n",
       "      <td>1</td>\n",
       "    </tr>\n",
       "    <tr>\n",
       "      <th>Computers</th>\n",
       "      <th>stantchev.de</th>\n",
       "      <td>1</td>\n",
       "    </tr>\n",
       "  </tbody>\n",
       "</table>\n",
       "</div>"
      ],
      "text/plain": [
       "                                         count\n",
       "Type       host                               \n",
       "Society    www.haebea.org.uk                 1\n",
       "Computers  www.mccannas.com                  1\n",
       "Sports     kickette.com                      1\n",
       "Society    www.discountnewagebooks.com       1\n",
       "Business   www.valeant.com                   1\n",
       "Recreation drinkingbuddies.blogspot.com      1\n",
       "           www.tyneteesmx5.web.st            1\n",
       "Games      bf1942.boomtown.net               1\n",
       "Recreation illinois_scouter.tripod.com       1\n",
       "Computers  stantchev.de                      1"
      ]
     },
     "execution_count": 16,
     "metadata": {},
     "output_type": "execute_result"
    }
   ],
   "source": [
    "group = processed.groupby([\"Type\", \"host\"]).agg(count=(\"url\", \"count\"))\n",
    "group.sample(10)"
   ]
  },
  {
   "cell_type": "code",
   "execution_count": 14,
   "id": "92dbdf2c",
   "metadata": {
    "ExecuteTime": {
     "end_time": "2022-04-13T15:00:40.789345Z",
     "start_time": "2022-04-13T15:00:40.763141Z"
    }
   },
   "outputs": [
    {
     "data": {
      "text/html": [
       "<div>\n",
       "<style scoped>\n",
       "    .dataframe tbody tr th:only-of-type {\n",
       "        vertical-align: middle;\n",
       "    }\n",
       "\n",
       "    .dataframe tbody tr th {\n",
       "        vertical-align: top;\n",
       "    }\n",
       "\n",
       "    .dataframe thead th {\n",
       "        text-align: right;\n",
       "    }\n",
       "</style>\n",
       "<table border=\"1\" class=\"dataframe\">\n",
       "  <thead>\n",
       "    <tr style=\"text-align: right;\">\n",
       "      <th></th>\n",
       "      <th>Type</th>\n",
       "      <th>host</th>\n",
       "      <th>count</th>\n",
       "    </tr>\n",
       "  </thead>\n",
       "  <tbody>\n",
       "    <tr>\n",
       "      <th>0</th>\n",
       "      <td>Arts</td>\n",
       "      <td>www.geocities.com</td>\n",
       "      <td>113</td>\n",
       "    </tr>\n",
       "    <tr>\n",
       "      <th>1</th>\n",
       "      <td>Society</td>\n",
       "      <td>www.newadvent.org</td>\n",
       "      <td>91</td>\n",
       "    </tr>\n",
       "    <tr>\n",
       "      <th>2</th>\n",
       "      <td>Arts</td>\n",
       "      <td>www.angelfire.com</td>\n",
       "      <td>69</td>\n",
       "    </tr>\n",
       "    <tr>\n",
       "      <th>3</th>\n",
       "      <td>Society</td>\n",
       "      <td>www.geocities.com</td>\n",
       "      <td>56</td>\n",
       "    </tr>\n",
       "    <tr>\n",
       "      <th>4</th>\n",
       "      <td>Recreation</td>\n",
       "      <td>www.geocities.com</td>\n",
       "      <td>47</td>\n",
       "    </tr>\n",
       "    <tr>\n",
       "      <th>5</th>\n",
       "      <td>Arts</td>\n",
       "      <td>us.imdb.com</td>\n",
       "      <td>32</td>\n",
       "    </tr>\n",
       "    <tr>\n",
       "      <th>6</th>\n",
       "      <td>Games</td>\n",
       "      <td>www.geocities.com</td>\n",
       "      <td>31</td>\n",
       "    </tr>\n",
       "    <tr>\n",
       "      <th>7</th>\n",
       "      <td>Society</td>\n",
       "      <td>www.angelfire.com</td>\n",
       "      <td>25</td>\n",
       "    </tr>\n",
       "    <tr>\n",
       "      <th>8</th>\n",
       "      <td>Arts</td>\n",
       "      <td>members.tripod.com</td>\n",
       "      <td>21</td>\n",
       "    </tr>\n",
       "    <tr>\n",
       "      <th>9</th>\n",
       "      <td>Computers</td>\n",
       "      <td>tools.ietf.org</td>\n",
       "      <td>21</td>\n",
       "    </tr>\n",
       "  </tbody>\n",
       "</table>\n",
       "</div>"
      ],
      "text/plain": [
       "         Type                host  count\n",
       "0        Arts   www.geocities.com    113\n",
       "1     Society   www.newadvent.org     91\n",
       "2        Arts   www.angelfire.com     69\n",
       "3     Society   www.geocities.com     56\n",
       "4  Recreation   www.geocities.com     47\n",
       "5        Arts         us.imdb.com     32\n",
       "6       Games   www.geocities.com     31\n",
       "7     Society   www.angelfire.com     25\n",
       "8        Arts  members.tripod.com     21\n",
       "9   Computers      tools.ietf.org     21"
      ]
     },
     "execution_count": 14,
     "metadata": {},
     "output_type": "execute_result"
    }
   ],
   "source": [
    "sorted_group = group.sort_values(by=\"count\", ascending=False).reset_index()\n",
    "sorted_group.head(10)"
   ]
  },
  {
   "cell_type": "code",
   "execution_count": 27,
   "id": "cf20bd8f",
   "metadata": {
    "ExecuteTime": {
     "end_time": "2022-04-13T15:16:31.291083Z",
     "start_time": "2022-04-13T15:16:31.255710Z"
    }
   },
   "outputs": [
    {
     "data": {
      "text/html": [
       "<div>\n",
       "<style scoped>\n",
       "    .dataframe tbody tr th:only-of-type {\n",
       "        vertical-align: middle;\n",
       "    }\n",
       "\n",
       "    .dataframe tbody tr th {\n",
       "        vertical-align: top;\n",
       "    }\n",
       "\n",
       "    .dataframe thead th {\n",
       "        text-align: right;\n",
       "    }\n",
       "</style>\n",
       "<table border=\"1\" class=\"dataframe\">\n",
       "  <thead>\n",
       "    <tr style=\"text-align: right;\">\n",
       "      <th></th>\n",
       "      <th>Type</th>\n",
       "      <th>host</th>\n",
       "      <th>count</th>\n",
       "    </tr>\n",
       "  </thead>\n",
       "  <tbody>\n",
       "    <tr>\n",
       "      <th>268</th>\n",
       "      <td>Reference</td>\n",
       "      <td>www.ithaca.edu</td>\n",
       "      <td>2</td>\n",
       "    </tr>\n",
       "    <tr>\n",
       "      <th>13</th>\n",
       "      <td>Science</td>\n",
       "      <td>www.geocities.com</td>\n",
       "      <td>15</td>\n",
       "    </tr>\n",
       "    <tr>\n",
       "      <th>51</th>\n",
       "      <td>Recreation</td>\n",
       "      <td>groups.yahoo.com</td>\n",
       "      <td>6</td>\n",
       "    </tr>\n",
       "    <tr>\n",
       "      <th>8</th>\n",
       "      <td>Arts</td>\n",
       "      <td>members.tripod.com</td>\n",
       "      <td>21</td>\n",
       "    </tr>\n",
       "    <tr>\n",
       "      <th>37</th>\n",
       "      <td>Health</td>\n",
       "      <td>www.geocities.com</td>\n",
       "      <td>7</td>\n",
       "    </tr>\n",
       "    <tr>\n",
       "      <th>48</th>\n",
       "      <td>Science</td>\n",
       "      <td>members.tripod.com</td>\n",
       "      <td>6</td>\n",
       "    </tr>\n",
       "    <tr>\n",
       "      <th>35</th>\n",
       "      <td>Sports</td>\n",
       "      <td>sportsillustrated.cnn.com</td>\n",
       "      <td>7</td>\n",
       "    </tr>\n",
       "    <tr>\n",
       "      <th>89</th>\n",
       "      <td>Home</td>\n",
       "      <td>www.geocities.com</td>\n",
       "      <td>4</td>\n",
       "    </tr>\n",
       "    <tr>\n",
       "      <th>70</th>\n",
       "      <td>Business</td>\n",
       "      <td>www.geocities.com</td>\n",
       "      <td>4</td>\n",
       "    </tr>\n",
       "    <tr>\n",
       "      <th>1339</th>\n",
       "      <td>News</td>\n",
       "      <td>www.scottolsonphotography.com</td>\n",
       "      <td>1</td>\n",
       "    </tr>\n",
       "  </tbody>\n",
       "</table>\n",
       "</div>"
      ],
      "text/plain": [
       "            Type                           host  count\n",
       "268    Reference                 www.ithaca.edu      2\n",
       "13       Science              www.geocities.com     15\n",
       "51    Recreation               groups.yahoo.com      6\n",
       "8           Arts             members.tripod.com     21\n",
       "37        Health              www.geocities.com      7\n",
       "48       Science             members.tripod.com      6\n",
       "35        Sports      sportsillustrated.cnn.com      7\n",
       "89          Home              www.geocities.com      4\n",
       "70      Business              www.geocities.com      4\n",
       "1339        News  www.scottolsonphotography.com      1"
      ]
     },
     "execution_count": 27,
     "metadata": {},
     "output_type": "execute_result"
    }
   ],
   "source": [
    "largest = sorted_group.groupby(\"Type\").head(5).sort_values(by='Type')\n",
    "largest.sample(10)"
   ]
  },
  {
   "cell_type": "markdown",
   "id": "eb962473",
   "metadata": {},
   "source": [
    "## Visualize"
   ]
  },
  {
   "cell_type": "code",
   "execution_count": 19,
   "id": "f08bbfa5",
   "metadata": {
    "ExecuteTime": {
     "end_time": "2022-04-13T15:10:43.436601Z",
     "start_time": "2022-04-13T15:10:43.418497Z"
    }
   },
   "outputs": [],
   "source": [
    "from dotenv import load_dotenv\n",
    "import os\n",
    "\n",
    "load_dotenv()\n",
    "PASSWORD = os.getenv(\"GRAPHISTRY_PASSWORD\")\n",
    "USERNAME = os.getenv(\"GRAPHISTRY_USERNAME\")"
   ]
  },
  {
   "cell_type": "code",
   "execution_count": 20,
   "id": "f1abaedb",
   "metadata": {
    "ExecuteTime": {
     "end_time": "2022-04-13T15:10:44.924270Z",
     "start_time": "2022-04-13T15:10:44.138936Z"
    }
   },
   "outputs": [],
   "source": [
    "import graphistry\n",
    "\n",
    "graphistry.register(api=3, username=USERNAME, password=PASSWORD)"
   ]
  },
  {
   "cell_type": "code",
   "execution_count": 26,
   "id": "205f2725",
   "metadata": {
    "ExecuteTime": {
     "end_time": "2022-04-13T15:11:50.090075Z",
     "start_time": "2022-04-13T15:11:50.084014Z"
    },
    "scrolled": true
   },
   "outputs": [
    {
     "data": {
      "text/html": [
       "<div>\n",
       "<style scoped>\n",
       "    .dataframe tbody tr th:only-of-type {\n",
       "        vertical-align: middle;\n",
       "    }\n",
       "\n",
       "    .dataframe tbody tr th {\n",
       "        vertical-align: top;\n",
       "    }\n",
       "\n",
       "    .dataframe thead th {\n",
       "        text-align: right;\n",
       "    }\n",
       "</style>\n",
       "<table border=\"1\" class=\"dataframe\">\n",
       "  <thead>\n",
       "    <tr style=\"text-align: right;\">\n",
       "      <th></th>\n",
       "      <th>Type</th>\n",
       "      <th>host</th>\n",
       "    </tr>\n",
       "  </thead>\n",
       "  <tbody>\n",
       "    <tr>\n",
       "      <th>35</th>\n",
       "      <td>Sports</td>\n",
       "      <td>sportsillustrated.cnn.com</td>\n",
       "    </tr>\n",
       "    <tr>\n",
       "      <th>11</th>\n",
       "      <td>Sports</td>\n",
       "      <td>www.geocities.com</td>\n",
       "    </tr>\n",
       "    <tr>\n",
       "      <th>45</th>\n",
       "      <td>Sports</td>\n",
       "      <td>www.clubwebsite.co.uk</td>\n",
       "    </tr>\n",
       "    <tr>\n",
       "      <th>50</th>\n",
       "      <td>Sports</td>\n",
       "      <td>www.angelfire.com</td>\n",
       "    </tr>\n",
       "    <tr>\n",
       "      <th>47</th>\n",
       "      <td>Sports</td>\n",
       "      <td>www.freewebs.com</td>\n",
       "    </tr>\n",
       "  </tbody>\n",
       "</table>\n",
       "</div>"
      ],
      "text/plain": [
       "      Type                       host\n",
       "35  Sports  sportsillustrated.cnn.com\n",
       "11  Sports          www.geocities.com\n",
       "45  Sports      www.clubwebsite.co.uk\n",
       "50  Sports          www.angelfire.com\n",
       "47  Sports           www.freewebs.com"
      ]
     },
     "execution_count": 26,
     "metadata": {},
     "output_type": "execute_result"
    }
   ],
   "source": [
    "edges = largest[[\"Type\", \"host\"]]\n",
    "edges.tail(5)"
   ]
  },
  {
   "cell_type": "code",
   "execution_count": 31,
   "id": "9459c8af",
   "metadata": {
    "ExecuteTime": {
     "end_time": "2022-04-13T16:10:17.109876Z",
     "start_time": "2022-04-13T16:10:17.102351Z"
    }
   },
   "outputs": [],
   "source": [
    "def create_node_df(df: pd.DataFrame, col_name: str):\n",
    "    nodes = (\n",
    "        df[[col_name]]\n",
    "        .assign(type=col_name)\n",
    "        .rename(columns={col_name: \"node\"})\n",
    "        .drop_duplicates()\n",
    "    )\n",
    "    return nodes"
   ]
  },
  {
   "cell_type": "code",
   "execution_count": 32,
   "id": "b2ef43d8",
   "metadata": {
    "ExecuteTime": {
     "end_time": "2022-04-13T16:10:17.636552Z",
     "start_time": "2022-04-13T16:10:17.601829Z"
    }
   },
   "outputs": [
    {
     "data": {
      "text/html": [
       "<div>\n",
       "<style scoped>\n",
       "    .dataframe tbody tr th:only-of-type {\n",
       "        vertical-align: middle;\n",
       "    }\n",
       "\n",
       "    .dataframe tbody tr th {\n",
       "        vertical-align: top;\n",
       "    }\n",
       "\n",
       "    .dataframe thead th {\n",
       "        text-align: right;\n",
       "    }\n",
       "</style>\n",
       "<table border=\"1\" class=\"dataframe\">\n",
       "  <thead>\n",
       "    <tr style=\"text-align: right;\">\n",
       "      <th></th>\n",
       "      <th>node</th>\n",
       "      <th>type</th>\n",
       "    </tr>\n",
       "  </thead>\n",
       "  <tbody>\n",
       "    <tr>\n",
       "      <th>115</th>\n",
       "      <td>Adult</td>\n",
       "      <td>Type</td>\n",
       "    </tr>\n",
       "    <tr>\n",
       "      <th>12</th>\n",
       "      <td>Arts</td>\n",
       "      <td>Type</td>\n",
       "    </tr>\n",
       "    <tr>\n",
       "      <th>114</th>\n",
       "      <td>Business</td>\n",
       "      <td>Type</td>\n",
       "    </tr>\n",
       "    <tr>\n",
       "      <th>9</th>\n",
       "      <td>Computers</td>\n",
       "      <td>Type</td>\n",
       "    </tr>\n",
       "    <tr>\n",
       "      <th>41</th>\n",
       "      <td>Games</td>\n",
       "      <td>Type</td>\n",
       "    </tr>\n",
       "    <tr>\n",
       "      <th>127</th>\n",
       "      <td>Health</td>\n",
       "      <td>Type</td>\n",
       "    </tr>\n",
       "    <tr>\n",
       "      <th>18</th>\n",
       "      <td>Home</td>\n",
       "      <td>Type</td>\n",
       "    </tr>\n",
       "    <tr>\n",
       "      <th>111</th>\n",
       "      <td>Kids</td>\n",
       "      <td>Type</td>\n",
       "    </tr>\n",
       "    <tr>\n",
       "      <th>1343</th>\n",
       "      <td>News</td>\n",
       "      <td>Type</td>\n",
       "    </tr>\n",
       "    <tr>\n",
       "      <th>4</th>\n",
       "      <td>Recreation</td>\n",
       "      <td>Type</td>\n",
       "    </tr>\n",
       "    <tr>\n",
       "      <th>66</th>\n",
       "      <td>Reference</td>\n",
       "      <td>Type</td>\n",
       "    </tr>\n",
       "    <tr>\n",
       "      <th>48</th>\n",
       "      <td>Science</td>\n",
       "      <td>Type</td>\n",
       "    </tr>\n",
       "    <tr>\n",
       "      <th>307</th>\n",
       "      <td>Shopping</td>\n",
       "      <td>Type</td>\n",
       "    </tr>\n",
       "    <tr>\n",
       "      <th>17</th>\n",
       "      <td>Society</td>\n",
       "      <td>Type</td>\n",
       "    </tr>\n",
       "    <tr>\n",
       "      <th>35</th>\n",
       "      <td>Sports</td>\n",
       "      <td>Type</td>\n",
       "    </tr>\n",
       "    <tr>\n",
       "      <th>115</th>\n",
       "      <td>www.realgoodporn.com</td>\n",
       "      <td>host</td>\n",
       "    </tr>\n",
       "    <tr>\n",
       "      <th>286</th>\n",
       "      <td>www.almightyzeus.com</td>\n",
       "      <td>host</td>\n",
       "    </tr>\n",
       "    <tr>\n",
       "      <th>134</th>\n",
       "      <td>www.angelfire.com</td>\n",
       "      <td>host</td>\n",
       "    </tr>\n",
       "    <tr>\n",
       "      <th>94</th>\n",
       "      <td>groups.yahoo.com</td>\n",
       "      <td>host</td>\n",
       "    </tr>\n",
       "    <tr>\n",
       "      <th>77</th>\n",
       "      <td>www.geocities.com</td>\n",
       "      <td>host</td>\n",
       "    </tr>\n",
       "    <tr>\n",
       "      <th>12</th>\n",
       "      <td>www.imdb.com</td>\n",
       "      <td>host</td>\n",
       "    </tr>\n",
       "    <tr>\n",
       "      <th>8</th>\n",
       "      <td>members.tripod.com</td>\n",
       "      <td>host</td>\n",
       "    </tr>\n",
       "    <tr>\n",
       "      <th>5</th>\n",
       "      <td>us.imdb.com</td>\n",
       "      <td>host</td>\n",
       "    </tr>\n",
       "    <tr>\n",
       "      <th>201</th>\n",
       "      <td>www.cs.arizona.edu</td>\n",
       "      <td>host</td>\n",
       "    </tr>\n",
       "    <tr>\n",
       "      <th>229</th>\n",
       "      <td>www.autexrj.org</td>\n",
       "      <td>host</td>\n",
       "    </tr>\n",
       "    <tr>\n",
       "      <th>165</th>\n",
       "      <td>www.pwc.com</td>\n",
       "      <td>host</td>\n",
       "    </tr>\n",
       "    <tr>\n",
       "      <th>9</th>\n",
       "      <td>tools.ietf.org</td>\n",
       "      <td>host</td>\n",
       "    </tr>\n",
       "    <tr>\n",
       "      <th>129</th>\n",
       "      <td>sourceforge.net</td>\n",
       "      <td>host</td>\n",
       "    </tr>\n",
       "    <tr>\n",
       "      <th>49</th>\n",
       "      <td>en.wikipedia.org</td>\n",
       "      <td>host</td>\n",
       "    </tr>\n",
       "    <tr>\n",
       "      <th>41</th>\n",
       "      <td>www.gamefaqs.com</td>\n",
       "      <td>host</td>\n",
       "    </tr>\n",
       "    <tr>\n",
       "      <th>52</th>\n",
       "      <td>www.gaming-age.com</td>\n",
       "      <td>host</td>\n",
       "    </tr>\n",
       "    <tr>\n",
       "      <th>10</th>\n",
       "      <td>www.gamespot.com</td>\n",
       "      <td>host</td>\n",
       "    </tr>\n",
       "    <tr>\n",
       "      <th>127</th>\n",
       "      <td>www.ninds.nih.gov</td>\n",
       "      <td>host</td>\n",
       "    </tr>\n",
       "    <tr>\n",
       "      <th>14</th>\n",
       "      <td>www.rxlist.com</td>\n",
       "      <td>host</td>\n",
       "    </tr>\n",
       "    <tr>\n",
       "      <th>126</th>\n",
       "      <td>www.nlm.nih.gov</td>\n",
       "      <td>host</td>\n",
       "    </tr>\n",
       "    <tr>\n",
       "      <th>18</th>\n",
       "      <td>www.recipesource.com</td>\n",
       "      <td>host</td>\n",
       "    </tr>\n",
       "    <tr>\n",
       "      <th>99</th>\n",
       "      <td>www.recipezaar.com</td>\n",
       "      <td>host</td>\n",
       "    </tr>\n",
       "    <tr>\n",
       "      <th>111</th>\n",
       "      <td>kids.aol.com</td>\n",
       "      <td>host</td>\n",
       "    </tr>\n",
       "    <tr>\n",
       "      <th>109</th>\n",
       "      <td>uk.gamespot.com</td>\n",
       "      <td>host</td>\n",
       "    </tr>\n",
       "    <tr>\n",
       "      <th>28</th>\n",
       "      <td>www.freewebs.com</td>\n",
       "      <td>host</td>\n",
       "    </tr>\n",
       "    <tr>\n",
       "      <th>1343</th>\n",
       "      <td>www.oregonlive.com</td>\n",
       "      <td>host</td>\n",
       "    </tr>\n",
       "    <tr>\n",
       "      <th>1341</th>\n",
       "      <td>www.pgpost.com</td>\n",
       "      <td>host</td>\n",
       "    </tr>\n",
       "    <tr>\n",
       "      <th>1340</th>\n",
       "      <td>www.postindependent.com</td>\n",
       "      <td>host</td>\n",
       "    </tr>\n",
       "    <tr>\n",
       "      <th>1339</th>\n",
       "      <td>www.scottolsonphotography.com</td>\n",
       "      <td>host</td>\n",
       "    </tr>\n",
       "    <tr>\n",
       "      <th>1342</th>\n",
       "      <td>www.perspectives.ubc.ca</td>\n",
       "      <td>host</td>\n",
       "    </tr>\n",
       "    <tr>\n",
       "      <th>66</th>\n",
       "      <td>www.sfu.ca</td>\n",
       "      <td>host</td>\n",
       "    </tr>\n",
       "    <tr>\n",
       "      <th>110</th>\n",
       "      <td>flagspot.net</td>\n",
       "      <td>host</td>\n",
       "    </tr>\n",
       "    <tr>\n",
       "      <th>271</th>\n",
       "      <td>www.smith.edu</td>\n",
       "      <td>host</td>\n",
       "    </tr>\n",
       "    <tr>\n",
       "      <th>112</th>\n",
       "      <td>www.uvm.edu</td>\n",
       "      <td>host</td>\n",
       "    </tr>\n",
       "    <tr>\n",
       "      <th>268</th>\n",
       "      <td>www.ithaca.edu</td>\n",
       "      <td>host</td>\n",
       "    </tr>\n",
       "    <tr>\n",
       "      <th>42</th>\n",
       "      <td>ip30.eti.uva.nl</td>\n",
       "      <td>host</td>\n",
       "    </tr>\n",
       "    <tr>\n",
       "      <th>21</th>\n",
       "      <td>florawww.eeb.uconn.edu</td>\n",
       "      <td>host</td>\n",
       "    </tr>\n",
       "    <tr>\n",
       "      <th>729</th>\n",
       "      <td>busypersonscookbook.com</td>\n",
       "      <td>host</td>\n",
       "    </tr>\n",
       "    <tr>\n",
       "      <th>1</th>\n",
       "      <td>www.newadvent.org</td>\n",
       "      <td>host</td>\n",
       "    </tr>\n",
       "    <tr>\n",
       "      <th>35</th>\n",
       "      <td>sportsillustrated.cnn.com</td>\n",
       "      <td>host</td>\n",
       "    </tr>\n",
       "    <tr>\n",
       "      <th>45</th>\n",
       "      <td>www.clubwebsite.co.uk</td>\n",
       "      <td>host</td>\n",
       "    </tr>\n",
       "  </tbody>\n",
       "</table>\n",
       "</div>"
      ],
      "text/plain": [
       "                               node  type\n",
       "115                           Adult  Type\n",
       "12                             Arts  Type\n",
       "114                        Business  Type\n",
       "9                         Computers  Type\n",
       "41                            Games  Type\n",
       "127                          Health  Type\n",
       "18                             Home  Type\n",
       "111                            Kids  Type\n",
       "1343                           News  Type\n",
       "4                        Recreation  Type\n",
       "66                        Reference  Type\n",
       "48                          Science  Type\n",
       "307                        Shopping  Type\n",
       "17                          Society  Type\n",
       "35                           Sports  Type\n",
       "115            www.realgoodporn.com  host\n",
       "286            www.almightyzeus.com  host\n",
       "134               www.angelfire.com  host\n",
       "94                 groups.yahoo.com  host\n",
       "77                www.geocities.com  host\n",
       "12                     www.imdb.com  host\n",
       "8                members.tripod.com  host\n",
       "5                       us.imdb.com  host\n",
       "201              www.cs.arizona.edu  host\n",
       "229                 www.autexrj.org  host\n",
       "165                     www.pwc.com  host\n",
       "9                    tools.ietf.org  host\n",
       "129                 sourceforge.net  host\n",
       "49                 en.wikipedia.org  host\n",
       "41                 www.gamefaqs.com  host\n",
       "52               www.gaming-age.com  host\n",
       "10                 www.gamespot.com  host\n",
       "127               www.ninds.nih.gov  host\n",
       "14                   www.rxlist.com  host\n",
       "126                 www.nlm.nih.gov  host\n",
       "18             www.recipesource.com  host\n",
       "99               www.recipezaar.com  host\n",
       "111                    kids.aol.com  host\n",
       "109                 uk.gamespot.com  host\n",
       "28                 www.freewebs.com  host\n",
       "1343             www.oregonlive.com  host\n",
       "1341                 www.pgpost.com  host\n",
       "1340        www.postindependent.com  host\n",
       "1339  www.scottolsonphotography.com  host\n",
       "1342        www.perspectives.ubc.ca  host\n",
       "66                       www.sfu.ca  host\n",
       "110                    flagspot.net  host\n",
       "271                   www.smith.edu  host\n",
       "112                     www.uvm.edu  host\n",
       "268                  www.ithaca.edu  host\n",
       "42                  ip30.eti.uva.nl  host\n",
       "21           florawww.eeb.uconn.edu  host\n",
       "729         busypersonscookbook.com  host\n",
       "1                 www.newadvent.org  host\n",
       "35        sportsillustrated.cnn.com  host\n",
       "45            www.clubwebsite.co.uk  host"
      ]
     },
     "execution_count": 32,
     "metadata": {},
     "output_type": "execute_result"
    }
   ],
   "source": [
    "type_nodes = create_node_df(largest, \"Type\")\n",
    "url_nodes = create_node_df(largest, \"host\")\n",
    "nodes = pd.concat([type_nodes, url_nodes])\n",
    "nodes"
   ]
  },
  {
   "cell_type": "code",
   "execution_count": 33,
   "id": "b6d6f676",
   "metadata": {
    "ExecuteTime": {
     "end_time": "2022-04-13T16:10:21.442779Z",
     "start_time": "2022-04-13T16:10:21.437250Z"
    }
   },
   "outputs": [],
   "source": [
    "g = (\n",
    "    graphistry\n",
    "    .edges(edges, \"Type\", \"host\")\n",
    "    .nodes(nodes, \"node\")\n",
    ")"
   ]
  },
  {
   "cell_type": "code",
   "execution_count": 34,
   "id": "c0a0e740",
   "metadata": {
    "ExecuteTime": {
     "end_time": "2022-04-13T16:10:33.703770Z",
     "start_time": "2022-04-13T16:10:31.583485Z"
    }
   },
   "outputs": [
    {
     "data": {
      "text/html": [
       "\n",
       "            <iframe id=\"79f13a8e-d793-47a9-9a39-ea10d51b6a75\" src=\"https://hub.graphistry.com/graph/graph.html?dataset=a3c7a1c936a848c6856e6df064a65a0d&type=arrow&viztoken=b304586e-2647-4e12-bd12-a646153ac9b3&usertag=ce7a7c45-pygraphistry-0.20.2&splashAfter=1649866248&info=true\"\n",
       "                    allowfullscreen=\"true\" webkitallowfullscreen=\"true\" mozallowfullscreen=\"true\"\n",
       "                    oallowfullscreen=\"true\" msallowfullscreen=\"true\"\n",
       "                    style=\"width:100%; height:500px; border: 1px solid #DDD; overflow: hidden\">\n",
       "            </iframe>\n",
       "        \n",
       "            <script>\n",
       "                try {\n",
       "                  $(\"#79f13a8e-d793-47a9-9a39-ea10d51b6a75\").bind('mousewheel', function(e) { e.preventDefault(); });\n",
       "                } catch (e) { console.error('exn catching scroll', e); }\n",
       "            </script>\n",
       "        "
      ],
      "text/plain": [
       "<IPython.core.display.HTML object>"
      ]
     },
     "execution_count": 34,
     "metadata": {},
     "output_type": "execute_result"
    }
   ],
   "source": [
    "g.plot()"
   ]
  },
  {
   "cell_type": "code",
   "execution_count": 28,
   "id": "d508a671",
   "metadata": {
    "ExecuteTime": {
     "end_time": "2022-04-13T16:09:36.908769Z",
     "start_time": "2022-04-13T16:09:36.903108Z"
    }
   },
   "outputs": [],
   "source": [
    "types = list(edges.Type.unique())"
   ]
  },
  {
   "cell_type": "code",
   "execution_count": 38,
   "id": "1e3e63ff",
   "metadata": {
    "ExecuteTime": {
     "end_time": "2022-04-13T16:26:37.841203Z",
     "start_time": "2022-04-13T16:26:37.650695Z"
    }
   },
   "outputs": [
    {
     "data": {
      "text/plain": [
       "{'Adult': '#fcd599',\n",
       " 'Arts': '#64e06d',\n",
       " 'Business': '#dde87f',\n",
       " 'Computers': '#27b567',\n",
       " 'Games': '#24bf7c',\n",
       " 'Health': '#f5c4fc',\n",
       " 'Home': '#efe78f',\n",
       " 'Kids': '#c1b7ff',\n",
       " 'News': '#cebc16',\n",
       " 'Recreation': '#c52cd6',\n",
       " 'Reference': '#35c467',\n",
       " 'Science': '#f95271',\n",
       " 'Shopping': '#dcf9a4',\n",
       " 'Society': '#ce610e',\n",
       " 'Sports': '#78e817'}"
      ]
     },
     "execution_count": 38,
     "metadata": {},
     "output_type": "execute_result"
    }
   ],
   "source": [
    "from faker import Faker\n",
    "\n",
    "fake = Faker()\n",
    "colors = [fake.color() for _ in range(len(types))]\n",
    "node_color_mapping = dict(zip(types, colors))\n",
    "node_color_mapping"
   ]
  },
  {
   "cell_type": "code",
   "execution_count": 39,
   "id": "71c0091b",
   "metadata": {
    "ExecuteTime": {
     "end_time": "2022-04-13T16:26:40.167778Z",
     "start_time": "2022-04-13T16:26:40.161981Z"
    }
   },
   "outputs": [],
   "source": [
    "node_icon_mapping = {\"host\": \"link\", \"Type\": \"newspaper-o\"}"
   ]
  },
  {
   "cell_type": "code",
   "execution_count": 40,
   "id": "4d62686c",
   "metadata": {
    "ExecuteTime": {
     "end_time": "2022-04-13T16:26:40.549882Z",
     "start_time": "2022-04-13T16:26:40.543737Z"
    }
   },
   "outputs": [],
   "source": [
    "g = (\n",
    "    graphistry.edges(edges, \"Type\", \"host\")\n",
    "    .nodes(nodes, \"node\")\n",
    "    .encode_point_color(\n",
    "        \"node\", categorical_mapping=node_color_mapping, default_mapping=\"silver\"\n",
    "    )\n",
    "    .encode_point_icon(\n",
    "        \"type\", categorical_mapping=node_icon_mapping\n",
    "    )\n",
    ")"
   ]
  },
  {
   "cell_type": "code",
   "execution_count": 41,
   "id": "08000a6c",
   "metadata": {
    "ExecuteTime": {
     "end_time": "2022-04-13T16:26:43.331960Z",
     "start_time": "2022-04-13T16:26:41.906829Z"
    }
   },
   "outputs": [
    {
     "data": {
      "text/html": [
       "\n",
       "            <iframe id=\"44516336-4a36-42d6-82c5-802e1ed2f45f\" src=\"https://hub.graphistry.com/graph/graph.html?dataset=195f284e75b8497ba1896e2a7bf48b3d&type=arrow&viztoken=57b16a41-15f2-4e8f-b6ee-652d66d02c09&usertag=ce7a7c45-pygraphistry-0.20.2&splashAfter=1649867218&info=true\"\n",
       "                    allowfullscreen=\"true\" webkitallowfullscreen=\"true\" mozallowfullscreen=\"true\"\n",
       "                    oallowfullscreen=\"true\" msallowfullscreen=\"true\"\n",
       "                    style=\"width:100%; height:500px; border: 1px solid #DDD; overflow: hidden\">\n",
       "            </iframe>\n",
       "        \n",
       "            <script>\n",
       "                try {\n",
       "                  $(\"#44516336-4a36-42d6-82c5-802e1ed2f45f\").bind('mousewheel', function(e) { e.preventDefault(); });\n",
       "                } catch (e) { console.error('exn catching scroll', e); }\n",
       "            </script>\n",
       "        "
      ],
      "text/plain": [
       "<IPython.core.display.HTML object>"
      ]
     },
     "execution_count": 41,
     "metadata": {},
     "output_type": "execute_result"
    }
   ],
   "source": [
    "g.plot()"
   ]
  }
 ],
 "metadata": {
  "kernelspec": {
   "display_name": "Python 3 (ipykernel)",
   "language": "python",
   "name": "python3"
  },
  "language_info": {
   "codemirror_mode": {
    "name": "ipython",
    "version": 3
   },
   "file_extension": ".py",
   "mimetype": "text/x-python",
   "name": "python",
   "nbconvert_exporter": "python",
   "pygments_lexer": "ipython3",
   "version": "3.8.10"
  },
  "toc": {
   "base_numbering": 1,
   "nav_menu": {},
   "number_sections": true,
   "sideBar": true,
   "skip_h1_title": false,
   "title_cell": "Table of Contents",
   "title_sidebar": "Contents",
   "toc_cell": false,
   "toc_position": {},
   "toc_section_display": true,
   "toc_window_display": false
  }
 },
 "nbformat": 4,
 "nbformat_minor": 5
}
