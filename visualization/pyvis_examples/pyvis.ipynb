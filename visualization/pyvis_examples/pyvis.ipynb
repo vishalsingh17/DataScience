{
 "cells": [
  {
   "cell_type": "code",
   "execution_count": 20,
   "id": "49c572db",
   "metadata": {
    "ExecuteTime": {
     "end_time": "2021-06-12T15:40:21.168951Z",
     "start_time": "2021-06-12T15:40:21.121645Z"
    }
   },
   "outputs": [],
   "source": [
    "from pyvis.network import Network"
   ]
  },
  {
   "cell_type": "markdown",
   "id": "16dc89d4",
   "metadata": {},
   "source": [
    "# Get Started"
   ]
  },
  {
   "cell_type": "markdown",
   "id": "8fd4225c",
   "metadata": {},
   "source": [
    "## Add nodes"
   ]
  },
  {
   "cell_type": "code",
   "execution_count": 2,
   "id": "3b3420e4",
   "metadata": {
    "ExecuteTime": {
     "end_time": "2021-06-12T15:30:36.325917Z",
     "start_time": "2021-06-12T15:30:36.312229Z"
    }
   },
   "outputs": [
    {
     "data": {
      "text/html": [
       "\n",
       "        <iframe\n",
       "            width=\"500px\"\n",
       "            height=\"500px\"\n",
       "            src=\"nodes.html\"\n",
       "            frameborder=\"0\"\n",
       "            allowfullscreen\n",
       "        ></iframe>\n",
       "        "
      ],
      "text/plain": [
       "<IPython.lib.display.IFrame at 0x7fc9b1421850>"
      ]
     },
     "execution_count": 2,
     "metadata": {},
     "output_type": "execute_result"
    }
   ],
   "source": [
    "net = Network(notebook=True)\n",
    "net.add_node(1, label=\"Alex\")\n",
    "net.add_node(2, label=\"Cathy\")\n",
    "net.show(\"nodes.html\")"
   ]
  },
  {
   "cell_type": "markdown",
   "id": "fc248cad",
   "metadata": {},
   "source": [
    "## Add a list of nodes"
   ]
  },
  {
   "cell_type": "code",
   "execution_count": 3,
   "id": "c6a6f648",
   "metadata": {
    "ExecuteTime": {
     "end_time": "2021-06-12T15:30:36.334482Z",
     "start_time": "2021-06-12T15:30:36.326736Z"
    }
   },
   "outputs": [
    {
     "data": {
      "text/html": [
       "\n",
       "        <iframe\n",
       "            width=\"500px\"\n",
       "            height=\"500px\"\n",
       "            src=\"list_of_nodes.html\"\n",
       "            frameborder=\"0\"\n",
       "            allowfullscreen\n",
       "        ></iframe>\n",
       "        "
      ],
      "text/plain": [
       "<IPython.lib.display.IFrame at 0x7fca2421ad60>"
      ]
     },
     "execution_count": 3,
     "metadata": {},
     "output_type": "execute_result"
    }
   ],
   "source": [
    "net = Network(notebook=True)\n",
    "net.add_nodes([1, 2], label=[\"Alex\", \"Carthy\"])\n",
    "net.show(\"list_of_nodes.html\")"
   ]
  },
  {
   "cell_type": "code",
   "execution_count": 4,
   "id": "40809cec",
   "metadata": {
    "ExecuteTime": {
     "end_time": "2021-06-12T15:30:36.338260Z",
     "start_time": "2021-06-12T15:30:36.335280Z"
    }
   },
   "outputs": [
    {
     "data": {
      "text/html": [
       "\n",
       "        <iframe\n",
       "            width=\"500px\"\n",
       "            height=\"500px\"\n",
       "            src=\"list_of_nodes_with_color.html\"\n",
       "            frameborder=\"0\"\n",
       "            allowfullscreen\n",
       "        ></iframe>\n",
       "        "
      ],
      "text/plain": [
       "<IPython.lib.display.IFrame at 0x7fc9b143cc40>"
      ]
     },
     "execution_count": 4,
     "metadata": {},
     "output_type": "execute_result"
    }
   ],
   "source": [
    "net.add_nodes(\n",
    "    [3, 4, 5, 6],\n",
    "    label=[\"Michael\", \"Ben\", \"Oliver\", \"Olivia\"],\n",
    "    color=[\"#3da831\", \"#9a31a8\", \"#3155a8\", \"#eb4034\"],\n",
    ")\n",
    "net.show(\"list_of_nodes_with_color.html\")"
   ]
  },
  {
   "cell_type": "markdown",
   "id": "1fcc879a",
   "metadata": {},
   "source": [
    "## Add edges"
   ]
  },
  {
   "cell_type": "markdown",
   "id": "49f1e001",
   "metadata": {},
   "source": [
    "### Edges"
   ]
  },
  {
   "cell_type": "code",
   "execution_count": 5,
   "id": "eb1f3174",
   "metadata": {
    "ExecuteTime": {
     "end_time": "2021-06-12T15:30:36.348256Z",
     "start_time": "2021-06-12T15:30:36.339123Z"
    }
   },
   "outputs": [],
   "source": [
    "net = Network(notebook=True)\n",
    "\n",
    "net.add_nodes(\n",
    "    [1, 2, 3, 4, 5, 6],\n",
    "    label=[\"Alex\", \"Cathy\", \"Michael\", \"Ben\", \"Oliver\", \"Olivia\"],\n",
    "    color=[\"#00bfff\", \"#ffc0cb\", \"#3da831\", \"#9a31a8\", \"#3155a8\", \"#eb4034\"],\n",
    ")"
   ]
  },
  {
   "cell_type": "code",
   "execution_count": 6,
   "id": "8f57ee40",
   "metadata": {
    "ExecuteTime": {
     "end_time": "2021-06-12T15:30:36.354878Z",
     "start_time": "2021-06-12T15:30:36.349506Z"
    }
   },
   "outputs": [
    {
     "data": {
      "text/html": [
       "\n",
       "        <iframe\n",
       "            width=\"500px\"\n",
       "            height=\"500px\"\n",
       "            src=\"edges.html\"\n",
       "            frameborder=\"0\"\n",
       "            allowfullscreen\n",
       "        ></iframe>\n",
       "        "
      ],
      "text/plain": [
       "<IPython.lib.display.IFrame at 0x7fc9b139b100>"
      ]
     },
     "execution_count": 6,
     "metadata": {},
     "output_type": "execute_result"
    }
   ],
   "source": [
    "net.add_edge(1, 5)\n",
    "net.add_edges([(2, 5), (3, 4), (1, 6), (2, 6), (3, 5)])\n",
    "net.show(\"edges.html\")"
   ]
  },
  {
   "cell_type": "markdown",
   "id": "04655289",
   "metadata": {},
   "source": [
    "### Edges with Weights"
   ]
  },
  {
   "cell_type": "code",
   "execution_count": 7,
   "id": "c5dcdb69",
   "metadata": {
    "ExecuteTime": {
     "end_time": "2021-06-12T15:30:36.366404Z",
     "start_time": "2021-06-12T15:30:36.356824Z"
    }
   },
   "outputs": [],
   "source": [
    "net = Network(notebook=True)\n",
    "\n",
    "net.add_nodes(\n",
    "    [1, 2, 3, 4, 5, 6],\n",
    "    label=[\"Alex\", \"Cathy\", \"Michael\", \"Ben\", \"Oliver\", \"Olivia\"],\n",
    "    color=[\"#00bfff\", \"#ffc0cb\", \"#3da831\", \"#9a31a8\", \"#3155a8\", \"#eb4034\"],\n",
    ")"
   ]
  },
  {
   "cell_type": "code",
   "execution_count": 8,
   "id": "cc47d846",
   "metadata": {
    "ExecuteTime": {
     "end_time": "2021-06-12T15:30:36.371354Z",
     "start_time": "2021-06-12T15:30:36.368209Z"
    }
   },
   "outputs": [],
   "source": [
    "net.add_edge(1, 5, value=2)\n",
    "net.add_edges([(2, 5, 5), (3, 4, 2), (1, 6), (2, 6), (3, 5)])"
   ]
  },
  {
   "cell_type": "code",
   "execution_count": 9,
   "id": "0a022f3a",
   "metadata": {
    "ExecuteTime": {
     "end_time": "2021-06-12T15:30:36.376390Z",
     "start_time": "2021-06-12T15:30:36.372758Z"
    }
   },
   "outputs": [
    {
     "data": {
      "text/html": [
       "\n",
       "        <iframe\n",
       "            width=\"500px\"\n",
       "            height=\"500px\"\n",
       "            src=\"edges_with_weights.html\"\n",
       "            frameborder=\"0\"\n",
       "            allowfullscreen\n",
       "        ></iframe>\n",
       "        "
      ],
      "text/plain": [
       "<IPython.lib.display.IFrame at 0x7fca2415ff40>"
      ]
     },
     "execution_count": 9,
     "metadata": {},
     "output_type": "execute_result"
    }
   ],
   "source": [
    "net.show(\"edges_with_weights.html\")"
   ]
  },
  {
   "cell_type": "markdown",
   "id": "bf8d1188",
   "metadata": {},
   "source": [
    "### Edges with Repulsion"
   ]
  },
  {
   "cell_type": "code",
   "execution_count": 11,
   "id": "72f8825f",
   "metadata": {
    "ExecuteTime": {
     "end_time": "2021-06-12T15:30:42.128548Z",
     "start_time": "2021-06-12T15:30:42.124177Z"
    }
   },
   "outputs": [],
   "source": [
    "def add_repulsion(node_distance: int, spring_length: int):\n",
    "    net = Network(notebook=True)\n",
    "\n",
    "    net.add_nodes(\n",
    "        [1, 2, 3, 4, 5, 6],\n",
    "        label=[\"Alex\", \"Cathy\", \"Michael\", \"Ben\", \"Oliver\", \"Olivia\"],\n",
    "        color=[\"#00bfff\", \"#ffc0cb\", \"#3da831\", \"#9a31a8\", \"#3155a8\", \"#eb4034\"],\n",
    "    )\n",
    "\n",
    "    net.add_edge(1, 5, value=2)\n",
    "    net.add_edges([(2, 5, 5), (3, 4, 2), (1, 6), (2, 6), (3, 5)])\n",
    "\n",
    "    net.repulsion(node_distance=node_distance, spring_length=spring_length)\n",
    "\n",
    "    net.show(f\"distance_{node_distance}_spring_length_{spring_length}.html\")\n",
    "\n",
    "    return net"
   ]
  },
  {
   "cell_type": "code",
   "execution_count": 12,
   "id": "a6f905ec",
   "metadata": {
    "ExecuteTime": {
     "end_time": "2021-06-12T15:30:42.347057Z",
     "start_time": "2021-06-12T15:30:42.336035Z"
    }
   },
   "outputs": [
    {
     "data": {
      "text/html": [
       "\n",
       "        <iframe\n",
       "            width=\"500px\"\n",
       "            height=\"500px\"\n",
       "            src=\"distance_100_spring_length_200.html\"\n",
       "            frameborder=\"0\"\n",
       "            allowfullscreen\n",
       "        ></iframe>\n",
       "        "
      ],
      "text/plain": [
       "<IPython.lib.display.IFrame at 0x7fc9b143c4f0>"
      ]
     },
     "execution_count": 12,
     "metadata": {},
     "output_type": "execute_result"
    }
   ],
   "source": [
    "net = add_repulsion(node_distance=100, spring_length=200)\n",
    "net.show(\"distance_100_spring_length_200.html\")"
   ]
  },
  {
   "cell_type": "code",
   "execution_count": 13,
   "id": "d1a5b0a8",
   "metadata": {
    "ExecuteTime": {
     "end_time": "2021-06-12T15:30:42.977363Z",
     "start_time": "2021-06-12T15:30:42.967529Z"
    }
   },
   "outputs": [
    {
     "data": {
      "text/html": [
       "\n",
       "        <iframe\n",
       "            width=\"500px\"\n",
       "            height=\"500px\"\n",
       "            src=\"distance_100_spring_length_1000.html\"\n",
       "            frameborder=\"0\"\n",
       "            allowfullscreen\n",
       "        ></iframe>\n",
       "        "
      ],
      "text/plain": [
       "<IPython.lib.display.IFrame at 0x7fca2415fe50>"
      ]
     },
     "execution_count": 13,
     "metadata": {},
     "output_type": "execute_result"
    }
   ],
   "source": [
    "net = add_repulsion(node_distance=100, spring_length=1000)\n",
    "net.show(f\"distance_100_spring_length_1000.html\")"
   ]
  },
  {
   "cell_type": "code",
   "execution_count": 14,
   "id": "1d2c4a64",
   "metadata": {
    "ExecuteTime": {
     "end_time": "2021-06-12T15:30:43.353180Z",
     "start_time": "2021-06-12T15:30:43.340568Z"
    }
   },
   "outputs": [
    {
     "data": {
      "text/html": [
       "\n",
       "        <iframe\n",
       "            width=\"500px\"\n",
       "            height=\"500px\"\n",
       "            src=\"distance_500_spring_length_200.html\"\n",
       "            frameborder=\"0\"\n",
       "            allowfullscreen\n",
       "        ></iframe>\n",
       "        "
      ],
      "text/plain": [
       "<IPython.lib.display.IFrame at 0x7fc9b139b040>"
      ]
     },
     "execution_count": 14,
     "metadata": {},
     "output_type": "execute_result"
    }
   ],
   "source": [
    "net = add_repulsion(node_distance=500, spring_length=200)\n",
    "net.show(f\"distance_500_spring_length_200.html\")"
   ]
  },
  {
   "cell_type": "markdown",
   "id": "50288844",
   "metadata": {},
   "source": [
    "# Matching problem"
   ]
  },
  {
   "cell_type": "code",
   "execution_count": 15,
   "id": "94904a09",
   "metadata": {
    "ExecuteTime": {
     "end_time": "2021-06-12T15:30:43.967476Z",
     "start_time": "2021-06-12T15:30:43.759532Z"
    }
   },
   "outputs": [
    {
     "data": {
      "text/plain": [
       "['Ben', 'Kate', 'Thinh', 'Jorge', 'Alfredo', 'Francisco', 'Olivia', 'Chris']"
      ]
     },
     "execution_count": 15,
     "metadata": {},
     "output_type": "execute_result"
    }
   ],
   "source": [
    "import pandas as pd\n",
    "\n",
    "df = pd.read_excel(\"employer_matching.xlsx\", index_col=0)\n",
    "nodes = df.columns.to_list()\n",
    "nodes = [node.strip() for node in nodes]\n",
    "nodes"
   ]
  },
  {
   "cell_type": "code",
   "execution_count": 16,
   "id": "206df0f9",
   "metadata": {
    "ExecuteTime": {
     "end_time": "2021-06-12T15:30:43.971732Z",
     "start_time": "2021-06-12T15:30:43.968542Z"
    }
   },
   "outputs": [],
   "source": [
    "def draw_network(\n",
    "    nodes: list,\n",
    "    df: pd.DataFrame,\n",
    "    minium_weight: int = 0,\n",
    "    repulsion: int = 100,\n",
    "    spring_length=200,\n",
    "    buttons=False,\n",
    "):\n",
    "\n",
    "    net = Network(\"500px\", \"500px\", notebook=True)\n",
    "    net.add_nodes(nodes)\n",
    "\n",
    "    # add edges\n",
    "    for node, weights in df.iterrows():\n",
    "        edges = get_edges(node, weights, nodes, minium_weight)\n",
    "        net.add_edges(edges)\n",
    "\n",
    "    # change node distance and spring length\n",
    "    net.repulsion(repulsion, spring_length=spring_length)\n",
    "\n",
    "    # Tweek configuration UI\n",
    "    net.show_buttons(filter_=buttons)\n",
    "    return net"
   ]
  },
  {
   "cell_type": "code",
   "execution_count": 17,
   "id": "679fb77b",
   "metadata": {
    "ExecuteTime": {
     "end_time": "2021-06-12T15:30:44.264239Z",
     "start_time": "2021-06-12T15:30:44.261684Z"
    },
    "code_folding": []
   },
   "outputs": [],
   "source": [
    "def get_edges(node: str, weights: list, all_nodes: list, minium_weight: int):\n",
    "\n",
    "    nodes = all_nodes.copy()\n",
    "\n",
    "    # Remove target node\n",
    "    nodes.remove(node)\n",
    "\n",
    "    # Create a list of edges with weights\n",
    "    edges = [(node, connection, weight) for connection, weight in zip(nodes, weights)]\n",
    "\n",
    "    # Get only edges with weights greater than the minimum weight\n",
    "    edges = [edge for edge in edges if edge[2] >= minium_weight]\n",
    "\n",
    "    return edges"
   ]
  },
  {
   "cell_type": "code",
   "execution_count": 18,
   "id": "de2de18a",
   "metadata": {
    "ExecuteTime": {
     "end_time": "2021-06-12T15:30:44.643186Z",
     "start_time": "2021-06-12T15:30:44.634882Z"
    },
    "scrolled": false
   },
   "outputs": [
    {
     "data": {
      "text/html": [
       "\n",
       "        <iframe\n",
       "            width=\"500px\"\n",
       "            height=\"500px\"\n",
       "            src=\"match.html\"\n",
       "            frameborder=\"0\"\n",
       "            allowfullscreen\n",
       "        ></iframe>\n",
       "        "
      ],
      "text/plain": [
       "<IPython.lib.display.IFrame at 0x7fc9a8bb9c40>"
      ]
     },
     "execution_count": 18,
     "metadata": {},
     "output_type": "execute_result"
    }
   ],
   "source": [
    "net = draw_network(nodes, df, minium_weight=9, repulsion=100, spring_length=500)\n",
    "net.show(\"match.html\")"
   ]
  },
  {
   "cell_type": "code",
   "execution_count": 19,
   "id": "a69497de",
   "metadata": {
    "ExecuteTime": {
     "end_time": "2021-06-12T15:30:45.021402Z",
     "start_time": "2021-06-12T15:30:45.007721Z"
    }
   },
   "outputs": [
    {
     "data": {
      "text/html": [
       "\n",
       "        <iframe\n",
       "            width=\"500px\"\n",
       "            height=\"500px\"\n",
       "            src=\"match_with_buttons.html\"\n",
       "            frameborder=\"0\"\n",
       "            allowfullscreen\n",
       "        ></iframe>\n",
       "        "
      ],
      "text/plain": [
       "<IPython.lib.display.IFrame at 0x7fca2417a0d0>"
      ]
     },
     "execution_count": 19,
     "metadata": {},
     "output_type": "execute_result"
    }
   ],
   "source": [
    "net = draw_network(\n",
    "    nodes, df, minium_weight=0, repulsion=100, spring_length=500, buttons=[\"physics\"]\n",
    ")\n",
    "net.show(\"match_with_buttons.html\")"
   ]
  },
  {
   "cell_type": "code",
   "execution_count": null,
   "id": "0e035708",
   "metadata": {},
   "outputs": [],
   "source": []
  }
 ],
 "metadata": {
  "finalized": {
   "timestamp": 1623461886405,
   "trusted": true
  },
  "kernelspec": {
   "display_name": "Python 3 (ipykernel)",
   "language": "python",
   "name": "python3"
  },
  "language_info": {
   "codemirror_mode": {
    "name": "ipython",
    "version": 3
   },
   "file_extension": ".py",
   "mimetype": "text/x-python",
   "name": "python",
   "nbconvert_exporter": "python",
   "pygments_lexer": "ipython3",
   "version": "3.8.10"
  },
  "toc": {
   "base_numbering": 1,
   "nav_menu": {},
   "number_sections": true,
   "sideBar": true,
   "skip_h1_title": false,
   "title_cell": "Table of Contents",
   "title_sidebar": "Contents",
   "toc_cell": false,
   "toc_position": {},
   "toc_section_display": true,
   "toc_window_display": false
  }
 },
 "nbformat": 4,
 "nbformat_minor": 5
}
