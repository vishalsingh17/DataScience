{
 "cells": [
  {
   "cell_type": "code",
   "execution_count": 1,
   "metadata": {
    "ExecuteTime": {
     "end_time": "2020-11-27T21:16:36.545966Z",
     "start_time": "2020-11-27T21:16:33.168954Z"
    }
   },
   "outputs": [],
   "source": [
    "import pandas as pd \n",
    "import datapane as dp "
   ]
  },
  {
   "cell_type": "code",
   "execution_count": 2,
   "metadata": {
    "ExecuteTime": {
     "end_time": "2020-11-27T21:16:36.862526Z",
     "start_time": "2020-11-27T21:16:36.553565Z"
    }
   },
   "outputs": [
    {
     "name": "stdout",
     "output_type": "stream",
     "text": [
      "\u001b[32mConnected successfully to https://datapane.com as khuyentran1401\u001b[0m\n"
     ]
    }
   ],
   "source": [
    "dp.login(token='abc1a885ab5197bfcfda5fd5d5408dd0c4d50f94')"
   ]
  },
  {
   "cell_type": "code",
   "execution_count": 3,
   "metadata": {
    "ExecuteTime": {
     "end_time": "2020-11-27T21:16:36.874243Z",
     "start_time": "2020-11-27T21:16:36.868233Z"
    }
   },
   "outputs": [],
   "source": [
    "report = []"
   ]
  },
  {
   "cell_type": "markdown",
   "metadata": {},
   "source": [
    "# Assign New Columns to a DataFame"
   ]
  },
  {
   "cell_type": "code",
   "execution_count": 4,
   "metadata": {
    "ExecuteTime": {
     "end_time": "2020-11-27T21:16:36.938653Z",
     "start_time": "2020-11-27T21:16:36.881890Z"
    }
   },
   "outputs": [
    {
     "data": {
      "text/html": [
       "<div>\n",
       "<style scoped>\n",
       "    .dataframe tbody tr th:only-of-type {\n",
       "        vertical-align: middle;\n",
       "    }\n",
       "\n",
       "    .dataframe tbody tr th {\n",
       "        vertical-align: top;\n",
       "    }\n",
       "\n",
       "    .dataframe thead th {\n",
       "        text-align: right;\n",
       "    }\n",
       "</style>\n",
       "<table border=\"1\" class=\"dataframe\">\n",
       "  <thead>\n",
       "    <tr style=\"text-align: right;\">\n",
       "      <th></th>\n",
       "      <th>col1</th>\n",
       "      <th>col2</th>\n",
       "    </tr>\n",
       "  </thead>\n",
       "  <tbody>\n",
       "    <tr>\n",
       "      <th>0</th>\n",
       "      <td>1</td>\n",
       "      <td>3</td>\n",
       "    </tr>\n",
       "    <tr>\n",
       "      <th>1</th>\n",
       "      <td>2</td>\n",
       "      <td>4</td>\n",
       "    </tr>\n",
       "    <tr>\n",
       "      <th>2</th>\n",
       "      <td>3</td>\n",
       "      <td>5</td>\n",
       "    </tr>\n",
       "    <tr>\n",
       "      <th>3</th>\n",
       "      <td>4</td>\n",
       "      <td>6</td>\n",
       "    </tr>\n",
       "    <tr>\n",
       "      <th>4</th>\n",
       "      <td>5</td>\n",
       "      <td>7</td>\n",
       "    </tr>\n",
       "  </tbody>\n",
       "</table>\n",
       "</div>"
      ],
      "text/plain": [
       "   col1  col2\n",
       "0     1     3\n",
       "1     2     4\n",
       "2     3     5\n",
       "3     4     6\n",
       "4     5     7"
      ]
     },
     "execution_count": 4,
     "metadata": {},
     "output_type": "execute_result"
    }
   ],
   "source": [
    "df = pd.DataFrame({'col1': [1,2, 3, 4, 5], 'col2': [3, 4, 5, 6, 7]})\n",
    "df "
   ]
  },
  {
   "cell_type": "code",
   "execution_count": 5,
   "metadata": {
    "ExecuteTime": {
     "end_time": "2020-11-27T21:16:36.952312Z",
     "start_time": "2020-11-27T21:16:36.943829Z"
    }
   },
   "outputs": [],
   "source": [
    "report.append(f'''### [Article](https://towardsdatascience.com/how-to-exclude-the-outliers-in-pandas-dataframe-c749fca4e091)''')"
   ]
  },
  {
   "cell_type": "code",
   "execution_count": 6,
   "metadata": {
    "ExecuteTime": {
     "end_time": "2020-11-27T21:16:36.965176Z",
     "start_time": "2020-11-27T21:16:36.957606Z"
    }
   },
   "outputs": [],
   "source": [
    "report.append(f'''### [Source code](https://github.com/khuyentran1401/Data-science)''')"
   ]
  },
  {
   "cell_type": "code",
   "execution_count": 7,
   "metadata": {
    "ExecuteTime": {
     "end_time": "2020-11-27T21:16:36.977707Z",
     "start_time": "2020-11-27T21:16:36.970052Z"
    }
   },
   "outputs": [],
   "source": [
    "report.append('# Assign New Columns to a DataFrame')"
   ]
  },
  {
   "cell_type": "code",
   "execution_count": 8,
   "metadata": {
    "ExecuteTime": {
     "end_time": "2020-11-27T21:16:36.992694Z",
     "start_time": "2020-11-27T21:16:36.985295Z"
    }
   },
   "outputs": [],
   "source": [
    "report.append('## Before')"
   ]
  },
  {
   "cell_type": "code",
   "execution_count": 9,
   "metadata": {
    "ExecuteTime": {
     "end_time": "2020-11-27T21:16:37.007589Z",
     "start_time": "2020-11-27T21:16:37.000004Z"
    }
   },
   "outputs": [],
   "source": [
    "report.append(\"\"\"\n",
    "```python \n",
    "df = pd.DataFrame({'col1': [1,2, 3, 4, 5], 'col2': [3, 4, 5, 6, 7]})\n",
    "```\"\"\")"
   ]
  },
  {
   "cell_type": "code",
   "execution_count": 10,
   "metadata": {
    "ExecuteTime": {
     "end_time": "2020-11-27T21:16:37.106697Z",
     "start_time": "2020-11-27T21:16:37.012687Z"
    }
   },
   "outputs": [],
   "source": [
    "report.append(dp.Table(df))"
   ]
  },
  {
   "cell_type": "code",
   "execution_count": 11,
   "metadata": {
    "ExecuteTime": {
     "end_time": "2020-11-27T21:16:37.139385Z",
     "start_time": "2020-11-27T21:16:37.110717Z"
    }
   },
   "outputs": [],
   "source": [
    "df = (df.assign(col3=lambda data: data.col1 * 100 + data.col2)\n",
    "     .assign(col4=lambda data: data.col2 + data.col3))"
   ]
  },
  {
   "cell_type": "code",
   "execution_count": 12,
   "metadata": {
    "ExecuteTime": {
     "end_time": "2020-11-27T21:16:37.165905Z",
     "start_time": "2020-11-27T21:16:37.145197Z"
    }
   },
   "outputs": [
    {
     "data": {
      "text/html": [
       "<div>\n",
       "<style scoped>\n",
       "    .dataframe tbody tr th:only-of-type {\n",
       "        vertical-align: middle;\n",
       "    }\n",
       "\n",
       "    .dataframe tbody tr th {\n",
       "        vertical-align: top;\n",
       "    }\n",
       "\n",
       "    .dataframe thead th {\n",
       "        text-align: right;\n",
       "    }\n",
       "</style>\n",
       "<table border=\"1\" class=\"dataframe\">\n",
       "  <thead>\n",
       "    <tr style=\"text-align: right;\">\n",
       "      <th></th>\n",
       "      <th>col1</th>\n",
       "      <th>col2</th>\n",
       "      <th>col3</th>\n",
       "      <th>col4</th>\n",
       "    </tr>\n",
       "  </thead>\n",
       "  <tbody>\n",
       "    <tr>\n",
       "      <th>0</th>\n",
       "      <td>1</td>\n",
       "      <td>3</td>\n",
       "      <td>103</td>\n",
       "      <td>106</td>\n",
       "    </tr>\n",
       "    <tr>\n",
       "      <th>1</th>\n",
       "      <td>2</td>\n",
       "      <td>4</td>\n",
       "      <td>204</td>\n",
       "      <td>208</td>\n",
       "    </tr>\n",
       "    <tr>\n",
       "      <th>2</th>\n",
       "      <td>3</td>\n",
       "      <td>5</td>\n",
       "      <td>305</td>\n",
       "      <td>310</td>\n",
       "    </tr>\n",
       "    <tr>\n",
       "      <th>3</th>\n",
       "      <td>4</td>\n",
       "      <td>6</td>\n",
       "      <td>406</td>\n",
       "      <td>412</td>\n",
       "    </tr>\n",
       "    <tr>\n",
       "      <th>4</th>\n",
       "      <td>5</td>\n",
       "      <td>7</td>\n",
       "      <td>507</td>\n",
       "      <td>514</td>\n",
       "    </tr>\n",
       "  </tbody>\n",
       "</table>\n",
       "</div>"
      ],
      "text/plain": [
       "   col1  col2  col3  col4\n",
       "0     1     3   103   106\n",
       "1     2     4   204   208\n",
       "2     3     5   305   310\n",
       "3     4     6   406   412\n",
       "4     5     7   507   514"
      ]
     },
     "execution_count": 12,
     "metadata": {},
     "output_type": "execute_result"
    }
   ],
   "source": [
    "df "
   ]
  },
  {
   "cell_type": "code",
   "execution_count": 13,
   "metadata": {
    "ExecuteTime": {
     "end_time": "2020-11-27T21:16:37.180267Z",
     "start_time": "2020-11-27T21:16:37.172094Z"
    }
   },
   "outputs": [],
   "source": [
    "report.append('## After')"
   ]
  },
  {
   "cell_type": "code",
   "execution_count": 14,
   "metadata": {
    "ExecuteTime": {
     "end_time": "2020-11-27T21:16:37.198450Z",
     "start_time": "2020-11-27T21:16:37.186264Z"
    }
   },
   "outputs": [],
   "source": [
    "report.append(f\"\"\"\n",
    "```python \n",
    "df = (df.assign(col3=lambda data: data.col1 * 100 + data.col2)\n",
    ".assign(col4=lambda data: data.col2 + data.col3))\n",
    "```\n",
    "\"\"\")"
   ]
  },
  {
   "cell_type": "code",
   "execution_count": 15,
   "metadata": {
    "ExecuteTime": {
     "end_time": "2020-11-27T21:16:37.319857Z",
     "start_time": "2020-11-27T21:16:37.204685Z"
    }
   },
   "outputs": [],
   "source": [
    "report.append(dp.Table(df))"
   ]
  },
  {
   "cell_type": "markdown",
   "metadata": {},
   "source": [
    "# Exclude the Outliers in a Column"
   ]
  },
  {
   "cell_type": "code",
   "execution_count": 16,
   "metadata": {
    "ExecuteTime": {
     "end_time": "2020-11-27T21:16:37.333153Z",
     "start_time": "2020-11-27T21:16:37.325117Z"
    }
   },
   "outputs": [],
   "source": [
    "data = {'col0': [9, -3, 0, -1, 5]}\n",
    "df = pd.DataFrame(data)"
   ]
  },
  {
   "cell_type": "code",
   "execution_count": 17,
   "metadata": {
    "ExecuteTime": {
     "end_time": "2020-11-27T21:16:37.353940Z",
     "start_time": "2020-11-27T21:16:37.337434Z"
    }
   },
   "outputs": [
    {
     "data": {
      "text/plain": [
       "0    8\n",
       "1   -2\n",
       "2    0\n",
       "3   -1\n",
       "4    5\n",
       "Name: col0, dtype: int64"
      ]
     },
     "execution_count": 17,
     "metadata": {},
     "output_type": "execute_result"
    }
   ],
   "source": [
    "df.col0.clip(lower=-2, upper=8)"
   ]
  },
  {
   "cell_type": "code",
   "execution_count": 18,
   "metadata": {
    "ExecuteTime": {
     "end_time": "2020-11-27T21:16:37.365743Z",
     "start_time": "2020-11-27T21:16:37.358501Z"
    }
   },
   "outputs": [],
   "source": [
    "report.append('# Exclude the Outliers in a Column')"
   ]
  },
  {
   "cell_type": "code",
   "execution_count": 19,
   "metadata": {
    "ExecuteTime": {
     "end_time": "2020-11-27T21:16:37.465839Z",
     "start_time": "2020-11-27T21:16:37.372141Z"
    }
   },
   "outputs": [],
   "source": [
    "report.append('## Before')\n",
    "report.append('''\n",
    "```python \n",
    "data = {'col0': [9, -3, 0, -1, 5]}\n",
    "df = pd.DataFrame(data)\n",
    "```\n",
    "''')\n",
    "report.append(dp.Table(df))"
   ]
  },
  {
   "cell_type": "code",
   "execution_count": 20,
   "metadata": {
    "ExecuteTime": {
     "end_time": "2020-11-27T21:16:37.485589Z",
     "start_time": "2020-11-27T21:16:37.470212Z"
    }
   },
   "outputs": [],
   "source": [
    "lower = df.col0.quantile(.05)\n",
    "upper = df.col0.quantile(.95)"
   ]
  },
  {
   "cell_type": "code",
   "execution_count": 21,
   "metadata": {
    "ExecuteTime": {
     "end_time": "2020-11-27T21:16:37.515350Z",
     "start_time": "2020-11-27T21:16:37.490429Z"
    }
   },
   "outputs": [
    {
     "data": {
      "text/html": [
       "<div>\n",
       "<style scoped>\n",
       "    .dataframe tbody tr th:only-of-type {\n",
       "        vertical-align: middle;\n",
       "    }\n",
       "\n",
       "    .dataframe tbody tr th {\n",
       "        vertical-align: top;\n",
       "    }\n",
       "\n",
       "    .dataframe thead th {\n",
       "        text-align: right;\n",
       "    }\n",
       "</style>\n",
       "<table border=\"1\" class=\"dataframe\">\n",
       "  <thead>\n",
       "    <tr style=\"text-align: right;\">\n",
       "      <th></th>\n",
       "      <th>col0</th>\n",
       "    </tr>\n",
       "  </thead>\n",
       "  <tbody>\n",
       "    <tr>\n",
       "      <th>0</th>\n",
       "      <td>8.2</td>\n",
       "    </tr>\n",
       "    <tr>\n",
       "      <th>1</th>\n",
       "      <td>-2.6</td>\n",
       "    </tr>\n",
       "    <tr>\n",
       "      <th>2</th>\n",
       "      <td>0.0</td>\n",
       "    </tr>\n",
       "    <tr>\n",
       "      <th>3</th>\n",
       "      <td>-1.0</td>\n",
       "    </tr>\n",
       "    <tr>\n",
       "      <th>4</th>\n",
       "      <td>5.0</td>\n",
       "    </tr>\n",
       "  </tbody>\n",
       "</table>\n",
       "</div>"
      ],
      "text/plain": [
       "   col0\n",
       "0   8.2\n",
       "1  -2.6\n",
       "2   0.0\n",
       "3  -1.0\n",
       "4   5.0"
      ]
     },
     "execution_count": 21,
     "metadata": {},
     "output_type": "execute_result"
    }
   ],
   "source": [
    "df = df.clip(lower=lower, upper=upper)\n",
    "df "
   ]
  },
  {
   "cell_type": "code",
   "execution_count": 22,
   "metadata": {
    "ExecuteTime": {
     "end_time": "2020-11-27T21:16:37.526677Z",
     "start_time": "2020-11-27T21:16:37.520372Z"
    }
   },
   "outputs": [],
   "source": [
    "report.append('## After')"
   ]
  },
  {
   "cell_type": "code",
   "execution_count": 23,
   "metadata": {
    "ExecuteTime": {
     "end_time": "2020-11-27T21:16:37.542694Z",
     "start_time": "2020-11-27T21:16:37.537048Z"
    }
   },
   "outputs": [],
   "source": [
    "report.append(\"\"\"\n",
    "```python \n",
    "lower = df.col0.quantile(.05)\n",
    "upper = df.col0.quantile(.95)\n",
    "df = df.clip(lower=lower, upper=upper)\n",
    "```\n",
    "\"\"\")"
   ]
  },
  {
   "cell_type": "code",
   "execution_count": 24,
   "metadata": {
    "ExecuteTime": {
     "end_time": "2020-11-27T21:16:37.633981Z",
     "start_time": "2020-11-27T21:16:37.547874Z"
    }
   },
   "outputs": [],
   "source": [
    "report.append(dp.Table(df))"
   ]
  },
  {
   "cell_type": "markdown",
   "metadata": {},
   "source": [
    "# Select or Drop All Columns that Start with X"
   ]
  },
  {
   "cell_type": "code",
   "execution_count": 25,
   "metadata": {
    "ExecuteTime": {
     "end_time": "2020-11-27T21:16:37.666607Z",
     "start_time": "2020-11-27T21:16:37.639641Z"
    }
   },
   "outputs": [
    {
     "data": {
      "text/html": [
       "<div>\n",
       "<style scoped>\n",
       "    .dataframe tbody tr th:only-of-type {\n",
       "        vertical-align: middle;\n",
       "    }\n",
       "\n",
       "    .dataframe tbody tr th {\n",
       "        vertical-align: top;\n",
       "    }\n",
       "\n",
       "    .dataframe thead th {\n",
       "        text-align: right;\n",
       "    }\n",
       "</style>\n",
       "<table border=\"1\" class=\"dataframe\">\n",
       "  <thead>\n",
       "    <tr style=\"text-align: right;\">\n",
       "      <th></th>\n",
       "      <th>col1</th>\n",
       "      <th>col2</th>\n",
       "      <th>year</th>\n",
       "    </tr>\n",
       "  </thead>\n",
       "  <tbody>\n",
       "    <tr>\n",
       "      <th>0</th>\n",
       "      <td>1</td>\n",
       "      <td>4</td>\n",
       "      <td>2018</td>\n",
       "    </tr>\n",
       "    <tr>\n",
       "      <th>1</th>\n",
       "      <td>2</td>\n",
       "      <td>5</td>\n",
       "      <td>2019</td>\n",
       "    </tr>\n",
       "    <tr>\n",
       "      <th>2</th>\n",
       "      <td>3</td>\n",
       "      <td>6</td>\n",
       "      <td>2020</td>\n",
       "    </tr>\n",
       "    <tr>\n",
       "      <th>3</th>\n",
       "      <td>4</td>\n",
       "      <td>6</td>\n",
       "      <td>2020</td>\n",
       "    </tr>\n",
       "    <tr>\n",
       "      <th>4</th>\n",
       "      <td>5</td>\n",
       "      <td>7</td>\n",
       "      <td>2020</td>\n",
       "    </tr>\n",
       "  </tbody>\n",
       "</table>\n",
       "</div>"
      ],
      "text/plain": [
       "   col1  col2  year\n",
       "0     1     4  2018\n",
       "1     2     5  2019\n",
       "2     3     6  2020\n",
       "3     4     6  2020\n",
       "4     5     7  2020"
      ]
     },
     "execution_count": 25,
     "metadata": {},
     "output_type": "execute_result"
    }
   ],
   "source": [
    "df = pd.DataFrame({'col1': [1,2,3, 4, 5], \n",
    "                   'col2': [4,5,6, 6, 7], \n",
    "                   'year': [2018, 2019, 2020, 2020, 2020]})\n",
    "df "
   ]
  },
  {
   "cell_type": "code",
   "execution_count": 26,
   "metadata": {
    "ExecuteTime": {
     "end_time": "2020-11-27T21:16:37.678079Z",
     "start_time": "2020-11-27T21:16:37.671221Z"
    }
   },
   "outputs": [],
   "source": [
    "report.append('# Select or Drop All Columns that Start with X ')"
   ]
  },
  {
   "cell_type": "code",
   "execution_count": 27,
   "metadata": {
    "ExecuteTime": {
     "end_time": "2020-11-27T21:16:37.784087Z",
     "start_time": "2020-11-27T21:16:37.682657Z"
    }
   },
   "outputs": [],
   "source": [
    "report.append('## Before')\n",
    "report.append(\"\"\"\n",
    "```python \n",
    "df = pd.DataFrame({'col1': [1,2,3, 4, 5], 'col2': [4,5,6, 6, 7], 'year': [2018, 2019, 2020, 2020, 2020]})\n",
    "```\n",
    "\"\"\")\n",
    "report.append(dp.Table(df))"
   ]
  },
  {
   "cell_type": "code",
   "execution_count": 28,
   "metadata": {
    "ExecuteTime": {
     "end_time": "2020-11-27T21:16:37.802103Z",
     "start_time": "2020-11-27T21:16:37.789513Z"
    }
   },
   "outputs": [
    {
     "data": {
      "text/plain": [
       "array([ True,  True, False])"
      ]
     },
     "execution_count": 28,
     "metadata": {},
     "output_type": "execute_result"
    }
   ],
   "source": [
    "chosen_cols = df.columns.str.startswith('col')\n",
    "chosen_cols"
   ]
  },
  {
   "cell_type": "markdown",
   "metadata": {},
   "source": [
    "## Select All Columns that Start with X"
   ]
  },
  {
   "cell_type": "code",
   "execution_count": 29,
   "metadata": {
    "ExecuteTime": {
     "end_time": "2020-11-27T21:16:37.827488Z",
     "start_time": "2020-11-27T21:16:37.807702Z"
    }
   },
   "outputs": [
    {
     "data": {
      "text/html": [
       "<div>\n",
       "<style scoped>\n",
       "    .dataframe tbody tr th:only-of-type {\n",
       "        vertical-align: middle;\n",
       "    }\n",
       "\n",
       "    .dataframe tbody tr th {\n",
       "        vertical-align: top;\n",
       "    }\n",
       "\n",
       "    .dataframe thead th {\n",
       "        text-align: right;\n",
       "    }\n",
       "</style>\n",
       "<table border=\"1\" class=\"dataframe\">\n",
       "  <thead>\n",
       "    <tr style=\"text-align: right;\">\n",
       "      <th></th>\n",
       "      <th>col1</th>\n",
       "      <th>col2</th>\n",
       "    </tr>\n",
       "  </thead>\n",
       "  <tbody>\n",
       "    <tr>\n",
       "      <th>0</th>\n",
       "      <td>1</td>\n",
       "      <td>4</td>\n",
       "    </tr>\n",
       "    <tr>\n",
       "      <th>1</th>\n",
       "      <td>2</td>\n",
       "      <td>5</td>\n",
       "    </tr>\n",
       "    <tr>\n",
       "      <th>2</th>\n",
       "      <td>3</td>\n",
       "      <td>6</td>\n",
       "    </tr>\n",
       "    <tr>\n",
       "      <th>3</th>\n",
       "      <td>4</td>\n",
       "      <td>6</td>\n",
       "    </tr>\n",
       "    <tr>\n",
       "      <th>4</th>\n",
       "      <td>5</td>\n",
       "      <td>7</td>\n",
       "    </tr>\n",
       "  </tbody>\n",
       "</table>\n",
       "</div>"
      ],
      "text/plain": [
       "   col1  col2\n",
       "0     1     4\n",
       "1     2     5\n",
       "2     3     6\n",
       "3     4     6\n",
       "4     5     7"
      ]
     },
     "execution_count": 29,
     "metadata": {},
     "output_type": "execute_result"
    }
   ],
   "source": [
    "filtered_df = df.loc[:, chosen_cols]\n",
    "filtered_df"
   ]
  },
  {
   "cell_type": "code",
   "execution_count": 30,
   "metadata": {
    "ExecuteTime": {
     "end_time": "2020-11-27T21:16:37.838871Z",
     "start_time": "2020-11-27T21:16:37.831921Z"
    }
   },
   "outputs": [],
   "source": [
    "report.append('## Select')"
   ]
  },
  {
   "cell_type": "code",
   "execution_count": 31,
   "metadata": {
    "ExecuteTime": {
     "end_time": "2020-11-27T21:16:37.851026Z",
     "start_time": "2020-11-27T21:16:37.843007Z"
    }
   },
   "outputs": [],
   "source": [
    "report.append('''\n",
    "```python \n",
    "chosen_cols = df.columns.str.startswith('col')\n",
    "filtered_df = df.loc[:, chosen_cols]\n",
    "```\n",
    "''')"
   ]
  },
  {
   "cell_type": "code",
   "execution_count": 32,
   "metadata": {
    "ExecuteTime": {
     "end_time": "2020-11-27T21:16:37.944413Z",
     "start_time": "2020-11-27T21:16:37.856040Z"
    }
   },
   "outputs": [],
   "source": [
    "report.append(dp.Table(filtered_df))"
   ]
  },
  {
   "cell_type": "markdown",
   "metadata": {},
   "source": [
    "## Drop All Columns that Start with X"
   ]
  },
  {
   "cell_type": "code",
   "execution_count": 33,
   "metadata": {
    "ExecuteTime": {
     "end_time": "2020-11-27T21:16:37.968364Z",
     "start_time": "2020-11-27T21:16:37.948901Z"
    }
   },
   "outputs": [
    {
     "data": {
      "text/html": [
       "<div>\n",
       "<style scoped>\n",
       "    .dataframe tbody tr th:only-of-type {\n",
       "        vertical-align: middle;\n",
       "    }\n",
       "\n",
       "    .dataframe tbody tr th {\n",
       "        vertical-align: top;\n",
       "    }\n",
       "\n",
       "    .dataframe thead th {\n",
       "        text-align: right;\n",
       "    }\n",
       "</style>\n",
       "<table border=\"1\" class=\"dataframe\">\n",
       "  <thead>\n",
       "    <tr style=\"text-align: right;\">\n",
       "      <th></th>\n",
       "      <th>year</th>\n",
       "    </tr>\n",
       "  </thead>\n",
       "  <tbody>\n",
       "    <tr>\n",
       "      <th>0</th>\n",
       "      <td>2018</td>\n",
       "    </tr>\n",
       "    <tr>\n",
       "      <th>1</th>\n",
       "      <td>2019</td>\n",
       "    </tr>\n",
       "    <tr>\n",
       "      <th>2</th>\n",
       "      <td>2020</td>\n",
       "    </tr>\n",
       "    <tr>\n",
       "      <th>3</th>\n",
       "      <td>2020</td>\n",
       "    </tr>\n",
       "    <tr>\n",
       "      <th>4</th>\n",
       "      <td>2020</td>\n",
       "    </tr>\n",
       "  </tbody>\n",
       "</table>\n",
       "</div>"
      ],
      "text/plain": [
       "   year\n",
       "0  2018\n",
       "1  2019\n",
       "2  2020\n",
       "3  2020\n",
       "4  2020"
      ]
     },
     "execution_count": 33,
     "metadata": {},
     "output_type": "execute_result"
    }
   ],
   "source": [
    "filtered_df = df.loc[:, ~chosen_cols]\n",
    "filtered_df"
   ]
  },
  {
   "cell_type": "code",
   "execution_count": 34,
   "metadata": {
    "ExecuteTime": {
     "end_time": "2020-11-27T21:16:37.984697Z",
     "start_time": "2020-11-27T21:16:37.973293Z"
    }
   },
   "outputs": [],
   "source": [
    "report.append('## Drop')"
   ]
  },
  {
   "cell_type": "code",
   "execution_count": 35,
   "metadata": {
    "ExecuteTime": {
     "end_time": "2020-11-27T21:16:37.997504Z",
     "start_time": "2020-11-27T21:16:37.990366Z"
    }
   },
   "outputs": [],
   "source": [
    "report.append(\"\"\"\n",
    "```python \n",
    "chosen_cols = df.columns.str.startswith('col')\n",
    "filtered_df = df.loc[:, ~chosen_cols]\n",
    "```\n",
    "\"\"\")"
   ]
  },
  {
   "cell_type": "code",
   "execution_count": 36,
   "metadata": {
    "ExecuteTime": {
     "end_time": "2020-11-27T21:16:38.110539Z",
     "start_time": "2020-11-27T21:16:38.002878Z"
    }
   },
   "outputs": [],
   "source": [
    "report.append(dp.Table(filtered_df))"
   ]
  },
  {
   "cell_type": "markdown",
   "metadata": {},
   "source": [
    "# Filter Rows only if Column Contains Values from another List"
   ]
  },
  {
   "cell_type": "code",
   "execution_count": 37,
   "metadata": {
    "ExecuteTime": {
     "end_time": "2020-11-27T21:16:38.127974Z",
     "start_time": "2020-11-27T21:16:38.115678Z"
    }
   },
   "outputs": [],
   "source": [
    "df = pd.DataFrame({'col1': [1, 2, 3, 4, 5], 'col2': ['a', 'b', 'c', 'd', 'e']})"
   ]
  },
  {
   "cell_type": "code",
   "execution_count": 38,
   "metadata": {
    "ExecuteTime": {
     "end_time": "2020-11-27T21:16:38.143857Z",
     "start_time": "2020-11-27T21:16:38.135004Z"
    }
   },
   "outputs": [],
   "source": [
    "report.append('# Filter Rows only if Column Contains Values from another List')"
   ]
  },
  {
   "cell_type": "code",
   "execution_count": 39,
   "metadata": {
    "ExecuteTime": {
     "end_time": "2020-11-27T21:16:38.299903Z",
     "start_time": "2020-11-27T21:16:38.149596Z"
    }
   },
   "outputs": [],
   "source": [
    "report.append('## Before')\n",
    "report.append(\"\"\"\n",
    "```python \n",
    "df = pd.DataFrame({'col1': [1, 2, 3, 4, 5], 'col2': ['a', 'b', 'c', 'd', 'e']})\n",
    "```\n",
    "\"\"\")\n",
    "report.append(dp.Table(df))"
   ]
  },
  {
   "cell_type": "code",
   "execution_count": 40,
   "metadata": {
    "ExecuteTime": {
     "end_time": "2020-11-27T21:16:38.314040Z",
     "start_time": "2020-11-27T21:16:38.305510Z"
    }
   },
   "outputs": [],
   "source": [
    "l = ['a', 'c', 'd', 'e']"
   ]
  },
  {
   "cell_type": "code",
   "execution_count": 41,
   "metadata": {
    "ExecuteTime": {
     "end_time": "2020-11-27T21:16:38.333553Z",
     "start_time": "2020-11-27T21:16:38.319640Z"
    }
   },
   "outputs": [
    {
     "data": {
      "text/plain": [
       "0     True\n",
       "1    False\n",
       "2     True\n",
       "3     True\n",
       "4     True\n",
       "Name: col2, dtype: bool"
      ]
     },
     "execution_count": 41,
     "metadata": {},
     "output_type": "execute_result"
    }
   ],
   "source": [
    "df.col2.isin(l)"
   ]
  },
  {
   "cell_type": "code",
   "execution_count": 42,
   "metadata": {
    "ExecuteTime": {
     "end_time": "2020-11-27T21:16:38.346905Z",
     "start_time": "2020-11-27T21:16:38.338204Z"
    }
   },
   "outputs": [],
   "source": [
    "df = df[df.col2.isin(l)]"
   ]
  },
  {
   "cell_type": "code",
   "execution_count": 43,
   "metadata": {
    "ExecuteTime": {
     "end_time": "2020-11-27T21:16:38.362602Z",
     "start_time": "2020-11-27T21:16:38.351832Z"
    }
   },
   "outputs": [],
   "source": [
    "report.append('## After')"
   ]
  },
  {
   "cell_type": "code",
   "execution_count": 44,
   "metadata": {
    "ExecuteTime": {
     "end_time": "2020-11-27T21:16:38.375765Z",
     "start_time": "2020-11-27T21:16:38.368321Z"
    }
   },
   "outputs": [],
   "source": [
    "report.append(\"\"\"\n",
    "```python \n",
    "l = ['a', 'c', 'd', 'e']\n",
    "df = df[df.col2.isin(l)]\n",
    "\"\"\")"
   ]
  },
  {
   "cell_type": "code",
   "execution_count": 45,
   "metadata": {
    "ExecuteTime": {
     "end_time": "2020-11-27T21:16:38.509509Z",
     "start_time": "2020-11-27T21:16:38.380287Z"
    }
   },
   "outputs": [],
   "source": [
    "report.append(dp.Table(df))"
   ]
  },
  {
   "cell_type": "code",
   "execution_count": 46,
   "metadata": {
    "ExecuteTime": {
     "end_time": "2020-11-27T21:16:40.022559Z",
     "start_time": "2020-11-27T21:16:38.518752Z"
    }
   },
   "outputs": [
    {
     "name": "stdout",
     "output_type": "stream",
     "text": [
      "Publishing report and associated data - please wait..\n",
      "Report successfully published at https://datapane.com/u/khuyentran1401/reports/4-pandas-tricks/\n"
     ]
    }
   ],
   "source": [
    "dp.Report(*report).publish(name='4 Pandas Tricks')"
   ]
  }
 ],
 "metadata": {
  "kernelspec": {
   "display_name": "Python 3.8.3 64-bit ('scraping': conda)",
   "language": "python",
   "name": "python38364bitscrapingconda8891ca94cb9c435e8f8159bc20eab25f"
  },
  "language_info": {
   "codemirror_mode": {
    "name": "ipython",
    "version": 3
   },
   "file_extension": ".py",
   "mimetype": "text/x-python",
   "name": "python",
   "nbconvert_exporter": "python",
   "pygments_lexer": "ipython3",
   "version": "3.8.3"
  },
  "toc": {
   "base_numbering": 1,
   "nav_menu": {},
   "number_sections": true,
   "sideBar": true,
   "skip_h1_title": false,
   "title_cell": "Table of Contents",
   "title_sidebar": "Contents",
   "toc_cell": false,
   "toc_position": {},
   "toc_section_display": true,
   "toc_window_display": false
  }
 },
 "nbformat": 4,
 "nbformat_minor": 4
}
