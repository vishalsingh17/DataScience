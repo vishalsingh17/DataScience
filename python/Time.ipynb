{
 "cells": [
  {
   "cell_type": "code",
   "execution_count": 5,
   "metadata": {
    "ExecuteTime": {
     "end_time": "2020-10-16T03:42:51.460432Z",
     "start_time": "2020-10-16T03:42:51.452300Z"
    }
   },
   "outputs": [],
   "source": [
    "import timeit\n",
    "import numpy as np\n",
    "from timeit import Timer"
   ]
  },
  {
   "cell_type": "markdown",
   "metadata": {},
   "source": [
    "# Create list"
   ]
  },
  {
   "cell_type": "code",
   "execution_count": 9,
   "metadata": {
    "ExecuteTime": {
     "end_time": "2020-10-16T03:53:39.093194Z",
     "start_time": "2020-10-16T03:53:38.917494Z"
    }
   },
   "outputs": [
    {
     "name": "stdout",
     "output_type": "stream",
     "text": [
      "list range  0.15586492500005988 milliseconds\n"
     ]
    }
   ],
   "source": [
    "import ray\n",
    "import time\n",
    "\n",
    "# Start Ray.\n",
    "#ray.init()\n",
    "\n",
    "@ray.remote\n",
    "def f(x):\n",
    "    time.sleep(1)\n",
    "    return x\n",
    "\n",
    "# Start 4 tasks in parallel.\n",
    "def test_1():\n",
    "    result_ids = []\n",
    "    for i in range(4):\n",
    "        result_ids.append(f.remote(i))\n",
    "\n",
    "# Wait for the tasks to complete and retrieve the results.\n",
    "# With at least 4 cores, this will take 1 second.\n",
    "results = ray.get(result_ids)  # [0, 1, 2, 3]\n",
    "\n",
    "expSize = 100\n",
    "\n",
    "t = Timer(\"test_1()\", \"from __main__ import test_1\")\n",
    "st = t.timeit(number=expSize)\n",
    "print(\"list range \",st, \"milliseconds\")"
   ]
  },
  {
   "cell_type": "code",
   "execution_count": 10,
   "metadata": {
    "ExecuteTime": {
     "end_time": "2020-10-16T03:53:39.943508Z",
     "start_time": "2020-10-16T03:53:39.934516Z"
    }
   },
   "outputs": [
    {
     "data": {
      "text/plain": [
       "[0, 1, 2, 3]"
      ]
     },
     "execution_count": 10,
     "metadata": {},
     "output_type": "execute_result"
    }
   ],
   "source": [
    "results"
   ]
  },
  {
   "cell_type": "code",
   "execution_count": 7,
   "metadata": {
    "ExecuteTime": {
     "end_time": "2020-10-16T03:44:02.736183Z",
     "start_time": "2020-10-16T03:43:10.702454Z"
    }
   },
   "outputs": [
    {
     "name": "stdout",
     "output_type": "stream",
     "text": [
      "concat  51.529789014000016 milliseconds\n",
      "append  0.25409345499974734 milliseconds\n",
      "comprehension  0.13832575100013855 milliseconds\n",
      "list range  0.07142862399996375 milliseconds\n",
      "\n",
      " Worse vs. best ratio 721.4165152338112 \n",
      "\n"
     ]
    }
   ],
   "source": [
    "#concat\n",
    "def test1():\n",
    "    l = []\n",
    "    for i in range(10000):\n",
    "        l = l + [i]\n",
    "\n",
    "#append\n",
    "def test2():\n",
    "    l = []\n",
    "    #Add a new element with append\n",
    "    for i in range(10000):\n",
    "        l.append(i)\n",
    "\n",
    "#comprehension\n",
    "def test3():\n",
    "    #Use bracket that contains elements\n",
    "    l = [i for i in range(10000)]\n",
    "    \n",
    "#list range\n",
    "def test4():\n",
    "    #Use list method\n",
    "    l = list(range(10000))\n",
    "    \n",
    "expSize = 100\n",
    "    \n",
    "t1 = Timer(\"test1()\", \"from __main__ import test1\")\n",
    "st1 = t1.timeit(number=expSize)\n",
    "print(\"concat \",st1, \"milliseconds\")\n",
    "t2 = Timer(\"test2()\", \"from __main__ import test2\")\n",
    "print(\"append \",t2.timeit(number=expSize), \"milliseconds\")\n",
    "t3 = Timer(\"test3()\", \"from __main__ import test3\")\n",
    "print(\"comprehension \",t3.timeit(number=expSize), \"milliseconds\")\n",
    "t4 = Timer(\"test4()\", \"from __main__ import test4\")\n",
    "st4 = t4.timeit(number=expSize)\n",
    "print(\"list range \",st4, \"milliseconds\")\n",
    "\n",
    "print ('\\n Worse vs. best ratio', st1/st4, '\\n')"
   ]
  },
  {
   "cell_type": "markdown",
   "metadata": {},
   "source": [
    "# Pop-front vs Pop-end\n"
   ]
  },
  {
   "cell_type": "code",
   "execution_count": 3,
   "metadata": {
    "ExecuteTime": {
     "end_time": "2020-07-31T16:25:24.847388Z",
     "start_time": "2020-07-31T16:25:23.597476Z"
    }
   },
   "outputs": [],
   "source": [
    "#Pop the first element of a list\n",
    "pop_zero = Timer(\"x.pop(0)\",\n",
    "                'from __main__ import x')\n",
    "\n",
    "#Pop the last element of a list\n",
    "pop_end = Timer('x.pop()',\n",
    "                'from __main__ import x')\n",
    "\n",
    "#Number of experiments\n",
    "expSize = 100\n",
    "result = []\n",
    "\n",
    "for i in range(10000,1000001,20000):\n",
    "    \n",
    "    #Define the array\n",
    "    x = list(range(i))\n",
    "    \n",
    "    #Time the average results of 1000 experiments for each method\n",
    "    pt = pop_end.timeit(number=expSize)\n",
    "    pz = pop_zero.timeit(number=expSize)\n",
    "    \n",
    "    result.append((i,pz,pt))"
   ]
  },
  {
   "cell_type": "code",
   "execution_count": 4,
   "metadata": {
    "ExecuteTime": {
     "end_time": "2020-07-31T16:25:30.192551Z",
     "start_time": "2020-07-31T16:25:29.872386Z"
    }
   },
   "outputs": [
    {
     "data": {
      "image/png": "[encoded data removed]",
      "text/plain": [
       "<Figure size 432x288 with 1 Axes>"
      ]
     },
     "metadata": {
      "needs_background": "light"
     },
     "output_type": "display_data"
    }
   ],
   "source": [
    "import numpy as np\n",
    "import matplotlib.pyplot as plt\n",
    "\n",
    "matrixDat = np.array( result )\n",
    "plt.plot(matrixDat[:,0], matrixDat[:,1], 'o', color='red',label='pop_zero');\n",
    "plt.plot(matrixDat[:,0], matrixDat[:,2], '+', color='blue',label='pop_end');\n",
    "leg = plt.legend(numpoints=1)"
   ]
  },
  {
   "cell_type": "markdown",
   "metadata": {},
   "source": [
    "# List vs Set"
   ]
  },
  {
   "cell_type": "code",
   "execution_count": 5,
   "metadata": {
    "ExecuteTime": {
     "end_time": "2020-07-31T16:28:12.911466Z",
     "start_time": "2020-07-31T16:25:45.184849Z"
    }
   },
   "outputs": [],
   "source": [
    "import random\n",
    "result = []\n",
    "\n",
    "expSize = 1000\n",
    "\n",
    "for i in range(10000,1000001,20000):\n",
    "  \n",
    "    t = timeit.Timer(\"random.randrange(%d) in x\"%i,\n",
    "        \"from __main__ import random,x\")\n",
    "    \n",
    "    x = list(range(i))\n",
    "    lst_time = t.timeit(number=expSize)\n",
    "    \n",
    "    x = {j:None for j in range(i)}\n",
    "    d_time = t.timeit(number=expSize)\n",
    "    \n",
    "    result.append((i, lst_time, d_time))"
   ]
  },
  {
   "cell_type": "code",
   "execution_count": 7,
   "metadata": {
    "ExecuteTime": {
     "end_time": "2020-07-31T16:30:56.171450Z",
     "start_time": "2020-07-31T16:30:56.067957Z"
    }
   },
   "outputs": [
    {
     "data": {
      "image/png": "[encoded data removed]",
      "text/plain": [
       "<Figure size 432x288 with 1 Axes>"
      ]
     },
     "metadata": {
      "needs_background": "light"
     },
     "output_type": "display_data"
    }
   ],
   "source": [
    "matrixDat = np.array( result )\n",
    "plt.plot(matrixDat[:,0], matrixDat[:,1], 'o', color='red',label='list');\n",
    "plt.plot(matrixDat[:,0], matrixDat[:,2], '+', color='blue',label='set');\n",
    "leg = plt.legend(numpoints=1)"
   ]
  },
  {
   "cell_type": "code",
   "execution_count": null,
   "metadata": {},
   "outputs": [],
   "source": []
  }
 ],
 "metadata": {
  "kernelspec": {
   "display_name": "scraping",
   "language": "python",
   "name": "scraping"
  },
  "language_info": {
   "codemirror_mode": {
    "name": "ipython",
    "version": 3
   },
   "file_extension": ".py",
   "mimetype": "text/x-python",
   "name": "python",
   "nbconvert_exporter": "python",
   "pygments_lexer": "ipython3",
   "version": "3.8.3"
  },
  "latex_envs": {
   "LaTeX_envs_menu_present": true,
   "autoclose": false,
   "autocomplete": true,
   "bibliofile": "biblio.bib",
   "cite_by": "apalike",
   "current_citInitial": 1,
   "eqLabelWithNumbers": true,
   "eqNumInitial": 1,
   "hotkeys": {
    "equation": "Ctrl-E",
    "itemize": "Ctrl-I"
   },
   "labels_anchors": false,
   "latex_user_defs": false,
   "report_style_numbering": false,
   "user_envs_cfg": false
  },
  "toc": {
   "base_numbering": 1,
   "nav_menu": {},
   "number_sections": true,
   "sideBar": true,
   "skip_h1_title": false,
   "title_cell": "Table of Contents",
   "title_sidebar": "Contents",
   "toc_cell": false,
   "toc_position": {},
   "toc_section_display": true,
   "toc_window_display": false
  }
 },
 "nbformat": 4,
 "nbformat_minor": 4
}
