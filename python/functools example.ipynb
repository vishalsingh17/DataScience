{
 "cells": [
  {
   "cell_type": "markdown",
   "metadata": {
    "cell_id": "00000-62ede752-ff02-42bd-8e68-beda6bd479d8",
    "deepnote_cell_type": "markdown",
    "tags": []
   },
   "source": [
    "[![View on GitHub](https://img.shields.io/badge/GitHub-View_on_GitHub-blue?logo=GitHub)](https://github.com/khuyentran1401/Data-science/blob/master/python/functools%20example.ipynb)\n",
    "\n",
    "[<img src=\"https://deepnote.com/buttons/launch-in-deepnote.svg\">](https://deepnote.com/project/Data-science-hxlyJpi-QrKFJziQgoMSmQ/%2FData-science%2Fpython%2Ffunctools%20example.ipynb)"
   ]
  },
  {
   "cell_type": "markdown",
   "metadata": {
    "cell_id": "00000-41252bfc-c56f-42cc-b3c8-67f4eb02b58f",
    "deepnote_cell_type": "markdown"
   },
   "source": [
    "# functools.partial"
   ]
  },
  {
   "cell_type": "code",
   "execution_count": null,
   "metadata": {
    "ExecuteTime": {
     "end_time": "2021-11-12T23:04:49.279883Z",
     "start_time": "2021-11-12T23:04:49.216809Z"
    },
    "allow_embed": "code_output",
    "cell_id": "00002-72aa08e6-76c4-4d79-9d9c-10e2e21c6946",
    "deepnote_cell_type": "code",
    "deepnote_to_be_reexecuted": false,
    "execution_millis": 88,
    "execution_start": 1636760107587,
    "source_hash": "147300f6"
   },
   "outputs": [
    {
     "data": {
      "application/vnd.deepnote.dataframe.v2+json": {
       "column_count": 14,
       "columns": [
        {
         "dtype": "float64",
         "name": "alcohol",
         "stats": {
          "histogram": [
           {
            "bin_end": 13.327,
            "bin_start": 13.16,
            "count": 3
           },
           {
            "bin_end": 13.494,
            "bin_start": 13.327,
            "count": 0
           },
           {
            "bin_end": 13.661,
            "bin_start": 13.494,
            "count": 0
           },
           {
            "bin_end": 13.828,
            "bin_start": 13.661,
            "count": 0
           },
           {
            "bin_end": 13.995000000000001,
            "bin_start": 13.828,
            "count": 1
           },
           {
            "bin_end": 14.161999999999999,
            "bin_start": 13.995000000000001,
            "count": 1
           },
           {
            "bin_end": 14.329,
            "bin_start": 14.161999999999999,
            "count": 2
           },
           {
            "bin_end": 14.496,
            "bin_start": 14.329,
            "count": 2
           },
           {
            "bin_end": 14.663,
            "bin_start": 14.496,
            "count": 0
           },
           {
            "bin_end": 14.83,
            "bin_start": 14.663,
            "count": 1
           }
          ],
          "max": "14.83",
          "min": "13.16",
          "nan_count": 0,
          "unique_count": 10
         }
        },
        {
         "dtype": "float64",
         "name": "malic_acid",
         "stats": {
          "histogram": [
           {
            "bin_end": 1.474,
            "bin_start": 1.35,
            "count": 1
           },
           {
            "bin_end": 1.598,
            "bin_start": 1.474,
            "count": 0
           },
           {
            "bin_end": 1.722,
            "bin_start": 1.598,
            "count": 2
           },
           {
            "bin_end": 1.846,
            "bin_start": 1.722,
            "count": 2
           },
           {
            "bin_end": 1.97,
            "bin_start": 1.846,
            "count": 2
           },
           {
            "bin_end": 2.094,
            "bin_start": 1.97,
            "count": 0
           },
           {
            "bin_end": 2.218,
            "bin_start": 2.094,
            "count": 1
           },
           {
            "bin_end": 2.3419999999999996,
            "bin_start": 2.218,
            "count": 0
           },
           {
            "bin_end": 2.4659999999999997,
            "bin_start": 2.3419999999999996,
            "count": 1
           },
           {
            "bin_end": 2.59,
            "bin_start": 2.4659999999999997,
            "count": 1
           }
          ],
          "max": "2.59",
          "min": "1.35",
          "nan_count": 0,
          "unique_count": 10
         }
        },
        {
         "dtype": "float64",
         "name": "ash",
         "stats": {
          "histogram": [
           {
            "bin_end": 2.213,
            "bin_start": 2.14,
            "count": 2
           },
           {
            "bin_end": 2.286,
            "bin_start": 2.213,
            "count": 1
           },
           {
            "bin_end": 2.359,
            "bin_start": 2.286,
            "count": 0
           },
           {
            "bin_end": 2.432,
            "bin_start": 2.359,
            "count": 1
           },
           {
            "bin_end": 2.505,
            "bin_start": 2.432,
            "count": 3
           },
           {
            "bin_end": 2.5780000000000003,
            "bin_start": 2.505,
            "count": 0
           },
           {
            "bin_end": 2.6510000000000002,
            "bin_start": 2.5780000000000003,
            "count": 1
           },
           {
            "bin_end": 2.724,
            "bin_start": 2.6510000000000002,
            "count": 1
           },
           {
            "bin_end": 2.797,
            "bin_start": 2.724,
            "count": 0
           },
           {
            "bin_end": 2.87,
            "bin_start": 2.797,
            "count": 1
           }
          ],
          "max": "2.87",
          "min": "2.14",
          "nan_count": 0,
          "unique_count": 9
         }
        },
        {
         "dtype": "float64",
         "name": "alcalinity_of_ash",
         "stats": {
          "histogram": [
           {
            "bin_end": 12.18,
            "bin_start": 11.2,
            "count": 1
           },
           {
            "bin_end": 13.16,
            "bin_start": 12.18,
            "count": 0
           },
           {
            "bin_end": 14.14,
            "bin_start": 13.16,
            "count": 1
           },
           {
            "bin_end": 15.12,
            "bin_start": 14.14,
            "count": 1
           },
           {
            "bin_end": 16.1,
            "bin_start": 15.12,
            "count": 3
           },
           {
            "bin_end": 17.08,
            "bin_start": 16.1,
            "count": 1
           },
           {
            "bin_end": 18.06,
            "bin_start": 17.08,
            "count": 1
           },
           {
            "bin_end": 19.04,
            "bin_start": 18.06,
            "count": 1
           },
           {
            "bin_end": 20.02,
            "bin_start": 19.04,
            "count": 0
           },
           {
            "bin_end": 21,
            "bin_start": 20.02,
            "count": 1
           }
          ],
          "max": "21.0",
          "min": "11.2",
          "nan_count": 0,
          "unique_count": 10
         }
        },
        {
         "dtype": "float64",
         "name": "magnesium",
         "stats": {
          "histogram": [
           {
            "bin_end": 99.1,
            "bin_start": 96,
            "count": 3
           },
           {
            "bin_end": 102.2,
            "bin_start": 99.1,
            "count": 2
           },
           {
            "bin_end": 105.3,
            "bin_start": 102.2,
            "count": 0
           },
           {
            "bin_end": 108.4,
            "bin_start": 105.3,
            "count": 0
           },
           {
            "bin_end": 111.5,
            "bin_start": 108.4,
            "count": 0
           },
           {
            "bin_end": 114.6,
            "bin_start": 111.5,
            "count": 2
           },
           {
            "bin_end": 117.7,
            "bin_start": 114.6,
            "count": 0
           },
           {
            "bin_end": 120.8,
            "bin_start": 117.7,
            "count": 1
           },
           {
            "bin_end": 123.9,
            "bin_start": 120.8,
            "count": 1
           },
           {
            "bin_end": 127,
            "bin_start": 123.9,
            "count": 1
           }
          ],
          "max": "127.0",
          "min": "96.0",
          "nan_count": 0,
          "unique_count": 10
         }
        },
        {
         "dtype": "float64",
         "name": "total_phenols",
         "stats": {
          "histogram": [
           {
            "bin_end": 2.635,
            "bin_start": 2.5,
            "count": 2
           },
           {
            "bin_end": 2.77,
            "bin_start": 2.635,
            "count": 1
           },
           {
            "bin_end": 2.9050000000000002,
            "bin_start": 2.77,
            "count": 4
           },
           {
            "bin_end": 3.04,
            "bin_start": 2.9050000000000002,
            "count": 1
           },
           {
            "bin_end": 3.175,
            "bin_start": 3.04,
            "count": 0
           },
           {
            "bin_end": 3.31,
            "bin_start": 3.175,
            "count": 1
           },
           {
            "bin_end": 3.4450000000000003,
            "bin_start": 3.31,
            "count": 0
           },
           {
            "bin_end": 3.58,
            "bin_start": 3.4450000000000003,
            "count": 0
           },
           {
            "bin_end": 3.715,
            "bin_start": 3.58,
            "count": 0
           },
           {
            "bin_end": 3.85,
            "bin_start": 3.715,
            "count": 1
           }
          ],
          "max": "3.85",
          "min": "2.5",
          "nan_count": 0,
          "unique_count": 7
         }
        },
        {
         "dtype": "float64",
         "name": "flavanoids",
         "stats": {
          "histogram": [
           {
            "bin_end": 2.6079999999999997,
            "bin_start": 2.51,
            "count": 2
           },
           {
            "bin_end": 2.706,
            "bin_start": 2.6079999999999997,
            "count": 1
           },
           {
            "bin_end": 2.804,
            "bin_start": 2.706,
            "count": 1
           },
           {
            "bin_end": 2.902,
            "bin_start": 2.804,
            "count": 0
           },
           {
            "bin_end": 3,
            "bin_start": 2.902,
            "count": 1
           },
           {
            "bin_end": 3.098,
            "bin_start": 3,
            "count": 1
           },
           {
            "bin_end": 3.196,
            "bin_start": 3.098,
            "count": 1
           },
           {
            "bin_end": 3.294,
            "bin_start": 3.196,
            "count": 1
           },
           {
            "bin_end": 3.3920000000000003,
            "bin_start": 3.294,
            "count": 1
           },
           {
            "bin_end": 3.49,
            "bin_start": 3.3920000000000003,
            "count": 1
           }
          ],
          "max": "3.49",
          "min": "2.51",
          "nan_count": 0,
          "unique_count": 10
         }
        },
        {
         "dtype": "float64",
         "name": "nonflavanoid_phenols",
         "stats": {
          "histogram": [
           {
            "bin_end": 0.237,
            "bin_start": 0.22,
            "count": 1
           },
           {
            "bin_end": 0.254,
            "bin_start": 0.237,
            "count": 1
           },
           {
            "bin_end": 0.271,
            "bin_start": 0.254,
            "count": 1
           },
           {
            "bin_end": 0.28800000000000003,
            "bin_start": 0.271,
            "count": 1
           },
           {
            "bin_end": 0.305,
            "bin_start": 0.28800000000000003,
            "count": 3
           },
           {
            "bin_end": 0.322,
            "bin_start": 0.305,
            "count": 1
           },
           {
            "bin_end": 0.339,
            "bin_start": 0.322,
            "count": 0
           },
           {
            "bin_end": 0.356,
            "bin_start": 0.339,
            "count": 1
           },
           {
            "bin_end": 0.373,
            "bin_start": 0.356,
            "count": 0
           },
           {
            "bin_end": 0.39,
            "bin_start": 0.373,
            "count": 1
           }
          ],
          "max": "0.39",
          "min": "0.22",
          "nan_count": 0,
          "unique_count": 9
         }
        },
        {
         "dtype": "float64",
         "name": "proanthocyanins",
         "stats": {
          "histogram": [
           {
            "bin_end": 1.406,
            "bin_start": 1.25,
            "count": 2
           },
           {
            "bin_end": 1.562,
            "bin_start": 1.406,
            "count": 0
           },
           {
            "bin_end": 1.718,
            "bin_start": 1.562,
            "count": 0
           },
           {
            "bin_end": 1.874,
            "bin_start": 1.718,
            "count": 2
           },
           {
            "bin_end": 2.0300000000000002,
            "bin_start": 1.874,
            "count": 3
           },
           {
            "bin_end": 2.186,
            "bin_start": 2.0300000000000002,
            "count": 1
           },
           {
            "bin_end": 2.342,
            "bin_start": 2.186,
            "count": 1
           },
           {
            "bin_end": 2.498,
            "bin_start": 2.342,
            "count": 0
           },
           {
            "bin_end": 2.654,
            "bin_start": 2.498,
            "count": 0
           },
           {
            "bin_end": 2.81,
            "bin_start": 2.654,
            "count": 1
           }
          ],
          "max": "2.81",
          "min": "1.25",
          "nan_count": 0,
          "unique_count": 9
         }
        },
        {
         "dtype": "float64",
         "name": "color_intensity",
         "stats": {
          "histogram": [
           {
            "bin_end": 4.668,
            "bin_start": 4.32,
            "count": 2
           },
           {
            "bin_end": 5.016,
            "bin_start": 4.668,
            "count": 0
           },
           {
            "bin_end": 5.364000000000001,
            "bin_start": 5.016,
            "count": 3
           },
           {
            "bin_end": 5.712,
            "bin_start": 5.364000000000001,
            "count": 2
           },
           {
            "bin_end": 6.0600000000000005,
            "bin_start": 5.712,
            "count": 0
           },
           {
            "bin_end": 6.408,
            "bin_start": 6.0600000000000005,
            "count": 0
           },
           {
            "bin_end": 6.756,
            "bin_start": 6.408,
            "count": 1
           },
           {
            "bin_end": 7.104,
            "bin_start": 6.756,
            "count": 0
           },
           {
            "bin_end": 7.452,
            "bin_start": 7.104,
            "count": 1
           },
           {
            "bin_end": 7.8,
            "bin_start": 7.452,
            "count": 1
           }
          ],
          "max": "7.8",
          "min": "4.32",
          "nan_count": 0,
          "unique_count": 10
         }
        },
        {
         "dtype": "float64",
         "name": "hue",
         "stats": {
          "histogram": [
           {
            "bin_end": 0.882,
            "bin_start": 0.86,
            "count": 1
           },
           {
            "bin_end": 0.904,
            "bin_start": 0.882,
            "count": 0
           },
           {
            "bin_end": 0.926,
            "bin_start": 0.904,
            "count": 0
           },
           {
            "bin_end": 0.9480000000000001,
            "bin_start": 0.926,
            "count": 0
           },
           {
            "bin_end": 0.97,
            "bin_start": 0.9480000000000001,
            "count": 0
           },
           {
            "bin_end": 0.992,
            "bin_start": 0.97,
            "count": 0
           },
           {
            "bin_end": 1.014,
            "bin_start": 0.992,
            "count": 1
           },
           {
            "bin_end": 1.036,
            "bin_start": 1.014,
            "count": 2
           },
           {
            "bin_end": 1.058,
            "bin_start": 1.036,
            "count": 4
           },
           {
            "bin_end": 1.08,
            "bin_start": 1.058,
            "count": 2
           }
          ],
          "max": "1.08",
          "min": "0.86",
          "nan_count": 0,
          "unique_count": 8
         }
        },
        {
         "dtype": "float64",
         "name": "od280/od315_of_diluted_wines",
         "stats": {
          "histogram": [
           {
            "bin_end": 2.957,
            "bin_start": 2.85,
            "count": 3
           },
           {
            "bin_end": 3.064,
            "bin_start": 2.957,
            "count": 0
           },
           {
            "bin_end": 3.1710000000000003,
            "bin_start": 3.064,
            "count": 1
           },
           {
            "bin_end": 3.278,
            "bin_start": 3.1710000000000003,
            "count": 0
           },
           {
            "bin_end": 3.385,
            "bin_start": 3.278,
            "count": 0
           },
           {
            "bin_end": 3.492,
            "bin_start": 3.385,
            "count": 2
           },
           {
            "bin_end": 3.599,
            "bin_start": 3.492,
            "count": 3
           },
           {
            "bin_end": 3.706,
            "bin_start": 3.599,
            "count": 0
           },
           {
            "bin_end": 3.8129999999999997,
            "bin_start": 3.706,
            "count": 0
           },
           {
            "bin_end": 3.92,
            "bin_start": 3.8129999999999997,
            "count": 1
           }
          ],
          "max": "3.92",
          "min": "2.85",
          "nan_count": 0,
          "unique_count": 8
         }
        },
        {
         "dtype": "float64",
         "name": "proline",
         "stats": {
          "histogram": [
           {
            "bin_end": 809.5,
            "bin_start": 735,
            "count": 1
           },
           {
            "bin_end": 884,
            "bin_start": 809.5,
            "count": 0
           },
           {
            "bin_end": 958.5,
            "bin_start": 884,
            "count": 0
           },
           {
            "bin_end": 1033,
            "bin_start": 958.5,
            "count": 0
           },
           {
            "bin_end": 1107.5,
            "bin_start": 1033,
            "count": 4
           },
           {
            "bin_end": 1182,
            "bin_start": 1107.5,
            "count": 0
           },
           {
            "bin_end": 1256.5,
            "bin_start": 1182,
            "count": 1
           },
           {
            "bin_end": 1331,
            "bin_start": 1256.5,
            "count": 2
           },
           {
            "bin_end": 1405.5,
            "bin_start": 1331,
            "count": 0
           },
           {
            "bin_end": 1480,
            "bin_start": 1405.5,
            "count": 2
           }
          ],
          "max": "1480.0",
          "min": "735.0",
          "nan_count": 0,
          "unique_count": 9
         }
        },
        {
         "dtype": "int64",
         "name": "target",
         "stats": {
          "histogram": [
           {
            "bin_end": -0.4,
            "bin_start": -0.5,
            "count": 0
           },
           {
            "bin_end": -0.3,
            "bin_start": -0.4,
            "count": 0
           },
           {
            "bin_end": -0.19999999999999996,
            "bin_start": -0.3,
            "count": 0
           },
           {
            "bin_end": -0.09999999999999998,
            "bin_start": -0.19999999999999996,
            "count": 0
           },
           {
            "bin_end": 0,
            "bin_start": -0.09999999999999998,
            "count": 0
           },
           {
            "bin_end": 0.10000000000000009,
            "bin_start": 0,
            "count": 10
           },
           {
            "bin_end": 0.20000000000000007,
            "bin_start": 0.10000000000000009,
            "count": 0
           },
           {
            "bin_end": 0.30000000000000004,
            "bin_start": 0.20000000000000007,
            "count": 0
           },
           {
            "bin_end": 0.4,
            "bin_start": 0.30000000000000004,
            "count": 0
           },
           {
            "bin_end": 0.5,
            "bin_start": 0.4,
            "count": 0
           }
          ],
          "max": "0",
          "min": "0",
          "nan_count": 0,
          "unique_count": 1
         }
        },
        {
         "dtype": "int64",
         "name": "_deepnote_index_column"
        }
       ],
       "row_count": 10,
       "rows_bottom": null,
       "rows_top": [
        {
         "_deepnote_index_column": 0,
         "alcalinity_of_ash": 15.6,
         "alcohol": 14.23,
         "ash": 2.43,
         "color_intensity": 5.64,
         "flavanoids": 3.06,
         "hue": 1.04,
         "magnesium": 127,
         "malic_acid": 1.71,
         "nonflavanoid_phenols": 0.28,
         "od280/od315_of_diluted_wines": 3.92,
         "proanthocyanins": 2.29,
         "proline": 1065,
         "target": 0,
         "total_phenols": 2.8
        },
        {
         "_deepnote_index_column": 1,
         "alcalinity_of_ash": 11.2,
         "alcohol": 13.2,
         "ash": 2.14,
         "color_intensity": 4.38,
         "flavanoids": 2.76,
         "hue": 1.05,
         "magnesium": 100,
         "malic_acid": 1.78,
         "nonflavanoid_phenols": 0.26,
         "od280/od315_of_diluted_wines": 3.4,
         "proanthocyanins": 1.28,
         "proline": 1050,
         "target": 0,
         "total_phenols": 2.65
        },
        {
         "_deepnote_index_column": 2,
         "alcalinity_of_ash": 18.6,
         "alcohol": 13.16,
         "ash": 2.67,
         "color_intensity": 5.68,
         "flavanoids": 3.24,
         "hue": 1.03,
         "magnesium": 101,
         "malic_acid": 2.36,
         "nonflavanoid_phenols": 0.3,
         "od280/od315_of_diluted_wines": 3.17,
         "proanthocyanins": 2.81,
         "proline": 1185,
         "target": 0,
         "total_phenols": 2.8
        },
        {
         "_deepnote_index_column": 3,
         "alcalinity_of_ash": 16.8,
         "alcohol": 14.37,
         "ash": 2.5,
         "color_intensity": 7.8,
         "flavanoids": 3.49,
         "hue": 0.86,
         "magnesium": 113,
         "malic_acid": 1.95,
         "nonflavanoid_phenols": 0.24,
         "od280/od315_of_diluted_wines": 3.45,
         "proanthocyanins": 2.18,
         "proline": 1480,
         "target": 0,
         "total_phenols": 3.85
        },
        {
         "_deepnote_index_column": 4,
         "alcalinity_of_ash": 21,
         "alcohol": 13.24,
         "ash": 2.87,
         "color_intensity": 4.32,
         "flavanoids": 2.69,
         "hue": 1.04,
         "magnesium": 118,
         "malic_acid": 2.59,
         "nonflavanoid_phenols": 0.39,
         "od280/od315_of_diluted_wines": 2.93,
         "proanthocyanins": 1.82,
         "proline": 735,
         "target": 0,
         "total_phenols": 2.8
        },
        {
         "_deepnote_index_column": 5,
         "alcalinity_of_ash": 15.2,
         "alcohol": 14.2,
         "ash": 2.45,
         "color_intensity": 6.75,
         "flavanoids": 3.39,
         "hue": 1.05,
         "magnesium": 112,
         "malic_acid": 1.76,
         "nonflavanoid_phenols": 0.34,
         "od280/od315_of_diluted_wines": 2.85,
         "proanthocyanins": 1.97,
         "proline": 1450,
         "target": 0,
         "total_phenols": 3.27
        },
        {
         "_deepnote_index_column": 6,
         "alcalinity_of_ash": 14.6,
         "alcohol": 14.39,
         "ash": 2.45,
         "color_intensity": 5.25,
         "flavanoids": 2.52,
         "hue": 1.02,
         "magnesium": 96,
         "malic_acid": 1.87,
         "nonflavanoid_phenols": 0.3,
         "od280/od315_of_diluted_wines": 3.58,
         "proanthocyanins": 1.98,
         "proline": 1290,
         "target": 0,
         "total_phenols": 2.5
        },
        {
         "_deepnote_index_column": 7,
         "alcalinity_of_ash": 17.6,
         "alcohol": 14.06,
         "ash": 2.61,
         "color_intensity": 5.05,
         "flavanoids": 2.51,
         "hue": 1.06,
         "magnesium": 121,
         "malic_acid": 2.15,
         "nonflavanoid_phenols": 0.31,
         "od280/od315_of_diluted_wines": 3.58,
         "proanthocyanins": 1.25,
         "proline": 1295,
         "target": 0,
         "total_phenols": 2.6
        },
        {
         "_deepnote_index_column": 8,
         "alcalinity_of_ash": 14,
         "alcohol": 14.83,
         "ash": 2.17,
         "color_intensity": 5.2,
         "flavanoids": 2.98,
         "hue": 1.08,
         "magnesium": 97,
         "malic_acid": 1.64,
         "nonflavanoid_phenols": 0.29,
         "od280/od315_of_diluted_wines": 2.85,
         "proanthocyanins": 1.98,
         "proline": 1045,
         "target": 0,
         "total_phenols": 2.8
        },
        {
         "_deepnote_index_column": 9,
         "alcalinity_of_ash": 16,
         "alcohol": 13.86,
         "ash": 2.27,
         "color_intensity": 7.22,
         "flavanoids": 3.15,
         "hue": 1.01,
         "magnesium": 98,
         "malic_acid": 1.35,
         "nonflavanoid_phenols": 0.22,
         "od280/od315_of_diluted_wines": 3.55,
         "proanthocyanins": 1.85,
         "proline": 1045,
         "target": 0,
         "total_phenols": 2.98
        }
       ]
      },
      "text/html": [
       "<div>\n",
       "<style scoped>\n",
       "    .dataframe tbody tr th:only-of-type {\n",
       "        vertical-align: middle;\n",
       "    }\n",
       "\n",
       "    .dataframe tbody tr th {\n",
       "        vertical-align: top;\n",
       "    }\n",
       "\n",
       "    .dataframe thead th {\n",
       "        text-align: right;\n",
       "    }\n",
       "</style>\n",
       "<table border=\"1\" class=\"dataframe\">\n",
       "  <thead>\n",
       "    <tr style=\"text-align: right;\">\n",
       "      <th></th>\n",
       "      <th>alcohol</th>\n",
       "      <th>malic_acid</th>\n",
       "      <th>ash</th>\n",
       "      <th>alcalinity_of_ash</th>\n",
       "      <th>magnesium</th>\n",
       "      <th>total_phenols</th>\n",
       "      <th>flavanoids</th>\n",
       "      <th>nonflavanoid_phenols</th>\n",
       "      <th>proanthocyanins</th>\n",
       "      <th>color_intensity</th>\n",
       "      <th>hue</th>\n",
       "      <th>od280/od315_of_diluted_wines</th>\n",
       "      <th>proline</th>\n",
       "      <th>target</th>\n",
       "    </tr>\n",
       "  </thead>\n",
       "  <tbody>\n",
       "    <tr>\n",
       "      <th>0</th>\n",
       "      <td>14.23</td>\n",
       "      <td>1.71</td>\n",
       "      <td>2.43</td>\n",
       "      <td>15.6</td>\n",
       "      <td>127.0</td>\n",
       "      <td>2.80</td>\n",
       "      <td>3.06</td>\n",
       "      <td>0.28</td>\n",
       "      <td>2.29</td>\n",
       "      <td>5.64</td>\n",
       "      <td>1.04</td>\n",
       "      <td>3.92</td>\n",
       "      <td>1065.0</td>\n",
       "      <td>0</td>\n",
       "    </tr>\n",
       "    <tr>\n",
       "      <th>1</th>\n",
       "      <td>13.20</td>\n",
       "      <td>1.78</td>\n",
       "      <td>2.14</td>\n",
       "      <td>11.2</td>\n",
       "      <td>100.0</td>\n",
       "      <td>2.65</td>\n",
       "      <td>2.76</td>\n",
       "      <td>0.26</td>\n",
       "      <td>1.28</td>\n",
       "      <td>4.38</td>\n",
       "      <td>1.05</td>\n",
       "      <td>3.40</td>\n",
       "      <td>1050.0</td>\n",
       "      <td>0</td>\n",
       "    </tr>\n",
       "    <tr>\n",
       "      <th>2</th>\n",
       "      <td>13.16</td>\n",
       "      <td>2.36</td>\n",
       "      <td>2.67</td>\n",
       "      <td>18.6</td>\n",
       "      <td>101.0</td>\n",
       "      <td>2.80</td>\n",
       "      <td>3.24</td>\n",
       "      <td>0.30</td>\n",
       "      <td>2.81</td>\n",
       "      <td>5.68</td>\n",
       "      <td>1.03</td>\n",
       "      <td>3.17</td>\n",
       "      <td>1185.0</td>\n",
       "      <td>0</td>\n",
       "    </tr>\n",
       "    <tr>\n",
       "      <th>3</th>\n",
       "      <td>14.37</td>\n",
       "      <td>1.95</td>\n",
       "      <td>2.50</td>\n",
       "      <td>16.8</td>\n",
       "      <td>113.0</td>\n",
       "      <td>3.85</td>\n",
       "      <td>3.49</td>\n",
       "      <td>0.24</td>\n",
       "      <td>2.18</td>\n",
       "      <td>7.80</td>\n",
       "      <td>0.86</td>\n",
       "      <td>3.45</td>\n",
       "      <td>1480.0</td>\n",
       "      <td>0</td>\n",
       "    </tr>\n",
       "    <tr>\n",
       "      <th>4</th>\n",
       "      <td>13.24</td>\n",
       "      <td>2.59</td>\n",
       "      <td>2.87</td>\n",
       "      <td>21.0</td>\n",
       "      <td>118.0</td>\n",
       "      <td>2.80</td>\n",
       "      <td>2.69</td>\n",
       "      <td>0.39</td>\n",
       "      <td>1.82</td>\n",
       "      <td>4.32</td>\n",
       "      <td>1.04</td>\n",
       "      <td>2.93</td>\n",
       "      <td>735.0</td>\n",
       "      <td>0</td>\n",
       "    </tr>\n",
       "    <tr>\n",
       "      <th>5</th>\n",
       "      <td>14.20</td>\n",
       "      <td>1.76</td>\n",
       "      <td>2.45</td>\n",
       "      <td>15.2</td>\n",
       "      <td>112.0</td>\n",
       "      <td>3.27</td>\n",
       "      <td>3.39</td>\n",
       "      <td>0.34</td>\n",
       "      <td>1.97</td>\n",
       "      <td>6.75</td>\n",
       "      <td>1.05</td>\n",
       "      <td>2.85</td>\n",
       "      <td>1450.0</td>\n",
       "      <td>0</td>\n",
       "    </tr>\n",
       "    <tr>\n",
       "      <th>6</th>\n",
       "      <td>14.39</td>\n",
       "      <td>1.87</td>\n",
       "      <td>2.45</td>\n",
       "      <td>14.6</td>\n",
       "      <td>96.0</td>\n",
       "      <td>2.50</td>\n",
       "      <td>2.52</td>\n",
       "      <td>0.30</td>\n",
       "      <td>1.98</td>\n",
       "      <td>5.25</td>\n",
       "      <td>1.02</td>\n",
       "      <td>3.58</td>\n",
       "      <td>1290.0</td>\n",
       "      <td>0</td>\n",
       "    </tr>\n",
       "    <tr>\n",
       "      <th>7</th>\n",
       "      <td>14.06</td>\n",
       "      <td>2.15</td>\n",
       "      <td>2.61</td>\n",
       "      <td>17.6</td>\n",
       "      <td>121.0</td>\n",
       "      <td>2.60</td>\n",
       "      <td>2.51</td>\n",
       "      <td>0.31</td>\n",
       "      <td>1.25</td>\n",
       "      <td>5.05</td>\n",
       "      <td>1.06</td>\n",
       "      <td>3.58</td>\n",
       "      <td>1295.0</td>\n",
       "      <td>0</td>\n",
       "    </tr>\n",
       "    <tr>\n",
       "      <th>8</th>\n",
       "      <td>14.83</td>\n",
       "      <td>1.64</td>\n",
       "      <td>2.17</td>\n",
       "      <td>14.0</td>\n",
       "      <td>97.0</td>\n",
       "      <td>2.80</td>\n",
       "      <td>2.98</td>\n",
       "      <td>0.29</td>\n",
       "      <td>1.98</td>\n",
       "      <td>5.20</td>\n",
       "      <td>1.08</td>\n",
       "      <td>2.85</td>\n",
       "      <td>1045.0</td>\n",
       "      <td>0</td>\n",
       "    </tr>\n",
       "    <tr>\n",
       "      <th>9</th>\n",
       "      <td>13.86</td>\n",
       "      <td>1.35</td>\n",
       "      <td>2.27</td>\n",
       "      <td>16.0</td>\n",
       "      <td>98.0</td>\n",
       "      <td>2.98</td>\n",
       "      <td>3.15</td>\n",
       "      <td>0.22</td>\n",
       "      <td>1.85</td>\n",
       "      <td>7.22</td>\n",
       "      <td>1.01</td>\n",
       "      <td>3.55</td>\n",
       "      <td>1045.0</td>\n",
       "      <td>0</td>\n",
       "    </tr>\n",
       "  </tbody>\n",
       "</table>\n",
       "</div>"
      ],
      "text/plain": [
       "   alcohol  malic_acid   ash  alcalinity_of_ash  magnesium  total_phenols  \\\n",
       "0    14.23        1.71  2.43               15.6      127.0           2.80   \n",
       "1    13.20        1.78  2.14               11.2      100.0           2.65   \n",
       "2    13.16        2.36  2.67               18.6      101.0           2.80   \n",
       "3    14.37        1.95  2.50               16.8      113.0           3.85   \n",
       "4    13.24        2.59  2.87               21.0      118.0           2.80   \n",
       "5    14.20        1.76  2.45               15.2      112.0           3.27   \n",
       "6    14.39        1.87  2.45               14.6       96.0           2.50   \n",
       "7    14.06        2.15  2.61               17.6      121.0           2.60   \n",
       "8    14.83        1.64  2.17               14.0       97.0           2.80   \n",
       "9    13.86        1.35  2.27               16.0       98.0           2.98   \n",
       "\n",
       "   flavanoids  nonflavanoid_phenols  proanthocyanins  color_intensity   hue  \\\n",
       "0        3.06                  0.28             2.29             5.64  1.04   \n",
       "1        2.76                  0.26             1.28             4.38  1.05   \n",
       "2        3.24                  0.30             2.81             5.68  1.03   \n",
       "3        3.49                  0.24             2.18             7.80  0.86   \n",
       "4        2.69                  0.39             1.82             4.32  1.04   \n",
       "5        3.39                  0.34             1.97             6.75  1.05   \n",
       "6        2.52                  0.30             1.98             5.25  1.02   \n",
       "7        2.51                  0.31             1.25             5.05  1.06   \n",
       "8        2.98                  0.29             1.98             5.20  1.08   \n",
       "9        3.15                  0.22             1.85             7.22  1.01   \n",
       "\n",
       "   od280/od315_of_diluted_wines  proline  target  \n",
       "0                          3.92   1065.0       0  \n",
       "1                          3.40   1050.0       0  \n",
       "2                          3.17   1185.0       0  \n",
       "3                          3.45   1480.0       0  \n",
       "4                          2.93    735.0       0  \n",
       "5                          2.85   1450.0       0  \n",
       "6                          3.58   1290.0       0  \n",
       "7                          3.58   1295.0       0  \n",
       "8                          2.85   1045.0       0  \n",
       "9                          3.55   1045.0       0  "
      ]
     },
     "execution_count": 6,
     "metadata": {},
     "output_type": "execute_result"
    }
   ],
   "source": [
    "from sklearn.datasets import load_wine\n",
    "import pandas as pd \n",
    "\n",
    "X, y = load_wine(as_frame=True, return_X_y=True)\n",
    "df = X.merge(y, left_index=True, right_index=True)\n",
    "df.head(10)"
   ]
  },
  {
   "cell_type": "code",
   "execution_count": null,
   "metadata": {
    "ExecuteTime": {
     "end_time": "2021-11-12T23:11:23.304259Z",
     "start_time": "2021-11-12T23:11:23.296809Z"
    },
    "allow_embed": true,
    "cell_id": "00003-37bc24f0-0ae0-420f-acb6-642b601426b5",
    "deepnote_cell_type": "code",
    "deepnote_to_be_reexecuted": false,
    "execution_millis": 0,
    "execution_start": 1636760203860,
    "source_hash": "b322cb21"
   },
   "outputs": [],
   "source": [
    "def get_count_above_threshold_per_col_df(threshold: str, column: str, df: pd.DataFrame):\n",
    "    return (df[column] > threshold).sum()"
   ]
  },
  {
   "cell_type": "code",
   "execution_count": null,
   "metadata": {
    "ExecuteTime": {
     "end_time": "2021-11-12T23:11:26.384349Z",
     "start_time": "2021-11-12T23:11:26.374164Z"
    },
    "allow_embed": true,
    "cell_id": "00004-244d7dc0-daa4-4d45-ae37-4692dc4a8f18",
    "deepnote_cell_type": "code",
    "deepnote_to_be_reexecuted": false,
    "execution_millis": 15,
    "execution_start": 1636760205441,
    "source_hash": "f640ce5a"
   },
   "outputs": [
    {
     "data": {
      "text/plain": [
       "82"
      ]
     },
     "execution_count": 17,
     "metadata": {},
     "output_type": "execute_result"
    }
   ],
   "source": [
    "# Get number of rows above 98 in the magnesium column\n",
    "get_count_above_threshold_per_col_df(98, 'magnesium', df)"
   ]
  },
  {
   "cell_type": "code",
   "execution_count": null,
   "metadata": {
    "ExecuteTime": {
     "end_time": "2021-11-12T23:11:28.718214Z",
     "start_time": "2021-11-12T23:11:28.708481Z"
    },
    "allow_embed": true,
    "cell_id": "00005-d87026ff-31f8-449b-a8af-18a49a2afb04",
    "deepnote_cell_type": "code",
    "deepnote_to_be_reexecuted": false,
    "execution_millis": 8,
    "execution_start": 1636760207572,
    "source_hash": "a9a3744"
   },
   "outputs": [
    {
     "data": {
      "text/plain": [
       "92"
      ]
     },
     "execution_count": 18,
     "metadata": {},
     "output_type": "execute_result"
    }
   ],
   "source": [
    "# Get number of rows above 13 in the alcohol column\n",
    "get_count_above_threshold_per_col_df(13, 'alcohol', df)"
   ]
  },
  {
   "cell_type": "code",
   "execution_count": null,
   "metadata": {
    "ExecuteTime": {
     "end_time": "2021-11-12T23:11:34.965076Z",
     "start_time": "2021-11-12T23:11:34.959485Z"
    },
    "allow_embed": true,
    "cell_id": "00006-51c1886e-2131-49c5-b956-295c3288758e",
    "deepnote_cell_type": "code",
    "deepnote_to_be_reexecuted": false,
    "execution_millis": 4,
    "execution_start": 1636760213673,
    "source_hash": "c5d10393"
   },
   "outputs": [],
   "source": [
    "from functools import partial\n",
    "\n",
    "get_count_above_threshold_per_col = partial(get_count_above_threshold_per_col_df, df=df)"
   ]
  },
  {
   "cell_type": "code",
   "execution_count": null,
   "metadata": {
    "ExecuteTime": {
     "end_time": "2021-11-12T23:11:41.789160Z",
     "start_time": "2021-11-12T23:11:41.778856Z"
    },
    "allow_embed": "code_output",
    "cell_id": "00007-5ef93021-09a4-4e24-9e05-19862df9da47",
    "deepnote_cell_type": "code",
    "deepnote_to_be_reexecuted": false,
    "execution_millis": 9,
    "execution_start": 1636760217872,
    "source_hash": "87a7f7c3"
   },
   "outputs": [
    {
     "data": {
      "text/plain": [
       "92"
      ]
     },
     "execution_count": 20,
     "metadata": {},
     "output_type": "execute_result"
    }
   ],
   "source": [
    "get_count_above_threshold_per_col(13, 'alcohol')"
   ]
  },
  {
   "cell_type": "code",
   "execution_count": null,
   "metadata": {
    "allow_embed": true,
    "cell_id": "00008-d7abbd9a-28b5-488d-b0f8-8c73b200bd89",
    "deepnote_cell_type": "code",
    "deepnote_to_be_reexecuted": false,
    "execution_millis": 103,
    "execution_start": 1636760221517,
    "source_hash": "546a5539",
    "tags": []
   },
   "outputs": [
    {
     "data": {
      "text/plain": [
       "178"
      ]
     },
     "execution_count": 21,
     "metadata": {},
     "output_type": "execute_result"
    }
   ],
   "source": [
    "get_count_above_threshold_per_col(13, 'magnesium')"
   ]
  },
  {
   "cell_type": "code",
   "execution_count": null,
   "metadata": {
    "allow_embed": true,
    "cell_id": "00009-14738bb8-c0a6-464b-9cc9-6fe358a123a4",
    "deepnote_cell_type": "code",
    "deepnote_to_be_reexecuted": false,
    "execution_millis": 1,
    "execution_start": 1636760272922,
    "source_hash": "6afa7724",
    "tags": []
   },
   "outputs": [],
   "source": [
    "get_count_above_threshold_magnesium = partial(get_count_above_threshold_per_col, column='magnesium')"
   ]
  },
  {
   "cell_type": "code",
   "execution_count": null,
   "metadata": {
    "allow_embed": true,
    "cell_id": "00010-d9dd8e58-a650-4517-ad87-2a4953852533",
    "deepnote_cell_type": "code",
    "deepnote_to_be_reexecuted": false,
    "execution_millis": 23,
    "execution_start": 1636761816058,
    "source_hash": "84202d42",
    "tags": []
   },
   "outputs": [
    {
     "data": {
      "text/plain": [
       "82"
      ]
     },
     "execution_count": 29,
     "metadata": {},
     "output_type": "execute_result"
    }
   ],
   "source": [
    "get_count_above_threshold_magnesium(98)"
   ]
  },
  {
   "cell_type": "code",
   "execution_count": null,
   "metadata": {
    "allow_embed": "code_output",
    "cell_id": "00011-ec88f820-fbf6-430c-9d42-1f16ee67e90d",
    "deepnote_cell_type": "code",
    "deepnote_to_be_reexecuted": false,
    "execution_millis": 38,
    "execution_start": 1636761817037,
    "source_hash": "6e0a591a",
    "tags": []
   },
   "outputs": [
    {
     "data": {
      "text/plain": [
       "178"
      ]
     },
     "execution_count": 30,
     "metadata": {},
     "output_type": "execute_result"
    }
   ],
   "source": [
    "get_count_above_threshold_magnesium(5)"
   ]
  },
  {
   "cell_type": "markdown",
   "metadata": {
    "cell_id": "00008-5f9692b8-de28-4e3f-a6a2-6fb4c0c15d19",
    "deepnote_cell_type": "markdown"
   },
   "source": [
    "# functools.singledispatch"
   ]
  },
  {
   "cell_type": "code",
   "execution_count": 74,
   "metadata": {
    "ExecuteTime": {
     "end_time": "2021-11-12T23:15:05.503720Z",
     "start_time": "2021-11-12T23:15:05.495774Z"
    },
    "allow_embed": true,
    "cell_id": "00010-be650320-6b55-43dd-af9a-a18f4eacf845",
    "deepnote_cell_type": "code"
   },
   "outputs": [],
   "source": [
    "import pandas as pd\n",
    "\n",
    "\n",
    "def create_data(data):\n",
    "    if isinstance(data, dict):\n",
    "        create_data_from_dict(data)\n",
    "\n",
    "    if isinstance(data, list):\n",
    "        create_data_from_list(data)\n",
    "\n",
    "    else:\n",
    "        NotImplementedError(f\"Type {type(data)} is unsupported\")\n",
    "\n",
    "\n",
    "def create_data_from_dict(data: dict):\n",
    "    print(f\"Data is created from a {type(data)}.\")\n",
    "    return pd.DataFrame(data)\n",
    "\n",
    "\n",
    "def create_data_from_list(data: list):\n",
    "    print(f\"Data is created from a {type(data)}.\")\n",
    "    return pd.DataFrame(data, columns=[\"a\", \"b\"])\n"
   ]
  },
  {
   "cell_type": "code",
   "execution_count": 83,
   "id": "642e537c",
   "metadata": {},
   "outputs": [
    {
     "name": "stdout",
     "output_type": "stream",
     "text": [
      "Data is created from a <class 'dict'>.\n"
     ]
    },
    {
     "data": {
      "text/html": [
       "<div>\n",
       "<style scoped>\n",
       "    .dataframe tbody tr th:only-of-type {\n",
       "        vertical-align: middle;\n",
       "    }\n",
       "\n",
       "    .dataframe tbody tr th {\n",
       "        vertical-align: top;\n",
       "    }\n",
       "\n",
       "    .dataframe thead th {\n",
       "        text-align: right;\n",
       "    }\n",
       "</style>\n",
       "<table border=\"1\" class=\"dataframe\">\n",
       "  <thead>\n",
       "    <tr style=\"text-align: right;\">\n",
       "      <th></th>\n",
       "      <th>a</th>\n",
       "      <th>b</th>\n",
       "    </tr>\n",
       "  </thead>\n",
       "  <tbody>\n",
       "    <tr>\n",
       "      <th>0</th>\n",
       "      <td>1</td>\n",
       "      <td>4</td>\n",
       "    </tr>\n",
       "    <tr>\n",
       "      <th>1</th>\n",
       "      <td>2</td>\n",
       "      <td>5</td>\n",
       "    </tr>\n",
       "    <tr>\n",
       "      <th>2</th>\n",
       "      <td>3</td>\n",
       "      <td>6</td>\n",
       "    </tr>\n",
       "  </tbody>\n",
       "</table>\n",
       "</div>"
      ],
      "text/plain": [
       "   a  b\n",
       "0  1  4\n",
       "1  2  5\n",
       "2  3  6"
      ]
     },
     "execution_count": 83,
     "metadata": {},
     "output_type": "execute_result"
    }
   ],
   "source": [
    "data = {\"a\": [1, 2, 3], \"b\": [4, 5, 6]}\n",
    "create_data(data)"
   ]
  },
  {
   "cell_type": "code",
   "execution_count": 84,
   "id": "26088f18",
   "metadata": {},
   "outputs": [
    {
     "name": "stdout",
     "output_type": "stream",
     "text": [
      "Data is created from a <class 'list'>.\n"
     ]
    },
    {
     "data": {
      "text/html": [
       "<div>\n",
       "<style scoped>\n",
       "    .dataframe tbody tr th:only-of-type {\n",
       "        vertical-align: middle;\n",
       "    }\n",
       "\n",
       "    .dataframe tbody tr th {\n",
       "        vertical-align: top;\n",
       "    }\n",
       "\n",
       "    .dataframe thead th {\n",
       "        text-align: right;\n",
       "    }\n",
       "</style>\n",
       "<table border=\"1\" class=\"dataframe\">\n",
       "  <thead>\n",
       "    <tr style=\"text-align: right;\">\n",
       "      <th></th>\n",
       "      <th>a</th>\n",
       "      <th>b</th>\n",
       "    </tr>\n",
       "  </thead>\n",
       "  <tbody>\n",
       "    <tr>\n",
       "      <th>0</th>\n",
       "      <td>1</td>\n",
       "      <td>4</td>\n",
       "    </tr>\n",
       "    <tr>\n",
       "      <th>1</th>\n",
       "      <td>2</td>\n",
       "      <td>5</td>\n",
       "    </tr>\n",
       "    <tr>\n",
       "      <th>2</th>\n",
       "      <td>3</td>\n",
       "      <td>6</td>\n",
       "    </tr>\n",
       "  </tbody>\n",
       "</table>\n",
       "</div>"
      ],
      "text/plain": [
       "   a  b\n",
       "0  1  4\n",
       "1  2  5\n",
       "2  3  6"
      ]
     },
     "execution_count": 84,
     "metadata": {},
     "output_type": "execute_result"
    }
   ],
   "source": [
    "data2 = [(1, 4), (2, 5), (3, 6)]\n",
    "create_data(data2)"
   ]
  },
  {
   "cell_type": "code",
   "execution_count": 77,
   "metadata": {
    "ExecuteTime": {
     "end_time": "2021-11-12T23:19:36.971963Z",
     "start_time": "2021-11-12T23:19:36.963779Z"
    },
    "allow_embed": "code_output",
    "cell_id": "00011-07903296-5e50-4276-9a25-1bb201ae2072",
    "deepnote_cell_type": "code",
    "deepnote_to_be_reexecuted": false,
    "execution_millis": 1,
    "execution_start": 1636769116464,
    "source_hash": "ff9a12f0"
   },
   "outputs": [],
   "source": [
    "from functools import singledispatch\n",
    "\n",
    "@singledispatch\n",
    "def create_data(data):\n",
    "    raise NotImplementedError(f\"Type {type(data)} is unsupported\")\n",
    "\n",
    "@create_data.register\n",
    "def create_data_from_dict(data: dict): \n",
    "    print(f\"Data is created from a {type(data)}.\")\n",
    "    return pd.DataFrame(data)\n",
    "\n",
    "@create_data.register\n",
    "def create_data_from_list(data: list):\n",
    "    print(f\"Data is created from a {type(data)}.\")\n",
    "    return pd.DataFrame(data, columns=[\"a\", \"b\"])"
   ]
  },
  {
   "cell_type": "code",
   "execution_count": 86,
   "metadata": {
    "ExecuteTime": {
     "end_time": "2021-11-12T23:19:42.134874Z",
     "start_time": "2021-11-12T23:19:42.127504Z"
    },
    "allow_embed": "code_output",
    "cell_id": "00012-0aeab9ba-2ff5-40e1-90fb-7bd5443d0dd1",
    "deepnote_cell_type": "code",
    "deepnote_to_be_reexecuted": false,
    "execution_millis": 308,
    "execution_start": 1636771200194,
    "source_hash": "efc0b339"
   },
   "outputs": [
    {
     "name": "stdout",
     "output_type": "stream",
     "text": [
      "Data is created from a <class 'dict'>.\n"
     ]
    },
    {
     "data": {
      "text/html": [
       "<div>\n",
       "<style scoped>\n",
       "    .dataframe tbody tr th:only-of-type {\n",
       "        vertical-align: middle;\n",
       "    }\n",
       "\n",
       "    .dataframe tbody tr th {\n",
       "        vertical-align: top;\n",
       "    }\n",
       "\n",
       "    .dataframe thead th {\n",
       "        text-align: right;\n",
       "    }\n",
       "</style>\n",
       "<table border=\"1\" class=\"dataframe\">\n",
       "  <thead>\n",
       "    <tr style=\"text-align: right;\">\n",
       "      <th></th>\n",
       "      <th>a</th>\n",
       "      <th>b</th>\n",
       "    </tr>\n",
       "  </thead>\n",
       "  <tbody>\n",
       "    <tr>\n",
       "      <th>0</th>\n",
       "      <td>1</td>\n",
       "      <td>4</td>\n",
       "    </tr>\n",
       "    <tr>\n",
       "      <th>1</th>\n",
       "      <td>2</td>\n",
       "      <td>5</td>\n",
       "    </tr>\n",
       "    <tr>\n",
       "      <th>2</th>\n",
       "      <td>3</td>\n",
       "      <td>6</td>\n",
       "    </tr>\n",
       "  </tbody>\n",
       "</table>\n",
       "</div>"
      ],
      "text/plain": [
       "   a  b\n",
       "0  1  4\n",
       "1  2  5\n",
       "2  3  6"
      ]
     },
     "execution_count": 86,
     "metadata": {},
     "output_type": "execute_result"
    }
   ],
   "source": [
    "data = {\"a\": [1, 2, 3], \"b\": [4, 5, 6]}\n",
    "\n",
    "create_data(data)"
   ]
  },
  {
   "cell_type": "code",
   "execution_count": 87,
   "id": "e6248b88",
   "metadata": {},
   "outputs": [
    {
     "name": "stdout",
     "output_type": "stream",
     "text": [
      "Data is created from a <class 'list'>.\n"
     ]
    },
    {
     "data": {
      "text/html": [
       "<div>\n",
       "<style scoped>\n",
       "    .dataframe tbody tr th:only-of-type {\n",
       "        vertical-align: middle;\n",
       "    }\n",
       "\n",
       "    .dataframe tbody tr th {\n",
       "        vertical-align: top;\n",
       "    }\n",
       "\n",
       "    .dataframe thead th {\n",
       "        text-align: right;\n",
       "    }\n",
       "</style>\n",
       "<table border=\"1\" class=\"dataframe\">\n",
       "  <thead>\n",
       "    <tr style=\"text-align: right;\">\n",
       "      <th></th>\n",
       "      <th>a</th>\n",
       "      <th>b</th>\n",
       "    </tr>\n",
       "  </thead>\n",
       "  <tbody>\n",
       "    <tr>\n",
       "      <th>0</th>\n",
       "      <td>1</td>\n",
       "      <td>4</td>\n",
       "    </tr>\n",
       "    <tr>\n",
       "      <th>1</th>\n",
       "      <td>2</td>\n",
       "      <td>5</td>\n",
       "    </tr>\n",
       "    <tr>\n",
       "      <th>2</th>\n",
       "      <td>3</td>\n",
       "      <td>6</td>\n",
       "    </tr>\n",
       "  </tbody>\n",
       "</table>\n",
       "</div>"
      ],
      "text/plain": [
       "   a  b\n",
       "0  1  4\n",
       "1  2  5\n",
       "2  3  6"
      ]
     },
     "execution_count": 87,
     "metadata": {},
     "output_type": "execute_result"
    }
   ],
   "source": [
    "data2 = [(1, 4), (2, 5), (3, 6)]\n",
    "create_data(data2)"
   ]
  },
  {
   "cell_type": "code",
   "execution_count": 80,
   "id": "b586023c",
   "metadata": {},
   "outputs": [
    {
     "ename": "NotImplementedError",
     "evalue": "Type <class 'tuple'> is unsupported",
     "output_type": "error",
     "traceback": [
      "\u001b[0;31m---------------------------------------------------------------------------\u001b[0m",
      "\u001b[0;31mNotImplementedError\u001b[0m                       Traceback (most recent call last)",
      "Cell \u001b[0;32mIn [80], line 2\u001b[0m\n\u001b[1;32m      1\u001b[0m data3 \u001b[39m=\u001b[39m ((\u001b[39m1\u001b[39m, \u001b[39m4\u001b[39m), (\u001b[39m2\u001b[39m, \u001b[39m5\u001b[39m), (\u001b[39m3\u001b[39m, \u001b[39m6\u001b[39m))\n\u001b[0;32m----> 2\u001b[0m create_data(data3)\n",
      "File \u001b[0;32m/Library/Developer/CommandLineTools/Library/Frameworks/Python3.framework/Versions/3.9/lib/python3.9/functools.py:877\u001b[0m, in \u001b[0;36msingledispatch.<locals>.wrapper\u001b[0;34m(*args, **kw)\u001b[0m\n\u001b[1;32m    873\u001b[0m \u001b[39mif\u001b[39;00m \u001b[39mnot\u001b[39;00m args:\n\u001b[1;32m    874\u001b[0m     \u001b[39mraise\u001b[39;00m \u001b[39mTypeError\u001b[39;00m(\u001b[39mf\u001b[39m\u001b[39m'\u001b[39m\u001b[39m{\u001b[39;00mfuncname\u001b[39m}\u001b[39;00m\u001b[39m requires at least \u001b[39m\u001b[39m'\u001b[39m\n\u001b[1;32m    875\u001b[0m                     \u001b[39m'\u001b[39m\u001b[39m1 positional argument\u001b[39m\u001b[39m'\u001b[39m)\n\u001b[0;32m--> 877\u001b[0m \u001b[39mreturn\u001b[39;00m dispatch(args[\u001b[39m0\u001b[39;49m]\u001b[39m.\u001b[39;49m\u001b[39m__class__\u001b[39;49m)(\u001b[39m*\u001b[39;49margs, \u001b[39m*\u001b[39;49m\u001b[39m*\u001b[39;49mkw)\n",
      "Cell \u001b[0;32mIn [77], line 5\u001b[0m, in \u001b[0;36mcreate_data\u001b[0;34m(data)\u001b[0m\n\u001b[1;32m      3\u001b[0m \u001b[39m@singledispatch\u001b[39m\n\u001b[1;32m      4\u001b[0m \u001b[39mdef\u001b[39;00m \u001b[39mcreate_data\u001b[39m(data):\n\u001b[0;32m----> 5\u001b[0m     \u001b[39mraise\u001b[39;00m \u001b[39mNotImplementedError\u001b[39;00m(\u001b[39mf\u001b[39m\u001b[39m\"\u001b[39m\u001b[39mType \u001b[39m\u001b[39m{\u001b[39;00m\u001b[39mtype\u001b[39m(data)\u001b[39m}\u001b[39;00m\u001b[39m is unsupported\u001b[39m\u001b[39m\"\u001b[39m)\n",
      "\u001b[0;31mNotImplementedError\u001b[0m: Type <class 'tuple'> is unsupported"
     ]
    }
   ],
   "source": [
    "data3 = ((1, 4), (2, 5), (3, 6))\n",
    "create_data(data3)"
   ]
  },
  {
   "cell_type": "code",
   "execution_count": 90,
   "id": "fa484bc9",
   "metadata": {},
   "outputs": [],
   "source": [
    "@singledispatch\n",
    "def create_data(data):\n",
    "    raise NotImplementedError(f\"Type {type(data)} is unsupported\")\n",
    "\n",
    "@create_data.register(dict)\n",
    "def create_data_from_dict(data): \n",
    "    print(f\"Data is created from a {type(data)}.\")\n",
    "    return pd.DataFrame(data)\n",
    "\n",
    "@create_data.register(list)\n",
    "@create_data.register(tuple)\n",
    "def create_data_from_list(data):\n",
    "    print(f\"Data is created from a {type(data)}.\")\n",
    "    return pd.DataFrame(data, columns=[\"a\", \"b\"])"
   ]
  },
  {
   "cell_type": "code",
   "execution_count": 91,
   "id": "00707005",
   "metadata": {},
   "outputs": [
    {
     "name": "stdout",
     "output_type": "stream",
     "text": [
      "Data is created from a <class 'tuple'>.\n"
     ]
    },
    {
     "data": {
      "text/html": [
       "<div>\n",
       "<style scoped>\n",
       "    .dataframe tbody tr th:only-of-type {\n",
       "        vertical-align: middle;\n",
       "    }\n",
       "\n",
       "    .dataframe tbody tr th {\n",
       "        vertical-align: top;\n",
       "    }\n",
       "\n",
       "    .dataframe thead th {\n",
       "        text-align: right;\n",
       "    }\n",
       "</style>\n",
       "<table border=\"1\" class=\"dataframe\">\n",
       "  <thead>\n",
       "    <tr style=\"text-align: right;\">\n",
       "      <th></th>\n",
       "      <th>a</th>\n",
       "      <th>b</th>\n",
       "    </tr>\n",
       "  </thead>\n",
       "  <tbody>\n",
       "    <tr>\n",
       "      <th>0</th>\n",
       "      <td>1</td>\n",
       "      <td>4</td>\n",
       "    </tr>\n",
       "    <tr>\n",
       "      <th>1</th>\n",
       "      <td>2</td>\n",
       "      <td>5</td>\n",
       "    </tr>\n",
       "    <tr>\n",
       "      <th>2</th>\n",
       "      <td>3</td>\n",
       "      <td>6</td>\n",
       "    </tr>\n",
       "  </tbody>\n",
       "</table>\n",
       "</div>"
      ],
      "text/plain": [
       "   a  b\n",
       "0  1  4\n",
       "1  2  5\n",
       "2  3  6"
      ]
     },
     "execution_count": 91,
     "metadata": {},
     "output_type": "execute_result"
    }
   ],
   "source": [
    "data3 = ((1, 4), (2, 5), (3, 6))\n",
    "create_data(data3)"
   ]
  }
 ],
 "metadata": {
  "deepnote": {},
  "deepnote_execution_queue": [],
  "deepnote_notebook_id": "1feaac36-bf5e-4524-910f-26219867e5d8",
  "kernelspec": {
   "display_name": "Python 3.9.6 ('venv': venv)",
   "language": "python",
   "name": "python3"
  },
  "language_info": {
   "codemirror_mode": {
    "name": "ipython",
    "version": 3
   },
   "file_extension": ".py",
   "mimetype": "text/x-python",
   "name": "python",
   "nbconvert_exporter": "python",
   "pygments_lexer": "ipython3",
   "version": "3.9.6"
  },
  "toc": {
   "base_numbering": 1,
   "nav_menu": {},
   "number_sections": true,
   "sideBar": true,
   "skip_h1_title": false,
   "title_cell": "Table of Contents",
   "title_sidebar": "Contents",
   "toc_cell": false,
   "toc_position": {},
   "toc_section_display": true,
   "toc_window_display": false
  },
  "vscode": {
   "interpreter": {
    "hash": "484329849bb907480cd798e750759bc6f1d66c93f9e78e7055aa0a2c2de6b47b"
   }
  }
 },
 "nbformat": 4,
 "nbformat_minor": 5
}
