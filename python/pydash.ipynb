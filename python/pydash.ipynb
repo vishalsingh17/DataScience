{
 "cells": [
  {
   "cell_type": "code",
   "execution_count": 15,
   "id": "60acfb5f",
   "metadata": {
    "ExecuteTime": {
     "end_time": "2021-07-10T19:06:13.621633Z",
     "start_time": "2021-07-10T19:06:13.618119Z"
    }
   },
   "outputs": [
    {
     "data": {
      "application/javascript": [
       "\n",
       "            setTimeout(function() {\n",
       "                var nbb_cell_id = 15;\n",
       "                var nbb_unformatted_code = \"from pydash import py_\";\n",
       "                var nbb_formatted_code = \"from pydash import py_\";\n",
       "                var nbb_cells = Jupyter.notebook.get_cells();\n",
       "                for (var i = 0; i < nbb_cells.length; ++i) {\n",
       "                    if (nbb_cells[i].input_prompt_number == nbb_cell_id) {\n",
       "                        if (nbb_cells[i].get_text() == nbb_unformatted_code) {\n",
       "                             nbb_cells[i].set_text(nbb_formatted_code);\n",
       "                        }\n",
       "                        break;\n",
       "                    }\n",
       "                }\n",
       "            }, 500);\n",
       "            "
      ],
      "text/plain": [
       "<IPython.core.display.Javascript object>"
      ]
     },
     "metadata": {},
     "output_type": "display_data"
    }
   ],
   "source": [
    "from pydash import py_"
   ]
  },
  {
   "cell_type": "markdown",
   "id": "a81823d5",
   "metadata": {},
   "source": [
    "# List"
   ]
  },
  {
   "cell_type": "markdown",
   "id": "ed7aa12e",
   "metadata": {},
   "source": [
    "## Flatten a Python list"
   ]
  },
  {
   "cell_type": "code",
   "execution_count": 16,
   "id": "79ab0660",
   "metadata": {
    "ExecuteTime": {
     "end_time": "2021-07-10T19:06:13.675283Z",
     "start_time": "2021-07-10T19:06:13.669232Z"
    }
   },
   "outputs": [
    {
     "data": {
      "application/javascript": [
       "\n",
       "            setTimeout(function() {\n",
       "                var nbb_cell_id = 16;\n",
       "                var nbb_unformatted_code = \"a = [[1, 2], [3, 4, 5]]\";\n",
       "                var nbb_formatted_code = \"a = [[1, 2], [3, 4, 5]]\";\n",
       "                var nbb_cells = Jupyter.notebook.get_cells();\n",
       "                for (var i = 0; i < nbb_cells.length; ++i) {\n",
       "                    if (nbb_cells[i].input_prompt_number == nbb_cell_id) {\n",
       "                        if (nbb_cells[i].get_text() == nbb_unformatted_code) {\n",
       "                             nbb_cells[i].set_text(nbb_formatted_code);\n",
       "                        }\n",
       "                        break;\n",
       "                    }\n",
       "                }\n",
       "            }, 500);\n",
       "            "
      ],
      "text/plain": [
       "<IPython.core.display.Javascript object>"
      ]
     },
     "metadata": {},
     "output_type": "display_data"
    }
   ],
   "source": [
    "a = [[1, 2], [3, 4, 5]]"
   ]
  },
  {
   "cell_type": "code",
   "execution_count": 17,
   "id": "10cd380e",
   "metadata": {
    "ExecuteTime": {
     "end_time": "2021-07-10T19:06:13.681017Z",
     "start_time": "2021-07-10T19:06:13.676609Z"
    }
   },
   "outputs": [
    {
     "data": {
      "text/plain": [
       "[1, 2, 3, 4, 5]"
      ]
     },
     "execution_count": 17,
     "metadata": {},
     "output_type": "execute_result"
    },
    {
     "data": {
      "application/javascript": [
       "\n",
       "            setTimeout(function() {\n",
       "                var nbb_cell_id = 17;\n",
       "                var nbb_unformatted_code = \"py_.flatten(a)\";\n",
       "                var nbb_formatted_code = \"py_.flatten(a)\";\n",
       "                var nbb_cells = Jupyter.notebook.get_cells();\n",
       "                for (var i = 0; i < nbb_cells.length; ++i) {\n",
       "                    if (nbb_cells[i].input_prompt_number == nbb_cell_id) {\n",
       "                        if (nbb_cells[i].get_text() == nbb_unformatted_code) {\n",
       "                             nbb_cells[i].set_text(nbb_formatted_code);\n",
       "                        }\n",
       "                        break;\n",
       "                    }\n",
       "                }\n",
       "            }, 500);\n",
       "            "
      ],
      "text/plain": [
       "<IPython.core.display.Javascript object>"
      ]
     },
     "metadata": {},
     "output_type": "display_data"
    }
   ],
   "source": [
    "py_.flatten(a)"
   ]
  },
  {
   "cell_type": "code",
   "execution_count": 18,
   "id": "52efb0c5",
   "metadata": {
    "ExecuteTime": {
     "end_time": "2021-07-10T19:06:13.687729Z",
     "start_time": "2021-07-10T19:06:13.682217Z"
    }
   },
   "outputs": [
    {
     "data": {
      "application/javascript": [
       "\n",
       "            setTimeout(function() {\n",
       "                var nbb_cell_id = 18;\n",
       "                var nbb_unformatted_code = \"b = [[1, 2, [4, 5]], [6, 7]]\";\n",
       "                var nbb_formatted_code = \"b = [[1, 2, [4, 5]], [6, 7]]\";\n",
       "                var nbb_cells = Jupyter.notebook.get_cells();\n",
       "                for (var i = 0; i < nbb_cells.length; ++i) {\n",
       "                    if (nbb_cells[i].input_prompt_number == nbb_cell_id) {\n",
       "                        if (nbb_cells[i].get_text() == nbb_unformatted_code) {\n",
       "                             nbb_cells[i].set_text(nbb_formatted_code);\n",
       "                        }\n",
       "                        break;\n",
       "                    }\n",
       "                }\n",
       "            }, 500);\n",
       "            "
      ],
      "text/plain": [
       "<IPython.core.display.Javascript object>"
      ]
     },
     "metadata": {},
     "output_type": "display_data"
    }
   ],
   "source": [
    "b = [[1, 2, [4, 5]], [6, 7]]"
   ]
  },
  {
   "cell_type": "code",
   "execution_count": 19,
   "id": "d3ad56bd",
   "metadata": {
    "ExecuteTime": {
     "end_time": "2021-07-10T19:06:13.692666Z",
     "start_time": "2021-07-10T19:06:13.688673Z"
    }
   },
   "outputs": [
    {
     "data": {
      "text/plain": [
       "[1, 2, 4, 5, 6, 7]"
      ]
     },
     "execution_count": 19,
     "metadata": {},
     "output_type": "execute_result"
    },
    {
     "data": {
      "application/javascript": [
       "\n",
       "            setTimeout(function() {\n",
       "                var nbb_cell_id = 19;\n",
       "                var nbb_unformatted_code = \"py_.flatten_deep(b)\";\n",
       "                var nbb_formatted_code = \"py_.flatten_deep(b)\";\n",
       "                var nbb_cells = Jupyter.notebook.get_cells();\n",
       "                for (var i = 0; i < nbb_cells.length; ++i) {\n",
       "                    if (nbb_cells[i].input_prompt_number == nbb_cell_id) {\n",
       "                        if (nbb_cells[i].get_text() == nbb_unformatted_code) {\n",
       "                             nbb_cells[i].set_text(nbb_formatted_code);\n",
       "                        }\n",
       "                        break;\n",
       "                    }\n",
       "                }\n",
       "            }, 500);\n",
       "            "
      ],
      "text/plain": [
       "<IPython.core.display.Javascript object>"
      ]
     },
     "metadata": {},
     "output_type": "display_data"
    }
   ],
   "source": [
    "py_.flatten_deep(b)"
   ]
  },
  {
   "cell_type": "markdown",
   "id": "b19d64b3",
   "metadata": {},
   "source": [
    "## Split Elements into Groups"
   ]
  },
  {
   "cell_type": "code",
   "execution_count": 20,
   "id": "ed543a3d",
   "metadata": {
    "ExecuteTime": {
     "end_time": "2021-07-10T19:06:13.709331Z",
     "start_time": "2021-07-10T19:06:13.704807Z"
    }
   },
   "outputs": [
    {
     "data": {
      "application/javascript": [
       "\n",
       "            setTimeout(function() {\n",
       "                var nbb_cell_id = 20;\n",
       "                var nbb_unformatted_code = \"a = [1, 2, 3, 4, 5]\";\n",
       "                var nbb_formatted_code = \"a = [1, 2, 3, 4, 5]\";\n",
       "                var nbb_cells = Jupyter.notebook.get_cells();\n",
       "                for (var i = 0; i < nbb_cells.length; ++i) {\n",
       "                    if (nbb_cells[i].input_prompt_number == nbb_cell_id) {\n",
       "                        if (nbb_cells[i].get_text() == nbb_unformatted_code) {\n",
       "                             nbb_cells[i].set_text(nbb_formatted_code);\n",
       "                        }\n",
       "                        break;\n",
       "                    }\n",
       "                }\n",
       "            }, 500);\n",
       "            "
      ],
      "text/plain": [
       "<IPython.core.display.Javascript object>"
      ]
     },
     "metadata": {},
     "output_type": "display_data"
    }
   ],
   "source": [
    "a = [1, 2, 3, 4, 5]"
   ]
  },
  {
   "cell_type": "code",
   "execution_count": 21,
   "id": "d4ef077f",
   "metadata": {
    "ExecuteTime": {
     "end_time": "2021-07-10T19:06:13.714484Z",
     "start_time": "2021-07-10T19:06:13.710241Z"
    }
   },
   "outputs": [
    {
     "data": {
      "text/plain": [
       "[[1, 2], [3, 4], [5]]"
      ]
     },
     "execution_count": 21,
     "metadata": {},
     "output_type": "execute_result"
    },
    {
     "data": {
      "application/javascript": [
       "\n",
       "            setTimeout(function() {\n",
       "                var nbb_cell_id = 21;\n",
       "                var nbb_unformatted_code = \"py_.chunk(a, 2)\";\n",
       "                var nbb_formatted_code = \"py_.chunk(a, 2)\";\n",
       "                var nbb_cells = Jupyter.notebook.get_cells();\n",
       "                for (var i = 0; i < nbb_cells.length; ++i) {\n",
       "                    if (nbb_cells[i].input_prompt_number == nbb_cell_id) {\n",
       "                        if (nbb_cells[i].get_text() == nbb_unformatted_code) {\n",
       "                             nbb_cells[i].set_text(nbb_formatted_code);\n",
       "                        }\n",
       "                        break;\n",
       "                    }\n",
       "                }\n",
       "            }, 500);\n",
       "            "
      ],
      "text/plain": [
       "<IPython.core.display.Javascript object>"
      ]
     },
     "metadata": {},
     "output_type": "display_data"
    }
   ],
   "source": [
    "py_.chunk(a, 2)"
   ]
  },
  {
   "cell_type": "markdown",
   "id": "9537067a",
   "metadata": {},
   "source": [
    "# Dictionary"
   ]
  },
  {
   "cell_type": "markdown",
   "id": "28a949d3",
   "metadata": {},
   "source": [
    "## Omit Dictionary's Attribute"
   ]
  },
  {
   "cell_type": "code",
   "execution_count": 22,
   "id": "76862a51",
   "metadata": {
    "ExecuteTime": {
     "end_time": "2021-07-10T19:06:13.765168Z",
     "start_time": "2021-07-10T19:06:13.757127Z"
    }
   },
   "outputs": [
    {
     "data": {
      "text/plain": [
       "{'color': 'red', 'taste': 'sweet'}"
      ]
     },
     "execution_count": 22,
     "metadata": {},
     "output_type": "execute_result"
    },
    {
     "data": {
      "application/javascript": [
       "\n",
       "            setTimeout(function() {\n",
       "                var nbb_cell_id = 22;\n",
       "                var nbb_unformatted_code = \"fruits = {\\\"name\\\": \\\"apple\\\", \\\"color\\\": \\\"red\\\", \\\"taste\\\": \\\"sweet\\\"}\\npy_.omit(fruits, \\\"name\\\")\";\n",
       "                var nbb_formatted_code = \"fruits = {\\\"name\\\": \\\"apple\\\", \\\"color\\\": \\\"red\\\", \\\"taste\\\": \\\"sweet\\\"}\\npy_.omit(fruits, \\\"name\\\")\";\n",
       "                var nbb_cells = Jupyter.notebook.get_cells();\n",
       "                for (var i = 0; i < nbb_cells.length; ++i) {\n",
       "                    if (nbb_cells[i].input_prompt_number == nbb_cell_id) {\n",
       "                        if (nbb_cells[i].get_text() == nbb_unformatted_code) {\n",
       "                             nbb_cells[i].set_text(nbb_formatted_code);\n",
       "                        }\n",
       "                        break;\n",
       "                    }\n",
       "                }\n",
       "            }, 500);\n",
       "            "
      ],
      "text/plain": [
       "<IPython.core.display.Javascript object>"
      ]
     },
     "metadata": {},
     "output_type": "display_data"
    }
   ],
   "source": [
    "fruits = {\"name\": \"apple\", \"color\": \"red\", \"taste\": \"sweet\"}\n",
    "py_.omit(fruits, \"name\")"
   ]
  },
  {
   "cell_type": "markdown",
   "id": "4c5a9ce6",
   "metadata": {},
   "source": [
    "## Get Nested Dictionary's Attribute"
   ]
  },
  {
   "cell_type": "code",
   "execution_count": 23,
   "id": "6d2b3732",
   "metadata": {
    "ExecuteTime": {
     "end_time": "2021-07-10T19:06:13.791994Z",
     "start_time": "2021-07-10T19:06:13.782738Z"
    }
   },
   "outputs": [
    {
     "data": {
      "application/javascript": [
       "\n",
       "            setTimeout(function() {\n",
       "                var nbb_cell_id = 23;\n",
       "                var nbb_unformatted_code = \"apple = {\\n    \\\"price\\\": {\\n        \\\"in_season\\\": {\\\"store\\\": {\\\"Walmart\\\": [2, 4], \\\"Aldi\\\": 1}},\\n        \\\"out_of_season\\\": {\\\"store\\\": {\\\"Walmart\\\": [3, 5], \\\"Aldi\\\": 2}},\\n    }\\n}\";\n",
       "                var nbb_formatted_code = \"apple = {\\n    \\\"price\\\": {\\n        \\\"in_season\\\": {\\\"store\\\": {\\\"Walmart\\\": [2, 4], \\\"Aldi\\\": 1}},\\n        \\\"out_of_season\\\": {\\\"store\\\": {\\\"Walmart\\\": [3, 5], \\\"Aldi\\\": 2}},\\n    }\\n}\";\n",
       "                var nbb_cells = Jupyter.notebook.get_cells();\n",
       "                for (var i = 0; i < nbb_cells.length; ++i) {\n",
       "                    if (nbb_cells[i].input_prompt_number == nbb_cell_id) {\n",
       "                        if (nbb_cells[i].get_text() == nbb_unformatted_code) {\n",
       "                             nbb_cells[i].set_text(nbb_formatted_code);\n",
       "                        }\n",
       "                        break;\n",
       "                    }\n",
       "                }\n",
       "            }, 500);\n",
       "            "
      ],
      "text/plain": [
       "<IPython.core.display.Javascript object>"
      ]
     },
     "metadata": {},
     "output_type": "display_data"
    }
   ],
   "source": [
    "apple = {\n",
    "    \"price\": {\n",
    "        \"in_season\": {\"store\": {\"Walmart\": [2, 4], \"Aldi\": 1}},\n",
    "        \"out_of_season\": {\"store\": {\"Walmart\": [3, 5], \"Aldi\": 2}},\n",
    "    }\n",
    "}"
   ]
  },
  {
   "cell_type": "code",
   "execution_count": 24,
   "id": "39aa1199",
   "metadata": {
    "ExecuteTime": {
     "end_time": "2021-07-10T19:06:13.797616Z",
     "start_time": "2021-07-10T19:06:13.793003Z"
    }
   },
   "outputs": [
    {
     "data": {
      "text/plain": [
       "[2, 4]"
      ]
     },
     "execution_count": 24,
     "metadata": {},
     "output_type": "execute_result"
    },
    {
     "data": {
      "application/javascript": [
       "\n",
       "            setTimeout(function() {\n",
       "                var nbb_cell_id = 24;\n",
       "                var nbb_unformatted_code = \"# Without pydash\\napple[\\\"price\\\"][\\\"in_season\\\"][\\\"store\\\"][\\\"Walmart\\\"]\";\n",
       "                var nbb_formatted_code = \"# Without pydash\\napple[\\\"price\\\"][\\\"in_season\\\"][\\\"store\\\"][\\\"Walmart\\\"]\";\n",
       "                var nbb_cells = Jupyter.notebook.get_cells();\n",
       "                for (var i = 0; i < nbb_cells.length; ++i) {\n",
       "                    if (nbb_cells[i].input_prompt_number == nbb_cell_id) {\n",
       "                        if (nbb_cells[i].get_text() == nbb_unformatted_code) {\n",
       "                             nbb_cells[i].set_text(nbb_formatted_code);\n",
       "                        }\n",
       "                        break;\n",
       "                    }\n",
       "                }\n",
       "            }, 500);\n",
       "            "
      ],
      "text/plain": [
       "<IPython.core.display.Javascript object>"
      ]
     },
     "metadata": {},
     "output_type": "display_data"
    }
   ],
   "source": [
    "# Without pydash\n",
    "apple[\"price\"][\"in_season\"][\"store\"][\"Walmart\"]"
   ]
  },
  {
   "cell_type": "code",
   "execution_count": 44,
   "id": "0bcdb8ac",
   "metadata": {
    "ExecuteTime": {
     "end_time": "2021-07-10T14:50:24.067418Z",
     "start_time": "2021-07-10T14:50:24.061944Z"
    }
   },
   "outputs": [
    {
     "data": {
      "text/plain": [
       "[2, 4]"
      ]
     },
     "execution_count": 44,
     "metadata": {},
     "output_type": "execute_result"
    },
    {
     "data": {
      "application/javascript": [
       "\n",
       "            setTimeout(function() {\n",
       "                var nbb_cell_id = 44;\n",
       "                var nbb_unformatted_code = \"py_.get(apple, \\\"price.in_season.store.Walmart\\\")\";\n",
       "                var nbb_formatted_code = \"py_.get(apple, \\\"price.in_season.store.Walmart\\\")\";\n",
       "                var nbb_cells = Jupyter.notebook.get_cells();\n",
       "                for (var i = 0; i < nbb_cells.length; ++i) {\n",
       "                    if (nbb_cells[i].input_prompt_number == nbb_cell_id) {\n",
       "                        if (nbb_cells[i].get_text() == nbb_unformatted_code) {\n",
       "                             nbb_cells[i].set_text(nbb_formatted_code);\n",
       "                        }\n",
       "                        break;\n",
       "                    }\n",
       "                }\n",
       "            }, 500);\n",
       "            "
      ],
      "text/plain": [
       "<IPython.core.display.Javascript object>"
      ]
     },
     "metadata": {},
     "output_type": "display_data"
    }
   ],
   "source": [
    "# With pydash\n",
    "py_.get(apple, \"price.in_season.store.Walmart\")"
   ]
  },
  {
   "cell_type": "code",
   "execution_count": 45,
   "id": "fa63b535",
   "metadata": {
    "ExecuteTime": {
     "end_time": "2021-07-10T14:50:37.893652Z",
     "start_time": "2021-07-10T14:50:37.875006Z"
    }
   },
   "outputs": [
    {
     "data": {
      "text/plain": [
       "2"
      ]
     },
     "execution_count": 45,
     "metadata": {},
     "output_type": "execute_result"
    },
    {
     "data": {
      "application/javascript": [
       "\n",
       "            setTimeout(function() {\n",
       "                var nbb_cell_id = 45;\n",
       "                var nbb_unformatted_code = \"py_.get(apple, \\\"price.in_season.store.Walmart[0]\\\")\";\n",
       "                var nbb_formatted_code = \"py_.get(apple, \\\"price.in_season.store.Walmart[0]\\\")\";\n",
       "                var nbb_cells = Jupyter.notebook.get_cells();\n",
       "                for (var i = 0; i < nbb_cells.length; ++i) {\n",
       "                    if (nbb_cells[i].input_prompt_number == nbb_cell_id) {\n",
       "                        if (nbb_cells[i].get_text() == nbb_unformatted_code) {\n",
       "                             nbb_cells[i].set_text(nbb_formatted_code);\n",
       "                        }\n",
       "                        break;\n",
       "                    }\n",
       "                }\n",
       "            }, 500);\n",
       "            "
      ],
      "text/plain": [
       "<IPython.core.display.Javascript object>"
      ]
     },
     "metadata": {},
     "output_type": "display_data"
    }
   ],
   "source": [
    "py_.get(apple, \"price.in_season.store.Walmart[0]\")"
   ]
  },
  {
   "cell_type": "markdown",
   "id": "792fe785",
   "metadata": {},
   "source": [
    "# List of dictionaries"
   ]
  },
  {
   "cell_type": "markdown",
   "id": "5468c06e",
   "metadata": {},
   "source": [
    "## Find item index using a function"
   ]
  },
  {
   "cell_type": "code",
   "execution_count": 27,
   "id": "eaae41fe",
   "metadata": {
    "ExecuteTime": {
     "end_time": "2021-07-10T14:39:18.593461Z",
     "start_time": "2021-07-10T14:39:18.585581Z"
    }
   },
   "outputs": [
    {
     "data": {
      "application/javascript": [
       "\n",
       "            setTimeout(function() {\n",
       "                var nbb_cell_id = 27;\n",
       "                var nbb_unformatted_code = \"fruits = [\\n    {\\\"name\\\": \\\"apple\\\", \\\"price\\\": 2},\\n    {\\\"name\\\": \\\"orange\\\", \\\"price\\\": 2},\\n    {\\\"name\\\": \\\"grapes\\\", \\\"price\\\": 4},\\n]\";\n",
       "                var nbb_formatted_code = \"fruits = [\\n    {\\\"name\\\": \\\"apple\\\", \\\"price\\\": 2},\\n    {\\\"name\\\": \\\"orange\\\", \\\"price\\\": 2},\\n    {\\\"name\\\": \\\"grapes\\\", \\\"price\\\": 4},\\n]\";\n",
       "                var nbb_cells = Jupyter.notebook.get_cells();\n",
       "                for (var i = 0; i < nbb_cells.length; ++i) {\n",
       "                    if (nbb_cells[i].input_prompt_number == nbb_cell_id) {\n",
       "                        if (nbb_cells[i].get_text() == nbb_unformatted_code) {\n",
       "                             nbb_cells[i].set_text(nbb_formatted_code);\n",
       "                        }\n",
       "                        break;\n",
       "                    }\n",
       "                }\n",
       "            }, 500);\n",
       "            "
      ],
      "text/plain": [
       "<IPython.core.display.Javascript object>"
      ]
     },
     "metadata": {},
     "output_type": "display_data"
    }
   ],
   "source": [
    "fruits = [\n",
    "    {\"name\": \"apple\", \"price\": 2},\n",
    "    {\"name\": \"orange\", \"price\": 2},\n",
    "    {\"name\": \"grapes\", \"price\": 4},\n",
    "]"
   ]
  },
  {
   "cell_type": "code",
   "execution_count": 28,
   "id": "9a7e38f1",
   "metadata": {
    "ExecuteTime": {
     "end_time": "2021-07-10T14:39:19.122390Z",
     "start_time": "2021-07-10T14:39:19.112314Z"
    }
   },
   "outputs": [
    {
     "data": {
      "text/plain": [
       "0"
      ]
     },
     "execution_count": 28,
     "metadata": {},
     "output_type": "execute_result"
    },
    {
     "data": {
      "application/javascript": [
       "\n",
       "            setTimeout(function() {\n",
       "                var nbb_cell_id = 28;\n",
       "                var nbb_unformatted_code = \"filter_fruits = lambda fruit: fruit[\\\"name\\\"] == \\\"apple\\\"\\npy_.find_index(fruits, filter_fruits)\";\n",
       "                var nbb_formatted_code = \"filter_fruits = lambda fruit: fruit[\\\"name\\\"] == \\\"apple\\\"\\npy_.find_index(fruits, filter_fruits)\";\n",
       "                var nbb_cells = Jupyter.notebook.get_cells();\n",
       "                for (var i = 0; i < nbb_cells.length; ++i) {\n",
       "                    if (nbb_cells[i].input_prompt_number == nbb_cell_id) {\n",
       "                        if (nbb_cells[i].get_text() == nbb_unformatted_code) {\n",
       "                             nbb_cells[i].set_text(nbb_formatted_code);\n",
       "                        }\n",
       "                        break;\n",
       "                    }\n",
       "                }\n",
       "            }, 500);\n",
       "            "
      ],
      "text/plain": [
       "<IPython.core.display.Javascript object>"
      ]
     },
     "metadata": {},
     "output_type": "display_data"
    }
   ],
   "source": [
    "filter_fruits = lambda fruit: fruit[\"name\"] == \"apple\"\n",
    "py_.find_index(fruits, filter_fruits)"
   ]
  },
  {
   "cell_type": "markdown",
   "id": "187f90a6",
   "metadata": {},
   "source": [
    "## Find item index using property"
   ]
  },
  {
   "cell_type": "code",
   "execution_count": 26,
   "id": "1eab7215",
   "metadata": {
    "ExecuteTime": {
     "end_time": "2021-07-10T19:22:15.845352Z",
     "start_time": "2021-07-10T19:22:15.811806Z"
    }
   },
   "outputs": [
    {
     "data": {
      "application/javascript": [
       "\n",
       "            setTimeout(function() {\n",
       "                var nbb_cell_id = 26;\n",
       "                var nbb_unformatted_code = \"fruits = [\\n    {\\\"name\\\": \\\"apple\\\", \\\"price\\\": 2},\\n    {\\\"name\\\": \\\"orange\\\", \\\"price\\\": 2},\\n    {\\\"name\\\": \\\"grapes\\\", \\\"price\\\": 4},\\n]\";\n",
       "                var nbb_formatted_code = \"fruits = [\\n    {\\\"name\\\": \\\"apple\\\", \\\"price\\\": 2},\\n    {\\\"name\\\": \\\"orange\\\", \\\"price\\\": 2},\\n    {\\\"name\\\": \\\"grapes\\\", \\\"price\\\": 4},\\n]\";\n",
       "                var nbb_cells = Jupyter.notebook.get_cells();\n",
       "                for (var i = 0; i < nbb_cells.length; ++i) {\n",
       "                    if (nbb_cells[i].input_prompt_number == nbb_cell_id) {\n",
       "                        if (nbb_cells[i].get_text() == nbb_unformatted_code) {\n",
       "                             nbb_cells[i].set_text(nbb_formatted_code);\n",
       "                        }\n",
       "                        break;\n",
       "                    }\n",
       "                }\n",
       "            }, 500);\n",
       "            "
      ],
      "text/plain": [
       "<IPython.core.display.Javascript object>"
      ]
     },
     "metadata": {},
     "output_type": "display_data"
    }
   ],
   "source": [
    "fruits = [\n",
    "    {\"name\": \"apple\", \"price\": 2},\n",
    "    {\"name\": \"orange\", \"price\": 2},\n",
    "    {\"name\": \"grapes\", \"price\": 4},\n",
    "]"
   ]
  },
  {
   "cell_type": "code",
   "execution_count": 27,
   "id": "08579664",
   "metadata": {
    "ExecuteTime": {
     "end_time": "2021-07-10T19:22:16.191854Z",
     "start_time": "2021-07-10T19:22:16.186392Z"
    }
   },
   "outputs": [
    {
     "data": {
      "text/plain": [
       "0"
      ]
     },
     "execution_count": 27,
     "metadata": {},
     "output_type": "execute_result"
    },
    {
     "data": {
      "application/javascript": [
       "\n",
       "            setTimeout(function() {\n",
       "                var nbb_cell_id = 27;\n",
       "                var nbb_unformatted_code = \"py_.find_index(fruits, [\\\"name\\\", \\\"apple\\\"])\";\n",
       "                var nbb_formatted_code = \"py_.find_index(fruits, [\\\"name\\\", \\\"apple\\\"])\";\n",
       "                var nbb_cells = Jupyter.notebook.get_cells();\n",
       "                for (var i = 0; i < nbb_cells.length; ++i) {\n",
       "                    if (nbb_cells[i].input_prompt_number == nbb_cell_id) {\n",
       "                        if (nbb_cells[i].get_text() == nbb_unformatted_code) {\n",
       "                             nbb_cells[i].set_text(nbb_formatted_code);\n",
       "                        }\n",
       "                        break;\n",
       "                    }\n",
       "                }\n",
       "            }, 500);\n",
       "            "
      ],
      "text/plain": [
       "<IPython.core.display.Javascript object>"
      ]
     },
     "metadata": {},
     "output_type": "display_data"
    }
   ],
   "source": [
    "py_.find_index(fruits, [\"name\", \"apple\"])"
   ]
  },
  {
   "cell_type": "code",
   "execution_count": 64,
   "id": "d0e25b9d",
   "metadata": {
    "ExecuteTime": {
     "end_time": "2021-07-10T15:09:20.798380Z",
     "start_time": "2021-07-10T15:09:20.789667Z"
    }
   },
   "outputs": [
    {
     "data": {
      "text/plain": [
       "1"
      ]
     },
     "execution_count": 64,
     "metadata": {},
     "output_type": "execute_result"
    },
    {
     "data": {
      "application/javascript": [
       "\n",
       "            setTimeout(function() {\n",
       "                var nbb_cell_id = 64;\n",
       "                var nbb_unformatted_code = \"py_.find_last_index(fruits, [\\\"price\\\", 2])\";\n",
       "                var nbb_formatted_code = \"py_.find_last_index(fruits, [\\\"price\\\", 2])\";\n",
       "                var nbb_cells = Jupyter.notebook.get_cells();\n",
       "                for (var i = 0; i < nbb_cells.length; ++i) {\n",
       "                    if (nbb_cells[i].input_prompt_number == nbb_cell_id) {\n",
       "                        if (nbb_cells[i].get_text() == nbb_unformatted_code) {\n",
       "                             nbb_cells[i].set_text(nbb_formatted_code);\n",
       "                        }\n",
       "                        break;\n",
       "                    }\n",
       "                }\n",
       "            }, 500);\n",
       "            "
      ],
      "text/plain": [
       "<IPython.core.display.Javascript object>"
      ]
     },
     "metadata": {},
     "output_type": "display_data"
    }
   ],
   "source": [
    "py_.find_last_index(fruits, [\"price\", 2])"
   ]
  },
  {
   "cell_type": "code",
   "execution_count": 66,
   "id": "7193fd2e",
   "metadata": {
    "ExecuteTime": {
     "end_time": "2021-07-10T15:09:30.265029Z",
     "start_time": "2021-07-10T15:09:30.258750Z"
    }
   },
   "outputs": [
    {
     "data": {
      "text/plain": [
       "{'name': 'apple', 'price': 2}"
      ]
     },
     "execution_count": 66,
     "metadata": {},
     "output_type": "execute_result"
    },
    {
     "data": {
      "application/javascript": [
       "\n",
       "            setTimeout(function() {\n",
       "                var nbb_cell_id = 66;\n",
       "                var nbb_unformatted_code = \"fruits[0]\";\n",
       "                var nbb_formatted_code = \"fruits[0]\";\n",
       "                var nbb_cells = Jupyter.notebook.get_cells();\n",
       "                for (var i = 0; i < nbb_cells.length; ++i) {\n",
       "                    if (nbb_cells[i].input_prompt_number == nbb_cell_id) {\n",
       "                        if (nbb_cells[i].get_text() == nbb_unformatted_code) {\n",
       "                             nbb_cells[i].set_text(nbb_formatted_code);\n",
       "                        }\n",
       "                        break;\n",
       "                    }\n",
       "                }\n",
       "            }, 500);\n",
       "            "
      ],
      "text/plain": [
       "<IPython.core.display.Javascript object>"
      ]
     },
     "metadata": {},
     "output_type": "display_data"
    }
   ],
   "source": [
    "fruits[0]"
   ]
  },
  {
   "cell_type": "markdown",
   "id": "5c1bd6e1",
   "metadata": {},
   "source": [
    " ## Find Objects with Matching Style"
   ]
  },
  {
   "cell_type": "code",
   "execution_count": 32,
   "id": "bde44adc",
   "metadata": {
    "ExecuteTime": {
     "end_time": "2021-07-10T19:35:09.162984Z",
     "start_time": "2021-07-10T19:35:09.146024Z"
    }
   },
   "outputs": [
    {
     "data": {
      "application/javascript": [
       "\n",
       "            setTimeout(function() {\n",
       "                var nbb_cell_id = 32;\n",
       "                var nbb_unformatted_code = \"fruits = [\\n    {\\\"name\\\": \\\"apple\\\", \\\"price\\\": 2},\\n    {\\\"name\\\": \\\"orange\\\", \\\"price\\\": 2},\\n    {\\\"name\\\": \\\"grapes\\\", \\\"price\\\": 4},\\n]\";\n",
       "                var nbb_formatted_code = \"fruits = [\\n    {\\\"name\\\": \\\"apple\\\", \\\"price\\\": 2},\\n    {\\\"name\\\": \\\"orange\\\", \\\"price\\\": 2},\\n    {\\\"name\\\": \\\"grapes\\\", \\\"price\\\": 4},\\n]\";\n",
       "                var nbb_cells = Jupyter.notebook.get_cells();\n",
       "                for (var i = 0; i < nbb_cells.length; ++i) {\n",
       "                    if (nbb_cells[i].input_prompt_number == nbb_cell_id) {\n",
       "                        if (nbb_cells[i].get_text() == nbb_unformatted_code) {\n",
       "                             nbb_cells[i].set_text(nbb_formatted_code);\n",
       "                        }\n",
       "                        break;\n",
       "                    }\n",
       "                }\n",
       "            }, 500);\n",
       "            "
      ],
      "text/plain": [
       "<IPython.core.display.Javascript object>"
      ]
     },
     "metadata": {},
     "output_type": "display_data"
    }
   ],
   "source": [
    "fruits = [\n",
    "    {\"name\": \"apple\", \"price\": 2},\n",
    "    {\"name\": \"orange\", \"price\": 2},\n",
    "    {\"name\": \"grapes\", \"price\": 4},\n",
    "]"
   ]
  },
  {
   "cell_type": "code",
   "execution_count": 33,
   "id": "09363dd2",
   "metadata": {
    "ExecuteTime": {
     "end_time": "2021-07-10T19:35:09.452745Z",
     "start_time": "2021-07-10T19:35:09.432492Z"
    }
   },
   "outputs": [
    {
     "data": {
      "text/plain": [
       "[{'name': 'apple', 'price': 2}]"
      ]
     },
     "execution_count": 33,
     "metadata": {},
     "output_type": "execute_result"
    },
    {
     "data": {
      "application/javascript": [
       "\n",
       "            setTimeout(function() {\n",
       "                var nbb_cell_id = 33;\n",
       "                var nbb_unformatted_code = \"py_.filter_(fruits, {\\\"name\\\": \\\"apple\\\"})\";\n",
       "                var nbb_formatted_code = \"py_.filter_(fruits, {\\\"name\\\": \\\"apple\\\"})\";\n",
       "                var nbb_cells = Jupyter.notebook.get_cells();\n",
       "                for (var i = 0; i < nbb_cells.length; ++i) {\n",
       "                    if (nbb_cells[i].input_prompt_number == nbb_cell_id) {\n",
       "                        if (nbb_cells[i].get_text() == nbb_unformatted_code) {\n",
       "                             nbb_cells[i].set_text(nbb_formatted_code);\n",
       "                        }\n",
       "                        break;\n",
       "                    }\n",
       "                }\n",
       "            }, 500);\n",
       "            "
      ],
      "text/plain": [
       "<IPython.core.display.Javascript object>"
      ]
     },
     "metadata": {},
     "output_type": "display_data"
    }
   ],
   "source": [
    "py_.filter_(fruits, {\"name\": \"apple\"})"
   ]
  },
  {
   "cell_type": "markdown",
   "id": "b6b5093b",
   "metadata": {},
   "source": [
    "## Get Nested Object Value"
   ]
  },
  {
   "cell_type": "code",
   "execution_count": 20,
   "id": "ca9b260e",
   "metadata": {
    "ExecuteTime": {
     "end_time": "2021-07-10T14:34:09.341159Z",
     "start_time": "2021-07-10T14:34:09.329406Z"
    }
   },
   "outputs": [
    {
     "data": {
      "application/javascript": [
       "\n",
       "            setTimeout(function() {\n",
       "                var nbb_cell_id = 20;\n",
       "                var nbb_unformatted_code = \"fruits = [\\n    {'name': 'apple', 'attributes': {'color': 'red', 'taste': 'sweet'}},\\n    {'name': 'orange', 'attributes': {'color': 'orange', 'taste': 'sweet'}},\\n    {'name': 'lemon', 'attributes': {'color': 'yellow', 'taste': 'sour'}}\\n]\";\n",
       "                var nbb_formatted_code = \"fruits = [\\n    {\\\"name\\\": \\\"apple\\\", \\\"attributes\\\": {\\\"color\\\": \\\"red\\\", \\\"taste\\\": \\\"sweet\\\"}},\\n    {\\\"name\\\": \\\"orange\\\", \\\"attributes\\\": {\\\"color\\\": \\\"orange\\\", \\\"taste\\\": \\\"sweet\\\"}},\\n    {\\\"name\\\": \\\"lemon\\\", \\\"attributes\\\": {\\\"color\\\": \\\"yellow\\\", \\\"taste\\\": \\\"sour\\\"}},\\n]\";\n",
       "                var nbb_cells = Jupyter.notebook.get_cells();\n",
       "                for (var i = 0; i < nbb_cells.length; ++i) {\n",
       "                    if (nbb_cells[i].input_prompt_number == nbb_cell_id) {\n",
       "                        if (nbb_cells[i].get_text() == nbb_unformatted_code) {\n",
       "                             nbb_cells[i].set_text(nbb_formatted_code);\n",
       "                        }\n",
       "                        break;\n",
       "                    }\n",
       "                }\n",
       "            }, 500);\n",
       "            "
      ],
      "text/plain": [
       "<IPython.core.display.Javascript object>"
      ]
     },
     "metadata": {},
     "output_type": "display_data"
    }
   ],
   "source": [
    "fruits = [\n",
    "    {\"name\": \"apple\", \"attributes\": {\"color\": \"red\", \"taste\": \"sweet\"}},\n",
    "    {\"name\": \"orange\", \"attributes\": {\"color\": \"orange\", \"taste\": \"sweet\"}},\n",
    "    {\"name\": \"lemon\", \"attributes\": {\"color\": \"yellow\", \"taste\": \"sour\"}},\n",
    "]"
   ]
  },
  {
   "cell_type": "code",
   "execution_count": 24,
   "id": "3df2b836",
   "metadata": {
    "ExecuteTime": {
     "end_time": "2021-07-10T14:36:05.813877Z",
     "start_time": "2021-07-10T14:36:05.805465Z"
    }
   },
   "outputs": [
    {
     "data": {
      "text/plain": [
       "['sweet', 'sweet', 'sour']"
      ]
     },
     "execution_count": 24,
     "metadata": {},
     "output_type": "execute_result"
    },
    {
     "data": {
      "application/javascript": [
       "\n",
       "            setTimeout(function() {\n",
       "                var nbb_cell_id = 24;\n",
       "                var nbb_unformatted_code = \"[fruit[\\\"attributes\\\"][\\\"taste\\\"] for fruit in fruits]\";\n",
       "                var nbb_formatted_code = \"[fruit[\\\"attributes\\\"][\\\"taste\\\"] for fruit in fruits]\";\n",
       "                var nbb_cells = Jupyter.notebook.get_cells();\n",
       "                for (var i = 0; i < nbb_cells.length; ++i) {\n",
       "                    if (nbb_cells[i].input_prompt_number == nbb_cell_id) {\n",
       "                        if (nbb_cells[i].get_text() == nbb_unformatted_code) {\n",
       "                             nbb_cells[i].set_text(nbb_formatted_code);\n",
       "                        }\n",
       "                        break;\n",
       "                    }\n",
       "                }\n",
       "            }, 500);\n",
       "            "
      ],
      "text/plain": [
       "<IPython.core.display.Javascript object>"
      ]
     },
     "metadata": {},
     "output_type": "display_data"
    }
   ],
   "source": [
    "# list comprehension\n",
    "[fruit[\"attributes\"][\"taste\"] for fruit in fruits]"
   ]
  },
  {
   "cell_type": "code",
   "execution_count": 22,
   "id": "798929ba",
   "metadata": {
    "ExecuteTime": {
     "end_time": "2021-07-10T14:34:58.396916Z",
     "start_time": "2021-07-10T14:34:58.391390Z"
    }
   },
   "outputs": [
    {
     "data": {
      "text/plain": [
       "['sweet', 'sweet', 'sour']"
      ]
     },
     "execution_count": 22,
     "metadata": {},
     "output_type": "execute_result"
    },
    {
     "data": {
      "application/javascript": [
       "\n",
       "            setTimeout(function() {\n",
       "                var nbb_cell_id = 22;\n",
       "                var nbb_unformatted_code = \"py_.map_(fruits, \\\"attributes.taste\\\")\";\n",
       "                var nbb_formatted_code = \"py_.map_(fruits, \\\"attributes.taste\\\")\";\n",
       "                var nbb_cells = Jupyter.notebook.get_cells();\n",
       "                for (var i = 0; i < nbb_cells.length; ++i) {\n",
       "                    if (nbb_cells[i].input_prompt_number == nbb_cell_id) {\n",
       "                        if (nbb_cells[i].get_text() == nbb_unformatted_code) {\n",
       "                             nbb_cells[i].set_text(nbb_formatted_code);\n",
       "                        }\n",
       "                        break;\n",
       "                    }\n",
       "                }\n",
       "            }, 500);\n",
       "            "
      ],
      "text/plain": [
       "<IPython.core.display.Javascript object>"
      ]
     },
     "metadata": {},
     "output_type": "display_data"
    }
   ],
   "source": [
    "# pydash\n",
    "py_.map_(fruits, \"attributes.taste\")"
   ]
  },
  {
   "cell_type": "markdown",
   "id": "f9b58a61",
   "metadata": {},
   "source": [
    "# Functions"
   ]
  },
  {
   "cell_type": "markdown",
   "id": "33f1f0a1",
   "metadata": {},
   "source": [
    "## Curry"
   ]
  },
  {
   "cell_type": "code",
   "execution_count": 11,
   "id": "fb6d6ed1",
   "metadata": {
    "ExecuteTime": {
     "end_time": "2021-07-10T14:29:13.175851Z",
     "start_time": "2021-07-10T14:29:13.165733Z"
    }
   },
   "outputs": [
    {
     "data": {
      "text/plain": [
       "5"
      ]
     },
     "execution_count": 11,
     "metadata": {},
     "output_type": "execute_result"
    },
    {
     "data": {
      "application/javascript": [
       "\n",
       "            setTimeout(function() {\n",
       "                var nbb_cell_id = 11;\n",
       "                var nbb_unformatted_code = \"linear = py_.curry(lambda a, b, x: a * x + b)\\nlinear(1, 2)(3)\";\n",
       "                var nbb_formatted_code = \"linear = py_.curry(lambda a, b, x: a * x + b)\\nlinear(1, 2)(3)\";\n",
       "                var nbb_cells = Jupyter.notebook.get_cells();\n",
       "                for (var i = 0; i < nbb_cells.length; ++i) {\n",
       "                    if (nbb_cells[i].input_prompt_number == nbb_cell_id) {\n",
       "                        if (nbb_cells[i].get_text() == nbb_unformatted_code) {\n",
       "                             nbb_cells[i].set_text(nbb_formatted_code);\n",
       "                        }\n",
       "                        break;\n",
       "                    }\n",
       "                }\n",
       "            }, 500);\n",
       "            "
      ],
      "text/plain": [
       "<IPython.core.display.Javascript object>"
      ]
     },
     "metadata": {},
     "output_type": "display_data"
    }
   ],
   "source": [
    "linear = py_.curry(lambda a, b, x: a * x + b)\n",
    "linear(1, 2)(3)"
   ]
  },
  {
   "cell_type": "code",
   "execution_count": 12,
   "id": "9dbaabeb",
   "metadata": {
    "ExecuteTime": {
     "end_time": "2021-07-10T14:29:13.581753Z",
     "start_time": "2021-07-10T14:29:13.568095Z"
    }
   },
   "outputs": [
    {
     "data": {
      "text/plain": [
       "7"
      ]
     },
     "execution_count": 12,
     "metadata": {},
     "output_type": "execute_result"
    },
    {
     "data": {
      "application/javascript": [
       "\n",
       "            setTimeout(function() {\n",
       "                var nbb_cell_id = 12;\n",
       "                var nbb_unformatted_code = \"linear(1, 2)(5)\";\n",
       "                var nbb_formatted_code = \"linear(1, 2)(5)\";\n",
       "                var nbb_cells = Jupyter.notebook.get_cells();\n",
       "                for (var i = 0; i < nbb_cells.length; ++i) {\n",
       "                    if (nbb_cells[i].input_prompt_number == nbb_cell_id) {\n",
       "                        if (nbb_cells[i].get_text() == nbb_unformatted_code) {\n",
       "                             nbb_cells[i].set_text(nbb_formatted_code);\n",
       "                        }\n",
       "                        break;\n",
       "                    }\n",
       "                }\n",
       "            }, 500);\n",
       "            "
      ],
      "text/plain": [
       "<IPython.core.display.Javascript object>"
      ]
     },
     "metadata": {},
     "output_type": "display_data"
    }
   ],
   "source": [
    "linear(1, 2)(5)"
   ]
  },
  {
   "cell_type": "markdown",
   "id": "971fb277",
   "metadata": {},
   "source": [
    "# Utilities"
   ]
  },
  {
   "cell_type": "markdown",
   "id": "3e2fb79b",
   "metadata": {},
   "source": [
    "## Execute a function n times"
   ]
  },
  {
   "cell_type": "code",
   "execution_count": 13,
   "id": "ce7b3408",
   "metadata": {
    "ExecuteTime": {
     "end_time": "2021-07-10T14:29:14.564021Z",
     "start_time": "2021-07-10T14:29:14.549714Z"
    }
   },
   "outputs": [
    {
     "data": {
      "text/plain": [
       "['I have just bought some apple',\n",
       " 'I have just bought some apple',\n",
       " 'I have just bought some apple',\n",
       " 'I have just bought some apple']"
      ]
     },
     "execution_count": 13,
     "metadata": {},
     "output_type": "execute_result"
    },
    {
     "data": {
      "application/javascript": [
       "\n",
       "            setTimeout(function() {\n",
       "                var nbb_cell_id = 13;\n",
       "                var nbb_unformatted_code = \"py_.times(4, lambda: \\\"I have just bought some apple\\\")\";\n",
       "                var nbb_formatted_code = \"py_.times(4, lambda: \\\"I have just bought some apple\\\")\";\n",
       "                var nbb_cells = Jupyter.notebook.get_cells();\n",
       "                for (var i = 0; i < nbb_cells.length; ++i) {\n",
       "                    if (nbb_cells[i].input_prompt_number == nbb_cell_id) {\n",
       "                        if (nbb_cells[i].get_text() == nbb_unformatted_code) {\n",
       "                             nbb_cells[i].set_text(nbb_formatted_code);\n",
       "                        }\n",
       "                        break;\n",
       "                    }\n",
       "                }\n",
       "            }, 500);\n",
       "            "
      ],
      "text/plain": [
       "<IPython.core.display.Javascript object>"
      ]
     },
     "metadata": {},
     "output_type": "display_data"
    }
   ],
   "source": [
    "py_.times(4, lambda: \"I have just bought some apple\")"
   ]
  },
  {
   "cell_type": "code",
   "execution_count": 14,
   "id": "9219ea5f",
   "metadata": {
    "ExecuteTime": {
     "end_time": "2021-07-10T14:29:14.801805Z",
     "start_time": "2021-07-10T14:29:14.781570Z"
    },
    "scrolled": true
   },
   "outputs": [
    {
     "data": {
      "text/plain": [
       "['I have just bought 0 apple',\n",
       " 'I have just bought 1 apple',\n",
       " 'I have just bought 2 apple',\n",
       " 'I have just bought 3 apple']"
      ]
     },
     "execution_count": 14,
     "metadata": {},
     "output_type": "execute_result"
    },
    {
     "data": {
      "application/javascript": [
       "\n",
       "            setTimeout(function() {\n",
       "                var nbb_cell_id = 14;\n",
       "                var nbb_unformatted_code = \"py_.times(4, lambda i: f\\\"I have just bought {i} apple\\\")\";\n",
       "                var nbb_formatted_code = \"py_.times(4, lambda i: f\\\"I have just bought {i} apple\\\")\";\n",
       "                var nbb_cells = Jupyter.notebook.get_cells();\n",
       "                for (var i = 0; i < nbb_cells.length; ++i) {\n",
       "                    if (nbb_cells[i].input_prompt_number == nbb_cell_id) {\n",
       "                        if (nbb_cells[i].get_text() == nbb_unformatted_code) {\n",
       "                             nbb_cells[i].set_text(nbb_formatted_code);\n",
       "                        }\n",
       "                        break;\n",
       "                    }\n",
       "                }\n",
       "            }, 500);\n",
       "            "
      ],
      "text/plain": [
       "<IPython.core.display.Javascript object>"
      ]
     },
     "metadata": {},
     "output_type": "display_data"
    }
   ],
   "source": [
    "py_.times(4, lambda i: f\"I have just bought {i} apple\")"
   ]
  },
  {
   "cell_type": "markdown",
   "id": "d16aad6a",
   "metadata": {},
   "source": [
    "# Chaining"
   ]
  },
  {
   "cell_type": "code",
   "execution_count": 35,
   "id": "7d970361",
   "metadata": {
    "ExecuteTime": {
     "end_time": "2021-07-10T19:41:01.817347Z",
     "start_time": "2021-07-10T19:41:01.799391Z"
    }
   },
   "outputs": [
    {
     "data": {
      "application/javascript": [
       "\n",
       "            setTimeout(function() {\n",
       "                var nbb_cell_id = 35;\n",
       "                var nbb_unformatted_code = \"fruits = [\\\"apple\\\", \\\"orange\\\", \\\"grapes\\\"]\";\n",
       "                var nbb_formatted_code = \"fruits = [\\\"apple\\\", \\\"orange\\\", \\\"grapes\\\"]\";\n",
       "                var nbb_cells = Jupyter.notebook.get_cells();\n",
       "                for (var i = 0; i < nbb_cells.length; ++i) {\n",
       "                    if (nbb_cells[i].input_prompt_number == nbb_cell_id) {\n",
       "                        if (nbb_cells[i].get_text() == nbb_unformatted_code) {\n",
       "                             nbb_cells[i].set_text(nbb_formatted_code);\n",
       "                        }\n",
       "                        break;\n",
       "                    }\n",
       "                }\n",
       "            }, 500);\n",
       "            "
      ],
      "text/plain": [
       "<IPython.core.display.Javascript object>"
      ]
     },
     "metadata": {},
     "output_type": "display_data"
    }
   ],
   "source": [
    "fruits = [\"apple\", \"orange\", \"grapes\"]"
   ]
  },
  {
   "cell_type": "code",
   "execution_count": 39,
   "id": "d0b7dbd6",
   "metadata": {
    "ExecuteTime": {
     "end_time": "2021-07-10T19:45:07.370739Z",
     "start_time": "2021-07-10T19:45:07.358673Z"
    }
   },
   "outputs": [
    {
     "data": {
      "text/plain": [
       "['orange']"
      ]
     },
     "execution_count": 39,
     "metadata": {},
     "output_type": "execute_result"
    },
    {
     "data": {
      "application/javascript": [
       "\n",
       "            setTimeout(function() {\n",
       "                var nbb_cell_id = 39;\n",
       "                var nbb_unformatted_code = \"(py_.chain(fruits).without(\\\"grapes\\\").reject(lambda fruit: fruit.startswith(\\\"a\\\")).value())\";\n",
       "                var nbb_formatted_code = \"(\\n    py_.chain(fruits)\\n    .without(\\\"grapes\\\")\\n    .reject(lambda fruit: fruit.startswith(\\\"a\\\"))\\n    .value()\\n)\";\n",
       "                var nbb_cells = Jupyter.notebook.get_cells();\n",
       "                for (var i = 0; i < nbb_cells.length; ++i) {\n",
       "                    if (nbb_cells[i].input_prompt_number == nbb_cell_id) {\n",
       "                        if (nbb_cells[i].get_text() == nbb_unformatted_code) {\n",
       "                             nbb_cells[i].set_text(nbb_formatted_code);\n",
       "                        }\n",
       "                        break;\n",
       "                    }\n",
       "                }\n",
       "            }, 500);\n",
       "            "
      ],
      "text/plain": [
       "<IPython.core.display.Javascript object>"
      ]
     },
     "metadata": {},
     "output_type": "display_data"
    }
   ],
   "source": [
    "(\n",
    "    py_.chain(fruits)\n",
    "    .without(\"grapes\")\n",
    "    .reject(lambda fruit: fruit.startswith(\"a\"))\n",
    "    .value()\n",
    ")"
   ]
  },
  {
   "cell_type": "code",
   "execution_count": 49,
   "id": "74978fb4",
   "metadata": {
    "ExecuteTime": {
     "end_time": "2021-07-10T14:57:54.621776Z",
     "start_time": "2021-07-10T14:57:54.614442Z"
    }
   },
   "outputs": [
    {
     "data": {
      "application/javascript": [
       "\n",
       "            setTimeout(function() {\n",
       "                var nbb_cell_id = 49;\n",
       "                var nbb_unformatted_code = \"def get_price(fruit):\\n    prices = {'apple': 2, 'orange': 2, 'grapes': 4}\\n    return prices[fruit]\";\n",
       "                var nbb_formatted_code = \"def get_price(fruit):\\n    prices = {\\\"apple\\\": 2, \\\"orange\\\": 2, \\\"grapes\\\": 4}\\n    return prices[fruit]\";\n",
       "                var nbb_cells = Jupyter.notebook.get_cells();\n",
       "                for (var i = 0; i < nbb_cells.length; ++i) {\n",
       "                    if (nbb_cells[i].input_prompt_number == nbb_cell_id) {\n",
       "                        if (nbb_cells[i].get_text() == nbb_unformatted_code) {\n",
       "                             nbb_cells[i].set_text(nbb_formatted_code);\n",
       "                        }\n",
       "                        break;\n",
       "                    }\n",
       "                }\n",
       "            }, 500);\n",
       "            "
      ],
      "text/plain": [
       "<IPython.core.display.Javascript object>"
      ]
     },
     "metadata": {},
     "output_type": "display_data"
    }
   ],
   "source": [
    "def get_price(fruit):\n",
    "    prices = {\"apple\": 2, \"orange\": 2, \"grapes\": 4}\n",
    "    return prices[fruit]"
   ]
  },
  {
   "cell_type": "code",
   "execution_count": 58,
   "id": "6a81d59e",
   "metadata": {
    "ExecuteTime": {
     "end_time": "2021-07-10T15:04:58.718773Z",
     "start_time": "2021-07-10T15:04:58.712185Z"
    }
   },
   "outputs": [
    {
     "data": {
      "text/plain": [
       "8"
      ]
     },
     "execution_count": 58,
     "metadata": {},
     "output_type": "execute_result"
    },
    {
     "data": {
      "application/javascript": [
       "\n",
       "            setTimeout(function() {\n",
       "                var nbb_cell_id = 58;\n",
       "                var nbb_unformatted_code = \"total_price = py_.chain(fruits).map(get_price).sum()\\ntotal_price.value()\";\n",
       "                var nbb_formatted_code = \"total_price = py_.chain(fruits).map(get_price).sum()\\ntotal_price.value()\";\n",
       "                var nbb_cells = Jupyter.notebook.get_cells();\n",
       "                for (var i = 0; i < nbb_cells.length; ++i) {\n",
       "                    if (nbb_cells[i].input_prompt_number == nbb_cell_id) {\n",
       "                        if (nbb_cells[i].get_text() == nbb_unformatted_code) {\n",
       "                             nbb_cells[i].set_text(nbb_formatted_code);\n",
       "                        }\n",
       "                        break;\n",
       "                    }\n",
       "                }\n",
       "            }, 500);\n",
       "            "
      ],
      "text/plain": [
       "<IPython.core.display.Javascript object>"
      ]
     },
     "metadata": {},
     "output_type": "display_data"
    }
   ],
   "source": [
    "total_price = py_.chain(fruits).map(get_price).sum()\n",
    "total_price.value()"
   ]
  },
  {
   "cell_type": "code",
   "execution_count": 60,
   "id": "1e710d02",
   "metadata": {
    "ExecuteTime": {
     "end_time": "2021-07-10T15:05:15.369437Z",
     "start_time": "2021-07-10T15:05:15.361221Z"
    }
   },
   "outputs": [
    {
     "data": {
      "text/plain": [
       "4"
      ]
     },
     "execution_count": 60,
     "metadata": {},
     "output_type": "execute_result"
    },
    {
     "data": {
      "application/javascript": [
       "\n",
       "            setTimeout(function() {\n",
       "                var nbb_cell_id = 60;\n",
       "                var nbb_unformatted_code = \"total_price.plant([\\\"apple\\\", \\\"orange\\\"]).value()\";\n",
       "                var nbb_formatted_code = \"total_price.plant([\\\"apple\\\", \\\"orange\\\"]).value()\";\n",
       "                var nbb_cells = Jupyter.notebook.get_cells();\n",
       "                for (var i = 0; i < nbb_cells.length; ++i) {\n",
       "                    if (nbb_cells[i].input_prompt_number == nbb_cell_id) {\n",
       "                        if (nbb_cells[i].get_text() == nbb_unformatted_code) {\n",
       "                             nbb_cells[i].set_text(nbb_formatted_code);\n",
       "                        }\n",
       "                        break;\n",
       "                    }\n",
       "                }\n",
       "            }, 500);\n",
       "            "
      ],
      "text/plain": [
       "<IPython.core.display.Javascript object>"
      ]
     },
     "metadata": {},
     "output_type": "display_data"
    }
   ],
   "source": [
    "total_price.plant([\"apple\", \"orange\"]).value()"
   ]
  }
 ],
 "metadata": {
  "kernelspec": {
   "display_name": "Python 3",
   "language": "python",
   "name": "python3"
  },
  "language_info": {
   "codemirror_mode": {
    "name": "ipython",
    "version": 3
   },
   "file_extension": ".py",
   "mimetype": "text/x-python",
   "name": "python",
   "nbconvert_exporter": "python",
   "pygments_lexer": "ipython3",
   "version": "3.8.1"
  },
  "toc": {
   "base_numbering": 1,
   "nav_menu": {},
   "number_sections": true,
   "sideBar": true,
   "skip_h1_title": false,
   "title_cell": "Table of Contents",
   "title_sidebar": "Contents",
   "toc_cell": false,
   "toc_position": {},
   "toc_section_display": true,
   "toc_window_display": false
  }
 },
 "nbformat": 4,
 "nbformat_minor": 5
}
