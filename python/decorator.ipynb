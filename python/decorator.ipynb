{
 "cells": [
  {
   "cell_type": "code",
   "metadata": {
    "ExecuteTime": {
     "end_time": "2021-08-30T12:33:19.436734Z",
     "start_time": "2021-08-30T12:33:19.268946Z"
    },
    "cell_id": "00000-feadc514-c9d2-4330-9227-abce3fb978c7",
    "deepnote_cell_type": "code"
   },
   "source": "%load_ext nb_black",
   "outputs": [
    {
     "data": {
      "application/javascript": "\n            setTimeout(function() {\n                var nbb_cell_id = 16;\n                var nbb_unformatted_code = \"%load_ext nb_black\";\n                var nbb_formatted_code = \"%load_ext nb_black\";\n                var nbb_cells = Jupyter.notebook.get_cells();\n                for (var i = 0; i < nbb_cells.length; ++i) {\n                    if (nbb_cells[i].input_prompt_number == nbb_cell_id) {\n                        if (nbb_cells[i].get_text() == nbb_unformatted_code) {\n                             nbb_cells[i].set_text(nbb_formatted_code);\n                        }\n                        break;\n                    }\n                }\n            }, 500);\n            ",
      "text/plain": "<IPython.core.display.Javascript object>"
     },
     "metadata": {},
     "output_type": "display_data"
    }
   ],
   "execution_count": null
  },
  {
   "cell_type": "markdown",
   "source": "# Problem",
   "metadata": {
    "cell_id": "00001-20bce8a3-1d38-4b23-8ddd-44e4b0981dac",
    "deepnote_cell_type": "markdown"
   }
  },
  {
   "cell_type": "code",
   "metadata": {
    "ExecuteTime": {
     "end_time": "2021-08-30T12:25:39.976527Z",
     "start_time": "2021-08-30T12:25:39.957294Z"
    },
    "cell_id": "00002-e1bc24dd-4999-49cb-9f91-3477bb0311bf",
    "deepnote_cell_type": "code"
   },
   "source": "def time_func(func):\n    def wrapper(*args, **kwargs):\n        start_time = time()\n        func(*args, **kwargs)\n        end_time = time()\n        print(\n            f\"\"\"It takes {round(end_time - start_time, 3)} seconds to execute the function\"\"\"\n        )\n    return wrapper ",
   "outputs": [],
   "execution_count": null
  },
  {
   "cell_type": "code",
   "metadata": {
    "ExecuteTime": {
     "end_time": "2021-08-30T12:26:47.565415Z",
     "start_time": "2021-08-30T12:26:46.557892Z"
    },
    "cell_id": "00003-93b32ec6-544a-4d5c-94bc-201657351af0",
    "deepnote_cell_type": "code"
   },
   "source": "from time import time, sleep\n\n@time_func\ndef test_func():\n    sleep(1)\n    \ntest_func()",
   "outputs": [
    {
     "name": "stdout",
     "output_type": "stream",
     "text": "It takes 1.001 seconds to execute the function\n"
    }
   ],
   "execution_count": null
  },
  {
   "cell_type": "code",
   "metadata": {
    "ExecuteTime": {
     "end_time": "2021-08-30T12:30:11.494315Z",
     "start_time": "2021-08-30T12:30:11.486056Z"
    },
    "cell_id": "00004-bb456847-c529-43ef-8de0-bbba8a75e10f",
    "deepnote_cell_type": "code"
   },
   "source": "from inspect import signature\nsignature(test_func)",
   "outputs": [
    {
     "data": {
      "text/plain": "<Signature (*args, **kwargs)>"
     },
     "execution_count": 11,
     "metadata": {},
     "output_type": "execute_result"
    }
   ],
   "execution_count": null
  },
  {
   "cell_type": "code",
   "metadata": {
    "ExecuteTime": {
     "end_time": "2021-08-30T12:30:44.009457Z",
     "start_time": "2021-08-30T12:30:43.991487Z"
    },
    "cell_id": "00005-d2b49c3b-c59b-4de5-8329-5a4634d025cc",
    "deepnote_cell_type": "code"
   },
   "source": "test_func(1, 2)",
   "outputs": [
    {
     "ename": "TypeError",
     "evalue": "test_func() takes 0 positional arguments but 2 were given",
     "output_type": "error",
     "traceback": [
      "\u001b[0;31m---------------------------------------------------------------------------\u001b[0m",
      "\u001b[0;31mTypeError\u001b[0m                                 Traceback (most recent call last)",
      "\u001b[0;32m/tmp/ipykernel_369895/402927679.py\u001b[0m in \u001b[0;36m<module>\u001b[0;34m\u001b[0m\n\u001b[0;32m----> 1\u001b[0;31m \u001b[0mtest_func\u001b[0m\u001b[0;34m(\u001b[0m\u001b[0;36m1\u001b[0m\u001b[0;34m,\u001b[0m \u001b[0;36m2\u001b[0m\u001b[0;34m)\u001b[0m\u001b[0;34m\u001b[0m\u001b[0;34m\u001b[0m\u001b[0m\n\u001b[0m",
      "\u001b[0;32m/tmp/ipykernel_369895/2864448759.py\u001b[0m in \u001b[0;36mwrapper\u001b[0;34m(*args, **kwargs)\u001b[0m\n\u001b[1;32m      5\u001b[0m     \u001b[0;32mdef\u001b[0m \u001b[0mwrapper\u001b[0m\u001b[0;34m(\u001b[0m\u001b[0;34m*\u001b[0m\u001b[0margs\u001b[0m\u001b[0;34m,\u001b[0m \u001b[0;34m**\u001b[0m\u001b[0mkwargs\u001b[0m\u001b[0;34m)\u001b[0m\u001b[0;34m:\u001b[0m\u001b[0;34m\u001b[0m\u001b[0;34m\u001b[0m\u001b[0m\n\u001b[1;32m      6\u001b[0m         \u001b[0mstart_time\u001b[0m \u001b[0;34m=\u001b[0m \u001b[0mtime\u001b[0m\u001b[0;34m(\u001b[0m\u001b[0;34m)\u001b[0m\u001b[0;34m\u001b[0m\u001b[0;34m\u001b[0m\u001b[0m\n\u001b[0;32m----> 7\u001b[0;31m         \u001b[0mfunc\u001b[0m\u001b[0;34m(\u001b[0m\u001b[0;34m*\u001b[0m\u001b[0margs\u001b[0m\u001b[0;34m,\u001b[0m \u001b[0;34m**\u001b[0m\u001b[0mkwargs\u001b[0m\u001b[0;34m)\u001b[0m\u001b[0;34m\u001b[0m\u001b[0;34m\u001b[0m\u001b[0m\n\u001b[0m\u001b[1;32m      8\u001b[0m         \u001b[0mend_time\u001b[0m \u001b[0;34m=\u001b[0m \u001b[0mtime\u001b[0m\u001b[0;34m(\u001b[0m\u001b[0;34m)\u001b[0m\u001b[0;34m\u001b[0m\u001b[0;34m\u001b[0m\u001b[0m\n\u001b[1;32m      9\u001b[0m         print(\n",
      "\u001b[0;31mTypeError\u001b[0m: test_func() takes 0 positional arguments but 2 were given"
     ]
    }
   ],
   "execution_count": null
  },
  {
   "cell_type": "markdown",
   "source": "# Decorator Library",
   "metadata": {
    "ExecuteTime": {
     "end_time": "2021-08-30T12:31:15.427478Z",
     "start_time": "2021-08-30T12:31:15.422103Z"
    },
    "cell_id": "00006-2bfa6e31-3a82-466e-92d4-9866e154990a",
    "deepnote_cell_type": "markdown"
   }
  },
  {
   "cell_type": "markdown",
   "source": "## Decorator.decorator",
   "metadata": {
    "cell_id": "00007-0e6484ab-5bf8-437b-baa3-086cf271f39a",
    "deepnote_cell_type": "markdown"
   }
  },
  {
   "cell_type": "markdown",
   "source": "### Time func",
   "metadata": {
    "cell_id": "00008-ae60ba2f-1c42-4f63-b2bd-46b6bbce2757",
    "deepnote_cell_type": "markdown"
   }
  },
  {
   "cell_type": "code",
   "metadata": {
    "ExecuteTime": {
     "end_time": "2021-08-30T12:27:41.443337Z",
     "start_time": "2021-08-30T12:27:41.435948Z"
    },
    "cell_id": "00009-43da48b3-fdb0-413e-87df-cb6667211f19",
    "deepnote_cell_type": "code"
   },
   "source": "from decorator import decorator\n\n@decorator\ndef time_func_2(func, *args, **kwargs):\n    start_time = time()\n    func(*args, **kwargs)\n    end_time = time()\n    print(\n            f\"\"\"It takes {round(end_time - start_time, 3)} seconds to execute the function\"\"\"\n        )",
   "outputs": [],
   "execution_count": null
  },
  {
   "cell_type": "code",
   "metadata": {
    "ExecuteTime": {
     "end_time": "2021-08-30T12:28:02.859191Z",
     "start_time": "2021-08-30T12:28:01.852340Z"
    },
    "cell_id": "00010-fc87ddcb-a0a8-4213-ae95-b42c4a709fa9",
    "deepnote_cell_type": "code"
   },
   "source": "@time_func_2\ndef test_func_2():\n    sleep(1)\n    \ntest_func_2()",
   "outputs": [
    {
     "name": "stdout",
     "output_type": "stream",
     "text": "It takes 1.001 seconds to execute the function\n"
    }
   ],
   "execution_count": null
  },
  {
   "cell_type": "code",
   "metadata": {
    "ExecuteTime": {
     "end_time": "2021-08-30T12:30:17.447352Z",
     "start_time": "2021-08-30T12:30:17.438949Z"
    },
    "cell_id": "00011-58ecde44-b268-4ad1-94f2-8076578c3594",
    "deepnote_cell_type": "code"
   },
   "source": "signature(test_func_2)",
   "outputs": [
    {
     "data": {
      "text/plain": "<Signature ()>"
     },
     "execution_count": 12,
     "metadata": {},
     "output_type": "execute_result"
    }
   ],
   "execution_count": null
  },
  {
   "cell_type": "markdown",
   "source": "### Validate data",
   "metadata": {
    "cell_id": "00012-fdc89a64-4d20-4fea-b5b4-0a37f26ae73b",
    "deepnote_cell_type": "markdown"
   }
  },
  {
   "cell_type": "code",
   "metadata": {
    "ExecuteTime": {
     "end_time": "2021-08-30T19:35:48.200680Z",
     "start_time": "2021-08-30T19:35:48.160086Z"
    },
    "cell_id": "00013-21b152c9-9e52-4795-bd7f-060daa6a013f",
    "deepnote_cell_type": "code"
   },
   "source": "import pandera as pa\n\n\n@decorator\ndef validate_data(func, data: pd.DataFrame):\n    schema = pa.DataFrameSchema(\n        {\n            \"col1\": pa.Column(int, checks=pa.Check.le(5)),\n            \"col2\": pa.Column(str, checks=pa.Check.isin([\"a\", \"b\", \"c\", \"d\"])),\n            \"col3\": pa.Column(int, checks=pa.Check.le(5)),\n        }\n    )\n    processed_data = func(data)\n    validated_data = schema(processed_data)\n    return processed_data",
   "outputs": [
    {
     "data": {
      "application/javascript": "\n            setTimeout(function() {\n                var nbb_cell_id = 115;\n                var nbb_unformatted_code = \"import pandera as pa\\n\\n\\n@decorator\\ndef validate_data(func, data: pd.DataFrame):\\n    schema = pa.DataFrameSchema(\\n        {\\n            \\\"col1\\\": pa.Column(int, checks=pa.Check.le(5)),\\n            \\\"col2\\\": pa.Column(str, checks=pa.Check.isin([\\\"a\\\", \\\"b\\\", \\\"c\\\", \\\"d\\\"])),\\n            \\\"col3\\\": pa.Column(int, checks=pa.Check.le(5)),\\n        }\\n    )\\n    processed_data = func(data)\\n    validated_data = schema(processed_data)\\n    return processed_data\";\n                var nbb_formatted_code = \"import pandera as pa\\n\\n\\n@decorator\\ndef validate_data(func, data: pd.DataFrame):\\n    schema = pa.DataFrameSchema(\\n        {\\n            \\\"col1\\\": pa.Column(int, checks=pa.Check.le(5)),\\n            \\\"col2\\\": pa.Column(str, checks=pa.Check.isin([\\\"a\\\", \\\"b\\\", \\\"c\\\", \\\"d\\\"])),\\n            \\\"col3\\\": pa.Column(int, checks=pa.Check.le(5)),\\n        }\\n    )\\n    processed_data = func(data)\\n    validated_data = schema(processed_data)\\n    return processed_data\";\n                var nbb_cells = Jupyter.notebook.get_cells();\n                for (var i = 0; i < nbb_cells.length; ++i) {\n                    if (nbb_cells[i].input_prompt_number == nbb_cell_id) {\n                        if (nbb_cells[i].get_text() == nbb_unformatted_code) {\n                             nbb_cells[i].set_text(nbb_formatted_code);\n                        }\n                        break;\n                    }\n                }\n            }, 500);\n            ",
      "text/plain": "<IPython.core.display.Javascript object>"
     },
     "metadata": {},
     "output_type": "display_data"
    }
   ],
   "execution_count": null
  },
  {
   "cell_type": "code",
   "metadata": {
    "ExecuteTime": {
     "end_time": "2021-08-30T19:35:27.596891Z",
     "start_time": "2021-08-30T19:35:27.576708Z"
    },
    "cell_id": "00014-53889494-f824-4935-8cee-0e7000c0a0b6",
    "deepnote_cell_type": "code"
   },
   "source": "import pandas as pd\n\n\n@validate_data\ndef process_data(data: pd.DataFrame):\n    data.col3 = data.col3.map(int)\n    return data",
   "outputs": [
    {
     "data": {
      "application/javascript": "\n            setTimeout(function() {\n                var nbb_cell_id = 112;\n                var nbb_unformatted_code = \"import pandas as pd\\n\\n\\n@validate_data\\ndef process_data(data: pd.DataFrame):\\n    data.col3 = data.col3.map(int)\\n    return data\";\n                var nbb_formatted_code = \"import pandas as pd\\n\\n\\n@validate_data\\ndef process_data(data: pd.DataFrame):\\n    data.col3 = data.col3.map(int)\\n    return data\";\n                var nbb_cells = Jupyter.notebook.get_cells();\n                for (var i = 0; i < nbb_cells.length; ++i) {\n                    if (nbb_cells[i].input_prompt_number == nbb_cell_id) {\n                        if (nbb_cells[i].get_text() == nbb_unformatted_code) {\n                             nbb_cells[i].set_text(nbb_formatted_code);\n                        }\n                        break;\n                    }\n                }\n            }, 500);\n            ",
      "text/plain": "<IPython.core.display.Javascript object>"
     },
     "metadata": {},
     "output_type": "display_data"
    }
   ],
   "execution_count": null
  },
  {
   "cell_type": "code",
   "metadata": {
    "ExecuteTime": {
     "end_time": "2021-08-30T19:35:28.155681Z",
     "start_time": "2021-08-30T19:35:28.132176Z"
    },
    "cell_id": "00015-9bdaa190-a400-48f5-9d19-76591bbf7361",
    "deepnote_cell_type": "code"
   },
   "source": "df = pd.DataFrame(\n    {\"col1\": [1, 2, 3, 4], \"col2\": [\"a\", \"b\", \"c\", \"d\"], \"col3\": [1.1, 2.2, 3.3, 4.4]}\n)",
   "outputs": [
    {
     "data": {
      "application/javascript": "\n            setTimeout(function() {\n                var nbb_cell_id = 113;\n                var nbb_unformatted_code = \"df = pd.DataFrame(\\n    {\\\"col1\\\": [1, 2, 3, 4], \\\"col2\\\": [\\\"a\\\", \\\"b\\\", \\\"c\\\", \\\"d\\\"], \\\"col3\\\": [1.1, 2.2, 3.3, 4.4]}\\n)\";\n                var nbb_formatted_code = \"df = pd.DataFrame(\\n    {\\\"col1\\\": [1, 2, 3, 4], \\\"col2\\\": [\\\"a\\\", \\\"b\\\", \\\"c\\\", \\\"d\\\"], \\\"col3\\\": [1.1, 2.2, 3.3, 4.4]}\\n)\";\n                var nbb_cells = Jupyter.notebook.get_cells();\n                for (var i = 0; i < nbb_cells.length; ++i) {\n                    if (nbb_cells[i].input_prompt_number == nbb_cell_id) {\n                        if (nbb_cells[i].get_text() == nbb_unformatted_code) {\n                             nbb_cells[i].set_text(nbb_formatted_code);\n                        }\n                        break;\n                    }\n                }\n            }, 500);\n            ",
      "text/plain": "<IPython.core.display.Javascript object>"
     },
     "metadata": {},
     "output_type": "display_data"
    }
   ],
   "execution_count": null
  },
  {
   "cell_type": "code",
   "metadata": {
    "ExecuteTime": {
     "end_time": "2021-08-30T19:35:28.665914Z",
     "start_time": "2021-08-30T19:35:28.619354Z"
    },
    "cell_id": "00016-3b3ab598-ffb7-4583-9df5-b90029a015a2",
    "deepnote_cell_type": "code"
   },
   "source": "processed_df = process_data(df)\nprocessed_df",
   "outputs": [
    {
     "data": {
      "text/html": "<div>\n<style scoped>\n    .dataframe tbody tr th:only-of-type {\n        vertical-align: middle;\n    }\n\n    .dataframe tbody tr th {\n        vertical-align: top;\n    }\n\n    .dataframe thead th {\n        text-align: right;\n    }\n</style>\n<table border=\"1\" class=\"dataframe\">\n  <thead>\n    <tr style=\"text-align: right;\">\n      <th></th>\n      <th>col1</th>\n      <th>col2</th>\n      <th>col3</th>\n    </tr>\n  </thead>\n  <tbody>\n    <tr>\n      <th>0</th>\n      <td>1</td>\n      <td>a</td>\n      <td>1</td>\n    </tr>\n    <tr>\n      <th>1</th>\n      <td>2</td>\n      <td>b</td>\n      <td>2</td>\n    </tr>\n    <tr>\n      <th>2</th>\n      <td>3</td>\n      <td>c</td>\n      <td>3</td>\n    </tr>\n    <tr>\n      <th>3</th>\n      <td>4</td>\n      <td>d</td>\n      <td>4</td>\n    </tr>\n  </tbody>\n</table>\n</div>",
      "text/plain": "   col1 col2  col3\n0     1    a     1\n1     2    b     2\n2     3    c     3\n3     4    d     4"
     },
     "execution_count": 114,
     "metadata": {},
     "output_type": "execute_result"
    },
    {
     "data": {
      "application/javascript": "\n            setTimeout(function() {\n                var nbb_cell_id = 114;\n                var nbb_unformatted_code = \"processed_df = process_data(df)\\nprocessed_df\";\n                var nbb_formatted_code = \"processed_df = process_data(df)\\nprocessed_df\";\n                var nbb_cells = Jupyter.notebook.get_cells();\n                for (var i = 0; i < nbb_cells.length; ++i) {\n                    if (nbb_cells[i].input_prompt_number == nbb_cell_id) {\n                        if (nbb_cells[i].get_text() == nbb_unformatted_code) {\n                             nbb_cells[i].set_text(nbb_formatted_code);\n                        }\n                        break;\n                    }\n                }\n            }, 500);\n            ",
      "text/plain": "<IPython.core.display.Javascript object>"
     },
     "metadata": {},
     "output_type": "display_data"
    }
   ],
   "execution_count": null
  },
  {
   "cell_type": "code",
   "metadata": {
    "ExecuteTime": {
     "end_time": "2021-08-30T19:36:30.517875Z",
     "start_time": "2021-08-30T19:36:30.502503Z"
    },
    "cell_id": "00017-b4162bcb-5e2a-48c2-98a4-86ad5a3c3566",
    "deepnote_cell_type": "code"
   },
   "source": "signature(process_data)",
   "outputs": [
    {
     "data": {
      "text/plain": "<Signature (data: pandas.core.frame.DataFrame)>"
     },
     "execution_count": 116,
     "metadata": {},
     "output_type": "execute_result"
    },
    {
     "data": {
      "application/javascript": "\n            setTimeout(function() {\n                var nbb_cell_id = 116;\n                var nbb_unformatted_code = \"signature(process_data)\";\n                var nbb_formatted_code = \"signature(process_data)\";\n                var nbb_cells = Jupyter.notebook.get_cells();\n                for (var i = 0; i < nbb_cells.length; ++i) {\n                    if (nbb_cells[i].input_prompt_number == nbb_cell_id) {\n                        if (nbb_cells[i].get_text() == nbb_unformatted_code) {\n                             nbb_cells[i].set_text(nbb_formatted_code);\n                        }\n                        break;\n                    }\n                }\n            }, 500);\n            ",
      "text/plain": "<IPython.core.display.Javascript object>"
     },
     "metadata": {},
     "output_type": "display_data"
    }
   ],
   "execution_count": null
  },
  {
   "cell_type": "code",
   "metadata": {
    "cell_id": "00018-37ce6259-6971-47dd-ab69-627c901e9a87",
    "deepnote_cell_type": "code"
   },
   "source": "@d",
   "execution_count": null,
   "outputs": []
  },
  {
   "cell_type": "markdown",
   "source": "<a style='text-decoration:none;line-height:16px;display:flex;color:#5B5B62;padding:10px;justify-content:end;' href='https://deepnote.com?utm_source=created-in-deepnote-cell&projectId=87197226-98be-42b2-8527-389082831299' target=\"_blank\">\n<img alt='Created in deepnote.com' style='display:inline;max-height:16px;margin:0px;margin-right:7.5px;' src='data:image/svg+xml;base64,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' > </img>\nCreated in <span style='font-weight:600;margin-left:4px;'>Deepnote</span></a>",
   "metadata": {
    "tags": [],
    "created_in_deepnote_cell": true,
    "deepnote_cell_type": "markdown"
   }
  }
 ],
 "nbformat": 4,
 "nbformat_minor": 5,
 "metadata": {
  "kernelspec": {
   "display_name": "Python 3 (ipykernel)",
   "language": "python",
   "name": "python3"
  },
  "language_info": {
   "codemirror_mode": {
    "name": "ipython",
    "version": 3
   },
   "file_extension": ".py",
   "mimetype": "text/x-python",
   "name": "python",
   "nbconvert_exporter": "python",
   "pygments_lexer": "ipython3",
   "version": "3.8.10"
  },
  "toc": {
   "base_numbering": 1,
   "nav_menu": {},
   "number_sections": true,
   "sideBar": true,
   "skip_h1_title": false,
   "title_cell": "Table of Contents",
   "title_sidebar": "Contents",
   "toc_cell": false,
   "toc_position": {},
   "toc_section_display": true,
   "toc_window_display": false
  },
  "deepnote_notebook_id": "dce6de9d-9739-45c4-9f13-c464d59c82f2",
  "deepnote": {},
  "deepnote_execution_queue": []
 }
}