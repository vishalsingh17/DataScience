{
 "cells": [
  {
   "cell_type": "markdown",
   "source": "[![View on GitHub](https://img.shields.io/badge/GitHub-View_on_GitHub-blue?logo=GitHub)](https://github.com/khuyentran1401/Data-science/blob/master/data_science_tools/Hyperdash.ipynb)\n\n[<img src=\"https://deepnote.com/buttons/launch-in-deepnote.svg\">](https://deepnote.com/project/Data-science-hxlyJpi-QrKFJziQgoMSmQ/%2FData-science%2Fdata_science_tools%2FHyperdash.ipynb)\n\n [![View Article](https://img.shields.io/badge/View%20Article-View%20Full%20Article-red)](https://towardsdatascience.com/how-to-monitor-and-log-your-machine-learning-experiment-remotely-with-hyperdash-aa7106b15509)",
   "metadata": {
    "tags": [],
    "cell_id": "00000-0d62bc9e-286e-448d-8d2b-486fa48f69e4",
    "deepnote_cell_type": "markdown"
   }
  },
  {
   "cell_type": "markdown",
   "source": "_Do these steps on terminal_",
   "metadata": {
    "cell_id": "00000-d5b80ee4-78a2-408a-94fb-4cc9bd23ad04",
    "deepnote_cell_type": "markdown"
   }
  },
  {
   "cell_type": "code",
   "metadata": {
    "ExecuteTime": {
     "end_time": "2020-07-31T18:20:12.034774Z",
     "start_time": "2020-07-31T18:20:05.558997Z"
    },
    "cell_id": "00001-1a3b4c74-62a0-4509-9479-4cbd7250793e",
    "deepnote_cell_type": "code"
   },
   "source": "!pip install --upgrade pip && pip install hyperdash",
   "outputs": [],
   "execution_count": null
  },
  {
   "cell_type": "code",
   "metadata": {
    "cell_id": "00002-9d4cbd42-3b06-4790-b978-7aeaa92ecf9e",
    "deepnote_cell_type": "code"
   },
   "source": "!hd signup",
   "outputs": [],
   "execution_count": null
  },
  {
   "cell_type": "code",
   "metadata": {
    "cell_id": "00003-59a7cfaa-97f5-49d7-9c84-7d7cd801a1b5",
    "deepnote_cell_type": "code"
   },
   "source": "!hyperdash login",
   "outputs": [],
   "execution_count": null
  },
  {
   "cell_type": "markdown",
   "source": "# Monitor Your Machine Learning Experiment",
   "metadata": {
    "cell_id": "00004-63f4114f-9f7e-4a1e-9ef3-1fea127b4b61",
    "deepnote_cell_type": "markdown"
   }
  },
  {
   "cell_type": "code",
   "metadata": {
    "cell_id": "00005-2fa65359-da4d-49ac-8fa3-205de0fb2eac",
    "deepnote_cell_type": "code"
   },
   "source": "import numpy as np \nimport pandas as pd \n\ndisease = pd.read_csv('heart.csv')\ndisease.describe()\n\n#Split the data into train and test set\nfrom sklearn.model_selection import train_test_split\n\ntrain, test = train_test_split(disease, test_size = 0.2, random_state = 1)\n\nX_train = train.drop(['target','fbs'],axis=1)\ny_train = train['target']\n\nX_test = train.drop(['target','fbs'],axis=1)\ny_test = train['target']",
   "outputs": [],
   "execution_count": null
  },
  {
   "cell_type": "code",
   "metadata": {
    "cell_id": "00006-4a9dfdcd-5a79-4f0f-95bc-1d08046a81e8",
    "deepnote_cell_type": "code"
   },
   "source": "from hyperdash import Experiment\nfrom sklearn.linear_model import SGDClassifier\nfrom sklearn.model_selection import cross_val_predict\nfrom sklearn.metrics import confusion_matrix\n\n#Declare your Experiment object each run\nexp = Experiment('SGDClassifier')\n\n#Record the value of the hyperparameter alpha\nalpha = exp.param('alpha', 0.01)\n\nsgd_model = SGDClassifier(random_state=1, alpha = alpha)\nsgd_model.fit(X_train, y_train)\n\n#Evaluate with cross validation score\nfrom sklearn.model_selection import cross_val_score\n\nscore = cross_val_score(sgd_model, X_train, y_train).mean()\nexp.metric('Accuracy', score)\n\n#Evaluate with confusion matrix\n\nsgd_predictions = cross_val_predict(sgd_model, X_train, y_train)\ntn, fp, fn, tp  = confusion_matrix(y_train, sgd_predictions).ravel()\n\nexp.metric('True Negative', tn)\nexp.metric('False Positive', fp)\nexp.metric('False Negative', fn)\nexp.metric('True Positive', tp) \n\nexp.end()\n",
   "outputs": [],
   "execution_count": null
  },
  {
   "cell_type": "markdown",
   "source": "# Decorator experiment",
   "metadata": {
    "cell_id": "00007-3eb5ff96-2ed6-4abe-be8f-b9193e9be577",
    "deepnote_cell_type": "markdown"
   }
  },
  {
   "cell_type": "code",
   "metadata": {
    "cell_id": "00008-46cb702e-68cd-47ca-b3d7-649873479545",
    "deepnote_cell_type": "code"
   },
   "source": "from sklearn.ensemble import RandomForestClassifier\nfrom sklearn import metrics\nfrom hyperdash import monitor\n\n@monitor('RandomForestClassifier')\ndef random_forest(exp):\n    \n    n_estimators = 100\n    forest_clf = RandomForestClassifier(random_state=1, n_estimators= n_estimators)\n    forest_predictions = cross_val_predict(forest_clf, X_train, y_train )\n    f1 = metrics.f1_score\n    exp.metric('f1', f1)",
   "outputs": [],
   "execution_count": null
  },
  {
   "cell_type": "markdown",
   "source": "# Observer metrics",
   "metadata": {
    "cell_id": "00009-5f36ac6b-c89c-4f6a-949b-4e811b24da29",
    "deepnote_cell_type": "markdown"
   }
  },
  {
   "cell_type": "code",
   "metadata": {
    "cell_id": "00010-b7bfd304-e096-4a4b-b437-73f7b737d808",
    "deepnote_cell_type": "code"
   },
   "source": "from hyperdash import Experiment\nexp = Experiment(\"Dogs vs. Cats\")\n\n# Parameters\nestimators = exp.param(\"Estimators\", 500)\nepochs = exp.param(\"Epochs\", 5)\nbatch = exp.param(\"Batch Size\", 64)\n\nfor epoch in xrange(1, epochs + 1):\n    accuracy = 1. - 1./epoch\n    loss = float(epochs - epoch)/epochs\n    print(\"Training model (epoch {})\".format(epoch))\n    time.sleep(1)\n\n    # Metrics\n    exp.metric(\"Accuracy\", accuracy)\n    exp.metric(\"Loss\", loss)\n\nexp.end()",
   "outputs": [],
   "execution_count": null
  },
  {
   "cell_type": "markdown",
   "source": "<a style='text-decoration:none;line-height:16px;display:flex;color:#5B5B62;padding:10px;justify-content:end;' href='https://deepnote.com?utm_source=created-in-deepnote-cell&projectId=87197226-98be-42b2-8527-389082831299' target=\"_blank\">\n<img alt='Created in deepnote.com' style='display:inline;max-height:16px;margin:0px;margin-right:7.5px;' src='data:image/svg+xml;base64,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' > </img>\nCreated in <span style='font-weight:600;margin-left:4px;'>Deepnote</span></a>",
   "metadata": {
    "tags": [],
    "created_in_deepnote_cell": true,
    "deepnote_cell_type": "markdown"
   }
  }
 ],
 "nbformat": 4,
 "nbformat_minor": 4,
 "metadata": {
  "kernelspec": {
   "display_name": "Python 3",
   "language": "python",
   "name": "python3"
  },
  "language_info": {
   "codemirror_mode": {
    "name": "ipython",
    "version": 3
   },
   "file_extension": ".py",
   "mimetype": "text/x-python",
   "name": "python",
   "nbconvert_exporter": "python",
   "pygments_lexer": "ipython3",
   "version": "3.8.3"
  },
  "latex_envs": {
   "LaTeX_envs_menu_present": true,
   "autoclose": false,
   "autocomplete": true,
   "bibliofile": "biblio.bib",
   "cite_by": "apalike",
   "current_citInitial": 1,
   "eqLabelWithNumbers": true,
   "eqNumInitial": 1,
   "hotkeys": {
    "equation": "Ctrl-E",
    "itemize": "Ctrl-I"
   },
   "labels_anchors": false,
   "latex_user_defs": false,
   "report_style_numbering": false,
   "user_envs_cfg": false
  },
  "toc": {
   "base_numbering": 1,
   "nav_menu": {},
   "number_sections": true,
   "sideBar": true,
   "skip_h1_title": false,
   "title_cell": "Table of Contents",
   "title_sidebar": "Contents",
   "toc_cell": false,
   "toc_position": {},
   "toc_section_display": true,
   "toc_window_display": false
  },
  "deepnote_notebook_id": "bcb56f5f-16e6-475d-ac03-50283738eeac",
  "deepnote": {},
  "deepnote_execution_queue": []
 }
}