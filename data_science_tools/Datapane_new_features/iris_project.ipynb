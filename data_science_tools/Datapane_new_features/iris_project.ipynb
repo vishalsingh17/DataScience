{
 "cells": [
  {
   "cell_type": "markdown",
   "source": "[![View on GitHub](https://img.shields.io/badge/GitHub-View_on_GitHub-blue?logo=GitHub)](https://github.com/khuyentran1401/Data-science/blob/master/data_science_tools/Datapane_new_features/iris_project.ipynb)\n\n[<img src=\"https://deepnote.com/buttons/launch-in-deepnote.svg\">](https://deepnote.com/project/Data-science-hxlyJpi-QrKFJziQgoMSmQ/%2FData-science%2Fdata_science_tools%2FDatapane_new_features%2Firis_project.ipynb)\n\n [![View Article](https://img.shields.io/badge/View%20Article-View%20Full%20Article-red)](https://towardsdatascience.com/datapanes-new-features-create-a-beautiful-dashboard-in-python-in-a-few-lines-of-code-a3c44523292b)",
   "metadata": {
    "tags": [],
    "cell_id": "00000-e04ebcf3-06e4-48f1-a86f-155cb19d8895",
    "deepnote_cell_type": "markdown"
   }
  },
  {
   "cell_type": "code",
   "metadata": {
    "tags": [],
    "cell_id": "00001-3ffc723a-3082-4dd2-93d4-5653fa65be5d",
    "deepnote_to_be_reexecuted": false,
    "source_hash": "2fb3a0c9",
    "execution_start": 1634005307472,
    "execution_millis": 4217,
    "output_cleared": true,
    "deepnote_cell_type": "code"
   },
   "source": "!pip install datapane",
   "outputs": [],
   "execution_count": null
  },
  {
   "cell_type": "code",
   "metadata": {
    "ExecuteTime": {
     "end_time": "2021-04-28T14:54:17.758954Z",
     "start_time": "2021-04-28T14:54:16.142440Z"
    },
    "cell_id": "00000-9b08894e-9f41-4a1d-9a3a-7cf989448d2c",
    "deepnote_to_be_reexecuted": false,
    "source_hash": "cc6d93d0",
    "execution_start": 1634005380917,
    "execution_millis": 2,
    "deepnote_cell_type": "code"
   },
   "source": "from sklearn.datasets import load_iris\nimport plotly.express as px \nimport datapane as dp ",
   "outputs": [],
   "execution_count": null
  },
  {
   "cell_type": "code",
   "metadata": {
    "tags": [],
    "cell_id": "00003-23e7db7a-9831-4479-8afd-47799b13b701",
    "deepnote_to_be_reexecuted": false,
    "source_hash": "b8c975a4",
    "execution_start": 1634005381735,
    "execution_millis": 204,
    "deepnote_cell_type": "code"
   },
   "source": "import os\n\nTOKEN = os.environ[\"DATAPANE_TOKEN\"]\ndp.login(TOKEN)",
   "outputs": [
    {
     "name": "stdout",
     "text": "\u001b[32mConnected successfully to https://datapane.com as khuyentran1401\u001b[0m\n",
     "output_type": "stream"
    },
    {
     "output_type": "execute_result",
     "execution_count": 4,
     "data": {
      "text/plain": "'khuyentran1401'"
     },
     "metadata": {}
    }
   ],
   "execution_count": null
  },
  {
   "cell_type": "code",
   "metadata": {
    "ExecuteTime": {
     "end_time": "2021-04-28T14:54:20.730803Z",
     "start_time": "2021-04-28T14:54:20.701117Z"
    },
    "cell_id": "00002-5cbe245d-f76e-4996-bf1e-31ba93b4dc32",
    "deepnote_to_be_reexecuted": false,
    "source_hash": "b850e5ae",
    "execution_start": 1634005388576,
    "execution_millis": 46,
    "deepnote_cell_type": "code"
   },
   "source": "X, y = load_iris(as_frame=True, return_X_y=True)\nX.head(10)",
   "outputs": [
    {
     "output_type": "execute_result",
     "execution_count": 5,
     "data": {
      "application/vnd.deepnote.dataframe.v2+json": {
       "row_count": 10,
       "column_count": 4,
       "columns": [
        {
         "name": "sepal length (cm)",
         "dtype": "float64",
         "stats": {
          "unique_count": 7,
          "nan_count": 0,
          "min": "4.4",
          "max": "5.4",
          "histogram": [
           {
            "bin_start": 4.4,
            "bin_end": 4.5,
            "count": 1
           },
           {
            "bin_start": 4.5,
            "bin_end": 4.6000000000000005,
            "count": 2
           },
           {
            "bin_start": 4.6000000000000005,
            "bin_end": 4.7,
            "count": 0
           },
           {
            "bin_start": 4.7,
            "bin_end": 4.800000000000001,
            "count": 1
           },
           {
            "bin_start": 4.800000000000001,
            "bin_end": 4.9,
            "count": 0
           },
           {
            "bin_start": 4.9,
            "bin_end": 5,
            "count": 2
           },
           {
            "bin_start": 5,
            "bin_end": 5.1000000000000005,
            "count": 3
           },
           {
            "bin_start": 5.1000000000000005,
            "bin_end": 5.2,
            "count": 0
           },
           {
            "bin_start": 5.2,
            "bin_end": 5.300000000000001,
            "count": 0
           },
           {
            "bin_start": 5.300000000000001,
            "bin_end": 5.4,
            "count": 1
           }
          ]
         }
        },
        {
         "name": "sepal width (cm)",
         "dtype": "float64",
         "stats": {
          "unique_count": 8,
          "nan_count": 0,
          "min": "2.9",
          "max": "3.9",
          "histogram": [
           {
            "bin_start": 2.9,
            "bin_end": 3,
            "count": 1
           },
           {
            "bin_start": 3,
            "bin_end": 3.1,
            "count": 1
           },
           {
            "bin_start": 3.1,
            "bin_end": 3.2,
            "count": 2
           },
           {
            "bin_start": 3.2,
            "bin_end": 3.3,
            "count": 1
           },
           {
            "bin_start": 3.3,
            "bin_end": 3.4,
            "count": 0
           },
           {
            "bin_start": 3.4,
            "bin_end": 3.5,
            "count": 2
           },
           {
            "bin_start": 3.5,
            "bin_end": 3.6,
            "count": 1
           },
           {
            "bin_start": 3.6,
            "bin_end": 3.7,
            "count": 1
           },
           {
            "bin_start": 3.7,
            "bin_end": 3.8,
            "count": 0
           },
           {
            "bin_start": 3.8,
            "bin_end": 3.9,
            "count": 1
           }
          ]
         }
        },
        {
         "name": "petal length (cm)",
         "dtype": "float64",
         "stats": {
          "unique_count": 4,
          "nan_count": 0,
          "min": "1.3",
          "max": "1.7",
          "histogram": [
           {
            "bin_start": 1.3,
            "bin_end": 1.34,
            "count": 1
           },
           {
            "bin_start": 1.34,
            "bin_end": 1.3800000000000001,
            "count": 0
           },
           {
            "bin_start": 1.3800000000000001,
            "bin_end": 1.42,
            "count": 5
           },
           {
            "bin_start": 1.42,
            "bin_end": 1.46,
            "count": 0
           },
           {
            "bin_start": 1.46,
            "bin_end": 1.5,
            "count": 0
           },
           {
            "bin_start": 1.5,
            "bin_end": 1.54,
            "count": 3
           },
           {
            "bin_start": 1.54,
            "bin_end": 1.58,
            "count": 0
           },
           {
            "bin_start": 1.58,
            "bin_end": 1.62,
            "count": 0
           },
           {
            "bin_start": 1.62,
            "bin_end": 1.66,
            "count": 0
           },
           {
            "bin_start": 1.66,
            "bin_end": 1.7,
            "count": 1
           }
          ]
         }
        },
        {
         "name": "petal width (cm)",
         "dtype": "float64",
         "stats": {
          "unique_count": 4,
          "nan_count": 0,
          "min": "0.1",
          "max": "0.4",
          "histogram": [
           {
            "bin_start": 0.1,
            "bin_end": 0.13,
            "count": 1
           },
           {
            "bin_start": 0.13,
            "bin_end": 0.16000000000000003,
            "count": 0
           },
           {
            "bin_start": 0.16000000000000003,
            "bin_end": 0.19000000000000003,
            "count": 0
           },
           {
            "bin_start": 0.19000000000000003,
            "bin_end": 0.22000000000000003,
            "count": 7
           },
           {
            "bin_start": 0.22000000000000003,
            "bin_end": 0.25,
            "count": 0
           },
           {
            "bin_start": 0.25,
            "bin_end": 0.28,
            "count": 0
           },
           {
            "bin_start": 0.28,
            "bin_end": 0.31000000000000005,
            "count": 1
           },
           {
            "bin_start": 0.31000000000000005,
            "bin_end": 0.3400000000000001,
            "count": 0
           },
           {
            "bin_start": 0.3400000000000001,
            "bin_end": 0.3700000000000001,
            "count": 0
           },
           {
            "bin_start": 0.3700000000000001,
            "bin_end": 0.4,
            "count": 1
           }
          ]
         }
        },
        {
         "name": "_deepnote_index_column",
         "dtype": "int64"
        }
       ],
       "rows_top": [
        {
         "sepal length (cm)": 5.1,
         "sepal width (cm)": 3.5,
         "petal length (cm)": 1.4,
         "petal width (cm)": 0.2,
         "_deepnote_index_column": 0
        },
        {
         "sepal length (cm)": 4.9,
         "sepal width (cm)": 3,
         "petal length (cm)": 1.4,
         "petal width (cm)": 0.2,
         "_deepnote_index_column": 1
        },
        {
         "sepal length (cm)": 4.7,
         "sepal width (cm)": 3.2,
         "petal length (cm)": 1.3,
         "petal width (cm)": 0.2,
         "_deepnote_index_column": 2
        },
        {
         "sepal length (cm)": 4.6,
         "sepal width (cm)": 3.1,
         "petal length (cm)": 1.5,
         "petal width (cm)": 0.2,
         "_deepnote_index_column": 3
        },
        {
         "sepal length (cm)": 5,
         "sepal width (cm)": 3.6,
         "petal length (cm)": 1.4,
         "petal width (cm)": 0.2,
         "_deepnote_index_column": 4
        },
        {
         "sepal length (cm)": 5.4,
         "sepal width (cm)": 3.9,
         "petal length (cm)": 1.7,
         "petal width (cm)": 0.4,
         "_deepnote_index_column": 5
        },
        {
         "sepal length (cm)": 4.6,
         "sepal width (cm)": 3.4,
         "petal length (cm)": 1.4,
         "petal width (cm)": 0.3,
         "_deepnote_index_column": 6
        },
        {
         "sepal length (cm)": 5,
         "sepal width (cm)": 3.4,
         "petal length (cm)": 1.5,
         "petal width (cm)": 0.2,
         "_deepnote_index_column": 7
        },
        {
         "sepal length (cm)": 4.4,
         "sepal width (cm)": 2.9,
         "petal length (cm)": 1.4,
         "petal width (cm)": 0.2,
         "_deepnote_index_column": 8
        },
        {
         "sepal length (cm)": 4.9,
         "sepal width (cm)": 3.1,
         "petal length (cm)": 1.5,
         "petal width (cm)": 0.1,
         "_deepnote_index_column": 9
        }
       ],
       "rows_bottom": null
      },
      "text/plain": "   sepal length (cm)  sepal width (cm)  petal length (cm)  petal width (cm)\n0                5.1               3.5                1.4               0.2\n1                4.9               3.0                1.4               0.2\n2                4.7               3.2                1.3               0.2\n3                4.6               3.1                1.5               0.2\n4                5.0               3.6                1.4               0.2\n5                5.4               3.9                1.7               0.4\n6                4.6               3.4                1.4               0.3\n7                5.0               3.4                1.5               0.2\n8                4.4               2.9                1.4               0.2\n9                4.9               3.1                1.5               0.1",
      "text/html": "<div>\n<style scoped>\n    .dataframe tbody tr th:only-of-type {\n        vertical-align: middle;\n    }\n\n    .dataframe tbody tr th {\n        vertical-align: top;\n    }\n\n    .dataframe thead th {\n        text-align: right;\n    }\n</style>\n<table border=\"1\" class=\"dataframe\">\n  <thead>\n    <tr style=\"text-align: right;\">\n      <th></th>\n      <th>sepal length (cm)</th>\n      <th>sepal width (cm)</th>\n      <th>petal length (cm)</th>\n      <th>petal width (cm)</th>\n    </tr>\n  </thead>\n  <tbody>\n    <tr>\n      <th>0</th>\n      <td>5.1</td>\n      <td>3.5</td>\n      <td>1.4</td>\n      <td>0.2</td>\n    </tr>\n    <tr>\n      <th>1</th>\n      <td>4.9</td>\n      <td>3.0</td>\n      <td>1.4</td>\n      <td>0.2</td>\n    </tr>\n    <tr>\n      <th>2</th>\n      <td>4.7</td>\n      <td>3.2</td>\n      <td>1.3</td>\n      <td>0.2</td>\n    </tr>\n    <tr>\n      <th>3</th>\n      <td>4.6</td>\n      <td>3.1</td>\n      <td>1.5</td>\n      <td>0.2</td>\n    </tr>\n    <tr>\n      <th>4</th>\n      <td>5.0</td>\n      <td>3.6</td>\n      <td>1.4</td>\n      <td>0.2</td>\n    </tr>\n    <tr>\n      <th>5</th>\n      <td>5.4</td>\n      <td>3.9</td>\n      <td>1.7</td>\n      <td>0.4</td>\n    </tr>\n    <tr>\n      <th>6</th>\n      <td>4.6</td>\n      <td>3.4</td>\n      <td>1.4</td>\n      <td>0.3</td>\n    </tr>\n    <tr>\n      <th>7</th>\n      <td>5.0</td>\n      <td>3.4</td>\n      <td>1.5</td>\n      <td>0.2</td>\n    </tr>\n    <tr>\n      <th>8</th>\n      <td>4.4</td>\n      <td>2.9</td>\n      <td>1.4</td>\n      <td>0.2</td>\n    </tr>\n    <tr>\n      <th>9</th>\n      <td>4.9</td>\n      <td>3.1</td>\n      <td>1.5</td>\n      <td>0.1</td>\n    </tr>\n  </tbody>\n</table>\n</div>"
     },
     "metadata": {}
    }
   ],
   "execution_count": null
  },
  {
   "cell_type": "code",
   "metadata": {
    "ExecuteTime": {
     "end_time": "2021-04-28T14:54:22.974060Z",
     "start_time": "2021-04-28T14:54:22.707106Z"
    },
    "cell_id": "00003-0f8c1c95-f560-4183-8c44-65b56937c3b7",
    "deepnote_to_be_reexecuted": false,
    "source_hash": "ad75d34a",
    "execution_start": 1634005390750,
    "execution_millis": 1361,
    "deepnote_cell_type": "code"
   },
   "source": "fig = px.scatter(data_frame=X,\n          x='sepal length (cm)',\n          y='sepal width (cm)')",
   "outputs": [],
   "execution_count": null
  },
  {
   "cell_type": "code",
   "metadata": {
    "ExecuteTime": {
     "end_time": "2021-04-28T14:54:32.152608Z",
     "start_time": "2021-04-28T14:54:31.690936Z"
    },
    "cell_id": "00004-257a0c0d-705d-4ff0-9ae4-ae5ada8c4d6c",
    "deepnote_to_be_reexecuted": false,
    "source_hash": "e3350ee1",
    "execution_start": 1634005392114,
    "execution_millis": 1059,
    "output_cleared": true,
    "deepnote_cell_type": "code"
   },
   "source": "table = dp.DataTable(X)\nplot = dp.Plot(fig)",
   "outputs": [],
   "execution_count": null
  },
  {
   "cell_type": "code",
   "metadata": {
    "ExecuteTime": {
     "end_time": "2021-04-28T14:54:46.921835Z",
     "start_time": "2021-04-28T14:54:46.916092Z"
    },
    "cell_id": "00005-09f2801a-81be-4e7a-8462-f5053fc358ca",
    "deepnote_cell_type": "code"
   },
   "source": "group = dp.Group(table, plot,\n                columns=2)",
   "outputs": [],
   "execution_count": null
  },
  {
   "cell_type": "code",
   "metadata": {
    "ExecuteTime": {
     "end_time": "2021-03-17T21:23:15.622816Z",
     "start_time": "2021-03-17T21:23:14.944823Z"
    },
    "cell_id": "00006-267a92db-2b23-44e3-ae4e-d96d6232f1f5",
    "deepnote_cell_type": "code"
   },
   "source": "dp.Report(group).publish(name='Iris', description='Show Iris data')",
   "outputs": [
    {
     "name": "stdout",
     "output_type": "stream",
     "text": "Publishing report and associated data - please wait..\nReport successfully published at https://datapane.com/u/khuyentran1401/reports/iris/\n"
    }
   ],
   "execution_count": null
  },
  {
   "cell_type": "markdown",
   "source": "<a style='text-decoration:none;line-height:16px;display:flex;color:#5B5B62;padding:10px;justify-content:end;' href='https://deepnote.com?utm_source=created-in-deepnote-cell&projectId=87197226-98be-42b2-8527-389082831299' target=\"_blank\">\n<img alt='Created in deepnote.com' style='display:inline;max-height:16px;margin:0px;margin-right:7.5px;' src='data:image/svg+xml;base64,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' > </img>\nCreated in <span style='font-weight:600;margin-left:4px;'>Deepnote</span></a>",
   "metadata": {
    "tags": [],
    "created_in_deepnote_cell": true,
    "deepnote_cell_type": "markdown"
   }
  }
 ],
 "nbformat": 4,
 "nbformat_minor": 5,
 "metadata": {
  "kernelspec": {
   "display_name": "medium",
   "language": "python",
   "name": "medium"
  },
  "language_info": {
   "codemirror_mode": {
    "name": "ipython",
    "version": 3
   },
   "file_extension": ".py",
   "mimetype": "text/x-python",
   "name": "python",
   "nbconvert_exporter": "python",
   "pygments_lexer": "ipython3",
   "version": "3.7.8"
  },
  "toc": {
   "base_numbering": 1,
   "nav_menu": {},
   "number_sections": true,
   "sideBar": true,
   "skip_h1_title": false,
   "title_cell": "Table of Contents",
   "title_sidebar": "Contents",
   "toc_cell": false,
   "toc_position": {},
   "toc_section_display": true,
   "toc_window_display": false
  },
  "varInspector": {
   "cols": {
    "lenName": 16,
    "lenType": 16,
    "lenVar": 40
   },
   "kernels_config": {
    "python": {
     "delete_cmd_postfix": "",
     "delete_cmd_prefix": "del ",
     "library": "var_list.py",
     "varRefreshCmd": "print(var_dic_list())"
    },
    "r": {
     "delete_cmd_postfix": ") ",
     "delete_cmd_prefix": "rm(",
     "library": "var_list.r",
     "varRefreshCmd": "cat(var_dic_list()) "
    }
   },
   "types_to_exclude": [
    "module",
    "function",
    "builtin_function_or_method",
    "instance",
    "_Feature"
   ],
   "window_display": false
  },
  "deepnote_notebook_id": "57fe201e-faee-40ea-8663-af3bb2b5940f",
  "deepnote": {},
  "deepnote_execution_queue": []
 }
}