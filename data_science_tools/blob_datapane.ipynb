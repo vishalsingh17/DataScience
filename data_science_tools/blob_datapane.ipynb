{
 "cells": [
  {
   "cell_type": "markdown",
   "source": "[![View on GitHub](https://img.shields.io/badge/GitHub-View_on_GitHub-blue?logo=GitHub)](https://github.com/khuyentran1401/Data-science/blob/master/data_science_tools/blob_datapane.ipynb)\n\n[<img src=\"https://deepnote.com/buttons/launch-in-deepnote.svg\">](https://deepnote.com/project/Data-science-hxlyJpi-QrKFJziQgoMSmQ/%2FData-science%2Fdata_science_tools%2Fblob_datapane.ipynb)\n\n [![View Article](https://img.shields.io/badge/View%20Article-View%20Full%20Article-red)](https://towardsdatascience.com/how-to-share-your-python-objects-across-different-environments-in-one-line-of-code-f30a25e5f50e)",
   "metadata": {
    "tags": [],
    "cell_id": "00000-9bd52f2b-951a-429a-88b0-9e00c94f30ac",
    "deepnote_cell_type": "markdown"
   }
  },
  {
   "cell_type": "markdown",
   "source": "# Blob",
   "metadata": {
    "cell_id": "00000-6b446fe5-0188-4cf2-b9f5-efaf2e44b826",
    "deepnote_cell_type": "markdown"
   }
  },
  {
   "cell_type": "markdown",
   "source": "## Share model across different environment",
   "metadata": {
    "cell_id": "00001-6f4d51bd-54ab-4696-82c2-c4a2881ec198",
    "deepnote_cell_type": "markdown"
   }
  },
  {
   "cell_type": "markdown",
   "source": "### First notebook",
   "metadata": {
    "cell_id": "00002-49dac856-2452-4cae-8741-a4244f1c892d",
    "deepnote_cell_type": "markdown"
   }
  },
  {
   "cell_type": "code",
   "metadata": {
    "ExecuteTime": {
     "end_time": "2021-06-28T15:44:28.921695Z",
     "start_time": "2021-06-28T15:44:28.875249Z"
    },
    "cell_id": "00003-4ae82219-ae5a-4ed9-b23f-2e33a18f3ea1",
    "deepnote_cell_type": "code"
   },
   "source": "from random import randint\nfrom sklearn.linear_model import LinearRegression\nimport datapane as dp \n\nTRAIN_SET_LIMIT = 1000\nTRAIN_SET_COUNT = 100\n\nTRAIN_INPUT = list()\nTRAIN_OUTPUT = list()\nfor i in range(TRAIN_SET_COUNT):\n    a = randint(0, TRAIN_SET_LIMIT)\n    b = randint(0, TRAIN_SET_LIMIT)\n    c = randint(0, TRAIN_SET_LIMIT)\n    op = a + (2*b) + (3*c)\n    TRAIN_INPUT.append([a, b, c])\n    TRAIN_OUTPUT.append(op)\n   \n\npredictor = LinearRegression(n_jobs=-1)\npredictor.fit(X=TRAIN_INPUT, y=TRAIN_OUTPUT)",
   "outputs": [
    {
     "data": {
      "text/plain": "LinearRegression(copy_X=True, fit_intercept=True, n_jobs=-1, normalize=False)"
     },
     "execution_count": 1,
     "metadata": {},
     "output_type": "execute_result"
    }
   ],
   "execution_count": null
  },
  {
   "cell_type": "markdown",
   "source": "### Another notebook",
   "metadata": {
    "cell_id": "00004-dd2bc31f-a662-4686-8d46-a2f1d931a580",
    "deepnote_cell_type": "markdown"
   }
  },
  {
   "cell_type": "markdown",
   "source": "Sign up on [datapane](https://datapane.com/) to get the token\n",
   "metadata": {
    "cell_id": "00005-db8de1e2-0c18-49f9-ad69-f7f514d58488",
    "deepnote_cell_type": "markdown"
   }
  },
  {
   "cell_type": "code",
   "metadata": {
    "cell_id": "00006-948b6c7d-50f4-42fd-860c-b14fae393ca2",
    "deepnote_cell_type": "code"
   },
   "source": "!datapane login — server=https://datapane.com/ — token=yourtoken",
   "outputs": [],
   "execution_count": null
  },
  {
   "cell_type": "code",
   "metadata": {
    "ExecuteTime": {
     "end_time": "2020-08-03T01:54:07.158913Z",
     "start_time": "2020-08-03T01:54:03.745549Z"
    },
    "cell_id": "00007-f45c3488-94a4-4d79-9cf9-a91991b73c54",
    "deepnote_cell_type": "code"
   },
   "source": "import datapane as dp \n\npredictor = dp.Blob.get(name='predictor', owner='khuyentran1401').download_obj()\n\nX_TEST = [[10, 20, 30]]\noutcome = predictor.predict(X=X_TEST)\ncoefficients = predictor.coef_\n\nprint('Outcome : {}\\nCoefficients : {}'.format(outcome, coefficients))",
   "outputs": [
    {
     "name": "stdout",
     "output_type": "stream",
     "text": "Outcome : [140.]\nCoefficients : [1. 2. 3.]\n"
    }
   ],
   "execution_count": null
  },
  {
   "cell_type": "markdown",
   "source": "## Get Data from Different Env",
   "metadata": {
    "cell_id": "00008-9e15f784-d880-4f3e-a3ac-7536a2c06de0",
    "deepnote_cell_type": "markdown"
   }
  },
  {
   "cell_type": "code",
   "metadata": {
    "ExecuteTime": {
     "end_time": "2020-08-03T01:58:01.005953Z",
     "start_time": "2020-08-03T01:58:00.076531Z"
    },
    "cell_id": "00009-4fe59cbf-19d5-4fcf-82d8-193cd522a193",
    "deepnote_cell_type": "code"
   },
   "source": "import datapane as dp\ndf = dp.Blob.get('profile', owner='khuyentran1401').download_df()\ndf",
   "outputs": [
    {
     "data": {
      "text/html": "<div>\n<style scoped>\n    .dataframe tbody tr th:only-of-type {\n        vertical-align: middle;\n    }\n\n    .dataframe tbody tr th {\n        vertical-align: top;\n    }\n\n    .dataframe thead th {\n        text-align: right;\n    }\n</style>\n<table border=\"1\" class=\"dataframe\">\n  <thead>\n    <tr style=\"text-align: right;\">\n      <th></th>\n      <th>user_name</th>\n      <th>name</th>\n      <th>type_user</th>\n      <th>html_url</th>\n      <th>bio</th>\n      <th>company</th>\n      <th>email</th>\n      <th>followers</th>\n      <th>following</th>\n      <th>hireable</th>\n      <th>location</th>\n      <th>created_at</th>\n      <th>updated_at</th>\n      <th>total_stars</th>\n      <th>max_star</th>\n      <th>forks</th>\n    </tr>\n  </thead>\n  <tbody>\n    <tr>\n      <th>0</th>\n      <td>josephmisiti</td>\n      <td>Joseph Misiti</td>\n      <td>Owner</td>\n      <td>https://github.com/josephmisiti</td>\n      <td>Mathematician &amp; Co-founder of Math &amp; Pencil</td>\n      <td>Math &amp; Pencil</td>\n      <td>None</td>\n      <td>1970-01-01 00:00:00.000002486</td>\n      <td>1970-01-01 00:00:00.000000273</td>\n      <td>True</td>\n      <td>Brooklyn, NY</td>\n      <td>2010-04-17 21:09:13</td>\n      <td>2020-06-18 19:43:56</td>\n      <td>1970-01-01 00:00:00.000046274</td>\n      <td>1970-01-01 00:00:00.000045164</td>\n      <td>1970-01-01 00:00:00.000011819</td>\n    </tr>\n    <tr>\n      <th>1</th>\n      <td>wepe</td>\n      <td>wepon</td>\n      <td>Owner</td>\n      <td>https://github.com/wepe</td>\n      <td>None</td>\n      <td>AntFin</td>\n      <td>wepon@pku.edu.cn</td>\n      <td>1970-01-01 00:00:00.000004505</td>\n      <td>1970-01-01 00:00:00.000000047</td>\n      <td>NaN</td>\n      <td>China Hangzhou</td>\n      <td>2014-10-10 14:28:18</td>\n      <td>2020-06-15 14:01:30</td>\n      <td>1970-01-01 00:00:00.000007108</td>\n      <td>1970-01-01 00:00:00.000003803</td>\n      <td>1970-01-01 00:00:00.000005087</td>\n    </tr>\n    <tr>\n      <th>2</th>\n      <td>ZuzooVn</td>\n      <td>Nam Vu</td>\n      <td>Owner</td>\n      <td>https://github.com/ZuzooVn</td>\n      <td>A Vietnamese Software Engineer who is really p...</td>\n      <td>None</td>\n      <td>zuzoovn@gmail.com</td>\n      <td>1970-01-01 00:00:00.000001188</td>\n      <td>1970-01-01 00:00:00.000000091</td>\n      <td>True</td>\n      <td>Vietnam</td>\n      <td>2012-02-11 16:55:02</td>\n      <td>2020-06-11 19:42:17</td>\n      <td>1970-01-01 00:00:00.000023880</td>\n      <td>1970-01-01 00:00:00.000023875</td>\n      <td>1970-01-01 00:00:00.000005632</td>\n    </tr>\n    <tr>\n      <th>3</th>\n      <td>rasbt</td>\n      <td>Sebastian Raschka</td>\n      <td>Owner</td>\n      <td>https://github.com/rasbt</td>\n      <td>Machine Learning researcher &amp; open source cont...</td>\n      <td>UW-Madison</td>\n      <td>mail@sebastianraschka.com</td>\n      <td>1970-01-01 00:00:00.000012682</td>\n      <td>1970-01-01 00:00:00.000000033</td>\n      <td>NaN</td>\n      <td>Madison, WI</td>\n      <td>2013-10-05 16:06:10</td>\n      <td>2020-06-23 15:56:31</td>\n      <td>1970-01-01 00:00:00.000047703</td>\n      <td>1970-01-01 00:00:00.000012636</td>\n      <td>1970-01-01 00:00:00.000015571</td>\n    </tr>\n    <tr>\n      <th>4</th>\n      <td>lazyprogrammer</td>\n      <td>LazyProgrammer.me</td>\n      <td>Owner</td>\n      <td>https://github.com/lazyprogrammer</td>\n      <td>https://deeplearningcourses.com</td>\n      <td>None</td>\n      <td>None</td>\n      <td>1970-01-01 00:00:00.000002788</td>\n      <td>1970-01-01 00:00:00.000000000</td>\n      <td>NaN</td>\n      <td>None</td>\n      <td>2012-01-03 19:14:42</td>\n      <td>2020-06-27 21:40:43</td>\n      <td>1970-01-01 00:00:00.000005343</td>\n      <td>1970-01-01 00:00:00.000005169</td>\n      <td>1970-01-01 00:00:00.000004955</td>\n    </tr>\n    <tr>\n      <th>...</th>\n      <td>...</td>\n      <td>...</td>\n      <td>...</td>\n      <td>...</td>\n      <td>...</td>\n      <td>...</td>\n      <td>...</td>\n      <td>...</td>\n      <td>...</td>\n      <td>...</td>\n      <td>...</td>\n      <td>...</td>\n      <td>...</td>\n      <td>...</td>\n      <td>...</td>\n      <td>...</td>\n    </tr>\n    <tr>\n      <th>1209</th>\n      <td>aggronerd</td>\n      <td>Gregory Doran</td>\n      <td>Contributor</td>\n      <td>https://github.com/aggronerd</td>\n      <td>None</td>\n      <td>None</td>\n      <td>None</td>\n      <td>1970-01-01 00:00:00.000000001</td>\n      <td>1970-01-01 00:00:00.000000003</td>\n      <td>True</td>\n      <td>United Kingdom</td>\n      <td>2011-09-07 22:08:59</td>\n      <td>2020-06-18 22:57:25</td>\n      <td>1970-01-01 00:00:00.000000006</td>\n      <td>1970-01-01 00:00:00.000000002</td>\n      <td>1970-01-01 00:00:00.000000002</td>\n    </tr>\n    <tr>\n      <th>1210</th>\n      <td>sdierauf</td>\n      <td>Stefan Dierauf</td>\n      <td>Contributor</td>\n      <td>https://github.com/sdierauf</td>\n      <td>Android</td>\n      <td>@google</td>\n      <td>sdierauf@gmail.com</td>\n      <td>1970-01-01 00:00:00.000000059</td>\n      <td>1970-01-01 00:00:00.000000061</td>\n      <td>NaN</td>\n      <td>Google Seattle</td>\n      <td>2012-11-22 07:37:55</td>\n      <td>2020-05-14 01:41:38</td>\n      <td>1970-01-01 00:00:00.000000013</td>\n      <td>1970-01-01 00:00:00.000000006</td>\n      <td>1970-01-01 00:00:00.000000010</td>\n    </tr>\n    <tr>\n      <th>1211</th>\n      <td>fleeting</td>\n      <td>James Fleeting</td>\n      <td>Contributor</td>\n      <td>https://github.com/fleeting</td>\n      <td>Not an astronaut. Former superhero. Current fr...</td>\n      <td>@Monkee-Boy</td>\n      <td>twofivethreetwo@gmail.com</td>\n      <td>1970-01-01 00:00:00.000000093</td>\n      <td>1970-01-01 00:00:00.000000215</td>\n      <td>NaN</td>\n      <td>Austin, TX</td>\n      <td>2008-09-03 20:46:43</td>\n      <td>2020-06-15 15:18:51</td>\n      <td>1970-01-01 00:00:00.000000032</td>\n      <td>1970-01-01 00:00:00.000000010</td>\n      <td>1970-01-01 00:00:00.000000008</td>\n    </tr>\n    <tr>\n      <th>1212</th>\n      <td>LiberiFatali</td>\n      <td>None</td>\n      <td>Contributor</td>\n      <td>https://github.com/LiberiFatali</td>\n      <td>le petit explorer</td>\n      <td>None</td>\n      <td>None</td>\n      <td>1970-01-01 00:00:00.000000010</td>\n      <td>1970-01-01 00:00:00.000000000</td>\n      <td>True</td>\n      <td>Vietnam</td>\n      <td>2012-11-12 06:43:17</td>\n      <td>2020-06-16 07:08:53</td>\n      <td>1970-01-01 00:00:00.000000007</td>\n      <td>1970-01-01 00:00:00.000000006</td>\n      <td>1970-01-01 00:00:00.000000003</td>\n    </tr>\n    <tr>\n      <th>1213</th>\n      <td>Zzlongjuanfeng</td>\n      <td>zengxianfang</td>\n      <td>Contributor</td>\n      <td>https://github.com/Zzlongjuanfeng</td>\n      <td>None</td>\n      <td>zhejiang university</td>\n      <td>zzlongjuanfeng@zju.edu.cn</td>\n      <td>1970-01-01 00:00:00.000000016</td>\n      <td>1970-01-01 00:00:00.000000013</td>\n      <td>NaN</td>\n      <td>hangzhou</td>\n      <td>2016-04-18 07:00:43</td>\n      <td>2020-06-09 14:50:56</td>\n      <td>1970-01-01 00:00:00.000000001</td>\n      <td>1970-01-01 00:00:00.000000001</td>\n      <td>1970-01-01 00:00:00.000000003</td>\n    </tr>\n  </tbody>\n</table>\n<p>1214 rows × 16 columns</p>\n</div>",
      "text/plain": "           user_name               name    type_user  \\\n0       josephmisiti      Joseph Misiti        Owner   \n1               wepe              wepon        Owner   \n2            ZuzooVn             Nam Vu        Owner   \n3              rasbt  Sebastian Raschka        Owner   \n4     lazyprogrammer  LazyProgrammer.me        Owner   \n...              ...                ...          ...   \n1209       aggronerd      Gregory Doran  Contributor   \n1210        sdierauf     Stefan Dierauf  Contributor   \n1211        fleeting     James Fleeting  Contributor   \n1212    LiberiFatali               None  Contributor   \n1213  Zzlongjuanfeng       zengxianfang  Contributor   \n\n                               html_url  \\\n0       https://github.com/josephmisiti   \n1               https://github.com/wepe   \n2            https://github.com/ZuzooVn   \n3              https://github.com/rasbt   \n4     https://github.com/lazyprogrammer   \n...                                 ...   \n1209       https://github.com/aggronerd   \n1210        https://github.com/sdierauf   \n1211        https://github.com/fleeting   \n1212    https://github.com/LiberiFatali   \n1213  https://github.com/Zzlongjuanfeng   \n\n                                                    bio              company  \\\n0           Mathematician & Co-founder of Math & Pencil       Math & Pencil    \n1                                                  None               AntFin   \n2     A Vietnamese Software Engineer who is really p...                 None   \n3     Machine Learning researcher & open source cont...           UW-Madison   \n4                       https://deeplearningcourses.com                 None   \n...                                                 ...                  ...   \n1209                                               None                 None   \n1210                                            Android              @google   \n1211  Not an astronaut. Former superhero. Current fr...         @Monkee-Boy    \n1212                                  le petit explorer                 None   \n1213                                               None  zhejiang university   \n\n                          email                     followers  \\\n0                          None 1970-01-01 00:00:00.000002486   \n1              wepon@pku.edu.cn 1970-01-01 00:00:00.000004505   \n2             zuzoovn@gmail.com 1970-01-01 00:00:00.000001188   \n3     mail@sebastianraschka.com 1970-01-01 00:00:00.000012682   \n4                          None 1970-01-01 00:00:00.000002788   \n...                         ...                           ...   \n1209                       None 1970-01-01 00:00:00.000000001   \n1210         sdierauf@gmail.com 1970-01-01 00:00:00.000000059   \n1211  twofivethreetwo@gmail.com 1970-01-01 00:00:00.000000093   \n1212                       None 1970-01-01 00:00:00.000000010   \n1213  zzlongjuanfeng@zju.edu.cn 1970-01-01 00:00:00.000000016   \n\n                         following hireable        location  \\\n0    1970-01-01 00:00:00.000000273     True    Brooklyn, NY   \n1    1970-01-01 00:00:00.000000047      NaN  China Hangzhou   \n2    1970-01-01 00:00:00.000000091     True         Vietnam   \n3    1970-01-01 00:00:00.000000033      NaN     Madison, WI   \n4    1970-01-01 00:00:00.000000000      NaN            None   \n...                            ...      ...             ...   \n1209 1970-01-01 00:00:00.000000003     True  United Kingdom   \n1210 1970-01-01 00:00:00.000000061      NaN  Google Seattle   \n1211 1970-01-01 00:00:00.000000215      NaN      Austin, TX   \n1212 1970-01-01 00:00:00.000000000     True         Vietnam   \n1213 1970-01-01 00:00:00.000000013      NaN        hangzhou   \n\n              created_at          updated_at                   total_stars  \\\n0    2010-04-17 21:09:13 2020-06-18 19:43:56 1970-01-01 00:00:00.000046274   \n1    2014-10-10 14:28:18 2020-06-15 14:01:30 1970-01-01 00:00:00.000007108   \n2    2012-02-11 16:55:02 2020-06-11 19:42:17 1970-01-01 00:00:00.000023880   \n3    2013-10-05 16:06:10 2020-06-23 15:56:31 1970-01-01 00:00:00.000047703   \n4    2012-01-03 19:14:42 2020-06-27 21:40:43 1970-01-01 00:00:00.000005343   \n...                  ...                 ...                           ...   \n1209 2011-09-07 22:08:59 2020-06-18 22:57:25 1970-01-01 00:00:00.000000006   \n1210 2012-11-22 07:37:55 2020-05-14 01:41:38 1970-01-01 00:00:00.000000013   \n1211 2008-09-03 20:46:43 2020-06-15 15:18:51 1970-01-01 00:00:00.000000032   \n1212 2012-11-12 06:43:17 2020-06-16 07:08:53 1970-01-01 00:00:00.000000007   \n1213 2016-04-18 07:00:43 2020-06-09 14:50:56 1970-01-01 00:00:00.000000001   \n\n                          max_star                         forks  \n0    1970-01-01 00:00:00.000045164 1970-01-01 00:00:00.000011819  \n1    1970-01-01 00:00:00.000003803 1970-01-01 00:00:00.000005087  \n2    1970-01-01 00:00:00.000023875 1970-01-01 00:00:00.000005632  \n3    1970-01-01 00:00:00.000012636 1970-01-01 00:00:00.000015571  \n4    1970-01-01 00:00:00.000005169 1970-01-01 00:00:00.000004955  \n...                            ...                           ...  \n1209 1970-01-01 00:00:00.000000002 1970-01-01 00:00:00.000000002  \n1210 1970-01-01 00:00:00.000000006 1970-01-01 00:00:00.000000010  \n1211 1970-01-01 00:00:00.000000010 1970-01-01 00:00:00.000000008  \n1212 1970-01-01 00:00:00.000000006 1970-01-01 00:00:00.000000003  \n1213 1970-01-01 00:00:00.000000001 1970-01-01 00:00:00.000000003  \n\n[1214 rows x 16 columns]"
     },
     "execution_count": 7,
     "metadata": {},
     "output_type": "execute_result"
    }
   ],
   "execution_count": null
  },
  {
   "cell_type": "markdown",
   "source": "<a style='text-decoration:none;line-height:16px;display:flex;color:#5B5B62;padding:10px;justify-content:end;' href='https://deepnote.com?utm_source=created-in-deepnote-cell&projectId=87197226-98be-42b2-8527-389082831299' target=\"_blank\">\n<img alt='Created in deepnote.com' style='display:inline;max-height:16px;margin:0px;margin-right:7.5px;' src='data:image/svg+xml;base64,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' > </img>\nCreated in <span style='font-weight:600;margin-left:4px;'>Deepnote</span></a>",
   "metadata": {
    "tags": [],
    "created_in_deepnote_cell": true,
    "deepnote_cell_type": "markdown"
   }
  }
 ],
 "nbformat": 4,
 "nbformat_minor": 4,
 "metadata": {
  "kernelspec": {
   "display_name": "Python 3",
   "language": "python",
   "name": "python3"
  },
  "language_info": {
   "codemirror_mode": {
    "name": "ipython",
    "version": 3
   },
   "file_extension": ".py",
   "mimetype": "text/x-python",
   "name": "python",
   "nbconvert_exporter": "python",
   "pygments_lexer": "ipython3",
   "version": "3.8.1"
  },
  "latex_envs": {
   "LaTeX_envs_menu_present": true,
   "autoclose": false,
   "autocomplete": true,
   "bibliofile": "biblio.bib",
   "cite_by": "apalike",
   "current_citInitial": 1,
   "eqLabelWithNumbers": true,
   "eqNumInitial": 1,
   "hotkeys": {
    "equation": "Ctrl-E",
    "itemize": "Ctrl-I"
   },
   "labels_anchors": false,
   "latex_user_defs": false,
   "report_style_numbering": false,
   "user_envs_cfg": false
  },
  "toc": {
   "base_numbering": 1,
   "nav_menu": {},
   "number_sections": true,
   "sideBar": true,
   "skip_h1_title": false,
   "title_cell": "Table of Contents",
   "title_sidebar": "Contents",
   "toc_cell": false,
   "toc_position": {},
   "toc_section_display": true,
   "toc_window_display": false
  },
  "deepnote_notebook_id": "409b5305-16fb-4bc1-abe3-3294b1fc50ed",
  "deepnote": {},
  "deepnote_execution_queue": []
 }
}