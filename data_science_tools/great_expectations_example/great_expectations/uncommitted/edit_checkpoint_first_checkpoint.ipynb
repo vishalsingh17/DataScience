{
 "cells": [
  {
   "cell_type": "markdown",
   "source": "# Create Your Checkpoint\nUse this notebook to configure a new Checkpoint and add it to your project:\n\n**Checkpoint Name**: `first_checkpoint`",
   "metadata": {
    "cell_id": "00000-e31e6ffc-91da-45d6-a2d3-02aa9a9eee99",
    "deepnote_cell_type": "markdown"
   }
  },
  {
   "cell_type": "code",
   "metadata": {
    "ExecuteTime": {
     "end_time": "2021-10-07T21:01:56.961928Z",
     "start_time": "2021-10-07T21:01:55.924448Z"
    },
    "cell_id": "00001-426fe509-b981-491b-8e26-775c3c63d3ab",
    "deepnote_cell_type": "code"
   },
   "source": "from ruamel.yaml import YAML\nimport great_expectations as ge\nfrom pprint import pprint\n\nyaml = YAML()\ncontext = ge.get_context()",
   "execution_count": null,
   "outputs": []
  },
  {
   "cell_type": "markdown",
   "source": "# Create a Checkpoint Configuration\n\n**If you are new to Great Expectations or the Checkpoint feature**, you should start with SimpleCheckpoint because it includes default configurations like a default list of post validation actions.\n\nIn the cell below we have created a sample Checkpoint configuration using **your configuration** and **SimpleCheckpoint** to run a single validation of a single Expectation Suite against a single Batch of data.\n\nTo keep it simple, we are just choosing the first available instance of each of the following items you have configured in your Data Context:\n* Datasource\n* DataConnector\n* DataAsset\n* Partition\n* Expectation Suite\n\nOf course this is purely an example, you may edit this to your heart's content.\n\n**My configuration is not so simple - are there more advanced options?**\n\nGlad you asked! Checkpoints are very versatile. For example, you can validate many Batches in a single Checkpoint, validate Batches against different Expectation Suites or against many Expectation Suites, control the specific post-validation actions based on Expectation Suite / Batch / results of validation among other features. Check out our documentation on Checkpoints for more details and for instructions on how to implement other more advanced features including using the **Checkpoint** class:\n- https://docs.greatexpectations.io/en/latest/reference/core_concepts/checkpoints_and_actions.html\n- https://docs.greatexpectations.io/en/latest/guides/how_to_guides/validation/how_to_create_a_new_checkpoint.html\n- https://docs.greatexpectations.io/en/latest/guides/how_to_guides/validation/how_to_create_a_new_checkpoint_using_test_yaml_config.html",
   "metadata": {
    "cell_id": "00002-f1c78d2b-5b9a-45a7-90e1-d1cb6e768cd2",
    "deepnote_cell_type": "markdown"
   }
  },
  {
   "cell_type": "code",
   "metadata": {
    "ExecuteTime": {
     "end_time": "2021-10-07T21:01:56.965829Z",
     "start_time": "2021-10-07T21:01:56.963015Z"
    },
    "cell_id": "00003-31b50cf4-1765-4a26-8d34-e3e65bb559d2",
    "allow_embed": "code",
    "deepnote_cell_type": "code"
   },
   "source": "my_checkpoint_name = \"first_checkpoint\"  # This was populated from your CLI command.\n\nyaml_config = f\"\"\"\nname: {my_checkpoint_name}\nconfig_version: 1.0\nclass_name: SimpleCheckpoint\nrun_name_template: \"%Y%m%d-%H%M%S-my-run-name-template\"\nvalidations:\n  - batch_request:\n      datasource_name: first_data\n      data_connector_name: default_inferred_data_connector_name\n      data_asset_name: second_data.csv\n      data_connector_query:\n        index: -1\n    expectation_suite_name: first_data.csv.warning\n\"\"\"\nprint(yaml_config)",
   "execution_count": null,
   "outputs": [
    {
     "name": "stdout",
     "output_type": "stream",
     "text": "\nname: first_checkpoint\nconfig_version: 1.0\nclass_name: SimpleCheckpoint\nrun_name_template: \"%Y%m%d-%H%M%S-my-run-name-template\"\nvalidations:\n  - batch_request:\n      datasource_name: first_data\n      data_connector_name: default_inferred_data_connector_name\n      data_asset_name: second_data.csv\n      data_connector_query:\n        index: -1\n    expectation_suite_name: first_data.csv.warning\n\n"
    }
   ]
  },
  {
   "cell_type": "markdown",
   "source": "# Customize Your Configuration\nThe following cells show examples for listing your current configuration. You can replace values in the sample configuration with these values to customize your Checkpoint.",
   "metadata": {
    "cell_id": "00004-fd63d140-b961-4faa-acd5-32ef74603f5a",
    "deepnote_cell_type": "markdown"
   }
  },
  {
   "cell_type": "code",
   "metadata": {
    "ExecuteTime": {
     "end_time": "2021-10-07T21:01:56.976072Z",
     "start_time": "2021-10-07T21:01:56.966666Z"
    },
    "cell_id": "00005-fa5e0d3e-048e-4b91-a6b3-d899648640a6",
    "deepnote_cell_type": "code"
   },
   "source": "# Run this cell to print out the names of your Datasources, Data Connectors and Data Assets\npprint(context.get_available_data_asset_names())",
   "execution_count": null,
   "outputs": [
    {
     "name": "stdout",
     "output_type": "stream",
     "text": "{'first_data': {'default_inferred_data_connector_name': ['second_data.csv',\n                                                         'first_data.csv'],\n                'default_runtime_data_connector_name': []}}\n"
    }
   ]
  },
  {
   "cell_type": "code",
   "metadata": {
    "ExecuteTime": {
     "end_time": "2021-10-07T21:01:56.987048Z",
     "start_time": "2021-10-07T21:01:56.977461Z"
    },
    "cell_id": "00006-cb65d382-e607-4957-aeff-be33f8aec1bc",
    "deepnote_cell_type": "code"
   },
   "source": "context.list_expectation_suite_names()",
   "execution_count": null,
   "outputs": [
    {
     "data": {
      "text/plain": "['first_data.csv.warning']"
     },
     "execution_count": 4,
     "metadata": {},
     "output_type": "execute_result"
    }
   ]
  },
  {
   "cell_type": "markdown",
   "source": "# Test Your Checkpoint Configuration\nHere we will test your Checkpoint configuration to make sure it is valid.\n\nThis `test_yaml_config()` function is meant to enable fast dev loops. If your configuration is correct, this cell will show a message that you successfully instantiated a Checkpoint. You can continually edit your Checkpoint config yaml and re-run the cell to check until the new config is valid.\n\nIf you instead wish to use python instead of yaml to configure your Checkpoint, you can use `context.add_checkpoint()` and specify all the required parameters.",
   "metadata": {
    "cell_id": "00007-445630b9-fb32-4469-bfff-71e9bc7ef020",
    "deepnote_cell_type": "markdown"
   }
  },
  {
   "cell_type": "code",
   "metadata": {
    "ExecuteTime": {
     "end_time": "2021-10-07T21:01:57.008766Z",
     "start_time": "2021-10-07T21:01:56.988009Z"
    },
    "cell_id": "00008-e738c63c-c3cc-4458-b387-0235638aef70",
    "deepnote_cell_type": "code"
   },
   "source": "my_checkpoint = context.test_yaml_config(yaml_config=yaml_config)",
   "execution_count": null,
   "outputs": [
    {
     "name": "stdout",
     "output_type": "stream",
     "text": "Attempting to instantiate class from config...\n\tInstantiating as a SimpleCheckpoint, since class_name is SimpleCheckpoint\n\tSuccessfully instantiated SimpleCheckpoint\n\n\nCheckpoint class name: SimpleCheckpoint\n"
    }
   ]
  },
  {
   "cell_type": "markdown",
   "source": "# Review Your Checkpoint\n\nYou can run the following cell to print out the full yaml configuration. For example, if you used **SimpleCheckpoint**  this will show you the default action list.",
   "metadata": {
    "cell_id": "00009-02c66da9-1c07-4ffa-83b8-34b890be0eaf",
    "deepnote_cell_type": "markdown"
   }
  },
  {
   "cell_type": "code",
   "metadata": {
    "ExecuteTime": {
     "end_time": "2021-10-07T21:01:57.017759Z",
     "start_time": "2021-10-07T21:01:57.009671Z"
    },
    "cell_id": "00010-82049ae0-b0ea-40a7-ab81-dbd3f25cb1bf",
    "deepnote_cell_type": "code"
   },
   "source": "print(my_checkpoint.get_substituted_config().to_yaml_str())",
   "execution_count": null,
   "outputs": [
    {
     "name": "stdout",
     "output_type": "stream",
     "text": "name: first_checkpoint\nconfig_version: 1.0\ntemplate_name:\nmodule_name: great_expectations.checkpoint\nclass_name: SimpleCheckpoint\nrun_name_template: '%Y%m%d-%H%M%S-my-run-name-template'\nexpectation_suite_name:\nbatch_request:\naction_list:\n  - name: store_validation_result\n    action:\n      class_name: StoreValidationResultAction\n  - name: store_evaluation_params\n    action:\n      class_name: StoreEvaluationParametersAction\n  - name: update_data_docs\n    action:\n      class_name: UpdateDataDocsAction\n      site_names: []\nevaluation_parameters: {}\nruntime_configuration: {}\nvalidations:\n  - batch_request:\n      datasource_name: first_data\n      data_connector_name: default_inferred_data_connector_name\n      data_asset_name: second_data.csv\n      data_connector_query:\n        index: -1\n    expectation_suite_name: first_data.csv.warning\nprofilers: []\nge_cloud_id:\nexpectation_suite_ge_cloud_id:\n\n"
    }
   ]
  },
  {
   "cell_type": "markdown",
   "source": "# Add Your Checkpoint\n\nRun the following cell to save this Checkpoint to your Checkpoint Store.",
   "metadata": {
    "cell_id": "00011-f3175247-7ad5-4a09-9977-90acd5f92ee2",
    "deepnote_cell_type": "markdown"
   }
  },
  {
   "cell_type": "code",
   "metadata": {
    "ExecuteTime": {
     "end_time": "2021-10-07T21:01:57.032677Z",
     "start_time": "2021-10-07T21:01:57.018547Z"
    },
    "cell_id": "00012-bded52df-cc87-4d47-abbd-5de1cb899604",
    "deepnote_cell_type": "code"
   },
   "source": "context.add_checkpoint(**yaml.load(yaml_config))",
   "execution_count": null,
   "outputs": [
    {
     "data": {
      "text/plain": "<great_expectations.checkpoint.checkpoint.SimpleCheckpoint at 0x7f1df467a280>"
     },
     "execution_count": 7,
     "metadata": {},
     "output_type": "execute_result"
    }
   ]
  },
  {
   "cell_type": "markdown",
   "source": "# Run Your Checkpoint & Open Data Docs(Optional)\n\nYou may wish to run the Checkpoint now and review its output in Data Docs. If so uncomment and run the following cell.",
   "metadata": {
    "cell_id": "00013-4223cdcb-d421-4d9b-895a-141640c39d3b",
    "deepnote_cell_type": "markdown"
   }
  },
  {
   "cell_type": "code",
   "metadata": {
    "ExecuteTime": {
     "end_time": "2021-10-07T21:01:57.624099Z",
     "start_time": "2021-10-07T21:01:57.033449Z"
    },
    "cell_id": "00014-1c20822a-c563-4d69-b512-5137ce795349",
    "deepnote_cell_type": "code"
   },
   "source": "context.run_checkpoint(checkpoint_name=my_checkpoint_name)\ncontext.open_data_docs()",
   "execution_count": null,
   "outputs": [
    {
     "data": {
      "application/vnd.jupyter.widget-view+json": {
       "model_id": "f7c8fc6d4c364384be93fadca6ab55ad",
       "version_major": 2,
       "version_minor": 0
      },
      "text/plain": "Calculating Metrics:   0%|          | 0/67 [00:00<?, ?it/s]"
     },
     "metadata": {},
     "output_type": "display_data"
    },
    {
     "name": "stdout",
     "output_type": "stream",
     "text": "Opening in existing browser session.\n"
    }
   ]
  },
  {
   "cell_type": "code",
   "metadata": {
    "cell_id": "00015-eb8d7053-38df-4a3a-9285-a41a0a32065b",
    "deepnote_cell_type": "code"
   },
   "source": "",
   "execution_count": null,
   "outputs": []
  },
  {
   "cell_type": "markdown",
   "source": "<a style='text-decoration:none;line-height:16px;display:flex;color:#5B5B62;padding:10px;justify-content:end;' href='https://deepnote.com?utm_source=created-in-deepnote-cell&projectId=87197226-98be-42b2-8527-389082831299' target=\"_blank\">\n<img alt='Created in deepnote.com' style='display:inline;max-height:16px;margin:0px;margin-right:7.5px;' src='data:image/svg+xml;base64,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' > </img>\nCreated in <span style='font-weight:600;margin-left:4px;'>Deepnote</span></a>",
   "metadata": {
    "tags": [],
    "created_in_deepnote_cell": true,
    "deepnote_cell_type": "markdown"
   }
  }
 ],
 "nbformat": 4,
 "nbformat_minor": 5,
 "metadata": {
  "kernelspec": {
   "display_name": "Python 3 (ipykernel)",
   "language": "python",
   "name": "python3"
  },
  "language_info": {
   "codemirror_mode": {
    "name": "ipython",
    "version": 3
   },
   "file_extension": ".py",
   "mimetype": "text/x-python",
   "name": "python",
   "nbconvert_exporter": "python",
   "pygments_lexer": "ipython3",
   "version": "3.8.10"
  },
  "toc": {
   "base_numbering": 1,
   "nav_menu": {},
   "number_sections": true,
   "sideBar": true,
   "skip_h1_title": false,
   "title_cell": "Table of Contents",
   "title_sidebar": "Contents",
   "toc_cell": false,
   "toc_position": {},
   "toc_section_display": true,
   "toc_window_display": false
  },
  "deepnote_notebook_id": "fb52083d-478d-4a14-ace3-78cc36fdd3fc",
  "deepnote": {},
  "deepnote_execution_queue": []
 }
}