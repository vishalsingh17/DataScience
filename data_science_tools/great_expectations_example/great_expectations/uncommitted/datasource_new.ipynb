{
 "cells": [
  {
   "cell_type": "markdown",
   "source": "# Create a new pandas Datasource\nUse this notebook to configure a new pandas Datasource and add it to your project.",
   "metadata": {
    "cell_id": "00000-d14dea44-8f89-4234-8bb6-af9372f8dab8",
    "deepnote_cell_type": "markdown"
   }
  },
  {
   "cell_type": "code",
   "metadata": {
    "ExecuteTime": {
     "end_time": "2021-10-07T20:50:26.300304Z",
     "start_time": "2021-10-07T20:50:25.349874Z"
    },
    "cell_id": "00001-f11d6650-2989-4394-92d4-213bbc1ebdff",
    "deepnote_cell_type": "code"
   },
   "source": "import great_expectations as ge\nfrom great_expectations.cli.datasource import sanitize_yaml_and_save_datasource, check_if_datasource_name_exists\ncontext = ge.get_context()",
   "execution_count": null,
   "outputs": []
  },
  {
   "cell_type": "markdown",
   "source": "## Customize Your Datasource Configuration\n\n**If you are new to Great Expectations Datasources,** you should check out our [how-to documentation](https://docs.greatexpectations.io/en/latest/guides/how_to_guides/configuring_datasources.html)\n\n**My configuration is not so simple - are there more advanced options?**\nGlad you asked! Datasources are versatile. Please see our [How To Guides](https://docs.greatexpectations.io/en/latest/guides/how_to_guides/configuring_datasources.html)!\n\nGive your datasource a unique name:",
   "metadata": {
    "cell_id": "00002-72446455-9769-45c3-ad59-be5906c46558",
    "deepnote_cell_type": "markdown"
   }
  },
  {
   "cell_type": "code",
   "metadata": {
    "ExecuteTime": {
     "end_time": "2021-10-07T20:50:26.376500Z",
     "start_time": "2021-10-07T20:50:26.370870Z"
    },
    "cell_id": "00003-5edb96b6-5d4f-41d9-9367-e6970224f2aa",
    "deepnote_cell_type": "code"
   },
   "source": "datasource_name = \"first_data\"",
   "execution_count": null,
   "outputs": []
  },
  {
   "cell_type": "markdown",
   "source": "### For files based Datasources:\nHere we are creating an example configuration.  The configuration contains an **InferredAssetFilesystemDataConnector** which will add a Data Asset for each file in the base directory you provided. It also contains a **RuntimeDataConnector** which can accept filepaths.   This is just an example, and you may customize this as you wish!\n\nAlso, if you would like to learn more about the **DataConnectors** used in this configuration, including other methods to organize assets, handle multi-file assets, name assets based on parts of a filename, please see our docs on [InferredAssetDataConnectors](https://docs.greatexpectations.io/en/latest/guides/how_to_guides/configuring_datasources/how_to_configure_an_inferredassetdataconnector.html) and [RuntimeDataConnectors](https://docs.greatexpectations.io/en/latest/guides/how_to_guides/creating_batches/how_to_configure_a_runtime_data_connector.html). \n",
   "metadata": {
    "cell_id": "00004-16fc01f9-51e5-415b-942c-90bbf73625ea",
    "deepnote_cell_type": "markdown"
   }
  },
  {
   "cell_type": "code",
   "metadata": {
    "ExecuteTime": {
     "end_time": "2021-10-07T20:50:27.125675Z",
     "start_time": "2021-10-07T20:50:27.116481Z"
    },
    "cell_id": "00005-a26aa259-8341-461f-ae9c-192697b692c1",
    "deepnote_cell_type": "code"
   },
   "source": "example_yaml = f\"\"\"\nname: {datasource_name}\nclass_name: Datasource\nexecution_engine:\n  class_name: PandasExecutionEngine\ndata_connectors:\n  default_inferred_data_connector_name:\n    class_name: InferredAssetFilesystemDataConnector\n    base_directory: ../data\n    default_regex:\n      group_names: \n        - data_asset_name\n      pattern: (.*)\n  default_runtime_data_connector_name:\n    class_name: RuntimeDataConnector\n    batch_identifiers:\n      - default_identifier_name\n\"\"\"\nprint(example_yaml)",
   "execution_count": null,
   "outputs": [
    {
     "name": "stdout",
     "output_type": "stream",
     "text": "\nname: first_data\nclass_name: Datasource\nexecution_engine:\n  class_name: PandasExecutionEngine\ndata_connectors:\n  default_inferred_data_connector_name:\n    class_name: InferredAssetFilesystemDataConnector\n    base_directory: ../data\n    default_regex:\n      group_names: \n        - data_asset_name\n      pattern: (.*)\n  default_runtime_data_connector_name:\n    class_name: RuntimeDataConnector\n    batch_identifiers:\n      - default_identifier_name\n\n"
    }
   ]
  },
  {
   "cell_type": "markdown",
   "source": "# Test Your Datasource Configuration\nHere we will test your Datasource configuration to make sure it is valid.\n\nThis `test_yaml_config()` function is meant to enable fast dev loops. **If your\nconfiguration is correct, this cell will show you some snippets of the data\nassets in the data source.** You can continually edit your Datasource config\nyaml and re-run the cell to check until the new config is valid.\n\nIf you instead wish to use python instead of yaml to configure your Datasource,\nyou can use `context.add_datasource()` and specify all the required parameters.",
   "metadata": {
    "cell_id": "00006-9ca9dae2-6ec5-4490-a6e2-7be8480a5366",
    "deepnote_cell_type": "markdown"
   }
  },
  {
   "cell_type": "code",
   "metadata": {
    "ExecuteTime": {
     "end_time": "2021-10-07T20:50:28.166125Z",
     "start_time": "2021-10-07T20:50:27.982062Z"
    },
    "cell_id": "00007-5f65ab29-7627-41a6-a1a9-dc96cebbc6a7",
    "deepnote_cell_type": "code"
   },
   "source": "context.test_yaml_config(yaml_config=example_yaml)",
   "execution_count": null,
   "outputs": [
    {
     "name": "stdout",
     "output_type": "stream",
     "text": "Attempting to instantiate class from config...\n\tInstantiating as a Datasource, since class_name is Datasource\n\tSuccessfully instantiated Datasource\n\n\nExecutionEngine class name: PandasExecutionEngine\nData Connectors:\n\tdefault_inferred_data_connector_name : InferredAssetFilesystemDataConnector\n\n\tAvailable data_asset_names (2 of 2):\n\t\tfirst_data.csv (1 of 1): ['first_data.csv']\n\t\tsecond_data.csv (1 of 1): ['second_data.csv']\n\n\tUnmatched data_references (0 of 0):[]\n\n\tdefault_runtime_data_connector_name:RuntimeDataConnector\n\n\tAvailable data_asset_names (0 of 0):\n\t\tNote : RuntimeDataConnector will not have data_asset_names until they are passed in through RuntimeBatchRequest\n\n\tUnmatched data_references (0 of 0): []\n\n"
    },
    {
     "data": {
      "text/plain": "<great_expectations.datasource.new_datasource.Datasource at 0x7f69c5845490>"
     },
     "execution_count": 7,
     "metadata": {},
     "output_type": "execute_result"
    }
   ]
  },
  {
   "cell_type": "markdown",
   "source": "## Save Your Datasource Configuration\nHere we will save your Datasource in your Data Context once you are satisfied with the configuration. Note that `overwrite_existing` defaults to False, but you may change it to True if you wish to overwrite. Please note that if you wish to include comments you must add them directly to your `great_expectations.yml`.",
   "metadata": {
    "cell_id": "00008-86f875ac-5683-4893-845c-d89ae84da6ea",
    "deepnote_cell_type": "markdown"
   }
  },
  {
   "cell_type": "code",
   "metadata": {
    "ExecuteTime": {
     "end_time": "2021-10-07T20:50:30.099291Z",
     "start_time": "2021-10-07T20:50:29.866194Z"
    },
    "cell_id": "00009-b214f210-0a67-490d-be90-9450fed5e607",
    "deepnote_cell_type": "code"
   },
   "source": "sanitize_yaml_and_save_datasource(context, example_yaml, overwrite_existing=False)\ncontext.list_datasources()",
   "execution_count": null,
   "outputs": [
    {
     "data": {
      "text/plain": "[{'module_name': 'great_expectations.datasource',\n  'execution_engine': {'module_name': 'great_expectations.execution_engine',\n   'class_name': 'PandasExecutionEngine'},\n  'class_name': 'Datasource',\n  'data_connectors': {'default_inferred_data_connector_name': {'default_regex': {'group_names': ['data_asset_name'],\n     'pattern': '(.*)'},\n    'module_name': 'great_expectations.datasource.data_connector',\n    'base_directory': '../data',\n    'class_name': 'InferredAssetFilesystemDataConnector'},\n   'default_runtime_data_connector_name': {'module_name': 'great_expectations.datasource.data_connector',\n    'batch_identifiers': ['default_identifier_name'],\n    'class_name': 'RuntimeDataConnector'}},\n  'name': 'first_data'}]"
     },
     "execution_count": 8,
     "metadata": {},
     "output_type": "execute_result"
    }
   ]
  },
  {
   "cell_type": "markdown",
   "source": "Now you can close this notebook and delete it!",
   "metadata": {
    "cell_id": "00010-20a62a6a-e85a-44bc-b31a-8ac41bc331b0",
    "deepnote_cell_type": "markdown"
   }
  },
  {
   "cell_type": "markdown",
   "source": "<a style='text-decoration:none;line-height:16px;display:flex;color:#5B5B62;padding:10px;justify-content:end;' href='https://deepnote.com?utm_source=created-in-deepnote-cell&projectId=87197226-98be-42b2-8527-389082831299' target=\"_blank\">\n<img alt='Created in deepnote.com' style='display:inline;max-height:16px;margin:0px;margin-right:7.5px;' src='data:image/svg+xml;base64,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' > </img>\nCreated in <span style='font-weight:600;margin-left:4px;'>Deepnote</span></a>",
   "metadata": {
    "tags": [],
    "created_in_deepnote_cell": true,
    "deepnote_cell_type": "markdown"
   }
  }
 ],
 "nbformat": 4,
 "nbformat_minor": 5,
 "metadata": {
  "kernelspec": {
   "display_name": "Python 3 (ipykernel)",
   "language": "python",
   "name": "python3"
  },
  "language_info": {
   "codemirror_mode": {
    "name": "ipython",
    "version": 3
   },
   "file_extension": ".py",
   "mimetype": "text/x-python",
   "name": "python",
   "nbconvert_exporter": "python",
   "pygments_lexer": "ipython3",
   "version": "3.8.10"
  },
  "toc": {
   "base_numbering": 1,
   "nav_menu": {},
   "number_sections": true,
   "sideBar": true,
   "skip_h1_title": false,
   "title_cell": "Table of Contents",
   "title_sidebar": "Contents",
   "toc_cell": false,
   "toc_position": {},
   "toc_section_display": true,
   "toc_window_display": false
  },
  "deepnote_notebook_id": "43c17832-1f48-40b8-b79c-9148940c709d",
  "deepnote": {},
  "deepnote_execution_queue": []
 }
}