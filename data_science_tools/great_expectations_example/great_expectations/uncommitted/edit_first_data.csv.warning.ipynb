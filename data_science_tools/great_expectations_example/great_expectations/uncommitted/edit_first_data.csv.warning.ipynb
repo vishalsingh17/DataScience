{
 "cells": [
  {
   "cell_type": "markdown",
   "source": "# Edit Your Expectation Suite\nUse this notebook to recreate and modify your expectation suite:\n\n**Expectation Suite Name**: `first_data.csv.warning`\n",
   "metadata": {
    "cell_id": "00000-c97cd42c-6623-445b-9cb2-fc4b76048774",
    "deepnote_cell_type": "markdown"
   }
  },
  {
   "cell_type": "code",
   "metadata": {
    "ExecuteTime": {
     "end_time": "2021-10-07T21:01:42.399860Z",
     "start_time": "2021-10-07T21:01:40.954163Z"
    },
    "cell_id": "00001-baf84959-f7a1-49ef-a88d-30c7cfa5f77b",
    "deepnote_to_be_reexecuted": false,
    "execution_millis": 5866,
    "execution_start": 1634115969908,
    "output_cleared": false,
    "source_hash": "3c530680",
    "tags": [],
    "deepnote_cell_type": "code"
   },
   "source": "!pip install great_expectations==0.13.37",
   "outputs": [
    {
     "name": "stdout",
     "text": "Collecting great_expectations==0.13.37\n  Downloading great_expectations-0.13.37-py3-none-any.whl (4.8 MB)\n\u001b[K     |████████████████████████████████| 4.8 MB 29.7 MB/s \n\u001b[?25hRequirement already satisfied: pyparsing<3,>=2.4 in /shared-libs/python3.7/py-core/lib/python3.7/site-packages (from great_expectations==0.13.37) (2.4.7)\nRequirement already satisfied: pytz>=2015.6 in /shared-libs/python3.7/py/lib/python3.7/site-packages (from great_expectations==0.13.37) (2021.3)\nRequirement already satisfied: jsonschema>=2.5.1 in /shared-libs/python3.7/py-core/lib/python3.7/site-packages (from great_expectations==0.13.37) (4.0.1)\nRequirement already satisfied: Click>=7.1.2 in /shared-libs/python3.7/py/lib/python3.7/site-packages (from great_expectations==0.13.37) (8.0.1)\nRequirement already satisfied: mistune>=0.8.4 in /shared-libs/python3.7/py-core/lib/python3.7/site-packages (from great_expectations==0.13.37) (0.8.4)\nRequirement already satisfied: numpy>=1.14.1 in /shared-libs/python3.7/py/lib/python3.7/site-packages (from great_expectations==0.13.37) (1.19.5)\nRequirement already satisfied: python-dateutil>=2.8.1 in /shared-libs/python3.7/py-core/lib/python3.7/site-packages (from great_expectations==0.13.37) (2.8.2)\nRequirement already satisfied: jinja2>=2.10 in /shared-libs/python3.7/py-core/lib/python3.7/site-packages (from great_expectations==0.13.37) (3.0.2)\nRequirement already satisfied: scipy>=0.19.0 in /shared-libs/python3.7/py/lib/python3.7/site-packages (from great_expectations==0.13.37) (1.7.1)\nRequirement already satisfied: pandas>=0.23.0 in /shared-libs/python3.7/py/lib/python3.7/site-packages (from great_expectations==0.13.37) (1.2.5)\nCollecting jsonpatch>=1.22\n  Downloading jsonpatch-1.32-py2.py3-none-any.whl (12 kB)\nRequirement already satisfied: tqdm>=4.59.0 in /shared-libs/python3.7/py/lib/python3.7/site-packages (from great_expectations==0.13.37) (4.62.3)\nCollecting ruamel.yaml>=0.16\n  Downloading ruamel.yaml-0.17.16-py3-none-any.whl (109 kB)\n\u001b[K     |████████████████████████████████| 109 kB 71.7 MB/s \n\u001b[?25hCollecting ipywidgets>=7.5.1\n  Downloading ipywidgets-7.6.5-py2.py3-none-any.whl (121 kB)\n\u001b[K     |████████████████████████████████| 121 kB 75.9 MB/s \n\u001b[?25hRequirement already satisfied: altair<5,>=4.0.0 in /shared-libs/python3.7/py/lib/python3.7/site-packages (from great_expectations==0.13.37) (4.1.0)\nRequirement already satisfied: importlib-metadata>=1.7.0 in /shared-libs/python3.7/py-core/lib/python3.7/site-packages (from great_expectations==0.13.37) (4.8.1)\nCollecting tzlocal>=1.2\n  Downloading tzlocal-3.0-py3-none-any.whl (16 kB)\nRequirement already satisfied: requests>=2.20 in /shared-libs/python3.7/py/lib/python3.7/site-packages (from great_expectations==0.13.37) (2.26.0)\nRequirement already satisfied: termcolor>=1.1.0 in /shared-libs/python3.7/py/lib/python3.7/site-packages (from great_expectations==0.13.37) (1.1.0)\nRequirement already satisfied: toolz in /shared-libs/python3.7/py/lib/python3.7/site-packages (from altair<5,>=4.0.0->great_expectations==0.13.37) (0.11.1)\nRequirement already satisfied: entrypoints in /shared-libs/python3.7/py-core/lib/python3.7/site-packages (from altair<5,>=4.0.0->great_expectations==0.13.37) (0.3)\nRequirement already satisfied: zipp>=0.5 in /shared-libs/python3.7/py-core/lib/python3.7/site-packages (from importlib-metadata>=1.7.0->great_expectations==0.13.37) (3.6.0)\nRequirement already satisfied: typing-extensions>=3.6.4 in /shared-libs/python3.7/py-core/lib/python3.7/site-packages (from importlib-metadata>=1.7.0->great_expectations==0.13.37) (3.10.0.2)\nCollecting widgetsnbextension~=3.5.0\n  Downloading widgetsnbextension-3.5.1-py2.py3-none-any.whl (2.2 MB)\n\u001b[K     |████████████████████████████████| 2.2 MB 54.7 MB/s \n\u001b[?25hRequirement already satisfied: nbformat>=4.2.0 in /shared-libs/python3.7/py-core/lib/python3.7/site-packages (from ipywidgets>=7.5.1->great_expectations==0.13.37) (5.1.3)\nCollecting jupyterlab-widgets>=1.0.0\n  Downloading jupyterlab_widgets-1.0.2-py3-none-any.whl (243 kB)\n\u001b[K     |████████████████████████████████| 243 kB 61.7 MB/s \n\u001b[?25hRequirement already satisfied: traitlets>=4.3.1 in /shared-libs/python3.7/py-core/lib/python3.7/site-packages (from ipywidgets>=7.5.1->great_expectations==0.13.37) (5.1.0)\nRequirement already satisfied: ipython>=4.0.0 in /shared-libs/python3.7/py-core/lib/python3.7/site-packages (from ipywidgets>=7.5.1->great_expectations==0.13.37) (7.28.0)\nRequirement already satisfied: ipykernel>=4.5.1 in /shared-libs/python3.7/py-core/lib/python3.7/site-packages (from ipywidgets>=7.5.1->great_expectations==0.13.37) (6.4.1)\nRequirement already satisfied: ipython-genutils~=0.2.0 in /shared-libs/python3.7/py-core/lib/python3.7/site-packages (from ipywidgets>=7.5.1->great_expectations==0.13.37) (0.2.0)\nRequirement already satisfied: debugpy<2.0,>=1.0.0 in /shared-libs/python3.7/py-core/lib/python3.7/site-packages (from ipykernel>=4.5.1->ipywidgets>=7.5.1->great_expectations==0.13.37) (1.5.0)\nRequirement already satisfied: tornado<7.0,>=4.2 in /shared-libs/python3.7/py-core/lib/python3.7/site-packages (from ipykernel>=4.5.1->ipywidgets>=7.5.1->great_expectations==0.13.37) (6.1)\nRequirement already satisfied: jupyter-client<8.0 in /shared-libs/python3.7/py-core/lib/python3.7/site-packages (from ipykernel>=4.5.1->ipywidgets>=7.5.1->great_expectations==0.13.37) (7.0.6)\nRequirement already satisfied: argcomplete>=1.12.3 in /shared-libs/python3.7/py-core/lib/python3.7/site-packages (from ipykernel>=4.5.1->ipywidgets>=7.5.1->great_expectations==0.13.37) (1.12.3)\nRequirement already satisfied: matplotlib-inline<0.2.0,>=0.1.0 in /shared-libs/python3.7/py-core/lib/python3.7/site-packages (from ipykernel>=4.5.1->ipywidgets>=7.5.1->great_expectations==0.13.37) (0.1.3)\nRequirement already satisfied: jedi>=0.16 in /shared-libs/python3.7/py-core/lib/python3.7/site-packages (from ipython>=4.0.0->ipywidgets>=7.5.1->great_expectations==0.13.37) (0.17.2)\nRequirement already satisfied: pexpect>4.3 in /shared-libs/python3.7/py-core/lib/python3.7/site-packages (from ipython>=4.0.0->ipywidgets>=7.5.1->great_expectations==0.13.37) (4.8.0)\nRequirement already satisfied: pygments in /shared-libs/python3.7/py-core/lib/python3.7/site-packages (from ipython>=4.0.0->ipywidgets>=7.5.1->great_expectations==0.13.37) (2.10.0)\nRequirement already satisfied: setuptools>=18.5 in /root/venv/lib/python3.7/site-packages (from ipython>=4.0.0->ipywidgets>=7.5.1->great_expectations==0.13.37) (58.1.0)\nRequirement already satisfied: prompt-toolkit!=3.0.0,!=3.0.1,<3.1.0,>=2.0.0 in /shared-libs/python3.7/py-core/lib/python3.7/site-packages (from ipython>=4.0.0->ipywidgets>=7.5.1->great_expectations==0.13.37) (3.0.20)\nRequirement already satisfied: pickleshare in /shared-libs/python3.7/py-core/lib/python3.7/site-packages (from ipython>=4.0.0->ipywidgets>=7.5.1->great_expectations==0.13.37) (0.7.5)\nRequirement already satisfied: decorator in /shared-libs/python3.7/py-core/lib/python3.7/site-packages (from ipython>=4.0.0->ipywidgets>=7.5.1->great_expectations==0.13.37) (5.1.0)\nRequirement already satisfied: backcall in /shared-libs/python3.7/py-core/lib/python3.7/site-packages (from ipython>=4.0.0->ipywidgets>=7.5.1->great_expectations==0.13.37) (0.2.0)\nRequirement already satisfied: parso<0.8.0,>=0.7.0 in /shared-libs/python3.7/py-core/lib/python3.7/site-packages (from jedi>=0.16->ipython>=4.0.0->ipywidgets>=7.5.1->great_expectations==0.13.37) (0.7.1)\nRequirement already satisfied: MarkupSafe>=2.0 in /shared-libs/python3.7/py-core/lib/python3.7/site-packages (from jinja2>=2.10->great_expectations==0.13.37) (2.0.1)\nCollecting jsonpointer>=1.9\n  Downloading jsonpointer-2.1-py2.py3-none-any.whl (7.4 kB)\nRequirement already satisfied: pyrsistent!=0.17.0,!=0.17.1,!=0.17.2,>=0.14.0 in /shared-libs/python3.7/py-core/lib/python3.7/site-packages (from jsonschema>=2.5.1->great_expectations==0.13.37) (0.18.0)\nRequirement already satisfied: attrs>=17.4.0 in /shared-libs/python3.7/py-core/lib/python3.7/site-packages (from jsonschema>=2.5.1->great_expectations==0.13.37) (21.2.0)\nRequirement already satisfied: jupyter-core>=4.6.0 in /shared-libs/python3.7/py-core/lib/python3.7/site-packages (from jupyter-client<8.0->ipykernel>=4.5.1->ipywidgets>=7.5.1->great_expectations==0.13.37) (4.8.1)\nRequirement already satisfied: pyzmq>=13 in /shared-libs/python3.7/py-core/lib/python3.7/site-packages (from jupyter-client<8.0->ipykernel>=4.5.1->ipywidgets>=7.5.1->great_expectations==0.13.37) (22.3.0)\nRequirement already satisfied: nest-asyncio>=1.5 in /shared-libs/python3.7/py-core/lib/python3.7/site-packages (from jupyter-client<8.0->ipykernel>=4.5.1->ipywidgets>=7.5.1->great_expectations==0.13.37) (1.5.1)\nRequirement already satisfied: ptyprocess>=0.5 in /shared-libs/python3.7/py-core/lib/python3.7/site-packages (from pexpect>4.3->ipython>=4.0.0->ipywidgets>=7.5.1->great_expectations==0.13.37) (0.7.0)\nRequirement already satisfied: wcwidth in /shared-libs/python3.7/py-core/lib/python3.7/site-packages (from prompt-toolkit!=3.0.0,!=3.0.1,<3.1.0,>=2.0.0->ipython>=4.0.0->ipywidgets>=7.5.1->great_expectations==0.13.37) (0.2.5)\nRequirement already satisfied: six>=1.5 in /shared-libs/python3.7/py-core/lib/python3.7/site-packages (from python-dateutil>=2.8.1->great_expectations==0.13.37) (1.16.0)\nRequirement already satisfied: certifi>=2017.4.17 in /shared-libs/python3.7/py/lib/python3.7/site-packages (from requests>=2.20->great_expectations==0.13.37) (2021.5.30)\nRequirement already satisfied: idna<4,>=2.5 in /shared-libs/python3.7/py-core/lib/python3.7/site-packages (from requests>=2.20->great_expectations==0.13.37) (3.2)\nRequirement already satisfied: urllib3<1.27,>=1.21.1 in /shared-libs/python3.7/py/lib/python3.7/site-packages (from requests>=2.20->great_expectations==0.13.37) (1.26.7)\nRequirement already satisfied: charset-normalizer~=2.0.0 in /shared-libs/python3.7/py/lib/python3.7/site-packages (from requests>=2.20->great_expectations==0.13.37) (2.0.6)\nCollecting ruamel.yaml.clib>=0.1.2\n  Downloading ruamel.yaml.clib-0.2.6-cp37-cp37m-manylinux1_x86_64.whl (546 kB)\n\u001b[K     |████████████████████████████████| 546 kB 63.9 MB/s \n\u001b[?25hCollecting backports.zoneinfo\n  Downloading backports.zoneinfo-0.2.1-cp37-cp37m-manylinux1_x86_64.whl (70 kB)\n\u001b[K     |████████████████████████████████| 70 kB 14.2 MB/s \n\u001b[?25hRequirement already satisfied: notebook>=4.4.1 in /shared-libs/python3.7/py-core/lib/python3.7/site-packages (from widgetsnbextension~=3.5.0->ipywidgets>=7.5.1->great_expectations==0.13.37) (6.4.4)\nRequirement already satisfied: nbconvert in /shared-libs/python3.7/py-core/lib/python3.7/site-packages (from notebook>=4.4.1->widgetsnbextension~=3.5.0->ipywidgets>=7.5.1->great_expectations==0.13.37) (6.2.0)\nRequirement already satisfied: terminado>=0.8.3 in /shared-libs/python3.7/py-core/lib/python3.7/site-packages (from notebook>=4.4.1->widgetsnbextension~=3.5.0->ipywidgets>=7.5.1->great_expectations==0.13.37) (0.12.1)\nRequirement already satisfied: argon2-cffi in /shared-libs/python3.7/py-core/lib/python3.7/site-packages (from notebook>=4.4.1->widgetsnbextension~=3.5.0->ipywidgets>=7.5.1->great_expectations==0.13.37) (21.1.0)\nRequirement already satisfied: Send2Trash>=1.5.0 in /shared-libs/python3.7/py-core/lib/python3.7/site-packages (from notebook>=4.4.1->widgetsnbextension~=3.5.0->ipywidgets>=7.5.1->great_expectations==0.13.37) (1.8.0)\nRequirement already satisfied: prometheus-client in /shared-libs/python3.7/py-core/lib/python3.7/site-packages (from notebook>=4.4.1->widgetsnbextension~=3.5.0->ipywidgets>=7.5.1->great_expectations==0.13.37) (0.11.0)\nRequirement already satisfied: cffi>=1.0.0 in /shared-libs/python3.7/py-core/lib/python3.7/site-packages (from argon2-cffi->notebook>=4.4.1->widgetsnbextension~=3.5.0->ipywidgets>=7.5.1->great_expectations==0.13.37) (1.14.6)\nRequirement already satisfied: pycparser in /shared-libs/python3.7/py-core/lib/python3.7/site-packages (from cffi>=1.0.0->argon2-cffi->notebook>=4.4.1->widgetsnbextension~=3.5.0->ipywidgets>=7.5.1->great_expectations==0.13.37) (2.20)\nRequirement already satisfied: pandocfilters>=1.4.1 in /shared-libs/python3.7/py-core/lib/python3.7/site-packages (from nbconvert->notebook>=4.4.1->widgetsnbextension~=3.5.0->ipywidgets>=7.5.1->great_expectations==0.13.37) (1.5.0)\nRequirement already satisfied: testpath in /shared-libs/python3.7/py-core/lib/python3.7/site-packages (from nbconvert->notebook>=4.4.1->widgetsnbextension~=3.5.0->ipywidgets>=7.5.1->great_expectations==0.13.37) (0.5.0)\nRequirement already satisfied: defusedxml in /shared-libs/python3.7/py-core/lib/python3.7/site-packages (from nbconvert->notebook>=4.4.1->widgetsnbextension~=3.5.0->ipywidgets>=7.5.1->great_expectations==0.13.37) (0.7.1)\nRequirement already satisfied: bleach in /shared-libs/python3.7/py-core/lib/python3.7/site-packages (from nbconvert->notebook>=4.4.1->widgetsnbextension~=3.5.0->ipywidgets>=7.5.1->great_expectations==0.13.37) (4.1.0)\nRequirement already satisfied: nbclient<0.6.0,>=0.5.0 in /shared-libs/python3.7/py-core/lib/python3.7/site-packages (from nbconvert->notebook>=4.4.1->widgetsnbextension~=3.5.0->ipywidgets>=7.5.1->great_expectations==0.13.37) (0.5.4)\nRequirement already satisfied: jupyterlab-pygments in /shared-libs/python3.7/py-core/lib/python3.7/site-packages (from nbconvert->notebook>=4.4.1->widgetsnbextension~=3.5.0->ipywidgets>=7.5.1->great_expectations==0.13.37) (0.1.2)\nRequirement already satisfied: webencodings in /shared-libs/python3.7/py-core/lib/python3.7/site-packages (from bleach->nbconvert->notebook>=4.4.1->widgetsnbextension~=3.5.0->ipywidgets>=7.5.1->great_expectations==0.13.37) (0.5.1)\nRequirement already satisfied: packaging in /shared-libs/python3.7/py-core/lib/python3.7/site-packages (from bleach->nbconvert->notebook>=4.4.1->widgetsnbextension~=3.5.0->ipywidgets>=7.5.1->great_expectations==0.13.37) (21.0)\nInstalling collected packages: widgetsnbextension, ruamel.yaml.clib, jupyterlab-widgets, jsonpointer, backports.zoneinfo, tzlocal, ruamel.yaml, jsonpatch, ipywidgets, great-expectations\nSuccessfully installed backports.zoneinfo-0.2.1 great-expectations-0.13.37 ipywidgets-7.6.5 jsonpatch-1.32 jsonpointer-2.1 jupyterlab-widgets-1.0.2 ruamel.yaml-0.17.16 ruamel.yaml.clib-0.2.6 tzlocal-3.0 widgetsnbextension-3.5.1\n\u001b[33mWARNING: You are using pip version 21.2.4; however, version 21.3 is available.\nYou should consider upgrading via the '/root/venv/bin/python -m pip install --upgrade pip' command.\u001b[0m\n",
     "output_type": "stream"
    }
   ],
   "execution_count": null
  },
  {
   "cell_type": "code",
   "metadata": {
    "ExecuteTime": {
     "end_time": "2021-10-07T21:01:43.445398Z",
     "start_time": "2021-10-07T21:01:42.401921Z"
    },
    "cell_id": "00001-b2fc0ec2-93ad-462d-bf0b-a50eff7f98b8",
    "deepnote_to_be_reexecuted": false,
    "execution_millis": 7227,
    "execution_start": 1634116067715,
    "source_hash": "ab8e1934",
    "deepnote_cell_type": "code"
   },
   "source": "import datetime\n\nimport pandas as pd\n\nimport great_expectations as ge\nimport great_expectations.jupyter_ux\nfrom great_expectations.core.batch import BatchRequest\nfrom great_expectations.checkpoint import SimpleCheckpoint\nfrom great_expectations.exceptions import DataContextError\n\ncontext = ge.data_context.DataContext()\n\n# Note that if you modify this batch request, you may save the new version as a .json file\n#  to pass in later via the --batch-request option\nbatch_request = {'datasource_name': 'first_data', 'data_connector_name': 'default_inferred_data_connector_name', 'data_asset_name': 'first_data.csv', 'limit': 1000}\n\n\n# Feel free to change the name of your suite here. Renaming this will not remove the other one.\nexpectation_suite_name = \"first_data.csv.warning\"\ntry:\n    suite = context.get_expectation_suite(expectation_suite_name=expectation_suite_name)\n    print(f'Loaded ExpectationSuite \"{suite.expectation_suite_name}\" containing {len(suite.expectations)} expectations.')\nexcept DataContextError:\n    suite = context.create_expectation_suite(expectation_suite_name=expectation_suite_name)\n    print(f'Created ExpectationSuite \"{suite.expectation_suite_name}\".')\n\n\nvalidator = context.get_validator(\n    batch_request=BatchRequest(**batch_request),\n    expectation_suite_name=expectation_suite_name\n)\ncolumn_names = [f'\"{column_name}\"' for column_name in validator.columns()]\nprint(f\"Columns: {', '.join(column_names)}.\")",
   "outputs": [
    {
     "name": "stdout",
     "text": "2021-10-13T09:07:51+0000 - INFO - Great Expectations logging enabled at 20 level by JupyterUX module.\n/root/venv/lib/python3.7/site-packages/great_expectations/jupyter_ux/__init__.py:15: FutureWarning: Passing a negative integer is deprecated in version 1.0 and will not be supported in future version. Instead, use None to not limit the column width.\n  pd.set_option(\"display.max_colwidth\", -1)\nLoaded ExpectationSuite \"first_data.csv.warning\" containing 38 expectations.\nColumns: \"Unnamed: 0\", \"Daily Time Spent on Site\", \"Age\", \"Area Income\", \"Daily Internet Usage\", \"Ad Topic Line\", \"City\", \"Male\", \"Country\", \"Timestamp\", \"Clicked on Ad\".\n",
     "output_type": "stream"
    }
   ],
   "execution_count": null
  },
  {
   "cell_type": "code",
   "metadata": {
    "tags": [],
    "cell_id": "00003-e57ea0b3-2934-4736-970d-c0b7769f9492",
    "deepnote_to_be_reexecuted": false,
    "source_hash": "559f80cd",
    "execution_start": 1634116221641,
    "execution_millis": 21,
    "allow_embed": "code_output",
    "deepnote_cell_type": "code"
   },
   "source": "validator.head(n_rows=10, fetch_all=False)",
   "outputs": [
    {
     "output_type": "execute_result",
     "execution_count": 3,
     "data": {
      "application/vnd.deepnote.dataframe.v2+json": {
       "row_count": 10,
       "column_count": 11,
       "columns": [
        {
         "name": "Unnamed: 0",
         "dtype": "int64",
         "stats": {
          "unique_count": 10,
          "nan_count": 0,
          "min": "0",
          "max": "9",
          "histogram": [
           {
            "bin_start": 0,
            "bin_end": 0.9,
            "count": 1
           },
           {
            "bin_start": 0.9,
            "bin_end": 1.8,
            "count": 1
           },
           {
            "bin_start": 1.8,
            "bin_end": 2.7,
            "count": 1
           },
           {
            "bin_start": 2.7,
            "bin_end": 3.6,
            "count": 1
           },
           {
            "bin_start": 3.6,
            "bin_end": 4.5,
            "count": 1
           },
           {
            "bin_start": 4.5,
            "bin_end": 5.4,
            "count": 1
           },
           {
            "bin_start": 5.4,
            "bin_end": 6.3,
            "count": 1
           },
           {
            "bin_start": 6.3,
            "bin_end": 7.2,
            "count": 1
           },
           {
            "bin_start": 7.2,
            "bin_end": 8.1,
            "count": 1
           },
           {
            "bin_start": 8.1,
            "bin_end": 9,
            "count": 1
           }
          ]
         }
        },
        {
         "name": "Daily Time Spent on Site",
         "dtype": "float64",
         "stats": {
          "unique_count": 10,
          "nan_count": 0,
          "min": "36.56",
          "max": "81.21",
          "histogram": [
           {
            "bin_start": 36.56,
            "bin_end": 41.025,
            "count": 1
           },
           {
            "bin_start": 41.025,
            "bin_end": 45.49,
            "count": 1
           },
           {
            "bin_start": 45.49,
            "bin_end": 49.955,
            "count": 1
           },
           {
            "bin_start": 49.955,
            "bin_end": 54.42,
            "count": 0
           },
           {
            "bin_start": 54.42,
            "bin_end": 58.885,
            "count": 0
           },
           {
            "bin_start": 58.885,
            "bin_end": 63.349999999999994,
            "count": 0
           },
           {
            "bin_start": 63.349999999999994,
            "bin_end": 67.815,
            "count": 0
           },
           {
            "bin_start": 67.815,
            "bin_end": 72.28,
            "count": 1
           },
           {
            "bin_start": 72.28,
            "bin_end": 76.74499999999999,
            "count": 1
           },
           {
            "bin_start": 76.74499999999999,
            "bin_end": 81.21,
            "count": 5
           }
          ]
         }
        },
        {
         "name": "Age",
         "dtype": "int64",
         "stats": {
          "unique_count": 8,
          "nan_count": 0,
          "min": "25",
          "max": "50",
          "histogram": [
           {
            "bin_start": 25,
            "bin_end": 27.5,
            "count": 1
           },
           {
            "bin_start": 27.5,
            "bin_end": 30,
            "count": 3
           },
           {
            "bin_start": 30,
            "bin_end": 32.5,
            "count": 0
           },
           {
            "bin_start": 32.5,
            "bin_end": 35,
            "count": 2
           },
           {
            "bin_start": 35,
            "bin_end": 37.5,
            "count": 2
           },
           {
            "bin_start": 37.5,
            "bin_end": 40,
            "count": 0
           },
           {
            "bin_start": 40,
            "bin_end": 42.5,
            "count": 1
           },
           {
            "bin_start": 42.5,
            "bin_end": 45,
            "count": 0
           },
           {
            "bin_start": 45,
            "bin_end": 47.5,
            "count": 0
           },
           {
            "bin_start": 47.5,
            "bin_end": 50,
            "count": 1
           }
          ]
         }
        },
        {
         "name": "Area Income",
         "dtype": "float64",
         "stats": {
          "unique_count": 10,
          "nan_count": 0,
          "min": "42838.29",
          "max": "68357.96",
          "histogram": [
           {
            "bin_start": 42838.29,
            "bin_end": 45390.257,
            "count": 1
           },
           {
            "bin_start": 45390.257,
            "bin_end": 47942.224,
            "count": 0
           },
           {
            "bin_start": 47942.224,
            "bin_end": 50494.191000000006,
            "count": 0
           },
           {
            "bin_start": 50494.191000000006,
            "bin_end": 53046.158,
            "count": 1
           },
           {
            "bin_start": 53046.158,
            "bin_end": 55598.125,
            "count": 0
           },
           {
            "bin_start": 55598.125,
            "bin_end": 58150.092000000004,
            "count": 0
           },
           {
            "bin_start": 58150.092000000004,
            "bin_end": 60702.05900000001,
            "count": 2
           },
           {
            "bin_start": 60702.05900000001,
            "bin_end": 63254.026000000005,
            "count": 2
           },
           {
            "bin_start": 63254.026000000005,
            "bin_end": 65805.993,
            "count": 2
           },
           {
            "bin_start": 65805.993,
            "bin_end": 68357.96,
            "count": 2
           }
          ]
         }
        },
        {
         "name": "Daily Internet Usage",
         "dtype": "float64",
         "stats": {
          "unique_count": 10,
          "nan_count": 0,
          "min": "132.71",
          "max": "239.94",
          "histogram": [
           {
            "bin_start": 132.71,
            "bin_end": 143.433,
            "count": 2
           },
           {
            "bin_start": 143.433,
            "bin_end": 154.156,
            "count": 0
           },
           {
            "bin_start": 154.156,
            "bin_end": 164.87900000000002,
            "count": 0
           },
           {
            "bin_start": 164.87900000000002,
            "bin_end": 175.602,
            "count": 0
           },
           {
            "bin_start": 175.602,
            "bin_end": 186.325,
            "count": 0
           },
           {
            "bin_start": 186.325,
            "bin_end": 197.048,
            "count": 2
           },
           {
            "bin_start": 197.048,
            "bin_end": 207.77100000000002,
            "count": 0
           },
           {
            "bin_start": 207.77100000000002,
            "bin_end": 218.494,
            "count": 1
           },
           {
            "bin_start": 218.494,
            "bin_end": 229.21699999999998,
            "count": 0
           },
           {
            "bin_start": 229.21699999999998,
            "bin_end": 239.94,
            "count": 5
           }
          ]
         }
        },
        {
         "name": "Ad Topic Line",
         "dtype": "object",
         "stats": {
          "unique_count": 10,
          "nan_count": 0,
          "categories": [
           {
            "name": "Seamless impactful info-mediaries",
            "count": 1
           },
           {
            "name": "Ameliorated actuating workforce",
            "count": 1
           },
           {
            "name": "8 others",
            "count": 8
           }
          ]
         }
        },
        {
         "name": "City",
         "dtype": "object",
         "stats": {
          "unique_count": 10,
          "nan_count": 0,
          "categories": [
           {
            "name": "Jamesville",
            "count": 1
           },
           {
            "name": "Kaylashire",
            "count": 1
           },
           {
            "name": "8 others",
            "count": 8
           }
          ]
         }
        },
        {
         "name": "Male",
         "dtype": "int64",
         "stats": {
          "unique_count": 2,
          "nan_count": 0,
          "min": "0",
          "max": "1",
          "histogram": [
           {
            "bin_start": 0,
            "bin_end": 0.1,
            "count": 6
           },
           {
            "bin_start": 0.1,
            "bin_end": 0.2,
            "count": 0
           },
           {
            "bin_start": 0.2,
            "bin_end": 0.30000000000000004,
            "count": 0
           },
           {
            "bin_start": 0.30000000000000004,
            "bin_end": 0.4,
            "count": 0
           },
           {
            "bin_start": 0.4,
            "bin_end": 0.5,
            "count": 0
           },
           {
            "bin_start": 0.5,
            "bin_end": 0.6000000000000001,
            "count": 0
           },
           {
            "bin_start": 0.6000000000000001,
            "bin_end": 0.7000000000000001,
            "count": 0
           },
           {
            "bin_start": 0.7000000000000001,
            "bin_end": 0.8,
            "count": 0
           },
           {
            "bin_start": 0.8,
            "bin_end": 0.9,
            "count": 0
           },
           {
            "bin_start": 0.9,
            "bin_end": 1,
            "count": 4
           }
          ]
         }
        },
        {
         "name": "Country",
         "dtype": "object",
         "stats": {
          "unique_count": 10,
          "nan_count": 0,
          "categories": [
           {
            "name": "Portugal",
            "count": 1
           },
           {
            "name": "Afghanistan",
            "count": 1
           },
           {
            "name": "8 others",
            "count": 8
           }
          ]
         }
        },
        {
         "name": "Timestamp",
         "dtype": "object",
         "stats": {
          "unique_count": 10,
          "nan_count": 0,
          "categories": [
           {
            "name": "2016-01-01 02:52:10",
            "count": 1
           },
           {
            "name": "2016-01-01 03:35:35",
            "count": 1
           },
           {
            "name": "8 others",
            "count": 8
           }
          ]
         }
        },
        {
         "name": "Clicked on Ad",
         "dtype": "int64",
         "stats": {
          "unique_count": 2,
          "nan_count": 0,
          "min": "0",
          "max": "1",
          "histogram": [
           {
            "bin_start": 0,
            "bin_end": 0.1,
            "count": 7
           },
           {
            "bin_start": 0.1,
            "bin_end": 0.2,
            "count": 0
           },
           {
            "bin_start": 0.2,
            "bin_end": 0.30000000000000004,
            "count": 0
           },
           {
            "bin_start": 0.30000000000000004,
            "bin_end": 0.4,
            "count": 0
           },
           {
            "bin_start": 0.4,
            "bin_end": 0.5,
            "count": 0
           },
           {
            "bin_start": 0.5,
            "bin_end": 0.6000000000000001,
            "count": 0
           },
           {
            "bin_start": 0.6000000000000001,
            "bin_end": 0.7000000000000001,
            "count": 0
           },
           {
            "bin_start": 0.7000000000000001,
            "bin_end": 0.8,
            "count": 0
           },
           {
            "bin_start": 0.8,
            "bin_end": 0.9,
            "count": 0
           },
           {
            "bin_start": 0.9,
            "bin_end": 1,
            "count": 3
           }
          ]
         }
        },
        {
         "name": "_deepnote_index_column",
         "dtype": "int64"
        }
       ],
       "rows_top": [
        {
         "Unnamed: 0": 0,
         "Daily Time Spent on Site": 80.67,
         "Age": 34,
         "Area Income": 58909.36,
         "Daily Internet Usage": 239.76,
         "Ad Topic Line": "Seamless impactful info-mediaries",
         "City": "Jamesville",
         "Male": 0,
         "Country": "Portugal",
         "Timestamp": "2016-01-01 02:52:10",
         "Clicked on Ad": 0,
         "_deepnote_index_column": 0
        },
        {
         "Unnamed: 0": 1,
         "Daily Time Spent on Site": 68.01,
         "Age": 25,
         "Area Income": 68357.96,
         "Daily Internet Usage": 188.32,
         "Ad Topic Line": "Ameliorated actuating workforce",
         "City": "Kaylashire",
         "Male": 1,
         "Country": "Afghanistan",
         "Timestamp": "2016-01-01 03:35:35",
         "Clicked on Ad": 0,
         "_deepnote_index_column": 1
        },
        {
         "Unnamed: 0": 2,
         "Daily Time Spent on Site": 80.94,
         "Age": 36,
         "Area Income": 60803,
         "Daily Internet Usage": 239.94,
         "Ad Topic Line": "Self-enabling local strategy",
         "City": "North Tiffany",
         "Male": 0,
         "Country": "Bermuda",
         "Timestamp": "2016-01-01 05:31:22",
         "Clicked on Ad": 0,
         "_deepnote_index_column": 2
        },
        {
         "Unnamed: 0": 3,
         "Daily Time Spent on Site": 78.77,
         "Age": 28,
         "Area Income": 63497.62,
         "Daily Internet Usage": 211.83,
         "Ad Topic Line": "Public-key intangible Graphical User Interface",
         "City": "Gomezport",
         "Male": 0,
         "Country": "Guam",
         "Timestamp": "2016-01-01 08:27:06",
         "Clicked on Ad": 0,
         "_deepnote_index_column": 3
        },
        {
         "Unnamed: 0": 4,
         "Daily Time Spent on Site": 36.56,
         "Age": 29,
         "Area Income": 42838.29,
         "Daily Internet Usage": 195.89,
         "Ad Topic Line": "Team-oriented bi-directional secured line",
         "City": "West Ryan",
         "Male": 0,
         "Country": "Uganda",
         "Timestamp": "2016-01-01 15:14:24",
         "Clicked on Ad": 1,
         "_deepnote_index_column": 4
        },
        {
         "Unnamed: 0": 5,
         "Daily Time Spent on Site": 46.61,
         "Age": 42,
         "Area Income": 65856.74,
         "Daily Internet Usage": 136.18,
         "Ad Topic Line": "Progressive intermediate throughput",
         "City": "Catherinefort",
         "Male": 0,
         "Country": "Ethiopia",
         "Timestamp": "2016-01-01 20:17:49",
         "Clicked on Ad": 1,
         "_deepnote_index_column": 5
        },
        {
         "Unnamed: 0": 6,
         "Daily Time Spent on Site": 75.32,
         "Age": 28,
         "Area Income": 59998.5,
         "Daily Internet Usage": 233.6,
         "Ad Topic Line": "Reduced mobile structure",
         "City": "Lake Angela",
         "Male": 1,
         "Country": "Mauritius",
         "Timestamp": "2016-01-01 21:58:55",
         "Clicked on Ad": 0,
         "_deepnote_index_column": 6
        },
        {
         "Unnamed: 0": 7,
         "Daily Time Spent on Site": 79.36,
         "Age": 33,
         "Area Income": 62330.75,
         "Daily Internet Usage": 234.72,
         "Ad Topic Line": "Cross-platform directional intranet",
         "City": "East Susanland",
         "Male": 1,
         "Country": "Gambia",
         "Timestamp": "2016-01-02 04:50:44",
         "Clicked on Ad": 0,
         "_deepnote_index_column": 7
        },
        {
         "Unnamed: 0": 8,
         "Daily Time Spent on Site": 81.21,
         "Age": 36,
         "Area Income": 63394.41,
         "Daily Internet Usage": 233.04,
         "Ad Topic Line": "User-friendly content-based customer loyalty",
         "City": "South Jaimeview",
         "Male": 0,
         "Country": "Turkmenistan",
         "Timestamp": "2016-01-02 09:30:11",
         "Clicked on Ad": 0,
         "_deepnote_index_column": 8
        },
        {
         "Unnamed: 0": 9,
         "Daily Time Spent on Site": 44.96,
         "Age": 50,
         "Area Income": 52802,
         "Daily Internet Usage": 132.71,
         "Ad Topic Line": "Focused fresh-thinking Graphic Interface",
         "City": "South Peter",
         "Male": 1,
         "Country": "Heard Island and McDonald Islands",
         "Timestamp": "2016-01-02 12:25:36",
         "Clicked on Ad": 1,
         "_deepnote_index_column": 9
        }
       ],
       "rows_bottom": null
      },
      "text/plain": "   Unnamed: 0  Daily Time Spent on Site  Age  Area Income  \\\n0  0           80.67                     34   58909.36      \n1  1           68.01                     25   68357.96      \n2  2           80.94                     36   60803.00      \n3  3           78.77                     28   63497.62      \n4  4           36.56                     29   42838.29      \n5  5           46.61                     42   65856.74      \n6  6           75.32                     28   59998.50      \n7  7           79.36                     33   62330.75      \n8  8           81.21                     36   63394.41      \n9  9           44.96                     50   52802.00      \n\n   Daily Internet Usage                                   Ad Topic Line  \\\n0  239.76                Seamless impactful info-mediaries                \n1  188.32                Ameliorated actuating workforce                  \n2  239.94                Self-enabling local strategy                     \n3  211.83                Public-key intangible Graphical User Interface   \n4  195.89                Team-oriented bi-directional secured line        \n5  136.18                Progressive intermediate throughput              \n6  233.60                Reduced mobile structure                         \n7  234.72                Cross-platform directional intranet              \n8  233.04                User-friendly content-based customer loyalty     \n9  132.71                Focused fresh-thinking Graphic Interface         \n\n              City  Male                            Country  \\\n0  Jamesville       0     Portugal                            \n1  Kaylashire       1     Afghanistan                         \n2  North Tiffany    0     Bermuda                             \n3  Gomezport        0     Guam                                \n4  West Ryan        0     Uganda                              \n5  Catherinefort    0     Ethiopia                            \n6  Lake Angela      1     Mauritius                           \n7  East Susanland   1     Gambia                              \n8  South Jaimeview  0     Turkmenistan                        \n9  South Peter      1     Heard Island and McDonald Islands   \n\n             Timestamp  Clicked on Ad  \n0  2016-01-01 02:52:10  0              \n1  2016-01-01 03:35:35  0              \n2  2016-01-01 05:31:22  0              \n3  2016-01-01 08:27:06  0              \n4  2016-01-01 15:14:24  1              \n5  2016-01-01 20:17:49  1              \n6  2016-01-01 21:58:55  0              \n7  2016-01-02 04:50:44  0              \n8  2016-01-02 09:30:11  0              \n9  2016-01-02 12:25:36  1              ",
      "text/html": "<div>\n<style scoped>\n    .dataframe tbody tr th:only-of-type {\n        vertical-align: middle;\n    }\n\n    .dataframe tbody tr th {\n        vertical-align: top;\n    }\n\n    .dataframe thead th {\n        text-align: right;\n    }\n</style>\n<table border=\"1\" class=\"dataframe\">\n  <thead>\n    <tr style=\"text-align: right;\">\n      <th></th>\n      <th>Unnamed: 0</th>\n      <th>Daily Time Spent on Site</th>\n      <th>Age</th>\n      <th>Area Income</th>\n      <th>Daily Internet Usage</th>\n      <th>Ad Topic Line</th>\n      <th>City</th>\n      <th>Male</th>\n      <th>Country</th>\n      <th>Timestamp</th>\n      <th>Clicked on Ad</th>\n    </tr>\n  </thead>\n  <tbody>\n    <tr>\n      <th>0</th>\n      <td>0</td>\n      <td>80.67</td>\n      <td>34</td>\n      <td>58909.36</td>\n      <td>239.76</td>\n      <td>Seamless impactful info-mediaries</td>\n      <td>Jamesville</td>\n      <td>0</td>\n      <td>Portugal</td>\n      <td>2016-01-01 02:52:10</td>\n      <td>0</td>\n    </tr>\n    <tr>\n      <th>1</th>\n      <td>1</td>\n      <td>68.01</td>\n      <td>25</td>\n      <td>68357.96</td>\n      <td>188.32</td>\n      <td>Ameliorated actuating workforce</td>\n      <td>Kaylashire</td>\n      <td>1</td>\n      <td>Afghanistan</td>\n      <td>2016-01-01 03:35:35</td>\n      <td>0</td>\n    </tr>\n    <tr>\n      <th>2</th>\n      <td>2</td>\n      <td>80.94</td>\n      <td>36</td>\n      <td>60803.00</td>\n      <td>239.94</td>\n      <td>Self-enabling local strategy</td>\n      <td>North Tiffany</td>\n      <td>0</td>\n      <td>Bermuda</td>\n      <td>2016-01-01 05:31:22</td>\n      <td>0</td>\n    </tr>\n    <tr>\n      <th>3</th>\n      <td>3</td>\n      <td>78.77</td>\n      <td>28</td>\n      <td>63497.62</td>\n      <td>211.83</td>\n      <td>Public-key intangible Graphical User Interface</td>\n      <td>Gomezport</td>\n      <td>0</td>\n      <td>Guam</td>\n      <td>2016-01-01 08:27:06</td>\n      <td>0</td>\n    </tr>\n    <tr>\n      <th>4</th>\n      <td>4</td>\n      <td>36.56</td>\n      <td>29</td>\n      <td>42838.29</td>\n      <td>195.89</td>\n      <td>Team-oriented bi-directional secured line</td>\n      <td>West Ryan</td>\n      <td>0</td>\n      <td>Uganda</td>\n      <td>2016-01-01 15:14:24</td>\n      <td>1</td>\n    </tr>\n    <tr>\n      <th>5</th>\n      <td>5</td>\n      <td>46.61</td>\n      <td>42</td>\n      <td>65856.74</td>\n      <td>136.18</td>\n      <td>Progressive intermediate throughput</td>\n      <td>Catherinefort</td>\n      <td>0</td>\n      <td>Ethiopia</td>\n      <td>2016-01-01 20:17:49</td>\n      <td>1</td>\n    </tr>\n    <tr>\n      <th>6</th>\n      <td>6</td>\n      <td>75.32</td>\n      <td>28</td>\n      <td>59998.50</td>\n      <td>233.60</td>\n      <td>Reduced mobile structure</td>\n      <td>Lake Angela</td>\n      <td>1</td>\n      <td>Mauritius</td>\n      <td>2016-01-01 21:58:55</td>\n      <td>0</td>\n    </tr>\n    <tr>\n      <th>7</th>\n      <td>7</td>\n      <td>79.36</td>\n      <td>33</td>\n      <td>62330.75</td>\n      <td>234.72</td>\n      <td>Cross-platform directional intranet</td>\n      <td>East Susanland</td>\n      <td>1</td>\n      <td>Gambia</td>\n      <td>2016-01-02 04:50:44</td>\n      <td>0</td>\n    </tr>\n    <tr>\n      <th>8</th>\n      <td>8</td>\n      <td>81.21</td>\n      <td>36</td>\n      <td>63394.41</td>\n      <td>233.04</td>\n      <td>User-friendly content-based customer loyalty</td>\n      <td>South Jaimeview</td>\n      <td>0</td>\n      <td>Turkmenistan</td>\n      <td>2016-01-02 09:30:11</td>\n      <td>0</td>\n    </tr>\n    <tr>\n      <th>9</th>\n      <td>9</td>\n      <td>44.96</td>\n      <td>50</td>\n      <td>52802.00</td>\n      <td>132.71</td>\n      <td>Focused fresh-thinking Graphic Interface</td>\n      <td>South Peter</td>\n      <td>1</td>\n      <td>Heard Island and McDonald Islands</td>\n      <td>2016-01-02 12:25:36</td>\n      <td>1</td>\n    </tr>\n  </tbody>\n</table>\n</div>"
     },
     "metadata": {}
    }
   ],
   "execution_count": null
  },
  {
   "cell_type": "markdown",
   "source": "## Create & Edit Expectations\n\n\nAdd expectations by calling specific expectation methods on the `validator` object. They all begin with `.expect_` which makes autocompleting easy using tab.\n\nBecause you selected interactive mode, you are now creating or editing an Expectation Suite with validator feedback from the sample batch of data that you specified (see `batch_request`).\n\nNote that if you select manual mode you may still create or edit an Expectation Suite directly, without feedback from the `validator`. See our documentation for more info and examples: [How to create a new Expectation Suite without a sample batch](https://docs.greatexpectations.io/en/latest/guides/how_to_guides/creating_and_editing_expectations/how_to_create_a_new_expectation_suite_without_a_sample_batch.html).\n\n\n\nYou can see all the available expectations in the **[expectation glossary](https://docs.greatexpectations.io/en/latest/reference/glossary_of_expectations.html?utm_source=notebook&utm_medium=create_expectations)**.",
   "metadata": {
    "cell_id": "00002-42d6b63c-af89-4625-a3c4-e9c72a845c8a",
    "deepnote_cell_type": "markdown"
   }
  },
  {
   "cell_type": "markdown",
   "source": "### Table Expectation(s)",
   "metadata": {
    "cell_id": "00003-21c6181f-e931-4d38-bba7-f96a8e0708c4",
    "deepnote_cell_type": "markdown"
   }
  },
  {
   "cell_type": "code",
   "metadata": {
    "ExecuteTime": {
     "end_time": "2021-10-07T21:01:43.451642Z",
     "start_time": "2021-10-07T21:01:43.446373Z"
    },
    "allow_embed": "code_output",
    "cell_id": "00004-c52e00b0-7305-4040-91bf-162db1be695b",
    "deepnote_to_be_reexecuted": false,
    "execution_millis": 28,
    "execution_start": 1634116263674,
    "source_hash": "75df2c55",
    "deepnote_cell_type": "code"
   },
   "source": "validator.expect_table_columns_to_match_ordered_list(column_list=['Unnamed: 0', 'Daily Time Spent on Site', 'Age', 'Area Income', 'Daily Internet Usage', 'Ad Topic Line', 'City', 'Male', 'Country', 'Timestamp', 'Clicked on Ad'])",
   "outputs": [
    {
     "output_type": "execute_result",
     "execution_count": 4,
     "data": {
      "text/plain": "{\n  \"result\": {\n    \"observed_value\": [\n      \"Unnamed: 0\",\n      \"Daily Time Spent on Site\",\n      \"Age\",\n      \"Area Income\",\n      \"Daily Internet Usage\",\n      \"Ad Topic Line\",\n      \"City\",\n      \"Male\",\n      \"Country\",\n      \"Timestamp\",\n      \"Clicked on Ad\"\n    ]\n  },\n  \"exception_info\": {\n    \"raised_exception\": false,\n    \"exception_traceback\": null,\n    \"exception_message\": null\n  },\n  \"meta\": {},\n  \"success\": true\n}"
     },
     "metadata": {}
    }
   ],
   "execution_count": null
  },
  {
   "cell_type": "markdown",
   "source": "### Column Expectation(s)",
   "metadata": {
    "cell_id": "00006-ce261b34-5f27-4a51-8d67-96220d8e073d",
    "deepnote_cell_type": "markdown"
   }
  },
  {
   "cell_type": "markdown",
   "source": "#### `Daily Time Spent on Site`",
   "metadata": {
    "cell_id": "00007-e33ee7e3-3fea-4b39-9d8e-fd9a8433fcb6",
    "deepnote_cell_type": "markdown"
   }
  },
  {
   "cell_type": "code",
   "metadata": {
    "ExecuteTime": {
     "end_time": "2021-10-07T21:01:43.458916Z",
     "start_time": "2021-10-07T21:01:43.453288Z"
    },
    "cell_id": "00008-9c585708-fdc1-4b7a-a5d6-1ab7ea9ec2f0",
    "deepnote_to_be_reexecuted": false,
    "execution_millis": 7,
    "execution_start": 1634116278227,
    "source_hash": "1c8e8add",
    "tags": [],
    "allow_embed": "code_output",
    "deepnote_cell_type": "code"
   },
   "source": "validator.active_batch.data.dataframe['Daily Time Spent on Site'].describe()",
   "outputs": [
    {
     "output_type": "execute_result",
     "execution_count": 5,
     "data": {
      "text/plain": "count    610.000000\nmean     65.267049 \nstd      15.852992 \nmin      32.600000 \n25%      51.515000 \n50%      68.330000 \n75%      78.525000 \nmax      91.370000 \nName: Daily Time Spent on Site, dtype: float64"
     },
     "metadata": {}
    }
   ],
   "execution_count": null
  },
  {
   "cell_type": "code",
   "metadata": {
    "ExecuteTime": {
     "end_time": "2021-10-07T21:01:43.700520Z",
     "start_time": "2021-10-07T21:01:43.459809Z"
    },
    "cell_id": "00009-978f12b1-c36b-45e3-bd14-dee2b0f5b187",
    "deepnote_to_be_reexecuted": false,
    "execution_millis": 1044,
    "execution_start": 1634116290369,
    "source_hash": "9faa1a0",
    "tags": [],
    "allow_embed": "code_output",
    "deepnote_cell_type": "code"
   },
   "source": "validator.active_batch.data.dataframe['Daily Time Spent on Site'].plot.hist()",
   "outputs": [
    {
     "output_type": "execute_result",
     "execution_count": 6,
     "data": {
      "text/plain": "<AxesSubplot:ylabel='Frequency'>"
     },
     "metadata": {}
    },
    {
     "data": {
      "text/plain": "<Figure size 432x288 with 1 Axes>",
      "image/png": "[encoded data removed]"
     },
     "metadata": {
      "needs_background": "light",
      "image/png": {
       "width": 389,
       "height": 248
      }
     },
     "output_type": "display_data"
    }
   ],
   "execution_count": null
  },
  {
   "cell_type": "code",
   "metadata": {
    "ExecuteTime": {
     "end_time": "2021-10-07T21:01:43.721516Z",
     "start_time": "2021-10-07T21:01:43.701370Z"
    },
    "cell_id": "00008-2562a60f-4cc8-46b8-8a2c-614346e49ee3",
    "deepnote_to_be_reexecuted": false,
    "execution_millis": 101,
    "execution_start": 1634116299881,
    "source_hash": "f3364537",
    "deepnote_cell_type": "code"
   },
   "source": "validator.expect_column_min_to_be_between(column='Daily Time Spent on Site', max_value=40, min_value=30)",
   "outputs": [
    {
     "data": {
      "text/plain": "Calculating Metrics:   0%|          | 0/3 [00:00<?, ?it/s]",
      "application/vnd.jupyter.widget-view+json": {
       "version_major": 2,
       "version_minor": 0,
       "model_id": "503dadb45c5a48a68cdc2b016dd5b205"
      }
     },
     "metadata": {},
     "output_type": "display_data"
    },
    {
     "output_type": "execute_result",
     "execution_count": 7,
     "data": {
      "text/plain": "{\n  \"result\": {\n    \"observed_value\": 32.6\n  },\n  \"exception_info\": {\n    \"raised_exception\": false,\n    \"exception_traceback\": null,\n    \"exception_message\": null\n  },\n  \"meta\": {},\n  \"success\": true\n}"
     },
     "metadata": {}
    }
   ],
   "execution_count": null
  },
  {
   "cell_type": "code",
   "metadata": {
    "ExecuteTime": {
     "end_time": "2021-10-07T21:01:43.742619Z",
     "start_time": "2021-10-07T21:01:43.722242Z"
    },
    "cell_id": "00009-9def640d-b7e9-46fe-8073-190e5d662881",
    "deepnote_to_be_reexecuted": false,
    "execution_millis": 47,
    "execution_start": 1634116312702,
    "source_hash": "89f0a05f",
    "deepnote_cell_type": "code"
   },
   "source": "validator.expect_column_max_to_be_between(column='Daily Time Spent on Site', max_value=100, min_value=85)",
   "outputs": [
    {
     "data": {
      "text/plain": "Calculating Metrics:   0%|          | 0/3 [00:00<?, ?it/s]",
      "application/vnd.jupyter.widget-view+json": {
       "version_major": 2,
       "version_minor": 0,
       "model_id": "f05cc80f1c20462da4100034104dab75"
      }
     },
     "metadata": {},
     "output_type": "display_data"
    },
    {
     "output_type": "execute_result",
     "execution_count": 8,
     "data": {
      "text/plain": "{\n  \"result\": {\n    \"observed_value\": 91.37\n  },\n  \"exception_info\": {\n    \"raised_exception\": false,\n    \"exception_traceback\": null,\n    \"exception_message\": null\n  },\n  \"meta\": {},\n  \"success\": true\n}"
     },
     "metadata": {}
    }
   ],
   "execution_count": null
  },
  {
   "cell_type": "code",
   "metadata": {
    "ExecuteTime": {
     "end_time": "2021-10-07T21:01:43.763185Z",
     "start_time": "2021-10-07T21:01:43.743357Z"
    },
    "cell_id": "00010-245697e5-e54f-42af-9935-34753301cdc9",
    "deepnote_to_be_reexecuted": false,
    "execution_millis": 87,
    "execution_start": 1634116320861,
    "source_hash": "2774c5c2",
    "deepnote_cell_type": "code"
   },
   "source": "validator.expect_column_mean_to_be_between(column='Daily Time Spent on Site', max_value=70, min_value=55)",
   "outputs": [
    {
     "data": {
      "text/plain": "Calculating Metrics:   0%|          | 0/3 [00:00<?, ?it/s]",
      "application/vnd.jupyter.widget-view+json": {
       "version_major": 2,
       "version_minor": 0,
       "model_id": "70beaefa9d7f47cd85463fe75f5259e6"
      }
     },
     "metadata": {},
     "output_type": "display_data"
    },
    {
     "output_type": "execute_result",
     "execution_count": 9,
     "data": {
      "text/plain": "{\n  \"result\": {\n    \"observed_value\": 65.26704918032787\n  },\n  \"exception_info\": {\n    \"raised_exception\": false,\n    \"exception_traceback\": null,\n    \"exception_message\": null\n  },\n  \"meta\": {},\n  \"success\": true\n}"
     },
     "metadata": {}
    }
   ],
   "execution_count": null
  },
  {
   "cell_type": "code",
   "metadata": {
    "ExecuteTime": {
     "end_time": "2021-10-07T21:01:43.793655Z",
     "start_time": "2021-10-07T21:01:43.764057Z"
    },
    "cell_id": "00013-58b209f3-f5ec-4883-b410-113afefac338",
    "deepnote_to_be_reexecuted": false,
    "execution_millis": 195,
    "execution_start": 1634116325346,
    "source_hash": "6045b4cb",
    "deepnote_cell_type": "code"
   },
   "source": "validator.expect_column_values_to_not_be_null(column='Daily Time Spent on Site')",
   "outputs": [
    {
     "data": {
      "text/plain": "Calculating Metrics:   0%|          | 0/6 [00:00<?, ?it/s]",
      "application/vnd.jupyter.widget-view+json": {
       "version_major": 2,
       "version_minor": 0,
       "model_id": "3ddbdbda70b54e6fa4ceafad178ed470"
      }
     },
     "metadata": {},
     "output_type": "display_data"
    },
    {
     "output_type": "execute_result",
     "execution_count": 10,
     "data": {
      "text/plain": "{\n  \"result\": {\n    \"element_count\": 610,\n    \"unexpected_count\": 0,\n    \"unexpected_percent\": 0.0,\n    \"partial_unexpected_list\": []\n  },\n  \"exception_info\": {\n    \"raised_exception\": false,\n    \"exception_traceback\": null,\n    \"exception_message\": null\n  },\n  \"meta\": {},\n  \"success\": true\n}"
     },
     "metadata": {}
    }
   ],
   "execution_count": null
  },
  {
   "cell_type": "code",
   "metadata": {
    "ExecuteTime": {
     "end_time": "2021-10-07T21:01:43.803485Z",
     "start_time": "2021-10-07T21:01:43.796459Z"
    },
    "cell_id": "00015-d8654f56-4f52-4ff0-8c55-754f7c913093",
    "deepnote_to_be_reexecuted": false,
    "execution_millis": 17,
    "execution_start": 1634116330989,
    "source_hash": "7f8af5af",
    "deepnote_cell_type": "code"
   },
   "source": "validator.expect_column_values_to_be_in_type_list(column='Daily Time Spent on Site', type_list=['FLOAT', 'FLOAT4', 'FLOAT8', 'FLOAT64', 'DOUBLE', 'DOUBLE_PRECISION', 'NUMERIC', 'FloatType', 'DoubleType', 'float_', 'float16', 'float32', 'float64', 'number', 'DECIMAL', 'REAL'])",
   "outputs": [
    {
     "output_type": "execute_result",
     "execution_count": 11,
     "data": {
      "text/plain": "{\n  \"result\": {\n    \"observed_value\": \"float64\"\n  },\n  \"exception_info\": {\n    \"raised_exception\": false,\n    \"exception_traceback\": null,\n    \"exception_message\": null\n  },\n  \"meta\": {},\n  \"success\": true\n}"
     },
     "metadata": {}
    }
   ],
   "execution_count": null
  },
  {
   "cell_type": "markdown",
   "source": "#### `Age`",
   "metadata": {
    "cell_id": "00016-56c7a22d-4b91-4c35-be63-6d79d4096f20",
    "deepnote_cell_type": "markdown"
   }
  },
  {
   "cell_type": "code",
   "metadata": {
    "ExecuteTime": {
     "end_time": "2021-10-07T21:01:43.809014Z",
     "start_time": "2021-10-07T21:01:43.804275Z"
    },
    "cell_id": "00016-b6e4abd4-fc4d-42da-89a3-e79bdd67f639",
    "deepnote_to_be_reexecuted": false,
    "execution_millis": 13,
    "execution_start": 1634116336777,
    "source_hash": "f8b3e26",
    "tags": [],
    "deepnote_cell_type": "code"
   },
   "source": "validator.active_batch.data.dataframe['Age'].describe()",
   "outputs": [
    {
     "output_type": "execute_result",
     "execution_count": 12,
     "data": {
      "text/plain": "count    610.000000\nmean     36.050820 \nstd      8.918296  \nmin      19.000000 \n25%      29.000000 \n50%      35.000000 \n75%      42.000000 \nmax      61.000000 \nName: Age, dtype: float64"
     },
     "metadata": {}
    }
   ],
   "execution_count": null
  },
  {
   "cell_type": "code",
   "metadata": {
    "ExecuteTime": {
     "end_time": "2021-10-07T21:01:43.829337Z",
     "start_time": "2021-10-07T21:01:43.809855Z"
    },
    "cell_id": "00017-d5ede672-8c11-4446-b753-e2c178d745f1",
    "deepnote_to_be_reexecuted": false,
    "execution_millis": 12,
    "execution_start": 1634116345280,
    "source_hash": "d5184475",
    "deepnote_cell_type": "code"
   },
   "source": "validator.expect_column_min_to_be_between(column='Age', max_value=23, min_value=15)",
   "outputs": [
    {
     "data": {
      "text/plain": "Calculating Metrics:   0%|          | 0/3 [00:00<?, ?it/s]",
      "application/vnd.jupyter.widget-view+json": {
       "version_major": 2,
       "version_minor": 0,
       "model_id": "4f6269d2ad64468c9acd4aeac086da70"
      }
     },
     "metadata": {},
     "output_type": "display_data"
    },
    {
     "output_type": "execute_result",
     "execution_count": 13,
     "data": {
      "text/plain": "{\n  \"result\": {\n    \"observed_value\": 19\n  },\n  \"exception_info\": {\n    \"raised_exception\": false,\n    \"exception_traceback\": null,\n    \"exception_message\": null\n  },\n  \"meta\": {},\n  \"success\": true\n}"
     },
     "metadata": {}
    }
   ],
   "execution_count": null
  },
  {
   "cell_type": "code",
   "metadata": {
    "ExecuteTime": {
     "end_time": "2021-10-07T21:01:43.849361Z",
     "start_time": "2021-10-07T21:01:43.830195Z"
    },
    "cell_id": "00018-53d40c68-2a71-4834-9fa5-6651ee74a390",
    "deepnote_to_be_reexecuted": false,
    "execution_millis": 18,
    "execution_start": 1634116350191,
    "source_hash": "30577458",
    "deepnote_cell_type": "code"
   },
   "source": "\nvalidator.expect_column_max_to_be_between(column='Age', max_value=70, min_value=57)",
   "outputs": [
    {
     "data": {
      "text/plain": "Calculating Metrics:   0%|          | 0/3 [00:00<?, ?it/s]",
      "application/vnd.jupyter.widget-view+json": {
       "version_major": 2,
       "version_minor": 0,
       "model_id": "9d23fa662829411faa79c4e6df3dd32b"
      }
     },
     "metadata": {},
     "output_type": "display_data"
    },
    {
     "output_type": "execute_result",
     "execution_count": 14,
     "data": {
      "text/plain": "{\n  \"result\": {\n    \"observed_value\": 61\n  },\n  \"exception_info\": {\n    \"raised_exception\": false,\n    \"exception_traceback\": null,\n    \"exception_message\": null\n  },\n  \"meta\": {},\n  \"success\": true\n}"
     },
     "metadata": {}
    }
   ],
   "execution_count": null
  },
  {
   "cell_type": "code",
   "metadata": {
    "ExecuteTime": {
     "end_time": "2021-10-07T21:01:43.870046Z",
     "start_time": "2021-10-07T21:01:43.850362Z"
    },
    "cell_id": "00019-385c5fd5-f0ed-4b89-a412-d4aa3c0ee496",
    "deepnote_to_be_reexecuted": false,
    "execution_millis": 35,
    "execution_start": 1634116355137,
    "source_hash": "d29d76d6",
    "deepnote_cell_type": "code"
   },
   "source": "validator.expect_column_mean_to_be_between(column='Age', max_value=40, min_value=30)",
   "outputs": [
    {
     "data": {
      "text/plain": "Calculating Metrics:   0%|          | 0/3 [00:00<?, ?it/s]",
      "application/vnd.jupyter.widget-view+json": {
       "version_major": 2,
       "version_minor": 0,
       "model_id": "23987b88176d4e18a14bb5ab6b11fc29"
      }
     },
     "metadata": {},
     "output_type": "display_data"
    },
    {
     "output_type": "execute_result",
     "execution_count": 15,
     "data": {
      "text/plain": "{\n  \"result\": {\n    \"observed_value\": 36.05081967213115\n  },\n  \"exception_info\": {\n    \"raised_exception\": false,\n    \"exception_traceback\": null,\n    \"exception_message\": null\n  },\n  \"meta\": {},\n  \"success\": true\n}"
     },
     "metadata": {}
    }
   ],
   "execution_count": null
  },
  {
   "cell_type": "code",
   "metadata": {
    "ExecuteTime": {
     "end_time": "2021-10-07T21:01:43.895213Z",
     "start_time": "2021-10-07T21:01:43.870839Z"
    },
    "cell_id": "00023-e6668ec5-815b-44b6-8f0b-a3351cd945bc",
    "deepnote_to_be_reexecuted": false,
    "execution_millis": 48,
    "execution_start": 1634116360464,
    "source_hash": "8368096",
    "deepnote_cell_type": "code"
   },
   "source": "validator.expect_column_values_to_not_be_null(column='Age')",
   "outputs": [
    {
     "data": {
      "text/plain": "Calculating Metrics:   0%|          | 0/6 [00:00<?, ?it/s]",
      "application/vnd.jupyter.widget-view+json": {
       "version_major": 2,
       "version_minor": 0,
       "model_id": "7632e62b79094a0dbae4d1218721f548"
      }
     },
     "metadata": {},
     "output_type": "display_data"
    },
    {
     "output_type": "execute_result",
     "execution_count": 16,
     "data": {
      "text/plain": "{\n  \"result\": {\n    \"element_count\": 610,\n    \"unexpected_count\": 0,\n    \"unexpected_percent\": 0.0,\n    \"partial_unexpected_list\": []\n  },\n  \"exception_info\": {\n    \"raised_exception\": false,\n    \"exception_traceback\": null,\n    \"exception_message\": null\n  },\n  \"meta\": {},\n  \"success\": true\n}"
     },
     "metadata": {}
    }
   ],
   "execution_count": null
  },
  {
   "cell_type": "code",
   "metadata": {
    "ExecuteTime": {
     "end_time": "2021-10-07T21:01:43.901410Z",
     "start_time": "2021-10-07T21:01:43.895967Z"
    },
    "cell_id": "00025-3b572ced-67bd-4bb9-bf59-3a24a5a66b86",
    "deepnote_to_be_reexecuted": false,
    "execution_millis": 13,
    "execution_start": 1634116366416,
    "source_hash": "5b528787",
    "deepnote_cell_type": "code"
   },
   "source": "validator.expect_column_values_to_be_in_type_list(column='Age', type_list=['INTEGER', 'integer', 'int', 'int_', 'int8', 'int16', 'int32', 'int64', 'uint8', 'uint16', 'uint32', 'uint64', 'INT', 'INTEGER', 'INT64', 'TINYINT', 'BYTEINT', 'SMALLINT', 'BIGINT', 'IntegerType', 'LongType'])",
   "outputs": [
    {
     "output_type": "execute_result",
     "execution_count": 17,
     "data": {
      "text/plain": "{\n  \"result\": {\n    \"observed_value\": \"int64\"\n  },\n  \"exception_info\": {\n    \"raised_exception\": false,\n    \"exception_traceback\": null,\n    \"exception_message\": null\n  },\n  \"meta\": {},\n  \"success\": true\n}"
     },
     "metadata": {}
    }
   ],
   "execution_count": null
  },
  {
   "cell_type": "markdown",
   "source": "#### `Area Income`",
   "metadata": {
    "cell_id": "00026-5184d599-e2f9-454e-a9f6-9f98e0ac43ee",
    "deepnote_cell_type": "markdown"
   }
  },
  {
   "cell_type": "code",
   "metadata": {
    "ExecuteTime": {
     "end_time": "2021-10-07T21:01:43.907152Z",
     "start_time": "2021-10-07T21:01:43.902356Z"
    },
    "cell_id": "00024-0eabd10e-2b13-4d21-b7f9-cfd9259672ba",
    "deepnote_to_be_reexecuted": false,
    "execution_millis": 132,
    "execution_start": 1634116370916,
    "source_hash": "1917a650",
    "tags": [],
    "deepnote_cell_type": "code"
   },
   "source": "validator.active_batch.data.dataframe['Area Income'].describe()",
   "outputs": [
    {
     "output_type": "execute_result",
     "execution_count": 18,
     "data": {
      "text/plain": "count    610.000000  \nmean     55365.620951\nstd      12992.334779\nmin      14548.060000\n25%      47688.815000\n50%      57532.600000\n75%      65101.792500\nmax      79484.800000\nName: Area Income, dtype: float64"
     },
     "metadata": {}
    }
   ],
   "execution_count": null
  },
  {
   "cell_type": "code",
   "metadata": {
    "ExecuteTime": {
     "end_time": "2021-10-07T21:01:43.928129Z",
     "start_time": "2021-10-07T21:01:43.908003Z"
    },
    "cell_id": "00027-5463e33f-b852-4d1e-bc44-a53e2b6eb9aa",
    "deepnote_to_be_reexecuted": false,
    "execution_millis": 35,
    "execution_start": 1634116375492,
    "source_hash": "f9feacc9",
    "deepnote_cell_type": "code"
   },
   "source": "validator.expect_column_min_to_be_between(column='Area Income', max_value=15000, min_value=12000)",
   "outputs": [
    {
     "data": {
      "text/plain": "Calculating Metrics:   0%|          | 0/3 [00:00<?, ?it/s]",
      "application/vnd.jupyter.widget-view+json": {
       "version_major": 2,
       "version_minor": 0,
       "model_id": "3b7d519c79dd47fba4712cb6ddc0a104"
      }
     },
     "metadata": {},
     "output_type": "display_data"
    },
    {
     "output_type": "execute_result",
     "execution_count": 19,
     "data": {
      "text/plain": "{\n  \"result\": {\n    \"observed_value\": 14548.06\n  },\n  \"exception_info\": {\n    \"raised_exception\": false,\n    \"exception_traceback\": null,\n    \"exception_message\": null\n  },\n  \"meta\": {},\n  \"success\": true\n}"
     },
     "metadata": {}
    }
   ],
   "execution_count": null
  },
  {
   "cell_type": "code",
   "metadata": {
    "ExecuteTime": {
     "end_time": "2021-10-07T21:01:43.948529Z",
     "start_time": "2021-10-07T21:01:43.929006Z"
    },
    "cell_id": "00028-30dd8eee-7a3d-4025-8771-5ae16ec1b921",
    "deepnote_to_be_reexecuted": false,
    "execution_millis": 72,
    "execution_start": 1634116381301,
    "source_hash": "d0371464",
    "deepnote_cell_type": "code"
   },
   "source": "validator.expect_column_max_to_be_between(column='Area Income', max_value=80000, min_value=70000)",
   "outputs": [
    {
     "data": {
      "text/plain": "Calculating Metrics:   0%|          | 0/3 [00:00<?, ?it/s]",
      "application/vnd.jupyter.widget-view+json": {
       "version_major": 2,
       "version_minor": 0,
       "model_id": "c26c4c7849ce447ca8530ffd095cfc15"
      }
     },
     "metadata": {},
     "output_type": "display_data"
    },
    {
     "output_type": "execute_result",
     "execution_count": 20,
     "data": {
      "text/plain": "{\n  \"result\": {\n    \"observed_value\": 79484.8\n  },\n  \"exception_info\": {\n    \"raised_exception\": false,\n    \"exception_traceback\": null,\n    \"exception_message\": null\n  },\n  \"meta\": {},\n  \"success\": true\n}"
     },
     "metadata": {}
    }
   ],
   "execution_count": null
  },
  {
   "cell_type": "code",
   "metadata": {
    "ExecuteTime": {
     "end_time": "2021-10-07T21:01:43.969822Z",
     "start_time": "2021-10-07T21:01:43.949363Z"
    },
    "cell_id": "00029-a373c1c3-10c5-4be2-b084-6f5ecb2a75bc",
    "deepnote_to_be_reexecuted": false,
    "execution_millis": 63,
    "execution_start": 1634116386320,
    "source_hash": "8cfd955c",
    "deepnote_cell_type": "code"
   },
   "source": "validator.expect_column_mean_to_be_between(column='Area Income', max_value=65000, min_value=54000)",
   "outputs": [
    {
     "data": {
      "text/plain": "Calculating Metrics:   0%|          | 0/3 [00:00<?, ?it/s]",
      "application/vnd.jupyter.widget-view+json": {
       "version_major": 2,
       "version_minor": 0,
       "model_id": "168ea428faab47ad886fbdcbfd8d5d38"
      }
     },
     "metadata": {},
     "output_type": "display_data"
    },
    {
     "output_type": "execute_result",
     "execution_count": 21,
     "data": {
      "text/plain": "{\n  \"result\": {\n    \"observed_value\": 55365.62095081966\n  },\n  \"exception_info\": {\n    \"raised_exception\": false,\n    \"exception_traceback\": null,\n    \"exception_message\": null\n  },\n  \"meta\": {},\n  \"success\": true\n}"
     },
     "metadata": {}
    }
   ],
   "execution_count": null
  },
  {
   "cell_type": "code",
   "metadata": {
    "ExecuteTime": {
     "end_time": "2021-10-07T21:01:43.994167Z",
     "start_time": "2021-10-07T21:01:43.970702Z"
    },
    "cell_id": "00032-4a9c7b47-c19b-4dcf-a765-6f9025f9326b",
    "deepnote_to_be_reexecuted": false,
    "execution_millis": 56,
    "execution_start": 1634116390867,
    "source_hash": "49c45d8f",
    "deepnote_cell_type": "code"
   },
   "source": "validator.expect_column_values_to_not_be_null(column='Area Income')",
   "outputs": [
    {
     "data": {
      "text/plain": "Calculating Metrics:   0%|          | 0/6 [00:00<?, ?it/s]",
      "application/vnd.jupyter.widget-view+json": {
       "version_major": 2,
       "version_minor": 0,
       "model_id": "4fb40052419d4edeba6bfa146ba27777"
      }
     },
     "metadata": {},
     "output_type": "display_data"
    },
    {
     "output_type": "execute_result",
     "execution_count": 22,
     "data": {
      "text/plain": "{\n  \"result\": {\n    \"element_count\": 610,\n    \"unexpected_count\": 0,\n    \"unexpected_percent\": 0.0,\n    \"partial_unexpected_list\": []\n  },\n  \"exception_info\": {\n    \"raised_exception\": false,\n    \"exception_traceback\": null,\n    \"exception_message\": null\n  },\n  \"meta\": {},\n  \"success\": true\n}"
     },
     "metadata": {}
    }
   ],
   "execution_count": null
  },
  {
   "cell_type": "code",
   "metadata": {
    "ExecuteTime": {
     "end_time": "2021-10-07T21:01:43.999466Z",
     "start_time": "2021-10-07T21:01:43.994972Z"
    },
    "cell_id": "00034-a25d60c7-ffc7-451f-b991-aa762c1dcf65",
    "deepnote_to_be_reexecuted": false,
    "execution_millis": 9,
    "execution_start": 1634116397719,
    "source_hash": "cc29bae6",
    "deepnote_cell_type": "code"
   },
   "source": "validator.expect_column_values_to_be_in_type_list(column='Area Income', type_list=['FLOAT', 'FLOAT4', 'FLOAT8', 'FLOAT64', 'DOUBLE', 'DOUBLE_PRECISION', 'NUMERIC', 'FloatType', 'DoubleType', 'float_', 'float16', 'float32', 'float64', 'number', 'DECIMAL', 'REAL'])",
   "outputs": [
    {
     "output_type": "execute_result",
     "execution_count": 23,
     "data": {
      "text/plain": "{\n  \"result\": {\n    \"observed_value\": \"float64\"\n  },\n  \"exception_info\": {\n    \"raised_exception\": false,\n    \"exception_traceback\": null,\n    \"exception_message\": null\n  },\n  \"meta\": {},\n  \"success\": true\n}"
     },
     "metadata": {}
    }
   ],
   "execution_count": null
  },
  {
   "cell_type": "markdown",
   "source": "#### `Daily Internet Usage`",
   "metadata": {
    "cell_id": "00035-24b826c0-a2e2-4385-8a0e-b6f228b626d3",
    "deepnote_cell_type": "markdown"
   }
  },
  {
   "cell_type": "code",
   "metadata": {
    "ExecuteTime": {
     "end_time": "2021-10-07T21:01:44.019905Z",
     "start_time": "2021-10-07T21:01:44.000410Z"
    },
    "cell_id": "00036-0853f172-4376-4c69-8d4a-e0c5de42f1ca",
    "deepnote_to_be_reexecuted": false,
    "execution_millis": 71,
    "execution_start": 1634116402675,
    "source_hash": "a3280fa7",
    "deepnote_cell_type": "code"
   },
   "source": "validator.expect_column_min_to_be_between(column='Daily Internet Usage', max_value=110, min_value=95)",
   "outputs": [
    {
     "data": {
      "text/plain": "Calculating Metrics:   0%|          | 0/3 [00:00<?, ?it/s]",
      "application/vnd.jupyter.widget-view+json": {
       "version_major": 2,
       "version_minor": 0,
       "model_id": "111aa2ddf05c47e18dcff0f3597c27aa"
      }
     },
     "metadata": {},
     "output_type": "display_data"
    },
    {
     "output_type": "execute_result",
     "execution_count": 24,
     "data": {
      "text/plain": "{\n  \"result\": {\n    \"observed_value\": 105.0\n  },\n  \"exception_info\": {\n    \"raised_exception\": false,\n    \"exception_traceback\": null,\n    \"exception_message\": null\n  },\n  \"meta\": {},\n  \"success\": true\n}"
     },
     "metadata": {}
    }
   ],
   "execution_count": null
  },
  {
   "cell_type": "code",
   "metadata": {
    "ExecuteTime": {
     "end_time": "2021-10-07T21:01:44.039599Z",
     "start_time": "2021-10-07T21:01:44.020601Z"
    },
    "cell_id": "00037-9110f47d-9522-4fb5-8c8a-1b6b6acea785",
    "deepnote_to_be_reexecuted": false,
    "execution_millis": 30,
    "execution_start": 1634116407725,
    "source_hash": "285abc24",
    "deepnote_cell_type": "code"
   },
   "source": "\nvalidator.expect_column_max_to_be_between(column='Daily Internet Usage', max_value=270, min_value=250)",
   "outputs": [
    {
     "data": {
      "text/plain": "Calculating Metrics:   0%|          | 0/3 [00:00<?, ?it/s]",
      "application/vnd.jupyter.widget-view+json": {
       "version_major": 2,
       "version_minor": 0,
       "model_id": "79d6554bf4fa4e2bac134ab4b72e5ca9"
      }
     },
     "metadata": {},
     "output_type": "display_data"
    },
    {
     "output_type": "execute_result",
     "execution_count": 25,
     "data": {
      "text/plain": "{\n  \"result\": {\n    \"observed_value\": 269.96\n  },\n  \"exception_info\": {\n    \"raised_exception\": false,\n    \"exception_traceback\": null,\n    \"exception_message\": null\n  },\n  \"meta\": {},\n  \"success\": true\n}"
     },
     "metadata": {}
    }
   ],
   "execution_count": null
  },
  {
   "cell_type": "code",
   "metadata": {
    "ExecuteTime": {
     "end_time": "2021-10-07T21:01:44.068282Z",
     "start_time": "2021-10-07T21:01:44.040966Z"
    },
    "cell_id": "00038-d43a16e4-8993-4e78-bc02-a610ea5afbba",
    "deepnote_to_be_reexecuted": false,
    "execution_millis": 86,
    "execution_start": 1634116423956,
    "source_hash": "7b328a94",
    "deepnote_cell_type": "code"
   },
   "source": "validator.expect_column_mean_to_be_between(column='Daily Internet Usage', max_value=185, min_value=170)",
   "outputs": [
    {
     "data": {
      "text/plain": "Calculating Metrics:   0%|          | 0/3 [00:00<?, ?it/s]",
      "application/vnd.jupyter.widget-view+json": {
       "version_major": 2,
       "version_minor": 0,
       "model_id": "a2e4f54e8bf3479a9afbf3335e985cf1"
      }
     },
     "metadata": {},
     "output_type": "display_data"
    },
    {
     "output_type": "execute_result",
     "execution_count": 26,
     "data": {
      "text/plain": "{\n  \"result\": {\n    \"observed_value\": 179.4397868852459\n  },\n  \"exception_info\": {\n    \"raised_exception\": false,\n    \"exception_traceback\": null,\n    \"exception_message\": null\n  },\n  \"meta\": {},\n  \"success\": true\n}"
     },
     "metadata": {}
    }
   ],
   "execution_count": null
  },
  {
   "cell_type": "code",
   "metadata": {
    "ExecuteTime": {
     "end_time": "2021-10-07T21:01:44.103312Z",
     "start_time": "2021-10-07T21:01:44.069345Z"
    },
    "cell_id": "00041-9d0de7dc-d3cf-43ed-a214-8723b54bfcaf",
    "deepnote_to_be_reexecuted": false,
    "execution_millis": 64,
    "execution_start": 1634116428128,
    "source_hash": "53a9889a",
    "deepnote_cell_type": "code"
   },
   "source": "\nvalidator.expect_column_values_to_not_be_null(column='Daily Internet Usage')",
   "outputs": [
    {
     "data": {
      "text/plain": "Calculating Metrics:   0%|          | 0/6 [00:00<?, ?it/s]",
      "application/vnd.jupyter.widget-view+json": {
       "version_major": 2,
       "version_minor": 0,
       "model_id": "0d87fe66c71e41c2a1243d830f8afa2c"
      }
     },
     "metadata": {},
     "output_type": "display_data"
    },
    {
     "output_type": "execute_result",
     "execution_count": 27,
     "data": {
      "text/plain": "{\n  \"result\": {\n    \"element_count\": 610,\n    \"unexpected_count\": 0,\n    \"unexpected_percent\": 0.0,\n    \"partial_unexpected_list\": []\n  },\n  \"exception_info\": {\n    \"raised_exception\": false,\n    \"exception_traceback\": null,\n    \"exception_message\": null\n  },\n  \"meta\": {},\n  \"success\": true\n}"
     },
     "metadata": {}
    }
   ],
   "execution_count": null
  },
  {
   "cell_type": "code",
   "metadata": {
    "ExecuteTime": {
     "end_time": "2021-10-07T21:01:44.109982Z",
     "start_time": "2021-10-07T21:01:44.104491Z"
    },
    "cell_id": "00043-edc7d4db-c534-4ebe-95ee-b1143f0e91c3",
    "deepnote_to_be_reexecuted": false,
    "execution_millis": 25,
    "execution_start": 1634116433476,
    "source_hash": "cda7d04d",
    "deepnote_cell_type": "code"
   },
   "source": "validator.expect_column_values_to_be_in_type_list(column='Daily Internet Usage', type_list=['FLOAT', 'FLOAT4', 'FLOAT8', 'FLOAT64', 'DOUBLE', 'DOUBLE_PRECISION', 'NUMERIC', 'FloatType', 'DoubleType', 'float_', 'float16', 'float32', 'float64', 'number', 'DECIMAL', 'REAL'])",
   "outputs": [
    {
     "output_type": "execute_result",
     "execution_count": 28,
     "data": {
      "text/plain": "{\n  \"result\": {\n    \"observed_value\": \"float64\"\n  },\n  \"exception_info\": {\n    \"raised_exception\": false,\n    \"exception_traceback\": null,\n    \"exception_message\": null\n  },\n  \"meta\": {},\n  \"success\": true\n}"
     },
     "metadata": {}
    }
   ],
   "execution_count": null
  },
  {
   "cell_type": "markdown",
   "source": "#### `Ad Topic Line`",
   "metadata": {
    "cell_id": "00044-d20ec7cf-5bb7-4956-b5c6-80d94d570353",
    "deepnote_cell_type": "markdown"
   }
  },
  {
   "cell_type": "code",
   "metadata": {
    "ExecuteTime": {
     "end_time": "2021-10-07T21:01:44.135337Z",
     "start_time": "2021-10-07T21:01:44.112058Z"
    },
    "cell_id": "00045-3726d70b-8e66-45cc-9bf3-8878f75a9aae",
    "deepnote_to_be_reexecuted": false,
    "execution_millis": 38,
    "execution_start": 1634116437404,
    "source_hash": "25ad8dbf",
    "deepnote_cell_type": "code"
   },
   "source": "validator.expect_column_values_to_not_be_null(column='Ad Topic Line')",
   "outputs": [
    {
     "data": {
      "text/plain": "Calculating Metrics:   0%|          | 0/6 [00:00<?, ?it/s]",
      "application/vnd.jupyter.widget-view+json": {
       "version_major": 2,
       "version_minor": 0,
       "model_id": "bbd41d3996994e22a2569f1594f1c993"
      }
     },
     "metadata": {},
     "output_type": "display_data"
    },
    {
     "output_type": "execute_result",
     "execution_count": 29,
     "data": {
      "text/plain": "{\n  \"result\": {\n    \"element_count\": 610,\n    \"unexpected_count\": 0,\n    \"unexpected_percent\": 0.0,\n    \"partial_unexpected_list\": []\n  },\n  \"exception_info\": {\n    \"raised_exception\": false,\n    \"exception_traceback\": null,\n    \"exception_message\": null\n  },\n  \"meta\": {},\n  \"success\": true\n}"
     },
     "metadata": {}
    }
   ],
   "execution_count": null
  },
  {
   "cell_type": "code",
   "metadata": {
    "ExecuteTime": {
     "end_time": "2021-10-07T21:01:44.163477Z",
     "start_time": "2021-10-07T21:01:44.136147Z"
    },
    "cell_id": "00047-6e0c983d-dce1-4b2f-b947-4f8d91b38e67",
    "deepnote_to_be_reexecuted": false,
    "execution_millis": 111,
    "execution_start": 1633637834866,
    "source_hash": "13424311",
    "deepnote_cell_type": "code"
   },
   "source": "validator.expect_column_values_to_be_in_type_list(column='Ad Topic Line', type_list=['CHAR', 'NCHAR', 'VARCHAR', 'NVARCHAR', 'TEXT', 'NTEXT', 'STRING', 'StringType', 'string', 'str', 'object', \"dtype('O')\"])",
   "execution_count": null,
   "outputs": [
    {
     "data": {
      "application/vnd.jupyter.widget-view+json": {
       "model_id": "fde561649299469da90775746eb425da",
       "version_major": 2,
       "version_minor": 0
      },
      "text/plain": "Calculating Metrics:   0%|          | 0/8 [00:00<?, ?it/s]"
     },
     "metadata": {},
     "output_type": "display_data"
    },
    {
     "data": {
      "text/plain": "{\n  \"result\": {\n    \"element_count\": 610,\n    \"unexpected_count\": 0,\n    \"unexpected_percent\": 0.0,\n    \"partial_unexpected_list\": [],\n    \"missing_count\": 0,\n    \"missing_percent\": 0.0,\n    \"unexpected_percent_total\": 0.0,\n    \"unexpected_percent_nonmissing\": 0.0\n  },\n  \"meta\": {},\n  \"success\": true,\n  \"exception_info\": {\n    \"raised_exception\": false,\n    \"exception_traceback\": null,\n    \"exception_message\": null\n  }\n}"
     },
     "execution_count": 29,
     "metadata": {},
     "output_type": "execute_result"
    }
   ]
  },
  {
   "cell_type": "markdown",
   "source": "#### `City`",
   "metadata": {
    "cell_id": "00048-2d4a944a-0b19-46e3-abd2-e34cca085368",
    "deepnote_cell_type": "markdown"
   }
  },
  {
   "cell_type": "code",
   "metadata": {
    "ExecuteTime": {
     "end_time": "2021-10-07T21:01:44.187838Z",
     "start_time": "2021-10-07T21:01:44.164338Z"
    },
    "cell_id": "00049-3a23789e-607e-4ecb-8351-8da0736007b8",
    "deepnote_to_be_reexecuted": false,
    "execution_millis": 90,
    "execution_start": 1633637835600,
    "source_hash": "d1e21fa3",
    "deepnote_cell_type": "code"
   },
   "source": "validator.expect_column_values_to_not_be_null(column='City')",
   "execution_count": null,
   "outputs": [
    {
     "data": {
      "application/vnd.jupyter.widget-view+json": {
       "model_id": "ce9f7bac97f448c4a2c146c9764dda12",
       "version_major": 2,
       "version_minor": 0
      },
      "text/plain": "Calculating Metrics:   0%|          | 0/6 [00:00<?, ?it/s]"
     },
     "metadata": {},
     "output_type": "display_data"
    },
    {
     "data": {
      "text/plain": "{\n  \"result\": {\n    \"element_count\": 610,\n    \"unexpected_count\": 0,\n    \"unexpected_percent\": 0.0,\n    \"partial_unexpected_list\": []\n  },\n  \"meta\": {},\n  \"success\": true,\n  \"exception_info\": {\n    \"raised_exception\": false,\n    \"exception_traceback\": null,\n    \"exception_message\": null\n  }\n}"
     },
     "execution_count": 30,
     "metadata": {},
     "output_type": "execute_result"
    }
   ]
  },
  {
   "cell_type": "code",
   "metadata": {
    "ExecuteTime": {
     "end_time": "2021-10-07T21:01:44.213215Z",
     "start_time": "2021-10-07T21:01:44.188644Z"
    },
    "cell_id": "00050-7f8cca05-7044-43d5-b46a-dc04fb5d0728",
    "deepnote_to_be_reexecuted": false,
    "execution_millis": 92,
    "execution_start": 1633637835887,
    "source_hash": "dc705f44",
    "allow_embed": "code",
    "deepnote_cell_type": "code"
   },
   "source": "validator.expect_column_proportion_of_unique_values_to_be_between(column='City', max_value=0.999, min_value=0.9)",
   "execution_count": null,
   "outputs": [
    {
     "data": {
      "application/vnd.jupyter.widget-view+json": {
       "model_id": "55cf220151ec44ddbad418e170599f69",
       "version_major": 2,
       "version_minor": 0
      },
      "text/plain": "Calculating Metrics:   0%|          | 0/7 [00:00<?, ?it/s]"
     },
     "metadata": {},
     "output_type": "display_data"
    },
    {
     "data": {
      "text/plain": "{\n  \"result\": {\n    \"observed_value\": 0.9819672131147541\n  },\n  \"meta\": {},\n  \"success\": true,\n  \"exception_info\": {\n    \"raised_exception\": false,\n    \"exception_traceback\": null,\n    \"exception_message\": null\n  }\n}"
     },
     "execution_count": 31,
     "metadata": {},
     "output_type": "execute_result"
    }
   ]
  },
  {
   "cell_type": "code",
   "metadata": {
    "ExecuteTime": {
     "end_time": "2021-10-07T21:01:44.243338Z",
     "start_time": "2021-10-07T21:01:44.214080Z"
    },
    "cell_id": "00051-94d7e218-13ce-478a-be0e-e67007442441",
    "deepnote_to_be_reexecuted": false,
    "execution_millis": 98,
    "execution_start": 1633637836171,
    "source_hash": "3cce96fb",
    "deepnote_cell_type": "code"
   },
   "source": "validator.expect_column_values_to_be_in_type_list(column='City', type_list=['CHAR', 'NCHAR', 'VARCHAR', 'NVARCHAR', 'TEXT', 'NTEXT', 'STRING', 'StringType', 'string', 'str', 'object', \"dtype('O')\"])",
   "execution_count": null,
   "outputs": [
    {
     "data": {
      "application/vnd.jupyter.widget-view+json": {
       "model_id": "bc72bc3f4081443a956c2677ffe307be",
       "version_major": 2,
       "version_minor": 0
      },
      "text/plain": "Calculating Metrics:   0%|          | 0/8 [00:00<?, ?it/s]"
     },
     "metadata": {},
     "output_type": "display_data"
    },
    {
     "data": {
      "text/plain": "{\n  \"result\": {\n    \"element_count\": 610,\n    \"unexpected_count\": 0,\n    \"unexpected_percent\": 0.0,\n    \"partial_unexpected_list\": [],\n    \"missing_count\": 0,\n    \"missing_percent\": 0.0,\n    \"unexpected_percent_total\": 0.0,\n    \"unexpected_percent_nonmissing\": 0.0\n  },\n  \"meta\": {},\n  \"success\": true,\n  \"exception_info\": {\n    \"raised_exception\": false,\n    \"exception_traceback\": null,\n    \"exception_message\": null\n  }\n}"
     },
     "execution_count": 32,
     "metadata": {},
     "output_type": "execute_result"
    }
   ]
  },
  {
   "cell_type": "markdown",
   "source": "#### `Male`",
   "metadata": {
    "cell_id": "00052-09057f21-488d-4ffb-92cd-b72621b8f6aa",
    "deepnote_cell_type": "markdown"
   }
  },
  {
   "cell_type": "code",
   "metadata": {
    "ExecuteTime": {
     "end_time": "2021-10-07T21:01:44.249046Z",
     "start_time": "2021-10-07T21:01:44.244078Z"
    },
    "cell_id": "00043-29906644-9685-4088-9547-7b1642e967d8",
    "deepnote_to_be_reexecuted": false,
    "execution_millis": 18,
    "execution_start": 1633637836719,
    "source_hash": "9812bbd7",
    "tags": [],
    "deepnote_cell_type": "code"
   },
   "source": "validator.active_batch.data.dataframe['Male'].describe()",
   "execution_count": null,
   "outputs": [
    {
     "data": {
      "text/plain": "count    610.000000\nmean     0.485246  \nstd      0.500192  \nmin      0.000000  \n25%      0.000000  \n50%      0.000000  \n75%      1.000000  \nmax      1.000000  \nName: Male, dtype: float64"
     },
     "execution_count": 33,
     "metadata": {},
     "output_type": "execute_result"
    }
   ]
  },
  {
   "cell_type": "code",
   "metadata": {
    "ExecuteTime": {
     "end_time": "2021-10-07T21:01:44.279029Z",
     "start_time": "2021-10-07T21:01:44.249888Z"
    },
    "cell_id": "00058-f16bbab1-4fae-444d-84d1-2a74037aa9e7",
    "deepnote_to_be_reexecuted": false,
    "execution_millis": 70,
    "execution_start": 1633637837137,
    "source_hash": "2c734854",
    "deepnote_cell_type": "code"
   },
   "source": "\nvalidator.expect_column_values_to_be_in_set(column='Male', value_set=[0, 1])",
   "execution_count": null,
   "outputs": [
    {
     "data": {
      "application/vnd.jupyter.widget-view+json": {
       "model_id": "4102d4efbe974d1883c979e10b001291",
       "version_major": 2,
       "version_minor": 0
      },
      "text/plain": "Calculating Metrics:   0%|          | 0/8 [00:00<?, ?it/s]"
     },
     "metadata": {},
     "output_type": "display_data"
    },
    {
     "data": {
      "text/plain": "{\n  \"result\": {\n    \"element_count\": 610,\n    \"unexpected_count\": 0,\n    \"unexpected_percent\": 0.0,\n    \"partial_unexpected_list\": [],\n    \"missing_count\": 0,\n    \"missing_percent\": 0.0,\n    \"unexpected_percent_total\": 0.0,\n    \"unexpected_percent_nonmissing\": 0.0\n  },\n  \"meta\": {},\n  \"success\": true,\n  \"exception_info\": {\n    \"raised_exception\": false,\n    \"exception_traceback\": null,\n    \"exception_message\": null\n  }\n}"
     },
     "execution_count": 34,
     "metadata": {},
     "output_type": "execute_result"
    }
   ]
  },
  {
   "cell_type": "code",
   "metadata": {
    "ExecuteTime": {
     "end_time": "2021-10-07T21:01:44.298461Z",
     "start_time": "2021-10-07T21:01:44.279915Z"
    },
    "cell_id": "00045-65da9152-92b0-46aa-8fb1-deae608832b7",
    "deepnote_to_be_reexecuted": false,
    "execution_millis": 75,
    "execution_start": 1633637837414,
    "source_hash": "fb6e9ff1",
    "tags": [],
    "deepnote_cell_type": "code"
   },
   "source": "validator.expect_column_mean_to_be_between(column='Male', max_value=0.55, min_value=0.45)",
   "execution_count": null,
   "outputs": [
    {
     "data": {
      "application/vnd.jupyter.widget-view+json": {
       "model_id": "b7ac99c5c9534270b3fcca534b99044c",
       "version_major": 2,
       "version_minor": 0
      },
      "text/plain": "Calculating Metrics:   0%|          | 0/3 [00:00<?, ?it/s]"
     },
     "metadata": {},
     "output_type": "display_data"
    },
    {
     "data": {
      "text/plain": "{\n  \"result\": {\n    \"observed_value\": 0.4852459016393443\n  },\n  \"meta\": {},\n  \"success\": true,\n  \"exception_info\": {\n    \"raised_exception\": false,\n    \"exception_traceback\": null,\n    \"exception_message\": null\n  }\n}"
     },
     "execution_count": 35,
     "metadata": {},
     "output_type": "execute_result"
    }
   ]
  },
  {
   "cell_type": "code",
   "metadata": {
    "ExecuteTime": {
     "end_time": "2021-10-07T21:01:44.322444Z",
     "start_time": "2021-10-07T21:01:44.299312Z"
    },
    "cell_id": "00059-a090e74c-bd6f-4ea6-b726-acb377f1b6fd",
    "deepnote_to_be_reexecuted": false,
    "execution_millis": 91,
    "execution_start": 1633637838770,
    "source_hash": "6208844f",
    "deepnote_cell_type": "code"
   },
   "source": "\nvalidator.expect_column_values_to_not_be_null(column='Male')",
   "execution_count": null,
   "outputs": [
    {
     "data": {
      "application/vnd.jupyter.widget-view+json": {
       "model_id": "047a69f6c87f4d6ea97b69b22df2b7d7",
       "version_major": 2,
       "version_minor": 0
      },
      "text/plain": "Calculating Metrics:   0%|          | 0/6 [00:00<?, ?it/s]"
     },
     "metadata": {},
     "output_type": "display_data"
    },
    {
     "data": {
      "text/plain": "{\n  \"result\": {\n    \"element_count\": 610,\n    \"unexpected_count\": 0,\n    \"unexpected_percent\": 0.0,\n    \"partial_unexpected_list\": []\n  },\n  \"meta\": {},\n  \"success\": true,\n  \"exception_info\": {\n    \"raised_exception\": false,\n    \"exception_traceback\": null,\n    \"exception_message\": null\n  }\n}"
     },
     "execution_count": 36,
     "metadata": {},
     "output_type": "execute_result"
    }
   ]
  },
  {
   "cell_type": "code",
   "metadata": {
    "ExecuteTime": {
     "end_time": "2021-10-07T21:01:44.327795Z",
     "start_time": "2021-10-07T21:01:44.323135Z"
    },
    "cell_id": "00061-e2126b53-a864-4697-8e49-311bfb7483c3",
    "deepnote_to_be_reexecuted": false,
    "execution_millis": 22,
    "execution_start": 1633637839004,
    "source_hash": "78780f19",
    "deepnote_cell_type": "code"
   },
   "source": "\nvalidator.expect_column_values_to_be_in_type_list(column='Male', type_list=['INTEGER', 'integer', 'int', 'int_', 'int8', 'int16', 'int32', 'int64', 'uint8', 'uint16', 'uint32', 'uint64', 'INT', 'INTEGER', 'INT64', 'TINYINT', 'BYTEINT', 'SMALLINT', 'BIGINT', 'IntegerType', 'LongType'])",
   "execution_count": null,
   "outputs": [
    {
     "data": {
      "text/plain": "{\n  \"result\": {\n    \"observed_value\": \"int64\"\n  },\n  \"meta\": {},\n  \"success\": true,\n  \"exception_info\": {\n    \"raised_exception\": false,\n    \"exception_traceback\": null,\n    \"exception_message\": null\n  }\n}"
     },
     "execution_count": 37,
     "metadata": {},
     "output_type": "execute_result"
    }
   ]
  },
  {
   "cell_type": "markdown",
   "source": "#### `Country`",
   "metadata": {
    "cell_id": "00062-9d92b0c6-f326-4df8-9550-97725b011865",
    "deepnote_cell_type": "markdown"
   }
  },
  {
   "cell_type": "code",
   "metadata": {
    "ExecuteTime": {
     "end_time": "2021-10-07T21:01:44.352226Z",
     "start_time": "2021-10-07T21:01:44.328572Z"
    },
    "cell_id": "00063-7d419322-3ba5-4a24-a73a-d985cd417a5c",
    "deepnote_to_be_reexecuted": false,
    "execution_millis": 67,
    "execution_start": 1633637841354,
    "source_hash": "980e0b36",
    "deepnote_cell_type": "code"
   },
   "source": "\nvalidator.expect_column_values_to_not_be_null(column='Country')",
   "execution_count": null,
   "outputs": [
    {
     "data": {
      "application/vnd.jupyter.widget-view+json": {
       "model_id": "4279803245454638927d6102a15ffd08",
       "version_major": 2,
       "version_minor": 0
      },
      "text/plain": "Calculating Metrics:   0%|          | 0/6 [00:00<?, ?it/s]"
     },
     "metadata": {},
     "output_type": "display_data"
    },
    {
     "data": {
      "text/plain": "{\n  \"result\": {\n    \"element_count\": 610,\n    \"unexpected_count\": 0,\n    \"unexpected_percent\": 0.0,\n    \"partial_unexpected_list\": []\n  },\n  \"meta\": {},\n  \"success\": true,\n  \"exception_info\": {\n    \"raised_exception\": false,\n    \"exception_traceback\": null,\n    \"exception_message\": null\n  }\n}"
     },
     "execution_count": 38,
     "metadata": {},
     "output_type": "execute_result"
    }
   ]
  },
  {
   "cell_type": "code",
   "metadata": {
    "ExecuteTime": {
     "end_time": "2021-10-07T21:01:44.381904Z",
     "start_time": "2021-10-07T21:01:44.353236Z"
    },
    "cell_id": "00065-fcef4a52-15ab-48cf-a7fd-47c919f34a70",
    "deepnote_to_be_reexecuted": false,
    "execution_millis": 45,
    "execution_start": 1633637843078,
    "source_hash": "19ac0beb",
    "deepnote_cell_type": "code"
   },
   "source": "\nvalidator.expect_column_values_to_be_in_type_list(column='Country', type_list=['CHAR', 'NCHAR', 'VARCHAR', 'NVARCHAR', 'TEXT', 'NTEXT', 'STRING', 'StringType', 'string', 'str', 'object', \"dtype('O')\"])",
   "execution_count": null,
   "outputs": [
    {
     "data": {
      "application/vnd.jupyter.widget-view+json": {
       "model_id": "deee3238e26c4314b914d73afe247e46",
       "version_major": 2,
       "version_minor": 0
      },
      "text/plain": "Calculating Metrics:   0%|          | 0/8 [00:00<?, ?it/s]"
     },
     "metadata": {},
     "output_type": "display_data"
    },
    {
     "data": {
      "text/plain": "{\n  \"result\": {\n    \"element_count\": 610,\n    \"unexpected_count\": 0,\n    \"unexpected_percent\": 0.0,\n    \"partial_unexpected_list\": [],\n    \"missing_count\": 0,\n    \"missing_percent\": 0.0,\n    \"unexpected_percent_total\": 0.0,\n    \"unexpected_percent_nonmissing\": 0.0\n  },\n  \"meta\": {},\n  \"success\": true,\n  \"exception_info\": {\n    \"raised_exception\": false,\n    \"exception_traceback\": null,\n    \"exception_message\": null\n  }\n}"
     },
     "execution_count": 39,
     "metadata": {},
     "output_type": "execute_result"
    }
   ]
  },
  {
   "cell_type": "markdown",
   "source": "#### `Timestamp`",
   "metadata": {
    "cell_id": "00066-1bfbff9e-9b3e-42d4-b077-1a58f2268dee",
    "deepnote_cell_type": "markdown"
   }
  },
  {
   "cell_type": "code",
   "metadata": {
    "ExecuteTime": {
     "end_time": "2021-10-07T21:01:44.406904Z",
     "start_time": "2021-10-07T21:01:44.382854Z"
    },
    "cell_id": "00067-bbb79ef1-1f5a-4ee3-a5fb-64ce603f7402",
    "deepnote_to_be_reexecuted": false,
    "execution_millis": 53,
    "execution_start": 1633637846350,
    "source_hash": "b578a8a3",
    "deepnote_cell_type": "code"
   },
   "source": "\nvalidator.expect_column_values_to_not_be_null(column='Timestamp')",
   "execution_count": null,
   "outputs": [
    {
     "data": {
      "application/vnd.jupyter.widget-view+json": {
       "model_id": "e886c575a455455990efa344bf84d5f0",
       "version_major": 2,
       "version_minor": 0
      },
      "text/plain": "Calculating Metrics:   0%|          | 0/6 [00:00<?, ?it/s]"
     },
     "metadata": {},
     "output_type": "display_data"
    },
    {
     "data": {
      "text/plain": "{\n  \"result\": {\n    \"element_count\": 610,\n    \"unexpected_count\": 0,\n    \"unexpected_percent\": 0.0,\n    \"partial_unexpected_list\": []\n  },\n  \"meta\": {},\n  \"success\": true,\n  \"exception_info\": {\n    \"raised_exception\": false,\n    \"exception_traceback\": null,\n    \"exception_message\": null\n  }\n}"
     },
     "execution_count": 40,
     "metadata": {},
     "output_type": "execute_result"
    }
   ]
  },
  {
   "cell_type": "code",
   "metadata": {
    "ExecuteTime": {
     "end_time": "2021-10-07T21:01:44.439362Z",
     "start_time": "2021-10-07T21:01:44.407861Z"
    },
    "cell_id": "00069-bc39526a-14bf-4b7d-8eec-9cd018d7fb25",
    "deepnote_to_be_reexecuted": false,
    "execution_millis": 168,
    "execution_start": 1633637846919,
    "source_hash": "a7d02439",
    "deepnote_cell_type": "code"
   },
   "source": "\nvalidator.expect_column_values_to_be_in_type_list(column='Timestamp', type_list=['CHAR', 'NCHAR', 'VARCHAR', 'NVARCHAR', 'TEXT', 'NTEXT', 'STRING', 'StringType', 'string', 'str', 'object', \"dtype('O')\"])",
   "execution_count": null,
   "outputs": [
    {
     "data": {
      "application/vnd.jupyter.widget-view+json": {
       "model_id": "7e9d402a09254d24817636e75f00e9e7",
       "version_major": 2,
       "version_minor": 0
      },
      "text/plain": "Calculating Metrics:   0%|          | 0/8 [00:00<?, ?it/s]"
     },
     "metadata": {},
     "output_type": "display_data"
    },
    {
     "data": {
      "text/plain": "{\n  \"result\": {\n    \"element_count\": 610,\n    \"unexpected_count\": 0,\n    \"unexpected_percent\": 0.0,\n    \"partial_unexpected_list\": [],\n    \"missing_count\": 0,\n    \"missing_percent\": 0.0,\n    \"unexpected_percent_total\": 0.0,\n    \"unexpected_percent_nonmissing\": 0.0\n  },\n  \"meta\": {},\n  \"success\": true,\n  \"exception_info\": {\n    \"raised_exception\": false,\n    \"exception_traceback\": null,\n    \"exception_message\": null\n  }\n}"
     },
     "execution_count": 41,
     "metadata": {},
     "output_type": "execute_result"
    }
   ]
  },
  {
   "cell_type": "markdown",
   "source": "#### `Clicked on Ad`",
   "metadata": {
    "cell_id": "00070-2891f502-d5eb-4a90-a730-76dc2eab2efe",
    "deepnote_cell_type": "markdown"
   }
  },
  {
   "cell_type": "code",
   "metadata": {
    "ExecuteTime": {
     "end_time": "2021-10-07T21:01:44.460360Z",
     "start_time": "2021-10-07T21:01:44.440121Z"
    },
    "cell_id": "00073-5f122c94-b488-4282-880d-c4f4c30a7302",
    "deepnote_to_be_reexecuted": false,
    "execution_millis": 66,
    "execution_start": 1633637848587,
    "source_hash": "662a3af2",
    "deepnote_cell_type": "code"
   },
   "source": "\nvalidator.expect_column_mean_to_be_between(column='Clicked on Ad', max_value=0.55, min_value=0.45)",
   "execution_count": null,
   "outputs": [
    {
     "data": {
      "application/vnd.jupyter.widget-view+json": {
       "model_id": "dda0f3dee93846f297d7d5787c358a9c",
       "version_major": 2,
       "version_minor": 0
      },
      "text/plain": "Calculating Metrics:   0%|          | 0/3 [00:00<?, ?it/s]"
     },
     "metadata": {},
     "output_type": "display_data"
    },
    {
     "data": {
      "text/plain": "{\n  \"result\": {\n    \"observed_value\": 0.4918032786885246\n  },\n  \"meta\": {},\n  \"success\": true,\n  \"exception_info\": {\n    \"raised_exception\": false,\n    \"exception_traceback\": null,\n    \"exception_message\": null\n  }\n}"
     },
     "execution_count": 42,
     "metadata": {},
     "output_type": "execute_result"
    }
   ]
  },
  {
   "cell_type": "code",
   "metadata": {
    "ExecuteTime": {
     "end_time": "2021-10-07T21:01:44.488814Z",
     "start_time": "2021-10-07T21:01:44.461419Z"
    },
    "cell_id": "00076-37a42167-6dfa-4d98-bc30-e176a662e965",
    "deepnote_to_be_reexecuted": false,
    "execution_millis": 106,
    "execution_start": 1633637848885,
    "source_hash": "6a8e8875",
    "deepnote_cell_type": "code"
   },
   "source": "\nvalidator.expect_column_values_to_be_in_set(column='Clicked on Ad', value_set=[0, 1])",
   "execution_count": null,
   "outputs": [
    {
     "data": {
      "application/vnd.jupyter.widget-view+json": {
       "model_id": "57fc0c925693497c94944e5163b983e2",
       "version_major": 2,
       "version_minor": 0
      },
      "text/plain": "Calculating Metrics:   0%|          | 0/8 [00:00<?, ?it/s]"
     },
     "metadata": {},
     "output_type": "display_data"
    },
    {
     "data": {
      "text/plain": "{\n  \"result\": {\n    \"element_count\": 610,\n    \"unexpected_count\": 0,\n    \"unexpected_percent\": 0.0,\n    \"partial_unexpected_list\": [],\n    \"missing_count\": 0,\n    \"missing_percent\": 0.0,\n    \"unexpected_percent_total\": 0.0,\n    \"unexpected_percent_nonmissing\": 0.0\n  },\n  \"meta\": {},\n  \"success\": true,\n  \"exception_info\": {\n    \"raised_exception\": false,\n    \"exception_traceback\": null,\n    \"exception_message\": null\n  }\n}"
     },
     "execution_count": 43,
     "metadata": {},
     "output_type": "execute_result"
    }
   ]
  },
  {
   "cell_type": "code",
   "metadata": {
    "ExecuteTime": {
     "end_time": "2021-10-07T21:01:44.511586Z",
     "start_time": "2021-10-07T21:01:44.489678Z"
    },
    "cell_id": "00077-53155aa1-5329-4386-8b99-e0982ebb326b",
    "deepnote_to_be_reexecuted": false,
    "execution_millis": 119,
    "execution_start": 1633637849207,
    "source_hash": "2162ce0e",
    "deepnote_cell_type": "code"
   },
   "source": "\nvalidator.expect_column_values_to_not_be_null(column='Clicked on Ad')",
   "execution_count": null,
   "outputs": [
    {
     "data": {
      "application/vnd.jupyter.widget-view+json": {
       "model_id": "177f487585a74fc796f7f4c8f609e57e",
       "version_major": 2,
       "version_minor": 0
      },
      "text/plain": "Calculating Metrics:   0%|          | 0/6 [00:00<?, ?it/s]"
     },
     "metadata": {},
     "output_type": "display_data"
    },
    {
     "data": {
      "text/plain": "{\n  \"result\": {\n    \"element_count\": 610,\n    \"unexpected_count\": 0,\n    \"unexpected_percent\": 0.0,\n    \"partial_unexpected_list\": []\n  },\n  \"meta\": {},\n  \"success\": true,\n  \"exception_info\": {\n    \"raised_exception\": false,\n    \"exception_traceback\": null,\n    \"exception_message\": null\n  }\n}"
     },
     "execution_count": 44,
     "metadata": {},
     "output_type": "execute_result"
    }
   ]
  },
  {
   "cell_type": "code",
   "metadata": {
    "ExecuteTime": {
     "end_time": "2021-10-07T21:01:44.517511Z",
     "start_time": "2021-10-07T21:01:44.512399Z"
    },
    "cell_id": "00079-cc422c78-4e27-476c-b5cc-268dc831a908",
    "deepnote_to_be_reexecuted": false,
    "execution_millis": 17,
    "execution_start": 1633637850661,
    "source_hash": "1a6c766f",
    "deepnote_cell_type": "code"
   },
   "source": "\nvalidator.expect_column_values_to_be_in_type_list(column='Clicked on Ad', type_list=['INTEGER', 'integer', 'int', 'int_', 'int8', 'int16', 'int32', 'int64', 'uint8', 'uint16', 'uint32', 'uint64', 'INT', 'INTEGER', 'INT64', 'TINYINT', 'BYTEINT', 'SMALLINT', 'BIGINT', 'IntegerType', 'LongType'])",
   "execution_count": null,
   "outputs": [
    {
     "data": {
      "text/plain": "{\n  \"result\": {\n    \"observed_value\": \"int64\"\n  },\n  \"meta\": {},\n  \"success\": true,\n  \"exception_info\": {\n    \"raised_exception\": false,\n    \"exception_traceback\": null,\n    \"exception_message\": null\n  }\n}"
     },
     "execution_count": 45,
     "metadata": {},
     "output_type": "execute_result"
    }
   ]
  },
  {
   "cell_type": "markdown",
   "source": "## Save & Review Your Expectations\n\nLet's save the expectation suite as a JSON file in the `great_expectations/expectations` directory of your project.\n\nLet's now rebuild your Data Docs, which helps you communicate about your data with both machines and humans.",
   "metadata": {
    "cell_id": "00080-6275e6a6-4298-46db-a4bf-c421d77799c7",
    "deepnote_cell_type": "markdown"
   }
  },
  {
   "cell_type": "code",
   "metadata": {
    "ExecuteTime": {
     "end_time": "2021-10-07T21:01:45.552179Z",
     "start_time": "2021-10-07T21:01:44.518401Z"
    },
    "cell_id": "00081-a2a2dd46-043f-4df1-8303-35d530c2ec89",
    "deepnote_to_be_reexecuted": false,
    "execution_millis": 2653,
    "execution_start": 1634116466769,
    "source_hash": "b6830c36",
    "deepnote_cell_type": "code"
   },
   "source": "print(validator.get_expectation_suite(discard_failed_expectations=False))\nvalidator.save_expectation_suite(discard_failed_expectations=False)\n\ncheckpoint_config = {\n    \"class_name\": \"SimpleCheckpoint\",\n    \"validations\": [\n        {\n            \"batch_request\": batch_request,\n            \"expectation_suite_name\": expectation_suite_name\n        }\n    ]\n}\ncheckpoint = SimpleCheckpoint(\n    f\"_tmp_checkpoint_{expectation_suite_name}\",\n    context,\n    **checkpoint_config\n)\ncheckpoint_result = checkpoint.run()\n\ncontext.build_data_docs()\n\nvalidation_result_identifier = checkpoint_result.list_validation_result_identifiers()[0]\ncontext.open_data_docs(resource_identifier=validation_result_identifier)",
   "outputs": [
    {
     "name": "stdout",
     "text": "2021-10-13T09:14:26+0000 - INFO - \t38 expectation(s) included in expectation_suite.\n{\n  \"expectation_suite_name\": \"first_data.csv.warning\",\n  \"expectations\": [\n    {\n      \"kwargs\": {\n        \"column_list\": [\n          \"Unnamed: 0\",\n          \"Daily Time Spent on Site\",\n          \"Age\",\n          \"Area Income\",\n          \"Daily Internet Usage\",\n          \"Ad Topic Line\",\n          \"City\",\n          \"Male\",\n          \"Country\",\n          \"Timestamp\",\n          \"Clicked on Ad\"\n        ]\n      },\n      \"ge_cloud_id\": null,\n      \"expectation_type\": \"expect_table_columns_to_match_ordered_list\",\n      \"meta\": {}\n    },\n    {\n      \"kwargs\": {\n        \"column\": \"Daily Time Spent on Site\",\n        \"max_value\": 40,\n        \"min_value\": 30\n      },\n      \"ge_cloud_id\": null,\n      \"expectation_type\": \"expect_column_min_to_be_between\",\n      \"meta\": {}\n    },\n    {\n      \"kwargs\": {\n        \"column\": \"Daily Time Spent on Site\",\n        \"max_value\": 100,\n        \"min_value\": 85\n      },\n      \"ge_cloud_id\": null,\n      \"expectation_type\": \"expect_column_max_to_be_between\",\n      \"meta\": {}\n    },\n    {\n      \"kwargs\": {\n        \"column\": \"Daily Time Spent on Site\",\n        \"max_value\": 70,\n        \"min_value\": 55\n      },\n      \"ge_cloud_id\": null,\n      \"expectation_type\": \"expect_column_mean_to_be_between\",\n      \"meta\": {}\n    },\n    {\n      \"kwargs\": {\n        \"column\": \"Daily Time Spent on Site\"\n      },\n      \"ge_cloud_id\": null,\n      \"expectation_type\": \"expect_column_values_to_not_be_null\",\n      \"meta\": {}\n    },\n    {\n      \"kwargs\": {\n        \"column\": \"Daily Time Spent on Site\",\n        \"type_list\": [\n          \"FLOAT\",\n          \"FLOAT4\",\n          \"FLOAT8\",\n          \"FLOAT64\",\n          \"DOUBLE\",\n          \"DOUBLE_PRECISION\",\n          \"NUMERIC\",\n          \"FloatType\",\n          \"DoubleType\",\n          \"float_\",\n          \"float16\",\n          \"float32\",\n          \"float64\",\n          \"number\",\n          \"DECIMAL\",\n          \"REAL\"\n        ]\n      },\n      \"ge_cloud_id\": null,\n      \"expectation_type\": \"expect_column_values_to_be_in_type_list\",\n      \"meta\": {}\n    },\n    {\n      \"kwargs\": {\n        \"column\": \"Age\",\n        \"max_value\": 23,\n        \"min_value\": 15\n      },\n      \"ge_cloud_id\": null,\n      \"expectation_type\": \"expect_column_min_to_be_between\",\n      \"meta\": {}\n    },\n    {\n      \"kwargs\": {\n        \"column\": \"Age\",\n        \"max_value\": 70,\n        \"min_value\": 57\n      },\n      \"ge_cloud_id\": null,\n      \"expectation_type\": \"expect_column_max_to_be_between\",\n      \"meta\": {}\n    },\n    {\n      \"kwargs\": {\n        \"column\": \"Age\",\n        \"max_value\": 40,\n        \"min_value\": 30\n      },\n      \"ge_cloud_id\": null,\n      \"expectation_type\": \"expect_column_mean_to_be_between\",\n      \"meta\": {}\n    },\n    {\n      \"kwargs\": {\n        \"column\": \"Age\"\n      },\n      \"ge_cloud_id\": null,\n      \"expectation_type\": \"expect_column_values_to_not_be_null\",\n      \"meta\": {}\n    },\n    {\n      \"kwargs\": {\n        \"column\": \"Age\",\n        \"type_list\": [\n          \"INTEGER\",\n          \"integer\",\n          \"int\",\n          \"int_\",\n          \"int8\",\n          \"int16\",\n          \"int32\",\n          \"int64\",\n          \"uint8\",\n          \"uint16\",\n          \"uint32\",\n          \"uint64\",\n          \"INT\",\n          \"INTEGER\",\n          \"INT64\",\n          \"TINYINT\",\n          \"BYTEINT\",\n          \"SMALLINT\",\n          \"BIGINT\",\n          \"IntegerType\",\n          \"LongType\"\n        ]\n      },\n      \"ge_cloud_id\": null,\n      \"expectation_type\": \"expect_column_values_to_be_in_type_list\",\n      \"meta\": {}\n    },\n    {\n      \"kwargs\": {\n        \"column\": \"Area Income\",\n        \"max_value\": 15000,\n        \"min_value\": 12000\n      },\n      \"ge_cloud_id\": null,\n      \"expectation_type\": \"expect_column_min_to_be_between\",\n      \"meta\": {}\n    },\n    {\n      \"kwargs\": {\n        \"column\": \"Area Income\",\n        \"max_value\": 80000,\n        \"min_value\": 70000\n      },\n      \"ge_cloud_id\": null,\n      \"expectation_type\": \"expect_column_max_to_be_between\",\n      \"meta\": {}\n    },\n    {\n      \"kwargs\": {\n        \"column\": \"Area Income\",\n        \"max_value\": 65000,\n        \"min_value\": 54000\n      },\n      \"ge_cloud_id\": null,\n      \"expectation_type\": \"expect_column_mean_to_be_between\",\n      \"meta\": {}\n    },\n    {\n      \"kwargs\": {\n        \"column\": \"Area Income\"\n      },\n      \"ge_cloud_id\": null,\n      \"expectation_type\": \"expect_column_values_to_not_be_null\",\n      \"meta\": {}\n    },\n    {\n      \"kwargs\": {\n        \"column\": \"Area Income\",\n        \"type_list\": [\n          \"FLOAT\",\n          \"FLOAT4\",\n          \"FLOAT8\",\n          \"FLOAT64\",\n          \"DOUBLE\",\n          \"DOUBLE_PRECISION\",\n          \"NUMERIC\",\n          \"FloatType\",\n          \"DoubleType\",\n          \"float_\",\n          \"float16\",\n          \"float32\",\n          \"float64\",\n          \"number\",\n          \"DECIMAL\",\n          \"REAL\"\n        ]\n      },\n      \"ge_cloud_id\": null,\n      \"expectation_type\": \"expect_column_values_to_be_in_type_list\",\n      \"meta\": {}\n    },\n    {\n      \"kwargs\": {\n        \"column\": \"Daily Internet Usage\",\n        \"max_value\": 110,\n        \"min_value\": 95\n      },\n      \"ge_cloud_id\": null,\n      \"expectation_type\": \"expect_column_min_to_be_between\",\n      \"meta\": {}\n    },\n    {\n      \"kwargs\": {\n        \"column\": \"Daily Internet Usage\",\n        \"max_value\": 270,\n        \"min_value\": 250\n      },\n      \"ge_cloud_id\": null,\n      \"expectation_type\": \"expect_column_max_to_be_between\",\n      \"meta\": {}\n    },\n    {\n      \"kwargs\": {\n        \"column\": \"Daily Internet Usage\",\n        \"max_value\": 185,\n        \"min_value\": 170\n      },\n      \"ge_cloud_id\": null,\n      \"expectation_type\": \"expect_column_mean_to_be_between\",\n      \"meta\": {}\n    },\n    {\n      \"kwargs\": {\n        \"column\": \"Daily Internet Usage\"\n      },\n      \"ge_cloud_id\": null,\n      \"expectation_type\": \"expect_column_values_to_not_be_null\",\n      \"meta\": {}\n    },\n    {\n      \"kwargs\": {\n        \"column\": \"Daily Internet Usage\",\n        \"type_list\": [\n          \"FLOAT\",\n          \"FLOAT4\",\n          \"FLOAT8\",\n          \"FLOAT64\",\n          \"DOUBLE\",\n          \"DOUBLE_PRECISION\",\n          \"NUMERIC\",\n          \"FloatType\",\n          \"DoubleType\",\n          \"float_\",\n          \"float16\",\n          \"float32\",\n          \"float64\",\n          \"number\",\n          \"DECIMAL\",\n          \"REAL\"\n        ]\n      },\n      \"ge_cloud_id\": null,\n      \"expectation_type\": \"expect_column_values_to_be_in_type_list\",\n      \"meta\": {}\n    },\n    {\n      \"kwargs\": {\n        \"column\": \"Ad Topic Line\"\n      },\n      \"ge_cloud_id\": null,\n      \"expectation_type\": \"expect_column_values_to_not_be_null\",\n      \"meta\": {}\n    },\n    {\n      \"kwargs\": {\n        \"column\": \"Ad Topic Line\",\n        \"type_list\": [\n          \"CHAR\",\n          \"NCHAR\",\n          \"VARCHAR\",\n          \"NVARCHAR\",\n          \"TEXT\",\n          \"NTEXT\",\n          \"STRING\",\n          \"StringType\",\n          \"string\",\n          \"str\",\n          \"object\",\n          \"dtype('O')\"\n        ]\n      },\n      \"ge_cloud_id\": null,\n      \"expectation_type\": \"expect_column_values_to_be_in_type_list\",\n      \"meta\": {}\n    },\n    {\n      \"kwargs\": {\n        \"column\": \"City\"\n      },\n      \"ge_cloud_id\": null,\n      \"expectation_type\": \"expect_column_values_to_not_be_null\",\n      \"meta\": {}\n    },\n    {\n      \"kwargs\": {\n        \"column\": \"City\",\n        \"max_value\": 0.999,\n        \"min_value\": 0.9\n      },\n      \"ge_cloud_id\": null,\n      \"expectation_type\": \"expect_column_proportion_of_unique_values_to_be_between\",\n      \"meta\": {}\n    },\n    {\n      \"kwargs\": {\n        \"column\": \"City\",\n        \"type_list\": [\n          \"CHAR\",\n          \"NCHAR\",\n          \"VARCHAR\",\n          \"NVARCHAR\",\n          \"TEXT\",\n          \"NTEXT\",\n          \"STRING\",\n          \"StringType\",\n          \"string\",\n          \"str\",\n          \"object\",\n          \"dtype('O')\"\n        ]\n      },\n      \"ge_cloud_id\": null,\n      \"expectation_type\": \"expect_column_values_to_be_in_type_list\",\n      \"meta\": {}\n    },\n    {\n      \"kwargs\": {\n        \"column\": \"Male\",\n        \"value_set\": [\n          0,\n          1\n        ]\n      },\n      \"ge_cloud_id\": null,\n      \"expectation_type\": \"expect_column_values_to_be_in_set\",\n      \"meta\": {}\n    },\n    {\n      \"kwargs\": {\n        \"column\": \"Male\",\n        \"max_value\": 0.55,\n        \"min_value\": 0.45\n      },\n      \"ge_cloud_id\": null,\n      \"expectation_type\": \"expect_column_mean_to_be_between\",\n      \"meta\": {}\n    },\n    {\n      \"kwargs\": {\n        \"column\": \"Male\"\n      },\n      \"ge_cloud_id\": null,\n      \"expectation_type\": \"expect_column_values_to_not_be_null\",\n      \"meta\": {}\n    },\n    {\n      \"kwargs\": {\n        \"column\": \"Male\",\n        \"type_list\": [\n          \"INTEGER\",\n          \"integer\",\n          \"int\",\n          \"int_\",\n          \"int8\",\n          \"int16\",\n          \"int32\",\n          \"int64\",\n          \"uint8\",\n          \"uint16\",\n          \"uint32\",\n          \"uint64\",\n          \"INT\",\n          \"INTEGER\",\n          \"INT64\",\n          \"TINYINT\",\n          \"BYTEINT\",\n          \"SMALLINT\",\n          \"BIGINT\",\n          \"IntegerType\",\n          \"LongType\"\n        ]\n      },\n      \"ge_cloud_id\": null,\n      \"expectation_type\": \"expect_column_values_to_be_in_type_list\",\n      \"meta\": {}\n    },\n    {\n      \"kwargs\": {\n        \"column\": \"Country\"\n      },\n      \"ge_cloud_id\": null,\n      \"expectation_type\": \"expect_column_values_to_not_be_null\",\n      \"meta\": {}\n    },\n    {\n      \"kwargs\": {\n        \"column\": \"Country\",\n        \"type_list\": [\n          \"CHAR\",\n          \"NCHAR\",\n          \"VARCHAR\",\n          \"NVARCHAR\",\n          \"TEXT\",\n          \"NTEXT\",\n          \"STRING\",\n          \"StringType\",\n          \"string\",\n          \"str\",\n          \"object\",\n          \"dtype('O')\"\n        ]\n      },\n      \"ge_cloud_id\": null,\n      \"expectation_type\": \"expect_column_values_to_be_in_type_list\",\n      \"meta\": {}\n    },\n    {\n      \"kwargs\": {\n        \"column\": \"Timestamp\"\n      },\n      \"ge_cloud_id\": null,\n      \"expectation_type\": \"expect_column_values_to_not_be_null\",\n      \"meta\": {}\n    },\n    {\n      \"kwargs\": {\n        \"column\": \"Timestamp\",\n        \"type_list\": [\n          \"CHAR\",\n          \"NCHAR\",\n          \"VARCHAR\",\n          \"NVARCHAR\",\n          \"TEXT\",\n          \"NTEXT\",\n          \"STRING\",\n          \"StringType\",\n          \"string\",\n          \"str\",\n          \"object\",\n          \"dtype('O')\"\n        ]\n      },\n      \"ge_cloud_id\": null,\n      \"expectation_type\": \"expect_column_values_to_be_in_type_list\",\n      \"meta\": {}\n    },\n    {\n      \"kwargs\": {\n        \"column\": \"Clicked on Ad\",\n        \"max_value\": 0.55,\n        \"min_value\": 0.45\n      },\n      \"ge_cloud_id\": null,\n      \"expectation_type\": \"expect_column_mean_to_be_between\",\n      \"meta\": {}\n    },\n    {\n      \"kwargs\": {\n        \"column\": \"Clicked on Ad\",\n        \"value_set\": [\n          0,\n          1\n        ]\n      },\n      \"ge_cloud_id\": null,\n      \"expectation_type\": \"expect_column_values_to_be_in_set\",\n      \"meta\": {}\n    },\n    {\n      \"kwargs\": {\n        \"column\": \"Clicked on Ad\"\n      },\n      \"ge_cloud_id\": null,\n      \"expectation_type\": \"expect_column_values_to_not_be_null\",\n      \"meta\": {}\n    },\n    {\n      \"kwargs\": {\n        \"column\": \"Clicked on Ad\",\n        \"type_list\": [\n          \"INTEGER\",\n          \"integer\",\n          \"int\",\n          \"int_\",\n          \"int8\",\n          \"int16\",\n          \"int32\",\n          \"int64\",\n          \"uint8\",\n          \"uint16\",\n          \"uint32\",\n          \"uint64\",\n          \"INT\",\n          \"INTEGER\",\n          \"INT64\",\n          \"TINYINT\",\n          \"BYTEINT\",\n          \"SMALLINT\",\n          \"BIGINT\",\n          \"IntegerType\",\n          \"LongType\"\n        ]\n      },\n      \"ge_cloud_id\": null,\n      \"expectation_type\": \"expect_column_values_to_be_in_type_list\",\n      \"meta\": {}\n    }\n  ],\n  \"meta\": {\n    \"great_expectations_version\": \"0.13.36\"\n  },\n  \"data_asset_type\": null,\n  \"ge_cloud_id\": null\n}\n2021-10-13T09:14:26+0000 - INFO - \t38 expectation(s) included in expectation_suite.\n2021-10-13T09:14:26+0000 - INFO - \t38 expectation(s) included in expectation_suite.\n",
     "output_type": "stream"
    },
    {
     "data": {
      "text/plain": "Calculating Metrics:   0%|          | 0/67 [00:00<?, ?it/s]",
      "application/vnd.jupyter.widget-view+json": {
       "version_major": 2,
       "version_minor": 0,
       "model_id": "d272a61fb5f3488b864be28d9e963885"
      }
     },
     "metadata": {},
     "output_type": "display_data"
    }
   ],
   "execution_count": null
  },
  {
   "cell_type": "markdown",
   "source": "<a style='text-decoration:none;line-height:16px;display:flex;color:#5B5B62;padding:10px;justify-content:end;' href='https://deepnote.com?utm_source=created-in-deepnote-cell&projectId=87197226-98be-42b2-8527-389082831299' target=\"_blank\">\n<img alt='Created in deepnote.com' style='display:inline;max-height:16px;margin:0px;margin-right:7.5px;' src='data:image/svg+xml;base64,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' > </img>\nCreated in <span style='font-weight:600;margin-left:4px;'>Deepnote</span></a>",
   "metadata": {
    "tags": [],
    "created_in_deepnote_cell": true,
    "deepnote_cell_type": "markdown"
   }
  }
 ],
 "nbformat": 4,
 "nbformat_minor": 5,
 "metadata": {
  "deepnote": {},
  "deepnote_execution_queue": [],
  "deepnote_notebook_id": "b98c8920-11d5-4957-9152-c6671cffbab2",
  "kernelspec": {
   "display_name": "Python 3 (ipykernel)",
   "language": "python",
   "name": "python3"
  },
  "language_info": {
   "codemirror_mode": {
    "name": "ipython",
    "version": 3
   },
   "file_extension": ".py",
   "mimetype": "text/x-python",
   "name": "python",
   "nbconvert_exporter": "python",
   "pygments_lexer": "ipython3",
   "version": "3.8.10"
  },
  "toc": {
   "base_numbering": 1,
   "nav_menu": {},
   "number_sections": true,
   "sideBar": true,
   "skip_h1_title": false,
   "title_cell": "Table of Contents",
   "title_sidebar": "Contents",
   "toc_cell": false,
   "toc_position": {},
   "toc_section_display": true,
   "toc_window_display": false
  }
 }
}