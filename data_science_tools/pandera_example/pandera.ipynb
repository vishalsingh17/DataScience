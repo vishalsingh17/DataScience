{
 "cells": [
  {
   "cell_type": "code",
   "execution_count": null,
   "id": "fb1ddc46",
   "metadata": {
    "ExecuteTime": {
     "end_time": "2022-03-25T18:25:44.708196Z",
     "start_time": "2022-03-25T18:25:41.488504Z"
    }
   },
   "outputs": [],
   "source": [
    "!pip install pandera ipytest"
   ]
  },
  {
   "cell_type": "markdown",
   "id": "cc7b5ade",
   "metadata": {},
   "source": [
    "# Introduction"
   ]
  },
  {
   "cell_type": "code",
   "execution_count": 3,
   "id": "2ef1fb81",
   "metadata": {
    "ExecuteTime": {
     "end_time": "2022-03-25T18:31:14.257662Z",
     "start_time": "2022-03-25T18:31:14.249575Z"
    }
   },
   "outputs": [
    {
     "data": {
      "text/html": [
       "<div>\n",
       "<style scoped>\n",
       "    .dataframe tbody tr th:only-of-type {\n",
       "        vertical-align: middle;\n",
       "    }\n",
       "\n",
       "    .dataframe tbody tr th {\n",
       "        vertical-align: top;\n",
       "    }\n",
       "\n",
       "    .dataframe thead th {\n",
       "        text-align: right;\n",
       "    }\n",
       "</style>\n",
       "<table border=\"1\" class=\"dataframe\">\n",
       "  <thead>\n",
       "    <tr style=\"text-align: right;\">\n",
       "      <th></th>\n",
       "      <th>name</th>\n",
       "      <th>store</th>\n",
       "      <th>price</th>\n",
       "    </tr>\n",
       "  </thead>\n",
       "  <tbody>\n",
       "    <tr>\n",
       "      <th>0</th>\n",
       "      <td>apple</td>\n",
       "      <td>Aldi</td>\n",
       "      <td>2</td>\n",
       "    </tr>\n",
       "    <tr>\n",
       "      <th>1</th>\n",
       "      <td>banana</td>\n",
       "      <td>Walmart</td>\n",
       "      <td>1</td>\n",
       "    </tr>\n",
       "    <tr>\n",
       "      <th>2</th>\n",
       "      <td>apple</td>\n",
       "      <td>Walmart</td>\n",
       "      <td>3</td>\n",
       "    </tr>\n",
       "    <tr>\n",
       "      <th>3</th>\n",
       "      <td>orange</td>\n",
       "      <td>Aldi</td>\n",
       "      <td>4</td>\n",
       "    </tr>\n",
       "  </tbody>\n",
       "</table>\n",
       "</div>"
      ],
      "text/plain": [
       "     name    store  price\n",
       "0   apple     Aldi      2\n",
       "1  banana  Walmart      1\n",
       "2   apple  Walmart      3\n",
       "3  orange     Aldi      4"
      ]
     },
     "execution_count": 3,
     "metadata": {},
     "output_type": "execute_result"
    }
   ],
   "source": [
    "import pandas as pd\n",
    "\n",
    "fruits = pd.DataFrame(\n",
    "    {\n",
    "        \"name\": [\"apple\", \"banana\", \"apple\", \"orange\"],\n",
    "        \"store\": [\"Aldi\", \"Walmart\", \"Walmart\", \"Aldi\"],\n",
    "        \"price\": [2, 1, 3, 4],\n",
    "    }\n",
    ")\n",
    "\n",
    "fruits"
   ]
  },
  {
   "cell_type": "code",
   "execution_count": 4,
   "id": "0c0f93c9",
   "metadata": {},
   "outputs": [],
   "source": [
    "available_fruits = [\"apple\", \"banana\", \"orange\"]\n",
    "nearby_stores = [\"Aldi\", \"Walmart\"]"
   ]
  },
  {
   "cell_type": "code",
   "execution_count": 5,
   "id": "551e8ffb",
   "metadata": {
    "ExecuteTime": {
     "end_time": "2022-03-25T18:31:14.658417Z",
     "start_time": "2022-03-25T18:31:14.485803Z"
    }
   },
   "outputs": [
    {
     "data": {
      "text/html": [
       "<div>\n",
       "<style scoped>\n",
       "    .dataframe tbody tr th:only-of-type {\n",
       "        vertical-align: middle;\n",
       "    }\n",
       "\n",
       "    .dataframe tbody tr th {\n",
       "        vertical-align: top;\n",
       "    }\n",
       "\n",
       "    .dataframe thead th {\n",
       "        text-align: right;\n",
       "    }\n",
       "</style>\n",
       "<table border=\"1\" class=\"dataframe\">\n",
       "  <thead>\n",
       "    <tr style=\"text-align: right;\">\n",
       "      <th></th>\n",
       "      <th>name</th>\n",
       "      <th>store</th>\n",
       "      <th>price</th>\n",
       "    </tr>\n",
       "  </thead>\n",
       "  <tbody>\n",
       "    <tr>\n",
       "      <th>0</th>\n",
       "      <td>apple</td>\n",
       "      <td>Aldi</td>\n",
       "      <td>2</td>\n",
       "    </tr>\n",
       "    <tr>\n",
       "      <th>1</th>\n",
       "      <td>banana</td>\n",
       "      <td>Walmart</td>\n",
       "      <td>1</td>\n",
       "    </tr>\n",
       "    <tr>\n",
       "      <th>2</th>\n",
       "      <td>apple</td>\n",
       "      <td>Walmart</td>\n",
       "      <td>3</td>\n",
       "    </tr>\n",
       "    <tr>\n",
       "      <th>3</th>\n",
       "      <td>orange</td>\n",
       "      <td>Aldi</td>\n",
       "      <td>4</td>\n",
       "    </tr>\n",
       "  </tbody>\n",
       "</table>\n",
       "</div>"
      ],
      "text/plain": [
       "     name    store  price\n",
       "0   apple     Aldi      2\n",
       "1  banana  Walmart      1\n",
       "2   apple  Walmart      3\n",
       "3  orange     Aldi      4"
      ]
     },
     "execution_count": 5,
     "metadata": {},
     "output_type": "execute_result"
    }
   ],
   "source": [
    "import pandera as pa\n",
    "from pandera import Column, Check\n",
    "\n",
    "available_fruits = [\"apple\", \"banana\", \"orange\"]\n",
    "nearby_stores = [\"Aldi\", \"Walmart\"]\n",
    "schema = pa.DataFrameSchema(\n",
    "    {\n",
    "        \"name\": Column(str, Check.isin(available_fruits)),\n",
    "        \"store\": Column(str, Check.isin(nearby_stores)),\n",
    "        \"price\": Column(int, Check.less_than(5)),\n",
    "    }\n",
    ")\n",
    "schema.validate(fruits)"
   ]
  },
  {
   "cell_type": "code",
   "execution_count": 6,
   "id": "407ac593",
   "metadata": {
    "ExecuteTime": {
     "end_time": "2022-03-25T18:31:14.786395Z",
     "start_time": "2022-03-25T18:31:14.771140Z"
    }
   },
   "outputs": [
    {
     "data": {
      "text/html": [
       "<div>\n",
       "<style scoped>\n",
       "    .dataframe tbody tr th:only-of-type {\n",
       "        vertical-align: middle;\n",
       "    }\n",
       "\n",
       "    .dataframe tbody tr th {\n",
       "        vertical-align: top;\n",
       "    }\n",
       "\n",
       "    .dataframe thead th {\n",
       "        text-align: right;\n",
       "    }\n",
       "</style>\n",
       "<table border=\"1\" class=\"dataframe\">\n",
       "  <thead>\n",
       "    <tr style=\"text-align: right;\">\n",
       "      <th></th>\n",
       "      <th>name</th>\n",
       "      <th>store</th>\n",
       "      <th>price</th>\n",
       "    </tr>\n",
       "  </thead>\n",
       "  <tbody>\n",
       "    <tr>\n",
       "      <th>0</th>\n",
       "      <td>apple</td>\n",
       "      <td>Aldi</td>\n",
       "      <td>2</td>\n",
       "    </tr>\n",
       "    <tr>\n",
       "      <th>1</th>\n",
       "      <td>banana</td>\n",
       "      <td>Walmart</td>\n",
       "      <td>1</td>\n",
       "    </tr>\n",
       "    <tr>\n",
       "      <th>2</th>\n",
       "      <td>apple</td>\n",
       "      <td>Walmart</td>\n",
       "      <td>3</td>\n",
       "    </tr>\n",
       "    <tr>\n",
       "      <th>3</th>\n",
       "      <td>orange</td>\n",
       "      <td>Aldi</td>\n",
       "      <td>4</td>\n",
       "    </tr>\n",
       "  </tbody>\n",
       "</table>\n",
       "</div>"
      ],
      "text/plain": [
       "     name    store  price\n",
       "0   apple     Aldi      2\n",
       "1  banana  Walmart      1\n",
       "2   apple  Walmart      3\n",
       "3  orange     Aldi      4"
      ]
     },
     "execution_count": 6,
     "metadata": {},
     "output_type": "execute_result"
    }
   ],
   "source": [
    "schema = pa.DataFrameSchema(\n",
    "    {\n",
    "        \"name\": Column(str, Check.isin(available_fruits)),\n",
    "        \"store\": Column(str, Check.isin(nearby_stores)),\n",
    "        \"price\": Column(int, Check.less_than(5)),\n",
    "    }\n",
    ")\n",
    "schema.validate(fruits)"
   ]
  },
  {
   "cell_type": "code",
   "execution_count": 6,
   "id": "737b2ac9",
   "metadata": {
    "ExecuteTime": {
     "end_time": "2022-03-25T18:49:54.579171Z",
     "start_time": "2022-03-25T18:49:54.552021Z"
    }
   },
   "outputs": [
    {
     "data": {
      "text/html": [
       "<div>\n",
       "<style scoped>\n",
       "    .dataframe tbody tr th:only-of-type {\n",
       "        vertical-align: middle;\n",
       "    }\n",
       "\n",
       "    .dataframe tbody tr th {\n",
       "        vertical-align: top;\n",
       "    }\n",
       "\n",
       "    .dataframe thead th {\n",
       "        text-align: right;\n",
       "    }\n",
       "</style>\n",
       "<table border=\"1\" class=\"dataframe\">\n",
       "  <thead>\n",
       "    <tr style=\"text-align: right;\">\n",
       "      <th></th>\n",
       "      <th>name</th>\n",
       "      <th>store</th>\n",
       "      <th>price</th>\n",
       "    </tr>\n",
       "  </thead>\n",
       "  <tbody>\n",
       "    <tr>\n",
       "      <th>0</th>\n",
       "      <td>apple</td>\n",
       "      <td>Aldi</td>\n",
       "      <td>2</td>\n",
       "    </tr>\n",
       "    <tr>\n",
       "      <th>1</th>\n",
       "      <td>banana</td>\n",
       "      <td>Walmart</td>\n",
       "      <td>1</td>\n",
       "    </tr>\n",
       "    <tr>\n",
       "      <th>2</th>\n",
       "      <td>apple</td>\n",
       "      <td>Walmart</td>\n",
       "      <td>3</td>\n",
       "    </tr>\n",
       "    <tr>\n",
       "      <th>3</th>\n",
       "      <td>orange</td>\n",
       "      <td>Aldi</td>\n",
       "      <td>4</td>\n",
       "    </tr>\n",
       "  </tbody>\n",
       "</table>\n",
       "</div>"
      ],
      "text/plain": [
       "     name    store  price\n",
       "0   apple     Aldi      2\n",
       "1  banana  Walmart      1\n",
       "2   apple  Walmart      3\n",
       "3  orange     Aldi      4"
      ]
     },
     "execution_count": 6,
     "metadata": {},
     "output_type": "execute_result"
    }
   ],
   "source": [
    "schema = pa.DataFrameSchema(\n",
    "    {\n",
    "        \"name\": Column(str, Check.isin(available_fruits)),\n",
    "        \"store\": Column(str, Check.isin(nearby_stores)),\n",
    "        \"price\": Column(\n",
    "            int,\n",
    "            [\n",
    "                Check.less_than(5),\n",
    "                Check(lambda price: sum(price) < 20),\n",
    "            ],\n",
    "        ),\n",
    "    }\n",
    ")\n",
    "schema.validate(fruits)\n"
   ]
  },
  {
   "cell_type": "markdown",
   "id": "96cfe159",
   "metadata": {},
   "source": [
    "# Schema Model"
   ]
  },
  {
   "cell_type": "code",
   "execution_count": 23,
   "id": "fade9cb7",
   "metadata": {
    "ExecuteTime": {
     "end_time": "2022-03-25T15:19:35.217228Z",
     "start_time": "2022-03-25T15:19:35.148216Z"
    }
   },
   "outputs": [
    {
     "data": {
      "text/html": [
       "<div>\n",
       "<style scoped>\n",
       "    .dataframe tbody tr th:only-of-type {\n",
       "        vertical-align: middle;\n",
       "    }\n",
       "\n",
       "    .dataframe tbody tr th {\n",
       "        vertical-align: top;\n",
       "    }\n",
       "\n",
       "    .dataframe thead th {\n",
       "        text-align: right;\n",
       "    }\n",
       "</style>\n",
       "<table border=\"1\" class=\"dataframe\">\n",
       "  <thead>\n",
       "    <tr style=\"text-align: right;\">\n",
       "      <th></th>\n",
       "      <th>name</th>\n",
       "      <th>store</th>\n",
       "      <th>price</th>\n",
       "    </tr>\n",
       "  </thead>\n",
       "  <tbody>\n",
       "    <tr>\n",
       "      <th>0</th>\n",
       "      <td>apple</td>\n",
       "      <td>Aldi</td>\n",
       "      <td>2</td>\n",
       "    </tr>\n",
       "    <tr>\n",
       "      <th>1</th>\n",
       "      <td>banana</td>\n",
       "      <td>Walmart</td>\n",
       "      <td>1</td>\n",
       "    </tr>\n",
       "    <tr>\n",
       "      <th>2</th>\n",
       "      <td>apple</td>\n",
       "      <td>Walmart</td>\n",
       "      <td>3</td>\n",
       "    </tr>\n",
       "    <tr>\n",
       "      <th>3</th>\n",
       "      <td>orange</td>\n",
       "      <td>Aldi</td>\n",
       "      <td>4</td>\n",
       "    </tr>\n",
       "  </tbody>\n",
       "</table>\n",
       "</div>"
      ],
      "text/plain": [
       "     name    store  price\n",
       "0   apple     Aldi      2\n",
       "1  banana  Walmart      1\n",
       "2   apple  Walmart      3\n",
       "3  orange     Aldi      4"
      ]
     },
     "execution_count": 23,
     "metadata": {},
     "output_type": "execute_result"
    },
    {
     "data": {
      "application/javascript": "\n            setTimeout(function() {\n                var nbb_cell_id = 23;\n                var nbb_unformatted_code = \"from pandera.typing import Series\\n\\n\\nclass Schema(pa.SchemaModel):\\n    name: Series[str] = pa.Field(isin=available_fruits)\\n    store: Series[str] = pa.Field(isin=nearby_stores)\\n    price: Series[int] = pa.Field(le=5)\\n    \\n    @pa.check(\\\"price\\\")\\n    def price_sum_lt_20(cls, price: Series[int]) -> Series[bool]:\\n        return sum(price) < 20\\n\\nSchema.validate(fruits)\";\n                var nbb_formatted_code = \"from pandera.typing import Series\\n\\n\\nclass Schema(pa.SchemaModel):\\n    name: Series[str] = pa.Field(isin=available_fruits)\\n    store: Series[str] = pa.Field(isin=nearby_stores)\\n    price: Series[int] = pa.Field(le=5)\\n\\n    @pa.check(\\\"price\\\")\\n    def price_sum_lt_20(cls, price: Series[int]) -> Series[bool]:\\n        return sum(price) < 20\\n\\n\\nSchema.validate(fruits)\";\n                var nbb_cells = Jupyter.notebook.get_cells();\n                for (var i = 0; i < nbb_cells.length; ++i) {\n                    if (nbb_cells[i].input_prompt_number == nbb_cell_id) {\n                        if (nbb_cells[i].get_text() == nbb_unformatted_code) {\n                             nbb_cells[i].set_text(nbb_formatted_code);\n                        }\n                        break;\n                    }\n                }\n            }, 500);\n            ",
      "text/plain": [
       "<IPython.core.display.Javascript object>"
      ]
     },
     "metadata": {},
     "output_type": "display_data"
    }
   ],
   "source": [
    "from pandera.typing import Series\n",
    "\n",
    "\n",
    "class Schema(pa.SchemaModel):\n",
    "    name: Series[str] = pa.Field(isin=available_fruits)\n",
    "    store: Series[str] = pa.Field(isin=nearby_stores)\n",
    "    price: Series[int] = pa.Field(le=5)\n",
    "\n",
    "    @pa.check(\"price\")\n",
    "    def price_sum_lt_20(cls, price: Series[int]) -> Series[bool]:\n",
    "        return sum(price) < 20\n",
    "\n",
    "\n",
    "Schema.validate(fruits)"
   ]
  },
  {
   "cell_type": "markdown",
   "id": "a79cccf4",
   "metadata": {},
   "source": [
    "# Validation Decorator "
   ]
  },
  {
   "cell_type": "markdown",
   "id": "01b25cd1",
   "metadata": {},
   "source": [
    "## Check Input"
   ]
  },
  {
   "cell_type": "code",
   "execution_count": 15,
   "id": "02a75aa4",
   "metadata": {
    "ExecuteTime": {
     "end_time": "2022-03-25T19:05:53.414458Z",
     "start_time": "2022-03-25T19:05:53.282131Z"
    }
   },
   "outputs": [
    {
     "data": {
      "application/javascript": "\n            setTimeout(function() {\n                var nbb_cell_id = 15;\n                var nbb_unformatted_code = \"import ipytest\\nipytest.autoconfig()\";\n                var nbb_formatted_code = \"import ipytest\\n\\nipytest.autoconfig()\";\n                var nbb_cells = Jupyter.notebook.get_cells();\n                for (var i = 0; i < nbb_cells.length; ++i) {\n                    if (nbb_cells[i].input_prompt_number == nbb_cell_id) {\n                        if (nbb_cells[i].get_text() == nbb_unformatted_code) {\n                             nbb_cells[i].set_text(nbb_formatted_code);\n                        }\n                        break;\n                    }\n                }\n            }, 500);\n            ",
      "text/plain": [
       "<IPython.core.display.Javascript object>"
      ]
     },
     "metadata": {},
     "output_type": "display_data"
    }
   ],
   "source": [
    "import ipytest\n",
    "\n",
    "ipytest.autoconfig()"
   ]
  },
  {
   "cell_type": "code",
   "execution_count": 27,
   "id": "05df26e0",
   "metadata": {
    "ExecuteTime": {
     "end_time": "2022-03-25T19:11:03.309250Z",
     "start_time": "2022-03-25T19:11:03.283422Z"
    }
   },
   "outputs": [
    {
     "data": {
      "text/plain": [
       "10"
      ]
     },
     "execution_count": 27,
     "metadata": {},
     "output_type": "execute_result"
    },
    {
     "data": {
      "application/javascript": "\n            setTimeout(function() {\n                var nbb_cell_id = 27;\n                var nbb_unformatted_code = \"fruits = pd.DataFrame(\\n    {\\n        \\\"name\\\": [\\\"apple\\\", \\\"banana\\\", \\\"apple\\\", \\\"orange\\\"],\\n        \\\"store\\\": [\\\"Aldi\\\", \\\"Walmart\\\", \\\"Walmart\\\", \\\"Aldi\\\"],\\n        \\\"price\\\": [2, 1, 3, 4],\\n    }\\n)\\n\\nschema = pa.DataFrameSchema(\\n    {\\n        \\\"name\\\": Column(str, Check.isin(available_fruits)),\\n        \\\"store\\\": Column(str, Check.isin(nearby_stores)),\\n        \\\"price\\\": Column(int, Check.less_than(5)),\\n    }\\n)\\n\\n\\ndef get_total_price(fruits: pd.DataFrame, schema: pa.DataFrameSchema):\\n    validated = schema.validate(fruits)\\n    return validated[\\\"price\\\"].sum()\\n\\n\\nget_total_price(fruits, schema)\";\n                var nbb_formatted_code = \"fruits = pd.DataFrame(\\n    {\\n        \\\"name\\\": [\\\"apple\\\", \\\"banana\\\", \\\"apple\\\", \\\"orange\\\"],\\n        \\\"store\\\": [\\\"Aldi\\\", \\\"Walmart\\\", \\\"Walmart\\\", \\\"Aldi\\\"],\\n        \\\"price\\\": [2, 1, 3, 4],\\n    }\\n)\\n\\nschema = pa.DataFrameSchema(\\n    {\\n        \\\"name\\\": Column(str, Check.isin(available_fruits)),\\n        \\\"store\\\": Column(str, Check.isin(nearby_stores)),\\n        \\\"price\\\": Column(int, Check.less_than(5)),\\n    }\\n)\\n\\n\\ndef get_total_price(fruits: pd.DataFrame, schema: pa.DataFrameSchema):\\n    validated = schema.validate(fruits)\\n    return validated[\\\"price\\\"].sum()\\n\\n\\nget_total_price(fruits, schema)\";\n                var nbb_cells = Jupyter.notebook.get_cells();\n                for (var i = 0; i < nbb_cells.length; ++i) {\n                    if (nbb_cells[i].input_prompt_number == nbb_cell_id) {\n                        if (nbb_cells[i].get_text() == nbb_unformatted_code) {\n                             nbb_cells[i].set_text(nbb_formatted_code);\n                        }\n                        break;\n                    }\n                }\n            }, 500);\n            ",
      "text/plain": [
       "<IPython.core.display.Javascript object>"
      ]
     },
     "metadata": {},
     "output_type": "display_data"
    }
   ],
   "source": [
    "fruits = pd.DataFrame(\n",
    "    {\n",
    "        \"name\": [\"apple\", \"banana\", \"apple\", \"orange\"],\n",
    "        \"store\": [\"Aldi\", \"Walmart\", \"Walmart\", \"Aldi\"],\n",
    "        \"price\": [2, 1, 3, 4],\n",
    "    }\n",
    ")\n",
    "\n",
    "schema = pa.DataFrameSchema(\n",
    "    {\n",
    "        \"name\": Column(str, Check.isin(available_fruits)),\n",
    "        \"store\": Column(str, Check.isin(nearby_stores)),\n",
    "        \"price\": Column(int, Check.less_than(5)),\n",
    "    }\n",
    ")\n",
    "\n",
    "\n",
    "def get_total_price(fruits: pd.DataFrame, schema: pa.DataFrameSchema):\n",
    "    validated = schema.validate(fruits)\n",
    "    return validated[\"price\"].sum()\n",
    "\n",
    "\n",
    "get_total_price(fruits, schema)"
   ]
  },
  {
   "cell_type": "code",
   "execution_count": 28,
   "id": "a3e6b055",
   "metadata": {
    "ExecuteTime": {
     "end_time": "2022-03-25T19:11:03.765825Z",
     "start_time": "2022-03-25T19:11:03.672303Z"
    },
    "code_folding": []
   },
   "outputs": [
    {
     "data": {
      "application/javascript": "\n            setTimeout(function() {\n                var nbb_cell_id = 28;\n                var nbb_unformatted_code = \"%%ipytest -qq\\ndef test_get_total_price():\\n    fruits = pd.DataFrame({'name': ['apple', 'banana'], 'store': ['Aldi', 'Walmart'], 'price': [1, 2]})\\n    \\n    schema = pa.DataFrameSchema(\\n        {\\n            \\\"name\\\": Column(str, Check.isin(available_fruits)),\\n            \\\"store\\\": Column(str, Check.isin(nearby_stores)),\\n            \\\"price\\\": Column(int, Check.less_than(5)),\\n        }\\n    )\\n    assert get_total_price(fruits, schema) == 3\";\n                var nbb_formatted_code = \"%%ipytest -qq\\ndef test_get_total_price():\\n    fruits = pd.DataFrame({'name': ['apple', 'banana'], 'store': ['Aldi', 'Walmart'], 'price': [1, 2]})\\n    \\n    schema = pa.DataFrameSchema(\\n        {\\n            \\\"name\\\": Column(str, Check.isin(available_fruits)),\\n            \\\"store\\\": Column(str, Check.isin(nearby_stores)),\\n            \\\"price\\\": Column(int, Check.less_than(5)),\\n        }\\n    )\\n    assert get_total_price(fruits, schema) == 3\";\n                var nbb_cells = Jupyter.notebook.get_cells();\n                for (var i = 0; i < nbb_cells.length; ++i) {\n                    if (nbb_cells[i].input_prompt_number == nbb_cell_id) {\n                        if (nbb_cells[i].get_text() == nbb_unformatted_code) {\n                             nbb_cells[i].set_text(nbb_formatted_code);\n                        }\n                        break;\n                    }\n                }\n            }, 500);\n            ",
      "text/plain": [
       "<IPython.core.display.Javascript object>"
      ]
     },
     "metadata": {},
     "output_type": "display_data"
    },
    {
     "name": "stdout",
     "output_type": "stream",
     "text": [
      "\u001b[32m.\u001b[0m\u001b[32m                                                                                            [100%]\u001b[0m\n"
     ]
    },
    {
     "data": {
      "application/javascript": "\n            setTimeout(function() {\n                var nbb_cell_id = 28;\n                var nbb_unformatted_code = \"%%ipytest -qq\\ndef test_get_total_price():\\n    fruits = pd.DataFrame({'name': ['apple', 'banana'], 'store': ['Aldi', 'Walmart'], 'price': [1, 2]})\\n    \\n    schema = pa.DataFrameSchema(\\n        {\\n            \\\"name\\\": Column(str, Check.isin(available_fruits)),\\n            \\\"store\\\": Column(str, Check.isin(nearby_stores)),\\n            \\\"price\\\": Column(int, Check.less_than(5)),\\n        }\\n    )\\n    assert get_total_price(fruits, schema) == 3\";\n                var nbb_formatted_code = \"%%ipytest -qq\\ndef test_get_total_price():\\n    fruits = pd.DataFrame({'name': ['apple', 'banana'], 'store': ['Aldi', 'Walmart'], 'price': [1, 2]})\\n    \\n    schema = pa.DataFrameSchema(\\n        {\\n            \\\"name\\\": Column(str, Check.isin(available_fruits)),\\n            \\\"store\\\": Column(str, Check.isin(nearby_stores)),\\n            \\\"price\\\": Column(int, Check.less_than(5)),\\n        }\\n    )\\n    assert get_total_price(fruits, schema) == 3\";\n                var nbb_cells = Jupyter.notebook.get_cells();\n                for (var i = 0; i < nbb_cells.length; ++i) {\n                    if (nbb_cells[i].input_prompt_number == nbb_cell_id) {\n                        if (nbb_cells[i].get_text() == nbb_unformatted_code) {\n                             nbb_cells[i].set_text(nbb_formatted_code);\n                        }\n                        break;\n                    }\n                }\n            }, 500);\n            ",
      "text/plain": [
       "<IPython.core.display.Javascript object>"
      ]
     },
     "metadata": {},
     "output_type": "display_data"
    }
   ],
   "source": [
    "%%ipytest -qq\n",
    "def test_get_total_price():\n",
    "    fruits = pd.DataFrame({'name': ['apple', 'banana'], 'store': ['Aldi', 'Walmart'], 'price': [1, 2]})\n",
    "    \n",
    "    schema = pa.DataFrameSchema(\n",
    "        {\n",
    "            \"name\": Column(str, Check.isin(available_fruits)),\n",
    "            \"store\": Column(str, Check.isin(nearby_stores)),\n",
    "            \"price\": Column(int, Check.less_than(5)),\n",
    "        }\n",
    "    )\n",
    "    assert get_total_price(fruits, schema) == 3"
   ]
  },
  {
   "cell_type": "code",
   "execution_count": null,
   "id": "f4fe5959",
   "metadata": {
    "ExecuteTime": {
     "end_time": "2022-03-25T19:17:18.886164Z",
     "start_time": "2022-03-25T19:17:18.616689Z"
    }
   },
   "outputs": [],
   "source": [
    "from pandera import check_input, check_output, check_io\n",
    "\n",
    "fruits = pd.DataFrame(\n",
    "    {\n",
    "        \"name\": [\"apple\", \"banana\", \"apple\", \"orange\"],\n",
    "        \"store\": [\"Aldi\", \"Walmart\", \"Walmart\", \"Aldi\"],\n",
    "        \"price\": [\"2\", \"1\", \"3\", \"4\"],\n",
    "    }\n",
    ")\n",
    "\n",
    "\n",
    "@check_input(schema)\n",
    "def get_total_price(fruits: pd.DataFrame):\n",
    "    return fruits.price.sum()\n",
    "\n",
    "\n",
    "get_total_price(fruits)"
   ]
  },
  {
   "cell_type": "code",
   "execution_count": 25,
   "id": "1078ca06",
   "metadata": {
    "ExecuteTime": {
     "end_time": "2022-03-25T19:08:44.613005Z",
     "start_time": "2022-03-25T19:08:44.527232Z"
    }
   },
   "outputs": [
    {
     "data": {
      "application/javascript": "\n            setTimeout(function() {\n                var nbb_cell_id = 25;\n                var nbb_unformatted_code = \"%%ipytest -qq\\ndef test_get_total_price():\\n    fruits = pd.DataFrame({'name': ['apple', 'banana'], 'store': ['Aldi', 'Walmart'], 'price': [1, 2]})\\n    assert get_total_price(fruits) == 3\";\n                var nbb_formatted_code = \"%%ipytest -qq\\ndef test_get_total_price():\\n    fruits = pd.DataFrame({'name': ['apple', 'banana'], 'store': ['Aldi', 'Walmart'], 'price': [1, 2]})\\n    assert get_total_price(fruits) == 3\";\n                var nbb_cells = Jupyter.notebook.get_cells();\n                for (var i = 0; i < nbb_cells.length; ++i) {\n                    if (nbb_cells[i].input_prompt_number == nbb_cell_id) {\n                        if (nbb_cells[i].get_text() == nbb_unformatted_code) {\n                             nbb_cells[i].set_text(nbb_formatted_code);\n                        }\n                        break;\n                    }\n                }\n            }, 500);\n            ",
      "text/plain": [
       "<IPython.core.display.Javascript object>"
      ]
     },
     "metadata": {},
     "output_type": "display_data"
    },
    {
     "name": "stdout",
     "output_type": "stream",
     "text": [
      "\u001b[32m.\u001b[0m\u001b[32m                                                                                            [100%]\u001b[0m\n"
     ]
    },
    {
     "data": {
      "application/javascript": "\n            setTimeout(function() {\n                var nbb_cell_id = 25;\n                var nbb_unformatted_code = \"%%ipytest -qq\\ndef test_get_total_price():\\n    fruits = pd.DataFrame({'name': ['apple', 'banana'], 'store': ['Aldi', 'Walmart'], 'price': [1, 2]})\\n    assert get_total_price(fruits) == 3\";\n                var nbb_formatted_code = \"%%ipytest -qq\\ndef test_get_total_price():\\n    fruits = pd.DataFrame({'name': ['apple', 'banana'], 'store': ['Aldi', 'Walmart'], 'price': [1, 2]})\\n    assert get_total_price(fruits) == 3\";\n                var nbb_cells = Jupyter.notebook.get_cells();\n                for (var i = 0; i < nbb_cells.length; ++i) {\n                    if (nbb_cells[i].input_prompt_number == nbb_cell_id) {\n                        if (nbb_cells[i].get_text() == nbb_unformatted_code) {\n                             nbb_cells[i].set_text(nbb_formatted_code);\n                        }\n                        break;\n                    }\n                }\n            }, 500);\n            ",
      "text/plain": [
       "<IPython.core.display.Javascript object>"
      ]
     },
     "metadata": {},
     "output_type": "display_data"
    }
   ],
   "source": [
    "%%ipytest -qq\n",
    "def test_get_total_price():\n",
    "    fruits = pd.DataFrame({'name': ['apple', 'banana'], 'store': ['Aldi', 'Walmart'], 'price': [1, 2]})\n",
    "    assert get_total_price(fruits) == 3"
   ]
  },
  {
   "cell_type": "markdown",
   "id": "47fe5471",
   "metadata": {},
   "source": [
    "## Check Output"
   ]
  },
  {
   "cell_type": "code",
   "execution_count": 30,
   "id": "f4000414",
   "metadata": {
    "ExecuteTime": {
     "end_time": "2022-03-25T19:23:45.156508Z",
     "start_time": "2022-03-25T19:23:45.121056Z"
    },
    "code_folding": []
   },
   "outputs": [
    {
     "data": {
      "text/html": [
       "<div>\n",
       "<style scoped>\n",
       "    .dataframe tbody tr th:only-of-type {\n",
       "        vertical-align: middle;\n",
       "    }\n",
       "\n",
       "    .dataframe tbody tr th {\n",
       "        vertical-align: top;\n",
       "    }\n",
       "\n",
       "    .dataframe thead th {\n",
       "        text-align: right;\n",
       "    }\n",
       "</style>\n",
       "<table border=\"1\" class=\"dataframe\">\n",
       "  <thead>\n",
       "    <tr style=\"text-align: right;\">\n",
       "      <th></th>\n",
       "      <th>name</th>\n",
       "      <th>store</th>\n",
       "      <th>price</th>\n",
       "    </tr>\n",
       "  </thead>\n",
       "  <tbody>\n",
       "    <tr>\n",
       "      <th>0</th>\n",
       "      <td>apple</td>\n",
       "      <td>Aldi</td>\n",
       "      <td>2</td>\n",
       "    </tr>\n",
       "    <tr>\n",
       "      <th>1</th>\n",
       "      <td>banana</td>\n",
       "      <td>Walmart</td>\n",
       "      <td>1</td>\n",
       "    </tr>\n",
       "    <tr>\n",
       "      <th>2</th>\n",
       "      <td>apple</td>\n",
       "      <td>Walmart</td>\n",
       "      <td>3</td>\n",
       "    </tr>\n",
       "    <tr>\n",
       "      <th>3</th>\n",
       "      <td>orange</td>\n",
       "      <td>Aldi</td>\n",
       "      <td>4</td>\n",
       "    </tr>\n",
       "    <tr>\n",
       "      <th>0</th>\n",
       "      <td>apple</td>\n",
       "      <td>Whole Foods</td>\n",
       "      <td>3</td>\n",
       "    </tr>\n",
       "    <tr>\n",
       "      <th>1</th>\n",
       "      <td>banana</td>\n",
       "      <td>Whole Foods</td>\n",
       "      <td>2</td>\n",
       "    </tr>\n",
       "    <tr>\n",
       "      <th>2</th>\n",
       "      <td>apple</td>\n",
       "      <td>Schnucks</td>\n",
       "      <td>4</td>\n",
       "    </tr>\n",
       "    <tr>\n",
       "      <th>3</th>\n",
       "      <td>orange</td>\n",
       "      <td>Schnucks</td>\n",
       "      <td>5</td>\n",
       "    </tr>\n",
       "  </tbody>\n",
       "</table>\n",
       "</div>"
      ],
      "text/plain": [
       "     name        store  price\n",
       "0   apple         Aldi      2\n",
       "1  banana      Walmart      1\n",
       "2   apple      Walmart      3\n",
       "3  orange         Aldi      4\n",
       "0   apple  Whole Foods      3\n",
       "1  banana  Whole Foods      2\n",
       "2   apple     Schnucks      4\n",
       "3  orange     Schnucks      5"
      ]
     },
     "execution_count": 30,
     "metadata": {},
     "output_type": "execute_result"
    },
    {
     "data": {
      "application/javascript": "\n            setTimeout(function() {\n                var nbb_cell_id = 30;\n                var nbb_unformatted_code = \"fruits_nearby = pd.DataFrame(\\n    {\\n        \\\"name\\\": [\\\"apple\\\", \\\"banana\\\", \\\"apple\\\", \\\"orange\\\"],\\n        \\\"store\\\": [\\\"Aldi\\\", \\\"Walmart\\\", \\\"Walmart\\\", \\\"Aldi\\\"],\\n        \\\"price\\\": [2, 1, 3, 4],\\n    }\\n)\\n\\nfruits_faraway = pd.DataFrame(\\n    {\\n        \\\"name\\\": [\\\"apple\\\", \\\"banana\\\", \\\"apple\\\", \\\"orange\\\"],\\n        \\\"store\\\": [\\\"Whole Foods\\\", \\\"Whole Foods\\\", \\\"Schnucks\\\", \\\"Schnucks\\\"],\\n        \\\"price\\\": [3, 2, 4, 5],\\n    }\\n)\\n\\nout_schema = pa.DataFrameSchema(\\n    {\\\"store\\\": Column(str, Check.isin([\\\"Aldi\\\", \\\"Walmart\\\", \\\"Whole Foods\\\", \\\"Schnucks\\\"]))}\\n)\\n\\n\\n@check_output(out_schema)\\ndef combine_fruits(fruits_nearby: pd.DataFrame, fruits_faraway: pd.DataFrame):\\n    fruits = pd.concat([fruits_nearby, fruits_faraway])\\n    return fruits\\n\\ncombine_fruits(fruits_nearby, fruits_faraway)\";\n                var nbb_formatted_code = \"fruits_nearby = pd.DataFrame(\\n    {\\n        \\\"name\\\": [\\\"apple\\\", \\\"banana\\\", \\\"apple\\\", \\\"orange\\\"],\\n        \\\"store\\\": [\\\"Aldi\\\", \\\"Walmart\\\", \\\"Walmart\\\", \\\"Aldi\\\"],\\n        \\\"price\\\": [2, 1, 3, 4],\\n    }\\n)\\n\\nfruits_faraway = pd.DataFrame(\\n    {\\n        \\\"name\\\": [\\\"apple\\\", \\\"banana\\\", \\\"apple\\\", \\\"orange\\\"],\\n        \\\"store\\\": [\\\"Whole Foods\\\", \\\"Whole Foods\\\", \\\"Schnucks\\\", \\\"Schnucks\\\"],\\n        \\\"price\\\": [3, 2, 4, 5],\\n    }\\n)\\n\\nout_schema = pa.DataFrameSchema(\\n    {\\\"store\\\": Column(str, Check.isin([\\\"Aldi\\\", \\\"Walmart\\\", \\\"Whole Foods\\\", \\\"Schnucks\\\"]))}\\n)\\n\\n\\n@check_output(out_schema)\\ndef combine_fruits(fruits_nearby: pd.DataFrame, fruits_faraway: pd.DataFrame):\\n    fruits = pd.concat([fruits_nearby, fruits_faraway])\\n    return fruits\\n\\n\\ncombine_fruits(fruits_nearby, fruits_faraway)\";\n                var nbb_cells = Jupyter.notebook.get_cells();\n                for (var i = 0; i < nbb_cells.length; ++i) {\n                    if (nbb_cells[i].input_prompt_number == nbb_cell_id) {\n                        if (nbb_cells[i].get_text() == nbb_unformatted_code) {\n                             nbb_cells[i].set_text(nbb_formatted_code);\n                        }\n                        break;\n                    }\n                }\n            }, 500);\n            ",
      "text/plain": [
       "<IPython.core.display.Javascript object>"
      ]
     },
     "metadata": {},
     "output_type": "display_data"
    }
   ],
   "source": [
    "fruits_nearby = pd.DataFrame(\n",
    "    {\n",
    "        \"name\": [\"apple\", \"banana\", \"apple\", \"orange\"],\n",
    "        \"store\": [\"Aldi\", \"Walmart\", \"Walmart\", \"Aldi\"],\n",
    "        \"price\": [2, 1, 3, 4],\n",
    "    }\n",
    ")\n",
    "\n",
    "fruits_faraway = pd.DataFrame(\n",
    "    {\n",
    "        \"name\": [\"apple\", \"banana\", \"apple\", \"orange\"],\n",
    "        \"store\": [\"Whole Foods\", \"Whole Foods\", \"Schnucks\", \"Schnucks\"],\n",
    "        \"price\": [3, 2, 4, 5],\n",
    "    }\n",
    ")\n",
    "\n",
    "out_schema = pa.DataFrameSchema(\n",
    "    {\"store\": Column(str, Check.isin([\"Aldi\", \"Walmart\", \"Whole Foods\", \"Schnucks\"]))}\n",
    ")\n",
    "\n",
    "\n",
    "@check_output(out_schema)\n",
    "def combine_fruits(fruits_nearby: pd.DataFrame, fruits_faraway: pd.DataFrame):\n",
    "    fruits = pd.concat([fruits_nearby, fruits_faraway])\n",
    "    return fruits\n",
    "\n",
    "\n",
    "combine_fruits(fruits_nearby, fruits_faraway)"
   ]
  },
  {
   "cell_type": "markdown",
   "id": "c56d96d2",
   "metadata": {},
   "source": [
    "## Check Both"
   ]
  },
  {
   "cell_type": "code",
   "execution_count": 31,
   "id": "1fcc660e",
   "metadata": {
    "ExecuteTime": {
     "end_time": "2022-03-25T19:23:56.679696Z",
     "start_time": "2022-03-25T19:23:56.654195Z"
    }
   },
   "outputs": [
    {
     "data": {
      "text/html": [
       "<div>\n",
       "<style scoped>\n",
       "    .dataframe tbody tr th:only-of-type {\n",
       "        vertical-align: middle;\n",
       "    }\n",
       "\n",
       "    .dataframe tbody tr th {\n",
       "        vertical-align: top;\n",
       "    }\n",
       "\n",
       "    .dataframe thead th {\n",
       "        text-align: right;\n",
       "    }\n",
       "</style>\n",
       "<table border=\"1\" class=\"dataframe\">\n",
       "  <thead>\n",
       "    <tr style=\"text-align: right;\">\n",
       "      <th></th>\n",
       "      <th>name</th>\n",
       "      <th>store</th>\n",
       "      <th>price</th>\n",
       "    </tr>\n",
       "  </thead>\n",
       "  <tbody>\n",
       "    <tr>\n",
       "      <th>0</th>\n",
       "      <td>apple</td>\n",
       "      <td>Aldi</td>\n",
       "      <td>2</td>\n",
       "    </tr>\n",
       "    <tr>\n",
       "      <th>1</th>\n",
       "      <td>banana</td>\n",
       "      <td>Walmart</td>\n",
       "      <td>1</td>\n",
       "    </tr>\n",
       "    <tr>\n",
       "      <th>2</th>\n",
       "      <td>apple</td>\n",
       "      <td>Walmart</td>\n",
       "      <td>3</td>\n",
       "    </tr>\n",
       "    <tr>\n",
       "      <th>3</th>\n",
       "      <td>orange</td>\n",
       "      <td>Aldi</td>\n",
       "      <td>4</td>\n",
       "    </tr>\n",
       "    <tr>\n",
       "      <th>0</th>\n",
       "      <td>apple</td>\n",
       "      <td>Whole Foods</td>\n",
       "      <td>3</td>\n",
       "    </tr>\n",
       "    <tr>\n",
       "      <th>1</th>\n",
       "      <td>banana</td>\n",
       "      <td>Whole Foods</td>\n",
       "      <td>2</td>\n",
       "    </tr>\n",
       "    <tr>\n",
       "      <th>2</th>\n",
       "      <td>apple</td>\n",
       "      <td>Schnucks</td>\n",
       "      <td>4</td>\n",
       "    </tr>\n",
       "    <tr>\n",
       "      <th>3</th>\n",
       "      <td>orange</td>\n",
       "      <td>Schnucks</td>\n",
       "      <td>5</td>\n",
       "    </tr>\n",
       "  </tbody>\n",
       "</table>\n",
       "</div>"
      ],
      "text/plain": [
       "     name        store  price\n",
       "0   apple         Aldi      2\n",
       "1  banana      Walmart      1\n",
       "2   apple      Walmart      3\n",
       "3  orange         Aldi      4\n",
       "0   apple  Whole Foods      3\n",
       "1  banana  Whole Foods      2\n",
       "2   apple     Schnucks      4\n",
       "3  orange     Schnucks      5"
      ]
     },
     "execution_count": 31,
     "metadata": {},
     "output_type": "execute_result"
    },
    {
     "data": {
      "application/javascript": "\n            setTimeout(function() {\n                var nbb_cell_id = 31;\n                var nbb_unformatted_code = \"in_schema = pa.DataFrameSchema({\\\"store\\\": Column(str)})\\n\\nout_schema = pa.DataFrameSchema(\\n    {\\\"store\\\": Column(str, Check.isin([\\\"Aldi\\\", \\\"Walmart\\\", \\\"Whole Foods\\\", \\\"Schnucks\\\"]))}\\n)\\n\\n\\n@check_io(fruits_nearby=in_schema, fruits_faraway=in_schema, out=out_schema)\\ndef combine_fruits(fruits_nearby: pd.DataFrame, fruits_faraway: pd.DataFrame):\\n    fruits = pd.concat([fruits_nearby, fruits_faraway])\\n    return fruits\\n\\n\\ncombine_fruits(fruits_nearby, fruits_faraway)\";\n                var nbb_formatted_code = \"in_schema = pa.DataFrameSchema({\\\"store\\\": Column(str)})\\n\\nout_schema = pa.DataFrameSchema(\\n    {\\\"store\\\": Column(str, Check.isin([\\\"Aldi\\\", \\\"Walmart\\\", \\\"Whole Foods\\\", \\\"Schnucks\\\"]))}\\n)\\n\\n\\n@check_io(fruits_nearby=in_schema, fruits_faraway=in_schema, out=out_schema)\\ndef combine_fruits(fruits_nearby: pd.DataFrame, fruits_faraway: pd.DataFrame):\\n    fruits = pd.concat([fruits_nearby, fruits_faraway])\\n    return fruits\\n\\n\\ncombine_fruits(fruits_nearby, fruits_faraway)\";\n                var nbb_cells = Jupyter.notebook.get_cells();\n                for (var i = 0; i < nbb_cells.length; ++i) {\n                    if (nbb_cells[i].input_prompt_number == nbb_cell_id) {\n                        if (nbb_cells[i].get_text() == nbb_unformatted_code) {\n                             nbb_cells[i].set_text(nbb_formatted_code);\n                        }\n                        break;\n                    }\n                }\n            }, 500);\n            ",
      "text/plain": [
       "<IPython.core.display.Javascript object>"
      ]
     },
     "metadata": {},
     "output_type": "display_data"
    }
   ],
   "source": [
    "in_schema = pa.DataFrameSchema({\"store\": Column(str)})\n",
    "\n",
    "out_schema = pa.DataFrameSchema(\n",
    "    {\"store\": Column(str, Check.isin([\"Aldi\", \"Walmart\", \"Whole Foods\", \"Schnucks\"]))}\n",
    ")\n",
    "\n",
    "\n",
    "@check_io(fruits_nearby=in_schema, fruits_faraway=in_schema, out=out_schema)\n",
    "def combine_fruits(fruits_nearby: pd.DataFrame, fruits_faraway: pd.DataFrame):\n",
    "    fruits = pd.concat([fruits_nearby, fruits_faraway])\n",
    "    return fruits\n",
    "\n",
    "\n",
    "combine_fruits(fruits_nearby, fruits_faraway)"
   ]
  },
  {
   "cell_type": "markdown",
   "id": "67f25784",
   "metadata": {},
   "source": [
    "# Other Arguments for Column Validation"
   ]
  },
  {
   "cell_type": "markdown",
   "id": "ab134b13",
   "metadata": {},
   "source": [
    "## Deal with Null Values"
   ]
  },
  {
   "cell_type": "code",
   "execution_count": 7,
   "id": "c07491f2",
   "metadata": {
    "ExecuteTime": {
     "end_time": "2022-03-25T19:31:14.040777Z",
     "start_time": "2022-03-25T19:31:14.023763Z"
    }
   },
   "outputs": [
    {
     "data": {
      "text/html": [
       "<div>\n",
       "<style scoped>\n",
       "    .dataframe tbody tr th:only-of-type {\n",
       "        vertical-align: middle;\n",
       "    }\n",
       "\n",
       "    .dataframe tbody tr th {\n",
       "        vertical-align: top;\n",
       "    }\n",
       "\n",
       "    .dataframe thead th {\n",
       "        text-align: right;\n",
       "    }\n",
       "</style>\n",
       "<table border=\"1\" class=\"dataframe\">\n",
       "  <thead>\n",
       "    <tr style=\"text-align: right;\">\n",
       "      <th></th>\n",
       "      <th>name</th>\n",
       "      <th>store</th>\n",
       "      <th>price</th>\n",
       "    </tr>\n",
       "  </thead>\n",
       "  <tbody>\n",
       "    <tr>\n",
       "      <th>0</th>\n",
       "      <td>apple</td>\n",
       "      <td>Aldi</td>\n",
       "      <td>2</td>\n",
       "    </tr>\n",
       "    <tr>\n",
       "      <th>1</th>\n",
       "      <td>banana</td>\n",
       "      <td>Walmart</td>\n",
       "      <td>1</td>\n",
       "    </tr>\n",
       "    <tr>\n",
       "      <th>2</th>\n",
       "      <td>apple</td>\n",
       "      <td>Walmart</td>\n",
       "      <td>3</td>\n",
       "    </tr>\n",
       "    <tr>\n",
       "      <th>3</th>\n",
       "      <td>orange</td>\n",
       "      <td>NaN</td>\n",
       "      <td>4</td>\n",
       "    </tr>\n",
       "  </tbody>\n",
       "</table>\n",
       "</div>"
      ],
      "text/plain": [
       "     name    store  price\n",
       "0   apple     Aldi      2\n",
       "1  banana  Walmart      1\n",
       "2   apple  Walmart      3\n",
       "3  orange      NaN      4"
      ]
     },
     "execution_count": 7,
     "metadata": {},
     "output_type": "execute_result"
    }
   ],
   "source": [
    "import numpy as np\n",
    "\n",
    "fruits = pd.DataFrame(\n",
    "    {\n",
    "        \"name\": [\"apple\", \"banana\", \"apple\", \"orange\"],\n",
    "        \"store\": [\"Aldi\", \"Walmart\", \"Walmart\", np.nan],\n",
    "        \"price\": [2, 1, 3, 4],\n",
    "    }\n",
    ")\n",
    "\n",
    "fruits"
   ]
  },
  {
   "cell_type": "code",
   "execution_count": 19,
   "id": "57828b2f",
   "metadata": {
    "ExecuteTime": {
     "end_time": "2022-03-25T19:31:14.622436Z",
     "start_time": "2022-03-25T19:31:14.417389Z"
    }
   },
   "outputs": [
    {
     "data": {
      "text/html": [
       "<div>\n",
       "<style scoped>\n",
       "    .dataframe tbody tr th:only-of-type {\n",
       "        vertical-align: middle;\n",
       "    }\n",
       "\n",
       "    .dataframe tbody tr th {\n",
       "        vertical-align: top;\n",
       "    }\n",
       "\n",
       "    .dataframe thead th {\n",
       "        text-align: right;\n",
       "    }\n",
       "</style>\n",
       "<table border=\"1\" class=\"dataframe\">\n",
       "  <thead>\n",
       "    <tr style=\"text-align: right;\">\n",
       "      <th></th>\n",
       "      <th>name</th>\n",
       "      <th>store</th>\n",
       "      <th>price</th>\n",
       "    </tr>\n",
       "  </thead>\n",
       "  <tbody>\n",
       "    <tr>\n",
       "      <th>0</th>\n",
       "      <td>apple</td>\n",
       "      <td>Aldi</td>\n",
       "      <td>2</td>\n",
       "    </tr>\n",
       "    <tr>\n",
       "      <th>1</th>\n",
       "      <td>banana</td>\n",
       "      <td>Walmart</td>\n",
       "      <td>1</td>\n",
       "    </tr>\n",
       "    <tr>\n",
       "      <th>2</th>\n",
       "      <td>apple</td>\n",
       "      <td>Walmart</td>\n",
       "      <td>3</td>\n",
       "    </tr>\n",
       "    <tr>\n",
       "      <th>3</th>\n",
       "      <td>orange</td>\n",
       "      <td>NaN</td>\n",
       "      <td>4</td>\n",
       "    </tr>\n",
       "  </tbody>\n",
       "</table>\n",
       "</div>"
      ],
      "text/plain": [
       "     name    store  price\n",
       "0   apple     Aldi      2\n",
       "1  banana  Walmart      1\n",
       "2   apple  Walmart      3\n",
       "3  orange      NaN      4"
      ]
     },
     "execution_count": 19,
     "metadata": {},
     "output_type": "execute_result"
    }
   ],
   "source": [
    "schema = pa.DataFrameSchema(\n",
    "    {\n",
    "        \"name\": Column(str, Check.isin(available_fruits)),\n",
    "        \"store\": Column(\n",
    "            str,\n",
    "            Check.isin(nearby_stores),\n",
    "            nullable=True,\n",
    "        ),\n",
    "        \"price\": Column(int, Check.less_than(5)),\n",
    "    }\n",
    ")\n",
    "schema.validate(fruits)\n"
   ]
  },
  {
   "cell_type": "markdown",
   "id": "e4998af4",
   "metadata": {},
   "source": [
    "## Deal with Duplicates"
   ]
  },
  {
   "cell_type": "code",
   "execution_count": 26,
   "id": "a0d79c0a",
   "metadata": {
    "ExecuteTime": {
     "end_time": "2022-03-25T15:35:48.286483Z",
     "start_time": "2022-03-25T15:35:48.217538Z"
    }
   },
   "outputs": [
    {
     "ename": "SchemaError",
     "evalue": "series 'store' contains duplicate values:\n2    Walmart\nName: store, dtype: object",
     "output_type": "error",
     "traceback": [
      "\u001b[0;31m---------------------------------------------------------------------------\u001b[0m",
      "\u001b[0;31mSchemaError\u001b[0m                               Traceback (most recent call last)",
      "\u001b[1;32m/Users/khuyen/Data-science/data_science_tools/pandera_example/pandera.ipynb Cell 26'\u001b[0m in \u001b[0;36m<cell line: 13>\u001b[0;34m()\u001b[0m\n\u001b[1;32m      <a href='vscode-notebook-cell:/Users/khuyen/Data-science/data_science_tools/pandera_example/pandera.ipynb#ch0000026?line=0'>1</a>\u001b[0m schema \u001b[39m=\u001b[39m pa\u001b[39m.\u001b[39mDataFrameSchema(\n\u001b[1;32m      <a href='vscode-notebook-cell:/Users/khuyen/Data-science/data_science_tools/pandera_example/pandera.ipynb#ch0000026?line=1'>2</a>\u001b[0m     {\n\u001b[1;32m      <a href='vscode-notebook-cell:/Users/khuyen/Data-science/data_science_tools/pandera_example/pandera.ipynb#ch0000026?line=2'>3</a>\u001b[0m         \u001b[39m\"\u001b[39m\u001b[39mname\u001b[39m\u001b[39m\"\u001b[39m: Column(\u001b[39mstr\u001b[39m, Check\u001b[39m.\u001b[39misin(available_fruits)),\n\u001b[0;32m   (...)\u001b[0m\n\u001b[1;32m     <a href='vscode-notebook-cell:/Users/khuyen/Data-science/data_science_tools/pandera_example/pandera.ipynb#ch0000026?line=10'>11</a>\u001b[0m     }\n\u001b[1;32m     <a href='vscode-notebook-cell:/Users/khuyen/Data-science/data_science_tools/pandera_example/pandera.ipynb#ch0000026?line=11'>12</a>\u001b[0m )\n\u001b[0;32m---> <a href='vscode-notebook-cell:/Users/khuyen/Data-science/data_science_tools/pandera_example/pandera.ipynb#ch0000026?line=12'>13</a>\u001b[0m schema\u001b[39m.\u001b[39;49mvalidate(fruits)\n",
      "File \u001b[0;32m~/Data-science/venv/lib/python3.9/site-packages/pandera/schemas.py:515\u001b[0m, in \u001b[0;36mDataFrameSchema.validate\u001b[0;34m(self, check_obj, head, tail, sample, random_state, lazy, inplace)\u001b[0m\n\u001b[1;32m    <a href='file:///Users/khuyen/Data-science/venv/lib/python3.9/site-packages/pandera/schemas.py?line=501'>502</a>\u001b[0m     check_obj \u001b[39m=\u001b[39m check_obj\u001b[39m.\u001b[39mmap_partitions(\n\u001b[1;32m    <a href='file:///Users/khuyen/Data-science/venv/lib/python3.9/site-packages/pandera/schemas.py?line=502'>503</a>\u001b[0m         \u001b[39mself\u001b[39m\u001b[39m.\u001b[39m_validate,\n\u001b[1;32m    <a href='file:///Users/khuyen/Data-science/venv/lib/python3.9/site-packages/pandera/schemas.py?line=503'>504</a>\u001b[0m         head\u001b[39m=\u001b[39mhead,\n\u001b[0;32m   (...)\u001b[0m\n\u001b[1;32m    <a href='file:///Users/khuyen/Data-science/venv/lib/python3.9/site-packages/pandera/schemas.py?line=509'>510</a>\u001b[0m         meta\u001b[39m=\u001b[39mcheck_obj,\n\u001b[1;32m    <a href='file:///Users/khuyen/Data-science/venv/lib/python3.9/site-packages/pandera/schemas.py?line=510'>511</a>\u001b[0m     )\n\u001b[1;32m    <a href='file:///Users/khuyen/Data-science/venv/lib/python3.9/site-packages/pandera/schemas.py?line=512'>513</a>\u001b[0m     \u001b[39mreturn\u001b[39;00m check_obj\u001b[39m.\u001b[39mpandera\u001b[39m.\u001b[39madd_schema(\u001b[39mself\u001b[39m)\n\u001b[0;32m--> <a href='file:///Users/khuyen/Data-science/venv/lib/python3.9/site-packages/pandera/schemas.py?line=514'>515</a>\u001b[0m \u001b[39mreturn\u001b[39;00m \u001b[39mself\u001b[39;49m\u001b[39m.\u001b[39;49m_validate(\n\u001b[1;32m    <a href='file:///Users/khuyen/Data-science/venv/lib/python3.9/site-packages/pandera/schemas.py?line=515'>516</a>\u001b[0m     check_obj\u001b[39m=\u001b[39;49mcheck_obj,\n\u001b[1;32m    <a href='file:///Users/khuyen/Data-science/venv/lib/python3.9/site-packages/pandera/schemas.py?line=516'>517</a>\u001b[0m     head\u001b[39m=\u001b[39;49mhead,\n\u001b[1;32m    <a href='file:///Users/khuyen/Data-science/venv/lib/python3.9/site-packages/pandera/schemas.py?line=517'>518</a>\u001b[0m     tail\u001b[39m=\u001b[39;49mtail,\n\u001b[1;32m    <a href='file:///Users/khuyen/Data-science/venv/lib/python3.9/site-packages/pandera/schemas.py?line=518'>519</a>\u001b[0m     sample\u001b[39m=\u001b[39;49msample,\n\u001b[1;32m    <a href='file:///Users/khuyen/Data-science/venv/lib/python3.9/site-packages/pandera/schemas.py?line=519'>520</a>\u001b[0m     random_state\u001b[39m=\u001b[39;49mrandom_state,\n\u001b[1;32m    <a href='file:///Users/khuyen/Data-science/venv/lib/python3.9/site-packages/pandera/schemas.py?line=520'>521</a>\u001b[0m     lazy\u001b[39m=\u001b[39;49mlazy,\n\u001b[1;32m    <a href='file:///Users/khuyen/Data-science/venv/lib/python3.9/site-packages/pandera/schemas.py?line=521'>522</a>\u001b[0m     inplace\u001b[39m=\u001b[39;49minplace,\n\u001b[1;32m    <a href='file:///Users/khuyen/Data-science/venv/lib/python3.9/site-packages/pandera/schemas.py?line=522'>523</a>\u001b[0m )\n",
      "File \u001b[0;32m~/Data-science/venv/lib/python3.9/site-packages/pandera/schemas.py:712\u001b[0m, in \u001b[0;36mDataFrameSchema._validate\u001b[0;34m(self, check_obj, head, tail, sample, random_state, lazy, inplace)\u001b[0m\n\u001b[1;32m    <a href='file:///Users/khuyen/Data-science/venv/lib/python3.9/site-packages/pandera/schemas.py?line=709'>710</a>\u001b[0m     check_results\u001b[39m.\u001b[39mappend(check_utils\u001b[39m.\u001b[39mis_table(result))\n\u001b[1;32m    <a href='file:///Users/khuyen/Data-science/venv/lib/python3.9/site-packages/pandera/schemas.py?line=710'>711</a>\u001b[0m \u001b[39mexcept\u001b[39;00m errors\u001b[39m.\u001b[39mSchemaError \u001b[39mas\u001b[39;00m err:\n\u001b[0;32m--> <a href='file:///Users/khuyen/Data-science/venv/lib/python3.9/site-packages/pandera/schemas.py?line=711'>712</a>\u001b[0m     error_handler\u001b[39m.\u001b[39;49mcollect_error(\u001b[39m\"\u001b[39;49m\u001b[39mschema_component_check\u001b[39;49m\u001b[39m\"\u001b[39;49m, err)\n\u001b[1;32m    <a href='file:///Users/khuyen/Data-science/venv/lib/python3.9/site-packages/pandera/schemas.py?line=712'>713</a>\u001b[0m \u001b[39mexcept\u001b[39;00m errors\u001b[39m.\u001b[39mSchemaErrors \u001b[39mas\u001b[39;00m err:\n\u001b[1;32m    <a href='file:///Users/khuyen/Data-science/venv/lib/python3.9/site-packages/pandera/schemas.py?line=713'>714</a>\u001b[0m     \u001b[39mfor\u001b[39;00m schema_error_dict \u001b[39min\u001b[39;00m err\u001b[39m.\u001b[39mschema_errors:\n",
      "File \u001b[0;32m~/Data-science/venv/lib/python3.9/site-packages/pandera/error_handlers.py:32\u001b[0m, in \u001b[0;36mSchemaErrorHandler.collect_error\u001b[0;34m(self, reason_code, schema_error, original_exc)\u001b[0m\n\u001b[1;32m     <a href='file:///Users/khuyen/Data-science/venv/lib/python3.9/site-packages/pandera/error_handlers.py?line=25'>26</a>\u001b[0m \u001b[39m\"\"\"Collect schema error, raising exception if lazy is False.\u001b[39;00m\n\u001b[1;32m     <a href='file:///Users/khuyen/Data-science/venv/lib/python3.9/site-packages/pandera/error_handlers.py?line=26'>27</a>\u001b[0m \n\u001b[1;32m     <a href='file:///Users/khuyen/Data-science/venv/lib/python3.9/site-packages/pandera/error_handlers.py?line=27'>28</a>\u001b[0m \u001b[39m:param reason_code: string representing reason for error\u001b[39;00m\n\u001b[1;32m     <a href='file:///Users/khuyen/Data-science/venv/lib/python3.9/site-packages/pandera/error_handlers.py?line=28'>29</a>\u001b[0m \u001b[39m:param schema_error: ``SchemaError`` object.\u001b[39;00m\n\u001b[1;32m     <a href='file:///Users/khuyen/Data-science/venv/lib/python3.9/site-packages/pandera/error_handlers.py?line=29'>30</a>\u001b[0m \u001b[39m\"\"\"\u001b[39;00m\n\u001b[1;32m     <a href='file:///Users/khuyen/Data-science/venv/lib/python3.9/site-packages/pandera/error_handlers.py?line=30'>31</a>\u001b[0m \u001b[39mif\u001b[39;00m \u001b[39mnot\u001b[39;00m \u001b[39mself\u001b[39m\u001b[39m.\u001b[39m_lazy:\n\u001b[0;32m---> <a href='file:///Users/khuyen/Data-science/venv/lib/python3.9/site-packages/pandera/error_handlers.py?line=31'>32</a>\u001b[0m     \u001b[39mraise\u001b[39;00m schema_error \u001b[39mfrom\u001b[39;00m \u001b[39moriginal_exc\u001b[39;00m\n\u001b[1;32m     <a href='file:///Users/khuyen/Data-science/venv/lib/python3.9/site-packages/pandera/error_handlers.py?line=33'>34</a>\u001b[0m \u001b[39m# delete data of validated object from SchemaError object to prevent\u001b[39;00m\n\u001b[1;32m     <a href='file:///Users/khuyen/Data-science/venv/lib/python3.9/site-packages/pandera/error_handlers.py?line=34'>35</a>\u001b[0m \u001b[39m# storing copies of the validated DataFrame/Series for every\u001b[39;00m\n\u001b[1;32m     <a href='file:///Users/khuyen/Data-science/venv/lib/python3.9/site-packages/pandera/error_handlers.py?line=35'>36</a>\u001b[0m \u001b[39m# SchemaError collected.\u001b[39;00m\n\u001b[1;32m     <a href='file:///Users/khuyen/Data-science/venv/lib/python3.9/site-packages/pandera/error_handlers.py?line=36'>37</a>\u001b[0m \u001b[39mdel\u001b[39;00m schema_error\u001b[39m.\u001b[39mdata\n",
      "File \u001b[0;32m~/Data-science/venv/lib/python3.9/site-packages/pandera/schemas.py:704\u001b[0m, in \u001b[0;36mDataFrameSchema._validate\u001b[0;34m(self, check_obj, head, tail, sample, random_state, lazy, inplace)\u001b[0m\n\u001b[1;32m    <a href='file:///Users/khuyen/Data-science/venv/lib/python3.9/site-packages/pandera/schemas.py?line=701'>702</a>\u001b[0m \u001b[39mfor\u001b[39;00m schema_component \u001b[39min\u001b[39;00m schema_components:\n\u001b[1;32m    <a href='file:///Users/khuyen/Data-science/venv/lib/python3.9/site-packages/pandera/schemas.py?line=702'>703</a>\u001b[0m     \u001b[39mtry\u001b[39;00m:\n\u001b[0;32m--> <a href='file:///Users/khuyen/Data-science/venv/lib/python3.9/site-packages/pandera/schemas.py?line=703'>704</a>\u001b[0m         result \u001b[39m=\u001b[39m schema_component(\n\u001b[1;32m    <a href='file:///Users/khuyen/Data-science/venv/lib/python3.9/site-packages/pandera/schemas.py?line=704'>705</a>\u001b[0m             df_to_validate,\n\u001b[1;32m    <a href='file:///Users/khuyen/Data-science/venv/lib/python3.9/site-packages/pandera/schemas.py?line=705'>706</a>\u001b[0m             lazy\u001b[39m=\u001b[39;49mlazy,\n\u001b[1;32m    <a href='file:///Users/khuyen/Data-science/venv/lib/python3.9/site-packages/pandera/schemas.py?line=706'>707</a>\u001b[0m             \u001b[39m# don't make a copy of the data\u001b[39;49;00m\n\u001b[1;32m    <a href='file:///Users/khuyen/Data-science/venv/lib/python3.9/site-packages/pandera/schemas.py?line=707'>708</a>\u001b[0m             inplace\u001b[39m=\u001b[39;49m\u001b[39mTrue\u001b[39;49;00m,\n\u001b[1;32m    <a href='file:///Users/khuyen/Data-science/venv/lib/python3.9/site-packages/pandera/schemas.py?line=708'>709</a>\u001b[0m         )\n\u001b[1;32m    <a href='file:///Users/khuyen/Data-science/venv/lib/python3.9/site-packages/pandera/schemas.py?line=709'>710</a>\u001b[0m         check_results\u001b[39m.\u001b[39mappend(check_utils\u001b[39m.\u001b[39mis_table(result))\n\u001b[1;32m    <a href='file:///Users/khuyen/Data-science/venv/lib/python3.9/site-packages/pandera/schemas.py?line=710'>711</a>\u001b[0m     \u001b[39mexcept\u001b[39;00m errors\u001b[39m.\u001b[39mSchemaError \u001b[39mas\u001b[39;00m err:\n",
      "File \u001b[0;32m~/Data-science/venv/lib/python3.9/site-packages/pandera/schemas.py:2046\u001b[0m, in \u001b[0;36mSeriesSchemaBase.__call__\u001b[0;34m(self, check_obj, head, tail, sample, random_state, lazy, inplace)\u001b[0m\n\u001b[1;32m   <a href='file:///Users/khuyen/Data-science/venv/lib/python3.9/site-packages/pandera/schemas.py?line=2034'>2035</a>\u001b[0m \u001b[39mdef\u001b[39;00m \u001b[39m__call__\u001b[39m(\n\u001b[1;32m   <a href='file:///Users/khuyen/Data-science/venv/lib/python3.9/site-packages/pandera/schemas.py?line=2035'>2036</a>\u001b[0m     \u001b[39mself\u001b[39m,\n\u001b[1;32m   <a href='file:///Users/khuyen/Data-science/venv/lib/python3.9/site-packages/pandera/schemas.py?line=2036'>2037</a>\u001b[0m     check_obj: Union[pd\u001b[39m.\u001b[39mDataFrame, pd\u001b[39m.\u001b[39mSeries],\n\u001b[0;32m   (...)\u001b[0m\n\u001b[1;32m   <a href='file:///Users/khuyen/Data-science/venv/lib/python3.9/site-packages/pandera/schemas.py?line=2042'>2043</a>\u001b[0m     inplace: \u001b[39mbool\u001b[39m \u001b[39m=\u001b[39m \u001b[39mFalse\u001b[39;00m,\n\u001b[1;32m   <a href='file:///Users/khuyen/Data-science/venv/lib/python3.9/site-packages/pandera/schemas.py?line=2043'>2044</a>\u001b[0m ) \u001b[39m-\u001b[39m\u001b[39m>\u001b[39m Union[pd\u001b[39m.\u001b[39mDataFrame, pd\u001b[39m.\u001b[39mSeries]:\n\u001b[1;32m   <a href='file:///Users/khuyen/Data-science/venv/lib/python3.9/site-packages/pandera/schemas.py?line=2044'>2045</a>\u001b[0m     \u001b[39m\"\"\"Alias for ``validate`` method.\"\"\"\u001b[39;00m\n\u001b[0;32m-> <a href='file:///Users/khuyen/Data-science/venv/lib/python3.9/site-packages/pandera/schemas.py?line=2045'>2046</a>\u001b[0m     \u001b[39mreturn\u001b[39;00m \u001b[39mself\u001b[39;49m\u001b[39m.\u001b[39;49mvalidate(\n\u001b[1;32m   <a href='file:///Users/khuyen/Data-science/venv/lib/python3.9/site-packages/pandera/schemas.py?line=2046'>2047</a>\u001b[0m         check_obj, head, tail, sample, random_state, lazy, inplace\n\u001b[1;32m   <a href='file:///Users/khuyen/Data-science/venv/lib/python3.9/site-packages/pandera/schemas.py?line=2047'>2048</a>\u001b[0m     )\n",
      "File \u001b[0;32m~/Data-science/venv/lib/python3.9/site-packages/pandera/schema_components.py:214\u001b[0m, in \u001b[0;36mColumn.validate\u001b[0;34m(self, check_obj, head, tail, sample, random_state, lazy, inplace)\u001b[0m\n\u001b[1;32m    <a href='file:///Users/khuyen/Data-science/venv/lib/python3.9/site-packages/pandera/schema_components.py?line=209'>210</a>\u001b[0m             validate_column(\n\u001b[1;32m    <a href='file:///Users/khuyen/Data-science/venv/lib/python3.9/site-packages/pandera/schema_components.py?line=210'>211</a>\u001b[0m                 check_obj[column_name]\u001b[39m.\u001b[39miloc[:, [i]], column_name\n\u001b[1;32m    <a href='file:///Users/khuyen/Data-science/venv/lib/python3.9/site-packages/pandera/schema_components.py?line=211'>212</a>\u001b[0m             )\n\u001b[1;32m    <a href='file:///Users/khuyen/Data-science/venv/lib/python3.9/site-packages/pandera/schema_components.py?line=212'>213</a>\u001b[0m     \u001b[39melse\u001b[39;00m:\n\u001b[0;32m--> <a href='file:///Users/khuyen/Data-science/venv/lib/python3.9/site-packages/pandera/schema_components.py?line=213'>214</a>\u001b[0m         validate_column(check_obj, column_name)\n\u001b[1;32m    <a href='file:///Users/khuyen/Data-science/venv/lib/python3.9/site-packages/pandera/schema_components.py?line=215'>216</a>\u001b[0m \u001b[39mreturn\u001b[39;00m check_obj\n",
      "File \u001b[0;32m~/Data-science/venv/lib/python3.9/site-packages/pandera/schema_components.py:187\u001b[0m, in \u001b[0;36mColumn.validate.<locals>.validate_column\u001b[0;34m(check_obj, column_name)\u001b[0m\n\u001b[1;32m    <a href='file:///Users/khuyen/Data-science/venv/lib/python3.9/site-packages/pandera/schema_components.py?line=185'>186</a>\u001b[0m \u001b[39mdef\u001b[39;00m \u001b[39mvalidate_column\u001b[39m(check_obj, column_name):\n\u001b[0;32m--> <a href='file:///Users/khuyen/Data-science/venv/lib/python3.9/site-packages/pandera/schema_components.py?line=186'>187</a>\u001b[0m     \u001b[39msuper\u001b[39;49m(Column, copy(\u001b[39mself\u001b[39;49m)\u001b[39m.\u001b[39;49mset_name(column_name))\u001b[39m.\u001b[39;49mvalidate(\n\u001b[1;32m    <a href='file:///Users/khuyen/Data-science/venv/lib/python3.9/site-packages/pandera/schema_components.py?line=187'>188</a>\u001b[0m         check_obj,\n\u001b[1;32m    <a href='file:///Users/khuyen/Data-science/venv/lib/python3.9/site-packages/pandera/schema_components.py?line=188'>189</a>\u001b[0m         head,\n\u001b[1;32m    <a href='file:///Users/khuyen/Data-science/venv/lib/python3.9/site-packages/pandera/schema_components.py?line=189'>190</a>\u001b[0m         tail,\n\u001b[1;32m    <a href='file:///Users/khuyen/Data-science/venv/lib/python3.9/site-packages/pandera/schema_components.py?line=190'>191</a>\u001b[0m         sample,\n\u001b[1;32m    <a href='file:///Users/khuyen/Data-science/venv/lib/python3.9/site-packages/pandera/schema_components.py?line=191'>192</a>\u001b[0m         random_state,\n\u001b[1;32m    <a href='file:///Users/khuyen/Data-science/venv/lib/python3.9/site-packages/pandera/schema_components.py?line=192'>193</a>\u001b[0m         lazy,\n\u001b[1;32m    <a href='file:///Users/khuyen/Data-science/venv/lib/python3.9/site-packages/pandera/schema_components.py?line=193'>194</a>\u001b[0m         inplace\u001b[39m=\u001b[39;49minplace,\n\u001b[1;32m    <a href='file:///Users/khuyen/Data-science/venv/lib/python3.9/site-packages/pandera/schema_components.py?line=194'>195</a>\u001b[0m     )\n",
      "File \u001b[0;32m~/Data-science/venv/lib/python3.9/site-packages/pandera/schemas.py:1961\u001b[0m, in \u001b[0;36mSeriesSchemaBase.validate\u001b[0;34m(self, check_obj, head, tail, sample, random_state, lazy, inplace)\u001b[0m\n\u001b[1;32m   <a href='file:///Users/khuyen/Data-science/venv/lib/python3.9/site-packages/pandera/schemas.py?line=1955'>1956</a>\u001b[0m     \u001b[39mif\u001b[39;00m duplicates\u001b[39m.\u001b[39many():\n\u001b[1;32m   <a href='file:///Users/khuyen/Data-science/venv/lib/python3.9/site-packages/pandera/schemas.py?line=1956'>1957</a>\u001b[0m         msg \u001b[39m=\u001b[39m (\n\u001b[1;32m   <a href='file:///Users/khuyen/Data-science/venv/lib/python3.9/site-packages/pandera/schemas.py?line=1957'>1958</a>\u001b[0m             \u001b[39mf\u001b[39m\u001b[39m\"\u001b[39m\u001b[39mseries \u001b[39m\u001b[39m'\u001b[39m\u001b[39m{\u001b[39;00mseries\u001b[39m.\u001b[39mname\u001b[39m}\u001b[39;00m\u001b[39m'\u001b[39m\u001b[39m contains duplicate values:\u001b[39m\u001b[39m\\n\u001b[39;00m\u001b[39m\"\u001b[39m\n\u001b[1;32m   <a href='file:///Users/khuyen/Data-science/venv/lib/python3.9/site-packages/pandera/schemas.py?line=1958'>1959</a>\u001b[0m             \u001b[39mf\u001b[39m\u001b[39m\"\u001b[39m\u001b[39m{\u001b[39;00mfailed\u001b[39m}\u001b[39;00m\u001b[39m\"\u001b[39m\n\u001b[1;32m   <a href='file:///Users/khuyen/Data-science/venv/lib/python3.9/site-packages/pandera/schemas.py?line=1959'>1960</a>\u001b[0m         )\n\u001b[0;32m-> <a href='file:///Users/khuyen/Data-science/venv/lib/python3.9/site-packages/pandera/schemas.py?line=1960'>1961</a>\u001b[0m         error_handler\u001b[39m.\u001b[39;49mcollect_error(\n\u001b[1;32m   <a href='file:///Users/khuyen/Data-science/venv/lib/python3.9/site-packages/pandera/schemas.py?line=1961'>1962</a>\u001b[0m             \u001b[39m\"\u001b[39;49m\u001b[39mseries_contains_duplicates\u001b[39;49m\u001b[39m\"\u001b[39;49m,\n\u001b[1;32m   <a href='file:///Users/khuyen/Data-science/venv/lib/python3.9/site-packages/pandera/schemas.py?line=1962'>1963</a>\u001b[0m             errors\u001b[39m.\u001b[39;49mSchemaError(\n\u001b[1;32m   <a href='file:///Users/khuyen/Data-science/venv/lib/python3.9/site-packages/pandera/schemas.py?line=1963'>1964</a>\u001b[0m                 \u001b[39mself\u001b[39;49m,\n\u001b[1;32m   <a href='file:///Users/khuyen/Data-science/venv/lib/python3.9/site-packages/pandera/schemas.py?line=1964'>1965</a>\u001b[0m                 check_obj,\n\u001b[1;32m   <a href='file:///Users/khuyen/Data-science/venv/lib/python3.9/site-packages/pandera/schemas.py?line=1965'>1966</a>\u001b[0m                 msg,\n\u001b[1;32m   <a href='file:///Users/khuyen/Data-science/venv/lib/python3.9/site-packages/pandera/schemas.py?line=1966'>1967</a>\u001b[0m                 failure_cases\u001b[39m=\u001b[39;49mreshape_failure_cases(failed),\n\u001b[1;32m   <a href='file:///Users/khuyen/Data-science/venv/lib/python3.9/site-packages/pandera/schemas.py?line=1967'>1968</a>\u001b[0m                 check\u001b[39m=\u001b[39;49m\u001b[39m\"\u001b[39;49m\u001b[39mfield_uniqueness\u001b[39;49m\u001b[39m\"\u001b[39;49m,\n\u001b[1;32m   <a href='file:///Users/khuyen/Data-science/venv/lib/python3.9/site-packages/pandera/schemas.py?line=1968'>1969</a>\u001b[0m             ),\n\u001b[1;32m   <a href='file:///Users/khuyen/Data-science/venv/lib/python3.9/site-packages/pandera/schemas.py?line=1969'>1970</a>\u001b[0m         )\n\u001b[1;32m   <a href='file:///Users/khuyen/Data-science/venv/lib/python3.9/site-packages/pandera/schemas.py?line=1971'>1972</a>\u001b[0m \u001b[39mif\u001b[39;00m \u001b[39mself\u001b[39m\u001b[39m.\u001b[39m_dtype \u001b[39mis\u001b[39;00m \u001b[39mnot\u001b[39;00m \u001b[39mNone\u001b[39;00m \u001b[39mand\u001b[39;00m (\n\u001b[1;32m   <a href='file:///Users/khuyen/Data-science/venv/lib/python3.9/site-packages/pandera/schemas.py?line=1972'>1973</a>\u001b[0m     \u001b[39mnot\u001b[39;00m \u001b[39mself\u001b[39m\u001b[39m.\u001b[39m_dtype\u001b[39m.\u001b[39mcheck(pandas_engine\u001b[39m.\u001b[39mEngine\u001b[39m.\u001b[39mdtype(series\u001b[39m.\u001b[39mdtype))\n\u001b[1;32m   <a href='file:///Users/khuyen/Data-science/venv/lib/python3.9/site-packages/pandera/schemas.py?line=1973'>1974</a>\u001b[0m ):\n\u001b[1;32m   <a href='file:///Users/khuyen/Data-science/venv/lib/python3.9/site-packages/pandera/schemas.py?line=1974'>1975</a>\u001b[0m     msg \u001b[39m=\u001b[39m (\n\u001b[1;32m   <a href='file:///Users/khuyen/Data-science/venv/lib/python3.9/site-packages/pandera/schemas.py?line=1975'>1976</a>\u001b[0m         \u001b[39mf\u001b[39m\u001b[39m\"\u001b[39m\u001b[39mexpected series \u001b[39m\u001b[39m'\u001b[39m\u001b[39m{\u001b[39;00mseries\u001b[39m.\u001b[39mname\u001b[39m}\u001b[39;00m\u001b[39m'\u001b[39m\u001b[39m to have type \u001b[39m\u001b[39m{\u001b[39;00m\u001b[39mself\u001b[39m\u001b[39m.\u001b[39m_dtype\u001b[39m}\u001b[39;00m\u001b[39m, \u001b[39m\u001b[39m\"\u001b[39m\n\u001b[1;32m   <a href='file:///Users/khuyen/Data-science/venv/lib/python3.9/site-packages/pandera/schemas.py?line=1976'>1977</a>\u001b[0m         \u001b[39m+\u001b[39m \u001b[39mf\u001b[39m\u001b[39m\"\u001b[39m\u001b[39mgot \u001b[39m\u001b[39m{\u001b[39;00mseries\u001b[39m.\u001b[39mdtype\u001b[39m}\u001b[39;00m\u001b[39m\"\u001b[39m\n\u001b[1;32m   <a href='file:///Users/khuyen/Data-science/venv/lib/python3.9/site-packages/pandera/schemas.py?line=1977'>1978</a>\u001b[0m     )\n",
      "File \u001b[0;32m~/Data-science/venv/lib/python3.9/site-packages/pandera/error_handlers.py:32\u001b[0m, in \u001b[0;36mSchemaErrorHandler.collect_error\u001b[0;34m(self, reason_code, schema_error, original_exc)\u001b[0m\n\u001b[1;32m     <a href='file:///Users/khuyen/Data-science/venv/lib/python3.9/site-packages/pandera/error_handlers.py?line=25'>26</a>\u001b[0m \u001b[39m\"\"\"Collect schema error, raising exception if lazy is False.\u001b[39;00m\n\u001b[1;32m     <a href='file:///Users/khuyen/Data-science/venv/lib/python3.9/site-packages/pandera/error_handlers.py?line=26'>27</a>\u001b[0m \n\u001b[1;32m     <a href='file:///Users/khuyen/Data-science/venv/lib/python3.9/site-packages/pandera/error_handlers.py?line=27'>28</a>\u001b[0m \u001b[39m:param reason_code: string representing reason for error\u001b[39;00m\n\u001b[1;32m     <a href='file:///Users/khuyen/Data-science/venv/lib/python3.9/site-packages/pandera/error_handlers.py?line=28'>29</a>\u001b[0m \u001b[39m:param schema_error: ``SchemaError`` object.\u001b[39;00m\n\u001b[1;32m     <a href='file:///Users/khuyen/Data-science/venv/lib/python3.9/site-packages/pandera/error_handlers.py?line=29'>30</a>\u001b[0m \u001b[39m\"\"\"\u001b[39;00m\n\u001b[1;32m     <a href='file:///Users/khuyen/Data-science/venv/lib/python3.9/site-packages/pandera/error_handlers.py?line=30'>31</a>\u001b[0m \u001b[39mif\u001b[39;00m \u001b[39mnot\u001b[39;00m \u001b[39mself\u001b[39m\u001b[39m.\u001b[39m_lazy:\n\u001b[0;32m---> <a href='file:///Users/khuyen/Data-science/venv/lib/python3.9/site-packages/pandera/error_handlers.py?line=31'>32</a>\u001b[0m     \u001b[39mraise\u001b[39;00m schema_error \u001b[39mfrom\u001b[39;00m \u001b[39moriginal_exc\u001b[39;00m\n\u001b[1;32m     <a href='file:///Users/khuyen/Data-science/venv/lib/python3.9/site-packages/pandera/error_handlers.py?line=33'>34</a>\u001b[0m \u001b[39m# delete data of validated object from SchemaError object to prevent\u001b[39;00m\n\u001b[1;32m     <a href='file:///Users/khuyen/Data-science/venv/lib/python3.9/site-packages/pandera/error_handlers.py?line=34'>35</a>\u001b[0m \u001b[39m# storing copies of the validated DataFrame/Series for every\u001b[39;00m\n\u001b[1;32m     <a href='file:///Users/khuyen/Data-science/venv/lib/python3.9/site-packages/pandera/error_handlers.py?line=35'>36</a>\u001b[0m \u001b[39m# SchemaError collected.\u001b[39;00m\n\u001b[1;32m     <a href='file:///Users/khuyen/Data-science/venv/lib/python3.9/site-packages/pandera/error_handlers.py?line=36'>37</a>\u001b[0m \u001b[39mdel\u001b[39;00m schema_error\u001b[39m.\u001b[39mdata\n",
      "\u001b[0;31mSchemaError\u001b[0m: series 'store' contains duplicate values:\n2    Walmart\nName: store, dtype: object"
     ]
    }
   ],
   "source": [
    "schema = pa.DataFrameSchema(\n",
    "    {\n",
    "        \"name\": Column(str, Check.isin(available_fruits)),\n",
    "        \"store\": Column(\n",
    "            str,\n",
    "            Check.isin(nearby_stores),\n",
    "            nullable=True,\n",
    "            unique=True\n",
    "        ),\n",
    "        \"price\": Column(int, Check.less_than(5)),\n",
    "    }\n",
    ")\n",
    "schema.validate(fruits)\n"
   ]
  },
  {
   "cell_type": "markdown",
   "id": "045edb47",
   "metadata": {},
   "source": [
    "## Convert Data Types"
   ]
  },
  {
   "cell_type": "code",
   "execution_count": 29,
   "id": "0e7e9deb",
   "metadata": {
    "ExecuteTime": {
     "end_time": "2022-03-25T19:38:21.614473Z",
     "start_time": "2022-03-25T19:38:21.589580Z"
    }
   },
   "outputs": [
    {
     "data": {
      "text/plain": [
       "name     object\n",
       "store    object\n",
       "price    object\n",
       "dtype: object"
      ]
     },
     "execution_count": 29,
     "metadata": {},
     "output_type": "execute_result"
    }
   ],
   "source": [
    "fruits = pd.DataFrame(\n",
    "    {\n",
    "        \"name\": [\"apple\", \"banana\", \"apple\", \"orange\"],\n",
    "        \"store\": [\"Aldi\", \"Walmart\", \"Walmart\", \"Aldi\"],\n",
    "        \"price\": [2, 1, 3, 4],\n",
    "    }\n",
    ")\n",
    "\n",
    "schema = pa.DataFrameSchema({\"price\": Column(str, coerce=True)})\n",
    "validated = schema.validate(fruits)\n",
    "validated.dtypes"
   ]
  },
  {
   "cell_type": "markdown",
   "id": "5c0a8392",
   "metadata": {},
   "source": [
    "## Patern Matching"
   ]
  },
  {
   "cell_type": "code",
   "execution_count": null,
   "id": "5a6a46c2",
   "metadata": {},
   "outputs": [],
   "source": [
    "favorite_stores = [\"Aldi\", \"Walmart\", \"Whole Foods\", \"Schnucks\"]\n",
    "\n",
    "fruits = pd.DataFrame(\n",
    "    {\n",
    "        \"name\": [\"apple\", \"banana\", \"apple\", \"orange\"],\n",
    "        \"store_nearby\": [\"Aldi\", \"Walmart\", \"Walmart\", \"Aldi\"],\n",
    "        \"store_far\": [\"Whole Foods\", \"Schnucks\", \"Whole Foods\", \"Schnucks\"],\n",
    "    }\n",
    ")\n",
    "\n",
    "schema = pa.DataFrameSchema(\n",
    "    {\n",
    "        \"name\": Column(str, Check.isin(available_fruits)),\n",
    "        \"store_+\": Column(\n",
    "            str,\n",
    "            Check.isin(favorite_stores),\n",
    "            regex=True,\n",
    "        ),\n",
    "    }\n",
    ")\n",
    "schema.validate(fruits)\n"
   ]
  },
  {
   "cell_type": "code",
   "execution_count": null,
   "id": "272013e8",
   "metadata": {},
   "outputs": [],
   "source": []
  },
  {
   "cell_type": "code",
   "execution_count": 32,
   "id": "1b2afa5d",
   "metadata": {
    "ExecuteTime": {
     "end_time": "2022-03-25T15:53:05.233627Z",
     "start_time": "2022-03-25T15:53:05.152397Z"
    }
   },
   "outputs": [
    {
     "data": {
      "text/html": [
       "<div>\n",
       "<style scoped>\n",
       "    .dataframe tbody tr th:only-of-type {\n",
       "        vertical-align: middle;\n",
       "    }\n",
       "\n",
       "    .dataframe tbody tr th {\n",
       "        vertical-align: top;\n",
       "    }\n",
       "\n",
       "    .dataframe thead th {\n",
       "        text-align: right;\n",
       "    }\n",
       "</style>\n",
       "<table border=\"1\" class=\"dataframe\">\n",
       "  <thead>\n",
       "    <tr style=\"text-align: right;\">\n",
       "      <th></th>\n",
       "      <th>name</th>\n",
       "      <th>store_nearby</th>\n",
       "      <th>store_far</th>\n",
       "    </tr>\n",
       "  </thead>\n",
       "  <tbody>\n",
       "    <tr>\n",
       "      <th>0</th>\n",
       "      <td>apple</td>\n",
       "      <td>Aldi</td>\n",
       "      <td>WF</td>\n",
       "    </tr>\n",
       "    <tr>\n",
       "      <th>1</th>\n",
       "      <td>banana</td>\n",
       "      <td>Walmart</td>\n",
       "      <td>Schnucks</td>\n",
       "    </tr>\n",
       "    <tr>\n",
       "      <th>2</th>\n",
       "      <td>apple</td>\n",
       "      <td>Walmart</td>\n",
       "      <td>WF</td>\n",
       "    </tr>\n",
       "    <tr>\n",
       "      <th>3</th>\n",
       "      <td>orange</td>\n",
       "      <td>Aldi</td>\n",
       "      <td>Schnucks</td>\n",
       "    </tr>\n",
       "  </tbody>\n",
       "</table>\n",
       "</div>"
      ],
      "text/plain": [
       "     name store_nearby store_far\n",
       "0   apple         Aldi        WF\n",
       "1  banana      Walmart  Schnucks\n",
       "2   apple      Walmart        WF\n",
       "3  orange         Aldi  Schnucks"
      ]
     },
     "execution_count": 32,
     "metadata": {},
     "output_type": "execute_result"
    }
   ],
   "source": [
    "favorite_stores = [\"Aldi\", \"Walmart\", \"WF\", \"Schnucks\"]\n",
    "\n",
    "fruits = pd.DataFrame(\n",
    "    {\n",
    "        \"name\": [\"apple\", \"banana\", \"apple\", \"orange\"],\n",
    "        \"store_nearby\": [\"Aldi\", \"Walmart\", \"Walmart\", \"Aldi\"],\n",
    "        \"store_far\": [\"WF\", \"Schnucks\", \"WF\", \"Schnucks\"],\n",
    "    }\n",
    ")\n",
    "\n",
    "schema = pa.DataFrameSchema(\n",
    "    {\n",
    "        \"name\": Column(str, Check.isin(available_fruits)),\n",
    "        \"store_*\": Column(\n",
    "            str,\n",
    "            Check.isin(favorite_stores),\n",
    "            regex=True\n",
    "        ),\n",
    "    }\n",
    ")\n",
    "schema.validate(fruits)\n"
   ]
  },
  {
   "cell_type": "markdown",
   "id": "6b396eb3",
   "metadata": {},
   "source": [
    "# Export and Load From a YAML file"
   ]
  },
  {
   "cell_type": "markdown",
   "id": "a946ae50",
   "metadata": {},
   "source": [
    "## Export"
   ]
  },
  {
   "cell_type": "code",
   "execution_count": 49,
   "id": "86c4cc16",
   "metadata": {
    "ExecuteTime": {
     "end_time": "2022-03-25T15:39:00.417968Z",
     "start_time": "2022-03-25T15:39:00.394006Z"
    }
   },
   "outputs": [
    {
     "name": "stdout",
     "output_type": "stream",
     "text": [
      "schema_type: dataframe\n",
      "version: 0.7.0\n",
      "columns:\n",
      "  name:\n",
      "    dtype: str\n",
      "    nullable: false\n",
      "    checks:\n",
      "      isin:\n",
      "      - apple\n",
      "      - banana\n",
      "      - orange\n",
      "    allow_duplicates: true\n",
      "    coerce: false\n",
      "    required: true\n",
      "    regex: false\n",
      "  store:\n",
      "    dtype: str\n",
      "    nullable: true\n",
      "    checks:\n",
      "      isin:\n",
      "      - Aldi\n",
      "      - Walmart\n",
      "    allow_duplicates: false\n",
      "    coerce: false\n",
      "    required: true\n",
      "    regex: false\n",
      "  price:\n",
      "    dtype: int64\n",
      "    nullable: false\n",
      "    checks:\n",
      "      less_than: 5\n",
      "    allow_duplicates: true\n",
      "    coerce: false\n",
      "    required: true\n",
      "    regex: false\n",
      "checks: null\n",
      "index: null\n",
      "coerce: false\n",
      "strict: false\n",
      "\n"
     ]
    },
    {
     "data": {
      "application/javascript": "\n            setTimeout(function() {\n                var nbb_cell_id = 49;\n                var nbb_unformatted_code = \"yaml_schema = schema.to_yaml()\\nprint(yaml_schema)\";\n                var nbb_formatted_code = \"yaml_schema = schema.to_yaml()\\nprint(yaml_schema)\";\n                var nbb_cells = Jupyter.notebook.get_cells();\n                for (var i = 0; i < nbb_cells.length; ++i) {\n                    if (nbb_cells[i].input_prompt_number == nbb_cell_id) {\n                        if (nbb_cells[i].get_text() == nbb_unformatted_code) {\n                             nbb_cells[i].set_text(nbb_formatted_code);\n                        }\n                        break;\n                    }\n                }\n            }, 500);\n            ",
      "text/plain": [
       "<IPython.core.display.Javascript object>"
      ]
     },
     "metadata": {},
     "output_type": "display_data"
    }
   ],
   "source": [
    "yaml_schema = schema.to_yaml()\n",
    "print(yaml_schema)"
   ]
  },
  {
   "cell_type": "code",
   "execution_count": 53,
   "id": "c38b376a",
   "metadata": {
    "ExecuteTime": {
     "end_time": "2022-03-25T15:40:58.368617Z",
     "start_time": "2022-03-25T15:40:58.347761Z"
    }
   },
   "outputs": [
    {
     "data": {
      "text/plain": [
       "628"
      ]
     },
     "execution_count": 53,
     "metadata": {},
     "output_type": "execute_result"
    },
    {
     "data": {
      "application/javascript": "\n            setTimeout(function() {\n                var nbb_cell_id = 53;\n                var nbb_unformatted_code = \"from pathlib import Path\\n\\nf = Path(\\\"schema.yml\\\")\\nf.touch()\\nf.write_text(yaml_schema)\";\n                var nbb_formatted_code = \"from pathlib import Path\\n\\nf = Path(\\\"schema.yml\\\")\\nf.touch()\\nf.write_text(yaml_schema)\";\n                var nbb_cells = Jupyter.notebook.get_cells();\n                for (var i = 0; i < nbb_cells.length; ++i) {\n                    if (nbb_cells[i].input_prompt_number == nbb_cell_id) {\n                        if (nbb_cells[i].get_text() == nbb_unformatted_code) {\n                             nbb_cells[i].set_text(nbb_formatted_code);\n                        }\n                        break;\n                    }\n                }\n            }, 500);\n            ",
      "text/plain": [
       "<IPython.core.display.Javascript object>"
      ]
     },
     "metadata": {},
     "output_type": "display_data"
    }
   ],
   "source": [
    "from pathlib import Path\n",
    "\n",
    "f = Path(\"schema.yml\")\n",
    "f.touch()\n",
    "f.write_text(yaml_schema)"
   ]
  },
  {
   "cell_type": "markdown",
   "id": "fd3db611",
   "metadata": {},
   "source": [
    "## Load"
   ]
  },
  {
   "cell_type": "code",
   "execution_count": 56,
   "id": "bd70b32d",
   "metadata": {
    "ExecuteTime": {
     "end_time": "2022-03-25T15:43:38.089308Z",
     "start_time": "2022-03-25T15:43:38.076024Z"
    }
   },
   "outputs": [
    {
     "data": {
      "application/javascript": "\n            setTimeout(function() {\n                var nbb_cell_id = 56;\n                var nbb_unformatted_code = \"with f.open() as file:\\n    yaml_schema = file.read()\";\n                var nbb_formatted_code = \"with f.open() as file:\\n    yaml_schema = file.read()\";\n                var nbb_cells = Jupyter.notebook.get_cells();\n                for (var i = 0; i < nbb_cells.length; ++i) {\n                    if (nbb_cells[i].input_prompt_number == nbb_cell_id) {\n                        if (nbb_cells[i].get_text() == nbb_unformatted_code) {\n                             nbb_cells[i].set_text(nbb_formatted_code);\n                        }\n                        break;\n                    }\n                }\n            }, 500);\n            ",
      "text/plain": [
       "<IPython.core.display.Javascript object>"
      ]
     },
     "metadata": {},
     "output_type": "display_data"
    }
   ],
   "source": [
    "with f.open() as file:\n",
    "    yaml_schema = file.read()"
   ]
  },
  {
   "cell_type": "code",
   "execution_count": 57,
   "id": "6aba8b14",
   "metadata": {
    "ExecuteTime": {
     "end_time": "2022-03-25T15:43:58.571587Z",
     "start_time": "2022-03-25T15:43:58.542720Z"
    }
   },
   "outputs": [
    {
     "data": {
      "text/plain": [
       "<Schema DataFrameSchema(columns={'name': <Schema Column(name=name, type=DataType(str))>, 'store': <Schema Column(name=store, type=DataType(str))>, 'price': <Schema Column(name=price, type=DataType(int64))>}, checks=[], index=None, coerce=False, dtype=None,strict=False,name=None,ordered=False)>"
      ]
     },
     "execution_count": 57,
     "metadata": {},
     "output_type": "execute_result"
    },
    {
     "data": {
      "application/javascript": "\n            setTimeout(function() {\n                var nbb_cell_id = 57;\n                var nbb_unformatted_code = \"schema = pa.io.from_yaml(yaml_schema)\\nschema\";\n                var nbb_formatted_code = \"schema = pa.io.from_yaml(yaml_schema)\\nschema\";\n                var nbb_cells = Jupyter.notebook.get_cells();\n                for (var i = 0; i < nbb_cells.length; ++i) {\n                    if (nbb_cells[i].input_prompt_number == nbb_cell_id) {\n                        if (nbb_cells[i].get_text() == nbb_unformatted_code) {\n                             nbb_cells[i].set_text(nbb_formatted_code);\n                        }\n                        break;\n                    }\n                }\n            }, 500);\n            ",
      "text/plain": [
       "<IPython.core.display.Javascript object>"
      ]
     },
     "metadata": {},
     "output_type": "display_data"
    }
   ],
   "source": [
    "schema = pa.io.from_yaml(yaml_schema)\n",
    "schema"
   ]
  }
 ],
 "metadata": {
  "hide_input": false,
  "interpreter": {
   "hash": "478cc5ef0f338997730d9103983e193fe6c3c8e58abb3c8c0481de8a2f51bddc"
  },
  "kernelspec": {
   "display_name": "Python 3.9.13 ('venv': venv)",
   "language": "python",
   "name": "python3"
  },
  "language_info": {
   "codemirror_mode": {
    "name": "ipython",
    "version": 3
   },
   "file_extension": ".py",
   "mimetype": "text/x-python",
   "name": "python",
   "nbconvert_exporter": "python",
   "pygments_lexer": "ipython3",
   "version": "3.9.13"
  },
  "toc": {
   "base_numbering": 1,
   "nav_menu": {},
   "number_sections": true,
   "sideBar": true,
   "skip_h1_title": false,
   "title_cell": "Table of Contents",
   "title_sidebar": "Contents",
   "toc_cell": false,
   "toc_position": {},
   "toc_section_display": true,
   "toc_window_display": false
  }
 },
 "nbformat": 4,
 "nbformat_minor": 5
}
