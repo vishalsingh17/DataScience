{
 "cells": [
  {
   "cell_type": "markdown",
   "source": "[![View on GitHub](https://img.shields.io/badge/GitHub-View_on_GitHub-blue?logo=GitHub)](https://github.com/khuyentran1401/Data-science/blob/master/data_science_tools/pyLDAvis/preprocess.ipynb)\n\n[<img src=\"https://deepnote.com/buttons/launch-in-deepnote.svg\">](https://deepnote.com/project/Data-science-hxlyJpi-QrKFJziQgoMSmQ/%2FData-science%2Fdata_science_tools%2FpyLDAvis%2Fpreprocess.ipynb)\n\n [![View Article](https://img.shields.io/badge/View%20Article-View%20Full%20Article-red)](https://neptune.ai/blog/pyldavis-topic-modelling-exploration-tool-that-every-nlp-data-scientist-should-know)",
   "metadata": {
    "tags": [],
    "cell_id": "00000-d318b43d-8cce-48e6-b4a4-acc952df99ec",
    "deepnote_cell_type": "markdown"
   }
  },
  {
   "cell_type": "code",
   "metadata": {
    "tags": [],
    "cell_id": "00001-438a5973-93b6-4263-9dc8-8229c2ac269e",
    "deepnote_to_be_reexecuted": false,
    "source_hash": "13e53809",
    "execution_start": 1634006590811,
    "execution_millis": 4822,
    "output_cleared": true,
    "deepnote_cell_type": "code"
   },
   "source": "!pip install emoji==1.6.0 pyLDAvis==3.3.1 chart_studio==1.1.0 datapane==0.12.3",
   "outputs": [],
   "execution_count": null
  },
  {
   "cell_type": "code",
   "metadata": {
    "tags": [],
    "cell_id": "00012-45331a8a-6ebc-4f7f-b465-77dfb07f6b0c",
    "deepnote_to_be_reexecuted": false,
    "source_hash": "5a834a00",
    "execution_start": 1634006997461,
    "execution_millis": 12394,
    "output_cleared": true,
    "deepnote_cell_type": "code"
   },
   "source": "!python -m spacy download en_core_web_sm",
   "outputs": [],
   "execution_count": null
  },
  {
   "cell_type": "code",
   "metadata": {
    "tags": [],
    "cell_id": "00002-a6fb5382-4d5b-4503-847f-1de557b3312e",
    "deepnote_to_be_reexecuted": false,
    "source_hash": "2c397fdc",
    "execution_start": 1634007021867,
    "execution_millis": 166,
    "deepnote_cell_type": "code"
   },
   "source": "%load_ext watermark\n%watermark --iversions",
   "outputs": [
    {
     "name": "stdout",
     "text": "The watermark extension is already loaded. To reload it, use:\n  %reload_ext watermark\njson        : 2.0.9\nrequests    : 2.26.0\nre          : 2.2.1\npyLDAvis    : 3.3.1\nchart_studio: 1.1.0\ndatapane    : 0.12.3\nplotly      : 5.3.1\nnltk        : 3.6.3\nspacy       : 3.1.3\nnumpy       : 1.21.2\ngensim      : 4.1.2\nregex       : 2021.9.30\ncsv         : 1.0\nmatplotlib  : 3.4.3\nemoji       : 1.6.0\npandas      : 1.2.5\npsycopg2    : 2.9.1 (dt dec pq3 ext lo64)\nargparse    : 1.1\nseaborn     : 0.11.2\nsklearn     : 0.0\n\n",
     "output_type": "stream"
    }
   ],
   "execution_count": null
  },
  {
   "cell_type": "markdown",
   "source": "# Import libaries",
   "metadata": {
    "cell_id": "00000-b56d1a51-c4e1-42de-bcc3-2bf10c2a0f1c",
    "deepnote_cell_type": "markdown"
   }
  },
  {
   "cell_type": "code",
   "metadata": {
    "ExecuteTime": {
     "end_time": "2020-10-23T21:27:02.170852Z",
     "start_time": "2020-10-23T21:26:57.475326Z"
    },
    "cell_id": "00001-a1c22b6b-fafe-45fa-b5a9-494855d19f11",
    "deepnote_to_be_reexecuted": false,
    "source_hash": "268f9b9d",
    "execution_start": 1634006648989,
    "execution_millis": 8993,
    "deepnote_cell_type": "code"
   },
   "source": "import os\nfrom os import listdir\nfrom os.path import isfile, join\nimport xml.etree.ElementTree as ET\nimport numpy as np\nimport re\n\nimport nltk\nnltk.download('stopwords')\nnltk.download('wordnet')\nfrom nltk.tokenize import TweetTokenizer\nfrom nltk.corpus import stopwords\nimport string\nfrom nltk.stem import PorterStemmer\nfrom nltk.stem import WordNetLemmatizer\n\nimport csv\nimport argparse\nfrom sklearn.preprocessing import LabelEncoder\nfrom sklearn.metrics import accuracy_score, confusion_matrix, f1_score, precision_recall_fscore_support, roc_auc_score\nfrom sklearn import metrics, preprocessing\nimport numpy as np\n\n\n# Required Libraries\n\n#Base and Cleaning \nimport json\nimport requests\nimport pandas as pd\nimport numpy as np\nimport emoji\nimport regex\nimport re\nimport string\nfrom collections import Counter\n\n#Visualizations\nimport plotly.express as px\nimport seaborn as sns\nimport matplotlib.pyplot as plt \nimport pyLDAvis.gensim_models\nimport chart_studio\nimport chart_studio.plotly as py \nimport chart_studio.tools as tls\n\n#Natural Language Processing (NLP)\nimport spacy\nimport gensim\nfrom spacy.tokenizer import Tokenizer\nimport gensim\nimport gensim.corpora as corpora\nfrom gensim.corpora import Dictionary\nfrom gensim.models.ldamulticore import LdaMulticore\nfrom gensim.models.coherencemodel import CoherenceModel\nfrom gensim.parsing.preprocessing import STOPWORDS as SW\nfrom sklearn.decomposition import LatentDirichletAllocation, TruncatedSVD\nfrom sklearn.feature_extraction.text import CountVectorizer, TfidfVectorizer\nfrom sklearn.model_selection import GridSearchCV\nfrom pprint import pprint\nfrom wordcloud import STOPWORDS\nstopwords = set(STOPWORDS)\nimport datapane as dp \n\nimport pickle ",
   "outputs": [
    {
     "name": "stderr",
     "text": "[nltk_data] Downloading package stopwords to /root/nltk_data...\n[nltk_data]   Package stopwords is already up-to-date!\n[nltk_data] Downloading package wordnet to /root/nltk_data...\n[nltk_data]   Package wordnet is already up-to-date!\n2021-10-12 02:44:11.382941: W tensorflow/stream_executor/platform/default/dso_loader.cc:60] Could not load dynamic library 'libcudart.so.11.0'; dlerror: libcudart.so.11.0: cannot open shared object file: No such file or directory\n2021-10-12 02:44:11.382979: I tensorflow/stream_executor/cuda/cudart_stub.cc:29] Ignore above cudart dlerror if you do not have a GPU set up on your machine.\n/shared-libs/python3.7/py/lib/python3.7/site-packages/scipy/sparse/sparsetools.py:21: DeprecationWarning: `scipy.sparse.sparsetools` is deprecated!\nscipy.sparse.sparsetools is a private module for scipy.sparse, and should not be used.\n  _deprecated()\n/root/venv/lib/python3.7/site-packages/datapane/client/api/report/core.py:119: DeprecationWarning: 'contextfunction' is renamed to 'pass_context', the old name will be removed in Jinja 3.1.\n  @contextfunction\n",
     "output_type": "stream"
    }
   ],
   "execution_count": null
  },
  {
   "cell_type": "markdown",
   "source": "# Get Data",
   "metadata": {
    "cell_id": "00002-126c6a3c-985e-4d94-b443-4d04dedeba82",
    "deepnote_cell_type": "markdown"
   }
  },
  {
   "cell_type": "code",
   "metadata": {
    "ExecuteTime": {
     "end_time": "2020-10-23T21:27:02.473854Z",
     "start_time": "2020-10-23T21:27:02.172004Z"
    },
    "cell_id": "00004-4d42fa4e-daf1-481d-bff8-65d2afe64a7f",
    "deepnote_to_be_reexecuted": false,
    "source_hash": "4495755d",
    "execution_start": 1634006914602,
    "execution_millis": 679,
    "deepnote_cell_type": "code"
   },
   "source": "tweets = pd.read_csv('/datasets/tweets/dp-export-8927.csv') \n\ntweets = tweets.Tweets.values.tolist()",
   "outputs": [],
   "execution_count": null
  },
  {
   "cell_type": "code",
   "metadata": {
    "ExecuteTime": {
     "end_time": "2020-10-23T21:27:08.055956Z",
     "start_time": "2020-10-23T21:27:08.048149Z"
    },
    "cell_id": "00005-17227493-68a8-4a8c-b806-160fcd526510",
    "deepnote_to_be_reexecuted": false,
    "source_hash": "4f0009e0",
    "execution_start": 1634006916282,
    "execution_millis": 151,
    "deepnote_cell_type": "code"
   },
   "source": "tweets[0]",
   "outputs": [
    {
     "output_type": "execute_result",
     "execution_count": 22,
     "data": {
      "text/plain": "'Spoke at @AllHealthReform event on health care reform this morning. No live tweeting allowed. Did it really happen? @ddiamond True. You can cover \\'more\\' with \\'more\\' for \\'less.\\' But you don\\'t want to be one of the \\'less\\' who get \\'le… https://t.co/Ui54o2m5LD The hard part was not gawking at the Chrysler Building next door. My son built a 6 ft replica of it in our backyard. https://t.co/0aftXVUR3P @nicholas_bagley @onceuponA The other key question is which of these would hit Plan Year \\'17 and which would hit Plan Year \\'18. Must read from @nicholas_bagley and @onceuponA and must ask if the goal is orderly transition or disruption.\\n\\nhttps://t.co/PmAUOeMo6x @squelchedalot 11 generations all in VA in my family. Can\\'t speak to all the branches though. #Obamacare Executive Order is not a specific action. It is a declaration of administrative war. Orderly transition or massive disruption? The President goes by. #InaugurationDay. https://t.co/RDQSx1VWq4 Motorcade in the parade. #InaugurationDay. And the protesters chanted. It\\'s America out there. Really, really. https://t.co/x4M1roXnzC The motorcade heads by. #InaugurationDay. https://t.co/9eg8Dd2FFb And we have protesters too. Many slices of America here at 701 Penn. #InaugurationDay. https://t.co/2iRqnX66lw This is must read work from @axios. There are no solutions; only trade offs.    https://t.co/XxqUZRFq4d The view of the queue on 7th St from my office. Chanting and singing. It\\'s quite the scene. #InaugurationDay . https://t.co/7DS8eKTTp0 Start spreading the news. Bringing my act to NYC on Tuesday. #FDA2017 https://t.co/s11QcnSGvr A few quick thoughts when asked. How I see it from my view on the ground. https://t.co/uYWKUjieqm This is the poster referenced in my interview with @ddiamond for the @politico podcast. https://t.co/AcadPnSSKD It… https://t.co/A1A6ZMwpWK Grassley Continues To Press CMS on Medicaid Drug Rebate Classifications: What Will Be the Fallout? #drugpricing https://t.co/KmER7ddeSo Happiness is speaking to @TheRealANCOR and seeing my Iowa peeps Chris Sparks and Marilyn Althoff. Teaching GOP spea… https://t.co/fW9wprU4CC To Get Dems On Board With ACA Replacement, Republicans Should Take Medicare Off The Table https://t.co/SYeohntrZa @KatMayne Ugh! Is the scandal the behavior or the incentives? #FollowtheMoney For donations to @ACSCAN, I\\'d sing Sitting on the Dock of the Bay, rap, or chicken dance. Thanks @MatthewTSimpson and @MintzLevin DC. Forty-Five Days and Counting for Current HHS Leadership: Implications for Rulemaking https://t.co/XSayspHENB The Future of the Medicare Part B Payment Demo under a Republican-held Congress https://t.co/rU3adRjs8k This is a moment I truly miss my old job. Writing questions for Chuck Grassley to ask her at a hearing is a staffer… https://t.co/e81S9D2IqW The Paths to Deregulation During the Trump Administration | Mintz Levin | ML Strategies https://t.co/4uJiNXo3Ou Talking drug pricing at Bloomberg\\'s #PowerofDifference event. The issue is not going away. I really do talk with my… https://t.co/vMLd5ifVIf Making the Sausage: Medicaid Block Grants in the 115th Congress - Health Law &amp; Policy Matters https://t.co/RLjCCI1FA6 The Fate of the Children’s Health Insurance Program Under the 115th Congress - Health Law &amp; Policy Matters https://t.co/DqPucVAEx9 Promise to Repeal the ACA Poses Threat to MACRA Implementation - Health Law &amp; Policy Matters https://t.co/e8g8LO3JA0 Will Republicans Embrace CMMI’s Authority? - Health Law &amp; Policy Matters https://t.co/7QCO6iUPg2 Speaking to @NJACP08628. NJ Community Providers. Staying positive about the future of disability policy. https://t.co/GfQOY4lN2l Transitioning the ACA: Republicans Must Make Hard Choices - Health Law &amp; Policy Matters.  https://t.co/Pc3vi5tPOk Transitioning the ACA: Republicans Must Avoid Disruption - Health Law &amp; Policy Matters https://t.co/x1vGMchDVy Transitioning the Affordable Care Act: Republicans Must Talk to Insurers - Health Law &amp; Policy Matters https://t.co/3gKsOUaA0p It’s Not Really ”Repeal and Replace”; It’s Transition. Our take on the new world. More to follow. https://t.co/8Q1yInp6TC Departing @DCA as an #HonorFlight arrived. Amazing. Overwhelming. Totally choked up. My Veteran\\'s Day reflection is about my grandfathers, teenagers from Salem, VA stuffed into ball turrets in WWII. https://t.co/jGob6RAOlN Yours truly at CQ Roll Call event on what next in health care with Mark McClellan and Cindy Mann. https://t.co/bFwBNAYicz Rocking it #PCPCC2016. I had walk up music and a faux Michael Jordan intro (@AlanParsons Sirius). So much fun and s… https://t.co/2qXGJQUydf This is why @TheFix is a must read and will continue to be even after tomorrow. https://t.co/K9eWgTbILX Do me a favor; send an old friend a note. I did last week, and just learned he\\'s gone. RIP Brother Don. https://t.co/UciMTbnHps It was a lot more fun moderating than being the one on the spot. And speaking of spots, how \\'bout that gigantic bal… https://t.co/l9sstSJPxY Town Halls in all 99 counties every year for 36 years. He stands before his constituents and engages through good a… https://t.co/BSoF9BmODw Excellent folks here at #FNCE. Making eatright more than a slogan. It\\'s hard work and professional support making a real difference. Speaking at #FNCE in a few moments. A room full of nutritionists. Was it wrong to bring donuts? Thoughts on the Mylan \\'Settlement\\' with my colleague Ellyn Sternfield. There\\'s more here than meets the eye. https://t.co/buljIJyXSf Honored to share the stage with @neeratanden @celindalake @FurchtgottRoth for @politico &amp; @AARP to talk… https://t.co/9BPmWz3D00 My upcoming Saturday: me, my son, Matthew, #SeagullCentury, @Nationals playoff game, and #HurricaneMatthew. Crystal ball, anyone? Yes, yes we do. @JoeLipchitz  Happy to do so for the folks @bidneedham. https://t.co/cyA3xIrPq5 And a shout out to @johnsonphotog for her work @bidneedham event last night. Not easy to shoot a moving target, https://t.co/whtyV2vbnw Honored to address the Board of @bidneedham last night. Inspiring to be with people who care so much about their co… https://t.co/7fSjjmjIjI @contirena1 Curious what you think of my iPhone and Pinto metaphors.  https://t.co/4Wv8Wpy1j9 @TheFix Pintos and iPhones.  See my quote here.  https://t.co/4Wv8WpPCaH With CSRxP (@RxPricing), I\\'m talking about drug pricing. Transparency. Competition. Value. https://t.co/UMsyXvgmC2 I think this is a big deal for the ACA especially given reports about the current pools. https://t.co/2TmORXySDd Research Opens a Door for Disability Policy.  A few more thoughts on the @nberpubs work.  https://t.co/nPH8BlcazZ This is very geeky stuff, but the conclusions are a big deal for disability policy. https://t.co/V0ohnZzI03 Done here at #MLPharma. A great day capped off with me &amp; @jrovner. She is absolutely the best. Now to begin planning for MLPharma 2017 ... Got transparent with Chris Stomberg and Sandra Wilkniss #MLPharma.  Next up, the one and only @jrovner. Under way at #MLPharma event. Industry panel with @PhRMA @AHIPCoverage @pcmanet and @pharmacists was a great start. https://t.co/iccnYXRufa Selfie with the audience at #ancor2016. Disability providers are my heroes. https://t.co/vFcP3vopxT Just arrived in Chicago for #ancor2016. Looking forward to talking disability policy tomorrow with my old friends like Chris Sparks. #AHAmtg I also worked in Aja, Dikembe Mutombo, Meghan Trainor and the X-Files. All to promote #ruralhealth. https://t.co/GDnxKWcBxN Just spoke at #AHAmtg where I worked unicorn and underwear into my speech. I love #ruralhealth. https://t.co/aYzMh0VCXd CMS Increases Oversight of Medicaid Managed Care Contracts - CMS Takes Control https://t.co/uoLLYZm2H1 The IMD Exclusion: Changes Now and Changes to Come - Health Law &amp; Policy Matters https://t.co/N9lfS0DDtZ My favorite #Prince jam will always be the long version of I Wanna Be Your Lover. #RIPPrince @jrovner Coke Zero is black. Diet Coke is silver. The green one is Coke Life (I\\'ve never tried that one). Review of CMS\\'s new primary care model. I wonder what CBO would have said if a Hill office presented this for score. https://t.co/3n0tzg6B5C Health Care Geek uses BABIP and VORP in a sentence.  Film at 11.  https://t.co/PpL7n5GGRG I spoke at @NatQualityForum’s Conference #nqf16 right before the @Athletics Billy Beane. You best believe I broke out the baseball metaphors Legislation begets regulation. Enforcement of regulations begets scary monsters. Phase 2 HIPAA Audits https://t.co/jfFQ5JdyIv The Part B drug rule discussed. Grab some popcorn and pull up a chair. This one is going to be entertaining. https://t.co/G2QLe6Utsd If you\\'d like to know more about the CMS Call Letter than plans are generally happy, give this a read https://t.co/skX1X6x5UA Comparing doctors the same way you compare shoes, cars, and cell phones. It\\'s one step closer. https://t.co/72a5I2msPa Congress Is Coming Back.  Here\\'s our sketch of the next work period.  https://t.co/yjI2W7ACuf Valentines Day happiness is being married to a health care geek who gets all these goofy tweets. Peace out! #HealthPolicyValentines Our review of the #Medicare 60-day rule.  Good stuff from folks way smarter than me. https://t.co/GWlsln3fRe Your love and durable medical equipment.  Some things just don\\'t need to be competitively bid.  #HealthPolicyValentines Valentine, I love you more than the extenders.  Well, I mean except for CHIP and therapy caps and ... #HealthPolicyValentines \"Now you see it, now you don\\'t\" notice is the the REAL action on drug pricing #Medicare.  https://t.co/VXq7bpywSx Valentine, no counter detailing will ever get me to leave your brand.  #HealthPolicyValentines Valentine, my love for you is no demonstration project. #HealthPolicyValentines. @mamurrayflemimg My love for you is like Medicaid eligibility should be: continuous!  #MicDrop #HealthPolicyValentines Valentine, I love you like rurals love add-ons.  And I love me some rural add-ons!  @ruralhealth #HealthPolicyValentines Valentine, my love will always pass utilization review because it is certainly medically necessary.  #HealthPolicyValentines Our love is compliant with interoperability standards.  #HealthPolicyValentines Valentine, I want to be your Sole Community Provider EACH and every day. #HealthPolicyValentines Like Medicaid, I am AMP\\'ed for you love.  #HealthPolicyValentines Your love is the only EHB in my non-grandfathered qualified plan.  #HealthPolicyValentines You want me to pay on AAC but I am set on WAC – can our Medicaid reimbursement rates find harmony? SuperGeek!  #HealthPolicyValentines Like @PhRMA and @IAmBiotech dream of patents, our love is forever.  #HealthPolicyValentines My love for you is 100% of AV.  #HealthPolicyValentines Will you 340B my valentine?  #HealthPolicyValentines I guess you say, what can make me feel this way ... health care policy.  #HealthPolicyValentines Like a Cadillac Plan, my love for you has no spending limits.  #HealthPolicyValentines Dear Valentine, you are my biosimilar.  There\\'s just no one quite like you.  #HealthPolicyValentines Let\\'s grow old together.  You, me &amp; Medicare.  #HealthPolicyValentines A long time ago in a place not so far away, I worked on Medicaid AMP. Here\\'s our take on the new CMS rule.  https://t.co/caITsENNNK Martin Shkreli was NOT the most important story on Capitol Hill Thursday.  https://t.co/UBua8rIBz2  #biosimilars #nosmirkzone'"
     },
     "metadata": {}
    }
   ],
   "execution_count": null
  },
  {
   "cell_type": "markdown",
   "source": "# Preprocessing",
   "metadata": {
    "cell_id": "00006-8c123454-f03f-4ffc-a0a0-948dbd69965d",
    "deepnote_cell_type": "markdown"
   }
  },
  {
   "cell_type": "code",
   "metadata": {
    "ExecuteTime": {
     "end_time": "2020-10-22T20:58:23.014574Z",
     "start_time": "2020-10-22T20:58:23.011193Z"
    },
    "cell_id": "00007-731e1cbe-8280-49ac-aaf0-861b5a46c333",
    "deepnote_to_be_reexecuted": false,
    "source_hash": "797e198c",
    "execution_start": 1634006919896,
    "execution_millis": 1,
    "deepnote_cell_type": "code"
   },
   "source": "replacement_patterns = [\n    #match url (i.e: https://t.co/5tF5G9VKtq)\n    (r'\\w+:\\/{2}[\\d\\w-]+(\\.[\\d\\w-]+)*(?:(?:\\/[^\\s/]*))*', ''),\n\n    #match user (i.e: @cerpintor )\n    (r'@\\w+', ''),\n\n    #match hashtag (i.e: #WomensMarchOnWashington)\n    (r'#\\w+', ''),\n\n    #Replace \"&...\" with ''\n    (r'&\\w+', '')\n]\n\nclass RegexReplacer(object):\n    def __init__(self, patterns = replacement_patterns):\n        self.patterns = [(re.compile(regrex),repl) for (regrex, repl) in\n                        patterns]\n    \n    #Replace the words that match the patterns with replacement words\n    def replace(self, text):\n        s = text\n        for (pattern, repl) in self.patterns:\n            s = re.sub(pattern, repl, s)\n        return s",
   "outputs": [],
   "execution_count": null
  },
  {
   "cell_type": "code",
   "metadata": {
    "ExecuteTime": {
     "end_time": "2020-10-22T20:58:22.374105Z",
     "start_time": "2020-10-22T20:58:22.371574Z"
    },
    "cell_id": "00008-49f3d5e0-00f8-45a7-9bb8-1bdbae4dbfa8",
    "deepnote_to_be_reexecuted": false,
    "source_hash": "cd541523",
    "execution_start": 1634006921985,
    "execution_millis": 1,
    "deepnote_cell_type": "code"
   },
   "source": "def give_emoji_free_text(text):\n    \"\"\"\n    Removes emoji's from tweets\n    Accepts:\n        Text (tweets)\n    Returns:\n        Text (emoji free tweets)\n    \"\"\"\n    emoji_list = [c for c in text if c in emoji.UNICODE_EMOJI]\n    clean_text = ' '.join([str for str in text.split() if not any(i in str for i in emoji_list)])\n    return clean_text\n\n",
   "outputs": [],
   "execution_count": null
  },
  {
   "cell_type": "code",
   "metadata": {
    "ExecuteTime": {
     "end_time": "2020-10-22T21:07:49.748160Z",
     "start_time": "2020-10-22T21:07:49.736157Z"
    },
    "cell_id": "00009-9c26cfcc-e363-49c2-aa42-e334b2ad7338",
    "deepnote_to_be_reexecuted": false,
    "source_hash": "f93a5df7",
    "execution_start": 1634006924722,
    "execution_millis": 2,
    "deepnote_cell_type": "code"
   },
   "source": "def lemmatization(text, allowed_postags=['NOUN', 'ADJ', 'VERB', 'ADV']):\n    \"\"\"https://spacy.io/api/annotation\"\"\"\n    \n    doc = nlp(\" \".join(text)) \n    return [token.lemma_ for token in doc if token.pos_ in allowed_postags]\n",
   "outputs": [],
   "execution_count": null
  },
  {
   "cell_type": "code",
   "metadata": {
    "ExecuteTime": {
     "end_time": "2020-10-22T21:02:47.478093Z",
     "start_time": "2020-10-22T21:02:47.042515Z"
    },
    "cell_id": "00010-77dc0d11-40be-4d6f-a849-fd2e4799bab3",
    "deepnote_to_be_reexecuted": false,
    "source_hash": "c49c20f",
    "execution_start": 1634007028475,
    "execution_millis": 515,
    "deepnote_cell_type": "code"
   },
   "source": "nlp = spacy.load(\"en_core_web_sm\", disable=['parser', 'ner'])\ntknz = TweetTokenizer()\nreplacer = RegexReplacer()\n# Custom stopwords\ncustom_stopwords = ['hi','\\n','\\n\\n', '&amp;', ' ', '.', '-', 'got', \"it's\", 'it’s', \"i'm\", 'i’m', 'im', 'want', 'like', '$', '@']\n# Customize stop words by adding to the default list\nSTOP_WORDS = nlp.Defaults.stop_words.union(custom_stopwords)\n# ALL_STOP_WORDS = spacy + gensim + wordcloud\nALL_STOP_WORDS = STOP_WORDS.union(SW).union(stopwords)\n\npunc = string.punctuation",
   "outputs": [],
   "execution_count": null
  },
  {
   "cell_type": "code",
   "metadata": {
    "ExecuteTime": {
     "end_time": "2020-10-22T21:04:58.301401Z",
     "start_time": "2020-10-22T21:03:18.465815Z"
    },
    "cell_id": "00011-90205eba-2a1e-41ab-a452-73216f733b73",
    "deepnote_to_be_reexecuted": false,
    "source_hash": "e10b2d04",
    "execution_start": 1634007032011,
    "execution_millis": 117151,
    "deepnote_cell_type": "code"
   },
   "source": "# Build the bigram and trigram models\nbigram = gensim.models.Phrases(tweets, min_count=5, threshold=100) # higher threshold fewer phrases.\ntrigram = gensim.models.Phrases(bigram[tweets], threshold=100)  \n\n# Faster way to get a sentence clubbed as a trigram/bigram\nbigram_mod = gensim.models.phrases.Phraser(bigram)\ntrigram_mod = gensim.models.phrases.Phraser(trigram)\n",
   "outputs": [],
   "execution_count": null
  },
  {
   "cell_type": "code",
   "metadata": {
    "ExecuteTime": {
     "end_time": "2020-10-22T21:08:13.414167Z",
     "start_time": "2020-10-22T21:08:12.833832Z"
    },
    "cell_id": "00012-70c8fa72-2be5-4b11-b5e0-c058e1285a90",
    "deepnote_to_be_reexecuted": false,
    "source_hash": "6eebed1e",
    "execution_start": 1634007149162,
    "execution_millis": 1,
    "deepnote_cell_type": "code"
   },
   "source": "def normalize(doc):\n    \n    for i in range(len(doc)):\n        \n        doc[i] = give_emoji_free_text(doc[i])\n        \n        #Tokenize with replacement\n        doc[i] = tknz.tokenize(replacer.replace(doc[i]))\n        \n        #Filter stopwords, punctuations, and lowercase\n        doc[i] = [w.lower() for w in doc[i] if w not in punc and w not in ALL_STOP_WORDS]\n    \n        # Bigram\n        doc[i] = bigram_mod[doc[i]]\n        \n        #lemmatizer = WordNetLemmatizer()\n        \n        doc[i] = lemmatization(doc[i], allowed_postags=['NOUN', 'ADJ', 'VERB', 'ADV'])\n        \n    return doc",
   "outputs": [],
   "execution_count": null
  },
  {
   "cell_type": "code",
   "metadata": {
    "ExecuteTime": {
     "end_time": "2020-10-22T21:11:33.436179Z",
     "start_time": "2020-10-22T21:08:17.034854Z"
    },
    "cell_id": "00013-822ecee0-22cd-4e1b-94e1-5594acf65e7b",
    "deepnote_to_be_reexecuted": false,
    "source_hash": "b5704496",
    "execution_start": 1634007149163,
    "execution_millis": 277182,
    "deepnote_cell_type": "code"
   },
   "source": "tweets = normalize(tweets)",
   "outputs": [],
   "execution_count": null
  },
  {
   "cell_type": "code",
   "metadata": {
    "ExecuteTime": {
     "end_time": "2020-10-22T21:11:33.448200Z",
     "start_time": "2020-10-22T21:11:33.437914Z"
    },
    "cell_id": "00014-19a37700-768b-4933-847a-6fdec05889a0",
    "deepnote_to_be_reexecuted": false,
    "source_hash": "24d1f844",
    "execution_start": 1634007426345,
    "execution_millis": 5,
    "deepnote_cell_type": "code"
   },
   "source": "tweets[0] ",
   "outputs": [
    {
     "output_type": "execute_result",
     "execution_count": 37,
     "data": {
      "text/plain": "['speak',\n 'event',\n 'health',\n 'care',\n 'reform',\n 'morning',\n 'live',\n 'tweet',\n 'allow',\n 'do',\n 'happen',\n 'true',\n 'cover',\n 'hard',\n 'gawk',\n 'building',\n 'door',\n 'son',\n 'build',\n 'ft',\n 'replica',\n 'backyard',\n 'key',\n 'question',\n 'hit',\n 'plan',\n 'year',\n 'hit',\n 'plan',\n 'year',\n 'read',\n 'ask',\n 'goal',\n 'orderly',\n 'transition',\n 'disruption',\n 'generation',\n 'family',\n 'speak',\n 'branch',\n 'executive',\n 'order',\n 'specific',\n 'action',\n 'orderly',\n 'transition',\n 'massive',\n 'disruption',\n 'go',\n 'motorcade',\n 'parade',\n 'protester',\n 'chant',\n 'be',\n 'really',\n 'motorcade',\n 'head',\n 'protester',\n 'many',\n 'slice',\n 'read',\n 'work',\n 'solution',\n 'trade',\n 'off',\n 'view',\n 'queue',\n '7th',\n 'office',\n 'chant',\n 'singing',\n 'be',\n 'scene',\n 'start',\n 'spread',\n 'news',\n 'bring',\n 'quick',\n 'thought',\n 'ask',\n 'how',\n 'view',\n 'ground',\n 'poster',\n 'reference',\n 'interview',\n 'continue',\n 'press',\n 'drug',\n 'rebate',\n 'classification',\n 'be',\n 'fallout',\n 'happiness',\n 'speak',\n 'see',\n 'spark',\n 'teach',\n 'get',\n 'dem',\n 'board',\n 'replacement',\n 'take',\n 'table',\n 'ugh',\n 'be',\n 'scandal',\n 'behavior',\n 'incentive',\n 'donation',\n 'sing',\n 'sit',\n 'dock',\n 'rap',\n 'chicken',\n 'dance',\n 'thank',\n 'day',\n 'count',\n 'current',\n 'hhs',\n 'leadership',\n 'implication',\n 'rulemake',\n 'future',\n 'part',\n 'b',\n 'payment',\n 'demo',\n 'hold',\n 'moment',\n 'truly',\n 'miss',\n 'old',\n 'job',\n 'write',\n 'question',\n 'ask',\n 'hearing',\n 'staffer',\n 'path',\n 'deregulation',\n 'ml',\n 'strategy',\n 'talk',\n 'drug',\n 'event',\n 'issue',\n 'go',\n 'away',\n 'talk',\n 'make',\n 'sausage',\n 'block',\n 'grant',\n 'law',\n 'policy',\n 'matter',\n 'fate',\n 'child',\n 'health',\n 'insurance',\n 'program',\n 'law',\n 'policy',\n 'matter',\n 'promise',\n 'repeal',\n 'pose',\n 'threat',\n 'implementation',\n 'health',\n 'law',\n 'policy',\n 'matter',\n 'embrace',\n 'health',\n 'law',\n 'policy',\n 'matter',\n 'speak',\n 'community',\n 'provider',\n 'stay',\n 'positive',\n 'future',\n 'disability',\n 'policy',\n 'transition',\n 'make',\n 'hard',\n 'choice',\n 'health',\n 'law',\n 'policy',\n 'matter',\n 'transition',\n 'avoid',\n 'disruption',\n 'health',\n 'law',\n 'policy',\n 'matter',\n 'transition',\n 'affordable',\n 'care',\n 'act',\n 'talk',\n 'insurer',\n 'health',\n 'law',\n 'policy',\n 'matter',\n 's',\n 'really',\n 'repeal',\n 'replace',\n 'transition',\n 'new',\n 'world',\n 'more',\n 'follow',\n 'depart',\n 'arrive',\n 'amazing',\n 'overwhelming',\n 'totally',\n 'choke',\n 'veteran',\n 'day',\n 'reflection',\n 'grandfather',\n 'teenager',\n 'salem',\n 'stuff',\n 'ball',\n 'turret',\n 'wwii',\n 'truly',\n 'roll',\n 'call',\n 'event',\n 'health',\n 'care',\n 'mark',\n 'cindy',\n 'mann',\n 'rock',\n 'walk',\n 'music',\n 'faux',\n 'so',\n 'fun',\n 's',\n 'read',\n 'continue',\n 'tomorrow',\n 'do',\n 'favor',\n 'send',\n 'old',\n 'friend',\n 'note',\n 'week',\n 'learn',\n 'go',\n 'rip',\n 'brother',\n 'lot',\n 'fun',\n 'moderating',\n 'spot',\n 'speak',\n 'spot',\n 'bout',\n 'gigantic',\n 'bal',\n 'town',\n 'hall',\n 'county',\n 'year',\n 'year',\n 'stand',\n 'constituent',\n 'engage',\n 'good',\n 'excellent',\n 'folk',\n 'make',\n 'eatright',\n 'slogan',\n 'be',\n 'hard',\n 'work',\n 'professional',\n 'support',\n 'make',\n 'real',\n 'difference',\n 'speak',\n 'moment',\n 'room',\n 'nutritionist',\n 'be',\n 'wrong',\n 'bring',\n 'donut',\n 'thought',\n 'settlement',\n 'colleague',\n 'sternfield',\n 'be',\n 'meet',\n 'eye',\n 'honor',\n 'share',\n 'stage',\n 'talk',\n 'upcoming',\n 'ball',\n 'happy',\n 'folk',\n 'shout',\n 'work',\n 'event',\n 'night',\n 'easy',\n 'shoot',\n 'move',\n 'target',\n 'honor',\n 'address',\n 'board',\n 'night',\n 'inspire',\n 'people',\n 'care',\n 'curious',\n 'think',\n 'iphone',\n 'pinto',\n 'metaphor',\n 'iphone',\n 'see',\n 'csrxp',\n 'be',\n 'talk',\n 'drug',\n 'pricing',\n 'transparency',\n 'competition',\n 'value',\n 'think',\n 'big',\n 'deal',\n 'especially',\n 'give',\n 'report',\n 'current',\n 'pool',\n 'research',\n 'open',\n 'door',\n 'disability',\n 'policy',\n 'thought',\n 'work',\n 'geeky',\n 'stuff',\n 'conclusion',\n 'big',\n 'deal',\n 'disability',\n 'policy',\n 'do',\n 'great',\n 'day',\n 'cap',\n 'absolutely',\n 'good',\n 'now',\n 'begin',\n 'plan',\n 'get',\n 'transparent',\n 'next',\n 'way',\n 'event',\n 'industry',\n 'panel',\n 'great',\n 'start',\n 'audience',\n 'disability',\n 'provider',\n 'hero',\n 'just',\n 'arrive',\n 'look',\n 'forward',\n 'talk',\n 'disability',\n 'policy',\n 'tomorrow',\n 'old',\n 'friend',\n 'spark',\n 'work',\n 'aja',\n 'x',\n '-',\n 'file',\n 'promote',\n 'just',\n 'speak',\n 'work',\n 'unicorn',\n 'underwear',\n 'speech',\n 'love',\n 'increase',\n 'manage',\n 'care',\n 'contract',\n 'take',\n 'control',\n 'exclusion',\n 'change',\n 'now',\n 'change',\n 'come',\n 'health',\n 'law',\n 'policy',\n 'matter',\n 'favorite',\n 'jam',\n 'long',\n 'version',\n 'wanna',\n 'be',\n 'lover',\n 'black',\n 'diet',\n 'silver',\n 'life',\n \"'ve\",\n 'try',\n 'review',\n 'new',\n 'primary',\n 'care',\n 'model',\n 'wonder',\n 'say',\n 'office',\n 'present',\n 'score',\n 'health',\n 'care',\n 'geek',\n 'use',\n 'sentence',\n 'film',\n 'speak',\n 'conference',\n 'right',\n 'billy',\n 'beane',\n 'well',\n 'believe',\n 'break',\n 'baseball',\n 'metaphor',\n 'legislation',\n 'beget',\n 'regulation',\n 'enforcement',\n 'regulation',\n 'beget',\n 'scary',\n 'monster',\n 'phase',\n 'hipaa',\n 'audit',\n 'part',\n 'b',\n 'drug',\n 'rule',\n 'discuss',\n 'grab',\n 'popcorn',\n 'pull',\n 'chair',\n 'go',\n 'entertain',\n 'know',\n 'call',\n 'letter',\n 'plan',\n 'generally',\n 'happy',\n 'read',\n 'compare',\n 'doctor',\n 'way',\n 'compare',\n 'shoe',\n 'car',\n 'cell',\n 'phone',\n 'be',\n 'step',\n 'close',\n 'be',\n 'come',\n 'back',\n 'here',\n 'be',\n 'sketch',\n 'work',\n 'period',\n 'valentine',\n 'day',\n 'happiness',\n 'marry',\n 'health',\n 'care',\n 'geek',\n 'get',\n 'goofy',\n 'tweet',\n 'peace',\n 'review',\n 'day',\n 'rule',\n 'good',\n 'stuff',\n 'folk',\n 'way',\n 'smart',\n 'love',\n 'durable',\n 'medical',\n 'equipment',\n 'thing',\n 'need',\n 'competitively',\n 'bid',\n 'valentine',\n 'love',\n 'extender',\n 'mean',\n 'chip',\n 'therapy',\n 'cap',\n 'now',\n 'notice',\n 'real',\n 'action',\n 'drug',\n 'pricing',\n 'valentine',\n 'counter',\n 'detail',\n 'leave',\n 'brand',\n 'valentine',\n 'love',\n 'demonstration',\n 'project',\n 'love',\n 'eligibility',\n 'continuous',\n 'valentine',\n 'love',\n 'rural',\n 'love',\n 'add',\n 'ons',\n 'love',\n 'rural',\n 'add',\n 'ons',\n 'valentine',\n 'love',\n 'pass',\n 'utilization',\n 'review',\n 'certainly',\n 'medically',\n 'necessary',\n 'love',\n 'compliant',\n 'interoperability',\n 'standard',\n 'valentine',\n 'sole',\n 'community',\n 'provider',\n 'day',\n 'love',\n 'love',\n 'ehb',\n 'non',\n '-',\n 'grandfathered',\n 'qualified',\n 'plan',\n 'pay',\n 'aac',\n 'set',\n 'wac',\n 'reimbursement',\n 'rate',\n 'harmony',\n 'supergeek',\n 'dream',\n 'patent',\n 'love',\n 'forever',\n 'love',\n 'av',\n 'valentine',\n 'guess',\n 'feel',\n 'way',\n 'health',\n 'care',\n 'policy',\n 'love',\n 'spending',\n 'limit',\n 'dear',\n 'valentine',\n 'biosimilar',\n 'be',\n 'let',\n 'grow',\n 'old',\n 'medicare',\n 'long',\n 'time',\n 'ago',\n 'place',\n 'far',\n 'away',\n 'work',\n 'here',\n 'be',\n 'new',\n 'rule',\n 'important',\n 'story']"
     },
     "metadata": {}
    }
   ],
   "execution_count": null
  },
  {
   "cell_type": "code",
   "metadata": {
    "ExecuteTime": {
     "end_time": "2020-10-23T02:56:13.427654Z",
     "start_time": "2020-10-23T02:56:13.266977Z"
    },
    "cell_id": "00015-6cb21560-bdf1-47af-8ad7-e68ac7d32034",
    "deepnote_to_be_reexecuted": false,
    "source_hash": "d7960bde",
    "execution_start": 1634007426386,
    "execution_millis": 71,
    "deepnote_cell_type": "code"
   },
   "source": "joint_tweets = [','.join(t) for t in tweets]",
   "outputs": [],
   "execution_count": null
  },
  {
   "cell_type": "code",
   "metadata": {
    "ExecuteTime": {
     "end_time": "2020-10-23T02:56:32.318365Z",
     "start_time": "2020-10-23T02:56:20.253603Z"
    },
    "cell_id": "00016-8160a98f-a5a0-4e03-bf9c-00a1cbf480df",
    "deepnote_to_be_reexecuted": false,
    "source_hash": "8149723f",
    "execution_start": 1634007769905,
    "execution_millis": 581,
    "deepnote_cell_type": "code"
   },
   "source": "pd.DataFrame(joint_tweets, columns=['Tweets']).to_csv('processed_tweets.csv')",
   "outputs": [],
   "execution_count": null
  },
  {
   "cell_type": "markdown",
   "source": "<a style='text-decoration:none;line-height:16px;display:flex;color:#5B5B62;padding:10px;justify-content:end;' href='https://deepnote.com?utm_source=created-in-deepnote-cell&projectId=87197226-98be-42b2-8527-389082831299' target=\"_blank\">\n<img alt='Created in deepnote.com' style='display:inline;max-height:16px;margin:0px;margin-right:7.5px;' src='data:image/svg+xml;base64,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' > </img>\nCreated in <span style='font-weight:600;margin-left:4px;'>Deepnote</span></a>",
   "metadata": {
    "tags": [],
    "created_in_deepnote_cell": true,
    "deepnote_cell_type": "markdown"
   }
  }
 ],
 "nbformat": 4,
 "nbformat_minor": 4,
 "metadata": {
  "kernelspec": {
   "display_name": "Medium env",
   "language": "python",
   "name": "env"
  },
  "language_info": {
   "codemirror_mode": {
    "name": "ipython",
    "version": 3
   },
   "file_extension": ".py",
   "mimetype": "text/x-python",
   "name": "python",
   "nbconvert_exporter": "python",
   "pygments_lexer": "ipython3",
   "version": "3.7.8"
  },
  "neptune": {
   "notebookId": "ac75203d-2de0-4bbf-a559-ec7763d919d8"
  },
  "toc": {
   "base_numbering": 1,
   "nav_menu": {},
   "number_sections": true,
   "sideBar": true,
   "skip_h1_title": false,
   "title_cell": "Table of Contents",
   "title_sidebar": "Contents",
   "toc_cell": false,
   "toc_position": {},
   "toc_section_display": true,
   "toc_window_display": false
  },
  "deepnote_notebook_id": "5232593a-8031-488d-8285-d90bc09611d4",
  "deepnote": {},
  "deepnote_execution_queue": []
 }
}