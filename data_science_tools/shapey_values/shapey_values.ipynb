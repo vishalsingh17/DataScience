{
 "cells": [
  {
   "cell_type": "markdown",
   "source": "[![View on GitHub](https://img.shields.io/badge/GitHub-View_on_GitHub-blue?logo=GitHub)](https://github.com/khuyentran1401/Data-science/blob/master/data_science_tools/shapey_values/shapey_values.ipynb)\n\n[<img src=\"https://deepnote.com/buttons/launch-in-deepnote.svg\">](https://deepnote.com/project/Data-science-hxlyJpi-QrKFJziQgoMSmQ/%2FData-science%2Fdata_science_tools%2Fshapey_values%2Fshapey_values.ipynb)\n\n [![View Article](https://img.shields.io/badge/View%20Article-View%20Full%20Article-red)](https://towardsdatascience.com/shap-explain-any-machine-learning-model-in-python-24207127cad7)",
   "metadata": {
    "tags": [],
    "cell_id": "00002-a832cf54-2f4b-458c-be81-9401baf5369a",
    "deepnote_cell_type": "markdown"
   }
  },
  {
   "cell_type": "code",
   "metadata": {
    "cell_id": "00000-69f65e90-a458-46b2-8a1a-e5791c1d455f",
    "deepnote_to_be_reexecuted": false,
    "source_hash": "20ba7176",
    "execution_start": 1634039018582,
    "execution_millis": 20239,
    "output_cleared": true,
    "deepnote_cell_type": "code"
   },
   "source": "!pip install shap==0.39.0 patsy==0.5.2 yellowbrick==1.2.1 xgboost==1.4.2 numpy==1.20",
   "execution_count": null,
   "outputs": []
  },
  {
   "cell_type": "code",
   "metadata": {
    "tags": [],
    "cell_id": "00002-fe3a2a32-df1f-4967-906f-acbb289c8b8b",
    "deepnote_to_be_reexecuted": false,
    "source_hash": "2c397fdc",
    "execution_start": 1634039412826,
    "execution_millis": 7,
    "deepnote_cell_type": "code"
   },
   "source": "%load_ext watermark\n%watermark --iversions",
   "execution_count": null,
   "outputs": [
    {
     "name": "stdout",
     "text": "The watermark extension is already loaded. To reload it, use:\n  %reload_ext watermark\nxgboost : 1.4.2\npsycopg2: 2.9.1 (dt dec pq3 ext lo64)\npandas  : 1.2.5\nshap    : 0.39.0\n\n",
     "output_type": "stream"
    }
   ]
  },
  {
   "cell_type": "markdown",
   "source": "# Intuition",
   "metadata": {
    "cell_id": "00001-cda4ddf2-c1af-47c0-a5d9-232b737192f0",
    "deepnote_cell_type": "markdown"
   }
  },
  {
   "cell_type": "code",
   "metadata": {
    "ExecuteTime": {
     "end_time": "2021-09-23T15:05:55.448270Z",
     "start_time": "2021-09-23T15:05:55.439207Z"
    },
    "cell_id": "00002-fc321b6a-8b47-46f0-b15d-ee5f2f4d3c96",
    "deepnote_to_be_reexecuted": false,
    "source_hash": "2963a52d",
    "execution_start": 1633965208318,
    "execution_millis": 0,
    "deepnote_cell_type": "code"
   },
   "source": "revenues = {\n    \"no_ad\": 150,\n    \"social_media\": 300,\n    \"google_advertising\": 200,\n    \"email_marketing\": 350,\n    \"social_media + google_advertising\": 320,\n    \"social_media + email_marketing\": 400,\n    \"google_advertising + email_marketing\": 350,\n    \"social_media + google_advertising + email_marketing\": 450,\n}",
   "execution_count": null,
   "outputs": []
  },
  {
   "cell_type": "code",
   "metadata": {
    "ExecuteTime": {
     "end_time": "2021-09-23T15:05:55.455194Z",
     "start_time": "2021-09-23T15:05:55.449430Z"
    },
    "cell_id": "00003-c0c45629-a801-4097-8406-4ed04ddc0b3f",
    "deepnote_to_be_reexecuted": false,
    "source_hash": "f1d7eda4",
    "execution_start": 1633965208318,
    "execution_millis": 1,
    "deepnote_cell_type": "code"
   },
   "source": "weights = [1 / 3, 1 / 6, 1 / 6, 1 / 3]",
   "execution_count": null,
   "outputs": []
  },
  {
   "cell_type": "markdown",
   "source": "## Google Advertising Marginal Contribution",
   "metadata": {
    "cell_id": "00004-abd930f9-85bf-40e8-957a-e2481854ee3e",
    "deepnote_cell_type": "markdown"
   }
  },
  {
   "cell_type": "markdown",
   "source": "$MC_1$ = revenue(Google advertisement) - revenue(no ad)\n= 200 - 150 = 50\n",
   "metadata": {
    "cell_id": "00005-6e16326f-4477-4451-bcbd-65bbad615ff6",
    "deepnote_cell_type": "markdown"
   }
  },
  {
   "cell_type": "markdown",
   "source": "$MC_2$ = revenue(Google advertisement + social media) - revenue(social media)\n\n= 320 - 300 = 20\n",
   "metadata": {
    "cell_id": "00006-6b394925-90c4-4ac8-9f22-266e92f90ab9",
    "deepnote_cell_type": "markdown"
   }
  },
  {
   "cell_type": "markdown",
   "source": "$MC_3$ = revenue(Google advertisement + email marketing) - revenue(email marketing)\n= 350 - 350 = 0\n",
   "metadata": {
    "cell_id": "00007-5a1cbb63-e4c0-462f-a7bb-0f1f094dc073",
    "deepnote_cell_type": "markdown"
   }
  },
  {
   "cell_type": "markdown",
   "source": "$MC_4$ = revenue(Google advertisement + email marketing + social media) - \n\nrevenue(email marketing + social media) \n\n= 450 - 400 = 50\n",
   "metadata": {
    "cell_id": "00008-f1704f27-af9c-4e5a-953f-a248be1534d3",
    "deepnote_cell_type": "markdown"
   }
  },
  {
   "cell_type": "markdown",
   "source": "$$w_1 \\times MC_1 + w_2 \\times MC_2 + w_3 \\times MC_2 + w_4 \\times MC_4$$\n\nwhere\n- $MC_i$ is the marginal contribution of Google advertisement to group $i$ for $i=1, 2, 3, 4$\n- $w_i$ denotes the weight of the marginal contribution $MC_i$ for  $i=1, 2, 3, 4$.",
   "metadata": {
    "cell_id": "00009-9a26df91-c3ab-4a40-8cc1-89fb6b2467e0",
    "deepnote_cell_type": "markdown"
   }
  },
  {
   "cell_type": "markdown",
   "source": "\\begin{align*}\n&w_1 \\times MC_1 + w_2 \\times MC_2 + w_3 \\times MC_2 + w_4 \\times MC_4\\\\\n&=\\frac{1}{3}\\times 50 + \\frac{1}{6}\\times 20 + \\frac{1}{6}\\times 0 + \\frac{1}{3}\\times50\\\\\n&=36.67\n\\end{align*}",
   "metadata": {
    "cell_id": "00010-89213b31-df8c-4406-aeb9-c8e446006d95",
    "deepnote_cell_type": "markdown"
   }
  },
  {
   "cell_type": "code",
   "metadata": {
    "ExecuteTime": {
     "end_time": "2021-09-23T15:05:55.593081Z",
     "start_time": "2021-09-23T15:05:55.583751Z"
    },
    "cell_id": "00011-61c80ac6-ab73-496e-93b4-9fd761e1edcd",
    "deepnote_to_be_reexecuted": false,
    "source_hash": "a711feba",
    "execution_start": 1633965208319,
    "execution_millis": 143,
    "deepnote_cell_type": "code"
   },
   "source": "google_advertising_contribution = [\n    revenues[\"google_advertising\"] - revenues[\"no_ad\"],\n    revenues[\"social_media + google_advertising\"] - revenues[\"social_media\"],\n    revenues[\"google_advertising + email_marketing\"] - revenues[\"email_marketing\"],\n    revenues[\"social_media + google_advertising + email_marketing\"]\n    - revenues[\"social_media + email_marketing\"],\n]\ngoogle_advertising_contribution",
   "execution_count": null,
   "outputs": [
    {
     "output_type": "execute_result",
     "execution_count": 4,
     "data": {
      "text/plain": "[50, 20, 0, 50]"
     },
     "metadata": {}
    }
   ]
  },
  {
   "cell_type": "code",
   "metadata": {
    "ExecuteTime": {
     "end_time": "2021-09-23T15:05:55.601412Z",
     "start_time": "2021-09-23T15:05:55.594241Z"
    },
    "cell_id": "00012-ed27e98e-97c9-4584-ad11-4778b7ccb978",
    "deepnote_to_be_reexecuted": false,
    "source_hash": "c420f8cf",
    "execution_start": 1633965208330,
    "execution_millis": 132,
    "deepnote_cell_type": "code"
   },
   "source": "google_advertising_total_contribution = sum(\n    [\n        weight * contribution\n        for weight, contribution in zip(weights, google_advertising_contribution)\n    ]\n)\ngoogle_advertising_total_contribution",
   "execution_count": null,
   "outputs": [
    {
     "output_type": "execute_result",
     "execution_count": 5,
     "data": {
      "text/plain": "36.66666666666666"
     },
     "metadata": {}
    }
   ]
  },
  {
   "cell_type": "markdown",
   "source": "## Social Media Marginal Contribution",
   "metadata": {
    "cell_id": "00013-051123c7-ba34-4623-8696-c0ddea6a6e6e",
    "deepnote_cell_type": "markdown"
   }
  },
  {
   "cell_type": "code",
   "metadata": {
    "ExecuteTime": {
     "end_time": "2021-09-23T15:05:55.626372Z",
     "start_time": "2021-09-23T15:05:55.616119Z"
    },
    "cell_id": "00014-031154fe-ae81-4523-832e-9be22dcbed96",
    "deepnote_to_be_reexecuted": false,
    "source_hash": "92cf01a",
    "execution_start": 1633965208370,
    "execution_millis": 92,
    "deepnote_cell_type": "code"
   },
   "source": "social_media_contribution = [\n    revenues[\"social_media\"] - revenues[\"no_ad\"],\n    revenues[\"social_media + google_advertising\"] - revenues[\"google_advertising\"],\n    revenues[\"social_media + email_marketing\"] - revenues[\"email_marketing\"],\n    revenues[\"social_media + google_advertising + email_marketing\"]\n    - revenues[\"google_advertising + email_marketing\"],\n]\nsocial_media_contribution",
   "execution_count": null,
   "outputs": [
    {
     "output_type": "execute_result",
     "execution_count": 6,
     "data": {
      "text/plain": "[150, 120, 50, 100]"
     },
     "metadata": {}
    }
   ]
  },
  {
   "cell_type": "code",
   "metadata": {
    "ExecuteTime": {
     "end_time": "2021-09-23T15:05:55.635115Z",
     "start_time": "2021-09-23T15:05:55.627660Z"
    },
    "cell_id": "00015-fabcffdb-e46b-4c42-b54e-5f6ecbe15030",
    "deepnote_to_be_reexecuted": false,
    "source_hash": "938df26a",
    "execution_start": 1633965208371,
    "execution_millis": 91,
    "deepnote_cell_type": "code"
   },
   "source": "social_media_total_contribution = sum(\n    [\n        weight * contribution\n        for weight, contribution in zip(weights, social_media_contribution)\n    ]\n)\nsocial_media_total_contribution",
   "execution_count": null,
   "outputs": [
    {
     "output_type": "execute_result",
     "execution_count": 7,
     "data": {
      "text/plain": "111.66666666666666"
     },
     "metadata": {}
    }
   ]
  },
  {
   "cell_type": "markdown",
   "source": "## Email Marketing Marginal Contribution",
   "metadata": {
    "cell_id": "00016-dc6b0120-67bf-403c-ba12-191ba87b36ef",
    "deepnote_cell_type": "markdown"
   }
  },
  {
   "cell_type": "code",
   "metadata": {
    "ExecuteTime": {
     "end_time": "2021-09-23T15:05:55.661915Z",
     "start_time": "2021-09-23T15:05:55.652231Z"
    },
    "cell_id": "00017-36e759d9-0651-41ff-a3cf-f1a20c359fa3",
    "deepnote_to_be_reexecuted": false,
    "source_hash": "110e924b",
    "execution_start": 1633965208372,
    "execution_millis": 90,
    "deepnote_cell_type": "code"
   },
   "source": "email_marketing_contribution = [\n    revenues[\"email_marketing\"] - revenues[\"no_ad\"],\n    revenues[\"google_advertising + email_marketing\"] - revenues[\"google_advertising\"],\n    revenues[\"social_media + email_marketing\"] - revenues[\"social_media\"],\n    revenues[\"social_media + google_advertising + email_marketing\"]\n    - revenues[\"social_media + google_advertising\"],\n]\nemail_marketing_contribution",
   "execution_count": null,
   "outputs": [
    {
     "output_type": "execute_result",
     "execution_count": 8,
     "data": {
      "text/plain": "[200, 150, 100, 130]"
     },
     "metadata": {}
    }
   ]
  },
  {
   "cell_type": "code",
   "metadata": {
    "ExecuteTime": {
     "end_time": "2021-09-23T15:05:55.670393Z",
     "start_time": "2021-09-23T15:05:55.663120Z"
    },
    "cell_id": "00018-31aee598-ec02-4390-b885-d95a86e347ed",
    "deepnote_to_be_reexecuted": false,
    "source_hash": "33b80ff3",
    "execution_start": 1633965208388,
    "execution_millis": 75,
    "deepnote_cell_type": "code"
   },
   "source": "email_marketing_contribution = sum(\n    [\n        weight * contribution\n        for weight, contribution in zip(weights, email_marketing_contribution)\n    ]\n)\nemail_marketing_contribution",
   "execution_count": null,
   "outputs": [
    {
     "output_type": "execute_result",
     "execution_count": 9,
     "data": {
      "text/plain": "151.66666666666663"
     },
     "metadata": {}
    }
   ]
  },
  {
   "cell_type": "markdown",
   "source": "## Total Contribution",
   "metadata": {
    "cell_id": "00019-fa218d1d-e46f-48ed-ac71-9adbd25c7a67",
    "deepnote_cell_type": "markdown"
   }
  },
  {
   "cell_type": "code",
   "metadata": {
    "ExecuteTime": {
     "end_time": "2021-09-23T15:05:55.693369Z",
     "start_time": "2021-09-23T15:05:55.686714Z"
    },
    "cell_id": "00020-a517d47a-8225-4da3-b172-fc66cf3f362c",
    "deepnote_to_be_reexecuted": false,
    "source_hash": "30fa839e",
    "execution_start": 1633965208396,
    "execution_millis": 105,
    "deepnote_cell_type": "code"
   },
   "source": "(\n    google_advertising_total_contribution\n    + social_media_total_contribution\n    + email_marketing_contribution\n)",
   "execution_count": null,
   "outputs": [
    {
     "output_type": "execute_result",
     "execution_count": 10,
     "data": {
      "text/plain": "299.99999999999994"
     },
     "metadata": {}
    }
   ]
  },
  {
   "cell_type": "markdown",
   "source": "# Machine Learning Interpretability With Shap",
   "metadata": {
    "cell_id": "00021-e07a5589-9284-4397-b61a-eccdf102dff0",
    "deepnote_cell_type": "markdown"
   }
  },
  {
   "cell_type": "markdown",
   "source": "## Train Model",
   "metadata": {
    "cell_id": "00022-314f90ac-92db-4e13-9e32-862d7e550097",
    "deepnote_cell_type": "markdown"
   }
  },
  {
   "cell_type": "code",
   "metadata": {
    "ExecuteTime": {
     "end_time": "2021-09-23T15:05:56.896672Z",
     "start_time": "2021-09-23T15:05:56.873372Z"
    },
    "cell_id": "00023-f8d752e0-3efd-45b9-b6ba-060d423e2426",
    "deepnote_to_be_reexecuted": false,
    "source_hash": "32406bb2",
    "execution_start": 1634039059225,
    "execution_millis": 143,
    "deepnote_cell_type": "code"
   },
   "source": "import pandas as pd\n\ndata = pd.read_csv(\"/datasets/advertising/advertising.csv\")\ndata.columns = data.columns.map(lambda row: \"_\".join(row.lower().split(\" \")))\ndata.head(10)",
   "execution_count": null,
   "outputs": [
    {
     "output_type": "execute_result",
     "execution_count": 1,
     "data": {
      "application/vnd.deepnote.dataframe.v2+json": {
       "row_count": 10,
       "column_count": 10,
       "columns": [
        {
         "name": "daily_time_spent_on_site",
         "dtype": "float64",
         "stats": {
          "unique_count": 10,
          "nan_count": 0,
          "min": "59.99",
          "max": "88.91",
          "histogram": [
           {
            "bin_start": 59.99,
            "bin_end": 62.882000000000005,
            "count": 1
           },
           {
            "bin_start": 62.882000000000005,
            "bin_end": 65.774,
            "count": 0
           },
           {
            "bin_start": 65.774,
            "bin_end": 68.666,
            "count": 2
           },
           {
            "bin_start": 68.666,
            "bin_end": 71.55799999999999,
            "count": 3
           },
           {
            "bin_start": 71.55799999999999,
            "bin_end": 74.45,
            "count": 1
           },
           {
            "bin_start": 74.45,
            "bin_end": 77.342,
            "count": 1
           },
           {
            "bin_start": 77.342,
            "bin_end": 80.234,
            "count": 1
           },
           {
            "bin_start": 80.234,
            "bin_end": 83.126,
            "count": 0
           },
           {
            "bin_start": 83.126,
            "bin_end": 86.018,
            "count": 0
           },
           {
            "bin_start": 86.018,
            "bin_end": 88.91,
            "count": 1
           }
          ]
         }
        },
        {
         "name": "age",
         "dtype": "int64",
         "stats": {
          "unique_count": 9,
          "nan_count": 0,
          "min": "20",
          "max": "48",
          "histogram": [
           {
            "bin_start": 20,
            "bin_end": 22.8,
            "count": 1
           },
           {
            "bin_start": 22.8,
            "bin_end": 25.6,
            "count": 1
           },
           {
            "bin_start": 25.6,
            "bin_end": 28.4,
            "count": 1
           },
           {
            "bin_start": 28.4,
            "bin_end": 31.2,
            "count": 3
           },
           {
            "bin_start": 31.2,
            "bin_end": 34,
            "count": 1
           },
           {
            "bin_start": 34,
            "bin_end": 36.8,
            "count": 2
           },
           {
            "bin_start": 36.8,
            "bin_end": 39.599999999999994,
            "count": 0
           },
           {
            "bin_start": 39.599999999999994,
            "bin_end": 42.4,
            "count": 0
           },
           {
            "bin_start": 42.4,
            "bin_end": 45.2,
            "count": 0
           },
           {
            "bin_start": 45.2,
            "bin_end": 48,
            "count": 1
           }
          ]
         }
        },
        {
         "name": "area_income",
         "dtype": "float64",
         "stats": {
          "unique_count": 10,
          "nan_count": 0,
          "min": "24593.33",
          "max": "73889.99",
          "histogram": [
           {
            "bin_start": 24593.33,
            "bin_end": 29522.996000000003,
            "count": 1
           },
           {
            "bin_start": 29522.996000000003,
            "bin_end": 34452.662000000004,
            "count": 0
           },
           {
            "bin_start": 34452.662000000004,
            "bin_end": 39382.328,
            "count": 0
           },
           {
            "bin_start": 39382.328,
            "bin_end": 44311.994000000006,
            "count": 0
           },
           {
            "bin_start": 44311.994000000006,
            "bin_end": 49241.66,
            "count": 0
           },
           {
            "bin_start": 49241.66,
            "bin_end": 54171.326,
            "count": 1
           },
           {
            "bin_start": 54171.326,
            "bin_end": 59100.992000000006,
            "count": 2
           },
           {
            "bin_start": 59100.992000000006,
            "bin_end": 64030.658,
            "count": 3
           },
           {
            "bin_start": 64030.658,
            "bin_end": 68960.324,
            "count": 2
           },
           {
            "bin_start": 68960.324,
            "bin_end": 73889.99,
            "count": 1
           }
          ]
         }
        },
        {
         "name": "daily_internet_usage",
         "dtype": "float64",
         "stats": {
          "unique_count": 10,
          "nan_count": 0,
          "min": "131.76",
          "max": "256.09",
          "histogram": [
           {
            "bin_start": 131.76,
            "bin_end": 144.19299999999998,
            "count": 1
           },
           {
            "bin_start": 144.19299999999998,
            "bin_end": 156.62599999999998,
            "count": 0
           },
           {
            "bin_start": 156.62599999999998,
            "bin_end": 169.05899999999997,
            "count": 0
           },
           {
            "bin_start": 169.05899999999997,
            "bin_end": 181.492,
            "count": 0
           },
           {
            "bin_start": 181.492,
            "bin_end": 193.92499999999998,
            "count": 2
           },
           {
            "bin_start": 193.92499999999998,
            "bin_end": 206.35799999999998,
            "count": 0
           },
           {
            "bin_start": 206.35799999999998,
            "bin_end": 218.791,
            "count": 1
           },
           {
            "bin_start": 218.791,
            "bin_end": 231.224,
            "count": 3
           },
           {
            "bin_start": 231.224,
            "bin_end": 243.65699999999998,
            "count": 1
           },
           {
            "bin_start": 243.65699999999998,
            "bin_end": 256.09,
            "count": 2
           }
          ]
         }
        },
        {
         "name": "ad_topic_line",
         "dtype": "object",
         "stats": {
          "unique_count": 10,
          "nan_count": 0,
          "categories": [
           {
            "name": "Cloned 5thgeneration orchestration",
            "count": 1
           },
           {
            "name": "Monitored national standardization",
            "count": 1
           },
           {
            "name": "8 others",
            "count": 8
           }
          ]
         }
        },
        {
         "name": "city",
         "dtype": "object",
         "stats": {
          "unique_count": 10,
          "nan_count": 0,
          "categories": [
           {
            "name": "Wrightburgh",
            "count": 1
           },
           {
            "name": "West Jodi",
            "count": 1
           },
           {
            "name": "8 others",
            "count": 8
           }
          ]
         }
        },
        {
         "name": "male",
         "dtype": "int64",
         "stats": {
          "unique_count": 2,
          "nan_count": 0,
          "min": "0",
          "max": "1",
          "histogram": [
           {
            "bin_start": 0,
            "bin_end": 0.1,
            "count": 4
           },
           {
            "bin_start": 0.1,
            "bin_end": 0.2,
            "count": 0
           },
           {
            "bin_start": 0.2,
            "bin_end": 0.30000000000000004,
            "count": 0
           },
           {
            "bin_start": 0.30000000000000004,
            "bin_end": 0.4,
            "count": 0
           },
           {
            "bin_start": 0.4,
            "bin_end": 0.5,
            "count": 0
           },
           {
            "bin_start": 0.5,
            "bin_end": 0.6000000000000001,
            "count": 0
           },
           {
            "bin_start": 0.6000000000000001,
            "bin_end": 0.7000000000000001,
            "count": 0
           },
           {
            "bin_start": 0.7000000000000001,
            "bin_end": 0.8,
            "count": 0
           },
           {
            "bin_start": 0.8,
            "bin_end": 0.9,
            "count": 0
           },
           {
            "bin_start": 0.9,
            "bin_end": 1,
            "count": 6
           }
          ]
         }
        },
        {
         "name": "country",
         "dtype": "object",
         "stats": {
          "unique_count": 10,
          "nan_count": 0,
          "categories": [
           {
            "name": "Tunisia",
            "count": 1
           },
           {
            "name": "Nauru",
            "count": 1
           },
           {
            "name": "8 others",
            "count": 8
           }
          ]
         }
        },
        {
         "name": "timestamp",
         "dtype": "object",
         "stats": {
          "unique_count": 10,
          "nan_count": 0,
          "categories": [
           {
            "name": "2016-03-27 00:53:11",
            "count": 1
           },
           {
            "name": "2016-04-04 01:39:02",
            "count": 1
           },
           {
            "name": "8 others",
            "count": 8
           }
          ]
         }
        },
        {
         "name": "clicked_on_ad",
         "dtype": "int64",
         "stats": {
          "unique_count": 2,
          "nan_count": 0,
          "min": "0",
          "max": "1",
          "histogram": [
           {
            "bin_start": 0,
            "bin_end": 0.1,
            "count": 9
           },
           {
            "bin_start": 0.1,
            "bin_end": 0.2,
            "count": 0
           },
           {
            "bin_start": 0.2,
            "bin_end": 0.30000000000000004,
            "count": 0
           },
           {
            "bin_start": 0.30000000000000004,
            "bin_end": 0.4,
            "count": 0
           },
           {
            "bin_start": 0.4,
            "bin_end": 0.5,
            "count": 0
           },
           {
            "bin_start": 0.5,
            "bin_end": 0.6000000000000001,
            "count": 0
           },
           {
            "bin_start": 0.6000000000000001,
            "bin_end": 0.7000000000000001,
            "count": 0
           },
           {
            "bin_start": 0.7000000000000001,
            "bin_end": 0.8,
            "count": 0
           },
           {
            "bin_start": 0.8,
            "bin_end": 0.9,
            "count": 0
           },
           {
            "bin_start": 0.9,
            "bin_end": 1,
            "count": 1
           }
          ]
         }
        },
        {
         "name": "_deepnote_index_column",
         "dtype": "int64"
        }
       ],
       "rows_top": [
        {
         "daily_time_spent_on_site": 68.95,
         "age": 35,
         "area_income": 61833.9,
         "daily_internet_usage": 256.09,
         "ad_topic_line": "Cloned 5thgeneration orchestration",
         "city": "Wrightburgh",
         "male": 0,
         "country": "Tunisia",
         "timestamp": "2016-03-27 00:53:11",
         "clicked_on_ad": 0,
         "_deepnote_index_column": 0
        },
        {
         "daily_time_spent_on_site": 80.23,
         "age": 31,
         "area_income": 68441.85,
         "daily_internet_usage": 193.77,
         "ad_topic_line": "Monitored national standardization",
         "city": "West Jodi",
         "male": 1,
         "country": "Nauru",
         "timestamp": "2016-04-04 01:39:02",
         "clicked_on_ad": 0,
         "_deepnote_index_column": 1
        },
        {
         "daily_time_spent_on_site": 69.47,
         "age": 26,
         "area_income": 59785.94,
         "daily_internet_usage": 236.5,
         "ad_topic_line": "Organic bottom-line service-desk",
         "city": "Davidton",
         "male": 0,
         "country": "San Marino",
         "timestamp": "2016-03-13 20:35:42",
         "clicked_on_ad": 0,
         "_deepnote_index_column": 2
        },
        {
         "daily_time_spent_on_site": 74.15,
         "age": 29,
         "area_income": 54806.18,
         "daily_internet_usage": 245.89,
         "ad_topic_line": "Triple-buffered reciprocal time-frame",
         "city": "West Terrifurt",
         "male": 1,
         "country": "Italy",
         "timestamp": "2016-01-10 02:31:19",
         "clicked_on_ad": 0,
         "_deepnote_index_column": 3
        },
        {
         "daily_time_spent_on_site": 68.37,
         "age": 35,
         "area_income": 73889.99,
         "daily_internet_usage": 225.58,
         "ad_topic_line": "Robust logistical utilization",
         "city": "South Manuel",
         "male": 0,
         "country": "Iceland",
         "timestamp": "2016-06-03 03:36:18",
         "clicked_on_ad": 0,
         "_deepnote_index_column": 4
        },
        {
         "daily_time_spent_on_site": 59.99,
         "age": 23,
         "area_income": 59761.56,
         "daily_internet_usage": 226.74,
         "ad_topic_line": "Sharable client-driven software",
         "city": "Jamieberg",
         "male": 1,
         "country": "Norway",
         "timestamp": "2016-05-19 14:30:17",
         "clicked_on_ad": 0,
         "_deepnote_index_column": 5
        },
        {
         "daily_time_spent_on_site": 88.91,
         "age": 33,
         "area_income": 53852.85,
         "daily_internet_usage": 208.36,
         "ad_topic_line": "Enhanced dedicated support",
         "city": "Brandonstad",
         "male": 0,
         "country": "Myanmar",
         "timestamp": "2016-01-28 20:59:32",
         "clicked_on_ad": 0,
         "_deepnote_index_column": 6
        },
        {
         "daily_time_spent_on_site": 66,
         "age": 48,
         "area_income": 24593.33,
         "daily_internet_usage": 131.76,
         "ad_topic_line": "Reactive local challenge",
         "city": "Port Jefferybury",
         "male": 1,
         "country": "Australia",
         "timestamp": "2016-03-07 01:40:15",
         "clicked_on_ad": 1,
         "_deepnote_index_column": 7
        },
        {
         "daily_time_spent_on_site": 74.53,
         "age": 30,
         "area_income": 68862,
         "daily_internet_usage": 221.51,
         "ad_topic_line": "Configurable coherent function",
         "city": "West Colin",
         "male": 1,
         "country": "Grenada",
         "timestamp": "2016-04-18 09:33:42",
         "clicked_on_ad": 0,
         "_deepnote_index_column": 8
        },
        {
         "daily_time_spent_on_site": 69.88,
         "age": 20,
         "area_income": 55642.32,
         "daily_internet_usage": 183.82,
         "ad_topic_line": "Mandatory homogeneous architecture",
         "city": "Ramirezton",
         "male": 1,
         "country": "Ghana",
         "timestamp": "2016-07-11 01:42:51",
         "clicked_on_ad": 0,
         "_deepnote_index_column": 9
        }
       ],
       "rows_bottom": null
      },
      "text/plain": "   daily_time_spent_on_site  age  area_income  daily_internet_usage  \\\n0                     68.95   35     61833.90                256.09   \n1                     80.23   31     68441.85                193.77   \n2                     69.47   26     59785.94                236.50   \n3                     74.15   29     54806.18                245.89   \n4                     68.37   35     73889.99                225.58   \n5                     59.99   23     59761.56                226.74   \n6                     88.91   33     53852.85                208.36   \n7                     66.00   48     24593.33                131.76   \n8                     74.53   30     68862.00                221.51   \n9                     69.88   20     55642.32                183.82   \n\n                           ad_topic_line              city  male     country  \\\n0     Cloned 5thgeneration orchestration       Wrightburgh     0     Tunisia   \n1     Monitored national standardization         West Jodi     1       Nauru   \n2       Organic bottom-line service-desk          Davidton     0  San Marino   \n3  Triple-buffered reciprocal time-frame    West Terrifurt     1       Italy   \n4          Robust logistical utilization      South Manuel     0     Iceland   \n5        Sharable client-driven software         Jamieberg     1      Norway   \n6             Enhanced dedicated support       Brandonstad     0     Myanmar   \n7               Reactive local challenge  Port Jefferybury     1   Australia   \n8         Configurable coherent function        West Colin     1     Grenada   \n9     Mandatory homogeneous architecture        Ramirezton     1       Ghana   \n\n             timestamp  clicked_on_ad  \n0  2016-03-27 00:53:11              0  \n1  2016-04-04 01:39:02              0  \n2  2016-03-13 20:35:42              0  \n3  2016-01-10 02:31:19              0  \n4  2016-06-03 03:36:18              0  \n5  2016-05-19 14:30:17              0  \n6  2016-01-28 20:59:32              0  \n7  2016-03-07 01:40:15              1  \n8  2016-04-18 09:33:42              0  \n9  2016-07-11 01:42:51              0  ",
      "text/html": "<div>\n<style scoped>\n    .dataframe tbody tr th:only-of-type {\n        vertical-align: middle;\n    }\n\n    .dataframe tbody tr th {\n        vertical-align: top;\n    }\n\n    .dataframe thead th {\n        text-align: right;\n    }\n</style>\n<table border=\"1\" class=\"dataframe\">\n  <thead>\n    <tr style=\"text-align: right;\">\n      <th></th>\n      <th>daily_time_spent_on_site</th>\n      <th>age</th>\n      <th>area_income</th>\n      <th>daily_internet_usage</th>\n      <th>ad_topic_line</th>\n      <th>city</th>\n      <th>male</th>\n      <th>country</th>\n      <th>timestamp</th>\n      <th>clicked_on_ad</th>\n    </tr>\n  </thead>\n  <tbody>\n    <tr>\n      <th>0</th>\n      <td>68.95</td>\n      <td>35</td>\n      <td>61833.90</td>\n      <td>256.09</td>\n      <td>Cloned 5thgeneration orchestration</td>\n      <td>Wrightburgh</td>\n      <td>0</td>\n      <td>Tunisia</td>\n      <td>2016-03-27 00:53:11</td>\n      <td>0</td>\n    </tr>\n    <tr>\n      <th>1</th>\n      <td>80.23</td>\n      <td>31</td>\n      <td>68441.85</td>\n      <td>193.77</td>\n      <td>Monitored national standardization</td>\n      <td>West Jodi</td>\n      <td>1</td>\n      <td>Nauru</td>\n      <td>2016-04-04 01:39:02</td>\n      <td>0</td>\n    </tr>\n    <tr>\n      <th>2</th>\n      <td>69.47</td>\n      <td>26</td>\n      <td>59785.94</td>\n      <td>236.50</td>\n      <td>Organic bottom-line service-desk</td>\n      <td>Davidton</td>\n      <td>0</td>\n      <td>San Marino</td>\n      <td>2016-03-13 20:35:42</td>\n      <td>0</td>\n    </tr>\n    <tr>\n      <th>3</th>\n      <td>74.15</td>\n      <td>29</td>\n      <td>54806.18</td>\n      <td>245.89</td>\n      <td>Triple-buffered reciprocal time-frame</td>\n      <td>West Terrifurt</td>\n      <td>1</td>\n      <td>Italy</td>\n      <td>2016-01-10 02:31:19</td>\n      <td>0</td>\n    </tr>\n    <tr>\n      <th>4</th>\n      <td>68.37</td>\n      <td>35</td>\n      <td>73889.99</td>\n      <td>225.58</td>\n      <td>Robust logistical utilization</td>\n      <td>South Manuel</td>\n      <td>0</td>\n      <td>Iceland</td>\n      <td>2016-06-03 03:36:18</td>\n      <td>0</td>\n    </tr>\n    <tr>\n      <th>5</th>\n      <td>59.99</td>\n      <td>23</td>\n      <td>59761.56</td>\n      <td>226.74</td>\n      <td>Sharable client-driven software</td>\n      <td>Jamieberg</td>\n      <td>1</td>\n      <td>Norway</td>\n      <td>2016-05-19 14:30:17</td>\n      <td>0</td>\n    </tr>\n    <tr>\n      <th>6</th>\n      <td>88.91</td>\n      <td>33</td>\n      <td>53852.85</td>\n      <td>208.36</td>\n      <td>Enhanced dedicated support</td>\n      <td>Brandonstad</td>\n      <td>0</td>\n      <td>Myanmar</td>\n      <td>2016-01-28 20:59:32</td>\n      <td>0</td>\n    </tr>\n    <tr>\n      <th>7</th>\n      <td>66.00</td>\n      <td>48</td>\n      <td>24593.33</td>\n      <td>131.76</td>\n      <td>Reactive local challenge</td>\n      <td>Port Jefferybury</td>\n      <td>1</td>\n      <td>Australia</td>\n      <td>2016-03-07 01:40:15</td>\n      <td>1</td>\n    </tr>\n    <tr>\n      <th>8</th>\n      <td>74.53</td>\n      <td>30</td>\n      <td>68862.00</td>\n      <td>221.51</td>\n      <td>Configurable coherent function</td>\n      <td>West Colin</td>\n      <td>1</td>\n      <td>Grenada</td>\n      <td>2016-04-18 09:33:42</td>\n      <td>0</td>\n    </tr>\n    <tr>\n      <th>9</th>\n      <td>69.88</td>\n      <td>20</td>\n      <td>55642.32</td>\n      <td>183.82</td>\n      <td>Mandatory homogeneous architecture</td>\n      <td>Ramirezton</td>\n      <td>1</td>\n      <td>Ghana</td>\n      <td>2016-07-11 01:42:51</td>\n      <td>0</td>\n    </tr>\n  </tbody>\n</table>\n</div>"
     },
     "metadata": {}
    }
   ]
  },
  {
   "cell_type": "code",
   "metadata": {
    "ExecuteTime": {
     "end_time": "2021-09-23T15:05:58.969082Z",
     "start_time": "2021-09-23T15:05:58.908293Z"
    },
    "cell_id": "00024-a4314779-7341-4e80-b10b-54a44948bbcd",
    "deepnote_to_be_reexecuted": false,
    "source_hash": "c5c5aae5",
    "execution_start": 1634039061214,
    "execution_millis": 24,
    "deepnote_cell_type": "code"
   },
   "source": "from patsy import dmatrices\n\ny, X = dmatrices(\n    \"clicked_on_ad ~ daily_time_spent_on_site + age + area_income + daily_internet_usage  + male -1\",\n    data=data,\n)",
   "execution_count": null,
   "outputs": []
  },
  {
   "cell_type": "code",
   "metadata": {
    "ExecuteTime": {
     "end_time": "2021-09-23T15:05:58.987963Z",
     "start_time": "2021-09-23T15:05:58.971182Z"
    },
    "cell_id": "00025-1c2560b7-4677-4553-b9b7-f744d103d926",
    "deepnote_to_be_reexecuted": false,
    "source_hash": "866bb102",
    "execution_start": 1634039062633,
    "execution_millis": 103,
    "deepnote_cell_type": "code"
   },
   "source": "X_frame = pd.DataFrame(data=X, columns=X.design_info.column_names)\nX_frame",
   "execution_count": null,
   "outputs": [
    {
     "output_type": "execute_result",
     "execution_count": 3,
     "data": {
      "application/vnd.deepnote.dataframe.v2+json": {
       "row_count": 1000,
       "column_count": 5,
       "columns": [
        {
         "name": "daily_time_spent_on_site",
         "dtype": "float64",
         "stats": {
          "unique_count": 900,
          "nan_count": 0,
          "min": "32.6",
          "max": "91.43",
          "histogram": [
           {
            "bin_start": 32.6,
            "bin_end": 38.483000000000004,
            "count": 61
           },
           {
            "bin_start": 38.483000000000004,
            "bin_end": 44.366,
            "count": 95
           },
           {
            "bin_start": 44.366,
            "bin_end": 50.249,
            "count": 81
           },
           {
            "bin_start": 50.249,
            "bin_end": 56.132000000000005,
            "count": 72
           },
           {
            "bin_start": 56.132000000000005,
            "bin_end": 62.01500000000001,
            "count": 83
           },
           {
            "bin_start": 62.01500000000001,
            "bin_end": 67.898,
            "count": 102
           },
           {
            "bin_start": 67.898,
            "bin_end": 73.781,
            "count": 123
           },
           {
            "bin_start": 73.781,
            "bin_end": 79.66400000000002,
            "count": 170
           },
           {
            "bin_start": 79.66400000000002,
            "bin_end": 85.54700000000001,
            "count": 151
           },
           {
            "bin_start": 85.54700000000001,
            "bin_end": 91.43,
            "count": 62
           }
          ]
         }
        },
        {
         "name": "age",
         "dtype": "float64",
         "stats": {
          "unique_count": 43,
          "nan_count": 0,
          "min": "19.0",
          "max": "61.0",
          "histogram": [
           {
            "bin_start": 19,
            "bin_end": 23.2,
            "count": 50
           },
           {
            "bin_start": 23.2,
            "bin_end": 27.4,
            "count": 118
           },
           {
            "bin_start": 27.4,
            "bin_end": 31.6,
            "count": 195
           },
           {
            "bin_start": 31.6,
            "bin_end": 35.8,
            "count": 159
           },
           {
            "bin_start": 35.8,
            "bin_end": 40,
            "count": 153
           },
           {
            "bin_start": 40,
            "bin_end": 44.2,
            "count": 138
           },
           {
            "bin_start": 44.2,
            "bin_end": 48.400000000000006,
            "count": 77
           },
           {
            "bin_start": 48.400000000000006,
            "bin_end": 52.6,
            "count": 65
           },
           {
            "bin_start": 52.6,
            "bin_end": 56.800000000000004,
            "count": 28
           },
           {
            "bin_start": 56.800000000000004,
            "bin_end": 61,
            "count": 17
           }
          ]
         }
        },
        {
         "name": "area_income",
         "dtype": "float64",
         "stats": {
          "unique_count": 1000,
          "nan_count": 0,
          "min": "13996.5",
          "max": "79484.8",
          "histogram": [
           {
            "bin_start": 13996.5,
            "bin_end": 20545.33,
            "count": 10
           },
           {
            "bin_start": 20545.33,
            "bin_end": 27094.16,
            "count": 30
           },
           {
            "bin_start": 27094.16,
            "bin_end": 33642.99,
            "count": 49
           },
           {
            "bin_start": 33642.99,
            "bin_end": 40191.82,
            "count": 61
           },
           {
            "bin_start": 40191.82,
            "bin_end": 46740.65,
            "count": 95
           },
           {
            "bin_start": 46740.65,
            "bin_end": 53289.479999999996,
            "count": 162
           },
           {
            "bin_start": 53289.479999999996,
            "bin_end": 59838.31,
            "count": 170
           },
           {
            "bin_start": 59838.31,
            "bin_end": 66387.14,
            "count": 212
           },
           {
            "bin_start": 66387.14,
            "bin_end": 72935.97,
            "count": 149
           },
           {
            "bin_start": 72935.97,
            "bin_end": 79484.8,
            "count": 62
           }
          ]
         }
        },
        {
         "name": "daily_internet_usage",
         "dtype": "float64",
         "stats": {
          "unique_count": 966,
          "nan_count": 0,
          "min": "104.78",
          "max": "269.96",
          "histogram": [
           {
            "bin_start": 104.78,
            "bin_end": 121.298,
            "count": 111
           },
           {
            "bin_start": 121.298,
            "bin_end": 137.816,
            "count": 131
           },
           {
            "bin_start": 137.816,
            "bin_end": 154.334,
            "count": 104
           },
           {
            "bin_start": 154.334,
            "bin_end": 170.85199999999998,
            "count": 98
           },
           {
            "bin_start": 170.85199999999998,
            "bin_end": 187.37,
            "count": 77
           },
           {
            "bin_start": 187.37,
            "bin_end": 203.88799999999998,
            "count": 118
           },
           {
            "bin_start": 203.88799999999998,
            "bin_end": 220.40599999999998,
            "count": 125
           },
           {
            "bin_start": 220.40599999999998,
            "bin_end": 236.92399999999998,
            "count": 143
           },
           {
            "bin_start": 236.92399999999998,
            "bin_end": 253.44199999999998,
            "count": 71
           },
           {
            "bin_start": 253.44199999999998,
            "bin_end": 269.96,
            "count": 22
           }
          ]
         }
        },
        {
         "name": "male",
         "dtype": "float64",
         "stats": {
          "unique_count": 2,
          "nan_count": 0,
          "min": "0.0",
          "max": "1.0",
          "histogram": [
           {
            "bin_start": 0,
            "bin_end": 0.1,
            "count": 519
           },
           {
            "bin_start": 0.1,
            "bin_end": 0.2,
            "count": 0
           },
           {
            "bin_start": 0.2,
            "bin_end": 0.30000000000000004,
            "count": 0
           },
           {
            "bin_start": 0.30000000000000004,
            "bin_end": 0.4,
            "count": 0
           },
           {
            "bin_start": 0.4,
            "bin_end": 0.5,
            "count": 0
           },
           {
            "bin_start": 0.5,
            "bin_end": 0.6000000000000001,
            "count": 0
           },
           {
            "bin_start": 0.6000000000000001,
            "bin_end": 0.7000000000000001,
            "count": 0
           },
           {
            "bin_start": 0.7000000000000001,
            "bin_end": 0.8,
            "count": 0
           },
           {
            "bin_start": 0.8,
            "bin_end": 0.9,
            "count": 0
           },
           {
            "bin_start": 0.9,
            "bin_end": 1,
            "count": 481
           }
          ]
         }
        },
        {
         "name": "_deepnote_index_column",
         "dtype": "int64"
        }
       ],
       "rows_top": [
        {
         "daily_time_spent_on_site": 68.95,
         "age": 35,
         "area_income": 61833.9,
         "daily_internet_usage": 256.09,
         "male": 0,
         "_deepnote_index_column": 0
        },
        {
         "daily_time_spent_on_site": 80.23,
         "age": 31,
         "area_income": 68441.85,
         "daily_internet_usage": 193.77,
         "male": 1,
         "_deepnote_index_column": 1
        },
        {
         "daily_time_spent_on_site": 69.47,
         "age": 26,
         "area_income": 59785.94,
         "daily_internet_usage": 236.5,
         "male": 0,
         "_deepnote_index_column": 2
        },
        {
         "daily_time_spent_on_site": 74.15,
         "age": 29,
         "area_income": 54806.18,
         "daily_internet_usage": 245.89,
         "male": 1,
         "_deepnote_index_column": 3
        },
        {
         "daily_time_spent_on_site": 68.37,
         "age": 35,
         "area_income": 73889.99,
         "daily_internet_usage": 225.58,
         "male": 0,
         "_deepnote_index_column": 4
        },
        {
         "daily_time_spent_on_site": 59.99,
         "age": 23,
         "area_income": 59761.56,
         "daily_internet_usage": 226.74,
         "male": 1,
         "_deepnote_index_column": 5
        },
        {
         "daily_time_spent_on_site": 88.91,
         "age": 33,
         "area_income": 53852.85,
         "daily_internet_usage": 208.36,
         "male": 0,
         "_deepnote_index_column": 6
        },
        {
         "daily_time_spent_on_site": 66,
         "age": 48,
         "area_income": 24593.33,
         "daily_internet_usage": 131.76,
         "male": 1,
         "_deepnote_index_column": 7
        },
        {
         "daily_time_spent_on_site": 74.53,
         "age": 30,
         "area_income": 68862,
         "daily_internet_usage": 221.51,
         "male": 1,
         "_deepnote_index_column": 8
        },
        {
         "daily_time_spent_on_site": 69.88,
         "age": 20,
         "area_income": 55642.32,
         "daily_internet_usage": 183.82,
         "male": 1,
         "_deepnote_index_column": 9
        },
        {
         "daily_time_spent_on_site": 47.64,
         "age": 49,
         "area_income": 45632.51,
         "daily_internet_usage": 122.02,
         "male": 0,
         "_deepnote_index_column": 10
        },
        {
         "daily_time_spent_on_site": 83.07,
         "age": 37,
         "area_income": 62491.01,
         "daily_internet_usage": 230.87,
         "male": 1,
         "_deepnote_index_column": 11
        },
        {
         "daily_time_spent_on_site": 69.57,
         "age": 48,
         "area_income": 51636.92,
         "daily_internet_usage": 113.12,
         "male": 1,
         "_deepnote_index_column": 12
        },
        {
         "daily_time_spent_on_site": 79.52,
         "age": 24,
         "area_income": 51739.63,
         "daily_internet_usage": 214.23,
         "male": 0,
         "_deepnote_index_column": 13
        },
        {
         "daily_time_spent_on_site": 42.95,
         "age": 33,
         "area_income": 30976,
         "daily_internet_usage": 143.56,
         "male": 0,
         "_deepnote_index_column": 14
        },
        {
         "daily_time_spent_on_site": 63.45,
         "age": 23,
         "area_income": 52182.23,
         "daily_internet_usage": 140.64,
         "male": 1,
         "_deepnote_index_column": 15
        },
        {
         "daily_time_spent_on_site": 55.39,
         "age": 37,
         "area_income": 23936.86,
         "daily_internet_usage": 129.41,
         "male": 0,
         "_deepnote_index_column": 16
        },
        {
         "daily_time_spent_on_site": 82.03,
         "age": 41,
         "area_income": 71511.08,
         "daily_internet_usage": 187.53,
         "male": 0,
         "_deepnote_index_column": 17
        },
        {
         "daily_time_spent_on_site": 54.7,
         "age": 36,
         "area_income": 31087.54,
         "daily_internet_usage": 118.39,
         "male": 1,
         "_deepnote_index_column": 18
        },
        {
         "daily_time_spent_on_site": 74.58,
         "age": 40,
         "area_income": 23821.72,
         "daily_internet_usage": 135.51,
         "male": 1,
         "_deepnote_index_column": 19
        },
        {
         "daily_time_spent_on_site": 77.22,
         "age": 30,
         "area_income": 64802.33,
         "daily_internet_usage": 224.44,
         "male": 1,
         "_deepnote_index_column": 20
        },
        {
         "daily_time_spent_on_site": 84.59,
         "age": 35,
         "area_income": 60015.57,
         "daily_internet_usage": 226.54,
         "male": 1,
         "_deepnote_index_column": 21
        },
        {
         "daily_time_spent_on_site": 41.49,
         "age": 52,
         "area_income": 32635.7,
         "daily_internet_usage": 164.83,
         "male": 0,
         "_deepnote_index_column": 22
        },
        {
         "daily_time_spent_on_site": 87.29,
         "age": 36,
         "area_income": 61628.72,
         "daily_internet_usage": 209.93,
         "male": 1,
         "_deepnote_index_column": 23
        },
        {
         "daily_time_spent_on_site": 41.39,
         "age": 41,
         "area_income": 68962.32,
         "daily_internet_usage": 167.22,
         "male": 0,
         "_deepnote_index_column": 24
        },
        {
         "daily_time_spent_on_site": 78.74,
         "age": 28,
         "area_income": 64828,
         "daily_internet_usage": 204.79,
         "male": 1,
         "_deepnote_index_column": 25
        },
        {
         "daily_time_spent_on_site": 48.53,
         "age": 28,
         "area_income": 38067.08,
         "daily_internet_usage": 134.14,
         "male": 1,
         "_deepnote_index_column": 26
        },
        {
         "daily_time_spent_on_site": 51.95,
         "age": 52,
         "area_income": 58295.82,
         "daily_internet_usage": 129.23,
         "male": 0,
         "_deepnote_index_column": 27
        },
        {
         "daily_time_spent_on_site": 70.2,
         "age": 34,
         "area_income": 32708.94,
         "daily_internet_usage": 119.2,
         "male": 0,
         "_deepnote_index_column": 28
        },
        {
         "daily_time_spent_on_site": 76.02,
         "age": 22,
         "area_income": 46179.97,
         "daily_internet_usage": 209.82,
         "male": 0,
         "_deepnote_index_column": 29
        },
        {
         "daily_time_spent_on_site": 67.64,
         "age": 35,
         "area_income": 51473.28,
         "daily_internet_usage": 267.01,
         "male": 1,
         "_deepnote_index_column": 30
        },
        {
         "daily_time_spent_on_site": 86.41,
         "age": 28,
         "area_income": 45593.93,
         "daily_internet_usage": 207.48,
         "male": 1,
         "_deepnote_index_column": 31
        },
        {
         "daily_time_spent_on_site": 59.05,
         "age": 57,
         "area_income": 25583.29,
         "daily_internet_usage": 169.23,
         "male": 1,
         "_deepnote_index_column": 32
        },
        {
         "daily_time_spent_on_site": 55.6,
         "age": 23,
         "area_income": 30227.98,
         "daily_internet_usage": 212.58,
         "male": 0,
         "_deepnote_index_column": 33
        },
        {
         "daily_time_spent_on_site": 57.64,
         "age": 57,
         "area_income": 45580.92,
         "daily_internet_usage": 133.81,
         "male": 1,
         "_deepnote_index_column": 34
        },
        {
         "daily_time_spent_on_site": 84.37,
         "age": 30,
         "area_income": 61389.5,
         "daily_internet_usage": 201.58,
         "male": 0,
         "_deepnote_index_column": 35
        },
        {
         "daily_time_spent_on_site": 62.26,
         "age": 53,
         "area_income": 56770.79,
         "daily_internet_usage": 125.45,
         "male": 1,
         "_deepnote_index_column": 36
        },
        {
         "daily_time_spent_on_site": 65.82,
         "age": 39,
         "area_income": 76435.3,
         "daily_internet_usage": 221.94,
         "male": 0,
         "_deepnote_index_column": 37
        },
        {
         "daily_time_spent_on_site": 50.43,
         "age": 46,
         "area_income": 57425.87,
         "daily_internet_usage": 119.32,
         "male": 1,
         "_deepnote_index_column": 38
        },
        {
         "daily_time_spent_on_site": 38.93,
         "age": 39,
         "area_income": 27508.41,
         "daily_internet_usage": 162.08,
         "male": 0,
         "_deepnote_index_column": 39
        },
        {
         "daily_time_spent_on_site": 84.98,
         "age": 29,
         "area_income": 57691.95,
         "daily_internet_usage": 202.61,
         "male": 0,
         "_deepnote_index_column": 40
        },
        {
         "daily_time_spent_on_site": 64.24,
         "age": 30,
         "area_income": 59784.18,
         "daily_internet_usage": 252.36,
         "male": 0,
         "_deepnote_index_column": 41
        },
        {
         "daily_time_spent_on_site": 82.52,
         "age": 32,
         "area_income": 66572.39,
         "daily_internet_usage": 198.11,
         "male": 1,
         "_deepnote_index_column": 42
        },
        {
         "daily_time_spent_on_site": 81.38,
         "age": 31,
         "area_income": 64929.61,
         "daily_internet_usage": 212.3,
         "male": 0,
         "_deepnote_index_column": 43
        },
        {
         "daily_time_spent_on_site": 80.47,
         "age": 25,
         "area_income": 57519.64,
         "daily_internet_usage": 204.86,
         "male": 0,
         "_deepnote_index_column": 44
        },
        {
         "daily_time_spent_on_site": 37.68,
         "age": 52,
         "area_income": 53575.48,
         "daily_internet_usage": 172.83,
         "male": 1,
         "_deepnote_index_column": 45
        },
        {
         "daily_time_spent_on_site": 69.62,
         "age": 20,
         "area_income": 50983.75,
         "daily_internet_usage": 202.25,
         "male": 1,
         "_deepnote_index_column": 46
        },
        {
         "daily_time_spent_on_site": 85.4,
         "age": 43,
         "area_income": 67058.72,
         "daily_internet_usage": 198.72,
         "male": 0,
         "_deepnote_index_column": 47
        },
        {
         "daily_time_spent_on_site": 44.33,
         "age": 37,
         "area_income": 52723.34,
         "daily_internet_usage": 123.72,
         "male": 1,
         "_deepnote_index_column": 48
        },
        {
         "daily_time_spent_on_site": 48.01,
         "age": 46,
         "area_income": 54286.1,
         "daily_internet_usage": 119.93,
         "male": 0,
         "_deepnote_index_column": 49
        },
        {
         "daily_time_spent_on_site": 73.18,
         "age": 23,
         "area_income": 61526.25,
         "daily_internet_usage": 196.71,
         "male": 1,
         "_deepnote_index_column": 50
        },
        {
         "daily_time_spent_on_site": 79.94,
         "age": 28,
         "area_income": 58526.04,
         "daily_internet_usage": 225.29,
         "male": 0,
         "_deepnote_index_column": 51
        },
        {
         "daily_time_spent_on_site": 33.33,
         "age": 45,
         "area_income": 53350.11,
         "daily_internet_usage": 193.58,
         "male": 1,
         "_deepnote_index_column": 52
        },
        {
         "daily_time_spent_on_site": 50.33,
         "age": 50,
         "area_income": 62657.53,
         "daily_internet_usage": 133.2,
         "male": 1,
         "_deepnote_index_column": 53
        },
        {
         "daily_time_spent_on_site": 62.31,
         "age": 47,
         "area_income": 62722.57,
         "daily_internet_usage": 119.3,
         "male": 0,
         "_deepnote_index_column": 54
        },
        {
         "daily_time_spent_on_site": 80.6,
         "age": 31,
         "area_income": 67479.62,
         "daily_internet_usage": 177.55,
         "male": 0,
         "_deepnote_index_column": 55
        },
        {
         "daily_time_spent_on_site": 65.19,
         "age": 36,
         "area_income": 75254.88,
         "daily_internet_usage": 150.61,
         "male": 0,
         "_deepnote_index_column": 56
        },
        {
         "daily_time_spent_on_site": 44.98,
         "age": 49,
         "area_income": 52336.64,
         "daily_internet_usage": 129.31,
         "male": 0,
         "_deepnote_index_column": 57
        },
        {
         "daily_time_spent_on_site": 77.63,
         "age": 29,
         "area_income": 56113.37,
         "daily_internet_usage": 239.22,
         "male": 0,
         "_deepnote_index_column": 58
        },
        {
         "daily_time_spent_on_site": 41.82,
         "age": 41,
         "area_income": 24852.9,
         "daily_internet_usage": 156.36,
         "male": 0,
         "_deepnote_index_column": 59
        },
        {
         "daily_time_spent_on_site": 85.61,
         "age": 27,
         "area_income": 47708.42,
         "daily_internet_usage": 183.43,
         "male": 0,
         "_deepnote_index_column": 60
        },
        {
         "daily_time_spent_on_site": 85.84,
         "age": 34,
         "area_income": 64654.66,
         "daily_internet_usage": 192.93,
         "male": 1,
         "_deepnote_index_column": 61
        },
        {
         "daily_time_spent_on_site": 72.08,
         "age": 29,
         "area_income": 71228.44,
         "daily_internet_usage": 169.5,
         "male": 0,
         "_deepnote_index_column": 62
        },
        {
         "daily_time_spent_on_site": 86.06,
         "age": 32,
         "area_income": 61601.05,
         "daily_internet_usage": 178.92,
         "male": 1,
         "_deepnote_index_column": 63
        },
        {
         "daily_time_spent_on_site": 45.96,
         "age": 45,
         "area_income": 66281.46,
         "daily_internet_usage": 141.22,
         "male": 0,
         "_deepnote_index_column": 64
        },
        {
         "daily_time_spent_on_site": 62.42,
         "age": 29,
         "area_income": 73910.9,
         "daily_internet_usage": 198.5,
         "male": 1,
         "_deepnote_index_column": 65
        },
        {
         "daily_time_spent_on_site": 63.89,
         "age": 40,
         "area_income": 51317.33,
         "daily_internet_usage": 105.22,
         "male": 0,
         "_deepnote_index_column": 66
        },
        {
         "daily_time_spent_on_site": 35.33,
         "age": 32,
         "area_income": 51510.18,
         "daily_internet_usage": 200.22,
         "male": 0,
         "_deepnote_index_column": 67
        },
        {
         "daily_time_spent_on_site": 75.74,
         "age": 25,
         "area_income": 61005.87,
         "daily_internet_usage": 215.25,
         "male": 1,
         "_deepnote_index_column": 68
        },
        {
         "daily_time_spent_on_site": 78.53,
         "age": 34,
         "area_income": 32536.98,
         "daily_internet_usage": 131.72,
         "male": 0,
         "_deepnote_index_column": 69
        },
        {
         "daily_time_spent_on_site": 46.13,
         "age": 31,
         "area_income": 60248.97,
         "daily_internet_usage": 139.01,
         "male": 0,
         "_deepnote_index_column": 70
        },
        {
         "daily_time_spent_on_site": 69.01,
         "age": 46,
         "area_income": 74543.81,
         "daily_internet_usage": 222.63,
         "male": 0,
         "_deepnote_index_column": 71
        },
        {
         "daily_time_spent_on_site": 55.35,
         "age": 39,
         "area_income": 75509.61,
         "daily_internet_usage": 153.17,
         "male": 1,
         "_deepnote_index_column": 72
        },
        {
         "daily_time_spent_on_site": 33.21,
         "age": 43,
         "area_income": 42650.32,
         "daily_internet_usage": 167.07,
         "male": 1,
         "_deepnote_index_column": 73
        },
        {
         "daily_time_spent_on_site": 38.46,
         "age": 42,
         "area_income": 58183.04,
         "daily_internet_usage": 145.98,
         "male": 1,
         "_deepnote_index_column": 74
        },
        {
         "daily_time_spent_on_site": 64.1,
         "age": 22,
         "area_income": 60465.72,
         "daily_internet_usage": 215.93,
         "male": 0,
         "_deepnote_index_column": 75
        },
        {
         "daily_time_spent_on_site": 49.81,
         "age": 35,
         "area_income": 57009.76,
         "daily_internet_usage": 120.06,
         "male": 1,
         "_deepnote_index_column": 76
        },
        {
         "daily_time_spent_on_site": 82.73,
         "age": 33,
         "area_income": 54541.56,
         "daily_internet_usage": 238.99,
         "male": 1,
         "_deepnote_index_column": 77
        },
        {
         "daily_time_spent_on_site": 56.14,
         "age": 38,
         "area_income": 32689.04,
         "daily_internet_usage": 113.53,
         "male": 1,
         "_deepnote_index_column": 78
        },
        {
         "daily_time_spent_on_site": 55.13,
         "age": 45,
         "area_income": 55605.92,
         "daily_internet_usage": 111.71,
         "male": 0,
         "_deepnote_index_column": 79
        },
        {
         "daily_time_spent_on_site": 78.11,
         "age": 27,
         "area_income": 63296.87,
         "daily_internet_usage": 209.25,
         "male": 1,
         "_deepnote_index_column": 80
        },
        {
         "daily_time_spent_on_site": 73.46,
         "age": 28,
         "area_income": 65653.47,
         "daily_internet_usage": 222.75,
         "male": 1,
         "_deepnote_index_column": 81
        },
        {
         "daily_time_spent_on_site": 56.64,
         "age": 38,
         "area_income": 61652.53,
         "daily_internet_usage": 115.91,
         "male": 0,
         "_deepnote_index_column": 82
        },
        {
         "daily_time_spent_on_site": 68.94,
         "age": 54,
         "area_income": 30726.26,
         "daily_internet_usage": 138.71,
         "male": 0,
         "_deepnote_index_column": 83
        },
        {
         "daily_time_spent_on_site": 70.79,
         "age": 31,
         "area_income": 74535.94,
         "daily_internet_usage": 184.1,
         "male": 0,
         "_deepnote_index_column": 84
        },
        {
         "daily_time_spent_on_site": 57.76,
         "age": 41,
         "area_income": 47861.93,
         "daily_internet_usage": 105.15,
         "male": 0,
         "_deepnote_index_column": 85
        },
        {
         "daily_time_spent_on_site": 77.51,
         "age": 36,
         "area_income": 73600.28,
         "daily_internet_usage": 200.55,
         "male": 0,
         "_deepnote_index_column": 86
        },
        {
         "daily_time_spent_on_site": 52.7,
         "age": 34,
         "area_income": 58543.94,
         "daily_internet_usage": 118.6,
         "male": 1,
         "_deepnote_index_column": 87
        },
        {
         "daily_time_spent_on_site": 57.7,
         "age": 34,
         "area_income": 42696.67,
         "daily_internet_usage": 109.07,
         "male": 0,
         "_deepnote_index_column": 88
        },
        {
         "daily_time_spent_on_site": 56.89,
         "age": 37,
         "area_income": 37334.78,
         "daily_internet_usage": 109.29,
         "male": 1,
         "_deepnote_index_column": 89
        },
        {
         "daily_time_spent_on_site": 69.9,
         "age": 43,
         "area_income": 71392.53,
         "daily_internet_usage": 138.35,
         "male": 0,
         "_deepnote_index_column": 90
        },
        {
         "daily_time_spent_on_site": 55.79,
         "age": 24,
         "area_income": 59550.05,
         "daily_internet_usage": 149.67,
         "male": 0,
         "_deepnote_index_column": 91
        },
        {
         "daily_time_spent_on_site": 70.03,
         "age": 26,
         "area_income": 64264.25,
         "daily_internet_usage": 227.72,
         "male": 1,
         "_deepnote_index_column": 92
        },
        {
         "daily_time_spent_on_site": 50.08,
         "age": 40,
         "area_income": 64147.86,
         "daily_internet_usage": 125.85,
         "male": 1,
         "_deepnote_index_column": 93
        },
        {
         "daily_time_spent_on_site": 43.67,
         "age": 31,
         "area_income": 25686.34,
         "daily_internet_usage": 166.29,
         "male": 1,
         "_deepnote_index_column": 94
        },
        {
         "daily_time_spent_on_site": 72.84,
         "age": 26,
         "area_income": 52968.22,
         "daily_internet_usage": 238.63,
         "male": 0,
         "_deepnote_index_column": 95
        },
        {
         "daily_time_spent_on_site": 45.72,
         "age": 36,
         "area_income": 22473.08,
         "daily_internet_usage": 154.02,
         "male": 1,
         "_deepnote_index_column": 96
        },
        {
         "daily_time_spent_on_site": 39.94,
         "age": 41,
         "area_income": 64927.19,
         "daily_internet_usage": 156.3,
         "male": 0,
         "_deepnote_index_column": 97
        },
        {
         "daily_time_spent_on_site": 35.61,
         "age": 46,
         "area_income": 51868.85,
         "daily_internet_usage": 158.22,
         "male": 0,
         "_deepnote_index_column": 98
        },
        {
         "daily_time_spent_on_site": 79.71,
         "age": 34,
         "area_income": 69456.83,
         "daily_internet_usage": 211.65,
         "male": 1,
         "_deepnote_index_column": 99
        }
       ],
       "rows_bottom": [
        {
         "daily_time_spent_on_site": 50.78,
         "age": 51,
         "area_income": 49957,
         "daily_internet_usage": 122.04,
         "male": 0,
         "_deepnote_index_column": 900
        },
        {
         "daily_time_spent_on_site": 40.47,
         "age": 38,
         "area_income": 24078.93,
         "daily_internet_usage": 203.9,
         "male": 0,
         "_deepnote_index_column": 901
        },
        {
         "daily_time_spent_on_site": 45.62,
         "age": 43,
         "area_income": 53647.81,
         "daily_internet_usage": 121.28,
         "male": 0,
         "_deepnote_index_column": 902
        },
        {
         "daily_time_spent_on_site": 84.76,
         "age": 30,
         "area_income": 61039.13,
         "daily_internet_usage": 178.69,
         "male": 0,
         "_deepnote_index_column": 903
        },
        {
         "daily_time_spent_on_site": 80.64,
         "age": 26,
         "area_income": 46974.15,
         "daily_internet_usage": 221.59,
         "male": 0,
         "_deepnote_index_column": 904
        },
        {
         "daily_time_spent_on_site": 75.94,
         "age": 27,
         "area_income": 53042.51,
         "daily_internet_usage": 236.96,
         "male": 1,
         "_deepnote_index_column": 905
        },
        {
         "daily_time_spent_on_site": 37.01,
         "age": 50,
         "area_income": 48826.14,
         "daily_internet_usage": 216.01,
         "male": 0,
         "_deepnote_index_column": 906
        },
        {
         "daily_time_spent_on_site": 87.18,
         "age": 31,
         "area_income": 58287.86,
         "daily_internet_usage": 193.6,
         "male": 0,
         "_deepnote_index_column": 907
        },
        {
         "daily_time_spent_on_site": 56.91,
         "age": 50,
         "area_income": 21773.22,
         "daily_internet_usage": 146.44,
         "male": 0,
         "_deepnote_index_column": 908
        },
        {
         "daily_time_spent_on_site": 75.24,
         "age": 24,
         "area_income": 52252.91,
         "daily_internet_usage": 226.49,
         "male": 0,
         "_deepnote_index_column": 909
        },
        {
         "daily_time_spent_on_site": 42.84,
         "age": 52,
         "area_income": 27073.27,
         "daily_internet_usage": 182.2,
         "male": 1,
         "_deepnote_index_column": 910
        },
        {
         "daily_time_spent_on_site": 67.56,
         "age": 47,
         "area_income": 50628.31,
         "daily_internet_usage": 109.98,
         "male": 0,
         "_deepnote_index_column": 911
        },
        {
         "daily_time_spent_on_site": 34.96,
         "age": 42,
         "area_income": 36913.51,
         "daily_internet_usage": 160.49,
         "male": 1,
         "_deepnote_index_column": 912
        },
        {
         "daily_time_spent_on_site": 87.46,
         "age": 37,
         "area_income": 61009.1,
         "daily_internet_usage": 211.56,
         "male": 1,
         "_deepnote_index_column": 913
        },
        {
         "daily_time_spent_on_site": 41.86,
         "age": 39,
         "area_income": 53041.77,
         "daily_internet_usage": 128.62,
         "male": 1,
         "_deepnote_index_column": 914
        },
        {
         "daily_time_spent_on_site": 34.04,
         "age": 34,
         "area_income": 40182.84,
         "daily_internet_usage": 174.88,
         "male": 1,
         "_deepnote_index_column": 915
        },
        {
         "daily_time_spent_on_site": 54.96,
         "age": 42,
         "area_income": 59419.78,
         "daily_internet_usage": 113.75,
         "male": 1,
         "_deepnote_index_column": 916
        },
        {
         "daily_time_spent_on_site": 87.14,
         "age": 31,
         "area_income": 58235.21,
         "daily_internet_usage": 199.4,
         "male": 1,
         "_deepnote_index_column": 917
        },
        {
         "daily_time_spent_on_site": 78.79,
         "age": 32,
         "area_income": 68324.48,
         "daily_internet_usage": 215.29,
         "male": 1,
         "_deepnote_index_column": 918
        },
        {
         "daily_time_spent_on_site": 65.56,
         "age": 25,
         "area_income": 69646.35,
         "daily_internet_usage": 181.25,
         "male": 1,
         "_deepnote_index_column": 919
        },
        {
         "daily_time_spent_on_site": 81.05,
         "age": 34,
         "area_income": 54045.39,
         "daily_internet_usage": 245.5,
         "male": 0,
         "_deepnote_index_column": 920
        },
        {
         "daily_time_spent_on_site": 55.71,
         "age": 37,
         "area_income": 57806.03,
         "daily_internet_usage": 112.52,
         "male": 1,
         "_deepnote_index_column": 921
        },
        {
         "daily_time_spent_on_site": 45.48,
         "age": 49,
         "area_income": 53336.76,
         "daily_internet_usage": 129.16,
         "male": 1,
         "_deepnote_index_column": 922
        },
        {
         "daily_time_spent_on_site": 47,
         "age": 56,
         "area_income": 50491.45,
         "daily_internet_usage": 149.53,
         "male": 0,
         "_deepnote_index_column": 923
        },
        {
         "daily_time_spent_on_site": 59.64,
         "age": 51,
         "area_income": 71455.62,
         "daily_internet_usage": 153.12,
         "male": 1,
         "_deepnote_index_column": 924
        },
        {
         "daily_time_spent_on_site": 35.98,
         "age": 45,
         "area_income": 43241.88,
         "daily_internet_usage": 150.79,
         "male": 0,
         "_deepnote_index_column": 925
        },
        {
         "daily_time_spent_on_site": 72.55,
         "age": 22,
         "area_income": 58953.01,
         "daily_internet_usage": 202.34,
         "male": 0,
         "_deepnote_index_column": 926
        },
        {
         "daily_time_spent_on_site": 91.15,
         "age": 38,
         "area_income": 36834.04,
         "daily_internet_usage": 184.98,
         "male": 0,
         "_deepnote_index_column": 927
        },
        {
         "daily_time_spent_on_site": 80.53,
         "age": 29,
         "area_income": 66345.1,
         "daily_internet_usage": 187.64,
         "male": 0,
         "_deepnote_index_column": 928
        },
        {
         "daily_time_spent_on_site": 82.49,
         "age": 45,
         "area_income": 38645.4,
         "daily_internet_usage": 130.84,
         "male": 0,
         "_deepnote_index_column": 929
        },
        {
         "daily_time_spent_on_site": 80.94,
         "age": 36,
         "area_income": 60803,
         "daily_internet_usage": 239.94,
         "male": 0,
         "_deepnote_index_column": 930
        },
        {
         "daily_time_spent_on_site": 61.76,
         "age": 34,
         "area_income": 33553.9,
         "daily_internet_usage": 114.69,
         "male": 0,
         "_deepnote_index_column": 931
        },
        {
         "daily_time_spent_on_site": 63.3,
         "age": 38,
         "area_income": 63071.34,
         "daily_internet_usage": 116.19,
         "male": 0,
         "_deepnote_index_column": 932
        },
        {
         "daily_time_spent_on_site": 36.73,
         "age": 34,
         "area_income": 46737.34,
         "daily_internet_usage": 149.79,
         "male": 1,
         "_deepnote_index_column": 933
        },
        {
         "daily_time_spent_on_site": 78.41,
         "age": 33,
         "area_income": 55368.67,
         "daily_internet_usage": 248.23,
         "male": 1,
         "_deepnote_index_column": 934
        },
        {
         "daily_time_spent_on_site": 83.98,
         "age": 36,
         "area_income": 68305.91,
         "daily_internet_usage": 194.62,
         "male": 0,
         "_deepnote_index_column": 935
        },
        {
         "daily_time_spent_on_site": 63.18,
         "age": 45,
         "area_income": 39211.49,
         "daily_internet_usage": 107.92,
         "male": 0,
         "_deepnote_index_column": 936
        },
        {
         "daily_time_spent_on_site": 50.6,
         "age": 48,
         "area_income": 65956.71,
         "daily_internet_usage": 135.67,
         "male": 0,
         "_deepnote_index_column": 937
        },
        {
         "daily_time_spent_on_site": 32.6,
         "age": 38,
         "area_income": 40159.2,
         "daily_internet_usage": 190.05,
         "male": 0,
         "_deepnote_index_column": 938
        },
        {
         "daily_time_spent_on_site": 60.83,
         "age": 19,
         "area_income": 40478.83,
         "daily_internet_usage": 185.46,
         "male": 1,
         "_deepnote_index_column": 939
        },
        {
         "daily_time_spent_on_site": 44.72,
         "age": 46,
         "area_income": 40468.53,
         "daily_internet_usage": 123.86,
         "male": 1,
         "_deepnote_index_column": 940
        },
        {
         "daily_time_spent_on_site": 78.76,
         "age": 51,
         "area_income": 66980.27,
         "daily_internet_usage": 162.05,
         "male": 0,
         "_deepnote_index_column": 941
        },
        {
         "daily_time_spent_on_site": 79.51,
         "age": 39,
         "area_income": 34942.26,
         "daily_internet_usage": 125.11,
         "male": 1,
         "_deepnote_index_column": 942
        },
        {
         "daily_time_spent_on_site": 39.3,
         "age": 32,
         "area_income": 48335.2,
         "daily_internet_usage": 145.73,
         "male": 0,
         "_deepnote_index_column": 943
        },
        {
         "daily_time_spent_on_site": 64.79,
         "age": 30,
         "area_income": 42251.59,
         "daily_internet_usage": 116.07,
         "male": 0,
         "_deepnote_index_column": 944
        },
        {
         "daily_time_spent_on_site": 89.8,
         "age": 36,
         "area_income": 57330.43,
         "daily_internet_usage": 198.24,
         "male": 0,
         "_deepnote_index_column": 945
        },
        {
         "daily_time_spent_on_site": 72.82,
         "age": 34,
         "area_income": 75769.82,
         "daily_internet_usage": 191.82,
         "male": 1,
         "_deepnote_index_column": 946
        },
        {
         "daily_time_spent_on_site": 38.65,
         "age": 31,
         "area_income": 51812.71,
         "daily_internet_usage": 154.77,
         "male": 1,
         "_deepnote_index_column": 947
        },
        {
         "daily_time_spent_on_site": 59.01,
         "age": 30,
         "area_income": 75265.96,
         "daily_internet_usage": 178.75,
         "male": 1,
         "_deepnote_index_column": 948
        },
        {
         "daily_time_spent_on_site": 78.96,
         "age": 50,
         "area_income": 69868.48,
         "daily_internet_usage": 193.15,
         "male": 0,
         "_deepnote_index_column": 949
        },
        {
         "daily_time_spent_on_site": 63.99,
         "age": 43,
         "area_income": 72802.42,
         "daily_internet_usage": 138.46,
         "male": 0,
         "_deepnote_index_column": 950
        },
        {
         "daily_time_spent_on_site": 41.35,
         "age": 27,
         "area_income": 39193.45,
         "daily_internet_usage": 162.46,
         "male": 1,
         "_deepnote_index_column": 951
        },
        {
         "daily_time_spent_on_site": 62.79,
         "age": 36,
         "area_income": 18368.57,
         "daily_internet_usage": 231.87,
         "male": 1,
         "_deepnote_index_column": 952
        },
        {
         "daily_time_spent_on_site": 45.53,
         "age": 29,
         "area_income": 56129.89,
         "daily_internet_usage": 141.58,
         "male": 0,
         "_deepnote_index_column": 953
        },
        {
         "daily_time_spent_on_site": 51.65,
         "age": 31,
         "area_income": 58996.56,
         "daily_internet_usage": 249.99,
         "male": 0,
         "_deepnote_index_column": 954
        },
        {
         "daily_time_spent_on_site": 54.55,
         "age": 44,
         "area_income": 41547.62,
         "daily_internet_usage": 109.04,
         "male": 0,
         "_deepnote_index_column": 955
        },
        {
         "daily_time_spent_on_site": 35.66,
         "age": 36,
         "area_income": 59240.24,
         "daily_internet_usage": 172.57,
         "male": 0,
         "_deepnote_index_column": 956
        },
        {
         "daily_time_spent_on_site": 69.95,
         "age": 28,
         "area_income": 56725.47,
         "daily_internet_usage": 247.01,
         "male": 0,
         "_deepnote_index_column": 957
        },
        {
         "daily_time_spent_on_site": 79.83,
         "age": 29,
         "area_income": 55764.43,
         "daily_internet_usage": 234.23,
         "male": 1,
         "_deepnote_index_column": 958
        },
        {
         "daily_time_spent_on_site": 85.35,
         "age": 37,
         "area_income": 64235.51,
         "daily_internet_usage": 161.42,
         "male": 1,
         "_deepnote_index_column": 959
        },
        {
         "daily_time_spent_on_site": 56.78,
         "age": 28,
         "area_income": 39939.39,
         "daily_internet_usage": 124.32,
         "male": 0,
         "_deepnote_index_column": 960
        },
        {
         "daily_time_spent_on_site": 78.67,
         "age": 26,
         "area_income": 63319.99,
         "daily_internet_usage": 195.56,
         "male": 0,
         "_deepnote_index_column": 961
        },
        {
         "daily_time_spent_on_site": 70.09,
         "age": 21,
         "area_income": 54725.87,
         "daily_internet_usage": 211.17,
         "male": 0,
         "_deepnote_index_column": 962
        },
        {
         "daily_time_spent_on_site": 60.75,
         "age": 42,
         "area_income": 69775.75,
         "daily_internet_usage": 247.05,
         "male": 1,
         "_deepnote_index_column": 963
        },
        {
         "daily_time_spent_on_site": 65.07,
         "age": 24,
         "area_income": 57545.56,
         "daily_internet_usage": 233.85,
         "male": 0,
         "_deepnote_index_column": 964
        },
        {
         "daily_time_spent_on_site": 35.25,
         "age": 50,
         "area_income": 47051.02,
         "daily_internet_usage": 194.44,
         "male": 0,
         "_deepnote_index_column": 965
        },
        {
         "daily_time_spent_on_site": 37.58,
         "age": 52,
         "area_income": 51600.47,
         "daily_internet_usage": 176.7,
         "male": 1,
         "_deepnote_index_column": 966
        },
        {
         "daily_time_spent_on_site": 68.01,
         "age": 25,
         "area_income": 68357.96,
         "daily_internet_usage": 188.32,
         "male": 1,
         "_deepnote_index_column": 967
        },
        {
         "daily_time_spent_on_site": 45.08,
         "age": 38,
         "area_income": 35349.26,
         "daily_internet_usage": 125.27,
         "male": 0,
         "_deepnote_index_column": 968
        },
        {
         "daily_time_spent_on_site": 63.04,
         "age": 27,
         "area_income": 69784.85,
         "daily_internet_usage": 159.05,
         "male": 0,
         "_deepnote_index_column": 969
        },
        {
         "daily_time_spent_on_site": 40.18,
         "age": 29,
         "area_income": 50760.23,
         "daily_internet_usage": 151.96,
         "male": 0,
         "_deepnote_index_column": 970
        },
        {
         "daily_time_spent_on_site": 45.17,
         "age": 48,
         "area_income": 34418.09,
         "daily_internet_usage": 132.07,
         "male": 1,
         "_deepnote_index_column": 971
        },
        {
         "daily_time_spent_on_site": 50.48,
         "age": 50,
         "area_income": 20592.99,
         "daily_internet_usage": 162.43,
         "male": 0,
         "_deepnote_index_column": 972
        },
        {
         "daily_time_spent_on_site": 80.87,
         "age": 28,
         "area_income": 63528.8,
         "daily_internet_usage": 203.3,
         "male": 0,
         "_deepnote_index_column": 973
        },
        {
         "daily_time_spent_on_site": 41.88,
         "age": 40,
         "area_income": 44217.68,
         "daily_internet_usage": 126.11,
         "male": 1,
         "_deepnote_index_column": 974
        },
        {
         "daily_time_spent_on_site": 39.87,
         "age": 48,
         "area_income": 47929.83,
         "daily_internet_usage": 139.34,
         "male": 1,
         "_deepnote_index_column": 975
        },
        {
         "daily_time_spent_on_site": 61.84,
         "age": 45,
         "area_income": 46024.29,
         "daily_internet_usage": 105.63,
         "male": 1,
         "_deepnote_index_column": 976
        },
        {
         "daily_time_spent_on_site": 54.97,
         "age": 31,
         "area_income": 51900.03,
         "daily_internet_usage": 116.38,
         "male": 1,
         "_deepnote_index_column": 977
        },
        {
         "daily_time_spent_on_site": 71.4,
         "age": 30,
         "area_income": 72188.9,
         "daily_internet_usage": 166.31,
         "male": 0,
         "_deepnote_index_column": 978
        },
        {
         "daily_time_spent_on_site": 70.29,
         "age": 31,
         "area_income": 56974.51,
         "daily_internet_usage": 254.65,
         "male": 1,
         "_deepnote_index_column": 979
        },
        {
         "daily_time_spent_on_site": 67.26,
         "age": 57,
         "area_income": 25682.65,
         "daily_internet_usage": 168.41,
         "male": 1,
         "_deepnote_index_column": 980
        },
        {
         "daily_time_spent_on_site": 76.58,
         "age": 46,
         "area_income": 41884.64,
         "daily_internet_usage": 258.26,
         "male": 0,
         "_deepnote_index_column": 981
        },
        {
         "daily_time_spent_on_site": 54.37,
         "age": 38,
         "area_income": 72196.29,
         "daily_internet_usage": 140.77,
         "male": 0,
         "_deepnote_index_column": 982
        },
        {
         "daily_time_spent_on_site": 82.79,
         "age": 32,
         "area_income": 54429.17,
         "daily_internet_usage": 234.81,
         "male": 1,
         "_deepnote_index_column": 983
        },
        {
         "daily_time_spent_on_site": 66.47,
         "age": 31,
         "area_income": 58037.66,
         "daily_internet_usage": 256.39,
         "male": 1,
         "_deepnote_index_column": 984
        },
        {
         "daily_time_spent_on_site": 72.88,
         "age": 44,
         "area_income": 64011.26,
         "daily_internet_usage": 125.12,
         "male": 0,
         "_deepnote_index_column": 985
        },
        {
         "daily_time_spent_on_site": 76.44,
         "age": 28,
         "area_income": 59967.19,
         "daily_internet_usage": 232.68,
         "male": 1,
         "_deepnote_index_column": 986
        },
        {
         "daily_time_spent_on_site": 63.37,
         "age": 43,
         "area_income": 43155.19,
         "daily_internet_usage": 105.04,
         "male": 1,
         "_deepnote_index_column": 987
        },
        {
         "daily_time_spent_on_site": 89.71,
         "age": 48,
         "area_income": 51501.38,
         "daily_internet_usage": 204.4,
         "male": 1,
         "_deepnote_index_column": 988
        },
        {
         "daily_time_spent_on_site": 70.96,
         "age": 31,
         "area_income": 55187.85,
         "daily_internet_usage": 256.4,
         "male": 0,
         "_deepnote_index_column": 989
        },
        {
         "daily_time_spent_on_site": 35.79,
         "age": 44,
         "area_income": 33813.08,
         "daily_internet_usage": 165.62,
         "male": 1,
         "_deepnote_index_column": 990
        },
        {
         "daily_time_spent_on_site": 38.96,
         "age": 38,
         "area_income": 36497.22,
         "daily_internet_usage": 140.67,
         "male": 1,
         "_deepnote_index_column": 991
        },
        {
         "daily_time_spent_on_site": 69.17,
         "age": 40,
         "area_income": 66193.81,
         "daily_internet_usage": 123.62,
         "male": 0,
         "_deepnote_index_column": 992
        },
        {
         "daily_time_spent_on_site": 64.2,
         "age": 27,
         "area_income": 66200.96,
         "daily_internet_usage": 227.63,
         "male": 1,
         "_deepnote_index_column": 993
        },
        {
         "daily_time_spent_on_site": 43.7,
         "age": 28,
         "area_income": 63126.96,
         "daily_internet_usage": 173.01,
         "male": 0,
         "_deepnote_index_column": 994
        },
        {
         "daily_time_spent_on_site": 72.97,
         "age": 30,
         "area_income": 71384.57,
         "daily_internet_usage": 208.58,
         "male": 1,
         "_deepnote_index_column": 995
        },
        {
         "daily_time_spent_on_site": 51.3,
         "age": 45,
         "area_income": 67782.17,
         "daily_internet_usage": 134.42,
         "male": 1,
         "_deepnote_index_column": 996
        },
        {
         "daily_time_spent_on_site": 51.63,
         "age": 51,
         "area_income": 42415.72,
         "daily_internet_usage": 120.37,
         "male": 1,
         "_deepnote_index_column": 997
        },
        {
         "daily_time_spent_on_site": 55.55,
         "age": 19,
         "area_income": 41920.79,
         "daily_internet_usage": 187.95,
         "male": 0,
         "_deepnote_index_column": 998
        },
        {
         "daily_time_spent_on_site": 45.01,
         "age": 26,
         "area_income": 29875.8,
         "daily_internet_usage": 178.35,
         "male": 0,
         "_deepnote_index_column": 999
        }
       ]
      },
      "text/plain": "     daily_time_spent_on_site   age  area_income  daily_internet_usage  male\n0                       68.95  35.0     61833.90                256.09   0.0\n1                       80.23  31.0     68441.85                193.77   1.0\n2                       69.47  26.0     59785.94                236.50   0.0\n3                       74.15  29.0     54806.18                245.89   1.0\n4                       68.37  35.0     73889.99                225.58   0.0\n..                        ...   ...          ...                   ...   ...\n995                     72.97  30.0     71384.57                208.58   1.0\n996                     51.30  45.0     67782.17                134.42   1.0\n997                     51.63  51.0     42415.72                120.37   1.0\n998                     55.55  19.0     41920.79                187.95   0.0\n999                     45.01  26.0     29875.80                178.35   0.0\n\n[1000 rows x 5 columns]",
      "text/html": "<div>\n<style scoped>\n    .dataframe tbody tr th:only-of-type {\n        vertical-align: middle;\n    }\n\n    .dataframe tbody tr th {\n        vertical-align: top;\n    }\n\n    .dataframe thead th {\n        text-align: right;\n    }\n</style>\n<table border=\"1\" class=\"dataframe\">\n  <thead>\n    <tr style=\"text-align: right;\">\n      <th></th>\n      <th>daily_time_spent_on_site</th>\n      <th>age</th>\n      <th>area_income</th>\n      <th>daily_internet_usage</th>\n      <th>male</th>\n    </tr>\n  </thead>\n  <tbody>\n    <tr>\n      <th>0</th>\n      <td>68.95</td>\n      <td>35.0</td>\n      <td>61833.90</td>\n      <td>256.09</td>\n      <td>0.0</td>\n    </tr>\n    <tr>\n      <th>1</th>\n      <td>80.23</td>\n      <td>31.0</td>\n      <td>68441.85</td>\n      <td>193.77</td>\n      <td>1.0</td>\n    </tr>\n    <tr>\n      <th>2</th>\n      <td>69.47</td>\n      <td>26.0</td>\n      <td>59785.94</td>\n      <td>236.50</td>\n      <td>0.0</td>\n    </tr>\n    <tr>\n      <th>3</th>\n      <td>74.15</td>\n      <td>29.0</td>\n      <td>54806.18</td>\n      <td>245.89</td>\n      <td>1.0</td>\n    </tr>\n    <tr>\n      <th>4</th>\n      <td>68.37</td>\n      <td>35.0</td>\n      <td>73889.99</td>\n      <td>225.58</td>\n      <td>0.0</td>\n    </tr>\n    <tr>\n      <th>...</th>\n      <td>...</td>\n      <td>...</td>\n      <td>...</td>\n      <td>...</td>\n      <td>...</td>\n    </tr>\n    <tr>\n      <th>995</th>\n      <td>72.97</td>\n      <td>30.0</td>\n      <td>71384.57</td>\n      <td>208.58</td>\n      <td>1.0</td>\n    </tr>\n    <tr>\n      <th>996</th>\n      <td>51.30</td>\n      <td>45.0</td>\n      <td>67782.17</td>\n      <td>134.42</td>\n      <td>1.0</td>\n    </tr>\n    <tr>\n      <th>997</th>\n      <td>51.63</td>\n      <td>51.0</td>\n      <td>42415.72</td>\n      <td>120.37</td>\n      <td>1.0</td>\n    </tr>\n    <tr>\n      <th>998</th>\n      <td>55.55</td>\n      <td>19.0</td>\n      <td>41920.79</td>\n      <td>187.95</td>\n      <td>0.0</td>\n    </tr>\n    <tr>\n      <th>999</th>\n      <td>45.01</td>\n      <td>26.0</td>\n      <td>29875.80</td>\n      <td>178.35</td>\n      <td>0.0</td>\n    </tr>\n  </tbody>\n</table>\n<p>1000 rows × 5 columns</p>\n</div>"
     },
     "metadata": {}
    }
   ]
  },
  {
   "cell_type": "code",
   "metadata": {
    "ExecuteTime": {
     "end_time": "2021-09-23T15:05:59.526665Z",
     "start_time": "2021-09-23T15:05:58.989551Z"
    },
    "cell_id": "00026-5200954f-ed6b-4d3a-bba6-bf929f27f5c8",
    "deepnote_to_be_reexecuted": false,
    "source_hash": "c12fb403",
    "execution_start": 1634039063975,
    "execution_millis": 640,
    "deepnote_cell_type": "code"
   },
   "source": "from sklearn.model_selection import train_test_split\n\nX_train, X_test, y_train, y_test = train_test_split(X, y, test_size=0.2, random_state=7)",
   "execution_count": null,
   "outputs": []
  },
  {
   "cell_type": "code",
   "metadata": {
    "ExecuteTime": {
     "end_time": "2021-09-23T15:06:00.663950Z",
     "start_time": "2021-09-23T15:05:59.528339Z"
    },
    "cell_id": "00027-1acdfb0a-ee0d-4039-a685-583f5a2c5e68",
    "deepnote_to_be_reexecuted": false,
    "source_hash": "89b2c9b7",
    "execution_start": 1634039065526,
    "execution_millis": 12754,
    "deepnote_cell_type": "code"
   },
   "source": "import xgboost\nimport shap\nfrom sklearn.metrics import f1_score\n\nmodel = xgboost.XGBClassifier().fit(X_train, y_train)\n\nprediction = model.predict(X_test)\nf1 = f1_score(y_test, prediction)\nf1",
   "execution_count": null,
   "outputs": [
    {
     "name": "stderr",
     "text": "2021-10-12 11:44:27.756124: W tensorflow/stream_executor/platform/default/dso_loader.cc:60] Could not load dynamic library 'libcudart.so.11.0'; dlerror: libcudart.so.11.0: cannot open shared object file: No such file or directory\n2021-10-12 11:44:27.756182: I tensorflow/stream_executor/cuda/cudart_stub.cc:29] Ignore above cudart dlerror if you do not have a GPU set up on your machine.\nThe use of label encoder in XGBClassifier is deprecated and will be removed in a future release. To remove this warning, do the following: 1) Pass option use_label_encoder=False when constructing XGBClassifier object; and 2) Encode your labels (y) as integers starting with 0, i.e. 0, 1, 2, ..., [num_class - 1].\nA column-vector y was passed when a 1d array was expected. Please change the shape of y to (n_samples, ), for example using ravel().\n[11:44:34] WARNING: ../src/learner.cc:1095: Starting in XGBoost 1.3.0, the default evaluation metric used with the objective 'binary:logistic' was changed from 'error' to 'logloss'. Explicitly set eval_metric if you'd like to restore the old behavior.\n",
     "output_type": "stream"
    },
    {
     "output_type": "execute_result",
     "execution_count": 5,
     "data": {
      "text/plain": "0.9619047619047619"
     },
     "metadata": {}
    }
   ]
  },
  {
   "cell_type": "code",
   "metadata": {
    "ExecuteTime": {
     "end_time": "2021-09-23T17:53:39.962074Z",
     "start_time": "2021-09-23T17:53:39.695923Z"
    },
    "cell_id": "00028-d55585e5-39fb-441f-9a34-ec5b9a296f50",
    "deepnote_to_be_reexecuted": false,
    "source_hash": "574b7e9d",
    "execution_start": 1634039406956,
    "execution_millis": 505,
    "deepnote_cell_type": "code"
   },
   "source": "from yellowbrick.classifier import ClassificationReport\n\nvisualizer = ClassificationReport(model)\nvisualizer.fit(X_train, y_train)\nvisualizer.score(X_test, y_test)\nvisualizer.show()",
   "execution_count": null,
   "outputs": [
    {
     "data": {
      "text/plain": "<Figure size 576x396 with 2 Axes>",
      "image/png": "[encoded data removed]"
     },
     "metadata": {
      "image/png": {
       "width": 523,
       "height": 384
      }
     },
     "output_type": "display_data"
    },
    {
     "output_type": "execute_result",
     "execution_count": 10,
     "data": {
      "text/plain": "<AxesSubplot:title={'center':'XGBClassifier Classification Report'}>"
     },
     "metadata": {}
    }
   ]
  },
  {
   "cell_type": "markdown",
   "source": "## SHAP Summary Plot",
   "metadata": {
    "cell_id": "00029-c2a85030-0b83-4b72-8885-9dc9ce74a4c4",
    "deepnote_cell_type": "markdown"
   }
  },
  {
   "cell_type": "code",
   "metadata": {
    "ExecuteTime": {
     "end_time": "2021-09-23T15:06:01.006311Z",
     "start_time": "2021-09-23T15:06:00.911237Z"
    },
    "cell_id": "00030-db69078b-f80f-4fb0-9c35-eaf181849f50",
    "deepnote_to_be_reexecuted": false,
    "source_hash": "865efaa",
    "execution_start": 1634039085216,
    "execution_millis": 230,
    "deepnote_cell_type": "code"
   },
   "source": "explainer = shap.Explainer(model)\nshap_values = explainer(X_frame)",
   "execution_count": null,
   "outputs": [
    {
     "name": "stderr",
     "text": "ntree_limit is deprecated, use `iteration_range` or model slicing instead.\n",
     "output_type": "stream"
    }
   ]
  },
  {
   "cell_type": "code",
   "metadata": {
    "ExecuteTime": {
     "end_time": "2021-09-23T15:06:01.281400Z",
     "start_time": "2021-09-23T15:06:01.008750Z"
    },
    "cell_id": "00031-bd65b449-150b-42c8-a60e-df6a3532592b",
    "deepnote_to_be_reexecuted": false,
    "source_hash": "18335585",
    "execution_start": 1634039086306,
    "execution_millis": 771,
    "deepnote_cell_type": "code"
   },
   "source": "shap.summary_plot(shap_values, X)",
   "execution_count": null,
   "outputs": [
    {
     "name": "stderr",
     "text": "findfont: Font family ['sans-serif'] not found. Falling back to DejaVu Sans.\nfindfont: Generic family 'sans-serif' not found because none of the following families were found: Arial, Liberation Sans, Bitstream Vera Sans, sans-serif\nfindfont: Font family ['sans-serif'] not found. Falling back to DejaVu Sans.\nfindfont: Generic family 'sans-serif' not found because none of the following families were found: Arial, Liberation Sans, Bitstream Vera Sans, sans-serif\n",
     "output_type": "stream"
    },
    {
     "data": {
      "text/plain": "<Figure size 576x252 with 2 Axes>",
      "image/png": "[encoded data removed]"
     },
     "metadata": {
      "image/png": {
       "width": 635,
       "height": 242
      }
     },
     "output_type": "display_data"
    }
   ]
  },
  {
   "cell_type": "markdown",
   "source": "## SHAP Waterfall Plot",
   "metadata": {
    "cell_id": "00032-c18428ab-74d9-4045-89ec-df4d8bd3e8a5",
    "deepnote_cell_type": "markdown"
   }
  },
  {
   "cell_type": "code",
   "metadata": {
    "ExecuteTime": {
     "end_time": "2021-09-23T15:06:01.703734Z",
     "start_time": "2021-09-23T15:06:01.282775Z"
    },
    "scrolled": true,
    "cell_id": "00033-1ce72ae3-35ce-463c-b02b-b6fac082fa22",
    "deepnote_to_be_reexecuted": false,
    "source_hash": "7f79db8b",
    "execution_start": 1633965217298,
    "execution_millis": 817,
    "deepnote_cell_type": "code"
   },
   "source": "shap.plots.waterfall(shap_values[0])",
   "execution_count": null,
   "outputs": [
    {
     "data": {
      "text/plain": "<Figure size 576x288 with 3 Axes>",
      "image/png": "[encoded data removed]"
     },
     "metadata": {
      "image/png": {
       "width": 696,
       "height": 291
      }
     },
     "output_type": "display_data"
    }
   ]
  },
  {
   "cell_type": "markdown",
   "source": "$f(x)$ is the prediction after considering all features\n\n$E[f(x)]$ is the mean prediction\n\n$$f(x) - E[f(x)] = -7.263 - (-0.021) = -7.24$$\n$$\\text{total contribution} = -4.14 - 1.89 - 0.77 - 0.71 + 0.27=-7.24$$",
   "metadata": {
    "cell_id": "00034-8bec73df-3e61-4fa4-8500-f552e677eab4",
    "deepnote_cell_type": "markdown"
   }
  },
  {
   "cell_type": "code",
   "metadata": {
    "ExecuteTime": {
     "end_time": "2021-09-23T15:06:02.141268Z",
     "start_time": "2021-09-23T15:06:01.705254Z"
    },
    "cell_id": "00035-1edf9199-f230-4486-b13e-bb6fa77c3eb7",
    "deepnote_to_be_reexecuted": false,
    "source_hash": "5dd687ec",
    "execution_start": 1633965218090,
    "execution_millis": 726,
    "deepnote_cell_type": "code"
   },
   "source": "shap.plots.waterfall(shap_values[1])",
   "execution_count": null,
   "outputs": [
    {
     "data": {
      "text/plain": "<Figure size 576x288 with 3 Axes>",
      "image/png": "[encoded data removed]"
     },
     "metadata": {
      "image/png": {
       "width": 709,
       "height": 291
      }
     },
     "output_type": "display_data"
    }
   ]
  },
  {
   "cell_type": "code",
   "metadata": {
    "ExecuteTime": {
     "end_time": "2021-09-23T15:06:02.525051Z",
     "start_time": "2021-09-23T15:06:02.165358Z"
    },
    "cell_id": "00036-31f6f567-e2e7-47b5-a264-b927e454d3e6",
    "deepnote_to_be_reexecuted": false,
    "source_hash": "5dd687ec",
    "execution_start": 1633965218849,
    "execution_millis": 898,
    "deepnote_cell_type": "code"
   },
   "source": "shap.plots.waterfall(shap_values[1])",
   "execution_count": null,
   "outputs": [
    {
     "data": {
      "text/plain": "<Figure size 576x288 with 3 Axes>",
      "image/png": "[encoded data removed]"
     },
     "metadata": {
      "image/png": {
       "width": 709,
       "height": 291
      }
     },
     "output_type": "display_data"
    }
   ]
  },
  {
   "cell_type": "markdown",
   "source": "### SHAP Scatter Plot",
   "metadata": {
    "cell_id": "00037-f2b3acec-7d4b-4191-8e92-63b0078a54b0",
    "deepnote_cell_type": "markdown"
   }
  },
  {
   "cell_type": "code",
   "metadata": {
    "ExecuteTime": {
     "end_time": "2021-09-23T15:27:30.779429Z",
     "start_time": "2021-09-23T15:27:30.438632Z"
    },
    "cell_id": "00038-c602783f-ee7b-4338-974b-37d264aa089c",
    "deepnote_to_be_reexecuted": false,
    "source_hash": "ed9baa87",
    "execution_start": 1633965219743,
    "execution_millis": 409,
    "deepnote_cell_type": "code"
   },
   "source": "shap.plots.scatter(shap_values[:, \"daily_internet_usage\"])",
   "execution_count": null,
   "outputs": [
    {
     "data": {
      "text/plain": "<Figure size 432x360 with 2 Axes>",
      "image/png": "[encoded data removed]"
     },
     "metadata": {
      "image/png": {
       "width": 408,
       "height": 320
      }
     },
     "output_type": "display_data"
    }
   ]
  },
  {
   "cell_type": "code",
   "metadata": {
    "ExecuteTime": {
     "end_time": "2021-09-23T15:06:02.802526Z",
     "start_time": "2021-09-23T15:06:02.526563Z"
    },
    "cell_id": "00039-af2fea40-5927-414a-93ca-d1e95714915d",
    "deepnote_to_be_reexecuted": false,
    "source_hash": "16f8df35",
    "execution_start": 1633965220112,
    "execution_millis": 529,
    "deepnote_cell_type": "code"
   },
   "source": "shap.plots.scatter(shap_values[:, \"daily_internet_usage\"], color=shap_values)",
   "execution_count": null,
   "outputs": [
    {
     "data": {
      "text/plain": "<Figure size 540x360 with 3 Axes>",
      "image/png": "[encoded data removed]"
     },
     "metadata": {
      "image/png": {
       "width": 467,
       "height": 320
      }
     },
     "output_type": "display_data"
    }
   ]
  },
  {
   "cell_type": "code",
   "metadata": {
    "ExecuteTime": {
     "end_time": "2021-09-23T15:06:03.056825Z",
     "start_time": "2021-09-23T15:06:02.804271Z"
    },
    "cell_id": "00040-59537f78-d2fd-492b-b893-9db39fa61391",
    "deepnote_to_be_reexecuted": false,
    "source_hash": "8f7bac78",
    "execution_start": 1633965220638,
    "execution_millis": 578,
    "deepnote_cell_type": "code"
   },
   "source": "shap.plots.scatter(shap_values[:, \"daily_time_spent_on_site\"], color=shap_values)",
   "execution_count": null,
   "outputs": [
    {
     "data": {
      "text/plain": "<Figure size 540x360 with 3 Axes>",
      "image/png": "[encoded data removed]"
     },
     "metadata": {
      "image/png": {
       "width": 488,
       "height": 320
      }
     },
     "output_type": "display_data"
    }
   ]
  },
  {
   "cell_type": "code",
   "metadata": {
    "ExecuteTime": {
     "end_time": "2021-09-23T15:06:03.337051Z",
     "start_time": "2021-09-23T15:06:03.058017Z"
    },
    "cell_id": "00041-62393ae5-3991-433e-a250-70760623be3a",
    "deepnote_to_be_reexecuted": false,
    "source_hash": "6f0641c",
    "execution_start": 1633965221127,
    "execution_millis": 481,
    "deepnote_cell_type": "code"
   },
   "source": "shap.plots.scatter(shap_values[:, \"area_income\"], color=shap_values)",
   "execution_count": null,
   "outputs": [
    {
     "data": {
      "text/plain": "<Figure size 540x360 with 3 Axes>",
      "image/png": "[encoded data removed]"
     },
     "metadata": {
      "image/png": {
       "width": 467,
       "height": 320
      }
     },
     "output_type": "display_data"
    }
   ]
  },
  {
   "cell_type": "code",
   "metadata": {
    "ExecuteTime": {
     "end_time": "2021-09-23T15:06:03.617620Z",
     "start_time": "2021-09-23T15:06:03.338398Z"
    },
    "cell_id": "00042-988949ab-ba82-4cb9-9771-a451c13c1da9",
    "deepnote_to_be_reexecuted": false,
    "source_hash": "d5bc9830",
    "execution_start": 1633965221593,
    "execution_millis": 427,
    "deepnote_cell_type": "code"
   },
   "source": "shap.plots.scatter(shap_values[:, \"age\"], color=shap_values)",
   "execution_count": null,
   "outputs": [
    {
     "data": {
      "text/plain": "<Figure size 540x360 with 3 Axes>",
      "image/png": "[encoded data removed]"
     },
     "metadata": {
      "image/png": {
       "width": 467,
       "height": 320
      }
     },
     "output_type": "display_data"
    }
   ]
  },
  {
   "cell_type": "code",
   "metadata": {
    "ExecuteTime": {
     "end_time": "2021-09-23T16:26:58.777842Z",
     "start_time": "2021-09-23T16:26:58.518616Z"
    },
    "cell_id": "00043-724a11b0-ec0d-4226-ad65-6163944bc4b8",
    "deepnote_to_be_reexecuted": false,
    "source_hash": "e3ee8585",
    "execution_start": 1633965222027,
    "execution_millis": 459,
    "deepnote_cell_type": "code"
   },
   "source": "shap.plots.scatter(shap_values[:, \"male\"], color=shap_values)",
   "execution_count": null,
   "outputs": [
    {
     "data": {
      "text/plain": "<Figure size 540x360 with 3 Axes>",
      "image/png": "[encoded data removed]"
     },
     "metadata": {
      "image/png": {
       "width": 506,
       "height": 320
      }
     },
     "output_type": "display_data"
    }
   ]
  },
  {
   "cell_type": "markdown",
   "source": "## SHAP Bar Plot",
   "metadata": {
    "cell_id": "00044-bc3e0d5d-c297-4329-8ce2-550e28301e0b",
    "deepnote_cell_type": "markdown"
   }
  },
  {
   "cell_type": "code",
   "metadata": {
    "ExecuteTime": {
     "end_time": "2021-09-22T01:01:49.057604Z",
     "start_time": "2021-09-22T01:01:48.804846Z"
    },
    "cell_id": "00045-48bc88b2-1c1c-43cd-985f-4cad51d285b3",
    "deepnote_to_be_reexecuted": false,
    "source_hash": "73255d06",
    "execution_start": 1633965222408,
    "execution_millis": 279,
    "deepnote_cell_type": "code"
   },
   "source": "shap.plots.bar(shap_values)",
   "execution_count": null,
   "outputs": [
    {
     "data": {
      "text/plain": "<Figure size 576x288 with 1 Axes>",
      "image/png": "[encoded data removed]"
     },
     "metadata": {
      "image/png": {
       "width": 631,
       "height": 265
      }
     },
     "output_type": "display_data"
    }
   ]
  },
  {
   "cell_type": "markdown",
   "source": "## SHAP Interaction Value Summary Plot",
   "metadata": {
    "cell_id": "00046-798ce02a-75d4-4531-aa9e-59f5e47ef31b",
    "deepnote_cell_type": "markdown"
   }
  },
  {
   "cell_type": "code",
   "metadata": {
    "ExecuteTime": {
     "end_time": "2021-09-22T01:01:50.313097Z",
     "start_time": "2021-09-22T01:01:49.990804Z"
    },
    "cell_id": "00047-2f292bac-780e-44aa-9f67-e59076477391",
    "deepnote_to_be_reexecuted": false,
    "source_hash": "939e4547",
    "execution_start": 1633965222696,
    "execution_millis": 1065,
    "deepnote_cell_type": "code"
   },
   "source": "shap_interaction_values = explainer.shap_interaction_values(X)",
   "execution_count": null,
   "outputs": [
    {
     "name": "stderr",
     "text": "ntree_limit is deprecated, use `iteration_range` or model slicing instead.\n",
     "output_type": "stream"
    }
   ]
  },
  {
   "cell_type": "code",
   "metadata": {
    "ExecuteTime": {
     "end_time": "2021-09-22T01:01:51.171374Z",
     "start_time": "2021-09-22T01:01:50.406689Z"
    },
    "cell_id": "00048-61978f51-66b2-4466-842d-76bf9f532cac",
    "deepnote_to_be_reexecuted": false,
    "source_hash": "c13d844c",
    "execution_start": 1633965223764,
    "execution_millis": 1579,
    "deepnote_cell_type": "code"
   },
   "source": "shap.summary_plot(shap_interaction_values, X_frame)",
   "execution_count": null,
   "outputs": [
    {
     "data": {
      "text/plain": "<Figure size 828x475.2 with 5 Axes>",
      "image/png": "[encoded data removed]"
     },
     "metadata": {
      "image/png": {
       "width": 658,
       "height": 489
      }
     },
     "output_type": "display_data"
    }
   ]
  },
  {
   "cell_type": "markdown",
   "source": "<a style='text-decoration:none;line-height:16px;display:flex;color:#5B5B62;padding:10px;justify-content:end;' href='https://deepnote.com?utm_source=created-in-deepnote-cell&projectId=87197226-98be-42b2-8527-389082831299' target=\"_blank\">\n<img alt='Created in deepnote.com' style='display:inline;max-height:16px;margin:0px;margin-right:7.5px;' src='data:image/svg+xml;base64,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' > </img>\nCreated in <span style='font-weight:600;margin-left:4px;'>Deepnote</span></a>",
   "metadata": {
    "tags": [],
    "created_in_deepnote_cell": true,
    "deepnote_cell_type": "markdown"
   }
  }
 ],
 "nbformat": 4,
 "nbformat_minor": 5,
 "metadata": {
  "kernelspec": {
   "display_name": "Python 3 (ipykernel)",
   "language": "python",
   "name": "python3"
  },
  "language_info": {
   "codemirror_mode": {
    "name": "ipython",
    "version": 3
   },
   "file_extension": ".py",
   "mimetype": "text/x-python",
   "name": "python",
   "nbconvert_exporter": "python",
   "pygments_lexer": "ipython3",
   "version": "3.8.10"
  },
  "toc": {
   "base_numbering": 1,
   "nav_menu": {},
   "number_sections": true,
   "sideBar": true,
   "skip_h1_title": false,
   "title_cell": "Table of Contents",
   "title_sidebar": "Contents",
   "toc_cell": false,
   "toc_position": {},
   "toc_section_display": true,
   "toc_window_display": false
  },
  "deepnote_notebook_id": "0600f02b-d2e1-4475-a518-25380b3b557a",
  "deepnote": {},
  "deepnote_execution_queue": []
 }
}