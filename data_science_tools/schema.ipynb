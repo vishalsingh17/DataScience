{
 "cells": [
  {
   "cell_type": "markdown",
   "source": "[![View on GitHub](https://img.shields.io/badge/GitHub-View_on_GitHub-blue?logo=GitHub)](https://github.com/khuyentran1401/Data-science/blob/master/data_science_tools/schema.ipynb)\n\n[<img src=\"https://deepnote.com/buttons/launch-in-deepnote.svg\">](https://deepnote.com/project/Data-science-hxlyJpi-QrKFJziQgoMSmQ/%2FData-science%2Fdata_science_tools%2Fschema.ipynb)\n\n [![View Article](https://img.shields.io/badge/View%20Article-View%20Full%20Article-red)](https://towardsdatascience.com/introduction-to-schema-a-python-libary-to-validate-your-data-c6d99e06d56a)",
   "metadata": {
    "tags": [],
    "cell_id": "00000-3cccc437-947e-43e9-8a86-b43bb23d1563",
    "deepnote_cell_type": "markdown"
   }
  },
  {
   "cell_type": "markdown",
   "source": "# List of Dictionary",
   "metadata": {
    "cell_id": "00000-88052180-2bcb-4cc5-b036-a5d95052cc13",
    "deepnote_cell_type": "markdown"
   }
  },
  {
   "cell_type": "code",
   "metadata": {
    "cell_id": "00002-4be52def-d821-421b-9c07-01f04907dbe9",
    "deepnote_to_be_reexecuted": false,
    "source_hash": "e8c4926",
    "execution_start": 1634040330349,
    "execution_millis": 3450,
    "output_cleared": true,
    "deepnote_cell_type": "code"
   },
   "source": "!pip install faker==4.1.1 schema==0.7.4",
   "outputs": [],
   "execution_count": null
  },
  {
   "cell_type": "code",
   "metadata": {
    "ExecuteTime": {
     "end_time": "2020-09-20T18:33:13.535256Z",
     "start_time": "2020-09-20T18:33:13.529348Z"
    },
    "cell_id": "00003-485d5101-d40d-4294-85c4-74a633ba0090",
    "deepnote_to_be_reexecuted": false,
    "source_hash": "b7300e84",
    "execution_start": 1634040336836,
    "execution_millis": 0,
    "deepnote_cell_type": "code"
   },
   "source": "import pandas as pd ",
   "outputs": [],
   "execution_count": null
  },
  {
   "cell_type": "code",
   "metadata": {
    "ExecuteTime": {
     "end_time": "2020-09-20T18:33:14.595937Z",
     "start_time": "2020-09-20T18:33:14.520463Z"
    },
    "cell_id": "00004-2155bc7a-9702-4850-9e46-157df4a9d09a",
    "deepnote_to_be_reexecuted": false,
    "source_hash": "789029e9",
    "execution_start": 1634040337334,
    "execution_millis": 73,
    "deepnote_cell_type": "code"
   },
   "source": "from faker import Faker \nimport json            # To create a json file                 \nimport numpy as np\n\nFaker.seed(0)\n\nfake = Faker() \ndef create_data(x): \n  \n    # dictionary \n    data = [] \n    for i in range(0, x): \n        data_i = {}\n        data_i['name']= fake.name() \n        data_i['city']= fake.city() \n        data_i['closeness (1-5)'] = np.random.randint(1,5)\n        data_i['extrovert'] = fake.pybool()\n        data_i['favorite_temperature'] = fake.pyfloat(left_digits=2,\n                                                  right_digits=2)\n        data.append(data_i)\n    \n    return data\n    \ndata = create_data(3)",
   "outputs": [],
   "execution_count": null
  },
  {
   "cell_type": "code",
   "metadata": {
    "ExecuteTime": {
     "end_time": "2020-09-20T18:33:16.003102Z",
     "start_time": "2020-09-20T18:33:15.992186Z"
    },
    "cell_id": "00005-ba7d6e19-2177-417a-af65-7f1fc1afce40",
    "deepnote_to_be_reexecuted": false,
    "source_hash": "b53bae9a",
    "execution_start": 1634040338161,
    "execution_millis": 19,
    "deepnote_cell_type": "code"
   },
   "source": "data ",
   "outputs": [
    {
     "output_type": "execute_result",
     "execution_count": 5,
     "data": {
      "text/plain": "[{'name': 'Norma Fisher',\n  'city': 'South Richard',\n  'closeness (1-5)': 1,\n  'extrovert': True,\n  'favorite_temperature': -45.74},\n {'name': 'Colleen Taylor',\n  'city': 'North Laurenshire',\n  'closeness (1-5)': 4,\n  'extrovert': False,\n  'favorite_temperature': 93.9},\n {'name': 'Melinda Kennedy',\n  'city': 'South Cherylside',\n  'closeness (1-5)': 3,\n  'extrovert': True,\n  'favorite_temperature': 66.33}]"
     },
     "metadata": {}
    }
   ],
   "execution_count": null
  },
  {
   "cell_type": "markdown",
   "source": "## Validate data types",
   "metadata": {
    "cell_id": "00006-49b6b590-9bb0-466a-8671-2230e2792852",
    "deepnote_cell_type": "markdown"
   }
  },
  {
   "cell_type": "code",
   "metadata": {
    "ExecuteTime": {
     "end_time": "2020-09-20T18:33:17.123065Z",
     "start_time": "2020-09-20T18:33:17.116776Z"
    },
    "cell_id": "00007-b5d4b2b8-ede2-4962-a228-737052a9a081",
    "deepnote_to_be_reexecuted": false,
    "source_hash": "743cdcff",
    "execution_start": 1634040342107,
    "execution_millis": 3,
    "deepnote_cell_type": "code"
   },
   "source": "from schema import Schema, And, Or,Use, Optional, SchemaError\n",
   "outputs": [],
   "execution_count": null
  },
  {
   "cell_type": "code",
   "metadata": {
    "ExecuteTime": {
     "end_time": "2020-09-20T18:33:18.503234Z",
     "start_time": "2020-09-20T18:33:18.495576Z"
    },
    "cell_id": "00008-9e0c97c6-4f6b-475b-8a14-37f12a005b6c",
    "deepnote_to_be_reexecuted": false,
    "source_hash": "6b0f2898",
    "execution_start": 1634040342451,
    "execution_millis": 4,
    "deepnote_cell_type": "code"
   },
   "source": "schema = Schema([{'name': str,\n                 'city': str, \n                 'closeness (1-5)': int,\n                 'extrovert': bool,\n                 'favorite_temperature': float}])",
   "outputs": [],
   "execution_count": null
  },
  {
   "cell_type": "code",
   "metadata": {
    "ExecuteTime": {
     "end_time": "2020-09-20T18:33:19.141695Z",
     "start_time": "2020-09-20T18:33:19.129533Z"
    },
    "cell_id": "00009-1544bd61-51a4-406f-b151-0ac3309fc5b2",
    "deepnote_to_be_reexecuted": false,
    "source_hash": "358b393c",
    "execution_start": 1634040343190,
    "execution_millis": 48,
    "deepnote_cell_type": "code"
   },
   "source": "schema.validate(data)",
   "outputs": [
    {
     "output_type": "execute_result",
     "execution_count": 8,
     "data": {
      "text/plain": "[{'name': 'Norma Fisher',\n  'city': 'South Richard',\n  'closeness (1-5)': 1,\n  'extrovert': True,\n  'favorite_temperature': -45.74},\n {'name': 'Colleen Taylor',\n  'city': 'North Laurenshire',\n  'closeness (1-5)': 4,\n  'extrovert': False,\n  'favorite_temperature': 93.9},\n {'name': 'Melinda Kennedy',\n  'city': 'South Cherylside',\n  'closeness (1-5)': 3,\n  'extrovert': True,\n  'favorite_temperature': 66.33}]"
     },
     "metadata": {}
    }
   ],
   "execution_count": null
  },
  {
   "cell_type": "code",
   "metadata": {
    "ExecuteTime": {
     "end_time": "2020-09-20T18:33:20.377094Z",
     "start_time": "2020-09-20T18:33:20.366055Z"
    },
    "cell_id": "00010-bdf419c6-ef4e-4836-871d-7601976cf13b",
    "deepnote_to_be_reexecuted": false,
    "source_hash": "8762d919",
    "execution_start": 1634040348376,
    "execution_millis": 83,
    "deepnote_cell_type": "code"
   },
   "source": "schema.is_valid(data)",
   "outputs": [
    {
     "output_type": "execute_result",
     "execution_count": 9,
     "data": {
      "text/plain": "True"
     },
     "metadata": {}
    }
   ],
   "execution_count": null
  },
  {
   "cell_type": "code",
   "metadata": {
    "ExecuteTime": {
     "end_time": "2020-09-20T18:33:20.975231Z",
     "start_time": "2020-09-20T18:33:20.968472Z"
    },
    "cell_id": "00011-78f528bc-b3e3-4b72-b593-3cc88af203ed",
    "deepnote_to_be_reexecuted": false,
    "source_hash": "6edd781d",
    "execution_start": 1634040348432,
    "execution_millis": 0,
    "deepnote_cell_type": "code"
   },
   "source": "schema = Schema([{'name': int,\n                 'city': str, \n                 'closeness (1-5)': int,\n                 'extrovert': bool,\n                 'favorite_temperature': float}])",
   "outputs": [],
   "execution_count": null
  },
  {
   "cell_type": "markdown",
   "source": "This will throw an error because name is supposed to be a string",
   "metadata": {
    "cell_id": "00012-8207563d-92b1-415b-a80d-3079b2ebbe19",
    "deepnote_cell_type": "markdown"
   }
  },
  {
   "cell_type": "code",
   "metadata": {
    "ExecuteTime": {
     "end_time": "2020-09-20T16:16:25.615999Z",
     "start_time": "2020-09-20T16:16:25.539171Z"
    },
    "cell_id": "00013-9fe7a5ec-03b7-4fee-af75-c12a93b4ec80",
    "deepnote_to_be_reexecuted": false,
    "source_hash": "358b393c",
    "execution_start": 1634040349420,
    "execution_millis": 740,
    "deepnote_cell_type": "code"
   },
   "source": "schema.validate(data)",
   "outputs": [
    {
     "output_type": "error",
     "ename": "SchemaError",
     "evalue": "Or({'name': <class 'int'>, 'city': <class 'str'>, 'closeness (1-5)': <class 'int'>, 'extrovert': <class 'bool'>, 'favorite_temperature': <class 'float'>}) did not validate {'name': 'Norma Fisher', 'city': 'South Richard', 'closeness (1-5)': 1, 'extrovert': True, 'favorite_temperature': -45.74}\nKey 'name' error:\n'Norma Fisher' should be instance of 'int'",
     "traceback": [
      "\u001b[0;31m---------------------------------------------------------------------------\u001b[0m",
      "\u001b[0;31mSchemaError\u001b[0m                               Traceback (most recent call last)",
      "\u001b[0;32m/tmp/ipykernel_390/515044282.py\u001b[0m in \u001b[0;36m<module>\u001b[0;34m\u001b[0m\n\u001b[0;32m----> 1\u001b[0;31m \u001b[0mschema\u001b[0m\u001b[0;34m.\u001b[0m\u001b[0mvalidate\u001b[0m\u001b[0;34m(\u001b[0m\u001b[0mdata\u001b[0m\u001b[0;34m)\u001b[0m\u001b[0;34m\u001b[0m\u001b[0;34m\u001b[0m\u001b[0m\n\u001b[0m",
      "\u001b[0;32m~/venv/lib/python3.7/site-packages/schema.py\u001b[0m in \u001b[0;36mvalidate\u001b[0;34m(self, data)\u001b[0m\n\u001b[1;32m    355\u001b[0m             \u001b[0mdata\u001b[0m \u001b[0;34m=\u001b[0m \u001b[0mSchema\u001b[0m\u001b[0;34m(\u001b[0m\u001b[0mtype\u001b[0m\u001b[0;34m(\u001b[0m\u001b[0ms\u001b[0m\u001b[0;34m)\u001b[0m\u001b[0;34m,\u001b[0m \u001b[0merror\u001b[0m\u001b[0;34m=\u001b[0m\u001b[0me\u001b[0m\u001b[0;34m)\u001b[0m\u001b[0;34m.\u001b[0m\u001b[0mvalidate\u001b[0m\u001b[0;34m(\u001b[0m\u001b[0mdata\u001b[0m\u001b[0;34m)\u001b[0m\u001b[0;34m\u001b[0m\u001b[0;34m\u001b[0m\u001b[0m\n\u001b[1;32m    356\u001b[0m             \u001b[0mo\u001b[0m \u001b[0;34m=\u001b[0m \u001b[0mOr\u001b[0m\u001b[0;34m(\u001b[0m\u001b[0;34m*\u001b[0m\u001b[0ms\u001b[0m\u001b[0;34m,\u001b[0m \u001b[0merror\u001b[0m\u001b[0;34m=\u001b[0m\u001b[0me\u001b[0m\u001b[0;34m,\u001b[0m \u001b[0mschema\u001b[0m\u001b[0;34m=\u001b[0m\u001b[0mSchema\u001b[0m\u001b[0;34m,\u001b[0m \u001b[0mignore_extra_keys\u001b[0m\u001b[0;34m=\u001b[0m\u001b[0mi\u001b[0m\u001b[0;34m)\u001b[0m\u001b[0;34m\u001b[0m\u001b[0;34m\u001b[0m\u001b[0m\n\u001b[0;32m--> 357\u001b[0;31m             \u001b[0;32mreturn\u001b[0m \u001b[0mtype\u001b[0m\u001b[0;34m(\u001b[0m\u001b[0mdata\u001b[0m\u001b[0;34m)\u001b[0m\u001b[0;34m(\u001b[0m\u001b[0mo\u001b[0m\u001b[0;34m.\u001b[0m\u001b[0mvalidate\u001b[0m\u001b[0;34m(\u001b[0m\u001b[0md\u001b[0m\u001b[0;34m)\u001b[0m \u001b[0;32mfor\u001b[0m \u001b[0md\u001b[0m \u001b[0;32min\u001b[0m \u001b[0mdata\u001b[0m\u001b[0;34m)\u001b[0m\u001b[0;34m\u001b[0m\u001b[0;34m\u001b[0m\u001b[0m\n\u001b[0m\u001b[1;32m    358\u001b[0m         \u001b[0;32mif\u001b[0m \u001b[0mflavor\u001b[0m \u001b[0;34m==\u001b[0m \u001b[0mDICT\u001b[0m\u001b[0;34m:\u001b[0m\u001b[0;34m\u001b[0m\u001b[0;34m\u001b[0m\u001b[0m\n\u001b[1;32m    359\u001b[0m             \u001b[0mexitstack\u001b[0m \u001b[0;34m=\u001b[0m \u001b[0mExitStack\u001b[0m\u001b[0;34m(\u001b[0m\u001b[0;34m)\u001b[0m\u001b[0;34m\u001b[0m\u001b[0;34m\u001b[0m\u001b[0m\n",
      "\u001b[0;32m~/venv/lib/python3.7/site-packages/schema.py\u001b[0m in \u001b[0;36m<genexpr>\u001b[0;34m(.0)\u001b[0m\n\u001b[1;32m    355\u001b[0m             \u001b[0mdata\u001b[0m \u001b[0;34m=\u001b[0m \u001b[0mSchema\u001b[0m\u001b[0;34m(\u001b[0m\u001b[0mtype\u001b[0m\u001b[0;34m(\u001b[0m\u001b[0ms\u001b[0m\u001b[0;34m)\u001b[0m\u001b[0;34m,\u001b[0m \u001b[0merror\u001b[0m\u001b[0;34m=\u001b[0m\u001b[0me\u001b[0m\u001b[0;34m)\u001b[0m\u001b[0;34m.\u001b[0m\u001b[0mvalidate\u001b[0m\u001b[0;34m(\u001b[0m\u001b[0mdata\u001b[0m\u001b[0;34m)\u001b[0m\u001b[0;34m\u001b[0m\u001b[0;34m\u001b[0m\u001b[0m\n\u001b[1;32m    356\u001b[0m             \u001b[0mo\u001b[0m \u001b[0;34m=\u001b[0m \u001b[0mOr\u001b[0m\u001b[0;34m(\u001b[0m\u001b[0;34m*\u001b[0m\u001b[0ms\u001b[0m\u001b[0;34m,\u001b[0m \u001b[0merror\u001b[0m\u001b[0;34m=\u001b[0m\u001b[0me\u001b[0m\u001b[0;34m,\u001b[0m \u001b[0mschema\u001b[0m\u001b[0;34m=\u001b[0m\u001b[0mSchema\u001b[0m\u001b[0;34m,\u001b[0m \u001b[0mignore_extra_keys\u001b[0m\u001b[0;34m=\u001b[0m\u001b[0mi\u001b[0m\u001b[0;34m)\u001b[0m\u001b[0;34m\u001b[0m\u001b[0;34m\u001b[0m\u001b[0m\n\u001b[0;32m--> 357\u001b[0;31m             \u001b[0;32mreturn\u001b[0m \u001b[0mtype\u001b[0m\u001b[0;34m(\u001b[0m\u001b[0mdata\u001b[0m\u001b[0;34m)\u001b[0m\u001b[0;34m(\u001b[0m\u001b[0mo\u001b[0m\u001b[0;34m.\u001b[0m\u001b[0mvalidate\u001b[0m\u001b[0;34m(\u001b[0m\u001b[0md\u001b[0m\u001b[0;34m)\u001b[0m \u001b[0;32mfor\u001b[0m \u001b[0md\u001b[0m \u001b[0;32min\u001b[0m \u001b[0mdata\u001b[0m\u001b[0;34m)\u001b[0m\u001b[0;34m\u001b[0m\u001b[0;34m\u001b[0m\u001b[0m\n\u001b[0m\u001b[1;32m    358\u001b[0m         \u001b[0;32mif\u001b[0m \u001b[0mflavor\u001b[0m \u001b[0;34m==\u001b[0m \u001b[0mDICT\u001b[0m\u001b[0;34m:\u001b[0m\u001b[0;34m\u001b[0m\u001b[0;34m\u001b[0m\u001b[0m\n\u001b[1;32m    359\u001b[0m             \u001b[0mexitstack\u001b[0m \u001b[0;34m=\u001b[0m \u001b[0mExitStack\u001b[0m\u001b[0;34m(\u001b[0m\u001b[0;34m)\u001b[0m\u001b[0;34m\u001b[0m\u001b[0;34m\u001b[0m\u001b[0m\n",
      "\u001b[0;32m~/venv/lib/python3.7/site-packages/schema.py\u001b[0m in \u001b[0;36mvalidate\u001b[0;34m(self, data)\u001b[0m\n\u001b[1;32m    165\u001b[0m         raise SchemaError(\n\u001b[1;32m    166\u001b[0m             \u001b[0;34m[\u001b[0m\u001b[0;34m\"%r did not validate %r\"\u001b[0m \u001b[0;34m%\u001b[0m \u001b[0;34m(\u001b[0m\u001b[0mself\u001b[0m\u001b[0;34m,\u001b[0m \u001b[0mdata\u001b[0m\u001b[0;34m)\u001b[0m\u001b[0;34m]\u001b[0m \u001b[0;34m+\u001b[0m \u001b[0mautos\u001b[0m\u001b[0;34m,\u001b[0m\u001b[0;34m\u001b[0m\u001b[0;34m\u001b[0m\u001b[0m\n\u001b[0;32m--> 167\u001b[0;31m             \u001b[0;34m[\u001b[0m\u001b[0mself\u001b[0m\u001b[0;34m.\u001b[0m\u001b[0m_error\u001b[0m\u001b[0;34m.\u001b[0m\u001b[0mformat\u001b[0m\u001b[0;34m(\u001b[0m\u001b[0mdata\u001b[0m\u001b[0;34m)\u001b[0m \u001b[0;32mif\u001b[0m \u001b[0mself\u001b[0m\u001b[0;34m.\u001b[0m\u001b[0m_error\u001b[0m \u001b[0;32melse\u001b[0m \u001b[0;32mNone\u001b[0m\u001b[0;34m]\u001b[0m \u001b[0;34m+\u001b[0m \u001b[0merrors\u001b[0m\u001b[0;34m,\u001b[0m\u001b[0;34m\u001b[0m\u001b[0;34m\u001b[0m\u001b[0m\n\u001b[0m\u001b[1;32m    168\u001b[0m         )\n\u001b[1;32m    169\u001b[0m \u001b[0;34m\u001b[0m\u001b[0m\n",
      "\u001b[0;31mSchemaError\u001b[0m: Or({'name': <class 'int'>, 'city': <class 'str'>, 'closeness (1-5)': <class 'int'>, 'extrovert': <class 'bool'>, 'favorite_temperature': <class 'float'>}) did not validate {'name': 'Norma Fisher', 'city': 'South Richard', 'closeness (1-5)': 1, 'extrovert': True, 'favorite_temperature': -45.74}\nKey 'name' error:\n'Norma Fisher' should be instance of 'int'"
     ]
    }
   ],
   "execution_count": null
  },
  {
   "cell_type": "markdown",
   "source": "## Validate datatype of some columns while ignoring the rest",
   "metadata": {
    "cell_id": "00014-2c25951c-709f-44d6-a60f-8cd6eb90a91d",
    "deepnote_cell_type": "markdown"
   }
  },
  {
   "cell_type": "code",
   "metadata": {
    "ExecuteTime": {
     "end_time": "2020-09-20T13:28:44.171567Z",
     "start_time": "2020-09-20T13:28:44.169379Z"
    },
    "cell_id": "00015-e4528c09-66eb-4e88-b811-ebaa16d98422",
    "deepnote_to_be_reexecuted": true,
    "source_hash": "705e3258",
    "deepnote_cell_type": "code"
   },
   "source": "schema = Schema([{'name': str,\n                 'city': str, \n                 'favorite_temperature': float,\n                  str: object\n                 }])",
   "outputs": [],
   "execution_count": null
  },
  {
   "cell_type": "code",
   "metadata": {
    "ExecuteTime": {
     "end_time": "2020-09-20T13:28:44.567841Z",
     "start_time": "2020-09-20T13:28:44.564486Z"
    },
    "cell_id": "00016-896110e2-d552-47a3-ba0a-0cd69c3a9c6a",
    "deepnote_to_be_reexecuted": true,
    "source_hash": "8762d919",
    "deepnote_cell_type": "code"
   },
   "source": "schema.is_valid(data)",
   "outputs": [
    {
     "data": {
      "text/plain": "True"
     },
     "execution_count": 11,
     "metadata": {},
     "output_type": "execute_result"
    }
   ],
   "execution_count": null
  },
  {
   "cell_type": "markdown",
   "source": "## Validate using function",
   "metadata": {
    "cell_id": "00017-7040dc73-90b6-43ed-bf6b-04ddcdbf9925",
    "deepnote_cell_type": "markdown"
   }
  },
  {
   "cell_type": "code",
   "metadata": {
    "ExecuteTime": {
     "end_time": "2020-09-20T19:27:14.370887Z",
     "start_time": "2020-09-20T19:27:14.355940Z"
    },
    "cell_id": "00018-369dc24d-5c11-49f0-9727-dfa5233057ab",
    "deepnote_to_be_reexecuted": true,
    "source_hash": "1838fa21",
    "deepnote_cell_type": "code"
   },
   "source": "schema = Schema([{'name': str,\n                 'city': str, \n                 'favorite_temperature': float,\n                  'closeness (1-5)': lambda n : 1 <= n <= 5,\n                  str: object\n                 }])\n\nschema.is_valid(data)",
   "outputs": [
    {
     "data": {
      "text/plain": "True"
     },
     "execution_count": 18,
     "metadata": {},
     "output_type": "execute_result"
    }
   ],
   "execution_count": null
  },
  {
   "cell_type": "markdown",
   "source": "## Validate Several Schemas",
   "metadata": {
    "cell_id": "00019-7d27994a-4189-4be2-b87d-7b0322e89720",
    "deepnote_cell_type": "markdown"
   }
  },
  {
   "cell_type": "markdown",
   "source": "### And",
   "metadata": {
    "cell_id": "00020-0dcb2359-0d78-476b-b040-8dcf0e6b4998",
    "deepnote_cell_type": "markdown"
   }
  },
  {
   "cell_type": "code",
   "metadata": {
    "ExecuteTime": {
     "end_time": "2020-09-20T19:27:17.258052Z",
     "start_time": "2020-09-20T19:27:17.242399Z"
    },
    "cell_id": "00021-50e12986-01bf-472a-9d77-efc9f2eb3b34",
    "deepnote_cell_type": "code"
   },
   "source": "schema = Schema([{'name': str,\n                 'city': str, \n                 'favorite_temperature': float,\n                  'closeness (1-5)': And(lambda n : 1 <= n <= 5, float),\n                  str: object\n                 }])\n\nschema.is_valid(data)",
   "outputs": [
    {
     "data": {
      "text/plain": "False"
     },
     "execution_count": 19,
     "metadata": {},
     "output_type": "execute_result"
    }
   ],
   "execution_count": null
  },
  {
   "cell_type": "code",
   "metadata": {
    "ExecuteTime": {
     "end_time": "2020-09-20T19:27:20.532711Z",
     "start_time": "2020-09-20T19:27:20.515036Z"
    },
    "cell_id": "00022-e3570a8f-40b7-42c8-b924-f4bac04f0c9b",
    "deepnote_cell_type": "code"
   },
   "source": "schema = Schema([{'name': str,\n                 'city': str, \n                 'favorite_temperature': float,\n                  'closeness (1-5)': And(lambda n : 1 <= n <= 5, int),\n                  str: object\n                 }])\n\nschema.is_valid(data)",
   "outputs": [
    {
     "data": {
      "text/plain": "True"
     },
     "execution_count": 20,
     "metadata": {},
     "output_type": "execute_result"
    }
   ],
   "execution_count": null
  },
  {
   "cell_type": "markdown",
   "source": "### Or",
   "metadata": {
    "cell_id": "00023-0ed75404-385c-46a7-9dec-97dd38b8ec7d",
    "deepnote_cell_type": "markdown"
   }
  },
  {
   "cell_type": "code",
   "metadata": {
    "ExecuteTime": {
     "end_time": "2020-09-20T13:28:47.785753Z",
     "start_time": "2020-09-20T13:28:47.782673Z"
    },
    "cell_id": "00024-d9692046-2b1b-4a6f-a167-70732715a48c",
    "deepnote_cell_type": "code"
   },
   "source": "data[0]['city'].split()",
   "outputs": [
    {
     "data": {
      "text/plain": "['South', 'Richard']"
     },
     "execution_count": 15,
     "metadata": {},
     "output_type": "execute_result"
    }
   ],
   "execution_count": null
  },
  {
   "cell_type": "code",
   "metadata": {
    "ExecuteTime": {
     "end_time": "2020-09-20T13:28:48.180393Z",
     "start_time": "2020-09-20T13:28:48.176771Z"
    },
    "cell_id": "00025-a25551e0-bb18-4f1a-8bfc-b058bc56ddf5",
    "deepnote_cell_type": "code"
   },
   "source": "len(data[0]['city'].split()) == 2",
   "outputs": [
    {
     "data": {
      "text/plain": "True"
     },
     "execution_count": 16,
     "metadata": {},
     "output_type": "execute_result"
    }
   ],
   "execution_count": null
  },
  {
   "cell_type": "code",
   "metadata": {
    "ExecuteTime": {
     "end_time": "2020-09-20T13:28:48.580283Z",
     "start_time": "2020-09-20T13:28:48.572958Z"
    },
    "cell_id": "00026-d03d2c92-fdd6-473e-b0dd-3579d1af9c27",
    "deepnote_cell_type": "code"
   },
   "source": "schema = Schema([{'name': str,\n                 'city': Or(lambda n: len(n.split())==2, lambda n: len(n.split()) ==1), \n                 'favorite_temperature': float,\n                  'closeness (1-5)': int,\n                  str: object\n                 }])\n\nschema.is_valid(data)",
   "outputs": [
    {
     "data": {
      "text/plain": "True"
     },
     "execution_count": 17,
     "metadata": {},
     "output_type": "execute_result"
    }
   ],
   "execution_count": null
  },
  {
   "cell_type": "markdown",
   "source": "### Combination of And and Or",
   "metadata": {
    "cell_id": "00027-07f7d458-fa7f-4a7a-b957-8009a8449725",
    "deepnote_cell_type": "markdown"
   }
  },
  {
   "cell_type": "code",
   "metadata": {
    "ExecuteTime": {
     "end_time": "2020-09-20T13:28:49.353046Z",
     "start_time": "2020-09-20T13:28:49.348897Z"
    },
    "cell_id": "00028-003cb624-ef73-402b-bb6e-8263c7631dca",
    "deepnote_cell_type": "code"
   },
   "source": "schema = Schema([{'name': str,\n                 'city': And(str, Or(lambda n: len(n.split())==2, lambda n: len(n.split()) ==1)), \n                 'favorite_temperature': float,\n                  'closeness (1-5)': int,\n                  str: object\n                 }])\n\nschema.is_valid(data)",
   "outputs": [
    {
     "data": {
      "text/plain": "True"
     },
     "execution_count": 18,
     "metadata": {},
     "output_type": "execute_result"
    }
   ],
   "execution_count": null
  },
  {
   "cell_type": "markdown",
   "source": "## Nested dictionary ",
   "metadata": {
    "cell_id": "00029-56ddc548-d3bc-4083-8009-c53c5ca156fd",
    "deepnote_cell_type": "markdown"
   }
  },
  {
   "cell_type": "code",
   "metadata": {
    "ExecuteTime": {
     "end_time": "2020-09-20T13:28:50.169461Z",
     "start_time": "2020-09-20T13:28:50.141275Z"
    },
    "cell_id": "00030-51843898-d9a1-40d5-957d-8058dc83ce1b",
    "deepnote_cell_type": "code"
   },
   "source": "\nfake = Faker() \nFaker.seed(0)\n\ndef create_data(x): \n  \n    # dictionary \n    data = [] \n    for i in range(0, x): \n        data_i = {}\n        data_i['name']= fake.name() \n        data_i['city']= fake.city() \n        data_i['closeness (1-5)'] = np.random.randint(1,5)\n        data_i['detailed_info'] = {'favorite_color': fake.color_name(),\n                                  'phone number': fake.msisdn()}\n        \n        data.append(data_i)\n    \n    return data\n    \ndata = create_data(2)",
   "outputs": [],
   "execution_count": null
  },
  {
   "cell_type": "code",
   "metadata": {
    "ExecuteTime": {
     "end_time": "2020-09-20T13:28:50.488251Z",
     "start_time": "2020-09-20T13:28:50.485635Z"
    },
    "cell_id": "00031-f2ed83e3-131f-4ee7-ad48-18a909205412",
    "deepnote_cell_type": "code"
   },
   "source": "data ",
   "outputs": [
    {
     "data": {
      "text/plain": "[{'name': 'Norma Fisher',\n  'city': 'South Richard',\n  'closeness (1-5)': 4,\n  'detailed_info': {'favorite_color': 'Pink',\n   'phone number': '7593824219489'}},\n {'name': 'Emily Blair',\n  'city': 'Suttonview',\n  'closeness (1-5)': 4,\n  'detailed_info': {'favorite_color': 'Chartreuse',\n   'phone number': '9387784080160'}}]"
     },
     "execution_count": 20,
     "metadata": {},
     "output_type": "execute_result"
    }
   ],
   "execution_count": null
  },
  {
   "cell_type": "code",
   "metadata": {
    "ExecuteTime": {
     "end_time": "2020-09-20T13:28:50.875982Z",
     "start_time": "2020-09-20T13:28:50.872668Z"
    },
    "cell_id": "00032-38719299-b125-41d2-ab28-dbfa4054403b",
    "deepnote_cell_type": "code"
   },
   "source": "schema = Schema([{'name': str,\n                 'city':str,  \n                  'closeness (1-5)': int,\n                  'detailed_info': dict\n                 }])\nschema.is_valid(data)",
   "outputs": [
    {
     "data": {
      "text/plain": "True"
     },
     "execution_count": 21,
     "metadata": {},
     "output_type": "execute_result"
    }
   ],
   "execution_count": null
  },
  {
   "cell_type": "code",
   "metadata": {
    "ExecuteTime": {
     "end_time": "2020-09-20T13:28:51.352754Z",
     "start_time": "2020-09-20T13:28:51.349527Z"
    },
    "cell_id": "00033-b6595370-eab6-422b-be8e-6af998cfd5b9",
    "deepnote_cell_type": "code"
   },
   "source": "schema = Schema([{'name': str,\n                 'city':str,  \n                  'closeness (1-5)': int,\n                  'detailed_info': {'favorite_color': str, 'phone number': str}\n                 }])\nschema.is_valid(data)",
   "outputs": [
    {
     "data": {
      "text/plain": "True"
     },
     "execution_count": 22,
     "metadata": {},
     "output_type": "execute_result"
    }
   ],
   "execution_count": null
  },
  {
   "cell_type": "markdown",
   "source": "## Optional",
   "metadata": {
    "cell_id": "00034-b5d765fb-4b15-415b-ab85-066029809a14",
    "deepnote_cell_type": "markdown"
   }
  },
  {
   "cell_type": "code",
   "metadata": {
    "ExecuteTime": {
     "end_time": "2020-09-20T13:28:52.163605Z",
     "start_time": "2020-09-20T13:28:52.160527Z"
    },
    "cell_id": "00035-f5922ccf-9977-44cc-b552-a5d2c7171639",
    "deepnote_cell_type": "code"
   },
   "source": "data.append({'name': fake.name(), \n            'city': fake.city(),\n            'closeness (1-5)' : np.random.randint(1,5)})",
   "outputs": [],
   "execution_count": null
  },
  {
   "cell_type": "code",
   "metadata": {
    "ExecuteTime": {
     "end_time": "2020-09-20T13:28:52.573672Z",
     "start_time": "2020-09-20T13:28:52.568919Z"
    },
    "cell_id": "00036-03c179d7-60af-493e-bfa5-9e08cff3316d",
    "deepnote_cell_type": "code"
   },
   "source": "data ",
   "outputs": [
    {
     "data": {
      "text/plain": "[{'name': 'Norma Fisher',\n  'city': 'South Richard',\n  'closeness (1-5)': 4,\n  'detailed_info': {'favorite_color': 'Pink',\n   'phone number': '7593824219489'}},\n {'name': 'Emily Blair',\n  'city': 'Suttonview',\n  'closeness (1-5)': 4,\n  'detailed_info': {'favorite_color': 'Chartreuse',\n   'phone number': '9387784080160'}},\n {'name': 'Samantha Cook', 'city': 'Janeton', 'closeness (1-5)': 3}]"
     },
     "execution_count": 24,
     "metadata": {},
     "output_type": "execute_result"
    }
   ],
   "execution_count": null
  },
  {
   "cell_type": "code",
   "metadata": {
    "ExecuteTime": {
     "end_time": "2020-09-20T13:28:53.001263Z",
     "start_time": "2020-09-20T13:28:52.997413Z"
    },
    "cell_id": "00037-4b4b0b44-4eff-4fe9-9f8b-8e92684c9d97",
    "deepnote_cell_type": "code"
   },
   "source": "schema = Schema([{'name': str,\n                 'city':str,  \n                  'closeness (1-5)': int,\n                  Optional('detailed_info'): {'favorite_color': str, 'phone number': str}\n                 }])\nschema.is_valid(data)",
   "outputs": [
    {
     "data": {
      "text/plain": "True"
     },
     "execution_count": 25,
     "metadata": {},
     "output_type": "execute_result"
    }
   ],
   "execution_count": null
  },
  {
   "cell_type": "markdown",
   "source": "## Data with null",
   "metadata": {
    "cell_id": "00038-a9c531a2-822f-4361-ba42-aa289a6638a3",
    "deepnote_cell_type": "markdown"
   }
  },
  {
   "cell_type": "code",
   "metadata": {
    "ExecuteTime": {
     "end_time": "2020-09-20T13:28:54.466508Z",
     "start_time": "2020-09-20T13:28:54.463838Z"
    },
    "cell_id": "00039-a1c159a5-c438-4a87-b18e-2f35f977aed6",
    "deepnote_cell_type": "code"
   },
   "source": "data.append({'name': fake.name(), \n            'city': None,\n            'closeness (1-5)' : np.random.randint(1,5),\n            'detailed_info': {'favorite_color': fake.color_name(),\n                                  'phone number': fake.msisdn()}})",
   "outputs": [],
   "execution_count": null
  },
  {
   "cell_type": "code",
   "metadata": {
    "ExecuteTime": {
     "end_time": "2020-09-20T13:28:54.932391Z",
     "start_time": "2020-09-20T13:28:54.925640Z"
    },
    "scrolled": true,
    "cell_id": "00040-a0fa02a1-658b-45b5-8333-57c556fc65c4",
    "deepnote_cell_type": "code"
   },
   "source": "schema = Schema([{'name': str,\n                 'city': Or(None, str),  \n                  'closeness (1-5)': int,\n                  Optional('detailed_info'): {'favorite_color': str, 'phone number': str}\n                 }])\nschema.is_valid(data)",
   "outputs": [
    {
     "data": {
      "text/plain": "True"
     },
     "execution_count": 27,
     "metadata": {},
     "output_type": "execute_result"
    }
   ],
   "execution_count": null
  },
  {
   "cell_type": "markdown",
   "source": "## Forbidden",
   "metadata": {
    "cell_id": "00041-20f35b05-246d-4fc1-982c-1e535af991cb",
    "deepnote_cell_type": "markdown"
   }
  },
  {
   "cell_type": "code",
   "metadata": {
    "ExecuteTime": {
     "end_time": "2020-09-20T13:28:55.955874Z",
     "start_time": "2020-09-20T13:28:55.884202Z"
    },
    "cell_id": "00042-443a6a19-7383-44fb-88e8-4c5012a58e64",
    "deepnote_cell_type": "code"
   },
   "source": "from schema import Forbidden\n\nschema = Schema([{'name': str,\n                 'city':str,  \n                  'closeness (1-5)': int,\n                  Forbidden('detailed_info'): dict\n                 }])\nschema.validate(data)",
   "outputs": [
    {
     "ename": "SchemaError",
     "evalue": "Or({'name': <class 'str'>, 'city': <class 'str'>, 'closeness (1-5)': <class 'int'>, Forbidden('detailed_info'): <class 'dict'>}) did not validate {'name': 'Norma Fisher', 'city': 'South Richard', 'closeness (1-5)': 4, 'detailed_info': {'favorite_color': 'Pink', 'phone number': '7593824219489'}}\nForbidden key encountered: 'detailed_info' in {'name': 'Norma Fisher', 'city': 'South Richard', 'closeness (1-5)': 4, 'detailed_info': {'favorite_color': 'Pink', 'phone number': '7593824219489'}}",
     "output_type": "error",
     "traceback": [
      "\u001b[0;31m--------------------------------------------------------------------------\u001b[0m",
      "\u001b[0;31mSchemaError\u001b[0m                              Traceback (most recent call last)",
      "\u001b[0;32m<ipython-input-28-37b4ec3ad4f1>\u001b[0m in \u001b[0;36m<module>\u001b[0;34m\u001b[0m\n\u001b[1;32m      6\u001b[0m                   \u001b[0mForbidden\u001b[0m\u001b[0;34m(\u001b[0m\u001b[0;34m'detailed_info'\u001b[0m\u001b[0;34m)\u001b[0m\u001b[0;34m:\u001b[0m \u001b[0mdict\u001b[0m\u001b[0;34m\u001b[0m\u001b[0;34m\u001b[0m\u001b[0m\n\u001b[1;32m      7\u001b[0m                  }])\n\u001b[0;32m----> 8\u001b[0;31m \u001b[0mschema\u001b[0m\u001b[0;34m.\u001b[0m\u001b[0mvalidate\u001b[0m\u001b[0;34m(\u001b[0m\u001b[0mdata\u001b[0m\u001b[0;34m)\u001b[0m\u001b[0;34m\u001b[0m\u001b[0;34m\u001b[0m\u001b[0m\n\u001b[0m",
      "\u001b[0;32m~/anaconda3/envs/scraping/lib/python3.8/site-packages/schema.py\u001b[0m in \u001b[0;36mvalidate\u001b[0;34m(self, data)\u001b[0m\n\u001b[1;32m    352\u001b[0m             \u001b[0mdata\u001b[0m \u001b[0;34m=\u001b[0m \u001b[0mSchema\u001b[0m\u001b[0;34m(\u001b[0m\u001b[0mtype\u001b[0m\u001b[0;34m(\u001b[0m\u001b[0ms\u001b[0m\u001b[0;34m)\u001b[0m\u001b[0;34m,\u001b[0m \u001b[0merror\u001b[0m\u001b[0;34m=\u001b[0m\u001b[0me\u001b[0m\u001b[0;34m)\u001b[0m\u001b[0;34m.\u001b[0m\u001b[0mvalidate\u001b[0m\u001b[0;34m(\u001b[0m\u001b[0mdata\u001b[0m\u001b[0;34m)\u001b[0m\u001b[0;34m\u001b[0m\u001b[0;34m\u001b[0m\u001b[0m\n\u001b[1;32m    353\u001b[0m             \u001b[0mo\u001b[0m \u001b[0;34m=\u001b[0m \u001b[0mOr\u001b[0m\u001b[0;34m(\u001b[0m\u001b[0;34m*\u001b[0m\u001b[0ms\u001b[0m\u001b[0;34m,\u001b[0m \u001b[0merror\u001b[0m\u001b[0;34m=\u001b[0m\u001b[0me\u001b[0m\u001b[0;34m,\u001b[0m \u001b[0mschema\u001b[0m\u001b[0;34m=\u001b[0m\u001b[0mSchema\u001b[0m\u001b[0;34m,\u001b[0m \u001b[0mignore_extra_keys\u001b[0m\u001b[0;34m=\u001b[0m\u001b[0mi\u001b[0m\u001b[0;34m)\u001b[0m\u001b[0;34m\u001b[0m\u001b[0;34m\u001b[0m\u001b[0m\n\u001b[0;32m--> 354\u001b[0;31m             \u001b[0;32mreturn\u001b[0m \u001b[0mtype\u001b[0m\u001b[0;34m(\u001b[0m\u001b[0mdata\u001b[0m\u001b[0;34m)\u001b[0m\u001b[0;34m(\u001b[0m\u001b[0mo\u001b[0m\u001b[0;34m.\u001b[0m\u001b[0mvalidate\u001b[0m\u001b[0;34m(\u001b[0m\u001b[0md\u001b[0m\u001b[0;34m)\u001b[0m \u001b[0;32mfor\u001b[0m \u001b[0md\u001b[0m \u001b[0;32min\u001b[0m \u001b[0mdata\u001b[0m\u001b[0;34m)\u001b[0m\u001b[0;34m\u001b[0m\u001b[0;34m\u001b[0m\u001b[0m\n\u001b[0m\u001b[1;32m    355\u001b[0m         \u001b[0;32mif\u001b[0m \u001b[0mflavor\u001b[0m \u001b[0;34m==\u001b[0m \u001b[0mDICT\u001b[0m\u001b[0;34m:\u001b[0m\u001b[0;34m\u001b[0m\u001b[0;34m\u001b[0m\u001b[0m\n\u001b[1;32m    356\u001b[0m             \u001b[0mexitstack\u001b[0m \u001b[0;34m=\u001b[0m \u001b[0mExitStack\u001b[0m\u001b[0;34m(\u001b[0m\u001b[0;34m)\u001b[0m\u001b[0;34m\u001b[0m\u001b[0;34m\u001b[0m\u001b[0m\n",
      "\u001b[0;32m~/anaconda3/envs/scraping/lib/python3.8/site-packages/schema.py\u001b[0m in \u001b[0;36m<genexpr>\u001b[0;34m(.0)\u001b[0m\n\u001b[1;32m    352\u001b[0m             \u001b[0mdata\u001b[0m \u001b[0;34m=\u001b[0m \u001b[0mSchema\u001b[0m\u001b[0;34m(\u001b[0m\u001b[0mtype\u001b[0m\u001b[0;34m(\u001b[0m\u001b[0ms\u001b[0m\u001b[0;34m)\u001b[0m\u001b[0;34m,\u001b[0m \u001b[0merror\u001b[0m\u001b[0;34m=\u001b[0m\u001b[0me\u001b[0m\u001b[0;34m)\u001b[0m\u001b[0;34m.\u001b[0m\u001b[0mvalidate\u001b[0m\u001b[0;34m(\u001b[0m\u001b[0mdata\u001b[0m\u001b[0;34m)\u001b[0m\u001b[0;34m\u001b[0m\u001b[0;34m\u001b[0m\u001b[0m\n\u001b[1;32m    353\u001b[0m             \u001b[0mo\u001b[0m \u001b[0;34m=\u001b[0m \u001b[0mOr\u001b[0m\u001b[0;34m(\u001b[0m\u001b[0;34m*\u001b[0m\u001b[0ms\u001b[0m\u001b[0;34m,\u001b[0m \u001b[0merror\u001b[0m\u001b[0;34m=\u001b[0m\u001b[0me\u001b[0m\u001b[0;34m,\u001b[0m \u001b[0mschema\u001b[0m\u001b[0;34m=\u001b[0m\u001b[0mSchema\u001b[0m\u001b[0;34m,\u001b[0m \u001b[0mignore_extra_keys\u001b[0m\u001b[0;34m=\u001b[0m\u001b[0mi\u001b[0m\u001b[0;34m)\u001b[0m\u001b[0;34m\u001b[0m\u001b[0;34m\u001b[0m\u001b[0m\n\u001b[0;32m--> 354\u001b[0;31m             \u001b[0;32mreturn\u001b[0m \u001b[0mtype\u001b[0m\u001b[0;34m(\u001b[0m\u001b[0mdata\u001b[0m\u001b[0;34m)\u001b[0m\u001b[0;34m(\u001b[0m\u001b[0mo\u001b[0m\u001b[0;34m.\u001b[0m\u001b[0mvalidate\u001b[0m\u001b[0;34m(\u001b[0m\u001b[0md\u001b[0m\u001b[0;34m)\u001b[0m \u001b[0;32mfor\u001b[0m \u001b[0md\u001b[0m \u001b[0;32min\u001b[0m \u001b[0mdata\u001b[0m\u001b[0;34m)\u001b[0m\u001b[0;34m\u001b[0m\u001b[0;34m\u001b[0m\u001b[0m\n\u001b[0m\u001b[1;32m    355\u001b[0m         \u001b[0;32mif\u001b[0m \u001b[0mflavor\u001b[0m \u001b[0;34m==\u001b[0m \u001b[0mDICT\u001b[0m\u001b[0;34m:\u001b[0m\u001b[0;34m\u001b[0m\u001b[0;34m\u001b[0m\u001b[0m\n\u001b[1;32m    356\u001b[0m             \u001b[0mexitstack\u001b[0m \u001b[0;34m=\u001b[0m \u001b[0mExitStack\u001b[0m\u001b[0;34m(\u001b[0m\u001b[0;34m)\u001b[0m\u001b[0;34m\u001b[0m\u001b[0;34m\u001b[0m\u001b[0m\n",
      "\u001b[0;32m~/anaconda3/envs/scraping/lib/python3.8/site-packages/schema.py\u001b[0m in \u001b[0;36mvalidate\u001b[0;34m(self, data)\u001b[0m\n\u001b[1;32m    162\u001b[0m             \u001b[0;32mexcept\u001b[0m \u001b[0mSchemaError\u001b[0m \u001b[0;32mas\u001b[0m \u001b[0m_x\u001b[0m\u001b[0;34m:\u001b[0m\u001b[0;34m\u001b[0m\u001b[0;34m\u001b[0m\u001b[0m\n\u001b[1;32m    163\u001b[0m                 \u001b[0mautos\u001b[0m\u001b[0;34m,\u001b[0m \u001b[0merrors\u001b[0m \u001b[0;34m=\u001b[0m \u001b[0m_x\u001b[0m\u001b[0;34m.\u001b[0m\u001b[0mautos\u001b[0m\u001b[0;34m,\u001b[0m \u001b[0m_x\u001b[0m\u001b[0;34m.\u001b[0m\u001b[0merrors\u001b[0m\u001b[0;34m\u001b[0m\u001b[0;34m\u001b[0m\u001b[0m\n\u001b[0;32m--> 164\u001b[0;31m         raise SchemaError(\n\u001b[0m\u001b[1;32m    165\u001b[0m             \u001b[0;34m[\u001b[0m\u001b[0;34m\"%r did not validate %r\"\u001b[0m \u001b[0;34m%\u001b[0m \u001b[0;34m(\u001b[0m\u001b[0mself\u001b[0m\u001b[0;34m,\u001b[0m \u001b[0mdata\u001b[0m\u001b[0;34m)\u001b[0m\u001b[0;34m]\u001b[0m \u001b[0;34m+\u001b[0m \u001b[0mautos\u001b[0m\u001b[0;34m,\u001b[0m\u001b[0;34m\u001b[0m\u001b[0;34m\u001b[0m\u001b[0m\n\u001b[1;32m    166\u001b[0m             \u001b[0;34m[\u001b[0m\u001b[0mself\u001b[0m\u001b[0;34m.\u001b[0m\u001b[0m_error\u001b[0m\u001b[0;34m.\u001b[0m\u001b[0mformat\u001b[0m\u001b[0;34m(\u001b[0m\u001b[0mdata\u001b[0m\u001b[0;34m)\u001b[0m \u001b[0;32mif\u001b[0m \u001b[0mself\u001b[0m\u001b[0;34m.\u001b[0m\u001b[0m_error\u001b[0m \u001b[0;32melse\u001b[0m \u001b[0;32mNone\u001b[0m\u001b[0;34m]\u001b[0m \u001b[0;34m+\u001b[0m \u001b[0merrors\u001b[0m\u001b[0;34m,\u001b[0m\u001b[0;34m\u001b[0m\u001b[0;34m\u001b[0m\u001b[0m\n",
      "\u001b[0;31mSchemaError\u001b[0m: Or({'name': <class 'str'>, 'city': <class 'str'>, 'closeness (1-5)': <class 'int'>, Forbidden('detailed_info'): <class 'dict'>}) did not validate {'name': 'Norma Fisher', 'city': 'South Richard', 'closeness (1-5)': 4, 'detailed_info': {'favorite_color': 'Pink', 'phone number': '7593824219489'}}\nForbidden key encountered: 'detailed_info' in {'name': 'Norma Fisher', 'city': 'South Richard', 'closeness (1-5)': 4, 'detailed_info': {'favorite_color': 'Pink', 'phone number': '7593824219489'}}"
     ]
    }
   ],
   "execution_count": null
  },
  {
   "cell_type": "markdown",
   "source": "# Json",
   "metadata": {
    "cell_id": "00043-8336a97a-cf4f-4e25-b2b6-196290c38556",
    "deepnote_cell_type": "markdown"
   }
  },
  {
   "cell_type": "code",
   "metadata": {
    "ExecuteTime": {
     "end_time": "2020-09-20T13:40:09.423813Z",
     "start_time": "2020-09-20T13:40:09.418124Z"
    },
    "cell_id": "00044-52f230be-1c4e-418f-99ab-9981bf19a05b",
    "deepnote_to_be_reexecuted": false,
    "source_hash": "66df6479",
    "execution_start": 1634040362154,
    "execution_millis": 1,
    "deepnote_cell_type": "code"
   },
   "source": "json = {\"data\":[{\"stuff\":[\n    {\"onetype\":[\n        {\"id\":1,\"name\":\"John Doe\"},\n        {\"id\":2,\"name\":\"Don Joeh\"}\n    ]},\n    {\"othertype\":[\n        {\"id\":2,\"company\":\"ACME\"}\n    ]}]\n},{\"otherstuff\":[\n    {\"thing\":\n        [[1,42],[2,2]]\n    }]\n}]}",
   "outputs": [],
   "execution_count": null
  },
  {
   "cell_type": "code",
   "metadata": {
    "ExecuteTime": {
     "end_time": "2020-09-20T13:40:09.846885Z",
     "start_time": "2020-09-20T13:40:09.842863Z"
    },
    "cell_id": "00045-8e4230d5-7c14-40f6-a8a8-4f070065a661",
    "deepnote_to_be_reexecuted": false,
    "source_hash": "3be0dde4",
    "execution_start": 1634040363163,
    "execution_millis": 9,
    "deepnote_cell_type": "code"
   },
   "source": "schema = Schema({'data': list})\nschema.is_valid(json)",
   "outputs": [
    {
     "output_type": "execute_result",
     "execution_count": 13,
     "data": {
      "text/plain": "True"
     },
     "metadata": {}
    }
   ],
   "execution_count": null
  },
  {
   "cell_type": "code",
   "metadata": {
    "ExecuteTime": {
     "end_time": "2020-09-20T13:42:40.276281Z",
     "start_time": "2020-09-20T13:42:40.260587Z"
    },
    "cell_id": "00046-eefed566-da70-4083-a84c-08893c33a4b6",
    "deepnote_to_be_reexecuted": false,
    "source_hash": "af7cfdab",
    "execution_start": 1634040365828,
    "execution_millis": 16,
    "deepnote_cell_type": "code"
   },
   "source": "schema = Schema({'data': [\n    {'stuff': list},\n    {'otherstuff': list}\n]})\nschema.is_valid(json)",
   "outputs": [
    {
     "output_type": "execute_result",
     "execution_count": 14,
     "data": {
      "text/plain": "True"
     },
     "metadata": {}
    }
   ],
   "execution_count": null
  },
  {
   "cell_type": "markdown",
   "source": "# Convert dtype",
   "metadata": {
    "cell_id": "00047-2a33c10a-ec2a-416f-a294-a6177b80c141",
    "deepnote_cell_type": "markdown"
   }
  },
  {
   "cell_type": "code",
   "metadata": {
    "ExecuteTime": {
     "end_time": "2020-09-20T13:45:56.600975Z",
     "start_time": "2020-09-20T13:45:56.591968Z"
    },
    "cell_id": "00048-ba5f9fad-4995-4868-90c4-4d60cfaa1d7b",
    "deepnote_to_be_reexecuted": false,
    "source_hash": "c95138ec",
    "execution_start": 1634040367897,
    "execution_millis": 11,
    "deepnote_cell_type": "code"
   },
   "source": "Schema(Use(int)).validate('123')",
   "outputs": [
    {
     "output_type": "execute_result",
     "execution_count": 15,
     "data": {
      "text/plain": "123"
     },
     "metadata": {}
    }
   ],
   "execution_count": null
  },
  {
   "cell_type": "markdown",
   "source": "<a style='text-decoration:none;line-height:16px;display:flex;color:#5B5B62;padding:10px;justify-content:end;' href='https://deepnote.com?utm_source=created-in-deepnote-cell&projectId=87197226-98be-42b2-8527-389082831299' target=\"_blank\">\n<img alt='Created in deepnote.com' style='display:inline;max-height:16px;margin:0px;margin-right:7.5px;' src='data:image/svg+xml;base64,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' > </img>\nCreated in <span style='font-weight:600;margin-left:4px;'>Deepnote</span></a>",
   "metadata": {
    "tags": [],
    "created_in_deepnote_cell": true,
    "deepnote_cell_type": "markdown"
   }
  }
 ],
 "nbformat": 4,
 "nbformat_minor": 4,
 "metadata": {
  "kernelspec": {
   "display_name": "scraping",
   "language": "python",
   "name": "scraping"
  },
  "language_info": {
   "codemirror_mode": {
    "name": "ipython",
    "version": 3
   },
   "file_extension": ".py",
   "mimetype": "text/x-python",
   "name": "python",
   "nbconvert_exporter": "python",
   "pygments_lexer": "ipython3",
   "version": "3.8.3"
  },
  "toc": {
   "base_numbering": 1,
   "nav_menu": {},
   "number_sections": true,
   "sideBar": true,
   "skip_h1_title": false,
   "title_cell": "Table of Contents",
   "title_sidebar": "Contents",
   "toc_cell": false,
   "toc_position": {},
   "toc_section_display": true,
   "toc_window_display": false
  },
  "deepnote_notebook_id": "993c2a4f-538f-48f2-8ab4-13aa4533526d",
  "deepnote": {},
  "deepnote_execution_queue": []
 }
}