{
 "cells": [
  {
   "cell_type": "markdown",
   "source": "[![View on GitHub](https://img.shields.io/badge/GitHub-View_on_GitHub-blue?logo=GitHub)](https://github.com/khuyentran1401/Data-science/blob/master/data_science_tools/sympy_example.ipynb)\n\n[<img src=\"https://deepnote.com/buttons/launch-in-deepnote.svg\">](https://deepnote.com/project/Data-science-hxlyJpi-QrKFJziQgoMSmQ/%2FData-science%2Fdata_science_tools%2Fsympy_example.ipynb)\n\n [![View Article](https://img.shields.io/badge/View%20Article-View%20Full%20Article-red)](https://towardsdatascience.com/sympy-symbolic-computation-in-python-f05f1413adb8)",
   "metadata": {
    "tags": [],
    "cell_id": "00000-6996d78e-b897-4a75-a8ba-5c79361ffb7a",
    "deepnote_cell_type": "markdown"
   }
  },
  {
   "cell_type": "markdown",
   "source": "# Introduction",
   "metadata": {
    "cell_id": "00000-f39f859f-36e8-4a23-8523-bf6c36838ae7",
    "deepnote_cell_type": "markdown"
   }
  },
  {
   "cell_type": "code",
   "metadata": {
    "ExecuteTime": {
     "end_time": "2021-07-02T10:55:24.390341Z",
     "start_time": "2021-07-02T10:55:24.125398Z"
    },
    "cell_id": "00001-1d8ac30b-62d2-4527-b713-2871adf7f411",
    "deepnote_to_be_reexecuted": false,
    "source_hash": "14b164d1",
    "execution_start": 1634040425145,
    "execution_millis": 1095,
    "deepnote_cell_type": "code"
   },
   "source": "from sympy import *",
   "outputs": [],
   "execution_count": null
  },
  {
   "cell_type": "markdown",
   "source": "## Fractions",
   "metadata": {
    "cell_id": "00002-5812bd5e-bd5e-4970-ae3d-7566f10869e8",
    "deepnote_cell_type": "markdown"
   }
  },
  {
   "cell_type": "code",
   "metadata": {
    "ExecuteTime": {
     "end_time": "2021-07-02T10:55:24.396202Z",
     "start_time": "2021-07-02T10:55:24.391714Z"
    },
    "cell_id": "00003-87e60489-d176-49ec-a0b5-7f09f32ceb39",
    "deepnote_cell_type": "code"
   },
   "source": "25 / 15",
   "outputs": [
    {
     "data": {
      "text/plain": "1.6666666666666667"
     },
     "execution_count": 3,
     "metadata": {},
     "output_type": "execute_result"
    },
    {
     "data": {
      "application/javascript": "\n            setTimeout(function() {\n                var nbb_cell_id = 3;\n                var nbb_unformatted_code = \"25 / 15\";\n                var nbb_formatted_code = \"25 / 15\";\n                var nbb_cells = Jupyter.notebook.get_cells();\n                for (var i = 0; i < nbb_cells.length; ++i) {\n                    if (nbb_cells[i].input_prompt_number == nbb_cell_id) {\n                        if (nbb_cells[i].get_text() == nbb_unformatted_code) {\n                             nbb_cells[i].set_text(nbb_formatted_code);\n                        }\n                        break;\n                    }\n                }\n            }, 500);\n            ",
      "text/plain": "<IPython.core.display.Javascript object>"
     },
     "metadata": {},
     "output_type": "display_data"
    }
   ],
   "execution_count": null
  },
  {
   "cell_type": "code",
   "metadata": {
    "ExecuteTime": {
     "end_time": "2021-07-02T10:55:24.402868Z",
     "start_time": "2021-07-02T10:55:24.397631Z"
    },
    "cell_id": "00004-a8a59ef5-8a83-4997-bb4b-3b26ad19d161",
    "deepnote_cell_type": "code"
   },
   "source": "frac = Rational(25, 15)\nfrac",
   "outputs": [
    {
     "data": {
      "text/latex": "$\\displaystyle \\frac{5}{3}$",
      "text/plain": "5/3"
     },
     "execution_count": 4,
     "metadata": {},
     "output_type": "execute_result"
    },
    {
     "data": {
      "application/javascript": "\n            setTimeout(function() {\n                var nbb_cell_id = 4;\n                var nbb_unformatted_code = \"frac = Rational(25, 15)\\nfrac\";\n                var nbb_formatted_code = \"frac = Rational(25, 15)\\nfrac\";\n                var nbb_cells = Jupyter.notebook.get_cells();\n                for (var i = 0; i < nbb_cells.length; ++i) {\n                    if (nbb_cells[i].input_prompt_number == nbb_cell_id) {\n                        if (nbb_cells[i].get_text() == nbb_unformatted_code) {\n                             nbb_cells[i].set_text(nbb_formatted_code);\n                        }\n                        break;\n                    }\n                }\n            }, 500);\n            ",
      "text/plain": "<IPython.core.display.Javascript object>"
     },
     "metadata": {},
     "output_type": "display_data"
    }
   ],
   "execution_count": null
  },
  {
   "cell_type": "code",
   "metadata": {
    "ExecuteTime": {
     "end_time": "2021-07-02T10:55:24.407484Z",
     "start_time": "2021-07-02T10:55:24.403787Z"
    },
    "cell_id": "00005-fa1289d0-1459-4001-807b-90ef5c8dfb2f",
    "deepnote_cell_type": "code"
   },
   "source": "frac * 3",
   "outputs": [
    {
     "data": {
      "text/latex": "$\\displaystyle 5$",
      "text/plain": "5"
     },
     "execution_count": 5,
     "metadata": {},
     "output_type": "execute_result"
    },
    {
     "data": {
      "application/javascript": "\n            setTimeout(function() {\n                var nbb_cell_id = 5;\n                var nbb_unformatted_code = \"frac * 3\";\n                var nbb_formatted_code = \"frac * 3\";\n                var nbb_cells = Jupyter.notebook.get_cells();\n                for (var i = 0; i < nbb_cells.length; ++i) {\n                    if (nbb_cells[i].input_prompt_number == nbb_cell_id) {\n                        if (nbb_cells[i].get_text() == nbb_unformatted_code) {\n                             nbb_cells[i].set_text(nbb_formatted_code);\n                        }\n                        break;\n                    }\n                }\n            }, 500);\n            ",
      "text/plain": "<IPython.core.display.Javascript object>"
     },
     "metadata": {},
     "output_type": "display_data"
    }
   ],
   "execution_count": null
  },
  {
   "cell_type": "code",
   "metadata": {
    "ExecuteTime": {
     "end_time": "2021-07-02T10:55:24.412985Z",
     "start_time": "2021-07-02T10:55:24.408416Z"
    },
    "cell_id": "00006-9a7b2425-fe13-4319-a207-bb4da02d7e7d",
    "deepnote_cell_type": "code"
   },
   "source": "frac / 5",
   "outputs": [
    {
     "data": {
      "text/latex": "$\\displaystyle \\frac{1}{3}$",
      "text/plain": "1/3"
     },
     "execution_count": 6,
     "metadata": {},
     "output_type": "execute_result"
    },
    {
     "data": {
      "application/javascript": "\n            setTimeout(function() {\n                var nbb_cell_id = 6;\n                var nbb_unformatted_code = \"frac / 5\";\n                var nbb_formatted_code = \"frac / 5\";\n                var nbb_cells = Jupyter.notebook.get_cells();\n                for (var i = 0; i < nbb_cells.length; ++i) {\n                    if (nbb_cells[i].input_prompt_number == nbb_cell_id) {\n                        if (nbb_cells[i].get_text() == nbb_unformatted_code) {\n                             nbb_cells[i].set_text(nbb_formatted_code);\n                        }\n                        break;\n                    }\n                }\n            }, 500);\n            ",
      "text/plain": "<IPython.core.display.Javascript object>"
     },
     "metadata": {},
     "output_type": "display_data"
    }
   ],
   "execution_count": null
  },
  {
   "cell_type": "markdown",
   "source": "## Square root",
   "metadata": {
    "cell_id": "00007-4106125d-714a-43cf-bdae-aa1250857ebd",
    "deepnote_cell_type": "markdown"
   }
  },
  {
   "cell_type": "code",
   "metadata": {
    "ExecuteTime": {
     "end_time": "2021-07-02T10:55:24.419639Z",
     "start_time": "2021-07-02T10:55:24.414243Z"
    },
    "cell_id": "00008-77506f5e-9dba-43b0-b97e-0af8e1a95e0a",
    "deepnote_cell_type": "code"
   },
   "source": "res = 18 ** (1 / 2)\nres",
   "outputs": [
    {
     "data": {
      "text/plain": "4.242640687119285"
     },
     "execution_count": 7,
     "metadata": {},
     "output_type": "execute_result"
    },
    {
     "data": {
      "application/javascript": "\n            setTimeout(function() {\n                var nbb_cell_id = 7;\n                var nbb_unformatted_code = \"res = 18 ** (1 / 2)\\nres\";\n                var nbb_formatted_code = \"res = 18 ** (1 / 2)\\nres\";\n                var nbb_cells = Jupyter.notebook.get_cells();\n                for (var i = 0; i < nbb_cells.length; ++i) {\n                    if (nbb_cells[i].input_prompt_number == nbb_cell_id) {\n                        if (nbb_cells[i].get_text() == nbb_unformatted_code) {\n                             nbb_cells[i].set_text(nbb_formatted_code);\n                        }\n                        break;\n                    }\n                }\n            }, 500);\n            ",
      "text/plain": "<IPython.core.display.Javascript object>"
     },
     "metadata": {},
     "output_type": "display_data"
    }
   ],
   "execution_count": null
  },
  {
   "cell_type": "code",
   "metadata": {
    "ExecuteTime": {
     "end_time": "2021-07-02T10:55:24.609636Z",
     "start_time": "2021-07-02T10:55:24.422082Z"
    },
    "cell_id": "00009-793cd4ab-ab4e-4532-914d-dd25ea679a0a",
    "deepnote_cell_type": "code"
   },
   "source": "sqrt(18)",
   "outputs": [
    {
     "data": {
      "text/latex": "$\\displaystyle 3 \\sqrt{2}$",
      "text/plain": "3*sqrt(2)"
     },
     "execution_count": 8,
     "metadata": {},
     "output_type": "execute_result"
    },
    {
     "data": {
      "application/javascript": "\n            setTimeout(function() {\n                var nbb_cell_id = 8;\n                var nbb_unformatted_code = \"sqrt(18)\";\n                var nbb_formatted_code = \"sqrt(18)\";\n                var nbb_cells = Jupyter.notebook.get_cells();\n                for (var i = 0; i < nbb_cells.length; ++i) {\n                    if (nbb_cells[i].input_prompt_number == nbb_cell_id) {\n                        if (nbb_cells[i].get_text() == nbb_unformatted_code) {\n                             nbb_cells[i].set_text(nbb_formatted_code);\n                        }\n                        break;\n                    }\n                }\n            }, 500);\n            ",
      "text/plain": "<IPython.core.display.Javascript object>"
     },
     "metadata": {},
     "output_type": "display_data"
    }
   ],
   "execution_count": null
  },
  {
   "cell_type": "markdown",
   "source": "## Symbols",
   "metadata": {
    "cell_id": "00010-cf8a4e7c-5135-444d-ae55-c7e3d895fc38",
    "deepnote_cell_type": "markdown"
   }
  },
  {
   "cell_type": "code",
   "metadata": {
    "ExecuteTime": {
     "end_time": "2021-07-02T10:55:24.620193Z",
     "start_time": "2021-07-02T10:55:24.612026Z"
    },
    "cell_id": "00011-670b3933-8fdf-4068-ad44-36c1fc02a75c",
    "deepnote_cell_type": "code"
   },
   "source": "x, y = symbols(\"x y\")\nexpr = 3 * x + y\nexpr",
   "outputs": [
    {
     "data": {
      "text/latex": "$\\displaystyle 3 x + y$",
      "text/plain": "3*x + y"
     },
     "execution_count": 9,
     "metadata": {},
     "output_type": "execute_result"
    },
    {
     "data": {
      "application/javascript": "\n            setTimeout(function() {\n                var nbb_cell_id = 9;\n                var nbb_unformatted_code = \"x, y = symbols(\\\"x y\\\")\\nexpr = 3 * x + y\\nexpr\";\n                var nbb_formatted_code = \"x, y = symbols(\\\"x y\\\")\\nexpr = 3 * x + y\\nexpr\";\n                var nbb_cells = Jupyter.notebook.get_cells();\n                for (var i = 0; i < nbb_cells.length; ++i) {\n                    if (nbb_cells[i].input_prompt_number == nbb_cell_id) {\n                        if (nbb_cells[i].get_text() == nbb_unformatted_code) {\n                             nbb_cells[i].set_text(nbb_formatted_code);\n                        }\n                        break;\n                    }\n                }\n            }, 500);\n            ",
      "text/plain": "<IPython.core.display.Javascript object>"
     },
     "metadata": {},
     "output_type": "display_data"
    }
   ],
   "execution_count": null
  },
  {
   "cell_type": "code",
   "metadata": {
    "ExecuteTime": {
     "end_time": "2021-07-02T10:55:24.625374Z",
     "start_time": "2021-07-02T10:55:24.621075Z"
    },
    "cell_id": "00012-8389060d-c926-423c-a6eb-7ae40c6dfcfa",
    "deepnote_cell_type": "code"
   },
   "source": "expr + 2",
   "outputs": [
    {
     "data": {
      "text/latex": "$\\displaystyle 3 x + y + 2$",
      "text/plain": "3*x + y + 2"
     },
     "execution_count": 10,
     "metadata": {},
     "output_type": "execute_result"
    },
    {
     "data": {
      "application/javascript": "\n            setTimeout(function() {\n                var nbb_cell_id = 10;\n                var nbb_unformatted_code = \"expr + 2\";\n                var nbb_formatted_code = \"expr + 2\";\n                var nbb_cells = Jupyter.notebook.get_cells();\n                for (var i = 0; i < nbb_cells.length; ++i) {\n                    if (nbb_cells[i].input_prompt_number == nbb_cell_id) {\n                        if (nbb_cells[i].get_text() == nbb_unformatted_code) {\n                             nbb_cells[i].set_text(nbb_formatted_code);\n                        }\n                        break;\n                    }\n                }\n            }, 500);\n            ",
      "text/plain": "<IPython.core.display.Javascript object>"
     },
     "metadata": {},
     "output_type": "display_data"
    }
   ],
   "execution_count": null
  },
  {
   "cell_type": "markdown",
   "source": "# Expand, factor, and simplify",
   "metadata": {
    "cell_id": "00013-c4be2359-be92-4994-a4ef-0f34cf54a51c",
    "deepnote_cell_type": "markdown"
   }
  },
  {
   "cell_type": "markdown",
   "source": "$$\nx (3 x + y) = 3x^2 + xy\n$$",
   "metadata": {
    "cell_id": "00014-1ecb0aa1-a9d2-415a-a25d-2b4892675b89",
    "deepnote_cell_type": "markdown"
   }
  },
  {
   "cell_type": "code",
   "metadata": {
    "ExecuteTime": {
     "end_time": "2021-07-02T10:55:24.633022Z",
     "start_time": "2021-07-02T10:55:24.626393Z"
    },
    "cell_id": "00015-c28d52f6-2c26-419a-a889-239b6820ceb8",
    "deepnote_cell_type": "code"
   },
   "source": "expansion = expand(x * expr)\nexpansion",
   "outputs": [
    {
     "data": {
      "text/latex": "$\\displaystyle 3 x^{2} + x y$",
      "text/plain": "3*x**2 + x*y"
     },
     "execution_count": 11,
     "metadata": {},
     "output_type": "execute_result"
    },
    {
     "data": {
      "application/javascript": "\n            setTimeout(function() {\n                var nbb_cell_id = 11;\n                var nbb_unformatted_code = \"expansion = expand(x*expr)\\nexpansion\";\n                var nbb_formatted_code = \"expansion = expand(x * expr)\\nexpansion\";\n                var nbb_cells = Jupyter.notebook.get_cells();\n                for (var i = 0; i < nbb_cells.length; ++i) {\n                    if (nbb_cells[i].input_prompt_number == nbb_cell_id) {\n                        if (nbb_cells[i].get_text() == nbb_unformatted_code) {\n                             nbb_cells[i].set_text(nbb_formatted_code);\n                        }\n                        break;\n                    }\n                }\n            }, 500);\n            ",
      "text/plain": "<IPython.core.display.Javascript object>"
     },
     "metadata": {},
     "output_type": "display_data"
    }
   ],
   "execution_count": null
  },
  {
   "cell_type": "code",
   "metadata": {
    "ExecuteTime": {
     "end_time": "2021-07-02T10:55:24.640390Z",
     "start_time": "2021-07-02T10:55:24.634059Z"
    },
    "cell_id": "00016-61e86dfe-1e26-4b35-8f9a-a267c0030682",
    "deepnote_cell_type": "code"
   },
   "source": "factor(expansion)",
   "outputs": [
    {
     "data": {
      "text/latex": "$\\displaystyle x \\left(3 x + y\\right)$",
      "text/plain": "x*(3*x + y)"
     },
     "execution_count": 12,
     "metadata": {},
     "output_type": "execute_result"
    },
    {
     "data": {
      "application/javascript": "\n            setTimeout(function() {\n                var nbb_cell_id = 12;\n                var nbb_unformatted_code = \"factor(expansion)\";\n                var nbb_formatted_code = \"factor(expansion)\";\n                var nbb_cells = Jupyter.notebook.get_cells();\n                for (var i = 0; i < nbb_cells.length; ++i) {\n                    if (nbb_cells[i].input_prompt_number == nbb_cell_id) {\n                        if (nbb_cells[i].get_text() == nbb_unformatted_code) {\n                             nbb_cells[i].set_text(nbb_formatted_code);\n                        }\n                        break;\n                    }\n                }\n            }, 500);\n            ",
      "text/plain": "<IPython.core.display.Javascript object>"
     },
     "metadata": {},
     "output_type": "display_data"
    }
   ],
   "execution_count": null
  },
  {
   "cell_type": "code",
   "metadata": {
    "ExecuteTime": {
     "end_time": "2021-07-02T10:55:24.652471Z",
     "start_time": "2021-07-02T10:55:24.641312Z"
    },
    "cell_id": "00017-f62ac355-ad67-44d1-814e-4cbf42a43257",
    "deepnote_cell_type": "code"
   },
   "source": "expr = (6 * x ** 2 + 3 * x) / (3 * x)\nexpr",
   "outputs": [
    {
     "data": {
      "text/latex": "$\\displaystyle \\frac{6 x^{2} + 3 x}{3 x}$",
      "text/plain": "(6*x**2 + 3*x)/(3*x)"
     },
     "execution_count": 13,
     "metadata": {},
     "output_type": "execute_result"
    },
    {
     "data": {
      "application/javascript": "\n            setTimeout(function() {\n                var nbb_cell_id = 13;\n                var nbb_unformatted_code = \"expr = (6 * x ** 2 + 3 * x) / (3 * x)\\nexpr\";\n                var nbb_formatted_code = \"expr = (6 * x ** 2 + 3 * x) / (3 * x)\\nexpr\";\n                var nbb_cells = Jupyter.notebook.get_cells();\n                for (var i = 0; i < nbb_cells.length; ++i) {\n                    if (nbb_cells[i].input_prompt_number == nbb_cell_id) {\n                        if (nbb_cells[i].get_text() == nbb_unformatted_code) {\n                             nbb_cells[i].set_text(nbb_formatted_code);\n                        }\n                        break;\n                    }\n                }\n            }, 500);\n            ",
      "text/plain": "<IPython.core.display.Javascript object>"
     },
     "metadata": {},
     "output_type": "display_data"
    }
   ],
   "execution_count": null
  },
  {
   "cell_type": "code",
   "metadata": {
    "ExecuteTime": {
     "end_time": "2021-07-02T10:55:24.668554Z",
     "start_time": "2021-07-02T10:55:24.653689Z"
    },
    "cell_id": "00018-a404ba28-8d62-4f85-9863-a1e2be6c0422",
    "deepnote_cell_type": "code"
   },
   "source": "simplify(expr)",
   "outputs": [
    {
     "data": {
      "text/latex": "$\\displaystyle 2 x + 1$",
      "text/plain": "2*x + 1"
     },
     "execution_count": 14,
     "metadata": {},
     "output_type": "execute_result"
    },
    {
     "data": {
      "application/javascript": "\n            setTimeout(function() {\n                var nbb_cell_id = 14;\n                var nbb_unformatted_code = \"simplify(expr)\";\n                var nbb_formatted_code = \"simplify(expr)\";\n                var nbb_cells = Jupyter.notebook.get_cells();\n                for (var i = 0; i < nbb_cells.length; ++i) {\n                    if (nbb_cells[i].input_prompt_number == nbb_cell_id) {\n                        if (nbb_cells[i].get_text() == nbb_unformatted_code) {\n                             nbb_cells[i].set_text(nbb_formatted_code);\n                        }\n                        break;\n                    }\n                }\n            }, 500);\n            ",
      "text/plain": "<IPython.core.display.Javascript object>"
     },
     "metadata": {},
     "output_type": "display_data"
    }
   ],
   "execution_count": null
  },
  {
   "cell_type": "code",
   "metadata": {
    "ExecuteTime": {
     "end_time": "2021-07-02T10:55:24.674433Z",
     "start_time": "2021-07-02T10:55:24.670240Z"
    },
    "cell_id": "00019-11a3d184-7729-4581-bc0d-919607cde2fa",
    "deepnote_cell_type": "code"
   },
   "source": "expr = 6 * x ** 2 + 3 * x ** 2 + 5",
   "outputs": [
    {
     "data": {
      "application/javascript": "\n            setTimeout(function() {\n                var nbb_cell_id = 15;\n                var nbb_unformatted_code = \"expr = 6 * x ** 2 + 3 * x ** 2 + 5\";\n                var nbb_formatted_code = \"expr = 6 * x ** 2 + 3 * x ** 2 + 5\";\n                var nbb_cells = Jupyter.notebook.get_cells();\n                for (var i = 0; i < nbb_cells.length; ++i) {\n                    if (nbb_cells[i].input_prompt_number == nbb_cell_id) {\n                        if (nbb_cells[i].get_text() == nbb_unformatted_code) {\n                             nbb_cells[i].set_text(nbb_formatted_code);\n                        }\n                        break;\n                    }\n                }\n            }, 500);\n            ",
      "text/plain": "<IPython.core.display.Javascript object>"
     },
     "metadata": {},
     "output_type": "display_data"
    }
   ],
   "execution_count": null
  },
  {
   "cell_type": "markdown",
   "source": "# Solve an equation",
   "metadata": {
    "cell_id": "00020-bdf20ab9-d80c-4fbe-83fb-ade02b027dfc",
    "deepnote_cell_type": "markdown"
   }
  },
  {
   "cell_type": "code",
   "metadata": {
    "ExecuteTime": {
     "end_time": "2021-07-02T10:55:24.682325Z",
     "start_time": "2021-07-02T10:55:24.675611Z"
    },
    "cell_id": "00021-0f0fb4b6-4994-4783-b68f-16e4358e89b0",
    "deepnote_cell_type": "code"
   },
   "source": "eq = (2 * x + 1) * 3 * x\neq",
   "outputs": [
    {
     "data": {
      "text/latex": "$\\displaystyle x \\left(6 x + 3\\right)$",
      "text/plain": "x*(6*x + 3)"
     },
     "execution_count": 16,
     "metadata": {},
     "output_type": "execute_result"
    },
    {
     "data": {
      "application/javascript": "\n            setTimeout(function() {\n                var nbb_cell_id = 16;\n                var nbb_unformatted_code = \"eq = (2 * x + 1) * 3 * x\\neq\";\n                var nbb_formatted_code = \"eq = (2 * x + 1) * 3 * x\\neq\";\n                var nbb_cells = Jupyter.notebook.get_cells();\n                for (var i = 0; i < nbb_cells.length; ++i) {\n                    if (nbb_cells[i].input_prompt_number == nbb_cell_id) {\n                        if (nbb_cells[i].get_text() == nbb_unformatted_code) {\n                             nbb_cells[i].set_text(nbb_formatted_code);\n                        }\n                        break;\n                    }\n                }\n            }, 500);\n            ",
      "text/plain": "<IPython.core.display.Javascript object>"
     },
     "metadata": {},
     "output_type": "display_data"
    }
   ],
   "execution_count": null
  },
  {
   "cell_type": "code",
   "metadata": {
    "ExecuteTime": {
     "end_time": "2021-07-02T10:55:24.689820Z",
     "start_time": "2021-07-02T10:55:24.683507Z"
    },
    "cell_id": "00022-0253d073-6d54-4313-a9d1-c07b52839d06",
    "deepnote_cell_type": "code"
   },
   "source": "solve(eq, x)",
   "outputs": [
    {
     "data": {
      "text/plain": "[-1/2, 0]"
     },
     "execution_count": 17,
     "metadata": {},
     "output_type": "execute_result"
    },
    {
     "data": {
      "application/javascript": "\n            setTimeout(function() {\n                var nbb_cell_id = 17;\n                var nbb_unformatted_code = \"solve(eq, x)\";\n                var nbb_formatted_code = \"solve(eq, x)\";\n                var nbb_cells = Jupyter.notebook.get_cells();\n                for (var i = 0; i < nbb_cells.length; ++i) {\n                    if (nbb_cells[i].input_prompt_number == nbb_cell_id) {\n                        if (nbb_cells[i].get_text() == nbb_unformatted_code) {\n                             nbb_cells[i].set_text(nbb_formatted_code);\n                        }\n                        break;\n                    }\n                }\n            }, 500);\n            ",
      "text/plain": "<IPython.core.display.Javascript object>"
     },
     "metadata": {},
     "output_type": "display_data"
    }
   ],
   "execution_count": null
  },
  {
   "cell_type": "markdown",
   "source": "# Substitution",
   "metadata": {
    "cell_id": "00023-79fd6a85-89f3-4f5c-835e-d4fd192caa9c",
    "deepnote_cell_type": "markdown"
   }
  },
  {
   "cell_type": "code",
   "metadata": {
    "ExecuteTime": {
     "end_time": "2021-07-02T10:55:24.695522Z",
     "start_time": "2021-07-02T10:55:24.690674Z"
    },
    "cell_id": "00024-bc2aec61-9009-4b9f-90f2-d6306cb12ba9",
    "deepnote_cell_type": "code"
   },
   "source": "eq.subs(x, 2)",
   "outputs": [
    {
     "data": {
      "text/latex": "$\\displaystyle 30$",
      "text/plain": "30"
     },
     "execution_count": 18,
     "metadata": {},
     "output_type": "execute_result"
    },
    {
     "data": {
      "application/javascript": "\n            setTimeout(function() {\n                var nbb_cell_id = 18;\n                var nbb_unformatted_code = \"eq.subs(x, 2)\";\n                var nbb_formatted_code = \"eq.subs(x, 2)\";\n                var nbb_cells = Jupyter.notebook.get_cells();\n                for (var i = 0; i < nbb_cells.length; ++i) {\n                    if (nbb_cells[i].input_prompt_number == nbb_cell_id) {\n                        if (nbb_cells[i].get_text() == nbb_unformatted_code) {\n                             nbb_cells[i].set_text(nbb_formatted_code);\n                        }\n                        break;\n                    }\n                }\n            }, 500);\n            ",
      "text/plain": "<IPython.core.display.Javascript object>"
     },
     "metadata": {},
     "output_type": "display_data"
    }
   ],
   "execution_count": null
  },
  {
   "cell_type": "code",
   "metadata": {
    "ExecuteTime": {
     "end_time": "2021-07-02T10:55:24.707857Z",
     "start_time": "2021-07-02T10:55:24.696579Z"
    },
    "cell_id": "00025-86b887a2-a080-45ab-a458-a8a50a8f50e2",
    "deepnote_cell_type": "code"
   },
   "source": "eq.subs(x ** 2, 2)",
   "outputs": [
    {
     "data": {
      "text/latex": "$\\displaystyle x \\left(6 x + 3\\right)$",
      "text/plain": "x*(6*x + 3)"
     },
     "execution_count": 19,
     "metadata": {},
     "output_type": "execute_result"
    },
    {
     "data": {
      "application/javascript": "\n            setTimeout(function() {\n                var nbb_cell_id = 19;\n                var nbb_unformatted_code = \"eq.subs(x**2, 2)\";\n                var nbb_formatted_code = \"eq.subs(x ** 2, 2)\";\n                var nbb_cells = Jupyter.notebook.get_cells();\n                for (var i = 0; i < nbb_cells.length; ++i) {\n                    if (nbb_cells[i].input_prompt_number == nbb_cell_id) {\n                        if (nbb_cells[i].get_text() == nbb_unformatted_code) {\n                             nbb_cells[i].set_text(nbb_formatted_code);\n                        }\n                        break;\n                    }\n                }\n            }, 500);\n            ",
      "text/plain": "<IPython.core.display.Javascript object>"
     },
     "metadata": {},
     "output_type": "display_data"
    }
   ],
   "execution_count": null
  },
  {
   "cell_type": "markdown",
   "source": "# Trignometric Simplification",
   "metadata": {
    "cell_id": "00026-e29c7722-918f-4738-9994-edffb518b27d",
    "deepnote_cell_type": "markdown"
   }
  },
  {
   "cell_type": "markdown",
   "source": "$$\n\\cos x = \\frac{1}{\\sec x}\\\\\n\\tan x = \\frac{\\sin x}{\\cos x}\\\\\n\\sin^2 x + \\cos^2 x = 1\\\\\n1 + \\cot^2 x = \\frac{1}{\\sin^2 x}\n$$",
   "metadata": {
    "cell_id": "00027-6c904e42-c8dd-44a4-85ee-3260531f60a6",
    "deepnote_cell_type": "markdown"
   }
  },
  {
   "cell_type": "code",
   "metadata": {
    "ExecuteTime": {
     "end_time": "2021-07-02T10:55:24.720047Z",
     "start_time": "2021-07-02T10:55:24.708985Z"
    },
    "cell_id": "00028-0b024b47-b834-437f-9b55-26f0b3d0523c",
    "deepnote_cell_type": "code"
   },
   "source": "trigsimp(1 / sec(x))",
   "outputs": [
    {
     "data": {
      "text/latex": "$\\displaystyle \\cos{\\left(x \\right)}$",
      "text/plain": "cos(x)"
     },
     "execution_count": 20,
     "metadata": {},
     "output_type": "execute_result"
    },
    {
     "data": {
      "application/javascript": "\n            setTimeout(function() {\n                var nbb_cell_id = 20;\n                var nbb_unformatted_code = \"trigsimp(1/sec(x))\";\n                var nbb_formatted_code = \"trigsimp(1 / sec(x))\";\n                var nbb_cells = Jupyter.notebook.get_cells();\n                for (var i = 0; i < nbb_cells.length; ++i) {\n                    if (nbb_cells[i].input_prompt_number == nbb_cell_id) {\n                        if (nbb_cells[i].get_text() == nbb_unformatted_code) {\n                             nbb_cells[i].set_text(nbb_formatted_code);\n                        }\n                        break;\n                    }\n                }\n            }, 500);\n            ",
      "text/plain": "<IPython.core.display.Javascript object>"
     },
     "metadata": {},
     "output_type": "display_data"
    }
   ],
   "execution_count": null
  },
  {
   "cell_type": "code",
   "metadata": {
    "ExecuteTime": {
     "end_time": "2021-07-02T10:55:24.735916Z",
     "start_time": "2021-07-02T10:55:24.720850Z"
    },
    "cell_id": "00029-40d2a62f-749f-488c-a270-2f34df8b0ac7",
    "deepnote_cell_type": "code"
   },
   "source": "trigsimp(sin(x) / cos(x))",
   "outputs": [
    {
     "data": {
      "text/latex": "$\\displaystyle \\tan{\\left(x \\right)}$",
      "text/plain": "tan(x)"
     },
     "execution_count": 21,
     "metadata": {},
     "output_type": "execute_result"
    },
    {
     "data": {
      "application/javascript": "\n            setTimeout(function() {\n                var nbb_cell_id = 21;\n                var nbb_unformatted_code = \"trigsimp(sin(x)/cos(x))\";\n                var nbb_formatted_code = \"trigsimp(sin(x) / cos(x))\";\n                var nbb_cells = Jupyter.notebook.get_cells();\n                for (var i = 0; i < nbb_cells.length; ++i) {\n                    if (nbb_cells[i].input_prompt_number == nbb_cell_id) {\n                        if (nbb_cells[i].get_text() == nbb_unformatted_code) {\n                             nbb_cells[i].set_text(nbb_formatted_code);\n                        }\n                        break;\n                    }\n                }\n            }, 500);\n            ",
      "text/plain": "<IPython.core.display.Javascript object>"
     },
     "metadata": {},
     "output_type": "display_data"
    }
   ],
   "execution_count": null
  },
  {
   "cell_type": "code",
   "metadata": {
    "ExecuteTime": {
     "end_time": "2021-07-02T10:55:25.811483Z",
     "start_time": "2021-07-02T10:55:25.488875Z"
    },
    "cell_id": "00030-36f942a0-5484-4d70-9137-53bdee73856e",
    "deepnote_cell_type": "code"
   },
   "source": "trigsimp(sin(x) ** 2 + cos(x) ** 2)",
   "outputs": [
    {
     "data": {
      "text/latex": "$\\displaystyle 1$",
      "text/plain": "1"
     },
     "execution_count": 22,
     "metadata": {},
     "output_type": "execute_result"
    },
    {
     "data": {
      "application/javascript": "\n            setTimeout(function() {\n                var nbb_cell_id = 22;\n                var nbb_unformatted_code = \"trigsimp(sin(x)**2 + cos(x)**2)\";\n                var nbb_formatted_code = \"trigsimp(sin(x) ** 2 + cos(x) ** 2)\";\n                var nbb_cells = Jupyter.notebook.get_cells();\n                for (var i = 0; i < nbb_cells.length; ++i) {\n                    if (nbb_cells[i].input_prompt_number == nbb_cell_id) {\n                        if (nbb_cells[i].get_text() == nbb_unformatted_code) {\n                             nbb_cells[i].set_text(nbb_formatted_code);\n                        }\n                        break;\n                    }\n                }\n            }, 500);\n            ",
      "text/plain": "<IPython.core.display.Javascript object>"
     },
     "metadata": {},
     "output_type": "display_data"
    }
   ],
   "execution_count": null
  },
  {
   "cell_type": "code",
   "metadata": {
    "ExecuteTime": {
     "end_time": "2021-07-02T10:55:24.785806Z",
     "start_time": "2021-07-02T10:55:24.763474Z"
    },
    "cell_id": "00031-3fd0ee6c-36fc-42e5-a468-7f371e63b0aa",
    "deepnote_cell_type": "code"
   },
   "source": "trigsimp(1 + cot(x) ** 2)",
   "outputs": [
    {
     "data": {
      "text/latex": "$\\displaystyle \\frac{1}{\\sin^{2}{\\left(x \\right)}}$",
      "text/plain": "sin(x)**(-2)"
     },
     "execution_count": 23,
     "metadata": {},
     "output_type": "execute_result"
    },
    {
     "data": {
      "application/javascript": "\n            setTimeout(function() {\n                var nbb_cell_id = 23;\n                var nbb_unformatted_code = \"trigsimp(1 + cot(x) ** 2)\";\n                var nbb_formatted_code = \"trigsimp(1 + cot(x) ** 2)\";\n                var nbb_cells = Jupyter.notebook.get_cells();\n                for (var i = 0; i < nbb_cells.length; ++i) {\n                    if (nbb_cells[i].input_prompt_number == nbb_cell_id) {\n                        if (nbb_cells[i].get_text() == nbb_unformatted_code) {\n                             nbb_cells[i].set_text(nbb_formatted_code);\n                        }\n                        break;\n                    }\n                }\n            }, 500);\n            ",
      "text/plain": "<IPython.core.display.Javascript object>"
     },
     "metadata": {},
     "output_type": "display_data"
    }
   ],
   "execution_count": null
  },
  {
   "cell_type": "markdown",
   "source": "# Derivatives, Integrals, and Limit",
   "metadata": {
    "cell_id": "00032-f9eec54f-c995-471e-bda3-c5bce1d2d1bf",
    "deepnote_cell_type": "markdown"
   }
  },
  {
   "cell_type": "code",
   "metadata": {
    "ExecuteTime": {
     "end_time": "2021-07-02T10:55:24.792482Z",
     "start_time": "2021-07-02T10:55:24.786918Z"
    },
    "cell_id": "00033-ea9f74ef-9328-4f9c-8def-31a0ed7a3e5a",
    "deepnote_cell_type": "code"
   },
   "source": "expr = sin(x) ** 2 + 2 * x\nexpr",
   "outputs": [
    {
     "data": {
      "text/latex": "$\\displaystyle 2 x + \\sin^{2}{\\left(x \\right)}$",
      "text/plain": "2*x + sin(x)**2"
     },
     "execution_count": 24,
     "metadata": {},
     "output_type": "execute_result"
    },
    {
     "data": {
      "application/javascript": "\n            setTimeout(function() {\n                var nbb_cell_id = 24;\n                var nbb_unformatted_code = \"expr = sin(x) ** 2 + 2 * x\\nexpr\";\n                var nbb_formatted_code = \"expr = sin(x) ** 2 + 2 * x\\nexpr\";\n                var nbb_cells = Jupyter.notebook.get_cells();\n                for (var i = 0; i < nbb_cells.length; ++i) {\n                    if (nbb_cells[i].input_prompt_number == nbb_cell_id) {\n                        if (nbb_cells[i].get_text() == nbb_unformatted_code) {\n                             nbb_cells[i].set_text(nbb_formatted_code);\n                        }\n                        break;\n                    }\n                }\n            }, 500);\n            ",
      "text/plain": "<IPython.core.display.Javascript object>"
     },
     "metadata": {},
     "output_type": "display_data"
    }
   ],
   "execution_count": null
  },
  {
   "cell_type": "code",
   "metadata": {
    "ExecuteTime": {
     "end_time": "2021-07-02T10:55:24.802217Z",
     "start_time": "2021-07-02T10:55:24.793578Z"
    },
    "scrolled": true,
    "cell_id": "00034-f3c72c64-85ca-48c5-94ba-b9357661c239",
    "deepnote_cell_type": "code"
   },
   "source": "res = diff(expr)\nres",
   "outputs": [
    {
     "data": {
      "text/latex": "$\\displaystyle 2 \\sin{\\left(x \\right)} \\cos{\\left(x \\right)} + 2$",
      "text/plain": "2*sin(x)*cos(x) + 2"
     },
     "execution_count": 25,
     "metadata": {},
     "output_type": "execute_result"
    },
    {
     "data": {
      "application/javascript": "\n            setTimeout(function() {\n                var nbb_cell_id = 25;\n                var nbb_unformatted_code = \"res = diff(expr)\\nres\";\n                var nbb_formatted_code = \"res = diff(expr)\\nres\";\n                var nbb_cells = Jupyter.notebook.get_cells();\n                for (var i = 0; i < nbb_cells.length; ++i) {\n                    if (nbb_cells[i].input_prompt_number == nbb_cell_id) {\n                        if (nbb_cells[i].get_text() == nbb_unformatted_code) {\n                             nbb_cells[i].set_text(nbb_formatted_code);\n                        }\n                        break;\n                    }\n                }\n            }, 500);\n            ",
      "text/plain": "<IPython.core.display.Javascript object>"
     },
     "metadata": {},
     "output_type": "display_data"
    }
   ],
   "execution_count": null
  },
  {
   "cell_type": "code",
   "metadata": {
    "ExecuteTime": {
     "end_time": "2021-07-02T10:55:24.817646Z",
     "start_time": "2021-07-02T10:55:24.803111Z"
    },
    "cell_id": "00035-212e6545-1ecb-4c5b-85db-54216eafb1ac",
    "deepnote_cell_type": "code"
   },
   "source": "integrate(res)",
   "outputs": [
    {
     "data": {
      "text/latex": "$\\displaystyle 2 x + \\sin^{2}{\\left(x \\right)}$",
      "text/plain": "2*x + sin(x)**2"
     },
     "execution_count": 26,
     "metadata": {},
     "output_type": "execute_result"
    },
    {
     "data": {
      "application/javascript": "\n            setTimeout(function() {\n                var nbb_cell_id = 26;\n                var nbb_unformatted_code = \"integrate(res)\";\n                var nbb_formatted_code = \"integrate(res)\";\n                var nbb_cells = Jupyter.notebook.get_cells();\n                for (var i = 0; i < nbb_cells.length; ++i) {\n                    if (nbb_cells[i].input_prompt_number == nbb_cell_id) {\n                        if (nbb_cells[i].get_text() == nbb_unformatted_code) {\n                             nbb_cells[i].set_text(nbb_formatted_code);\n                        }\n                        break;\n                    }\n                }\n            }, 500);\n            ",
      "text/plain": "<IPython.core.display.Javascript object>"
     },
     "metadata": {},
     "output_type": "display_data"
    }
   ],
   "execution_count": null
  },
  {
   "cell_type": "markdown",
   "source": "$\\lim_{x\\rightarrow \\infty} \\frac{1}{x^2}$",
   "metadata": {
    "cell_id": "00036-ff021d45-d5e0-4d65-870f-948ba4112da0",
    "deepnote_cell_type": "markdown"
   }
  },
  {
   "cell_type": "code",
   "metadata": {
    "ExecuteTime": {
     "end_time": "2021-07-02T10:55:24.826340Z",
     "start_time": "2021-07-02T10:55:24.818825Z"
    },
    "cell_id": "00037-60086f5d-cc7b-4f51-8dc0-b35d28d6b240",
    "deepnote_cell_type": "code"
   },
   "source": "limit(\n    1 / (x ** 2),\n    x,\n    oo,\n)",
   "outputs": [
    {
     "data": {
      "text/latex": "$\\displaystyle 0$",
      "text/plain": "0"
     },
     "execution_count": 27,
     "metadata": {},
     "output_type": "execute_result"
    },
    {
     "data": {
      "application/javascript": "\n            setTimeout(function() {\n                var nbb_cell_id = 27;\n                var nbb_unformatted_code = \"limit(\\n    1 / (x ** 2),\\n    x,\\n    oo,\\n)\";\n                var nbb_formatted_code = \"limit(\\n    1 / (x ** 2),\\n    x,\\n    oo,\\n)\";\n                var nbb_cells = Jupyter.notebook.get_cells();\n                for (var i = 0; i < nbb_cells.length; ++i) {\n                    if (nbb_cells[i].input_prompt_number == nbb_cell_id) {\n                        if (nbb_cells[i].get_text() == nbb_unformatted_code) {\n                             nbb_cells[i].set_text(nbb_formatted_code);\n                        }\n                        break;\n                    }\n                }\n            }, 500);\n            ",
      "text/plain": "<IPython.core.display.Javascript object>"
     },
     "metadata": {},
     "output_type": "display_data"
    }
   ],
   "execution_count": null
  },
  {
   "cell_type": "code",
   "metadata": {
    "ExecuteTime": {
     "end_time": "2021-07-02T10:55:24.835391Z",
     "start_time": "2021-07-02T10:55:24.827309Z"
    },
    "cell_id": "00038-5d9a0ff2-b014-4e3b-a517-c60176ab2dcf",
    "deepnote_cell_type": "code"
   },
   "source": "limit(\n    1 / (x ** 2),\n    x,\n    2,\n)",
   "outputs": [
    {
     "data": {
      "text/latex": "$\\displaystyle \\frac{1}{4}$",
      "text/plain": "1/4"
     },
     "execution_count": 28,
     "metadata": {},
     "output_type": "execute_result"
    },
    {
     "data": {
      "application/javascript": "\n            setTimeout(function() {\n                var nbb_cell_id = 28;\n                var nbb_unformatted_code = \"limit(\\n    1 / (x ** 2),\\n    x,\\n    2,\\n)\";\n                var nbb_formatted_code = \"limit(\\n    1 / (x ** 2),\\n    x,\\n    2,\\n)\";\n                var nbb_cells = Jupyter.notebook.get_cells();\n                for (var i = 0; i < nbb_cells.length; ++i) {\n                    if (nbb_cells[i].input_prompt_number == nbb_cell_id) {\n                        if (nbb_cells[i].get_text() == nbb_unformatted_code) {\n                             nbb_cells[i].set_text(nbb_formatted_code);\n                        }\n                        break;\n                    }\n                }\n            }, 500);\n            ",
      "text/plain": "<IPython.core.display.Javascript object>"
     },
     "metadata": {},
     "output_type": "display_data"
    }
   ],
   "execution_count": null
  },
  {
   "cell_type": "markdown",
   "source": "# Special Functions",
   "metadata": {
    "cell_id": "00039-820a3137-26a9-421a-acc9-28edc2dc19cb",
    "deepnote_cell_type": "markdown"
   }
  },
  {
   "cell_type": "code",
   "metadata": {
    "ExecuteTime": {
     "end_time": "2021-07-02T10:55:24.841497Z",
     "start_time": "2021-07-02T10:55:24.836587Z"
    },
    "cell_id": "00040-0c101f45-2182-4eab-bb4b-996d85864115",
    "deepnote_cell_type": "code"
   },
   "source": "factorial(x)",
   "outputs": [
    {
     "data": {
      "text/latex": "$\\displaystyle x!$",
      "text/plain": "factorial(x)"
     },
     "execution_count": 29,
     "metadata": {},
     "output_type": "execute_result"
    },
    {
     "data": {
      "application/javascript": "\n            setTimeout(function() {\n                var nbb_cell_id = 29;\n                var nbb_unformatted_code = \"factorial(x)\";\n                var nbb_formatted_code = \"factorial(x)\";\n                var nbb_cells = Jupyter.notebook.get_cells();\n                for (var i = 0; i < nbb_cells.length; ++i) {\n                    if (nbb_cells[i].input_prompt_number == nbb_cell_id) {\n                        if (nbb_cells[i].get_text() == nbb_unformatted_code) {\n                             nbb_cells[i].set_text(nbb_formatted_code);\n                        }\n                        break;\n                    }\n                }\n            }, 500);\n            ",
      "text/plain": "<IPython.core.display.Javascript object>"
     },
     "metadata": {},
     "output_type": "display_data"
    }
   ],
   "execution_count": null
  },
  {
   "cell_type": "code",
   "metadata": {
    "ExecuteTime": {
     "end_time": "2021-07-02T10:55:24.847642Z",
     "start_time": "2021-07-02T10:55:24.842711Z"
    },
    "cell_id": "00041-49b644c3-b6c9-44b0-a6c5-7ef7078ec6fe",
    "deepnote_cell_type": "code"
   },
   "source": "factorial(3)",
   "outputs": [
    {
     "data": {
      "text/latex": "$\\displaystyle 6$",
      "text/plain": "6"
     },
     "execution_count": 30,
     "metadata": {},
     "output_type": "execute_result"
    },
    {
     "data": {
      "application/javascript": "\n            setTimeout(function() {\n                var nbb_cell_id = 30;\n                var nbb_unformatted_code = \"factorial(3)\";\n                var nbb_formatted_code = \"factorial(3)\";\n                var nbb_cells = Jupyter.notebook.get_cells();\n                for (var i = 0; i < nbb_cells.length; ++i) {\n                    if (nbb_cells[i].input_prompt_number == nbb_cell_id) {\n                        if (nbb_cells[i].get_text() == nbb_unformatted_code) {\n                             nbb_cells[i].set_text(nbb_formatted_code);\n                        }\n                        break;\n                    }\n                }\n            }, 500);\n            ",
      "text/plain": "<IPython.core.display.Javascript object>"
     },
     "metadata": {},
     "output_type": "display_data"
    }
   ],
   "execution_count": null
  },
  {
   "cell_type": "code",
   "metadata": {
    "ExecuteTime": {
     "end_time": "2021-07-02T10:55:24.858656Z",
     "start_time": "2021-07-02T10:55:24.849132Z"
    },
    "cell_id": "00042-3b476c59-3b71-4f0d-9f2c-a446de76a13a",
    "deepnote_cell_type": "code"
   },
   "source": "tan(x).rewrite(cos)",
   "outputs": [
    {
     "data": {
      "text/latex": "$\\displaystyle \\frac{\\cos{\\left(x - \\frac{\\pi}{2} \\right)}}{\\cos{\\left(x \\right)}}$",
      "text/plain": "cos(x - pi/2)/cos(x)"
     },
     "execution_count": 31,
     "metadata": {},
     "output_type": "execute_result"
    },
    {
     "data": {
      "application/javascript": "\n            setTimeout(function() {\n                var nbb_cell_id = 31;\n                var nbb_unformatted_code = \"tan(x).rewrite(cos)\";\n                var nbb_formatted_code = \"tan(x).rewrite(cos)\";\n                var nbb_cells = Jupyter.notebook.get_cells();\n                for (var i = 0; i < nbb_cells.length; ++i) {\n                    if (nbb_cells[i].input_prompt_number == nbb_cell_id) {\n                        if (nbb_cells[i].get_text() == nbb_unformatted_code) {\n                             nbb_cells[i].set_text(nbb_formatted_code);\n                        }\n                        break;\n                    }\n                }\n            }, 500);\n            ",
      "text/plain": "<IPython.core.display.Javascript object>"
     },
     "metadata": {},
     "output_type": "display_data"
    }
   ],
   "execution_count": null
  },
  {
   "cell_type": "code",
   "metadata": {
    "ExecuteTime": {
     "end_time": "2021-07-02T10:55:24.865317Z",
     "start_time": "2021-07-02T10:55:24.859495Z"
    },
    "cell_id": "00043-ba6408b7-af83-4e4d-ba35-74736999591d",
    "deepnote_cell_type": "code"
   },
   "source": "exp = sympify(\"2*x + 3\")\nexp",
   "outputs": [
    {
     "data": {
      "text/latex": "$\\displaystyle 2 x + 3$",
      "text/plain": "2*x + 3"
     },
     "execution_count": 32,
     "metadata": {},
     "output_type": "execute_result"
    },
    {
     "data": {
      "application/javascript": "\n            setTimeout(function() {\n                var nbb_cell_id = 32;\n                var nbb_unformatted_code = \"exp = sympify(\\\"2*x + 3\\\")\\nexp\";\n                var nbb_formatted_code = \"exp = sympify(\\\"2*x + 3\\\")\\nexp\";\n                var nbb_cells = Jupyter.notebook.get_cells();\n                for (var i = 0; i < nbb_cells.length; ++i) {\n                    if (nbb_cells[i].input_prompt_number == nbb_cell_id) {\n                        if (nbb_cells[i].get_text() == nbb_unformatted_code) {\n                             nbb_cells[i].set_text(nbb_formatted_code);\n                        }\n                        break;\n                    }\n                }\n            }, 500);\n            ",
      "text/plain": "<IPython.core.display.Javascript object>"
     },
     "metadata": {},
     "output_type": "display_data"
    }
   ],
   "execution_count": null
  },
  {
   "cell_type": "markdown",
   "source": "# Print LaTex",
   "metadata": {
    "cell_id": "00044-af6b74ed-9ea2-477c-a474-7c36467456a0",
    "deepnote_cell_type": "markdown"
   }
  },
  {
   "cell_type": "code",
   "metadata": {
    "ExecuteTime": {
     "end_time": "2021-07-02T10:55:24.872722Z",
     "start_time": "2021-07-02T10:55:24.866368Z"
    },
    "cell_id": "00045-0ebbbd39-fe2a-4ff6-8669-b4b790886d22",
    "deepnote_cell_type": "code"
   },
   "source": "print(latex(integrate(res)))",
   "outputs": [
    {
     "name": "stdout",
     "output_type": "stream",
     "text": "2 x + \\sin^{2}{\\left(x \\right)}\n"
    },
    {
     "data": {
      "application/javascript": "\n            setTimeout(function() {\n                var nbb_cell_id = 33;\n                var nbb_unformatted_code = \"print(latex(integrate(res)))\";\n                var nbb_formatted_code = \"print(latex(integrate(res)))\";\n                var nbb_cells = Jupyter.notebook.get_cells();\n                for (var i = 0; i < nbb_cells.length; ++i) {\n                    if (nbb_cells[i].input_prompt_number == nbb_cell_id) {\n                        if (nbb_cells[i].get_text() == nbb_unformatted_code) {\n                             nbb_cells[i].set_text(nbb_formatted_code);\n                        }\n                        break;\n                    }\n                }\n            }, 500);\n            ",
      "text/plain": "<IPython.core.display.Javascript object>"
     },
     "metadata": {},
     "output_type": "display_data"
    }
   ],
   "execution_count": null
  },
  {
   "cell_type": "markdown",
   "source": "$2 x + \\sin^{2}{\\left(x \\right)}$",
   "metadata": {
    "cell_id": "00046-a95c9e87-d6a6-46d5-a668-3f0ca05c3807",
    "deepnote_cell_type": "markdown"
   }
  },
  {
   "cell_type": "markdown",
   "source": "<a style='text-decoration:none;line-height:16px;display:flex;color:#5B5B62;padding:10px;justify-content:end;' href='https://deepnote.com?utm_source=created-in-deepnote-cell&projectId=87197226-98be-42b2-8527-389082831299' target=\"_blank\">\n<img alt='Created in deepnote.com' style='display:inline;max-height:16px;margin:0px;margin-right:7.5px;' src='data:image/svg+xml;base64,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' > </img>\nCreated in <span style='font-weight:600;margin-left:4px;'>Deepnote</span></a>",
   "metadata": {
    "tags": [],
    "created_in_deepnote_cell": true,
    "deepnote_cell_type": "markdown"
   }
  }
 ],
 "nbformat": 4,
 "nbformat_minor": 5,
 "metadata": {
  "kernelspec": {
   "display_name": "Python 3",
   "language": "python",
   "name": "python3"
  },
  "language_info": {
   "codemirror_mode": {
    "name": "ipython",
    "version": 3
   },
   "file_extension": ".py",
   "mimetype": "text/x-python",
   "name": "python",
   "nbconvert_exporter": "python",
   "pygments_lexer": "ipython3",
   "version": "3.8.1"
  },
  "toc": {
   "base_numbering": 1,
   "nav_menu": {},
   "number_sections": true,
   "sideBar": true,
   "skip_h1_title": false,
   "title_cell": "Table of Contents",
   "title_sidebar": "Contents",
   "toc_cell": false,
   "toc_position": {},
   "toc_section_display": true,
   "toc_window_display": false
  },
  "deepnote_notebook_id": "c25b0646-7deb-4d62-8ecf-6fcb02da8d96",
  "deepnote": {},
  "deepnote_execution_queue": []
 }
}