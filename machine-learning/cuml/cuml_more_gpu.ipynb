{
 "cells": [
  {
   "cell_type": "code",
   "execution_count": 3,
   "metadata": {
    "ExecuteTime": {
     "end_time": "2020-11-01T20:53:12.018398Z",
     "start_time": "2020-11-01T20:53:12.000587Z"
    }
   },
   "outputs": [
    {
     "name": "stdout",
     "output_type": "stream",
     "text": [
      "0.15.0\n"
     ]
    }
   ],
   "source": [
    "import numpy as np \n",
    "import pandas as pd \n",
    "\n",
    "from sklearn import datasets\n",
    "from sklearn.model_selection import train_test_split\n",
    "from sklearn.preprocessing import StandardScaler\n",
    "from sklearn.linear_model import LogisticRegression, LinearRegression, Ridge\n",
    "from sklearn.ensemble import RandomForestClassifier\n",
    "from sklearn.svm import SVC \n",
    "from sklearn.neighbors import KNeighborsClassifier, KNeighborsRegressor\n",
    "from sklearn.datasets import make_moons\n",
    "\n",
    "from cuml.linear_model import (LogisticRegression as LogisticRegression_GPU,\n",
    "                               LinearRegression as LinearRegression_gpu,\n",
    "                              Ridge as Ridge_gpu)\n",
    "from cuml.svm import SVC as SVC_gpu\n",
    "from cuml.ensemble import RandomForestClassifier as RandomForestClassifier_gpu\n",
    "from cuml.neighbors import (KNeighborsClassifier as KNeighborsClassifier_gpu,\n",
    "                            KNeighborsRegressor as KNeighborsRegressor_gpu)\n",
    "\n",
    "from time import time\n",
    "from timeit import Timer, timeit\n",
    "\n",
    "import cutecharts.charts as ctc \n",
    "\n",
    "import warnings\n",
    "warnings.filterwarnings(\"ignore\")\n",
    "\n",
    "import cuml\n",
    "print(cuml.__version__)"
   ]
  },
  {
   "cell_type": "markdown",
   "metadata": {},
   "source": [
    "# Classification"
   ]
  },
  {
   "cell_type": "code",
   "execution_count": 4,
   "metadata": {
    "ExecuteTime": {
     "end_time": "2020-11-01T20:53:26.748071Z",
     "start_time": "2020-11-01T20:53:26.742367Z"
    }
   },
   "outputs": [],
   "source": [
    "models = []\n",
    "results_sklearn = []\n",
    "results_cuml = []"
   ]
  },
  {
   "cell_type": "code",
   "execution_count": 5,
   "metadata": {
    "ExecuteTime": {
     "end_time": "2020-11-01T20:53:27.313876Z",
     "start_time": "2020-11-01T20:53:27.198094Z"
    }
   },
   "outputs": [],
   "source": [
    "X, y  = datasets.make_classification(n_samples=40000)"
   ]
  },
  {
   "cell_type": "code",
   "execution_count": 6,
   "metadata": {
    "ExecuteTime": {
     "end_time": "2020-11-01T20:53:27.574889Z",
     "start_time": "2020-11-01T20:53:27.565648Z"
    }
   },
   "outputs": [],
   "source": [
    "X = X.astype(np.float32)\n",
    "y = y.astype(np.float32)"
   ]
  },
  {
   "cell_type": "code",
   "execution_count": 7,
   "metadata": {
    "ExecuteTime": {
     "end_time": "2020-11-01T20:53:27.981203Z",
     "start_time": "2020-11-01T20:53:27.974925Z"
    }
   },
   "outputs": [],
   "source": [
    "def train_data(model, X=X, y=y):\n",
    "    clf = model\n",
    "    clf.fit(X, y)"
   ]
  },
  {
   "cell_type": "code",
   "execution_count": 8,
   "metadata": {
    "ExecuteTime": {
     "end_time": "2020-11-01T20:53:29.671531Z",
     "start_time": "2020-11-01T20:53:29.663180Z"
    }
   },
   "outputs": [],
   "source": [
    "def plot(sklearn_time, cuml_time):\n",
    "\n",
    "    chart = ctc.Bar('Sklearn vs cuml')\n",
    "    chart.set_options(\n",
    "        labels=['sklearn', 'cuml'],\n",
    "        x_label='library',\n",
    "        y_label='time (s)',\n",
    "        )\n",
    "\n",
    "    chart.add_series('time', data=[round(sklearn_time.average,2), round(cuml_time.average,2)])\n",
    "    return chart\n",
    "#     chart.render_notebook()\n"
   ]
  },
  {
   "cell_type": "markdown",
   "metadata": {},
   "source": [
    "## SVC"
   ]
  },
  {
   "cell_type": "code",
   "execution_count": 9,
   "metadata": {
    "ExecuteTime": {
     "end_time": "2020-11-01T18:29:25.587646Z",
     "start_time": "2020-11-01T18:24:38.566117Z"
    }
   },
   "outputs": [
    {
     "name": "stdout",
     "output_type": "stream",
     "text": [
      "35.8 s ± 200 ms per loop (mean ± std. dev. of 7 runs, 1 loop each)\n"
     ]
    }
   ],
   "source": [
    "clf_svc = SVC(kernel='poly', degree=2, gamma='auto', C=1)\n",
    "sklearn_time_svc = %timeit -o train_data(clf_svc)"
   ]
  },
  {
   "cell_type": "code",
   "execution_count": 10,
   "metadata": {
    "ExecuteTime": {
     "end_time": "2020-11-01T18:29:42.637767Z",
     "start_time": "2020-11-01T18:29:25.588905Z"
    }
   },
   "outputs": [
    {
     "name": "stdout",
     "output_type": "stream",
     "text": [
      "2 s ± 6.34 ms per loop (mean ± std. dev. of 7 runs, 1 loop each)\n"
     ]
    }
   ],
   "source": [
    "clf_svc = SVC_gpu(kernel='poly', degree=2, gamma='auto', C=1)\n",
    "cuml_time_svc = %timeit -o train_data(clf_svc)"
   ]
  },
  {
   "cell_type": "code",
   "execution_count": 11,
   "metadata": {
    "ExecuteTime": {
     "end_time": "2020-11-01T18:29:42.642422Z",
     "start_time": "2020-11-01T18:29:42.639449Z"
    }
   },
   "outputs": [
    {
     "name": "stdout",
     "output_type": "stream",
     "text": [
      "Average time of sklearn's SVC 35.791008955999914 s\n",
      "Average time of cuml's SVC 1.9953700327142931 s\n",
      "Ratio between sklearn and cuml is 17.93702840535976\n"
     ]
    }
   ],
   "source": [
    "print(f\"\"\"Average time of sklearn's {clf_svc.__class__.__name__}\"\"\", sklearn_time_svc.average, 's')\n",
    "print(f\"\"\"Average time of cuml's {clf_svc.__class__.__name__}\"\"\", cuml_time_svc.average, 's')\n",
    "\n",
    "print('Ratio between sklearn and cuml is', sklearn_time_svc.average/cuml_time_svc.average)"
   ]
  },
  {
   "cell_type": "code",
   "execution_count": 83,
   "metadata": {
    "ExecuteTime": {
     "end_time": "2020-11-01T20:01:18.000449Z",
     "start_time": "2020-11-01T20:01:17.992162Z"
    }
   },
   "outputs": [
    {
     "data": {
      "text/plain": [
       "9.828501034986914"
      ]
     },
     "execution_count": 83,
     "metadata": {},
     "output_type": "execute_result"
    }
   ],
   "source": [
    "19.611496431714304/1.9953700327142931"
   ]
  },
  {
   "cell_type": "code",
   "execution_count": 14,
   "metadata": {
    "ExecuteTime": {
     "end_time": "2020-11-01T18:29:58.675297Z",
     "start_time": "2020-11-01T18:29:58.663067Z"
    }
   },
   "outputs": [
    {
     "data": {
      "text/html": [
       "\n",
       "<script>\n",
       "    require.config({\n",
       "        paths: {\n",
       "            'chartXkcd':'https://cdn.jsdelivr.net/npm/chart.xkcd@1.1/dist/chart.xkcd.min'\n",
       "        }\n",
       "    });\n",
       "</script>\n",
       "\n",
       "<div id=\"3aa553904e0e4a318094d0fd42dd129b\" class=\"chart-container\" style=\"width: 800px\">\n",
       "        <svg id=\"chart_3aa553904e0e4a318094d0fd42dd129b\"></svg>\n",
       "    </div>\n",
       "    <script>\n",
       "        require(['chartXkcd'], function(chartXkcd) {\n",
       "            const svg_3aa553904e0e4a318094d0fd42dd129b = document.querySelector('#chart_3aa553904e0e4a318094d0fd42dd129b')\n",
       "            const chart_3aa553904e0e4a318094d0fd42dd129b = new chartXkcd.Bar(svg_3aa553904e0e4a318094d0fd42dd129b, {\"title\": \"Sklearn vs cuml\", \"data\": {\"datasets\": [{\"label\": \"time\", \"data\": [35.79, 2.0]}], \"labels\": [\"sklearn\", \"cuml\"]}, \"xLabel\": \"library\", \"yLabel\": \"time (s)\", \"options\": {\"yTickCount\": 3}});\n",
       "        })\n",
       "    </script>\n"
      ],
      "text/plain": [
       "<cutecharts.render.engine.HTML at 0x7fe3b1685710>"
      ]
     },
     "execution_count": 14,
     "metadata": {},
     "output_type": "execute_result"
    }
   ],
   "source": [
    "plot(sklearn_time_svc, cuml_time_svc).render_notebook()"
   ]
  },
  {
   "cell_type": "code",
   "execution_count": 45,
   "metadata": {
    "ExecuteTime": {
     "end_time": "2020-11-01T18:35:50.865747Z",
     "start_time": "2020-11-01T18:35:50.863638Z"
    }
   },
   "outputs": [],
   "source": [
    "models.append(clf_svc.__class__.__name__)\n",
    "results_sklearn.append(round(sklearn_time_svc.average,3))\n",
    "results_cuml.append(round(cuml_time_svc.average,3))"
   ]
  },
  {
   "cell_type": "markdown",
   "metadata": {},
   "source": [
    "## Random Forest Classifier"
   ]
  },
  {
   "cell_type": "code",
   "execution_count": 16,
   "metadata": {
    "ExecuteTime": {
     "end_time": "2020-11-01T18:33:14.930579Z",
     "start_time": "2020-11-01T18:30:02.666831Z"
    }
   },
   "outputs": [
    {
     "name": "stdout",
     "output_type": "stream",
     "text": [
      "24 s ± 88.8 ms per loop (mean ± std. dev. of 7 runs, 1 loop each)\n"
     ]
    }
   ],
   "source": [
    "clf_rf = RandomForestClassifier(max_features=1.0,\n",
    "#                    n_bins=8,\n",
    "                   n_estimators=40)\n",
    "sklearn_time_rf = %timeit -o train_data(clf_rf)"
   ]
  },
  {
   "cell_type": "code",
   "execution_count": 17,
   "metadata": {
    "ExecuteTime": {
     "end_time": "2020-11-01T18:33:27.165346Z",
     "start_time": "2020-11-01T18:33:14.931816Z"
    }
   },
   "outputs": [
    {
     "name": "stdout",
     "output_type": "stream",
     "text": [
      "151 ms ± 8.06 ms per loop (mean ± std. dev. of 7 runs, 10 loops each)\n"
     ]
    }
   ],
   "source": [
    "clf_rf = RandomForestClassifier_gpu(max_features=1.0,\n",
    "#                    n_bins=8,\n",
    "                   n_estimators=40)\n",
    "cuml_time_rf = %timeit -o train_data(clf_rf)"
   ]
  },
  {
   "cell_type": "code",
   "execution_count": 18,
   "metadata": {
    "ExecuteTime": {
     "end_time": "2020-11-01T18:33:27.169171Z",
     "start_time": "2020-11-01T18:33:27.166498Z"
    }
   },
   "outputs": [
    {
     "name": "stdout",
     "output_type": "stream",
     "text": [
      "Average time of sklearn's RandomForestClassifier 24.006061030143037 s\n",
      "Average time of cuml's RandomForestClassifier 0.15141178591425808 s\n",
      "Ratio between sklearn and cuml is 158.54816641379068\n"
     ]
    }
   ],
   "source": [
    "print(f\"\"\"Average time of sklearn's {clf_rf.__class__.__name__}\"\"\", sklearn_time_rf.average, 's')\n",
    "print(f\"\"\"Average time of cuml's {clf_rf.__class__.__name__}\"\"\", cuml_time_rf.average, 's')\n",
    "\n",
    "print('Ratio between sklearn and cuml is', sklearn_time_rf.average/cuml_time_rf.average)"
   ]
  },
  {
   "cell_type": "code",
   "execution_count": 19,
   "metadata": {
    "ExecuteTime": {
     "end_time": "2020-11-01T18:33:27.174338Z",
     "start_time": "2020-11-01T18:33:27.170039Z"
    }
   },
   "outputs": [
    {
     "data": {
      "text/html": [
       "\n",
       "<script>\n",
       "    require.config({\n",
       "        paths: {\n",
       "            'chartXkcd':'https://cdn.jsdelivr.net/npm/chart.xkcd@1.1/dist/chart.xkcd.min'\n",
       "        }\n",
       "    });\n",
       "</script>\n",
       "\n",
       "<div id=\"82ee1d340510473f8ee34020ac1770ae\" class=\"chart-container\" style=\"width: 800px\">\n",
       "        <svg id=\"chart_82ee1d340510473f8ee34020ac1770ae\"></svg>\n",
       "    </div>\n",
       "    <script>\n",
       "        require(['chartXkcd'], function(chartXkcd) {\n",
       "            const svg_82ee1d340510473f8ee34020ac1770ae = document.querySelector('#chart_82ee1d340510473f8ee34020ac1770ae')\n",
       "            const chart_82ee1d340510473f8ee34020ac1770ae = new chartXkcd.Bar(svg_82ee1d340510473f8ee34020ac1770ae, {\"title\": \"Sklearn vs cuml\", \"data\": {\"datasets\": [{\"label\": \"time\", \"data\": [24.01, 0.15]}], \"labels\": [\"sklearn\", \"cuml\"]}, \"xLabel\": \"library\", \"yLabel\": \"time (s)\", \"options\": {\"yTickCount\": 3}});\n",
       "        })\n",
       "    </script>\n"
      ],
      "text/plain": [
       "<cutecharts.render.engine.HTML at 0x7fe3b6e79b90>"
      ]
     },
     "execution_count": 19,
     "metadata": {},
     "output_type": "execute_result"
    }
   ],
   "source": [
    "plot(sklearn_time_rf, cuml_time_rf).render_notebook()"
   ]
  },
  {
   "cell_type": "code",
   "execution_count": 46,
   "metadata": {
    "ExecuteTime": {
     "end_time": "2020-11-01T18:35:53.374492Z",
     "start_time": "2020-11-01T18:35:53.368666Z"
    }
   },
   "outputs": [],
   "source": [
    "models.append(clf_rf.__class__.__name__)\n",
    "results_sklearn.append(round(sklearn_time_rf.average,3))\n",
    "results_cuml.append(round(cuml_time_rf.average,3))"
   ]
  },
  {
   "cell_type": "markdown",
   "metadata": {},
   "source": [
    "## Nearest Neighbors Classifier"
   ]
  },
  {
   "cell_type": "code",
   "execution_count": 20,
   "metadata": {
    "ExecuteTime": {
     "end_time": "2020-11-01T18:33:33.271222Z",
     "start_time": "2020-11-01T18:33:27.175563Z"
    }
   },
   "outputs": [
    {
     "name": "stdout",
     "output_type": "stream",
     "text": [
      "75.1 ms ± 128 µs per loop (mean ± std. dev. of 7 runs, 10 loops each)\n"
     ]
    }
   ],
   "source": [
    "clf_nn = KNeighborsClassifier(n_neighbors=10)\n",
    "sklearn_time_nn = %timeit -o train_data(clf_nn)"
   ]
  },
  {
   "cell_type": "code",
   "execution_count": 21,
   "metadata": {
    "ExecuteTime": {
     "end_time": "2020-11-01T18:33:45.662975Z",
     "start_time": "2020-11-01T18:33:33.272541Z"
    }
   },
   "outputs": [
    {
     "name": "stdout",
     "output_type": "stream",
     "text": [
      "1.51 ms ± 8.89 µs per loop (mean ± std. dev. of 7 runs, 1000 loops each)\n"
     ]
    }
   ],
   "source": [
    "clf_nn = KNeighborsClassifier_gpu(n_neighbors=10)\n",
    "cuml_time_nn = %timeit -o train_data(clf_nn)"
   ]
  },
  {
   "cell_type": "code",
   "execution_count": 22,
   "metadata": {
    "ExecuteTime": {
     "end_time": "2020-11-01T18:33:45.667208Z",
     "start_time": "2020-11-01T18:33:45.664036Z"
    }
   },
   "outputs": [
    {
     "name": "stdout",
     "output_type": "stream",
     "text": [
      "Average time of sklearn's KNeighborsClassifier 0.07511190322854547 s\n",
      "Average time of cuml's KNeighborsClassifier 0.0015137992111426033 s\n",
      "Ratio between sklearn and cuml is 49.618141346401956\n"
     ]
    }
   ],
   "source": [
    "print(f\"\"\"Average time of sklearn's {clf_nn.__class__.__name__}\"\"\", sklearn_time_nn.average, 's')\n",
    "print(f\"\"\"Average time of cuml's {clf_nn.__class__.__name__}\"\"\", cuml_time_nn.average, 's')\n",
    "\n",
    "print('Ratio between sklearn and cuml is', sklearn_time_nn.average/cuml_time_nn.average)"
   ]
  },
  {
   "cell_type": "code",
   "execution_count": 23,
   "metadata": {
    "ExecuteTime": {
     "end_time": "2020-11-01T18:33:45.674137Z",
     "start_time": "2020-11-01T18:33:45.669539Z"
    }
   },
   "outputs": [
    {
     "data": {
      "text/html": [
       "\n",
       "<script>\n",
       "    require.config({\n",
       "        paths: {\n",
       "            'chartXkcd':'https://cdn.jsdelivr.net/npm/chart.xkcd@1.1/dist/chart.xkcd.min'\n",
       "        }\n",
       "    });\n",
       "</script>\n",
       "\n",
       "<div id=\"3fb3280d5c014beba107d7ecf639f15a\" class=\"chart-container\" style=\"width: 800px\">\n",
       "        <svg id=\"chart_3fb3280d5c014beba107d7ecf639f15a\"></svg>\n",
       "    </div>\n",
       "    <script>\n",
       "        require(['chartXkcd'], function(chartXkcd) {\n",
       "            const svg_3fb3280d5c014beba107d7ecf639f15a = document.querySelector('#chart_3fb3280d5c014beba107d7ecf639f15a')\n",
       "            const chart_3fb3280d5c014beba107d7ecf639f15a = new chartXkcd.Bar(svg_3fb3280d5c014beba107d7ecf639f15a, {\"title\": \"Sklearn vs cuml\", \"data\": {\"datasets\": [{\"label\": \"time\", \"data\": [0.08, 0.0]}], \"labels\": [\"sklearn\", \"cuml\"]}, \"xLabel\": \"library\", \"yLabel\": \"time (s)\", \"options\": {\"yTickCount\": 3}});\n",
       "        })\n",
       "    </script>\n"
      ],
      "text/plain": [
       "<cutecharts.render.engine.HTML at 0x7fe3b1e6e590>"
      ]
     },
     "execution_count": 23,
     "metadata": {},
     "output_type": "execute_result"
    }
   ],
   "source": [
    "plot(sklearn_time_nn, cuml_time_nn).render_notebook()"
   ]
  },
  {
   "cell_type": "code",
   "execution_count": 47,
   "metadata": {
    "ExecuteTime": {
     "end_time": "2020-11-01T18:35:57.496229Z",
     "start_time": "2020-11-01T18:35:57.490458Z"
    }
   },
   "outputs": [],
   "source": [
    "models.append(clf_nn.__class__.__name__)\n",
    "results_sklearn.append(round(sklearn_time_nn.average,3))\n",
    "results_cuml.append(round(cuml_time_nn.average,3))"
   ]
  },
  {
   "cell_type": "markdown",
   "metadata": {},
   "source": [
    "# Make Regression"
   ]
  },
  {
   "cell_type": "code",
   "execution_count": 25,
   "metadata": {
    "ExecuteTime": {
     "end_time": "2020-11-01T18:33:45.819255Z",
     "start_time": "2020-11-01T18:33:45.679857Z"
    }
   },
   "outputs": [],
   "source": [
    "X, y  = datasets.make_regression(n_samples=40000)"
   ]
  },
  {
   "cell_type": "markdown",
   "metadata": {},
   "source": [
    "## Linear Regression"
   ]
  },
  {
   "cell_type": "code",
   "execution_count": 26,
   "metadata": {
    "ExecuteTime": {
     "end_time": "2020-11-01T18:33:50.925577Z",
     "start_time": "2020-11-01T18:33:45.820530Z"
    }
   },
   "outputs": [
    {
     "name": "stdout",
     "output_type": "stream",
     "text": [
      "6.26 ms ± 46.6 µs per loop (mean ± std. dev. of 7 runs, 100 loops each)\n"
     ]
    }
   ],
   "source": [
    "lr = LinearRegression(fit_intercept = True, normalize = False,)\n",
    "sklearn_time_lr = %timeit -o train_data(lr)"
   ]
  },
  {
   "cell_type": "code",
   "execution_count": 27,
   "metadata": {
    "ExecuteTime": {
     "end_time": "2020-11-01T18:34:04.323991Z",
     "start_time": "2020-11-01T18:33:50.926763Z"
    }
   },
   "outputs": [
    {
     "name": "stdout",
     "output_type": "stream",
     "text": [
      "1.62 ms ± 5.25 µs per loop (mean ± std. dev. of 7 runs, 1000 loops each)\n"
     ]
    }
   ],
   "source": [
    "lr = LinearRegression_gpu(fit_intercept = True, normalize = False,)\n",
    "cuml_time_lr = %timeit -o train_data(lr)"
   ]
  },
  {
   "cell_type": "code",
   "execution_count": 28,
   "metadata": {
    "ExecuteTime": {
     "end_time": "2020-11-01T18:34:04.327974Z",
     "start_time": "2020-11-01T18:34:04.325186Z"
    }
   },
   "outputs": [
    {
     "name": "stdout",
     "output_type": "stream",
     "text": [
      "Average time of sklearn's LinearRegression 0.006258117452855783 s\n",
      "Average time of cuml's LinearRegression 0.001624685743714768 s\n",
      "Ratio between sklearn and cuml is 3.8518941137175795\n"
     ]
    }
   ],
   "source": [
    "print(f\"\"\"Average time of sklearn's {lr.__class__.__name__}\"\"\", sklearn_time_lr.average, 's')\n",
    "print(f\"\"\"Average time of cuml's {lr.__class__.__name__}\"\"\", cuml_time_lr.average, 's')\n",
    "\n",
    "print('Ratio between sklearn and cuml is', sklearn_time_lr.average/cuml_time_lr.average)"
   ]
  },
  {
   "cell_type": "code",
   "execution_count": 29,
   "metadata": {
    "ExecuteTime": {
     "end_time": "2020-11-01T18:34:04.332782Z",
     "start_time": "2020-11-01T18:34:04.328807Z"
    }
   },
   "outputs": [
    {
     "data": {
      "text/html": [
       "\n",
       "<script>\n",
       "    require.config({\n",
       "        paths: {\n",
       "            'chartXkcd':'https://cdn.jsdelivr.net/npm/chart.xkcd@1.1/dist/chart.xkcd.min'\n",
       "        }\n",
       "    });\n",
       "</script>\n",
       "\n",
       "<div id=\"ebbd91c2dd7242e59a6c75743b839762\" class=\"chart-container\" style=\"width: 800px\">\n",
       "        <svg id=\"chart_ebbd91c2dd7242e59a6c75743b839762\"></svg>\n",
       "    </div>\n",
       "    <script>\n",
       "        require(['chartXkcd'], function(chartXkcd) {\n",
       "            const svg_ebbd91c2dd7242e59a6c75743b839762 = document.querySelector('#chart_ebbd91c2dd7242e59a6c75743b839762')\n",
       "            const chart_ebbd91c2dd7242e59a6c75743b839762 = new chartXkcd.Bar(svg_ebbd91c2dd7242e59a6c75743b839762, {\"title\": \"Sklearn vs cuml\", \"data\": {\"datasets\": [{\"label\": \"time\", \"data\": [0.01, 0.0]}], \"labels\": [\"sklearn\", \"cuml\"]}, \"xLabel\": \"library\", \"yLabel\": \"time (s)\", \"options\": {\"yTickCount\": 3}});\n",
       "        })\n",
       "    </script>\n"
      ],
      "text/plain": [
       "<cutecharts.render.engine.HTML at 0x7fe3b1dadd10>"
      ]
     },
     "execution_count": 29,
     "metadata": {},
     "output_type": "execute_result"
    }
   ],
   "source": [
    "plot(sklearn_time_lr, cuml_time_lr).render_notebook()"
   ]
  },
  {
   "cell_type": "code",
   "execution_count": 48,
   "metadata": {
    "ExecuteTime": {
     "end_time": "2020-11-01T18:36:18.998836Z",
     "start_time": "2020-11-01T18:36:18.995476Z"
    }
   },
   "outputs": [],
   "source": [
    "models.append(lr.__class__.__name__)\n",
    "results_sklearn.append(round(sklearn_time_lr.average,3))\n",
    "results_cuml.append(round(cuml_time_lr.average,3))"
   ]
  },
  {
   "cell_type": "markdown",
   "metadata": {},
   "source": [
    "## Ridge Regresion"
   ]
  },
  {
   "cell_type": "code",
   "execution_count": 9,
   "metadata": {
    "ExecuteTime": {
     "end_time": "2020-11-01T20:53:45.689410Z",
     "start_time": "2020-11-01T20:53:45.112594Z"
    }
   },
   "outputs": [
    {
     "name": "stdout",
     "output_type": "stream",
     "text": [
      "4.33 ms ± 466 µs per loop (mean ± std. dev. of 7 runs, 10 loops each)\n"
     ]
    }
   ],
   "source": [
    "alpha = np.array([1e-5])\n",
    "\n",
    "ridge = Ridge(alpha = alpha, fit_intercept = True, normalize = False)\n",
    "sklearn_time_ridge = %timeit -o train_data(ridge)"
   ]
  },
  {
   "cell_type": "code",
   "execution_count": 31,
   "metadata": {
    "ExecuteTime": {
     "end_time": "2020-11-01T18:34:09.913750Z",
     "start_time": "2020-11-01T18:34:08.475491Z"
    }
   },
   "outputs": [
    {
     "name": "stdout",
     "output_type": "stream",
     "text": [
      "1.68 ms ± 42.4 µs per loop (mean ± std. dev. of 7 runs, 100 loops each)\n"
     ]
    }
   ],
   "source": [
    "ridge = Ridge_gpu(alpha = alpha, fit_intercept = True, normalize = False)\n",
    "cuml_time_ridge = %timeit -o train_data(ridge)"
   ]
  },
  {
   "cell_type": "code",
   "execution_count": 32,
   "metadata": {
    "ExecuteTime": {
     "end_time": "2020-11-01T18:34:09.918040Z",
     "start_time": "2020-11-01T18:34:09.914676Z"
    }
   },
   "outputs": [
    {
     "name": "stdout",
     "output_type": "stream",
     "text": [
      "Average time of sklearn's Ridge 0.0050736307028585404 s\n",
      "Average time of cuml's Ridge 0.0016766798014292103 s\n",
      "Ratio between sklearn and cuml is 3.02599858275489\n"
     ]
    }
   ],
   "source": [
    "print(f\"\"\"Average time of sklearn's {ridge.__class__.__name__}\"\"\", sklearn_time_ridge.average, 's')\n",
    "print(f\"\"\"Average time of cuml's {ridge.__class__.__name__}\"\"\", cuml_time_ridge.average, 's')\n",
    "\n",
    "print('Ratio between sklearn and cuml is', sklearn_time_ridge.average/cuml_time_ridge.average)"
   ]
  },
  {
   "cell_type": "code",
   "execution_count": 33,
   "metadata": {
    "ExecuteTime": {
     "end_time": "2020-11-01T18:34:09.924912Z",
     "start_time": "2020-11-01T18:34:09.918862Z"
    }
   },
   "outputs": [
    {
     "data": {
      "text/html": [
       "\n",
       "<script>\n",
       "    require.config({\n",
       "        paths: {\n",
       "            'chartXkcd':'https://cdn.jsdelivr.net/npm/chart.xkcd@1.1/dist/chart.xkcd.min'\n",
       "        }\n",
       "    });\n",
       "</script>\n",
       "\n",
       "<div id=\"c6c57cd9b5364e14854e3d3f5fdc1be4\" class=\"chart-container\" style=\"width: 800px\">\n",
       "        <svg id=\"chart_c6c57cd9b5364e14854e3d3f5fdc1be4\"></svg>\n",
       "    </div>\n",
       "    <script>\n",
       "        require(['chartXkcd'], function(chartXkcd) {\n",
       "            const svg_c6c57cd9b5364e14854e3d3f5fdc1be4 = document.querySelector('#chart_c6c57cd9b5364e14854e3d3f5fdc1be4')\n",
       "            const chart_c6c57cd9b5364e14854e3d3f5fdc1be4 = new chartXkcd.Bar(svg_c6c57cd9b5364e14854e3d3f5fdc1be4, {\"title\": \"Sklearn vs cuml\", \"data\": {\"datasets\": [{\"label\": \"time\", \"data\": [0.01, 0.0]}], \"labels\": [\"sklearn\", \"cuml\"]}, \"xLabel\": \"library\", \"yLabel\": \"time (s)\", \"options\": {\"yTickCount\": 3}});\n",
       "        })\n",
       "    </script>\n"
      ],
      "text/plain": [
       "<cutecharts.render.engine.HTML at 0x7fe3b1dc1a50>"
      ]
     },
     "execution_count": 33,
     "metadata": {},
     "output_type": "execute_result"
    }
   ],
   "source": [
    "plot(sklearn_time_ridge, cuml_time_ridge).render_notebook()"
   ]
  },
  {
   "cell_type": "code",
   "execution_count": 49,
   "metadata": {
    "ExecuteTime": {
     "end_time": "2020-11-01T18:36:44.835679Z",
     "start_time": "2020-11-01T18:36:44.829148Z"
    }
   },
   "outputs": [],
   "source": [
    "models.append(ridge.__class__.__name__)\n",
    "results_sklearn.append(round(sklearn_time_ridge.average,3))\n",
    "results_cuml.append(round(cuml_time_ridge.average,3))"
   ]
  },
  {
   "cell_type": "markdown",
   "metadata": {},
   "source": [
    "## Nearest Neighbors Regression\n"
   ]
  },
  {
   "cell_type": "code",
   "execution_count": 34,
   "metadata": {
    "ExecuteTime": {
     "end_time": "2020-11-01T18:34:15.577420Z",
     "start_time": "2020-11-01T18:34:09.926170Z"
    }
   },
   "outputs": [
    {
     "name": "stdout",
     "output_type": "stream",
     "text": [
      "69.4 ms ± 1.7 ms per loop (mean ± std. dev. of 7 runs, 10 loops each)\n"
     ]
    }
   ],
   "source": [
    "X, y = datasets.make_blobs(n_samples=4000, centers=5,\n",
    "                  n_features=10)\n",
    "\n",
    "knn = KNeighborsRegressor(n_neighbors=10)\n",
    "\n",
    "sklearn_time_knn = %timeit -o train_data(knn)"
   ]
  },
  {
   "cell_type": "code",
   "execution_count": 35,
   "metadata": {
    "ExecuteTime": {
     "end_time": "2020-11-01T18:34:23.487757Z",
     "start_time": "2020-11-01T18:34:15.578457Z"
    }
   },
   "outputs": [
    {
     "name": "stdout",
     "output_type": "stream",
     "text": [
      "965 µs ± 6.06 µs per loop (mean ± std. dev. of 7 runs, 1000 loops each)\n"
     ]
    }
   ],
   "source": [
    "knn = KNeighborsRegressor_gpu(n_neighbors=10)\n",
    "\n",
    "cuml_time_knn = %timeit -o train_data(knn)"
   ]
  },
  {
   "cell_type": "code",
   "execution_count": 36,
   "metadata": {
    "ExecuteTime": {
     "end_time": "2020-11-01T18:34:23.491797Z",
     "start_time": "2020-11-01T18:34:23.488809Z"
    }
   },
   "outputs": [
    {
     "data": {
      "text/html": [
       "\n",
       "<script>\n",
       "    require.config({\n",
       "        paths: {\n",
       "            'chartXkcd':'https://cdn.jsdelivr.net/npm/chart.xkcd@1.1/dist/chart.xkcd.min'\n",
       "        }\n",
       "    });\n",
       "</script>\n",
       "\n",
       "<div id=\"e642611050d7434280b25865ca2901c5\" class=\"chart-container\" style=\"width: 800px\">\n",
       "        <svg id=\"chart_e642611050d7434280b25865ca2901c5\"></svg>\n",
       "    </div>\n",
       "    <script>\n",
       "        require(['chartXkcd'], function(chartXkcd) {\n",
       "            const svg_e642611050d7434280b25865ca2901c5 = document.querySelector('#chart_e642611050d7434280b25865ca2901c5')\n",
       "            const chart_e642611050d7434280b25865ca2901c5 = new chartXkcd.Bar(svg_e642611050d7434280b25865ca2901c5, {\"title\": \"Sklearn vs cuml\", \"data\": {\"datasets\": [{\"label\": \"time\", \"data\": [0.07, 0.0]}], \"labels\": [\"sklearn\", \"cuml\"]}, \"xLabel\": \"library\", \"yLabel\": \"time (s)\", \"options\": {\"yTickCount\": 3}});\n",
       "        })\n",
       "    </script>\n"
      ],
      "text/plain": [
       "<cutecharts.render.engine.HTML at 0x7fe3b1bceed0>"
      ]
     },
     "execution_count": 36,
     "metadata": {},
     "output_type": "execute_result"
    }
   ],
   "source": [
    "plot(sklearn_time_knn, cuml_time_knn).render_notebook()"
   ]
  },
  {
   "cell_type": "code",
   "execution_count": 50,
   "metadata": {
    "ExecuteTime": {
     "end_time": "2020-11-01T18:36:50.108652Z",
     "start_time": "2020-11-01T18:36:50.105694Z"
    }
   },
   "outputs": [],
   "source": [
    "models.append(knn.__class__.__name__)\n",
    "results_sklearn.append(round(sklearn_time_knn.average,3))\n",
    "results_cuml.append(round(cuml_time_knn.average,3))"
   ]
  },
  {
   "cell_type": "markdown",
   "metadata": {},
   "source": [
    "# Comparison table"
   ]
  },
  {
   "cell_type": "code",
   "execution_count": 60,
   "metadata": {
    "ExecuteTime": {
     "end_time": "2020-11-01T19:39:42.380743Z",
     "start_time": "2020-11-01T19:39:42.374700Z"
    }
   },
   "outputs": [],
   "source": [
    "import datapane as dp \n",
    "import pickle5 as pickle "
   ]
  },
  {
   "cell_type": "code",
   "execution_count": 76,
   "metadata": {
    "ExecuteTime": {
     "end_time": "2020-11-01T19:46:04.621214Z",
     "start_time": "2020-11-01T19:46:04.613535Z"
    }
   },
   "outputs": [],
   "source": [
    "comparison_table_more_gpu = pd.DataFrame({'sklearn(s)': results_sklearn,\n",
    "             'cuml(s)': results_cuml},\n",
    "            index=models)"
   ]
  },
  {
   "cell_type": "code",
   "execution_count": 78,
   "metadata": {
    "ExecuteTime": {
     "end_time": "2020-11-01T19:46:11.121520Z",
     "start_time": "2020-11-01T19:46:11.111235Z"
    }
   },
   "outputs": [],
   "source": [
    "comparison_table_more_gpu['sklearn/cuml'] = comparison_table_more_gpu.apply(lambda row: row['sklearn(s)']/ row['cuml(s)'], axis=1)"
   ]
  },
  {
   "cell_type": "code",
   "execution_count": 79,
   "metadata": {
    "ExecuteTime": {
     "end_time": "2020-11-01T19:46:11.675802Z",
     "start_time": "2020-11-01T19:46:11.655787Z"
    }
   },
   "outputs": [
    {
     "data": {
      "text/html": [
       "<div>\n",
       "<style scoped>\n",
       "    .dataframe tbody tr th:only-of-type {\n",
       "        vertical-align: middle;\n",
       "    }\n",
       "\n",
       "    .dataframe tbody tr th {\n",
       "        vertical-align: top;\n",
       "    }\n",
       "\n",
       "    .dataframe thead th {\n",
       "        text-align: right;\n",
       "    }\n",
       "</style>\n",
       "<table border=\"1\" class=\"dataframe\">\n",
       "  <thead>\n",
       "    <tr style=\"text-align: right;\">\n",
       "      <th></th>\n",
       "      <th>sklearn(s)</th>\n",
       "      <th>cuml(s)</th>\n",
       "      <th>sklearn/cuml</th>\n",
       "    </tr>\n",
       "  </thead>\n",
       "  <tbody>\n",
       "    <tr>\n",
       "      <th>SVC</th>\n",
       "      <td>35.791</td>\n",
       "      <td>1.995</td>\n",
       "      <td>17.940351</td>\n",
       "    </tr>\n",
       "    <tr>\n",
       "      <th>RandomForestClassifier</th>\n",
       "      <td>24.006</td>\n",
       "      <td>0.151</td>\n",
       "      <td>158.980132</td>\n",
       "    </tr>\n",
       "    <tr>\n",
       "      <th>KNeighborsClassifier</th>\n",
       "      <td>0.075</td>\n",
       "      <td>0.002</td>\n",
       "      <td>37.500000</td>\n",
       "    </tr>\n",
       "    <tr>\n",
       "      <th>LinearRegression</th>\n",
       "      <td>0.006</td>\n",
       "      <td>0.002</td>\n",
       "      <td>3.000000</td>\n",
       "    </tr>\n",
       "    <tr>\n",
       "      <th>Ridge</th>\n",
       "      <td>0.005</td>\n",
       "      <td>0.002</td>\n",
       "      <td>2.500000</td>\n",
       "    </tr>\n",
       "    <tr>\n",
       "      <th>KNeighborsRegressor</th>\n",
       "      <td>0.069</td>\n",
       "      <td>0.001</td>\n",
       "      <td>69.000000</td>\n",
       "    </tr>\n",
       "  </tbody>\n",
       "</table>\n",
       "</div>"
      ],
      "text/plain": [
       "                        sklearn(s)  cuml(s)  sklearn/cuml\n",
       "SVC                         35.791    1.995     17.940351\n",
       "RandomForestClassifier      24.006    0.151    158.980132\n",
       "KNeighborsClassifier         0.075    0.002     37.500000\n",
       "LinearRegression             0.006    0.002      3.000000\n",
       "Ridge                        0.005    0.002      2.500000\n",
       "KNeighborsRegressor          0.069    0.001     69.000000"
      ]
     },
     "execution_count": 79,
     "metadata": {},
     "output_type": "execute_result"
    }
   ],
   "source": [
    "comparison_table_more_gpu"
   ]
  },
  {
   "cell_type": "code",
   "execution_count": 80,
   "metadata": {
    "ExecuteTime": {
     "end_time": "2020-11-01T19:46:12.694812Z",
     "start_time": "2020-11-01T19:46:12.687526Z"
    }
   },
   "outputs": [],
   "source": [
    "comparison_table = pickle.load(open('comparison_table.pkl', 'rb'))"
   ]
  },
  {
   "cell_type": "code",
   "execution_count": 81,
   "metadata": {
    "ExecuteTime": {
     "end_time": "2020-11-01T19:46:13.101402Z",
     "start_time": "2020-11-01T19:46:13.080475Z"
    }
   },
   "outputs": [
    {
     "data": {
      "text/html": [
       "<div>\n",
       "<style scoped>\n",
       "    .dataframe tbody tr th:only-of-type {\n",
       "        vertical-align: middle;\n",
       "    }\n",
       "\n",
       "    .dataframe tbody tr th {\n",
       "        vertical-align: top;\n",
       "    }\n",
       "\n",
       "    .dataframe thead th {\n",
       "        text-align: right;\n",
       "    }\n",
       "</style>\n",
       "<table border=\"1\" class=\"dataframe\">\n",
       "  <thead>\n",
       "    <tr style=\"text-align: right;\">\n",
       "      <th></th>\n",
       "      <th>sklearn(s)</th>\n",
       "      <th>cuml(s)</th>\n",
       "      <th>sklearn/cuml</th>\n",
       "    </tr>\n",
       "  </thead>\n",
       "  <tbody>\n",
       "    <tr>\n",
       "      <th>SVC</th>\n",
       "      <td>50.243</td>\n",
       "      <td>23.689</td>\n",
       "      <td>2.120942</td>\n",
       "    </tr>\n",
       "    <tr>\n",
       "      <th>RandomForestClassifier</th>\n",
       "      <td>29.824</td>\n",
       "      <td>0.443</td>\n",
       "      <td>67.322799</td>\n",
       "    </tr>\n",
       "    <tr>\n",
       "      <th>KNeighborsClassifier</th>\n",
       "      <td>0.078</td>\n",
       "      <td>0.004</td>\n",
       "      <td>19.500000</td>\n",
       "    </tr>\n",
       "    <tr>\n",
       "      <th>LinearRegression</th>\n",
       "      <td>0.005</td>\n",
       "      <td>0.006</td>\n",
       "      <td>0.833333</td>\n",
       "    </tr>\n",
       "    <tr>\n",
       "      <th>Ridge</th>\n",
       "      <td>0.021</td>\n",
       "      <td>0.006</td>\n",
       "      <td>3.500000</td>\n",
       "    </tr>\n",
       "    <tr>\n",
       "      <th>KNeighborsRegressor</th>\n",
       "      <td>0.076</td>\n",
       "      <td>0.002</td>\n",
       "      <td>38.000000</td>\n",
       "    </tr>\n",
       "  </tbody>\n",
       "</table>\n",
       "</div>"
      ],
      "text/plain": [
       "                        sklearn(s)  cuml(s)  sklearn/cuml\n",
       "SVC                         50.243   23.689      2.120942\n",
       "RandomForestClassifier      29.824    0.443     67.322799\n",
       "KNeighborsClassifier         0.078    0.004     19.500000\n",
       "LinearRegression             0.005    0.006      0.833333\n",
       "Ridge                        0.021    0.006      3.500000\n",
       "KNeighborsRegressor          0.076    0.002     38.000000"
      ]
     },
     "execution_count": 81,
     "metadata": {},
     "output_type": "execute_result"
    }
   ],
   "source": [
    "comparison_table"
   ]
  },
  {
   "cell_type": "code",
   "execution_count": 84,
   "metadata": {
    "ExecuteTime": {
     "end_time": "2020-11-01T20:23:54.238818Z",
     "start_time": "2020-11-01T20:23:53.163454Z"
    }
   },
   "outputs": [
    {
     "name": "stdout",
     "output_type": "stream",
     "text": [
      "Publishing report and associated data - please wait..\n",
      "Report successfully published at https://datapane.com/u/khuyentran1401/reports/cuml-sklearn-comparison/\n"
     ]
    }
   ],
   "source": [
    "dp.Report(\n",
    "f'''# Alienware M15 - GeForce 2060 and a graphics card's memory of 6.3 GB''',\n",
    "dp.Table(comparison_table),\n",
    "f'''# Dell Precision 7740 - Quadro RTX 5000 and a graphics card's memory of 17 GB''',\n",
    "dp.Table(comparison_table_more_gpu)).publish(name='cuml_sklearn_comparison')"
   ]
  },
  {
   "cell_type": "code",
   "execution_count": null,
   "metadata": {},
   "outputs": [],
   "source": []
  }
 ],
 "metadata": {
  "kernelspec": {
   "display_name": "Rapids-0.15",
   "language": "python",
   "name": "rapids-0.15"
  },
  "language_info": {
   "codemirror_mode": {
    "name": "ipython",
    "version": 3
   },
   "file_extension": ".py",
   "mimetype": "text/x-python",
   "name": "python",
   "nbconvert_exporter": "python",
   "pygments_lexer": "ipython3",
   "version": "3.7.8"
  },
  "toc": {
   "base_numbering": 1,
   "nav_menu": {},
   "number_sections": true,
   "sideBar": true,
   "skip_h1_title": false,
   "title_cell": "Table of Contents",
   "title_sidebar": "Contents",
   "toc_cell": false,
   "toc_position": {},
   "toc_section_display": true,
   "toc_window_display": false
  }
 },
 "nbformat": 4,
 "nbformat_minor": 4
}
