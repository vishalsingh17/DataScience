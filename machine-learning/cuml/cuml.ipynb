{
 "cells": [
  {
   "cell_type": "code",
   "execution_count": 106,
   "metadata": {
    "ExecuteTime": {
     "end_time": "2020-11-01T17:49:16.430223Z",
     "start_time": "2020-11-01T17:49:16.425024Z"
    }
   },
   "outputs": [
    {
     "name": "stdout",
     "output_type": "stream",
     "text": [
      "0.15.0\n"
     ]
    }
   ],
   "source": [
    "import numpy as np \n",
    "import pandas as pd \n",
    "\n",
    "from sklearn import datasets\n",
    "from sklearn.model_selection import train_test_split\n",
    "from sklearn.preprocessing import StandardScaler\n",
    "from sklearn.linear_model import LogisticRegression, LinearRegression, Ridge\n",
    "from sklearn.ensemble import RandomForestClassifier\n",
    "from sklearn.svm import SVC \n",
    "from sklearn.neighbors import KNeighborsClassifier, KNeighborsRegressor\n",
    "from sklearn.datasets import make_moons\n",
    "\n",
    "from cuml.linear_model import (LogisticRegression as LogisticRegression_GPU,\n",
    "                               LinearRegression as LinearRegression_gpu,\n",
    "                              Ridge as Ridge_gpu)\n",
    "from cuml.svm import SVC as SVC_gpu\n",
    "from cuml.ensemble import RandomForestClassifier as RandomForestClassifier_gpu\n",
    "from cuml.neighbors import (KNeighborsClassifier as KNeighborsClassifier_gpu,\n",
    "                            KNeighborsRegressor as KNeighborsRegressor_gpu)\n",
    "\n",
    "from time import time\n",
    "from timeit import Timer, timeit\n",
    "\n",
    "import cutecharts.charts as ctc \n",
    "\n",
    "import cuml\n",
    "print(cuml.__version__)"
   ]
  },
  {
   "cell_type": "markdown",
   "metadata": {},
   "source": [
    "# Classification"
   ]
  },
  {
   "cell_type": "code",
   "execution_count": 114,
   "metadata": {
    "ExecuteTime": {
     "end_time": "2020-11-01T17:53:38.991035Z",
     "start_time": "2020-11-01T17:53:38.985345Z"
    }
   },
   "outputs": [],
   "source": [
    "models = []\n",
    "results_sklearn = []\n",
    "results_cuml = []"
   ]
  },
  {
   "cell_type": "code",
   "execution_count": 2,
   "metadata": {
    "ExecuteTime": {
     "end_time": "2020-11-01T12:54:06.694677Z",
     "start_time": "2020-11-01T12:54:06.649430Z"
    }
   },
   "outputs": [],
   "source": [
    "X, y  = datasets.make_classification(n_samples=40000)"
   ]
  },
  {
   "cell_type": "code",
   "execution_count": 3,
   "metadata": {
    "ExecuteTime": {
     "end_time": "2020-11-01T12:54:09.314785Z",
     "start_time": "2020-11-01T12:54:09.311484Z"
    }
   },
   "outputs": [],
   "source": [
    "X = X.astype(np.float32)\n",
    "y = y.astype(np.float32)"
   ]
  },
  {
   "cell_type": "code",
   "execution_count": 4,
   "metadata": {
    "ExecuteTime": {
     "end_time": "2020-11-01T12:54:10.383174Z",
     "start_time": "2020-11-01T12:54:10.380840Z"
    }
   },
   "outputs": [],
   "source": [
    "def train_data(model, X=X, y=y):\n",
    "    clf = model\n",
    "    clf.fit(X, y)"
   ]
  },
  {
   "cell_type": "code",
   "execution_count": 60,
   "metadata": {
    "ExecuteTime": {
     "end_time": "2020-11-01T14:24:03.022981Z",
     "start_time": "2020-11-01T14:24:03.019719Z"
    }
   },
   "outputs": [],
   "source": [
    "def plot(sklearn_time, cuml_time):\n",
    "    import matplotlib.pyplot as plt \n",
    "\n",
    "    chart = ctc.Bar('Sklearn vs cuml')\n",
    "    chart.set_options(\n",
    "        labels=['sklearn', 'cuml'],\n",
    "        x_label='library',\n",
    "        y_label='time (s)',\n",
    "        )\n",
    "\n",
    "    chart.add_series('time', data=[round(sklearn_time.average,2), round(cuml_time.average,2)])\n",
    "    return chart\n",
    "#     chart.render_notebook()\n"
   ]
  },
  {
   "cell_type": "markdown",
   "metadata": {},
   "source": [
    "## SVC"
   ]
  },
  {
   "cell_type": "code",
   "execution_count": 85,
   "metadata": {
    "ExecuteTime": {
     "end_time": "2020-11-01T16:06:47.592929Z",
     "start_time": "2020-11-01T16:00:02.834446Z"
    }
   },
   "outputs": [
    {
     "name": "stdout",
     "output_type": "stream",
     "text": [
      "50.2 s ± 1.86 s per loop (mean ± std. dev. of 7 runs, 1 loop each)\n"
     ]
    }
   ],
   "source": [
    "clf_svc = SVC(kernel='poly', degree=2, gamma='auto', C=1)\n",
    "sklearn_time_svc = %timeit -o train_data(clf_svc)"
   ]
  },
  {
   "cell_type": "code",
   "execution_count": 84,
   "metadata": {
    "ExecuteTime": {
     "end_time": "2020-11-01T15:57:56.315080Z",
     "start_time": "2020-11-01T15:54:50.369402Z"
    }
   },
   "outputs": [
    {
     "name": "stdout",
     "output_type": "stream",
     "text": [
      "23.7 s ± 5.36 s per loop (mean ± std. dev. of 7 runs, 1 loop each)\n"
     ]
    }
   ],
   "source": [
    "clf_svc = SVC_gpu(kernel='poly', degree=2, gamma='auto', C=1)\n",
    "cuml_time_svc = %timeit -o train_data(clf_svc)"
   ]
  },
  {
   "cell_type": "code",
   "execution_count": 9,
   "metadata": {
    "ExecuteTime": {
     "end_time": "2020-11-01T13:06:08.444877Z",
     "start_time": "2020-11-01T13:06:08.439771Z"
    }
   },
   "outputs": [
    {
     "name": "stdout",
     "output_type": "stream",
     "text": [
      "Average time of sklearn's SVC 48.56009825014287 s\n",
      "Average time of cuml's SVC 19.611496431714304 s\n",
      "Ratio between sklearn and cuml is 2.476103668030909\n"
     ]
    }
   ],
   "source": [
    "print(f\"\"\"Average time of sklearn's {clf_svc.__class__.__name__}\"\"\", sklearn_time_svc.average, 's')\n",
    "print(f\"\"\"Average time of cuml's {clf_svc.__class__.__name__}\"\"\", cuml_time_svc.average, 's')\n",
    "\n",
    "print('Ratio between sklearn and cuml is', sklearn_time_svc.average/cuml_time_svc.average)"
   ]
  },
  {
   "cell_type": "code",
   "execution_count": 2,
   "metadata": {
    "ExecuteTime": {
     "end_time": "2020-11-01T15:59:37.119066Z",
     "start_time": "2020-11-01T15:59:37.114454Z"
    }
   },
   "outputs": [
    {
     "data": {
      "text/plain": [
       "6.917677628188249"
      ]
     },
     "execution_count": 2,
     "metadata": {},
     "output_type": "execute_result"
    }
   ],
   "source": [
    "19.611496431714304/2.8349827045714164"
   ]
  },
  {
   "cell_type": "code",
   "execution_count": 61,
   "metadata": {
    "ExecuteTime": {
     "end_time": "2020-11-01T14:24:22.446111Z",
     "start_time": "2020-11-01T14:24:22.435148Z"
    }
   },
   "outputs": [
    {
     "data": {
      "text/html": [
       "\n",
       "<script>\n",
       "    require.config({\n",
       "        paths: {\n",
       "            'chartXkcd':'https://cdn.jsdelivr.net/npm/chart.xkcd@1.1/dist/chart.xkcd.min'\n",
       "        }\n",
       "    });\n",
       "</script>\n",
       "\n",
       "<div id=\"524eff65e3da4723877ae919e1de0f58\" class=\"chart-container\" style=\"width: 800px\">\n",
       "        <svg id=\"chart_524eff65e3da4723877ae919e1de0f58\"></svg>\n",
       "    </div>\n",
       "    <script>\n",
       "        require(['chartXkcd'], function(chartXkcd) {\n",
       "            const svg_524eff65e3da4723877ae919e1de0f58 = document.querySelector('#chart_524eff65e3da4723877ae919e1de0f58')\n",
       "            const chart_524eff65e3da4723877ae919e1de0f58 = new chartXkcd.Bar(svg_524eff65e3da4723877ae919e1de0f58, {\"title\": \"Sklearn vs cuml\", \"data\": {\"datasets\": [{\"label\": \"time\", \"data\": [48.56, 19.61]}], \"labels\": [\"sklearn\", \"cuml\"]}, \"xLabel\": \"library\", \"yLabel\": \"time (s)\", \"options\": {\"yTickCount\": 3}});\n",
       "        })\n",
       "    </script>\n"
      ],
      "text/plain": [
       "<cutecharts.render.engine.HTML at 0x7f226647b400>"
      ]
     },
     "execution_count": 61,
     "metadata": {},
     "output_type": "execute_result"
    }
   ],
   "source": [
    "plot(sklearn_time_svc, cuml_time_svc).render_notebook()"
   ]
  },
  {
   "cell_type": "code",
   "execution_count": 115,
   "metadata": {
    "ExecuteTime": {
     "end_time": "2020-11-01T17:53:52.894845Z",
     "start_time": "2020-11-01T17:53:52.882650Z"
    }
   },
   "outputs": [],
   "source": [
    "models.append(clf_svc.__class__.__name__)\n",
    "results_sklearn.append(round(sklearn_time_svc.average,3))\n",
    "results_cuml.append(round(cuml_time_svc.average,3))"
   ]
  },
  {
   "cell_type": "markdown",
   "metadata": {},
   "source": [
    "## Random Forest Classifier"
   ]
  },
  {
   "cell_type": "code",
   "execution_count": 23,
   "metadata": {
    "ExecuteTime": {
     "end_time": "2020-11-01T13:16:59.525121Z",
     "start_time": "2020-11-01T13:12:59.801439Z"
    }
   },
   "outputs": [
    {
     "name": "stdout",
     "output_type": "stream",
     "text": [
      "29.8 s ± 394 ms per loop (mean ± std. dev. of 7 runs, 1 loop each)\n"
     ]
    }
   ],
   "source": [
    "clf_rf = RandomForestClassifier(max_features=1.0,\n",
    "#                    n_bins=8,\n",
    "                   n_estimators=40)\n",
    "sklearn_time_rf = %timeit -o train_data(clf_rf)"
   ]
  },
  {
   "cell_type": "code",
   "execution_count": 83,
   "metadata": {
    "ExecuteTime": {
     "end_time": "2020-11-01T15:54:25.653804Z",
     "start_time": "2020-11-01T15:54:22.074735Z"
    }
   },
   "outputs": [
    {
     "name": "stdout",
     "output_type": "stream",
     "text": [
      "443 ms ± 7.39 ms per loop (mean ± std. dev. of 7 runs, 1 loop each)\n"
     ]
    }
   ],
   "source": [
    "clf_rf = RandomForestClassifier_gpu(max_features=1.0,\n",
    "#                    n_bins=8,\n",
    "                   n_estimators=40)\n",
    "cuml_time_rf = %timeit -o train_data(clf_rf)"
   ]
  },
  {
   "cell_type": "code",
   "execution_count": 25,
   "metadata": {
    "ExecuteTime": {
     "end_time": "2020-11-01T13:17:03.490267Z",
     "start_time": "2020-11-01T13:17:03.487238Z"
    }
   },
   "outputs": [
    {
     "name": "stdout",
     "output_type": "stream",
     "text": [
      "Average time of sklearn's RandomForestClassifier 29.824075075857113 s\n",
      "Average time of cuml's RandomForestClassifier 0.49404465585715635 s\n",
      "Ratio between sklearn and cuml is 60.3671646323408\n"
     ]
    }
   ],
   "source": [
    "print(f\"\"\"Average time of sklearn's {clf_rf.__class__.__name__}\"\"\", sklearn_time_rf.average, 's')\n",
    "print(f\"\"\"Average time of cuml's {clf_rf.__class__.__name__}\"\"\", cuml_time_rf.average, 's')\n",
    "\n",
    "print('Ratio between sklearn and cuml is', sklearn_time_rf.average/cuml_time_rf.average)"
   ]
  },
  {
   "cell_type": "code",
   "execution_count": 62,
   "metadata": {
    "ExecuteTime": {
     "end_time": "2020-11-01T14:24:44.157488Z",
     "start_time": "2020-11-01T14:24:44.154152Z"
    }
   },
   "outputs": [
    {
     "data": {
      "text/html": [
       "\n",
       "<script>\n",
       "    require.config({\n",
       "        paths: {\n",
       "            'chartXkcd':'https://cdn.jsdelivr.net/npm/chart.xkcd@1.1/dist/chart.xkcd.min'\n",
       "        }\n",
       "    });\n",
       "</script>\n",
       "\n",
       "<div id=\"c36599d3c5c349b29bcaf2684b4b38ba\" class=\"chart-container\" style=\"width: 800px\">\n",
       "        <svg id=\"chart_c36599d3c5c349b29bcaf2684b4b38ba\"></svg>\n",
       "    </div>\n",
       "    <script>\n",
       "        require(['chartXkcd'], function(chartXkcd) {\n",
       "            const svg_c36599d3c5c349b29bcaf2684b4b38ba = document.querySelector('#chart_c36599d3c5c349b29bcaf2684b4b38ba')\n",
       "            const chart_c36599d3c5c349b29bcaf2684b4b38ba = new chartXkcd.Bar(svg_c36599d3c5c349b29bcaf2684b4b38ba, {\"title\": \"Sklearn vs cuml\", \"data\": {\"datasets\": [{\"label\": \"time\", \"data\": [29.82, 0.49]}], \"labels\": [\"sklearn\", \"cuml\"]}, \"xLabel\": \"library\", \"yLabel\": \"time (s)\", \"options\": {\"yTickCount\": 3}});\n",
       "        })\n",
       "    </script>\n"
      ],
      "text/plain": [
       "<cutecharts.render.engine.HTML at 0x7f2266261820>"
      ]
     },
     "execution_count": 62,
     "metadata": {},
     "output_type": "execute_result"
    }
   ],
   "source": [
    "plot(sklearn_time_rf, cuml_time_rf).render_notebook()"
   ]
  },
  {
   "cell_type": "code",
   "execution_count": null,
   "metadata": {},
   "outputs": [],
   "source": [
    "0.31644228657140566"
   ]
  },
  {
   "cell_type": "markdown",
   "metadata": {},
   "source": [
    "## Nearest Neighbors Classifier"
   ]
  },
  {
   "cell_type": "code",
   "execution_count": 13,
   "metadata": {
    "ExecuteTime": {
     "end_time": "2020-11-01T13:10:04.974558Z",
     "start_time": "2020-11-01T13:09:58.586688Z"
    }
   },
   "outputs": [
    {
     "name": "stdout",
     "output_type": "stream",
     "text": [
      "78.4 ms ± 1.14 ms per loop (mean ± std. dev. of 7 runs, 10 loops each)\n"
     ]
    }
   ],
   "source": [
    "clf_nn = KNeighborsClassifier(n_neighbors=10)\n",
    "sklearn_time_nn = %timeit -o train_data(clf_nn)"
   ]
  },
  {
   "cell_type": "code",
   "execution_count": 14,
   "metadata": {
    "ExecuteTime": {
     "end_time": "2020-11-01T13:10:08.433357Z",
     "start_time": "2020-11-01T13:10:04.976275Z"
    }
   },
   "outputs": [
    {
     "name": "stdout",
     "output_type": "stream",
     "text": [
      "4.25 ms ± 188 µs per loop (mean ± std. dev. of 7 runs, 100 loops each)\n"
     ]
    }
   ],
   "source": [
    "clf_nn = KNeighborsClassifier_gpu(n_neighbors=10)\n",
    "cuml_time_nn = %timeit -o train_data(clf_nn)"
   ]
  },
  {
   "cell_type": "code",
   "execution_count": 15,
   "metadata": {
    "ExecuteTime": {
     "end_time": "2020-11-01T13:10:08.438023Z",
     "start_time": "2020-11-01T13:10:08.434543Z"
    }
   },
   "outputs": [
    {
     "name": "stdout",
     "output_type": "stream",
     "text": [
      "Average time of sklearn's KNeighborsClassifier 0.07836367340000508 s\n",
      "Average time of cuml's KNeighborsClassifier 0.004251259535714585 s\n",
      "Ratio between sklearn and cuml is 18.43304854518441\n"
     ]
    }
   ],
   "source": [
    "print(f\"\"\"Average time of sklearn's {clf_nn.__class__.__name__}\"\"\", sklearn_time_nn.average, 's')\n",
    "print(f\"\"\"Average time of cuml's {clf_nn.__class__.__name__}\"\"\", cuml_time_nn.average, 's')\n",
    "\n",
    "print('Ratio between sklearn and cuml is', sklearn_time_nn.average/cuml_time_nn.average)"
   ]
  },
  {
   "cell_type": "code",
   "execution_count": 64,
   "metadata": {
    "ExecuteTime": {
     "end_time": "2020-11-01T14:25:10.968845Z",
     "start_time": "2020-11-01T14:25:10.958760Z"
    }
   },
   "outputs": [
    {
     "data": {
      "text/html": [
       "\n",
       "<script>\n",
       "    require.config({\n",
       "        paths: {\n",
       "            'chartXkcd':'https://cdn.jsdelivr.net/npm/chart.xkcd@1.1/dist/chart.xkcd.min'\n",
       "        }\n",
       "    });\n",
       "</script>\n",
       "\n",
       "<div id=\"7e37ef4bdafc402bbb69e46b731e7c71\" class=\"chart-container\" style=\"width: 800px\">\n",
       "        <svg id=\"chart_7e37ef4bdafc402bbb69e46b731e7c71\"></svg>\n",
       "    </div>\n",
       "    <script>\n",
       "        require(['chartXkcd'], function(chartXkcd) {\n",
       "            const svg_7e37ef4bdafc402bbb69e46b731e7c71 = document.querySelector('#chart_7e37ef4bdafc402bbb69e46b731e7c71')\n",
       "            const chart_7e37ef4bdafc402bbb69e46b731e7c71 = new chartXkcd.Bar(svg_7e37ef4bdafc402bbb69e46b731e7c71, {\"title\": \"Sklearn vs cuml\", \"data\": {\"datasets\": [{\"label\": \"time\", \"data\": [0.08, 0.0]}], \"labels\": [\"sklearn\", \"cuml\"]}, \"xLabel\": \"library\", \"yLabel\": \"time (s)\", \"options\": {\"yTickCount\": 3}});\n",
       "        })\n",
       "    </script>\n"
      ],
      "text/plain": [
       "<cutecharts.render.engine.HTML at 0x7f226620b0d0>"
      ]
     },
     "execution_count": 64,
     "metadata": {},
     "output_type": "execute_result"
    }
   ],
   "source": [
    "plot(sklearn_time_nn, cuml_time_nn).render_notebook()"
   ]
  },
  {
   "cell_type": "code",
   "execution_count": 117,
   "metadata": {
    "ExecuteTime": {
     "end_time": "2020-11-01T17:54:11.796761Z",
     "start_time": "2020-11-01T17:54:11.794124Z"
    }
   },
   "outputs": [],
   "source": [
    "models.append(clf_nn.__class__.__name__)\n",
    "results_sklearn.append(round(sklearn_time_nn.average,3))\n",
    "results_cuml.append(round(cuml_time_nn.average,3))"
   ]
  },
  {
   "cell_type": "markdown",
   "metadata": {},
   "source": [
    "# Make Regression"
   ]
  },
  {
   "cell_type": "code",
   "execution_count": 16,
   "metadata": {
    "ExecuteTime": {
     "end_time": "2020-11-01T13:10:08.603874Z",
     "start_time": "2020-11-01T13:10:08.439046Z"
    }
   },
   "outputs": [],
   "source": [
    "X, y  = datasets.make_regression(n_samples=40000)"
   ]
  },
  {
   "cell_type": "markdown",
   "metadata": {},
   "source": [
    "## Linear Regression"
   ]
  },
  {
   "cell_type": "code",
   "execution_count": 17,
   "metadata": {
    "ExecuteTime": {
     "end_time": "2020-11-01T13:10:12.647081Z",
     "start_time": "2020-11-01T13:10:08.605626Z"
    }
   },
   "outputs": [
    {
     "name": "stdout",
     "output_type": "stream",
     "text": [
      "4.81 ms ± 10.6 µs per loop (mean ± std. dev. of 7 runs, 100 loops each)\n"
     ]
    }
   ],
   "source": [
    "lr = LinearRegression(fit_intercept = True, normalize = False,)\n",
    "sklearn_time_lr = %timeit -o train_data(lr)"
   ]
  },
  {
   "cell_type": "code",
   "execution_count": 18,
   "metadata": {
    "ExecuteTime": {
     "end_time": "2020-11-01T13:10:13.215955Z",
     "start_time": "2020-11-01T13:10:12.648265Z"
    }
   },
   "outputs": [
    {
     "name": "stdout",
     "output_type": "stream",
     "text": [
      "5.92 ms ± 1.03 ms per loop (mean ± std. dev. of 7 runs, 1 loop each)\n"
     ]
    }
   ],
   "source": [
    "lr = LinearRegression_gpu(fit_intercept = True, normalize = False,)\n",
    "cuml_time_lr = %timeit -o train_data(lr)"
   ]
  },
  {
   "cell_type": "code",
   "execution_count": 19,
   "metadata": {
    "ExecuteTime": {
     "end_time": "2020-11-01T13:10:13.221055Z",
     "start_time": "2020-11-01T13:10:13.217359Z"
    }
   },
   "outputs": [
    {
     "name": "stdout",
     "output_type": "stream",
     "text": [
      "Average time of sklearn's LinearRegression 0.004809828324285457 s\n",
      "Average time of cuml's LinearRegression 0.0059197622856897525 s\n",
      "Ratio between sklearn and cuml is 0.8125036263555017\n"
     ]
    }
   ],
   "source": [
    "print(f\"\"\"Average time of sklearn's {lr.__class__.__name__}\"\"\", sklearn_time_lr.average, 's')\n",
    "print(f\"\"\"Average time of cuml's {lr.__class__.__name__}\"\"\", cuml_time_lr.average, 's')\n",
    "\n",
    "print('Ratio between sklearn and cuml is', sklearn_time_lr.average/cuml_time_lr.average)"
   ]
  },
  {
   "cell_type": "code",
   "execution_count": 70,
   "metadata": {
    "ExecuteTime": {
     "end_time": "2020-11-01T14:27:45.599238Z",
     "start_time": "2020-11-01T14:27:45.588491Z"
    }
   },
   "outputs": [
    {
     "data": {
      "text/html": [
       "\n",
       "<script>\n",
       "    require.config({\n",
       "        paths: {\n",
       "            'chartXkcd':'https://cdn.jsdelivr.net/npm/chart.xkcd@1.1/dist/chart.xkcd.min'\n",
       "        }\n",
       "    });\n",
       "</script>\n",
       "\n",
       "<div id=\"544eb983dbaf4c4a967448cc9b1084b4\" class=\"chart-container\" style=\"width: 800px\">\n",
       "        <svg id=\"chart_544eb983dbaf4c4a967448cc9b1084b4\"></svg>\n",
       "    </div>\n",
       "    <script>\n",
       "        require(['chartXkcd'], function(chartXkcd) {\n",
       "            const svg_544eb983dbaf4c4a967448cc9b1084b4 = document.querySelector('#chart_544eb983dbaf4c4a967448cc9b1084b4')\n",
       "            const chart_544eb983dbaf4c4a967448cc9b1084b4 = new chartXkcd.Bar(svg_544eb983dbaf4c4a967448cc9b1084b4, {\"title\": \"Sklearn vs cuml\", \"data\": {\"datasets\": [{\"label\": \"time\", \"data\": [0.0, 0.01]}], \"labels\": [\"sklearn\", \"cuml\"]}, \"xLabel\": \"library\", \"yLabel\": \"time (s)\", \"options\": {\"yTickCount\": 3}});\n",
       "        })\n",
       "    </script>\n"
      ],
      "text/plain": [
       "<cutecharts.render.engine.HTML at 0x7f22664fdac0>"
      ]
     },
     "execution_count": 70,
     "metadata": {},
     "output_type": "execute_result"
    }
   ],
   "source": [
    "plot(sklearn_time_lr, cuml_time_lr).render_notebook()"
   ]
  },
  {
   "cell_type": "code",
   "execution_count": 1,
   "metadata": {
    "ExecuteTime": {
     "end_time": "2020-11-01T15:58:44.038869Z",
     "start_time": "2020-11-01T15:58:44.024868Z"
    }
   },
   "outputs": [
    {
     "data": {
      "text/plain": [
       "2.4085751507278017"
      ]
     },
     "execution_count": 1,
     "metadata": {},
     "output_type": "execute_result"
    }
   ],
   "source": [
    "0.0059197622856897525/0.0024577860001175266"
   ]
  },
  {
   "cell_type": "markdown",
   "metadata": {},
   "source": [
    "## Ridge Regresion"
   ]
  },
  {
   "cell_type": "code",
   "execution_count": 20,
   "metadata": {
    "ExecuteTime": {
     "end_time": "2020-11-01T13:10:29.830663Z",
     "start_time": "2020-11-01T13:10:13.222118Z"
    }
   },
   "outputs": [
    {
     "name": "stdout",
     "output_type": "stream",
     "text": [
      "21.1 ms ± 3.71 ms per loop (mean ± std. dev. of 7 runs, 100 loops each)\n"
     ]
    }
   ],
   "source": [
    "alpha = np.array([1e-5])\n",
    "\n",
    "ridge = Ridge(alpha = alpha, fit_intercept = True, normalize = False)\n",
    "sklearn_time_ridge = %timeit -o train_data(ridge)"
   ]
  },
  {
   "cell_type": "code",
   "execution_count": 21,
   "metadata": {
    "ExecuteTime": {
     "end_time": "2020-11-01T13:10:34.872423Z",
     "start_time": "2020-11-01T13:10:29.832342Z"
    }
   },
   "outputs": [
    {
     "name": "stdout",
     "output_type": "stream",
     "text": [
      "6.1 ms ± 125 µs per loop (mean ± std. dev. of 7 runs, 100 loops each)\n"
     ]
    }
   ],
   "source": [
    "ridge = Ridge_gpu(alpha = alpha, fit_intercept = True, normalize = False)\n",
    "cuml_time_ridge = %timeit -o train_data(ridge)"
   ]
  },
  {
   "cell_type": "code",
   "execution_count": 22,
   "metadata": {
    "ExecuteTime": {
     "end_time": "2020-11-01T13:10:34.876734Z",
     "start_time": "2020-11-01T13:10:34.873626Z"
    }
   },
   "outputs": [
    {
     "name": "stdout",
     "output_type": "stream",
     "text": [
      "Average time of sklearn's Ridge 0.021097556481428716 s\n",
      "Average time of cuml's Ridge 0.00610267809714287 s\n",
      "Ratio between sklearn and cuml is 3.457098038860364\n"
     ]
    }
   ],
   "source": [
    "print(f\"\"\"Average time of sklearn's {ridge.__class__.__name__}\"\"\", sklearn_time_ridge.average, 's')\n",
    "print(f\"\"\"Average time of cuml's {ridge.__class__.__name__}\"\"\", cuml_time_ridge.average, 's')\n",
    "\n",
    "print('Ratio between sklearn and cuml is', sklearn_time_ridge.average/cuml_time_ridge.average)"
   ]
  },
  {
   "cell_type": "code",
   "execution_count": 71,
   "metadata": {
    "ExecuteTime": {
     "end_time": "2020-11-01T14:28:06.428743Z",
     "start_time": "2020-11-01T14:28:06.422910Z"
    }
   },
   "outputs": [
    {
     "data": {
      "text/html": [
       "\n",
       "<script>\n",
       "    require.config({\n",
       "        paths: {\n",
       "            'chartXkcd':'https://cdn.jsdelivr.net/npm/chart.xkcd@1.1/dist/chart.xkcd.min'\n",
       "        }\n",
       "    });\n",
       "</script>\n",
       "\n",
       "<div id=\"320cb5df8a9b401bbc31b824b214d4be\" class=\"chart-container\" style=\"width: 800px\">\n",
       "        <svg id=\"chart_320cb5df8a9b401bbc31b824b214d4be\"></svg>\n",
       "    </div>\n",
       "    <script>\n",
       "        require(['chartXkcd'], function(chartXkcd) {\n",
       "            const svg_320cb5df8a9b401bbc31b824b214d4be = document.querySelector('#chart_320cb5df8a9b401bbc31b824b214d4be')\n",
       "            const chart_320cb5df8a9b401bbc31b824b214d4be = new chartXkcd.Bar(svg_320cb5df8a9b401bbc31b824b214d4be, {\"title\": \"Sklearn vs cuml\", \"data\": {\"datasets\": [{\"label\": \"time\", \"data\": [0.02, 0.01]}], \"labels\": [\"sklearn\", \"cuml\"]}, \"xLabel\": \"library\", \"yLabel\": \"time (s)\", \"options\": {\"yTickCount\": 3}});\n",
       "        })\n",
       "    </script>\n"
      ],
      "text/plain": [
       "<cutecharts.render.engine.HTML at 0x7f226614fbb0>"
      ]
     },
     "execution_count": 71,
     "metadata": {},
     "output_type": "execute_result"
    }
   ],
   "source": [
    "plot(sklearn_time_ridge, cuml_time_ridge).render_notebook()"
   ]
  },
  {
   "cell_type": "code",
   "execution_count": null,
   "metadata": {},
   "outputs": [],
   "source": [
    "0.00610267809714287/0.0033603680528572766 "
   ]
  },
  {
   "cell_type": "markdown",
   "metadata": {},
   "source": [
    "## Nearest Neighbors Regression\n"
   ]
  },
  {
   "cell_type": "code",
   "execution_count": 79,
   "metadata": {
    "ExecuteTime": {
     "end_time": "2020-11-01T14:58:17.312783Z",
     "start_time": "2020-11-01T14:58:11.131895Z"
    }
   },
   "outputs": [
    {
     "name": "stdout",
     "output_type": "stream",
     "text": [
      "75.8 ms ± 1.16 ms per loop (mean ± std. dev. of 7 runs, 10 loops each)\n"
     ]
    }
   ],
   "source": [
    "X, y = datasets.make_blobs(n_samples=4000, centers=5,\n",
    "                  n_features=10)\n",
    "\n",
    "knn = KNeighborsRegressor(n_neighbors=10)\n",
    "\n",
    "sklearn_time_knn = %timeit -o train_data(knn)"
   ]
  },
  {
   "cell_type": "code",
   "execution_count": 80,
   "metadata": {
    "ExecuteTime": {
     "end_time": "2020-11-01T14:58:18.785671Z",
     "start_time": "2020-11-01T14:58:17.314057Z"
    }
   },
   "outputs": [
    {
     "name": "stdout",
     "output_type": "stream",
     "text": [
      "1.66 ms ± 147 µs per loop (mean ± std. dev. of 7 runs, 100 loops each)\n"
     ]
    }
   ],
   "source": [
    "knn = KNeighborsRegressor_gpu(n_neighbors=10)\n",
    "\n",
    "cuml_time_knn = %timeit -o train_data(knn)"
   ]
  },
  {
   "cell_type": "code",
   "execution_count": 81,
   "metadata": {
    "ExecuteTime": {
     "end_time": "2020-11-01T14:58:18.790414Z",
     "start_time": "2020-11-01T14:58:18.786959Z"
    }
   },
   "outputs": [
    {
     "data": {
      "text/html": [
       "\n",
       "<script>\n",
       "    require.config({\n",
       "        paths: {\n",
       "            'chartXkcd':'https://cdn.jsdelivr.net/npm/chart.xkcd@1.1/dist/chart.xkcd.min'\n",
       "        }\n",
       "    });\n",
       "</script>\n",
       "\n",
       "<div id=\"083d5bfbda364fc4a8941625c81f1a7b\" class=\"chart-container\" style=\"width: 800px\">\n",
       "        <svg id=\"chart_083d5bfbda364fc4a8941625c81f1a7b\"></svg>\n",
       "    </div>\n",
       "    <script>\n",
       "        require(['chartXkcd'], function(chartXkcd) {\n",
       "            const svg_083d5bfbda364fc4a8941625c81f1a7b = document.querySelector('#chart_083d5bfbda364fc4a8941625c81f1a7b')\n",
       "            const chart_083d5bfbda364fc4a8941625c81f1a7b = new chartXkcd.Bar(svg_083d5bfbda364fc4a8941625c81f1a7b, {\"title\": \"Sklearn vs cuml\", \"data\": {\"datasets\": [{\"label\": \"time\", \"data\": [0.08, 0.0]}], \"labels\": [\"sklearn\", \"cuml\"]}, \"xLabel\": \"library\", \"yLabel\": \"time (s)\", \"options\": {\"yTickCount\": 3}});\n",
       "        })\n",
       "    </script>\n"
      ],
      "text/plain": [
       "<cutecharts.render.engine.HTML at 0x7f22654f8fa0>"
      ]
     },
     "execution_count": 81,
     "metadata": {},
     "output_type": "execute_result"
    }
   ],
   "source": [
    "plot(sklearn_time_knn, cuml_time_knn).render_notebook()"
   ]
  },
  {
   "cell_type": "code",
   "execution_count": 120,
   "metadata": {
    "ExecuteTime": {
     "end_time": "2020-11-01T17:54:29.975427Z",
     "start_time": "2020-11-01T17:54:29.972990Z"
    }
   },
   "outputs": [],
   "source": [
    "models.append(knn.__class__.__name__)\n",
    "results_sklearn.append(round(sklearn_time_knn.average,3))\n",
    "results_cuml.append(round(cuml_time_knn.average,3))"
   ]
  },
  {
   "cell_type": "markdown",
   "metadata": {},
   "source": [
    "# Comparison table"
   ]
  },
  {
   "cell_type": "code",
   "execution_count": 121,
   "metadata": {
    "ExecuteTime": {
     "end_time": "2020-11-01T17:54:31.901385Z",
     "start_time": "2020-11-01T17:54:31.897330Z"
    }
   },
   "outputs": [],
   "source": [
    "comparison_table = pd.DataFrame({'sklearn(s)': results_sklearn,\n",
    "             'cuml(s)': results_cuml},\n",
    "            index=models)"
   ]
  },
  {
   "cell_type": "code",
   "execution_count": 122,
   "metadata": {
    "ExecuteTime": {
     "end_time": "2020-11-01T17:54:32.714521Z",
     "start_time": "2020-11-01T17:54:32.711219Z"
    }
   },
   "outputs": [],
   "source": [
    "comparison_table['sklearn/cuml'] = comparison_table.apply(lambda row: row['sklearn(s)']/ row['cuml(s)'], axis=1)"
   ]
  },
  {
   "cell_type": "code",
   "execution_count": 123,
   "metadata": {
    "ExecuteTime": {
     "end_time": "2020-11-01T17:54:33.319264Z",
     "start_time": "2020-11-01T17:54:33.313806Z"
    }
   },
   "outputs": [
    {
     "data": {
      "text/html": [
       "<div>\n",
       "<style scoped>\n",
       "    .dataframe tbody tr th:only-of-type {\n",
       "        vertical-align: middle;\n",
       "    }\n",
       "\n",
       "    .dataframe tbody tr th {\n",
       "        vertical-align: top;\n",
       "    }\n",
       "\n",
       "    .dataframe thead th {\n",
       "        text-align: right;\n",
       "    }\n",
       "</style>\n",
       "<table border=\"1\" class=\"dataframe\">\n",
       "  <thead>\n",
       "    <tr style=\"text-align: right;\">\n",
       "      <th></th>\n",
       "      <th>sklearn(s)</th>\n",
       "      <th>cuml(s)</th>\n",
       "      <th>sklearn/cuml</th>\n",
       "    </tr>\n",
       "  </thead>\n",
       "  <tbody>\n",
       "    <tr>\n",
       "      <th>SVC</th>\n",
       "      <td>50.243</td>\n",
       "      <td>23.689</td>\n",
       "      <td>2.120942</td>\n",
       "    </tr>\n",
       "    <tr>\n",
       "      <th>RandomForestClassifier</th>\n",
       "      <td>29.824</td>\n",
       "      <td>0.443</td>\n",
       "      <td>67.322799</td>\n",
       "    </tr>\n",
       "    <tr>\n",
       "      <th>KNeighborsClassifier</th>\n",
       "      <td>0.078</td>\n",
       "      <td>0.004</td>\n",
       "      <td>19.500000</td>\n",
       "    </tr>\n",
       "    <tr>\n",
       "      <th>LinearRegression</th>\n",
       "      <td>0.005</td>\n",
       "      <td>0.006</td>\n",
       "      <td>0.833333</td>\n",
       "    </tr>\n",
       "    <tr>\n",
       "      <th>Ridge</th>\n",
       "      <td>0.021</td>\n",
       "      <td>0.006</td>\n",
       "      <td>3.500000</td>\n",
       "    </tr>\n",
       "    <tr>\n",
       "      <th>KNeighborsRegressor</th>\n",
       "      <td>0.076</td>\n",
       "      <td>0.002</td>\n",
       "      <td>38.000000</td>\n",
       "    </tr>\n",
       "  </tbody>\n",
       "</table>\n",
       "</div>"
      ],
      "text/plain": [
       "                        sklearn(s)  cuml(s)  sklearn/cuml\n",
       "SVC                         50.243   23.689      2.120942\n",
       "RandomForestClassifier      29.824    0.443     67.322799\n",
       "KNeighborsClassifier         0.078    0.004     19.500000\n",
       "LinearRegression             0.005    0.006      0.833333\n",
       "Ridge                        0.021    0.006      3.500000\n",
       "KNeighborsRegressor          0.076    0.002     38.000000"
      ]
     },
     "execution_count": 123,
     "metadata": {},
     "output_type": "execute_result"
    }
   ],
   "source": [
    "comparison_table"
   ]
  },
  {
   "cell_type": "code",
   "execution_count": 124,
   "metadata": {
    "ExecuteTime": {
     "end_time": "2020-11-01T17:55:13.156774Z",
     "start_time": "2020-11-01T17:55:13.153602Z"
    }
   },
   "outputs": [],
   "source": [
    "comparison_table.to_pickle('comparison_table.pkl')"
   ]
  },
  {
   "cell_type": "code",
   "execution_count": null,
   "metadata": {},
   "outputs": [],
   "source": []
  }
 ],
 "metadata": {
  "kernelspec": {
   "display_name": "Rapids-0.15",
   "language": "python",
   "name": "rapids-0.15"
  },
  "language_info": {
   "codemirror_mode": {
    "name": "ipython",
    "version": 3
   },
   "file_extension": ".py",
   "mimetype": "text/x-python",
   "name": "python",
   "nbconvert_exporter": "python",
   "pygments_lexer": "ipython3",
   "version": "3.7.8"
  },
  "toc": {
   "base_numbering": 1,
   "nav_menu": {},
   "number_sections": true,
   "sideBar": true,
   "skip_h1_title": false,
   "title_cell": "Table of Contents",
   "title_sidebar": "Contents",
   "toc_cell": false,
   "toc_position": {},
   "toc_section_display": true,
   "toc_window_display": false
  }
 },
 "nbformat": 4,
 "nbformat_minor": 4
}
